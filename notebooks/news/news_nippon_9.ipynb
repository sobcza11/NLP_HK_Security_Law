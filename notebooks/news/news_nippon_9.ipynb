{
 "cells": [
  {
   "cell_type": "markdown",
   "metadata": {},
   "source": [
    "# Scraping How Should Japan Respond from Nippon"
   ]
  },
  {
   "cell_type": "markdown",
   "metadata": {},
   "source": [
    "## 2.1 Contents<a id='2.1_Contents'></a>\n",
    "* [2.1 Importing Relevant Tools](#2.1_Importing)\n",
    "* [2.2 Defining the Request](#2.2_URL)\n",
    "* [2.3 Grab | Date](#2.4_scrape_date)\n",
    "* [2.4 Grab | Header](#2.4_scrape_header)\n",
    "* [2.5 Grab | Content](#2.4_scrape_content)\n",
    "* [2.6 Clean | Send to DataFrame](#2.5_review)\n",
    "* [2.7 Save](#2.6_save)\n"
   ]
  },
  {
   "cell_type": "markdown",
   "metadata": {},
   "source": [
    "**Importing Relevant Tools**<a id='2.1_Importing'></a>"
   ]
  },
  {
   "cell_type": "code",
   "execution_count": 10,
   "metadata": {},
   "outputs": [],
   "source": [
    "import json\n",
    "import pandas as pd\n",
    "from bs4 import BeautifulSoup as soup\n",
    "import requests\n",
    "import csv\n",
    "import re\n",
    "import pickle\n",
    "\n",
    "%reload_ext watermark"
   ]
  },
  {
   "cell_type": "code",
   "execution_count": 11,
   "metadata": {},
   "outputs": [],
   "source": [
    "#the below needs to be reviewed for all websites; notably the time format\n",
    "\n",
    "from datetime import date\n",
    "from datetime import datetime\n",
    "today = date.today()\n",
    "d = today.strftime(\"%m-%d-%y\")"
   ]
  },
  {
   "cell_type": "markdown",
   "metadata": {},
   "source": [
    "For reference."
   ]
  },
  {
   "cell_type": "code",
   "execution_count": 12,
   "metadata": {},
   "outputs": [
    {
     "name": "stdout",
     "output_type": "stream",
     "text": [
      "Python implementation: CPython\n",
      "Python version       : 3.8.5\n",
      "IPython version      : 7.19.0\n",
      "\n",
      "pandas: 1.1.3\n",
      "\n"
     ]
    }
   ],
   "source": [
    "%watermark -d -t -v -p pandas"
   ]
  },
  {
   "cell_type": "markdown",
   "metadata": {},
   "source": [
    "**Defining the Request**<a id='2.2_URL'></a>"
   ]
  },
  {
   "cell_type": "code",
   "execution_count": 13,
   "metadata": {},
   "outputs": [
    {
     "data": {
      "text/plain": [
       "'https://www.nippon.com/en/japan-topics/g00896/'"
      ]
     },
     "execution_count": 13,
     "metadata": {},
     "output_type": "execute_result"
    }
   ],
   "source": [
    "url = 'https://www.nippon.com/en/japan-topics/g00896/'\n",
    "content = requests.get(url).content\n",
    "url"
   ]
  },
  {
   "cell_type": "code",
   "execution_count": 14,
   "metadata": {},
   "outputs": [],
   "source": [
    "soup = soup(content,'html.parser')\n",
    "# bsobj"
   ]
  },
  {
   "cell_type": "markdown",
   "metadata": {},
   "source": [
    "**Grab | Date**<a id='2.4_scrape_date'></a>"
   ]
  },
  {
   "cell_type": "code",
   "execution_count": 16,
   "metadata": {},
   "outputs": [],
   "source": [
    "for date in soup.findAll('div',{'class','c-date'}):\n",
    "    print(date.text.strip())"
   ]
  },
  {
   "cell_type": "markdown",
   "metadata": {},
   "source": [
    "The date is in there but needs to be cleaned a lot."
   ]
  },
  {
   "cell_type": "markdown",
   "metadata": {},
   "source": [
    "**Grab | Header**<a id='2.4_scrape_header'></a>"
   ]
  },
  {
   "cell_type": "code",
   "execution_count": 18,
   "metadata": {},
   "outputs": [
    {
     "name": "stdout",
     "output_type": "stream",
     "text": [
      "Hong Kong’s Security Law: How Should Japan Respond?\n"
     ]
    }
   ],
   "source": [
    "for title in soup.findAll('h1'):\n",
    "    print(title.text.strip())"
   ]
  },
  {
   "cell_type": "code",
   "execution_count": 19,
   "metadata": {},
   "outputs": [
    {
     "data": {
      "text/plain": [
       "<h1 class=\"c-h1\">Hong Kong’s Security Law: How Should Japan Respond?</h1>"
      ]
     },
     "execution_count": 19,
     "metadata": {},
     "output_type": "execute_result"
    }
   ],
   "source": [
    "title"
   ]
  },
  {
   "cell_type": "code",
   "execution_count": 20,
   "metadata": {},
   "outputs": [],
   "source": [
    "TAG_RE = re.compile(r'<[^>]+>')"
   ]
  },
  {
   "cell_type": "code",
   "execution_count": 21,
   "metadata": {},
   "outputs": [],
   "source": [
    "def remove_tags(text):\n",
    "    return TAG_RE.sub('', text)"
   ]
  },
  {
   "cell_type": "code",
   "execution_count": 22,
   "metadata": {},
   "outputs": [
    {
     "data": {
      "text/plain": [
       "'Hong Kong’s Security Law: How Should Japan Respond?'"
      ]
     },
     "execution_count": 22,
     "metadata": {},
     "output_type": "execute_result"
    }
   ],
   "source": [
    "remove_tags(str(title))"
   ]
  },
  {
   "cell_type": "markdown",
   "metadata": {},
   "source": [
    "Confirmed."
   ]
  },
  {
   "cell_type": "markdown",
   "metadata": {},
   "source": [
    "**Grab | Content**<a id='2.4_scrape_content'></a>"
   ]
  },
  {
   "cell_type": "code",
   "execution_count": 23,
   "metadata": {},
   "outputs": [
    {
     "name": "stdout",
     "output_type": "stream",
     "text": [
      "Growing Private and Governmental Support for Hong Kong Democracy\n",
      "Members of the Standing Committee of the National People’s Congress of China in Beijing held a vote on June 30 on the Law of the People’s Republic of China on Safeguarding National Security in the Hong Kong Special Administrative Region, and it passed unanimously. This National Security Law was immediately added to Annex III of Hong Kong’s Basic Law. At a press conference the next day, Japan’s Chief Cabinet Secretary Suga Yoshihide called the law “regrettable.”\n",
      "However, others in Japan have offered more direct support on the issue. As Hong Kong marked one year from the million-strong protest against an amended extradition bill, which would have allowed suspects in the territory to be sent to China for trial, on June 9, various nongovernmental organizations hosted an online symposium from Tokyo’s National Diet Building’s Chamber of the House of Representatives, titled “Global Solidarity: From Hong Kong to the International Order.”\n",
      "The symposium had a remote link to Hong Kong allowing democracy activist Agnes Chow Ting and prodemocracy District Councilor Sam Yip to speak, and the venue had displays of gasmasks used by demonstrators, empty tear-gas canisters, and protest signs. There was also a gallery of images of the demonstrations taken by a Japanese photographer, and during the lectures, participants discussed the difficulties faced by democracy supporters in Hong Kong.\n",
      "Protests against the National Security Law continue there, and Hong Kong citizens working and staying in Japan also came to carry signs and chant in support at the venue. Cheung, a citizen of Hong Kong who works in Tokyo, said, “It’s incredibly ironic that the Chinese government used the phrase ‘collusion with foreign forces’ in the law, because lots of government officials in Hong Kong hold British passports, or are dual citizens of Australia, New Zealand, or Canada. At the same time, if you look at all the young protestors, everyone born after the reversion of Hong Kong to China in 1997 only has Hong Kong citizenship. So, all of those government officials are really the foreign colluders.”\n",
      "David, another citizen of the territory who attends school in Tokyo, says, “Hong Kong has been influenced by Western values since it opened up in the nineteenth century. If they want to talk about collusion with foreign powers, it’s been going on for 150 years, hasn’t it?” he says, with a grimace. “Hong Kong has been a place where Western and Chinese culture have mixed for 150 years. It has preserved its traditional Chinese culture, but it must also continue to value Western-style freedom, democracy, and human rights.” The protestors are simply asking that the Chinese government keep its original promise to Hong Kong.\n",
      "A scene from the “Global Solidarity” symposium held in Tokyo. Displays at the venue included gasmasks used by demonstrators, and empty tear-gas canisters.\n",
      "Japan to Lure Hong Kong Financial Workers\n",
      "The passage of the new National Security Law threatens the future of the “one country, two systems” principle, and Taiwan, former colonial administrator Britain, and a number of Western countries have begun contemplating measures to aid those in Hong Kong who still hunger for freedom and democracy. The ideas are varied, and include extending Hong Kongers’ periods of stay for study or work, or supporting highly skilled immigrants. On June 11, at a meeting of the Budget Committee of the House of Councilors, Prime Minister Abe Shinzō said that he wants to promote the inflow of talented people from Hong Kong, particularly those in finance. Many Hong Kong citizens may come to Japan to take advantage of this chance if the district faces a future crisis.\n",
      "“I’m grateful to the Japanese government for offering more opportunities to Hong Kong’s people, but at the same time what we really need is attention and support from the international community. No one wants to have to choose exile. We want Hong Kong to be free from that necessity,” says Cheung, who goes on to describe the plight of many young people in the territory. “Honestly, most of the Hong Kongers who have skill in finance have already emigrated to other countries. The people who need help are those in their teens and twenties, who were born after 1997. They don’t have any savings, or hope for the future. I want the international community to focus on that generation.”\n",
      "At the June 9 symposium, Japanese attendees included members of the lower house of the Diet. Some of them proposed more active support for democracy in Hong Kong from the Japanese government. One petitioner expressed pessimism, though. “If the Japanese government were already being more active, there would be no need for us to be talking like this now.”\n",
      "Ever since the 2019 demonstrations, Japan has been far more reserved in its response than Western nations. On October 23, 2019, Prime Minister Abe held a joint press conference with China’s Vice President Wang Qishan, expressing deep concern over the situation in the territory while stressing the importance of allowing a free and open Hong Kong to flourish under the “two systems” principle.\n",
      "However, the true focus of that meeting for both sides was on high-profile incidents involving the detention of Japanese scholars in China and the intrusion of Chinese ships into Japan’s waters near the Senkaku Islands. Vice President Wang’s visit also involved his attendance at the accession ceremonies for the new emperor and empress as the special envoy of President Xi Jinping. So neither side was interested in in-depth discussion.\n",
      "Hong Kong democracy activist Agnes Chow joined the “Global Solidarity” symposium by remote link.\n",
      "China’s Hard-Line Push Exceeds International Expectations\n",
      "Hong Kong began attracting more international attention from the end of May 2020, as the debate on the National Security Law grew in intensity. On June 19, the Standing Committee of the National People’s Congress amended its draft of the law. The draft originally included a provision to prevent, restrain, and punish “interference of foreign nations and foreign collusion in matters of Hong Kong,” but this was changed to “collusion with foreign countries or foreign forces,” reawakening public controversy. Many Hong Kong officials, including Secretary for Justice Teresa Cheng, say they were not informed of Beijing’s revisions in advance.\n",
      "The impact of the COVID-19 pandemic caused the Chinese People’s Political Consultative Conference scheduled for April 29 to be rescheduled for May 22. However, the unwavering insistence of China’s authorities on pushing through the Hong Kong National Security Law, and the speed of their revisions, exceeded the imagination of all observers. At the same time, there has been no sign of easing in any of the various conflicts that have continued since the first demonstrations against the 2019 extradition bill. Considering how much progress China’s administration has made toward bringing about the end of the “two systems” structure in a single month, it’s easy to imagine how quickly that end will arrive when Beijing decides its time has come.\n",
      "Hong Kong’s government is clearly already suffering from a loss of independence, and Chinese interference has stripped it of the ability to interpret laws on its own. Hong Kong’s Sing Tao Daily newspaper, considered a pro-China voice, reports that Hong Kong’s Chief Executive Carrie Lam went to Beijing while the National Security Law was being debated to receive a copy of the draft directly from the central authority, but was rebuffed at the door. It appears that Chinese government is taking advantage of the chaos caused by the COVID-19 pandemic, when so many countries have closed their borders, to advance its political agenda by forcing adoption of the National Security Law sight unseen.\n",
      "The Tokyo symposium featured a display of photos of the demonstrations taken by a Japanese photographer.\n",
      "Can Japan Pass This Test?\n",
      "As the people of Hong Kong continue their protests, and every nation in the world is dealing with the COVID-19 pandemic, the most important point in this fight could be the G7 summit, where the leaders of seven of the world’s most developed nations will meet to discuss the shape of the post-pandemic world. (Originally slated for June, the summit has been postponed until September or later due to the COVID-19 crisis.)\n",
      "On June 18, the G7 foreign ministers issued a joint statement expressing “grave concern” over the issues in Hong Kong. As Japan’s posture becomes even more prominent, Prime Minister Abe said that Japan wants to take the lead in crafting the G7 leaders’ statement on the situation, thus signaling a new attitude from Japan.\n",
      "China was naturally unhappy with these developments, and the Chinese Ministry of Foreign Affairs issued a response to Japan’s moves and the G7 foreign ministers’ communiqué: “China firmly opposes the G7 Foreign Ministers’ Statement on Hong Kong, which wantonly comments on Hong Kong affairs.” The Chinese government also declared its unwavering intention to continue with implementation and enforcement of the National Security Law. Japan is the only Asian member of the G7, but its power to press the rest of the membership on this topic is limited, and with the unpredictability of China’s leaders and the delicacy of arranging their official visits to Japan, Tokyo is taking an increasingly cautious stance.\n",
      "Japan’s position is complicated still more by its position between the United States and China, requiring it to maintain balance. In recent years, China’s diplomatic ties with Japan have improved somewhat. That calls to mind the late 1980s, when Japan had been more successful than most in helping China to reduce its deficits and approach a more even balance of trade with Japan as the nation pressed ahead with its “reform and opening” policy. After the Chinese authorities forcibly suppressed the student protests at Tiananmen Square in 1989, they faced fierce international criticism, but Japan took the lead in calling on world leaders to refrain from isolating China. This thaw culminated in the 1992 visit to China by Emperor Akihito. In the three decades since then, though, China has taken advantage of Japan’s tolerant attitude in diplomacy. Whenever quarrels or conflicts arise between the two countries, Chinese authorities use anti-Japanese sentiment to stoke nationalism.\n",
      "In the end, the G7 summit will likely serve as the final court of appeal to the international community on the issue of China’s forced instatement of the Hong Kong National Security Law, and as such will be yet another venue for the views of China and the West to clash. When that happens, Japan will be put in an even more difficult position. Japan shares the values of the other, Western, G7 nations. It will have to express concerns over the Hong Kong National Security Law’s violations of human rights and freedom, although this could not only worsen relations with China but also have further impacts on the Olympic games and economic activity. Japan-China relations are going to come to a head with this year’s summit.\n",
      "In short, the Japanese government is going to have to show stronger resolve along with all the nations of the G7. Afterward, Japan-China relations are sure to suffer, and with that comes a strong possibility that China will ramp up its infringements in Japanese maritime territory. But Japan simply must stand its ground at this point. It cannot carry on its traditionally vague stance in a post-COVID-19 international order. The issue of Hong Kong’s National Security Law is a test case for this, as Taiwan will be for future US-China relations. The issue of the National Security Law is a straightforward example of the clash of national interests between China and the Western order, including Japan.\n",
      "(Originally published in Japanese. Banner photo: Protestors in Hong Kong take to the streets on July 1, 2020, a day after the adoption of the National Security Law. © Willie Siau/SOPA Images, via Zuma Wire/Kyōdō Images. All photos in article by the author.)\n"
     ]
    }
   ],
   "source": [
    "for bodies in soup.find_all('div',{'class','editArea'}):\n",
    "    print(bodies.text.strip())"
   ]
  },
  {
   "cell_type": "code",
   "execution_count": 24,
   "metadata": {},
   "outputs": [
    {
     "data": {
      "text/plain": [
       "55"
      ]
     },
     "execution_count": 24,
     "metadata": {},
     "output_type": "execute_result"
    }
   ],
   "source": [
    "len(bodies)"
   ]
  },
  {
   "cell_type": "markdown",
   "metadata": {},
   "source": [
    "Needs internal work."
   ]
  },
  {
   "cell_type": "markdown",
   "metadata": {},
   "source": [
    "**Clean | Send to DataFrame**<a id='2.5_review'></a>"
   ]
  },
  {
   "cell_type": "markdown",
   "metadata": {},
   "source": [
    "First the date from string to a datetime object."
   ]
  },
  {
   "cell_type": "code",
   "execution_count": 131,
   "metadata": {},
   "outputs": [],
   "source": [
    "for day in soup.find_all('div',{'class','c-content'}):\n",
    "    day.text.strip()"
   ]
  },
  {
   "cell_type": "code",
   "execution_count": 132,
   "metadata": {},
   "outputs": [
    {
     "data": {
      "text/plain": [
       "datetime.date(2020, 8, 14)"
      ]
     },
     "execution_count": 132,
     "metadata": {},
     "output_type": "execute_result"
    }
   ],
   "source": [
    "day_str = remove_tags(str(day))\n",
    "day_str = day_str.split('\\n')\n",
    "day_str = day_str[3]\n",
    "day_pub = re.sub('Aug','08',day_str)\n",
    "day_pub = re.sub(',','',day_pub)\n",
    "day_pub = re.sub(' ','-',day_pub)\n",
    "day_pub = datetime.strptime(day_pub, '%m-%d-%Y').date()\n",
    "day_pub"
   ]
  },
  {
   "cell_type": "code",
   "execution_count": 133,
   "metadata": {},
   "outputs": [],
   "source": [
    "df_date = pd.DataFrame([day_pub])"
   ]
  },
  {
   "cell_type": "code",
   "execution_count": 134,
   "metadata": {},
   "outputs": [
    {
     "data": {
      "text/plain": [
       "pandas.core.frame.DataFrame"
      ]
     },
     "execution_count": 134,
     "metadata": {},
     "output_type": "execute_result"
    }
   ],
   "source": [
    "type(df_date)"
   ]
  },
  {
   "cell_type": "code",
   "execution_count": 135,
   "metadata": {},
   "outputs": [
    {
     "data": {
      "text/html": [
       "<div>\n",
       "<style scoped>\n",
       "    .dataframe tbody tr th:only-of-type {\n",
       "        vertical-align: middle;\n",
       "    }\n",
       "\n",
       "    .dataframe tbody tr th {\n",
       "        vertical-align: top;\n",
       "    }\n",
       "\n",
       "    .dataframe thead th {\n",
       "        text-align: right;\n",
       "    }\n",
       "</style>\n",
       "<table border=\"1\" class=\"dataframe\">\n",
       "  <thead>\n",
       "    <tr style=\"text-align: right;\">\n",
       "      <th></th>\n",
       "      <th>0</th>\n",
       "    </tr>\n",
       "  </thead>\n",
       "  <tbody>\n",
       "    <tr>\n",
       "      <th>0</th>\n",
       "      <td>2020-08-14</td>\n",
       "    </tr>\n",
       "  </tbody>\n",
       "</table>\n",
       "</div>"
      ],
      "text/plain": [
       "            0\n",
       "0  2020-08-14"
      ]
     },
     "execution_count": 135,
     "metadata": {},
     "output_type": "execute_result"
    }
   ],
   "source": [
    "df_date"
   ]
  },
  {
   "cell_type": "markdown",
   "metadata": {},
   "source": [
    "Now the title."
   ]
  },
  {
   "cell_type": "code",
   "execution_count": 65,
   "metadata": {},
   "outputs": [
    {
     "name": "stdout",
     "output_type": "stream",
     "text": [
      "Hong Kong’s Security Law: How Should Japan Respond?\n"
     ]
    }
   ],
   "source": [
    "for title in soup.findAll('h1'):\n",
    "    print(title.text.strip())"
   ]
  },
  {
   "cell_type": "code",
   "execution_count": 66,
   "metadata": {},
   "outputs": [],
   "source": [
    "title = title.text.strip()\n",
    "title = [title]"
   ]
  },
  {
   "cell_type": "code",
   "execution_count": 67,
   "metadata": {},
   "outputs": [
    {
     "data": {
      "text/plain": [
       "list"
      ]
     },
     "execution_count": 67,
     "metadata": {},
     "output_type": "execute_result"
    }
   ],
   "source": [
    "type(title)"
   ]
  },
  {
   "cell_type": "code",
   "execution_count": 68,
   "metadata": {},
   "outputs": [],
   "source": [
    "df_title = pd.DataFrame([title])"
   ]
  },
  {
   "cell_type": "code",
   "execution_count": 69,
   "metadata": {},
   "outputs": [
    {
     "data": {
      "text/html": [
       "<div>\n",
       "<style scoped>\n",
       "    .dataframe tbody tr th:only-of-type {\n",
       "        vertical-align: middle;\n",
       "    }\n",
       "\n",
       "    .dataframe tbody tr th {\n",
       "        vertical-align: top;\n",
       "    }\n",
       "\n",
       "    .dataframe thead th {\n",
       "        text-align: right;\n",
       "    }\n",
       "</style>\n",
       "<table border=\"1\" class=\"dataframe\">\n",
       "  <thead>\n",
       "    <tr style=\"text-align: right;\">\n",
       "      <th></th>\n",
       "      <th>0</th>\n",
       "    </tr>\n",
       "  </thead>\n",
       "  <tbody>\n",
       "    <tr>\n",
       "      <th>0</th>\n",
       "      <td>Hong Kong’s Security Law: How Should Japan Res...</td>\n",
       "    </tr>\n",
       "  </tbody>\n",
       "</table>\n",
       "</div>"
      ],
      "text/plain": [
       "                                                   0\n",
       "0  Hong Kong’s Security Law: How Should Japan Res..."
      ]
     },
     "execution_count": 69,
     "metadata": {},
     "output_type": "execute_result"
    }
   ],
   "source": [
    "df_title"
   ]
  },
  {
   "cell_type": "code",
   "execution_count": 70,
   "metadata": {},
   "outputs": [
    {
     "data": {
      "text/plain": [
       "pandas.core.frame.DataFrame"
      ]
     },
     "execution_count": 70,
     "metadata": {},
     "output_type": "execute_result"
    }
   ],
   "source": [
    "type(df_title)"
   ]
  },
  {
   "cell_type": "markdown",
   "metadata": {},
   "source": [
    "These items are manually added."
   ]
  },
  {
   "cell_type": "code",
   "execution_count": 71,
   "metadata": {},
   "outputs": [],
   "source": [
    "country = 'Japan'\n",
    "df_country = pd.DataFrame([country])\n",
    "source = 'Nippon'\n",
    "df_source = pd.DataFrame([source])\n",
    "file_name = 'nippon_9'\n",
    "df_file_name = pd.DataFrame([file_name])\n"
   ]
  },
  {
   "cell_type": "markdown",
   "metadata": {},
   "source": [
    "Finally, the news."
   ]
  },
  {
   "cell_type": "code",
   "execution_count": 72,
   "metadata": {},
   "outputs": [],
   "source": [
    "for bodies in soup.find_all('div',{'class','editArea'}):\n",
    "    bodies.text.strip()"
   ]
  },
  {
   "cell_type": "code",
   "execution_count": 73,
   "metadata": {},
   "outputs": [],
   "source": [
    "body = remove_tags(str(bodies))"
   ]
  },
  {
   "cell_type": "code",
   "execution_count": 74,
   "metadata": {},
   "outputs": [
    {
     "data": {
      "text/plain": [
       "'\\nGrowing Private and Governmental Support for Hong Kong Democracy\\nMembers of the Standing Committee of the National People’s Congress of China in Beijing held a vote on June 30 on the Law of the People’s Republic of China on Safeguarding National Security in the Hong Kong Special Administrative Region, and it passed unanimously. This National Security Law was immediately added to Annex III of Hong Kong’s Basic Law. At a press conference the next day, Japan’s Chief Cabinet Secretary Suga Yoshihide called the law “regrettable.”\\nHowever, others in Japan have offered more direct support on the issue. As Hong Kong marked one year from the million-strong protest against an amended extradition bill, which would have allowed suspects in the territory to be sent to China for trial, on June 9, various nongovernmental organizations hosted an online symposium from Tokyo’s National Diet Building’s Chamber of the House of Representatives, titled “Global Solidarity: From Hong Kong to the International Order.”\\nThe symposium had a remote link to Hong Kong allowing democracy activist Agnes Chow Ting and prodemocracy District Councilor Sam Yip to speak, and the venue had displays of gasmasks used by demonstrators, empty tear-gas canisters, and protest signs. There was also a gallery of images of the demonstrations taken by a Japanese photographer, and during the lectures, participants discussed the difficulties faced by democracy supporters in Hong Kong.\\nProtests against the National Security Law continue there, and Hong Kong citizens working and staying in Japan also came to carry signs and chant in support at the venue. Cheung, a citizen of Hong Kong who works in Tokyo, said, “It’s incredibly ironic that the Chinese government used the phrase ‘collusion with foreign forces’ in the law, because lots of government officials in Hong Kong hold British passports, or are dual citizens of Australia, New Zealand, or Canada. At the same time, if you look at all the young protestors, everyone born after the reversion of Hong Kong to China in 1997 only has Hong Kong citizenship. So, all of those government officials are really the foreign colluders.”\\nDavid, another citizen of the territory who attends school in Tokyo, says, “Hong Kong has been influenced by Western values since it opened up in the nineteenth century. If they want to talk about collusion with foreign powers, it’s been going on for 150 years, hasn’t it?” he says, with a grimace. “Hong Kong has been a place where Western and Chinese culture have mixed for 150 years. It has preserved its traditional Chinese culture, but it must also continue to value Western-style freedom, democracy, and human rights.” The protestors are simply asking that the Chinese government keep its original promise to Hong Kong.\\nA scene from the “Global Solidarity” symposium held in Tokyo. Displays at the venue included gasmasks used by demonstrators, and empty tear-gas canisters.\\nJapan to Lure Hong Kong Financial Workers\\nThe passage of the new National Security Law threatens the future of the “one country, two systems” principle, and Taiwan, former colonial administrator Britain, and a number of Western countries have begun contemplating measures to aid those in Hong Kong who still hunger for freedom and democracy. The ideas are varied, and include extending Hong Kongers’ periods of stay for study or work, or supporting highly skilled immigrants. On June 11, at a meeting of the Budget Committee of the House of Councilors, Prime Minister Abe Shinzō said that he wants to promote the inflow of talented people from Hong Kong, particularly those in finance. Many Hong Kong citizens may come to Japan to take advantage of this chance if the district faces a future crisis.\\n“I’m grateful to the Japanese government for offering more opportunities to Hong Kong’s people, but at the same time what we really need is attention and support from the international community. No one wants to have to choose exile. We want Hong Kong to be free from that necessity,” says Cheung, who goes on to describe the plight of many young people in the territory. “Honestly, most of the Hong Kongers who have skill in finance have already emigrated to other countries. The people who need help are those in their teens and twenties, who were born after 1997. They don’t have any savings, or hope for the future. I want the international community to focus on that generation.”\\nAt the June 9 symposium, Japanese attendees included members of the lower house of the Diet. Some of them proposed more active support for democracy in Hong Kong from the Japanese government. One petitioner expressed pessimism, though. “If the Japanese government were already being more active, there would be no need for us to be talking like this now.”\\nEver since the 2019 demonstrations, Japan has been far more reserved in its response than Western nations. On October 23, 2019, Prime Minister Abe held a joint press conference with China’s Vice President Wang Qishan, expressing deep concern over the situation in the territory while stressing the importance of allowing a free and open Hong Kong to flourish under the “two systems” principle.\\nHowever, the true focus of that meeting for both sides was on high-profile incidents involving the detention of Japanese scholars in China and the intrusion of Chinese ships into Japan’s waters near the Senkaku Islands. Vice President Wang’s visit also involved his attendance at the accession ceremonies for the new emperor and empress as the special envoy of President Xi Jinping. So neither side was interested in in-depth discussion.\\nHong Kong democracy activist Agnes Chow joined the “Global Solidarity” symposium by remote link.\\nChina’s Hard-Line Push Exceeds International Expectations\\nHong Kong began attracting more international attention from the end of May 2020, as the debate on the National Security Law grew in intensity. On June 19, the Standing Committee of the National People’s Congress amended its draft of the law. The draft originally included a provision to prevent, restrain, and punish “interference of foreign nations and foreign collusion in matters of Hong Kong,” but this was changed to “collusion with foreign countries or foreign forces,” reawakening public controversy. Many Hong Kong officials, including Secretary for Justice Teresa Cheng, say they were not informed of Beijing’s revisions in advance.\\nThe impact of the COVID-19 pandemic caused the Chinese People’s Political Consultative Conference scheduled for April 29 to be rescheduled for May 22. However, the unwavering insistence of China’s authorities on pushing through the Hong Kong National Security Law, and the speed of their revisions, exceeded the imagination of all observers. At the same time, there has been no sign of easing in any of the various conflicts that have continued since the first demonstrations against the 2019 extradition bill. Considering how much progress China’s administration has made toward bringing about the end of the “two systems” structure in a single month, it’s easy to imagine how quickly that end will arrive when Beijing decides its time has come.\\nHong Kong’s government is clearly already suffering from a loss of independence, and Chinese interference has stripped it of the ability to interpret laws on its own. Hong Kong’s Sing Tao Daily newspaper, considered a pro-China voice, reports that Hong Kong’s Chief Executive Carrie Lam went to Beijing while the National Security Law was being debated to receive a copy of the draft directly from the central authority, but was rebuffed at the door. It appears that Chinese government is taking advantage of the chaos caused by the COVID-19 pandemic, when so many countries have closed their borders, to advance its political agenda by forcing adoption of the National Security Law sight unseen.\\nThe Tokyo symposium featured a display of photos of the demonstrations taken by a Japanese photographer.\\nCan Japan Pass This Test?\\nAs the people of Hong Kong continue their protests, and every nation in the world is dealing with the COVID-19 pandemic, the most important point in this fight could be the G7 summit, where the leaders of seven of the world’s most developed nations will meet to discuss the shape of the post-pandemic world. (Originally slated for June, the summit has been postponed until September or later due to the COVID-19 crisis.)\\nOn June 18, the G7 foreign ministers issued a joint statement expressing “grave concern” over the issues in Hong Kong. As Japan’s posture becomes even more prominent, Prime Minister Abe said that Japan wants to take the lead in crafting the G7 leaders’ statement on the situation, thus signaling a new attitude from Japan.\\nChina was naturally unhappy with these developments, and the Chinese Ministry of Foreign Affairs issued a response to Japan’s moves and the G7 foreign ministers’ communiqué: “China firmly opposes the G7 Foreign Ministers’ Statement on Hong Kong, which wantonly comments on Hong Kong affairs.” The Chinese government also declared its unwavering intention to continue with implementation and enforcement of the National Security Law. Japan is the only Asian member of the G7, but its power to press the rest of the membership on this topic is limited, and with the unpredictability of China’s leaders and the delicacy of arranging their official visits to Japan, Tokyo is taking an increasingly cautious stance.\\nJapan’s position is complicated still more by its position between the United States and China, requiring it to maintain balance. In recent years, China’s diplomatic ties with Japan have improved somewhat. That calls to mind the late 1980s, when Japan had been more successful than most in helping China to reduce its deficits and approach a more even balance of trade with Japan as the nation pressed ahead with its “reform and opening” policy. After the Chinese authorities forcibly suppressed the student protests at Tiananmen Square in 1989, they faced fierce international criticism, but Japan took the lead in calling on world leaders to refrain from isolating China. This thaw culminated in the 1992 visit to China by Emperor Akihito. In the three decades since then, though, China has taken advantage of Japan’s tolerant attitude in diplomacy. Whenever quarrels or conflicts arise between the two countries, Chinese authorities use anti-Japanese sentiment to stoke nationalism.\\nIn the end, the G7 summit will likely serve as the final court of appeal to the international community on the issue of China’s forced instatement of the Hong Kong National Security Law, and as such will be yet another venue for the views of China and the West to clash. When that happens, Japan will be put in an even more difficult position. Japan shares the values of the other, Western, G7 nations. It will have to express concerns over the Hong Kong National Security Law’s violations of human rights and freedom, although this could not only worsen relations with China but also have further impacts on the Olympic games and economic activity. Japan-China relations are going to come to a head with this year’s summit.\\nIn short, the Japanese government is going to have to show stronger resolve along with all the nations of the G7. Afterward, Japan-China relations are sure to suffer, and with that comes a strong possibility that China will ramp up its infringements in Japanese maritime territory. But Japan simply must stand its ground at this point. It cannot carry on its traditionally vague stance in a post-COVID-19 international order. The issue of Hong Kong’s National Security Law is a test case for this, as Taiwan will be for future US-China relations. The issue of the National Security Law is a straightforward example of the clash of national interests between China and the Western order, including Japan.\\n(Originally published in Japanese. Banner photo: Protestors in Hong Kong take to the streets on July 1, 2020, a day after the adoption of the National Security Law. © Willie Siau/SOPA Images, via Zuma Wire/Kyōdō Images. All photos in article by the author.)\\n'"
      ]
     },
     "execution_count": 74,
     "metadata": {},
     "output_type": "execute_result"
    }
   ],
   "source": [
    "body"
   ]
  },
  {
   "cell_type": "code",
   "execution_count": 75,
   "metadata": {},
   "outputs": [],
   "source": [
    "body = body.split('\\n')"
   ]
  },
  {
   "cell_type": "code",
   "execution_count": 83,
   "metadata": {},
   "outputs": [],
   "source": [
    "body_core = body[1:27]"
   ]
  },
  {
   "cell_type": "code",
   "execution_count": 89,
   "metadata": {},
   "outputs": [
    {
     "data": {
      "text/plain": [
       "list"
      ]
     },
     "execution_count": 89,
     "metadata": {},
     "output_type": "execute_result"
    }
   ],
   "source": [
    "type(body_core)"
   ]
  },
  {
   "cell_type": "code",
   "execution_count": 90,
   "metadata": {},
   "outputs": [],
   "source": [
    "body_core = ', '.join(body_core)"
   ]
  },
  {
   "cell_type": "code",
   "execution_count": 91,
   "metadata": {},
   "outputs": [],
   "source": [
    "body_lists = [body_core]"
   ]
  },
  {
   "cell_type": "code",
   "execution_count": 92,
   "metadata": {},
   "outputs": [],
   "source": [
    "df_news = pd.DataFrame()"
   ]
  },
  {
   "cell_type": "code",
   "execution_count": 93,
   "metadata": {},
   "outputs": [],
   "source": [
    "df_news['article_body'] = body_lists"
   ]
  },
  {
   "cell_type": "code",
   "execution_count": 94,
   "metadata": {
    "scrolled": true
   },
   "outputs": [
    {
     "data": {
      "text/html": [
       "<div>\n",
       "<style scoped>\n",
       "    .dataframe tbody tr th:only-of-type {\n",
       "        vertical-align: middle;\n",
       "    }\n",
       "\n",
       "    .dataframe tbody tr th {\n",
       "        vertical-align: top;\n",
       "    }\n",
       "\n",
       "    .dataframe thead th {\n",
       "        text-align: right;\n",
       "    }\n",
       "</style>\n",
       "<table border=\"1\" class=\"dataframe\">\n",
       "  <thead>\n",
       "    <tr style=\"text-align: right;\">\n",
       "      <th></th>\n",
       "      <th>article_body</th>\n",
       "    </tr>\n",
       "  </thead>\n",
       "  <tbody>\n",
       "    <tr>\n",
       "      <th>0</th>\n",
       "      <td>Growing Private and Governmental Support for H...</td>\n",
       "    </tr>\n",
       "  </tbody>\n",
       "</table>\n",
       "</div>"
      ],
      "text/plain": [
       "                                        article_body\n",
       "0  Growing Private and Governmental Support for H..."
      ]
     },
     "execution_count": 94,
     "metadata": {},
     "output_type": "execute_result"
    }
   ],
   "source": [
    "df_news.head()"
   ]
  },
  {
   "cell_type": "code",
   "execution_count": 95,
   "metadata": {},
   "outputs": [],
   "source": [
    "df_news['article_body'] = df_news.article_body.str.cat(sep=' ')"
   ]
  },
  {
   "cell_type": "code",
   "execution_count": 96,
   "metadata": {},
   "outputs": [],
   "source": [
    "df_news = df_news.article_body[0]"
   ]
  },
  {
   "cell_type": "code",
   "execution_count": 97,
   "metadata": {},
   "outputs": [],
   "source": [
    "df_news = df_news.replace(r'\\\\?','')"
   ]
  },
  {
   "cell_type": "code",
   "execution_count": 98,
   "metadata": {},
   "outputs": [],
   "source": [
    "df_news = pd.DataFrame([df_news])"
   ]
  },
  {
   "cell_type": "code",
   "execution_count": 99,
   "metadata": {},
   "outputs": [
    {
     "data": {
      "text/plain": [
       "pandas.core.frame.DataFrame"
      ]
     },
     "execution_count": 99,
     "metadata": {},
     "output_type": "execute_result"
    }
   ],
   "source": [
    "type(df_news)"
   ]
  },
  {
   "cell_type": "code",
   "execution_count": 100,
   "metadata": {},
   "outputs": [],
   "source": [
    "df_news.columns = ['Article']"
   ]
  },
  {
   "cell_type": "code",
   "execution_count": 101,
   "metadata": {},
   "outputs": [
    {
     "data": {
      "text/html": [
       "<div>\n",
       "<style scoped>\n",
       "    .dataframe tbody tr th:only-of-type {\n",
       "        vertical-align: middle;\n",
       "    }\n",
       "\n",
       "    .dataframe tbody tr th {\n",
       "        vertical-align: top;\n",
       "    }\n",
       "\n",
       "    .dataframe thead th {\n",
       "        text-align: right;\n",
       "    }\n",
       "</style>\n",
       "<table border=\"1\" class=\"dataframe\">\n",
       "  <thead>\n",
       "    <tr style=\"text-align: right;\">\n",
       "      <th></th>\n",
       "      <th>Article</th>\n",
       "    </tr>\n",
       "  </thead>\n",
       "  <tbody>\n",
       "    <tr>\n",
       "      <th>0</th>\n",
       "      <td>Growing Private and Governmental Support for H...</td>\n",
       "    </tr>\n",
       "  </tbody>\n",
       "</table>\n",
       "</div>"
      ],
      "text/plain": [
       "                                             Article\n",
       "0  Growing Private and Governmental Support for H..."
      ]
     },
     "execution_count": 101,
     "metadata": {},
     "output_type": "execute_result"
    }
   ],
   "source": [
    "df_news.head()"
   ]
  },
  {
   "cell_type": "code",
   "execution_count": null,
   "metadata": {},
   "outputs": [],
   "source": []
  },
  {
   "cell_type": "markdown",
   "metadata": {},
   "source": [
    "**Bringing it together.**<a id='2.5_bit'></a>"
   ]
  },
  {
   "cell_type": "code",
   "execution_count": 136,
   "metadata": {},
   "outputs": [],
   "source": [
    "df_9_nippon = pd.concat([df_file_name,df_date,df_source,df_country,df_title,df_news],axis = 1, ignore_index=False)"
   ]
  },
  {
   "cell_type": "code",
   "execution_count": 137,
   "metadata": {},
   "outputs": [],
   "source": [
    "df_9_nippon.columns = ['file_name','date','source','country','title','article']"
   ]
  },
  {
   "cell_type": "code",
   "execution_count": 138,
   "metadata": {},
   "outputs": [
    {
     "data": {
      "text/html": [
       "<div>\n",
       "<style scoped>\n",
       "    .dataframe tbody tr th:only-of-type {\n",
       "        vertical-align: middle;\n",
       "    }\n",
       "\n",
       "    .dataframe tbody tr th {\n",
       "        vertical-align: top;\n",
       "    }\n",
       "\n",
       "    .dataframe thead th {\n",
       "        text-align: right;\n",
       "    }\n",
       "</style>\n",
       "<table border=\"1\" class=\"dataframe\">\n",
       "  <thead>\n",
       "    <tr style=\"text-align: right;\">\n",
       "      <th></th>\n",
       "      <th>file_name</th>\n",
       "      <th>date</th>\n",
       "      <th>source</th>\n",
       "      <th>country</th>\n",
       "      <th>title</th>\n",
       "      <th>article</th>\n",
       "    </tr>\n",
       "  </thead>\n",
       "  <tbody>\n",
       "    <tr>\n",
       "      <th>0</th>\n",
       "      <td>nippon_9</td>\n",
       "      <td>2020-08-14</td>\n",
       "      <td>Nippon</td>\n",
       "      <td>Japan</td>\n",
       "      <td>Hong Kong’s Security Law: How Should Japan Res...</td>\n",
       "      <td>Growing Private and Governmental Support for H...</td>\n",
       "    </tr>\n",
       "  </tbody>\n",
       "</table>\n",
       "</div>"
      ],
      "text/plain": [
       "  file_name        date  source country  \\\n",
       "0  nippon_9  2020-08-14  Nippon   Japan   \n",
       "\n",
       "                                               title  \\\n",
       "0  Hong Kong’s Security Law: How Should Japan Res...   \n",
       "\n",
       "                                             article  \n",
       "0  Growing Private and Governmental Support for H...  "
      ]
     },
     "execution_count": 138,
     "metadata": {},
     "output_type": "execute_result"
    }
   ],
   "source": [
    "df_9_nippon.head()"
   ]
  },
  {
   "cell_type": "code",
   "execution_count": null,
   "metadata": {},
   "outputs": [],
   "source": []
  },
  {
   "cell_type": "markdown",
   "metadata": {},
   "source": [
    "**Saving**<a id='2.6_save'></a>"
   ]
  },
  {
   "cell_type": "code",
   "execution_count": 139,
   "metadata": {},
   "outputs": [
    {
     "name": "stdout",
     "output_type": "stream",
     "text": [
      "C:\\Users\\rands\n"
     ]
    }
   ],
   "source": [
    "cd"
   ]
  },
  {
   "cell_type": "markdown",
   "metadata": {},
   "source": [
    "Saving it to Excel."
   ]
  },
  {
   "cell_type": "code",
   "execution_count": 140,
   "metadata": {},
   "outputs": [
    {
     "name": "stdout",
     "output_type": "stream",
     "text": [
      "Complete\n"
     ]
    }
   ],
   "source": [
    "# df = pd.DataFrame(reviewlist)\n",
    "\n",
    "# index=False below so that we don't get the dataframe index on the side; we just use the excel index\n",
    "df_9_nippon.to_csv('./_Capstone_Two_NLP/data/_news/nippon_9.csv', index=False)\n",
    "\n",
    "print('Complete')"
   ]
  },
  {
   "cell_type": "code",
   "execution_count": null,
   "metadata": {},
   "outputs": [],
   "source": []
  }
 ],
 "metadata": {
  "kernelspec": {
   "display_name": "Python 3",
   "language": "python",
   "name": "python3"
  },
  "language_info": {
   "codemirror_mode": {
    "name": "ipython",
    "version": 3
   },
   "file_extension": ".py",
   "mimetype": "text/x-python",
   "name": "python",
   "nbconvert_exporter": "python",
   "pygments_lexer": "ipython3",
   "version": "3.8.5"
  },
  "varInspector": {
   "cols": {
    "lenName": 16,
    "lenType": 16,
    "lenVar": 40
   },
   "kernels_config": {
    "python": {
     "delete_cmd_postfix": "",
     "delete_cmd_prefix": "del ",
     "library": "var_list.py",
     "varRefreshCmd": "print(var_dic_list())"
    },
    "r": {
     "delete_cmd_postfix": ") ",
     "delete_cmd_prefix": "rm(",
     "library": "var_list.r",
     "varRefreshCmd": "cat(var_dic_list()) "
    }
   },
   "types_to_exclude": [
    "module",
    "function",
    "builtin_function_or_method",
    "instance",
    "_Feature"
   ],
   "window_display": false
  }
 },
 "nbformat": 4,
 "nbformat_minor": 4
}
