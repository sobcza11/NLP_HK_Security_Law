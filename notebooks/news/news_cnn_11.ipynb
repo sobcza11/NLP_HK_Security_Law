{
 "cells": [
  {
   "cell_type": "markdown",
   "metadata": {},
   "source": [
    "# Scraping chilling effect on press freedom from CNN"
   ]
  },
  {
   "cell_type": "markdown",
   "metadata": {},
   "source": [
    "## 2.1 Contents<a id='2.1_Contents'></a>\n",
    "* [2.1 Importing Relevant Tools](#2.1_Importing)\n",
    "* [2.2 Defining the Request](#2.2_URL)\n",
    "* [2.3 Grab | Date](#2.4_scrape_date)\n",
    "* [2.4 Grab | Header](#2.4_scrape_header)\n",
    "* [2.5 Grab | Content](#2.4_scrape_content)\n",
    "* [2.6 Clean | Send to DataFrame](#2.5_review)\n",
    "* [2.7 Save](#2.6_save)\n"
   ]
  },
  {
   "cell_type": "markdown",
   "metadata": {},
   "source": [
    "**Importing Relevant Tools**<a id='2.1_Importing'></a>"
   ]
  },
  {
   "cell_type": "code",
   "execution_count": 157,
   "metadata": {},
   "outputs": [],
   "source": [
    "import json\n",
    "import pandas as pd\n",
    "from bs4 import BeautifulSoup as soup\n",
    "import requests\n",
    "import csv\n",
    "import re\n",
    "import pickle\n",
    "\n",
    "%reload_ext watermark"
   ]
  },
  {
   "cell_type": "code",
   "execution_count": 158,
   "metadata": {},
   "outputs": [],
   "source": [
    "#the below needs to be reviewed for all websites; notably the time format\n",
    "\n",
    "from datetime import date\n",
    "from datetime import datetime\n",
    "today = date.today()\n",
    "d = today.strftime(\"%m-%d-%y\")"
   ]
  },
  {
   "cell_type": "markdown",
   "metadata": {},
   "source": [
    "For reference."
   ]
  },
  {
   "cell_type": "code",
   "execution_count": 159,
   "metadata": {},
   "outputs": [
    {
     "name": "stdout",
     "output_type": "stream",
     "text": [
      "Python implementation: CPython\n",
      "Python version       : 3.8.5\n",
      "IPython version      : 7.19.0\n",
      "\n",
      "pandas: 1.1.3\n",
      "\n"
     ]
    }
   ],
   "source": [
    "%watermark -d -t -v -p pandas"
   ]
  },
  {
   "cell_type": "markdown",
   "metadata": {},
   "source": [
    "**Defining the Request**<a id='2.2_URL'></a>"
   ]
  },
  {
   "cell_type": "code",
   "execution_count": 160,
   "metadata": {},
   "outputs": [
    {
     "data": {
      "text/plain": [
       "'https://www.cnn.com/2020/07/03/media/hong-kong-media-freedom-national-security/index.html'"
      ]
     },
     "execution_count": 160,
     "metadata": {},
     "output_type": "execute_result"
    }
   ],
   "source": [
    "url = 'https://www.cnn.com/2020/07/03/media/hong-kong-media-freedom-national-security/index.html'.format(d)\n",
    "url"
   ]
  },
  {
   "cell_type": "code",
   "execution_count": 161,
   "metadata": {},
   "outputs": [],
   "source": [
    "html = requests.get(url)"
   ]
  },
  {
   "cell_type": "code",
   "execution_count": 162,
   "metadata": {},
   "outputs": [],
   "source": [
    "bsobj = soup(html.content,'lxml')\n",
    "# bsobj"
   ]
  },
  {
   "cell_type": "markdown",
   "metadata": {},
   "source": [
    "**Grab | Date**<a id='2.4_scrape_date'></a>"
   ]
  },
  {
   "cell_type": "code",
   "execution_count": 163,
   "metadata": {},
   "outputs": [
    {
     "name": "stdout",
     "output_type": "stream",
     "text": [
      "By Hadas Gold, CNN Business\n",
      "\n",
      "Updated 9:53 AM ET, Fri July 3, 2020\n"
     ]
    }
   ],
   "source": [
    "for date in bsobj.find('div',{'class':'metadata__info js-byline-images'}):\n",
    "    print(date.text.strip())"
   ]
  },
  {
   "cell_type": "markdown",
   "metadata": {},
   "source": [
    "A lot to clean on this; to be done below."
   ]
  },
  {
   "cell_type": "markdown",
   "metadata": {},
   "source": [
    "**Grab | Header**<a id='2.4_scrape_header'></a>"
   ]
  },
  {
   "cell_type": "code",
   "execution_count": 164,
   "metadata": {},
   "outputs": [
    {
     "name": "stdout",
     "output_type": "stream",
     "text": [
      "Hong Kong's security law could have a chilling effect on press freedom\n"
     ]
    }
   ],
   "source": [
    "for title in bsobj.findAll(\"h1\"):\n",
    "    print(format(title.text))"
   ]
  },
  {
   "cell_type": "markdown",
   "metadata": {},
   "source": [
    "Confirmed that's the title."
   ]
  },
  {
   "cell_type": "markdown",
   "metadata": {},
   "source": [
    "**Grab | Content**<a id='2.4_scrape_content'></a>"
   ]
  },
  {
   "cell_type": "code",
   "execution_count": 165,
   "metadata": {},
   "outputs": [
    {
     "name": "stdout",
     "output_type": "stream",
     "text": [
      "Hong Kong's security law could have a chilling effect on press freedomBy Hadas Gold, CNN BusinessUpdated 9:53 AM ET, Fri July 3, 2020 JUST WATCHEDHong Kong official: National security law will be 'clean break'ReplayMore Videos ...MUST WATCH (16 Videos)Hong Kong official: National security law will be 'clean break'Inside the logistics system behind AlibabaSee rescue effort to save dozens of puppies from 'mystery box' online saleWestern brands slammed in China over Xinjiang stanceHong Kong media tycoon's long battle for freedomFacebook: Chinese hackers targeted Uyghurs living in USAustralia's wine industry battered as relations with China sour US-China tech rivalry will likely continue under Biden presidency. Here's why See Jack Ma's first public appearance in monthsChina's economy grows 2.3% in 2020Trump administration dials up US-China tech tensionsHow China's Ant Group built a $17 trillion payments machineHSBC may have to choose between China and the WestChina censors a lot, from Winnie the Pooh to the NBAHow Jack Ma changed ChinaWhy American fast food chains will do anything to win in ChinaLondon (CNN Business)Hong Kong insists its vibrant community of journalists has nothing to fear from the national security legislation China imposed on the city this week. But press freedom advocates worry about creeping self-censorship, and there are signs that the new law may already be having a chilling effect.In what was once seen as a safe haven of free speech for local and foreign news organizations operating in the region, journalists and their sources are growing increasingly wary that as China takes a firmer grip on Hong Kong, they could be prosecuted. The new law applies to any person in Hong Kong, both locals and foreign nationals. It criminalizes actions like calling for Hong Kong independence, or working with a foreign entity \"to incite hatred\" toward the Chinese government. A new enforcement committee will \"strengthen the management\" of NGOs and media working in Hong Kong. The police will also have new powers to search premises, wiretap suspects and order people to \"delete information or provide assistance.\" Article 4 of the law says \"the freedoms of speech, of the press, of publication, of association, of assembly, of procession and of demonstration\" will be protected. But it also criminalizes the leaking of \"state secrets,\" a vague term commonly used in China to cover a range of issues deemed to be in the national interest and which has been used in the past to imprison journalists like Gao Yu on the mainland. That could deter both journalists and sources from reporting or collaborating on stories relating to government affairs. Why China's national security law could change Hong Kong foreverHong Kong holds a unique position in the region, as it is home to the only free press in any area or territory administered by the Chinese government. But there's been no clear guidance on what the new security law means for the city's long-established media community.Read MoreDeliberate ambiguity That the legislation lacks specifics is deliberate, not an omission, according to experts such as Sophie Richardson, China Director of Human Rights Watch (HRW).\"This law is so vague and so overboard that it could potentially apply to just about any kind of behavior or speech and that's exactly the Chinese government's goal: It wants everyone to start and think 'Oh wait a minute does this constitute sedition? Oh wait a minute, is that collusion?'\" Richardson said. The vague nature of the law will lead to self-censorship, which may be precisely what Beijing wants, said Steven Butler, Asia director for the Committee To Protect Journalists (CPJ).\"The Chinese Communist Party may achieve what it wants to achieve without ever having to enforce the law,\" he said.Both Butler and Richardson said the new law could bring Hong Kong more in line with how the media is treated in China, one of the worst countries in the world for press freedom according to Reporters Without Borders and where self-censorship is commonplace.How the national security law is bringing China's authoritarian legal system to Hong KongHong Kong Chief Executive Carrie Lam has asserted that it won't affect freedom of speech, enshrined in the city's 1997 de facto constitution called the Basic Law. But the new law may supersede such protections, Butler said.When asked by CNN in a press conference on Wednesday whether people would be allowed to criticize the new law, Lam said: \"If individuals including reporters from CNN are discharging their role and feel something is not right and want to criticize then I don't see why that would be an offense under this law.\"But, she warned, \"If there is more, if you are involved in organizing or colluding that's another matter. It's a question of evidence and the law.\"Dire consequences?Press freedoms in Hong Kong have been under pressure in recent years, Butler said, adding that reporters covering pro-democracy protests in the city have been targeted by police. In 2018, the Financial Times' Asia news editor Victor Mallet was denied a routine extension of his visa, months after he moderated a debate at the Foreign Correspondents' Club that featured a pro-independence activist.For journalists who are Hong Kong citizens, the consequences of breaking the new law could be dire. They could be tried behind closed doors and sentenced to life imprisonment. Those found guilty of participating or assisting in crimes can also face between three and 10 years in jail. Hong Kong authorities have not outlined any specifics on how the new enforcement committee for managing media will affect foreign reporters, who — unlike their counterparts in mainland China — do not require specific journalist visas. China hits back at US with new media restrictions as tensions riseThose visas for foreign reporters in mainland China come with strict oversight and the government has in the past expelled journalists, including around a dozen recently from the New York Times, Wall Street Journal and Washington Post.Then there are the sources and interview subjects, many of whom are likely to be even more wary of speaking to the media — something reporters in mainland China already struggle with, HRW's Richardson said.Butler, at the CPJ, said in recent days that journalists have already been asked by sources and interview subjects to delete previous articles or communications with sources that could be viewed as seditious. CNN, which has a major bureau in the city, has spoken to sources who have expressed reluctance to participate in interviews. Within hours of the bill's passage, sources asked that past WhatsApp chats be deleted and expressed caution about being quoted in articles about the law.Waiting for 'test' casesButler and Richardson said it is only a matter of time before there is a \"test case,\" where a reporter will be tried under the new law. \"I won't be surprised if some journalists wind up being charged under this law at some point in the not too distant future,\" Richardson said. For now, news organizations and press freedom advocates can only try to lobby the Hong Kong government.Security law could hurt Hong Kong as a global business hub\"Hong Kong has been a leader in supporting the rights of a free press in Asia for decades and it is essential that it continues to do so, particularly given the treatment of members of the independent press within mainland China and the global nature of the coronavirus pandemic,\" a New York Times spokesperson told CNN Business, adding that it is closely monitoring the situation. Butler said he hopes Hong Kong's status as a financial center and an important Asian gateway for Western companies will protect its press freedoms. \"You can't have an international finance center without freedom of the speech and press,\" he said.— Jessie Yeung, Ivan Watson and James Griffiths contributed to this article.\n",
      "JUST WATCHEDHong Kong official: National security law will be 'clean break'ReplayMore Videos ...MUST WATCH (16 Videos)Hong Kong official: National security law will be 'clean break'Inside the logistics system behind AlibabaSee rescue effort to save dozens of puppies from 'mystery box' online saleWestern brands slammed in China over Xinjiang stanceHong Kong media tycoon's long battle for freedomFacebook: Chinese hackers targeted Uyghurs living in USAustralia's wine industry battered as relations with China sour US-China tech rivalry will likely continue under Biden presidency. Here's why See Jack Ma's first public appearance in monthsChina's economy grows 2.3% in 2020Trump administration dials up US-China tech tensionsHow China's Ant Group built a $17 trillion payments machineHSBC may have to choose between China and the WestChina censors a lot, from Winnie the Pooh to the NBAHow Jack Ma changed ChinaWhy American fast food chains will do anything to win in China\n",
      "JUST WATCHEDHong Kong official: National security law will be 'clean break'ReplayMore Videos ...MUST WATCH\n",
      "London (CNN Business)Hong Kong insists its vibrant community of journalists has nothing to fear from the national security legislation China imposed on the city this week. But press freedom advocates worry about creeping self-censorship, and there are signs that the new law may already be having a chilling effect.In what was once seen as a safe haven of free speech for local and foreign news organizations operating in the region, journalists and their sources are growing increasingly wary that as China takes a firmer grip on Hong Kong, they could be prosecuted. The new law applies to any person in Hong Kong, both locals and foreign nationals. It criminalizes actions like calling for Hong Kong independence, or working with a foreign entity \"to incite hatred\" toward the Chinese government. A new enforcement committee will \"strengthen the management\" of NGOs and media working in Hong Kong. The police will also have new powers to search premises, wiretap suspects and order people to \"delete information or provide assistance.\" Article 4 of the law says \"the freedoms of speech, of the press, of publication, of association, of assembly, of procession and of demonstration\" will be protected. But it also criminalizes the leaking of \"state secrets,\" a vague term commonly used in China to cover a range of issues deemed to be in the national interest and which has been used in the past to imprison journalists like Gao Yu on the mainland. That could deter both journalists and sources from reporting or collaborating on stories relating to government affairs. Why China's national security law could change Hong Kong foreverHong Kong holds a unique position in the region, as it is home to the only free press in any area or territory administered by the Chinese government. But there's been no clear guidance on what the new security law means for the city's long-established media community.Read MoreDeliberate ambiguity That the legislation lacks specifics is deliberate, not an omission, according to experts such as Sophie Richardson, China Director of Human Rights Watch (HRW).\"This law is so vague and so overboard that it could potentially apply to just about any kind of behavior or speech and that's exactly the Chinese government's goal: It wants everyone to start and think 'Oh wait a minute does this constitute sedition? Oh wait a minute, is that collusion?'\" Richardson said. The vague nature of the law will lead to self-censorship, which may be precisely what Beijing wants, said Steven Butler, Asia director for the Committee To Protect Journalists (CPJ).\"The Chinese Communist Party may achieve what it wants to achieve without ever having to enforce the law,\" he said.Both Butler and Richardson said the new law could bring Hong Kong more in line with how the media is treated in China, one of the worst countries in the world for press freedom according to Reporters Without Borders and where self-censorship is commonplace.How the national security law is bringing China's authoritarian legal system to Hong KongHong Kong Chief Executive Carrie Lam has asserted that it won't affect freedom of speech, enshrined in the city's 1997 de facto constitution called the Basic Law. But the new law may supersede such protections, Butler said.When asked by CNN in a press conference on Wednesday whether people would be allowed to criticize the new law, Lam said: \"If individuals including reporters from CNN are discharging their role and feel something is not right and want to criticize then I don't see why that would be an offense under this law.\"But, she warned, \"If there is more, if you are involved in organizing or colluding that's another matter. It's a question of evidence and the law.\"Dire consequences?Press freedoms in Hong Kong have been under pressure in recent years, Butler said, adding that reporters covering pro-democracy protests in the city have been targeted by police. In 2018, the Financial Times' Asia news editor Victor Mallet was denied a routine extension of his visa, months after he moderated a debate at the Foreign Correspondents' Club that featured a pro-independence activist.For journalists who are Hong Kong citizens, the consequences of breaking the new law could be dire. They could be tried behind closed doors and sentenced to life imprisonment. Those found guilty of participating or assisting in crimes can also face between three and 10 years in jail. Hong Kong authorities have not outlined any specifics on how the new enforcement committee for managing media will affect foreign reporters, who — unlike their counterparts in mainland China — do not require specific journalist visas. China hits back at US with new media restrictions as tensions riseThose visas for foreign reporters in mainland China come with strict oversight and the government has in the past expelled journalists, including around a dozen recently from the New York Times, Wall Street Journal and Washington Post.Then there are the sources and interview subjects, many of whom are likely to be even more wary of speaking to the media — something reporters in mainland China already struggle with, HRW's Richardson said.Butler, at the CPJ, said in recent days that journalists have already been asked by sources and interview subjects to delete previous articles or communications with sources that could be viewed as seditious. CNN, which has a major bureau in the city, has spoken to sources who have expressed reluctance to participate in interviews. Within hours of the bill's passage, sources asked that past WhatsApp chats be deleted and expressed caution about being quoted in articles about the law.Waiting for 'test' casesButler and Richardson said it is only a matter of time before there is a \"test case,\" where a reporter will be tried under the new law. \"I won't be surprised if some journalists wind up being charged under this law at some point in the not too distant future,\" Richardson said. For now, news organizations and press freedom advocates can only try to lobby the Hong Kong government.Security law could hurt Hong Kong as a global business hub\"Hong Kong has been a leader in supporting the rights of a free press in Asia for decades and it is essential that it continues to do so, particularly given the treatment of members of the independent press within mainland China and the global nature of the coronavirus pandemic,\" a New York Times spokesperson told CNN Business, adding that it is closely monitoring the situation. Butler said he hopes Hong Kong's status as a financial center and an important Asian gateway for Western companies will protect its press freedoms. \"You can't have an international finance center without freedom of the speech and press,\" he said.— Jessie Yeung, Ivan Watson and James Griffiths contributed to this article.\n",
      "\n",
      "\n",
      "\n",
      "\n",
      "\n",
      "\n",
      "\n"
     ]
    }
   ],
   "source": [
    "for news in bsobj.findAll('div',{'class':'l-container'}):\n",
    "    print(news.text.strip())"
   ]
  },
  {
   "cell_type": "markdown",
   "metadata": {},
   "source": [
    "Looks like `— Jessie Yeung, Ivan Watson and James Griffiths contributed to this article.` will need to be removed below."
   ]
  },
  {
   "cell_type": "markdown",
   "metadata": {},
   "source": [
    "**Clean | Send to DataFrame**<a id='2.5_review'></a>"
   ]
  },
  {
   "cell_type": "markdown",
   "metadata": {},
   "source": [
    "First the date from string to a datetime object."
   ]
  },
  {
   "cell_type": "code",
   "execution_count": 166,
   "metadata": {},
   "outputs": [],
   "source": [
    "for day in bsobj.find('div',{'class':'metadata__info js-byline-images'}):\n",
    "    day_pub = day.text.strip()"
   ]
  },
  {
   "cell_type": "code",
   "execution_count": 167,
   "metadata": {},
   "outputs": [
    {
     "data": {
      "text/plain": [
       "'Updated 9:53 AM ET, Fri July 3, 2020'"
      ]
     },
     "execution_count": 167,
     "metadata": {},
     "output_type": "execute_result"
    }
   ],
   "source": [
    "day_pub"
   ]
  },
  {
   "cell_type": "code",
   "execution_count": 168,
   "metadata": {},
   "outputs": [
    {
     "data": {
      "text/plain": [
       "datetime.date(2020, 7, 3)"
      ]
     },
     "execution_count": 168,
     "metadata": {},
     "output_type": "execute_result"
    }
   ],
   "source": [
    "day_pub = re.sub('Updated 9:53 AM ET, Fri ','',day_pub)\n",
    "day_pub = re.sub(', ',' ',day_pub)\n",
    "day_pub = re.sub('July','07',day_pub)\n",
    "day_pub = re.sub(' ','-',day_pub)\n",
    "day_pub = datetime.strptime(day_pub, '%m-%d-%Y').date()\n",
    "day_pub"
   ]
  },
  {
   "cell_type": "code",
   "execution_count": 169,
   "metadata": {},
   "outputs": [],
   "source": [
    "df_date = pd.DataFrame([day_pub])"
   ]
  },
  {
   "cell_type": "code",
   "execution_count": 170,
   "metadata": {},
   "outputs": [
    {
     "data": {
      "text/plain": [
       "pandas.core.frame.DataFrame"
      ]
     },
     "execution_count": 170,
     "metadata": {},
     "output_type": "execute_result"
    }
   ],
   "source": [
    "type(df_date)"
   ]
  },
  {
   "cell_type": "code",
   "execution_count": 171,
   "metadata": {},
   "outputs": [
    {
     "data": {
      "text/html": [
       "<div>\n",
       "<style scoped>\n",
       "    .dataframe tbody tr th:only-of-type {\n",
       "        vertical-align: middle;\n",
       "    }\n",
       "\n",
       "    .dataframe tbody tr th {\n",
       "        vertical-align: top;\n",
       "    }\n",
       "\n",
       "    .dataframe thead th {\n",
       "        text-align: right;\n",
       "    }\n",
       "</style>\n",
       "<table border=\"1\" class=\"dataframe\">\n",
       "  <thead>\n",
       "    <tr style=\"text-align: right;\">\n",
       "      <th></th>\n",
       "      <th>0</th>\n",
       "    </tr>\n",
       "  </thead>\n",
       "  <tbody>\n",
       "    <tr>\n",
       "      <th>0</th>\n",
       "      <td>2020-07-03</td>\n",
       "    </tr>\n",
       "  </tbody>\n",
       "</table>\n",
       "</div>"
      ],
      "text/plain": [
       "            0\n",
       "0  2020-07-03"
      ]
     },
     "execution_count": 171,
     "metadata": {},
     "output_type": "execute_result"
    }
   ],
   "source": [
    "df_date"
   ]
  },
  {
   "cell_type": "markdown",
   "metadata": {},
   "source": [
    "Now the title."
   ]
  },
  {
   "cell_type": "code",
   "execution_count": 172,
   "metadata": {},
   "outputs": [],
   "source": [
    "for title_s in bsobj.findAll(\"h1\"):\n",
    "    title_list = format(title_s.text)"
   ]
  },
  {
   "cell_type": "code",
   "execution_count": 173,
   "metadata": {},
   "outputs": [],
   "source": [
    "df_title = pd.DataFrame([title_list])"
   ]
  },
  {
   "cell_type": "code",
   "execution_count": 174,
   "metadata": {},
   "outputs": [
    {
     "data": {
      "text/html": [
       "<div>\n",
       "<style scoped>\n",
       "    .dataframe tbody tr th:only-of-type {\n",
       "        vertical-align: middle;\n",
       "    }\n",
       "\n",
       "    .dataframe tbody tr th {\n",
       "        vertical-align: top;\n",
       "    }\n",
       "\n",
       "    .dataframe thead th {\n",
       "        text-align: right;\n",
       "    }\n",
       "</style>\n",
       "<table border=\"1\" class=\"dataframe\">\n",
       "  <thead>\n",
       "    <tr style=\"text-align: right;\">\n",
       "      <th></th>\n",
       "      <th>0</th>\n",
       "    </tr>\n",
       "  </thead>\n",
       "  <tbody>\n",
       "    <tr>\n",
       "      <th>0</th>\n",
       "      <td>Hong Kong's security law could have a chilling...</td>\n",
       "    </tr>\n",
       "  </tbody>\n",
       "</table>\n",
       "</div>"
      ],
      "text/plain": [
       "                                                   0\n",
       "0  Hong Kong's security law could have a chilling..."
      ]
     },
     "execution_count": 174,
     "metadata": {},
     "output_type": "execute_result"
    }
   ],
   "source": [
    "df_title"
   ]
  },
  {
   "cell_type": "code",
   "execution_count": 175,
   "metadata": {},
   "outputs": [
    {
     "data": {
      "text/plain": [
       "pandas.core.frame.DataFrame"
      ]
     },
     "execution_count": 175,
     "metadata": {},
     "output_type": "execute_result"
    }
   ],
   "source": [
    "type(df_title)"
   ]
  },
  {
   "cell_type": "markdown",
   "metadata": {},
   "source": [
    "These two items are manually added."
   ]
  },
  {
   "cell_type": "code",
   "execution_count": 177,
   "metadata": {},
   "outputs": [],
   "source": [
    "country = 'US'\n",
    "df_country = pd.DataFrame([country])\n",
    "source = 'CNN'\n",
    "df_source = pd.DataFrame([source])\n",
    "file_name = 'cnn_11'\n",
    "df_file_name = pd.DataFrame([file_name])\n"
   ]
  },
  {
   "cell_type": "markdown",
   "metadata": {},
   "source": [
    "Finally, the news."
   ]
  },
  {
   "cell_type": "code",
   "execution_count": 178,
   "metadata": {},
   "outputs": [],
   "source": [
    "news1 = []\n",
    "for news in bsobj.findAll('div',{'class':'l-container'}):\n",
    "    news1.append(news.text.strip())"
   ]
  },
  {
   "cell_type": "code",
   "execution_count": 179,
   "metadata": {},
   "outputs": [
    {
     "data": {
      "text/plain": [
       "['Hong Kong\\'s security law could have a chilling effect on press freedomBy Hadas Gold, CNN BusinessUpdated 9:53 AM ET, Fri July 3, 2020 JUST WATCHEDHong Kong official: National security law will be \\'clean break\\'ReplayMore Videos ...MUST WATCH (16 Videos)Hong Kong official: National security law will be \\'clean break\\'Inside the logistics system behind AlibabaSee rescue effort to save dozens of puppies from \\'mystery box\\' online saleWestern brands slammed in China over Xinjiang stanceHong Kong media tycoon\\'s long battle for freedomFacebook: Chinese hackers targeted Uyghurs living in USAustralia\\'s wine industry battered as relations with China sour US-China tech rivalry will likely continue under Biden presidency. Here\\'s why See Jack Ma\\'s first public appearance in monthsChina\\'s economy grows 2.3% in 2020Trump administration dials up US-China tech tensionsHow China\\'s Ant Group built a $17 trillion payments machineHSBC may have to choose between China and the WestChina censors a lot, from Winnie the Pooh to the NBAHow Jack Ma changed ChinaWhy American fast food chains will do anything to win in ChinaLondon (CNN Business)Hong Kong insists its vibrant community of journalists has nothing to fear from the national security legislation China imposed on the city this week. But press freedom advocates worry about creeping self-censorship, and there are signs that the new law may already be having a chilling effect.In what was once seen as a safe haven of free speech for local and foreign news organizations operating in the region, journalists and their sources are growing increasingly wary that as China takes a firmer grip on Hong Kong, they could be prosecuted. The new law applies to any person in Hong Kong, both locals and foreign nationals. It criminalizes actions like calling for Hong Kong independence, or working with a foreign entity \"to incite hatred\" toward the Chinese government. A new enforcement committee will \"strengthen the management\" of NGOs and media working in Hong Kong. The police will also have new powers to search premises, wiretap suspects and order people to \"delete information or provide assistance.\" Article 4 of the law says \"the freedoms of speech, of the press, of publication, of association, of assembly, of procession and of demonstration\" will be protected. But it also criminalizes the leaking of \"state secrets,\" a vague term commonly used in China to cover a range of issues deemed to be in the national interest and which has been used in the past to imprison journalists like Gao Yu on the mainland. That could deter both journalists and sources from reporting or collaborating on stories relating to government affairs. Why China\\'s national security law could change Hong Kong foreverHong Kong holds a unique position in the region, as it is home to the only free press in any area or territory administered by the Chinese government. But there\\'s been no clear guidance on what the new security law means for the city\\'s long-established media community.Read MoreDeliberate ambiguity That the legislation lacks specifics is deliberate, not an omission, according to experts such as Sophie Richardson, China Director of Human Rights Watch (HRW).\"This law is so vague and so overboard that it could potentially apply to just about any kind of behavior or speech and that\\'s exactly the Chinese government\\'s goal: It wants everyone to start and think \\'Oh wait a minute does this constitute sedition? Oh wait a minute, is that collusion?\\'\" Richardson said. The vague nature of the law will lead to self-censorship, which may be precisely what Beijing wants, said Steven Butler, Asia director for the Committee To Protect Journalists (CPJ).\"The Chinese Communist Party may achieve what it wants to achieve without ever having to enforce the law,\" he said.Both Butler and Richardson said the new law could bring Hong Kong more in line with how the media is treated in China, one of the worst countries in the world for press freedom according to Reporters Without Borders and where self-censorship is commonplace.How the national security law is bringing China\\'s authoritarian legal system to Hong KongHong Kong Chief Executive Carrie Lam has asserted that it won\\'t affect freedom of speech, enshrined in the city\\'s 1997 de facto constitution called the Basic Law. But the new law may supersede such protections, Butler said.When asked by CNN in a press conference on Wednesday whether people would be allowed to criticize the new law, Lam said: \"If individuals including reporters from CNN are discharging their role and feel something is not right and want to criticize then I don\\'t see why that would be an offense under this law.\"But, she warned, \"If there is more, if you are involved in organizing or colluding that\\'s another matter. It\\'s a question of evidence and the law.\"Dire consequences?Press freedoms in Hong Kong have been under pressure in recent years, Butler said, adding that reporters covering pro-democracy protests in the city have been targeted by police. In 2018, the Financial Times\\' Asia news editor Victor Mallet was denied a routine extension of his visa, months after he moderated a debate at the Foreign Correspondents\\' Club that featured a pro-independence activist.For journalists who are Hong Kong citizens, the consequences of breaking the new law could be dire. They could be tried behind closed doors and sentenced to life imprisonment. Those found guilty of participating or assisting in crimes can also face between three and 10 years in jail. Hong Kong authorities have not outlined any specifics on how the new enforcement committee for managing media will affect foreign reporters, who — unlike their counterparts in mainland China — do not require specific journalist visas. China hits back at US with new media restrictions as tensions riseThose visas for foreign reporters in mainland China come with strict oversight and the government has in the past expelled journalists, including around a dozen recently from the New York Times, Wall Street Journal and Washington Post.Then there are the sources and interview subjects, many of whom are likely to be even more wary of speaking to the media — something reporters in mainland China already struggle with, HRW\\'s Richardson said.Butler, at the CPJ, said in recent days that journalists have already been asked by sources and interview subjects to delete previous articles or communications with sources that could be viewed as seditious. CNN, which has a major bureau in the city, has spoken to sources who have expressed reluctance to participate in interviews. Within hours of the bill\\'s passage, sources asked that past WhatsApp chats be deleted and expressed caution about being quoted in articles about the law.Waiting for \\'test\\' casesButler and Richardson said it is only a matter of time before there is a \"test case,\" where a reporter will be tried under the new law. \"I won\\'t be surprised if some journalists wind up being charged under this law at some point in the not too distant future,\" Richardson said. For now, news organizations and press freedom advocates can only try to lobby the Hong Kong government.Security law could hurt Hong Kong as a global business hub\"Hong Kong has been a leader in supporting the rights of a free press in Asia for decades and it is essential that it continues to do so, particularly given the treatment of members of the independent press within mainland China and the global nature of the coronavirus pandemic,\" a New York Times spokesperson told CNN Business, adding that it is closely monitoring the situation. Butler said he hopes Hong Kong\\'s status as a financial center and an important Asian gateway for Western companies will protect its press freedoms. \"You can\\'t have an international finance center without freedom of the speech and press,\" he said.— Jessie Yeung, Ivan Watson and James Griffiths contributed to this article.',\n",
       " \"JUST WATCHEDHong Kong official: National security law will be 'clean break'ReplayMore Videos ...MUST WATCH (16 Videos)Hong Kong official: National security law will be 'clean break'Inside the logistics system behind AlibabaSee rescue effort to save dozens of puppies from 'mystery box' online saleWestern brands slammed in China over Xinjiang stanceHong Kong media tycoon's long battle for freedomFacebook: Chinese hackers targeted Uyghurs living in USAustralia's wine industry battered as relations with China sour US-China tech rivalry will likely continue under Biden presidency. Here's why See Jack Ma's first public appearance in monthsChina's economy grows 2.3% in 2020Trump administration dials up US-China tech tensionsHow China's Ant Group built a $17 trillion payments machineHSBC may have to choose between China and the WestChina censors a lot, from Winnie the Pooh to the NBAHow Jack Ma changed ChinaWhy American fast food chains will do anything to win in China\",\n",
       " \"JUST WATCHEDHong Kong official: National security law will be 'clean break'ReplayMore Videos ...MUST WATCH\",\n",
       " 'London (CNN Business)Hong Kong insists its vibrant community of journalists has nothing to fear from the national security legislation China imposed on the city this week. But press freedom advocates worry about creeping self-censorship, and there are signs that the new law may already be having a chilling effect.In what was once seen as a safe haven of free speech for local and foreign news organizations operating in the region, journalists and their sources are growing increasingly wary that as China takes a firmer grip on Hong Kong, they could be prosecuted. The new law applies to any person in Hong Kong, both locals and foreign nationals. It criminalizes actions like calling for Hong Kong independence, or working with a foreign entity \"to incite hatred\" toward the Chinese government. A new enforcement committee will \"strengthen the management\" of NGOs and media working in Hong Kong. The police will also have new powers to search premises, wiretap suspects and order people to \"delete information or provide assistance.\" Article 4 of the law says \"the freedoms of speech, of the press, of publication, of association, of assembly, of procession and of demonstration\" will be protected. But it also criminalizes the leaking of \"state secrets,\" a vague term commonly used in China to cover a range of issues deemed to be in the national interest and which has been used in the past to imprison journalists like Gao Yu on the mainland. That could deter both journalists and sources from reporting or collaborating on stories relating to government affairs. Why China\\'s national security law could change Hong Kong foreverHong Kong holds a unique position in the region, as it is home to the only free press in any area or territory administered by the Chinese government. But there\\'s been no clear guidance on what the new security law means for the city\\'s long-established media community.Read MoreDeliberate ambiguity That the legislation lacks specifics is deliberate, not an omission, according to experts such as Sophie Richardson, China Director of Human Rights Watch (HRW).\"This law is so vague and so overboard that it could potentially apply to just about any kind of behavior or speech and that\\'s exactly the Chinese government\\'s goal: It wants everyone to start and think \\'Oh wait a minute does this constitute sedition? Oh wait a minute, is that collusion?\\'\" Richardson said. The vague nature of the law will lead to self-censorship, which may be precisely what Beijing wants, said Steven Butler, Asia director for the Committee To Protect Journalists (CPJ).\"The Chinese Communist Party may achieve what it wants to achieve without ever having to enforce the law,\" he said.Both Butler and Richardson said the new law could bring Hong Kong more in line with how the media is treated in China, one of the worst countries in the world for press freedom according to Reporters Without Borders and where self-censorship is commonplace.How the national security law is bringing China\\'s authoritarian legal system to Hong KongHong Kong Chief Executive Carrie Lam has asserted that it won\\'t affect freedom of speech, enshrined in the city\\'s 1997 de facto constitution called the Basic Law. But the new law may supersede such protections, Butler said.When asked by CNN in a press conference on Wednesday whether people would be allowed to criticize the new law, Lam said: \"If individuals including reporters from CNN are discharging their role and feel something is not right and want to criticize then I don\\'t see why that would be an offense under this law.\"But, she warned, \"If there is more, if you are involved in organizing or colluding that\\'s another matter. It\\'s a question of evidence and the law.\"Dire consequences?Press freedoms in Hong Kong have been under pressure in recent years, Butler said, adding that reporters covering pro-democracy protests in the city have been targeted by police. In 2018, the Financial Times\\' Asia news editor Victor Mallet was denied a routine extension of his visa, months after he moderated a debate at the Foreign Correspondents\\' Club that featured a pro-independence activist.For journalists who are Hong Kong citizens, the consequences of breaking the new law could be dire. They could be tried behind closed doors and sentenced to life imprisonment. Those found guilty of participating or assisting in crimes can also face between three and 10 years in jail. Hong Kong authorities have not outlined any specifics on how the new enforcement committee for managing media will affect foreign reporters, who — unlike their counterparts in mainland China — do not require specific journalist visas. China hits back at US with new media restrictions as tensions riseThose visas for foreign reporters in mainland China come with strict oversight and the government has in the past expelled journalists, including around a dozen recently from the New York Times, Wall Street Journal and Washington Post.Then there are the sources and interview subjects, many of whom are likely to be even more wary of speaking to the media — something reporters in mainland China already struggle with, HRW\\'s Richardson said.Butler, at the CPJ, said in recent days that journalists have already been asked by sources and interview subjects to delete previous articles or communications with sources that could be viewed as seditious. CNN, which has a major bureau in the city, has spoken to sources who have expressed reluctance to participate in interviews. Within hours of the bill\\'s passage, sources asked that past WhatsApp chats be deleted and expressed caution about being quoted in articles about the law.Waiting for \\'test\\' casesButler and Richardson said it is only a matter of time before there is a \"test case,\" where a reporter will be tried under the new law. \"I won\\'t be surprised if some journalists wind up being charged under this law at some point in the not too distant future,\" Richardson said. For now, news organizations and press freedom advocates can only try to lobby the Hong Kong government.Security law could hurt Hong Kong as a global business hub\"Hong Kong has been a leader in supporting the rights of a free press in Asia for decades and it is essential that it continues to do so, particularly given the treatment of members of the independent press within mainland China and the global nature of the coronavirus pandemic,\" a New York Times spokesperson told CNN Business, adding that it is closely monitoring the situation. Butler said he hopes Hong Kong\\'s status as a financial center and an important Asian gateway for Western companies will protect its press freedoms. \"You can\\'t have an international finance center without freedom of the speech and press,\" he said.— Jessie Yeung, Ivan Watson and James Griffiths contributed to this article.',\n",
       " '',\n",
       " '',\n",
       " '',\n",
       " '',\n",
       " '',\n",
       " '',\n",
       " '']"
      ]
     },
     "execution_count": 179,
     "metadata": {},
     "output_type": "execute_result"
    }
   ],
   "source": [
    "news1"
   ]
  },
  {
   "cell_type": "markdown",
   "metadata": {},
   "source": [
    "There's a lot to delete at the top & bottom. Let's start at the bottom."
   ]
  },
  {
   "cell_type": "code",
   "execution_count": 180,
   "metadata": {},
   "outputs": [
    {
     "data": {
      "text/plain": [
       "11"
      ]
     },
     "execution_count": 180,
     "metadata": {},
     "output_type": "execute_result"
    }
   ],
   "source": [
    "len(news1)"
   ]
  },
  {
   "cell_type": "code",
   "execution_count": 181,
   "metadata": {},
   "outputs": [],
   "source": [
    "n = 7\n",
    "news1 = news1[:len(news1)-n]"
   ]
  },
  {
   "cell_type": "code",
   "execution_count": 182,
   "metadata": {},
   "outputs": [
    {
     "data": {
      "text/plain": [
       "'London (CNN Business)Hong Kong insists its vibrant community of journalists has nothing to fear from the national security legislation China imposed on the city this week. But press freedom advocates worry about creeping self-censorship, and there are signs that the new law may already be having a chilling effect.In what was once seen as a safe haven of free speech for local and foreign news organizations operating in the region, journalists and their sources are growing increasingly wary that as China takes a firmer grip on Hong Kong, they could be prosecuted. The new law applies to any person in Hong Kong, both locals and foreign nationals. It criminalizes actions like calling for Hong Kong independence, or working with a foreign entity \"to incite hatred\" toward the Chinese government. A new enforcement committee will \"strengthen the management\" of NGOs and media working in Hong Kong. The police will also have new powers to search premises, wiretap suspects and order people to \"delete information or provide assistance.\" Article 4 of the law says \"the freedoms of speech, of the press, of publication, of association, of assembly, of procession and of demonstration\" will be protected. But it also criminalizes the leaking of \"state secrets,\" a vague term commonly used in China to cover a range of issues deemed to be in the national interest and which has been used in the past to imprison journalists like Gao Yu on the mainland. That could deter both journalists and sources from reporting or collaborating on stories relating to government affairs. Why China\\'s national security law could change Hong Kong foreverHong Kong holds a unique position in the region, as it is home to the only free press in any area or territory administered by the Chinese government. But there\\'s been no clear guidance on what the new security law means for the city\\'s long-established media community.Read MoreDeliberate ambiguity That the legislation lacks specifics is deliberate, not an omission, according to experts such as Sophie Richardson, China Director of Human Rights Watch (HRW).\"This law is so vague and so overboard that it could potentially apply to just about any kind of behavior or speech and that\\'s exactly the Chinese government\\'s goal: It wants everyone to start and think \\'Oh wait a minute does this constitute sedition? Oh wait a minute, is that collusion?\\'\" Richardson said. The vague nature of the law will lead to self-censorship, which may be precisely what Beijing wants, said Steven Butler, Asia director for the Committee To Protect Journalists (CPJ).\"The Chinese Communist Party may achieve what it wants to achieve without ever having to enforce the law,\" he said.Both Butler and Richardson said the new law could bring Hong Kong more in line with how the media is treated in China, one of the worst countries in the world for press freedom according to Reporters Without Borders and where self-censorship is commonplace.How the national security law is bringing China\\'s authoritarian legal system to Hong KongHong Kong Chief Executive Carrie Lam has asserted that it won\\'t affect freedom of speech, enshrined in the city\\'s 1997 de facto constitution called the Basic Law. But the new law may supersede such protections, Butler said.When asked by CNN in a press conference on Wednesday whether people would be allowed to criticize the new law, Lam said: \"If individuals including reporters from CNN are discharging their role and feel something is not right and want to criticize then I don\\'t see why that would be an offense under this law.\"But, she warned, \"If there is more, if you are involved in organizing or colluding that\\'s another matter. It\\'s a question of evidence and the law.\"Dire consequences?Press freedoms in Hong Kong have been under pressure in recent years, Butler said, adding that reporters covering pro-democracy protests in the city have been targeted by police. In 2018, the Financial Times\\' Asia news editor Victor Mallet was denied a routine extension of his visa, months after he moderated a debate at the Foreign Correspondents\\' Club that featured a pro-independence activist.For journalists who are Hong Kong citizens, the consequences of breaking the new law could be dire. They could be tried behind closed doors and sentenced to life imprisonment. Those found guilty of participating or assisting in crimes can also face between three and 10 years in jail. Hong Kong authorities have not outlined any specifics on how the new enforcement committee for managing media will affect foreign reporters, who — unlike their counterparts in mainland China — do not require specific journalist visas. China hits back at US with new media restrictions as tensions riseThose visas for foreign reporters in mainland China come with strict oversight and the government has in the past expelled journalists, including around a dozen recently from the New York Times, Wall Street Journal and Washington Post.Then there are the sources and interview subjects, many of whom are likely to be even more wary of speaking to the media — something reporters in mainland China already struggle with, HRW\\'s Richardson said.Butler, at the CPJ, said in recent days that journalists have already been asked by sources and interview subjects to delete previous articles or communications with sources that could be viewed as seditious. CNN, which has a major bureau in the city, has spoken to sources who have expressed reluctance to participate in interviews. Within hours of the bill\\'s passage, sources asked that past WhatsApp chats be deleted and expressed caution about being quoted in articles about the law.Waiting for \\'test\\' casesButler and Richardson said it is only a matter of time before there is a \"test case,\" where a reporter will be tried under the new law. \"I won\\'t be surprised if some journalists wind up being charged under this law at some point in the not too distant future,\" Richardson said. For now, news organizations and press freedom advocates can only try to lobby the Hong Kong government.Security law could hurt Hong Kong as a global business hub\"Hong Kong has been a leader in supporting the rights of a free press in Asia for decades and it is essential that it continues to do so, particularly given the treatment of members of the independent press within mainland China and the global nature of the coronavirus pandemic,\" a New York Times spokesperson told CNN Business, adding that it is closely monitoring the situation. Butler said he hopes Hong Kong\\'s status as a financial center and an important Asian gateway for Western companies will protect its press freedoms. \"You can\\'t have an international finance center without freedom of the speech and press,\" he said.— Jessie Yeung, Ivan Watson and James Griffiths contributed to this article.'"
      ]
     },
     "execution_count": 182,
     "metadata": {},
     "output_type": "execute_result"
    }
   ],
   "source": [
    "news1[-1]"
   ]
  },
  {
   "cell_type": "markdown",
   "metadata": {},
   "source": [
    "The meat is now at the end; let's reassign."
   ]
  },
  {
   "cell_type": "code",
   "execution_count": 183,
   "metadata": {},
   "outputs": [],
   "source": [
    "news1 = news1[-1]"
   ]
  },
  {
   "cell_type": "code",
   "execution_count": 184,
   "metadata": {},
   "outputs": [],
   "source": [
    "news1 = re.sub('— Jessie Yeung, Ivan Watson and James Griffiths contributed to this article.','',news1)"
   ]
  },
  {
   "cell_type": "code",
   "execution_count": 185,
   "metadata": {},
   "outputs": [],
   "source": [
    "df_news = pd.DataFrame([news1])"
   ]
  },
  {
   "cell_type": "code",
   "execution_count": 186,
   "metadata": {},
   "outputs": [
    {
     "data": {
      "text/plain": [
       "pandas.core.frame.DataFrame"
      ]
     },
     "execution_count": 186,
     "metadata": {},
     "output_type": "execute_result"
    }
   ],
   "source": [
    "type(df_news)"
   ]
  },
  {
   "cell_type": "code",
   "execution_count": 187,
   "metadata": {},
   "outputs": [
    {
     "data": {
      "text/html": [
       "<div>\n",
       "<style scoped>\n",
       "    .dataframe tbody tr th:only-of-type {\n",
       "        vertical-align: middle;\n",
       "    }\n",
       "\n",
       "    .dataframe tbody tr th {\n",
       "        vertical-align: top;\n",
       "    }\n",
       "\n",
       "    .dataframe thead th {\n",
       "        text-align: right;\n",
       "    }\n",
       "</style>\n",
       "<table border=\"1\" class=\"dataframe\">\n",
       "  <thead>\n",
       "    <tr style=\"text-align: right;\">\n",
       "      <th></th>\n",
       "      <th>0</th>\n",
       "    </tr>\n",
       "  </thead>\n",
       "  <tbody>\n",
       "    <tr>\n",
       "      <th>0</th>\n",
       "      <td>London (CNN Business)Hong Kong insists its vib...</td>\n",
       "    </tr>\n",
       "  </tbody>\n",
       "</table>\n",
       "</div>"
      ],
      "text/plain": [
       "                                                   0\n",
       "0  London (CNN Business)Hong Kong insists its vib..."
      ]
     },
     "execution_count": 187,
     "metadata": {},
     "output_type": "execute_result"
    }
   ],
   "source": [
    "df_news"
   ]
  },
  {
   "cell_type": "code",
   "execution_count": 188,
   "metadata": {},
   "outputs": [],
   "source": [
    "df_news.columns = ['Article']"
   ]
  },
  {
   "cell_type": "code",
   "execution_count": 189,
   "metadata": {},
   "outputs": [
    {
     "data": {
      "text/html": [
       "<div>\n",
       "<style scoped>\n",
       "    .dataframe tbody tr th:only-of-type {\n",
       "        vertical-align: middle;\n",
       "    }\n",
       "\n",
       "    .dataframe tbody tr th {\n",
       "        vertical-align: top;\n",
       "    }\n",
       "\n",
       "    .dataframe thead th {\n",
       "        text-align: right;\n",
       "    }\n",
       "</style>\n",
       "<table border=\"1\" class=\"dataframe\">\n",
       "  <thead>\n",
       "    <tr style=\"text-align: right;\">\n",
       "      <th></th>\n",
       "      <th>Article</th>\n",
       "    </tr>\n",
       "  </thead>\n",
       "  <tbody>\n",
       "    <tr>\n",
       "      <th>0</th>\n",
       "      <td>London (CNN Business)Hong Kong insists its vib...</td>\n",
       "    </tr>\n",
       "  </tbody>\n",
       "</table>\n",
       "</div>"
      ],
      "text/plain": [
       "                                             Article\n",
       "0  London (CNN Business)Hong Kong insists its vib..."
      ]
     },
     "execution_count": 189,
     "metadata": {},
     "output_type": "execute_result"
    }
   ],
   "source": [
    "df_news.head()"
   ]
  },
  {
   "cell_type": "markdown",
   "metadata": {},
   "source": [
    "**Bringing it together.**<a id='2.5_bit'></a>"
   ]
  },
  {
   "cell_type": "code",
   "execution_count": 190,
   "metadata": {},
   "outputs": [],
   "source": [
    "df_11_cnn = pd.concat([df_file_name,df_date,df_source,df_country,df_title,df_news],axis = 1, ignore_index=False)"
   ]
  },
  {
   "cell_type": "code",
   "execution_count": 191,
   "metadata": {},
   "outputs": [],
   "source": [
    "df_11_cnn.columns = ['file_name','date','source','country','title','article']"
   ]
  },
  {
   "cell_type": "code",
   "execution_count": 192,
   "metadata": {},
   "outputs": [
    {
     "data": {
      "text/html": [
       "<div>\n",
       "<style scoped>\n",
       "    .dataframe tbody tr th:only-of-type {\n",
       "        vertical-align: middle;\n",
       "    }\n",
       "\n",
       "    .dataframe tbody tr th {\n",
       "        vertical-align: top;\n",
       "    }\n",
       "\n",
       "    .dataframe thead th {\n",
       "        text-align: right;\n",
       "    }\n",
       "</style>\n",
       "<table border=\"1\" class=\"dataframe\">\n",
       "  <thead>\n",
       "    <tr style=\"text-align: right;\">\n",
       "      <th></th>\n",
       "      <th>file_name</th>\n",
       "      <th>date</th>\n",
       "      <th>source</th>\n",
       "      <th>country</th>\n",
       "      <th>title</th>\n",
       "      <th>article</th>\n",
       "    </tr>\n",
       "  </thead>\n",
       "  <tbody>\n",
       "    <tr>\n",
       "      <th>0</th>\n",
       "      <td>cnn_11</td>\n",
       "      <td>2020-07-03</td>\n",
       "      <td>CNN</td>\n",
       "      <td>US</td>\n",
       "      <td>Hong Kong's security law could have a chilling...</td>\n",
       "      <td>London (CNN Business)Hong Kong insists its vib...</td>\n",
       "    </tr>\n",
       "  </tbody>\n",
       "</table>\n",
       "</div>"
      ],
      "text/plain": [
       "  file_name        date source country  \\\n",
       "0    cnn_11  2020-07-03    CNN      US   \n",
       "\n",
       "                                               title  \\\n",
       "0  Hong Kong's security law could have a chilling...   \n",
       "\n",
       "                                             article  \n",
       "0  London (CNN Business)Hong Kong insists its vib...  "
      ]
     },
     "execution_count": 192,
     "metadata": {},
     "output_type": "execute_result"
    }
   ],
   "source": [
    "df_11_cnn.head()"
   ]
  },
  {
   "cell_type": "code",
   "execution_count": null,
   "metadata": {},
   "outputs": [],
   "source": []
  },
  {
   "cell_type": "markdown",
   "metadata": {},
   "source": [
    "**Saving**<a id='2.6_save'></a>"
   ]
  },
  {
   "cell_type": "code",
   "execution_count": 193,
   "metadata": {},
   "outputs": [
    {
     "name": "stdout",
     "output_type": "stream",
     "text": [
      "C:\\Users\\rands\n"
     ]
    }
   ],
   "source": [
    "cd"
   ]
  },
  {
   "cell_type": "markdown",
   "metadata": {},
   "source": [
    "Saving it to Excel."
   ]
  },
  {
   "cell_type": "code",
   "execution_count": 194,
   "metadata": {},
   "outputs": [
    {
     "name": "stdout",
     "output_type": "stream",
     "text": [
      "Complete\n"
     ]
    }
   ],
   "source": [
    "# df = pd.DataFrame(reviewlist)\n",
    "\n",
    "# index=False below so that we don't get the dataframe index on the side; we just use the excel index\n",
    "df_11_cnn.to_csv('./_Capstone_Two_NLP/data/_news/cnn_11.csv', index=False)\n",
    "\n",
    "print('Complete')"
   ]
  },
  {
   "cell_type": "code",
   "execution_count": null,
   "metadata": {},
   "outputs": [],
   "source": []
  }
 ],
 "metadata": {
  "kernelspec": {
   "display_name": "Python 3",
   "language": "python",
   "name": "python3"
  },
  "language_info": {
   "codemirror_mode": {
    "name": "ipython",
    "version": 3
   },
   "file_extension": ".py",
   "mimetype": "text/x-python",
   "name": "python",
   "nbconvert_exporter": "python",
   "pygments_lexer": "ipython3",
   "version": "3.8.5"
  },
  "varInspector": {
   "cols": {
    "lenName": 16,
    "lenType": 16,
    "lenVar": 40
   },
   "kernels_config": {
    "python": {
     "delete_cmd_postfix": "",
     "delete_cmd_prefix": "del ",
     "library": "var_list.py",
     "varRefreshCmd": "print(var_dic_list())"
    },
    "r": {
     "delete_cmd_postfix": ") ",
     "delete_cmd_prefix": "rm(",
     "library": "var_list.r",
     "varRefreshCmd": "cat(var_dic_list()) "
    }
   },
   "types_to_exclude": [
    "module",
    "function",
    "builtin_function_or_method",
    "instance",
    "_Feature"
   ],
   "window_display": false
  }
 },
 "nbformat": 4,
 "nbformat_minor": 4
}
