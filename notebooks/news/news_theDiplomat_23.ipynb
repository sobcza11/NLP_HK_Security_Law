{
 "cells": [
  {
   "cell_type": "markdown",
   "metadata": {},
   "source": [
    "# Scraping HK Water and Fire from the Diplomat"
   ]
  },
  {
   "cell_type": "markdown",
   "metadata": {},
   "source": [
    "## 2.1 Contents<a id='2.1_Contents'></a>\n",
    "* [2.1 Importing Relevant Tools](#2.1_Importing)\n",
    "* [2.2 Defining the Request](#2.2_URL)\n",
    "* [2.3 Grab | Date](#2.4_scrape_date)\n",
    "* [2.4 Grab | Header](#2.4_scrape_header)\n",
    "* [2.5 Grab | Content](#2.4_scrape_content)\n",
    "* [2.6 Clean | Send to DataFrame](#2.5_review)\n",
    "* [2.7 Save](#2.6_save)\n"
   ]
  },
  {
   "cell_type": "markdown",
   "metadata": {},
   "source": [
    "**Importing Relevant Tools**<a id='2.1_Importing'></a>"
   ]
  },
  {
   "cell_type": "code",
   "execution_count": 96,
   "metadata": {},
   "outputs": [],
   "source": [
    "import json\n",
    "import pandas as pd\n",
    "from bs4 import BeautifulSoup as soup\n",
    "import requests\n",
    "import csv\n",
    "import re\n",
    "import pickle\n",
    "from pprint import pprint\n",
    "\n",
    "%reload_ext watermark"
   ]
  },
  {
   "cell_type": "code",
   "execution_count": 97,
   "metadata": {},
   "outputs": [],
   "source": [
    "#the below needs to be reviewed for all websites; notably the time format\n",
    "\n",
    "from datetime import date\n",
    "from datetime import datetime\n",
    "today = date.today()\n",
    "d = today.strftime(\"%m-%d-%y\")"
   ]
  },
  {
   "cell_type": "markdown",
   "metadata": {},
   "source": [
    "For reference."
   ]
  },
  {
   "cell_type": "code",
   "execution_count": 98,
   "metadata": {},
   "outputs": [
    {
     "name": "stdout",
     "output_type": "stream",
     "text": [
      "Python implementation: CPython\n",
      "Python version       : 3.8.5\n",
      "IPython version      : 7.19.0\n",
      "\n",
      "pandas: 1.1.3\n",
      "\n"
     ]
    }
   ],
   "source": [
    "%watermark -d -t -v -p pandas"
   ]
  },
  {
   "cell_type": "markdown",
   "metadata": {},
   "source": [
    "**Defining the Request**<a id='2.2_URL'></a>"
   ]
  },
  {
   "cell_type": "code",
   "execution_count": 99,
   "metadata": {},
   "outputs": [
    {
     "data": {
      "text/plain": [
       "'https://thediplomat.com/2020/07/hong-kong-through-water-and-fire/'"
      ]
     },
     "execution_count": 99,
     "metadata": {},
     "output_type": "execute_result"
    }
   ],
   "source": [
    "url = 'https://thediplomat.com/2020/07/hong-kong-through-water-and-fire/'\n",
    "content = requests.get(url).content\n",
    "url"
   ]
  },
  {
   "cell_type": "code",
   "execution_count": 100,
   "metadata": {},
   "outputs": [],
   "source": [
    "soup = soup(content,'html.parser')\n",
    "# bsobj"
   ]
  },
  {
   "cell_type": "markdown",
   "metadata": {},
   "source": [
    "**Grab | Date**<a id='2.4_scrape_date'></a>"
   ]
  },
  {
   "cell_type": "code",
   "execution_count": 101,
   "metadata": {},
   "outputs": [
    {
     "name": "stdout",
     "output_type": "stream",
     "text": [
      "July 01, 2020\n"
     ]
    }
   ],
   "source": [
    "for date in soup.find_all('div',{'class':'td-date'}):\n",
    "    print(date.text.strip())"
   ]
  },
  {
   "cell_type": "markdown",
   "metadata": {},
   "source": [
    "Very workable."
   ]
  },
  {
   "cell_type": "markdown",
   "metadata": {},
   "source": [
    "**Grab | Header**<a id='2.4_scrape_header'></a>"
   ]
  },
  {
   "cell_type": "code",
   "execution_count": 102,
   "metadata": {},
   "outputs": [
    {
     "name": "stdout",
     "output_type": "stream",
     "text": [
      "Hong Kong Through Water and Fire\n"
     ]
    }
   ],
   "source": [
    "for title in soup.findAll('h1',{'id':'td-headline', 'itemprop':'headline'}):\n",
    "    print(title.text.strip())"
   ]
  },
  {
   "cell_type": "code",
   "execution_count": 103,
   "metadata": {},
   "outputs": [],
   "source": [
    "title = title.text.strip()"
   ]
  },
  {
   "cell_type": "code",
   "execution_count": 104,
   "metadata": {},
   "outputs": [],
   "source": [
    "TAG_RE = re.compile(r'<[^>]+>')"
   ]
  },
  {
   "cell_type": "code",
   "execution_count": 105,
   "metadata": {},
   "outputs": [],
   "source": [
    "def remove_tags(text):\n",
    "    return TAG_RE.sub('', text)"
   ]
  },
  {
   "cell_type": "code",
   "execution_count": 106,
   "metadata": {},
   "outputs": [
    {
     "data": {
      "text/plain": [
       "'Hong Kong Through Water and Fire'"
      ]
     },
     "execution_count": 106,
     "metadata": {},
     "output_type": "execute_result"
    }
   ],
   "source": [
    "remove_tags(str(title))"
   ]
  },
  {
   "cell_type": "markdown",
   "metadata": {},
   "source": [
    "Confirmed."
   ]
  },
  {
   "cell_type": "markdown",
   "metadata": {},
   "source": [
    "**Grab | Content**<a id='2.4_scrape_content'></a>"
   ]
  },
  {
   "cell_type": "code",
   "execution_count": 107,
   "metadata": {},
   "outputs": [
    {
     "name": "stdout",
     "output_type": "stream",
     "text": [
      "Features | Politics | Society | East Asia \n",
      "\n",
      "\t\t\t\t\t\tHong Kong Through Water and Fire                    \n",
      "From the mass protests of 2019 to the national security law of 2020.\n",
      "\n",
      "\n",
      "\n",
      "\n",
      "\n",
      "By Sebastian Veg for The Diplomat July 01, 2020\n",
      "\n",
      "\n",
      "\n",
      "\n",
      "\n",
      " \n",
      "\n",
      " \n",
      "\n",
      " \n",
      "\n",
      "\n",
      "\n",
      "\n",
      "\n",
      "\n",
      "\n",
      "\n",
      "Police detain protesters after a protest in Causeway Bay before the annual handover march in Hong Kong, July. 1, 2020. \n",
      "Credit: AP Photo/Kin CheungAdvertisementIt has been a year since the beginning of the anti-extradition law movement, and it seems safe to say that Hong Kong will never be the same. The movement began as a massive pushback across Hong Kong society to resist the government’s proposed bill allowing extradition to mainland China and more generally the growing erosion of Hong Kong’s constitutionally guaranteed “high degree of autonomy.” It therefore began as a “reactive” (in the framework of Charles Tilly) movement, whereas the 2014 Umbrella Movement was arguably more “proactive” in trying to advance a deeper form of democratization.After the unprecedented 1- and 2-million strong peaceful marches that took place on June 9 and June 16, respectively, millions of people mobilized over the course of six months, punctuated by hundreds of marches and gatherings, as well as a number of violent confrontations. At the same time, the movement morphed into a massive if inchoate attempt to resist the “restructuring” of Hong Kong’s basic institutions by Beijing. The government’s unwillingness to make concessions or engage in dialogue fueled a spiral of mutual escalation, in which outraged protesters, whose main claims were supported for most of the period by around 80 percent of Hong Kongers, faced off with a police force that was left alone to deal with political issues that it was not equipped to address and that the government refused to confront. Although withdrawal of the bill was officially announced on September 4 and completed on October 23, the confrontation continued unabated, with growing involvement from the Central Government, further complicating any resolution. Finally, the District Council elections in late November brought an overwhelming though arguably symbolic victory to the pro-democracy camp, allowing for a tentative though fragile, and ultimately short-lived, de-escalation.While the protesters were initially successful in adopting the new tactic to “be water,” in which direct confrontation could be avoided and the movement remained versatile and leaderless, as the summer went on, the call to “burn together” (laamchau) became more dominant. In the course of the movement, over 7,000 people were arrested, over 2,000 were injured, more than 1,300 complaints were filed against the police. Social trust in virtually all of Hong Kong’s institutions was deeply shaken, if not entirely destroyed.Although the extradition bill was withdrawn, the central government in Beijing has now further raised the stakes by imposing national security legislation that threatens to imperil Hong Kong’s basic freedoms more than any decision since the handover. While it is as yet unclear how the law will be applied, its 66 articles contain many causes for concern. Given the severity of the implications, it is perhaps worth pausing to look back at the claims and attempt to untangle the escalating dynamics of the movement in order to understand more clearly where Hong Kong stands today.When 1 million people took to the streets peacefully on June 9, 2019, the target was undoubtedly the unpopular extradition bill, but also more broadly the accumulating encroachments on Hong Kong’s autonomy, which had accelerated since 2015. The erosion of Hong Kong autonomy came in more and more rapid succession: booksellers and a Chinese tycoon disappeared over the border to mainland China, elected lawmakers were disqualified from office by virtue of a Basic Law interpretation that came in the midst of ongoing legal proceedings in Hong Kong, nonviolent participants in the Umbrella Movement were aggressively prosecuted, noncustodial sentences were systematically appealed by the prosecution, and a respected foreign journalist was denied a visa after chairing a panel discussion with a fringe pro-independence activist. Under the doctrine of “comprehensive jurisdiction” laid down in 2014, many observers believed that the central government was playing an increasingly active role in directing at least three branches of Hong Kong’s administration: prosecution, immigration, and law enforcement.Enjoying this article? Click here to subscribe for full access. Just $5 a month.It has been pointed out many times that despite the massive turnout in the peaceful marches, it was the smaller violent protest of June 12, 2019, met with violence in return by the police side, that led to suspending the bill on June 15. The break-in into the Legislative Council on July 1 can be seen as the defining moment for the first phase of the movement. Not only were the protesters’ five demands (withdrawing the law rather than simply suspending it, releasing arrested protesters, removing the “rioter” accusation, establishing an independent commission of inquiry on police violence, and advancing universal suffrage) formally read out in the chamber, but the solidarity among the protesters was movingly demonstrated when the few remaining “occupiers” inside the chamber were carried out by their comrades shortly before the police arrived in order to “leave no one behind.” The leaderless, versatile, creative movement, organized spontaneously through flashmobs and telegram channels, using Lennon Walls as its main means of expression and communication with the public, enjoyed overwhelming support among the population. It was characterized by its display of solidarity between peaceful and forceful protesters (“brothers climbing the mountain together; don’t snitch and don’t split”). The demands, even universal suffrage, seemed within the scope of the Basic Law, and although most people did not expect the government to give in, in early July the movement was broadly understood to have secured additional breathing space. Former Chief Justice Andrew Li published an op-ed on July 9 calling for an independent Commission of Inquiry, widely viewed as an acceptably compromise for all sides, supported across the political spectrum (support grew steadily from around 75 percent in June to 87 percent in October).However, the government remained inflexible on the five demands, and events took a turn toward mutual escalation. After the violent beatings of protesters by “white shirts” in Yuen Long on July 21, the police force, already accused of unwarranted violence, was widely suspected of collusion with organized crime and suffered an unprecedented collapse in citizen confidence. The outrage was shared far beyond the ranks of the protesters; it confirmed the widespread feeling that the foundations of Hong Kong had been sapped and the entire civil contract needed to be reestablished. This was the context in which the slogan “Reclaim Hong Kong, Revolution of the Times” became ubiquitous. It referred not so much to independence as to a sense of a newfound community, in which solidarity was not simply a strategy but became the dominant ideology of the movement. Yet the “incipient community” was defined in vague, somewhat romantic terms as a brother- and sisterhood, a pre-political community bound together by trauma and pain, as well as by a stark sense of right and wrong (as expressed also in the “anthem” of the movement, “Glory to Hong Kong”). This was a community ready to fight until the end, but without politically articulated goals beyond the five demands.Diplomat BriefWeekly NewsletterNGet briefed on the story of the week, and developing stories to watch across the Asia-Pacific.Get the Newsletter\n",
      "\n",
      "\n",
      "At the same time, July 21 marked the targeting by protesters of the Central Government Liaison Office and the defacing of the national emblem, which triggered the direct implication of the central government in Beijing. While we have no way of gauging the degree of control exerted by the center, in June and early July, Beijing officials seemed eager to let Carrie Lam take the blame and handle the protests. By contrast, the deluge of official pronouncements from Beijing beginning on July 22 leaves little doubt that the Hong Kong government was decisively marginalized from that date. A formulation referring to “three bottom lines” (endangering national security or sovereignty, challenging the central government or the Basic Law, using Hong Kong as a base for undermining the mainland regime) appeared after the July Politburo meeting. On August 5, the day of the first general strike in Hong Kong since 1925, a first-page People’s Daily editorial laid out further red lines, which aimed to cow the divided pro-Beijing forces into submission: pro-establishment politicians were summoned to “take a stance,” businesses like Cathay Pacific and MTR Corporation were ordered to discipline their employees or face lockout from the China market. The full force of law enforcement, including police and prosecution (through accelerated procedures), would be used to crack down on the protests. Civil servants, schools, and universities were ordered to fall into rank. This approach, endlessly repeated and copy-pasted in official texts, was eventually enshrined in the text of the Fourth Plenum of the Chinese Communist Party’s (CCP) 19th Central Committee in early November, foreshadowing the 2020 national security law.AdvertisementThe spiral of escalation was also fueled by the protesters, whose growing sense of desperation was expressed in the notion of laamchau or “burning together.” The participative tactics debated on Telegram did not always yield ideal outcomes, and protesters who opposed “renovating” (i.e. vandalizing) pro-establishment shops were often overruled, despite Edward Leung’s call from prison to refrain from violence. From August 5, authorizations for protest gatherings were increasingly withheld by the police, making the gatherings de facto illegal; when they were allowed, authorization was sometimes withdrawn abruptly in the midst of the protest, and the police employed more and more forceful tactics. The government strategy could be described as a deliberate criminalization of protest. After the dramatic events of August 31, when apparently peaceful protesters were beaten by police in the MTR at Prince Edward Station, the MTR network was increasingly targeted, as another one of the city’s beloved and respected institutions was suspected of having gone over to the dark side. Police again resisted an independent investigation and the MTR withheld video surveillance footage. Violent clashes culminated in November, with the government’s attempt to impose a mask ban through the Emergency Regulations Ordinance (overruled by the Court of Appeals, despite grumbling in Beijing), and the occupation of university campuses, most dramatically Chinese University and Polytechnic University (where over 1,000 arrests took place), in an attempt to block key adjacent roads (Tolo Highway at Chinese U and the Cross-Harbor Tunnel entrance at Poly U). A man was set on fire by protesters and another died after being hit by a brick.Police violence has been documented in great detail, by journalists, NGOs (such as Amnesty International and Citizen Report), as well as through in-depth interviews with critical members of the police force and analysis by specialized academics. The Washington Post investigated 65 events of alleged police violence and found that guidelines for use of force were routinely ignored, and even officially loosened during the protests. In particular, the threshold for the use of lethal force (19 live rounds were fired during the movement) was lowered ahead of China’s National Day on October 1 (this was also confirmed by South China Morning Post and Mingpao). The police force was pervaded by a culture of impunity epitomized in its internal watchdog, the IPCC, widely seen as toothless. A group of foreign experts hired by the IPCC as consultants collectively resigned to protest against their lack of resources and regulatory powers. Nonetheless, not a single police officer was sanctioned (not even one who drove a motorcycle into a group of protesters), and several incidents suggested that the Hong Kong government itself was unable to control the police force, which seemed to have opened direct lines of communication with Beijing. This situation of deadlock destroyed social trust in Hong Kong institutions. Trust in the police force plummeted to levels never previously observed: 51 percent of respondents rated their trust in the police at 0 out of 10 in early October (up from just 6.5 percent in early June), and the average level was 2.6 out of 10. Various index measures all reached historical depths in October: confidence in the SAR government (2.32 out of 10), in the central government (2.79), in “one country, two systems” (3.19). Separate polls indicated the popularity of the chief executive also fell to unplumbed depths at 11 percent in late October.Nonetheless, as shown by detailed surveys of protesters’ claims, published research based on the surveys, as well as a database of posters and slogans, the protesters’ claims remained largely within the scope of the five demands. A survey conducted in October showed low support for the idea of independence (11 percent), a finding consistent with previous surveys (although the government’s approach to denying peaceful advocates of self-determination or independence the right to run for office is widely rejected and may be seen as one of the underlying causes of the movement). Nonetheless, the twice-yearly survey of Hong Kongers’ self-identification carried out in early December 2019 showed an unprecedented level of exclusive identification as “Hong Kongers” (55.4 percent of overall respondents and 81.8 percent of 18-29-year-olds), whereas 32.3 percent declared a mixed identity and 10.9 percent identified as Chinese. The movement did not advocate independence or self-determination, but the degree of solidarity it displayed undoubtedly strengthened the feeling of belonging to a community of shared values.Because of the relative moderation of the demands (despite the controversy over violent methods), the District Council election in late November offered a possible route toward de-escalation. Many candidates ran on a “five-demands-not-one-less” platform, and the outcome was an overwhelming victory for the pro-democracy forces. With an unprecedented turnout (71 percent) and 57 percent of the votes, the pro-democrats took over 80 percent of seats and control 17 out of 18 district boards. This result seemed to pave the way for an institutionalization of the movement through electoral politics, neighborhood work funded by the District Councils, the many new pro-democracy trade unions that blossomed in the wake of the movement, and the “yellow economic circle” (patronizing pro-democracy businesses), which represented a downscaling from the “redecoration” strategy earlier in the year. The “burn together” theory received an optimistic footnote: Hong Kong could be a “phoenix,” reborn from its ashes. This optimistic view was endorsed by various movement intellectuals. Benny Tai suggested that the September 2020 Legislative Council election offered an opportunity for the democracy movement to win a majority and block the budget vote, eventually forcing Chief Executive Carrie Lam to resign and leading to a full-fledged bonfire of vanities. At the very least, a majority in LegCo might allow the pan-democrats to establish an independent Commission of Inquiry on police violence.The political reality, however, was that the Hong Kong and Beijing governments fully intended to continue escalating their response to the protests. Beijing’s assertion in May 2020 that its interventions in Hong Kong governance are no longer limited by Article 22 of the Basic Law, and most importantly its decision to legislate directly on national security using Annex III of the Basic Law, suggests that Hong Kong will enter a period of political rectification. “Burning together” has turned out to be a two-edged sword, as Beijing, too, seems willing to accept the loss or significant reduction of Hong Kong’s role as an international financial and business center. What began as a watery, versatile though determined movement of mass resistance was caught up in the flames of power politics.Hong Kong’s national security law not only criminalizes as “sedition,” “terrorism” or “collusion” many forms of protest or political activism that were previously understood to be acceptable. By establishing a national security commissioner in Hong Kong whose office will not be under Hong Kong’s jurisdiction, by creating a parallel system of prosecution and trial, and by removing the barrier between the Hong Kong and mainland legal systems, the new law essentially represents a full-fledged “restructuring” of the “one country two systems” arrangement.Analogies have been drawn with Berlin in 1961 and Prague in 1968, but the most persuasive comparison may be with the events of February 28, 1947 in Taiwan. There too, in a territory recently returned from colonial rule to central Chinese administration, a chance event triggered a massive movement of resistance against the reorganization of the island, only to be met with overwhelming force by the new colonizer and ultimately a campaign of White Terror that lasted for several decades, before a democratic opposition was able to rebuild momentum in the late 1970s.Enjoying this article? Click here to subscribe for full access. Just $5 a month.Hong Kong’s future will probably be less dramatic than Taiwan’s in 1947, and Hong Kong in 2020 has many advantages that Taiwan in 1947 did not. LegCo elections remain planned for September, though candidates may be disqualified. District Councils remain under the control of the opposition, though the Hong Kong government may further curb their powers and funding. Nonetheless, the territory is undoubtedly at a crossroads as it anxiously awaits the fallout of its “second return to the motherland.”Sebastian Veg is a professor of contemporary history of China at EHESS (Paris), with a particular interest in intellectuals and public spheres. His latest book is Minjian: The Rise of China’s Grassroots Intellectuals (Columbia UP, 2019). \n",
      "TagsFeaturesPoliticsSocietyEast AsiaHong KongCCP control in Hong KongHong Kong autonomyHong Kong National Security LawHong Kong protestsHong Kong protests 2019One Country Two SystemsWater Revolution\n"
     ]
    }
   ],
   "source": [
    "for bodies in soup.findAll('article',{'id':'td-story'}):\n",
    "    print(bodies.text.strip())"
   ]
  },
  {
   "cell_type": "code",
   "execution_count": 108,
   "metadata": {},
   "outputs": [
    {
     "data": {
      "text/plain": [
       "10"
      ]
     },
     "execution_count": 108,
     "metadata": {},
     "output_type": "execute_result"
    }
   ],
   "source": [
    "len(bodies)"
   ]
  },
  {
   "cell_type": "markdown",
   "metadata": {},
   "source": [
    "Needs a lot of work."
   ]
  },
  {
   "cell_type": "markdown",
   "metadata": {},
   "source": [
    "**Clean | Send to DataFrame**<a id='2.5_review'></a>"
   ]
  },
  {
   "cell_type": "markdown",
   "metadata": {},
   "source": [
    "First the date from string to a datetime object."
   ]
  },
  {
   "cell_type": "code",
   "execution_count": 112,
   "metadata": {},
   "outputs": [
    {
     "name": "stdout",
     "output_type": "stream",
     "text": [
      "July 01, 2020\n"
     ]
    }
   ],
   "source": [
    "for date in soup.find_all('div',{'class':'td-date'}):\n",
    "    print(date.text.strip())"
   ]
  },
  {
   "cell_type": "code",
   "execution_count": 113,
   "metadata": {},
   "outputs": [
    {
     "data": {
      "text/plain": [
       "<div class=\"td-date\"><span itemprop=\"datePublished\">July 01, 2020</span>\n",
       "<meta content=\"2020-07-02T02:35:50Z\" itemprop=\"dateModified\">\n",
       "</meta></div>"
      ]
     },
     "execution_count": 113,
     "metadata": {},
     "output_type": "execute_result"
    }
   ],
   "source": [
    "date"
   ]
  },
  {
   "cell_type": "code",
   "execution_count": 114,
   "metadata": {},
   "outputs": [
    {
     "data": {
      "text/plain": [
       "'July 01, 2020\\n\\n'"
      ]
     },
     "execution_count": 114,
     "metadata": {},
     "output_type": "execute_result"
    }
   ],
   "source": [
    "date = remove_tags(str(date))\n",
    "date"
   ]
  },
  {
   "cell_type": "code",
   "execution_count": 115,
   "metadata": {},
   "outputs": [
    {
     "data": {
      "text/plain": [
       "15"
      ]
     },
     "execution_count": 115,
     "metadata": {},
     "output_type": "execute_result"
    }
   ],
   "source": [
    "len(date)"
   ]
  },
  {
   "cell_type": "code",
   "execution_count": 116,
   "metadata": {},
   "outputs": [
    {
     "data": {
      "text/plain": [
       "'July 01, 2020'"
      ]
     },
     "execution_count": 116,
     "metadata": {},
     "output_type": "execute_result"
    }
   ],
   "source": [
    "day_pub = date[0:13]\n",
    "day_pub"
   ]
  },
  {
   "cell_type": "code",
   "execution_count": 117,
   "metadata": {},
   "outputs": [
    {
     "data": {
      "text/plain": [
       "datetime.date(2020, 7, 1)"
      ]
     },
     "execution_count": 117,
     "metadata": {},
     "output_type": "execute_result"
    }
   ],
   "source": [
    "#Replacing commas\n",
    "day_pub = re.sub(',','',day_pub)\n",
    "#Replacing words to bring to datetimeformat\n",
    "day_pub = re.sub('July','07',day_pub)\n",
    "#Replacing the spaces\n",
    "day_pub = re.sub(' ','-',day_pub)\n",
    "#Converting to dattime format\n",
    "day_pub = datetime.strptime(day_pub, '%m-%d-%Y').date()\n",
    "\n",
    "day_pub"
   ]
  },
  {
   "cell_type": "code",
   "execution_count": 118,
   "metadata": {},
   "outputs": [],
   "source": [
    "df_date = pd.DataFrame([day_pub])"
   ]
  },
  {
   "cell_type": "code",
   "execution_count": 119,
   "metadata": {},
   "outputs": [
    {
     "data": {
      "text/plain": [
       "pandas.core.frame.DataFrame"
      ]
     },
     "execution_count": 119,
     "metadata": {},
     "output_type": "execute_result"
    }
   ],
   "source": [
    "type(df_date)"
   ]
  },
  {
   "cell_type": "code",
   "execution_count": 120,
   "metadata": {},
   "outputs": [
    {
     "data": {
      "text/html": [
       "<div>\n",
       "<style scoped>\n",
       "    .dataframe tbody tr th:only-of-type {\n",
       "        vertical-align: middle;\n",
       "    }\n",
       "\n",
       "    .dataframe tbody tr th {\n",
       "        vertical-align: top;\n",
       "    }\n",
       "\n",
       "    .dataframe thead th {\n",
       "        text-align: right;\n",
       "    }\n",
       "</style>\n",
       "<table border=\"1\" class=\"dataframe\">\n",
       "  <thead>\n",
       "    <tr style=\"text-align: right;\">\n",
       "      <th></th>\n",
       "      <th>0</th>\n",
       "    </tr>\n",
       "  </thead>\n",
       "  <tbody>\n",
       "    <tr>\n",
       "      <th>0</th>\n",
       "      <td>2020-07-01</td>\n",
       "    </tr>\n",
       "  </tbody>\n",
       "</table>\n",
       "</div>"
      ],
      "text/plain": [
       "            0\n",
       "0  2020-07-01"
      ]
     },
     "execution_count": 120,
     "metadata": {},
     "output_type": "execute_result"
    }
   ],
   "source": [
    "df_date"
   ]
  },
  {
   "cell_type": "markdown",
   "metadata": {},
   "source": [
    "Now the title."
   ]
  },
  {
   "cell_type": "code",
   "execution_count": 135,
   "metadata": {},
   "outputs": [
    {
     "name": "stdout",
     "output_type": "stream",
     "text": [
      "Hong Kong Through Water and Fire\n"
     ]
    }
   ],
   "source": [
    "for title in soup.findAll('h1',{'id':'td-headline', 'itemprop':'headline'}):\n",
    "    print(title.text.strip())"
   ]
  },
  {
   "cell_type": "code",
   "execution_count": 136,
   "metadata": {},
   "outputs": [],
   "source": [
    "df_title = pd.DataFrame([title.text.strip()])"
   ]
  },
  {
   "cell_type": "code",
   "execution_count": 137,
   "metadata": {},
   "outputs": [
    {
     "data": {
      "text/html": [
       "<div>\n",
       "<style scoped>\n",
       "    .dataframe tbody tr th:only-of-type {\n",
       "        vertical-align: middle;\n",
       "    }\n",
       "\n",
       "    .dataframe tbody tr th {\n",
       "        vertical-align: top;\n",
       "    }\n",
       "\n",
       "    .dataframe thead th {\n",
       "        text-align: right;\n",
       "    }\n",
       "</style>\n",
       "<table border=\"1\" class=\"dataframe\">\n",
       "  <thead>\n",
       "    <tr style=\"text-align: right;\">\n",
       "      <th></th>\n",
       "      <th>0</th>\n",
       "    </tr>\n",
       "  </thead>\n",
       "  <tbody>\n",
       "    <tr>\n",
       "      <th>0</th>\n",
       "      <td>Hong Kong Through Water and Fire</td>\n",
       "    </tr>\n",
       "  </tbody>\n",
       "</table>\n",
       "</div>"
      ],
      "text/plain": [
       "                                  0\n",
       "0  Hong Kong Through Water and Fire"
      ]
     },
     "execution_count": 137,
     "metadata": {},
     "output_type": "execute_result"
    }
   ],
   "source": [
    "df_title"
   ]
  },
  {
   "cell_type": "code",
   "execution_count": 138,
   "metadata": {},
   "outputs": [
    {
     "data": {
      "text/plain": [
       "pandas.core.frame.DataFrame"
      ]
     },
     "execution_count": 138,
     "metadata": {},
     "output_type": "execute_result"
    }
   ],
   "source": [
    "type(df_title)"
   ]
  },
  {
   "cell_type": "markdown",
   "metadata": {},
   "source": [
    "These items are manually added."
   ]
  },
  {
   "cell_type": "code",
   "execution_count": 139,
   "metadata": {},
   "outputs": [],
   "source": [
    "country = 'US'\n",
    "df_country = pd.DataFrame([country])\n",
    "source = 'the Diplomat'\n",
    "df_source = pd.DataFrame([source])\n",
    "file_name = 'theDiplomat_23'\n",
    "df_file_name = pd.DataFrame([file_name])\n"
   ]
  },
  {
   "cell_type": "markdown",
   "metadata": {},
   "source": [
    "Finally, the news."
   ]
  },
  {
   "cell_type": "code",
   "execution_count": 190,
   "metadata": {},
   "outputs": [],
   "source": [
    "for bodies in soup.findAll('article',{'id':'td-story'}):\n",
    "    body = (bodies.text.strip())"
   ]
  },
  {
   "cell_type": "code",
   "execution_count": 191,
   "metadata": {},
   "outputs": [
    {
     "data": {
      "text/plain": [
       "'Features\\xa0|\\xa0Politics\\xa0|\\xa0Society\\xa0|\\xa0East Asia \\n\\n\\t\\t\\t\\t\\t\\tHong Kong Through Water and Fire                    \\nFrom the mass protests of 2019 to the national security law of 2020.\\n\\n\\n\\n\\n\\nBy Sebastian Veg for The Diplomat July 01, 2020\\n\\n\\n\\n\\n\\n \\n\\n \\n\\n \\n\\n\\n\\n\\n\\n\\n\\n\\nPolice detain protesters after a protest in Causeway Bay before the annual handover march in Hong Kong, July. 1, 2020. \\nCredit: AP Photo/Kin CheungAdvertisementIt has been a year since the beginning of the anti-extradition law movement, and it seems safe to say that Hong Kong will never be the same. The movement began as a massive pushback across Hong Kong society to resist the government’s proposed bill allowing extradition to mainland China and more generally the growing erosion of Hong Kong’s constitutionally guaranteed “high degree of autonomy.” It therefore began as a “reactive” (in the framework of Charles Tilly) movement, whereas the 2014 Umbrella Movement was arguably more “proactive” in trying to advance a deeper form of democratization.After the unprecedented 1- and 2-million strong peaceful marches that took place on June 9 and June 16, respectively, millions of people mobilized over the course of six months, punctuated by hundreds of marches and gatherings, as well as a number of violent confrontations. At the same time, the movement morphed into a massive if inchoate attempt to resist the “restructuring” of Hong Kong’s basic institutions by Beijing. The government’s unwillingness to make concessions or engage in dialogue fueled a spiral of mutual escalation, in which outraged protesters, whose main claims were supported for most of the period by around 80 percent of Hong Kongers, faced off with a police force that was left alone to deal with political issues that it was not equipped to address and that the government refused to confront. Although withdrawal of the bill was officially announced on September 4 and completed on October 23, the confrontation continued unabated, with growing involvement from the Central Government, further complicating any resolution. Finally, the District Council elections in late November brought an overwhelming though arguably symbolic victory to the pro-democracy camp, allowing for a tentative though fragile, and ultimately short-lived, de-escalation.While the protesters were initially successful in adopting the new tactic to “be water,” in which direct confrontation could be avoided and the movement remained versatile and leaderless, as the summer went on, the call to “burn together” (laamchau) became more dominant. In the course of the movement, over 7,000 people were arrested, over 2,000 were injured, more than 1,300 complaints were filed against the police. Social trust in virtually all of Hong Kong’s institutions was deeply shaken, if not entirely destroyed.Although the extradition bill was withdrawn, the central government in Beijing has now further raised the stakes by imposing national security legislation that threatens to imperil Hong Kong’s basic freedoms more than any decision since the handover. While it is as yet unclear how the law will be applied, its 66 articles contain many causes for concern. Given the severity of the implications, it is perhaps worth pausing to look back at the claims and attempt to untangle the escalating dynamics of the movement in order to understand more clearly where Hong Kong stands today.When 1 million people took to the streets peacefully on June 9, 2019, the target was undoubtedly the unpopular extradition bill, but also more broadly the accumulating encroachments on Hong Kong’s autonomy, which had accelerated since 2015. The erosion of Hong Kong autonomy came in more and more rapid succession: booksellers and a Chinese tycoon disappeared over the border to mainland China, elected lawmakers were disqualified from office by virtue of a Basic Law interpretation that came in the midst of ongoing legal proceedings in Hong Kong, nonviolent participants in the Umbrella Movement were aggressively prosecuted, noncustodial sentences were systematically appealed by the prosecution, and a respected foreign journalist was denied a visa after chairing a panel discussion with a fringe pro-independence activist. Under the doctrine of “comprehensive jurisdiction” laid down in 2014, many observers believed that the central government was playing an increasingly active role in directing at least three branches of Hong Kong’s administration: prosecution, immigration, and law enforcement.Enjoying this article? Click here to subscribe for full access. Just $5 a month.It has been pointed out many times that despite the massive turnout in the peaceful marches, it was the smaller violent protest of June 12, 2019, met with violence in return by the police side, that led to suspending the bill on June 15. The break-in into the Legislative Council on July 1 can be seen as the defining moment for the first phase of the movement. Not only were the protesters’ five demands (withdrawing the law rather than simply suspending it, releasing arrested protesters, removing the “rioter” accusation, establishing an independent commission of inquiry on police violence, and advancing universal suffrage) formally read out in the chamber, but the solidarity among the protesters was movingly demonstrated when the few remaining “occupiers” inside the chamber were carried out by their comrades shortly before the police arrived in order to “leave no one behind.” The leaderless, versatile, creative movement, organized spontaneously through flashmobs and telegram channels, using Lennon Walls as its main means of expression and communication with the public, enjoyed overwhelming support among the population. It was characterized by its display of solidarity between peaceful and forceful protesters (“brothers climbing the mountain together; don’t snitch and don’t split”). The demands, even universal suffrage, seemed within the scope of the Basic Law, and although most people did not expect the government to give in, in early July the movement was broadly understood to have secured additional breathing space. Former Chief Justice Andrew Li published an op-ed on July 9 calling for an independent Commission of Inquiry, widely viewed as an acceptably compromise for all sides, supported across the political spectrum (support grew steadily from around 75 percent in June to 87 percent in October).However, the government remained inflexible on the five demands, and events took a turn toward mutual escalation. After the violent beatings of protesters by “white shirts” in Yuen Long on July 21, the police force, already accused of unwarranted violence, was widely suspected of collusion with organized crime and suffered an unprecedented collapse in citizen confidence. The outrage was shared far beyond the ranks of the protesters; it confirmed the widespread feeling that the foundations of Hong Kong had been sapped and the entire civil contract needed to be reestablished. This was the context in which the slogan “Reclaim Hong Kong, Revolution of the Times” became ubiquitous. It referred not so much to independence as to a sense of a newfound community, in which solidarity was not simply a strategy but became the dominant ideology of the movement. Yet the “incipient community” was defined in vague, somewhat romantic terms as a brother- and sisterhood, a pre-political community bound together by trauma and pain, as well as by a stark sense of right and wrong (as expressed also in the “anthem” of the movement, “Glory to Hong Kong”). This was a community ready to fight until the end, but without politically articulated goals beyond the five demands.Diplomat BriefWeekly NewsletterNGet briefed on the story of the week, and developing stories to watch across the Asia-Pacific.Get the Newsletter\\n\\n\\nAt the same time, July 21 marked the targeting by protesters of the Central Government Liaison Office and the defacing of the national emblem, which triggered the direct implication of the central government in Beijing. While we have no way of gauging the degree of control exerted by the center, in June and early July, Beijing officials seemed eager to let Carrie Lam take the blame and handle the protests. By contrast, the deluge of official pronouncements from Beijing beginning on July 22 leaves little doubt that the Hong Kong government was decisively marginalized from that date. A formulation referring to “three bottom lines” (endangering national security or sovereignty, challenging the central government or the Basic Law, using Hong Kong as a base for undermining the mainland regime) appeared after the July Politburo meeting. On August 5, the day of the first general strike in Hong Kong since 1925, a first-page People’s Daily editorial laid out further red lines, which aimed to cow the divided pro-Beijing forces into submission: pro-establishment politicians were summoned to “take a stance,” businesses like Cathay Pacific and MTR Corporation were ordered to discipline their employees or face lockout from the China market. The full force of law enforcement, including police and prosecution (through accelerated procedures), would be used to crack down on the protests. Civil servants, schools, and universities were ordered to fall into rank. This approach, endlessly repeated and copy-pasted in official texts, was eventually enshrined in the text of the Fourth Plenum of the Chinese Communist Party’s (CCP) 19th Central Committee in early November, foreshadowing the 2020 national security law.AdvertisementThe spiral of escalation was also fueled by the protesters, whose growing sense of desperation was expressed in the notion of laamchau or “burning together.” The participative tactics debated on Telegram did not always yield ideal outcomes, and protesters who opposed “renovating” (i.e. vandalizing) pro-establishment shops were often overruled, despite Edward Leung’s call from prison to refrain from violence. From August 5, authorizations for protest gatherings were increasingly withheld by the police, making the gatherings de facto illegal; when they were allowed, authorization was sometimes withdrawn abruptly in the midst of the protest, and the police employed more and more forceful tactics. The government strategy could be described as a deliberate criminalization of protest. After the dramatic events of August 31, when apparently peaceful protesters were beaten by police in the MTR at Prince Edward Station, the MTR network was increasingly targeted, as another one of the city’s beloved and respected institutions was suspected of having gone over to the dark side. Police again resisted an independent investigation and the MTR withheld video surveillance footage. Violent clashes culminated in November, with the government’s attempt to impose a mask ban through the Emergency Regulations Ordinance (overruled by the Court of Appeals, despite grumbling in Beijing), and the occupation of university campuses, most dramatically Chinese University and Polytechnic University (where over 1,000 arrests took place), in an attempt to block key adjacent roads (Tolo Highway at Chinese U and the Cross-Harbor Tunnel entrance at Poly U). A man was set on fire by protesters and another died after being hit by a brick.Police violence has been documented in great detail, by journalists, NGOs (such as Amnesty International and Citizen Report), as well as through in-depth interviews with critical members of the police force and analysis by specialized academics. The Washington Post investigated 65 events of alleged police violence and found that guidelines for use of force were routinely ignored, and even officially loosened during the protests. In particular, the threshold for the use of lethal force (19 live rounds were fired during the movement) was lowered ahead of China’s National Day on October 1 (this was also confirmed by South China Morning Post and Mingpao). The police force was pervaded by a culture of impunity epitomized in its internal watchdog, the IPCC, widely seen as toothless. A group of foreign experts hired by the IPCC as consultants collectively resigned to protest against their lack of resources and regulatory powers. Nonetheless, not a single police officer was sanctioned (not even one who drove a motorcycle into a group of protesters), and several incidents suggested that the Hong Kong government itself was unable to control the police force, which seemed to have opened direct lines of communication with Beijing. This situation of deadlock destroyed social trust in Hong Kong institutions. Trust in the police force plummeted to levels never previously observed: 51 percent of respondents rated their trust in the police at 0 out of 10 in early October (up from just 6.5 percent in early June), and the average level was 2.6 out of 10. Various index measures all reached historical depths in October: confidence in the SAR government (2.32 out of 10), in the central government (2.79), in “one country, two systems” (3.19). Separate polls indicated the popularity of the chief executive also fell to unplumbed depths at 11 percent in late October.Nonetheless, as shown by detailed surveys of protesters’ claims, published research based on the surveys, as well as a database of posters and slogans, the protesters’ claims remained largely within the scope of the five demands. A survey conducted in October showed low support for the idea of independence (11 percent), a finding consistent with previous surveys (although the government’s approach to denying peaceful advocates of self-determination or independence the right to run for office is widely rejected and may be seen as one of the underlying causes of the movement). Nonetheless, the twice-yearly survey of Hong Kongers’ self-identification carried out in early December 2019 showed an unprecedented level of exclusive identification as “Hong Kongers” (55.4 percent of overall respondents and 81.8 percent of 18-29-year-olds), whereas 32.3 percent declared a mixed identity and 10.9 percent identified as Chinese. The movement did not advocate independence or self-determination, but the degree of solidarity it displayed undoubtedly strengthened the feeling of belonging to a community of shared values.Because of the relative moderation of the demands (despite the controversy over violent methods), the District Council election in late November offered a possible route toward de-escalation. Many candidates ran on a “five-demands-not-one-less” platform, and the outcome was an overwhelming victory for the pro-democracy forces. With an unprecedented turnout (71 percent) and 57 percent of the votes, the pro-democrats took over 80 percent of seats and control 17 out of 18 district boards. This result seemed to pave the way for an institutionalization of the movement through electoral politics, neighborhood work funded by the District Councils, the many new pro-democracy trade unions that blossomed in the wake of the movement, and the “yellow economic circle” (patronizing pro-democracy businesses), which represented a downscaling from the “redecoration” strategy earlier in the year. The “burn together” theory received an optimistic footnote: Hong Kong could be a “phoenix,” reborn from its ashes. This optimistic view was endorsed by various movement intellectuals. Benny Tai suggested that the September 2020 Legislative Council election offered an opportunity for the democracy movement to win a majority and block the budget vote, eventually forcing Chief Executive Carrie Lam to resign and leading to a full-fledged bonfire of vanities. At the very least, a majority in LegCo might allow the pan-democrats to establish an independent Commission of Inquiry on police violence.The political reality, however, was that the Hong Kong and Beijing governments fully intended to continue escalating their response to the protests. Beijing’s assertion in May 2020 that its interventions in Hong Kong governance are no longer limited by Article 22 of the Basic Law, and most importantly its decision to legislate directly on national security using Annex III of the Basic Law, suggests that Hong Kong will enter a period of political rectification. “Burning together” has turned out to be a two-edged sword, as Beijing, too, seems willing to accept the loss or significant reduction of Hong Kong’s role as an international financial and business center. What began as a watery, versatile though determined movement of mass resistance was caught up in the flames of power politics.Hong Kong’s national security law not only criminalizes as “sedition,” “terrorism” or “collusion” many forms of protest or political activism that were previously understood to be acceptable. By establishing a national security commissioner in Hong Kong whose office will not be under Hong Kong’s jurisdiction, by creating a parallel system of prosecution and trial, and by removing the barrier between the Hong Kong and mainland legal systems, the new law essentially represents a full-fledged “restructuring” of the “one country two systems” arrangement.Analogies have been drawn with Berlin in 1961 and Prague in 1968, but the most persuasive comparison may be with the events of February 28, 1947 in Taiwan. There too, in a territory recently returned from colonial rule to central Chinese administration, a chance event triggered a massive movement of resistance against the reorganization of the island, only to be met with overwhelming force by the new colonizer and ultimately a campaign of White Terror that lasted for several decades, before a democratic opposition was able to rebuild momentum in the late 1970s.Enjoying this article? Click here to subscribe for full access. Just $5 a month.Hong Kong’s future will probably be less dramatic than Taiwan’s in 1947, and Hong Kong in 2020 has many advantages that Taiwan in 1947 did not. LegCo elections remain planned for September, though candidates may be disqualified. District Councils remain under the control of the opposition, though the Hong Kong government may further curb their powers and funding. Nonetheless, the territory is undoubtedly at a crossroads as it anxiously awaits the fallout of its “second return to the motherland.”Sebastian Veg is a professor of contemporary history of China at EHESS (Paris), with a particular interest in intellectuals and public spheres. His latest book is Minjian: The Rise of China’s Grassroots Intellectuals (Columbia UP, 2019). \\nTagsFeaturesPoliticsSocietyEast AsiaHong KongCCP control in Hong KongHong Kong autonomyHong Kong National Security LawHong Kong protestsHong Kong protests 2019One Country Two SystemsWater Revolution'"
      ]
     },
     "execution_count": 191,
     "metadata": {},
     "output_type": "execute_result"
    }
   ],
   "source": [
    "body"
   ]
  },
  {
   "cell_type": "code",
   "execution_count": 192,
   "metadata": {},
   "outputs": [],
   "source": [
    "body_new = body.split('\\n')\n",
    "body_new = body_new[29:]\n",
    "del body_new[-1]"
   ]
  },
  {
   "cell_type": "code",
   "execution_count": 193,
   "metadata": {},
   "outputs": [],
   "source": [
    "df_news = pd.DataFrame()"
   ]
  },
  {
   "cell_type": "code",
   "execution_count": 194,
   "metadata": {},
   "outputs": [],
   "source": [
    "df_news['article_body'] = body_new"
   ]
  },
  {
   "cell_type": "code",
   "execution_count": 203,
   "metadata": {
    "scrolled": true
   },
   "outputs": [
    {
     "data": {
      "text/html": [
       "<div>\n",
       "<style scoped>\n",
       "    .dataframe tbody tr th:only-of-type {\n",
       "        vertical-align: middle;\n",
       "    }\n",
       "\n",
       "    .dataframe tbody tr th {\n",
       "        vertical-align: top;\n",
       "    }\n",
       "\n",
       "    .dataframe thead th {\n",
       "        text-align: right;\n",
       "    }\n",
       "</style>\n",
       "<table border=\"1\" class=\"dataframe\">\n",
       "  <thead>\n",
       "    <tr style=\"text-align: right;\">\n",
       "      <th></th>\n",
       "      <th>Article</th>\n",
       "    </tr>\n",
       "  </thead>\n",
       "  <tbody>\n",
       "    <tr>\n",
       "      <th>0</th>\n",
       "      <td>Credit: AP Photo/Kin CheungAdvertisementIt has...</td>\n",
       "    </tr>\n",
       "  </tbody>\n",
       "</table>\n",
       "</div>"
      ],
      "text/plain": [
       "                                             Article\n",
       "0  Credit: AP Photo/Kin CheungAdvertisementIt has..."
      ]
     },
     "execution_count": 203,
     "metadata": {},
     "output_type": "execute_result"
    }
   ],
   "source": [
    "df_news.head()"
   ]
  },
  {
   "cell_type": "code",
   "execution_count": 196,
   "metadata": {},
   "outputs": [],
   "source": [
    "df_news['article_body'] = df_news.article_body.str.cat(sep=' ')"
   ]
  },
  {
   "cell_type": "code",
   "execution_count": 197,
   "metadata": {},
   "outputs": [],
   "source": [
    "df_news = df_news.article_body[0]"
   ]
  },
  {
   "cell_type": "code",
   "execution_count": 198,
   "metadata": {},
   "outputs": [],
   "source": [
    "df_news = df_news.replace(r'\\\\?','')"
   ]
  },
  {
   "cell_type": "code",
   "execution_count": 199,
   "metadata": {},
   "outputs": [],
   "source": [
    "df_news = pd.DataFrame([df_news])"
   ]
  },
  {
   "cell_type": "code",
   "execution_count": 200,
   "metadata": {},
   "outputs": [
    {
     "data": {
      "text/plain": [
       "pandas.core.frame.DataFrame"
      ]
     },
     "execution_count": 200,
     "metadata": {},
     "output_type": "execute_result"
    }
   ],
   "source": [
    "type(df_news)"
   ]
  },
  {
   "cell_type": "code",
   "execution_count": 201,
   "metadata": {},
   "outputs": [],
   "source": [
    "df_news.columns = ['Article']"
   ]
  },
  {
   "cell_type": "code",
   "execution_count": 202,
   "metadata": {},
   "outputs": [
    {
     "data": {
      "text/html": [
       "<div>\n",
       "<style scoped>\n",
       "    .dataframe tbody tr th:only-of-type {\n",
       "        vertical-align: middle;\n",
       "    }\n",
       "\n",
       "    .dataframe tbody tr th {\n",
       "        vertical-align: top;\n",
       "    }\n",
       "\n",
       "    .dataframe thead th {\n",
       "        text-align: right;\n",
       "    }\n",
       "</style>\n",
       "<table border=\"1\" class=\"dataframe\">\n",
       "  <thead>\n",
       "    <tr style=\"text-align: right;\">\n",
       "      <th></th>\n",
       "      <th>Article</th>\n",
       "    </tr>\n",
       "  </thead>\n",
       "  <tbody>\n",
       "    <tr>\n",
       "      <th>0</th>\n",
       "      <td>Credit: AP Photo/Kin CheungAdvertisementIt has...</td>\n",
       "    </tr>\n",
       "  </tbody>\n",
       "</table>\n",
       "</div>"
      ],
      "text/plain": [
       "                                             Article\n",
       "0  Credit: AP Photo/Kin CheungAdvertisementIt has..."
      ]
     },
     "execution_count": 202,
     "metadata": {},
     "output_type": "execute_result"
    }
   ],
   "source": [
    "df_news.head()"
   ]
  },
  {
   "cell_type": "code",
   "execution_count": null,
   "metadata": {},
   "outputs": [],
   "source": []
  },
  {
   "cell_type": "markdown",
   "metadata": {},
   "source": [
    "**Bringing it together.**<a id='2.5_bit'></a>"
   ]
  },
  {
   "cell_type": "code",
   "execution_count": 204,
   "metadata": {},
   "outputs": [],
   "source": [
    "df_23_theDiplomat = pd.concat([df_file_name,df_date,df_source,df_country,df_title,df_news],axis = 1, ignore_index=False)"
   ]
  },
  {
   "cell_type": "code",
   "execution_count": 205,
   "metadata": {},
   "outputs": [],
   "source": [
    "df_23_theDiplomat.columns = ['file_name','date','source','country','title','article']"
   ]
  },
  {
   "cell_type": "code",
   "execution_count": 206,
   "metadata": {},
   "outputs": [
    {
     "data": {
      "text/html": [
       "<div>\n",
       "<style scoped>\n",
       "    .dataframe tbody tr th:only-of-type {\n",
       "        vertical-align: middle;\n",
       "    }\n",
       "\n",
       "    .dataframe tbody tr th {\n",
       "        vertical-align: top;\n",
       "    }\n",
       "\n",
       "    .dataframe thead th {\n",
       "        text-align: right;\n",
       "    }\n",
       "</style>\n",
       "<table border=\"1\" class=\"dataframe\">\n",
       "  <thead>\n",
       "    <tr style=\"text-align: right;\">\n",
       "      <th></th>\n",
       "      <th>file_name</th>\n",
       "      <th>date</th>\n",
       "      <th>source</th>\n",
       "      <th>country</th>\n",
       "      <th>title</th>\n",
       "      <th>article</th>\n",
       "    </tr>\n",
       "  </thead>\n",
       "  <tbody>\n",
       "    <tr>\n",
       "      <th>0</th>\n",
       "      <td>theDiplomat_23</td>\n",
       "      <td>2020-07-01</td>\n",
       "      <td>the Diplomat</td>\n",
       "      <td>US</td>\n",
       "      <td>Hong Kong Through Water and Fire</td>\n",
       "      <td>Credit: AP Photo/Kin CheungAdvertisementIt has...</td>\n",
       "    </tr>\n",
       "  </tbody>\n",
       "</table>\n",
       "</div>"
      ],
      "text/plain": [
       "        file_name        date        source country  \\\n",
       "0  theDiplomat_23  2020-07-01  the Diplomat      US   \n",
       "\n",
       "                              title  \\\n",
       "0  Hong Kong Through Water and Fire   \n",
       "\n",
       "                                             article  \n",
       "0  Credit: AP Photo/Kin CheungAdvertisementIt has...  "
      ]
     },
     "execution_count": 206,
     "metadata": {},
     "output_type": "execute_result"
    }
   ],
   "source": [
    "df_23_theDiplomat.head()"
   ]
  },
  {
   "cell_type": "code",
   "execution_count": null,
   "metadata": {},
   "outputs": [],
   "source": []
  },
  {
   "cell_type": "markdown",
   "metadata": {},
   "source": [
    "**Saving**<a id='2.6_save'></a>"
   ]
  },
  {
   "cell_type": "code",
   "execution_count": 207,
   "metadata": {},
   "outputs": [
    {
     "name": "stdout",
     "output_type": "stream",
     "text": [
      "C:\\Users\\rands\n"
     ]
    }
   ],
   "source": [
    "cd"
   ]
  },
  {
   "cell_type": "markdown",
   "metadata": {},
   "source": [
    "Saving it to Excel."
   ]
  },
  {
   "cell_type": "code",
   "execution_count": 208,
   "metadata": {},
   "outputs": [
    {
     "name": "stdout",
     "output_type": "stream",
     "text": [
      "Complete\n"
     ]
    }
   ],
   "source": [
    "# df = pd.DataFrame(reviewlist)\n",
    "\n",
    "# index=False below so that we don't get the dataframe index on the side; we just use the excel index\n",
    "df_23_theDiplomat.to_csv('./_Capstone_Two_NLP/data/_news/theDiplomat_23.csv', index=False)\n",
    "\n",
    "print('Complete')"
   ]
  },
  {
   "cell_type": "code",
   "execution_count": null,
   "metadata": {},
   "outputs": [],
   "source": []
  },
  {
   "cell_type": "code",
   "execution_count": null,
   "metadata": {},
   "outputs": [],
   "source": []
  },
  {
   "cell_type": "code",
   "execution_count": null,
   "metadata": {},
   "outputs": [],
   "source": []
  },
  {
   "cell_type": "code",
   "execution_count": null,
   "metadata": {},
   "outputs": [],
   "source": []
  }
 ],
 "metadata": {
  "kernelspec": {
   "display_name": "Python 3",
   "language": "python",
   "name": "python3"
  },
  "language_info": {
   "codemirror_mode": {
    "name": "ipython",
    "version": 3
   },
   "file_extension": ".py",
   "mimetype": "text/x-python",
   "name": "python",
   "nbconvert_exporter": "python",
   "pygments_lexer": "ipython3",
   "version": "3.8.5"
  },
  "varInspector": {
   "cols": {
    "lenName": 16,
    "lenType": 16,
    "lenVar": 40
   },
   "kernels_config": {
    "python": {
     "delete_cmd_postfix": "",
     "delete_cmd_prefix": "del ",
     "library": "var_list.py",
     "varRefreshCmd": "print(var_dic_list())"
    },
    "r": {
     "delete_cmd_postfix": ") ",
     "delete_cmd_prefix": "rm(",
     "library": "var_list.r",
     "varRefreshCmd": "cat(var_dic_list()) "
    }
   },
   "types_to_exclude": [
    "module",
    "function",
    "builtin_function_or_method",
    "instance",
    "_Feature"
   ],
   "window_display": false
  }
 },
 "nbformat": 4,
 "nbformat_minor": 4
}
