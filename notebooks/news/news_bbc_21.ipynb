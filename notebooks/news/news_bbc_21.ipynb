{
 "cells": [
  {
   "cell_type": "markdown",
   "metadata": {},
   "source": [
    "# Scraping Pro-democracy books from BBC"
   ]
  },
  {
   "cell_type": "markdown",
   "metadata": {},
   "source": [
    "## 2.1 Contents<a id='2.1_Contents'></a>\n",
    "* [2.1 Importing Relevant Tools](#2.1_Importing)\n",
    "* [2.2 Defining the Request](#2.2_URL)\n",
    "* [2.3 Grab | Date](#2.4_scrape_date)\n",
    "* [2.4 Grab | Header](#2.4_scrape_header)\n",
    "* [2.5 Grab | Content](#2.4_scrape_content)\n",
    "* [2.6 Clean | Send to DataFrame](#2.5_review)\n",
    "* [2.7 Save](#2.6_save)\n"
   ]
  },
  {
   "cell_type": "markdown",
   "metadata": {},
   "source": [
    "**Importing Relevant Tools**<a id='2.1_Importing'></a>"
   ]
  },
  {
   "cell_type": "code",
   "execution_count": 69,
   "metadata": {},
   "outputs": [],
   "source": [
    "import json\n",
    "import pandas as pd\n",
    "from bs4 import BeautifulSoup as soup\n",
    "import requests\n",
    "import csv\n",
    "import re\n",
    "import pickle\n",
    "\n",
    "%reload_ext watermark"
   ]
  },
  {
   "cell_type": "code",
   "execution_count": 70,
   "metadata": {},
   "outputs": [],
   "source": [
    "#the below needs to be reviewed for all websites; notably the time format\n",
    "\n",
    "from datetime import date\n",
    "from datetime import datetime\n",
    "today = date.today()\n",
    "d = today.strftime(\"%m-%d-%y\")"
   ]
  },
  {
   "cell_type": "markdown",
   "metadata": {},
   "source": [
    "For reference."
   ]
  },
  {
   "cell_type": "code",
   "execution_count": 71,
   "metadata": {},
   "outputs": [
    {
     "name": "stdout",
     "output_type": "stream",
     "text": [
      "Python implementation: CPython\n",
      "Python version       : 3.8.5\n",
      "IPython version      : 7.19.0\n",
      "\n",
      "pandas: 1.1.3\n",
      "\n"
     ]
    }
   ],
   "source": [
    "%watermark -d -t -v -p pandas"
   ]
  },
  {
   "cell_type": "markdown",
   "metadata": {},
   "source": [
    "**Defining the Request**<a id='2.2_URL'></a>"
   ]
  },
  {
   "cell_type": "code",
   "execution_count": 72,
   "metadata": {},
   "outputs": [
    {
     "data": {
      "text/plain": [
       "'https://www.bbc.com/news/world-asia-china-53296810'"
      ]
     },
     "execution_count": 72,
     "metadata": {},
     "output_type": "execute_result"
    }
   ],
   "source": [
    "url = 'https://www.bbc.com/news/world-asia-china-53296810'.format(d)\n",
    "url"
   ]
  },
  {
   "cell_type": "code",
   "execution_count": 73,
   "metadata": {},
   "outputs": [],
   "source": [
    "html = requests.get(url)"
   ]
  },
  {
   "cell_type": "code",
   "execution_count": 74,
   "metadata": {},
   "outputs": [],
   "source": [
    "bsobj = soup(html.content,'lxml')\n",
    "# bsobj"
   ]
  },
  {
   "cell_type": "markdown",
   "metadata": {},
   "source": [
    "**Grab | Date**<a id='2.4_scrape_date'></a>"
   ]
  },
  {
   "cell_type": "code",
   "execution_count": 75,
   "metadata": {},
   "outputs": [
    {
     "name": "stdout",
     "output_type": "stream",
     "text": [
      "5 July 2020\n"
     ]
    }
   ],
   "source": [
    "for date in bsobj.find('span',{'class':'ssrcss-8g95ls-MetadataSnippet ecn1o5v2'}):\n",
    "    print(date.text.strip())"
   ]
  },
  {
   "cell_type": "markdown",
   "metadata": {},
   "source": [
    "Correct."
   ]
  },
  {
   "cell_type": "markdown",
   "metadata": {},
   "source": [
    "**Grab | Header**<a id='2.4_scrape_header'></a>"
   ]
  },
  {
   "cell_type": "code",
   "execution_count": 76,
   "metadata": {},
   "outputs": [
    {
     "name": "stdout",
     "output_type": "stream",
     "text": [
      "Hong Kong security law: Pro-democracy books pulled from libraries\n"
     ]
    }
   ],
   "source": [
    "for title in bsobj.findAll(\"h1\"):\n",
    "    print(format(title.text))"
   ]
  },
  {
   "cell_type": "markdown",
   "metadata": {},
   "source": [
    "Confirmed that's the title."
   ]
  },
  {
   "cell_type": "markdown",
   "metadata": {},
   "source": [
    "**Grab | Content**<a id='2.4_scrape_content'></a>"
   ]
  },
  {
   "cell_type": "code",
   "execution_count": 77,
   "metadata": {},
   "outputs": [
    {
     "name": "stdout",
     "output_type": "stream",
     "text": [
      "Books by pro-democracy figures have been removed from public libraries in Hong Kong in the wake of a controversial new security law.\n",
      "The works will be reviewed to see if they violate the new law, the authority which runs the libraries said.\n",
      "The legislation targets secession, subversion and terrorism with punishments of up to life in prison.\n",
      "Opponents say it erodes the territory's freedoms as a semi-autonomous region of China. Beijing rejects this.\n",
      "Hong Kong's sovereignty was handed back to China by Britain in 1997 and certain rights were supposed to be guaranteed for at least 50 years under the \"one country, two systems\" agreement.\n",
      "Since the security law came into effect on Tuesday, several leading pro-democracy activists have stepped down from their roles. One of them - one-time student leader and local legislator Nathan Law - has fled the territory.\n",
      "At least nine books have become unavailable or marked as \"under review\", according to the South China Morning Post newspaper. They include books authored or co-authored by Joshua Wong, a prominent pro-democracy activist, and pro-democracy politician Tanya Chan.\n",
      "On Saturday, Mr Wong tweeted that the new law \"imposes a mainland-style censorship regime\" on Hong Kong, calling it \"one step away from ... actual book banning\".\n",
      "The BBC is not responsible for the content of external sites.View original tweet on Twitter\n",
      "Beijing has dismissed criticism of the law, saying it is necessary to stop the type of mass pro-democracy protests seen in Hong Kong during much of 2019, which at times exploded into very violent clashes between protesters and police.\n",
      "Why people are scared of Hong Kong's new lawMinutes after new law, voices quit\n",
      "It has rejected complaints by the UK and other Western nations that it is in breach of guarantees it made to protect Hong Kong's unique freedoms as interference in its internal affairs.\n",
      "By Danny Vincent, BBC News, Hong Kong\n",
      "Hong Kong was promised certain political freedoms for 50 years after the handover. It was guaranteed rights such as freedom of speech, freedom of assembly and an independent judicial system.\n",
      "To many Hong Kong residents, the national security law represents a premature end to those freedoms.\n",
      "Supporters say the law will help to restore order after a year of protest. But critics say it is being used to criminalise opposition to Beijing.\n",
      "The removal of political books from public libraries would have been unimaginable just a week ago. In today's Hong Kong, business owners remove messages of support for the protest movement from their premises, fearful that they could be interpreted as attempts at inciting subversion.\n",
      "So far, 10 people have been arrested for allegedly violating the new law. But fear and uncertainty are widespread. Protesters now call for demonstrators to hold up blank placards at marches. They fear that their words could lead to life imprisonment.\n",
      "The law is wide-ranging, and gives Beijing powers to shape life in Hong Kong that it has never had before. The law makes inciting hatred of China's central government and Hong Kong's regional government offences.\n",
      "It also allows for closed-door trials, wire-tapping of suspects and the potential for suspects to be tried on the Chinese mainland.\n",
      "Acts including damaging public transport facilities - which often happened during the 2019 protests - can be considered terrorism.\n",
      "There are also concerns over online freedom as internet providers might have to hand over data if requested by police.\n",
      "THE TEXT: What it is and why Hong Kong is worriedWHAT COULD HAPPEN: Life sentences for breaking the law and moreRESIDENTS REACT: 'End of one country, two systems'\n"
     ]
    }
   ],
   "source": [
    "for news in bsobj.findAll('div',{'class':'ssrcss-uf6wea-RichTextComponentWrapper e1xue1i84'}):\n",
    "    print(news.text.strip())"
   ]
  },
  {
   "cell_type": "markdown",
   "metadata": {},
   "source": [
    "`Approximately 1` line need to be removed below.\n",
    "\n",
    "It should end at `There are also concerns over online freedom as internet providers might have to hand over data if requested by police.`"
   ]
  },
  {
   "cell_type": "markdown",
   "metadata": {},
   "source": [
    "**Clean | Send to DataFrame**<a id='2.5_review'></a>"
   ]
  },
  {
   "cell_type": "markdown",
   "metadata": {},
   "source": [
    "First the date from string to a datetime object."
   ]
  },
  {
   "cell_type": "code",
   "execution_count": 78,
   "metadata": {},
   "outputs": [],
   "source": [
    "for day in bsobj.find('span',{'class':'ssrcss-8g95ls-MetadataSnippet ecn1o5v2'}):\n",
    "    day_pub = day.text.strip()"
   ]
  },
  {
   "cell_type": "code",
   "execution_count": 79,
   "metadata": {},
   "outputs": [
    {
     "data": {
      "text/plain": [
       "'5 July 2020'"
      ]
     },
     "execution_count": 79,
     "metadata": {},
     "output_type": "execute_result"
    }
   ],
   "source": [
    "day_pub"
   ]
  },
  {
   "cell_type": "code",
   "execution_count": 80,
   "metadata": {},
   "outputs": [],
   "source": [
    "#Replacing the spaces\n",
    "day_pub = re.sub(' ','-',day_pub)\n",
    "#Replacing words to bring to datetimeformat\n",
    "day_pub = re.sub('July','07',day_pub)\n",
    "#Converting to dattime format\n",
    "day_pub = datetime.strptime(day_pub, '%d-%m-%Y').date()"
   ]
  },
  {
   "cell_type": "code",
   "execution_count": 81,
   "metadata": {},
   "outputs": [
    {
     "data": {
      "text/plain": [
       "datetime.date(2020, 7, 5)"
      ]
     },
     "execution_count": 81,
     "metadata": {},
     "output_type": "execute_result"
    }
   ],
   "source": [
    "day_pub"
   ]
  },
  {
   "cell_type": "code",
   "execution_count": 82,
   "metadata": {},
   "outputs": [],
   "source": [
    "df_date = pd.DataFrame([day_pub])"
   ]
  },
  {
   "cell_type": "code",
   "execution_count": 83,
   "metadata": {},
   "outputs": [
    {
     "data": {
      "text/plain": [
       "pandas.core.frame.DataFrame"
      ]
     },
     "execution_count": 83,
     "metadata": {},
     "output_type": "execute_result"
    }
   ],
   "source": [
    "type(df_date)"
   ]
  },
  {
   "cell_type": "code",
   "execution_count": 84,
   "metadata": {},
   "outputs": [
    {
     "data": {
      "text/html": [
       "<div>\n",
       "<style scoped>\n",
       "    .dataframe tbody tr th:only-of-type {\n",
       "        vertical-align: middle;\n",
       "    }\n",
       "\n",
       "    .dataframe tbody tr th {\n",
       "        vertical-align: top;\n",
       "    }\n",
       "\n",
       "    .dataframe thead th {\n",
       "        text-align: right;\n",
       "    }\n",
       "</style>\n",
       "<table border=\"1\" class=\"dataframe\">\n",
       "  <thead>\n",
       "    <tr style=\"text-align: right;\">\n",
       "      <th></th>\n",
       "      <th>0</th>\n",
       "    </tr>\n",
       "  </thead>\n",
       "  <tbody>\n",
       "    <tr>\n",
       "      <th>0</th>\n",
       "      <td>2020-07-05</td>\n",
       "    </tr>\n",
       "  </tbody>\n",
       "</table>\n",
       "</div>"
      ],
      "text/plain": [
       "            0\n",
       "0  2020-07-05"
      ]
     },
     "execution_count": 84,
     "metadata": {},
     "output_type": "execute_result"
    }
   ],
   "source": [
    "df_date"
   ]
  },
  {
   "cell_type": "markdown",
   "metadata": {},
   "source": [
    "Now the title."
   ]
  },
  {
   "cell_type": "code",
   "execution_count": 85,
   "metadata": {},
   "outputs": [],
   "source": [
    "for title_s in bsobj.findAll(\"h1\"):\n",
    "    title_list = format(title_s.text)"
   ]
  },
  {
   "cell_type": "code",
   "execution_count": 86,
   "metadata": {},
   "outputs": [],
   "source": [
    "df_title = pd.DataFrame([title_list])"
   ]
  },
  {
   "cell_type": "code",
   "execution_count": 87,
   "metadata": {},
   "outputs": [
    {
     "data": {
      "text/html": [
       "<div>\n",
       "<style scoped>\n",
       "    .dataframe tbody tr th:only-of-type {\n",
       "        vertical-align: middle;\n",
       "    }\n",
       "\n",
       "    .dataframe tbody tr th {\n",
       "        vertical-align: top;\n",
       "    }\n",
       "\n",
       "    .dataframe thead th {\n",
       "        text-align: right;\n",
       "    }\n",
       "</style>\n",
       "<table border=\"1\" class=\"dataframe\">\n",
       "  <thead>\n",
       "    <tr style=\"text-align: right;\">\n",
       "      <th></th>\n",
       "      <th>0</th>\n",
       "    </tr>\n",
       "  </thead>\n",
       "  <tbody>\n",
       "    <tr>\n",
       "      <th>0</th>\n",
       "      <td>Hong Kong security law: Pro-democracy books pu...</td>\n",
       "    </tr>\n",
       "  </tbody>\n",
       "</table>\n",
       "</div>"
      ],
      "text/plain": [
       "                                                   0\n",
       "0  Hong Kong security law: Pro-democracy books pu..."
      ]
     },
     "execution_count": 87,
     "metadata": {},
     "output_type": "execute_result"
    }
   ],
   "source": [
    "df_title"
   ]
  },
  {
   "cell_type": "code",
   "execution_count": 88,
   "metadata": {},
   "outputs": [
    {
     "data": {
      "text/plain": [
       "pandas.core.frame.DataFrame"
      ]
     },
     "execution_count": 88,
     "metadata": {},
     "output_type": "execute_result"
    }
   ],
   "source": [
    "type(df_title)"
   ]
  },
  {
   "cell_type": "markdown",
   "metadata": {},
   "source": [
    "These two items are manually added."
   ]
  },
  {
   "cell_type": "code",
   "execution_count": 89,
   "metadata": {},
   "outputs": [],
   "source": [
    "country = 'UK'\n",
    "df_country = pd.DataFrame([country])\n",
    "source = 'BBC'\n",
    "df_source = pd.DataFrame([source])"
   ]
  },
  {
   "cell_type": "markdown",
   "metadata": {},
   "source": [
    "Finally, the news."
   ]
  },
  {
   "cell_type": "code",
   "execution_count": 90,
   "metadata": {},
   "outputs": [],
   "source": [
    "news1 = []\n",
    "for news in bsobj.findAll('div',{'class':'ssrcss-uf6wea-RichTextComponentWrapper e1xue1i84'}):\n",
    "    news1.append(news.text.strip())"
   ]
  },
  {
   "cell_type": "code",
   "execution_count": 91,
   "metadata": {},
   "outputs": [
    {
     "data": {
      "text/plain": [
       "['Books by pro-democracy figures have been removed from public libraries in Hong Kong in the wake of a controversial new security law.',\n",
       " 'The works will be reviewed to see if they violate the new law, the authority which runs the libraries said.',\n",
       " 'The legislation targets secession, subversion and terrorism with punishments of up to life in prison.',\n",
       " \"Opponents say it erodes the territory's freedoms as a semi-autonomous region of China. Beijing rejects this.\",\n",
       " 'Hong Kong\\'s sovereignty was handed back to China by Britain in 1997 and certain rights were supposed to be guaranteed for at least 50 years under the \"one country, two systems\" agreement.',\n",
       " 'Since the security law came into effect on Tuesday, several leading pro-democracy activists have stepped down from their roles. One of them - one-time student leader and local legislator Nathan Law - has fled the territory.',\n",
       " 'At least nine books have become unavailable or marked as \"under review\", according to the South China Morning Post newspaper. They include books authored or co-authored by Joshua Wong, a prominent pro-democracy activist, and pro-democracy politician Tanya Chan.',\n",
       " 'On Saturday, Mr Wong tweeted that the new law \"imposes a mainland-style censorship regime\" on Hong Kong, calling it \"one step away from ... actual book banning\".',\n",
       " 'The BBC is not responsible for the content of external sites.View original tweet on Twitter',\n",
       " 'Beijing has dismissed criticism of the law, saying it is necessary to stop the type of mass pro-democracy protests seen in Hong Kong during much of 2019, which at times exploded into very violent clashes between protesters and police.',\n",
       " \"Why people are scared of Hong Kong's new lawMinutes after new law, voices quit\",\n",
       " \"It has rejected complaints by the UK and other Western nations that it is in breach of guarantees it made to protect Hong Kong's unique freedoms as interference in its internal affairs.\",\n",
       " 'By Danny Vincent, BBC News, Hong Kong',\n",
       " 'Hong Kong was promised certain political freedoms for 50 years after the handover. It was guaranteed rights such as freedom of speech, freedom of assembly and an independent judicial system.',\n",
       " 'To many Hong Kong residents, the national security law represents a premature end to those freedoms.',\n",
       " 'Supporters say the law will help to restore order after a year of protest. But critics say it is being used to criminalise opposition to Beijing.',\n",
       " \"The removal of political books from public libraries would have been unimaginable just a week ago. In today's Hong Kong, business owners remove messages of support for the protest movement from their premises, fearful that they could be interpreted as attempts at inciting subversion.\",\n",
       " 'So far, 10 people have been arrested for allegedly violating the new law. But fear and uncertainty are widespread. Protesters now call for demonstrators to hold up blank placards at marches. They fear that their words could lead to life imprisonment.',\n",
       " \"The law is wide-ranging, and gives Beijing powers to shape life in Hong Kong that it has never had before. The law makes inciting hatred of China's central government and Hong Kong's regional government offences.\",\n",
       " 'It also allows for closed-door trials, wire-tapping of suspects and the potential for suspects to be tried on the Chinese mainland.',\n",
       " 'Acts including damaging public transport facilities - which often happened during the 2019 protests - can be considered terrorism.',\n",
       " 'There are also concerns over online freedom as internet providers might have to hand over data if requested by police.',\n",
       " \"THE TEXT: What it is and why Hong Kong is worriedWHAT COULD HAPPEN: Life sentences for breaking the law and moreRESIDENTS REACT: 'End of one country, two systems'\"]"
      ]
     },
     "execution_count": 91,
     "metadata": {},
     "output_type": "execute_result"
    }
   ],
   "source": [
    "news1"
   ]
  },
  {
   "cell_type": "code",
   "execution_count": 92,
   "metadata": {},
   "outputs": [
    {
     "data": {
      "text/plain": [
       "23"
      ]
     },
     "execution_count": 92,
     "metadata": {},
     "output_type": "execute_result"
    }
   ],
   "source": [
    "len(news1)"
   ]
  },
  {
   "cell_type": "code",
   "execution_count": 93,
   "metadata": {},
   "outputs": [
    {
     "data": {
      "text/plain": [
       "\"THE TEXT: What it is and why Hong Kong is worriedWHAT COULD HAPPEN: Life sentences for breaking the law and moreRESIDENTS REACT: 'End of one country, two systems'\""
      ]
     },
     "execution_count": 93,
     "metadata": {},
     "output_type": "execute_result"
    }
   ],
   "source": [
    "news1[-1]"
   ]
  },
  {
   "cell_type": "code",
   "execution_count": 94,
   "metadata": {},
   "outputs": [],
   "source": [
    "n = 1\n",
    "news1 = news1[:len(news1)-1]"
   ]
  },
  {
   "cell_type": "code",
   "execution_count": 95,
   "metadata": {},
   "outputs": [
    {
     "data": {
      "text/plain": [
       "22"
      ]
     },
     "execution_count": 95,
     "metadata": {},
     "output_type": "execute_result"
    }
   ],
   "source": [
    "len(news1)"
   ]
  },
  {
   "cell_type": "code",
   "execution_count": 96,
   "metadata": {},
   "outputs": [
    {
     "data": {
      "text/plain": [
       "'There are also concerns over online freedom as internet providers might have to hand over data if requested by police.'"
      ]
     },
     "execution_count": 96,
     "metadata": {},
     "output_type": "execute_result"
    }
   ],
   "source": [
    "news1[-1]"
   ]
  },
  {
   "cell_type": "markdown",
   "metadata": {},
   "source": [
    "Complete."
   ]
  },
  {
   "cell_type": "code",
   "execution_count": 97,
   "metadata": {},
   "outputs": [],
   "source": [
    "df_news = pd.DataFrame()"
   ]
  },
  {
   "cell_type": "code",
   "execution_count": 98,
   "metadata": {},
   "outputs": [],
   "source": [
    "df_news['article_body'] = news1"
   ]
  },
  {
   "cell_type": "code",
   "execution_count": 99,
   "metadata": {},
   "outputs": [
    {
     "data": {
      "text/html": [
       "<div>\n",
       "<style scoped>\n",
       "    .dataframe tbody tr th:only-of-type {\n",
       "        vertical-align: middle;\n",
       "    }\n",
       "\n",
       "    .dataframe tbody tr th {\n",
       "        vertical-align: top;\n",
       "    }\n",
       "\n",
       "    .dataframe thead th {\n",
       "        text-align: right;\n",
       "    }\n",
       "</style>\n",
       "<table border=\"1\" class=\"dataframe\">\n",
       "  <thead>\n",
       "    <tr style=\"text-align: right;\">\n",
       "      <th></th>\n",
       "      <th>article_body</th>\n",
       "    </tr>\n",
       "  </thead>\n",
       "  <tbody>\n",
       "    <tr>\n",
       "      <th>0</th>\n",
       "      <td>Books by pro-democracy figures have been remov...</td>\n",
       "    </tr>\n",
       "    <tr>\n",
       "      <th>1</th>\n",
       "      <td>The works will be reviewed to see if they viol...</td>\n",
       "    </tr>\n",
       "  </tbody>\n",
       "</table>\n",
       "</div>"
      ],
      "text/plain": [
       "                                        article_body\n",
       "0  Books by pro-democracy figures have been remov...\n",
       "1  The works will be reviewed to see if they viol..."
      ]
     },
     "execution_count": 99,
     "metadata": {},
     "output_type": "execute_result"
    }
   ],
   "source": [
    "df_news.head(2)"
   ]
  },
  {
   "cell_type": "code",
   "execution_count": 100,
   "metadata": {},
   "outputs": [],
   "source": [
    "df_news['article_body'] = df_news.article_body.str.cat(sep='')"
   ]
  },
  {
   "cell_type": "code",
   "execution_count": 101,
   "metadata": {},
   "outputs": [],
   "source": [
    "df_news = df_news.article_body[0]"
   ]
  },
  {
   "cell_type": "code",
   "execution_count": 102,
   "metadata": {},
   "outputs": [],
   "source": [
    "df_news = df_news.replace(r'\\\\?','')"
   ]
  },
  {
   "cell_type": "code",
   "execution_count": 103,
   "metadata": {},
   "outputs": [],
   "source": [
    "df_news = pd.DataFrame([df_news])"
   ]
  },
  {
   "cell_type": "code",
   "execution_count": 104,
   "metadata": {},
   "outputs": [
    {
     "data": {
      "text/plain": [
       "pandas.core.frame.DataFrame"
      ]
     },
     "execution_count": 104,
     "metadata": {},
     "output_type": "execute_result"
    }
   ],
   "source": [
    "type(df_news)"
   ]
  },
  {
   "cell_type": "code",
   "execution_count": 105,
   "metadata": {},
   "outputs": [],
   "source": [
    "df_news.columns = ['Article']"
   ]
  },
  {
   "cell_type": "code",
   "execution_count": 106,
   "metadata": {},
   "outputs": [
    {
     "data": {
      "text/html": [
       "<div>\n",
       "<style scoped>\n",
       "    .dataframe tbody tr th:only-of-type {\n",
       "        vertical-align: middle;\n",
       "    }\n",
       "\n",
       "    .dataframe tbody tr th {\n",
       "        vertical-align: top;\n",
       "    }\n",
       "\n",
       "    .dataframe thead th {\n",
       "        text-align: right;\n",
       "    }\n",
       "</style>\n",
       "<table border=\"1\" class=\"dataframe\">\n",
       "  <thead>\n",
       "    <tr style=\"text-align: right;\">\n",
       "      <th></th>\n",
       "      <th>Article</th>\n",
       "    </tr>\n",
       "  </thead>\n",
       "  <tbody>\n",
       "    <tr>\n",
       "      <th>0</th>\n",
       "      <td>Books by pro-democracy figures have been remov...</td>\n",
       "    </tr>\n",
       "  </tbody>\n",
       "</table>\n",
       "</div>"
      ],
      "text/plain": [
       "                                             Article\n",
       "0  Books by pro-democracy figures have been remov..."
      ]
     },
     "execution_count": 106,
     "metadata": {},
     "output_type": "execute_result"
    }
   ],
   "source": [
    "df_news.head()"
   ]
  },
  {
   "cell_type": "markdown",
   "metadata": {},
   "source": [
    "**Bringing it together.**<a id='2.5_bit'></a>"
   ]
  },
  {
   "cell_type": "code",
   "execution_count": 107,
   "metadata": {},
   "outputs": [],
   "source": [
    "df_21_bbc = pd.concat([df_date,df_source,df_country,df_title,df_news],axis = 1, ignore_index=False)"
   ]
  },
  {
   "cell_type": "code",
   "execution_count": 108,
   "metadata": {},
   "outputs": [],
   "source": [
    "df_21_bbc.columns = ['date','source','country','title','article']"
   ]
  },
  {
   "cell_type": "code",
   "execution_count": 109,
   "metadata": {},
   "outputs": [
    {
     "data": {
      "text/html": [
       "<div>\n",
       "<style scoped>\n",
       "    .dataframe tbody tr th:only-of-type {\n",
       "        vertical-align: middle;\n",
       "    }\n",
       "\n",
       "    .dataframe tbody tr th {\n",
       "        vertical-align: top;\n",
       "    }\n",
       "\n",
       "    .dataframe thead th {\n",
       "        text-align: right;\n",
       "    }\n",
       "</style>\n",
       "<table border=\"1\" class=\"dataframe\">\n",
       "  <thead>\n",
       "    <tr style=\"text-align: right;\">\n",
       "      <th></th>\n",
       "      <th>date</th>\n",
       "      <th>source</th>\n",
       "      <th>country</th>\n",
       "      <th>title</th>\n",
       "      <th>article</th>\n",
       "    </tr>\n",
       "  </thead>\n",
       "  <tbody>\n",
       "    <tr>\n",
       "      <th>0</th>\n",
       "      <td>2020-07-05</td>\n",
       "      <td>BBC</td>\n",
       "      <td>UK</td>\n",
       "      <td>Hong Kong security law: Pro-democracy books pu...</td>\n",
       "      <td>Books by pro-democracy figures have been remov...</td>\n",
       "    </tr>\n",
       "  </tbody>\n",
       "</table>\n",
       "</div>"
      ],
      "text/plain": [
       "         date source country  \\\n",
       "0  2020-07-05    BBC      UK   \n",
       "\n",
       "                                               title  \\\n",
       "0  Hong Kong security law: Pro-democracy books pu...   \n",
       "\n",
       "                                             article  \n",
       "0  Books by pro-democracy figures have been remov...  "
      ]
     },
     "execution_count": 109,
     "metadata": {},
     "output_type": "execute_result"
    }
   ],
   "source": [
    "df_21_bbc.head()"
   ]
  },
  {
   "cell_type": "code",
   "execution_count": null,
   "metadata": {},
   "outputs": [],
   "source": []
  },
  {
   "cell_type": "markdown",
   "metadata": {},
   "source": [
    "**Saving**<a id='2.6_save'></a>"
   ]
  },
  {
   "cell_type": "code",
   "execution_count": 110,
   "metadata": {},
   "outputs": [
    {
     "name": "stdout",
     "output_type": "stream",
     "text": [
      "C:\\Users\\rands\n"
     ]
    }
   ],
   "source": [
    "cd"
   ]
  },
  {
   "cell_type": "markdown",
   "metadata": {},
   "source": [
    "Saving it to Excel."
   ]
  },
  {
   "cell_type": "code",
   "execution_count": 111,
   "metadata": {},
   "outputs": [
    {
     "name": "stdout",
     "output_type": "stream",
     "text": [
      "Complete\n"
     ]
    }
   ],
   "source": [
    "# df = pd.DataFrame(reviewlist)\n",
    "\n",
    "# index=False below so that we don't get the dataframe index on the side; we just use the excel index\n",
    "df_21_bbc.to_csv('./_Capstone_Two_NLP/data/_news/bbc_21.csv', index=False)\n",
    "\n",
    "print('Complete')"
   ]
  },
  {
   "cell_type": "code",
   "execution_count": null,
   "metadata": {},
   "outputs": [],
   "source": []
  }
 ],
 "metadata": {
  "kernelspec": {
   "display_name": "Python 3",
   "language": "python",
   "name": "python3"
  },
  "language_info": {
   "codemirror_mode": {
    "name": "ipython",
    "version": 3
   },
   "file_extension": ".py",
   "mimetype": "text/x-python",
   "name": "python",
   "nbconvert_exporter": "python",
   "pygments_lexer": "ipython3",
   "version": "3.8.5"
  },
  "varInspector": {
   "cols": {
    "lenName": 16,
    "lenType": 16,
    "lenVar": 40
   },
   "kernels_config": {
    "python": {
     "delete_cmd_postfix": "",
     "delete_cmd_prefix": "del ",
     "library": "var_list.py",
     "varRefreshCmd": "print(var_dic_list())"
    },
    "r": {
     "delete_cmd_postfix": ") ",
     "delete_cmd_prefix": "rm(",
     "library": "var_list.r",
     "varRefreshCmd": "cat(var_dic_list()) "
    }
   },
   "types_to_exclude": [
    "module",
    "function",
    "builtin_function_or_method",
    "instance",
    "_Feature"
   ],
   "window_display": false
  }
 },
 "nbformat": 4,
 "nbformat_minor": 4
}
