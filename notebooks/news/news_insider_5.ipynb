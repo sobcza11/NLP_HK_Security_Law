{
 "cells": [
  {
   "cell_type": "markdown",
   "metadata": {},
   "source": [
    "# Scraping What one month looks like from Insider"
   ]
  },
  {
   "cell_type": "markdown",
   "metadata": {},
   "source": [
    "## 2.1 Contents<a id='2.1_Contents'></a>\n",
    "* [2.1 Importing Relevant Tools](#2.1_Importing)\n",
    "* [2.2 Defining the Request](#2.2_URL)\n",
    "* [2.3 Grab | Date](#2.4_scrape_date)\n",
    "* [2.4 Grab | Header](#2.4_scrape_header)\n",
    "* [2.5 Grab | Content](#2.4_scrape_content)\n",
    "* [2.6 Clean | Send to DataFrame](#2.5_review)\n",
    "* [2.7 Save](#2.6_save)\n"
   ]
  },
  {
   "cell_type": "markdown",
   "metadata": {},
   "source": [
    "**Importing Relevant Tools**<a id='2.1_Importing'></a>"
   ]
  },
  {
   "cell_type": "code",
   "execution_count": 25,
   "metadata": {},
   "outputs": [],
   "source": [
    "import json\n",
    "import pandas as pd\n",
    "from bs4 import BeautifulSoup as soup\n",
    "import requests\n",
    "import csv\n",
    "import re\n",
    "import pickle\n",
    "\n",
    "%reload_ext watermark"
   ]
  },
  {
   "cell_type": "code",
   "execution_count": 26,
   "metadata": {},
   "outputs": [],
   "source": [
    "#the below needs to be reviewed for all websites; notably the time format\n",
    "\n",
    "from datetime import date\n",
    "from datetime import datetime\n",
    "today = date.today()\n",
    "d = today.strftime(\"%m-%d-%y\")"
   ]
  },
  {
   "cell_type": "markdown",
   "metadata": {},
   "source": [
    "For reference."
   ]
  },
  {
   "cell_type": "code",
   "execution_count": 27,
   "metadata": {},
   "outputs": [
    {
     "name": "stdout",
     "output_type": "stream",
     "text": [
      "Python implementation: CPython\n",
      "Python version       : 3.8.5\n",
      "IPython version      : 7.19.0\n",
      "\n",
      "pandas: 1.1.3\n",
      "\n"
     ]
    }
   ],
   "source": [
    "%watermark -d -t -v -p pandas"
   ]
  },
  {
   "cell_type": "markdown",
   "metadata": {},
   "source": [
    "**Defining the Request**<a id='2.2_URL'></a>"
   ]
  },
  {
   "cell_type": "code",
   "execution_count": 28,
   "metadata": {},
   "outputs": [
    {
     "data": {
      "text/plain": [
       "'https://www.businessinsider.com/hong-kong-china-national-security-law-one-month-what-changed-2020-7'"
      ]
     },
     "execution_count": 28,
     "metadata": {},
     "output_type": "execute_result"
    }
   ],
   "source": [
    "url = 'https://www.businessinsider.com/hong-kong-china-national-security-law-one-month-what-changed-2020-7'\n",
    "content = requests.get(url).content\n",
    "url"
   ]
  },
  {
   "cell_type": "code",
   "execution_count": 29,
   "metadata": {},
   "outputs": [],
   "source": [
    "soup = soup(content,'html.parser')\n",
    "# bsobj"
   ]
  },
  {
   "cell_type": "markdown",
   "metadata": {},
   "source": [
    "**Grab | Date**<a id='2.4_scrape_date'></a>"
   ]
  },
  {
   "cell_type": "code",
   "execution_count": 30,
   "metadata": {},
   "outputs": [
    {
     "name": "stdout",
     "output_type": "stream",
     "text": [
      "Bill Bostock\n",
      "\n",
      "\n",
      "                    2020-08-02T07:10:00Z\n",
      "                  \n",
      "\n",
      "\n",
      "\n",
      " \n",
      "\n",
      "\n",
      "\n",
      "Facebook Icon\n",
      "The letter F.\n",
      "\n",
      " \n",
      "\n",
      "Email icon\n",
      "An envelope. It indicates the ability to send an email.\n",
      "\n",
      "\n",
      "\n",
      "\n",
      "\n",
      " \n",
      "\n",
      "\n",
      "\n",
      "\n",
      "Twitter icon\n",
      "A stylized bird with an open mouth, tweeting.\n",
      "\n",
      "\n",
      "Twitter\n",
      " \n",
      "\n",
      "\n",
      "\n",
      "LinkedIn icon\n",
      "The word \"in\".\n",
      "\n",
      "\n",
      "LinkedIn\n",
      " \n",
      "\n",
      "\n",
      "\n",
      "Fliboard icon\n",
      "A stylized letter F.\n",
      "\n",
      "\n",
      "Flipboard\n",
      " \n",
      "\n",
      "\n",
      "\n",
      "Link icon\n",
      "An image of a chain link. It symobilizes a website link url.\n",
      "\n",
      "\n",
      "Copy Link\n"
     ]
    }
   ],
   "source": [
    "for date in soup.findAll('section',{'class':'byline-wrapper col-12'}):\n",
    "    print(date.text.strip())"
   ]
  },
  {
   "cell_type": "markdown",
   "metadata": {},
   "source": [
    "The date is in there but needs to be cleaned."
   ]
  },
  {
   "cell_type": "markdown",
   "metadata": {},
   "source": [
    "**Grab | Header**<a id='2.4_scrape_header'></a>"
   ]
  },
  {
   "cell_type": "code",
   "execution_count": 31,
   "metadata": {},
   "outputs": [
    {
     "name": "stdout",
     "output_type": "stream",
     "text": [
      "Teenage arrests, blank protest signs, and a key election postponed: What one month of China's new national security law for Hong Kong has looked like\n"
     ]
    }
   ],
   "source": [
    "for title in soup.findAll('h1'):\n",
    "    print(title.text.strip())"
   ]
  },
  {
   "cell_type": "code",
   "execution_count": 32,
   "metadata": {},
   "outputs": [
    {
     "data": {
      "text/plain": [
       "<h1 class=\"post-headline\">Teenage arrests, blank protest signs, and a key election postponed: What one month of China's new national security law for Hong Kong has looked like</h1>"
      ]
     },
     "execution_count": 32,
     "metadata": {},
     "output_type": "execute_result"
    }
   ],
   "source": [
    "title"
   ]
  },
  {
   "cell_type": "code",
   "execution_count": 33,
   "metadata": {},
   "outputs": [],
   "source": [
    "TAG_RE = re.compile(r'<[^>]+>')"
   ]
  },
  {
   "cell_type": "code",
   "execution_count": 34,
   "metadata": {},
   "outputs": [],
   "source": [
    "def remove_tags(text):\n",
    "    return TAG_RE.sub('', text)"
   ]
  },
  {
   "cell_type": "code",
   "execution_count": 35,
   "metadata": {},
   "outputs": [
    {
     "data": {
      "text/plain": [
       "\"Teenage arrests, blank protest signs, and a key election postponed: What one month of China's new national security law for Hong Kong has looked like\""
      ]
     },
     "execution_count": 35,
     "metadata": {},
     "output_type": "execute_result"
    }
   ],
   "source": [
    "remove_tags(str(title))"
   ]
  },
  {
   "cell_type": "markdown",
   "metadata": {},
   "source": [
    "Confirmed that's the title; a little longer of a journey to get it."
   ]
  },
  {
   "cell_type": "markdown",
   "metadata": {},
   "source": [
    "**Grab | Content**<a id='2.4_scrape_content'></a>"
   ]
  },
  {
   "cell_type": "code",
   "execution_count": 36,
   "metadata": {},
   "outputs": [
    {
     "name": "stdout",
     "output_type": "stream",
     "text": [
      "Thursday, July 30, marked one month since China imposed a new national-security law on Hong Kong.A lot has happened in a very short time.Vocal activists fled to safety abroad, political organizations disbanded, and pro-democracy candidates were banned from running in September's legislative election (which was also postponed on Friday).But pro-democracy activists have vowed to fight on, with some finding new ways to protest without falling afoul of the law, and others planning a parliament in exile.Elsewhere, China and Britain have exchanged barbs after the UK promised to give 3 million Hong Kongers a path to citizenship.Visit Business Insider's homepage for more stories.\n",
      "\n",
      "Thursday, July 30, marked one month since China's new national security law came into force in Hong Kong.From June 30, China has wielded the power to define and punish \"separatism, subversion, terrorism and foreign interference\" in the city as it sees fit. This means that anti-China sentiment — be it waving banners, attending protests, posting on social media, or calling for foreign intervention — is no longer tolerated.The law effectively marks the end of Hong Kong's political autonomy from the mainland. The crackdown has been swift and often violent, but pro-democracy activists haven't lost all hope.\n",
      "\n",
      "Here's what's happened in the month since.Political groups disbanded as activists fled to safetyShortly after the law came into force, four major pro-democracy figures — Joshua Wong, Agnes Chow, Nathan Law, and Jeffrey Ngo — resigned as leaders of the Demosistō organization, fearing that their titles would see them imprisoned.Hours later, Demosistō said the entire organization was disbanding. The Hong Kong National Front, another significant pro-independence group, disbanded soon after.\n",
      "\n",
      "\n",
      "\n",
      "\n",
      "\n",
      "\n",
      "\n",
      "\n",
      "\n",
      "                                Riot police officers detain a demonstrator during a protest in Hong Kong on May 27, 2020.\n",
      "                              \n",
      "\n",
      "                                  REUTERS/Tyrone Siu\n",
      "                                \n",
      "\n",
      "Nathan Law, a local politician and co-founder of Demosistō, announced on July 3 that he had fled Hong Kong. He revealed on July 13 that he was living in London.\n",
      "\n",
      "Also in London is Simon Cheng, a campaigner and former British consulate employee in Hong Kong, who was detained for 15 days during a trip to mainland China last year. Cheng said he was tortured by Chinese agents.Cheng has since announced intentions to set up a parliament-in-exile with other activists who have fled.\"A shadow parliament can send a very clear signal to Beijing,\" he told Reuters in early July.Public libraries in Hong Kong have also removed books written by pro-democracy activists from their shelves and catalogues.\n",
      "\n",
      "Police used the law to justify arrests right awayOn the first day of the national-security law's existence, 300 protesters were arrested by the Hong Kong police. Nine of the arrests were on suspicion of violating the national security, which forbids secession, the police said. The vague wording of the law gives police vast discretion to arrest people. Participating in demonstrations and waving anti-China slogans were good enough reasons for them to detain protesters.The full text of law was not even made public until several days after it had been passed. Leading figures arrestedFour students and activists aged between 16 and 21 were arrested on Thursday for \"inciting secession\" on social media — a charge that could see them spend the rest of their lives in jail.\n",
      "\n",
      "The Hong Kong Police Force said the quartet had announced on social media that they were setting up a pro-independence organisation, according to the BBC. They were detained for \"inciting secession.\"The arrests appear to be the first that specifically target Hong Kong's activists.\n",
      "\n",
      "\n",
      "\n",
      "\n",
      "\n",
      "\n",
      "\n",
      "\n",
      "\n",
      "                                A woman walks past a poster for the National Security Law in Hong Kong on July 28, 2020.\n",
      "                              \n",
      "\n",
      "                                  ANTHONY WALLACE/AFP via Getty Images\n",
      "                                \n",
      "\n",
      "A key election postponed, with opposition barredTwelve pro-democracy political candidates, including Joshua Wong and Dennis Kwok, were barred from running in Hong Kong's legislative election, which was scheduled in September.The elections had been the pro-democracy movement's best — and perhaps final — chance to combat China's growing encroachment on the city's political autonomy after the security law was imposed.\n",
      "\n",
      "China's liaison office in Hong Kong said the candidates had lobbied \"foreign powers to put sanctions on Hong Kong\" and tried to derail the passing of the security law. Colluding with foreign forces are one of the serious infractions detailed in the law.To make matters worse for the democracy movement, Hong Kong's government on Friday said it was delaying the election set for September by a year, citing concerns over the coronavirus.\n",
      "\n",
      "\n",
      "\n",
      "\n",
      "\n",
      "\n",
      "\n",
      "\n",
      "\n",
      "                                Civic Party members during a press conference at the party headquarters in Hong Kong on July 30, 2020.\n",
      "                              \n",
      "\n",
      "                                  ANTHONY WALLACE/AFP via Getty Images\n",
      "                                \n",
      "\n",
      "But pro-democracy politicians still have hopeShortly after being barred from running in future legislative elections, senior members of the pro-democracy Civic Party said they would not lose heart.\"When the regime wishes to enslave us, the best thing to do is to stand firm and tell the regime we would not change,\" said Kwok Ka-ki, one of the members, according to local news channel RTHK.\n",
      "\n",
      "On July 11 — less than two weeks after the security law was imposed — 600,000 Hong Kongers risked their safety to vote for the pro-democracy candidates they wanted to run in the (now postponed) legislative elections.New forms of resistanceHolding protest signs and chanting anti-China slogans are forbidden under the national-security law. Carrying a banner reading \"Free Hong Kong,\" for example, could get you imprisoned now.However, protesters were quick to adopt a new banner of independence: Sheets of white posters with no slogans of symbols that could see them breach the law.Activists have also changed the words to popular independence chants to avoid falling afoul of the security law. During a protest earlier this month, a group of protesters replaced the words in the protest anthem \"Glory to Hong Kong\" with numbers, RTHK reported.\n",
      "\n",
      "\n",
      "\n",
      "\n",
      "\n",
      "\n",
      "\n",
      "\n",
      "\n",
      "\n",
      "\n",
      "                                A group of Hong Kongers at a silent protest in a mall in the city on July 6, 2020.\n",
      "                              \n",
      "\n",
      "                                  Twitter/XinqiSu\n",
      "                                \n",
      "\n",
      "Some countries are committed to helping outTaiwan has surreptitiously tried to help activists and protesters stay in the country. Taiwan has in recent years become more vocal in its anti-China stance — the island has been self-ruling for decades but Beijing has always considered it a Chinese territory.Around 200 Hong Kong protesters are in Taiwan right now, according to The Guardian. Authorities there have encouraged Hong Kongers to extend their tourist visas and also enroll in colleges to get longer-term visas, which will keep them out of harm's way.\n",
      "\n",
      "\n",
      "\n",
      "\n",
      "\n",
      "\n",
      "\n",
      "\n",
      "\n",
      "                                Protesters gather in front of the Chinese Embassy in Seoul on May 27, 2020, to oppose China's move to enact a national security law.\n",
      "                              \n",
      "\n",
      "                                  Kyodo News via Getty Images\n",
      "                                \n",
      "\n",
      "The UK, which ruled over Hong Kong for 150 years until 1997, has also offered three million Hong Kongers and their families a path to British citizenship.\n",
      "\n",
      "Since Prime Minister Boris Johnson made that pledge, estate agents in London have observed a marked increase in requests for houses from Hong Kongers. However, China threatened on Friday to stop recognizing the British National Overseas passports held by millions of Hong Kongers, which could prevent the three million from leaving at all.\n"
     ]
    }
   ],
   "source": [
    "for bodies in soup.find_all('div',{'class','content-lock-content'}):\n",
    "    print(bodies.text.strip())"
   ]
  },
  {
   "cell_type": "code",
   "execution_count": 37,
   "metadata": {},
   "outputs": [
    {
     "data": {
      "text/plain": [
       "90"
      ]
     },
     "execution_count": 37,
     "metadata": {},
     "output_type": "execute_result"
    }
   ],
   "source": [
    "len(bodies)"
   ]
  },
  {
   "cell_type": "markdown",
   "metadata": {},
   "source": [
    "Confirmed that's the bottom; needs internal work."
   ]
  },
  {
   "cell_type": "markdown",
   "metadata": {},
   "source": [
    "**Clean | Send to DataFrame**<a id='2.5_review'></a>"
   ]
  },
  {
   "cell_type": "markdown",
   "metadata": {},
   "source": [
    "First the date from string to a datetime object."
   ]
  },
  {
   "cell_type": "code",
   "execution_count": 60,
   "metadata": {},
   "outputs": [],
   "source": [
    "for date in soup.findAll('section',{'class':'byline-wrapper col-12'}):\n",
    "    date.text.strip()"
   ]
  },
  {
   "cell_type": "code",
   "execution_count": 61,
   "metadata": {},
   "outputs": [
    {
     "data": {
      "text/plain": [
       "<section class=\"byline-wrapper col-12\">\n",
       "<div class=\"byline\" data-e2e-name=\"byline\">\n",
       "<div class=\"byline-content\" data-e2e-name=\"byline-content\">\n",
       "<div class=\"byline-row\">\n",
       "<div class=\"byline-author-container\">\n",
       "<div class=\"byline-author headline-bold\">\n",
       "<span class=\"\" data-e2e-name=\"Bill Bostock\">\n",
       "<a class=\"byline-link byline-author-name\" data-e2e-name=\"byline-author-name\" href=\"https://www.businessinsider.com/author/bill-bostock\">Bill Bostock</a></span>\n",
       "</div>\n",
       "<div class=\"byline-timestamp headline-regular js-date-format\" data-e2e-name=\"byline-timestamp\" data-timestamp=\"2020-08-02T07:10:00Z\">\n",
       "                    2020-08-02T07:10:00Z\n",
       "                  </div>\n",
       "</div>\n",
       "</div>\n",
       "</div>\n",
       "</div> <section aria-label=\"Share This Post\" class=\"share-wrapper share-wrapper-top\" data-e2e-name=\"share-wrapper-top\" data-share-top=\"\" data-track-page-area=\"Post Top\">\n",
       "<div class=\"group-icons\" data-group-icons=\"\">\n",
       "<a aria-label=\"Click to visit us on Facebook\" class=\"share-link facebook\" data-e2e-name=\"share-link-facebook\" data-facebook=\"\" data-flip-widget=\"\" data-href-share=\"https://www.facebook.com/sharer/sharer.php?u=https%3A%2F%2Fwww.businessinsider.com%2Fhong-kong-china-national-security-law-one-month-what-changed-2020-7&amp;utmSource=facebook&amp;utmContent=referral&amp;utmTerm=topbar&amp;referrer=facebook\" data-share-link=\"\" data-track-event-label=\"facebook\" data-utm-term=\"\" href=\"https://www.facebook.com/sharer/sharer.php?u=https%3A%2F%2Fwww.businessinsider.com%2Fhong-kong-china-national-security-law-one-month-what-changed-2020-7&amp;utmSource=facebook&amp;utmContent=referral&amp;utmTerm=topbar&amp;referrer=facebook\" label=\"facebook\" target=\"_blank\" title=\"Share on Facebook\">\n",
       "<svg class=\"svg-icon facebook-icon\" height=\"1em\" role=\"img\" viewbox=\"0 0 51.9 100\" width=\"1em\" xmlns=\"http://www.w3.org/2000/svg\">\n",
       "<title>Facebook Icon</title>\n",
       "<desc>The letter F.</desc>\n",
       "<path class=\"facebook\" d=\"M51.9.7v15.9h-9.4c-3.4 0-5.8.7-7 2.2-1.2 1.4-1.8 3.6-1.8 6.5v11.4h17.6L49 54.4H33.7V100H15.3V54.4H0V36.6h15.3V23.5c0-7.4 2.1-13.2 6.2-17.3C25.7 2.1 31.3 0 38.2 0c5.9 0 10.5.2 13.7.7z\"></path>\n",
       "</svg></a> <a aria-label=\"Click to email\" class=\"share-link email\" data-e2e-name=\"share-link-email\" data-email=\"\" data-href-share=\"mailto:?subject=Teenage arrests, blank protest signs, and a key election postponed: What one month of China's new national security law for Hong Kong has looked like&amp;body=Teenage%20arrests%2C%20blank%20protest%20signs%2C%20and%20a%20key%20election%20postponed%3A%20What%20one%20month%20of%20China's%20new%20national%20security%20law%20for%20Hong%20Kong%20has%20looked%20like%0D%0A%0D%0Ahttps%3A%2F%2Fwww.businessinsider.com%2Fhong-kong-china-national-security-law-one-month-what-changed-2020-7&amp;\" data-share-link=\"\" data-track-event-label=\"email\" data-utm-term=\"\" href=\"mailto:?subject=Teenage arrests, blank protest signs, and a key election postponed: What one month of China's new national security law for Hong Kong has looked like&amp;body=Teenage%20arrests%2C%20blank%20protest%20signs%2C%20and%20a%20key%20election%20postponed%3A%20What%20one%20month%20of%20China's%20new%20national%20security%20law%20for%20Hong%20Kong%20has%20looked%20like%0D%0A%0D%0Ahttps%3A%2F%2Fwww.businessinsider.com%2Fhong-kong-china-national-security-law-one-month-what-changed-2020-7&amp;\" label=\"email\" title=\"Email\">\n",
       "<svg class=\"svg-icon email-icon\" height=\"1em\" role=\"img\" viewbox=\"0 0 486 400\" width=\"1em\" xmlns=\"http://www.w3.org/2000/svg\">\n",
       "<title>Email icon</title>\n",
       "<desc>An envelope. It indicates the ability to send an email.</desc>\n",
       "<path class=\"email\" d=\"M0 26.4v347.1h486V26.4H0zm402.7 34.8L243 220.8 83.3 61.2h319.4zm48.6 277.6H34.7V61.2L243 269.4 451.3 61.2v277.6z\"></path>\n",
       "</svg></a>\n",
       "<span class=\"share-link share-icon\" id=\"share-icon-button\"><svg class=\"svg-icon share-icon\" fill=\"none\" viewbox=\"0 0 12 12\" xmlns=\"http://www.w3.org/2000/svg\">\n",
       "<defs></defs>\n",
       "<path clip-rule=\"evenodd\" d=\"M7.336 8.014l4.2-3.5-4.2-3.5v2.8h-2.54c-1.948 0-3.526 1.567-3.526 3.5v3.16h1.469v-3.16a2.05 2.05 0 012.056-2.042h2.54v2.742z\" fill-rule=\"evenodd\"></path>\n",
       "</svg> </span>\n",
       "<div class=\"dropdown-menu\">\n",
       "<span class=\"dropdown-menu-item\">\n",
       "<a aria-label=\"Click to visit us on Twitter\" class=\"twitter\" data-e2e-name=\"share-link-twitter\" data-flip-widget=\"\" data-href-share=\"https://twitter.com/intent/tweet?text=Teenage%20arrests%2C%20blank%20protest%20signs%2C%20and%20a%20key%20election%20postponed%3A%20What%20one%20month%20of%20China's%20new%20national%20security%20law%20for%20Hong%20Kong%20has%20looked%20like&amp;url=https%3A%2F%2Fwww.businessinsider.com%2Fhong-kong-china-national-security-law-one-month-what-changed-2020-7%3FutmSource%3Dtwitter%26utmContent%3Dreferral%26utmTerm%3Dtopbar%26referrer%3Dtwitter&amp;via=businessinsider&amp;utmSource=twitter&amp;utmContent=referral&amp;utmTerm=topbar&amp;referrer=twitter\" data-share-link=\"\" data-track-event-label=\"twitter\" data-twitter=\"\" data-utm-term=\"\" href=\"https://twitter.com/intent/tweet?text=Teenage%20arrests%2C%20blank%20protest%20signs%2C%20and%20a%20key%20election%20postponed%3A%20What%20one%20month%20of%20China's%20new%20national%20security%20law%20for%20Hong%20Kong%20has%20looked%20like&amp;url=https%3A%2F%2Fwww.businessinsider.com%2Fhong-kong-china-national-security-law-one-month-what-changed-2020-7%3FutmSource%3Dtwitter%26utmContent%3Dreferral%26utmTerm%3Dtopbar%26referrer%3Dtwitter&amp;via=businessinsider&amp;utmSource=twitter&amp;utmContent=referral&amp;utmTerm=topbar&amp;referrer=twitter\" label=\"twitter\" target=\"_blank\" title=\"Share on Twitter\">\n",
       "<span class=\"dropdown-icon\"><svg class=\"svg-icon twitter-icon\" height=\"1em\" role=\"img\" viewbox=\"0 0 100 81.2\" width=\"1em\" xmlns=\"http://www.w3.org/2000/svg\">\n",
       "<title>Twitter icon</title>\n",
       "<desc>A stylized bird with an open mouth, tweeting.</desc>\n",
       "<path class=\"twitter\" d=\"M100 9.6c-2.8 4.1-6.3 7.7-10.3 10.6 0 .6.1 1.5.1 2.7 0 5.5-.8 11-2.4 16.5-1.6 5.5-4.1 10.7-7.3 15.8-3.3 5-7.2 9.5-11.7 13.4-4.5 3.9-10 7-16.4 9.3-6.4 2.3-13.2 3.5-20.5 3.5C20 81.2 9.5 78.1 0 72c1.5.2 3.1.3 5 .3 9.5 0 18-2.9 25.4-8.8-4.4-.1-8.4-1.4-11.9-4.1-3.5-2.6-5.9-6-7.2-10.1 1.4.2 2.7.3 3.9.3 1.8 0 3.6-.2 5.4-.7-4.7-1-8.7-3.3-11.8-7.1-3.1-3.7-4.7-8.1-4.7-13v-.3c2.9 1.6 6 2.5 9.3 2.6-2.8-1.9-5-4.3-6.7-7.3-1.6-3-2.5-6.3-2.5-9.8 0-3.7.9-7.2 2.8-10.3C12.1 10 18.3 15 25.7 18.8c7.3 3.8 15.2 5.9 23.6 6.3-.3-1.6-.5-3.2-.5-4.7 0-5.7 2-10.5 6-14.5s8.8-6 14.5-6c5.9 0 10.9 2.2 15 6.5 4.6-.9 8.9-2.5 13-5-1.6 4.9-4.6 8.6-9 11.3 3.8-.3 7.8-1.4 11.7-3.1z\"></path>\n",
       "</svg></span>\n",
       "<span class=\"dropdown-text\">Twitter</span>\n",
       "</a> </span>\n",
       "<span class=\"dropdown-menu-item\">\n",
       "<a aria-label=\"Connect with us on LinkedIn\" class=\"linkedin\" data-e2e-name=\"share-link-linkedin\" data-flip-widget=\"\" data-href-share=\"https://www.linkedin.com/shareArticle?url=https%3A%2F%2Fwww.businessinsider.com%2Fhong-kong-china-national-security-law-one-month-what-changed-2020-7&amp;title=Teenage%20arrests%2C%20blank%20protest%20signs%2C%20and%20a%20key%20election%20postponed%3A%20What%20one%20month%20of%20China's%20new%20national%20security%20law%20for%20Hong%20Kong%20has%20looked%20like&amp;summary=The%20security%20law%2C%20passed%20on%20June%2030%2C%20gave%20China%20the%20power%20to%20meddle%20in%20Hong%20Kong%20like%20never%20before.%20Beijing%20is%20putting%20it%20to%20good%20use%20already.&amp;mini=true&amp;utmSource=linkedIn&amp;utmContent=referral&amp;utmTerm=topbar&amp;referrer=linkedIn\" data-linkedin=\"\" data-popup-size=\"975|720\" data-share-link=\"\" data-track-event-label=\"linkedin\" data-utm-term=\"\" href=\"https://www.linkedin.com/shareArticle?url=https%3A%2F%2Fwww.businessinsider.com%2Fhong-kong-china-national-security-law-one-month-what-changed-2020-7&amp;title=Teenage%20arrests%2C%20blank%20protest%20signs%2C%20and%20a%20key%20election%20postponed%3A%20What%20one%20month%20of%20China's%20new%20national%20security%20law%20for%20Hong%20Kong%20has%20looked%20like&amp;summary=The%20security%20law%2C%20passed%20on%20June%2030%2C%20gave%20China%20the%20power%20to%20meddle%20in%20Hong%20Kong%20like%20never%20before.%20Beijing%20is%20putting%20it%20to%20good%20use%20already.&amp;mini=true&amp;utmSource=linkedIn&amp;utmContent=referral&amp;utmTerm=topbar&amp;referrer=linkedIn\" label=\"linkedin\" target=\"_blank\" title=\"Share on LinkedIn\">\n",
       "<span class=\"dropdown-icon\"><svg class=\"svg-icon linkedin-icon\" height=\"1em\" role=\"img\" viewbox=\"0 0 100 95.6\" width=\"1em\" xmlns=\"http://www.w3.org/2000/svg\">\n",
       "<title>LinkedIn icon</title>\n",
       "<desc>The word \"in\".</desc>\n",
       "<path class=\"linkedin\" d=\"M24.1 11.1c0 3.2-1.1 5.8-3.3 7.9-2.2 2.1-5.2 3.2-8.8 3.2h-.1c-3.6 0-6.4-1.1-8.6-3.2C1.1 16.9 0 14.3 0 11.1s1.1-5.9 3.4-8C5.6 1 8.5 0 12.1 0c3.6 0 6.5 1 8.7 3.2 2.1 2.1 3.2 4.7 3.3 7.9zm-1.4 20v64.5H1.2V31.1h21.5zM100 58.6v37H78.6V61.1c0-4.6-.9-8.1-2.6-10.7-1.8-2.6-4.5-3.9-8.2-3.9-2.7 0-5 .7-6.9 2.2-1.8 1.5-3.2 3.4-4.1 5.6-.5 1.3-.7 3.1-.7 5.3v36H34.6c.1-17.3.1-31.4.1-42.1 0-10.8 0-17.2-.1-19.3l-.1-3.1H56v9.4h-.1c.9-1.4 1.8-2.6 2.7-3.6.9-1 2.1-2.2 3.7-3.4 1.5-1.2 3.4-2.2 5.7-2.8 2.2-.7 4.7-1 7.5-1 7.4 0 13.4 2.5 17.9 7.4 4.3 4.8 6.6 12 6.6 21.5z\"></path>\n",
       "</svg></span>\n",
       "<span class=\"dropdown-text\">LinkedIn</span>\n",
       "</a> </span>\n",
       "<span class=\"dropdown-menu-item\">\n",
       "<a aria-label=\"\" class=\"flipboard\" data-e2e-name=\"share-link-flipboard\" data-flip-widget=\"shareflip\" data-flipboard=\"\" data-href-share=\"https://share.flipboard.com/bookmarklet/popout?url=https%3A%2F%2Fwww.businessinsider.com%2Fhong-kong-china-national-security-law-one-month-what-changed-2020-7&amp;title=Teenage%20arrests%2C%20blank%20protest%20signs%2C%20and%20a%20key%20election%20postponed%3A%20What%20one%20month%20of%20China's%20new%20national%20security%20law%20for%20Hong%20Kong%20has%20looked%20like&amp;v=2&amp;utmSource=flipboard&amp;utmContent=referral&amp;utmTerm=topbar&amp;referrer=flipboard\" data-share-link=\"\" data-track-event-label=\"flipboard\" data-utm-term=\"\" href=\"https://share.flipboard.com/bookmarklet/popout?url=https%3A%2F%2Fwww.businessinsider.com%2Fhong-kong-china-national-security-law-one-month-what-changed-2020-7&amp;title=Teenage%20arrests%2C%20blank%20protest%20signs%2C%20and%20a%20key%20election%20postponed%3A%20What%20one%20month%20of%20China's%20new%20national%20security%20law%20for%20Hong%20Kong%20has%20looked%20like&amp;v=2&amp;utmSource=flipboard&amp;utmContent=referral&amp;utmTerm=topbar&amp;referrer=flipboard\" label=\"flipboard\" target=\"_blank\" title=\"\">\n",
       "<span class=\"dropdown-icon\"><svg class=\"svg-icon flipboard-icon\" height=\"1em\" role=\"img\" viewbox=\"0 0 268.8 268.8\" width=\"1em\" xmlns=\"http://www.w3.org/2000/svg\">\n",
       "<title>Fliboard icon</title>\n",
       "<desc>A stylized letter F.</desc>\n",
       "<path class=\"flipboard\" d=\"M268.8 89.6h-89.6v89.6H89.6v89.6H0V0h268.8v89.6z\"></path>\n",
       "</svg></span>\n",
       "<span class=\"dropdown-text\">Flipboard</span>\n",
       "</a> </span>\n",
       "<span class=\"dropdown-menu-item\">\n",
       "<a aria-label=\"Click to copy link\" class=\"copy-link\" data-copy-link=\"\" data-e2e-name=\"share-link-copy-link\" data-flip-widget=\"\" data-href-share=\"\" data-share-link=\"\" data-track-event-label=\"copy link\" data-utm-term=\"\" href=\"#\" label=\"copy link\" target=\"_blank\" title=\"Copy link\">\n",
       "<span class=\"dropdown-icon\"><svg class=\"svg-icon link-icon\" height=\"1em\" role=\"img\" viewbox=\"0 0 400 400\" width=\"1em\" xmlns=\"http://www.w3.org/2000/svg\">\n",
       "<title>Link icon</title>\n",
       "<desc>An image of a chain link. It symobilizes a website link url.</desc>\n",
       "<path class=\"link\" d=\"M176.1 341.5c-30.9 34-83.8 37-117.7 5-33.9-31-36.9-83.9-5-117.9l5-5 58.9-59-23.9-23.9-58.9 59c-45.9 46-45.9 119.9 0 165.9s119.7 46 165.7 0l58.9-59-23.9-23.9-59.1 58.8zM200 33.7l-58.9 59 23.9 23.9 58.9-58.9c32.9-32 85.8-31 117.7 2 30.9 32 30.9 83.9 0 115.9l-58.9 59 23.9 23.9 58.9-59c45.9-46 45.9-119.9 0-165.9-45.8-44.8-119.6-44.8-165.5.1m94.8 71c-7-7-17-7-23.9 0L212 163.6l-46.9 47-58.9 59c-7 7-7 17 0 23.9s17 7 23.9 0l58.9-59 46.9-47 58.9-59c5.9-6.9 5.9-16.9 0-23.8\"></path>\n",
       "</svg></span>\n",
       "<span class=\"dropdown-text\">Copy Link</span>\n",
       "</a> </span>\n",
       "</div>\n",
       "</div>\n",
       "</section></section>"
      ]
     },
     "execution_count": 61,
     "metadata": {},
     "output_type": "execute_result"
    }
   ],
   "source": [
    "date"
   ]
  },
  {
   "cell_type": "code",
   "execution_count": 62,
   "metadata": {},
   "outputs": [
    {
     "data": {
      "text/plain": [
       "'\\n\\n\\n\\n\\n\\n\\nBill Bostock\\n\\n\\n                    2020-08-02T07:10:00Z\\n                  \\n\\n\\n\\n \\n\\n\\n\\nFacebook Icon\\nThe letter F.\\n\\n \\n\\nEmail icon\\nAn envelope. It indicates the ability to send an email.\\n\\n\\n\\n\\n\\n \\n\\n\\n\\n\\nTwitter icon\\nA stylized bird with an open mouth, tweeting.\\n\\n\\nTwitter\\n \\n\\n\\n\\nLinkedIn icon\\nThe word \"in\".\\n\\n\\nLinkedIn\\n \\n\\n\\n\\nFliboard icon\\nA stylized letter F.\\n\\n\\nFlipboard\\n \\n\\n\\n\\nLink icon\\nAn image of a chain link. It symobilizes a website link url.\\n\\n\\nCopy Link\\n \\n\\n\\n'"
      ]
     },
     "execution_count": 62,
     "metadata": {},
     "output_type": "execute_result"
    }
   ],
   "source": [
    "date = remove_tags(str(date))\n",
    "date"
   ]
  },
  {
   "cell_type": "code",
   "execution_count": 65,
   "metadata": {},
   "outputs": [
    {
     "data": {
      "text/plain": [
       "datetime.date(2020, 8, 2)"
      ]
     },
     "execution_count": 65,
     "metadata": {},
     "output_type": "execute_result"
    }
   ],
   "source": [
    "date_list = date.split('\\n')\n",
    "date_list = date_list[10]\n",
    "date_str = re.sub(' ','',date_list)\n",
    "date_list = date_str.split('T')\n",
    "day_pub = datetime.strptime(date_list[0], '%Y-%m-%d').date()\n",
    "day_pub"
   ]
  },
  {
   "cell_type": "code",
   "execution_count": 66,
   "metadata": {},
   "outputs": [],
   "source": [
    "df_date = pd.DataFrame([day_pub])"
   ]
  },
  {
   "cell_type": "code",
   "execution_count": 67,
   "metadata": {},
   "outputs": [
    {
     "data": {
      "text/plain": [
       "pandas.core.frame.DataFrame"
      ]
     },
     "execution_count": 67,
     "metadata": {},
     "output_type": "execute_result"
    }
   ],
   "source": [
    "type(df_date)"
   ]
  },
  {
   "cell_type": "code",
   "execution_count": 68,
   "metadata": {},
   "outputs": [
    {
     "data": {
      "text/html": [
       "<div>\n",
       "<style scoped>\n",
       "    .dataframe tbody tr th:only-of-type {\n",
       "        vertical-align: middle;\n",
       "    }\n",
       "\n",
       "    .dataframe tbody tr th {\n",
       "        vertical-align: top;\n",
       "    }\n",
       "\n",
       "    .dataframe thead th {\n",
       "        text-align: right;\n",
       "    }\n",
       "</style>\n",
       "<table border=\"1\" class=\"dataframe\">\n",
       "  <thead>\n",
       "    <tr style=\"text-align: right;\">\n",
       "      <th></th>\n",
       "      <th>0</th>\n",
       "    </tr>\n",
       "  </thead>\n",
       "  <tbody>\n",
       "    <tr>\n",
       "      <th>0</th>\n",
       "      <td>2020-08-02</td>\n",
       "    </tr>\n",
       "  </tbody>\n",
       "</table>\n",
       "</div>"
      ],
      "text/plain": [
       "            0\n",
       "0  2020-08-02"
      ]
     },
     "execution_count": 68,
     "metadata": {},
     "output_type": "execute_result"
    }
   ],
   "source": [
    "df_date"
   ]
  },
  {
   "cell_type": "markdown",
   "metadata": {},
   "source": [
    "Now the title."
   ]
  },
  {
   "cell_type": "code",
   "execution_count": 69,
   "metadata": {},
   "outputs": [
    {
     "name": "stdout",
     "output_type": "stream",
     "text": [
      "Teenage arrests, blank protest signs, and a key election postponed: What one month of China's new national security law for Hong Kong has looked like\n"
     ]
    }
   ],
   "source": [
    "for title in soup.findAll('h1'):\n",
    "    print(title.text.strip())"
   ]
  },
  {
   "cell_type": "code",
   "execution_count": 70,
   "metadata": {},
   "outputs": [
    {
     "data": {
      "text/plain": [
       "<h1 class=\"post-headline\">Teenage arrests, blank protest signs, and a key election postponed: What one month of China's new national security law for Hong Kong has looked like</h1>"
      ]
     },
     "execution_count": 70,
     "metadata": {},
     "output_type": "execute_result"
    }
   ],
   "source": [
    "title"
   ]
  },
  {
   "cell_type": "code",
   "execution_count": 71,
   "metadata": {},
   "outputs": [],
   "source": [
    "title = remove_tags(str(title))"
   ]
  },
  {
   "cell_type": "code",
   "execution_count": 72,
   "metadata": {},
   "outputs": [
    {
     "data": {
      "text/plain": [
       "\"Teenage arrests, blank protest signs, and a key election postponed: What one month of China's new national security law for Hong Kong has looked like\""
      ]
     },
     "execution_count": 72,
     "metadata": {},
     "output_type": "execute_result"
    }
   ],
   "source": [
    "title"
   ]
  },
  {
   "cell_type": "code",
   "execution_count": 73,
   "metadata": {},
   "outputs": [],
   "source": [
    "df_title = pd.DataFrame([title])"
   ]
  },
  {
   "cell_type": "code",
   "execution_count": 74,
   "metadata": {},
   "outputs": [
    {
     "data": {
      "text/html": [
       "<div>\n",
       "<style scoped>\n",
       "    .dataframe tbody tr th:only-of-type {\n",
       "        vertical-align: middle;\n",
       "    }\n",
       "\n",
       "    .dataframe tbody tr th {\n",
       "        vertical-align: top;\n",
       "    }\n",
       "\n",
       "    .dataframe thead th {\n",
       "        text-align: right;\n",
       "    }\n",
       "</style>\n",
       "<table border=\"1\" class=\"dataframe\">\n",
       "  <thead>\n",
       "    <tr style=\"text-align: right;\">\n",
       "      <th></th>\n",
       "      <th>0</th>\n",
       "    </tr>\n",
       "  </thead>\n",
       "  <tbody>\n",
       "    <tr>\n",
       "      <th>0</th>\n",
       "      <td>Teenage arrests, blank protest signs, and a ke...</td>\n",
       "    </tr>\n",
       "  </tbody>\n",
       "</table>\n",
       "</div>"
      ],
      "text/plain": [
       "                                                   0\n",
       "0  Teenage arrests, blank protest signs, and a ke..."
      ]
     },
     "execution_count": 74,
     "metadata": {},
     "output_type": "execute_result"
    }
   ],
   "source": [
    "df_title"
   ]
  },
  {
   "cell_type": "code",
   "execution_count": 75,
   "metadata": {},
   "outputs": [
    {
     "data": {
      "text/plain": [
       "pandas.core.frame.DataFrame"
      ]
     },
     "execution_count": 75,
     "metadata": {},
     "output_type": "execute_result"
    }
   ],
   "source": [
    "type(df_title)"
   ]
  },
  {
   "cell_type": "markdown",
   "metadata": {},
   "source": [
    "These items are manually added."
   ]
  },
  {
   "cell_type": "code",
   "execution_count": 76,
   "metadata": {},
   "outputs": [],
   "source": [
    "country = 'US'\n",
    "df_country = pd.DataFrame([country])\n",
    "source = 'Insider'\n",
    "df_source = pd.DataFrame([source])\n",
    "file_name = 'insider_5'\n",
    "df_file_name = pd.DataFrame([file_name])\n"
   ]
  },
  {
   "cell_type": "markdown",
   "metadata": {},
   "source": [
    "Finally, the news."
   ]
  },
  {
   "cell_type": "code",
   "execution_count": 77,
   "metadata": {},
   "outputs": [],
   "source": [
    "news1 = []\n",
    "for bodies in soup.find_all('div',{'class','content-lock-content'}):\n",
    "    news1.append(bodies.text.strip())"
   ]
  },
  {
   "cell_type": "code",
   "execution_count": 78,
   "metadata": {},
   "outputs": [
    {
     "data": {
      "text/plain": [
       "['Thursday, July 30, marked one month since China imposed a new national-security law on Hong Kong.A lot has happened in a very short time.Vocal activists fled to safety abroad, political organizations disbanded, and pro-democracy candidates were banned from running in September\\'s legislative election (which was also postponed on Friday).But pro-democracy activists have vowed to fight on, with some finding new ways to protest without falling afoul of the law, and others planning a parliament in exile.Elsewhere, China and Britain have exchanged barbs after the UK promised to give 3 million Hong Kongers a path to citizenship.Visit Business Insider\\'s homepage for more stories.\\n\\nThursday, July 30, marked one month since China\\'s new national security law came into force in Hong Kong.From June 30, China has wielded the power to define and punish \"separatism, subversion, terrorism and foreign interference\" in the city as it sees fit.\\xa0This means that anti-China sentiment — be it waving banners, attending protests, posting on social media, or calling for foreign intervention — is no longer tolerated.The law effectively marks the end of Hong Kong\\'s political autonomy from the mainland. The crackdown has been swift and often violent, but pro-democracy activists haven\\'t lost all hope.\\n\\nHere\\'s what\\'s happened in the month since.Political groups disbanded as activists fled to safetyShortly after the law came into force, four major pro-democracy figures — Joshua Wong, Agnes Chow, Nathan Law, and Jeffrey Ngo — resigned as leaders of the Demosistō organization, fearing that their titles would see them imprisoned.Hours later, Demosistō said the entire organization was disbanding. The Hong Kong National Front, another significant pro-independence group, disbanded soon after.\\n\\n\\n\\n\\n\\n\\n\\n\\n\\n                                Riot police officers detain a demonstrator during a protest in Hong Kong on May 27, 2020.\\n                              \\n\\n                                  REUTERS/Tyrone Siu\\n                                \\n\\nNathan Law, a local politician and co-founder of Demosistō, announced on July 3 that he had fled Hong Kong. He revealed on July 13 that he was living in London.\\n\\nAlso in London is Simon Cheng, a campaigner and former British consulate employee in Hong Kong, who was detained for 15 days during a trip to mainland China last year. Cheng said he was tortured by Chinese agents.Cheng has since announced intentions to set up a parliament-in-exile with other activists who have fled.\"A shadow parliament can send a very clear signal to Beijing,\" he told Reuters in early July.Public libraries in Hong Kong have also removed books written by pro-democracy activists from their shelves and catalogues.\\n\\nPolice used the law to justify arrests right awayOn the first day of the national-security law\\'s existence, 300 protesters were arrested by the Hong Kong police. Nine of the arrests were on suspicion of violating the national security, which forbids secession, the police said.\\xa0The vague wording of the law gives police vast discretion to arrest people. Participating in demonstrations and waving anti-China slogans were good enough reasons for them to detain protesters.The\\xa0full text of law was not even made public until several days after it had been passed.\\xa0Leading figures arrestedFour students and activists aged between 16 and 21 were arrested on Thursday for \"inciting secession\" on social media — a charge that could see them spend the rest of their lives in jail.\\n\\nThe Hong Kong Police Force said the quartet had announced on social media that they were setting up a pro-independence organisation, according to the BBC. They were detained for \"inciting secession.\"The arrests appear to be the first that specifically target Hong Kong\\'s activists.\\n\\n\\n\\n\\n\\n\\n\\n\\n\\n                                A woman walks past a poster for the National Security Law in Hong Kong on July 28, 2020.\\n                              \\n\\n                                  ANTHONY WALLACE/AFP via Getty Images\\n                                \\n\\nA key election postponed, with opposition barredTwelve pro-democracy political candidates, including Joshua Wong and Dennis Kwok, were barred from running in Hong Kong\\'s legislative election, which was scheduled in September.The elections had been the pro-democracy movement\\'s best — and perhaps final — chance to combat China\\'s growing encroachment on the city\\'s political autonomy after the security law was imposed.\\n\\nChina\\'s liaison office in Hong Kong said the candidates had lobbied \"foreign powers to put sanctions on Hong Kong\" and tried to derail the passing of the security law. Colluding with foreign forces are one of the serious infractions detailed in the law.To make matters worse for the democracy movement, Hong Kong\\'s government on Friday said it was delaying the election set for September by a year, citing concerns over the coronavirus.\\n\\n\\n\\n\\n\\n\\n\\n\\n\\n                                Civic Party members during a press conference at the party headquarters in Hong Kong on July 30, 2020.\\n                              \\n\\n                                  ANTHONY WALLACE/AFP via Getty Images\\n                                \\n\\nBut pro-democracy politicians still have hopeShortly after being barred from running in future legislative elections, senior members of the pro-democracy Civic Party said they would not lose heart.\"When the regime wishes to enslave us, the best thing to do is to stand firm and tell the regime we would not change,\" said Kwok Ka-ki, one of the members, according to local news channel RTHK.\\n\\nOn July 11 — less than two weeks after the security law was imposed — 600,000 Hong Kongers risked their safety to vote for the pro-democracy candidates they wanted to run in the (now postponed) legislative elections.New forms of resistanceHolding protest signs and chanting anti-China slogans are forbidden under the national-security law. Carrying a banner reading \"Free Hong Kong,\" for example, could get you imprisoned now.However, protesters were quick to adopt a new banner of independence: Sheets of white posters with no slogans of symbols that could see them breach the law.Activists have also changed the words to popular independence chants to avoid falling afoul of the security law. During a protest earlier this month, a group of protesters replaced the words in the protest anthem \"Glory to Hong Kong\" with numbers, RTHK reported.\\n\\n\\n\\n\\n\\n\\n\\n\\n\\n\\n\\n                                A group of Hong Kongers at a silent protest in a mall in the city on July 6, 2020.\\n                              \\n\\n                                  Twitter/XinqiSu\\n                                \\n\\nSome countries are committed to helping outTaiwan has surreptitiously tried to help activists and protesters stay in the country. Taiwan has in recent years become more vocal in its anti-China stance — the island has been self-ruling for decades but Beijing has always considered it a Chinese territory.Around 200 Hong Kong protesters are in Taiwan right now, according to The Guardian.\\xa0Authorities there have encouraged Hong Kongers to extend their tourist visas and also enroll in colleges to get longer-term visas, which will keep them out of harm\\'s way.\\n\\n\\n\\n\\n\\n\\n\\n\\n\\n                                Protesters gather in front of the Chinese Embassy in Seoul on May 27, 2020, to oppose China\\'s move to enact a national security law.\\n                              \\n\\n                                  Kyodo News via Getty Images\\n                                \\n\\nThe UK, which ruled over Hong Kong for 150 years until 1997, has also offered three million Hong Kongers and their families a path to British citizenship.\\n\\nSince Prime Minister Boris Johnson made that pledge, estate agents in London have observed a marked increase in requests for houses from Hong Kongers.\\xa0However, China threatened on Friday to stop recognizing the British National Overseas passports held by millions of Hong Kongers, which could prevent the three million from leaving at all.']"
      ]
     },
     "execution_count": 78,
     "metadata": {},
     "output_type": "execute_result"
    }
   ],
   "source": [
    "news1"
   ]
  },
  {
   "cell_type": "code",
   "execution_count": 79,
   "metadata": {},
   "outputs": [],
   "source": [
    "df_news = pd.DataFrame()"
   ]
  },
  {
   "cell_type": "code",
   "execution_count": 80,
   "metadata": {},
   "outputs": [],
   "source": [
    "df_news['article_body'] = news1"
   ]
  },
  {
   "cell_type": "code",
   "execution_count": 81,
   "metadata": {
    "scrolled": true
   },
   "outputs": [
    {
     "data": {
      "text/html": [
       "<div>\n",
       "<style scoped>\n",
       "    .dataframe tbody tr th:only-of-type {\n",
       "        vertical-align: middle;\n",
       "    }\n",
       "\n",
       "    .dataframe tbody tr th {\n",
       "        vertical-align: top;\n",
       "    }\n",
       "\n",
       "    .dataframe thead th {\n",
       "        text-align: right;\n",
       "    }\n",
       "</style>\n",
       "<table border=\"1\" class=\"dataframe\">\n",
       "  <thead>\n",
       "    <tr style=\"text-align: right;\">\n",
       "      <th></th>\n",
       "      <th>article_body</th>\n",
       "    </tr>\n",
       "  </thead>\n",
       "  <tbody>\n",
       "    <tr>\n",
       "      <th>0</th>\n",
       "      <td>Thursday, July 30, marked one month since Chin...</td>\n",
       "    </tr>\n",
       "  </tbody>\n",
       "</table>\n",
       "</div>"
      ],
      "text/plain": [
       "                                        article_body\n",
       "0  Thursday, July 30, marked one month since Chin..."
      ]
     },
     "execution_count": 81,
     "metadata": {},
     "output_type": "execute_result"
    }
   ],
   "source": [
    "df_news.head(2)"
   ]
  },
  {
   "cell_type": "code",
   "execution_count": 82,
   "metadata": {},
   "outputs": [],
   "source": [
    "df_news['article_body'] = df_news.article_body.str.cat(sep=' ')"
   ]
  },
  {
   "cell_type": "code",
   "execution_count": 83,
   "metadata": {},
   "outputs": [],
   "source": [
    "df_news = df_news.article_body[0]"
   ]
  },
  {
   "cell_type": "code",
   "execution_count": 84,
   "metadata": {},
   "outputs": [],
   "source": [
    "df_news = df_news.replace(r'\\\\?','')"
   ]
  },
  {
   "cell_type": "code",
   "execution_count": 85,
   "metadata": {},
   "outputs": [],
   "source": [
    "df_news = pd.DataFrame([df_news])"
   ]
  },
  {
   "cell_type": "code",
   "execution_count": 86,
   "metadata": {},
   "outputs": [
    {
     "data": {
      "text/plain": [
       "pandas.core.frame.DataFrame"
      ]
     },
     "execution_count": 86,
     "metadata": {},
     "output_type": "execute_result"
    }
   ],
   "source": [
    "type(df_news)"
   ]
  },
  {
   "cell_type": "code",
   "execution_count": 87,
   "metadata": {},
   "outputs": [],
   "source": [
    "df_news.columns = ['Article']"
   ]
  },
  {
   "cell_type": "code",
   "execution_count": 88,
   "metadata": {},
   "outputs": [
    {
     "data": {
      "text/html": [
       "<div>\n",
       "<style scoped>\n",
       "    .dataframe tbody tr th:only-of-type {\n",
       "        vertical-align: middle;\n",
       "    }\n",
       "\n",
       "    .dataframe tbody tr th {\n",
       "        vertical-align: top;\n",
       "    }\n",
       "\n",
       "    .dataframe thead th {\n",
       "        text-align: right;\n",
       "    }\n",
       "</style>\n",
       "<table border=\"1\" class=\"dataframe\">\n",
       "  <thead>\n",
       "    <tr style=\"text-align: right;\">\n",
       "      <th></th>\n",
       "      <th>Article</th>\n",
       "    </tr>\n",
       "  </thead>\n",
       "  <tbody>\n",
       "    <tr>\n",
       "      <th>0</th>\n",
       "      <td>Thursday, July 30, marked one month since Chin...</td>\n",
       "    </tr>\n",
       "  </tbody>\n",
       "</table>\n",
       "</div>"
      ],
      "text/plain": [
       "                                             Article\n",
       "0  Thursday, July 30, marked one month since Chin..."
      ]
     },
     "execution_count": 88,
     "metadata": {},
     "output_type": "execute_result"
    }
   ],
   "source": [
    "df_news.head()"
   ]
  },
  {
   "cell_type": "code",
   "execution_count": null,
   "metadata": {},
   "outputs": [],
   "source": []
  },
  {
   "cell_type": "markdown",
   "metadata": {},
   "source": [
    "**Bringing it together.**<a id='2.5_bit'></a>"
   ]
  },
  {
   "cell_type": "code",
   "execution_count": 89,
   "metadata": {},
   "outputs": [],
   "source": [
    "df_5_insider = pd.concat([df_file_name,df_date,df_source,df_country,df_title,df_news],axis = 1, ignore_index=False)"
   ]
  },
  {
   "cell_type": "code",
   "execution_count": 92,
   "metadata": {},
   "outputs": [],
   "source": [
    "df_5_insider.columns = ['file_name','date','source','country','title','article']"
   ]
  },
  {
   "cell_type": "code",
   "execution_count": 93,
   "metadata": {},
   "outputs": [
    {
     "data": {
      "text/html": [
       "<div>\n",
       "<style scoped>\n",
       "    .dataframe tbody tr th:only-of-type {\n",
       "        vertical-align: middle;\n",
       "    }\n",
       "\n",
       "    .dataframe tbody tr th {\n",
       "        vertical-align: top;\n",
       "    }\n",
       "\n",
       "    .dataframe thead th {\n",
       "        text-align: right;\n",
       "    }\n",
       "</style>\n",
       "<table border=\"1\" class=\"dataframe\">\n",
       "  <thead>\n",
       "    <tr style=\"text-align: right;\">\n",
       "      <th></th>\n",
       "      <th>file_name</th>\n",
       "      <th>date</th>\n",
       "      <th>source</th>\n",
       "      <th>country</th>\n",
       "      <th>title</th>\n",
       "      <th>article</th>\n",
       "    </tr>\n",
       "  </thead>\n",
       "  <tbody>\n",
       "    <tr>\n",
       "      <th>0</th>\n",
       "      <td>insider_5</td>\n",
       "      <td>2020-08-02</td>\n",
       "      <td>Insider</td>\n",
       "      <td>US</td>\n",
       "      <td>Teenage arrests, blank protest signs, and a ke...</td>\n",
       "      <td>Thursday, July 30, marked one month since Chin...</td>\n",
       "    </tr>\n",
       "  </tbody>\n",
       "</table>\n",
       "</div>"
      ],
      "text/plain": [
       "   file_name        date   source country  \\\n",
       "0  insider_5  2020-08-02  Insider      US   \n",
       "\n",
       "                                               title  \\\n",
       "0  Teenage arrests, blank protest signs, and a ke...   \n",
       "\n",
       "                                             article  \n",
       "0  Thursday, July 30, marked one month since Chin...  "
      ]
     },
     "execution_count": 93,
     "metadata": {},
     "output_type": "execute_result"
    }
   ],
   "source": [
    "df_5_insider.head()"
   ]
  },
  {
   "cell_type": "code",
   "execution_count": null,
   "metadata": {},
   "outputs": [],
   "source": []
  },
  {
   "cell_type": "markdown",
   "metadata": {},
   "source": [
    "**Saving**<a id='2.6_save'></a>"
   ]
  },
  {
   "cell_type": "code",
   "execution_count": 94,
   "metadata": {},
   "outputs": [
    {
     "name": "stdout",
     "output_type": "stream",
     "text": [
      "C:\\Users\\rands\n"
     ]
    }
   ],
   "source": [
    "cd"
   ]
  },
  {
   "cell_type": "markdown",
   "metadata": {},
   "source": [
    "Saving it to Excel."
   ]
  },
  {
   "cell_type": "code",
   "execution_count": 95,
   "metadata": {},
   "outputs": [
    {
     "name": "stdout",
     "output_type": "stream",
     "text": [
      "Complete\n"
     ]
    }
   ],
   "source": [
    "# df = pd.DataFrame(reviewlist)\n",
    "\n",
    "# index=False below so that we don't get the dataframe index on the side; we just use the excel index\n",
    "df_5_insider.to_csv('./_Capstone_Two_NLP/data/_news/insider_5.csv', index=False)\n",
    "\n",
    "print('Complete')"
   ]
  },
  {
   "cell_type": "code",
   "execution_count": null,
   "metadata": {},
   "outputs": [],
   "source": []
  }
 ],
 "metadata": {
  "kernelspec": {
   "display_name": "Python 3",
   "language": "python",
   "name": "python3"
  },
  "language_info": {
   "codemirror_mode": {
    "name": "ipython",
    "version": 3
   },
   "file_extension": ".py",
   "mimetype": "text/x-python",
   "name": "python",
   "nbconvert_exporter": "python",
   "pygments_lexer": "ipython3",
   "version": "3.8.5"
  },
  "varInspector": {
   "cols": {
    "lenName": 16,
    "lenType": 16,
    "lenVar": 40
   },
   "kernels_config": {
    "python": {
     "delete_cmd_postfix": "",
     "delete_cmd_prefix": "del ",
     "library": "var_list.py",
     "varRefreshCmd": "print(var_dic_list())"
    },
    "r": {
     "delete_cmd_postfix": ") ",
     "delete_cmd_prefix": "rm(",
     "library": "var_list.r",
     "varRefreshCmd": "cat(var_dic_list()) "
    }
   },
   "types_to_exclude": [
    "module",
    "function",
    "builtin_function_or_method",
    "instance",
    "_Feature"
   ],
   "window_display": false
  }
 },
 "nbformat": 4,
 "nbformat_minor": 4
}
