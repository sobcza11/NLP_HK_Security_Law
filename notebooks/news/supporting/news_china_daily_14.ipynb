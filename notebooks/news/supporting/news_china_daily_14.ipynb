{
 "cells": [
  {
   "cell_type": "markdown",
   "metadata": {},
   "source": [
    "# Scraping Wide support for proposed national security law from China Daily"
   ]
  },
  {
   "cell_type": "markdown",
   "metadata": {},
   "source": [
    "## 2.1 Contents<a id='2.1_Contents'></a>\n",
    "* [2.1 Importing Relevant Tools](#2.1_Importing)\n",
    "* [2.2 Defining the Request](#2.2_URL)\n",
    "* [2.3 Grab | Date](#2.4_scrape_date)\n",
    "* [2.4 Grab | Header](#2.4_scrape_header)\n",
    "* [2.5 Grab | Content](#2.4_scrape_content)\n",
    "* [2.6 Clean | Send to DataFrame](#2.5_review)\n",
    "* [2.7 Save](#2.6_save)\n"
   ]
  },
  {
   "cell_type": "markdown",
   "metadata": {},
   "source": [
    "**Importing Relevant Tools**<a id='2.1_Importing'></a>"
   ]
  },
  {
   "cell_type": "code",
   "execution_count": 1,
   "metadata": {},
   "outputs": [],
   "source": [
    "import json\n",
    "import pandas as pd\n",
    "from bs4 import BeautifulSoup as soup\n",
    "import requests\n",
    "import csv\n",
    "import re\n",
    "import pickle\n",
    "\n",
    "%reload_ext watermark"
   ]
  },
  {
   "cell_type": "code",
   "execution_count": 2,
   "metadata": {},
   "outputs": [],
   "source": [
    "#the below needs to be reviewed for all websites; notably the time format\n",
    "\n",
    "from datetime import date\n",
    "from datetime import datetime\n",
    "today = date.today()\n",
    "d = today.strftime(\"%m-%d-%y\")"
   ]
  },
  {
   "cell_type": "markdown",
   "metadata": {},
   "source": [
    "For reference."
   ]
  },
  {
   "cell_type": "code",
   "execution_count": 3,
   "metadata": {},
   "outputs": [
    {
     "name": "stdout",
     "output_type": "stream",
     "text": [
      "Python implementation: CPython\n",
      "Python version       : 3.8.5\n",
      "IPython version      : 7.19.0\n",
      "\n",
      "pandas: 1.1.3\n",
      "\n"
     ]
    }
   ],
   "source": [
    "%watermark -d -t -v -p pandas"
   ]
  },
  {
   "cell_type": "markdown",
   "metadata": {},
   "source": [
    "**Defining the Request**<a id='2.2_URL'></a>"
   ]
  },
  {
   "cell_type": "code",
   "execution_count": 4,
   "metadata": {},
   "outputs": [
    {
     "data": {
      "text/plain": [
       "'https://www.chinadailyhk.com/article/134455'"
      ]
     },
     "execution_count": 4,
     "metadata": {},
     "output_type": "execute_result"
    }
   ],
   "source": [
    "url = 'https://www.chinadailyhk.com/article/134455'\n",
    "content = requests.get(url).content\n",
    "url"
   ]
  },
  {
   "cell_type": "code",
   "execution_count": 5,
   "metadata": {},
   "outputs": [],
   "source": [
    "soup = soup(content,'html.parser')\n",
    "# bsobj"
   ]
  },
  {
   "cell_type": "markdown",
   "metadata": {},
   "source": [
    "**Grab | Date**<a id='2.4_scrape_date'></a>"
   ]
  },
  {
   "cell_type": "code",
   "execution_count": 18,
   "metadata": {},
   "outputs": [
    {
     "name": "stdout",
     "output_type": "stream",
     "text": [
      "Saturday, June 20, 2020, 23:33\n",
      "Thursday, January 01, 1970, 08:00\n"
     ]
    }
   ],
   "source": [
    "for date in soup.findAll('span',{'class':'news-date'}):\n",
    "    print(date.text.strip())"
   ]
  },
  {
   "cell_type": "markdown",
   "metadata": {},
   "source": [
    "The first one is correct."
   ]
  },
  {
   "cell_type": "markdown",
   "metadata": {},
   "source": [
    "**Grab | Header**<a id='2.4_scrape_header'></a>"
   ]
  },
  {
   "cell_type": "code",
   "execution_count": 10,
   "metadata": {},
   "outputs": [
    {
     "name": "stdout",
     "output_type": "stream",
     "text": [
      "Wide support for proposed national security law\n",
      "\n"
     ]
    }
   ],
   "source": [
    "for title in soup.find_all('h5',{'class':'title_txt'}):\n",
    "    print(title.text.strip())"
   ]
  },
  {
   "cell_type": "markdown",
   "metadata": {},
   "source": [
    "Confirmed that's the title."
   ]
  },
  {
   "cell_type": "markdown",
   "metadata": {},
   "source": [
    "**Grab | Content**<a id='2.4_scrape_content'></a>"
   ]
  },
  {
   "cell_type": "code",
   "execution_count": 15,
   "metadata": {},
   "outputs": [
    {
     "name": "stdout",
     "output_type": "stream",
     "text": [
      "Residents sign to support the national security legislation in Hong Kong, May 24, 2020. (EDMOND TANG/CHINA DAILY)HONG KONG - Various sectors of Hong Kong voiced strong support for the proposed national security law for the special administrative region as details of the draft were released on Saturday following a three-day session of the Standing Committee of the National People’s Congress in Beijing. READ MORE: Top legislature reviews draft HK national security lawTam Yiu-chung, Hong Kong’s delegate to the Standing Committee, said in an interview live-streamed on Hong Kong’s i-Cable News that the legislators gave full consideration to suggestions for the draft from Hong Kong, such as stating that Hong Kong’s government will take charge of enforcement and prosecutions under the law except in certain circumstances.Hong Kong’s common law system has been taken into consideration in writing the draft law, said Tam Yiu-chung, Hong Kong’s delegate to the NPC Standing CommitteeThe draft clearly states what crimes are offenses under the national security law, and protects the rights of Hong Kong residents stipulated under other Hong Kong laws and international covenants, Tam said.Hong Kong’s common law system has been taken into consideration in writing the draft law, he said, adding that he hopes it can bring stability to the city under the “one country, two systems” principle.The Standing Committee of the National People’s Congress wrapped up its bimonthly session on Saturday. According to the details, the proposed national security law will proscribe four types of acts endangering national security: secession, subversion of state power, terrorist activities and collusion with foreign and external forces to endanger national security. The penalties for the crimes have yet to be announced. Tam said he believes punishment may range from three to 10 years imprisonment.The Democratic Alliance for the Betterment and Progress of Hong Kong, the largest party in the city’s legislature, expressed “full support” for the draft law, saying it has taken into account the different legal systems in Hong Kong and the Chinese mainland.ALSO READ: CE vows cooperation with NPC on national security legislationIn a statement issued on Saturday, DAB said it believes the law, which complies with international treaties by upholding human rights protection, will also be welcomed by the majority of Hong Kong residents. Earlier, more than 2.9 million people in Hong Kong signed a petition in support the proposed legislation. The party also suggested the Hong Kong government set up agencies and arrange enforcement officers in a timely manner, so that the law could be enforced as soon as it is passed to deal with violence and separatism and to stabilize the society.The arrangement that the chief executive will be responsible for appointing judges to preside over national-security-related cases strikes a balance between the central government’s concerns and the HKSAR’s high degree of autonomy, said Lau Siu-kai, vice-president of the Chinese Association of Hong Kong and Macao Studies, the nation's leading think tank on Hong Kong affairs. Such an arrangement will ensure the judges in charge of relevant cases have an intimate knowledge of national security issues and it shows the central government respects the general practice of common law, Lau said.Lau said the national security agency to be established by the central government in the SAR will buttress the city’s ability to safeguard national security, as that isn’t an area of expertise within the local law enforcement agencies. The Hong Kong Federation of Trade Unions, the city’s largest labor group comprising more than 420,000 members, also expressed firm support for the draft law, saying it contains “sufficient and clear” explanations and calling for local legislative work to begin quickly. The FTU will mobilize all its members and affiliates to back the legislation that may lift the city out of the current chaos, it said in a statement.\n"
     ]
    }
   ],
   "source": [
    "for bodies in soup.find_all('div',{'class','news-cut'}):\n",
    "    print(bodies.text.strip())"
   ]
  },
  {
   "cell_type": "code",
   "execution_count": 16,
   "metadata": {},
   "outputs": [
    {
     "data": {
      "text/plain": [
       "23"
      ]
     },
     "execution_count": 16,
     "metadata": {},
     "output_type": "execute_result"
    }
   ],
   "source": [
    "len(bodies)"
   ]
  },
  {
   "cell_type": "markdown",
   "metadata": {},
   "source": [
    "Confirmed that's the bottom."
   ]
  },
  {
   "cell_type": "markdown",
   "metadata": {},
   "source": [
    "**Clean | Send to DataFrame**<a id='2.5_review'></a>"
   ]
  },
  {
   "cell_type": "markdown",
   "metadata": {},
   "source": [
    "First the date from string to a datetime object."
   ]
  },
  {
   "cell_type": "code",
   "execution_count": 34,
   "metadata": {},
   "outputs": [
    {
     "name": "stdout",
     "output_type": "stream",
     "text": [
      "Saturday, June 20, 2020, 23:33\n",
      "By China Daily\n"
     ]
    }
   ],
   "source": [
    "for date in soup.find_all('div',{'class':'news-info cl am-hide-lg-only'}):\n",
    "    print(date.text.strip())"
   ]
  },
  {
   "cell_type": "code",
   "execution_count": 35,
   "metadata": {},
   "outputs": [
    {
     "data": {
      "text/plain": [
       "<div class=\"news-info cl am-hide-lg-only\">\n",
       "<span class=\"news-date\">Saturday, June 20, 2020, 23:33</span>\n",
       "<span class=\"news-edit-p\">By China Daily</span>\n",
       "</div>"
      ]
     },
     "execution_count": 35,
     "metadata": {},
     "output_type": "execute_result"
    }
   ],
   "source": [
    "date"
   ]
  },
  {
   "cell_type": "code",
   "execution_count": 36,
   "metadata": {},
   "outputs": [
    {
     "data": {
      "text/plain": [
       "'\\nSaturday, June 20, 2020, 23:33\\nBy China Daily\\n'"
      ]
     },
     "execution_count": 36,
     "metadata": {},
     "output_type": "execute_result"
    }
   ],
   "source": [
    "date = remove_tags(str(date))\n",
    "date"
   ]
  },
  {
   "cell_type": "code",
   "execution_count": 37,
   "metadata": {},
   "outputs": [
    {
     "data": {
      "text/plain": [
       "47"
      ]
     },
     "execution_count": 37,
     "metadata": {},
     "output_type": "execute_result"
    }
   ],
   "source": [
    "len(date)"
   ]
  },
  {
   "cell_type": "code",
   "execution_count": 38,
   "metadata": {},
   "outputs": [
    {
     "data": {
      "text/plain": [
       "'June 20, 2020'"
      ]
     },
     "execution_count": 38,
     "metadata": {},
     "output_type": "execute_result"
    }
   ],
   "source": [
    "day_pub = date[11:24]\n",
    "day_pub"
   ]
  },
  {
   "cell_type": "code",
   "execution_count": 39,
   "metadata": {},
   "outputs": [
    {
     "data": {
      "text/plain": [
       "datetime.date(2020, 6, 20)"
      ]
     },
     "execution_count": 39,
     "metadata": {},
     "output_type": "execute_result"
    }
   ],
   "source": [
    "#Replacing commas\n",
    "day_pub = re.sub(',','',day_pub)\n",
    "#Replacing words to bring to datetimeformat\n",
    "day_pub = re.sub('June','06',day_pub)\n",
    "#Replacing the spaces\n",
    "day_pub = re.sub(' ','-',day_pub)\n",
    "#Converting to dattime format\n",
    "day_pub = datetime.strptime(day_pub, '%m-%d-%Y').date()\n",
    "\n",
    "day_pub"
   ]
  },
  {
   "cell_type": "code",
   "execution_count": 40,
   "metadata": {},
   "outputs": [],
   "source": [
    "df_date = pd.DataFrame([day_pub])"
   ]
  },
  {
   "cell_type": "code",
   "execution_count": 41,
   "metadata": {},
   "outputs": [
    {
     "data": {
      "text/plain": [
       "pandas.core.frame.DataFrame"
      ]
     },
     "execution_count": 41,
     "metadata": {},
     "output_type": "execute_result"
    }
   ],
   "source": [
    "type(df_date)"
   ]
  },
  {
   "cell_type": "code",
   "execution_count": 42,
   "metadata": {},
   "outputs": [
    {
     "data": {
      "text/html": [
       "<div>\n",
       "<style scoped>\n",
       "    .dataframe tbody tr th:only-of-type {\n",
       "        vertical-align: middle;\n",
       "    }\n",
       "\n",
       "    .dataframe tbody tr th {\n",
       "        vertical-align: top;\n",
       "    }\n",
       "\n",
       "    .dataframe thead th {\n",
       "        text-align: right;\n",
       "    }\n",
       "</style>\n",
       "<table border=\"1\" class=\"dataframe\">\n",
       "  <thead>\n",
       "    <tr style=\"text-align: right;\">\n",
       "      <th></th>\n",
       "      <th>0</th>\n",
       "    </tr>\n",
       "  </thead>\n",
       "  <tbody>\n",
       "    <tr>\n",
       "      <th>0</th>\n",
       "      <td>2020-06-20</td>\n",
       "    </tr>\n",
       "  </tbody>\n",
       "</table>\n",
       "</div>"
      ],
      "text/plain": [
       "            0\n",
       "0  2020-06-20"
      ]
     },
     "execution_count": 42,
     "metadata": {},
     "output_type": "execute_result"
    }
   ],
   "source": [
    "df_date"
   ]
  },
  {
   "cell_type": "markdown",
   "metadata": {},
   "source": [
    "Now the title."
   ]
  },
  {
   "cell_type": "code",
   "execution_count": 93,
   "metadata": {},
   "outputs": [],
   "source": [
    "for title in soup.findAll(('div',{'class':'news-hd'}),('h5',{'class':'title_txt'})):\n",
    "    print(title.text.strip())"
   ]
  },
  {
   "cell_type": "code",
   "execution_count": 97,
   "metadata": {},
   "outputs": [
    {
     "data": {
      "text/plain": [
       "'\\n\\nSaturday, June 20, 2020, 23:33\\nPDF View\\nRevert\\n\\nPDF View\\nWide support for proposed national security law\\n\\nBy China Daily\\n\\n\\n\\n\\n\\n\\n\\n\\n\\nSaturday, June 20, 2020, 23:33\\nBy China Daily\\n\\n'"
      ]
     },
     "execution_count": 97,
     "metadata": {},
     "output_type": "execute_result"
    }
   ],
   "source": [
    "title = remove_tags(str(title))\n",
    "title"
   ]
  },
  {
   "cell_type": "code",
   "execution_count": 101,
   "metadata": {},
   "outputs": [
    {
     "data": {
      "text/plain": [
       "'Wide support for proposed national security law'"
      ]
     },
     "execution_count": 101,
     "metadata": {},
     "output_type": "execute_result"
    }
   ],
   "source": [
    "title_new = title.split('\\n')\n",
    "title = title_new[7]\n",
    "title"
   ]
  },
  {
   "cell_type": "code",
   "execution_count": 103,
   "metadata": {},
   "outputs": [],
   "source": [
    "df_title = pd.DataFrame([title])"
   ]
  },
  {
   "cell_type": "code",
   "execution_count": 104,
   "metadata": {},
   "outputs": [
    {
     "data": {
      "text/html": [
       "<div>\n",
       "<style scoped>\n",
       "    .dataframe tbody tr th:only-of-type {\n",
       "        vertical-align: middle;\n",
       "    }\n",
       "\n",
       "    .dataframe tbody tr th {\n",
       "        vertical-align: top;\n",
       "    }\n",
       "\n",
       "    .dataframe thead th {\n",
       "        text-align: right;\n",
       "    }\n",
       "</style>\n",
       "<table border=\"1\" class=\"dataframe\">\n",
       "  <thead>\n",
       "    <tr style=\"text-align: right;\">\n",
       "      <th></th>\n",
       "      <th>0</th>\n",
       "    </tr>\n",
       "  </thead>\n",
       "  <tbody>\n",
       "    <tr>\n",
       "      <th>0</th>\n",
       "      <td>Wide support for proposed national security law</td>\n",
       "    </tr>\n",
       "  </tbody>\n",
       "</table>\n",
       "</div>"
      ],
      "text/plain": [
       "                                                 0\n",
       "0  Wide support for proposed national security law"
      ]
     },
     "execution_count": 104,
     "metadata": {},
     "output_type": "execute_result"
    }
   ],
   "source": [
    "df_title"
   ]
  },
  {
   "cell_type": "code",
   "execution_count": 105,
   "metadata": {},
   "outputs": [
    {
     "data": {
      "text/plain": [
       "pandas.core.frame.DataFrame"
      ]
     },
     "execution_count": 105,
     "metadata": {},
     "output_type": "execute_result"
    }
   ],
   "source": [
    "type(df_title)"
   ]
  },
  {
   "cell_type": "markdown",
   "metadata": {},
   "source": [
    "These items are manually added."
   ]
  },
  {
   "cell_type": "code",
   "execution_count": 106,
   "metadata": {},
   "outputs": [],
   "source": [
    "country = 'China'\n",
    "df_country = pd.DataFrame([country])\n",
    "source = 'China Daily'\n",
    "df_source = pd.DataFrame([source])\n",
    "file_name = 'china_daily_14'\n",
    "df_file_name = pd.DataFrame([file_name])\n"
   ]
  },
  {
   "cell_type": "markdown",
   "metadata": {},
   "source": [
    "Finally, the news."
   ]
  },
  {
   "cell_type": "code",
   "execution_count": 107,
   "metadata": {},
   "outputs": [],
   "source": [
    "news1 = []\n",
    "for bodies in soup.find_all('div',{'class','news-cut'}):\n",
    "    news1.append(bodies.text.strip())"
   ]
  },
  {
   "cell_type": "code",
   "execution_count": 108,
   "metadata": {},
   "outputs": [
    {
     "data": {
      "text/plain": [
       "[\"Residents sign to support the national security legislation in Hong Kong, May 24, 2020. (EDMOND TANG/CHINA DAILY)HONG KONG - Various sectors of Hong Kong voiced strong support for the proposed national security law for the special administrative region as details of the draft were released on Saturday following a three-day session of the Standing Committee of the National People’s Congress in Beijing.\\xa0READ MORE:\\xa0Top legislature reviews draft HK national security lawTam Yiu-chung, Hong Kong’s delegate to the Standing Committee, said in an interview live-streamed on Hong Kong’s i-Cable News that the legislators gave full consideration to suggestions for the draft from Hong Kong, such as stating that Hong Kong’s government will take charge of enforcement and prosecutions under the law except in certain circumstances.Hong Kong’s common law system has been taken into consideration in writing the draft law, said\\xa0Tam Yiu-chung, Hong Kong’s delegate to the NPC Standing CommitteeThe draft clearly states what crimes are offenses under the national security law, and protects the rights of Hong Kong residents stipulated under other Hong Kong laws and international covenants, Tam said.Hong Kong’s common law system has been taken into consideration in writing the draft law, he said, adding that he hopes it can bring stability to the city under the “one country, two systems” principle.The Standing Committee of the National People’s Congress wrapped up its bimonthly session on Saturday. According to the details, the proposed national security law will proscribe four types of acts endangering national security: secession, subversion of state power, terrorist activities and collusion with foreign and external forces to endanger national security.\\xa0The penalties for the crimes have yet to be announced. Tam said he believes punishment may range from three to 10 years imprisonment.The Democratic Alliance for the Betterment and Progress of Hong Kong, the largest party in the city’s legislature, expressed “full support” for the draft law, saying it has taken into account the different legal systems in Hong Kong and the Chinese mainland.ALSO READ:\\xa0CE vows cooperation with NPC on national security legislationIn a statement issued on Saturday, DAB said it believes the law, which complies with international treaties by upholding human rights protection, will also be welcomed by the majority of Hong Kong residents.\\xa0Earlier, more than 2.9 million people in Hong Kong signed a petition in support the proposed legislation.\\xa0The party also suggested the Hong Kong government set up agencies and arrange enforcement officers in a timely manner, so that the law could be enforced as soon as it is passed to deal with violence and separatism and to stabilize the society.The arrangement that the chief executive will be responsible for appointing judges to preside over national-security-related cases strikes a balance between the central government’s concerns and the HKSAR’s high degree of autonomy, said Lau Siu-kai, vice-president of the Chinese Association of Hong Kong and Macao Studies, the nation's leading think tank on Hong Kong affairs.\\xa0Such an arrangement will ensure the judges in charge of relevant cases have an intimate knowledge of national security issues and it shows the central government respects the general practice of common law, Lau said.Lau said the national security agency to be established by the central government in the SAR will buttress the city’s ability to safeguard national security, as that isn’t an area of expertise within the local law enforcement agencies.\\xa0The Hong Kong Federation of Trade Unions, the city’s largest labor group comprising more than 420,000 members, also expressed firm support for the draft law, saying it contains “sufficient and clear” explanations and calling for local legislative work to begin quickly.\\xa0The FTU will mobilize all its members and affiliates to back the legislation that may lift the city out of the current chaos, it said in a statement.\"]"
      ]
     },
     "execution_count": 108,
     "metadata": {},
     "output_type": "execute_result"
    }
   ],
   "source": [
    "news1"
   ]
  },
  {
   "cell_type": "code",
   "execution_count": 109,
   "metadata": {},
   "outputs": [],
   "source": [
    "df_news = pd.DataFrame()"
   ]
  },
  {
   "cell_type": "code",
   "execution_count": 110,
   "metadata": {},
   "outputs": [],
   "source": [
    "df_news['article_body'] = news1"
   ]
  },
  {
   "cell_type": "code",
   "execution_count": 111,
   "metadata": {
    "scrolled": true
   },
   "outputs": [
    {
     "data": {
      "text/html": [
       "<div>\n",
       "<style scoped>\n",
       "    .dataframe tbody tr th:only-of-type {\n",
       "        vertical-align: middle;\n",
       "    }\n",
       "\n",
       "    .dataframe tbody tr th {\n",
       "        vertical-align: top;\n",
       "    }\n",
       "\n",
       "    .dataframe thead th {\n",
       "        text-align: right;\n",
       "    }\n",
       "</style>\n",
       "<table border=\"1\" class=\"dataframe\">\n",
       "  <thead>\n",
       "    <tr style=\"text-align: right;\">\n",
       "      <th></th>\n",
       "      <th>article_body</th>\n",
       "    </tr>\n",
       "  </thead>\n",
       "  <tbody>\n",
       "    <tr>\n",
       "      <th>0</th>\n",
       "      <td>Residents sign to support the national securit...</td>\n",
       "    </tr>\n",
       "  </tbody>\n",
       "</table>\n",
       "</div>"
      ],
      "text/plain": [
       "                                        article_body\n",
       "0  Residents sign to support the national securit..."
      ]
     },
     "execution_count": 111,
     "metadata": {},
     "output_type": "execute_result"
    }
   ],
   "source": [
    "df_news.head(2)"
   ]
  },
  {
   "cell_type": "code",
   "execution_count": 112,
   "metadata": {},
   "outputs": [],
   "source": [
    "df_news['article_body'] = df_news.article_body.str.cat(sep=' ')"
   ]
  },
  {
   "cell_type": "code",
   "execution_count": 113,
   "metadata": {},
   "outputs": [],
   "source": [
    "df_news = df_news.article_body[0]"
   ]
  },
  {
   "cell_type": "code",
   "execution_count": 114,
   "metadata": {},
   "outputs": [],
   "source": [
    "df_news = df_news.replace(r'\\\\?','')"
   ]
  },
  {
   "cell_type": "code",
   "execution_count": 115,
   "metadata": {},
   "outputs": [],
   "source": [
    "df_news = pd.DataFrame([df_news])"
   ]
  },
  {
   "cell_type": "code",
   "execution_count": 116,
   "metadata": {},
   "outputs": [
    {
     "data": {
      "text/plain": [
       "pandas.core.frame.DataFrame"
      ]
     },
     "execution_count": 116,
     "metadata": {},
     "output_type": "execute_result"
    }
   ],
   "source": [
    "type(df_news)"
   ]
  },
  {
   "cell_type": "code",
   "execution_count": 117,
   "metadata": {},
   "outputs": [],
   "source": [
    "df_news.columns = ['Article']"
   ]
  },
  {
   "cell_type": "code",
   "execution_count": 118,
   "metadata": {},
   "outputs": [
    {
     "data": {
      "text/html": [
       "<div>\n",
       "<style scoped>\n",
       "    .dataframe tbody tr th:only-of-type {\n",
       "        vertical-align: middle;\n",
       "    }\n",
       "\n",
       "    .dataframe tbody tr th {\n",
       "        vertical-align: top;\n",
       "    }\n",
       "\n",
       "    .dataframe thead th {\n",
       "        text-align: right;\n",
       "    }\n",
       "</style>\n",
       "<table border=\"1\" class=\"dataframe\">\n",
       "  <thead>\n",
       "    <tr style=\"text-align: right;\">\n",
       "      <th></th>\n",
       "      <th>Article</th>\n",
       "    </tr>\n",
       "  </thead>\n",
       "  <tbody>\n",
       "    <tr>\n",
       "      <th>0</th>\n",
       "      <td>Residents sign to support the national securit...</td>\n",
       "    </tr>\n",
       "  </tbody>\n",
       "</table>\n",
       "</div>"
      ],
      "text/plain": [
       "                                             Article\n",
       "0  Residents sign to support the national securit..."
      ]
     },
     "execution_count": 118,
     "metadata": {},
     "output_type": "execute_result"
    }
   ],
   "source": [
    "df_news.head()"
   ]
  },
  {
   "cell_type": "code",
   "execution_count": null,
   "metadata": {},
   "outputs": [],
   "source": []
  },
  {
   "cell_type": "markdown",
   "metadata": {},
   "source": [
    "**Bringing it together.**<a id='2.5_bit'></a>"
   ]
  },
  {
   "cell_type": "code",
   "execution_count": 119,
   "metadata": {},
   "outputs": [],
   "source": [
    "df_14_china_daily = pd.concat([df_file_name,df_date,df_source,df_country,df_title,df_news],axis = 1, ignore_index=False)"
   ]
  },
  {
   "cell_type": "code",
   "execution_count": 120,
   "metadata": {},
   "outputs": [],
   "source": [
    "df_14_china_daily.columns = ['file_name','date','source','country','title','article']"
   ]
  },
  {
   "cell_type": "code",
   "execution_count": 121,
   "metadata": {},
   "outputs": [
    {
     "data": {
      "text/html": [
       "<div>\n",
       "<style scoped>\n",
       "    .dataframe tbody tr th:only-of-type {\n",
       "        vertical-align: middle;\n",
       "    }\n",
       "\n",
       "    .dataframe tbody tr th {\n",
       "        vertical-align: top;\n",
       "    }\n",
       "\n",
       "    .dataframe thead th {\n",
       "        text-align: right;\n",
       "    }\n",
       "</style>\n",
       "<table border=\"1\" class=\"dataframe\">\n",
       "  <thead>\n",
       "    <tr style=\"text-align: right;\">\n",
       "      <th></th>\n",
       "      <th>file_name</th>\n",
       "      <th>date</th>\n",
       "      <th>source</th>\n",
       "      <th>country</th>\n",
       "      <th>title</th>\n",
       "      <th>article</th>\n",
       "    </tr>\n",
       "  </thead>\n",
       "  <tbody>\n",
       "    <tr>\n",
       "      <th>0</th>\n",
       "      <td>china_daily_14</td>\n",
       "      <td>2020-06-20</td>\n",
       "      <td>China Daily</td>\n",
       "      <td>China</td>\n",
       "      <td>Wide support for proposed national security law</td>\n",
       "      <td>Residents sign to support the national securit...</td>\n",
       "    </tr>\n",
       "  </tbody>\n",
       "</table>\n",
       "</div>"
      ],
      "text/plain": [
       "        file_name        date       source country  \\\n",
       "0  china_daily_14  2020-06-20  China Daily   China   \n",
       "\n",
       "                                             title  \\\n",
       "0  Wide support for proposed national security law   \n",
       "\n",
       "                                             article  \n",
       "0  Residents sign to support the national securit...  "
      ]
     },
     "execution_count": 121,
     "metadata": {},
     "output_type": "execute_result"
    }
   ],
   "source": [
    "df_14_china_daily.head()"
   ]
  },
  {
   "cell_type": "code",
   "execution_count": null,
   "metadata": {},
   "outputs": [],
   "source": []
  },
  {
   "cell_type": "markdown",
   "metadata": {},
   "source": [
    "**Saving**<a id='2.6_save'></a>"
   ]
  },
  {
   "cell_type": "code",
   "execution_count": 122,
   "metadata": {},
   "outputs": [
    {
     "name": "stdout",
     "output_type": "stream",
     "text": [
      "C:\\Users\\rands\n"
     ]
    }
   ],
   "source": [
    "cd"
   ]
  },
  {
   "cell_type": "markdown",
   "metadata": {},
   "source": [
    "Saving it to Excel."
   ]
  },
  {
   "cell_type": "code",
   "execution_count": 123,
   "metadata": {},
   "outputs": [
    {
     "name": "stdout",
     "output_type": "stream",
     "text": [
      "Complete\n"
     ]
    }
   ],
   "source": [
    "# df = pd.DataFrame(reviewlist)\n",
    "\n",
    "# index=False below so that we don't get the dataframe index on the side; we just use the excel index\n",
    "df_14_china_daily.to_csv('./_Capstone_Two_NLP/data/_news/china_daily_14.csv', index=False)\n",
    "\n",
    "print('Complete')"
   ]
  },
  {
   "cell_type": "code",
   "execution_count": null,
   "metadata": {},
   "outputs": [],
   "source": []
  },
  {
   "cell_type": "code",
   "execution_count": null,
   "metadata": {},
   "outputs": [],
   "source": []
  },
  {
   "cell_type": "code",
   "execution_count": null,
   "metadata": {},
   "outputs": [],
   "source": []
  },
  {
   "cell_type": "code",
   "execution_count": null,
   "metadata": {},
   "outputs": [],
   "source": []
  }
 ],
 "metadata": {
  "kernelspec": {
   "display_name": "Python 3",
   "language": "python",
   "name": "python3"
  },
  "language_info": {
   "codemirror_mode": {
    "name": "ipython",
    "version": 3
   },
   "file_extension": ".py",
   "mimetype": "text/x-python",
   "name": "python",
   "nbconvert_exporter": "python",
   "pygments_lexer": "ipython3",
   "version": "3.8.5"
  },
  "varInspector": {
   "cols": {
    "lenName": 16,
    "lenType": 16,
    "lenVar": 40
   },
   "kernels_config": {
    "python": {
     "delete_cmd_postfix": "",
     "delete_cmd_prefix": "del ",
     "library": "var_list.py",
     "varRefreshCmd": "print(var_dic_list())"
    },
    "r": {
     "delete_cmd_postfix": ") ",
     "delete_cmd_prefix": "rm(",
     "library": "var_list.r",
     "varRefreshCmd": "cat(var_dic_list()) "
    }
   },
   "types_to_exclude": [
    "module",
    "function",
    "builtin_function_or_method",
    "instance",
    "_Feature"
   ],
   "window_display": false
  }
 },
 "nbformat": 4,
 "nbformat_minor": 4
}
