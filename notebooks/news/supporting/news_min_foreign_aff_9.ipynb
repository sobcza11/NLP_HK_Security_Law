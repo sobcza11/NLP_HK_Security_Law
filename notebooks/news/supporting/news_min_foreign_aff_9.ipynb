{
 "cells": [
  {
   "cell_type": "markdown",
   "metadata": {},
   "source": [
    "# Scraping Safeguarding long-term prosperity from Ministry of Foreign Affairs"
   ]
  },
  {
   "cell_type": "markdown",
   "metadata": {},
   "source": [
    "## 2.1 Contents<a id='2.1_Contents'></a>\n",
    "* [2.1 Importing Relevant Tools](#2.1_Importing)\n",
    "* [2.2 Defining the Request](#2.2_URL)\n",
    "* [2.3 Grab | Date](#2.4_scrape_date)\n",
    "* [2.4 Grab | Header](#2.4_scrape_header)\n",
    "* [2.5 Grab | Content](#2.4_scrape_content)\n",
    "* [2.6 Clean | Send to DataFrame](#2.5_review)\n",
    "* [2.7 Save](#2.6_save)\n"
   ]
  },
  {
   "cell_type": "markdown",
   "metadata": {},
   "source": [
    "**Importing Relevant Tools**<a id='2.1_Importing'></a>"
   ]
  },
  {
   "cell_type": "code",
   "execution_count": 1,
   "metadata": {},
   "outputs": [],
   "source": [
    "import json\n",
    "import pandas as pd\n",
    "from bs4 import BeautifulSoup as soup\n",
    "import requests\n",
    "import csv\n",
    "import re\n",
    "import pickle\n",
    "\n",
    "%reload_ext watermark"
   ]
  },
  {
   "cell_type": "code",
   "execution_count": 2,
   "metadata": {},
   "outputs": [],
   "source": [
    "#the below needs to be reviewed for all websites; notably the time format\n",
    "\n",
    "from datetime import date\n",
    "from datetime import datetime\n",
    "today = date.today()\n",
    "d = today.strftime(\"%m-%d-%y\")"
   ]
  },
  {
   "cell_type": "markdown",
   "metadata": {},
   "source": [
    "For reference."
   ]
  },
  {
   "cell_type": "code",
   "execution_count": 3,
   "metadata": {},
   "outputs": [
    {
     "name": "stdout",
     "output_type": "stream",
     "text": [
      "Python implementation: CPython\n",
      "Python version       : 3.8.5\n",
      "IPython version      : 7.19.0\n",
      "\n",
      "pandas: 1.1.3\n",
      "\n"
     ]
    }
   ],
   "source": [
    "%watermark -d -t -v -p pandas"
   ]
  },
  {
   "cell_type": "markdown",
   "metadata": {},
   "source": [
    "**Defining the Request**<a id='2.2_URL'></a>"
   ]
  },
  {
   "cell_type": "code",
   "execution_count": 4,
   "metadata": {},
   "outputs": [
    {
     "data": {
      "text/plain": [
       "'https://www.fmprc.gov.cn/mfa_eng/wjb_663304/zwjg_665342/zwbd_665378/t1798919.shtml'"
      ]
     },
     "execution_count": 4,
     "metadata": {},
     "output_type": "execute_result"
    }
   ],
   "source": [
    "url = 'https://www.fmprc.gov.cn/mfa_eng/wjb_663304/zwjg_665342/zwbd_665378/t1798919.shtml'\n",
    "content = requests.get(url).content\n",
    "url"
   ]
  },
  {
   "cell_type": "code",
   "execution_count": 5,
   "metadata": {},
   "outputs": [],
   "source": [
    "soup = soup(content,'html.parser')\n",
    "# bsobj"
   ]
  },
  {
   "cell_type": "markdown",
   "metadata": {},
   "source": [
    "**Grab | Date**<a id='2.4_scrape_date'></a>"
   ]
  },
  {
   "cell_type": "code",
   "execution_count": 6,
   "metadata": {},
   "outputs": [
    {
     "name": "stdout",
     "output_type": "stream",
     "text": [
      "2020/07/20\n"
     ]
    }
   ],
   "source": [
    "for date in soup.find_all('div',{'class':'date'}):\n",
    "    print(date.text.strip())"
   ]
  },
  {
   "cell_type": "markdown",
   "metadata": {},
   "source": [
    "Beautiful."
   ]
  },
  {
   "cell_type": "markdown",
   "metadata": {},
   "source": [
    "**Grab | Header**<a id='2.4_scrape_header'></a>"
   ]
  },
  {
   "cell_type": "code",
   "execution_count": 7,
   "metadata": {},
   "outputs": [
    {
     "name": "stdout",
     "output_type": "stream",
     "text": [
      "<h2 class=\"title\">Ambassador Liu Xiaoming Gives Exclusive Live Interview on BBC's Andrew Marr Show</h2>\n"
     ]
    }
   ],
   "source": [
    "for title in soup.find_all('h2',{'class':'title'}):\n",
    "    print(title)"
   ]
  },
  {
   "cell_type": "code",
   "execution_count": 8,
   "metadata": {},
   "outputs": [],
   "source": [
    "TAG_RE = re.compile(r'<[^>]+>')"
   ]
  },
  {
   "cell_type": "code",
   "execution_count": 9,
   "metadata": {},
   "outputs": [],
   "source": [
    "def remove_tags(text):\n",
    "    return TAG_RE.sub('', text)"
   ]
  },
  {
   "cell_type": "code",
   "execution_count": 10,
   "metadata": {},
   "outputs": [
    {
     "data": {
      "text/plain": [
       "\"Ambassador Liu Xiaoming Gives Exclusive Live Interview on BBC's Andrew Marr Show\""
      ]
     },
     "execution_count": 10,
     "metadata": {},
     "output_type": "execute_result"
    }
   ],
   "source": [
    "remove_tags(str(title))"
   ]
  },
  {
   "cell_type": "markdown",
   "metadata": {},
   "source": [
    "Confirmed that's the title; a little longer of a journey to get it."
   ]
  },
  {
   "cell_type": "markdown",
   "metadata": {},
   "source": [
    "**Grab | Content**<a id='2.4_scrape_content'></a>"
   ]
  },
  {
   "cell_type": "code",
   "execution_count": 11,
   "metadata": {},
   "outputs": [
    {
     "name": "stdout",
     "output_type": "stream",
     "text": [
      "On 19 July 2020, H.E. Ambassador Liu Xiaoming gave an exclusive live interview on BBC ONE's Andrew Marr Show about Hong Kong, Huawei, and Xinjiang. The full text is as follows:\n",
      "\n",
      "Marr: Ambassador, welcome. Can I, first of all, ask you about Hong Kong? Are rights of dissent and freedom of speech still valued in Hong Kong?\n",
      "Ambassador Liu: Fully respected. I think people talk about this National Security Law. National Security law is about restoring order and protecting the rights of the majority of people. It's targeted on a very small group of criminals who intend to endanger the national security.\n",
      "Marr: But let me remind people what the National Security Law actually says. It says that Beijing now decides what breaks the law, not Hong Kong itself. Protesters can be arrested just for using placards. Police can search buildings without warrants and trials can be held in secret without a jury. Surely those laws break that \"One Country, Two Systems\" promise China originally made.\n",
      "Ambassador Liu: That is wrong information. I don't know if you have read the National Security Law yet. First, I would say, the Law begins with the statement that China will continue to implement \"One Country, Two Systems\" and Hong Kong people will administer their affairs with a high degree of autonomy. \n",
      "The reason why this National Security Law was enacted is that in the past 23 years, although Hong Kong Special Administration Region government is entitled to enact its own law, according to Article 23 of the Basic Law, to protect the national security, because of the opposition -- because of these troublemakers' scaremongering -- the SAR government failed to enact it. But it is the Central Government's responsibility to take care of national security.\n",
      "Marr: You said trouble makers. But Amnesty International, which is an organization much respected by many people watching this program, says there was a rapid deterioration in the rights to freedom of peaceful assembly, expression, and association as the Hong Kong authorities increasingly adopted mainland China's vague and all-encompassing definition of national security. \n",
      "Ambassador Liu: The Amnesty International is not respected in China because it has made really numerous false accusations against China. Never said a nice word, and has never been objective about China. That's the problem of them. We talked about Hong Kong situation last year, this turbulence and riots. Any responsible government has to take measures to address this situation. \n",
      "Marr: Why couldn't the existing laws be enough to do that, because there are quite strong existing laws? If they are really causing trouble, really trying to cause disruption in Hong Kong, they could have been dealt with by existing laws.\n",
      "Ambassador Liu: That is exactly the reason why there should be a national security law, because the existing laws fail to contain this violence, looting, smashing, and storming the legislative council -- just like to storm the British parliament, because there's no law governing national security in Hong Kong for the past 23 years.\n",
      "Marr: Isn't the real problem that you don't want people in Hong Kong to talk about democracy in Hong Kong.\n",
      "President Trump said this. He says their freedom has been taken away. Their rights have been taken away. No special privileges, and with it goes Hong Kong, he said, because it will no longer be able to compete with free markets. A lot of people will be leaving Hong Kong. They are leaving Hong Kong for Australia, the United States, and for the UK. Will they be free to leave? \n",
      "Ambassador Liu: Certainly, they are free to leave. Hong Kong people enjoy unprecedented freedom after the handover for the past 23 years. Before the handover, what kind of freedom did they have? Did they have the freedom to elect their governor? The last governor was appointed by British government. But for the past 23 years, there were five Chief Executives elected by the Hong Kong people. \n",
      "Marr: Surely the fundamental truth is that under your new President, you have a nationalistic, more assertive regime in Beijing. And the real question is whether that regime can have a completely open relationship with free markets around the world. And Hong Kong is the epicenter for that. \n",
      "Ambassador Liu: I think you have a very wrong impression about what is going on in China. Let me give you an update. You don't trust our statement. You always regard it as propaganda. But it seems to me you trust Americans more. You don't regard them as propaganda. The Harvard University's Kennedy School of Government just issued a report. They did this report covering last 13 years. They did polling. The conclusion is, the Chinese people's rating of satisfaction for Chinese Communist Party and Chinese government is 93%, much higher than any western government, western leadership. So that's the fact about what is going on in China. \n",
      "Marr: We are going to get a response from the British government this coming week over Hong Kong, and there are reports that, for instance, Magnitsky act might be used to ban individual Chinese people from British territory. And also that the extradition treaty is going to be torn up. What would be China's reaction if that's the case?\n",
      "Ambassador Liu: That is totally wrong. We never believe in unilateral sanction. We believe that the UN has the authority to impose sanction. If the UK government goes as far as to impose sanctions on any individual in China, China will certainly make resolute response to it. You've seen what happened between China and the United States. They sanctioned Chinese officials. We sanctioned their senators and officials. I do not want to see this tit for tat between China and the US happen in China-UK relations. I think the UK should have its own independent foreign policy rather than to dance to the tune of Americans, like what happened to Huawei. \n",
      "Marr: You've talked about the possibility of tit for tat or reprisals. Let me ask about Huawei because when the Huawei decision was announced, the Chinese foreign ministry said that it would severely undermine mutual trust and come at a cost. Can I ask you what the cost is? \n",
      "Ambassador Liu: We are still evaluating the consequences. This is a very bad decision. When this decision was announced, I said, this is a dark day for Huawei. It's a dark day for China-UK relations. It's an even darker day for the United Kingdom, because you will miss the opportunity to be a leading country. I happen to agree with Martin Jacques who is a British scholar and historian.\n",
      "Marr: He knows China well.\n",
      "Ambassador Liu: He knows China well. He wrote a book entitled When China Rules the World. He has this good line: In 1793, the Chinese emperor Qianlong told the English King \"We have the slightest need of your country's manufactures\", and that marked the start of 150-year decline of China. History has its cycle. 227 years later, in 2020, the UK told China, \"We do not have the slightest need of your 5G technology\". So I do not know what will happen in the next 150 years.\n",
      "Marr: Is China -- looking at the TikTok's decision as well -- is China going to punish British companies like for instance Jaguar Land Rover which is operating in China as part of the response? \n",
      "Ambassador Liu: We do not want to politicize the economy. That is wrong. It's wrong for the United Kingdom to discriminate Chinese companies because of pressure from the United States. Some people are talking about \"national security risk\". There is no hard, solid evidence to say Huawei is a risk to the UK. They've been here for 20 years. They have made a huge contribution not only to the telecom industry of this country. They have fulfilled their corporate responsibility. They have helped the UK to develop. Prime Minister Boris Johnson has an ambitious plan to have full coverage of 5G by 2025. I think Huawei can deliver that. Huawei can be a big help. But now it seems to me the UK just kicks them out and, to use the media words, to purge them under the pressure from the United States. The US leaders have claimed credit for this. \n",
      "\n",
      "Marr: Let's turn to vaccine development. Now, Britain has accused Russia of trying to steal vaccine secrets. And when I had Rick Scott, the American senator from Florida, very, very close to Donald Trump on this program, he accused China of much the same thing. He said we have evidence -- that's the United States -- that China is trying to sabotage or slow down our ability to get this vaccine done. It came through our intelligence community. What's your response?\n",
      "Ambassador Liu: Those China bashers have made countless accusations. I don't think I should spend time with you to refute their accusation against China. China is very open and China is working also with the UK scientists on vaccine. And President Xi made it very clear at the World Health Assembly that we'll make it a public good when it's ready. We want to make it accessible, especially in the poorest country in Africa. \n",
      "Marr: Let's turn to the single biggest problem at the moment between China and the West, which is the treatment of the Uighur people in north China. Let's look at some very disturbing drone footage that has been widely shared around the world. This is almost certainly over northern China, over Xinjiang. Can you tell us what is happening here? \n",
      "Ambassador Liu: I cannot see this as you do. This is not the first time you showed me one. I still remember last year, you showed me what your thought was happening in Xinjiang. Let me tell you this, Xinjiang…Have you been to Xinjiang yourself? \n",
      "Marr: No, I never have.\n",
      "Ambassador Liu: Xinjiang is regarded as the most beautiful place in China? There's a Chinese saying you do not know how big Chinese is until you visited Xinjiang.\n",
      "Marr: Ambassador, that is not a beautiful coverage however, is it?\n",
      "Ambassador Liu: That is exactly what I'm going to tell you. Since 1990, Xinjiang has come under a challenge because of the thousands of terrorist attacks. People cannot...\n",
      "Marr: That was 10 years ago. Can I ask you why people are kneeling, blindfolded and shaven, and being led to trains in northern China? What is going on there?\n",
      "Ambassador Liu: I do not know where you get this video tape. Sometimes you need to transfer prisoners, you know, in any country.\n",
      "Marr: But just what is happening here, Ambassador?\n",
      "Ambassador Liu: I do not know where you got these video clips. \n",
      "Marr: These have been going around the world. They've been authenticated by western intelligence agencies and by Australian experts who say these are Uighur people being pushed on the train and then taken off to ... \n",
      "Ambassador Liu: Let me tell you this. The so-called Western intelligence agencies keep making up false accusations against China. They said one million or more Uighur have been persecuted. What is the population of Xinjiang? Forty years ago, its population is about 4, 5million. Now it's 11 million. And people say we have ethnic cleansing. But the population has been doubled in 40 years.\n",
      "Marr: I'm so sorry to interrupt. But according to your own local government's statistics, the population growth in Uighur jurisdictions in that area has fallen by 84 percent between 2015 and 2018. \n",
      "Ambassador Liu: That's not right. I give you an official figure. I give you this figure as a Chinese ambassador. This is a very authoritative figure. In the past 40 years, the population in Xinjiang has doubled. So there's no so-called the restriction of population and there is no so-called forced abortion, and so on. \n",
      "Marr: But there is a program of forced sterilization being imposed on Uighur women at the moment. It's gone on for a long time. And people, who are finally coming out of China, are talking about it. And I've got the witness statement from a woman who's on Newsnight, a brave woman who talked about it openly. You can now watch. Here is somebody who went through the forcible sterilization program in China. \n",
      "Ambassador Liu: I can easily refute this accusation. There are some small groups of anti-Chinese people working against the interests of China. But the majority of Xinjiang people are happy with what is going on in Xinjiang. \n",
      "Ambassador Liu: In the past three years, there's no single terrorist attack in Xinjiang. Uighur People enjoy harmonious life and peaceful, harmonious coexistence with people of other ethnic groups. Uighur people are just one small portion of the Chinese population and even the Muslims in China. The majority of them are living happily, peacefully and harmoniously with other ethnic groups. We have a very successful ethnic policy. We treat every ethnic group as equal. \n",
      "(Video is played.)\n",
      "Ambassador Liu: First of all, there's no so-called pervasive, massive, forced sterilization among Uighur people in China. This is totally against the truth. Secondly, the government policy is strongly opposed to this kind of practice. But I cannot rule out single cases. For any country, single cases exits. \n",
      "Marr: You cannot rule out at all, but the general view…\n",
      "Ambassador Liu: The general view is that it is not a government policy and we treat every ethnic group in China as equal.\n",
      "Marr: When we see interviews like that and we see people blindfolded and led off to trains to be taken to re-education camps. It reminds people in the West what was going on in Germany in the 1930s and 1940s. \n",
      "Ambassador Liu: That's completely wrong. There is no such a concentration camp in Xinjiang. I think we discussed that before. With regard to that video clip, I will get back to you. Your know, even if we are in the information age, there are all kinds of fake accusations against China. \n",
      "Marr: Let me remind you what the UN Convention on the Prevention and Punishment of the Crime of Genocide says. It says the genocide is killing people, causing serious bodily or mental harm, deliberately inflicting conditions of life calculated to bring about a group's physical destruction, imposing measures intended to prevent births, and forcibly transferring children to another group. All of those things, it is alleged to have been happening in China and China is going to face accusations at the United Nations about this. \n",
      "Ambassador Liu: This is not true. The fact just shows the opposite. People in Xinjiang enjoy happy life. They call for order to be restored in Xinjiang. China is strongly opposed to any torture, persecution and discrimination of people of any ethnic group. This is not the case in China. The policy of the Chinese government is, as I said, every ethnic group in China is treated equal. That's the success story of Chinese ethnic policy. \n",
      "Marr: Is it any longer possible for the West to deal with the country which is so nationalistic and so much under the thumb of the Communist Party leadership?\n",
      "Ambassador Liu: I do not agree with your description of China. It is not China that becomes \"so aggressive\". People say China is becoming very aggressive. That's totally wrong. China has not changed. It's the Western countries headed by the United States. They started this so-called \"new cold war\" on China. They have this sanction, they have this smearing and name-calling. Take what happened with this coronavirus. They still keep calling it \"China virus\" and \"Wuhan virus\". It's totally wrong, but we have to make a response. We do not provoke. But once we were provoked, we have to make response. \n",
      "Marr: Ambassador, thanks very much indeed for coming to talk to us today. Much appreciated. \n",
      "Ambassador Liu: Thank you.\n"
     ]
    }
   ],
   "source": [
    "for bodies in soup.find_all('div',{'class','content'}):\n",
    "    print(bodies.text.strip())"
   ]
  },
  {
   "cell_type": "code",
   "execution_count": 12,
   "metadata": {},
   "outputs": [
    {
     "data": {
      "text/plain": [
       "115"
      ]
     },
     "execution_count": 12,
     "metadata": {},
     "output_type": "execute_result"
    }
   ],
   "source": [
    "len(bodies)"
   ]
  },
  {
   "cell_type": "markdown",
   "metadata": {},
   "source": [
    "Confirmed that's the bottom."
   ]
  },
  {
   "cell_type": "markdown",
   "metadata": {},
   "source": [
    "**Clean | Send to DataFrame**<a id='2.5_review'></a>"
   ]
  },
  {
   "cell_type": "markdown",
   "metadata": {},
   "source": [
    "First the date from string to a datetime object."
   ]
  },
  {
   "cell_type": "code",
   "execution_count": 13,
   "metadata": {},
   "outputs": [
    {
     "name": "stdout",
     "output_type": "stream",
     "text": [
      "2020/07/20\n"
     ]
    }
   ],
   "source": [
    "for date in soup.find_all('div',{'class':'date'}):\n",
    "    print(date.text.strip())"
   ]
  },
  {
   "cell_type": "code",
   "execution_count": 14,
   "metadata": {},
   "outputs": [
    {
     "data": {
      "text/plain": [
       "<div class=\"date\" id=\"News_Body_Time\">2020/07/20</div>"
      ]
     },
     "execution_count": 14,
     "metadata": {},
     "output_type": "execute_result"
    }
   ],
   "source": [
    "date"
   ]
  },
  {
   "cell_type": "code",
   "execution_count": 15,
   "metadata": {},
   "outputs": [],
   "source": [
    "date = str(date)"
   ]
  },
  {
   "cell_type": "code",
   "execution_count": 16,
   "metadata": {},
   "outputs": [
    {
     "data": {
      "text/plain": [
       "'2020/07/20'"
      ]
     },
     "execution_count": 16,
     "metadata": {},
     "output_type": "execute_result"
    }
   ],
   "source": [
    "day_pub = remove_tags(date)\n",
    "day_pub"
   ]
  },
  {
   "cell_type": "code",
   "execution_count": 17,
   "metadata": {},
   "outputs": [
    {
     "data": {
      "text/plain": [
       "datetime.date(2020, 7, 20)"
      ]
     },
     "execution_count": 17,
     "metadata": {},
     "output_type": "execute_result"
    }
   ],
   "source": [
    "#Replacing commas\n",
    "day_pub = re.sub('/','-',day_pub)\n",
    "#Converting to dattime format\n",
    "day_pub = datetime.strptime(day_pub, '%Y-%m-%d').date()\n",
    "\n",
    "day_pub"
   ]
  },
  {
   "cell_type": "code",
   "execution_count": 18,
   "metadata": {},
   "outputs": [],
   "source": [
    "df_date = pd.DataFrame([day_pub])"
   ]
  },
  {
   "cell_type": "code",
   "execution_count": 19,
   "metadata": {},
   "outputs": [
    {
     "data": {
      "text/plain": [
       "pandas.core.frame.DataFrame"
      ]
     },
     "execution_count": 19,
     "metadata": {},
     "output_type": "execute_result"
    }
   ],
   "source": [
    "type(df_date)"
   ]
  },
  {
   "cell_type": "code",
   "execution_count": 20,
   "metadata": {},
   "outputs": [
    {
     "data": {
      "text/html": [
       "<div>\n",
       "<style scoped>\n",
       "    .dataframe tbody tr th:only-of-type {\n",
       "        vertical-align: middle;\n",
       "    }\n",
       "\n",
       "    .dataframe tbody tr th {\n",
       "        vertical-align: top;\n",
       "    }\n",
       "\n",
       "    .dataframe thead th {\n",
       "        text-align: right;\n",
       "    }\n",
       "</style>\n",
       "<table border=\"1\" class=\"dataframe\">\n",
       "  <thead>\n",
       "    <tr style=\"text-align: right;\">\n",
       "      <th></th>\n",
       "      <th>0</th>\n",
       "    </tr>\n",
       "  </thead>\n",
       "  <tbody>\n",
       "    <tr>\n",
       "      <th>0</th>\n",
       "      <td>2020-07-20</td>\n",
       "    </tr>\n",
       "  </tbody>\n",
       "</table>\n",
       "</div>"
      ],
      "text/plain": [
       "            0\n",
       "0  2020-07-20"
      ]
     },
     "execution_count": 20,
     "metadata": {},
     "output_type": "execute_result"
    }
   ],
   "source": [
    "df_date"
   ]
  },
  {
   "cell_type": "markdown",
   "metadata": {},
   "source": [
    "Now the title."
   ]
  },
  {
   "cell_type": "code",
   "execution_count": 21,
   "metadata": {},
   "outputs": [
    {
     "name": "stdout",
     "output_type": "stream",
     "text": [
      "<h2 class=\"title\">Ambassador Liu Xiaoming Gives Exclusive Live Interview on BBC's Andrew Marr Show</h2>\n"
     ]
    }
   ],
   "source": [
    "for title in soup.find_all('h2',{'class':'title'}):\n",
    "    print(title)"
   ]
  },
  {
   "cell_type": "code",
   "execution_count": 22,
   "metadata": {},
   "outputs": [],
   "source": [
    "title = remove_tags(str(title))"
   ]
  },
  {
   "cell_type": "code",
   "execution_count": 23,
   "metadata": {},
   "outputs": [
    {
     "data": {
      "text/plain": [
       "\"Ambassador Liu Xiaoming Gives Exclusive Live Interview on BBC's Andrew Marr Show\""
      ]
     },
     "execution_count": 23,
     "metadata": {},
     "output_type": "execute_result"
    }
   ],
   "source": [
    "title"
   ]
  },
  {
   "cell_type": "code",
   "execution_count": 24,
   "metadata": {},
   "outputs": [],
   "source": [
    "df_title = pd.DataFrame([title])"
   ]
  },
  {
   "cell_type": "code",
   "execution_count": 25,
   "metadata": {},
   "outputs": [
    {
     "data": {
      "text/html": [
       "<div>\n",
       "<style scoped>\n",
       "    .dataframe tbody tr th:only-of-type {\n",
       "        vertical-align: middle;\n",
       "    }\n",
       "\n",
       "    .dataframe tbody tr th {\n",
       "        vertical-align: top;\n",
       "    }\n",
       "\n",
       "    .dataframe thead th {\n",
       "        text-align: right;\n",
       "    }\n",
       "</style>\n",
       "<table border=\"1\" class=\"dataframe\">\n",
       "  <thead>\n",
       "    <tr style=\"text-align: right;\">\n",
       "      <th></th>\n",
       "      <th>0</th>\n",
       "    </tr>\n",
       "  </thead>\n",
       "  <tbody>\n",
       "    <tr>\n",
       "      <th>0</th>\n",
       "      <td>Ambassador Liu Xiaoming Gives Exclusive Live I...</td>\n",
       "    </tr>\n",
       "  </tbody>\n",
       "</table>\n",
       "</div>"
      ],
      "text/plain": [
       "                                                   0\n",
       "0  Ambassador Liu Xiaoming Gives Exclusive Live I..."
      ]
     },
     "execution_count": 25,
     "metadata": {},
     "output_type": "execute_result"
    }
   ],
   "source": [
    "df_title"
   ]
  },
  {
   "cell_type": "code",
   "execution_count": 26,
   "metadata": {},
   "outputs": [
    {
     "data": {
      "text/plain": [
       "pandas.core.frame.DataFrame"
      ]
     },
     "execution_count": 26,
     "metadata": {},
     "output_type": "execute_result"
    }
   ],
   "source": [
    "type(df_title)"
   ]
  },
  {
   "cell_type": "markdown",
   "metadata": {},
   "source": [
    "These items are manually added."
   ]
  },
  {
   "cell_type": "code",
   "execution_count": 27,
   "metadata": {},
   "outputs": [],
   "source": [
    "country = 'China'\n",
    "df_country = pd.DataFrame([country])\n",
    "source = 'Ministry of Foreign Affairs'\n",
    "df_source = pd.DataFrame([source])\n",
    "file_name = 'min_foreign_aff_9'\n",
    "df_file_name = pd.DataFrame([file_name])\n"
   ]
  },
  {
   "cell_type": "markdown",
   "metadata": {},
   "source": [
    "Finally, the news."
   ]
  },
  {
   "cell_type": "code",
   "execution_count": 28,
   "metadata": {},
   "outputs": [],
   "source": [
    "news1 = []\n",
    "for bodies in soup.find_all('div',{'class','content'}):\n",
    "    news1.append(bodies.text.strip())"
   ]
  },
  {
   "cell_type": "code",
   "execution_count": 29,
   "metadata": {},
   "outputs": [],
   "source": [
    "df_news = pd.DataFrame()"
   ]
  },
  {
   "cell_type": "code",
   "execution_count": 30,
   "metadata": {},
   "outputs": [],
   "source": [
    "df_news['article_body'] = news1"
   ]
  },
  {
   "cell_type": "code",
   "execution_count": 31,
   "metadata": {},
   "outputs": [
    {
     "data": {
      "text/html": [
       "<div>\n",
       "<style scoped>\n",
       "    .dataframe tbody tr th:only-of-type {\n",
       "        vertical-align: middle;\n",
       "    }\n",
       "\n",
       "    .dataframe tbody tr th {\n",
       "        vertical-align: top;\n",
       "    }\n",
       "\n",
       "    .dataframe thead th {\n",
       "        text-align: right;\n",
       "    }\n",
       "</style>\n",
       "<table border=\"1\" class=\"dataframe\">\n",
       "  <thead>\n",
       "    <tr style=\"text-align: right;\">\n",
       "      <th></th>\n",
       "      <th>article_body</th>\n",
       "    </tr>\n",
       "  </thead>\n",
       "  <tbody>\n",
       "    <tr>\n",
       "      <th>0</th>\n",
       "      <td>On 19 July 2020, H.E. Ambassador Liu Xiaoming ...</td>\n",
       "    </tr>\n",
       "  </tbody>\n",
       "</table>\n",
       "</div>"
      ],
      "text/plain": [
       "                                        article_body\n",
       "0  On 19 July 2020, H.E. Ambassador Liu Xiaoming ..."
      ]
     },
     "execution_count": 31,
     "metadata": {},
     "output_type": "execute_result"
    }
   ],
   "source": [
    "df_news.head(2)"
   ]
  },
  {
   "cell_type": "code",
   "execution_count": 32,
   "metadata": {},
   "outputs": [],
   "source": [
    "df_news['article_body'] = df_news.article_body.str.cat(sep=' ')"
   ]
  },
  {
   "cell_type": "code",
   "execution_count": 33,
   "metadata": {},
   "outputs": [],
   "source": [
    "df_news = df_news.article_body[0]"
   ]
  },
  {
   "cell_type": "code",
   "execution_count": 34,
   "metadata": {},
   "outputs": [],
   "source": [
    "df_news = df_news.replace(r'\\\\?','')"
   ]
  },
  {
   "cell_type": "code",
   "execution_count": 35,
   "metadata": {},
   "outputs": [],
   "source": [
    "df_news = pd.DataFrame([df_news])"
   ]
  },
  {
   "cell_type": "code",
   "execution_count": 36,
   "metadata": {},
   "outputs": [
    {
     "data": {
      "text/plain": [
       "pandas.core.frame.DataFrame"
      ]
     },
     "execution_count": 36,
     "metadata": {},
     "output_type": "execute_result"
    }
   ],
   "source": [
    "type(df_news)"
   ]
  },
  {
   "cell_type": "code",
   "execution_count": 37,
   "metadata": {},
   "outputs": [],
   "source": [
    "df_news.columns = ['Article']"
   ]
  },
  {
   "cell_type": "code",
   "execution_count": 38,
   "metadata": {},
   "outputs": [
    {
     "data": {
      "text/html": [
       "<div>\n",
       "<style scoped>\n",
       "    .dataframe tbody tr th:only-of-type {\n",
       "        vertical-align: middle;\n",
       "    }\n",
       "\n",
       "    .dataframe tbody tr th {\n",
       "        vertical-align: top;\n",
       "    }\n",
       "\n",
       "    .dataframe thead th {\n",
       "        text-align: right;\n",
       "    }\n",
       "</style>\n",
       "<table border=\"1\" class=\"dataframe\">\n",
       "  <thead>\n",
       "    <tr style=\"text-align: right;\">\n",
       "      <th></th>\n",
       "      <th>Article</th>\n",
       "    </tr>\n",
       "  </thead>\n",
       "  <tbody>\n",
       "    <tr>\n",
       "      <th>0</th>\n",
       "      <td>On 19 July 2020, H.E. Ambassador Liu Xiaoming ...</td>\n",
       "    </tr>\n",
       "  </tbody>\n",
       "</table>\n",
       "</div>"
      ],
      "text/plain": [
       "                                             Article\n",
       "0  On 19 July 2020, H.E. Ambassador Liu Xiaoming ..."
      ]
     },
     "execution_count": 38,
     "metadata": {},
     "output_type": "execute_result"
    }
   ],
   "source": [
    "df_news.head()"
   ]
  },
  {
   "cell_type": "code",
   "execution_count": null,
   "metadata": {},
   "outputs": [],
   "source": []
  },
  {
   "cell_type": "markdown",
   "metadata": {},
   "source": [
    "**Bringing it together.**<a id='2.5_bit'></a>"
   ]
  },
  {
   "cell_type": "code",
   "execution_count": 39,
   "metadata": {},
   "outputs": [],
   "source": [
    "df_9_min_foreign_aff = pd.concat([df_file_name,df_date,df_source,df_country,df_title,df_news],axis = 1, ignore_index=False)"
   ]
  },
  {
   "cell_type": "code",
   "execution_count": 40,
   "metadata": {},
   "outputs": [],
   "source": [
    "df_9_min_foreign_aff.columns = ['file_name','date','source','country','title','article']"
   ]
  },
  {
   "cell_type": "code",
   "execution_count": 41,
   "metadata": {},
   "outputs": [
    {
     "data": {
      "text/html": [
       "<div>\n",
       "<style scoped>\n",
       "    .dataframe tbody tr th:only-of-type {\n",
       "        vertical-align: middle;\n",
       "    }\n",
       "\n",
       "    .dataframe tbody tr th {\n",
       "        vertical-align: top;\n",
       "    }\n",
       "\n",
       "    .dataframe thead th {\n",
       "        text-align: right;\n",
       "    }\n",
       "</style>\n",
       "<table border=\"1\" class=\"dataframe\">\n",
       "  <thead>\n",
       "    <tr style=\"text-align: right;\">\n",
       "      <th></th>\n",
       "      <th>file_name</th>\n",
       "      <th>date</th>\n",
       "      <th>source</th>\n",
       "      <th>country</th>\n",
       "      <th>title</th>\n",
       "      <th>article</th>\n",
       "    </tr>\n",
       "  </thead>\n",
       "  <tbody>\n",
       "    <tr>\n",
       "      <th>0</th>\n",
       "      <td>min_foreign_aff_9</td>\n",
       "      <td>2020-07-20</td>\n",
       "      <td>Ministry of Foreign Affairs</td>\n",
       "      <td>China</td>\n",
       "      <td>Ambassador Liu Xiaoming Gives Exclusive Live I...</td>\n",
       "      <td>On 19 July 2020, H.E. Ambassador Liu Xiaoming ...</td>\n",
       "    </tr>\n",
       "  </tbody>\n",
       "</table>\n",
       "</div>"
      ],
      "text/plain": [
       "           file_name        date                       source country  \\\n",
       "0  min_foreign_aff_9  2020-07-20  Ministry of Foreign Affairs   China   \n",
       "\n",
       "                                               title  \\\n",
       "0  Ambassador Liu Xiaoming Gives Exclusive Live I...   \n",
       "\n",
       "                                             article  \n",
       "0  On 19 July 2020, H.E. Ambassador Liu Xiaoming ...  "
      ]
     },
     "execution_count": 41,
     "metadata": {},
     "output_type": "execute_result"
    }
   ],
   "source": [
    "df_9_min_foreign_aff.head()"
   ]
  },
  {
   "cell_type": "code",
   "execution_count": null,
   "metadata": {},
   "outputs": [],
   "source": []
  },
  {
   "cell_type": "markdown",
   "metadata": {},
   "source": [
    "**Saving**<a id='2.6_save'></a>"
   ]
  },
  {
   "cell_type": "code",
   "execution_count": 42,
   "metadata": {
    "scrolled": true
   },
   "outputs": [
    {
     "name": "stdout",
     "output_type": "stream",
     "text": [
      "C:\\Users\\rands\n"
     ]
    }
   ],
   "source": [
    "cd"
   ]
  },
  {
   "cell_type": "markdown",
   "metadata": {},
   "source": [
    "Saving it to Excel."
   ]
  },
  {
   "cell_type": "code",
   "execution_count": 43,
   "metadata": {},
   "outputs": [
    {
     "name": "stdout",
     "output_type": "stream",
     "text": [
      "Complete\n"
     ]
    }
   ],
   "source": [
    "# df = pd.DataFrame(reviewlist)\n",
    "\n",
    "# index=False below so that we don't get the dataframe index on the side; we just use the excel index\n",
    "df_9_min_foreign_aff.to_csv('./_Capstone_Two_NLP/data/_news/min_foreign_aff_9.csv', index=False)\n",
    "\n",
    "print('Complete')"
   ]
  },
  {
   "cell_type": "code",
   "execution_count": null,
   "metadata": {},
   "outputs": [],
   "source": []
  }
 ],
 "metadata": {
  "kernelspec": {
   "display_name": "Python 3",
   "language": "python",
   "name": "python3"
  },
  "language_info": {
   "codemirror_mode": {
    "name": "ipython",
    "version": 3
   },
   "file_extension": ".py",
   "mimetype": "text/x-python",
   "name": "python",
   "nbconvert_exporter": "python",
   "pygments_lexer": "ipython3",
   "version": "3.8.5"
  },
  "varInspector": {
   "cols": {
    "lenName": 16,
    "lenType": 16,
    "lenVar": 40
   },
   "kernels_config": {
    "python": {
     "delete_cmd_postfix": "",
     "delete_cmd_prefix": "del ",
     "library": "var_list.py",
     "varRefreshCmd": "print(var_dic_list())"
    },
    "r": {
     "delete_cmd_postfix": ") ",
     "delete_cmd_prefix": "rm(",
     "library": "var_list.r",
     "varRefreshCmd": "cat(var_dic_list()) "
    }
   },
   "types_to_exclude": [
    "module",
    "function",
    "builtin_function_or_method",
    "instance",
    "_Feature"
   ],
   "window_display": false
  }
 },
 "nbformat": 4,
 "nbformat_minor": 4
}
