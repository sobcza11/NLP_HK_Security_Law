{
 "cells": [
  {
   "cell_type": "markdown",
   "metadata": {},
   "source": [
    "# Scraping CE welcomes passage from the Hong Kong Government"
   ]
  },
  {
   "cell_type": "markdown",
   "metadata": {},
   "source": [
    "## 2.1 Contents<a id='2.1_Contents'></a>\n",
    "* [2.1 Importing Relevant Tools](#2.1_Importing)\n",
    "* [2.2 Defining the Request](#2.2_URL)\n",
    "* [2.3 Grab | Date](#2.4_scrape_date)\n",
    "* [2.4 Grab | Header](#2.4_scrape_header)\n",
    "* [2.5 Grab | Content](#2.4_scrape_content)\n",
    "* [2.6 Clean | Send to DataFrame](#2.5_review)\n",
    "* [2.7 Save](#2.6_save)\n"
   ]
  },
  {
   "cell_type": "markdown",
   "metadata": {},
   "source": [
    "**Importing Relevant Tools**<a id='2.1_Importing'></a>"
   ]
  },
  {
   "cell_type": "code",
   "execution_count": 2,
   "metadata": {},
   "outputs": [],
   "source": [
    "import json\n",
    "import pandas as pd\n",
    "from bs4 import BeautifulSoup as soup\n",
    "import requests\n",
    "import csv\n",
    "import re\n",
    "import pickle\n",
    "\n",
    "%reload_ext watermark"
   ]
  },
  {
   "cell_type": "code",
   "execution_count": 56,
   "metadata": {},
   "outputs": [],
   "source": [
    "#the below needs to be reviewed for all websites; notably the time format\n",
    "\n",
    "from datetime import date\n",
    "from datetime import datetime\n",
    "today = date.today()\n",
    "d = today.strftime(\"%m-%d-%y\")"
   ]
  },
  {
   "cell_type": "markdown",
   "metadata": {},
   "source": [
    "For reference."
   ]
  },
  {
   "cell_type": "code",
   "execution_count": 3,
   "metadata": {},
   "outputs": [
    {
     "name": "stdout",
     "output_type": "stream",
     "text": [
      "Python implementation: CPython\n",
      "Python version       : 3.8.5\n",
      "IPython version      : 7.19.0\n",
      "\n",
      "pandas: 1.1.3\n",
      "\n"
     ]
    }
   ],
   "source": [
    "%watermark -d -t -v -p pandas"
   ]
  },
  {
   "cell_type": "markdown",
   "metadata": {},
   "source": [
    "**Defining the Request**<a id='2.2_URL'></a>"
   ]
  },
  {
   "cell_type": "code",
   "execution_count": 4,
   "metadata": {},
   "outputs": [
    {
     "data": {
      "text/plain": [
       "'https://www.info.gov.hk/gia/general/202006/30/P2020063000767.htm'"
      ]
     },
     "execution_count": 4,
     "metadata": {},
     "output_type": "execute_result"
    }
   ],
   "source": [
    "url = 'https://www.info.gov.hk/gia/general/202006/30/P2020063000767.htm'\n",
    "content = requests.get(url).content\n",
    "url"
   ]
  },
  {
   "cell_type": "code",
   "execution_count": 5,
   "metadata": {},
   "outputs": [],
   "source": [
    "soup = soup(content,'html.parser')\n",
    "# bsobj"
   ]
  },
  {
   "cell_type": "markdown",
   "metadata": {},
   "source": [
    "**Grab | Date**<a id='2.4_scrape_date'></a>"
   ]
  },
  {
   "cell_type": "code",
   "execution_count": 6,
   "metadata": {},
   "outputs": [
    {
     "name": "stdout",
     "output_type": "stream",
     "text": [
      "Ends/Tuesday, June 30, 2020\n",
      "\t\t\t\t\n",
      "\t\t\t\t Issued at HKT 18:49\n"
     ]
    }
   ],
   "source": [
    "for date in soup.find_all('div',{'class':'mB15 f15'}):\n",
    "    print(date.text.strip())"
   ]
  },
  {
   "cell_type": "markdown",
   "metadata": {},
   "source": [
    "That is the date but needs some work cleaning it up."
   ]
  },
  {
   "cell_type": "markdown",
   "metadata": {},
   "source": [
    "**Grab | Header**<a id='2.4_scrape_header'></a>"
   ]
  },
  {
   "cell_type": "code",
   "execution_count": 38,
   "metadata": {},
   "outputs": [
    {
     "name": "stdout",
     "output_type": "stream",
     "text": [
      "CE welcomes passage of The Law of the People's Republic of China on Safeguarding National Security in the Hong Kong Special Administrative Region by NPCSC\n"
     ]
    }
   ],
   "source": [
    "for title in soup.findAll('div',{'class':'fontSize1','id':'PRHeadline'}):\n",
    "    print(title.text.strip())"
   ]
  },
  {
   "cell_type": "code",
   "execution_count": 40,
   "metadata": {},
   "outputs": [
    {
     "data": {
      "text/plain": [
       "\"\\nCE welcomes passage of The Law of the People's Republic of China on Safeguarding National Security in the Hong Kong Special Administrative Region by NPCSC\\n\""
      ]
     },
     "execution_count": 40,
     "metadata": {},
     "output_type": "execute_result"
    }
   ],
   "source": [
    "title.get_text()"
   ]
  },
  {
   "cell_type": "code",
   "execution_count": 41,
   "metadata": {},
   "outputs": [
    {
     "data": {
      "text/plain": [
       "<div class=\"fontSize1\" id=\"PRHeadline\">\n",
       "<span id=\"PRHeadlineSpan\"><span>CE welcomes passage of The Law of the People's Republic of China on Safeguarding National Security in the Hong Kong Special Administrative Region by NPCSC</span></span>\n",
       "</div>"
      ]
     },
     "execution_count": 41,
     "metadata": {},
     "output_type": "execute_result"
    }
   ],
   "source": [
    "title"
   ]
  },
  {
   "cell_type": "code",
   "execution_count": 42,
   "metadata": {},
   "outputs": [
    {
     "data": {
      "text/plain": [
       "<div class=\"fontSize1\" id=\"PRHeadline\">\n",
       "<span id=\"PRHeadlineSpan\"><span>CE welcomes passage of The Law of the People's Republic of China on Safeguarding National Security in the Hong Kong Special Administrative Region by NPCSC</span></span>\n",
       "</div>"
      ]
     },
     "execution_count": 42,
     "metadata": {},
     "output_type": "execute_result"
    }
   ],
   "source": [
    "title"
   ]
  },
  {
   "cell_type": "code",
   "execution_count": 43,
   "metadata": {},
   "outputs": [],
   "source": [
    "TAG_RE = re.compile(r'<[^>]+>')"
   ]
  },
  {
   "cell_type": "code",
   "execution_count": 44,
   "metadata": {},
   "outputs": [],
   "source": [
    "def remove_tags(text):\n",
    "    return TAG_RE.sub('', text)"
   ]
  },
  {
   "cell_type": "code",
   "execution_count": 45,
   "metadata": {},
   "outputs": [
    {
     "data": {
      "text/plain": [
       "\"\\nCE welcomes passage of The Law of the People's Republic of China on Safeguarding National Security in the Hong Kong Special Administrative Region by NPCSC\\n\""
      ]
     },
     "execution_count": 45,
     "metadata": {},
     "output_type": "execute_result"
    }
   ],
   "source": [
    "remove_tags(str(title))"
   ]
  },
  {
   "cell_type": "markdown",
   "metadata": {},
   "source": [
    "Confirmed that's the title; a little longer of a journey to get it."
   ]
  },
  {
   "cell_type": "markdown",
   "metadata": {},
   "source": [
    "**Grab | Content**<a id='2.4_scrape_content'></a>"
   ]
  },
  {
   "cell_type": "code",
   "execution_count": 47,
   "metadata": {},
   "outputs": [
    {
     "name": "stdout",
     "output_type": "stream",
     "text": [
      "In response to the passage of The Law of the People's Republic of China on Safeguarding National Security in the Hong Kong Special Administrative Region (the National Security Law) by the Standing Committee of the National People's Congress (NPCSC) today (June 30), the Chief Executive, Mrs Carrie Lam, made the following statement:\r\n",
      " \r\n",
      "     Safeguarding national security is the constitutional duty of the Hong Kong Special Administrative Region (HKSAR). The HKSAR Government welcomes the passage of the National Security Law by the NPCSC today. This national law has been listed in Annex III of the Basic Law in accordance with Article 18 of the Basic Law after consulting the NPCSC's Committee for the Basic Law of the HKSAR and the HKSAR Government.  \r\n",
      " \r\n",
      "     The HKSAR is an inalienable part of the People's Republic of China and a local administrative region which enjoys a high degree of autonomy and comes directly under the Central People's Government. Safeguarding national sovereignty, security and development interests is the constitutional duty of the HKSAR and concerns every Hong Kong citizen. In view of the increasingly pronounced national security risks faced by the HKSAR, the enactment of a national security law at the state level is both necessary and urgent in order to plug the loophole in national security in Hong Kong. The legislation is an important step to improve the \"One Country, Two Systems\" institutional system as well as restore stability in Hong Kong society as soon as possible.\r\n",
      " \r\n",
      "     \"The Decision on establishing and improving the legal system and enforcement mechanisms for the HKSAR to safeguard national security\" passed by the National People's Congress earlier clearly stipulated that the National Security Law listed in Annex III of the Basic Law will be applied by way of promulgation in the HKSAR. The National Security Law will come into effect later today. The HKSAR Government will complete the necessary procedure for publication by gazette as soon as possible to enable the implementation of the National Security Law in Hong Kong in tandem.\r\n",
      " \r\n",
      "     The National Security Law seeks to practically and effectively prevent, curb and punish four types of crimes seriously endangering national security, namely acts of secession, subversion of state power, terrorist activities, and collusion with foreign or external forces to endanger national security. It only targets an extremely small minority of offenders while the life and property as well as various legitimate basic rights and freedoms enjoyed by the overwhelming majority of citizens will be protected.\r\n",
      " \r\n",
      "     The HKSAR Government will, in accordance with the requirement of the National Security Law, establish the Committee for Safeguarding National Security to be chaired by the Chief Executive as soon as possible. Dedicated units in the Hong Kong Police Force and the Department of Justice will be responsible for implementing the relevant legal provisions in the National Security Law.\r\n",
      "  \r\n",
      "     I express my heartfelt thanks to the NPCSC for gauging the views of the HKSAR Government and various sectors of the community in Hong Kong as well as taking on board Hong Kong's practical situation during the law drafting process. I am also encouraged by the overwhelming support of the members of the public. I am confident that after the implementation of the National Security Law, the social unrest which has troubled Hong Kong people for nearly a year will be eased and stability will be restored, thereby enabling Hong Kong to start anew, focus on economic development and improve people's livelihood.\n",
      "\t\t\t\t\n",
      "\n",
      "\n",
      " \n",
      "Ends/Tuesday, June 30, 2020\n",
      "\t\t\t\t\n",
      "\t\t\t\t Issued at HKT 18:49\n",
      "\t\t\t\t\n",
      "\n",
      "\t\t\t\t NNNN\n"
     ]
    }
   ],
   "source": [
    "for bodies in soup.find_all('span',{'id':'pressrelease'}):\n",
    "    print(bodies.text.strip())"
   ]
  },
  {
   "cell_type": "code",
   "execution_count": 48,
   "metadata": {},
   "outputs": [
    {
     "data": {
      "text/plain": [
       "35"
      ]
     },
     "execution_count": 48,
     "metadata": {},
     "output_type": "execute_result"
    }
   ],
   "source": [
    "len(bodies)"
   ]
  },
  {
   "cell_type": "markdown",
   "metadata": {},
   "source": [
    "Confirmed that's the bottom with the date."
   ]
  },
  {
   "cell_type": "markdown",
   "metadata": {},
   "source": [
    "**Clean | Send to DataFrame**<a id='2.5_review'></a>"
   ]
  },
  {
   "cell_type": "markdown",
   "metadata": {},
   "source": [
    "First the date from string to a datetime object."
   ]
  },
  {
   "cell_type": "code",
   "execution_count": 49,
   "metadata": {},
   "outputs": [
    {
     "name": "stdout",
     "output_type": "stream",
     "text": [
      "Ends/Tuesday, June 30, 2020\n",
      "\t\t\t\t\n",
      "\t\t\t\t Issued at HKT 18:49\n"
     ]
    }
   ],
   "source": [
    "for date in soup.find_all('div',{'class':'mB15 f15'}):\n",
    "    print(date.text.strip())"
   ]
  },
  {
   "cell_type": "code",
   "execution_count": 50,
   "metadata": {},
   "outputs": [
    {
     "data": {
      "text/plain": [
       "<div class=\"mB15 f15\">Ends/Tuesday, June 30, 2020\n",
       "\t\t\t\t<br/>\n",
       "\t\t\t\t Issued at HKT 18:49\n",
       "\t\t\t\t</div>"
      ]
     },
     "execution_count": 50,
     "metadata": {},
     "output_type": "execute_result"
    }
   ],
   "source": [
    "date"
   ]
  },
  {
   "cell_type": "code",
   "execution_count": 51,
   "metadata": {},
   "outputs": [
    {
     "data": {
      "text/plain": [
       "'Ends/Tuesday, June 30, 2020\\n\\t\\t\\t\\t\\n\\t\\t\\t\\t Issued at HKT 18:49\\n\\t\\t\\t\\t'"
      ]
     },
     "execution_count": 51,
     "metadata": {},
     "output_type": "execute_result"
    }
   ],
   "source": [
    "date = remove_tags(str(date))\n",
    "date"
   ]
  },
  {
   "cell_type": "code",
   "execution_count": 52,
   "metadata": {},
   "outputs": [
    {
     "data": {
      "text/plain": [
       "62"
      ]
     },
     "execution_count": 52,
     "metadata": {},
     "output_type": "execute_result"
    }
   ],
   "source": [
    "len(date)"
   ]
  },
  {
   "cell_type": "code",
   "execution_count": 54,
   "metadata": {},
   "outputs": [
    {
     "data": {
      "text/plain": [
       "'June 30, 2020'"
      ]
     },
     "execution_count": 54,
     "metadata": {},
     "output_type": "execute_result"
    }
   ],
   "source": [
    "day_pub = date[14:27]\n",
    "day_pub"
   ]
  },
  {
   "cell_type": "code",
   "execution_count": 59,
   "metadata": {},
   "outputs": [
    {
     "data": {
      "text/plain": [
       "datetime.date(2020, 6, 30)"
      ]
     },
     "execution_count": 59,
     "metadata": {},
     "output_type": "execute_result"
    }
   ],
   "source": [
    "#Replacing commas\n",
    "day_pub = re.sub(',','',day_pub)\n",
    "#Replacing words to bring to datetimeformat\n",
    "day_pub = re.sub('June','06',day_pub)\n",
    "#Replacing the spaces\n",
    "day_pub = re.sub(' ','-',day_pub)\n",
    "#Converting to dattime format\n",
    "day_pub = datetime.strptime(day_pub, '%m-%d-%Y').date()\n",
    "\n",
    "day_pub"
   ]
  },
  {
   "cell_type": "code",
   "execution_count": 60,
   "metadata": {},
   "outputs": [],
   "source": [
    "df_date = pd.DataFrame([day_pub])"
   ]
  },
  {
   "cell_type": "code",
   "execution_count": 61,
   "metadata": {},
   "outputs": [
    {
     "data": {
      "text/plain": [
       "pandas.core.frame.DataFrame"
      ]
     },
     "execution_count": 61,
     "metadata": {},
     "output_type": "execute_result"
    }
   ],
   "source": [
    "type(df_date)"
   ]
  },
  {
   "cell_type": "code",
   "execution_count": 62,
   "metadata": {},
   "outputs": [
    {
     "data": {
      "text/html": [
       "<div>\n",
       "<style scoped>\n",
       "    .dataframe tbody tr th:only-of-type {\n",
       "        vertical-align: middle;\n",
       "    }\n",
       "\n",
       "    .dataframe tbody tr th {\n",
       "        vertical-align: top;\n",
       "    }\n",
       "\n",
       "    .dataframe thead th {\n",
       "        text-align: right;\n",
       "    }\n",
       "</style>\n",
       "<table border=\"1\" class=\"dataframe\">\n",
       "  <thead>\n",
       "    <tr style=\"text-align: right;\">\n",
       "      <th></th>\n",
       "      <th>0</th>\n",
       "    </tr>\n",
       "  </thead>\n",
       "  <tbody>\n",
       "    <tr>\n",
       "      <th>0</th>\n",
       "      <td>2020-06-30</td>\n",
       "    </tr>\n",
       "  </tbody>\n",
       "</table>\n",
       "</div>"
      ],
      "text/plain": [
       "            0\n",
       "0  2020-06-30"
      ]
     },
     "execution_count": 62,
     "metadata": {},
     "output_type": "execute_result"
    }
   ],
   "source": [
    "df_date"
   ]
  },
  {
   "cell_type": "markdown",
   "metadata": {},
   "source": [
    "Now the title."
   ]
  },
  {
   "cell_type": "code",
   "execution_count": 70,
   "metadata": {},
   "outputs": [],
   "source": [
    "for title in soup.findAll('div',{'class':'fontSize1','id':'PRHeadline'}):\n",
    "    title = (title.text.strip())"
   ]
  },
  {
   "cell_type": "code",
   "execution_count": 71,
   "metadata": {},
   "outputs": [
    {
     "data": {
      "text/plain": [
       "\"CE welcomes passage of The Law of the People's Republic of China on Safeguarding National Security in the Hong Kong Special Administrative Region by NPCSC\""
      ]
     },
     "execution_count": 71,
     "metadata": {},
     "output_type": "execute_result"
    }
   ],
   "source": [
    "title"
   ]
  },
  {
   "cell_type": "code",
   "execution_count": 72,
   "metadata": {},
   "outputs": [],
   "source": [
    "title = remove_tags(str(title))"
   ]
  },
  {
   "cell_type": "code",
   "execution_count": 73,
   "metadata": {},
   "outputs": [
    {
     "data": {
      "text/plain": [
       "\"CE welcomes passage of The Law of the People's Republic of China on Safeguarding National Security in the Hong Kong Special Administrative Region by NPCSC\""
      ]
     },
     "execution_count": 73,
     "metadata": {},
     "output_type": "execute_result"
    }
   ],
   "source": [
    "title"
   ]
  },
  {
   "cell_type": "code",
   "execution_count": 74,
   "metadata": {},
   "outputs": [],
   "source": [
    "df_title = pd.DataFrame([title])"
   ]
  },
  {
   "cell_type": "code",
   "execution_count": 75,
   "metadata": {},
   "outputs": [
    {
     "data": {
      "text/html": [
       "<div>\n",
       "<style scoped>\n",
       "    .dataframe tbody tr th:only-of-type {\n",
       "        vertical-align: middle;\n",
       "    }\n",
       "\n",
       "    .dataframe tbody tr th {\n",
       "        vertical-align: top;\n",
       "    }\n",
       "\n",
       "    .dataframe thead th {\n",
       "        text-align: right;\n",
       "    }\n",
       "</style>\n",
       "<table border=\"1\" class=\"dataframe\">\n",
       "  <thead>\n",
       "    <tr style=\"text-align: right;\">\n",
       "      <th></th>\n",
       "      <th>0</th>\n",
       "    </tr>\n",
       "  </thead>\n",
       "  <tbody>\n",
       "    <tr>\n",
       "      <th>0</th>\n",
       "      <td>CE welcomes passage of The Law of the People's...</td>\n",
       "    </tr>\n",
       "  </tbody>\n",
       "</table>\n",
       "</div>"
      ],
      "text/plain": [
       "                                                   0\n",
       "0  CE welcomes passage of The Law of the People's..."
      ]
     },
     "execution_count": 75,
     "metadata": {},
     "output_type": "execute_result"
    }
   ],
   "source": [
    "df_title"
   ]
  },
  {
   "cell_type": "code",
   "execution_count": 76,
   "metadata": {},
   "outputs": [
    {
     "data": {
      "text/plain": [
       "pandas.core.frame.DataFrame"
      ]
     },
     "execution_count": 76,
     "metadata": {},
     "output_type": "execute_result"
    }
   ],
   "source": [
    "type(df_title)"
   ]
  },
  {
   "cell_type": "markdown",
   "metadata": {},
   "source": [
    "These items are manually added."
   ]
  },
  {
   "cell_type": "code",
   "execution_count": 78,
   "metadata": {},
   "outputs": [],
   "source": [
    "country = 'Hong Kong'\n",
    "df_country = pd.DataFrame([country])\n",
    "source = 'Hong Kong Gov\\'t'\n",
    "df_source = pd.DataFrame([source])\n",
    "file_name = 'hkgovt_15'\n",
    "df_file_name = pd.DataFrame([file_name])"
   ]
  },
  {
   "cell_type": "markdown",
   "metadata": {},
   "source": [
    "Finally, the news."
   ]
  },
  {
   "cell_type": "code",
   "execution_count": 79,
   "metadata": {},
   "outputs": [],
   "source": [
    "news1 = []\n",
    "for bodies in soup.find_all('span',{'id':'pressrelease'}):\n",
    "    news1.append(bodies.text.strip())"
   ]
  },
  {
   "cell_type": "code",
   "execution_count": 80,
   "metadata": {},
   "outputs": [
    {
     "data": {
      "text/plain": [
       "['In response to the passage of The Law of the People\\'s Republic of China on Safeguarding National Security in the Hong Kong Special Administrative Region (the National Security Law) by the Standing Committee of the National People\\'s Congress (NPCSC) today (June 30), the Chief Executive, Mrs Carrie Lam, made the following statement:\\r\\n\\xa0\\r\\n\\xa0\\xa0\\xa0\\xa0\\xa0Safeguarding national security is the constitutional duty of the Hong Kong Special Administrative Region (HKSAR). The HKSAR Government welcomes the passage of the National Security Law by the NPCSC today. This national law has been listed in Annex III of the Basic Law in accordance with Article 18 of the Basic Law after consulting the NPCSC\\'s Committee for the Basic Law of the HKSAR and the HKSAR Government.\\xa0\\xa0\\r\\n\\xa0\\r\\n\\xa0\\xa0\\xa0\\xa0 The HKSAR is an inalienable part of the People\\'s Republic of China and a local administrative region which enjoys a high degree of autonomy and comes directly under the Central People\\'s Government. Safeguarding national sovereignty, security and development interests is the constitutional duty of the HKSAR and concerns every Hong Kong citizen. In view of the increasingly pronounced national security risks faced by the HKSAR, the enactment of a national security law at the state level is both necessary and urgent in order to plug the loophole in national security in Hong Kong. The legislation is an important step to improve the \"One Country, Two Systems\" institutional system as well as restore stability in Hong Kong society as soon as possible.\\r\\n\\xa0\\r\\n\\xa0 \\xa0 \\xa0\"The Decision on establishing and improving the legal system and enforcement mechanisms for the HKSAR to safeguard national security\" passed by the National People\\'s Congress earlier clearly stipulated that the National Security Law listed in Annex III of the Basic Law will be applied by way of promulgation in the HKSAR. The National Security Law will come into effect later today. The HKSAR Government will complete the necessary procedure for publication by gazette as soon as possible to enable the implementation of the National Security Law in Hong Kong in tandem.\\r\\n\\xa0\\r\\n\\xa0\\xa0\\xa0\\xa0 The National Security Law seeks to practically and effectively prevent, curb and punish four types of crimes seriously endangering national security, namely acts of secession, subversion of state power, terrorist activities, and collusion with foreign or external forces to endanger national security. It only targets an extremely small minority of offenders while the life and property as well as various legitimate basic rights and freedoms enjoyed by the overwhelming majority of citizens will be protected.\\r\\n\\xa0\\r\\n\\xa0\\xa0\\xa0\\xa0\\xa0The HKSAR Government\\xa0will, in accordance with the requirement of the National Security Law, establish the Committee for Safeguarding National Security to be chaired by the Chief Executive as soon as possible. Dedicated units in the Hong Kong Police Force and the Department of Justice will be responsible for implementing the relevant legal provisions in the National Security Law.\\r\\n\\xa0\\xa0\\r\\n\\xa0\\xa0\\xa0\\xa0\\xa0I express my heartfelt thanks to the NPCSC for gauging the views of the HKSAR Government and various sectors of the community in Hong Kong as well as taking on board Hong Kong\\'s practical situation during the law drafting process. I am also encouraged by the overwhelming support of the members of the public. I am confident that after the implementation of the National Security Law, the social unrest which has troubled Hong Kong people for nearly a year will be eased and stability will be restored, thereby enabling Hong Kong to start anew, focus on economic development and improve people\\'s livelihood.\\n\\t\\t\\t\\t\\n\\n\\n\\xa0\\nEnds/Tuesday, June 30, 2020\\n\\t\\t\\t\\t\\n\\t\\t\\t\\t Issued at HKT 18:49\\n\\t\\t\\t\\t\\n\\n\\t\\t\\t\\t NNNN']"
      ]
     },
     "execution_count": 80,
     "metadata": {},
     "output_type": "execute_result"
    }
   ],
   "source": [
    "news1"
   ]
  },
  {
   "cell_type": "code",
   "execution_count": 81,
   "metadata": {},
   "outputs": [],
   "source": [
    "df_news = pd.DataFrame()"
   ]
  },
  {
   "cell_type": "code",
   "execution_count": 82,
   "metadata": {},
   "outputs": [],
   "source": [
    "df_news['article_body'] = news1"
   ]
  },
  {
   "cell_type": "code",
   "execution_count": 83,
   "metadata": {
    "scrolled": true
   },
   "outputs": [
    {
     "data": {
      "text/html": [
       "<div>\n",
       "<style scoped>\n",
       "    .dataframe tbody tr th:only-of-type {\n",
       "        vertical-align: middle;\n",
       "    }\n",
       "\n",
       "    .dataframe tbody tr th {\n",
       "        vertical-align: top;\n",
       "    }\n",
       "\n",
       "    .dataframe thead th {\n",
       "        text-align: right;\n",
       "    }\n",
       "</style>\n",
       "<table border=\"1\" class=\"dataframe\">\n",
       "  <thead>\n",
       "    <tr style=\"text-align: right;\">\n",
       "      <th></th>\n",
       "      <th>article_body</th>\n",
       "    </tr>\n",
       "  </thead>\n",
       "  <tbody>\n",
       "    <tr>\n",
       "      <th>0</th>\n",
       "      <td>In response to the passage of The Law of the P...</td>\n",
       "    </tr>\n",
       "  </tbody>\n",
       "</table>\n",
       "</div>"
      ],
      "text/plain": [
       "                                        article_body\n",
       "0  In response to the passage of The Law of the P..."
      ]
     },
     "execution_count": 83,
     "metadata": {},
     "output_type": "execute_result"
    }
   ],
   "source": [
    "df_news.head(2)"
   ]
  },
  {
   "cell_type": "code",
   "execution_count": 84,
   "metadata": {},
   "outputs": [],
   "source": [
    "df_news['article_body'] = df_news.article_body.str.cat(sep=' ')"
   ]
  },
  {
   "cell_type": "code",
   "execution_count": 85,
   "metadata": {},
   "outputs": [],
   "source": [
    "df_news = df_news.article_body[0]"
   ]
  },
  {
   "cell_type": "code",
   "execution_count": 86,
   "metadata": {},
   "outputs": [],
   "source": [
    "df_news = df_news.replace(r'\\\\?','')"
   ]
  },
  {
   "cell_type": "code",
   "execution_count": 87,
   "metadata": {},
   "outputs": [],
   "source": [
    "df_news = pd.DataFrame([df_news])"
   ]
  },
  {
   "cell_type": "code",
   "execution_count": 88,
   "metadata": {},
   "outputs": [
    {
     "data": {
      "text/plain": [
       "pandas.core.frame.DataFrame"
      ]
     },
     "execution_count": 88,
     "metadata": {},
     "output_type": "execute_result"
    }
   ],
   "source": [
    "type(df_news)"
   ]
  },
  {
   "cell_type": "code",
   "execution_count": 89,
   "metadata": {},
   "outputs": [],
   "source": [
    "df_news.columns = ['Article']"
   ]
  },
  {
   "cell_type": "code",
   "execution_count": 90,
   "metadata": {},
   "outputs": [
    {
     "data": {
      "text/html": [
       "<div>\n",
       "<style scoped>\n",
       "    .dataframe tbody tr th:only-of-type {\n",
       "        vertical-align: middle;\n",
       "    }\n",
       "\n",
       "    .dataframe tbody tr th {\n",
       "        vertical-align: top;\n",
       "    }\n",
       "\n",
       "    .dataframe thead th {\n",
       "        text-align: right;\n",
       "    }\n",
       "</style>\n",
       "<table border=\"1\" class=\"dataframe\">\n",
       "  <thead>\n",
       "    <tr style=\"text-align: right;\">\n",
       "      <th></th>\n",
       "      <th>Article</th>\n",
       "    </tr>\n",
       "  </thead>\n",
       "  <tbody>\n",
       "    <tr>\n",
       "      <th>0</th>\n",
       "      <td>In response to the passage of The Law of the P...</td>\n",
       "    </tr>\n",
       "  </tbody>\n",
       "</table>\n",
       "</div>"
      ],
      "text/plain": [
       "                                             Article\n",
       "0  In response to the passage of The Law of the P..."
      ]
     },
     "execution_count": 90,
     "metadata": {},
     "output_type": "execute_result"
    }
   ],
   "source": [
    "df_news.head()"
   ]
  },
  {
   "cell_type": "code",
   "execution_count": null,
   "metadata": {},
   "outputs": [],
   "source": []
  },
  {
   "cell_type": "markdown",
   "metadata": {},
   "source": [
    "**Bringing it together.**<a id='2.5_bit'></a>"
   ]
  },
  {
   "cell_type": "code",
   "execution_count": 91,
   "metadata": {},
   "outputs": [],
   "source": [
    "df_15_hkgovt = pd.concat([df_file_name,df_date,df_source,df_country,df_title,df_news],axis = 1, ignore_index=False)"
   ]
  },
  {
   "cell_type": "code",
   "execution_count": 92,
   "metadata": {},
   "outputs": [],
   "source": [
    "df_15_hkgovt.columns = ['file_name','date','source','country','title','article']"
   ]
  },
  {
   "cell_type": "code",
   "execution_count": 93,
   "metadata": {},
   "outputs": [
    {
     "data": {
      "text/html": [
       "<div>\n",
       "<style scoped>\n",
       "    .dataframe tbody tr th:only-of-type {\n",
       "        vertical-align: middle;\n",
       "    }\n",
       "\n",
       "    .dataframe tbody tr th {\n",
       "        vertical-align: top;\n",
       "    }\n",
       "\n",
       "    .dataframe thead th {\n",
       "        text-align: right;\n",
       "    }\n",
       "</style>\n",
       "<table border=\"1\" class=\"dataframe\">\n",
       "  <thead>\n",
       "    <tr style=\"text-align: right;\">\n",
       "      <th></th>\n",
       "      <th>file_name</th>\n",
       "      <th>date</th>\n",
       "      <th>source</th>\n",
       "      <th>country</th>\n",
       "      <th>title</th>\n",
       "      <th>article</th>\n",
       "    </tr>\n",
       "  </thead>\n",
       "  <tbody>\n",
       "    <tr>\n",
       "      <th>0</th>\n",
       "      <td>hkgovt_15</td>\n",
       "      <td>2020-06-30</td>\n",
       "      <td>Hong Kong Gov't</td>\n",
       "      <td>Hong Kong</td>\n",
       "      <td>CE welcomes passage of The Law of the People's...</td>\n",
       "      <td>In response to the passage of The Law of the P...</td>\n",
       "    </tr>\n",
       "  </tbody>\n",
       "</table>\n",
       "</div>"
      ],
      "text/plain": [
       "   file_name        date           source    country  \\\n",
       "0  hkgovt_15  2020-06-30  Hong Kong Gov't  Hong Kong   \n",
       "\n",
       "                                               title  \\\n",
       "0  CE welcomes passage of The Law of the People's...   \n",
       "\n",
       "                                             article  \n",
       "0  In response to the passage of The Law of the P...  "
      ]
     },
     "execution_count": 93,
     "metadata": {},
     "output_type": "execute_result"
    }
   ],
   "source": [
    "df_15_hkgovt.head()"
   ]
  },
  {
   "cell_type": "code",
   "execution_count": null,
   "metadata": {},
   "outputs": [],
   "source": []
  },
  {
   "cell_type": "markdown",
   "metadata": {},
   "source": [
    "**Saving**<a id='2.6_save'></a>"
   ]
  },
  {
   "cell_type": "code",
   "execution_count": 94,
   "metadata": {},
   "outputs": [
    {
     "name": "stdout",
     "output_type": "stream",
     "text": [
      "C:\\Users\\rands\n"
     ]
    }
   ],
   "source": [
    "cd"
   ]
  },
  {
   "cell_type": "markdown",
   "metadata": {},
   "source": [
    "Saving it to Excel."
   ]
  },
  {
   "cell_type": "code",
   "execution_count": 95,
   "metadata": {},
   "outputs": [
    {
     "name": "stdout",
     "output_type": "stream",
     "text": [
      "Complete\n"
     ]
    }
   ],
   "source": [
    "# df = pd.DataFrame(reviewlist)\n",
    "\n",
    "# index=False below so that we don't get the dataframe index on the side; we just use the excel index\n",
    "df_15_hkgovt.to_csv('./_Capstone_Two_NLP/data/_news/hkgovt_15.csv', index=False)\n",
    "\n",
    "print('Complete')"
   ]
  },
  {
   "cell_type": "code",
   "execution_count": null,
   "metadata": {},
   "outputs": [],
   "source": []
  },
  {
   "cell_type": "code",
   "execution_count": null,
   "metadata": {},
   "outputs": [],
   "source": []
  },
  {
   "cell_type": "code",
   "execution_count": null,
   "metadata": {},
   "outputs": [],
   "source": []
  },
  {
   "cell_type": "code",
   "execution_count": null,
   "metadata": {},
   "outputs": [],
   "source": []
  }
 ],
 "metadata": {
  "kernelspec": {
   "display_name": "Python 3",
   "language": "python",
   "name": "python3"
  },
  "language_info": {
   "codemirror_mode": {
    "name": "ipython",
    "version": 3
   },
   "file_extension": ".py",
   "mimetype": "text/x-python",
   "name": "python",
   "nbconvert_exporter": "python",
   "pygments_lexer": "ipython3",
   "version": "3.8.5"
  },
  "varInspector": {
   "cols": {
    "lenName": 16,
    "lenType": 16,
    "lenVar": 40
   },
   "kernels_config": {
    "python": {
     "delete_cmd_postfix": "",
     "delete_cmd_prefix": "del ",
     "library": "var_list.py",
     "varRefreshCmd": "print(var_dic_list())"
    },
    "r": {
     "delete_cmd_postfix": ") ",
     "delete_cmd_prefix": "rm(",
     "library": "var_list.r",
     "varRefreshCmd": "cat(var_dic_list()) "
    }
   },
   "types_to_exclude": [
    "module",
    "function",
    "builtin_function_or_method",
    "instance",
    "_Feature"
   ],
   "window_display": false
  }
 },
 "nbformat": 4,
 "nbformat_minor": 4
}
