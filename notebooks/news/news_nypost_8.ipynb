{
 "cells": [
  {
   "cell_type": "markdown",
   "metadata": {},
   "source": [
    "# Scraping arrest over 300 from NY Post"
   ]
  },
  {
   "cell_type": "markdown",
   "metadata": {},
   "source": [
    "## 2.1 Contents<a id='2.1_Contents'></a>\n",
    "* [2.1 Importing Relevant Tools](#2.1_Importing)\n",
    "* [2.2 Defining the Request](#2.2_URL)\n",
    "* [2.3 Grab | Date](#2.4_scrape_date)\n",
    "* [2.4 Grab | Header](#2.4_scrape_header)\n",
    "* [2.5 Grab | Content](#2.4_scrape_content)\n",
    "* [2.6 Clean | Send to DataFrame](#2.5_review)\n",
    "* [2.7 Save](#2.6_save)\n"
   ]
  },
  {
   "cell_type": "markdown",
   "metadata": {},
   "source": [
    "**Importing Relevant Tools**<a id='2.1_Importing'></a>"
   ]
  },
  {
   "cell_type": "code",
   "execution_count": 1,
   "metadata": {},
   "outputs": [],
   "source": [
    "import json\n",
    "import pandas as pd\n",
    "from bs4 import BeautifulSoup as soup\n",
    "import requests\n",
    "import csv\n",
    "import re\n",
    "import pickle\n",
    "\n",
    "%reload_ext watermark"
   ]
  },
  {
   "cell_type": "code",
   "execution_count": 2,
   "metadata": {},
   "outputs": [],
   "source": [
    "#the below needs to be reviewed for all websites; notably the time format\n",
    "\n",
    "from datetime import date\n",
    "from datetime import datetime\n",
    "today = date.today()\n",
    "d = today.strftime(\"%m-%d-%y\")"
   ]
  },
  {
   "cell_type": "markdown",
   "metadata": {},
   "source": [
    "For reference."
   ]
  },
  {
   "cell_type": "code",
   "execution_count": 3,
   "metadata": {},
   "outputs": [
    {
     "name": "stdout",
     "output_type": "stream",
     "text": [
      "Python implementation: CPython\n",
      "Python version       : 3.8.5\n",
      "IPython version      : 7.19.0\n",
      "\n",
      "pandas: 1.1.3\n",
      "\n"
     ]
    }
   ],
   "source": [
    "%watermark -d -t -v -p pandas"
   ]
  },
  {
   "cell_type": "markdown",
   "metadata": {},
   "source": [
    "**Defining the Request**<a id='2.2_URL'></a>"
   ]
  },
  {
   "cell_type": "code",
   "execution_count": 4,
   "metadata": {},
   "outputs": [
    {
     "data": {
      "text/plain": [
       "'https://nypost.com/2020/07/01/hong-kong-police-arrest-nearly-200-in-first-protest-under-new-security-law/'"
      ]
     },
     "execution_count": 4,
     "metadata": {},
     "output_type": "execute_result"
    }
   ],
   "source": [
    "url = 'https://nypost.com/2020/07/01/hong-kong-police-arrest-nearly-200-in-first-protest-under-new-security-law/'\n",
    "content = requests.get(url).content\n",
    "url"
   ]
  },
  {
   "cell_type": "code",
   "execution_count": 5,
   "metadata": {},
   "outputs": [],
   "source": [
    "soup = soup(content,'html.parser')\n",
    "# bsobj"
   ]
  },
  {
   "cell_type": "markdown",
   "metadata": {},
   "source": [
    "**Grab | Date**<a id='2.4_scrape_date'></a>"
   ]
  },
  {
   "cell_type": "code",
   "execution_count": 45,
   "metadata": {},
   "outputs": [],
   "source": [
    "for date in soup.find_all('div',{'p class':'byline-date'}):\n",
    "    print(date.text.strip())"
   ]
  },
  {
   "cell_type": "code",
   "execution_count": 46,
   "metadata": {},
   "outputs": [
    {
     "data": {
      "text/plain": [
       "\"\\n\\n\\nNews\\n\\n\\nShare this:FacebookTwitter\\n\\n\\nFlipboard\\n\\nWhatsAppEmailCopy \\n\\n \\n\\n\\t\\t\\t\\tHong Kong police arrest over 300 in first protest under new security law\\t\\t\\t\\n\\nBy Bob Fredericks \\n\\n\\n\\n\\n\\nView author archive\\n\\n\\n\\n\\nemail the author\\n\\n\\n\\n\\nGet author RSS feed\\n\\n\\n\\n\\n\\n \\nMost Popular Today\\n\\n \\n1\\n\\n\\n\\n\\n\\nParents at elite NYC school enraged over 'masturbation' videos for first graders \\n\\n2\\n\\n\\n\\n\\n\\nNYC’s iconic Washington Square Park now a ‘drug den’ that’s terrifying neighbors \\n\\n3\\n\\n\\n\\n\\n\\nNBA recklessly gives LeBron James another pass \\n\\n4\\n\\n\\n\\n\\n\\nInside Sinead O'Connor's horrifying and downright bizarre night with Prince \\n\\n5\\n\\n\\n\\n\\n\\nPiers Morgan says 'Good Morning Britain' wants him back after Meghan Markle comments \\n \\n\\n\\nName(required)\\n\\n\\n\\nEmail(required)\\n\\n\\n\\nComment(required)\\n\\n\\n\\nSubmit \\n\\n\\n\\n\\n\\n\\n \\n\\n\\t\\tJuly 1, 2020 | 9:26am\\t\\t\\t\\t| Updated July 1, 2020 | 1:03pm\\n\\n\\n\\nEnlarge Image\\n\\n\\n\\n\\nA\\xa0police\\xa0officer\\xa0raises\\xa0his\\xa0pepper\\xa0spray\\xa0handgun\\xa0as he detains a man during a march against the national security law at the anniversary of Hong Kong's handover to China from Britain in Hong Kong, China.\\nReuters\\n\\n\\n\\n\\n\\n\\nMore On:\\n\\n\\n\\t\\t\\t\\t\\t\\thong kong\\t\\t\\t\\t\\t\\n\\n\\n\\n\\n\\t\\t\\t\\t\\tRandi Weingarten isn't fooling parents and other commentary\\t\\t\\t\\t\\n\\n\\n\\n\\n\\t\\t\\t\\t\\tFlawless Sakura Diamond could be sold for up to $38 million\\t\\t\\t\\t\\n\\n\\n\\n\\n\\t\\t\\t\\t\\tHong Kong activist Joshua Wong jailed for further 10 months over June 4 assembly\\t\\t\\t\\t\\n\\n\\n\\n\\n\\t\\t\\t\\t\\tHong Kong passes immigration bill, raising alarm over 'exit bans'\\t\\t\\t\\t\\n\\n\\n\\n\\n\\nHong Kong police arrested more than 300 people Wednesday as thousands of defiant demonstrators gathered in Hong Kong to protest Beijing’s new national security law — while the UK offered a new path to citizenship for almost 3 million eligible residents of its former colony.\\nHong Kong police fired water cannon and tear gas as protesters took to the streets to vent against the sweeping security legislation introduced by China that they say is aimed at stifling dissent.\\nIn Causeway Bay, the retail center of the island territory, cops raised a flag warning crowds they were violating the new law, but pro-Democracy demonstrators still gathered, resulting in hundreds of arrests by nightfall.\\nProtesters remained undaunted.\\n“We are on street to [protest] against national security law. We shall never surrender. Now is not the time to give up,” tweeted Joshua Wong, a Hong Kong activist with more than 600,000 followers on Twitter.’\\nReuters\\nOn the first full day the tough new law was in place, Hong Kong Chief Executive Carrie Lam admitted the civil unrest that had rocked the city for months last year was sparked by past failures, but claimed that the national security law showed “Beijing’s confidence” in the city, the South China Morning Post reported.\\nMeanwhile, British Prime Minister Boris Johnson announced the path to citizenship because, he said, Hong Kong residents’ freedoms were being erased by the new law.\\n“It violates Hong Kong’s high degree of autonomy and threatens the freedoms and rights protected by the joint declaration,” Johnson said, the BBC reported.\\n“We made clear that if China continued down this path we would introduce a new route for those with British National [Overseas] status to enter the UK, granting them limited leave to remain with the ability to live and work in the UK and thereafter to apply for citizenship. And that is precisely what we will do now.”\\nRiot police stop and search people.Reuters\\nAbout 350,000 UK passport holders, and 2.6 million others who are eligible, will be able to come to the UK for five years, and after a further year, they can apply for citizenship.\\nBritish National Overseas Passport holders in Hong Kong were granted special status in the 1980s but until now had restricted rights and were only entitled to visa-free access to the UK for six months.\\nJohnson also said Tuesday’s passing of the law was a “clear and serious breach” of the 1985 Sino-British joint declaration — which set out how certain freedoms would be protected for the 50 years after China assumed control of the colony in 1997, the news service reported.\\nHong Kong’s autonomy was guaranteed under the “one country, two systems” agreement enshrined in the Sino-British Joint Declaration signed by then Chinese Premier Zhao Ziyang and British Prime Minister Margaret Thatcher.\\nForeign Secretary Dominic Raab said Britain had carefully assessed China’s national security legislation since it was published late on Tuesday.\\n“It constitutes a clear violation of the autonomy of Hong Kong, and a direct threat to the freedoms of its people, and therefore I’m afraid to say it is a clear and serious violation of the Joint Declaration treaty between the United Kingdom and China,” Raab told Reuters and the BBC.\\nAuthorities in Beijing and Hong Kong have repeatedly said the legislation is aimed at a few “troublemakers” and will not affect rights and freedoms, nor investor interests.\\n“China, through this national security legislation, is not living up to its promises to the people of Hong Kong,” Raab said. “We will live up to our promises.”\\nAsked about how the West should deal with Chinese President Xi Jinping, Raab said the international community needed to act.\\nRiot police fire tear gas into the crowds to disperse anti-national security law protesters.Reuters\\n“Obviously, China is a leading member of the international community. And it is precisely because of that, that we expect it to live up to its international obligations and its international responsibilities. For trust in China’s ability to do that, today has been a big step backwards.”\\nIn response to the crackdown, the US said it would no longer deliver certain weapons to Hong Kong for fear they would fall into the hands of the mainland’s Communist government.\\nThe US also imposed visa restrictions on Communist Party officials involved in the crackdown.\\nWith Reuters\\n \\n\""
      ]
     },
     "execution_count": 46,
     "metadata": {},
     "output_type": "execute_result"
    }
   ],
   "source": [
    "date"
   ]
  },
  {
   "cell_type": "markdown",
   "metadata": {},
   "source": [
    "The date is in there but needs to be cleaned."
   ]
  },
  {
   "cell_type": "markdown",
   "metadata": {},
   "source": [
    "**Grab | Header**<a id='2.4_scrape_header'></a>"
   ]
  },
  {
   "cell_type": "code",
   "execution_count": 22,
   "metadata": {},
   "outputs": [
    {
     "name": "stdout",
     "output_type": "stream",
     "text": [
      "Hong Kong police arrest over 300 in first protest under new security law\n"
     ]
    }
   ],
   "source": [
    "for title in soup.findAll('h1'):\n",
    "    print(title.text.strip())"
   ]
  },
  {
   "cell_type": "code",
   "execution_count": 23,
   "metadata": {},
   "outputs": [
    {
     "data": {
      "text/plain": [
       "<h1 class=\"postid-15918875\">\n",
       "\t\t\t\tHong Kong police arrest over 300 in first protest under new security law\t\t\t</h1>"
      ]
     },
     "execution_count": 23,
     "metadata": {},
     "output_type": "execute_result"
    }
   ],
   "source": [
    "title"
   ]
  },
  {
   "cell_type": "code",
   "execution_count": 24,
   "metadata": {},
   "outputs": [],
   "source": [
    "TAG_RE = re.compile(r'<[^>]+>')"
   ]
  },
  {
   "cell_type": "code",
   "execution_count": 25,
   "metadata": {},
   "outputs": [],
   "source": [
    "def remove_tags(text):\n",
    "    return TAG_RE.sub('', text)"
   ]
  },
  {
   "cell_type": "code",
   "execution_count": 26,
   "metadata": {},
   "outputs": [
    {
     "data": {
      "text/plain": [
       "'\\n\\t\\t\\t\\tHong Kong police arrest over 300 in first protest under new security law\\t\\t\\t'"
      ]
     },
     "execution_count": 26,
     "metadata": {},
     "output_type": "execute_result"
    }
   ],
   "source": [
    "remove_tags(str(title))"
   ]
  },
  {
   "cell_type": "markdown",
   "metadata": {},
   "source": [
    "Confirmed that's the title; a little longer of a journey to get it."
   ]
  },
  {
   "cell_type": "markdown",
   "metadata": {},
   "source": [
    "**Grab | Content**<a id='2.4_scrape_content'></a>"
   ]
  },
  {
   "cell_type": "code",
   "execution_count": 27,
   "metadata": {},
   "outputs": [
    {
     "name": "stdout",
     "output_type": "stream",
     "text": [
      "News\n",
      "\n",
      "\n",
      "Share this:FacebookTwitter\n",
      "\n",
      "\n",
      "Flipboard\n",
      "\n",
      "WhatsAppEmailCopy \n",
      "\n",
      " \n",
      "\n",
      "\t\t\t\tHong Kong police arrest over 300 in first protest under new security law\t\t\t\n",
      "\n",
      "By Bob Fredericks \n",
      "\n",
      "\n",
      "\n",
      "\n",
      "\n",
      "View author archive\n",
      "\n",
      "\n",
      "\n",
      "\n",
      "email the author\n",
      "\n",
      "\n",
      "\n",
      "\n",
      "Get author RSS feed\n",
      "\n",
      "\n",
      "\n",
      "\n",
      "\n",
      " \n",
      "Most Popular Today\n",
      "\n",
      " \n",
      "1\n",
      "\n",
      "\n",
      "\n",
      "\n",
      "\n",
      "Parents at elite NYC school enraged over 'masturbation' videos for first graders \n",
      "\n",
      "2\n",
      "\n",
      "\n",
      "\n",
      "\n",
      "\n",
      "NYC’s iconic Washington Square Park now a ‘drug den’ that’s terrifying neighbors \n",
      "\n",
      "3\n",
      "\n",
      "\n",
      "\n",
      "\n",
      "\n",
      "NBA recklessly gives LeBron James another pass \n",
      "\n",
      "4\n",
      "\n",
      "\n",
      "\n",
      "\n",
      "\n",
      "Inside Sinead O'Connor's horrifying and downright bizarre night with Prince \n",
      "\n",
      "5\n",
      "\n",
      "\n",
      "\n",
      "\n",
      "\n",
      "Piers Morgan says 'Good Morning Britain' wants him back after Meghan Markle comments \n",
      " \n",
      "\n",
      "\n",
      "Name(required)\n",
      "\n",
      "\n",
      "\n",
      "Email(required)\n",
      "\n",
      "\n",
      "\n",
      "Comment(required)\n",
      "\n",
      "\n",
      "\n",
      "Submit \n",
      "\n",
      "\n",
      "\n",
      "\n",
      "\n",
      "\n",
      " \n",
      "\n",
      "\t\tJuly 1, 2020 | 9:26am\t\t\t\t| Updated July 1, 2020 | 1:03pm\n",
      "\n",
      "\n",
      "\n",
      "Enlarge Image\n",
      "\n",
      "\n",
      "\n",
      "\n",
      "A police officer raises his pepper spray handgun as he detains a man during a march against the national security law at the anniversary of Hong Kong's handover to China from Britain in Hong Kong, China.\n",
      "Reuters\n",
      "\n",
      "\n",
      "\n",
      "\n",
      "\n",
      "\n",
      "More On:\n",
      "\n",
      "\n",
      "\t\t\t\t\t\thong kong\t\t\t\t\t\n",
      "\n",
      "\n",
      "\n",
      "\n",
      "\t\t\t\t\tRandi Weingarten isn't fooling parents and other commentary\t\t\t\t\n",
      "\n",
      "\n",
      "\n",
      "\n",
      "\t\t\t\t\tFlawless Sakura Diamond could be sold for up to $38 million\t\t\t\t\n",
      "\n",
      "\n",
      "\n",
      "\n",
      "\t\t\t\t\tHong Kong activist Joshua Wong jailed for further 10 months over June 4 assembly\t\t\t\t\n",
      "\n",
      "\n",
      "\n",
      "\n",
      "\t\t\t\t\tHong Kong passes immigration bill, raising alarm over 'exit bans'\t\t\t\t\n",
      "\n",
      "\n",
      "\n",
      "\n",
      "\n",
      "Hong Kong police arrested more than 300 people Wednesday as thousands of defiant demonstrators gathered in Hong Kong to protest Beijing’s new national security law — while the UK offered a new path to citizenship for almost 3 million eligible residents of its former colony.\n",
      "Hong Kong police fired water cannon and tear gas as protesters took to the streets to vent against the sweeping security legislation introduced by China that they say is aimed at stifling dissent.\n",
      "In Causeway Bay, the retail center of the island territory, cops raised a flag warning crowds they were violating the new law, but pro-Democracy demonstrators still gathered, resulting in hundreds of arrests by nightfall.\n",
      "Protesters remained undaunted.\n",
      "“We are on street to [protest] against national security law. We shall never surrender. Now is not the time to give up,” tweeted Joshua Wong, a Hong Kong activist with more than 600,000 followers on Twitter.’\n",
      "Reuters\n",
      "On the first full day the tough new law was in place, Hong Kong Chief Executive Carrie Lam admitted the civil unrest that had rocked the city for months last year was sparked by past failures, but claimed that the national security law showed “Beijing’s confidence” in the city, the South China Morning Post reported.\n",
      "Meanwhile, British Prime Minister Boris Johnson announced the path to citizenship because, he said, Hong Kong residents’ freedoms were being erased by the new law.\n",
      "“It violates Hong Kong’s high degree of autonomy and threatens the freedoms and rights protected by the joint declaration,” Johnson said, the BBC reported.\n",
      "“We made clear that if China continued down this path we would introduce a new route for those with British National [Overseas] status to enter the UK, granting them limited leave to remain with the ability to live and work in the UK and thereafter to apply for citizenship. And that is precisely what we will do now.”\n",
      "Riot police stop and search people.Reuters\n",
      "About 350,000 UK passport holders, and 2.6 million others who are eligible, will be able to come to the UK for five years, and after a further year, they can apply for citizenship.\n",
      "British National Overseas Passport holders in Hong Kong were granted special status in the 1980s but until now had restricted rights and were only entitled to visa-free access to the UK for six months.\n",
      "Johnson also said Tuesday’s passing of the law was a “clear and serious breach” of the 1985 Sino-British joint declaration — which set out how certain freedoms would be protected for the 50 years after China assumed control of the colony in 1997, the news service reported.\n",
      "Hong Kong’s autonomy was guaranteed under the “one country, two systems” agreement enshrined in the Sino-British Joint Declaration signed by then Chinese Premier Zhao Ziyang and British Prime Minister Margaret Thatcher.\n",
      "Foreign Secretary Dominic Raab said Britain had carefully assessed China’s national security legislation since it was published late on Tuesday.\n",
      "“It constitutes a clear violation of the autonomy of Hong Kong, and a direct threat to the freedoms of its people, and therefore I’m afraid to say it is a clear and serious violation of the Joint Declaration treaty between the United Kingdom and China,” Raab told Reuters and the BBC.\n",
      "Authorities in Beijing and Hong Kong have repeatedly said the legislation is aimed at a few “troublemakers” and will not affect rights and freedoms, nor investor interests.\n",
      "“China, through this national security legislation, is not living up to its promises to the people of Hong Kong,” Raab said. “We will live up to our promises.”\n",
      "Asked about how the West should deal with Chinese President Xi Jinping, Raab said the international community needed to act.\n",
      "Riot police fire tear gas into the crowds to disperse anti-national security law protesters.Reuters\n",
      "“Obviously, China is a leading member of the international community. And it is precisely because of that, that we expect it to live up to its international obligations and its international responsibilities. For trust in China’s ability to do that, today has been a big step backwards.”\n",
      "In response to the crackdown, the US said it would no longer deliver certain weapons to Hong Kong for fear they would fall into the hands of the mainland’s Communist government.\n",
      "The US also imposed visa restrictions on Communist Party officials involved in the crackdown.\n",
      "With Reuters\n",
      " \n",
      "\n",
      "\n",
      "Filed under\n",
      "\n",
      "\t\t\t\t\t\tchina\t\t\t\t\t\n",
      ", \n",
      "\n",
      "\t\t\t\t\t\thong kong\t\t\t\t\t\n",
      ", \n",
      "\n",
      "\t\t\t\t\t\tpolice\t\t\t\t\t\n",
      ", \n",
      "\n",
      "\t\t\t\t\t\tprotests\t\t\t\t\t\n",
      ", \n",
      "7/1/20 \n",
      "\n",
      "\n",
      "\n",
      "Share this article:\n",
      "Share this:FacebookTwitter\n",
      "\n",
      "\n",
      "Flipboard\n",
      "\n",
      "WhatsAppEmailCopy \n",
      "\n",
      "\n",
      "\n",
      "Read Next\n",
      "\n",
      "\n",
      "\n",
      "\t\t\t\tTrump says Russia-Taliban bounty report is a 'Fake News Me...\n"
     ]
    }
   ],
   "source": [
    "for bodies in soup.find_all('div',{'class','box article modal-enabled'}):\n",
    "    print(bodies.text.strip())"
   ]
  },
  {
   "cell_type": "code",
   "execution_count": 28,
   "metadata": {},
   "outputs": [
    {
     "data": {
      "text/plain": [
       "15"
      ]
     },
     "execution_count": 28,
     "metadata": {},
     "output_type": "execute_result"
    }
   ],
   "source": [
    "len(bodies)"
   ]
  },
  {
   "cell_type": "markdown",
   "metadata": {},
   "source": [
    "Needs internal work."
   ]
  },
  {
   "cell_type": "markdown",
   "metadata": {},
   "source": [
    "**Clean | Send to DataFrame**<a id='2.5_review'></a>"
   ]
  },
  {
   "cell_type": "markdown",
   "metadata": {},
   "source": [
    "First the date from string to a datetime object."
   ]
  },
  {
   "cell_type": "code",
   "execution_count": 56,
   "metadata": {},
   "outputs": [],
   "source": [
    "for date in soup.findAll('div',{'p class':'byline-date'}):\n",
    "    date.text.strip()"
   ]
  },
  {
   "cell_type": "code",
   "execution_count": 57,
   "metadata": {},
   "outputs": [
    {
     "data": {
      "text/plain": [
       "str"
      ]
     },
     "execution_count": 57,
     "metadata": {},
     "output_type": "execute_result"
    }
   ],
   "source": [
    "type(date)"
   ]
  },
  {
   "cell_type": "code",
   "execution_count": 67,
   "metadata": {},
   "outputs": [],
   "source": [
    "date_new = date.split('Updated ')"
   ]
  },
  {
   "cell_type": "code",
   "execution_count": 74,
   "metadata": {},
   "outputs": [
    {
     "data": {
      "text/plain": [
       "'July 1, 2020'"
      ]
     },
     "execution_count": 74,
     "metadata": {},
     "output_type": "execute_result"
    }
   ],
   "source": [
    "date_new = date.split('Updated ')\n",
    "date_new = date_new[1]\n",
    "day_pub = date_new[0:12]\n",
    "day_pub"
   ]
  },
  {
   "cell_type": "code",
   "execution_count": 75,
   "metadata": {},
   "outputs": [
    {
     "data": {
      "text/plain": [
       "datetime.date(2020, 7, 1)"
      ]
     },
     "execution_count": 75,
     "metadata": {},
     "output_type": "execute_result"
    }
   ],
   "source": [
    "day_pub = re.sub('July','07',day_pub)\n",
    "day_pub = re.sub(',','',day_pub)\n",
    "day_pub = re.sub(' ','-',day_pub)\n",
    "day_pub = datetime.strptime(day_pub, '%m-%d-%Y').date()\n",
    "day_pub"
   ]
  },
  {
   "cell_type": "code",
   "execution_count": 76,
   "metadata": {},
   "outputs": [],
   "source": [
    "df_date = pd.DataFrame([day_pub])"
   ]
  },
  {
   "cell_type": "code",
   "execution_count": 77,
   "metadata": {},
   "outputs": [
    {
     "data": {
      "text/plain": [
       "pandas.core.frame.DataFrame"
      ]
     },
     "execution_count": 77,
     "metadata": {},
     "output_type": "execute_result"
    }
   ],
   "source": [
    "type(df_date)"
   ]
  },
  {
   "cell_type": "code",
   "execution_count": 78,
   "metadata": {},
   "outputs": [
    {
     "data": {
      "text/html": [
       "<div>\n",
       "<style scoped>\n",
       "    .dataframe tbody tr th:only-of-type {\n",
       "        vertical-align: middle;\n",
       "    }\n",
       "\n",
       "    .dataframe tbody tr th {\n",
       "        vertical-align: top;\n",
       "    }\n",
       "\n",
       "    .dataframe thead th {\n",
       "        text-align: right;\n",
       "    }\n",
       "</style>\n",
       "<table border=\"1\" class=\"dataframe\">\n",
       "  <thead>\n",
       "    <tr style=\"text-align: right;\">\n",
       "      <th></th>\n",
       "      <th>0</th>\n",
       "    </tr>\n",
       "  </thead>\n",
       "  <tbody>\n",
       "    <tr>\n",
       "      <th>0</th>\n",
       "      <td>2020-07-01</td>\n",
       "    </tr>\n",
       "  </tbody>\n",
       "</table>\n",
       "</div>"
      ],
      "text/plain": [
       "            0\n",
       "0  2020-07-01"
      ]
     },
     "execution_count": 78,
     "metadata": {},
     "output_type": "execute_result"
    }
   ],
   "source": [
    "df_date"
   ]
  },
  {
   "cell_type": "markdown",
   "metadata": {},
   "source": [
    "Now the title."
   ]
  },
  {
   "cell_type": "code",
   "execution_count": 84,
   "metadata": {},
   "outputs": [
    {
     "name": "stdout",
     "output_type": "stream",
     "text": [
      "Hong Kong police arrest over 300 in first protest under new security law\n"
     ]
    }
   ],
   "source": [
    "for title in soup.findAll('h1'):\n",
    "    print(title.text.strip())"
   ]
  },
  {
   "cell_type": "code",
   "execution_count": 85,
   "metadata": {},
   "outputs": [],
   "source": [
    "title = title.text.strip()\n",
    "title = [title]"
   ]
  },
  {
   "cell_type": "code",
   "execution_count": 86,
   "metadata": {},
   "outputs": [
    {
     "data": {
      "text/plain": [
       "list"
      ]
     },
     "execution_count": 86,
     "metadata": {},
     "output_type": "execute_result"
    }
   ],
   "source": [
    "type(title)"
   ]
  },
  {
   "cell_type": "code",
   "execution_count": 87,
   "metadata": {},
   "outputs": [],
   "source": [
    "df_title = pd.DataFrame([title])"
   ]
  },
  {
   "cell_type": "code",
   "execution_count": 88,
   "metadata": {},
   "outputs": [
    {
     "data": {
      "text/html": [
       "<div>\n",
       "<style scoped>\n",
       "    .dataframe tbody tr th:only-of-type {\n",
       "        vertical-align: middle;\n",
       "    }\n",
       "\n",
       "    .dataframe tbody tr th {\n",
       "        vertical-align: top;\n",
       "    }\n",
       "\n",
       "    .dataframe thead th {\n",
       "        text-align: right;\n",
       "    }\n",
       "</style>\n",
       "<table border=\"1\" class=\"dataframe\">\n",
       "  <thead>\n",
       "    <tr style=\"text-align: right;\">\n",
       "      <th></th>\n",
       "      <th>0</th>\n",
       "    </tr>\n",
       "  </thead>\n",
       "  <tbody>\n",
       "    <tr>\n",
       "      <th>0</th>\n",
       "      <td>Hong Kong police arrest over 300 in first prot...</td>\n",
       "    </tr>\n",
       "  </tbody>\n",
       "</table>\n",
       "</div>"
      ],
      "text/plain": [
       "                                                   0\n",
       "0  Hong Kong police arrest over 300 in first prot..."
      ]
     },
     "execution_count": 88,
     "metadata": {},
     "output_type": "execute_result"
    }
   ],
   "source": [
    "df_title"
   ]
  },
  {
   "cell_type": "code",
   "execution_count": 89,
   "metadata": {},
   "outputs": [
    {
     "data": {
      "text/plain": [
       "pandas.core.frame.DataFrame"
      ]
     },
     "execution_count": 89,
     "metadata": {},
     "output_type": "execute_result"
    }
   ],
   "source": [
    "type(df_title)"
   ]
  },
  {
   "cell_type": "markdown",
   "metadata": {},
   "source": [
    "These items are manually added."
   ]
  },
  {
   "cell_type": "code",
   "execution_count": 90,
   "metadata": {},
   "outputs": [],
   "source": [
    "country = 'US'\n",
    "df_country = pd.DataFrame([country])\n",
    "source = 'NY Post'\n",
    "df_source = pd.DataFrame([source])\n",
    "file_name = 'nypost_8'\n",
    "df_file_name = pd.DataFrame([file_name])\n"
   ]
  },
  {
   "cell_type": "markdown",
   "metadata": {},
   "source": [
    "Finally, the news."
   ]
  },
  {
   "cell_type": "code",
   "execution_count": 187,
   "metadata": {},
   "outputs": [],
   "source": [
    "for bodies in soup.find_all('div',{'class','box article modal-enabled'}):\n",
    "    bodies.text.strip()"
   ]
  },
  {
   "cell_type": "code",
   "execution_count": 212,
   "metadata": {},
   "outputs": [],
   "source": [
    "body = remove_tags(str(bodies))"
   ]
  },
  {
   "cell_type": "code",
   "execution_count": 190,
   "metadata": {},
   "outputs": [],
   "source": [
    "body = body.split('\\n')"
   ]
  },
  {
   "cell_type": "code",
   "execution_count": 191,
   "metadata": {},
   "outputs": [
    {
     "data": {
      "text/plain": [
       "153"
      ]
     },
     "execution_count": 191,
     "metadata": {},
     "output_type": "execute_result"
    }
   ],
   "source": [
    "check_beg = body.index('Hong Kong police arrested more than 300 people Wednesday as thousands of defiant demonstrators gathered in Hong Kong to protest Beijing’s new national security law — while the UK offered a new path to citizenship for almost 3 million eligible residents of its former colony.')\n",
    "check_beg"
   ]
  },
  {
   "cell_type": "code",
   "execution_count": 192,
   "metadata": {},
   "outputs": [
    {
     "data": {
      "text/plain": [
       "176"
      ]
     },
     "execution_count": 192,
     "metadata": {},
     "output_type": "execute_result"
    }
   ],
   "source": [
    "check_end = body.index('The US also imposed visa restrictions on Communist Party officials involved in the crackdown.')\n",
    "check_end"
   ]
  },
  {
   "cell_type": "code",
   "execution_count": 193,
   "metadata": {},
   "outputs": [],
   "source": [
    "body = body[153:176]"
   ]
  },
  {
   "cell_type": "code",
   "execution_count": 194,
   "metadata": {},
   "outputs": [
    {
     "data": {
      "text/plain": [
       "list"
      ]
     },
     "execution_count": 194,
     "metadata": {},
     "output_type": "execute_result"
    }
   ],
   "source": [
    "type(body)"
   ]
  },
  {
   "cell_type": "code",
   "execution_count": 195,
   "metadata": {},
   "outputs": [],
   "source": [
    "body = ', '.join(body)"
   ]
  },
  {
   "cell_type": "code",
   "execution_count": 200,
   "metadata": {},
   "outputs": [],
   "source": [
    "body_lists = [body]"
   ]
  },
  {
   "cell_type": "code",
   "execution_count": 213,
   "metadata": {},
   "outputs": [],
   "source": [
    "df_news = pd.DataFrame()"
   ]
  },
  {
   "cell_type": "code",
   "execution_count": 214,
   "metadata": {},
   "outputs": [],
   "source": [
    "df_news['article_body'] = body_lists"
   ]
  },
  {
   "cell_type": "code",
   "execution_count": 215,
   "metadata": {
    "scrolled": true
   },
   "outputs": [
    {
     "data": {
      "text/html": [
       "<div>\n",
       "<style scoped>\n",
       "    .dataframe tbody tr th:only-of-type {\n",
       "        vertical-align: middle;\n",
       "    }\n",
       "\n",
       "    .dataframe tbody tr th {\n",
       "        vertical-align: top;\n",
       "    }\n",
       "\n",
       "    .dataframe thead th {\n",
       "        text-align: right;\n",
       "    }\n",
       "</style>\n",
       "<table border=\"1\" class=\"dataframe\">\n",
       "  <thead>\n",
       "    <tr style=\"text-align: right;\">\n",
       "      <th></th>\n",
       "      <th>article_body</th>\n",
       "    </tr>\n",
       "  </thead>\n",
       "  <tbody>\n",
       "    <tr>\n",
       "      <th>0</th>\n",
       "      <td>Hong Kong police arrested more than 300 people...</td>\n",
       "    </tr>\n",
       "  </tbody>\n",
       "</table>\n",
       "</div>"
      ],
      "text/plain": [
       "                                        article_body\n",
       "0  Hong Kong police arrested more than 300 people..."
      ]
     },
     "execution_count": 215,
     "metadata": {},
     "output_type": "execute_result"
    }
   ],
   "source": [
    "df_news.head()"
   ]
  },
  {
   "cell_type": "code",
   "execution_count": 216,
   "metadata": {},
   "outputs": [],
   "source": [
    "df_news['article_body'] = df_news.article_body.str.cat(sep=' ')"
   ]
  },
  {
   "cell_type": "code",
   "execution_count": 217,
   "metadata": {},
   "outputs": [],
   "source": [
    "df_news = df_news.article_body[0]"
   ]
  },
  {
   "cell_type": "code",
   "execution_count": 218,
   "metadata": {},
   "outputs": [],
   "source": [
    "df_news = df_news.replace(r'\\\\?','')"
   ]
  },
  {
   "cell_type": "code",
   "execution_count": 219,
   "metadata": {},
   "outputs": [],
   "source": [
    "df_news = pd.DataFrame([df_news])"
   ]
  },
  {
   "cell_type": "code",
   "execution_count": 220,
   "metadata": {},
   "outputs": [
    {
     "data": {
      "text/plain": [
       "pandas.core.frame.DataFrame"
      ]
     },
     "execution_count": 220,
     "metadata": {},
     "output_type": "execute_result"
    }
   ],
   "source": [
    "type(df_news)"
   ]
  },
  {
   "cell_type": "code",
   "execution_count": 221,
   "metadata": {},
   "outputs": [],
   "source": [
    "df_news.columns = ['Article']"
   ]
  },
  {
   "cell_type": "code",
   "execution_count": 222,
   "metadata": {},
   "outputs": [
    {
     "data": {
      "text/html": [
       "<div>\n",
       "<style scoped>\n",
       "    .dataframe tbody tr th:only-of-type {\n",
       "        vertical-align: middle;\n",
       "    }\n",
       "\n",
       "    .dataframe tbody tr th {\n",
       "        vertical-align: top;\n",
       "    }\n",
       "\n",
       "    .dataframe thead th {\n",
       "        text-align: right;\n",
       "    }\n",
       "</style>\n",
       "<table border=\"1\" class=\"dataframe\">\n",
       "  <thead>\n",
       "    <tr style=\"text-align: right;\">\n",
       "      <th></th>\n",
       "      <th>Article</th>\n",
       "    </tr>\n",
       "  </thead>\n",
       "  <tbody>\n",
       "    <tr>\n",
       "      <th>0</th>\n",
       "      <td>Hong Kong police arrested more than 300 people...</td>\n",
       "    </tr>\n",
       "  </tbody>\n",
       "</table>\n",
       "</div>"
      ],
      "text/plain": [
       "                                             Article\n",
       "0  Hong Kong police arrested more than 300 people..."
      ]
     },
     "execution_count": 222,
     "metadata": {},
     "output_type": "execute_result"
    }
   ],
   "source": [
    "df_news.head()"
   ]
  },
  {
   "cell_type": "code",
   "execution_count": null,
   "metadata": {},
   "outputs": [],
   "source": []
  },
  {
   "cell_type": "markdown",
   "metadata": {},
   "source": [
    "**Bringing it together.**<a id='2.5_bit'></a>"
   ]
  },
  {
   "cell_type": "code",
   "execution_count": 223,
   "metadata": {},
   "outputs": [],
   "source": [
    "df_8_nypost = pd.concat([df_file_name,df_date,df_source,df_country,df_title,df_news],axis = 1, ignore_index=False)"
   ]
  },
  {
   "cell_type": "code",
   "execution_count": 224,
   "metadata": {},
   "outputs": [],
   "source": [
    "df_8_nypost.columns = ['file_name','date','source','country','title','article']"
   ]
  },
  {
   "cell_type": "code",
   "execution_count": 225,
   "metadata": {},
   "outputs": [
    {
     "data": {
      "text/html": [
       "<div>\n",
       "<style scoped>\n",
       "    .dataframe tbody tr th:only-of-type {\n",
       "        vertical-align: middle;\n",
       "    }\n",
       "\n",
       "    .dataframe tbody tr th {\n",
       "        vertical-align: top;\n",
       "    }\n",
       "\n",
       "    .dataframe thead th {\n",
       "        text-align: right;\n",
       "    }\n",
       "</style>\n",
       "<table border=\"1\" class=\"dataframe\">\n",
       "  <thead>\n",
       "    <tr style=\"text-align: right;\">\n",
       "      <th></th>\n",
       "      <th>file_name</th>\n",
       "      <th>date</th>\n",
       "      <th>source</th>\n",
       "      <th>country</th>\n",
       "      <th>title</th>\n",
       "      <th>article</th>\n",
       "    </tr>\n",
       "  </thead>\n",
       "  <tbody>\n",
       "    <tr>\n",
       "      <th>0</th>\n",
       "      <td>nypost_8</td>\n",
       "      <td>2020-07-01</td>\n",
       "      <td>NY Post</td>\n",
       "      <td>US</td>\n",
       "      <td>Hong Kong police arrest over 300 in first prot...</td>\n",
       "      <td>Hong Kong police arrested more than 300 people...</td>\n",
       "    </tr>\n",
       "  </tbody>\n",
       "</table>\n",
       "</div>"
      ],
      "text/plain": [
       "  file_name        date   source country  \\\n",
       "0  nypost_8  2020-07-01  NY Post      US   \n",
       "\n",
       "                                               title  \\\n",
       "0  Hong Kong police arrest over 300 in first prot...   \n",
       "\n",
       "                                             article  \n",
       "0  Hong Kong police arrested more than 300 people...  "
      ]
     },
     "execution_count": 225,
     "metadata": {},
     "output_type": "execute_result"
    }
   ],
   "source": [
    "df_8_nypost.head()"
   ]
  },
  {
   "cell_type": "code",
   "execution_count": null,
   "metadata": {},
   "outputs": [],
   "source": []
  },
  {
   "cell_type": "markdown",
   "metadata": {},
   "source": [
    "**Saving**<a id='2.6_save'></a>"
   ]
  },
  {
   "cell_type": "code",
   "execution_count": 226,
   "metadata": {},
   "outputs": [
    {
     "name": "stdout",
     "output_type": "stream",
     "text": [
      "C:\\Users\\rands\n"
     ]
    }
   ],
   "source": [
    "cd"
   ]
  },
  {
   "cell_type": "markdown",
   "metadata": {},
   "source": [
    "Saving it to Excel."
   ]
  },
  {
   "cell_type": "code",
   "execution_count": 227,
   "metadata": {},
   "outputs": [
    {
     "name": "stdout",
     "output_type": "stream",
     "text": [
      "Complete\n"
     ]
    }
   ],
   "source": [
    "# df = pd.DataFrame(reviewlist)\n",
    "\n",
    "# index=False below so that we don't get the dataframe index on the side; we just use the excel index\n",
    "df_8_nypost.to_csv('./_Capstone_Two_NLP/data/_news/nypost_8.csv', index=False)\n",
    "\n",
    "print('Complete')"
   ]
  },
  {
   "cell_type": "code",
   "execution_count": null,
   "metadata": {},
   "outputs": [],
   "source": []
  }
 ],
 "metadata": {
  "kernelspec": {
   "display_name": "Python 3",
   "language": "python",
   "name": "python3"
  },
  "language_info": {
   "codemirror_mode": {
    "name": "ipython",
    "version": 3
   },
   "file_extension": ".py",
   "mimetype": "text/x-python",
   "name": "python",
   "nbconvert_exporter": "python",
   "pygments_lexer": "ipython3",
   "version": "3.8.5"
  },
  "varInspector": {
   "cols": {
    "lenName": 16,
    "lenType": 16,
    "lenVar": 40
   },
   "kernels_config": {
    "python": {
     "delete_cmd_postfix": "",
     "delete_cmd_prefix": "del ",
     "library": "var_list.py",
     "varRefreshCmd": "print(var_dic_list())"
    },
    "r": {
     "delete_cmd_postfix": ") ",
     "delete_cmd_prefix": "rm(",
     "library": "var_list.r",
     "varRefreshCmd": "cat(var_dic_list()) "
    }
   },
   "types_to_exclude": [
    "module",
    "function",
    "builtin_function_or_method",
    "instance",
    "_Feature"
   ],
   "window_display": false
  }
 },
 "nbformat": 4,
 "nbformat_minor": 4
}
