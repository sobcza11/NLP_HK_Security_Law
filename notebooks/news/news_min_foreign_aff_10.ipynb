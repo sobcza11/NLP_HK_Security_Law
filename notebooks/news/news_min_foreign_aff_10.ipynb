{
 "cells": [
  {
   "cell_type": "markdown",
   "metadata": {},
   "source": [
    "# Scraping Safeguarding long-term prosperity from Ministry of Foreign Affairs"
   ]
  },
  {
   "cell_type": "markdown",
   "metadata": {},
   "source": [
    "## 2.1 Contents<a id='2.1_Contents'></a>\n",
    "* [2.1 Importing Relevant Tools](#2.1_Importing)\n",
    "* [2.2 Defining the Request](#2.2_URL)\n",
    "* [2.3 Grab | Date](#2.4_scrape_date)\n",
    "* [2.4 Grab | Header](#2.4_scrape_header)\n",
    "* [2.5 Grab | Content](#2.4_scrape_content)\n",
    "* [2.6 Clean | Send to DataFrame](#2.5_review)\n",
    "* [2.7 Save](#2.6_save)\n"
   ]
  },
  {
   "cell_type": "markdown",
   "metadata": {},
   "source": [
    "**Importing Relevant Tools**<a id='2.1_Importing'></a>"
   ]
  },
  {
   "cell_type": "code",
   "execution_count": 1,
   "metadata": {},
   "outputs": [],
   "source": [
    "import json\n",
    "import pandas as pd\n",
    "from bs4 import BeautifulSoup as soup\n",
    "import requests\n",
    "import csv\n",
    "import re\n",
    "import pickle\n",
    "\n",
    "%reload_ext watermark"
   ]
  },
  {
   "cell_type": "code",
   "execution_count": 2,
   "metadata": {},
   "outputs": [],
   "source": [
    "#the below needs to be reviewed for all websites; notably the time format\n",
    "\n",
    "from datetime import date\n",
    "from datetime import datetime\n",
    "today = date.today()\n",
    "d = today.strftime(\"%m-%d-%y\")"
   ]
  },
  {
   "cell_type": "markdown",
   "metadata": {},
   "source": [
    "For reference."
   ]
  },
  {
   "cell_type": "code",
   "execution_count": 3,
   "metadata": {},
   "outputs": [
    {
     "name": "stdout",
     "output_type": "stream",
     "text": [
      "Python implementation: CPython\n",
      "Python version       : 3.8.5\n",
      "IPython version      : 7.19.0\n",
      "\n",
      "pandas: 1.1.3\n",
      "\n"
     ]
    }
   ],
   "source": [
    "%watermark -d -t -v -p pandas"
   ]
  },
  {
   "cell_type": "markdown",
   "metadata": {},
   "source": [
    "**Defining the Request**<a id='2.2_URL'></a>"
   ]
  },
  {
   "cell_type": "code",
   "execution_count": 4,
   "metadata": {},
   "outputs": [
    {
     "data": {
      "text/plain": [
       "'https://www.fmprc.gov.cn/mfa_eng/xwfw_665399/s2510_665401/2511_665403/t1793861.shtml'"
      ]
     },
     "execution_count": 4,
     "metadata": {},
     "output_type": "execute_result"
    }
   ],
   "source": [
    "url = 'https://www.fmprc.gov.cn/mfa_eng/xwfw_665399/s2510_665401/2511_665403/t1793861.shtml'\n",
    "content = requests.get(url).content\n",
    "url"
   ]
  },
  {
   "cell_type": "code",
   "execution_count": 5,
   "metadata": {},
   "outputs": [],
   "source": [
    "soup = soup(content,'html.parser')\n",
    "# bsobj"
   ]
  },
  {
   "cell_type": "markdown",
   "metadata": {},
   "source": [
    "**Grab | Date**<a id='2.4_scrape_date'></a>"
   ]
  },
  {
   "cell_type": "code",
   "execution_count": 6,
   "metadata": {},
   "outputs": [
    {
     "name": "stdout",
     "output_type": "stream",
     "text": [
      "Foreign Ministry Spokesperson Zhao Lijian's Regular Press Conference on July 1, 2020\n"
     ]
    }
   ],
   "source": [
    "for date in soup.find_all('h2',{'class':'title'}):\n",
    "    print(date.text.strip())"
   ]
  },
  {
   "cell_type": "markdown",
   "metadata": {},
   "source": [
    "Hitting 2 birds with one stone but okay."
   ]
  },
  {
   "cell_type": "markdown",
   "metadata": {},
   "source": [
    "**Grab | Header**<a id='2.4_scrape_header'></a>"
   ]
  },
  {
   "cell_type": "code",
   "execution_count": 7,
   "metadata": {},
   "outputs": [
    {
     "name": "stdout",
     "output_type": "stream",
     "text": [
      "Foreign Ministry Spokesperson Zhao Lijian's Regular Press Conference on July 1, 2020\n"
     ]
    }
   ],
   "source": [
    "for title in soup.find_all('h2',{'class':'title'}):\n",
    "    print(title.text.strip())"
   ]
  },
  {
   "cell_type": "code",
   "execution_count": 8,
   "metadata": {},
   "outputs": [],
   "source": [
    "TAG_RE = re.compile(r'<[^>]+>')"
   ]
  },
  {
   "cell_type": "code",
   "execution_count": 9,
   "metadata": {},
   "outputs": [],
   "source": [
    "def remove_tags(text):\n",
    "    return TAG_RE.sub('', text)"
   ]
  },
  {
   "cell_type": "code",
   "execution_count": 10,
   "metadata": {},
   "outputs": [
    {
     "data": {
      "text/plain": [
       "\"Foreign Ministry Spokesperson Zhao Lijian's Regular Press Conference on July 1, 2020\""
      ]
     },
     "execution_count": 10,
     "metadata": {},
     "output_type": "execute_result"
    }
   ],
   "source": [
    "remove_tags(str(title))"
   ]
  },
  {
   "cell_type": "markdown",
   "metadata": {},
   "source": [
    "Confirmed that's the title; need to remove the date."
   ]
  },
  {
   "cell_type": "markdown",
   "metadata": {},
   "source": [
    "**Grab | Content**<a id='2.4_scrape_content'></a>"
   ]
  },
  {
   "cell_type": "code",
   "execution_count": 11,
   "metadata": {},
   "outputs": [
    {
     "name": "stdout",
     "output_type": "stream",
     "text": [
      "In recent years, the US government has placed unwarranted restrictions on Chinese media agencies and personnel in the US, purposely made things difficult for their normal reporting assignments, and subjected them to growing discrimination and politically-motivated oppression. On February 18, 2020, the US designated five Chinese media agencies, namely, Xinhua News Agency, China Daily Distribution Corporation, China Global Television Network, China Radio International, and distributor for People's Daily in the US Hai Tian Development USA, as foreign missions. In the spirit of reciprocity, China demanded on March 18 that the China-based branches of Voice of America, the New York Times, the Wall Street Journal, Time, and the Washington Post declare in written form information about their staff, finance, operation and real estate in China. \n",
      "On June 22, the US issued a new determination to designate four additional Chinese media agencies, namely, China Central Television, the People's Daily, the Global Times and China News Service, as foreign missions. China demands in retaliation that the Associated Press, United Press International, Columbia Broadcasting System, and National Public Radio declare in written form information about their staff, finance, operation and real estate in China within seven days starting from today. \n",
      "I need to point out that the above-mentioned measures are entirely necessary and reciprocal countermeasures that China is compelled to take in response to the unreasonable oppression the Chinese media organizations experience in the US. They are legitimate and justified self-defense in every sense. What the US has done is driven by a Cold War mentality and ideological bias. It has seriously tarnished the reputation and image of Chinese media organizations, seriously affected their normal operation in the US, and seriously disrupted people-to-people and cultural exchanges between the two countries. It has therefore exposed the hypocrisy of the self-styled advocate of press freedom. China urges the US to immediately change course, undo the damage, and stop its political oppression and arbitrary restrictions on Chinese media organizations. \n",
      "CCTV: As a small number of western countries dragged the national security legislation in Hong Kong to a Human Rights Council session, more than 50 countries in a joint statement expressed opposition to foreign interference in China's internal affairs and support to China's position and measures on Hong Kong-related issues. What is your comment? \n",
      "Zhao Lijian: On behalf of 53 countries, Cuba made a joint statement at this Session of the United Nations Human Rights Council, expressing their support for the passage of the Law of the People's Republic of China on Safeguarding National Security in the Hong Kong Special Administrative Region. They believe that the move is beneficial for the steady and long-term success of the \"one country, two systems\" principle and Hong Kong's lasting prosperity and stability, and guarantees that Hong Kong residents can better exercise rights and freedoms in a safe environment. The statement stresses that Hong Kong is an inseparable part of China; Hong Kong's affairs are China's internal affairs, and external forces should not interfere. \n",
      "Every sovereign state has the inherent right to legislate in the interest of its national security. Establishing and improving the legal system and enforcement mechanisms for safeguarding national security in the HKSAR at the state level by the NPC in accordance with the Constitution and the Basic Law is a necessary step to plug loopholes in the HKSAR national security legislation and uphold national sovereignty and security and a fundamental solution to ensure the steady and successful implementation of the \"one country, two systems\". The legislation targets a very narrow category of criminal acts and activities that endanger national security and protects the safety and rights and freedoms the vast majority of the Hong Kong residents enjoy in accordance with law. Most members of the international community fully understand and respect China's legitimate and lawful act to safeguard national security. Their just voice shows again that people have no problem telling right from wrong. Chief Executive Carrie Lam also delivered a speech representing Hong Kong via video link at the Human Rights Council session. She expressed support for the legislation, pointing out the necessity to establish and improve at the state level the legal system and enforcement mechanisms for safeguarding national security in the HKSAR, the constitutional power of the state over the HKSAR, and legitimacy of this legislation. \n",
      "The national security legislation in the HKSAR is by no means a human rights issue, still less should it be politicized. A tiny number of external elements, with ulterior motives, have been meddling in this under the pretext of human rights. But nothing can cover up their arrogance, prejudice and real intention to flagrantly interfere in China's internal affairs. Some people advertise themselves as respecting rule of law, but what they have done showed no regard for the just voices of the international community calling for adherence to the principles of international law and basic norms of the international relations. We urge the relevant parties to grasp the situation, view the legislation in an objective and impartial way, stop fact-distorting and slandering acts, and stop interfering in Hong Kong matters and China's internal affairs. \n",
      "\n",
      "CGTN: On June 30, US House of Representatives Speaker Nancy Pelosi, Secretary of State Mike Pompeo, White House National Security Council Spokesman John Ullyot respectively made statements on China's law on safeguarding national security in the Hong Kong SAR, accusing China of breaching international commitments and threatening to take tough measures. Does China have any comment? \n",
      "Zhao Lijian: The Law of the People's Republic of China on Safeguarding National Security in the Hong Kong Special Administrative Region (HKSAR) was adopted by the NPC Standing Committee and has entered into force upon its promulgation. This Law will provide a strong institutional guarantee for comprehensively and accurately implementing the \"one country, two systems\" principle, effectively upholding the constitutional order in the HKSAR as prescribed by the Constitution and the Basic Law, and ensuring Hong Kong's enduring prosperity and stability. \n",
      "I'd like to reiterate that the legislation on safeguarding national security in the HKSAR is entirely China's internal affair that allows no foreign interference. The Chinese government is firm in its determination to safeguard China's sovereignty, security and development interests, to implement the principle of \"one country, two systems\" and to oppose any external interference in Hong Kong affairs. We urge the US side to view the Law in a fair, objective manner, immediately stop interfering in our internal affairs under the pretext of Hong Kong, and refrain from going further down the wrong path. \n",
      "China Daily: US Secretary of State Pompeo recently attacked the CPC and China's political system on multiple occasions, saying that the Chinese people's hopes and dreams should be distinguished from those of the CPC. Do you have any comment? \n",
      "Zhao Lijian: Today marks the 99th anniversary of the founding of the Communist Party of China. I wish our Party a happy birthday. \n",
      "The CPC and the Chinese people share the same dream: to realize the great renewal of the Chinese nation. And it will come true. Today the CPC is thriving with vigor, but it must be a very bitter day for Mr. Pompeo and his like. They attempt to sever the close bond between the CPC and the Chinese people by lying and smearing. It's nothing but a pipe dream. \n",
      "Bloomberg News: A follow-up on the national security law. In the law it says that China will strengthen the management and services of foreign media and NGOs in the city. We are wondering if you can explain what management these foreign organizations will face? For example will there be new licensing or registration requirements? \n",
      "Zhao Lijian: The Chinese government is firmly determined to uphold China's sovereignty, security and development interests, to implement \"one country, two systems\" and to oppose interference in Hong Kong affairs by external elements. The Chinese side will continue handling relevant affairs in accordance with laws and regulations and offer necessary convenience. \n",
      "Associated Press of Pakistan: China and Pakistan established a joint cooperation mechanism on COVID-19 response and held the first video meeting under this mechanism. Do you have more details on that? What is China's consideration for setting up this mechanism? \n",
      "Zhao Lijian: On June 30, a China-Pakistan joint cooperation mechanism on COVID-19 response was officially established and the first video conference held. Representatives from the diplomatic, health, education and customs departments of the two sides attended the meeting. China and Pakistan have set up this mechanism to strengthen multi-agency coordination and communication between the two countries and promote exchanges and cooperation in various fields against the backdrop of the regular epidemic prevention and control. The meeting reached three consensus: \n",
      "First, we will continue to take targeted measures to resolutely control the spread of the epidemic or its resurgence in our respective countries and to stop cross-border transmission. Second, we will continue to deepen cooperation and experience-sharing in fighting COVID-19. China will continue to do its best to provide support and assistance according to Pakistan's needs. Third, we should continue to promote personnel exchanges and economic and trade cooperation on the premise of effective quarantine measures, be a good host to each other's students and nationals, and ensure smooth progress of the China-Pakistan Economic Corridor. \n",
      "China and Pakistan are all-weather strategic partners. After the outbreak of COVID-19, Pakistani President Alvi led a delegation to China at a critical moment in our fight, demonstrating firm support. Pakistan has also mobilized the whole country to provide material assistance to China. In response to Pakistan's needs, China has also provided material assistance through the government, military, enterprises and social organizations, sent medical experts and held video conferences to do its best to help Pakistan fight the epidemic. This demonstrates that the two countries, standing together through thick and thin, are a community with a shared future. We hope that the two sides will take the establishment of this mechanism as an opportunity to further join forces against COVID-19 and defeat the virus at an early date. \n",
      "\n",
      "Phoenix TV: I have two questions. First, at the UN Human Rights Council meeting, 27 countries including France, the UK and Germany called on China to reconsider the national security legislation in Hong Kong, which they alleged was threatening Hong Kong's freedom. Does the foreign ministry believe that the promulgation and implementation of the law will affect China's relations with these countries in the foreseeable future? Second, the Federal Communications Commission announced that it has released orders issuing final designations of Huawei and ZTE as companies posing a national security threat. What is your response? \n",
      "Zhao Lijian: On your first question, at the 44th regular session of the Human Rights Council on June 30, the UK, together with a small number of western countries, made unwarranted accusations against China on issues related to Hong Kong and others. Then and there, 53 countries voiced their support in a joint statement to China's policies regarding Hong Kong, urging the relevant countries to stop using these matters to interfere in China's internal affairs. It is pretty clear who enjoys popular support. The anti-China show staged by a handful of western countries ended in a fiasco. \n",
      "It must be pointed out that these countries are far from owning a good human rights record to boast and are certainly in no position to judge others on this front. We urge them to reflect on their own problems, stop politicizing and applying double standards on human rights issues, and stop interfering in others' internal affairs under the guise of human rights. They need to get a clear grasp of and follow the trend of the times and earnestly make concrete contributions to the sound development of the international human rights cause. \n",
      "As for your second question, China has made clear its position many times. The US has made a habit of abusing its state power to oppress certain countries and companies for unjustified and untenable reasons in the absence of any evidence. Acting like a bully in the economic sector does not suit its self-portrayed image as a guardian of the market economy. Banning US carriers from purchasing Huawei and ZTE products will not help improve the country's cyber security in any meaningful way, but will certainly have profound negative effects on connectivity for Americans in rural and disadvantaged areas across the US. The relevant US agency knows that clearly. \n",
      "Once again, we urge the US to stop making everything a matter of national security, stop its malicious slandering and accusation against China, and stop its unjustified oppression of certain Chinese companies. It should offer a fair, unbiased and non-discriminatory environment for the normal operations of Chinese companies in the US. \n",
      "Australian Broadcasting Corporation: The Australian government today announced a ten-year, 270-billion-dollar defense upgrade plan, including the purchase of long-range missiles because of changing circumstances in the Indo-Pacific region. Does China have any comment? \n",
      "Zhao Lijian: I'll leave that to Australia. All countries should avoid an arms race and refrain from purchasing unnecessary military equipment. \n",
      "AFP: I also want to ask about Canada recently issuing a travel advisory to Hong Kong, which says you may be at increased risk of arbitrary detention on national security grounds and possible extradition to mainland China in light of the national security law. What's China's response? \n",
      "Zhao Lijian: Hong Kong affairs are China's internal affairs that allow no foreign interference. Canada's claim cannot be justified. \n",
      "Bloomberg News: Another question on the African swine flu. We now know that it may be transmitted to humans, so we're wondering how many people have been infected? And if there is any details on who they are and how they got infected? \n",
      "Zhao Lijian: According to what we have learned from the competent authority, the Ministry of Agriculture and Rural Affairs (MARA), the virus named G4 in the relevant article is an H1N1 subtype which is a common cause of seasonal flu and swine flu. Experts believe the conclusion of that article is not representative as the number of the test samples is not large enough. The competent authorities and experts will enhance monitoring, issue warnings in a timely manner and properly handle the situation. You may ask the MARA for more details. \n",
      "AFP: The EU recently included China on its list of safe countries, but only if China allows EU travelers to enter. When will China open its borders to EU travelers? \n",
      "Zhao Lijian: Since COVID-19 broke out, China has fought hard and achieved effective results, which is witnessed by all. In the meantime, we have been taking active measures to facilitate European personnel's travel to China for essential economic, trade and scientific activities. Going forward, as we continue to fight COVID-19 at an ongoing basis, the Chinese side will work to resume travel with Europe in a gradual and orderly manner through appropriate means. \n",
      "The following question was asked after the regular press conference. \n",
      "Q: Reports say senior Chinese and Indian commanders held talks at Chushul on June 30. Can you confirm this and offer more details? \n",
      "Zhao Lijian: Chinese and Indian military commanders held the third round talks on June 30. The two sides continue working towards implementing the consensus reached at the two earlier rounds of commander-level talks and made progress in effective measures by frontline troops to disengage and deescalate the situation. China welcomes that. We hope the Indian side will work with the Chinese side towards the same goal, keep up close communication through military and diplomatic channels, and ease the situation and lower the temperature along the border.\n"
     ]
    }
   ],
   "source": [
    "for bodies in soup.find_all('div',{'class','content'}):\n",
    "    print(bodies.text.strip())"
   ]
  },
  {
   "cell_type": "code",
   "execution_count": 12,
   "metadata": {},
   "outputs": [
    {
     "data": {
      "text/plain": [
       "81"
      ]
     },
     "execution_count": 12,
     "metadata": {},
     "output_type": "execute_result"
    }
   ],
   "source": [
    "len(bodies)"
   ]
  },
  {
   "cell_type": "markdown",
   "metadata": {},
   "source": [
    "Confirmed that's the bottom."
   ]
  },
  {
   "cell_type": "markdown",
   "metadata": {},
   "source": [
    "**Clean | Send to DataFrame**<a id='2.5_review'></a>"
   ]
  },
  {
   "cell_type": "markdown",
   "metadata": {},
   "source": [
    "First the date from string to a datetime object."
   ]
  },
  {
   "cell_type": "code",
   "execution_count": 13,
   "metadata": {},
   "outputs": [
    {
     "name": "stdout",
     "output_type": "stream",
     "text": [
      "Foreign Ministry Spokesperson Zhao Lijian's Regular Press Conference on July 1, 2020\n"
     ]
    }
   ],
   "source": [
    "for date in soup.find_all('h2',{'class':'title'}):\n",
    "    print(date.text.strip())"
   ]
  },
  {
   "cell_type": "code",
   "execution_count": 14,
   "metadata": {},
   "outputs": [
    {
     "data": {
      "text/plain": [
       "<h2 class=\"title\">Foreign Ministry Spokesperson Zhao Lijian's Regular Press Conference on July 1, 2020</h2>"
      ]
     },
     "execution_count": 14,
     "metadata": {},
     "output_type": "execute_result"
    }
   ],
   "source": [
    "date"
   ]
  },
  {
   "cell_type": "code",
   "execution_count": 15,
   "metadata": {},
   "outputs": [],
   "source": [
    "date = str(date)"
   ]
  },
  {
   "cell_type": "code",
   "execution_count": 16,
   "metadata": {},
   "outputs": [
    {
     "data": {
      "text/plain": [
       "\"Foreign Ministry Spokesperson Zhao Lijian's Regular Press Conference on July 1, 2020\""
      ]
     },
     "execution_count": 16,
     "metadata": {},
     "output_type": "execute_result"
    }
   ],
   "source": [
    "day_pub = remove_tags(date)\n",
    "day_pub"
   ]
  },
  {
   "cell_type": "code",
   "execution_count": 17,
   "metadata": {},
   "outputs": [
    {
     "data": {
      "text/plain": [
       "84"
      ]
     },
     "execution_count": 17,
     "metadata": {},
     "output_type": "execute_result"
    }
   ],
   "source": [
    "len(day_pub)"
   ]
  },
  {
   "cell_type": "code",
   "execution_count": 18,
   "metadata": {},
   "outputs": [
    {
     "data": {
      "text/plain": [
       "'July 1, 2020'"
      ]
     },
     "execution_count": 18,
     "metadata": {},
     "output_type": "execute_result"
    }
   ],
   "source": [
    "day_pub = day_pub[72:84]\n",
    "day_pub"
   ]
  },
  {
   "cell_type": "code",
   "execution_count": 19,
   "metadata": {},
   "outputs": [
    {
     "data": {
      "text/plain": [
       "datetime.date(2020, 7, 1)"
      ]
     },
     "execution_count": 19,
     "metadata": {},
     "output_type": "execute_result"
    }
   ],
   "source": [
    "day_pub = re.sub(',','',day_pub)\n",
    "day_pub = re.sub(' ','-',day_pub)\n",
    "day_pub = re.sub('July','07',day_pub)\n",
    "day_pub = datetime.strptime(day_pub, '%m-%d-%Y').date()\n",
    "day_pub"
   ]
  },
  {
   "cell_type": "code",
   "execution_count": 20,
   "metadata": {},
   "outputs": [],
   "source": [
    "df_date = pd.DataFrame([day_pub])"
   ]
  },
  {
   "cell_type": "code",
   "execution_count": 21,
   "metadata": {},
   "outputs": [
    {
     "data": {
      "text/plain": [
       "pandas.core.frame.DataFrame"
      ]
     },
     "execution_count": 21,
     "metadata": {},
     "output_type": "execute_result"
    }
   ],
   "source": [
    "type(df_date)"
   ]
  },
  {
   "cell_type": "code",
   "execution_count": 22,
   "metadata": {},
   "outputs": [
    {
     "data": {
      "text/html": [
       "<div>\n",
       "<style scoped>\n",
       "    .dataframe tbody tr th:only-of-type {\n",
       "        vertical-align: middle;\n",
       "    }\n",
       "\n",
       "    .dataframe tbody tr th {\n",
       "        vertical-align: top;\n",
       "    }\n",
       "\n",
       "    .dataframe thead th {\n",
       "        text-align: right;\n",
       "    }\n",
       "</style>\n",
       "<table border=\"1\" class=\"dataframe\">\n",
       "  <thead>\n",
       "    <tr style=\"text-align: right;\">\n",
       "      <th></th>\n",
       "      <th>0</th>\n",
       "    </tr>\n",
       "  </thead>\n",
       "  <tbody>\n",
       "    <tr>\n",
       "      <th>0</th>\n",
       "      <td>2020-07-01</td>\n",
       "    </tr>\n",
       "  </tbody>\n",
       "</table>\n",
       "</div>"
      ],
      "text/plain": [
       "            0\n",
       "0  2020-07-01"
      ]
     },
     "execution_count": 22,
     "metadata": {},
     "output_type": "execute_result"
    }
   ],
   "source": [
    "df_date"
   ]
  },
  {
   "cell_type": "markdown",
   "metadata": {},
   "source": [
    "Now the title."
   ]
  },
  {
   "cell_type": "code",
   "execution_count": 23,
   "metadata": {},
   "outputs": [
    {
     "name": "stdout",
     "output_type": "stream",
     "text": [
      "<h2 class=\"title\">Foreign Ministry Spokesperson Zhao Lijian's Regular Press Conference on July 1, 2020</h2>\n"
     ]
    }
   ],
   "source": [
    "for title in soup.find_all('h2',{'class':'title'}):\n",
    "    print(title)"
   ]
  },
  {
   "cell_type": "code",
   "execution_count": 24,
   "metadata": {},
   "outputs": [],
   "source": [
    "title = remove_tags(str(title))"
   ]
  },
  {
   "cell_type": "code",
   "execution_count": 25,
   "metadata": {},
   "outputs": [
    {
     "data": {
      "text/plain": [
       "\"Foreign Ministry Spokesperson Zhao Lijian's Regular Press Conference on July 1, 2020\""
      ]
     },
     "execution_count": 25,
     "metadata": {},
     "output_type": "execute_result"
    }
   ],
   "source": [
    "title"
   ]
  },
  {
   "cell_type": "code",
   "execution_count": 26,
   "metadata": {},
   "outputs": [],
   "source": [
    "df_title = pd.DataFrame([title])"
   ]
  },
  {
   "cell_type": "code",
   "execution_count": 27,
   "metadata": {},
   "outputs": [
    {
     "data": {
      "text/html": [
       "<div>\n",
       "<style scoped>\n",
       "    .dataframe tbody tr th:only-of-type {\n",
       "        vertical-align: middle;\n",
       "    }\n",
       "\n",
       "    .dataframe tbody tr th {\n",
       "        vertical-align: top;\n",
       "    }\n",
       "\n",
       "    .dataframe thead th {\n",
       "        text-align: right;\n",
       "    }\n",
       "</style>\n",
       "<table border=\"1\" class=\"dataframe\">\n",
       "  <thead>\n",
       "    <tr style=\"text-align: right;\">\n",
       "      <th></th>\n",
       "      <th>0</th>\n",
       "    </tr>\n",
       "  </thead>\n",
       "  <tbody>\n",
       "    <tr>\n",
       "      <th>0</th>\n",
       "      <td>Foreign Ministry Spokesperson Zhao Lijian's Re...</td>\n",
       "    </tr>\n",
       "  </tbody>\n",
       "</table>\n",
       "</div>"
      ],
      "text/plain": [
       "                                                   0\n",
       "0  Foreign Ministry Spokesperson Zhao Lijian's Re..."
      ]
     },
     "execution_count": 27,
     "metadata": {},
     "output_type": "execute_result"
    }
   ],
   "source": [
    "df_title"
   ]
  },
  {
   "cell_type": "code",
   "execution_count": 28,
   "metadata": {},
   "outputs": [
    {
     "data": {
      "text/plain": [
       "pandas.core.frame.DataFrame"
      ]
     },
     "execution_count": 28,
     "metadata": {},
     "output_type": "execute_result"
    }
   ],
   "source": [
    "type(df_title)"
   ]
  },
  {
   "cell_type": "markdown",
   "metadata": {},
   "source": [
    "These items are manually added."
   ]
  },
  {
   "cell_type": "code",
   "execution_count": 29,
   "metadata": {},
   "outputs": [],
   "source": [
    "country = 'China'\n",
    "df_country = pd.DataFrame([country])\n",
    "source = 'Ministry of Foreign Affairs'\n",
    "df_source = pd.DataFrame([source])\n",
    "file_name = 'min_foreign_aff_10'\n",
    "df_file_name = pd.DataFrame([file_name])\n"
   ]
  },
  {
   "cell_type": "markdown",
   "metadata": {},
   "source": [
    "Finally, the news."
   ]
  },
  {
   "cell_type": "code",
   "execution_count": 30,
   "metadata": {},
   "outputs": [],
   "source": [
    "news1 = []\n",
    "for bodies in soup.find_all('div',{'class','content'}):\n",
    "    news1.append(bodies.text.strip())"
   ]
  },
  {
   "cell_type": "code",
   "execution_count": 31,
   "metadata": {},
   "outputs": [],
   "source": [
    "df_news = pd.DataFrame()"
   ]
  },
  {
   "cell_type": "code",
   "execution_count": 32,
   "metadata": {},
   "outputs": [],
   "source": [
    "df_news['article_body'] = news1"
   ]
  },
  {
   "cell_type": "code",
   "execution_count": 33,
   "metadata": {},
   "outputs": [
    {
     "data": {
      "text/html": [
       "<div>\n",
       "<style scoped>\n",
       "    .dataframe tbody tr th:only-of-type {\n",
       "        vertical-align: middle;\n",
       "    }\n",
       "\n",
       "    .dataframe tbody tr th {\n",
       "        vertical-align: top;\n",
       "    }\n",
       "\n",
       "    .dataframe thead th {\n",
       "        text-align: right;\n",
       "    }\n",
       "</style>\n",
       "<table border=\"1\" class=\"dataframe\">\n",
       "  <thead>\n",
       "    <tr style=\"text-align: right;\">\n",
       "      <th></th>\n",
       "      <th>article_body</th>\n",
       "    </tr>\n",
       "  </thead>\n",
       "  <tbody>\n",
       "    <tr>\n",
       "      <th>0</th>\n",
       "      <td>In recent years, the US government has placed ...</td>\n",
       "    </tr>\n",
       "  </tbody>\n",
       "</table>\n",
       "</div>"
      ],
      "text/plain": [
       "                                        article_body\n",
       "0  In recent years, the US government has placed ..."
      ]
     },
     "execution_count": 33,
     "metadata": {},
     "output_type": "execute_result"
    }
   ],
   "source": [
    "df_news.head(2)"
   ]
  },
  {
   "cell_type": "code",
   "execution_count": 34,
   "metadata": {},
   "outputs": [],
   "source": [
    "df_news['article_body'] = df_news.article_body.str.cat(sep=' ')"
   ]
  },
  {
   "cell_type": "code",
   "execution_count": 35,
   "metadata": {},
   "outputs": [],
   "source": [
    "df_news = df_news.article_body[0]"
   ]
  },
  {
   "cell_type": "code",
   "execution_count": 36,
   "metadata": {},
   "outputs": [],
   "source": [
    "df_news = df_news.replace(r'\\\\?','')"
   ]
  },
  {
   "cell_type": "code",
   "execution_count": 37,
   "metadata": {},
   "outputs": [],
   "source": [
    "df_news = pd.DataFrame([df_news])"
   ]
  },
  {
   "cell_type": "code",
   "execution_count": 38,
   "metadata": {},
   "outputs": [
    {
     "data": {
      "text/plain": [
       "pandas.core.frame.DataFrame"
      ]
     },
     "execution_count": 38,
     "metadata": {},
     "output_type": "execute_result"
    }
   ],
   "source": [
    "type(df_news)"
   ]
  },
  {
   "cell_type": "code",
   "execution_count": 39,
   "metadata": {},
   "outputs": [],
   "source": [
    "df_news.columns = ['Article']"
   ]
  },
  {
   "cell_type": "code",
   "execution_count": 40,
   "metadata": {},
   "outputs": [
    {
     "data": {
      "text/html": [
       "<div>\n",
       "<style scoped>\n",
       "    .dataframe tbody tr th:only-of-type {\n",
       "        vertical-align: middle;\n",
       "    }\n",
       "\n",
       "    .dataframe tbody tr th {\n",
       "        vertical-align: top;\n",
       "    }\n",
       "\n",
       "    .dataframe thead th {\n",
       "        text-align: right;\n",
       "    }\n",
       "</style>\n",
       "<table border=\"1\" class=\"dataframe\">\n",
       "  <thead>\n",
       "    <tr style=\"text-align: right;\">\n",
       "      <th></th>\n",
       "      <th>Article</th>\n",
       "    </tr>\n",
       "  </thead>\n",
       "  <tbody>\n",
       "    <tr>\n",
       "      <th>0</th>\n",
       "      <td>In recent years, the US government has placed ...</td>\n",
       "    </tr>\n",
       "  </tbody>\n",
       "</table>\n",
       "</div>"
      ],
      "text/plain": [
       "                                             Article\n",
       "0  In recent years, the US government has placed ..."
      ]
     },
     "execution_count": 40,
     "metadata": {},
     "output_type": "execute_result"
    }
   ],
   "source": [
    "df_news.head()"
   ]
  },
  {
   "cell_type": "code",
   "execution_count": null,
   "metadata": {},
   "outputs": [],
   "source": []
  },
  {
   "cell_type": "markdown",
   "metadata": {},
   "source": [
    "**Bringing it together.**<a id='2.5_bit'></a>"
   ]
  },
  {
   "cell_type": "code",
   "execution_count": 41,
   "metadata": {},
   "outputs": [],
   "source": [
    "df_10_min_foreign_aff = pd.concat([df_file_name,df_date,df_source,df_country,df_title,df_news],axis = 1, ignore_index=False)"
   ]
  },
  {
   "cell_type": "code",
   "execution_count": 42,
   "metadata": {},
   "outputs": [],
   "source": [
    "df_10_min_foreign_aff.columns = ['file_name','date','source','country','title','article']"
   ]
  },
  {
   "cell_type": "code",
   "execution_count": 43,
   "metadata": {},
   "outputs": [
    {
     "data": {
      "text/html": [
       "<div>\n",
       "<style scoped>\n",
       "    .dataframe tbody tr th:only-of-type {\n",
       "        vertical-align: middle;\n",
       "    }\n",
       "\n",
       "    .dataframe tbody tr th {\n",
       "        vertical-align: top;\n",
       "    }\n",
       "\n",
       "    .dataframe thead th {\n",
       "        text-align: right;\n",
       "    }\n",
       "</style>\n",
       "<table border=\"1\" class=\"dataframe\">\n",
       "  <thead>\n",
       "    <tr style=\"text-align: right;\">\n",
       "      <th></th>\n",
       "      <th>file_name</th>\n",
       "      <th>date</th>\n",
       "      <th>source</th>\n",
       "      <th>country</th>\n",
       "      <th>title</th>\n",
       "      <th>article</th>\n",
       "    </tr>\n",
       "  </thead>\n",
       "  <tbody>\n",
       "    <tr>\n",
       "      <th>0</th>\n",
       "      <td>min_foreign_aff_10</td>\n",
       "      <td>2020-07-01</td>\n",
       "      <td>Ministry of Foreign Affairs</td>\n",
       "      <td>China</td>\n",
       "      <td>Foreign Ministry Spokesperson Zhao Lijian's Re...</td>\n",
       "      <td>In recent years, the US government has placed ...</td>\n",
       "    </tr>\n",
       "  </tbody>\n",
       "</table>\n",
       "</div>"
      ],
      "text/plain": [
       "            file_name        date                       source country  \\\n",
       "0  min_foreign_aff_10  2020-07-01  Ministry of Foreign Affairs   China   \n",
       "\n",
       "                                               title  \\\n",
       "0  Foreign Ministry Spokesperson Zhao Lijian's Re...   \n",
       "\n",
       "                                             article  \n",
       "0  In recent years, the US government has placed ...  "
      ]
     },
     "execution_count": 43,
     "metadata": {},
     "output_type": "execute_result"
    }
   ],
   "source": [
    "df_10_min_foreign_aff.head()"
   ]
  },
  {
   "cell_type": "code",
   "execution_count": null,
   "metadata": {},
   "outputs": [],
   "source": []
  },
  {
   "cell_type": "markdown",
   "metadata": {},
   "source": [
    "**Saving**<a id='2.6_save'></a>"
   ]
  },
  {
   "cell_type": "code",
   "execution_count": 44,
   "metadata": {
    "scrolled": true
   },
   "outputs": [
    {
     "name": "stdout",
     "output_type": "stream",
     "text": [
      "C:\\Users\\rands\n"
     ]
    }
   ],
   "source": [
    "cd"
   ]
  },
  {
   "cell_type": "markdown",
   "metadata": {},
   "source": [
    "Saving it to Excel."
   ]
  },
  {
   "cell_type": "code",
   "execution_count": 45,
   "metadata": {},
   "outputs": [
    {
     "name": "stdout",
     "output_type": "stream",
     "text": [
      "Complete\n"
     ]
    }
   ],
   "source": [
    "# df = pd.DataFrame(reviewlist)\n",
    "\n",
    "# index=False below so that we don't get the dataframe index on the side; we just use the excel index\n",
    "df_10_min_foreign_aff.to_csv('./_Capstone_Two_NLP/data/_news/min_foreign_aff_10.csv', index=False)\n",
    "\n",
    "print('Complete')"
   ]
  },
  {
   "cell_type": "code",
   "execution_count": null,
   "metadata": {},
   "outputs": [],
   "source": []
  }
 ],
 "metadata": {
  "kernelspec": {
   "display_name": "Python 3",
   "language": "python",
   "name": "python3"
  },
  "language_info": {
   "codemirror_mode": {
    "name": "ipython",
    "version": 3
   },
   "file_extension": ".py",
   "mimetype": "text/x-python",
   "name": "python",
   "nbconvert_exporter": "python",
   "pygments_lexer": "ipython3",
   "version": "3.8.5"
  },
  "varInspector": {
   "cols": {
    "lenName": 16,
    "lenType": 16,
    "lenVar": 40
   },
   "kernels_config": {
    "python": {
     "delete_cmd_postfix": "",
     "delete_cmd_prefix": "del ",
     "library": "var_list.py",
     "varRefreshCmd": "print(var_dic_list())"
    },
    "r": {
     "delete_cmd_postfix": ") ",
     "delete_cmd_prefix": "rm(",
     "library": "var_list.r",
     "varRefreshCmd": "cat(var_dic_list()) "
    }
   },
   "types_to_exclude": [
    "module",
    "function",
    "builtin_function_or_method",
    "instance",
    "_Feature"
   ],
   "window_display": false
  }
 },
 "nbformat": 4,
 "nbformat_minor": 4
}
