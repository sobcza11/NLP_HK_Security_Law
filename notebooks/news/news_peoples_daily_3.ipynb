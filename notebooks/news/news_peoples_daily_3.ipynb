{
 "cells": [
  {
   "cell_type": "markdown",
   "metadata": {},
   "source": [
    "# Scraping Safeguarding long-term prosperity from People’s Daily"
   ]
  },
  {
   "cell_type": "markdown",
   "metadata": {},
   "source": [
    "## 2.1 Contents<a id='2.1_Contents'></a>\n",
    "* [2.1 Importing Relevant Tools](#2.1_Importing)\n",
    "* [2.2 Defining the Request](#2.2_URL)\n",
    "* [2.3 Grab | Date](#2.4_scrape_date)\n",
    "* [2.4 Grab | Header](#2.4_scrape_header)\n",
    "* [2.5 Grab | Content](#2.4_scrape_content)\n",
    "* [2.6 Clean | Send to DataFrame](#2.5_review)\n",
    "* [2.7 Save](#2.6_save)\n"
   ]
  },
  {
   "cell_type": "markdown",
   "metadata": {},
   "source": [
    "**Importing Relevant Tools**<a id='2.1_Importing'></a>"
   ]
  },
  {
   "cell_type": "code",
   "execution_count": 92,
   "metadata": {},
   "outputs": [],
   "source": [
    "import json\n",
    "import pandas as pd\n",
    "from bs4 import BeautifulSoup as soup\n",
    "import requests\n",
    "import csv\n",
    "import re\n",
    "import pickle\n",
    "\n",
    "%reload_ext watermark"
   ]
  },
  {
   "cell_type": "code",
   "execution_count": 93,
   "metadata": {},
   "outputs": [],
   "source": [
    "#the below needs to be reviewed for all websites; notably the time format\n",
    "\n",
    "from datetime import date\n",
    "from datetime import datetime\n",
    "today = date.today()\n",
    "d = today.strftime(\"%m-%d-%y\")"
   ]
  },
  {
   "cell_type": "markdown",
   "metadata": {},
   "source": [
    "For reference."
   ]
  },
  {
   "cell_type": "code",
   "execution_count": 94,
   "metadata": {},
   "outputs": [
    {
     "name": "stdout",
     "output_type": "stream",
     "text": [
      "Python implementation: CPython\n",
      "Python version       : 3.8.5\n",
      "IPython version      : 7.19.0\n",
      "\n",
      "pandas: 1.1.3\n",
      "\n"
     ]
    }
   ],
   "source": [
    "%watermark -d -t -v -p pandas"
   ]
  },
  {
   "cell_type": "markdown",
   "metadata": {},
   "source": [
    "**Defining the Request**<a id='2.2_URL'></a>"
   ]
  },
  {
   "cell_type": "code",
   "execution_count": 95,
   "metadata": {},
   "outputs": [
    {
     "data": {
      "text/plain": [
       "'http://en.people.cn/n3/2020/0702/c90000-9706131.html'"
      ]
     },
     "execution_count": 95,
     "metadata": {},
     "output_type": "execute_result"
    }
   ],
   "source": [
    "url = 'http://en.people.cn/n3/2020/0702/c90000-9706131.html'\n",
    "content = requests.get(url).content\n",
    "url"
   ]
  },
  {
   "cell_type": "code",
   "execution_count": 96,
   "metadata": {},
   "outputs": [],
   "source": [
    "soup = soup(content,'html.parser')\n",
    "# bsobj"
   ]
  },
  {
   "cell_type": "markdown",
   "metadata": {},
   "source": [
    "**Grab | Date**<a id='2.4_scrape_date'></a>"
   ]
  },
  {
   "cell_type": "code",
   "execution_count": 97,
   "metadata": {},
   "outputs": [
    {
     "name": "stdout",
     "output_type": "stream",
     "text": [
      "Law and order dawns in Hong Kong as new law takes effect\n",
      " (Xinhua)    08:42, July 02, 2020\n"
     ]
    }
   ],
   "source": [
    "for date in soup.find_all('div',{'class':'w980 wb_10 clear'}):\n",
    "    print(date.text.strip())"
   ]
  },
  {
   "cell_type": "markdown",
   "metadata": {},
   "source": [
    "That is the date but needs some work cleaning it up."
   ]
  },
  {
   "cell_type": "markdown",
   "metadata": {},
   "source": [
    "**Grab | Header**<a id='2.4_scrape_header'></a>"
   ]
  },
  {
   "cell_type": "code",
   "execution_count": 98,
   "metadata": {},
   "outputs": [
    {
     "name": "stdout",
     "output_type": "stream",
     "text": [
      "<div class=\"w980 wb_10 clear\">\n",
      "<h1>Law and order dawns in Hong Kong as new law takes effect</h1>\n",
      "<div> (<a href=\"http://www.xinhuanet.com/english/\">Xinhua</a>)    08:42, July 02, 2020<em><a href=\"https://apple.news/TkJFGBPvhTwyCvquJc-AqRQ\" target=\"_blank\"><img alt=\"\" src=\"/img/FOREIGN/2015/03/212677/images/icon36.gif\"/></a></em></div>\n",
      "</div>\n"
     ]
    }
   ],
   "source": [
    "for title in soup.findAll('div',{'class','w980 wb_10 clear'}):\n",
    "    print(title)"
   ]
  },
  {
   "cell_type": "code",
   "execution_count": 99,
   "metadata": {},
   "outputs": [],
   "source": [
    "TAG_RE = re.compile(r'<[^>]+>')"
   ]
  },
  {
   "cell_type": "code",
   "execution_count": 100,
   "metadata": {},
   "outputs": [],
   "source": [
    "def remove_tags(text):\n",
    "    return TAG_RE.sub('', text)"
   ]
  },
  {
   "cell_type": "code",
   "execution_count": 101,
   "metadata": {},
   "outputs": [
    {
     "data": {
      "text/plain": [
       "'\\nLaw and order dawns in Hong Kong as new law takes effect\\n (Xinhua)\\xa0\\xa0\\xa0\\xa008:42, July 02, 2020\\n'"
      ]
     },
     "execution_count": 101,
     "metadata": {},
     "output_type": "execute_result"
    }
   ],
   "source": [
    "remove_tags(str(title))"
   ]
  },
  {
   "cell_type": "markdown",
   "metadata": {},
   "source": [
    "Confirmed that's the title; a little longer of a journey to get it."
   ]
  },
  {
   "cell_type": "markdown",
   "metadata": {},
   "source": [
    "**Grab | Content**<a id='2.4_scrape_content'></a>"
   ]
  },
  {
   "cell_type": "code",
   "execution_count": 102,
   "metadata": {},
   "outputs": [
    {
     "name": "stdout",
     "output_type": "stream",
     "text": [
      "-- The festive mood across Hong Kong on the 23rd anniversary of its return to the motherland stood in sharp contrast to the scenes a year ago when rioters stormed the Legislative Council complex and wreaked havoc inside.\n",
      "\n",
      "-- The newly enacted law on safeguarding national security in Hong Kong would help restore stability, said HKSAR Chief Executive Carrie Lam.\n",
      "\n",
      "-- The promulgation of the law marks a significant turning point for Hong Kong to move from turmoil to stability, and a major milestone for the practice of \"one country, two systems,\" said Luo Huining, director of the Liaison Office of the Central People's Government in the HKSAR.\n",
      "\n",
      "-- \"If it were not for the national security legislation, I would decide to leave Hong Kong at once,\" said Angelo Giuliano, a Swiss expatriate.\n",
      "\n",
      "\tHONG KONG, July 1 (Xinhua) -- Hong Kong reached a significant turning point on the 23rd anniversary of its return to the motherland as a law on safeguarding national security came into force.\n",
      "\n",
      "\tCelebrations were held across Hong Kong Wednesday morning. Helicopters flew the national and regional flags over Victoria Harbor, and a fireboat sprayed a water-column salute. Choruses of residents sang the national anthem at multiple landmarks.\n",
      "\n",
      "\n",
      "\n",
      "A flag-raising ceremony is held by the government of the Hong Kong Special Administrative Region to celebrate the 23rd anniversary of Hong Kong's return to the motherland at the Golden Bauhinia Square in Hong Kong, south China, July 1, 2020. (Xinhua/Li Gang)\n",
      "\n",
      "\tThe festive mood stood in sharp contrast to the scenes a year ago when large groups of rioters stormed the Legislative Council complex of the Hong Kong Special Administrative Region (HKSAR) and wreaked havoc inside. It was one of the most atrocious violent incidents during months of social unrest last year.\n",
      "\n",
      "\tOn Tuesday, the Law of the People's Republic of China on Safeguarding National Security in the HKSAR was passed unanimously by the Standing Committee of the National People's Congress. It took effect at 11:00 p.m. local time the same day upon its promulgation by the HKSAR government in the Gazette.\n",
      "\n",
      "\tTURNING POINT\n",
      "\n",
      "\tAt a reception held Wednesday morning, Chief Executive of the HKSAR Carrie Lam stressed the significance of the anniversary and said the new law would help restore stability in Hong Kong.\n",
      "\n",
      "\tThe national security law seeks to prevent, curb and punish crimes seriously endangering national security, namely secession, subversion, terrorist activities, and collusion with a foreign country or external elements to endanger national security.\n",
      "\n",
      "\tLam called the enactment of the law a \"turning point\" to take Hong Kong out of the current impasse and to restore stability and order from the chaos.\n",
      "\n",
      "\n",
      "\n",
      "A reception celebrating the 23rd anniversary of the establishment of the Hong Kong Special Administrative Region of the People's Republic of China is held in south China's Hong Kong, July 1, 2020. (Xinhua/Li Gang)\n",
      "\n",
      "\tThe legislation follows the prolonged social disturbances that have gripped Hong Kong since June last year. Intensified violent incidents and riots trampled on order and the rule of law, threatened people's safety, and endangered national security.\n",
      "\n",
      "\tThe unrest exposed the tremendous risks Hong Kong faces in safeguarding national security and posed a grave challenge to \"one country, two systems,\" Luo Huining, director of the Liaison Office of the Central People's Government in the HKSAR, said Wednesday at an opening ceremony of the activities to celebrate the 23rd anniversary of Hong Kong's return.\n",
      "\n",
      "\tEchoing Lam's words, Luo said the promulgation of the law marks a significant turning point for Hong Kong to move from turmoil to stability, and a major milestone for the practice of \"one country, two systems\" in Hong Kong.\n",
      "\n",
      "\tIn Victoria Harbor, 150 fishing vessels, festooned with banners and the national flag, sailed in a procession to celebrate the anniversary and the passage of the new law. Joyful Hong Kong residents warmly greeted the boats on the harbor front.\n",
      "\n",
      "\tThe captain of the lead boat, surnamed Leung, has participated in every such parade since 1997. Leung, 68, said the lives of fishermen had become better and better since Hong Kong returned to the motherland. \"Only when our country is prosperous, can Hong Kong be prosperous,\" he said.\n",
      "\n",
      "\n",
      "\n",
      "More than 100 fishing boats parade at the Victoria Harbor to celebrate the 23rd anniversary of Hong Kong's return to the motherland in Hong Kong, south China, July 1, 2020. (Xinhua/Lo Ping Fai)\n",
      "\n",
      "\tEND TO TURMOIL\n",
      "\n",
      "\t\"If it were not for the national security legislation, I would decide to leave Hong Kong at once,\" Angelo Giuliano said.\n",
      "\n",
      "\tThe Swiss expatriate, 50, was looking for opportunities in the financial consultancy field in Hong Kong three years ago, attracted by its stable environment and business opportunities, but found himself unexpectedly dragged into the chaos last year and faced real threats to his safety.\n",
      "\n",
      "\tWhen Giuliano was trying to help clear a street blocked by debris, rioters hurled stones at him and his friends. After attending assemblies to protest the violence, his private information, along with that of his family, was leaked online.\n",
      "\n",
      "\tNumerous ordinary Hong Kong residents echoed Giuliano's personal experience and feelings about the new law.\n",
      "\n",
      "\n",
      "\n",
      "Photo taken on June 29, 2020 shows a billboard on the Law of the People's Republic of China on Safeguarding National Security in the Hong Kong Special Administrative Region (HKSAR) in Central area in Hong Kong, south China. (Xinhua/Wang Shen)\n",
      "\n",
      "\tViolence used to be a common occurrence during the social unrest. Rioters besieged government and legislative buildings, trashed metro stations, banks and shops, and assaulted innocent residents. Their actions plunged Hong Kong into chaos and a deep economic recession, and posed a significant and increasing threat to national security.\n",
      "\n",
      "\tRadicals advocating \"Hong Kong independence\" colluded with external forces and applied \"burn with us\" and terrorist-style tactics, intending to destroy Hong Kong and contain China's development, said British barrister Grenville Cross, who had worked as director of Public Prosecutions in Hong Kong for 12 years since 1997.\n",
      "\n",
      "\tHong Kong has enjoyed a high degree of autonomy and maintained its prosperity under \"one country, two systems\" since China resumed exercising sovereignty over Hong Kong in 1997.\n",
      "\n",
      "\tHowever, with the 2014 illegal \"Occupy Central\" movement, the 2016 Mong Kok riots and the unrest in 2019, intensified political upheaval in twine with emerging homegrown terrorism and criminal activities threatening national security cast long shadows over Hong Kong's prospects.\n",
      "\n",
      "\tRegina Ip, a Hong Kong lawmaker and member of the Executive Council, expects the new law to help Hong Kong restore peace and order, guarantee the continued success of \"one country, two systems,\" and chart the course for Hong Kong's long-term development.\n",
      "\n",
      "\tTO SUSTAIN SUCCESS\n",
      "\n",
      "\tAfter peace and order are restored, Hong Kong will be able to weather the external challenges and remain as an attractive destination for international investors and talents, observers said.\n",
      "\n",
      "\t\"What businesses want is stability and certainty. They want to know that their business isn't going to be disrupted by social unrest,\" said Stephen Phillips, director-general of investment promotion at Invest Hong Kong of the HKSAR government, noting that businesses generally welcome and understand the need for the legislation.\n",
      "\n",
      "\tCredit rating agency S&P Global Ratings recently affirmed its AA+/A-1+ issuer credit ratings on Hong Kong and maintained the outlook as stable.\n",
      "\n",
      "\tOver the past 23 years, Hong Kong has retained its capitalist system and lifestyle and made remarkable progress under \"one country, two systems.\"\n",
      "\n",
      "\t\"It is 'one country, two systems' that enables Hong Kong to remain competitive and keep the position as the freest economy and an international financial hub,\" Choi Koon-shum, chairman of the Chinese General Chamber of Commerce of Hong Kong, said.\n",
      "\n",
      "\tHong Kong's gross domestic product (GDP) doubled from 1997 to 2019 with an annual growth of 3 percent, well above the 2-percent increase of advanced economies on average, and Hong Kong's GDP per capita was higher than that of Germany, Japan and Britain.\n",
      "\n",
      "\n",
      "\n",
      "Hong Kong residents celebrate the passage of the Law of the People's Republic of China on Safeguarding National Security in the Hong Kong Special Administrative Region (HKSAR) in Causeway Bay of south China's Hong Kong, June 30, 2020. (Xinhua/Wang Shen)\n",
      "\n",
      "\tBacked by a fast-growing mainland economy and the firm support of the central government, Hong Kong has overcome various difficulties since 1997, from the Asian financial crisis to the SARS outbreak and the global financial crisis, said Maria Tam, deputy director of the HKSAR Basic Law Committee under the NPC Standing Committee.\n",
      "\n",
      "\t\"I hope Hong Kong society can calm down at an early date so that we can shift the focus to improving people's livelihoods, bolstering growth and integrating into the national development,\" Tam said, noting new opportunities for Hong Kong businesses generated in the Guangdong-Hong Kong-Macao Greater Bay Area.\n",
      "\n",
      "\tIlan, a diamond dealer from Israel, is eager to regain a peaceful life in Hong Kong. Born and raised in the Middle East, he has been in Hong Kong for 18 years and fathered two children.\n",
      "\n",
      "\tThanks to the law, people will be able to return to all the things that made Hong Kong great to begin with, he said. \"I believe that Hong Kong can be even better than before. I'm not just saying that. I truly believe it has great potential. It just needs to shift back on course.\"\n"
     ]
    }
   ],
   "source": [
    "for bodies in soup.find_all('div',{'class','wb_12 clear'}):\n",
    "    print(bodies.text.strip())"
   ]
  },
  {
   "cell_type": "code",
   "execution_count": 103,
   "metadata": {},
   "outputs": [
    {
     "data": {
      "text/plain": [
       "97"
      ]
     },
     "execution_count": 103,
     "metadata": {},
     "output_type": "execute_result"
    }
   ],
   "source": [
    "len(bodies)"
   ]
  },
  {
   "cell_type": "markdown",
   "metadata": {},
   "source": [
    "Confirmed that's the bottom but need to pull out the title & numbers."
   ]
  },
  {
   "cell_type": "markdown",
   "metadata": {},
   "source": [
    "**Clean | Send to DataFrame**<a id='2.5_review'></a>"
   ]
  },
  {
   "cell_type": "markdown",
   "metadata": {},
   "source": [
    "First the date from string to a datetime object."
   ]
  },
  {
   "cell_type": "code",
   "execution_count": 104,
   "metadata": {},
   "outputs": [
    {
     "name": "stdout",
     "output_type": "stream",
     "text": [
      "Law and order dawns in Hong Kong as new law takes effect\n",
      " (Xinhua)    08:42, July 02, 2020\n"
     ]
    }
   ],
   "source": [
    "for day in soup.findAll('div',{'class':'w980 wb_10 clear'}):\n",
    "    print(day.text.strip())"
   ]
  },
  {
   "cell_type": "code",
   "execution_count": 105,
   "metadata": {},
   "outputs": [
    {
     "data": {
      "text/plain": [
       "<div class=\"w980 wb_10 clear\">\n",
       "<h1>Law and order dawns in Hong Kong as new law takes effect</h1>\n",
       "<div> (<a href=\"http://www.xinhuanet.com/english/\">Xinhua</a>)    08:42, July 02, 2020<em><a href=\"https://apple.news/TkJFGBPvhTwyCvquJc-AqRQ\" target=\"_blank\"><img alt=\"\" src=\"/img/FOREIGN/2015/03/212677/images/icon36.gif\"/></a></em></div>\n",
       "</div>"
      ]
     },
     "execution_count": 105,
     "metadata": {},
     "output_type": "execute_result"
    }
   ],
   "source": [
    "day"
   ]
  },
  {
   "cell_type": "code",
   "execution_count": 106,
   "metadata": {},
   "outputs": [],
   "source": [
    "day = remove_tags(str(day))"
   ]
  },
  {
   "cell_type": "code",
   "execution_count": 107,
   "metadata": {},
   "outputs": [
    {
     "data": {
      "text/plain": [
       "92"
      ]
     },
     "execution_count": 107,
     "metadata": {},
     "output_type": "execute_result"
    }
   ],
   "source": [
    "len(day)"
   ]
  },
  {
   "cell_type": "code",
   "execution_count": 108,
   "metadata": {},
   "outputs": [
    {
     "data": {
      "text/plain": [
       "'July 02, 2020'"
      ]
     },
     "execution_count": 108,
     "metadata": {},
     "output_type": "execute_result"
    }
   ],
   "source": [
    "day_pub = day[78:91]\n",
    "day_pub"
   ]
  },
  {
   "cell_type": "code",
   "execution_count": 109,
   "metadata": {},
   "outputs": [
    {
     "data": {
      "text/plain": [
       "datetime.date(2020, 7, 2)"
      ]
     },
     "execution_count": 109,
     "metadata": {},
     "output_type": "execute_result"
    }
   ],
   "source": [
    "#Replacing commas\n",
    "day_pub = re.sub(',','',day_pub)\n",
    "#Replacing the spaces\n",
    "day_pub = re.sub(' ','-',day_pub)\n",
    "#Replacing words to bring to datetimeformat\n",
    "day_pub = re.sub('July','07',day_pub)\n",
    "#Converting to dattime format\n",
    "day_pub = datetime.strptime(day_pub, '%m-%d-%Y').date()\n",
    "day_pub"
   ]
  },
  {
   "cell_type": "code",
   "execution_count": 110,
   "metadata": {},
   "outputs": [],
   "source": [
    "df_date = pd.DataFrame([day_pub])"
   ]
  },
  {
   "cell_type": "code",
   "execution_count": 111,
   "metadata": {},
   "outputs": [
    {
     "data": {
      "text/plain": [
       "pandas.core.frame.DataFrame"
      ]
     },
     "execution_count": 111,
     "metadata": {},
     "output_type": "execute_result"
    }
   ],
   "source": [
    "type(df_date)"
   ]
  },
  {
   "cell_type": "code",
   "execution_count": 112,
   "metadata": {},
   "outputs": [
    {
     "data": {
      "text/html": [
       "<div>\n",
       "<style scoped>\n",
       "    .dataframe tbody tr th:only-of-type {\n",
       "        vertical-align: middle;\n",
       "    }\n",
       "\n",
       "    .dataframe tbody tr th {\n",
       "        vertical-align: top;\n",
       "    }\n",
       "\n",
       "    .dataframe thead th {\n",
       "        text-align: right;\n",
       "    }\n",
       "</style>\n",
       "<table border=\"1\" class=\"dataframe\">\n",
       "  <thead>\n",
       "    <tr style=\"text-align: right;\">\n",
       "      <th></th>\n",
       "      <th>0</th>\n",
       "    </tr>\n",
       "  </thead>\n",
       "  <tbody>\n",
       "    <tr>\n",
       "      <th>0</th>\n",
       "      <td>2020-07-02</td>\n",
       "    </tr>\n",
       "  </tbody>\n",
       "</table>\n",
       "</div>"
      ],
      "text/plain": [
       "            0\n",
       "0  2020-07-02"
      ]
     },
     "execution_count": 112,
     "metadata": {},
     "output_type": "execute_result"
    }
   ],
   "source": [
    "df_date"
   ]
  },
  {
   "cell_type": "markdown",
   "metadata": {},
   "source": [
    "Now the title."
   ]
  },
  {
   "cell_type": "code",
   "execution_count": 113,
   "metadata": {},
   "outputs": [
    {
     "name": "stdout",
     "output_type": "stream",
     "text": [
      "<div class=\"w980 wb_10 clear\">\n",
      "<h1>Law and order dawns in Hong Kong as new law takes effect</h1>\n",
      "<div> (<a href=\"http://www.xinhuanet.com/english/\">Xinhua</a>)    08:42, July 02, 2020<em><a href=\"https://apple.news/TkJFGBPvhTwyCvquJc-AqRQ\" target=\"_blank\"><img alt=\"\" src=\"/img/FOREIGN/2015/03/212677/images/icon36.gif\"/></a></em></div>\n",
      "</div>\n"
     ]
    }
   ],
   "source": [
    "for title in soup.find_all('div',{'class','w980 wb_10 clear'}):\n",
    "    print(title)"
   ]
  },
  {
   "cell_type": "code",
   "execution_count": 114,
   "metadata": {},
   "outputs": [
    {
     "data": {
      "text/plain": [
       "'Law and order dawns in Hong Kong as new law takes effect'"
      ]
     },
     "execution_count": 114,
     "metadata": {},
     "output_type": "execute_result"
    }
   ],
   "source": [
    "#Throw it in a list to work with\n",
    "title_list = list(title)\n",
    "#Take the title only & reassign back\n",
    "title = title_list[1]\n",
    "#Remove html \n",
    "title = remove_tags(str(title))\n",
    "title"
   ]
  },
  {
   "cell_type": "code",
   "execution_count": 115,
   "metadata": {},
   "outputs": [],
   "source": [
    "df_title = pd.DataFrame([title])"
   ]
  },
  {
   "cell_type": "code",
   "execution_count": 116,
   "metadata": {},
   "outputs": [
    {
     "data": {
      "text/html": [
       "<div>\n",
       "<style scoped>\n",
       "    .dataframe tbody tr th:only-of-type {\n",
       "        vertical-align: middle;\n",
       "    }\n",
       "\n",
       "    .dataframe tbody tr th {\n",
       "        vertical-align: top;\n",
       "    }\n",
       "\n",
       "    .dataframe thead th {\n",
       "        text-align: right;\n",
       "    }\n",
       "</style>\n",
       "<table border=\"1\" class=\"dataframe\">\n",
       "  <thead>\n",
       "    <tr style=\"text-align: right;\">\n",
       "      <th></th>\n",
       "      <th>0</th>\n",
       "    </tr>\n",
       "  </thead>\n",
       "  <tbody>\n",
       "    <tr>\n",
       "      <th>0</th>\n",
       "      <td>Law and order dawns in Hong Kong as new law ta...</td>\n",
       "    </tr>\n",
       "  </tbody>\n",
       "</table>\n",
       "</div>"
      ],
      "text/plain": [
       "                                                   0\n",
       "0  Law and order dawns in Hong Kong as new law ta..."
      ]
     },
     "execution_count": 116,
     "metadata": {},
     "output_type": "execute_result"
    }
   ],
   "source": [
    "df_title"
   ]
  },
  {
   "cell_type": "code",
   "execution_count": 117,
   "metadata": {},
   "outputs": [
    {
     "data": {
      "text/plain": [
       "pandas.core.frame.DataFrame"
      ]
     },
     "execution_count": 117,
     "metadata": {},
     "output_type": "execute_result"
    }
   ],
   "source": [
    "type(df_title)"
   ]
  },
  {
   "cell_type": "markdown",
   "metadata": {},
   "source": [
    "These items are manually added."
   ]
  },
  {
   "cell_type": "code",
   "execution_count": 118,
   "metadata": {},
   "outputs": [],
   "source": [
    "country = 'China'\n",
    "df_country = pd.DataFrame([country])\n",
    "source = 'People\\'s Daily'\n",
    "df_source = pd.DataFrame([source])\n",
    "file_name = 'peoples_daily_3'\n",
    "df_file_name = pd.DataFrame([file_name])\n"
   ]
  },
  {
   "cell_type": "markdown",
   "metadata": {},
   "source": [
    "Finally, the news."
   ]
  },
  {
   "cell_type": "code",
   "execution_count": 124,
   "metadata": {},
   "outputs": [],
   "source": [
    "news1 = []\n",
    "for bodies in soup.find_all('div',{'class','wb_12 clear'}):\n",
    "    news1.append(bodies.text.strip())"
   ]
  },
  {
   "cell_type": "code",
   "execution_count": 125,
   "metadata": {},
   "outputs": [],
   "source": [
    "df_news = pd.DataFrame()"
   ]
  },
  {
   "cell_type": "code",
   "execution_count": 126,
   "metadata": {},
   "outputs": [],
   "source": [
    "df_news['article_body'] = news1"
   ]
  },
  {
   "cell_type": "code",
   "execution_count": 127,
   "metadata": {},
   "outputs": [
    {
     "data": {
      "text/html": [
       "<div>\n",
       "<style scoped>\n",
       "    .dataframe tbody tr th:only-of-type {\n",
       "        vertical-align: middle;\n",
       "    }\n",
       "\n",
       "    .dataframe tbody tr th {\n",
       "        vertical-align: top;\n",
       "    }\n",
       "\n",
       "    .dataframe thead th {\n",
       "        text-align: right;\n",
       "    }\n",
       "</style>\n",
       "<table border=\"1\" class=\"dataframe\">\n",
       "  <thead>\n",
       "    <tr style=\"text-align: right;\">\n",
       "      <th></th>\n",
       "      <th>article_body</th>\n",
       "    </tr>\n",
       "  </thead>\n",
       "  <tbody>\n",
       "    <tr>\n",
       "      <th>0</th>\n",
       "      <td>-- The festive mood across Hong Kong on the 23...</td>\n",
       "    </tr>\n",
       "  </tbody>\n",
       "</table>\n",
       "</div>"
      ],
      "text/plain": [
       "                                        article_body\n",
       "0  -- The festive mood across Hong Kong on the 23..."
      ]
     },
     "execution_count": 127,
     "metadata": {},
     "output_type": "execute_result"
    }
   ],
   "source": [
    "df_news.head(2)"
   ]
  },
  {
   "cell_type": "code",
   "execution_count": 128,
   "metadata": {},
   "outputs": [],
   "source": [
    "df_news['article_body'] = df_news.article_body.str.cat(sep=' ')"
   ]
  },
  {
   "cell_type": "code",
   "execution_count": 129,
   "metadata": {},
   "outputs": [],
   "source": [
    "df_news = df_news.article_body[0]"
   ]
  },
  {
   "cell_type": "code",
   "execution_count": 130,
   "metadata": {},
   "outputs": [],
   "source": [
    "df_news = df_news.replace(r'\\\\?','')"
   ]
  },
  {
   "cell_type": "code",
   "execution_count": 131,
   "metadata": {},
   "outputs": [],
   "source": [
    "df_news = pd.DataFrame([df_news])"
   ]
  },
  {
   "cell_type": "code",
   "execution_count": 132,
   "metadata": {},
   "outputs": [
    {
     "data": {
      "text/plain": [
       "pandas.core.frame.DataFrame"
      ]
     },
     "execution_count": 132,
     "metadata": {},
     "output_type": "execute_result"
    }
   ],
   "source": [
    "type(df_news)"
   ]
  },
  {
   "cell_type": "code",
   "execution_count": 133,
   "metadata": {},
   "outputs": [],
   "source": [
    "df_news.columns = ['Article']"
   ]
  },
  {
   "cell_type": "code",
   "execution_count": 134,
   "metadata": {},
   "outputs": [
    {
     "data": {
      "text/html": [
       "<div>\n",
       "<style scoped>\n",
       "    .dataframe tbody tr th:only-of-type {\n",
       "        vertical-align: middle;\n",
       "    }\n",
       "\n",
       "    .dataframe tbody tr th {\n",
       "        vertical-align: top;\n",
       "    }\n",
       "\n",
       "    .dataframe thead th {\n",
       "        text-align: right;\n",
       "    }\n",
       "</style>\n",
       "<table border=\"1\" class=\"dataframe\">\n",
       "  <thead>\n",
       "    <tr style=\"text-align: right;\">\n",
       "      <th></th>\n",
       "      <th>Article</th>\n",
       "    </tr>\n",
       "  </thead>\n",
       "  <tbody>\n",
       "    <tr>\n",
       "      <th>0</th>\n",
       "      <td>-- The festive mood across Hong Kong on the 23...</td>\n",
       "    </tr>\n",
       "  </tbody>\n",
       "</table>\n",
       "</div>"
      ],
      "text/plain": [
       "                                             Article\n",
       "0  -- The festive mood across Hong Kong on the 23..."
      ]
     },
     "execution_count": 134,
     "metadata": {},
     "output_type": "execute_result"
    }
   ],
   "source": [
    "df_news.head()"
   ]
  },
  {
   "cell_type": "code",
   "execution_count": null,
   "metadata": {},
   "outputs": [],
   "source": []
  },
  {
   "cell_type": "markdown",
   "metadata": {},
   "source": [
    "**Bringing it together.**<a id='2.5_bit'></a>"
   ]
  },
  {
   "cell_type": "code",
   "execution_count": 135,
   "metadata": {},
   "outputs": [],
   "source": [
    "df_3_peoples_daily = pd.concat([df_file_name,df_date,df_source,df_country,df_title,df_news],axis = 1, ignore_index=False)"
   ]
  },
  {
   "cell_type": "code",
   "execution_count": 136,
   "metadata": {},
   "outputs": [],
   "source": [
    "df_3_peoples_daily.columns = ['file_name','date','source','country','title','article']"
   ]
  },
  {
   "cell_type": "code",
   "execution_count": 137,
   "metadata": {},
   "outputs": [
    {
     "data": {
      "text/html": [
       "<div>\n",
       "<style scoped>\n",
       "    .dataframe tbody tr th:only-of-type {\n",
       "        vertical-align: middle;\n",
       "    }\n",
       "\n",
       "    .dataframe tbody tr th {\n",
       "        vertical-align: top;\n",
       "    }\n",
       "\n",
       "    .dataframe thead th {\n",
       "        text-align: right;\n",
       "    }\n",
       "</style>\n",
       "<table border=\"1\" class=\"dataframe\">\n",
       "  <thead>\n",
       "    <tr style=\"text-align: right;\">\n",
       "      <th></th>\n",
       "      <th>file_name</th>\n",
       "      <th>date</th>\n",
       "      <th>source</th>\n",
       "      <th>country</th>\n",
       "      <th>title</th>\n",
       "      <th>article</th>\n",
       "    </tr>\n",
       "  </thead>\n",
       "  <tbody>\n",
       "    <tr>\n",
       "      <th>0</th>\n",
       "      <td>peoples_daily_3</td>\n",
       "      <td>2020-07-02</td>\n",
       "      <td>People's Daily</td>\n",
       "      <td>China</td>\n",
       "      <td>Law and order dawns in Hong Kong as new law ta...</td>\n",
       "      <td>-- The festive mood across Hong Kong on the 23...</td>\n",
       "    </tr>\n",
       "  </tbody>\n",
       "</table>\n",
       "</div>"
      ],
      "text/plain": [
       "         file_name        date          source country  \\\n",
       "0  peoples_daily_3  2020-07-02  People's Daily   China   \n",
       "\n",
       "                                               title  \\\n",
       "0  Law and order dawns in Hong Kong as new law ta...   \n",
       "\n",
       "                                             article  \n",
       "0  -- The festive mood across Hong Kong on the 23...  "
      ]
     },
     "execution_count": 137,
     "metadata": {},
     "output_type": "execute_result"
    }
   ],
   "source": [
    "df_3_peoples_daily.head()"
   ]
  },
  {
   "cell_type": "code",
   "execution_count": null,
   "metadata": {},
   "outputs": [],
   "source": []
  },
  {
   "cell_type": "markdown",
   "metadata": {},
   "source": [
    "**Saving**<a id='2.6_save'></a>"
   ]
  },
  {
   "cell_type": "code",
   "execution_count": 138,
   "metadata": {
    "scrolled": true
   },
   "outputs": [
    {
     "name": "stdout",
     "output_type": "stream",
     "text": [
      "C:\\Users\\rands\n"
     ]
    }
   ],
   "source": [
    "cd"
   ]
  },
  {
   "cell_type": "markdown",
   "metadata": {},
   "source": [
    "Saving it to Excel."
   ]
  },
  {
   "cell_type": "code",
   "execution_count": 139,
   "metadata": {},
   "outputs": [
    {
     "name": "stdout",
     "output_type": "stream",
     "text": [
      "Complete\n"
     ]
    }
   ],
   "source": [
    "# df = pd.DataFrame(reviewlist)\n",
    "\n",
    "# index=False below so that we don't get the dataframe index on the side; we just use the excel index\n",
    "df_3_peoples_daily.to_csv('./_Capstone_Two_NLP/data/_news/peoples_daily_3.csv', index=False)\n",
    "\n",
    "print('Complete')"
   ]
  },
  {
   "cell_type": "code",
   "execution_count": null,
   "metadata": {},
   "outputs": [],
   "source": []
  }
 ],
 "metadata": {
  "kernelspec": {
   "display_name": "Python 3",
   "language": "python",
   "name": "python3"
  },
  "language_info": {
   "codemirror_mode": {
    "name": "ipython",
    "version": 3
   },
   "file_extension": ".py",
   "mimetype": "text/x-python",
   "name": "python",
   "nbconvert_exporter": "python",
   "pygments_lexer": "ipython3",
   "version": "3.8.5"
  },
  "varInspector": {
   "cols": {
    "lenName": 16,
    "lenType": 16,
    "lenVar": 40
   },
   "kernels_config": {
    "python": {
     "delete_cmd_postfix": "",
     "delete_cmd_prefix": "del ",
     "library": "var_list.py",
     "varRefreshCmd": "print(var_dic_list())"
    },
    "r": {
     "delete_cmd_postfix": ") ",
     "delete_cmd_prefix": "rm(",
     "library": "var_list.r",
     "varRefreshCmd": "cat(var_dic_list()) "
    }
   },
   "types_to_exclude": [
    "module",
    "function",
    "builtin_function_or_method",
    "instance",
    "_Feature"
   ],
   "window_display": false
  }
 },
 "nbformat": 4,
 "nbformat_minor": 4
}
