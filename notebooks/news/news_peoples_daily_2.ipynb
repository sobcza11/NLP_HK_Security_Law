{
 "cells": [
  {
   "cell_type": "markdown",
   "metadata": {},
   "source": [
    "# Scraping Long-term stability from People’s Daily"
   ]
  },
  {
   "cell_type": "markdown",
   "metadata": {},
   "source": [
    "## 2.1 Contents<a id='2.1_Contents'></a>\n",
    "* [2.1 Importing Relevant Tools](#2.1_Importing)\n",
    "* [2.2 Defining the Request](#2.2_URL)\n",
    "* [2.3 Grab | Date](#2.4_scrape_date)\n",
    "* [2.4 Grab | Header](#2.4_scrape_header)\n",
    "* [2.5 Grab | Content](#2.4_scrape_content)\n",
    "* [2.6 Clean | Send to DataFrame](#2.5_review)\n",
    "* [2.7 Save](#2.6_save)\n"
   ]
  },
  {
   "cell_type": "markdown",
   "metadata": {},
   "source": [
    "**Importing Relevant Tools**<a id='2.1_Importing'></a>"
   ]
  },
  {
   "cell_type": "code",
   "execution_count": 1,
   "metadata": {},
   "outputs": [],
   "source": [
    "import json\n",
    "import pandas as pd\n",
    "from bs4 import BeautifulSoup as soup\n",
    "import requests\n",
    "import csv\n",
    "import re\n",
    "import pickle\n",
    "\n",
    "%reload_ext watermark"
   ]
  },
  {
   "cell_type": "code",
   "execution_count": 2,
   "metadata": {},
   "outputs": [],
   "source": [
    "#the below needs to be reviewed for all websites; notably the time format\n",
    "\n",
    "from datetime import date\n",
    "from datetime import datetime\n",
    "today = date.today()\n",
    "d = today.strftime(\"%m-%d-%y\")"
   ]
  },
  {
   "cell_type": "markdown",
   "metadata": {},
   "source": [
    "For reference."
   ]
  },
  {
   "cell_type": "code",
   "execution_count": 3,
   "metadata": {},
   "outputs": [
    {
     "name": "stdout",
     "output_type": "stream",
     "text": [
      "Python implementation: CPython\n",
      "Python version       : 3.8.5\n",
      "IPython version      : 7.19.0\n",
      "\n",
      "pandas: 1.1.3\n",
      "\n"
     ]
    }
   ],
   "source": [
    "%watermark -d -t -v -p pandas"
   ]
  },
  {
   "cell_type": "markdown",
   "metadata": {},
   "source": [
    "**Defining the Request**<a id='2.2_URL'></a>"
   ]
  },
  {
   "cell_type": "code",
   "execution_count": 4,
   "metadata": {},
   "outputs": [
    {
     "data": {
      "text/plain": [
       "'http://en.people.cn/n3/2020/0702/c90000-9706124.html'"
      ]
     },
     "execution_count": 4,
     "metadata": {},
     "output_type": "execute_result"
    }
   ],
   "source": [
    "url = 'http://en.people.cn/n3/2020/0702/c90000-9706124.html'\n",
    "content = requests.get(url).content\n",
    "url"
   ]
  },
  {
   "cell_type": "code",
   "execution_count": 5,
   "metadata": {},
   "outputs": [],
   "source": [
    "soup = soup(content,'html.parser')\n",
    "# bsobj"
   ]
  },
  {
   "cell_type": "markdown",
   "metadata": {},
   "source": [
    "**Grab | Date**<a id='2.4_scrape_date'></a>"
   ]
  },
  {
   "cell_type": "code",
   "execution_count": 6,
   "metadata": {},
   "outputs": [
    {
     "name": "stdout",
     "output_type": "stream",
     "text": [
      "(People's Daily)    08:39, July 02, 2020\n"
     ]
    }
   ],
   "source": [
    "for date in soup.find_all('div',{'class':'wb_1 clear'}):\n",
    "    print(date.text.strip())"
   ]
  },
  {
   "cell_type": "markdown",
   "metadata": {},
   "source": [
    "That is the date but needs some work cleaning it up."
   ]
  },
  {
   "cell_type": "markdown",
   "metadata": {},
   "source": [
    "**Grab | Header**<a id='2.4_scrape_header'></a>"
   ]
  },
  {
   "cell_type": "code",
   "execution_count": 7,
   "metadata": {},
   "outputs": [
    {
     "name": "stdout",
     "output_type": "stream",
     "text": [
      "Hong Kong national security law helps ensure long-term stability of \"one country, two systems\"\n"
     ]
    }
   ],
   "source": [
    "for title in soup.find('h2'):\n",
    "    print(title.text.strip())"
   ]
  },
  {
   "cell_type": "code",
   "execution_count": 8,
   "metadata": {},
   "outputs": [
    {
     "data": {
      "text/plain": [
       "<span id=\"p_title\">Hong Kong national security law helps ensure long-term stability of \"one country, two systems\"</span>"
      ]
     },
     "execution_count": 8,
     "metadata": {},
     "output_type": "execute_result"
    }
   ],
   "source": [
    "title"
   ]
  },
  {
   "cell_type": "code",
   "execution_count": 9,
   "metadata": {},
   "outputs": [],
   "source": [
    "TAG_RE = re.compile(r'<[^>]+>')"
   ]
  },
  {
   "cell_type": "code",
   "execution_count": 10,
   "metadata": {},
   "outputs": [],
   "source": [
    "def remove_tags(text):\n",
    "    return TAG_RE.sub('', text)"
   ]
  },
  {
   "cell_type": "code",
   "execution_count": 11,
   "metadata": {},
   "outputs": [
    {
     "data": {
      "text/plain": [
       "'Hong Kong national security law helps ensure long-term stability of \"one country, two systems\"'"
      ]
     },
     "execution_count": 11,
     "metadata": {},
     "output_type": "execute_result"
    }
   ],
   "source": [
    "remove_tags(str(title))"
   ]
  },
  {
   "cell_type": "markdown",
   "metadata": {},
   "source": [
    "Confirmed that's the title; a little longer of a journey to get it."
   ]
  },
  {
   "cell_type": "markdown",
   "metadata": {},
   "source": [
    "**Grab | Content**<a id='2.4_scrape_content'></a>"
   ]
  },
  {
   "cell_type": "code",
   "execution_count": 12,
   "metadata": {},
   "outputs": [
    {
     "name": "stdout",
     "output_type": "stream",
     "text": [
      "On June 30, the Standing Committee of the 13th National People's Congress (NPC) passed the Law of the People's Republic of China on Safeguarding National Security in the Hong Kong Special Administrative Region (HKSAR) and adopted a decision to list the law in Annex III to the HKSAR Basic Law.\n",
      "\n",
      "\tAs a major move of the central government to manage Hong Kong affairs since its return to the motherland in 1997, the law will fully and faithfully implement the principle of “one country, two systems” and the HKSAR Basic Law, help safeguard national sovereignty, security and development interests, maintain Hong Kong's lasting prosperity and stability, and ensure the long-term stability of \"one country, two systems\". It bears both practical and historical significance.\n",
      "\n",
      "\tThe practice of \"one country, two systems\" has achieved a universally recognized success in Hong Kong since its return to the motherland. However, it has also encountered new circumstances and problems.\n",
      "\n",
      "\tEspecially since the disturbance related to the now-withdrawn ordinance amendments concerning the transfer of fugitives in the HKSAR last June, the \"anti-China\" forces in Hong Kong have publicly supported \"Hong Kong's independence,\" \"self-determination\" and \"referendum\" and engaged in activities to undermine the national unity and separate Hong Kong from China.\n",
      "\n",
      "\tMeanwhile, some foreign and external forces blatantly interfered in Hong Kong affairs, supporting and protecting the \"anti-China\" forces in Hong Kong and using Hong Kong to damage the national security of China.\n",
      "\n",
      "\tThe Chinese people, including the Hong Kong compatriots, have realized more than ever that the long-term absence of a national security law in Hong Kong has plunged the special administrative region into the gravest situation since its return to the motherland and that the collusion of \"anti-China\" forces inside and outside Hong Kong has greatly hindered the long-term stability of the \"one country, two systems\" principle.\n",
      "\n",
      "\tThe principle of \"one country, two systems\" was proposed to achieve and maintain national unity, while safeguarding national security is at the core of the principle.\n",
      "\n",
      "\tEnacting the law on safeguarding national security in the HKSAR based on the authorization of the NPC, the Standing Committee of the NPC aims to improve institutional mechanisms related to the implementation of the Constitution, the HKSAR Basic Law, and the NPC Decision on Establishing and Improving the Legal System and Enforcement Mechanisms for the HKSAR to Safeguard National Security under new circumstances. It will work to plug the legal loopholes, make up for the lack of relevant mechanisms and deal with shortcomings of the HKSAR in safeguarding national security. Besides, it will also prompt the HKSAR to fulfill its constitutional and major responsibilities to safeguard national security, make systematic and comprehensive regulation in legal system and implementation mechanism at both national and the HKSAR levels, and properly handle the docking, compatibility, and complementarity between the law on safeguarding national security in the HKSAR and relevant national and HKSAR laws.\n",
      "\n",
      "\tThese efforts are made to fully and faithfully implement the principle of “one country, two systems” and make sure the principle is not distorted in practice and keeps advancing in the right direction.\n",
      "\n",
      "\tThe legislation on national security is a legislative power of every sovereign state, be it unitary or federal.\n",
      "\n",
      "\tThe law on safeguarding national security in the HKSAR, which has 66 articles in six chapters, is a comprehensive law that covers the contents in substantive law, procedural law and organic law.\n",
      "\n",
      "\tIt clearly stipulates the duties and government bodies of the HKSAR for safeguarding national security; the four categories of offences – secession, subversion, terrorist activities, and collusion with a foreign country or external elements to endanger national security – and their corresponding penalties; jurisdiction, applicable law and procedure; office of the central government for safeguarding national security in the HKSAR; and other contents.\n",
      "\n",
      "\tThe legislation thus establishes a legal system and enforcement mechanism for the HKSAR to safeguard national security.\n",
      "\n",
      "\tIt not only plugs the legal loopholes of Hong Kong in protecting national security, but effectively restrains the \"anti-China\" forces in Hong Kong, thus preventing and controlling the risks in national security and consolidating the foundation of \"one country, two systems\".\n",
      "\n",
      "\tOnly when the basis of \"one country\" is guaranteed can Hong Kong embrace greater benefits of \"two systems\".\n",
      "\n",
      "\tIt should be noted that the newly-adopted legislation only targets a few actions and activities that seriously endanger national security, such as \"Hong Kong's independence,\" “black-clad violence,” and mobsters’ “mutual destruction.” It will not affect the capitalist system in the region or its high degree of autonomy and legal system.\n",
      "\n",
      "\tOnly with national security can Hong Kong guarantee its social stability, lay the foundations for solving development problems, and effectively protect the life and property safety, rights and freedom of the Hong Kong residents. National security will also enable the HKSAR government and society to concentrate on solving the deep-seated contradictions and problems related to the economy and people's livelihood.\n",
      "\n",
      "\tIn a word, \"one country, two systems\" could only be put into better practice when national security is well protected.\n",
      "\n",
      "\tThe year 2020 marks the 30th anniversary of the promulgation of the HKSAR Basic Law. As a legal and institutional embodiment of the \"one country, two systems\" principle, the HKSAR Basic Law has been adopted to maintain national unity and territorial integrity and protect Hong Kong's prosperity and stability.\n",
      "\n",
      "\tThe newly-passed law on safeguarding national security in the HKSAR is believed to help ensure the long-term stability of \"one country, two systems\".\n",
      "\n",
      "\tWhile remaining true to its original aspiration and marching forward, the central government of China has enough sincerity and confidence to ensure that the \"one country, two systems\" principle remains unchanged and is unwaveringly upheld. It also has the resolve and capability to ensure no distortion of the \"one country, two systems\" practice.\n"
     ]
    }
   ],
   "source": [
    "for bodies in soup.find_all('div',{'class','wb_12 wb_12b clear'}):\n",
    "    print(bodies.text.strip())"
   ]
  },
  {
   "cell_type": "code",
   "execution_count": 13,
   "metadata": {},
   "outputs": [
    {
     "data": {
      "text/plain": [
       "51"
      ]
     },
     "execution_count": 13,
     "metadata": {},
     "output_type": "execute_result"
    }
   ],
   "source": [
    "len(bodies)"
   ]
  },
  {
   "cell_type": "markdown",
   "metadata": {},
   "source": [
    "Confirmed that's the bottom."
   ]
  },
  {
   "cell_type": "markdown",
   "metadata": {},
   "source": [
    "**Clean | Send to DataFrame**<a id='2.5_review'></a>"
   ]
  },
  {
   "cell_type": "markdown",
   "metadata": {},
   "source": [
    "First the date from string to a datetime object."
   ]
  },
  {
   "cell_type": "code",
   "execution_count": 14,
   "metadata": {},
   "outputs": [
    {
     "name": "stdout",
     "output_type": "stream",
     "text": [
      "(People's Daily)    08:39, July 02, 2020\n"
     ]
    }
   ],
   "source": [
    "for date in soup.find_all('div',{'class':'wb_1 clear'}):\n",
    "    print(date.text.strip())"
   ]
  },
  {
   "cell_type": "code",
   "execution_count": 15,
   "metadata": {},
   "outputs": [
    {
     "data": {
      "text/plain": [
       "<div class=\"wb_1 clear\"> (<a href=\"http://en.people.cn\">People's Daily</a>)    08:39, July 02, 2020<em><a href=\"https://apple.news/TkJFGBPvhTwyCvquJc-AqRQ\" target=\"_blank\"><img alt=\"\" src=\"/img/FOREIGN/2015/03/212677/images/icon36.gif\"/></a></em></div>"
      ]
     },
     "execution_count": 15,
     "metadata": {},
     "output_type": "execute_result"
    }
   ],
   "source": [
    "date"
   ]
  },
  {
   "cell_type": "code",
   "execution_count": 16,
   "metadata": {},
   "outputs": [
    {
     "data": {
      "text/plain": [
       "\" (People's Daily)\\xa0\\xa0\\xa0\\xa008:39, July 02, 2020\""
      ]
     },
     "execution_count": 16,
     "metadata": {},
     "output_type": "execute_result"
    }
   ],
   "source": [
    "date = remove_tags(str(date))\n",
    "date"
   ]
  },
  {
   "cell_type": "code",
   "execution_count": 17,
   "metadata": {},
   "outputs": [
    {
     "data": {
      "text/plain": [
       "41"
      ]
     },
     "execution_count": 17,
     "metadata": {},
     "output_type": "execute_result"
    }
   ],
   "source": [
    "len(date)"
   ]
  },
  {
   "cell_type": "code",
   "execution_count": 18,
   "metadata": {},
   "outputs": [
    {
     "data": {
      "text/plain": [
       "'July 02, 2020'"
      ]
     },
     "execution_count": 18,
     "metadata": {},
     "output_type": "execute_result"
    }
   ],
   "source": [
    "day_pub = date[28:41]\n",
    "day_pub"
   ]
  },
  {
   "cell_type": "code",
   "execution_count": 19,
   "metadata": {},
   "outputs": [
    {
     "data": {
      "text/plain": [
       "datetime.date(2020, 7, 2)"
      ]
     },
     "execution_count": 19,
     "metadata": {},
     "output_type": "execute_result"
    }
   ],
   "source": [
    "#Replacing commas\n",
    "day_pub = re.sub(',','',day_pub)\n",
    "#Replacing words to bring to datetimeformat\n",
    "day_pub = re.sub('July','07',day_pub)\n",
    "#Replacing the spaces\n",
    "day_pub = re.sub(' ','-',day_pub)\n",
    "#Converting to dattime format\n",
    "day_pub = datetime.strptime(day_pub, '%m-%d-%Y').date()\n",
    "\n",
    "day_pub"
   ]
  },
  {
   "cell_type": "code",
   "execution_count": 20,
   "metadata": {},
   "outputs": [],
   "source": [
    "df_date = pd.DataFrame([day_pub])"
   ]
  },
  {
   "cell_type": "code",
   "execution_count": 21,
   "metadata": {},
   "outputs": [
    {
     "data": {
      "text/plain": [
       "pandas.core.frame.DataFrame"
      ]
     },
     "execution_count": 21,
     "metadata": {},
     "output_type": "execute_result"
    }
   ],
   "source": [
    "type(df_date)"
   ]
  },
  {
   "cell_type": "code",
   "execution_count": 22,
   "metadata": {},
   "outputs": [
    {
     "data": {
      "text/html": [
       "<div>\n",
       "<style scoped>\n",
       "    .dataframe tbody tr th:only-of-type {\n",
       "        vertical-align: middle;\n",
       "    }\n",
       "\n",
       "    .dataframe tbody tr th {\n",
       "        vertical-align: top;\n",
       "    }\n",
       "\n",
       "    .dataframe thead th {\n",
       "        text-align: right;\n",
       "    }\n",
       "</style>\n",
       "<table border=\"1\" class=\"dataframe\">\n",
       "  <thead>\n",
       "    <tr style=\"text-align: right;\">\n",
       "      <th></th>\n",
       "      <th>0</th>\n",
       "    </tr>\n",
       "  </thead>\n",
       "  <tbody>\n",
       "    <tr>\n",
       "      <th>0</th>\n",
       "      <td>2020-07-02</td>\n",
       "    </tr>\n",
       "  </tbody>\n",
       "</table>\n",
       "</div>"
      ],
      "text/plain": [
       "            0\n",
       "0  2020-07-02"
      ]
     },
     "execution_count": 22,
     "metadata": {},
     "output_type": "execute_result"
    }
   ],
   "source": [
    "df_date"
   ]
  },
  {
   "cell_type": "markdown",
   "metadata": {},
   "source": [
    "Now the title."
   ]
  },
  {
   "cell_type": "code",
   "execution_count": 23,
   "metadata": {},
   "outputs": [
    {
     "name": "stdout",
     "output_type": "stream",
     "text": [
      "Hong Kong national security law helps ensure long-term stability of \"one country, two systems\"\n"
     ]
    }
   ],
   "source": [
    "for title in soup.find('h2'):\n",
    "    print(title.text.strip())"
   ]
  },
  {
   "cell_type": "code",
   "execution_count": 24,
   "metadata": {},
   "outputs": [
    {
     "data": {
      "text/plain": [
       "<span id=\"p_title\">Hong Kong national security law helps ensure long-term stability of \"one country, two systems\"</span>"
      ]
     },
     "execution_count": 24,
     "metadata": {},
     "output_type": "execute_result"
    }
   ],
   "source": [
    "title"
   ]
  },
  {
   "cell_type": "code",
   "execution_count": 25,
   "metadata": {},
   "outputs": [],
   "source": [
    "title = remove_tags(str(title))"
   ]
  },
  {
   "cell_type": "code",
   "execution_count": 26,
   "metadata": {},
   "outputs": [
    {
     "data": {
      "text/plain": [
       "'Hong Kong national security law helps ensure long-term stability of \"one country, two systems\"'"
      ]
     },
     "execution_count": 26,
     "metadata": {},
     "output_type": "execute_result"
    }
   ],
   "source": [
    "title"
   ]
  },
  {
   "cell_type": "code",
   "execution_count": 27,
   "metadata": {},
   "outputs": [],
   "source": [
    "df_title = pd.DataFrame([title])"
   ]
  },
  {
   "cell_type": "code",
   "execution_count": 28,
   "metadata": {},
   "outputs": [
    {
     "data": {
      "text/html": [
       "<div>\n",
       "<style scoped>\n",
       "    .dataframe tbody tr th:only-of-type {\n",
       "        vertical-align: middle;\n",
       "    }\n",
       "\n",
       "    .dataframe tbody tr th {\n",
       "        vertical-align: top;\n",
       "    }\n",
       "\n",
       "    .dataframe thead th {\n",
       "        text-align: right;\n",
       "    }\n",
       "</style>\n",
       "<table border=\"1\" class=\"dataframe\">\n",
       "  <thead>\n",
       "    <tr style=\"text-align: right;\">\n",
       "      <th></th>\n",
       "      <th>0</th>\n",
       "    </tr>\n",
       "  </thead>\n",
       "  <tbody>\n",
       "    <tr>\n",
       "      <th>0</th>\n",
       "      <td>Hong Kong national security law helps ensure l...</td>\n",
       "    </tr>\n",
       "  </tbody>\n",
       "</table>\n",
       "</div>"
      ],
      "text/plain": [
       "                                                   0\n",
       "0  Hong Kong national security law helps ensure l..."
      ]
     },
     "execution_count": 28,
     "metadata": {},
     "output_type": "execute_result"
    }
   ],
   "source": [
    "df_title"
   ]
  },
  {
   "cell_type": "code",
   "execution_count": 29,
   "metadata": {},
   "outputs": [
    {
     "data": {
      "text/plain": [
       "pandas.core.frame.DataFrame"
      ]
     },
     "execution_count": 29,
     "metadata": {},
     "output_type": "execute_result"
    }
   ],
   "source": [
    "type(df_title)"
   ]
  },
  {
   "cell_type": "markdown",
   "metadata": {},
   "source": [
    "These items are manually added."
   ]
  },
  {
   "cell_type": "code",
   "execution_count": 30,
   "metadata": {},
   "outputs": [],
   "source": [
    "country = 'China'\n",
    "df_country = pd.DataFrame([country])\n",
    "source = 'People\\'s Daily'\n",
    "df_source = pd.DataFrame([source])\n",
    "file_name = 'peoples_daily_2'\n",
    "df_file_name = pd.DataFrame([file_name])\n"
   ]
  },
  {
   "cell_type": "markdown",
   "metadata": {},
   "source": [
    "Finally, the news."
   ]
  },
  {
   "cell_type": "code",
   "execution_count": 31,
   "metadata": {},
   "outputs": [],
   "source": [
    "news1 = []\n",
    "for bodies in soup.find_all('div',{'class','wb_12 wb_12b clear'}):\n",
    "    news1.append(bodies.text.strip())"
   ]
  },
  {
   "cell_type": "code",
   "execution_count": 32,
   "metadata": {},
   "outputs": [
    {
     "data": {
      "text/plain": [
       "['On June 30, the Standing Committee of the 13th National People\\'s Congress (NPC) passed the Law of the People\\'s Republic of China on Safeguarding National Security in the Hong Kong Special Administrative Region (HKSAR) and adopted a decision to list the law in Annex III to the HKSAR Basic Law.\\n\\n\\tAs a major move of the central government to manage Hong Kong affairs since its return to the motherland in 1997, the law will fully and faithfully implement the principle of “one country, two systems” and the HKSAR Basic Law, help safeguard national sovereignty, security and development interests, maintain Hong Kong\\'s lasting prosperity and stability, and ensure the long-term stability of \"one country, two systems\". It bears both practical and historical significance.\\n\\n\\tThe practice of \"one country, two systems\" has achieved a universally recognized success in Hong Kong since its return to the motherland. However, it has also encountered new circumstances and problems.\\n\\n\\tEspecially since the disturbance related to the now-withdrawn ordinance amendments concerning the transfer of fugitives in the HKSAR last June, the \"anti-China\" forces in Hong Kong have publicly supported \"Hong Kong\\'s independence,\" \"self-determination\" and \"referendum\" and engaged in activities to undermine the national unity and separate Hong Kong from China.\\n\\n\\tMeanwhile, some foreign and external forces blatantly interfered in Hong Kong affairs, supporting and protecting the \"anti-China\" forces in Hong Kong and using Hong Kong to damage the national security of China.\\n\\n\\tThe Chinese people, including the Hong Kong compatriots, have realized more than ever that the long-term absence of a national security law in Hong Kong has plunged the special administrative region into the gravest situation since its return to the motherland and that the collusion of \"anti-China\" forces inside and outside Hong Kong has greatly hindered the long-term stability of the \"one country, two systems\" principle.\\n\\n\\tThe principle of \"one country, two systems\" was proposed to achieve and maintain national unity, while safeguarding national security is at the core of the principle.\\n\\n\\tEnacting the law on safeguarding national security in the HKSAR based on the authorization of the NPC, the Standing Committee of the NPC aims to improve institutional mechanisms related to the implementation of the Constitution, the HKSAR Basic Law, and the NPC Decision on Establishing and Improving the Legal System and Enforcement Mechanisms for the HKSAR to Safeguard National Security under new circumstances. It will work to plug the legal loopholes, make up for the lack of relevant mechanisms and deal with shortcomings of the HKSAR in safeguarding national security. Besides, it will also prompt the HKSAR to fulfill its constitutional and major responsibilities to safeguard national security, make systematic and comprehensive regulation in legal system and implementation mechanism at both national and the HKSAR levels, and properly handle the docking, compatibility, and complementarity between the law on safeguarding national security in the HKSAR and relevant national and HKSAR laws.\\n\\n\\tThese efforts are made to fully and faithfully implement the principle of “one country, two systems” and make sure the principle is not distorted in practice and keeps advancing in the right direction.\\n\\n\\tThe legislation on national security is a legislative power of every sovereign state, be it unitary or federal.\\n\\n\\tThe law on safeguarding national security in the HKSAR, which has 66 articles in six chapters, is a comprehensive law that covers the contents in substantive law, procedural law and organic law.\\n\\n\\tIt clearly stipulates the duties and government bodies of the HKSAR for safeguarding national security; the four categories of offences – secession, subversion, terrorist activities, and collusion with a foreign country or external elements to endanger national security – and their corresponding penalties; jurisdiction, applicable law and procedure; office of the central government for safeguarding national security in the HKSAR; and other contents.\\n\\n\\tThe legislation thus establishes a legal system and enforcement mechanism for the HKSAR to safeguard national security.\\n\\n\\tIt not only plugs the legal loopholes of Hong Kong in protecting national security, but effectively restrains the \"anti-China\" forces in Hong Kong, thus preventing and controlling the risks in national security and consolidating the foundation of \"one country, two systems\".\\n\\n\\tOnly when the basis of \"one country\" is guaranteed can Hong Kong embrace greater benefits of \"two systems\".\\n\\n\\tIt should be noted that the newly-adopted legislation only targets a few actions and activities that seriously endanger national security, such as \"Hong Kong\\'s independence,\" “black-clad violence,” and mobsters’ “mutual destruction.” It will not affect the capitalist system in the region or its high degree of autonomy and legal system.\\n\\n\\tOnly with national security can Hong Kong guarantee its social stability, lay the foundations for solving development problems, and effectively protect the life and property safety, rights and freedom of the Hong Kong residents. National security will also enable the HKSAR government and society to concentrate on solving the deep-seated contradictions and problems related to the economy and people\\'s livelihood.\\n\\n\\tIn a word, \"one country, two systems\" could only be put into better practice when national security is well protected.\\n\\n\\tThe year 2020 marks the 30th anniversary of the promulgation of the HKSAR Basic Law. As a legal and institutional embodiment of the \"one country, two systems\" principle, the HKSAR Basic Law has been adopted to maintain national unity and territorial integrity and protect Hong Kong\\'s prosperity and stability.\\n\\n\\tThe newly-passed law on safeguarding national security in the HKSAR is believed to help ensure the long-term stability of \"one country, two systems\".\\n\\n\\tWhile remaining true to its original aspiration and marching forward, the central government of China has enough sincerity and confidence to ensure that the \"one country, two systems\" principle remains unchanged and is unwaveringly upheld. It also has the resolve and capability to ensure no distortion of the \"one country, two systems\" practice.']"
      ]
     },
     "execution_count": 32,
     "metadata": {},
     "output_type": "execute_result"
    }
   ],
   "source": [
    "news1"
   ]
  },
  {
   "cell_type": "code",
   "execution_count": 33,
   "metadata": {},
   "outputs": [],
   "source": [
    "df_news = pd.DataFrame()"
   ]
  },
  {
   "cell_type": "code",
   "execution_count": 34,
   "metadata": {},
   "outputs": [],
   "source": [
    "df_news['article_body'] = news1"
   ]
  },
  {
   "cell_type": "code",
   "execution_count": 35,
   "metadata": {
    "scrolled": true
   },
   "outputs": [
    {
     "data": {
      "text/html": [
       "<div>\n",
       "<style scoped>\n",
       "    .dataframe tbody tr th:only-of-type {\n",
       "        vertical-align: middle;\n",
       "    }\n",
       "\n",
       "    .dataframe tbody tr th {\n",
       "        vertical-align: top;\n",
       "    }\n",
       "\n",
       "    .dataframe thead th {\n",
       "        text-align: right;\n",
       "    }\n",
       "</style>\n",
       "<table border=\"1\" class=\"dataframe\">\n",
       "  <thead>\n",
       "    <tr style=\"text-align: right;\">\n",
       "      <th></th>\n",
       "      <th>article_body</th>\n",
       "    </tr>\n",
       "  </thead>\n",
       "  <tbody>\n",
       "    <tr>\n",
       "      <th>0</th>\n",
       "      <td>On June 30, the Standing Committee of the 13th...</td>\n",
       "    </tr>\n",
       "  </tbody>\n",
       "</table>\n",
       "</div>"
      ],
      "text/plain": [
       "                                        article_body\n",
       "0  On June 30, the Standing Committee of the 13th..."
      ]
     },
     "execution_count": 35,
     "metadata": {},
     "output_type": "execute_result"
    }
   ],
   "source": [
    "df_news.head(2)"
   ]
  },
  {
   "cell_type": "code",
   "execution_count": 36,
   "metadata": {},
   "outputs": [],
   "source": [
    "df_news['article_body'] = df_news.article_body.str.cat(sep=' ')"
   ]
  },
  {
   "cell_type": "code",
   "execution_count": 37,
   "metadata": {},
   "outputs": [],
   "source": [
    "df_news = df_news.article_body[0]"
   ]
  },
  {
   "cell_type": "code",
   "execution_count": 38,
   "metadata": {},
   "outputs": [],
   "source": [
    "df_news = df_news.replace(r'\\\\?','')"
   ]
  },
  {
   "cell_type": "code",
   "execution_count": 39,
   "metadata": {},
   "outputs": [],
   "source": [
    "df_news = pd.DataFrame([df_news])"
   ]
  },
  {
   "cell_type": "code",
   "execution_count": 40,
   "metadata": {},
   "outputs": [
    {
     "data": {
      "text/plain": [
       "pandas.core.frame.DataFrame"
      ]
     },
     "execution_count": 40,
     "metadata": {},
     "output_type": "execute_result"
    }
   ],
   "source": [
    "type(df_news)"
   ]
  },
  {
   "cell_type": "code",
   "execution_count": 41,
   "metadata": {},
   "outputs": [],
   "source": [
    "df_news.columns = ['Article']"
   ]
  },
  {
   "cell_type": "code",
   "execution_count": 42,
   "metadata": {},
   "outputs": [
    {
     "data": {
      "text/html": [
       "<div>\n",
       "<style scoped>\n",
       "    .dataframe tbody tr th:only-of-type {\n",
       "        vertical-align: middle;\n",
       "    }\n",
       "\n",
       "    .dataframe tbody tr th {\n",
       "        vertical-align: top;\n",
       "    }\n",
       "\n",
       "    .dataframe thead th {\n",
       "        text-align: right;\n",
       "    }\n",
       "</style>\n",
       "<table border=\"1\" class=\"dataframe\">\n",
       "  <thead>\n",
       "    <tr style=\"text-align: right;\">\n",
       "      <th></th>\n",
       "      <th>Article</th>\n",
       "    </tr>\n",
       "  </thead>\n",
       "  <tbody>\n",
       "    <tr>\n",
       "      <th>0</th>\n",
       "      <td>On June 30, the Standing Committee of the 13th...</td>\n",
       "    </tr>\n",
       "  </tbody>\n",
       "</table>\n",
       "</div>"
      ],
      "text/plain": [
       "                                             Article\n",
       "0  On June 30, the Standing Committee of the 13th..."
      ]
     },
     "execution_count": 42,
     "metadata": {},
     "output_type": "execute_result"
    }
   ],
   "source": [
    "df_news.head()"
   ]
  },
  {
   "cell_type": "code",
   "execution_count": null,
   "metadata": {},
   "outputs": [],
   "source": []
  },
  {
   "cell_type": "markdown",
   "metadata": {},
   "source": [
    "**Bringing it together.**<a id='2.5_bit'></a>"
   ]
  },
  {
   "cell_type": "code",
   "execution_count": 43,
   "metadata": {},
   "outputs": [],
   "source": [
    "df_2_peoples_daily = pd.concat([df_file_name,df_date,df_source,df_country,df_title,df_news],axis = 1, ignore_index=False)"
   ]
  },
  {
   "cell_type": "code",
   "execution_count": 44,
   "metadata": {},
   "outputs": [],
   "source": [
    "df_2_peoples_daily.columns = ['file_name','date','source','country','title','article']"
   ]
  },
  {
   "cell_type": "code",
   "execution_count": 45,
   "metadata": {},
   "outputs": [
    {
     "data": {
      "text/html": [
       "<div>\n",
       "<style scoped>\n",
       "    .dataframe tbody tr th:only-of-type {\n",
       "        vertical-align: middle;\n",
       "    }\n",
       "\n",
       "    .dataframe tbody tr th {\n",
       "        vertical-align: top;\n",
       "    }\n",
       "\n",
       "    .dataframe thead th {\n",
       "        text-align: right;\n",
       "    }\n",
       "</style>\n",
       "<table border=\"1\" class=\"dataframe\">\n",
       "  <thead>\n",
       "    <tr style=\"text-align: right;\">\n",
       "      <th></th>\n",
       "      <th>file_name</th>\n",
       "      <th>date</th>\n",
       "      <th>source</th>\n",
       "      <th>country</th>\n",
       "      <th>title</th>\n",
       "      <th>article</th>\n",
       "    </tr>\n",
       "  </thead>\n",
       "  <tbody>\n",
       "    <tr>\n",
       "      <th>0</th>\n",
       "      <td>peoples_daily_2</td>\n",
       "      <td>2020-07-02</td>\n",
       "      <td>People's Daily</td>\n",
       "      <td>China</td>\n",
       "      <td>Hong Kong national security law helps ensure l...</td>\n",
       "      <td>On June 30, the Standing Committee of the 13th...</td>\n",
       "    </tr>\n",
       "  </tbody>\n",
       "</table>\n",
       "</div>"
      ],
      "text/plain": [
       "         file_name        date          source country  \\\n",
       "0  peoples_daily_2  2020-07-02  People's Daily   China   \n",
       "\n",
       "                                               title  \\\n",
       "0  Hong Kong national security law helps ensure l...   \n",
       "\n",
       "                                             article  \n",
       "0  On June 30, the Standing Committee of the 13th...  "
      ]
     },
     "execution_count": 45,
     "metadata": {},
     "output_type": "execute_result"
    }
   ],
   "source": [
    "df_2_peoples_daily.head()"
   ]
  },
  {
   "cell_type": "code",
   "execution_count": null,
   "metadata": {},
   "outputs": [],
   "source": []
  },
  {
   "cell_type": "markdown",
   "metadata": {},
   "source": [
    "**Saving**<a id='2.6_save'></a>"
   ]
  },
  {
   "cell_type": "code",
   "execution_count": 46,
   "metadata": {},
   "outputs": [
    {
     "name": "stdout",
     "output_type": "stream",
     "text": [
      "C:\\Users\\rands\n"
     ]
    }
   ],
   "source": [
    "cd"
   ]
  },
  {
   "cell_type": "markdown",
   "metadata": {},
   "source": [
    "Saving it to Excel."
   ]
  },
  {
   "cell_type": "code",
   "execution_count": 47,
   "metadata": {},
   "outputs": [
    {
     "name": "stdout",
     "output_type": "stream",
     "text": [
      "Complete\n"
     ]
    }
   ],
   "source": [
    "# df = pd.DataFrame(reviewlist)\n",
    "\n",
    "# index=False below so that we don't get the dataframe index on the side; we just use the excel index\n",
    "df_2_peoples_daily.to_csv('./_Capstone_Two_NLP/data/_news/peoples_daily_2.csv', index=False)\n",
    "\n",
    "print('Complete')"
   ]
  },
  {
   "cell_type": "code",
   "execution_count": null,
   "metadata": {},
   "outputs": [],
   "source": []
  },
  {
   "cell_type": "code",
   "execution_count": null,
   "metadata": {},
   "outputs": [],
   "source": []
  },
  {
   "cell_type": "code",
   "execution_count": null,
   "metadata": {},
   "outputs": [],
   "source": []
  },
  {
   "cell_type": "code",
   "execution_count": null,
   "metadata": {},
   "outputs": [],
   "source": []
  }
 ],
 "metadata": {
  "kernelspec": {
   "display_name": "Python 3",
   "language": "python",
   "name": "python3"
  },
  "language_info": {
   "codemirror_mode": {
    "name": "ipython",
    "version": 3
   },
   "file_extension": ".py",
   "mimetype": "text/x-python",
   "name": "python",
   "nbconvert_exporter": "python",
   "pygments_lexer": "ipython3",
   "version": "3.8.5"
  },
  "varInspector": {
   "cols": {
    "lenName": 16,
    "lenType": 16,
    "lenVar": 40
   },
   "kernels_config": {
    "python": {
     "delete_cmd_postfix": "",
     "delete_cmd_prefix": "del ",
     "library": "var_list.py",
     "varRefreshCmd": "print(var_dic_list())"
    },
    "r": {
     "delete_cmd_postfix": ") ",
     "delete_cmd_prefix": "rm(",
     "library": "var_list.r",
     "varRefreshCmd": "cat(var_dic_list()) "
    }
   },
   "types_to_exclude": [
    "module",
    "function",
    "builtin_function_or_method",
    "instance",
    "_Feature"
   ],
   "window_display": false
  }
 },
 "nbformat": 4,
 "nbformat_minor": 4
}
