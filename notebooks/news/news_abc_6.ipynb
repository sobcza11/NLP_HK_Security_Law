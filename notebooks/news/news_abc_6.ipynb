{
 "cells": [
  {
   "cell_type": "markdown",
   "metadata": {},
   "source": [
    "# Scraping What's in Hong Kong's new Law from ABC News"
   ]
  },
  {
   "cell_type": "markdown",
   "metadata": {},
   "source": [
    "## 2.1 Contents<a id='2.1_Contents'></a>\n",
    "* [2.1 Importing Relevant Tools](#2.1_Importing)\n",
    "* [2.2 Defining the Request](#2.2_URL)\n",
    "* [2.3 Grab | Date](#2.4_scrape_date)\n",
    "* [2.4 Grab | Header](#2.4_scrape_header)\n",
    "* [2.5 Grab | Content](#2.4_scrape_content)\n",
    "* [2.6 Clean | Send to DataFrame](#2.5_review)\n",
    "* [2.7 Save](#2.6_save)\n"
   ]
  },
  {
   "cell_type": "markdown",
   "metadata": {},
   "source": [
    "**Importing Relevant Tools**<a id='2.1_Importing'></a>"
   ]
  },
  {
   "cell_type": "code",
   "execution_count": 1,
   "metadata": {},
   "outputs": [],
   "source": [
    "import json\n",
    "import pandas as pd\n",
    "from bs4 import BeautifulSoup as soup\n",
    "import requests\n",
    "import csv\n",
    "import re\n",
    "import pickle\n",
    "\n",
    "%reload_ext watermark"
   ]
  },
  {
   "cell_type": "code",
   "execution_count": 2,
   "metadata": {},
   "outputs": [],
   "source": [
    "#the below needs to be reviewed for all websites; notably the time format\n",
    "\n",
    "from datetime import date\n",
    "from datetime import datetime\n",
    "today = date.today()\n",
    "d = today.strftime(\"%m-%d-%y\")"
   ]
  },
  {
   "cell_type": "markdown",
   "metadata": {},
   "source": [
    "For reference."
   ]
  },
  {
   "cell_type": "code",
   "execution_count": 3,
   "metadata": {},
   "outputs": [
    {
     "name": "stdout",
     "output_type": "stream",
     "text": [
      "Python implementation: CPython\n",
      "Python version       : 3.8.5\n",
      "IPython version      : 7.19.0\n",
      "\n",
      "pandas: 1.1.3\n",
      "\n"
     ]
    }
   ],
   "source": [
    "%watermark -d -t -v -p pandas"
   ]
  },
  {
   "cell_type": "markdown",
   "metadata": {},
   "source": [
    "**Defining the Request**<a id='2.2_URL'></a>"
   ]
  },
  {
   "cell_type": "code",
   "execution_count": 4,
   "metadata": {},
   "outputs": [
    {
     "data": {
      "text/plain": [
       "'https://www.abc.net.au/news/2020-07-01/what-is-in-hong-kongs-new-china-imposed-national-security-law/12409024'"
      ]
     },
     "execution_count": 4,
     "metadata": {},
     "output_type": "execute_result"
    }
   ],
   "source": [
    "url = 'https://www.abc.net.au/news/2020-07-01/what-is-in-hong-kongs-new-china-imposed-national-security-law/12409024'\n",
    "content = requests.get(url).content\n",
    "url"
   ]
  },
  {
   "cell_type": "code",
   "execution_count": 5,
   "metadata": {},
   "outputs": [],
   "source": [
    "soup = soup(content,'html.parser')\n",
    "# bsobj"
   ]
  },
  {
   "cell_type": "markdown",
   "metadata": {},
   "source": [
    "**Grab | Date**<a id='2.4_scrape_date'></a>"
   ]
  },
  {
   "cell_type": "code",
   "execution_count": 7,
   "metadata": {},
   "outputs": [
    {
     "name": "stdout",
     "output_type": "stream",
     "text": [
      "Posted\n",
      "WedWednesday 1 JulJuly 2020 at 5:16am\n",
      "WedWednesday 1 JulJuly 2020 at 5:16am\n"
     ]
    }
   ],
   "source": [
    "for date in soup.find('time',{'class':'_21SmZ _3_Aqg _1hGzz _1-RZJ P8HGV'}):\n",
    "    print(date.text.strip())"
   ]
  },
  {
   "cell_type": "code",
   "execution_count": 8,
   "metadata": {},
   "outputs": [
    {
     "data": {
      "text/plain": [
       "<span class=\"_3I9MJ\" hidden=\"\"><span data-component=\"Abbreviation\"><abbr aria-hidden=\"true\" class=\"_2t5cr\" title=\"Wednesday\">Wed</abbr><span class=\"_1gVuJ\" data-component=\"ScreenReaderOnly\">Wednesday</span></span> <!-- -->1<!-- --> <span data-component=\"Abbreviation\"><abbr aria-hidden=\"true\" class=\"_2t5cr\" title=\"July\">Jul</abbr><span class=\"_1gVuJ\" data-component=\"ScreenReaderOnly\">July</span></span> <!-- -->2020<!-- --> at <!-- -->5:16am</span>"
      ]
     },
     "execution_count": 8,
     "metadata": {},
     "output_type": "execute_result"
    }
   ],
   "source": [
    "date"
   ]
  },
  {
   "cell_type": "markdown",
   "metadata": {},
   "source": [
    "The date is in there but needs to be cleaned."
   ]
  },
  {
   "cell_type": "markdown",
   "metadata": {},
   "source": [
    "**Grab | Header**<a id='2.4_scrape_header'></a>"
   ]
  },
  {
   "cell_type": "code",
   "execution_count": 9,
   "metadata": {},
   "outputs": [
    {
     "name": "stdout",
     "output_type": "stream",
     "text": [
      "What's in Hong Kong's new national security law imposed by China, and why is it so controversial?\n"
     ]
    }
   ],
   "source": [
    "for title in soup.findAll('h1'):\n",
    "    print(title.text.strip())"
   ]
  },
  {
   "cell_type": "code",
   "execution_count": 10,
   "metadata": {},
   "outputs": [
    {
     "data": {
      "text/plain": [
       "<h1 class=\"_2aMR4 Yui2m _2sflh jwLlj _1Yxlo _1GKnS _2o9MN _1-RZJ\" data-component=\"Heading\">What's in Hong Kong's new national security law imposed by China, and why is it so controversial?</h1>"
      ]
     },
     "execution_count": 10,
     "metadata": {},
     "output_type": "execute_result"
    }
   ],
   "source": [
    "title"
   ]
  },
  {
   "cell_type": "code",
   "execution_count": 11,
   "metadata": {},
   "outputs": [],
   "source": [
    "TAG_RE = re.compile(r'<[^>]+>')"
   ]
  },
  {
   "cell_type": "code",
   "execution_count": 12,
   "metadata": {},
   "outputs": [],
   "source": [
    "def remove_tags(text):\n",
    "    return TAG_RE.sub('', text)"
   ]
  },
  {
   "cell_type": "code",
   "execution_count": 13,
   "metadata": {},
   "outputs": [
    {
     "data": {
      "text/plain": [
       "\"What's in Hong Kong's new national security law imposed by China, and why is it so controversial?\""
      ]
     },
     "execution_count": 13,
     "metadata": {},
     "output_type": "execute_result"
    }
   ],
   "source": [
    "remove_tags(str(title))"
   ]
  },
  {
   "cell_type": "markdown",
   "metadata": {},
   "source": [
    "Confirmed that's the title; a little longer of a journey to get it."
   ]
  },
  {
   "cell_type": "markdown",
   "metadata": {},
   "source": [
    "**Grab | Content**<a id='2.4_scrape_content'></a>"
   ]
  },
  {
   "cell_type": "code",
   "execution_count": 14,
   "metadata": {},
   "outputs": [
    {
     "name": "stdout",
     "output_type": "stream",
     "text": [
      "The full details of the controversial national security law thrust upon Hong Kong by Beijing have been released, and it goes much further than had previously been predicted.Key points:Life sentences are possible for serious anti-state crimesThe law covers many of the activities of Hong Kong's protest movementAustralia is among around two-dozen countries criticising the lawWhile there has been growing concern both in Hong Kong and around the world about the changes, the details of the legislation were only made public after it came into effect at 11:00pm yesterday, hours after Beijing passed it into law by decree.We now know the laws will punish crimes of secession, subversion, terrorism and collusion with foreign forces with up to life in prison.Even asking foreign countries to sanction or take any form of action against Hong Kong or China could be considered as collusion with foreign forces under the law.Hong Kong police said they arrested a man holding a flag advocating for independence, the first arrest under the new laws.Pictures posted by police on Twitter showed the flag lying on the sidewalk in front of a man wearing a black T-shirt with \"Free Hong Kong\" written on it.The law marks a new era for Hong Kong, and critics say it has effectively killed off the former British colony's autonomy from mainland China.Here's what you need to know.What's in the new law? Courts in mainland China will have the power to hear some national security cases from Hong Kong.(AP: Vincent Yu)Early assessments of the law suggest some elements are stronger than many feared, both in scope and penalties.The crimes of secession, subversion of state power, terrorism and colluding with foreign countries and external elements — such as foreign institutions, organisations and personnel — could result in penalties of up to life in prison.Hong Kong protests explainedThe complicated conflict broken down in simple terms to help you get a handle on what's going on Read moreThis has stunned some legal scholars, who say even peaceful actions such as the pro-democracy Occupy protests of 2014 could now bring 10 years' jail if foreign links could be proven.It also provides for more active state management and oversight of foreign groups, organisations and media based in Hong Kong, which has for decades been China's freest and most international city.It demands disqualification for elected politicians who breach the law, a move certain to rile democracy activists in the run-up to crucial elections for Hong Kong's Legislative Council in September. Molotov cocktails were used by some violent protesters. Arson is now listed as a terror offence.(Reuters: Athit Perawongmetha)And while the laws will not be applied retroactively against crimes committed before it was implemented, some of the actions of those who took part in the violent protests that have rocked Hong Kong over the past 12 months may now constitute terror offences.Terror offences:Severe violence against peopleExplosions, arson or the release of pathogens, poisons and other substancesDestruction of vehicles, public transport, power and gas equipment, or other flammable and explosive equipmentSeverely disrupting and destroying electronic control systems for public services like water, power, transportation and communicationsUsing other dangerous methods to seriously endanger public health of safetyDamaging public transport would be considered a terror offence, and damaging government buildings would also be a serious offence.One major concern is that the legislation allows mainland Chinese security and intelligence agents to operate in Hong Kong on an official basis, and gives them powers that go beyond local laws.These agents will be allowed to carry out surveillance of people suspected of endangering national security, including through the use of wiretaps, and cannot be detained or inspected by local authorities while carrying out their duties.The intelligence agents will have a new base in the city at a mainland security commission, while Hong Kong's Government will also have its own commission, backed by a special police unit.Up until now, Hong Kong has boasted a proudly independent judiciary and a separate, common-law-based legal system — but that will also face unprecedented pressure under the new law.The national security law allows Hong Kong's chief executive to appoint judges for national security cases, and lets mainland courts hear serious and complex Hong Kong cases in certain situations. Protesters stormed Hong Kong's legislature last year during the protests: such actions would now fall under the national security law.(AP: Kin Cheung)These include cases allegedly involving collusion with foreign forces, but it's still not known how suspects will be taken to the mainland, given Hong Kong has no formal extradition arrangements with Beijing.There is also a provision allowing for trials to take place secretly, barring public and media access to proceedings, if the case involves \"state secrets or public order\". However judgements must be publicised.Media organisations that publish articles or images about things judged to be terror offences could be prosecuted under a section that bans promoting or inciting terrorist activities.What has the local reaction been? Carrie Lam, Hong Kong's pro-Beijing chief executive, is a supporter of the law.(Reuters: Tyrone Siu)Hong Kong Chief Executive Carrie Lam says mainland national security laws are long overdue for the territory.But many in the city are waiting to see if action will be swift or whether authorities will wait to test their new institutions and cautiously build cases.Some high-profile democracy and independence activists have said they expected to become the first to be detained under the new regime, and as a result chose to disband their groups.LoadingWithin two hours of the law being announced, the Government revealed special local police and justice department prosecution units had already been formed to enforce the law.Fear has been building in some political, activist, academic, religious and business circles and some predict that, beyond high-profile cases, the law will chill the openness that they have taken for granted. Some say privately they are questioning whether they should leave Hong Kong.\"The punitive elements of the law are stupefying,\" Simon Young, a law professor at the University of Hong Kong's law school, and a barrister, told Reuters.\"Let us hope no-one tries to test this law, for the consequences to the individual and the legal system will be irreparable.\"What has the international community said? Calling for the international community to take action could now be considered a form of \"collusion\".(AP: Vincent Yu)Australia has joined more than 20 other countries in expressing deep concern about the new national security law for Hong Kong.Foreign Minister Marise Payne said the Federal Government was troubled that the laws were passed without any input from the people of Hong Kong, or the city's legislature and judiciary.Senator Payne said the eyes of the world were on Hong Kong, and that the legislation undermined the \"one country, two systems\" model adopted when the UK handed back control of the city to Beijing.Hong Kong's countdown to 2047Hong Kong was handed back to China with no framework for what would happen after the year 2047, leaving the city to carve an identity out of two ideologically opposed empires.Read moreUK Foreign Secretary Dominic Raab said it violated the agreement between Britain and Hong Kong, which was finalised on this day in 1997.Hong Kong's former colonial power joined the European Union, Japan and the US in condemning the law, and calling on Beijing to preserve the right to assembly and free press.\"The United States will not stand idly by while China swallows Hong Kong into its authoritarian maw,\" US Secretary of State Mike Pompeo said in a statement.He said the United States would stand with the people of Hong Kong and \"respond to Beijing's attacks on freedoms of speech, the press, and assembly, as well as the rule of law\".Washington began eliminating Hong Kong's special status under US law this week, halting defence exports and restricting technology access.What has Beijing had to say? China denies that the law goes against the agreement it struck with Britain in 1997.(AP: Kin Cheung)China has rejected criticism of the law and says it will retaliate against the US over its punitive actions.Asked about criticism that the law undermined the \"one country, two systems\" model, Chinese Foreign Ministry spokesman Zhao Lijian hit out against what he said was \"foreign interference\" in China's business.China's explosive new national security lawFor two decades, Beijing has been frustrated by opposition to security laws in Hong Kong. But Xi Jinping is now convinced winning local support is futile, writes Bill Birtles.Read more\"Hong Kong affairs are entirely China's internal affairs that allow no foreign interference,\" he said.\"Establishing and improving a legal framework and enforcement mechanisms for safeguarding national security in Hong Kong is in itself an embodiment of one country, two systems.\"It is to ensure the steady implementation of this principle as well as the prosperity and stability of Hong Kong, which has been endorsed by all Chinese people, including our compatriots in Hong Kong, and most countries in the world.\"Both Hong Kong and Chinese central government officials have said the law is vital to plug gaping holes in Hong Kong's national security defences — deficiencies exposed in the months of sometimes-violent protests that rocked the city in the past year.Hong Kong and Chinese officials have repeatedly said only a tiny number of people will be targeted by the new laws and that the rights and freedoms of ordinary people will not be affected.ABC/WiresPosted  1 JulJuly 2020WedWednesday 1 JulJuly 2020 at 5:16am, updated 1 JulJuly 2020WedWednesday 1 JulJuly 2020 at 4:06pmShareCopy linkFacebookTwitterArticle share optionsShare this onFacebookTwitterLinkedInSend this byEmailMessengerCopy linkWhatsAppRelated StoriesThe handover was a historic moment, but some Hongkongers in Australia say it sold out their futureChina reveals new national security law for Hong Kong to stop 'terrorism' amid international condemnationHere's what you need to know about the controversial laws Beijing is passing on Hong KongMore on:Hong KongChinaAsiaWorld PoliticsPolitics and GovernmentTerrorismDemonstrationLaw, Crime and JusticeForeign AffairsActivism and Lobbying\n"
     ]
    }
   ],
   "source": [
    "for bodies in soup.find_all('div',{'class','_3b5Y5 _1BraJ'}):\n",
    "    print(bodies.text.strip())"
   ]
  },
  {
   "cell_type": "code",
   "execution_count": 37,
   "metadata": {},
   "outputs": [
    {
     "data": {
      "text/plain": [
       "90"
      ]
     },
     "execution_count": 37,
     "metadata": {},
     "output_type": "execute_result"
    }
   ],
   "source": [
    "len(bodies)"
   ]
  },
  {
   "cell_type": "markdown",
   "metadata": {},
   "source": [
    "Needs internal work."
   ]
  },
  {
   "cell_type": "markdown",
   "metadata": {},
   "source": [
    "**Clean | Send to DataFrame**<a id='2.5_review'></a>"
   ]
  },
  {
   "cell_type": "markdown",
   "metadata": {},
   "source": [
    "First the date from string to a datetime object."
   ]
  },
  {
   "cell_type": "code",
   "execution_count": 15,
   "metadata": {},
   "outputs": [],
   "source": [
    "for date in soup.find('time',{'class':'_21SmZ _3_Aqg _1hGzz _1-RZJ P8HGV'}):\n",
    "    date.text.strip()"
   ]
  },
  {
   "cell_type": "code",
   "execution_count": 16,
   "metadata": {},
   "outputs": [
    {
     "data": {
      "text/plain": [
       "<span class=\"_3I9MJ\" hidden=\"\"><span data-component=\"Abbreviation\"><abbr aria-hidden=\"true\" class=\"_2t5cr\" title=\"Wednesday\">Wed</abbr><span class=\"_1gVuJ\" data-component=\"ScreenReaderOnly\">Wednesday</span></span> <!-- -->1<!-- --> <span data-component=\"Abbreviation\"><abbr aria-hidden=\"true\" class=\"_2t5cr\" title=\"July\">Jul</abbr><span class=\"_1gVuJ\" data-component=\"ScreenReaderOnly\">July</span></span> <!-- -->2020<!-- --> at <!-- -->5:16am</span>"
      ]
     },
     "execution_count": 16,
     "metadata": {},
     "output_type": "execute_result"
    }
   ],
   "source": [
    "date"
   ]
  },
  {
   "cell_type": "code",
   "execution_count": 17,
   "metadata": {},
   "outputs": [
    {
     "data": {
      "text/plain": [
       "'WedWednesday 1 JulJuly 2020 at 5:16am'"
      ]
     },
     "execution_count": 17,
     "metadata": {},
     "output_type": "execute_result"
    }
   ],
   "source": [
    "date = remove_tags(str(date))\n",
    "date"
   ]
  },
  {
   "cell_type": "code",
   "execution_count": 20,
   "metadata": {},
   "outputs": [
    {
     "data": {
      "text/plain": [
       "datetime.date(2020, 7, 1)"
      ]
     },
     "execution_count": 20,
     "metadata": {},
     "output_type": "execute_result"
    }
   ],
   "source": [
    "day_pub = re.sub('JulJuly','07',date)\n",
    "day_pub = re.sub('WedWednesday ','',day_pub)\n",
    "day_pub = re.sub(' at 5:16am','',day_pub)\n",
    "day_pub = re.sub(' ','-',day_pub)\n",
    "day_pub = datetime.strptime(day_pub, '%d-%m-%Y').date()\n",
    "day_pub"
   ]
  },
  {
   "cell_type": "code",
   "execution_count": 21,
   "metadata": {},
   "outputs": [],
   "source": [
    "df_date = pd.DataFrame([day_pub])"
   ]
  },
  {
   "cell_type": "code",
   "execution_count": 22,
   "metadata": {},
   "outputs": [
    {
     "data": {
      "text/plain": [
       "pandas.core.frame.DataFrame"
      ]
     },
     "execution_count": 22,
     "metadata": {},
     "output_type": "execute_result"
    }
   ],
   "source": [
    "type(df_date)"
   ]
  },
  {
   "cell_type": "code",
   "execution_count": 23,
   "metadata": {},
   "outputs": [
    {
     "data": {
      "text/html": [
       "<div>\n",
       "<style scoped>\n",
       "    .dataframe tbody tr th:only-of-type {\n",
       "        vertical-align: middle;\n",
       "    }\n",
       "\n",
       "    .dataframe tbody tr th {\n",
       "        vertical-align: top;\n",
       "    }\n",
       "\n",
       "    .dataframe thead th {\n",
       "        text-align: right;\n",
       "    }\n",
       "</style>\n",
       "<table border=\"1\" class=\"dataframe\">\n",
       "  <thead>\n",
       "    <tr style=\"text-align: right;\">\n",
       "      <th></th>\n",
       "      <th>0</th>\n",
       "    </tr>\n",
       "  </thead>\n",
       "  <tbody>\n",
       "    <tr>\n",
       "      <th>0</th>\n",
       "      <td>2020-07-01</td>\n",
       "    </tr>\n",
       "  </tbody>\n",
       "</table>\n",
       "</div>"
      ],
      "text/plain": [
       "            0\n",
       "0  2020-07-01"
      ]
     },
     "execution_count": 23,
     "metadata": {},
     "output_type": "execute_result"
    }
   ],
   "source": [
    "df_date"
   ]
  },
  {
   "cell_type": "markdown",
   "metadata": {},
   "source": [
    "Now the title."
   ]
  },
  {
   "cell_type": "code",
   "execution_count": 24,
   "metadata": {},
   "outputs": [
    {
     "name": "stdout",
     "output_type": "stream",
     "text": [
      "What's in Hong Kong's new national security law imposed by China, and why is it so controversial?\n"
     ]
    }
   ],
   "source": [
    "for title in soup.findAll('h1'):\n",
    "    print(title.text.strip())"
   ]
  },
  {
   "cell_type": "code",
   "execution_count": 25,
   "metadata": {},
   "outputs": [
    {
     "data": {
      "text/plain": [
       "<h1 class=\"_2aMR4 Yui2m _2sflh jwLlj _1Yxlo _1GKnS _2o9MN _1-RZJ\" data-component=\"Heading\">What's in Hong Kong's new national security law imposed by China, and why is it so controversial?</h1>"
      ]
     },
     "execution_count": 25,
     "metadata": {},
     "output_type": "execute_result"
    }
   ],
   "source": [
    "title"
   ]
  },
  {
   "cell_type": "code",
   "execution_count": 26,
   "metadata": {},
   "outputs": [],
   "source": [
    "title = remove_tags(str(title))"
   ]
  },
  {
   "cell_type": "code",
   "execution_count": 27,
   "metadata": {},
   "outputs": [
    {
     "data": {
      "text/plain": [
       "\"What's in Hong Kong's new national security law imposed by China, and why is it so controversial?\""
      ]
     },
     "execution_count": 27,
     "metadata": {},
     "output_type": "execute_result"
    }
   ],
   "source": [
    "title"
   ]
  },
  {
   "cell_type": "code",
   "execution_count": 28,
   "metadata": {},
   "outputs": [],
   "source": [
    "df_title = pd.DataFrame([title])"
   ]
  },
  {
   "cell_type": "code",
   "execution_count": 29,
   "metadata": {},
   "outputs": [
    {
     "data": {
      "text/html": [
       "<div>\n",
       "<style scoped>\n",
       "    .dataframe tbody tr th:only-of-type {\n",
       "        vertical-align: middle;\n",
       "    }\n",
       "\n",
       "    .dataframe tbody tr th {\n",
       "        vertical-align: top;\n",
       "    }\n",
       "\n",
       "    .dataframe thead th {\n",
       "        text-align: right;\n",
       "    }\n",
       "</style>\n",
       "<table border=\"1\" class=\"dataframe\">\n",
       "  <thead>\n",
       "    <tr style=\"text-align: right;\">\n",
       "      <th></th>\n",
       "      <th>0</th>\n",
       "    </tr>\n",
       "  </thead>\n",
       "  <tbody>\n",
       "    <tr>\n",
       "      <th>0</th>\n",
       "      <td>What's in Hong Kong's new national security la...</td>\n",
       "    </tr>\n",
       "  </tbody>\n",
       "</table>\n",
       "</div>"
      ],
      "text/plain": [
       "                                                   0\n",
       "0  What's in Hong Kong's new national security la..."
      ]
     },
     "execution_count": 29,
     "metadata": {},
     "output_type": "execute_result"
    }
   ],
   "source": [
    "df_title"
   ]
  },
  {
   "cell_type": "code",
   "execution_count": 30,
   "metadata": {},
   "outputs": [
    {
     "data": {
      "text/plain": [
       "pandas.core.frame.DataFrame"
      ]
     },
     "execution_count": 30,
     "metadata": {},
     "output_type": "execute_result"
    }
   ],
   "source": [
    "type(df_title)"
   ]
  },
  {
   "cell_type": "markdown",
   "metadata": {},
   "source": [
    "These items are manually added."
   ]
  },
  {
   "cell_type": "code",
   "execution_count": 31,
   "metadata": {},
   "outputs": [],
   "source": [
    "country = 'US'\n",
    "df_country = pd.DataFrame([country])\n",
    "source = 'ABC News'\n",
    "df_source = pd.DataFrame([source])\n",
    "file_name = 'abc_6'\n",
    "df_file_name = pd.DataFrame([file_name])\n"
   ]
  },
  {
   "cell_type": "markdown",
   "metadata": {},
   "source": [
    "Finally, the news."
   ]
  },
  {
   "cell_type": "code",
   "execution_count": 49,
   "metadata": {},
   "outputs": [],
   "source": [
    "for bodies in soup.find_all('div',{'class','_3b5Y5 _1BraJ'}):\n",
    "    bodies.text.strip()"
   ]
  },
  {
   "cell_type": "code",
   "execution_count": 50,
   "metadata": {},
   "outputs": [
    {
     "data": {
      "text/plain": [
       "<div class=\"_3b5Y5 _1BraJ\" data-component=\"LayoutContainer\"><div><p class=\"_1HzXw\">The full details of the controversial national security law thrust upon Hong Kong by Beijing have been released, and it goes much further than had previously been predicted.</p><section aria-label=\"key points\" class=\"vB11C _1tnlo _1w6Cw _1pc-9 _2EbnQ\" data-component=\"KeyPoints\" data-uri=\"coremedia://teaser/12410876\" role=\"contentinfo\"><h2 class=\"_3mduI _2gTdF _1deB8 jwLlj _1O6ck _1GKnS _2o9MN _1-RZJ\" data-component=\"Heading\">Key points:</h2><ul class=\"W8pqX\" data-component=\"List\" role=\"list\"><li class=\"\" data-component=\"ListItem\"><span class=\"XoNws _1Hwjq\"></span>Life sentences are possible for serious anti-state crimes</li><li class=\"\" data-component=\"ListItem\"><span class=\"XoNws _1Hwjq\"></span>The law covers many of the activities of Hong Kong's protest movement</li><li class=\"\" data-component=\"ListItem\"><span class=\"XoNws _1Hwjq\"></span>Australia is among around two-dozen countries criticising the law</li></ul></section><p class=\"_1HzXw\">While there has been growing concern both in Hong Kong and around the world about the changes, the details of the legislation were only made public after it came into effect at 11:00pm yesterday, <a class=\"_2f8qj FQVx7 _2tPjN _1QHxY\" data-component=\"ContentLink\" data-uri=\"coremedia://article/12406178\" href=\"https://www.abc.net.au/news/2020-06-30/china-passes-new-national-security-law-for-hong-kong/12406178\">hours after Beijing passed it into law by decree</a>.</p><p class=\"_1HzXw\">We now know the laws will punish crimes of secession, subversion, terrorism and collusion with foreign forces with up to life in prison.</p><p class=\"_1HzXw\">Even asking foreign countries to sanction or take any form of action against Hong Kong or China could be considered as collusion with foreign forces under the law.</p><p class=\"_1HzXw\">Hong Kong police said they arrested a man holding a flag advocating for independence, the first arrest under the new laws.</p><p class=\"_1HzXw\">Pictures posted by police on Twitter showed the flag lying on the sidewalk in front of a man wearing a black T-shirt with \"Free Hong Kong\" written on it.</p><p class=\"_1HzXw\">The law marks a new era for Hong Kong, and critics say it has effectively killed off the former British colony's autonomy from mainland China.</p><p class=\"_1HzXw\">Here's what you need to know.</p><h2 class=\"NVRkN _38pgX _1deB8 jwLlj hsTMN _1GKnS _2o9MN _1-RZJ\" data-component=\"Heading\">What's in the new law?</h2><figure aria-labelledby=\"dls-id-528141\" class=\"_2w-Eq _1w6Cw _1pc-9 _357jP\" data-component=\"Figure\" data-print=\"inline-media\" data-uri=\"coremedia://imageproxy/12409750\" id=\"12409750\" role=\"group\" title=\"People run from tear gas in Hong Kong\"><div class=\"_3L4rN\" data-component=\"IntersectionObserver\"><div class=\"lt7xz\" data-component=\"AspectRatioContainer\" style=\"padding-bottom:66.66666666666666%\"><img alt=\"On a street in Hong Kong people duck and run as a cloud of tear gas emerges in the background.\" class=\"_1MKdo _3lrlT\" data-component=\"Image\" data-nojs=\"true\" data-sizes=\"100vw\" data-src=\"https://live-production.wcms.abc-cdn.net.au/2dce42c3b0aec741ae07a0ea1329e68f?impolicy=wcms_crop_resize&amp;cropH=1954&amp;cropW=2940&amp;xPos=25&amp;yPos=0&amp;width=862&amp;height=575\" src=\"data:image/gif;base64,R0lGODlhAQABAIAAAAAAAP///yH5BAEAAAAALAAAAAABAAEAAAIBRAA7\"/><noscript><img alt=\"On a street in Hong Kong people duck and run as a cloud of tear gas emerges in the background.\" class=\"_1MKdo _3lrlT\" data-component=\"Image\" sizes=\"100vw\" src=\"https://live-production.wcms.abc-cdn.net.au/2dce42c3b0aec741ae07a0ea1329e68f?impolicy=wcms_crop_resize&amp;cropH=1954&amp;cropW=2940&amp;xPos=25&amp;yPos=0&amp;width=862&amp;height=575\"/></noscript></div></div><figcaption class=\"_21SmZ _3_Aqg _1hGzz _1-RZJ P8HGV _2FwWh\" data-component=\"Figure__figcaption\" id=\"dls-id-528141\"> <!-- -->Courts in mainland China will have the power to hear some national security cases from Hong Kong.<cite class=\"_21SmZ _3_Aqg _1hGzz _1-RZJ P8HGV _16dJg\" data-component=\"Figure__cite\">(<span class=\"_21SmZ _1deB8 _1hGzz _1-RZJ P8HGV _16znc\" data-component=\"Byline\"><span class=\"_21SmZ _3_Aqg _1hGzz _1-RZJ P8HGV\" data-component=\"Text\"><p>AP: Vincent Yu</p></span></span>)</cite></figcaption></figure><p class=\"_1HzXw\">Early assessments of the law suggest some elements are stronger than many feared, both in scope and penalties.</p><p class=\"_1HzXw\">The crimes of secession, subversion of state power, terrorism and colluding with foreign countries and external elements — such as foreign institutions, organisations and personnel<strong> —</strong> could result in penalties of up to life in prison.</p><aside class=\"_1w6Cw _1pc-9 _2EbnQ _1csae\" data-component=\"RelatedCard\" data-uri=\"coremedia://teaser/11984298\"><a class=\"Gztzl _2f8qj FQVx7 _2tPjN _3OwCD\" data-component=\"MediaObject\" href=\"https://www.abc.net.au/news/2019-11-29/hong-kong-protests-visual-explainer/11746402\"><div class=\"_3qxcw _18sRx QVleH\"><h3 class=\"_3mduI _2gTdF _1deB8 jwLlj _1O6ck _1GKnS _2o9MN _1-RZJ _2DTSp _33i3Y\" data-component=\"Heading\"><span>Hong Kong protests explained</span></h3><div class=\"ivd9v\"><div class=\"_3L4rN\" data-component=\"IntersectionObserver\"><div class=\"lt7xz\" data-component=\"AspectRatioContainer\" style=\"padding-bottom:56.25%\"><img alt=\"A shadowed man crouches near fire\" class=\"_1MKdo _3lrlT _2eqW0\" data-component=\"Image\" data-nojs=\"true\" data-src=\"https://live-production.wcms.abc-cdn.net.au/97046865912a31a22f85fa12c9748f6a?src\" src=\"data:image/gif;base64,R0lGODlhAQABAIAAAAAAAP///yH5BAEAAAAALAAAAAABAAEAAAIBRAA7\"/><noscript><img alt=\"A shadowed man crouches near fire\" class=\"_1MKdo _3lrlT _2eqW0\" data-component=\"Image\" src=\"https://live-production.wcms.abc-cdn.net.au/97046865912a31a22f85fa12c9748f6a?src\"/></noscript></div></div><p class=\"_21SmZ _1deB8 _2Nyle _1-RZJ _3SRLZ\" data-component=\"Typography\">The complicated conflict broken down in simple terms to help you get a handle on what's going on </p><span class=\"_1nkhp\"><span class=\"_3P1Sq _1deB8 _2Nyle _1-RZJ\" data-component=\"Typography\">Read more</span><svg aria-hidden=\"true\" class=\"_2iH5w _3VR-y kv9_s\" data-component=\"ArrowRight\" fill=\"none\" height=\"1em\" viewbox=\"0 0 24 24\" width=\"1em\" xmlns=\"http://www.w3.org/2000/svg\"><path d=\"m13 19 7-7-7-7\" stroke=\"currentColor\" stroke-width=\"2\"></path><path d=\"M20 12H3\" stroke=\"currentColor\" stroke-width=\"2\"></path></svg></span></div></div></a></aside><p class=\"_1HzXw\">This has stunned some legal scholars, who say even peaceful actions such as the <a class=\"_2f8qj FQVx7 _2tPjN _1QHxY\" data-component=\"ContentLink\" data-uri=\"coremedia://article/6802388\" href=\"https://www.abc.net.au/news/2015-09-28/timeline-hong-kong-umbrella-movement-one-year-on/6802388\">pro-democracy Occupy protests of 2014</a> could now bring 10 years' jail if foreign links could be proven.</p><p class=\"_1HzXw\">It also provides for more active state management and oversight of foreign groups, organisations and media based in Hong Kong, which has for decades been China's freest and most international city.</p><p class=\"_1HzXw\">It demands disqualification for elected politicians who breach the law, a move certain to rile democracy activists in the run-up to crucial elections for Hong Kong's Legislative Council in September.</p><figure aria-labelledby=\"dls-id-528142\" class=\"_2w-Eq _1w6Cw _1pc-9 _357jP\" data-component=\"Figure\" data-print=\"inline-media\" data-uri=\"coremedia://imageproxy/12409766\" id=\"12409766\" role=\"group\" title=\"A police vehicle catches fire after being hit with molotov cocktails in Hong Kong\"><div class=\"_3L4rN\" data-component=\"IntersectionObserver\"><div class=\"lt7xz\" data-component=\"AspectRatioContainer\" style=\"padding-bottom:66.66666666666666%\"><img alt=\"A look at a black police riot vehicle close-up with it being completely engulfed in flames.\" class=\"_1MKdo _3lrlT\" data-component=\"Image\" data-nojs=\"true\" data-sizes=\"100vw\" data-src=\"https://live-production.wcms.abc-cdn.net.au/0e4fa981cbff5b0c997e4bdd8bf59c03?impolicy=wcms_crop_resize&amp;cropH=1843&amp;cropW=2762&amp;xPos=119&amp;yPos=0&amp;width=862&amp;height=575\" src=\"data:image/gif;base64,R0lGODlhAQABAIAAAAAAAP///yH5BAEAAAAALAAAAAABAAEAAAIBRAA7\"/><noscript><img alt=\"A look at a black police riot vehicle close-up with it being completely engulfed in flames.\" class=\"_1MKdo _3lrlT\" data-component=\"Image\" sizes=\"100vw\" src=\"https://live-production.wcms.abc-cdn.net.au/0e4fa981cbff5b0c997e4bdd8bf59c03?impolicy=wcms_crop_resize&amp;cropH=1843&amp;cropW=2762&amp;xPos=119&amp;yPos=0&amp;width=862&amp;height=575\"/></noscript></div></div><figcaption class=\"_21SmZ _3_Aqg _1hGzz _1-RZJ P8HGV _2FwWh\" data-component=\"Figure__figcaption\" id=\"dls-id-528142\"> <!-- -->Molotov cocktails were used by some violent protesters. Arson is now listed as a terror offence.<cite class=\"_21SmZ _3_Aqg _1hGzz _1-RZJ P8HGV _16dJg\" data-component=\"Figure__cite\">(<span class=\"_21SmZ _1deB8 _1hGzz _1-RZJ P8HGV _16znc\" data-component=\"Byline\"><span class=\"_21SmZ _3_Aqg _1hGzz _1-RZJ P8HGV\" data-component=\"Text\"><p>Reuters: Athit Perawongmetha</p></span></span>)</cite></figcaption></figure><p class=\"_1HzXw\">And while the laws will not be applied retroactively against crimes committed before it was implemented, some of the actions of those who took part in the violent protests that have rocked Hong Kong over the past 12 months may now constitute terror offences.</p><aside class=\"_1w6Cw _1pc-9 _2EbnQ _3Jwam\" data-component=\"LegacyWysiwyg\" data-print=\"inline-media\" data-uri=\"coremedia://teaser/12409420\" title=\"Terror crimes\"><h2 class=\"_3mduI _2gTdF _1deB8 jwLlj _1O6ck _1GKnS _2o9MN _1-RZJ\" data-component=\"Heading\">Terror offences:</h2><ul class=\"_1w6Cw _1OfOB W8pqX\" data-component=\"List\" role=\"list\"><li class=\"\" data-component=\"ListItem\"><span class=\"XoNws _1Hwjq\"></span>Severe violence against people</li><li class=\"\" data-component=\"ListItem\"><span class=\"XoNws _1Hwjq\"></span>Explosions, arson or the release of pathogens, poisons and other substances</li><li class=\"\" data-component=\"ListItem\"><span class=\"XoNws _1Hwjq\"></span>Destruction of vehicles, public transport, power and gas equipment, or other flammable and explosive equipment</li><li class=\"\" data-component=\"ListItem\"><span class=\"XoNws _1Hwjq\"></span>Severely disrupting and destroying electronic control systems for public services like water, power, transportation and communications</li><li class=\"\" data-component=\"ListItem\"><span class=\"XoNws _1Hwjq\"></span>Using other dangerous methods to seriously endanger public health of safety</li></ul></aside><p class=\"_1HzXw\">Damaging public transport would be considered a terror offence, and damaging government buildings would also be a serious offence.</p><p class=\"_1HzXw\">One major concern is that the legislation allows mainland Chinese security and intelligence agents to operate in Hong Kong on an official basis, and gives them powers that go beyond local laws.</p><p class=\"_1HzXw\">These agents will be allowed to carry out surveillance of people suspected of endangering national security, including through the use of wiretaps, and cannot be detained or inspected by local authorities while carrying out their duties.</p><p class=\"_1HzXw\">The intelligence agents will have a new base in the city at a mainland security commission, while Hong Kong's Government will also have its own commission, backed by a special police unit.</p><p class=\"_1HzXw\">Up until now, Hong Kong has boasted a proudly independent judiciary and a separate, common-law-based legal system — but that will also face unprecedented pressure under the new law.</p><p class=\"_1HzXw\">The national security law allows Hong Kong's chief executive to appoint judges for national security cases, and lets mainland courts hear serious and complex Hong Kong cases in certain situations.</p><figure aria-labelledby=\"dls-id-528143\" class=\"_2w-Eq _1w6Cw _1pc-9 _357jP\" data-component=\"Figure\" data-print=\"inline-media\" data-uri=\"coremedia://imageproxy/12409804\" id=\"12409804\" role=\"group\" title=\"Protester inside the Legislative Council\"><div class=\"_3L4rN\" data-component=\"IntersectionObserver\"><div class=\"lt7xz\" data-component=\"AspectRatioContainer\" style=\"padding-bottom:66.66666666666666%\"><img alt='A protester shouts next to a defaced Hong Kong emblem and a banner which reads \"No thug, only tyranny\".' class=\"_1MKdo _3lrlT\" data-component=\"Image\" data-nojs=\"true\" data-sizes=\"100vw\" data-src=\"https://live-production.wcms.abc-cdn.net.au/557386d53da4d6b41f72a19215e2f7e2?impolicy=wcms_crop_resize&amp;cropH=2000&amp;cropW=2997&amp;xPos=1&amp;yPos=0&amp;width=862&amp;height=575\" src=\"data:image/gif;base64,R0lGODlhAQABAIAAAAAAAP///yH5BAEAAAAALAAAAAABAAEAAAIBRAA7\"/><noscript><img alt='A protester shouts next to a defaced Hong Kong emblem and a banner which reads \"No thug, only tyranny\".' class=\"_1MKdo _3lrlT\" data-component=\"Image\" sizes=\"100vw\" src=\"https://live-production.wcms.abc-cdn.net.au/557386d53da4d6b41f72a19215e2f7e2?impolicy=wcms_crop_resize&amp;cropH=2000&amp;cropW=2997&amp;xPos=1&amp;yPos=0&amp;width=862&amp;height=575\"/></noscript></div></div><figcaption class=\"_21SmZ _3_Aqg _1hGzz _1-RZJ P8HGV _2FwWh\" data-component=\"Figure__figcaption\" id=\"dls-id-528143\"> <!-- -->Protesters stormed Hong Kong's legislature last year during the protests: such actions would now fall under the national security law.<cite class=\"_21SmZ _3_Aqg _1hGzz _1-RZJ P8HGV _16dJg\" data-component=\"Figure__cite\">(<span class=\"_21SmZ _1deB8 _1hGzz _1-RZJ P8HGV _16znc\" data-component=\"Byline\"><span class=\"_21SmZ _3_Aqg _1hGzz _1-RZJ P8HGV\" data-component=\"Text\"><p>AP: Kin Cheung</p></span></span>)</cite></figcaption></figure><p class=\"_1HzXw\">These include cases allegedly involving collusion with foreign forces, but it's still not known how suspects will be taken to the mainland, given Hong Kong has no formal extradition arrangements with Beijing.</p><p class=\"_1HzXw\">There is also a provision allowing for trials to take place secretly, barring public and media access to proceedings, if the case involves \"state secrets or public order\". However judgements must be publicised.</p><p class=\"_1HzXw\">Media organisations that publish articles or images about things judged to be terror offences could be prosecuted under a section that bans promoting or inciting terrorist activities.</p><h2 class=\"NVRkN _38pgX _1deB8 jwLlj hsTMN _1GKnS _2o9MN _1-RZJ\" data-component=\"Heading\">What has the local reaction been?</h2><figure aria-labelledby=\"dls-id-528144\" class=\"_2w-Eq _1w6Cw _1pc-9 _357jP\" data-component=\"Figure\" data-print=\"inline-media\" data-uri=\"coremedia://imageproxy/12410586\" id=\"12410586\" role=\"group\" title=\"Carrie Lam and HK skyline\"><div class=\"_3L4rN\" data-component=\"IntersectionObserver\"><div class=\"lt7xz\" data-component=\"AspectRatioContainer\" style=\"padding-bottom:66.66666666666666%\"><img alt=\"A middle-aged woman wearing a mask and business suit stands at podium with city skyline behind her.\" class=\"_1MKdo _3lrlT\" data-component=\"Image\" data-nojs=\"true\" data-sizes=\"100vw\" data-src=\"https://live-production.wcms.abc-cdn.net.au/186f81c730ac3789e97235eedb6c0672?impolicy=wcms_crop_resize&amp;cropH=1843&amp;cropW=2769&amp;xPos=205&amp;yPos=137&amp;width=862&amp;height=575\" src=\"data:image/gif;base64,R0lGODlhAQABAIAAAAAAAP///yH5BAEAAAAALAAAAAABAAEAAAIBRAA7\"/><noscript><img alt=\"A middle-aged woman wearing a mask and business suit stands at podium with city skyline behind her.\" class=\"_1MKdo _3lrlT\" data-component=\"Image\" sizes=\"100vw\" src=\"https://live-production.wcms.abc-cdn.net.au/186f81c730ac3789e97235eedb6c0672?impolicy=wcms_crop_resize&amp;cropH=1843&amp;cropW=2769&amp;xPos=205&amp;yPos=137&amp;width=862&amp;height=575\"/></noscript></div></div><figcaption class=\"_21SmZ _3_Aqg _1hGzz _1-RZJ P8HGV _2FwWh\" data-component=\"Figure__figcaption\" id=\"dls-id-528144\"> <!-- -->Carrie Lam, Hong Kong's pro-Beijing chief executive, is a supporter of the law.<cite class=\"_21SmZ _3_Aqg _1hGzz _1-RZJ P8HGV _16dJg\" data-component=\"Figure__cite\">(<span class=\"_21SmZ _1deB8 _1hGzz _1-RZJ P8HGV _16znc\" data-component=\"Byline\"><span class=\"_21SmZ _3_Aqg _1hGzz _1-RZJ P8HGV\" data-component=\"Text\"><p>Reuters: Tyrone Siu</p></span></span>)</cite></figcaption></figure><p class=\"_1HzXw\">Hong Kong Chief Executive Carrie Lam says mainland national security laws are long overdue for the territory.</p><p class=\"_1HzXw\">But many in the city are waiting to see if action will be swift or whether authorities will wait to test their new institutions and cautiously build cases.</p><p class=\"_1HzXw\">Some high-profile democracy and independence activists have said they expected to become the first to be detained under the new regime, and as a result <a class=\"_2f8qj FQVx7 _2tPjN _1QHxY\" data-component=\"ContentLink\" data-uri=\"coremedia://article/12406178\" href=\"https://www.abc.net.au/news/2020-06-30/china-passes-new-national-security-law-for-hong-kong/12406178\">chose to disband their groups</a>.</p><div aria-label=\"Social media embed\" class=\"_1w6Cw _1pc-9 _357jP\" data-print=\"inline-media\" itemid=\"https://twitter.com/joshuawongcf/status/1277797447822172162\" itemscope=\"\" itemtype=\"http://schema.org/SocialMediaPosting\"><span class=\"j8yNM _3YdYu\" data-component=\"Loading\" data-print=\"inline-media\"><span class=\"_3cQvj _3YiUG _2JTc8\"></span><span aria-live=\"assertive\" class=\"_2fSRQ\" role=\"alert\">Loading</span></span></div><p class=\"_1HzXw\">Within two hours of the law being announced, the Government revealed special local police and justice department prosecution units had already been formed to enforce the law.</p><p class=\"_1HzXw\">Fear has been building in some political, activist, academic, religious and business circles and some predict that, beyond high-profile cases, the law will chill the openness that they have taken for granted. Some say privately they are questioning whether they should leave Hong Kong.</p><aside class=\"_1w6Cw _1pc-9 _2b4MK\" data-component=\"Pullquote\"><blockquote class=\"_3imm8\"><p class=\"_1HzXw\">\"The punitive elements of the law are stupefying,\" Simon Young, a law professor at the University of Hong Kong's law school, and a barrister, told Reuters.</p></blockquote></aside><p class=\"_1HzXw\">\"Let us hope no-one tries to test this law, for the consequences to the individual and the legal system will be irreparable.\"</p><h2 class=\"NVRkN _38pgX _1deB8 jwLlj hsTMN _1GKnS _2o9MN _1-RZJ\" data-component=\"Heading\">What has the international community said?</h2><figure aria-labelledby=\"dls-id-528145\" class=\"_2w-Eq _1w6Cw _1pc-9 _357jP\" data-component=\"Figure\" data-print=\"inline-media\" data-uri=\"coremedia://imageproxy/12410546\" id=\"12410546\" role=\"group\" title=\"Hong Kong mall protest\"><div class=\"_3L4rN\" data-component=\"IntersectionObserver\"><div class=\"lt7xz\" data-component=\"AspectRatioContainer\" style=\"padding-bottom:66.66666666666666%\"><img alt=\"Protesters display placards in a shopping mall during a protest against China's proposed tough national security law.\" class=\"_1MKdo _3lrlT\" data-component=\"Image\" data-nojs=\"true\" data-sizes=\"100vw\" data-src=\"https://live-production.wcms.abc-cdn.net.au/978ed0959dfe8f08b4128b7b0bb94d11?impolicy=wcms_crop_resize&amp;cropH=2000&amp;cropW=2997&amp;xPos=1&amp;yPos=0&amp;width=862&amp;height=575\" src=\"data:image/gif;base64,R0lGODlhAQABAIAAAAAAAP///yH5BAEAAAAALAAAAAABAAEAAAIBRAA7\"/><noscript><img alt=\"Protesters display placards in a shopping mall during a protest against China's proposed tough national security law.\" class=\"_1MKdo _3lrlT\" data-component=\"Image\" sizes=\"100vw\" src=\"https://live-production.wcms.abc-cdn.net.au/978ed0959dfe8f08b4128b7b0bb94d11?impolicy=wcms_crop_resize&amp;cropH=2000&amp;cropW=2997&amp;xPos=1&amp;yPos=0&amp;width=862&amp;height=575\"/></noscript></div></div><figcaption class=\"_21SmZ _3_Aqg _1hGzz _1-RZJ P8HGV _2FwWh\" data-component=\"Figure__figcaption\" id=\"dls-id-528145\"> <!-- -->Calling for the international community to take action could now be considered a form of \"collusion\".<cite class=\"_21SmZ _3_Aqg _1hGzz _1-RZJ P8HGV _16dJg\" data-component=\"Figure__cite\">(<span class=\"_21SmZ _1deB8 _1hGzz _1-RZJ P8HGV _16znc\" data-component=\"Byline\"><span class=\"_21SmZ _3_Aqg _1hGzz _1-RZJ P8HGV\" data-component=\"Text\"><p>AP: Vincent Yu</p></span></span>)</cite></figcaption></figure><p class=\"_1HzXw\">Australia has <a class=\"_2f8qj FQVx7 _2tPjN _1QHxY\" data-component=\"ContentLink\" data-uri=\"coremedia://article/12409268\" href=\"https://www.abc.net.au/news/2020-07-01/australia-statement-condemn-china-over-hong-kong-uyghur-abuses/12409268\">joined more than 20 other countries in expressing deep concern</a> about the new national security law for Hong Kong.</p><p class=\"_1HzXw\">Foreign Minister Marise Payne said the Federal Government was troubled that the laws were passed without any input from the people of Hong Kong, or the city's legislature and judiciary.</p><p class=\"_1HzXw\">Senator Payne said the eyes of the world were on Hong Kong, and that the legislation undermined the \"one country, two systems\" model adopted when the UK handed back control of the city to Beijing.</p><aside class=\"_1w6Cw _1pc-9 _2EbnQ _1csae\" data-component=\"RelatedCard\" data-uri=\"coremedia://teaser/11513926\"><a class=\"Gztzl _2f8qj FQVx7 _2tPjN _3OwCD\" data-component=\"MediaObject\" href=\"https://www.abc.net.au/news/2019-09-13/hong-kong-protests-british-history-chinese-future-interactive/11469290\"><div class=\"_3qxcw _18sRx QVleH\"><h3 class=\"_3mduI _2gTdF _1deB8 jwLlj _1O6ck _1GKnS _2o9MN _1-RZJ _2DTSp _33i3Y\" data-component=\"Heading\"><span>Hong Kong's countdown to 2047</span></h3><div class=\"ivd9v\"><div class=\"_3L4rN\" data-component=\"IntersectionObserver\"><div class=\"lt7xz\" data-component=\"AspectRatioContainer\" style=\"padding-bottom:56.25%\"><img alt=\"\" class=\"_1MKdo _3lrlT _2eqW0\" data-component=\"Image\" data-nojs=\"true\" data-src=\"https://live-production.wcms.abc-cdn.net.au/b55f311b9c58d16f9121c82317ae645a?src\" src=\"data:image/gif;base64,R0lGODlhAQABAIAAAAAAAP///yH5BAEAAAAALAAAAAABAAEAAAIBRAA7\"/><noscript><img alt=\"\" class=\"_1MKdo _3lrlT _2eqW0\" data-component=\"Image\" src=\"https://live-production.wcms.abc-cdn.net.au/b55f311b9c58d16f9121c82317ae645a?src\"/></noscript></div></div><p class=\"_21SmZ _1deB8 _2Nyle _1-RZJ _3SRLZ\" data-component=\"Typography\">Hong Kong was handed back to China with no framework for what would happen after the year 2047, leaving the city to carve an identity out of two ideologically opposed empires.</p><span class=\"_1nkhp\"><span class=\"_3P1Sq _1deB8 _2Nyle _1-RZJ\" data-component=\"Typography\">Read more</span><svg aria-hidden=\"true\" class=\"_2iH5w _3VR-y kv9_s\" data-component=\"ArrowRight\" fill=\"none\" height=\"1em\" viewbox=\"0 0 24 24\" width=\"1em\" xmlns=\"http://www.w3.org/2000/svg\"><path d=\"m13 19 7-7-7-7\" stroke=\"currentColor\" stroke-width=\"2\"></path><path d=\"M20 12H3\" stroke=\"currentColor\" stroke-width=\"2\"></path></svg></span></div></div></a></aside><p class=\"_1HzXw\">UK Foreign Secretary Dominic Raab said it violated the agreement between Britain and Hong Kong, which was <a class=\"_2f8qj FQVx7 _2tPjN _1QHxY\" data-component=\"ContentLink\" data-uri=\"coremedia://article/12404236\" href=\"https://www.abc.net.au/news/2020-07-01/hong-kong-handover-anniversary-prompt-australians-to-reflect/12404236\">finalised on this day in 1997</a>.</p><p class=\"_1HzXw\">Hong Kong's former colonial power joined the European Union, Japan and the US in condemning the law, and calling on Beijing to preserve the right to assembly and free press.</p><aside class=\"_1w6Cw _1pc-9 _2b4MK\" data-component=\"Pullquote\"><blockquote class=\"_3imm8\"><p class=\"_1HzXw\">\"The United States will not stand idly by while China swallows Hong Kong into its authoritarian maw,\" US Secretary of State Mike Pompeo said in a statement.</p></blockquote></aside><p class=\"_1HzXw\">He said the United States would stand with the people of Hong Kong and \"respond to Beijing's attacks on freedoms of speech, the press, and assembly, as well as the rule of law\".</p><p class=\"_1HzXw\">Washington began eliminating Hong Kong's special status under US law this week, halting defence exports and restricting technology access.</p><h2 class=\"NVRkN _38pgX _1deB8 jwLlj hsTMN _1GKnS _2o9MN _1-RZJ\" data-component=\"Heading\">What has Beijing had to say?</h2><figure aria-labelledby=\"dls-id-528146\" class=\"_2w-Eq _1w6Cw _1pc-9 _357jP\" data-component=\"Figure\" data-print=\"inline-media\" data-uri=\"coremedia://imageproxy/12410582\" id=\"12410582\" role=\"group\" title=\"National Security Law sign\"><div class=\"_3L4rN\" data-component=\"IntersectionObserver\"><div class=\"lt7xz\" data-component=\"AspectRatioContainer\" style=\"padding-bottom:66.66666666666666%\"><img alt=\"A woman walks past a promotional banner of the national security law for Hong Kong\" class=\"_1MKdo _3lrlT\" data-component=\"Image\" data-nojs=\"true\" data-sizes=\"100vw\" data-src=\"https://live-production.wcms.abc-cdn.net.au/45e2304d06f6c1dffc328b22c9510c66?impolicy=wcms_crop_resize&amp;cropH=2001&amp;cropW=2999&amp;xPos=0&amp;yPos=0&amp;width=862&amp;height=575\" src=\"data:image/gif;base64,R0lGODlhAQABAIAAAAAAAP///yH5BAEAAAAALAAAAAABAAEAAAIBRAA7\"/><noscript><img alt=\"A woman walks past a promotional banner of the national security law for Hong Kong\" class=\"_1MKdo _3lrlT\" data-component=\"Image\" sizes=\"100vw\" src=\"https://live-production.wcms.abc-cdn.net.au/45e2304d06f6c1dffc328b22c9510c66?impolicy=wcms_crop_resize&amp;cropH=2001&amp;cropW=2999&amp;xPos=0&amp;yPos=0&amp;width=862&amp;height=575\"/></noscript></div></div><figcaption class=\"_21SmZ _3_Aqg _1hGzz _1-RZJ P8HGV _2FwWh\" data-component=\"Figure__figcaption\" id=\"dls-id-528146\"> <!-- -->China denies that the law goes against the agreement it struck with Britain in 1997.<cite class=\"_21SmZ _3_Aqg _1hGzz _1-RZJ P8HGV _16dJg\" data-component=\"Figure__cite\">(<span class=\"_21SmZ _1deB8 _1hGzz _1-RZJ P8HGV _16znc\" data-component=\"Byline\"><span class=\"_21SmZ _3_Aqg _1hGzz _1-RZJ P8HGV\" data-component=\"Text\"><p>AP: Kin Cheung</p></span></span>)</cite></figcaption></figure><p class=\"_1HzXw\">China has rejected criticism of the law and says it will retaliate against the US over its punitive actions.</p><p class=\"_1HzXw\">Asked about criticism that the law undermined the \"one country, two systems\" model, Chinese Foreign Ministry spokesman Zhao Lijian hit out against what he said was \"foreign interference\" in China's business.</p><aside class=\"_1w6Cw _1pc-9 _2EbnQ _1csae\" data-component=\"RelatedCard\" data-uri=\"coremedia://teaser/12279708\"><a class=\"Gztzl _2f8qj FQVx7 _2tPjN _3OwCD\" data-component=\"MediaObject\" href=\"https://www.abc.net.au/news/2020-05-23/what-hong-kong-could-look-like-under-chinas-explosive-new-law/12273412\"><div class=\"_3qxcw _18sRx QVleH\"><h3 class=\"_3mduI _2gTdF _1deB8 jwLlj _1O6ck _1GKnS _2o9MN _1-RZJ _2DTSp _33i3Y\" data-component=\"Heading\"><span>China's explosive new national security law</span></h3><div class=\"ivd9v\"><div class=\"_3L4rN\" data-component=\"IntersectionObserver\"><div class=\"lt7xz\" data-component=\"AspectRatioContainer\" style=\"padding-bottom:56.25%\"><img alt=\"\" class=\"_1MKdo _3lrlT _2eqW0\" data-component=\"Image\" data-nojs=\"true\" data-src=\"https://live-production.wcms.abc-cdn.net.au/65d3508877aa99a40ab79eaa4a44d3b4?src\" src=\"data:image/gif;base64,R0lGODlhAQABAIAAAAAAAP///yH5BAEAAAAALAAAAAABAAEAAAIBRAA7\"/><noscript><img alt=\"\" class=\"_1MKdo _3lrlT _2eqW0\" data-component=\"Image\" src=\"https://live-production.wcms.abc-cdn.net.au/65d3508877aa99a40ab79eaa4a44d3b4?src\"/></noscript></div></div><p class=\"_21SmZ _1deB8 _2Nyle _1-RZJ _3SRLZ\" data-component=\"Typography\">For two decades, Beijing has been frustrated by opposition to security laws in Hong Kong. But Xi Jinping is now convinced winning local support is futile, writes Bill Birtles.</p><span class=\"_1nkhp\"><span class=\"_3P1Sq _1deB8 _2Nyle _1-RZJ\" data-component=\"Typography\">Read more</span><svg aria-hidden=\"true\" class=\"_2iH5w _3VR-y kv9_s\" data-component=\"ArrowRight\" fill=\"none\" height=\"1em\" viewbox=\"0 0 24 24\" width=\"1em\" xmlns=\"http://www.w3.org/2000/svg\"><path d=\"m13 19 7-7-7-7\" stroke=\"currentColor\" stroke-width=\"2\"></path><path d=\"M20 12H3\" stroke=\"currentColor\" stroke-width=\"2\"></path></svg></span></div></div></a></aside><p class=\"_1HzXw\">\"Hong Kong affairs are entirely China's internal affairs that allow no foreign interference,\" he said.</p><aside class=\"_1w6Cw _1pc-9 _2b4MK\" data-component=\"Pullquote\"><blockquote class=\"_3imm8\"><p class=\"_1HzXw\">\"Establishing and improving a legal framework and enforcement mechanisms for safeguarding national security in Hong Kong is in itself an embodiment of one country, two systems.</p></blockquote></aside><p class=\"_1HzXw\">\"It is to ensure the steady implementation of this principle as well as the prosperity and stability of Hong Kong, which has been endorsed by all Chinese people, including our compatriots in Hong Kong, and most countries in the world.\"</p><p class=\"_1HzXw\">Both Hong Kong and Chinese central government officials have said the law is vital to plug gaping holes in Hong Kong's national security defences — deficiencies exposed in the months of sometimes-violent protests that rocked the city in the past year.</p><p class=\"_1HzXw\">Hong Kong and Chinese officials have repeatedly said only a tiny number of people will be targeted by the new laws and that the rights and freedoms of ordinary people will not be affected.</p><p class=\"_1HzXw\"><strong>ABC/Wires</strong></p></div><div class=\"_3Rgf7\" data-component=\"PublishedDate\"><time class=\"_21SmZ _3_Aqg _1hGzz _1-RZJ P8HGV\" data-component=\"Timestamp\" datetime=\"2020-07-01T05:16:55.000Z\"><span>Posted <!-- --> </span><span class=\"_21KQl\">1<!-- --> <span data-component=\"Abbreviation\"><abbr aria-hidden=\"true\" class=\"_2t5cr\" title=\"July\">Jul</abbr><span class=\"_1gVuJ\" data-component=\"ScreenReaderOnly\">July</span></span> <!-- -->2020</span><span class=\"_3I9MJ\" hidden=\"\"><span data-component=\"Abbreviation\"><abbr aria-hidden=\"true\" class=\"_2t5cr\" title=\"Wednesday\">Wed</abbr><span class=\"_1gVuJ\" data-component=\"ScreenReaderOnly\">Wednesday</span></span> <!-- -->1<!-- --> <span data-component=\"Abbreviation\"><abbr aria-hidden=\"true\" class=\"_2t5cr\" title=\"July\">Jul</abbr><span class=\"_1gVuJ\" data-component=\"ScreenReaderOnly\">July</span></span> <!-- -->2020<!-- --> at <!-- -->5:16am</span></time>, <time class=\"_21SmZ _3_Aqg _1hGzz _1-RZJ P8HGV\" data-component=\"Timestamp\" datetime=\"2020-07-01T16:06:27.000Z\"><span>updated<!-- --> </span><span class=\"_21KQl\">1<!-- --> <span data-component=\"Abbreviation\"><abbr aria-hidden=\"true\" class=\"_2t5cr\" title=\"July\">Jul</abbr><span class=\"_1gVuJ\" data-component=\"ScreenReaderOnly\">July</span></span> <!-- -->2020</span><span class=\"_3I9MJ\" hidden=\"\"><span data-component=\"Abbreviation\"><abbr aria-hidden=\"true\" class=\"_2t5cr\" title=\"Wednesday\">Wed</abbr><span class=\"_1gVuJ\" data-component=\"ScreenReaderOnly\">Wednesday</span></span> <!-- -->1<!-- --> <span data-component=\"Abbreviation\"><abbr aria-hidden=\"true\" class=\"_2t5cr\" title=\"July\">Jul</abbr><span class=\"_1gVuJ\" data-component=\"ScreenReaderOnly\">July</span></span> <!-- -->2020<!-- --> at <!-- -->4:06pm</span></time></div><div class=\"_VOF7 jCi_f\" data-component=\"ShareUtility\"><span class=\"_1bjLh\">Share</span><ul class=\"_9vg8a\" role=\"list\"><li><a aria-label=\"Copy link\" class=\"_3nz0Q _1HV_Y _2b8Fn\" data-component=\"ShareLink\" href=\"#\" rel=\"noopener noreferrer\" target=\"_self\" title=\"Copy link\"><svg aria-hidden=\"true\" class=\"_2iH5w _2fXAw _23HBT\" data-component=\"Link\" fill=\"none\" height=\"1em\" viewbox=\"0 0 24 24\" width=\"1em\" xmlns=\"http://www.w3.org/2000/svg\"><path d=\"M11.119 14.069s-.48-.33-.694-.544c-1.367-1.367-1.404-3.546-.082-4.868l2.992-2.992c1.321-1.321 3.5-1.285 4.868.082 1.367 1.367 1.403 3.546.081 4.868l-1.555 1.556\" stroke=\"currentColor\" stroke-width=\"2\"></path><path d=\"M12.559 10.153c.247.149.48.33.694.544 1.367 1.367 1.403 3.546.082 4.868l-2.992 2.992c-1.322 1.321-3.501 1.285-4.868-.082-1.367-1.367-1.404-3.547-.082-4.868L6.95 12.05\" stroke=\"currentColor\" stroke-width=\"2\"></path></svg><span class=\"_1-8T4\">Copy link</span></a></li><li><a aria-label=\"Share by Facebook\" class=\"_3nz0Q _2b8Fn\" data-component=\"ShareLink\" href=\"https://www.facebook.com/sharer.php?u=https%3A%2F%2Fwww.abc.net.au%2Fnews%2F2020-07-01%2Fwhat-is-in-hong-kongs-new-china-imposed-national-security-law%2F12409024%3Futm_campaign%3Dnews-article-share-control%26utm_content%3Dfacebook%26utm_medium%3Dcontent_shared%26utm_source%3Dabc_news_web\" rel=\"noopener noreferrer\" target=\"_blank\" title=\"Share by Facebook\"><svg aria-hidden=\"true\" class=\"_2iH5w _2fXAw _23HBT\" data-component=\"Facebook\" fill=\"none\" height=\"1em\" viewbox=\"0 0 24 24\" width=\"1em\" xmlns=\"http://www.w3.org/2000/svg\"><path d=\"M9.668 21h3.335v-8.996h2.502L16 9.194h-2.997V7.157c0-.759.309-1.346 1.26-1.346h1.494V3h-2.088c-3.24.013-4 1.99-3.995 3.937l-.006 2.257H8v2.81h1.668V21z\" fill=\"currentColor\"></path></svg><span class=\"_1-8T4\">Facebook</span></a></li><li><a aria-label=\"Share by Twitter\" class=\"_3nz0Q _2b8Fn\" data-component=\"ShareLink\" href=\"https://twitter.com/intent/tweet?text=What%27s+in+Hong+Kong%27s+new+national+security+law+imposed+by+China%2C+and+why+is+it+so+controversial%3F&amp;url=https%3A%2F%2Fwww.abc.net.au%2Fnews%2F2020-07-01%2Fwhat-is-in-hong-kongs-new-china-imposed-national-security-law%2F12409024%3Futm_campaign%3Dnews-article-share-control%26utm_content%3Dtwitter%26utm_medium%3Dcontent_shared%26utm_source%3Dabc_news_web\" rel=\"noopener noreferrer\" target=\"_blank\" title=\"Share by Twitter\"><svg aria-hidden=\"true\" class=\"_2iH5w _2fXAw _23HBT\" data-component=\"Twitter\" fill=\"none\" height=\"1em\" viewbox=\"0 0 24 24\" width=\"1em\" xmlns=\"http://www.w3.org/2000/svg\"><path d=\"M20.516 5.31c-.494.321-1.628.787-2.187.787v.001A3.476 3.476 0 0 0 15.794 5c-1.937 0-3.507 1.592-3.507 3.554 0 .273.03.538.088.794-2.627-.07-5.5-1.405-7.23-3.69-1.063 1.866-.143 3.941 1.064 4.697-.413.032-1.174-.048-1.532-.402-.024 1.239.564 2.88 2.706 3.475-.413.224-1.143.16-1.46.112.11 1.046 1.555 2.412 3.134 2.412-.563.66-2.68 1.857-5.057 1.476A10.433 10.433 0 0 0 9.486 19c5.658 0 10.053-4.648 9.816-10.382l-.001-.02.001-.044-.002-.052a6.097 6.097 0 0 0 1.7-1.82c-.286.16-1.145.48-1.945.56.513-.281 1.273-1.2 1.461-1.931z\" fill=\"currentColor\"></path></svg><span class=\"_1-8T4\">Twitter</span></a></li><li class=\"_2ja6Z\"><button class=\"_1dVNa _3QqKd _1aUsl _2ONqq _3V5zT _1EflS\" data-component=\"Button\" title=\"More share options\" type=\"button\"><svg aria-hidden=\"true\" class=\"_2iH5w _23HBT\" data-component=\"ShareWeb\" fill=\"none\" height=\"1em\" viewbox=\"0 0 24 24\" width=\"1em\" xmlns=\"http://www.w3.org/2000/svg\"><path clip-rule=\"evenodd\" d=\"M15 13s-9-1-12.998 7c0 0 0-13 12.998-13V3l7 7-7 7v-4z\" fill=\"currentColor\" fill-rule=\"evenodd\"></path></svg></button><div aria-hidden=\"true\" aria-labelledby=\"dialogheader\" aria-modal=\"true\" class=\"uPT29 bKd5B\" data-component=\"Popover\" role=\"dialog\" style=\"position:fixed;left:0;top:0\" tabindex=\"-1\"><button aria-label=\"Close popover\" class=\"_1dVNa _3aDs4 _1aUsl _2ONqq _3V5zT _1EflS\" data-component=\"Button\" title=\"Close\" type=\"button\"><svg aria-hidden=\"true\" class=\"_2iH5w _23HBT\" data-component=\"Close\" fill=\"none\" height=\"1em\" viewbox=\"0 0 24 24\" width=\"1em\" xmlns=\"http://www.w3.org/2000/svg\"><path d=\"M19 19 5 5\" stroke=\"currentColor\" stroke-width=\"2\"></path><path d=\"M5 19 19 5\" stroke=\"currentColor\" stroke-width=\"2\"></path></svg></button><div class=\"_1Q9cG\"><div class=\"_3fEey\"><h2 class=\"_1gVuJ\" data-component=\"ScreenReaderOnly\" id=\"dialogheader\" tabindex=\"-1\">Article share options</h2><h3 class=\"_3mduI miVtk _1deB8 jwLlj _1O6ck _1GKnS _2Nyle _1-RZJ Qq2_D\" data-component=\"Heading\">Share this on</h3><ul class=\"_20j0m\" role=\"list\"><li class=\"\"><a aria-label=\"Share by Facebook\" class=\"_1FRsK\" data-component=\"ShareLink\" href=\"https://www.facebook.com/sharer.php?u=https%3A%2F%2Fwww.abc.net.au%2Fnews%2F2020-07-01%2Fwhat-is-in-hong-kongs-new-china-imposed-national-security-law%2F12409024%3Futm_campaign%3Dnews-article-share-control%26utm_content%3Dfacebook%26utm_medium%3Dcontent_shared%26utm_source%3Dabc_news_web\" rel=\"noopener noreferrer\" target=\"_blank\" title=\"Share by Facebook\"><svg aria-hidden=\"true\" class=\"_2iH5w _38D4F _23HBT\" data-component=\"Facebook\" fill=\"none\" height=\"1em\" viewbox=\"0 0 24 24\" width=\"1em\" xmlns=\"http://www.w3.org/2000/svg\"><path d=\"M9.668 21h3.335v-8.996h2.502L16 9.194h-2.997V7.157c0-.759.309-1.346 1.26-1.346h1.494V3h-2.088c-3.24.013-4 1.99-3.995 3.937l-.006 2.257H8v2.81h1.668V21z\" fill=\"currentColor\"></path></svg><span class=\"_1-8T4\">Facebook</span></a></li><li class=\"\"><a aria-label=\"Share by Twitter\" class=\"_1FRsK\" data-component=\"ShareLink\" href=\"https://twitter.com/intent/tweet?text=What%27s+in+Hong+Kong%27s+new+national+security+law+imposed+by+China%2C+and+why+is+it+so+controversial%3F&amp;url=https%3A%2F%2Fwww.abc.net.au%2Fnews%2F2020-07-01%2Fwhat-is-in-hong-kongs-new-china-imposed-national-security-law%2F12409024%3Futm_campaign%3Dnews-article-share-control%26utm_content%3Dtwitter%26utm_medium%3Dcontent_shared%26utm_source%3Dabc_news_web&amp;via=ABCaustralia\" rel=\"noopener noreferrer\" target=\"_blank\" title=\"Share by Twitter\"><svg aria-hidden=\"true\" class=\"_2iH5w _38D4F _23HBT\" data-component=\"Twitter\" fill=\"none\" height=\"1em\" viewbox=\"0 0 24 24\" width=\"1em\" xmlns=\"http://www.w3.org/2000/svg\"><path d=\"M20.516 5.31c-.494.321-1.628.787-2.187.787v.001A3.476 3.476 0 0 0 15.794 5c-1.937 0-3.507 1.592-3.507 3.554 0 .273.03.538.088.794-2.627-.07-5.5-1.405-7.23-3.69-1.063 1.866-.143 3.941 1.064 4.697-.413.032-1.174-.048-1.532-.402-.024 1.239.564 2.88 2.706 3.475-.413.224-1.143.16-1.46.112.11 1.046 1.555 2.412 3.134 2.412-.563.66-2.68 1.857-5.057 1.476A10.433 10.433 0 0 0 9.486 19c5.658 0 10.053-4.648 9.816-10.382l-.001-.02.001-.044-.002-.052a6.097 6.097 0 0 0 1.7-1.82c-.286.16-1.145.48-1.945.56.513-.281 1.273-1.2 1.461-1.931z\" fill=\"currentColor\"></path></svg><span class=\"_1-8T4\">Twitter</span></a></li><li class=\"\"><a aria-label=\"Share by LinkedIn\" class=\"_1FRsK\" data-component=\"ShareLink\" href=\"https://www.linkedin.com/sharing/share-offsite?url=https%3A%2F%2Fwww.abc.net.au%2Fnews%2F2020-07-01%2Fwhat-is-in-hong-kongs-new-china-imposed-national-security-law%2F12409024%3Futm_campaign%3Dnews-article-share-control%26utm_content%3Dlinked-in%26utm_medium%3Dcontent_shared%26utm_source%3Dabc_news_web\" rel=\"noopener noreferrer\" target=\"_blank\" title=\"Share by LinkedIn\"><svg aria-hidden=\"true\" class=\"_2iH5w _38D4F _23HBT\" data-component=\"Linkedin\" fill=\"none\" height=\"1em\" viewbox=\"0 0 24 24\" width=\"1em\" xmlns=\"http://www.w3.org/2000/svg\"><path d=\"M16.529 8.677c3.774 0 4.471 2.49 4.471 5.73V21h-3.727v-5.847c0-1.395-.027-3.188-1.939-3.188-1.94 0-2.236 1.519-2.236 3.086V21H9.372V8.977h3.574v1.641h.052c.498-.944 1.716-1.94 3.53-1.94zm-9.498.3V21H3.296V8.977h3.735zM5.164 3a2.165 2.165 0 0 1 0 4.332A2.164 2.164 0 0 1 3 5.165C3 3.97 3.967 3 5.164 3z\" fill=\"currentColor\"></path></svg><span class=\"_1-8T4\">LinkedIn</span></a></li></ul><h3 class=\"_3mduI miVtk _1deB8 jwLlj _1O6ck _1GKnS _2Nyle _1-RZJ Qq2_D\" data-component=\"Heading\">Send this by</h3><ul class=\"_20j0m\" role=\"list\"><li class=\"\"><a aria-label=\"Share by Email\" class=\"_1FRsK\" data-component=\"ShareLink\" href=\"mailto:?body=https%3A%2F%2Fwww.abc.net.au%2Fnews%2F2020-07-01%2Fwhat-is-in-hong-kongs-new-china-imposed-national-security-law%2F12409024%3Futm_campaign%3Dnews-article-share-control%26utm_content%3Dmail%26utm_medium%3Dcontent_shared%26utm_source%3Dabc_news_web&amp;subject=What's%20in%20Hong%20Kong's%20new%20national%20security%20law%20imposed%20by%20China,%20and%20why%20is%20it%20so%20controversial?\" rel=\"noopener noreferrer\" target=\"_self\" title=\"Share by Email\"><svg aria-hidden=\"true\" class=\"_2iH5w _38D4F _23HBT\" data-component=\"Mail\" fill=\"none\" height=\"1em\" viewbox=\"0 0 24 24\" width=\"1em\" xmlns=\"http://www.w3.org/2000/svg\"><path d=\"M20.5 5h-17a.5.5 0 0 0-.5.5v13a.5.5 0 0 0 .5.5h17a.5.5 0 0 0 .5-.5v-13a.5.5 0 0 0-.5-.5z\" stroke=\"currentColor\" stroke-width=\"2\"></path><path d=\"m21 6.5-8.74 5.34a.5.5 0 0 1-.52 0L3 6.5\" stroke=\"currentColor\" stroke-width=\"2\"></path></svg><span class=\"_1-8T4\">Email</span></a></li><li class=\"\"><a aria-label=\"Share by Messenger\" class=\"_1FRsK\" data-component=\"ShareLink\" href=\"fb-messenger://share?link=https%3A%2F%2Fwww.abc.net.au%2Fnews%2F2020-07-01%2Fwhat-is-in-hong-kongs-new-china-imposed-national-security-law%2F12409024%3Futm_campaign%3Dnews-article-share-control%26utm_content%3Dmessenger%26utm_medium%3Dcontent_shared%26utm_source%3Dabc_news_web\" rel=\"noopener noreferrer\" target=\"_blank\" title=\"Share by Messenger\"><svg aria-hidden=\"true\" class=\"_2iH5w _38D4F _23HBT\" data-component=\"Messenger\" fill=\"none\" height=\"1em\" viewbox=\"0 0 24 24\" width=\"1em\" xmlns=\"http://www.w3.org/2000/svg\"><path d=\"M12 2C6.367 2 2 6.128 2 11.7c0 2.915 1.195 5.435 3.14 7.175a.79.79 0 0 1 .268.57l.054 1.78a.8.8 0 0 0 1.123.707l1.985-.874a.804.804 0 0 1 .535-.04c.912.25 1.883.384 2.895.384 5.633 0 10-4.127 10-9.7C22 6.13 17.633 2 12 2zm6.005 7.463-2.937 4.66a1.5 1.5 0 0 1-2.17.4L10.56 12.77a.6.6 0 0 0-.723.003l-3.154 2.395c-.42.32-.97-.185-.69-.633l2.937-4.66a1.5 1.5 0 0 1 2.17-.4l2.338 1.752a.6.6 0 0 0 .722-.002l3.155-2.395c.422-.318.973.185.69.633z\" fill=\"currentColor\"></path></svg><span class=\"_1-8T4\">Messenger</span></a></li><li class=\"\"><a aria-label=\"Copy link\" class=\"_1HV_Y _1FRsK\" data-component=\"ShareLink\" href=\"#\" rel=\"noopener noreferrer\" target=\"_self\" title=\"Copy link\"><svg aria-hidden=\"true\" class=\"_2iH5w _38D4F _23HBT\" data-component=\"Link\" fill=\"none\" height=\"1em\" viewbox=\"0 0 24 24\" width=\"1em\" xmlns=\"http://www.w3.org/2000/svg\"><path d=\"M11.119 14.069s-.48-.33-.694-.544c-1.367-1.367-1.404-3.546-.082-4.868l2.992-2.992c1.321-1.321 3.5-1.285 4.868.082 1.367 1.367 1.403 3.546.081 4.868l-1.555 1.556\" stroke=\"currentColor\" stroke-width=\"2\"></path><path d=\"M12.559 10.153c.247.149.48.33.694.544 1.367 1.367 1.403 3.546.082 4.868l-2.992 2.992c-1.322 1.321-3.501 1.285-4.868-.082-1.367-1.367-1.404-3.547-.082-4.868L6.95 12.05\" stroke=\"currentColor\" stroke-width=\"2\"></path></svg><span class=\"_1-8T4\">Copy link</span></a></li><li class=\"\"><a aria-label=\"Share by WhatsApp\" class=\"_1FRsK\" data-component=\"ShareLink\" href=\"https://api.whatsapp.com/send?text=What%27s+in+Hong+Kong%27s+new+national+security+law+imposed+by+China%2C+and+why+is+it+so+controversial%3F%0Ahttps%3A%2F%2Fwww.abc.net.au%2Fnews%2F2020-07-01%2Fwhat-is-in-hong-kongs-new-china-imposed-national-security-law%2F12409024%3Futm_campaign%3Dnews-article-share-control%26utm_content%3Dwhatsapp%26utm_medium%3Dcontent_shared%26utm_source%3Dabc_news_web\" rel=\"noopener noreferrer\" target=\"_blank\" title=\"Share by WhatsApp\"><svg aria-hidden=\"true\" class=\"_2iH5w _38D4F _23HBT\" data-component=\"Whatsapp\" fill=\"none\" height=\"1em\" viewbox=\"0 0 24 24\" width=\"1em\" xmlns=\"http://www.w3.org/2000/svg\"><path d=\"M16.557 15.098c-.208.515-1.148.986-1.563 1.007-.414.023-.426.322-2.685-.66-2.26-.982-3.618-3.369-3.726-3.522-.107-.153-.875-1.248-.833-2.349.042-1.101.645-1.62.86-1.837a.865.865 0 0 1 .612-.258c.178-.003.293-.005.425 0 .131.005.329-.028.5.427.17.455.58 1.573.633 1.687.052.114.084.247.004.393-.081.147-.123.238-.24.365-.118.126-.248.283-.353.38-.118.107-.24.223-.117.452.123.23.549.979 1.197 1.597.832.794 1.55 1.058 1.772 1.178.221.12.353.107.49-.037.138-.145.589-.633.748-.851.159-.219.308-.176.512-.094.204.083 1.292.665 1.514.786.22.12.369.182.422.277.053.096.036.544-.172 1.06zM12.163 3c-4.88 0-8.836 3.925-8.836 8.768 0 1.657.463 3.206 1.268 4.528L3 21l4.892-1.554a8.854 8.854 0 0 0 4.271 1.09c4.88 0 8.837-3.926 8.837-8.768C21 6.925 17.044 3 12.163 3z\" fill=\"currentColor\"></path></svg><span class=\"_1-8T4\">WhatsApp</span></a></li></ul></div></div><div class=\"_28Y5F\" data-popper-arrow=\"true\" style=\"position:absolute\"></div></div></li></ul></div><div class=\"_3n77T\" data-component=\"RelatedStories\"><header class=\"\" data-component=\"SectionHeader\"><h2 class=\"NVRkN _38pgX _1deB8 jwLlj hsTMN _1GKnS _2Nyle _1-RZJ _1vuEo\" data-component=\"Heading\">Related Stories<span aria-hidden=\"true\" class=\"_2uH6X\"></span></h2></header><div class=\"ExtCk _2vRYh _2m707 _1Q-WW _13Ngy\" data-component=\"Bento\"><div class=\"_1yJ-S\" data-component=\"CardBox\"><div class=\"_351Eo\" data-component=\"ThumbnailCard\" data-uri=\"coremedia://article/12404236\"><div class=\"_21a3v mobile-row tablet-row desktop-row\" data-component=\"CardLayout\"><div class=\"_3bhpO\"><h3 class=\"_3mduI _2t6_4 _1deB8 jwLlj _19NQB _1GKnS _2o9MN _1-RZJ _3tuph _3WPmc\" data-component=\"CardHeading\"><span class=\"_7fOxm\" data-component=\"KeyboardFocus\"><a class=\"_174h9 _2f8qj FQVx7 _2tPjN _1QHxY _3OwCD\" data-component=\"Link\" href=\"/news/2020-07-01/hong-kong-handover-anniversary-prompt-australians-to-reflect/12404236\">The handover was a historic moment, but some Hongkongers in Australia say it sold out their future</a></span></h3></div><div class=\"_9_xgl _1H_uf _3_yhH _5ipoy _9Ukl8 _3XucE\"><div class=\"_3L4rN\" data-component=\"IntersectionObserver\"><div class=\"lt7xz\" data-component=\"AspectRatioContainer\" style=\"padding-bottom:66.66666666666666%\"><img alt=\"A young girls stands on a stone bench at the beach.\" class=\"_1MKdo _3lrlT\" data-component=\"Image\" data-nojs=\"true\" data-src=\"https://live-production.wcms.abc-cdn.net.au/80bf597ec4a4f893aa38ca3f5a15d376?impolicy=wcms_crop_resize&amp;cropH=695&amp;cropW=1046&amp;xPos=798&amp;yPos=158&amp;width=160&amp;height=107\" src=\"data:image/gif;base64,R0lGODlhAQABAIAAAAAAAP///yH5BAEAAAAALAAAAAABAAEAAAIBRAA7\"/><noscript><img alt=\"A young girls stands on a stone bench at the beach.\" class=\"_1MKdo _3lrlT\" data-component=\"Image\" src=\"https://live-production.wcms.abc-cdn.net.au/80bf597ec4a4f893aa38ca3f5a15d376?impolicy=wcms_crop_resize&amp;cropH=695&amp;cropW=1046&amp;xPos=798&amp;yPos=158&amp;width=160&amp;height=107\"/></noscript></div></div></div></div></div></div><div class=\"_1yJ-S\" data-component=\"CardBox\"><div class=\"_351Eo\" data-component=\"ThumbnailCard\" data-uri=\"coremedia://article/12406178\"><div class=\"_21a3v mobile-row tablet-row desktop-row\" data-component=\"CardLayout\"><div class=\"_3bhpO\"><h3 class=\"_3mduI _2t6_4 _1deB8 jwLlj _19NQB _1GKnS _2o9MN _1-RZJ _3tuph _3WPmc\" data-component=\"CardHeading\"><span class=\"_7fOxm\" data-component=\"KeyboardFocus\"><a class=\"_174h9 _2f8qj FQVx7 _2tPjN _1QHxY _3OwCD\" data-component=\"Link\" href=\"/news/2020-06-30/china-passes-new-national-security-law-for-hong-kong/12406178\">China reveals new national security law for Hong Kong to stop 'terrorism' amid international condemnation</a></span></h3></div><div class=\"_9_xgl _1H_uf _3_yhH _5ipoy _9Ukl8 _3XucE\"><div class=\"_3L4rN\" data-component=\"IntersectionObserver\"><div class=\"lt7xz\" data-component=\"AspectRatioContainer\" style=\"padding-bottom:66.66666666666666%\"><img alt=\"A middle-aged woman wearing a mask and business suit stands at podium with city skyline behind her.\" class=\"_1MKdo _3lrlT\" data-component=\"Image\" data-nojs=\"true\" data-src=\"https://live-production.wcms.abc-cdn.net.au/186f81c730ac3789e97235eedb6c0672?impolicy=wcms_crop_resize&amp;cropH=1775&amp;cropW=2658&amp;xPos=282&amp;yPos=145&amp;width=160&amp;height=107\" src=\"data:image/gif;base64,R0lGODlhAQABAIAAAAAAAP///yH5BAEAAAAALAAAAAABAAEAAAIBRAA7\"/><noscript><img alt=\"A middle-aged woman wearing a mask and business suit stands at podium with city skyline behind her.\" class=\"_1MKdo _3lrlT\" data-component=\"Image\" src=\"https://live-production.wcms.abc-cdn.net.au/186f81c730ac3789e97235eedb6c0672?impolicy=wcms_crop_resize&amp;cropH=1775&amp;cropW=2658&amp;xPos=282&amp;yPos=145&amp;width=160&amp;height=107\"/></noscript></div></div></div></div></div></div><div class=\"_1yJ-S\" data-component=\"CardBox\"><div class=\"_351Eo\" data-component=\"ThumbnailCard\" data-uri=\"coremedia://article/12275304\"><div class=\"_21a3v mobile-row tablet-row desktop-row\" data-component=\"CardLayout\"><div class=\"_3bhpO\"><h3 class=\"_3mduI _2t6_4 _1deB8 jwLlj _19NQB _1GKnS _2o9MN _1-RZJ _3tuph _3WPmc\" data-component=\"CardHeading\"><span class=\"_7fOxm\" data-component=\"KeyboardFocus\"><a class=\"_174h9 _2f8qj FQVx7 _2tPjN _1QHxY _3OwCD\" data-component=\"Link\" href=\"/news/2020-05-22/hong-kong-national-security-law-explainer/12275304\">Here's what you need to know about the controversial laws Beijing is passing on Hong Kong</a></span></h3></div><div class=\"_9_xgl _1H_uf _3_yhH _5ipoy _9Ukl8 _3XucE\"><div class=\"_3L4rN\" data-component=\"IntersectionObserver\"><div class=\"lt7xz\" data-component=\"AspectRatioContainer\" style=\"padding-bottom:66.66666666666666%\"><img alt=\"Pro-democracy lawmaker Wu Chi-wai scuffles with police.\" class=\"_1MKdo _3lrlT\" data-component=\"Image\" data-nojs=\"true\" data-src=\"https://live-production.wcms.abc-cdn.net.au/73de9a42bc6629b6afc43ec7447a8492?impolicy=wcms_crop_resize&amp;cropH=2000&amp;cropW=2990&amp;xPos=5&amp;yPos=0&amp;width=160&amp;height=107\" src=\"data:image/gif;base64,R0lGODlhAQABAIAAAAAAAP///yH5BAEAAAAALAAAAAABAAEAAAIBRAA7\"/><noscript><img alt=\"Pro-democracy lawmaker Wu Chi-wai scuffles with police.\" class=\"_1MKdo _3lrlT\" data-component=\"Image\" src=\"https://live-production.wcms.abc-cdn.net.au/73de9a42bc6629b6afc43ec7447a8492?impolicy=wcms_crop_resize&amp;cropH=2000&amp;cropW=2990&amp;xPos=5&amp;yPos=0&amp;width=160&amp;height=107\"/></noscript></div></div></div></div></div></div></div></div><div class=\"_3e8To\" data-component=\"RelatedTopics\"><div class=\"_21SmZ _3_Aqg _1hGzz _1-RZJ P8HGV\" data-component=\"Text\"><div class=\"LgEnq\">More on:</div><ul class=\"_3G3E6\" role=\"list\"><li class=\"_14XDX\"><a class=\"_2hBKM _2f8qj FQVx7 _2tPjN _1QHxY\" data-component=\"Link\" href=\"https://www.abc.net.au/news/topic/hong-kong\">Hong Kong</a></li><li class=\"_14XDX\"><a class=\"_2hBKM _2f8qj FQVx7 _2tPjN _1QHxY\" data-component=\"Link\" href=\"https://www.abc.net.au/news/topic/china\">China</a></li><li class=\"_14XDX\"><a class=\"_2hBKM _2f8qj FQVx7 _2tPjN _1QHxY\" data-component=\"Link\" href=\"https://www.abc.net.au/news/topic/asia\">Asia</a></li><li class=\"_14XDX\"><a class=\"_2hBKM _2f8qj FQVx7 _2tPjN _1QHxY\" data-component=\"Link\" href=\"https://www.abc.net.au/news/topic/world-politics\">World Politics</a></li><li class=\"_14XDX\"><a class=\"_2hBKM _2f8qj FQVx7 _2tPjN _1QHxY\" data-component=\"Link\" href=\"https://www.abc.net.au/news/topic/politics-and-government\">Politics and Government</a></li><li class=\"_14XDX\"><a class=\"_2hBKM _2f8qj FQVx7 _2tPjN _1QHxY\" data-component=\"Link\" href=\"https://www.abc.net.au/news/topic/terrorism\">Terrorism</a></li><li class=\"_14XDX\"><a class=\"_2hBKM _2f8qj FQVx7 _2tPjN _1QHxY\" data-component=\"Link\" href=\"https://www.abc.net.au/news/topic/demonstration\">Demonstration</a></li><li class=\"_14XDX\"><a class=\"_2hBKM _2f8qj FQVx7 _2tPjN _1QHxY\" data-component=\"Link\" href=\"https://www.abc.net.au/news/topic/law-crime-and-justice\">Law, Crime and Justice</a></li><li class=\"_14XDX\"><a class=\"_2hBKM _2f8qj FQVx7 _2tPjN _1QHxY\" data-component=\"Link\" href=\"https://www.abc.net.au/news/topic/foreign-affairs\">Foreign Affairs</a></li><li class=\"_14XDX\"><a class=\"_2hBKM _2f8qj FQVx7 _2tPjN _1QHxY\" data-component=\"Link\" href=\"https://www.abc.net.au/news/topic/activism-and-lobbying\">Activism and Lobbying</a></li></ul></div></div></div>"
      ]
     },
     "execution_count": 50,
     "metadata": {},
     "output_type": "execute_result"
    }
   ],
   "source": [
    "bodies"
   ]
  },
  {
   "cell_type": "code",
   "execution_count": 51,
   "metadata": {},
   "outputs": [
    {
     "data": {
      "text/plain": [
       "'The full details of the controversial national security law thrust upon Hong Kong by Beijing have been released, and it goes much further than had previously been predicted.Key points:Life sentences are possible for serious anti-state crimesThe law covers many of the activities of Hong Kong\\'s protest movementAustralia is among around two-dozen countries criticising the lawWhile there has been growing concern both in Hong Kong and around the world about the changes, the details of the legislation were only made public after it came into effect at 11:00pm yesterday, hours after Beijing passed it into law by decree.We now know the laws will punish crimes of secession, subversion, terrorism and collusion with foreign forces with up to life in prison.Even asking foreign countries to sanction or take any form of action against Hong Kong or China could be considered as collusion with foreign forces under the law.Hong Kong police said they arrested a man holding a flag advocating for independence, the first arrest under the new laws.Pictures posted by police on Twitter showed the flag lying on the sidewalk in front of a man wearing a black T-shirt with \"Free Hong Kong\" written on it.The law marks a new era for Hong Kong, and critics say it has effectively killed off the former British colony\\'s autonomy from mainland China.Here\\'s what you need to know.What\\'s in the new law? Courts in mainland China will have the power to hear some national security cases from Hong Kong.(AP: Vincent Yu)Early assessments of the law suggest some elements are stronger than many feared, both in scope and penalties.The crimes of secession, subversion of state power, terrorism and colluding with foreign countries and external elements — such as foreign institutions, organisations and personnel — could result in penalties of up to life in prison.Hong Kong protests explainedThe complicated conflict broken down in simple terms to help you get a handle on what\\'s going on Read moreThis has stunned some legal scholars, who say even peaceful actions such as the pro-democracy Occupy protests of 2014 could now bring 10 years\\' jail if foreign links could be proven.It also provides for more active state management and oversight of foreign groups, organisations and media based in Hong Kong, which has for decades been China\\'s freest and most international city.It demands disqualification for elected politicians who breach the law, a move certain to rile democracy activists in the run-up to crucial elections for Hong Kong\\'s Legislative Council in September. Molotov cocktails were used by some violent protesters. Arson is now listed as a terror offence.(Reuters: Athit Perawongmetha)And while the laws will not be applied retroactively against crimes committed before it was implemented, some of the actions of those who took part in the violent protests that have rocked Hong Kong over the past 12 months may now constitute terror offences.Terror offences:Severe violence against peopleExplosions, arson or the release of pathogens, poisons and other substancesDestruction of vehicles, public transport, power and gas equipment, or other flammable and explosive equipmentSeverely disrupting and destroying electronic control systems for public services like water, power, transportation and communicationsUsing other dangerous methods to seriously endanger public health of safetyDamaging public transport would be considered a terror offence, and damaging government buildings would also be a serious offence.One major concern is that the legislation allows mainland Chinese security and intelligence agents to operate in Hong Kong on an official basis, and gives them powers that go beyond local laws.These agents will be allowed to carry out surveillance of people suspected of endangering national security, including through the use of wiretaps, and cannot be detained or inspected by local authorities while carrying out their duties.The intelligence agents will have a new base in the city at a mainland security commission, while Hong Kong\\'s Government will also have its own commission, backed by a special police unit.Up until now, Hong Kong has boasted a proudly independent judiciary and a separate, common-law-based legal system — but that will also face unprecedented pressure under the new law.The national security law allows Hong Kong\\'s chief executive to appoint judges for national security cases, and lets mainland courts hear serious and complex Hong Kong cases in certain situations. Protesters stormed Hong Kong\\'s legislature last year during the protests: such actions would now fall under the national security law.(AP: Kin Cheung)These include cases allegedly involving collusion with foreign forces, but it\\'s still not known how suspects will be taken to the mainland, given Hong Kong has no formal extradition arrangements with Beijing.There is also a provision allowing for trials to take place secretly, barring public and media access to proceedings, if the case involves \"state secrets or public order\". However judgements must be publicised.Media organisations that publish articles or images about things judged to be terror offences could be prosecuted under a section that bans promoting or inciting terrorist activities.What has the local reaction been? Carrie Lam, Hong Kong\\'s pro-Beijing chief executive, is a supporter of the law.(Reuters: Tyrone Siu)Hong Kong Chief Executive Carrie Lam says mainland national security laws are long overdue for the territory.But many in the city are waiting to see if action will be swift or whether authorities will wait to test their new institutions and cautiously build cases.Some high-profile democracy and independence activists have said they expected to become the first to be detained under the new regime, and as a result chose to disband their groups.LoadingWithin two hours of the law being announced, the Government revealed special local police and justice department prosecution units had already been formed to enforce the law.Fear has been building in some political, activist, academic, religious and business circles and some predict that, beyond high-profile cases, the law will chill the openness that they have taken for granted. Some say privately they are questioning whether they should leave Hong Kong.\"The punitive elements of the law are stupefying,\" Simon Young, a law professor at the University of Hong Kong\\'s law school, and a barrister, told Reuters.\"Let us hope no-one tries to test this law, for the consequences to the individual and the legal system will be irreparable.\"What has the international community said? Calling for the international community to take action could now be considered a form of \"collusion\".(AP: Vincent Yu)Australia has joined more than 20 other countries in expressing deep concern about the new national security law for Hong Kong.Foreign Minister Marise Payne said the Federal Government was troubled that the laws were passed without any input from the people of Hong Kong, or the city\\'s legislature and judiciary.Senator Payne said the eyes of the world were on Hong Kong, and that the legislation undermined the \"one country, two systems\" model adopted when the UK handed back control of the city to Beijing.Hong Kong\\'s countdown to 2047Hong Kong was handed back to China with no framework for what would happen after the year 2047, leaving the city to carve an identity out of two ideologically opposed empires.Read moreUK Foreign Secretary Dominic Raab said it violated the agreement between Britain and Hong Kong, which was finalised on this day in 1997.Hong Kong\\'s former colonial power joined the European Union, Japan and the US in condemning the law, and calling on Beijing to preserve the right to assembly and free press.\"The United States will not stand idly by while China swallows Hong Kong into its authoritarian maw,\" US Secretary of State Mike Pompeo said in a statement.He said the United States would stand with the people of Hong Kong and \"respond to Beijing\\'s attacks on freedoms of speech, the press, and assembly, as well as the rule of law\".Washington began eliminating Hong Kong\\'s special status under US law this week, halting defence exports and restricting technology access.What has Beijing had to say? China denies that the law goes against the agreement it struck with Britain in 1997.(AP: Kin Cheung)China has rejected criticism of the law and says it will retaliate against the US over its punitive actions.Asked about criticism that the law undermined the \"one country, two systems\" model, Chinese Foreign Ministry spokesman Zhao Lijian hit out against what he said was \"foreign interference\" in China\\'s business.China\\'s explosive new national security lawFor two decades, Beijing has been frustrated by opposition to security laws in Hong Kong. But Xi Jinping is now convinced winning local support is futile, writes Bill Birtles.Read more\"Hong Kong affairs are entirely China\\'s internal affairs that allow no foreign interference,\" he said.\"Establishing and improving a legal framework and enforcement mechanisms for safeguarding national security in Hong Kong is in itself an embodiment of one country, two systems.\"It is to ensure the steady implementation of this principle as well as the prosperity and stability of Hong Kong, which has been endorsed by all Chinese people, including our compatriots in Hong Kong, and most countries in the world.\"Both Hong Kong and Chinese central government officials have said the law is vital to plug gaping holes in Hong Kong\\'s national security defences — deficiencies exposed in the months of sometimes-violent protests that rocked the city in the past year.Hong Kong and Chinese officials have repeatedly said only a tiny number of people will be targeted by the new laws and that the rights and freedoms of ordinary people will not be affected.ABC/WiresPosted  1 JulJuly 2020WedWednesday 1 JulJuly 2020 at 5:16am, updated 1 JulJuly 2020WedWednesday 1 JulJuly 2020 at 4:06pmShareCopy linkFacebookTwitterArticle share optionsShare this onFacebookTwitterLinkedInSend this byEmailMessengerCopy linkWhatsAppRelated StoriesThe handover was a historic moment, but some Hongkongers in Australia say it sold out their futureChina reveals new national security law for Hong Kong to stop \\'terrorism\\' amid international condemnationHere\\'s what you need to know about the controversial laws Beijing is passing on Hong KongMore on:Hong KongChinaAsiaWorld PoliticsPolitics and GovernmentTerrorismDemonstrationLaw, Crime and JusticeForeign AffairsActivism and Lobbying'"
      ]
     },
     "execution_count": 51,
     "metadata": {},
     "output_type": "execute_result"
    }
   ],
   "source": [
    "body = remove_tags(str(bodies))\n",
    "body"
   ]
  },
  {
   "cell_type": "code",
   "execution_count": 52,
   "metadata": {},
   "outputs": [],
   "source": [
    "body = body.split('ABC/WiresPosted')\n",
    "body = [body[0]]"
   ]
  },
  {
   "cell_type": "code",
   "execution_count": 53,
   "metadata": {},
   "outputs": [],
   "source": [
    "df_news = pd.DataFrame()"
   ]
  },
  {
   "cell_type": "code",
   "execution_count": 54,
   "metadata": {},
   "outputs": [],
   "source": [
    "df_news['article_body'] = body"
   ]
  },
  {
   "cell_type": "code",
   "execution_count": 55,
   "metadata": {
    "scrolled": true
   },
   "outputs": [
    {
     "data": {
      "text/html": [
       "<div>\n",
       "<style scoped>\n",
       "    .dataframe tbody tr th:only-of-type {\n",
       "        vertical-align: middle;\n",
       "    }\n",
       "\n",
       "    .dataframe tbody tr th {\n",
       "        vertical-align: top;\n",
       "    }\n",
       "\n",
       "    .dataframe thead th {\n",
       "        text-align: right;\n",
       "    }\n",
       "</style>\n",
       "<table border=\"1\" class=\"dataframe\">\n",
       "  <thead>\n",
       "    <tr style=\"text-align: right;\">\n",
       "      <th></th>\n",
       "      <th>article_body</th>\n",
       "    </tr>\n",
       "  </thead>\n",
       "  <tbody>\n",
       "    <tr>\n",
       "      <th>0</th>\n",
       "      <td>The full details of the controversial national...</td>\n",
       "    </tr>\n",
       "  </tbody>\n",
       "</table>\n",
       "</div>"
      ],
      "text/plain": [
       "                                        article_body\n",
       "0  The full details of the controversial national..."
      ]
     },
     "execution_count": 55,
     "metadata": {},
     "output_type": "execute_result"
    }
   ],
   "source": [
    "df_news.head(2)"
   ]
  },
  {
   "cell_type": "code",
   "execution_count": 56,
   "metadata": {},
   "outputs": [],
   "source": [
    "df_news['article_body'] = df_news.article_body.str.cat(sep=' ')"
   ]
  },
  {
   "cell_type": "code",
   "execution_count": 57,
   "metadata": {},
   "outputs": [],
   "source": [
    "df_news = df_news.article_body[0]"
   ]
  },
  {
   "cell_type": "code",
   "execution_count": 58,
   "metadata": {},
   "outputs": [],
   "source": [
    "df_news = df_news.replace(r'\\\\?','')"
   ]
  },
  {
   "cell_type": "code",
   "execution_count": 59,
   "metadata": {},
   "outputs": [],
   "source": [
    "df_news = pd.DataFrame([df_news])"
   ]
  },
  {
   "cell_type": "code",
   "execution_count": 60,
   "metadata": {},
   "outputs": [
    {
     "data": {
      "text/plain": [
       "pandas.core.frame.DataFrame"
      ]
     },
     "execution_count": 60,
     "metadata": {},
     "output_type": "execute_result"
    }
   ],
   "source": [
    "type(df_news)"
   ]
  },
  {
   "cell_type": "code",
   "execution_count": 61,
   "metadata": {},
   "outputs": [],
   "source": [
    "df_news.columns = ['Article']"
   ]
  },
  {
   "cell_type": "code",
   "execution_count": 62,
   "metadata": {},
   "outputs": [
    {
     "data": {
      "text/html": [
       "<div>\n",
       "<style scoped>\n",
       "    .dataframe tbody tr th:only-of-type {\n",
       "        vertical-align: middle;\n",
       "    }\n",
       "\n",
       "    .dataframe tbody tr th {\n",
       "        vertical-align: top;\n",
       "    }\n",
       "\n",
       "    .dataframe thead th {\n",
       "        text-align: right;\n",
       "    }\n",
       "</style>\n",
       "<table border=\"1\" class=\"dataframe\">\n",
       "  <thead>\n",
       "    <tr style=\"text-align: right;\">\n",
       "      <th></th>\n",
       "      <th>Article</th>\n",
       "    </tr>\n",
       "  </thead>\n",
       "  <tbody>\n",
       "    <tr>\n",
       "      <th>0</th>\n",
       "      <td>The full details of the controversial national...</td>\n",
       "    </tr>\n",
       "  </tbody>\n",
       "</table>\n",
       "</div>"
      ],
      "text/plain": [
       "                                             Article\n",
       "0  The full details of the controversial national..."
      ]
     },
     "execution_count": 62,
     "metadata": {},
     "output_type": "execute_result"
    }
   ],
   "source": [
    "df_news.head()"
   ]
  },
  {
   "cell_type": "code",
   "execution_count": null,
   "metadata": {},
   "outputs": [],
   "source": []
  },
  {
   "cell_type": "markdown",
   "metadata": {},
   "source": [
    "**Bringing it together.**<a id='2.5_bit'></a>"
   ]
  },
  {
   "cell_type": "code",
   "execution_count": 63,
   "metadata": {},
   "outputs": [],
   "source": [
    "df_6_abc = pd.concat([df_file_name,df_date,df_source,df_country,df_title,df_news],axis = 1, ignore_index=False)"
   ]
  },
  {
   "cell_type": "code",
   "execution_count": 64,
   "metadata": {},
   "outputs": [],
   "source": [
    "df_6_abc.columns = ['file_name','date','source','country','title','article']"
   ]
  },
  {
   "cell_type": "code",
   "execution_count": 65,
   "metadata": {},
   "outputs": [
    {
     "data": {
      "text/html": [
       "<div>\n",
       "<style scoped>\n",
       "    .dataframe tbody tr th:only-of-type {\n",
       "        vertical-align: middle;\n",
       "    }\n",
       "\n",
       "    .dataframe tbody tr th {\n",
       "        vertical-align: top;\n",
       "    }\n",
       "\n",
       "    .dataframe thead th {\n",
       "        text-align: right;\n",
       "    }\n",
       "</style>\n",
       "<table border=\"1\" class=\"dataframe\">\n",
       "  <thead>\n",
       "    <tr style=\"text-align: right;\">\n",
       "      <th></th>\n",
       "      <th>file_name</th>\n",
       "      <th>date</th>\n",
       "      <th>source</th>\n",
       "      <th>country</th>\n",
       "      <th>title</th>\n",
       "      <th>article</th>\n",
       "    </tr>\n",
       "  </thead>\n",
       "  <tbody>\n",
       "    <tr>\n",
       "      <th>0</th>\n",
       "      <td>abc_6</td>\n",
       "      <td>2020-07-01</td>\n",
       "      <td>ABC News</td>\n",
       "      <td>US</td>\n",
       "      <td>What's in Hong Kong's new national security la...</td>\n",
       "      <td>The full details of the controversial national...</td>\n",
       "    </tr>\n",
       "  </tbody>\n",
       "</table>\n",
       "</div>"
      ],
      "text/plain": [
       "  file_name        date    source country  \\\n",
       "0     abc_6  2020-07-01  ABC News      US   \n",
       "\n",
       "                                               title  \\\n",
       "0  What's in Hong Kong's new national security la...   \n",
       "\n",
       "                                             article  \n",
       "0  The full details of the controversial national...  "
      ]
     },
     "execution_count": 65,
     "metadata": {},
     "output_type": "execute_result"
    }
   ],
   "source": [
    "df_6_abc.head()"
   ]
  },
  {
   "cell_type": "code",
   "execution_count": null,
   "metadata": {},
   "outputs": [],
   "source": []
  },
  {
   "cell_type": "markdown",
   "metadata": {},
   "source": [
    "**Saving**<a id='2.6_save'></a>"
   ]
  },
  {
   "cell_type": "code",
   "execution_count": 66,
   "metadata": {},
   "outputs": [
    {
     "name": "stdout",
     "output_type": "stream",
     "text": [
      "C:\\Users\\rands\n"
     ]
    }
   ],
   "source": [
    "cd"
   ]
  },
  {
   "cell_type": "markdown",
   "metadata": {},
   "source": [
    "Saving it to Excel."
   ]
  },
  {
   "cell_type": "code",
   "execution_count": 67,
   "metadata": {},
   "outputs": [
    {
     "name": "stdout",
     "output_type": "stream",
     "text": [
      "Complete\n"
     ]
    }
   ],
   "source": [
    "# df = pd.DataFrame(reviewlist)\n",
    "\n",
    "# index=False below so that we don't get the dataframe index on the side; we just use the excel index\n",
    "df_6_abc.to_csv('./_Capstone_Two_NLP/data/_news/abc_6.csv', index=False)\n",
    "\n",
    "print('Complete')"
   ]
  },
  {
   "cell_type": "code",
   "execution_count": null,
   "metadata": {},
   "outputs": [],
   "source": []
  }
 ],
 "metadata": {
  "kernelspec": {
   "display_name": "Python 3",
   "language": "python",
   "name": "python3"
  },
  "language_info": {
   "codemirror_mode": {
    "name": "ipython",
    "version": 3
   },
   "file_extension": ".py",
   "mimetype": "text/x-python",
   "name": "python",
   "nbconvert_exporter": "python",
   "pygments_lexer": "ipython3",
   "version": "3.8.5"
  },
  "varInspector": {
   "cols": {
    "lenName": 16,
    "lenType": 16,
    "lenVar": 40
   },
   "kernels_config": {
    "python": {
     "delete_cmd_postfix": "",
     "delete_cmd_prefix": "del ",
     "library": "var_list.py",
     "varRefreshCmd": "print(var_dic_list())"
    },
    "r": {
     "delete_cmd_postfix": ") ",
     "delete_cmd_prefix": "rm(",
     "library": "var_list.r",
     "varRefreshCmd": "cat(var_dic_list()) "
    }
   },
   "types_to_exclude": [
    "module",
    "function",
    "builtin_function_or_method",
    "instance",
    "_Feature"
   ],
   "window_display": false
  }
 },
 "nbformat": 4,
 "nbformat_minor": 4
}
