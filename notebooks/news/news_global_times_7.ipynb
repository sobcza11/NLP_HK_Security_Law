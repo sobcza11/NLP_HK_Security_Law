{
 "cells": [
  {
   "cell_type": "markdown",
   "metadata": {},
   "source": [
    "# Scraping UK bluffs from Global Times"
   ]
  },
  {
   "cell_type": "markdown",
   "metadata": {},
   "source": [
    "## 2.1 Contents<a id='2.1_Contents'></a>\n",
    "* [2.1 Importing Relevant Tools](#2.1_Importing)\n",
    "* [2.2 Defining the Request](#2.2_URL)\n",
    "* [2.3 Grab | Date](#2.4_scrape_date)\n",
    "* [2.4 Grab | Header](#2.4_scrape_header)\n",
    "* [2.5 Grab | Content](#2.4_scrape_content)\n",
    "* [2.6 Clean | Send to DataFrame](#2.5_review)\n",
    "* [2.7 Save](#2.6_save)\n"
   ]
  },
  {
   "cell_type": "markdown",
   "metadata": {},
   "source": [
    "**Importing Relevant Tools**<a id='2.1_Importing'></a>"
   ]
  },
  {
   "cell_type": "code",
   "execution_count": 1,
   "metadata": {},
   "outputs": [],
   "source": [
    "import json\n",
    "import pandas as pd\n",
    "from bs4 import BeautifulSoup as soup\n",
    "import requests\n",
    "import csv\n",
    "import re\n",
    "import pickle\n",
    "\n",
    "%reload_ext watermark"
   ]
  },
  {
   "cell_type": "code",
   "execution_count": 2,
   "metadata": {},
   "outputs": [],
   "source": [
    "#the below needs to be reviewed for all websites; notably the time format\n",
    "\n",
    "from datetime import date\n",
    "from datetime import datetime\n",
    "today = date.today()\n",
    "d = today.strftime(\"%m-%d-%y\")"
   ]
  },
  {
   "cell_type": "markdown",
   "metadata": {},
   "source": [
    "For reference."
   ]
  },
  {
   "cell_type": "code",
   "execution_count": 3,
   "metadata": {},
   "outputs": [
    {
     "name": "stdout",
     "output_type": "stream",
     "text": [
      "Python implementation: CPython\n",
      "Python version       : 3.8.5\n",
      "IPython version      : 7.19.0\n",
      "\n",
      "pandas: 1.1.3\n",
      "\n"
     ]
    }
   ],
   "source": [
    "%watermark -d -t -v -p pandas"
   ]
  },
  {
   "cell_type": "markdown",
   "metadata": {},
   "source": [
    "**Defining the Request**<a id='2.2_URL'></a>"
   ]
  },
  {
   "cell_type": "code",
   "execution_count": 5,
   "metadata": {},
   "outputs": [
    {
     "data": {
      "text/plain": [
       "'https://www.globaltimes.cn/content/1193696.shtml'"
      ]
     },
     "execution_count": 5,
     "metadata": {},
     "output_type": "execute_result"
    }
   ],
   "source": [
    "url = 'https://www.globaltimes.cn/content/1193696.shtml'.format(d)\n",
    "url"
   ]
  },
  {
   "cell_type": "code",
   "execution_count": 6,
   "metadata": {},
   "outputs": [],
   "source": [
    "html = requests.get(url)"
   ]
  },
  {
   "cell_type": "code",
   "execution_count": 9,
   "metadata": {},
   "outputs": [],
   "source": [
    "bsobj = soup(html.content,'lxml')\n",
    "# bsobj"
   ]
  },
  {
   "cell_type": "markdown",
   "metadata": {},
   "source": [
    "**Grab | Date**<a id='2.4_scrape_date'></a>"
   ]
  },
  {
   "cell_type": "code",
   "execution_count": 13,
   "metadata": {},
   "outputs": [
    {
     "name": "stdout",
     "output_type": "stream",
     "text": [
      "By Yang Sheng and Shen Weiduo Source:Global Times Published: 2020/7/6 22:23:40\n"
     ]
    }
   ],
   "source": [
    "for date in bsobj.find('div',{'class':'span8 text-left'}):\n",
    "    print(date.strip())"
   ]
  },
  {
   "cell_type": "markdown",
   "metadata": {},
   "source": [
    "Needs a lot of work."
   ]
  },
  {
   "cell_type": "markdown",
   "metadata": {},
   "source": [
    "**Grab | Header**<a id='2.4_scrape_header'></a>"
   ]
  },
  {
   "cell_type": "code",
   "execution_count": 17,
   "metadata": {},
   "outputs": [
    {
     "name": "stdout",
     "output_type": "stream",
     "text": [
      "\n",
      " UK bluffs over Hong Kong \n",
      "\n",
      " London’s measures meaningless, ‘bluff rather than bite’ \n"
     ]
    }
   ],
   "source": [
    "for title in bsobj.findAll('div',{'class':'row-fluid article-title'}):\n",
    "    print(format(title.text))"
   ]
  },
  {
   "cell_type": "markdown",
   "metadata": {},
   "source": [
    "Two titles here but the second one helps explain the first one."
   ]
  },
  {
   "cell_type": "markdown",
   "metadata": {},
   "source": [
    "**Grab | Content**<a id='2.4_scrape_content'></a>"
   ]
  },
  {
   "cell_type": "code",
   "execution_count": 16,
   "metadata": {},
   "outputs": [
    {
     "name": "stdout",
     "output_type": "stream",
     "text": [
      " \n",
      "A Huawei store stands next to a Globe Telecom booth in Makati City, the Philippines on April 14, 2019. Photo: cnsphotoThe UK, a country with massive untold interests in Hong Kong and wants to retain its colonial influence in the city as much as possible, is now acting tough against China's national security law for its Hong Kong Special Administrative Region (HKSAR). Chinese analysts said on Monday that the actions of the UK are more of a bluff since they can't harm China, but will only damage itself.The measures that the UK would take, including phasing out the use of Chinese firm's technology in its 5G network and offering up to 3 million Hong Kong residents the chance to settle in UK, will cost a huge amount of money and resources for the UK, rather than harm China, experts said.British Prime Minister Boris Johnson declared on Wednesday that China's new national security law in Hong Kong was a \"clear and serious breach\" of the 1984 Sino-British Joint Declaration. It was among the strongest statements he's made as UK prime minister on the matter, Bloomberg reported.Chinese Ambassador to the UK Liu Xiaoming said Monday at a press conference that China's national security legislation for the HKSAR has ensured Hong Kong's high degree of autonomy, and does not affect the capitalist system and judicial independence in Hong Kong.The law on safeguarding national security in HKSAR was enacted to safeguard the 'one country, two systems', Liu noted, adding that the law is fundamental to end chaos and restore order in Hong Kong.Liu responded to the UK's accusation that China broke its promise in the Sino-British Joint Declaration that, \"the copyright of 'one country, two systems' belongs to Chinese former leader Deng Xiaoping, not the Sino-British Joint Declaration,\" and China has never failed to fulfill its international obligations.Cui Hongjian, the director of the Department of European Studies at the China Institute of International Studies, told the Global Times on Monday that the declaration is just a historical document that reflects the consensus of the two countries on Hong Kong at that time, and the Basic Law and the \"one country, two systems\" are China's domestic affairs rather than a promise to any other country.While the UK believes it has right and responsibility to \"ensure\" Hong Kong's autonomy, with other Western countries having similar opinions, the new national security law proves that their moves and words are useless and meaningless, Cui said.Observers noted that the UK has no power and right to comment or act on Hong Kong, and what it really cares is neither \"democracy\" nor \"human rights,\" but its untold interests in HK autonomy. An expert on international intelligence and security who asked not to be named told the Global Times that \"Hong Kong is an important financial hub and intelligence exchange center, and the UK has tried very hard to retain its inappropriate influence in its former colony, such as keeping engagements with Hong Kong politicians, funding and training proxies to influence the education sectors, as well as building connections with legal professionals.\"\"The UK, as a crucial member of the Five Eyes Alliance, has used its influence in Hong Kong to collect intelligence about China and influence the city's politics to favor the West after 1997. But given excessive provocation against China led by the US since last year, China has decided not to tolerate their inappropriate influence anymore. So the Johnson administration will definitely feel the pain and will act echoing angry conservative politicians in Britain,\" he said.\n",
      "\n",
      "The US has at least 20 laws on national security while the UK has at least 3. Why can't China have one to safeguard national security on its own territory? Illustration: GT 'Do me a favor' In response to China's national security law for Hong Kong, London has announced to offer about 350,000 BNO passport holders in Hong Kong, and 2.6 million others eligible, to come to the UK for five years. A year after that, they will be able to apply for citizenship, BBC reported.BNO Passport holders in Hong Kong were granted special status in the 1980s, but have limited rights, and are only entitled to visa-free access to the UK for six months. Under the UK government's new plans, all BNOs and their dependents will be given the right to remain in the UK, including the right to work and study, for five years. At this point, they will be able to apply for settled status, and after a further year, seek citizenship.Cui said this is more like a symbolic announcement, as most young protesters or rioters convicted during the turmoil are not eligible, unless London makes new policies to accept these protesters.On the BNO policy for Hong Kong made by the UK government, Liu said it is a \"gross interference\" in the internal affairs of China and violation of international norms.China will respond to Britain's offer of citizenship to BNO passport holders in Hong Kong once it sees details of the plan, Liu said.\"We hope that they will reconsider their position. With regard to China's response, we have to wait and see the specific actions of the UK,\" Liu noted.The anonymous expert noted that if these people leave Hong Kong, they can no longer make trouble in the city for their foreign masters. We won't let the criminals escape, but for ordinary people who love the UK more than China, London can do us a favor and send chartered airplanes to take them away.\" \"But these people could become a problem and create economic pressure for the UK, as most of them are neither wealthy nor talented, but a bunch of law breakers, and British people who don't welcome immigrants will be very hostile to them,\" he added.\n",
      "\n",
      "Photo taken on Nov. 20, 2019 shows Huawei's exhibition booth during a press preview for the 2019 World 5G Convention in Beijing, capital of China.(Xinhua/Li Xin)5G lossChinese tech giant Huawei has become a UK target to vent its \"anger\" at China.The Daily Telegraph reported on Saturday that the UK is expected to begin phasing out the use of Huawei technology in the country's 5G network as soon as this year, after Johnson said last week that he would protect critical British infrastructure from \"hostile state vendors.\"  The newspaper said officials are drawing up proposals to stop installing new Huawei equipment in the country's 5G network in six months, and to speed up the removal of technology already in place.However, Chinese analysts said the UK's attitude toward Huawei shows London does not have many options, and the restrictions on Huawei amount to a \"bluff than a bite.\" Cui said London's action against Huawei was caused by pressure from the US, but it was reluctant to do because it also benefited from cooperating with Huawei, and China's national security law for Hong Kong provided an excuse for 10 Downing Street to act.If the UK doesn't want Huawei but spends more money for other products with poor quality, \"it's up to you,\" Liu said.If Huawei really has good products, then it should not worry about it, Liu said, adding that the world market is big enough to accommodate Huawei, and Huawei will survive and grow regardless of the discriminatory policies of   countries like the UK and the US.The UK decided in January to let Huawei continue its role in the country's 5G network, but with restrictions. The company was excluded from providing \"core\" 5G gear, despite pressure from the US to crack down on the Chinese firm.Analysts said the British government may \"say one thing but do another,\" as the Johnson administration prioritizes economic interests over political power games.Bluff or bite?Huawei said in a statement it sent to the Global Times on Monday that it \"remains open to discussions with the government,\" and is \"finding ways with customers to manage the proposed US restrictions so the UK can maintain its lead in 5G.\" \"All our world-leading products and solutions use technology and components over which the UK government has strict oversight. Our technology is already extensively used in 5G networks across the country, and has helped connect people throughout the lockdown,\" Victor Zhang, Huawei's vice president, said in the statement.The UK is actually aware that it's not a smart move to reverse its policy on Huawei, as the nation can't afford the consequences--from the industrial impact which could cost millions of dollars, to the harm done to China-UK ties, said Ma Jihua, a veteran industry analyst and close follower of Huawei.In late June, just days before the passage of the National Security Law for Hong Kong by Standing Committee of China's NPC - something markets widely anticipated - the UK government approved Huawei's plan to build a one billion pound ($1.24 billion) chip research and manufacturing facility in England.Ma added that China and Europe have long been conducting close cooperation in telecommunications so the two could establish their place in the industry, and the UK and other European countries should think twice before choosing to give up Europe's 5G lead due to US disruption.Cui noted that, fortunately, the UK is not an EU member anymore, so even if it totally excludes Huawei in its national 5G network construction, it won't affect Huawei's cooperation with Europe, which is a much bigger cake than Britain.\n",
      "RELATED ARTICLES:  China hopes France can ‘independently make choices’ on Huawei’s 5G Huawei open to discussions after UK reportedly set to phase it out of 5G network  \n"
     ]
    }
   ],
   "source": [
    "for title in bsobj.findAll('div',{'class':'span12 row-content'}):\n",
    "    print(format(title.text))"
   ]
  },
  {
   "cell_type": "markdown",
   "metadata": {},
   "source": [
    "That's not the bottom; multiple news topics combined into one. Will need to see how to delete below."
   ]
  },
  {
   "cell_type": "markdown",
   "metadata": {},
   "source": [
    "**Clean | Send to DataFrame**<a id='2.5_review'></a>"
   ]
  },
  {
   "cell_type": "markdown",
   "metadata": {},
   "source": [
    "First the date from string to a datetime object."
   ]
  },
  {
   "cell_type": "code",
   "execution_count": 22,
   "metadata": {},
   "outputs": [],
   "source": [
    "for day in bsobj.find('div',{'class':'span8 text-left'}):\n",
    "    day_pub = day.strip()"
   ]
  },
  {
   "cell_type": "code",
   "execution_count": 23,
   "metadata": {},
   "outputs": [
    {
     "data": {
      "text/plain": [
       "'By Yang Sheng and Shen Weiduo Source:Global Times Published: 2020/7/6 22:23:40'"
      ]
     },
     "execution_count": 23,
     "metadata": {},
     "output_type": "execute_result"
    }
   ],
   "source": [
    "day_pub"
   ]
  },
  {
   "cell_type": "code",
   "execution_count": 25,
   "metadata": {},
   "outputs": [
    {
     "data": {
      "text/plain": [
       "datetime.date(2020, 7, 6)"
      ]
     },
     "execution_count": 25,
     "metadata": {},
     "output_type": "execute_result"
    }
   ],
   "source": [
    "#Replacing the first part\n",
    "day_pub = re.sub('By Yang Sheng and Shen Weiduo Source:Global Times Published: ','',day_pub)\n",
    "#Replacing the second part\n",
    "day_pub = re.sub(' 22:23:40','',day_pub)\n",
    "day_pub = re.sub('/','-',day_pub)\n",
    "#Converting to dattime format\n",
    "day_pub = datetime.strptime(day_pub, '%Y-%m-%d').date()\n",
    "day_pub"
   ]
  },
  {
   "cell_type": "code",
   "execution_count": 26,
   "metadata": {},
   "outputs": [],
   "source": [
    "df_date = pd.DataFrame([day_pub])"
   ]
  },
  {
   "cell_type": "code",
   "execution_count": 27,
   "metadata": {},
   "outputs": [
    {
     "data": {
      "text/plain": [
       "pandas.core.frame.DataFrame"
      ]
     },
     "execution_count": 27,
     "metadata": {},
     "output_type": "execute_result"
    }
   ],
   "source": [
    "type(df_date)"
   ]
  },
  {
   "cell_type": "code",
   "execution_count": 28,
   "metadata": {},
   "outputs": [
    {
     "data": {
      "text/html": [
       "<div>\n",
       "<style scoped>\n",
       "    .dataframe tbody tr th:only-of-type {\n",
       "        vertical-align: middle;\n",
       "    }\n",
       "\n",
       "    .dataframe tbody tr th {\n",
       "        vertical-align: top;\n",
       "    }\n",
       "\n",
       "    .dataframe thead th {\n",
       "        text-align: right;\n",
       "    }\n",
       "</style>\n",
       "<table border=\"1\" class=\"dataframe\">\n",
       "  <thead>\n",
       "    <tr style=\"text-align: right;\">\n",
       "      <th></th>\n",
       "      <th>0</th>\n",
       "    </tr>\n",
       "  </thead>\n",
       "  <tbody>\n",
       "    <tr>\n",
       "      <th>0</th>\n",
       "      <td>2020-07-06</td>\n",
       "    </tr>\n",
       "  </tbody>\n",
       "</table>\n",
       "</div>"
      ],
      "text/plain": [
       "            0\n",
       "0  2020-07-06"
      ]
     },
     "execution_count": 28,
     "metadata": {},
     "output_type": "execute_result"
    }
   ],
   "source": [
    "df_date"
   ]
  },
  {
   "cell_type": "markdown",
   "metadata": {},
   "source": [
    "Now the title."
   ]
  },
  {
   "cell_type": "code",
   "execution_count": 32,
   "metadata": {},
   "outputs": [
    {
     "data": {
      "text/plain": [
       "' London’s measures meaningless, ‘bluff rather than bite’ '"
      ]
     },
     "execution_count": 32,
     "metadata": {},
     "output_type": "execute_result"
    }
   ],
   "source": [
    "for title_s in bsobj.findAll('div',{'class':'row-fluid article-title'}):\n",
    "    title_list = format(title_s.text)\n",
    "title_list"
   ]
  },
  {
   "cell_type": "markdown",
   "metadata": {},
   "source": [
    "That's the second part but fully encapsulates the story so we will work with it."
   ]
  },
  {
   "cell_type": "code",
   "execution_count": 33,
   "metadata": {},
   "outputs": [
    {
     "data": {
      "text/plain": [
       "'London’s measures meaningless, ‘bluff rather than bite’'"
      ]
     },
     "execution_count": 33,
     "metadata": {},
     "output_type": "execute_result"
    }
   ],
   "source": [
    "title_list = re.sub(' London’s measures meaningless, ‘bluff rather than bite’ ','London’s measures meaningless, ‘bluff rather than bite’',title_list)\n",
    "title_list"
   ]
  },
  {
   "cell_type": "code",
   "execution_count": 34,
   "metadata": {},
   "outputs": [],
   "source": [
    "df_title = pd.DataFrame([title_list])"
   ]
  },
  {
   "cell_type": "code",
   "execution_count": 35,
   "metadata": {},
   "outputs": [
    {
     "data": {
      "text/html": [
       "<div>\n",
       "<style scoped>\n",
       "    .dataframe tbody tr th:only-of-type {\n",
       "        vertical-align: middle;\n",
       "    }\n",
       "\n",
       "    .dataframe tbody tr th {\n",
       "        vertical-align: top;\n",
       "    }\n",
       "\n",
       "    .dataframe thead th {\n",
       "        text-align: right;\n",
       "    }\n",
       "</style>\n",
       "<table border=\"1\" class=\"dataframe\">\n",
       "  <thead>\n",
       "    <tr style=\"text-align: right;\">\n",
       "      <th></th>\n",
       "      <th>0</th>\n",
       "    </tr>\n",
       "  </thead>\n",
       "  <tbody>\n",
       "    <tr>\n",
       "      <th>0</th>\n",
       "      <td>London’s measures meaningless, ‘bluff rather t...</td>\n",
       "    </tr>\n",
       "  </tbody>\n",
       "</table>\n",
       "</div>"
      ],
      "text/plain": [
       "                                                   0\n",
       "0  London’s measures meaningless, ‘bluff rather t..."
      ]
     },
     "execution_count": 35,
     "metadata": {},
     "output_type": "execute_result"
    }
   ],
   "source": [
    "df_title"
   ]
  },
  {
   "cell_type": "code",
   "execution_count": 36,
   "metadata": {},
   "outputs": [
    {
     "data": {
      "text/plain": [
       "pandas.core.frame.DataFrame"
      ]
     },
     "execution_count": 36,
     "metadata": {},
     "output_type": "execute_result"
    }
   ],
   "source": [
    "type(df_title)"
   ]
  },
  {
   "cell_type": "markdown",
   "metadata": {},
   "source": [
    "These items are manually added."
   ]
  },
  {
   "cell_type": "code",
   "execution_count": 37,
   "metadata": {},
   "outputs": [],
   "source": [
    "country = 'China'\n",
    "df_country = pd.DataFrame([country])\n",
    "source = 'Global Times'\n",
    "df_source = pd.DataFrame([source])\n",
    "file_name = 'globaltimes_7'\n",
    "df_file_name = pd.DataFrame([file_name])\n"
   ]
  },
  {
   "cell_type": "markdown",
   "metadata": {},
   "source": [
    "Finally, the news."
   ]
  },
  {
   "cell_type": "code",
   "execution_count": 38,
   "metadata": {},
   "outputs": [],
   "source": [
    "news1 = []\n",
    "for news in bsobj.findAll('div',{'class':'span12 row-content'}):\n",
    "    news1.append(news.text.strip())"
   ]
  },
  {
   "cell_type": "code",
   "execution_count": 40,
   "metadata": {},
   "outputs": [
    {
     "data": {
      "text/plain": [
       "1"
      ]
     },
     "execution_count": 40,
     "metadata": {},
     "output_type": "execute_result"
    }
   ],
   "source": [
    "len(news1)"
   ]
  },
  {
   "cell_type": "code",
   "execution_count": 41,
   "metadata": {},
   "outputs": [],
   "source": [
    "df_news = pd.DataFrame()"
   ]
  },
  {
   "cell_type": "code",
   "execution_count": 42,
   "metadata": {},
   "outputs": [],
   "source": [
    "df_news['article_body'] = news1"
   ]
  },
  {
   "cell_type": "code",
   "execution_count": 43,
   "metadata": {},
   "outputs": [
    {
     "data": {
      "text/html": [
       "<div>\n",
       "<style scoped>\n",
       "    .dataframe tbody tr th:only-of-type {\n",
       "        vertical-align: middle;\n",
       "    }\n",
       "\n",
       "    .dataframe tbody tr th {\n",
       "        vertical-align: top;\n",
       "    }\n",
       "\n",
       "    .dataframe thead th {\n",
       "        text-align: right;\n",
       "    }\n",
       "</style>\n",
       "<table border=\"1\" class=\"dataframe\">\n",
       "  <thead>\n",
       "    <tr style=\"text-align: right;\">\n",
       "      <th></th>\n",
       "      <th>article_body</th>\n",
       "    </tr>\n",
       "  </thead>\n",
       "  <tbody>\n",
       "    <tr>\n",
       "      <th>0</th>\n",
       "      <td>A Huawei store stands next to a Globe Telecom ...</td>\n",
       "    </tr>\n",
       "  </tbody>\n",
       "</table>\n",
       "</div>"
      ],
      "text/plain": [
       "                                        article_body\n",
       "0  A Huawei store stands next to a Globe Telecom ..."
      ]
     },
     "execution_count": 43,
     "metadata": {},
     "output_type": "execute_result"
    }
   ],
   "source": [
    "df_news.head(2)"
   ]
  },
  {
   "cell_type": "code",
   "execution_count": 44,
   "metadata": {},
   "outputs": [],
   "source": [
    "df_news['article_body'] = df_news.article_body.str.cat(sep=' ')"
   ]
  },
  {
   "cell_type": "code",
   "execution_count": 45,
   "metadata": {},
   "outputs": [],
   "source": [
    "df_news = df_news.article_body[0]"
   ]
  },
  {
   "cell_type": "code",
   "execution_count": 46,
   "metadata": {},
   "outputs": [],
   "source": [
    "df_news = df_news.replace(r'\\\\?','')"
   ]
  },
  {
   "cell_type": "code",
   "execution_count": 47,
   "metadata": {},
   "outputs": [],
   "source": [
    "df_news = pd.DataFrame([df_news])"
   ]
  },
  {
   "cell_type": "code",
   "execution_count": 48,
   "metadata": {},
   "outputs": [
    {
     "data": {
      "text/plain": [
       "pandas.core.frame.DataFrame"
      ]
     },
     "execution_count": 48,
     "metadata": {},
     "output_type": "execute_result"
    }
   ],
   "source": [
    "type(df_news)"
   ]
  },
  {
   "cell_type": "code",
   "execution_count": 49,
   "metadata": {},
   "outputs": [],
   "source": [
    "df_news.columns = ['Article']"
   ]
  },
  {
   "cell_type": "code",
   "execution_count": 50,
   "metadata": {},
   "outputs": [
    {
     "data": {
      "text/html": [
       "<div>\n",
       "<style scoped>\n",
       "    .dataframe tbody tr th:only-of-type {\n",
       "        vertical-align: middle;\n",
       "    }\n",
       "\n",
       "    .dataframe tbody tr th {\n",
       "        vertical-align: top;\n",
       "    }\n",
       "\n",
       "    .dataframe thead th {\n",
       "        text-align: right;\n",
       "    }\n",
       "</style>\n",
       "<table border=\"1\" class=\"dataframe\">\n",
       "  <thead>\n",
       "    <tr style=\"text-align: right;\">\n",
       "      <th></th>\n",
       "      <th>Article</th>\n",
       "    </tr>\n",
       "  </thead>\n",
       "  <tbody>\n",
       "    <tr>\n",
       "      <th>0</th>\n",
       "      <td>A Huawei store stands next to a Globe Telecom ...</td>\n",
       "    </tr>\n",
       "  </tbody>\n",
       "</table>\n",
       "</div>"
      ],
      "text/plain": [
       "                                             Article\n",
       "0  A Huawei store stands next to a Globe Telecom ..."
      ]
     },
     "execution_count": 50,
     "metadata": {},
     "output_type": "execute_result"
    }
   ],
   "source": [
    "df_news.head()"
   ]
  },
  {
   "cell_type": "code",
   "execution_count": null,
   "metadata": {},
   "outputs": [],
   "source": []
  },
  {
   "cell_type": "markdown",
   "metadata": {},
   "source": [
    "**Bringing it together.**<a id='2.5_bit'></a>"
   ]
  },
  {
   "cell_type": "code",
   "execution_count": 51,
   "metadata": {},
   "outputs": [],
   "source": [
    "df_7_global_times = pd.concat([df_file_name,df_date,df_source,df_country,df_title,df_news],axis = 1, ignore_index=False)"
   ]
  },
  {
   "cell_type": "code",
   "execution_count": 52,
   "metadata": {},
   "outputs": [],
   "source": [
    "df_7_global_times.columns = ['file_name','date','source','country','title','article']"
   ]
  },
  {
   "cell_type": "code",
   "execution_count": 53,
   "metadata": {},
   "outputs": [
    {
     "data": {
      "text/html": [
       "<div>\n",
       "<style scoped>\n",
       "    .dataframe tbody tr th:only-of-type {\n",
       "        vertical-align: middle;\n",
       "    }\n",
       "\n",
       "    .dataframe tbody tr th {\n",
       "        vertical-align: top;\n",
       "    }\n",
       "\n",
       "    .dataframe thead th {\n",
       "        text-align: right;\n",
       "    }\n",
       "</style>\n",
       "<table border=\"1\" class=\"dataframe\">\n",
       "  <thead>\n",
       "    <tr style=\"text-align: right;\">\n",
       "      <th></th>\n",
       "      <th>file_name</th>\n",
       "      <th>date</th>\n",
       "      <th>source</th>\n",
       "      <th>country</th>\n",
       "      <th>title</th>\n",
       "      <th>article</th>\n",
       "    </tr>\n",
       "  </thead>\n",
       "  <tbody>\n",
       "    <tr>\n",
       "      <th>0</th>\n",
       "      <td>globaltimes_7</td>\n",
       "      <td>2020-07-06</td>\n",
       "      <td>Global Times</td>\n",
       "      <td>China</td>\n",
       "      <td>London’s measures meaningless, ‘bluff rather t...</td>\n",
       "      <td>A Huawei store stands next to a Globe Telecom ...</td>\n",
       "    </tr>\n",
       "  </tbody>\n",
       "</table>\n",
       "</div>"
      ],
      "text/plain": [
       "       file_name        date        source country  \\\n",
       "0  globaltimes_7  2020-07-06  Global Times   China   \n",
       "\n",
       "                                               title  \\\n",
       "0  London’s measures meaningless, ‘bluff rather t...   \n",
       "\n",
       "                                             article  \n",
       "0  A Huawei store stands next to a Globe Telecom ...  "
      ]
     },
     "execution_count": 53,
     "metadata": {},
     "output_type": "execute_result"
    }
   ],
   "source": [
    "df_7_global_times.head()"
   ]
  },
  {
   "cell_type": "code",
   "execution_count": null,
   "metadata": {},
   "outputs": [],
   "source": []
  },
  {
   "cell_type": "markdown",
   "metadata": {},
   "source": [
    "**Saving**<a id='2.6_save'></a>"
   ]
  },
  {
   "cell_type": "code",
   "execution_count": 54,
   "metadata": {},
   "outputs": [
    {
     "name": "stdout",
     "output_type": "stream",
     "text": [
      "C:\\Users\\rands\n"
     ]
    }
   ],
   "source": [
    "cd"
   ]
  },
  {
   "cell_type": "markdown",
   "metadata": {},
   "source": [
    "Saving it to Excel."
   ]
  },
  {
   "cell_type": "code",
   "execution_count": 55,
   "metadata": {},
   "outputs": [
    {
     "name": "stdout",
     "output_type": "stream",
     "text": [
      "Complete\n"
     ]
    }
   ],
   "source": [
    "# df = pd.DataFrame(reviewlist)\n",
    "\n",
    "# index=False below so that we don't get the dataframe index on the side; we just use the excel index\n",
    "df_7_global_times.to_csv('./_Capstone_Two_NLP/data/_news/globaltimes_7.csv', index=False)\n",
    "\n",
    "print('Complete')"
   ]
  },
  {
   "cell_type": "code",
   "execution_count": null,
   "metadata": {},
   "outputs": [],
   "source": []
  }
 ],
 "metadata": {
  "kernelspec": {
   "display_name": "Python 3",
   "language": "python",
   "name": "python3"
  },
  "language_info": {
   "codemirror_mode": {
    "name": "ipython",
    "version": 3
   },
   "file_extension": ".py",
   "mimetype": "text/x-python",
   "name": "python",
   "nbconvert_exporter": "python",
   "pygments_lexer": "ipython3",
   "version": "3.8.5"
  },
  "varInspector": {
   "cols": {
    "lenName": 16,
    "lenType": 16,
    "lenVar": 40
   },
   "kernels_config": {
    "python": {
     "delete_cmd_postfix": "",
     "delete_cmd_prefix": "del ",
     "library": "var_list.py",
     "varRefreshCmd": "print(var_dic_list())"
    },
    "r": {
     "delete_cmd_postfix": ") ",
     "delete_cmd_prefix": "rm(",
     "library": "var_list.r",
     "varRefreshCmd": "cat(var_dic_list()) "
    }
   },
   "types_to_exclude": [
    "module",
    "function",
    "builtin_function_or_method",
    "instance",
    "_Feature"
   ],
   "window_display": false
  }
 },
 "nbformat": 4,
 "nbformat_minor": 4
}
