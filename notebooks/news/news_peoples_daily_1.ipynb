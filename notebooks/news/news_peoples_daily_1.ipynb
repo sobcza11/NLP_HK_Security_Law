{
 "cells": [
  {
   "cell_type": "markdown",
   "metadata": {},
   "source": [
    "# Scraping Safeguarding long-term prosperity from People’s Daily"
   ]
  },
  {
   "cell_type": "markdown",
   "metadata": {},
   "source": [
    "## 2.1 Contents<a id='2.1_Contents'></a>\n",
    "* [2.1 Importing Relevant Tools](#2.1_Importing)\n",
    "* [2.2 Defining the Request](#2.2_URL)\n",
    "* [2.3 Grab | Date](#2.4_scrape_date)\n",
    "* [2.4 Grab | Header](#2.4_scrape_header)\n",
    "* [2.5 Grab | Content](#2.4_scrape_content)\n",
    "* [2.6 Clean | Send to DataFrame](#2.5_review)\n",
    "* [2.7 Save](#2.6_save)\n"
   ]
  },
  {
   "cell_type": "markdown",
   "metadata": {},
   "source": [
    "**Importing Relevant Tools**<a id='2.1_Importing'></a>"
   ]
  },
  {
   "cell_type": "code",
   "execution_count": 1,
   "metadata": {},
   "outputs": [],
   "source": [
    "import json\n",
    "import pandas as pd\n",
    "from bs4 import BeautifulSoup as soup\n",
    "import requests\n",
    "import csv\n",
    "import re\n",
    "import pickle\n",
    "\n",
    "%reload_ext watermark"
   ]
  },
  {
   "cell_type": "code",
   "execution_count": 2,
   "metadata": {},
   "outputs": [],
   "source": [
    "#the below needs to be reviewed for all websites; notably the time format\n",
    "\n",
    "from datetime import date\n",
    "from datetime import datetime\n",
    "today = date.today()\n",
    "d = today.strftime(\"%m-%d-%y\")"
   ]
  },
  {
   "cell_type": "markdown",
   "metadata": {},
   "source": [
    "For reference."
   ]
  },
  {
   "cell_type": "code",
   "execution_count": 3,
   "metadata": {},
   "outputs": [
    {
     "name": "stdout",
     "output_type": "stream",
     "text": [
      "Python implementation: CPython\n",
      "Python version       : 3.8.5\n",
      "IPython version      : 7.19.0\n",
      "\n",
      "pandas: 1.1.3\n",
      "\n"
     ]
    }
   ],
   "source": [
    "%watermark -d -t -v -p pandas"
   ]
  },
  {
   "cell_type": "markdown",
   "metadata": {},
   "source": [
    "**Defining the Request**<a id='2.2_URL'></a>"
   ]
  },
  {
   "cell_type": "code",
   "execution_count": 4,
   "metadata": {},
   "outputs": [
    {
     "data": {
      "text/plain": [
       "'http://en.people.cn/n3/2020/0703/c90000-9706478.html'"
      ]
     },
     "execution_count": 4,
     "metadata": {},
     "output_type": "execute_result"
    }
   ],
   "source": [
    "url = 'http://en.people.cn/n3/2020/0703/c90000-9706478.html'\n",
    "content = requests.get(url).content\n",
    "url"
   ]
  },
  {
   "cell_type": "code",
   "execution_count": 5,
   "metadata": {},
   "outputs": [],
   "source": [
    "soup = soup(content,'html.parser')\n",
    "# bsobj"
   ]
  },
  {
   "cell_type": "markdown",
   "metadata": {},
   "source": [
    "**Grab | Date**<a id='2.4_scrape_date'></a>"
   ]
  },
  {
   "cell_type": "code",
   "execution_count": 6,
   "metadata": {},
   "outputs": [
    {
     "name": "stdout",
     "output_type": "stream",
     "text": [
      "(People's Daily)    08:13, July 03, 2020\n"
     ]
    }
   ],
   "source": [
    "for date in soup.find_all('div',{'class':'wb_1 clear'}):\n",
    "    print(date.text.strip())"
   ]
  },
  {
   "cell_type": "markdown",
   "metadata": {},
   "source": [
    "That is the date but needs some work cleaning it up."
   ]
  },
  {
   "cell_type": "markdown",
   "metadata": {},
   "source": [
    "**Grab | Header**<a id='2.4_scrape_header'></a>"
   ]
  },
  {
   "cell_type": "code",
   "execution_count": 7,
   "metadata": {},
   "outputs": [
    {
     "name": "stdout",
     "output_type": "stream",
     "text": [
      "Newly passed national security law a seawall safeguarding long-term prosperity, stability of Hong Kong\n"
     ]
    }
   ],
   "source": [
    "for title in soup.find('h2'):\n",
    "    print(title.text.strip())"
   ]
  },
  {
   "cell_type": "code",
   "execution_count": 8,
   "metadata": {},
   "outputs": [
    {
     "data": {
      "text/plain": [
       "<span id=\"p_title\">Newly passed national security law a seawall safeguarding long-term prosperity, stability of Hong Kong</span>"
      ]
     },
     "execution_count": 8,
     "metadata": {},
     "output_type": "execute_result"
    }
   ],
   "source": [
    "title"
   ]
  },
  {
   "cell_type": "code",
   "execution_count": 9,
   "metadata": {},
   "outputs": [],
   "source": [
    "TAG_RE = re.compile(r'<[^>]+>')"
   ]
  },
  {
   "cell_type": "code",
   "execution_count": 10,
   "metadata": {},
   "outputs": [],
   "source": [
    "def remove_tags(text):\n",
    "    return TAG_RE.sub('', text)"
   ]
  },
  {
   "cell_type": "code",
   "execution_count": 11,
   "metadata": {},
   "outputs": [
    {
     "data": {
      "text/plain": [
       "'Newly passed national security law a seawall safeguarding long-term prosperity, stability of Hong Kong'"
      ]
     },
     "execution_count": 11,
     "metadata": {},
     "output_type": "execute_result"
    }
   ],
   "source": [
    "remove_tags(str(title))"
   ]
  },
  {
   "cell_type": "markdown",
   "metadata": {},
   "source": [
    "Confirmed that's the title; a little longer of a journey to get it."
   ]
  },
  {
   "cell_type": "markdown",
   "metadata": {},
   "source": [
    "**Grab | Content**<a id='2.4_scrape_content'></a>"
   ]
  },
  {
   "cell_type": "code",
   "execution_count": 12,
   "metadata": {},
   "outputs": [
    {
     "name": "stdout",
     "output_type": "stream",
     "text": [
      "The Law of the People’s Republic of China on Safeguarding National Security in the Hong Kong Special Administrative Region (HKSAR) adopted on June 30 by the Standing Committee of the 13th National People’s Congress (NPC), China’s top legislature, has established a seawall safeguarding the long-term prosperity and stability of Hong Kong.\n",
      "\n",
      "\n",
      "\n",
      "Hong Kong citizens celebrate the passage of the Law of the People's Republic of China on Safeguarding National Security in the Hong Kong Special Administrative Region (HKSAR) in Causeway Bay of south China's Hong Kong, June 30, 2020. The law was passed at the 20th session of the Standing Committee of the 13th National People's Congress (NPC). (Xinhua/Wang Shen)\n",
      "\n",
      "\tListed by the NPC Standing Committee in Annex III to the HKSAR Basic Law, the national security legislation is expected to terminate the region’s long-standing “unguarded” condition in national security after being applied in the HKSAR.\n",
      "\n",
      "\tSince the disturbance related to the now-withdrawn ordinance amendments concerning the transfer of fugitives in the HKSAR in June 2019, “Hong Kong independence” forces, radical separatist forces, and the opposition in the region have grossly trampled on the rule of law and social stability of Hong Kong, inflicted heavy losses on its economy, damaged its business environment and international image, and undermined foreign investors’ confidence in the HKSAR.\n",
      "\n",
      "\tWith international agencies constantly downgrading Hong Kong’s credit rating because of its social unrest, the region lost its title as the world’s freest economy, which it had maintained for 25 consecutive years. Besides, the city’s ranking among global financial centers has also dropped to the sixth.\n",
      "\n",
      "\tThe region logged an 8.9-percent year-on-year slump in its GDP in the first quarter of the year, representing the sharpest quarterly decline on record.\n",
      "\n",
      "\tIn addition, the HKSAR’s unemployment rate rocketed to 5.9 percent in the period from March to May, a record high in 15 years. It is the reality Hong Kong faces.\n",
      "\n",
      "\tSafeguarding national security is the foundation and a prerequisite for Hong Kong’s prosperity and stability.\n",
      "\n",
      "\tThe rapidly evolving situation in the region during the past more than a year has fully demonstrated that prosperity and stability is totally out of the question without the guarantee of national security.\n",
      "\n",
      "\tIt must be understood clearly that legal loopholes regarding national security have cost Hong Kong society dear.\n",
      "\n",
      "\tBecause of the lack of national security legislation, Hong Kong has witnessed in pain how the “Hong Kong independence” forces, black-clad rioters, and home-grown terrorists who threatened “mutual destruction” have kept escalating their violent activities at various locations, and secessionist, subversive, collusive, and disruptive practices have been conducted so unrestrainedly.\n",
      "\n",
      "\tThe efforts of China’s central government to plug the loopholes in safeguarding national security in Hong Kong, stop violence and curb disorder with effective measures, and restore the region’s sound legal and business environment are not only in line with the common interests of all sectors of Hong Kong society as well as foreign investors in the region, but also important guarantee of Hong Kong’s status as a global financial, trade, and shipping center.\n",
      "\n",
      "\tOnly with a solid foundation for national security and overall social stability can a country create better environment and greater room to address deep-seated problems and issues troubling economy and people’s livelihood.\n",
      "\n",
      "\tWhen Hong Kong was confronted with severe challenges in safeguarding national security and was unable to complete relevant legislation on its own, the central government took decisive measures to establish and improve the legal system and enforcement mechanisms for safeguarding national security in Hong Kong from the state level.\n",
      "\n",
      "\tThe endeavor has been not only absolutely imperative for the prevention and control of national security risks, but also the fundamental solution to problems undermining the long-term prosperity, peace, and order of Hong Kong.\n",
      "\n",
      "\tHong Kong could never return to the right track and restore order if its legal loopholes in safeguarding national security remained, weak links in the system not improved, and the main dangers obstructing its long-term prosperity and stability not eliminated.\n",
      "\n",
      "\tIt can be predicted that with the introduction of the new national security law, which defines a clear bottom line of national security and explicit standards of right and wrong, Hong Kong will see less confrontations and internal friction stirred up by people with ulterior motives, so that the whole society can focus efforts on development in an easier manner.\n",
      "\n",
      "\tThe introduction of the national security law brings Hong Kong citizens the freedom of enjoying a peaceful life without concerns about the threat of black-clad rioters, the freedom of safe business operation, and the freedom of safe trips to office and school.\n",
      "\n",
      "\tBy guaranteeing a stable environment, putting an end to the social unrest, boosting market confidence, bringing the city into the right track, and setting a bottom line of national security, the new law means to the SAR the hope of solving deep-rooted social and economic problems including the housing woes, brighter development prospects for various sectors, and greater roles of the advantages of the “one country, two systems” principle.\n",
      "\n",
      "\tFar-sighted personages in Hong Kong have pointed out since the onset of the legislative procedures for the national security law that the region is about to move from chaos to order.\n",
      "\n",
      "\tChief Executive of HKSAR Carrie Lam has also noted that restoring order and confidence is crucial for a fresh start of Hong Kong economy.\n",
      "\n",
      "\tIt’s believed that with the newly adopted national security law for Hong Kong and the firm support of the central government, the SAR will soon stop violence, end the chaos and restore order.\n",
      "\n",
      "\tWith its efforts focusing on construction and development after the introduction of the new law, Hong Kong will be able to make full use of the institutional strengths of the “one country, two systems” principle, make the most of major opportunities brought along by important initiatives such as the Belt and Road Initiative and the development plan for the Guangdong-Hong Kong-Macao Greater Bay Area, rebuild its advantages while integrating itself into the overall development of the country, and continue to create new development legends.\n"
     ]
    }
   ],
   "source": [
    "for bodies in soup.find_all('div',{'class','wb_12 wb_12b clear'}):\n",
    "    print(bodies.text.strip())"
   ]
  },
  {
   "cell_type": "code",
   "execution_count": 13,
   "metadata": {},
   "outputs": [
    {
     "data": {
      "text/plain": [
       "55"
      ]
     },
     "execution_count": 13,
     "metadata": {},
     "output_type": "execute_result"
    }
   ],
   "source": [
    "len(bodies)"
   ]
  },
  {
   "cell_type": "markdown",
   "metadata": {},
   "source": [
    "Confirmed that's the bottom."
   ]
  },
  {
   "cell_type": "markdown",
   "metadata": {},
   "source": [
    "**Clean | Send to DataFrame**<a id='2.5_review'></a>"
   ]
  },
  {
   "cell_type": "markdown",
   "metadata": {},
   "source": [
    "First the date from string to a datetime object."
   ]
  },
  {
   "cell_type": "code",
   "execution_count": 14,
   "metadata": {},
   "outputs": [
    {
     "name": "stdout",
     "output_type": "stream",
     "text": [
      "(People's Daily)    08:13, July 03, 2020\n"
     ]
    }
   ],
   "source": [
    "for date in soup.find_all('div',{'class':'wb_1 clear'}):\n",
    "    print(date.text.strip())"
   ]
  },
  {
   "cell_type": "code",
   "execution_count": 15,
   "metadata": {},
   "outputs": [
    {
     "data": {
      "text/plain": [
       "<div class=\"wb_1 clear\"> (<a href=\"http://en.people.cn\">People's Daily</a>)    08:13, July 03, 2020<em><a href=\"https://apple.news/TkJFGBPvhTwyCvquJc-AqRQ\" target=\"_blank\"><img alt=\"\" src=\"/img/FOREIGN/2015/03/212677/images/icon36.gif\"/></a></em></div>"
      ]
     },
     "execution_count": 15,
     "metadata": {},
     "output_type": "execute_result"
    }
   ],
   "source": [
    "date"
   ]
  },
  {
   "cell_type": "code",
   "execution_count": 16,
   "metadata": {},
   "outputs": [
    {
     "data": {
      "text/plain": [
       "\" (People's Daily)\\xa0\\xa0\\xa0\\xa008:13, July 03, 2020\""
      ]
     },
     "execution_count": 16,
     "metadata": {},
     "output_type": "execute_result"
    }
   ],
   "source": [
    "date = remove_tags(str(date))\n",
    "date"
   ]
  },
  {
   "cell_type": "code",
   "execution_count": 17,
   "metadata": {},
   "outputs": [
    {
     "data": {
      "text/plain": [
       "41"
      ]
     },
     "execution_count": 17,
     "metadata": {},
     "output_type": "execute_result"
    }
   ],
   "source": [
    "len(date)"
   ]
  },
  {
   "cell_type": "code",
   "execution_count": 18,
   "metadata": {},
   "outputs": [
    {
     "data": {
      "text/plain": [
       "'July 03, 2020'"
      ]
     },
     "execution_count": 18,
     "metadata": {},
     "output_type": "execute_result"
    }
   ],
   "source": [
    "day_pub = date[28:41]\n",
    "day_pub"
   ]
  },
  {
   "cell_type": "code",
   "execution_count": 19,
   "metadata": {},
   "outputs": [
    {
     "data": {
      "text/plain": [
       "datetime.date(2020, 7, 3)"
      ]
     },
     "execution_count": 19,
     "metadata": {},
     "output_type": "execute_result"
    }
   ],
   "source": [
    "#Replacing commas\n",
    "day_pub = re.sub(',','',day_pub)\n",
    "#Replacing words to bring to datetimeformat\n",
    "day_pub = re.sub('July','07',day_pub)\n",
    "#Replacing the spaces\n",
    "day_pub = re.sub(' ','-',day_pub)\n",
    "#Converting to dattime format\n",
    "day_pub = datetime.strptime(day_pub, '%m-%d-%Y').date()\n",
    "\n",
    "day_pub"
   ]
  },
  {
   "cell_type": "code",
   "execution_count": 20,
   "metadata": {},
   "outputs": [],
   "source": [
    "df_date = pd.DataFrame([day_pub])"
   ]
  },
  {
   "cell_type": "code",
   "execution_count": 21,
   "metadata": {},
   "outputs": [
    {
     "data": {
      "text/plain": [
       "pandas.core.frame.DataFrame"
      ]
     },
     "execution_count": 21,
     "metadata": {},
     "output_type": "execute_result"
    }
   ],
   "source": [
    "type(df_date)"
   ]
  },
  {
   "cell_type": "code",
   "execution_count": 22,
   "metadata": {},
   "outputs": [
    {
     "data": {
      "text/html": [
       "<div>\n",
       "<style scoped>\n",
       "    .dataframe tbody tr th:only-of-type {\n",
       "        vertical-align: middle;\n",
       "    }\n",
       "\n",
       "    .dataframe tbody tr th {\n",
       "        vertical-align: top;\n",
       "    }\n",
       "\n",
       "    .dataframe thead th {\n",
       "        text-align: right;\n",
       "    }\n",
       "</style>\n",
       "<table border=\"1\" class=\"dataframe\">\n",
       "  <thead>\n",
       "    <tr style=\"text-align: right;\">\n",
       "      <th></th>\n",
       "      <th>0</th>\n",
       "    </tr>\n",
       "  </thead>\n",
       "  <tbody>\n",
       "    <tr>\n",
       "      <th>0</th>\n",
       "      <td>2020-07-03</td>\n",
       "    </tr>\n",
       "  </tbody>\n",
       "</table>\n",
       "</div>"
      ],
      "text/plain": [
       "            0\n",
       "0  2020-07-03"
      ]
     },
     "execution_count": 22,
     "metadata": {},
     "output_type": "execute_result"
    }
   ],
   "source": [
    "df_date"
   ]
  },
  {
   "cell_type": "markdown",
   "metadata": {},
   "source": [
    "Now the title."
   ]
  },
  {
   "cell_type": "code",
   "execution_count": 23,
   "metadata": {},
   "outputs": [
    {
     "name": "stdout",
     "output_type": "stream",
     "text": [
      "Newly passed national security law a seawall safeguarding long-term prosperity, stability of Hong Kong\n"
     ]
    }
   ],
   "source": [
    "for title in soup.find('h2'):\n",
    "    print(title.text.strip())"
   ]
  },
  {
   "cell_type": "code",
   "execution_count": 24,
   "metadata": {},
   "outputs": [
    {
     "data": {
      "text/plain": [
       "<span id=\"p_title\">Newly passed national security law a seawall safeguarding long-term prosperity, stability of Hong Kong</span>"
      ]
     },
     "execution_count": 24,
     "metadata": {},
     "output_type": "execute_result"
    }
   ],
   "source": [
    "title"
   ]
  },
  {
   "cell_type": "code",
   "execution_count": 25,
   "metadata": {},
   "outputs": [],
   "source": [
    "title = remove_tags(str(title))"
   ]
  },
  {
   "cell_type": "code",
   "execution_count": 26,
   "metadata": {},
   "outputs": [
    {
     "data": {
      "text/plain": [
       "'Newly passed national security law a seawall safeguarding long-term prosperity, stability of Hong Kong'"
      ]
     },
     "execution_count": 26,
     "metadata": {},
     "output_type": "execute_result"
    }
   ],
   "source": [
    "title"
   ]
  },
  {
   "cell_type": "code",
   "execution_count": 27,
   "metadata": {},
   "outputs": [],
   "source": [
    "df_title = pd.DataFrame([title])"
   ]
  },
  {
   "cell_type": "code",
   "execution_count": 28,
   "metadata": {},
   "outputs": [
    {
     "data": {
      "text/html": [
       "<div>\n",
       "<style scoped>\n",
       "    .dataframe tbody tr th:only-of-type {\n",
       "        vertical-align: middle;\n",
       "    }\n",
       "\n",
       "    .dataframe tbody tr th {\n",
       "        vertical-align: top;\n",
       "    }\n",
       "\n",
       "    .dataframe thead th {\n",
       "        text-align: right;\n",
       "    }\n",
       "</style>\n",
       "<table border=\"1\" class=\"dataframe\">\n",
       "  <thead>\n",
       "    <tr style=\"text-align: right;\">\n",
       "      <th></th>\n",
       "      <th>0</th>\n",
       "    </tr>\n",
       "  </thead>\n",
       "  <tbody>\n",
       "    <tr>\n",
       "      <th>0</th>\n",
       "      <td>Newly passed national security law a seawall s...</td>\n",
       "    </tr>\n",
       "  </tbody>\n",
       "</table>\n",
       "</div>"
      ],
      "text/plain": [
       "                                                   0\n",
       "0  Newly passed national security law a seawall s..."
      ]
     },
     "execution_count": 28,
     "metadata": {},
     "output_type": "execute_result"
    }
   ],
   "source": [
    "df_title"
   ]
  },
  {
   "cell_type": "code",
   "execution_count": 29,
   "metadata": {},
   "outputs": [
    {
     "data": {
      "text/plain": [
       "pandas.core.frame.DataFrame"
      ]
     },
     "execution_count": 29,
     "metadata": {},
     "output_type": "execute_result"
    }
   ],
   "source": [
    "type(df_title)"
   ]
  },
  {
   "cell_type": "markdown",
   "metadata": {},
   "source": [
    "These items are manually added."
   ]
  },
  {
   "cell_type": "code",
   "execution_count": 30,
   "metadata": {},
   "outputs": [],
   "source": [
    "country = 'China'\n",
    "df_country = pd.DataFrame([country])\n",
    "source = 'People\\'s Daily'\n",
    "df_source = pd.DataFrame([source])\n",
    "file_name = 'peoples_daily_1'\n",
    "df_file_name = pd.DataFrame([file_name])\n"
   ]
  },
  {
   "cell_type": "markdown",
   "metadata": {},
   "source": [
    "Finally, the news."
   ]
  },
  {
   "cell_type": "code",
   "execution_count": 31,
   "metadata": {},
   "outputs": [],
   "source": [
    "news1 = []\n",
    "for bodies in soup.find_all('div',{'class','wb_12 wb_12b clear'}):\n",
    "    news1.append(bodies.text.strip())"
   ]
  },
  {
   "cell_type": "code",
   "execution_count": 32,
   "metadata": {},
   "outputs": [
    {
     "data": {
      "text/plain": [
       "[\"The Law of the People’s Republic of China on Safeguarding National Security in the Hong Kong Special Administrative Region (HKSAR) adopted on June 30 by the Standing Committee of the 13th National People’s Congress (NPC), China’s top legislature, has established a seawall safeguarding the long-term prosperity and stability of Hong Kong.\\n\\n\\n\\nHong Kong citizens celebrate the passage of the Law of the People's Republic of China on Safeguarding National Security in the Hong Kong Special Administrative Region (HKSAR) in Causeway Bay of south China's Hong Kong, June 30, 2020. The law was passed at the 20th session of the Standing Committee of the 13th National People's Congress (NPC). (Xinhua/Wang Shen)\\n\\n\\tListed by the NPC Standing Committee in Annex III to the HKSAR Basic Law, the national security legislation is expected to terminate the region’s long-standing “unguarded” condition in national security after being applied in the HKSAR.\\n\\n\\tSince the disturbance related to the now-withdrawn ordinance amendments concerning the transfer of fugitives in the HKSAR in June 2019, “Hong Kong independence” forces, radical separatist forces, and the opposition in the region have grossly trampled on the rule of law and social stability of Hong Kong, inflicted heavy losses on its economy, damaged its business environment and international image, and undermined foreign investors’ confidence in the HKSAR.\\n\\n\\tWith international agencies constantly downgrading Hong Kong’s credit rating because of its social unrest, the region lost its title as the world’s freest economy, which it had maintained for 25 consecutive years. Besides, the city’s ranking among global financial centers has also dropped to the sixth.\\n\\n\\tThe region logged an 8.9-percent year-on-year slump in its GDP in the first quarter of the year, representing the sharpest quarterly decline on record.\\n\\n\\tIn addition, the HKSAR’s unemployment rate rocketed to 5.9 percent in the period from March to May, a record high in 15 years. It is the reality Hong Kong faces.\\n\\n\\tSafeguarding national security is the foundation and a prerequisite for Hong Kong’s prosperity and stability.\\n\\n\\tThe rapidly evolving situation in the region during the past more than a year has fully demonstrated that prosperity and stability is totally out of the question without the guarantee of national security.\\n\\n\\tIt must be understood clearly that legal loopholes regarding national security have cost Hong Kong society dear.\\n\\n\\tBecause of the lack of national security legislation, Hong Kong has witnessed in pain how the “Hong Kong independence” forces, black-clad rioters, and home-grown terrorists who threatened “mutual destruction” have kept escalating their violent activities at various locations, and secessionist, subversive, collusive, and disruptive practices have been conducted so unrestrainedly.\\n\\n\\tThe efforts of China’s central government to plug the loopholes in safeguarding national security in Hong Kong, stop violence and curb disorder with effective measures, and restore the region’s sound legal and business environment are not only in line with the common interests of all sectors of Hong Kong society as well as foreign investors in the region, but also important guarantee of Hong Kong’s status as a global financial, trade, and shipping center.\\n\\n\\tOnly with a solid foundation for national security and overall social stability can a country create better environment and greater room to address deep-seated problems and issues troubling economy and people’s livelihood.\\n\\n\\tWhen Hong Kong was confronted with severe challenges in safeguarding national security and was unable to complete relevant legislation on its own, the central government took decisive measures to establish and improve the legal system and enforcement mechanisms for safeguarding national security in Hong Kong from the state level.\\n\\n\\tThe endeavor has been not only absolutely imperative for the prevention and control of national security risks, but also the fundamental solution to problems undermining the long-term prosperity, peace, and order of Hong Kong.\\n\\n\\tHong Kong could never return to the right track and restore order if its legal loopholes in safeguarding national security remained, weak links in the system not improved, and the main dangers obstructing its long-term prosperity and stability not eliminated.\\n\\n\\tIt can be predicted that with the introduction of the new national security law, which defines a clear bottom line of national security and explicit standards of right and wrong, Hong Kong will see less confrontations and internal friction stirred up by people with ulterior motives, so that the whole society can focus efforts on development in an easier manner.\\n\\n\\tThe introduction of the national security law brings Hong Kong citizens the freedom of enjoying a peaceful life without concerns about the threat of black-clad rioters, the freedom of safe business operation, and the freedom of safe trips to office and school.\\n\\n\\tBy guaranteeing a stable environment, putting an end to the social unrest, boosting market confidence, bringing the city into the right track, and setting a bottom line of national security, the new law means to the SAR the hope of solving deep-rooted social and economic problems including the housing woes, brighter development prospects for various sectors, and greater roles of the advantages of the “one country, two systems” principle.\\n\\n\\tFar-sighted personages in Hong Kong have pointed out since the onset of the legislative procedures for the national security law that the region is about to move from chaos to order.\\n\\n\\tChief Executive of HKSAR Carrie Lam has also noted that restoring order and confidence is crucial for a fresh start of Hong Kong economy.\\n\\n\\tIt’s believed that with the newly adopted national security law for Hong Kong and the firm support of the central government, the SAR will soon stop violence, end the chaos and restore order.\\n\\n\\tWith its efforts focusing on construction and development after the introduction of the new law, Hong Kong will be able to make full use of the institutional strengths of the “one country, two systems” principle, make the most of major opportunities brought along by important initiatives such as the Belt and Road Initiative and the development plan for the Guangdong-Hong Kong-Macao Greater Bay Area, rebuild its advantages while integrating itself into the overall development of the country, and continue to create new development legends.\"]"
      ]
     },
     "execution_count": 32,
     "metadata": {},
     "output_type": "execute_result"
    }
   ],
   "source": [
    "news1"
   ]
  },
  {
   "cell_type": "code",
   "execution_count": 33,
   "metadata": {},
   "outputs": [],
   "source": [
    "df_news = pd.DataFrame()"
   ]
  },
  {
   "cell_type": "code",
   "execution_count": 34,
   "metadata": {},
   "outputs": [],
   "source": [
    "df_news['article_body'] = news1"
   ]
  },
  {
   "cell_type": "code",
   "execution_count": 35,
   "metadata": {
    "scrolled": true
   },
   "outputs": [
    {
     "data": {
      "text/html": [
       "<div>\n",
       "<style scoped>\n",
       "    .dataframe tbody tr th:only-of-type {\n",
       "        vertical-align: middle;\n",
       "    }\n",
       "\n",
       "    .dataframe tbody tr th {\n",
       "        vertical-align: top;\n",
       "    }\n",
       "\n",
       "    .dataframe thead th {\n",
       "        text-align: right;\n",
       "    }\n",
       "</style>\n",
       "<table border=\"1\" class=\"dataframe\">\n",
       "  <thead>\n",
       "    <tr style=\"text-align: right;\">\n",
       "      <th></th>\n",
       "      <th>article_body</th>\n",
       "    </tr>\n",
       "  </thead>\n",
       "  <tbody>\n",
       "    <tr>\n",
       "      <th>0</th>\n",
       "      <td>The Law of the People’s Republic of China on S...</td>\n",
       "    </tr>\n",
       "  </tbody>\n",
       "</table>\n",
       "</div>"
      ],
      "text/plain": [
       "                                        article_body\n",
       "0  The Law of the People’s Republic of China on S..."
      ]
     },
     "execution_count": 35,
     "metadata": {},
     "output_type": "execute_result"
    }
   ],
   "source": [
    "df_news.head(2)"
   ]
  },
  {
   "cell_type": "code",
   "execution_count": 36,
   "metadata": {},
   "outputs": [],
   "source": [
    "df_news['article_body'] = df_news.article_body.str.cat(sep=' ')"
   ]
  },
  {
   "cell_type": "code",
   "execution_count": 37,
   "metadata": {},
   "outputs": [],
   "source": [
    "df_news = df_news.article_body[0]"
   ]
  },
  {
   "cell_type": "code",
   "execution_count": 38,
   "metadata": {},
   "outputs": [],
   "source": [
    "df_news = df_news.replace(r'\\\\?','')"
   ]
  },
  {
   "cell_type": "code",
   "execution_count": 39,
   "metadata": {},
   "outputs": [],
   "source": [
    "df_news = pd.DataFrame([df_news])"
   ]
  },
  {
   "cell_type": "code",
   "execution_count": 40,
   "metadata": {},
   "outputs": [
    {
     "data": {
      "text/plain": [
       "pandas.core.frame.DataFrame"
      ]
     },
     "execution_count": 40,
     "metadata": {},
     "output_type": "execute_result"
    }
   ],
   "source": [
    "type(df_news)"
   ]
  },
  {
   "cell_type": "code",
   "execution_count": 41,
   "metadata": {},
   "outputs": [],
   "source": [
    "df_news.columns = ['Article']"
   ]
  },
  {
   "cell_type": "code",
   "execution_count": 42,
   "metadata": {},
   "outputs": [
    {
     "data": {
      "text/html": [
       "<div>\n",
       "<style scoped>\n",
       "    .dataframe tbody tr th:only-of-type {\n",
       "        vertical-align: middle;\n",
       "    }\n",
       "\n",
       "    .dataframe tbody tr th {\n",
       "        vertical-align: top;\n",
       "    }\n",
       "\n",
       "    .dataframe thead th {\n",
       "        text-align: right;\n",
       "    }\n",
       "</style>\n",
       "<table border=\"1\" class=\"dataframe\">\n",
       "  <thead>\n",
       "    <tr style=\"text-align: right;\">\n",
       "      <th></th>\n",
       "      <th>Article</th>\n",
       "    </tr>\n",
       "  </thead>\n",
       "  <tbody>\n",
       "    <tr>\n",
       "      <th>0</th>\n",
       "      <td>The Law of the People’s Republic of China on S...</td>\n",
       "    </tr>\n",
       "  </tbody>\n",
       "</table>\n",
       "</div>"
      ],
      "text/plain": [
       "                                             Article\n",
       "0  The Law of the People’s Republic of China on S..."
      ]
     },
     "execution_count": 42,
     "metadata": {},
     "output_type": "execute_result"
    }
   ],
   "source": [
    "df_news.head()"
   ]
  },
  {
   "cell_type": "code",
   "execution_count": null,
   "metadata": {},
   "outputs": [],
   "source": []
  },
  {
   "cell_type": "markdown",
   "metadata": {},
   "source": [
    "**Bringing it together.**<a id='2.5_bit'></a>"
   ]
  },
  {
   "cell_type": "code",
   "execution_count": 43,
   "metadata": {},
   "outputs": [],
   "source": [
    "df_1_peoples_daily = pd.concat([df_file_name,df_date,df_source,df_country,df_title,df_news],axis = 1, ignore_index=False)"
   ]
  },
  {
   "cell_type": "code",
   "execution_count": 44,
   "metadata": {},
   "outputs": [],
   "source": [
    "df_1_peoples_daily.columns = ['file_name','date','source','country','title','article']"
   ]
  },
  {
   "cell_type": "code",
   "execution_count": 45,
   "metadata": {},
   "outputs": [
    {
     "data": {
      "text/html": [
       "<div>\n",
       "<style scoped>\n",
       "    .dataframe tbody tr th:only-of-type {\n",
       "        vertical-align: middle;\n",
       "    }\n",
       "\n",
       "    .dataframe tbody tr th {\n",
       "        vertical-align: top;\n",
       "    }\n",
       "\n",
       "    .dataframe thead th {\n",
       "        text-align: right;\n",
       "    }\n",
       "</style>\n",
       "<table border=\"1\" class=\"dataframe\">\n",
       "  <thead>\n",
       "    <tr style=\"text-align: right;\">\n",
       "      <th></th>\n",
       "      <th>file_name</th>\n",
       "      <th>date</th>\n",
       "      <th>source</th>\n",
       "      <th>country</th>\n",
       "      <th>title</th>\n",
       "      <th>article</th>\n",
       "    </tr>\n",
       "  </thead>\n",
       "  <tbody>\n",
       "    <tr>\n",
       "      <th>0</th>\n",
       "      <td>peoples_daily_1</td>\n",
       "      <td>2020-07-03</td>\n",
       "      <td>People's Daily</td>\n",
       "      <td>China</td>\n",
       "      <td>Newly passed national security law a seawall s...</td>\n",
       "      <td>The Law of the People’s Republic of China on S...</td>\n",
       "    </tr>\n",
       "  </tbody>\n",
       "</table>\n",
       "</div>"
      ],
      "text/plain": [
       "         file_name        date          source country  \\\n",
       "0  peoples_daily_1  2020-07-03  People's Daily   China   \n",
       "\n",
       "                                               title  \\\n",
       "0  Newly passed national security law a seawall s...   \n",
       "\n",
       "                                             article  \n",
       "0  The Law of the People’s Republic of China on S...  "
      ]
     },
     "execution_count": 45,
     "metadata": {},
     "output_type": "execute_result"
    }
   ],
   "source": [
    "df_1_peoples_daily.head()"
   ]
  },
  {
   "cell_type": "code",
   "execution_count": null,
   "metadata": {},
   "outputs": [],
   "source": []
  },
  {
   "cell_type": "markdown",
   "metadata": {},
   "source": [
    "**Saving**<a id='2.6_save'></a>"
   ]
  },
  {
   "cell_type": "code",
   "execution_count": 46,
   "metadata": {},
   "outputs": [
    {
     "name": "stdout",
     "output_type": "stream",
     "text": [
      "C:\\Users\\rands\n"
     ]
    }
   ],
   "source": [
    "cd"
   ]
  },
  {
   "cell_type": "markdown",
   "metadata": {},
   "source": [
    "Saving it to Excel."
   ]
  },
  {
   "cell_type": "code",
   "execution_count": 47,
   "metadata": {},
   "outputs": [
    {
     "name": "stdout",
     "output_type": "stream",
     "text": [
      "Complete\n"
     ]
    }
   ],
   "source": [
    "# df = pd.DataFrame(reviewlist)\n",
    "\n",
    "# index=False below so that we don't get the dataframe index on the side; we just use the excel index\n",
    "df_1_peoples_daily.to_csv('./_Capstone_Two_NLP/data/_news/peoples_daily_1.csv', index=False)\n",
    "\n",
    "print('Complete')"
   ]
  },
  {
   "cell_type": "code",
   "execution_count": null,
   "metadata": {},
   "outputs": [],
   "source": []
  },
  {
   "cell_type": "code",
   "execution_count": null,
   "metadata": {},
   "outputs": [],
   "source": []
  },
  {
   "cell_type": "code",
   "execution_count": null,
   "metadata": {},
   "outputs": [],
   "source": []
  },
  {
   "cell_type": "code",
   "execution_count": null,
   "metadata": {},
   "outputs": [],
   "source": []
  }
 ],
 "metadata": {
  "kernelspec": {
   "display_name": "Python 3",
   "language": "python",
   "name": "python3"
  },
  "language_info": {
   "codemirror_mode": {
    "name": "ipython",
    "version": 3
   },
   "file_extension": ".py",
   "mimetype": "text/x-python",
   "name": "python",
   "nbconvert_exporter": "python",
   "pygments_lexer": "ipython3",
   "version": "3.8.5"
  },
  "varInspector": {
   "cols": {
    "lenName": 16,
    "lenType": 16,
    "lenVar": 40
   },
   "kernels_config": {
    "python": {
     "delete_cmd_postfix": "",
     "delete_cmd_prefix": "del ",
     "library": "var_list.py",
     "varRefreshCmd": "print(var_dic_list())"
    },
    "r": {
     "delete_cmd_postfix": ") ",
     "delete_cmd_prefix": "rm(",
     "library": "var_list.r",
     "varRefreshCmd": "cat(var_dic_list()) "
    }
   },
   "types_to_exclude": [
    "module",
    "function",
    "builtin_function_or_method",
    "instance",
    "_Feature"
   ],
   "window_display": false
  }
 },
 "nbformat": 4,
 "nbformat_minor": 4
}
