{
 "cells": [
  {
   "cell_type": "markdown",
   "metadata": {},
   "source": [
    "# Scraping Life sentences from BBC"
   ]
  },
  {
   "cell_type": "markdown",
   "metadata": {},
   "source": [
    "## 2.1 Contents<a id='2.1_Contents'></a>\n",
    "* [2.1 Importing Relevant Tools](#2.1_Importing)\n",
    "* [2.2 Defining the Request](#2.2_URL)\n",
    "* [2.3 Grab | Date](#2.4_scrape_date)\n",
    "* [2.4 Grab | Header](#2.4_scrape_header)\n",
    "* [2.5 Grab | Content](#2.4_scrape_content)\n",
    "* [2.6 Clean | Send to DataFrame](#2.5_review)\n",
    "* [2.7 Save](#2.6_save)\n"
   ]
  },
  {
   "cell_type": "markdown",
   "metadata": {},
   "source": [
    "**Importing Relevant Tools**<a id='2.1_Importing'></a>"
   ]
  },
  {
   "cell_type": "code",
   "execution_count": 43,
   "metadata": {},
   "outputs": [],
   "source": [
    "import json\n",
    "import pandas as pd\n",
    "from bs4 import BeautifulSoup as soup\n",
    "import requests\n",
    "import csv\n",
    "import re\n",
    "import pickle\n",
    "\n",
    "%reload_ext watermark"
   ]
  },
  {
   "cell_type": "code",
   "execution_count": 44,
   "metadata": {},
   "outputs": [],
   "source": [
    "#the below needs to be reviewed for all websites; notably the time format\n",
    "\n",
    "from datetime import date\n",
    "from datetime import datetime\n",
    "today = date.today()\n",
    "d = today.strftime(\"%m-%d-%y\")"
   ]
  },
  {
   "cell_type": "markdown",
   "metadata": {},
   "source": [
    "For reference."
   ]
  },
  {
   "cell_type": "code",
   "execution_count": 45,
   "metadata": {},
   "outputs": [
    {
     "name": "stdout",
     "output_type": "stream",
     "text": [
      "Python implementation: CPython\n",
      "Python version       : 3.8.5\n",
      "IPython version      : 7.19.0\n",
      "\n",
      "pandas: 1.1.3\n",
      "\n"
     ]
    }
   ],
   "source": [
    "%watermark -d -t -v -p pandas"
   ]
  },
  {
   "cell_type": "markdown",
   "metadata": {},
   "source": [
    "**Defining the Request**<a id='2.2_URL'></a>"
   ]
  },
  {
   "cell_type": "code",
   "execution_count": 46,
   "metadata": {},
   "outputs": [
    {
     "data": {
      "text/plain": [
       "'https://www.bbc.com/news/world-asia-china-53238004'"
      ]
     },
     "execution_count": 46,
     "metadata": {},
     "output_type": "execute_result"
    }
   ],
   "source": [
    "url = 'https://www.bbc.com/news/world-asia-china-53238004'.format(d)\n",
    "url"
   ]
  },
  {
   "cell_type": "code",
   "execution_count": 47,
   "metadata": {},
   "outputs": [],
   "source": [
    "html = requests.get(url)"
   ]
  },
  {
   "cell_type": "code",
   "execution_count": 48,
   "metadata": {},
   "outputs": [],
   "source": [
    "bsobj = soup(html.content,'lxml')\n",
    "# bsobj"
   ]
  },
  {
   "cell_type": "markdown",
   "metadata": {},
   "source": [
    "**Grab | Date**<a id='2.4_scrape_date'></a>"
   ]
  },
  {
   "cell_type": "code",
   "execution_count": 49,
   "metadata": {},
   "outputs": [
    {
     "name": "stdout",
     "output_type": "stream",
     "text": [
      "30 June 2020\n"
     ]
    }
   ],
   "source": [
    "for date in bsobj.find('span',{'class':'ssrcss-8g95ls-MetadataSnippet ecn1o5v2'}):\n",
    "    print(date.text.strip())"
   ]
  },
  {
   "cell_type": "markdown",
   "metadata": {},
   "source": [
    "Correct."
   ]
  },
  {
   "cell_type": "markdown",
   "metadata": {},
   "source": [
    "**Grab | Header**<a id='2.4_scrape_header'></a>"
   ]
  },
  {
   "cell_type": "code",
   "execution_count": 50,
   "metadata": {},
   "outputs": [
    {
     "name": "stdout",
     "output_type": "stream",
     "text": [
      "Hong Kong security law: Life sentences for breaking China-imposed law\n"
     ]
    }
   ],
   "source": [
    "for title in bsobj.findAll(\"h1\"):\n",
    "    print(format(title.text))"
   ]
  },
  {
   "cell_type": "markdown",
   "metadata": {},
   "source": [
    "Confirmed that's the title."
   ]
  },
  {
   "cell_type": "markdown",
   "metadata": {},
   "source": [
    "**Grab | Content**<a id='2.4_scrape_content'></a>"
   ]
  },
  {
   "cell_type": "code",
   "execution_count": 51,
   "metadata": {},
   "outputs": [
    {
     "name": "stdout",
     "output_type": "stream",
     "text": [
      "People in Hong Kong could face life in jail for breaking a controversial and sweeping new security law imposed by China.\n",
      "The legislation came into force on Tuesday but the full text was only revealed hours afterwards.\n",
      "It was brought in by Beijing following increasing unrest and a widening pro-democracy movement.\n",
      "Critics say the new law effectively curtails protest and undermines Hong Kong's freedoms.\n",
      "The territory was handed back to China from British control in 1997, but under a unique agreement supposed to protect certain freedoms that people in mainland China do not enjoy - including freedom of speech.\n",
      "Hong Kong's leader, Carrie Lam, defended the law, saying it filled a \"gaping hole\" in national security.\n",
      "Details have been closely guarded and the Beijing-backed politician admitted she had not seen the draft before commenting.\n",
      "Why are there protests in Hong Kong? All the context you needDo protests ever work in China?\n",
      "But Ted Hui, an opposition legislator, told the BBC: \"Our rights are (being) taken away; our freedom is gone; our rule of law, our judicial independence is gone.\"\n",
      "The UK, EU and Nato have all expressed concern and anger, while pro-democracy groups have started to disband amid fears of immediate reprisals.\n",
      "Washington, which also urged Beijing to reconsider, had already begun to end the preferential treatment Hong Kong enjoys in trade and travel with the US, bringing it in line with mainland China.\n",
      "Full details of the new law only emerged after it had come into effect at about 23:00 local time on Tuesday (16:00 BST).\n",
      "It applies to both permanent and non-permanent residents. Among the details:\n",
      "Crimes of secession, subversion, terrorism and collusion with foreign forces are punishable by a minimum sentence of three years, with the maximum being life Inciting hatred of China's central government and Hong Kong's regional government are now offences under Article 29Damaging public transport facilities can be considered terrorism - protesters often targeted city infrastructure during the long-running demonstrations Those found guilty will not be allowed to stand for public officeBeijing will establish a new security office in Hong Kong, with its own law enforcement personnel - neither of which would come under the local authority's jurisdictionHong Kong's chief executive can appoint judges in national security cases, and the justice secretary can decide whether or not there is a juryDecisions made by the national security commission, set up by local authorities, cannot be challenged legallyChina also says it will take over prosecution in cases which are considered \"very serious\", while some trials will be heard behind closed doors.Management of foreign non-governmental organisations and news agencies will be strengthenedThe law can also apparently be broken from abroad by non-residents, under Article 38\n",
      "The law will not apply to acts which happened before it came into force.\n",
      "Under the national security law, many of the acts of protest that have rocked Hong Kong over the past year could now be classed as subversion or secession… and punished with up to life in prison.\n",
      "The city's pro-Beijing leader, Carrie Lam, said the law was long overdue.\n",
      "Fearing repercussions, political activists are resigning their posts and one pro-democracy protester, who asked to remain anonymous, told me that ordinary people are now deleting posts on social media.\n",
      "Many people are just stopping talking about politics, and stopping talking about freedom and democracy because they want to save their own lives. They want to save their freedom and avoid being arrested.\n",
      "One contact of mine, a lawyer and human rights activist, sent me a message shortly after the law was passed. Please delete everything on this chat, he wrote.\n",
      "The reaction began the moment the law - which was first announced six weeks ago - was signed by China's President Xi Jinping.\n",
      "Pro-democracy activists in Hong Kong began to quit immediately, fearful of the new law, and the punishment it allows.\n",
      "According to the South China Morning Post, pro-democracy businesses began clearing away any sign they had once supported the protests.\n",
      "Joshua Wong, secretary-general and founding member of pro-democracy group Demosisto, warned the city would \"turn into a secret police state\".\n",
      "\"Beijing's promise to the world that Hong Kong will have a high degree of autonomy is proven to be a lie,\" opposition legislator Ted Hui told the BBC's Newshour programme.\n",
      "But despite the risks, some remained determined to go ahead with the banned traditional 1 July rally planned for Wednesday, amid reports of large numbers of police descending onto Hong Kong's financial district.\n",
      "Read more: Minutes after new law, pro-democracy voices quit\n",
      "The move also provoked international reaction, with the UK's Foreign Secretary, Dominic Raab, saying China had broken the promises it had made to the people of Hong Kong under the terms of the 1997 handover.\n",
      "He added that the government \"fully\" intends to see through plans to change visa rules, offering millions of people in Hong Kong a way to acquire UK citizenship.\n",
      "That agreement enshrined the \"one country, two systems\" principle in a document called the Basic Law - Hong Kong's mini constitution - for 50 years.\n",
      "The Basic Law protects rights such as freedom of assembly and freedom of speech - neither of which exist in mainland China - and also sets out the structure of governance for the territory.\n",
      "Julian Braithwaite, Britain's ambassador to the United Nations in Geneva, told the UN Human Rights Council that the law \"has clear implications for human rights\".\n",
      "Mr Braithwaite, speaking on behalf of 27 nations, urged China to reconsider.\n"
     ]
    }
   ],
   "source": [
    "for news in bsobj.findAll('div',{'class':'ssrcss-uf6wea-RichTextComponentWrapper e1xue1i84'}):\n",
    "    print(news.text.strip())"
   ]
  },
  {
   "cell_type": "markdown",
   "metadata": {},
   "source": [
    "Confirmed that's the bottom."
   ]
  },
  {
   "cell_type": "markdown",
   "metadata": {},
   "source": [
    "**Clean | Send to DataFrame**<a id='2.5_review'></a>"
   ]
  },
  {
   "cell_type": "markdown",
   "metadata": {},
   "source": [
    "First the date from string to a datetime object."
   ]
  },
  {
   "cell_type": "code",
   "execution_count": 52,
   "metadata": {},
   "outputs": [],
   "source": [
    "for day in bsobj.find('span',{'class':'ssrcss-8g95ls-MetadataSnippet ecn1o5v2'}):\n",
    "    day_pub = day.text.strip()"
   ]
  },
  {
   "cell_type": "code",
   "execution_count": 53,
   "metadata": {},
   "outputs": [
    {
     "data": {
      "text/plain": [
       "'30 June 2020'"
      ]
     },
     "execution_count": 53,
     "metadata": {},
     "output_type": "execute_result"
    }
   ],
   "source": [
    "day_pub"
   ]
  },
  {
   "cell_type": "code",
   "execution_count": 54,
   "metadata": {},
   "outputs": [],
   "source": [
    "#Replacing the spaces\n",
    "day_pub = re.sub(' ','-',day_pub)\n",
    "#Replacing words to bring to datetimeformat\n",
    "day_pub = re.sub('June','06',day_pub)\n",
    "#Converting to dattime format\n",
    "day_pub = datetime.strptime(day_pub, '%d-%m-%Y').date()"
   ]
  },
  {
   "cell_type": "code",
   "execution_count": 55,
   "metadata": {},
   "outputs": [
    {
     "data": {
      "text/plain": [
       "datetime.date(2020, 6, 30)"
      ]
     },
     "execution_count": 55,
     "metadata": {},
     "output_type": "execute_result"
    }
   ],
   "source": [
    "day_pub"
   ]
  },
  {
   "cell_type": "code",
   "execution_count": 56,
   "metadata": {},
   "outputs": [],
   "source": [
    "df_date = pd.DataFrame([day_pub])"
   ]
  },
  {
   "cell_type": "code",
   "execution_count": 57,
   "metadata": {},
   "outputs": [
    {
     "data": {
      "text/plain": [
       "pandas.core.frame.DataFrame"
      ]
     },
     "execution_count": 57,
     "metadata": {},
     "output_type": "execute_result"
    }
   ],
   "source": [
    "type(df_date)"
   ]
  },
  {
   "cell_type": "code",
   "execution_count": 58,
   "metadata": {},
   "outputs": [
    {
     "data": {
      "text/html": [
       "<div>\n",
       "<style scoped>\n",
       "    .dataframe tbody tr th:only-of-type {\n",
       "        vertical-align: middle;\n",
       "    }\n",
       "\n",
       "    .dataframe tbody tr th {\n",
       "        vertical-align: top;\n",
       "    }\n",
       "\n",
       "    .dataframe thead th {\n",
       "        text-align: right;\n",
       "    }\n",
       "</style>\n",
       "<table border=\"1\" class=\"dataframe\">\n",
       "  <thead>\n",
       "    <tr style=\"text-align: right;\">\n",
       "      <th></th>\n",
       "      <th>0</th>\n",
       "    </tr>\n",
       "  </thead>\n",
       "  <tbody>\n",
       "    <tr>\n",
       "      <th>0</th>\n",
       "      <td>2020-06-30</td>\n",
       "    </tr>\n",
       "  </tbody>\n",
       "</table>\n",
       "</div>"
      ],
      "text/plain": [
       "            0\n",
       "0  2020-06-30"
      ]
     },
     "execution_count": 58,
     "metadata": {},
     "output_type": "execute_result"
    }
   ],
   "source": [
    "df_date"
   ]
  },
  {
   "cell_type": "markdown",
   "metadata": {},
   "source": [
    "Now the title."
   ]
  },
  {
   "cell_type": "code",
   "execution_count": 59,
   "metadata": {},
   "outputs": [],
   "source": [
    "for title_s in bsobj.findAll(\"h1\"):\n",
    "    title_list = format(title_s.text)"
   ]
  },
  {
   "cell_type": "code",
   "execution_count": 60,
   "metadata": {},
   "outputs": [],
   "source": [
    "df_title = pd.DataFrame([title_list])"
   ]
  },
  {
   "cell_type": "code",
   "execution_count": 61,
   "metadata": {},
   "outputs": [
    {
     "data": {
      "text/html": [
       "<div>\n",
       "<style scoped>\n",
       "    .dataframe tbody tr th:only-of-type {\n",
       "        vertical-align: middle;\n",
       "    }\n",
       "\n",
       "    .dataframe tbody tr th {\n",
       "        vertical-align: top;\n",
       "    }\n",
       "\n",
       "    .dataframe thead th {\n",
       "        text-align: right;\n",
       "    }\n",
       "</style>\n",
       "<table border=\"1\" class=\"dataframe\">\n",
       "  <thead>\n",
       "    <tr style=\"text-align: right;\">\n",
       "      <th></th>\n",
       "      <th>0</th>\n",
       "    </tr>\n",
       "  </thead>\n",
       "  <tbody>\n",
       "    <tr>\n",
       "      <th>0</th>\n",
       "      <td>Hong Kong security law: Life sentences for bre...</td>\n",
       "    </tr>\n",
       "  </tbody>\n",
       "</table>\n",
       "</div>"
      ],
      "text/plain": [
       "                                                   0\n",
       "0  Hong Kong security law: Life sentences for bre..."
      ]
     },
     "execution_count": 61,
     "metadata": {},
     "output_type": "execute_result"
    }
   ],
   "source": [
    "df_title"
   ]
  },
  {
   "cell_type": "code",
   "execution_count": 62,
   "metadata": {},
   "outputs": [
    {
     "data": {
      "text/plain": [
       "pandas.core.frame.DataFrame"
      ]
     },
     "execution_count": 62,
     "metadata": {},
     "output_type": "execute_result"
    }
   ],
   "source": [
    "type(df_title)"
   ]
  },
  {
   "cell_type": "markdown",
   "metadata": {},
   "source": [
    "These two items are manually added."
   ]
  },
  {
   "cell_type": "code",
   "execution_count": 63,
   "metadata": {},
   "outputs": [],
   "source": [
    "country = 'UK'\n",
    "df_country = pd.DataFrame([country])\n",
    "source = 'BBC'\n",
    "df_source = pd.DataFrame([source])"
   ]
  },
  {
   "cell_type": "markdown",
   "metadata": {},
   "source": [
    "Finally, the news."
   ]
  },
  {
   "cell_type": "code",
   "execution_count": 64,
   "metadata": {},
   "outputs": [],
   "source": [
    "news1 = []\n",
    "for news in bsobj.findAll('div',{'class':'ssrcss-uf6wea-RichTextComponentWrapper e1xue1i84'}):\n",
    "    news1.append(news.text.strip())"
   ]
  },
  {
   "cell_type": "code",
   "execution_count": 65,
   "metadata": {},
   "outputs": [],
   "source": [
    "df_news = pd.DataFrame()"
   ]
  },
  {
   "cell_type": "code",
   "execution_count": 66,
   "metadata": {},
   "outputs": [],
   "source": [
    "df_news['article_body'] = news1"
   ]
  },
  {
   "cell_type": "code",
   "execution_count": 67,
   "metadata": {},
   "outputs": [
    {
     "data": {
      "text/html": [
       "<div>\n",
       "<style scoped>\n",
       "    .dataframe tbody tr th:only-of-type {\n",
       "        vertical-align: middle;\n",
       "    }\n",
       "\n",
       "    .dataframe tbody tr th {\n",
       "        vertical-align: top;\n",
       "    }\n",
       "\n",
       "    .dataframe thead th {\n",
       "        text-align: right;\n",
       "    }\n",
       "</style>\n",
       "<table border=\"1\" class=\"dataframe\">\n",
       "  <thead>\n",
       "    <tr style=\"text-align: right;\">\n",
       "      <th></th>\n",
       "      <th>article_body</th>\n",
       "    </tr>\n",
       "  </thead>\n",
       "  <tbody>\n",
       "    <tr>\n",
       "      <th>0</th>\n",
       "      <td>People in Hong Kong could face life in jail fo...</td>\n",
       "    </tr>\n",
       "    <tr>\n",
       "      <th>1</th>\n",
       "      <td>The legislation came into force on Tuesday but...</td>\n",
       "    </tr>\n",
       "  </tbody>\n",
       "</table>\n",
       "</div>"
      ],
      "text/plain": [
       "                                        article_body\n",
       "0  People in Hong Kong could face life in jail fo...\n",
       "1  The legislation came into force on Tuesday but..."
      ]
     },
     "execution_count": 67,
     "metadata": {},
     "output_type": "execute_result"
    }
   ],
   "source": [
    "df_news.head(2)"
   ]
  },
  {
   "cell_type": "code",
   "execution_count": 68,
   "metadata": {},
   "outputs": [],
   "source": [
    "df_news['article_body'] = df_news.article_body.str.cat(sep='')"
   ]
  },
  {
   "cell_type": "code",
   "execution_count": 69,
   "metadata": {},
   "outputs": [],
   "source": [
    "df_news = df_news.article_body[0]"
   ]
  },
  {
   "cell_type": "code",
   "execution_count": 70,
   "metadata": {},
   "outputs": [],
   "source": [
    "df_news = df_news.replace(r'\\\\?','')"
   ]
  },
  {
   "cell_type": "code",
   "execution_count": 71,
   "metadata": {},
   "outputs": [],
   "source": [
    "df_news = pd.DataFrame([df_news])"
   ]
  },
  {
   "cell_type": "code",
   "execution_count": 72,
   "metadata": {},
   "outputs": [
    {
     "data": {
      "text/plain": [
       "pandas.core.frame.DataFrame"
      ]
     },
     "execution_count": 72,
     "metadata": {},
     "output_type": "execute_result"
    }
   ],
   "source": [
    "type(df_news)"
   ]
  },
  {
   "cell_type": "code",
   "execution_count": 73,
   "metadata": {},
   "outputs": [],
   "source": [
    "df_news.columns = ['Article']"
   ]
  },
  {
   "cell_type": "code",
   "execution_count": 74,
   "metadata": {},
   "outputs": [
    {
     "data": {
      "text/html": [
       "<div>\n",
       "<style scoped>\n",
       "    .dataframe tbody tr th:only-of-type {\n",
       "        vertical-align: middle;\n",
       "    }\n",
       "\n",
       "    .dataframe tbody tr th {\n",
       "        vertical-align: top;\n",
       "    }\n",
       "\n",
       "    .dataframe thead th {\n",
       "        text-align: right;\n",
       "    }\n",
       "</style>\n",
       "<table border=\"1\" class=\"dataframe\">\n",
       "  <thead>\n",
       "    <tr style=\"text-align: right;\">\n",
       "      <th></th>\n",
       "      <th>Article</th>\n",
       "    </tr>\n",
       "  </thead>\n",
       "  <tbody>\n",
       "    <tr>\n",
       "      <th>0</th>\n",
       "      <td>People in Hong Kong could face life in jail fo...</td>\n",
       "    </tr>\n",
       "  </tbody>\n",
       "</table>\n",
       "</div>"
      ],
      "text/plain": [
       "                                             Article\n",
       "0  People in Hong Kong could face life in jail fo..."
      ]
     },
     "execution_count": 74,
     "metadata": {},
     "output_type": "execute_result"
    }
   ],
   "source": [
    "df_news.head()"
   ]
  },
  {
   "cell_type": "code",
   "execution_count": null,
   "metadata": {},
   "outputs": [],
   "source": []
  },
  {
   "cell_type": "markdown",
   "metadata": {},
   "source": [
    "**Bringing it together.**<a id='2.5_bit'></a>"
   ]
  },
  {
   "cell_type": "code",
   "execution_count": 75,
   "metadata": {},
   "outputs": [],
   "source": [
    "df_22_bbc = pd.concat([df_date,df_source,df_country,df_title,df_news],axis = 1, ignore_index=False)"
   ]
  },
  {
   "cell_type": "code",
   "execution_count": 76,
   "metadata": {},
   "outputs": [],
   "source": [
    "df_22_bbc.columns = ['date','source','country','title','article']"
   ]
  },
  {
   "cell_type": "code",
   "execution_count": 77,
   "metadata": {},
   "outputs": [
    {
     "data": {
      "text/html": [
       "<div>\n",
       "<style scoped>\n",
       "    .dataframe tbody tr th:only-of-type {\n",
       "        vertical-align: middle;\n",
       "    }\n",
       "\n",
       "    .dataframe tbody tr th {\n",
       "        vertical-align: top;\n",
       "    }\n",
       "\n",
       "    .dataframe thead th {\n",
       "        text-align: right;\n",
       "    }\n",
       "</style>\n",
       "<table border=\"1\" class=\"dataframe\">\n",
       "  <thead>\n",
       "    <tr style=\"text-align: right;\">\n",
       "      <th></th>\n",
       "      <th>date</th>\n",
       "      <th>source</th>\n",
       "      <th>country</th>\n",
       "      <th>title</th>\n",
       "      <th>article</th>\n",
       "    </tr>\n",
       "  </thead>\n",
       "  <tbody>\n",
       "    <tr>\n",
       "      <th>0</th>\n",
       "      <td>2020-06-30</td>\n",
       "      <td>BBC</td>\n",
       "      <td>UK</td>\n",
       "      <td>Hong Kong security law: Life sentences for bre...</td>\n",
       "      <td>People in Hong Kong could face life in jail fo...</td>\n",
       "    </tr>\n",
       "  </tbody>\n",
       "</table>\n",
       "</div>"
      ],
      "text/plain": [
       "         date source country  \\\n",
       "0  2020-06-30    BBC      UK   \n",
       "\n",
       "                                               title  \\\n",
       "0  Hong Kong security law: Life sentences for bre...   \n",
       "\n",
       "                                             article  \n",
       "0  People in Hong Kong could face life in jail fo...  "
      ]
     },
     "execution_count": 77,
     "metadata": {},
     "output_type": "execute_result"
    }
   ],
   "source": [
    "df_22_bbc.head()"
   ]
  },
  {
   "cell_type": "code",
   "execution_count": null,
   "metadata": {},
   "outputs": [],
   "source": []
  },
  {
   "cell_type": "markdown",
   "metadata": {},
   "source": [
    "**Saving**<a id='2.6_save'></a>"
   ]
  },
  {
   "cell_type": "code",
   "execution_count": 78,
   "metadata": {
    "scrolled": true
   },
   "outputs": [
    {
     "name": "stdout",
     "output_type": "stream",
     "text": [
      "C:\\Users\\rands\n"
     ]
    }
   ],
   "source": [
    "cd"
   ]
  },
  {
   "cell_type": "markdown",
   "metadata": {},
   "source": [
    "Saving it to Excel."
   ]
  },
  {
   "cell_type": "code",
   "execution_count": 79,
   "metadata": {},
   "outputs": [
    {
     "name": "stdout",
     "output_type": "stream",
     "text": [
      "Complete\n"
     ]
    }
   ],
   "source": [
    "# df = pd.DataFrame(reviewlist)\n",
    "\n",
    "# index=False below so that we don't get the dataframe index on the side; we just use the excel index\n",
    "df_22_bbc.to_csv('./_Capstone_Two_NLP/data/_news/bbc_22.csv', index=False)\n",
    "\n",
    "print('Complete')"
   ]
  },
  {
   "cell_type": "code",
   "execution_count": null,
   "metadata": {},
   "outputs": [],
   "source": []
  }
 ],
 "metadata": {
  "kernelspec": {
   "display_name": "Python 3",
   "language": "python",
   "name": "python3"
  },
  "language_info": {
   "codemirror_mode": {
    "name": "ipython",
    "version": 3
   },
   "file_extension": ".py",
   "mimetype": "text/x-python",
   "name": "python",
   "nbconvert_exporter": "python",
   "pygments_lexer": "ipython3",
   "version": "3.8.5"
  },
  "varInspector": {
   "cols": {
    "lenName": 16,
    "lenType": 16,
    "lenVar": 40
   },
   "kernels_config": {
    "python": {
     "delete_cmd_postfix": "",
     "delete_cmd_prefix": "del ",
     "library": "var_list.py",
     "varRefreshCmd": "print(var_dic_list())"
    },
    "r": {
     "delete_cmd_postfix": ") ",
     "delete_cmd_prefix": "rm(",
     "library": "var_list.r",
     "varRefreshCmd": "cat(var_dic_list()) "
    }
   },
   "types_to_exclude": [
    "module",
    "function",
    "builtin_function_or_method",
    "instance",
    "_Feature"
   ],
   "window_display": false
  }
 },
 "nbformat": 4,
 "nbformat_minor": 4
}
