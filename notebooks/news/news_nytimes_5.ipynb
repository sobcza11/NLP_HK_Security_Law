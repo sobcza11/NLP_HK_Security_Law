{
 "cells": [
  {
   "cell_type": "markdown",
   "metadata": {},
   "source": [
    "# Scraping _______ from _______"
   ]
  },
  {
   "cell_type": "markdown",
   "metadata": {},
   "source": [
    "## 2.1 Contents<a id='2.1_Contents'></a>\n",
    "* [2.1 Importing Relevant Tools](#2.1_Importing)\n",
    "* [2.2 Defining the Request](#2.2_URL)\n",
    "* [2.3 Grab | Date](#2.4_scrape_date)\n",
    "* [2.4 Grab | Header](#2.4_scrape_header)\n",
    "* [2.5 Grab | Content](#2.4_scrape_content)\n",
    "* [2.6 Clean | Send to DataFrame](#2.5_review)\n",
    "* [2.7 Save](#2.6_save)\n"
   ]
  },
  {
   "cell_type": "markdown",
   "metadata": {},
   "source": [
    "**Importing Relevant Tools**<a id='2.1_Importing'></a>"
   ]
  },
  {
   "cell_type": "code",
   "execution_count": 157,
   "metadata": {},
   "outputs": [],
   "source": [
    "import json\n",
    "import pandas as pd\n",
    "from bs4 import BeautifulSoup as soup\n",
    "import requests\n",
    "import csv\n",
    "import re\n",
    "import pickle\n",
    "\n",
    "%reload_ext watermark"
   ]
  },
  {
   "cell_type": "code",
   "execution_count": 158,
   "metadata": {},
   "outputs": [],
   "source": [
    "#the below needs to be reviewed for all websites; notably the time format\n",
    "\n",
    "from datetime import date\n",
    "from datetime import datetime\n",
    "today = date.today()\n",
    "d = today.strftime(\"%m-%d-%y\")"
   ]
  },
  {
   "cell_type": "markdown",
   "metadata": {},
   "source": [
    "For reference."
   ]
  },
  {
   "cell_type": "code",
   "execution_count": 159,
   "metadata": {},
   "outputs": [
    {
     "name": "stdout",
     "output_type": "stream",
     "text": [
      "Python implementation: CPython\n",
      "Python version       : 3.8.5\n",
      "IPython version      : 7.19.0\n",
      "\n",
      "pandas: 1.1.3\n",
      "\n"
     ]
    }
   ],
   "source": [
    "%watermark -d -t -v -p pandas"
   ]
  },
  {
   "cell_type": "markdown",
   "metadata": {},
   "source": [
    "**Defining the Request**<a id='2.2_URL'></a>"
   ]
  },
  {
   "cell_type": "code",
   "execution_count": 160,
   "metadata": {},
   "outputs": [
    {
     "data": {
      "text/plain": [
       "'https://www.nytimes.com/2020/06/28/world/asia/china-hong-kong-national-security-law.html'"
      ]
     },
     "execution_count": 160,
     "metadata": {},
     "output_type": "execute_result"
    }
   ],
   "source": [
    "url = 'https://www.nytimes.com/2020/06/28/world/asia/china-hong-kong-national-security-law.html'.format(d)\n",
    "url"
   ]
  },
  {
   "cell_type": "code",
   "execution_count": 161,
   "metadata": {},
   "outputs": [],
   "source": [
    "html = requests.get(url)"
   ]
  },
  {
   "cell_type": "code",
   "execution_count": 162,
   "metadata": {},
   "outputs": [],
   "source": [
    "bsobj = soup(html.content,'lxml')\n",
    "# bsobj"
   ]
  },
  {
   "cell_type": "markdown",
   "metadata": {},
   "source": [
    "**Grab | Date**<a id='2.4_scrape_date'></a>"
   ]
  },
  {
   "cell_type": "code",
   "execution_count": 163,
   "metadata": {},
   "outputs": [
    {
     "name": "stdout",
     "output_type": "stream",
     "text": [
      "Published June 28, 2020Updated June 30, 2020\n"
     ]
    }
   ],
   "source": [
    "for date in bsobj.find('div',{'class':'css-1hdytw'}):\n",
    "    print(date.text.strip())"
   ]
  },
  {
   "cell_type": "markdown",
   "metadata": {},
   "source": [
    "Lot's of cleaning to do."
   ]
  },
  {
   "cell_type": "markdown",
   "metadata": {},
   "source": [
    "**Grab | Header**<a id='2.4_scrape_header'></a>"
   ]
  },
  {
   "cell_type": "code",
   "execution_count": 164,
   "metadata": {},
   "outputs": [
    {
     "name": "stdout",
     "output_type": "stream",
     "text": [
      "What China’s New National Security Law Means for Hong Kong\n"
     ]
    }
   ],
   "source": [
    "for title in bsobj.findAll(\"h1\"):\n",
    "    print(format(title.text))"
   ]
  },
  {
   "cell_type": "markdown",
   "metadata": {},
   "source": [
    "Confirmed that's the title."
   ]
  },
  {
   "cell_type": "markdown",
   "metadata": {},
   "source": [
    "**Grab | Content**<a id='2.4_scrape_content'></a>"
   ]
  },
  {
   "cell_type": "code",
   "execution_count": 165,
   "metadata": {},
   "outputs": [
    {
     "name": "stdout",
     "output_type": "stream",
     "text": [
      "Chinese lawmakers have approved a national security law, drastically curbing political protest and dissent in Hong Kong and adding to Beijing’s tensions with Western powers.The National People’s Congress Standing Committee — an arm of China’s Communist Party-run legislature — discussed the draft law twice this month, including a three-day session that started on Sunday. But even as Hong Kong news media reported on Tuesday that the law had passed, the city’s residents were still waiting to see its full text.\n",
      "Here is what the move means for Hong Kong.A law to curb opposition in Hong Kong.\n",
      "China’s Communist Party leaders have long worried about opposition to their rule in Hong Kong, which was a British colony until 1997. The Basic Law, which enshrines Hong Kong’s special legal status, says the semiautonomous territory should enact legislation that outlaws “any act of treason, secession, sedition, subversion.”\n",
      "Full details have not been released, but the security law is expected to deter speech, protests and news media critical of the Chinese government, threatening the territory’s independent press and democratic opposition.Many Hong Kong residents are proudly protective of their rights under the territory’s separate legal system and have opposed attempts to pass such legislation. A previous push by Hong Kong’s leaders to enact a national security law foundered in 2003 after nearly 500,000 people joined a street protest against it.China’s top leader, Xi Jinping, has been impatient to impose control over Hong Kong. After the territory erupted in monthslong protests last year over a proposed extradition law, a Communist Party meeting in October demanded steps to “safeguard national security” in Hong Kong.The National People’s Congress Standing Committee usually meets every two months or so. This time, the committee met just a little over a week after it first discussed the security legislation at its last session. The timing of the latest session suggested that Mr. Xi wanted the law passed before July 1, the 23rd anniversary of Hong Kong’s return to Chinese sovereignty.\n",
      "Beijing imposes security agencies.\n",
      "Legal experts had been uncertain how Mr. Xi could introduce a national security law into Hong Kong without going through the city’s Legislative Council, a body stacked with pro-Beijing members who have, nonetheless, hesitated to take such a contentious step.But Mr. Xi made a bold move to break the impasse in May, when a full session of the National People’s Congress nearly unanimously passed a resolution empowering the Congress’s Standing Committee to bring state security legislation into the Basic Law.The central government’s decision to impose a law effectively circumvents the Hong Kong legislature. Even Hong Kong politicians who have endorsed the law, including the territory’s top official, Carrie Lam, have said they have not been shown the full text by Beijing, which will bring into Hong Kong new crimes like inciting separatism and “colluding with foreign powers.”The law will also establish a new security agency in the territory to enforce the security restrictions, and Beijing will create its own separate security arm in Hong Kong, empowered to investigate special cases and collect intelligence, according to a summary issued by China’s legislature.The legislation also gives the territory’s chief official, who must answer to Beijing, the power to decide which judges are empowered to hear trials for state security charges, limiting the autonomy of the city’s judiciary.Many residents fear the law.\n",
      "Carrie Lam, Hong Kong’s local leader, has sought to reassure the public that their “legitimate rights and freedoms” will be safeguarded. She and other politicians who support the law have also said that it will target only a tiny minority of lawbreakers.Pro-democracy activists have denounced the proposed law, and the Hong Kong Bar Association has called it unconstitutional.The Hong Kong police force has denied applications from three groups — the League of Social Democrats, the Civil Human Rights Front and pro-democracy district officials — to hold marches opposing the law on July 1, the politically sensitive anniversary of Hong Kong’s handover to Chinese rule, citing risks from the coronavirus and dangers of violence. If the police decision survives appeal, it would be the first time since 2003 that a march on July 1 has been banned, the Civil Human Rights Front said. Some protesters may ignore the order and march.A survey by the Hong Kong Public Opinion Research Institute in mid-June found that 49 percent of respondents “very much oppose” the security legislation, while another 7 percent “somewhat oppose” it, Reuters reported. But the survey also indicated that public backing for street demonstrations had softened: Support for protests fell to 51 percent, down from 58 percent in a poll in March.Western governments object.\n",
      "As China moved forward with plans to impose security laws in Hong Kong, foreign governments criticized the decision. Foreign ministers from the Group of 7 leading industrialized democracies called on China this month to abandon the law, saying that it would undermine the autonomy of the territory.Secretary of State Mike Pompeo said on Friday that the United States would impose visa restrictions on Chinese officials, including retired ones “believed to be responsible for, or complicit in, undermining Hong Kong’s high degree of autonomy.” He did not name any officials or say how many might be barred.\n",
      "Prime Minister Boris Johnson of Britain has promised to allow nearly three million people from Hong Kong to live and work in the country. Mr. Johnson, however, has left unanswered questions about how those admitted might be able to obtain British citizenship.Taiwan said this month that it would expand efforts to provide refuge to protesters and others who wish to leave Hong Kong. The government said it could, in certain cases, provide work and study visas, as well as assistance securing housing and jobs.Elaine Yu contributed reporting from Hong Kong.\n"
     ]
    }
   ],
   "source": [
    "for news in bsobj.findAll('div',{'class':'css-1fanzo5 StoryBodyCompanionColumn'}):\n",
    "    print(news.text.strip())"
   ]
  },
  {
   "cell_type": "markdown",
   "metadata": {},
   "source": [
    "Confirmed that's the bottom."
   ]
  },
  {
   "cell_type": "markdown",
   "metadata": {},
   "source": [
    "**Clean | Send to DataFrame**<a id='2.5_review'></a>"
   ]
  },
  {
   "cell_type": "markdown",
   "metadata": {},
   "source": [
    "First the date from string to a datetime object."
   ]
  },
  {
   "cell_type": "code",
   "execution_count": 166,
   "metadata": {},
   "outputs": [],
   "source": [
    "for day in bsobj.find('div',{'class':'css-1hdytw'}):\n",
    "    day_pub = day.text.strip()"
   ]
  },
  {
   "cell_type": "code",
   "execution_count": 167,
   "metadata": {},
   "outputs": [
    {
     "data": {
      "text/plain": [
       "datetime.date(2020, 6, 28)"
      ]
     },
     "execution_count": 167,
     "metadata": {},
     "output_type": "execute_result"
    }
   ],
   "source": [
    "day_pub = re.sub('Published ','',day_pub)\n",
    "day_pub = re.sub('Updated June 30, 2020','',day_pub)\n",
    "day_pub = re.sub(',','',day_pub)\n",
    "day_pub = re.sub('June','06',day_pub)\n",
    "day_pub = re.sub(' ','-',day_pub)\n",
    "day_pub = datetime.strptime(day_pub, '%m-%d-%Y').date()\n",
    "day_pub"
   ]
  },
  {
   "cell_type": "code",
   "execution_count": 168,
   "metadata": {},
   "outputs": [],
   "source": [
    "df_date = pd.DataFrame([day_pub])"
   ]
  },
  {
   "cell_type": "code",
   "execution_count": 169,
   "metadata": {},
   "outputs": [
    {
     "data": {
      "text/plain": [
       "pandas.core.frame.DataFrame"
      ]
     },
     "execution_count": 169,
     "metadata": {},
     "output_type": "execute_result"
    }
   ],
   "source": [
    "type(df_date)"
   ]
  },
  {
   "cell_type": "code",
   "execution_count": 170,
   "metadata": {},
   "outputs": [
    {
     "data": {
      "text/html": [
       "<div>\n",
       "<style scoped>\n",
       "    .dataframe tbody tr th:only-of-type {\n",
       "        vertical-align: middle;\n",
       "    }\n",
       "\n",
       "    .dataframe tbody tr th {\n",
       "        vertical-align: top;\n",
       "    }\n",
       "\n",
       "    .dataframe thead th {\n",
       "        text-align: right;\n",
       "    }\n",
       "</style>\n",
       "<table border=\"1\" class=\"dataframe\">\n",
       "  <thead>\n",
       "    <tr style=\"text-align: right;\">\n",
       "      <th></th>\n",
       "      <th>0</th>\n",
       "    </tr>\n",
       "  </thead>\n",
       "  <tbody>\n",
       "    <tr>\n",
       "      <th>0</th>\n",
       "      <td>2020-06-28</td>\n",
       "    </tr>\n",
       "  </tbody>\n",
       "</table>\n",
       "</div>"
      ],
      "text/plain": [
       "            0\n",
       "0  2020-06-28"
      ]
     },
     "execution_count": 170,
     "metadata": {},
     "output_type": "execute_result"
    }
   ],
   "source": [
    "df_date"
   ]
  },
  {
   "cell_type": "markdown",
   "metadata": {},
   "source": [
    "Now the title."
   ]
  },
  {
   "cell_type": "code",
   "execution_count": 171,
   "metadata": {},
   "outputs": [],
   "source": [
    "for title_s in bsobj.findAll(\"h1\"):\n",
    "    title_list = format(title_s.text)"
   ]
  },
  {
   "cell_type": "code",
   "execution_count": 172,
   "metadata": {},
   "outputs": [],
   "source": [
    "df_title = pd.DataFrame([title_list])"
   ]
  },
  {
   "cell_type": "code",
   "execution_count": 173,
   "metadata": {},
   "outputs": [
    {
     "data": {
      "text/html": [
       "<div>\n",
       "<style scoped>\n",
       "    .dataframe tbody tr th:only-of-type {\n",
       "        vertical-align: middle;\n",
       "    }\n",
       "\n",
       "    .dataframe tbody tr th {\n",
       "        vertical-align: top;\n",
       "    }\n",
       "\n",
       "    .dataframe thead th {\n",
       "        text-align: right;\n",
       "    }\n",
       "</style>\n",
       "<table border=\"1\" class=\"dataframe\">\n",
       "  <thead>\n",
       "    <tr style=\"text-align: right;\">\n",
       "      <th></th>\n",
       "      <th>0</th>\n",
       "    </tr>\n",
       "  </thead>\n",
       "  <tbody>\n",
       "    <tr>\n",
       "      <th>0</th>\n",
       "      <td>What China’s New National Security Law Means f...</td>\n",
       "    </tr>\n",
       "  </tbody>\n",
       "</table>\n",
       "</div>"
      ],
      "text/plain": [
       "                                                   0\n",
       "0  What China’s New National Security Law Means f..."
      ]
     },
     "execution_count": 173,
     "metadata": {},
     "output_type": "execute_result"
    }
   ],
   "source": [
    "df_title"
   ]
  },
  {
   "cell_type": "code",
   "execution_count": 174,
   "metadata": {},
   "outputs": [
    {
     "data": {
      "text/plain": [
       "pandas.core.frame.DataFrame"
      ]
     },
     "execution_count": 174,
     "metadata": {},
     "output_type": "execute_result"
    }
   ],
   "source": [
    "type(df_title)"
   ]
  },
  {
   "cell_type": "markdown",
   "metadata": {},
   "source": [
    "These items are manually added."
   ]
  },
  {
   "cell_type": "code",
   "execution_count": 176,
   "metadata": {},
   "outputs": [],
   "source": [
    "country = 'US'\n",
    "df_country = pd.DataFrame([country])\n",
    "source = 'NY Times'\n",
    "df_source = pd.DataFrame([source])\n",
    "file_name = 'nytimes_5'\n",
    "df_file_name = pd.DataFrame([file_name])\n"
   ]
  },
  {
   "cell_type": "markdown",
   "metadata": {},
   "source": [
    "Finally, the news."
   ]
  },
  {
   "cell_type": "code",
   "execution_count": 177,
   "metadata": {},
   "outputs": [],
   "source": [
    "news1 = []\n",
    "for news in bsobj.findAll('div',{'class':'css-53u6y8'}):\n",
    "    news1.append(news.text.strip())"
   ]
  },
  {
   "cell_type": "code",
   "execution_count": 178,
   "metadata": {},
   "outputs": [
    {
     "data": {
      "text/plain": [
       "['Chinese lawmakers have approved a national security law, drastically curbing political protest and dissent in Hong Kong and adding to Beijing’s tensions with Western powers.The National People’s Congress Standing Committee — an arm of China’s Communist Party-run legislature — discussed the draft law twice this month, including a three-day session that started on Sunday. But even as Hong Kong news media reported on Tuesday that the law had passed, the city’s residents were still waiting to see its full text.',\n",
       " 'Here is what the move means for Hong Kong.A law to curb opposition in Hong Kong.',\n",
       " 'China’s Communist Party leaders have long worried about opposition to their rule in Hong Kong, which was a British colony until 1997. The Basic Law, which enshrines Hong Kong’s special legal status, says the semiautonomous territory should enact legislation that outlaws “any act of treason, secession, sedition, subversion.”',\n",
       " 'Full details have not been released, but the security law is expected to deter speech, protests and news media critical of the Chinese government, threatening the territory’s independent press and democratic opposition.Many Hong Kong residents are proudly protective of their rights under the territory’s separate legal system and have opposed attempts to pass such legislation. A previous push by Hong Kong’s leaders to enact a national security law foundered in 2003 after nearly 500,000 people joined a street protest against it.China’s top leader, Xi Jinping, has been impatient to impose control over Hong Kong. After the territory erupted in monthslong protests last year over a proposed extradition law, a Communist Party meeting in October demanded steps to “safeguard national security” in Hong Kong.The National People’s Congress Standing Committee usually meets every two months or so. This time, the committee met just a little over a week after it first discussed the security legislation at its last session. The timing of the latest session suggested that Mr. Xi wanted the law passed before July 1, the 23rd anniversary of Hong Kong’s return to Chinese sovereignty.',\n",
       " 'Beijing imposes security agencies.',\n",
       " 'Legal experts had been uncertain how Mr. Xi could introduce a national security law into Hong Kong without going through the city’s Legislative Council, a body stacked with pro-Beijing members who have, nonetheless, hesitated to take such a contentious step.But Mr. Xi made a bold move to break the impasse in May, when a full session of the National People’s Congress nearly unanimously passed a resolution empowering the Congress’s Standing Committee to bring state security legislation into the Basic Law.The central government’s decision to impose a law effectively circumvents the Hong Kong legislature. Even Hong Kong politicians who have endorsed the law, including the territory’s top official, Carrie Lam, have said they have not been shown the full text by Beijing, which will bring into Hong Kong new crimes like inciting separatism and “colluding with foreign powers.”The law will also establish a new security agency in the territory to enforce the security restrictions, and Beijing will create its own separate security arm in Hong Kong, empowered to investigate special cases and collect intelligence, according to a summary issued by China’s legislature.The legislation also gives the territory’s chief official, who must answer to Beijing, the power to decide which judges are empowered to hear trials for state security charges, limiting the autonomy of the city’s judiciary.Many residents fear the law.',\n",
       " 'Carrie Lam, Hong Kong’s local leader, has sought to reassure the public that their “legitimate rights and freedoms” will be safeguarded. She and other politicians who support the law have also said that it will target only a tiny minority of lawbreakers.Pro-democracy activists have denounced the proposed law, and the Hong Kong Bar Association has called it unconstitutional.The Hong Kong police force has denied applications from three groups — the League of Social Democrats, the Civil Human Rights Front and pro-democracy district officials — to hold marches opposing the law on July 1, the politically sensitive anniversary of Hong Kong’s handover to Chinese rule, citing risks from the coronavirus and dangers of violence. If the police decision survives appeal, it would be the first time since 2003 that a march on July 1 has been banned, the Civil Human Rights Front said. Some protesters may ignore the order and march.A survey by the Hong Kong Public Opinion Research Institute in mid-June found that 49 percent of respondents “very much oppose” the security legislation, while another 7 percent “somewhat oppose” it, Reuters reported. But the survey also indicated that public backing for street demonstrations had softened: Support for protests fell to 51 percent, down from 58 percent in a poll in March.Western governments object.',\n",
       " 'As China moved forward with plans to impose security laws in Hong Kong, foreign governments criticized the decision. Foreign ministers from the Group of 7 leading industrialized democracies called on China this month to abandon the law, saying that it would undermine the autonomy of the territory.Secretary of State Mike Pompeo said on Friday that the United States would impose visa restrictions on Chinese officials, including retired ones “believed to be responsible for, or complicit in, undermining Hong Kong’s high degree of autonomy.” He did not name any officials or say how many might be barred.',\n",
       " 'Prime Minister Boris Johnson of Britain has promised to allow nearly three million people from Hong Kong to live and work in the country. Mr. Johnson, however, has left unanswered questions about how those admitted might be able to obtain British citizenship.Taiwan said this month that it would expand efforts to provide refuge to protesters and others who wish to leave Hong Kong. The government said it could, in certain cases, provide work and study visas, as well as assistance securing housing and jobs.Elaine Yu contributed reporting from Hong Kong.']"
      ]
     },
     "execution_count": 178,
     "metadata": {},
     "output_type": "execute_result"
    }
   ],
   "source": [
    "news1"
   ]
  },
  {
   "cell_type": "code",
   "execution_count": 179,
   "metadata": {},
   "outputs": [
    {
     "data": {
      "text/plain": [
       "9"
      ]
     },
     "execution_count": 179,
     "metadata": {},
     "output_type": "execute_result"
    }
   ],
   "source": [
    "len(news1)"
   ]
  },
  {
   "cell_type": "code",
   "execution_count": 180,
   "metadata": {},
   "outputs": [
    {
     "data": {
      "text/plain": [
       "'Prime Minister Boris Johnson of Britain has promised to allow nearly three million people from Hong Kong to live and work in the country. Mr. Johnson, however, has left unanswered questions about how those admitted might be able to obtain British citizenship.Taiwan said this month that it would expand efforts to provide refuge to protesters and others who wish to leave Hong Kong. The government said it could, in certain cases, provide work and study visas, as well as assistance securing housing and jobs.Elaine Yu contributed reporting from Hong Kong.'"
      ]
     },
     "execution_count": 180,
     "metadata": {},
     "output_type": "execute_result"
    }
   ],
   "source": [
    "news1[8]"
   ]
  },
  {
   "cell_type": "code",
   "execution_count": 181,
   "metadata": {},
   "outputs": [],
   "source": [
    "news1[8] = re.sub('Elaine Yu contributed reporting from Hong Kong.','',news1[8])"
   ]
  },
  {
   "cell_type": "code",
   "execution_count": 182,
   "metadata": {},
   "outputs": [],
   "source": [
    "df_news = pd.DataFrame()"
   ]
  },
  {
   "cell_type": "code",
   "execution_count": 183,
   "metadata": {},
   "outputs": [],
   "source": [
    "df_news['article_body'] = news1"
   ]
  },
  {
   "cell_type": "code",
   "execution_count": 184,
   "metadata": {},
   "outputs": [
    {
     "data": {
      "text/html": [
       "<div>\n",
       "<style scoped>\n",
       "    .dataframe tbody tr th:only-of-type {\n",
       "        vertical-align: middle;\n",
       "    }\n",
       "\n",
       "    .dataframe tbody tr th {\n",
       "        vertical-align: top;\n",
       "    }\n",
       "\n",
       "    .dataframe thead th {\n",
       "        text-align: right;\n",
       "    }\n",
       "</style>\n",
       "<table border=\"1\" class=\"dataframe\">\n",
       "  <thead>\n",
       "    <tr style=\"text-align: right;\">\n",
       "      <th></th>\n",
       "      <th>article_body</th>\n",
       "    </tr>\n",
       "  </thead>\n",
       "  <tbody>\n",
       "    <tr>\n",
       "      <th>0</th>\n",
       "      <td>Chinese lawmakers have approved a national sec...</td>\n",
       "    </tr>\n",
       "    <tr>\n",
       "      <th>1</th>\n",
       "      <td>Here is what the move means for Hong Kong.A la...</td>\n",
       "    </tr>\n",
       "  </tbody>\n",
       "</table>\n",
       "</div>"
      ],
      "text/plain": [
       "                                        article_body\n",
       "0  Chinese lawmakers have approved a national sec...\n",
       "1  Here is what the move means for Hong Kong.A la..."
      ]
     },
     "execution_count": 184,
     "metadata": {},
     "output_type": "execute_result"
    }
   ],
   "source": [
    "df_news.head(2)"
   ]
  },
  {
   "cell_type": "code",
   "execution_count": 185,
   "metadata": {},
   "outputs": [],
   "source": [
    "df_news['article_body'] = df_news.article_body.str.cat(sep=' ')"
   ]
  },
  {
   "cell_type": "code",
   "execution_count": 186,
   "metadata": {},
   "outputs": [],
   "source": [
    "df_news = df_news.article_body[0]"
   ]
  },
  {
   "cell_type": "code",
   "execution_count": 187,
   "metadata": {},
   "outputs": [],
   "source": [
    "df_news = df_news.replace(r'\\\\?','')"
   ]
  },
  {
   "cell_type": "code",
   "execution_count": 188,
   "metadata": {},
   "outputs": [],
   "source": [
    "df_news = pd.DataFrame([df_news])"
   ]
  },
  {
   "cell_type": "code",
   "execution_count": 189,
   "metadata": {},
   "outputs": [
    {
     "data": {
      "text/plain": [
       "pandas.core.frame.DataFrame"
      ]
     },
     "execution_count": 189,
     "metadata": {},
     "output_type": "execute_result"
    }
   ],
   "source": [
    "type(df_news)"
   ]
  },
  {
   "cell_type": "code",
   "execution_count": 190,
   "metadata": {},
   "outputs": [],
   "source": [
    "df_news.columns = ['Article']"
   ]
  },
  {
   "cell_type": "code",
   "execution_count": 191,
   "metadata": {},
   "outputs": [
    {
     "data": {
      "text/html": [
       "<div>\n",
       "<style scoped>\n",
       "    .dataframe tbody tr th:only-of-type {\n",
       "        vertical-align: middle;\n",
       "    }\n",
       "\n",
       "    .dataframe tbody tr th {\n",
       "        vertical-align: top;\n",
       "    }\n",
       "\n",
       "    .dataframe thead th {\n",
       "        text-align: right;\n",
       "    }\n",
       "</style>\n",
       "<table border=\"1\" class=\"dataframe\">\n",
       "  <thead>\n",
       "    <tr style=\"text-align: right;\">\n",
       "      <th></th>\n",
       "      <th>Article</th>\n",
       "    </tr>\n",
       "  </thead>\n",
       "  <tbody>\n",
       "    <tr>\n",
       "      <th>0</th>\n",
       "      <td>Chinese lawmakers have approved a national sec...</td>\n",
       "    </tr>\n",
       "  </tbody>\n",
       "</table>\n",
       "</div>"
      ],
      "text/plain": [
       "                                             Article\n",
       "0  Chinese lawmakers have approved a national sec..."
      ]
     },
     "execution_count": 191,
     "metadata": {},
     "output_type": "execute_result"
    }
   ],
   "source": [
    "df_news.head()"
   ]
  },
  {
   "cell_type": "code",
   "execution_count": null,
   "metadata": {},
   "outputs": [],
   "source": []
  },
  {
   "cell_type": "markdown",
   "metadata": {},
   "source": [
    "**Bringing it together.**<a id='2.5_bit'></a>"
   ]
  },
  {
   "cell_type": "code",
   "execution_count": 192,
   "metadata": {},
   "outputs": [],
   "source": [
    "df_5_nytimes = pd.concat([df_file_name,df_date,df_source,df_country,df_title,df_news],axis = 1, ignore_index=False)"
   ]
  },
  {
   "cell_type": "code",
   "execution_count": 193,
   "metadata": {},
   "outputs": [],
   "source": [
    "df_5_nytimes.columns = ['file_name','date','source','country','title','article']"
   ]
  },
  {
   "cell_type": "code",
   "execution_count": 194,
   "metadata": {},
   "outputs": [
    {
     "data": {
      "text/html": [
       "<div>\n",
       "<style scoped>\n",
       "    .dataframe tbody tr th:only-of-type {\n",
       "        vertical-align: middle;\n",
       "    }\n",
       "\n",
       "    .dataframe tbody tr th {\n",
       "        vertical-align: top;\n",
       "    }\n",
       "\n",
       "    .dataframe thead th {\n",
       "        text-align: right;\n",
       "    }\n",
       "</style>\n",
       "<table border=\"1\" class=\"dataframe\">\n",
       "  <thead>\n",
       "    <tr style=\"text-align: right;\">\n",
       "      <th></th>\n",
       "      <th>file_name</th>\n",
       "      <th>date</th>\n",
       "      <th>source</th>\n",
       "      <th>country</th>\n",
       "      <th>title</th>\n",
       "      <th>article</th>\n",
       "    </tr>\n",
       "  </thead>\n",
       "  <tbody>\n",
       "    <tr>\n",
       "      <th>0</th>\n",
       "      <td>nytimes_5</td>\n",
       "      <td>2020-06-28</td>\n",
       "      <td>NY Times</td>\n",
       "      <td>US</td>\n",
       "      <td>What China’s New National Security Law Means f...</td>\n",
       "      <td>Chinese lawmakers have approved a national sec...</td>\n",
       "    </tr>\n",
       "  </tbody>\n",
       "</table>\n",
       "</div>"
      ],
      "text/plain": [
       "   file_name        date    source country  \\\n",
       "0  nytimes_5  2020-06-28  NY Times      US   \n",
       "\n",
       "                                               title  \\\n",
       "0  What China’s New National Security Law Means f...   \n",
       "\n",
       "                                             article  \n",
       "0  Chinese lawmakers have approved a national sec...  "
      ]
     },
     "execution_count": 194,
     "metadata": {},
     "output_type": "execute_result"
    }
   ],
   "source": [
    "df_5_nytimes.head()"
   ]
  },
  {
   "cell_type": "code",
   "execution_count": null,
   "metadata": {},
   "outputs": [],
   "source": []
  },
  {
   "cell_type": "markdown",
   "metadata": {},
   "source": [
    "**Saving**<a id='2.6_save'></a>"
   ]
  },
  {
   "cell_type": "code",
   "execution_count": 195,
   "metadata": {},
   "outputs": [
    {
     "name": "stdout",
     "output_type": "stream",
     "text": [
      "C:\\Users\\rands\n"
     ]
    }
   ],
   "source": [
    "cd"
   ]
  },
  {
   "cell_type": "markdown",
   "metadata": {},
   "source": [
    "Saving it to Excel."
   ]
  },
  {
   "cell_type": "code",
   "execution_count": 196,
   "metadata": {},
   "outputs": [
    {
     "name": "stdout",
     "output_type": "stream",
     "text": [
      "Complete\n"
     ]
    }
   ],
   "source": [
    "# df = pd.DataFrame(reviewlist)\n",
    "\n",
    "# index=False below so that we don't get the dataframe index on the side; we just use the excel index\n",
    "df_5_nytimes.to_csv('./_Capstone_Two_NLP/data/_news/nytimes_5.csv', index=False)\n",
    "\n",
    "print('Complete')"
   ]
  },
  {
   "cell_type": "code",
   "execution_count": null,
   "metadata": {},
   "outputs": [],
   "source": []
  }
 ],
 "metadata": {
  "kernelspec": {
   "display_name": "Python 3",
   "language": "python",
   "name": "python3"
  },
  "language_info": {
   "codemirror_mode": {
    "name": "ipython",
    "version": 3
   },
   "file_extension": ".py",
   "mimetype": "text/x-python",
   "name": "python",
   "nbconvert_exporter": "python",
   "pygments_lexer": "ipython3",
   "version": "3.8.5"
  },
  "varInspector": {
   "cols": {
    "lenName": 16,
    "lenType": 16,
    "lenVar": 40
   },
   "kernels_config": {
    "python": {
     "delete_cmd_postfix": "",
     "delete_cmd_prefix": "del ",
     "library": "var_list.py",
     "varRefreshCmd": "print(var_dic_list())"
    },
    "r": {
     "delete_cmd_postfix": ") ",
     "delete_cmd_prefix": "rm(",
     "library": "var_list.r",
     "varRefreshCmd": "cat(var_dic_list()) "
    }
   },
   "types_to_exclude": [
    "module",
    "function",
    "builtin_function_or_method",
    "instance",
    "_Feature"
   ],
   "window_display": false
  }
 },
 "nbformat": 4,
 "nbformat_minor": 4
}
