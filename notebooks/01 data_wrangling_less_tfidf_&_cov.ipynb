{
 "cells": [
  {
   "cell_type": "markdown",
   "metadata": {},
   "source": [
    "# Data Wrangling | Twitter | HK NLP Project"
   ]
  },
  {
   "cell_type": "markdown",
   "metadata": {},
   "source": [
    "# Table of Contents\n",
    "* [1.0 Wrangling](#toc)\n",
    "  * [1.1 Contents](#wrangle_contents)\n",
    "  * [1.2 Imports & Set Up](#imports)\n",
    "  * [1.3 Initial Scraping before Regex](#int_scrape)\n",
    "  * [1.4 Regex](#regex)\n",
    "     * [1.4.1 Duplicated TorF](#dupe)\n",
    "     * [1.4.2 Language](#lang)\n",
    "     * [1.4.3 Mentions to Other Users](#oum)\n",
    "     * [1.4.4 HTML tags](#htmltags)\n",
    "     * [1.4.5 Emoji's](#emojis)\n",
    "     * [1.4.6 Profanity](#profanity)\n",
    "     * [1.4.7 Foreign Languages](#flanguage)\n",
    "     * [1.4.8 Sentiment Intensity Analyzer](#sia)\n",
    "     * [1.4.9 Stop Words](#stop_words) \n",
    "     * [1.4.10 Stemming](#word_stem) \n",
    "     * [1.4.11 Lemmatization](#word_lem) \n",
    "     * [1.4.12 Tweet Length](#tweet_length) \n",
    "     * [1.4.13 Number of Hashtags](#num_hashtags) \n",
    "     * [1.4.14 TfidfVectorizer](#word_v_tfid) \n",
    "     * [1.4.15 CountVectorizer](#word_v_count) \n",
    "  * [1.5 Putting the Data to the Side](#pts)\n"
   ]
  },
  {
   "cell_type": "markdown",
   "metadata": {},
   "source": [
    "# **1.1 Contents**<a id='wrangle_contents'></a>"
   ]
  },
  {
   "cell_type": "markdown",
   "metadata": {},
   "source": [
    "This is where you will summarize your intent. Mention you used `twint`"
   ]
  },
  {
   "cell_type": "markdown",
   "metadata": {},
   "source": [
    "# **1.2 Imports & Set Up**<a id='imports'></a>"
   ]
  },
  {
   "cell_type": "code",
   "execution_count": 1,
   "metadata": {},
   "outputs": [
    {
     "name": "stderr",
     "output_type": "stream",
     "text": [
      "[nltk_data] Downloading package stopwords to\n",
      "[nltk_data]     C:\\Users\\rands\\AppData\\Roaming\\nltk_data...\n",
      "[nltk_data]   Package stopwords is already up-to-date!\n"
     ]
    },
    {
     "name": "stdout",
     "output_type": "stream",
     "text": [
      "Python implementation: CPython\n",
      "Python version       : 3.8.5\n",
      "IPython version      : 7.19.0\n",
      "\n",
      "pandas: 1.2.4\n",
      "\n"
     ]
    }
   ],
   "source": [
    "# Main Imports\n",
    "import os\n",
    "import sys\n",
    "import numpy as np\n",
    "import statistics\n",
    "from scipy import stats\n",
    "import pandas as pd\n",
    "from pandas import DataFrame\n",
    "import seaborn as sns\n",
    "import matplotlib.pyplot as plt\n",
    "import matplotlib.colors as colors\n",
    "import matplotlib.dates as mdates\n",
    "import matplotlib.ticker as ticker\n",
    "from matplotlib.pyplot import figure\n",
    "%matplotlib inline\n",
    "import datetime\n",
    "import warnings\n",
    "warnings.filterwarnings(\"ignore\")\n",
    "%reload_ext watermark\n",
    "from translate import translator\n",
    "import googletrans\n",
    "from googletrans import Translator\n",
    "\n",
    "# NLP Imports\n",
    "import re\n",
    "import string\n",
    "import nltk\n",
    "import pickle\n",
    "import emoji\n",
    "from better_profanity import profanity\n",
    "from nltk import sent_tokenize, word_tokenize\n",
    "from nltk.stem.snowball import SnowballStemmer\n",
    "from nltk.stem import PorterStemmer\n",
    "ps = PorterStemmer()\n",
    "from nltk.stem.wordnet import WordNetLemmatizer\n",
    "\n",
    "from nltk.tokenize.casual import TweetTokenizer\n",
    "from nltk.corpus import stopwords\n",
    "from nltk.sentiment.vader import SentimentIntensityAnalyzer\n",
    "from gensim.corpora.dictionary import Dictionary\n",
    "from gensim.models.tfidfmodel import TfidfModel\n",
    "from sklearn.feature_extraction.text import TfidfVectorizer\n",
    "from sklearn.feature_extraction.text import CountVectorizer\n",
    "\n",
    "from collections import Counter\n",
    "import spacy\n",
    "nltk.download(\"stopwords\")\n",
    "stop = stopwords.words('english')\n",
    "stopwords = nltk.corpus.stopwords.words('english')\n",
    "ps= nltk.PorterStemmer()\n",
    "\n",
    "results = Counter()\n",
    "\n",
    "# from polyglot.text import Text\n",
    "\n",
    "# The below 2 may be required\n",
    "# import nltk\n",
    "# nltk.download('stopwords')\n",
    "# nltk.download('averaged_perceptron_tagger')\n",
    "# nltk.download('maxent_ne_chunker')\n",
    "# nltk.download('words')\n",
    "\n",
    "# Still importing twint\n",
    "import twint\n",
    "import nest_asyncio\n",
    "nest_asyncio.apply()\n",
    "\n",
    "%watermark -d -t -v -p pandas"
   ]
  },
  {
   "cell_type": "code",
   "execution_count": 3,
   "metadata": {},
   "outputs": [
    {
     "name": "stdout",
     "output_type": "stream",
     "text": [
      "C:\\Users\\rands\n"
     ]
    }
   ],
   "source": [
    "cd"
   ]
  },
  {
   "cell_type": "code",
   "execution_count": 4,
   "metadata": {},
   "outputs": [],
   "source": [
    "df = pd.read_excel('./_Capstone_Two_NLP/data/_twitter/tweets.xlsx')\n",
    "df = df.reset_index()\n",
    "df = df.drop(columns=['Unnamed: 0','index'])"
   ]
  },
  {
   "cell_type": "code",
   "execution_count": null,
   "metadata": {},
   "outputs": [],
   "source": []
  },
  {
   "cell_type": "markdown",
   "metadata": {},
   "source": [
    "# **1.3 Initial Scraping before Regex**<a id='int_scrape'></a>"
   ]
  },
  {
   "cell_type": "code",
   "execution_count": 5,
   "metadata": {
    "scrolled": true
   },
   "outputs": [
    {
     "data": {
      "text/html": [
       "<div>\n",
       "<style scoped>\n",
       "    .dataframe tbody tr th:only-of-type {\n",
       "        vertical-align: middle;\n",
       "    }\n",
       "\n",
       "    .dataframe tbody tr th {\n",
       "        vertical-align: top;\n",
       "    }\n",
       "\n",
       "    .dataframe thead th {\n",
       "        text-align: right;\n",
       "    }\n",
       "</style>\n",
       "<table border=\"1\" class=\"dataframe\">\n",
       "  <thead>\n",
       "    <tr style=\"text-align: right;\">\n",
       "      <th></th>\n",
       "      <th>hash</th>\n",
       "      <th>created_at</th>\n",
       "      <th>username</th>\n",
       "      <th>tweet</th>\n",
       "      <th>language</th>\n",
       "      <th>replies_count</th>\n",
       "      <th>retweets_count</th>\n",
       "      <th>likes_count</th>\n",
       "      <th>reply_to</th>\n",
       "      <th>hashtags</th>\n",
       "    </tr>\n",
       "  </thead>\n",
       "  <tbody>\n",
       "    <tr>\n",
       "      <th>0</th>\n",
       "      <td>#FightForHongKong</td>\n",
       "      <td>2020-08-28 10:23:06 Eastern Daylight Time</td>\n",
       "      <td>ginny81025554</td>\n",
       "      <td>@benedictrogers @NOW4humanity Thanks for speak...</td>\n",
       "      <td>en</td>\n",
       "      <td>0</td>\n",
       "      <td>1</td>\n",
       "      <td>2</td>\n",
       "      <td>[{'screen_name': 'benedictrogers', 'name': 'Be...</td>\n",
       "      <td>['fridaysforfreedom', 'fightforhongkong']</td>\n",
       "    </tr>\n",
       "    <tr>\n",
       "      <th>1</th>\n",
       "      <td>#FightForHongKong</td>\n",
       "      <td>2020-08-27 11:15:39 Eastern Daylight Time</td>\n",
       "      <td>dani_tasso</td>\n",
       "      <td>Razzismo e democrazia.   Sfaccettature del med...</td>\n",
       "      <td>it</td>\n",
       "      <td>1</td>\n",
       "      <td>0</td>\n",
       "      <td>2</td>\n",
       "      <td>[]</td>\n",
       "      <td>['blacklivesmatter', 'fightforhongkong', 'open...</td>\n",
       "    </tr>\n",
       "  </tbody>\n",
       "</table>\n",
       "</div>"
      ],
      "text/plain": [
       "                hash                                 created_at  \\\n",
       "0  #FightForHongKong  2020-08-28 10:23:06 Eastern Daylight Time   \n",
       "1  #FightForHongKong  2020-08-27 11:15:39 Eastern Daylight Time   \n",
       "\n",
       "        username                                              tweet language  \\\n",
       "0  ginny81025554  @benedictrogers @NOW4humanity Thanks for speak...       en   \n",
       "1     dani_tasso  Razzismo e democrazia.   Sfaccettature del med...       it   \n",
       "\n",
       "   replies_count  retweets_count  likes_count  \\\n",
       "0              0               1            2   \n",
       "1              1               0            2   \n",
       "\n",
       "                                            reply_to  \\\n",
       "0  [{'screen_name': 'benedictrogers', 'name': 'Be...   \n",
       "1                                                 []   \n",
       "\n",
       "                                            hashtags  \n",
       "0          ['fridaysforfreedom', 'fightforhongkong']  \n",
       "1  ['blacklivesmatter', 'fightforhongkong', 'open...  "
      ]
     },
     "execution_count": 5,
     "metadata": {},
     "output_type": "execute_result"
    }
   ],
   "source": [
    "df.head(2)"
   ]
  },
  {
   "cell_type": "code",
   "execution_count": 6,
   "metadata": {},
   "outputs": [
    {
     "data": {
      "text/plain": [
       "288416"
      ]
     },
     "execution_count": 6,
     "metadata": {},
     "output_type": "execute_result"
    }
   ],
   "source": [
    "len(df)"
   ]
  },
  {
   "cell_type": "code",
   "execution_count": 7,
   "metadata": {},
   "outputs": [
    {
     "data": {
      "text/plain": [
       "(288416, 10)"
      ]
     },
     "execution_count": 7,
     "metadata": {},
     "output_type": "execute_result"
    }
   ],
   "source": [
    "df.shape"
   ]
  },
  {
   "cell_type": "code",
   "execution_count": 8,
   "metadata": {},
   "outputs": [
    {
     "name": "stdout",
     "output_type": "stream",
     "text": [
      "<class 'pandas.core.frame.DataFrame'>\n",
      "RangeIndex: 288416 entries, 0 to 288415\n",
      "Data columns (total 10 columns):\n",
      " #   Column          Non-Null Count   Dtype \n",
      "---  ------          --------------   ----- \n",
      " 0   hash            288416 non-null  object\n",
      " 1   created_at      288416 non-null  object\n",
      " 2   username        288416 non-null  object\n",
      " 3   tweet           288416 non-null  object\n",
      " 4   language        288416 non-null  object\n",
      " 5   replies_count   288416 non-null  int64 \n",
      " 6   retweets_count  288416 non-null  int64 \n",
      " 7   likes_count     288416 non-null  int64 \n",
      " 8   reply_to        288416 non-null  object\n",
      " 9   hashtags        288416 non-null  object\n",
      "dtypes: int64(3), object(7)\n",
      "memory usage: 22.0+ MB\n"
     ]
    }
   ],
   "source": [
    "df.info()"
   ]
  },
  {
   "cell_type": "code",
   "execution_count": 9,
   "metadata": {},
   "outputs": [
    {
     "data": {
      "text/plain": [
       "False"
      ]
     },
     "execution_count": 9,
     "metadata": {},
     "output_type": "execute_result"
    }
   ],
   "source": [
    "#this is confirmed above but will double confirm\n",
    "df.isnull().values.any()"
   ]
  },
  {
   "cell_type": "markdown",
   "metadata": {},
   "source": [
    "**Data Defined**"
   ]
  },
  {
   "cell_type": "markdown",
   "metadata": {},
   "source": [
    "In this short section, we will highlight what the columns are referring too."
   ]
  },
  {
   "attachments": {
    "image-3.png": {
     "image/png": "[encoded data removed]"
    }
   },
   "cell_type": "markdown",
   "metadata": {},
   "source": [
    "![image-3.png](attachment:image-3.png)"
   ]
  },
  {
   "cell_type": "code",
   "execution_count": 10,
   "metadata": {},
   "outputs": [
    {
     "data": {
      "text/html": [
       "<div>\n",
       "<style scoped>\n",
       "    .dataframe tbody tr th:only-of-type {\n",
       "        vertical-align: middle;\n",
       "    }\n",
       "\n",
       "    .dataframe tbody tr th {\n",
       "        vertical-align: top;\n",
       "    }\n",
       "\n",
       "    .dataframe thead th {\n",
       "        text-align: right;\n",
       "    }\n",
       "</style>\n",
       "<table border=\"1\" class=\"dataframe\">\n",
       "  <thead>\n",
       "    <tr style=\"text-align: right;\">\n",
       "      <th></th>\n",
       "      <th>min</th>\n",
       "      <th>max</th>\n",
       "    </tr>\n",
       "  </thead>\n",
       "  <tbody>\n",
       "    <tr>\n",
       "      <th>hash</th>\n",
       "      <td>#FightForHongKong</td>\n",
       "      <td>#standwithhongkong</td>\n",
       "    </tr>\n",
       "    <tr>\n",
       "      <th>created_at</th>\n",
       "      <td>2020-05-31 20:01:47 Eastern Daylight Time</td>\n",
       "      <td>2020-08-29 19:59:41 Eastern Daylight Time</td>\n",
       "    </tr>\n",
       "    <tr>\n",
       "      <th>username</th>\n",
       "      <td>0007_rakeshrai</td>\n",
       "      <td>zzzzz78395655</td>\n",
       "    </tr>\n",
       "    <tr>\n",
       "      <th>tweet</th>\n",
       "      <td>https://t.co/00NUHE1cdc It would help, moving...</td>\n",
       "      <td>🪔1989 #TiananmenMassacre VIGIL🪔 #FightForFreed...</td>\n",
       "    </tr>\n",
       "    <tr>\n",
       "      <th>language</th>\n",
       "      <td>ar</td>\n",
       "      <td>zh</td>\n",
       "    </tr>\n",
       "    <tr>\n",
       "      <th>replies_count</th>\n",
       "      <td>0</td>\n",
       "      <td>3014</td>\n",
       "    </tr>\n",
       "    <tr>\n",
       "      <th>retweets_count</th>\n",
       "      <td>0</td>\n",
       "      <td>16023</td>\n",
       "    </tr>\n",
       "    <tr>\n",
       "      <th>likes_count</th>\n",
       "      <td>0</td>\n",
       "      <td>41413</td>\n",
       "    </tr>\n",
       "    <tr>\n",
       "      <th>reply_to</th>\n",
       "      <td>[]</td>\n",
       "      <td>[{'screen_name': 'zz_obey', 'name': 'MiMiMA.K'...</td>\n",
       "    </tr>\n",
       "    <tr>\n",
       "      <th>hashtags</th>\n",
       "      <td>['01july2020', 'internetvideo', 'hkpolicebruta...</td>\n",
       "      <td>[]</td>\n",
       "    </tr>\n",
       "  </tbody>\n",
       "</table>\n",
       "</div>"
      ],
      "text/plain": [
       "                                                              min  \\\n",
       "hash                                            #FightForHongKong   \n",
       "created_at              2020-05-31 20:01:47 Eastern Daylight Time   \n",
       "username                                           0007_rakeshrai   \n",
       "tweet            https://t.co/00NUHE1cdc It would help, moving...   \n",
       "language                                                       ar   \n",
       "replies_count                                                   0   \n",
       "retweets_count                                                  0   \n",
       "likes_count                                                     0   \n",
       "reply_to                                                       []   \n",
       "hashtags        ['01july2020', 'internetvideo', 'hkpolicebruta...   \n",
       "\n",
       "                                                              max  \n",
       "hash                                           #standwithhongkong  \n",
       "created_at              2020-08-29 19:59:41 Eastern Daylight Time  \n",
       "username                                            zzzzz78395655  \n",
       "tweet           🪔1989 #TiananmenMassacre VIGIL🪔 #FightForFreed...  \n",
       "language                                                       zh  \n",
       "replies_count                                                3014  \n",
       "retweets_count                                              16023  \n",
       "likes_count                                                 41413  \n",
       "reply_to        [{'screen_name': 'zz_obey', 'name': 'MiMiMA.K'...  \n",
       "hashtags                                                       []  "
      ]
     },
     "execution_count": 10,
     "metadata": {},
     "output_type": "execute_result"
    }
   ],
   "source": [
    "#Range of values per column\n",
    "df.agg([min,max]).T"
   ]
  },
  {
   "cell_type": "code",
   "execution_count": 11,
   "metadata": {},
   "outputs": [
    {
     "data": {
      "text/plain": [
       "hash              0\n",
       "created_at        0\n",
       "username          0\n",
       "tweet             0\n",
       "language          0\n",
       "replies_count     0\n",
       "retweets_count    0\n",
       "likes_count       0\n",
       "reply_to          0\n",
       "hashtags          0\n",
       "dtype: int64"
      ]
     },
     "execution_count": 11,
     "metadata": {},
     "output_type": "execute_result"
    }
   ],
   "source": [
    "#Checking for nulls\n",
    "df.isnull().sum()"
   ]
  },
  {
   "cell_type": "code",
   "execution_count": 12,
   "metadata": {},
   "outputs": [
    {
     "data": {
      "text/plain": [
       "hash              object\n",
       "created_at        object\n",
       "username          object\n",
       "tweet             object\n",
       "language          object\n",
       "replies_count      int64\n",
       "retweets_count     int64\n",
       "likes_count        int64\n",
       "reply_to          object\n",
       "hashtags          object\n",
       "dtype: object"
      ]
     },
     "execution_count": 12,
     "metadata": {},
     "output_type": "execute_result"
    }
   ],
   "source": [
    "#Checking the datatypes\n",
    "df.dtypes"
   ]
  },
  {
   "cell_type": "markdown",
   "metadata": {},
   "source": [
    "The `created_at` column is an object; I will convert it to `datetime`."
   ]
  },
  {
   "cell_type": "code",
   "execution_count": 13,
   "metadata": {},
   "outputs": [],
   "source": [
    "new_date = df['created_at']\n",
    "new_date = new_date.str.split(expand=True)\n",
    "new_date = new_date[0]\n",
    "new_date = pd.to_datetime(new_date)"
   ]
  },
  {
   "cell_type": "code",
   "execution_count": 14,
   "metadata": {},
   "outputs": [
    {
     "data": {
      "text/html": [
       "<div>\n",
       "<style scoped>\n",
       "    .dataframe tbody tr th:only-of-type {\n",
       "        vertical-align: middle;\n",
       "    }\n",
       "\n",
       "    .dataframe tbody tr th {\n",
       "        vertical-align: top;\n",
       "    }\n",
       "\n",
       "    .dataframe thead th {\n",
       "        text-align: right;\n",
       "    }\n",
       "</style>\n",
       "<table border=\"1\" class=\"dataframe\">\n",
       "  <thead>\n",
       "    <tr style=\"text-align: right;\">\n",
       "      <th></th>\n",
       "      <th>hash</th>\n",
       "      <th>created_at</th>\n",
       "      <th>username</th>\n",
       "      <th>tweet</th>\n",
       "      <th>language</th>\n",
       "      <th>replies_count</th>\n",
       "      <th>retweets_count</th>\n",
       "      <th>likes_count</th>\n",
       "      <th>reply_to</th>\n",
       "      <th>hashtags</th>\n",
       "    </tr>\n",
       "  </thead>\n",
       "  <tbody>\n",
       "    <tr>\n",
       "      <th>0</th>\n",
       "      <td>#FightForHongKong</td>\n",
       "      <td>2020-08-28</td>\n",
       "      <td>ginny81025554</td>\n",
       "      <td>@benedictrogers @NOW4humanity Thanks for speak...</td>\n",
       "      <td>en</td>\n",
       "      <td>0</td>\n",
       "      <td>1</td>\n",
       "      <td>2</td>\n",
       "      <td>[{'screen_name': 'benedictrogers', 'name': 'Be...</td>\n",
       "      <td>['fridaysforfreedom', 'fightforhongkong']</td>\n",
       "    </tr>\n",
       "    <tr>\n",
       "      <th>1</th>\n",
       "      <td>#FightForHongKong</td>\n",
       "      <td>2020-08-27</td>\n",
       "      <td>dani_tasso</td>\n",
       "      <td>Razzismo e democrazia.   Sfaccettature del med...</td>\n",
       "      <td>it</td>\n",
       "      <td>1</td>\n",
       "      <td>0</td>\n",
       "      <td>2</td>\n",
       "      <td>[]</td>\n",
       "      <td>['blacklivesmatter', 'fightforhongkong', 'open...</td>\n",
       "    </tr>\n",
       "  </tbody>\n",
       "</table>\n",
       "</div>"
      ],
      "text/plain": [
       "                hash created_at       username  \\\n",
       "0  #FightForHongKong 2020-08-28  ginny81025554   \n",
       "1  #FightForHongKong 2020-08-27     dani_tasso   \n",
       "\n",
       "                                               tweet language  replies_count  \\\n",
       "0  @benedictrogers @NOW4humanity Thanks for speak...       en              0   \n",
       "1  Razzismo e democrazia.   Sfaccettature del med...       it              1   \n",
       "\n",
       "   retweets_count  likes_count  \\\n",
       "0               1            2   \n",
       "1               0            2   \n",
       "\n",
       "                                            reply_to  \\\n",
       "0  [{'screen_name': 'benedictrogers', 'name': 'Be...   \n",
       "1                                                 []   \n",
       "\n",
       "                                            hashtags  \n",
       "0          ['fridaysforfreedom', 'fightforhongkong']  \n",
       "1  ['blacklivesmatter', 'fightforhongkong', 'open...  "
      ]
     },
     "execution_count": 14,
     "metadata": {},
     "output_type": "execute_result"
    }
   ],
   "source": [
    "df['created_at'] = new_date\n",
    "df.head(2)"
   ]
  },
  {
   "cell_type": "code",
   "execution_count": 15,
   "metadata": {},
   "outputs": [],
   "source": [
    "# df.dtypes"
   ]
  },
  {
   "cell_type": "code",
   "execution_count": 16,
   "metadata": {},
   "outputs": [
    {
     "data": {
      "text/plain": [
       "hash                  12\n",
       "created_at            91\n",
       "username           45111\n",
       "tweet             221205\n",
       "language              51\n",
       "replies_count        217\n",
       "retweets_count       881\n",
       "likes_count         1110\n",
       "reply_to           27555\n",
       "hashtags           77715\n",
       "dtype: int64"
      ]
     },
     "execution_count": 16,
     "metadata": {},
     "output_type": "execute_result"
    }
   ],
   "source": [
    "#count of unique values for every column, regardless of data type\n",
    "df.nunique()"
   ]
  },
  {
   "cell_type": "markdown",
   "metadata": {},
   "source": [
    "The `hash` number looks correct as that's how many hashtags were pulled."
   ]
  },
  {
   "cell_type": "code",
   "execution_count": 17,
   "metadata": {},
   "outputs": [
    {
     "data": {
      "text/plain": [
       "array(['#FightForHongKong', '#HongKongProtest', '#PrayForHongkong',\n",
       "       '#WeAreNotAlone', '#nochinaextradition', '#standwithhongkong',\n",
       "       '#hkprotests', '#freehongkong', '#hkpolicebrutality',\n",
       "       '#hkpolicestate', '#HKpoliceterrorist', '#hkpoliceterrorism'],\n",
       "      dtype=object)"
      ]
     },
     "execution_count": 17,
     "metadata": {},
     "output_type": "execute_result"
    }
   ],
   "source": [
    "df['hash'].unique()"
   ]
  },
  {
   "cell_type": "markdown",
   "metadata": {},
   "source": [
    "The `created_at` number also looks correct as **3 months after the implimentation of the law was the range in which the tweets were pulled** ."
   ]
  },
  {
   "cell_type": "code",
   "execution_count": 18,
   "metadata": {},
   "outputs": [
    {
     "name": "stdout",
     "output_type": "stream",
     "text": [
      "   2020-05-31 00:00:00  | Beginning \n",
      "   2020-08-29 00:00:00  | End\n"
     ]
    }
   ],
   "source": [
    "print('  ',df['created_at'].min(), ' | Beginning', '\\n',\n",
    "     ' ',df['created_at'].max(), ' | End')"
   ]
  },
  {
   "cell_type": "markdown",
   "metadata": {},
   "source": [
    "The `username` number also makes sense."
   ]
  },
  {
   "cell_type": "code",
   "execution_count": 19,
   "metadata": {},
   "outputs": [
    {
     "name": "stdout",
     "output_type": "stream",
     "text": [
      "A single user on average tweeted 6.0 times in the course of 3 months.\n"
     ]
    }
   ],
   "source": [
    "print('A single user on average tweeted',round(len(df) / len(df['username'].unique()),0), 'times in the course of 3 months.')"
   ]
  },
  {
   "cell_type": "markdown",
   "metadata": {},
   "source": [
    "Most of the others aren't important but I believe **the `tweet` number should align with the length of the data frame to ensure there are no duplicates.**"
   ]
  },
  {
   "cell_type": "code",
   "execution_count": 20,
   "metadata": {},
   "outputs": [
    {
     "name": "stdout",
     "output_type": "stream",
     "text": [
      "There may be 67,211 duplicates to look into.\n"
     ]
    }
   ],
   "source": [
    "print('There may be', \"{:,}\".format(len(df) - len(df['tweet'].unique())), 'duplicates to look into.')"
   ]
  },
  {
   "cell_type": "markdown",
   "metadata": {},
   "source": [
    "We will take a **look at where duplicates** may be found with the **`tweet` column**. Our initial focus is on **when a \"tweeter\"** (also known a person) **used multiple hashtags**.\n",
    "\n",
    "A seperate data frame will be used to ensure the original is not compromised."
   ]
  },
  {
   "cell_type": "code",
   "execution_count": 21,
   "metadata": {},
   "outputs": [
    {
     "data": {
      "text/plain": [
       "288416"
      ]
     },
     "execution_count": 21,
     "metadata": {},
     "output_type": "execute_result"
    }
   ],
   "source": [
    "df_tweets = df.copy()\n",
    "df_tweets = pd.DataFrame(df_tweets)\n",
    "len(df_tweets)"
   ]
  },
  {
   "cell_type": "code",
   "execution_count": 22,
   "metadata": {},
   "outputs": [
    {
     "data": {
      "text/plain": [
       "288416"
      ]
     },
     "execution_count": 22,
     "metadata": {},
     "output_type": "execute_result"
    }
   ],
   "source": [
    "duplicated_tf = df_tweets.duplicated(subset=['tweet'])\n",
    "duplicated_tf = pd.DataFrame(duplicated_tf)\n",
    "len(duplicated_tf)"
   ]
  },
  {
   "cell_type": "code",
   "execution_count": 23,
   "metadata": {},
   "outputs": [
    {
     "data": {
      "text/html": [
       "<div>\n",
       "<style scoped>\n",
       "    .dataframe tbody tr th:only-of-type {\n",
       "        vertical-align: middle;\n",
       "    }\n",
       "\n",
       "    .dataframe tbody tr th {\n",
       "        vertical-align: top;\n",
       "    }\n",
       "\n",
       "    .dataframe thead th {\n",
       "        text-align: right;\n",
       "    }\n",
       "</style>\n",
       "<table border=\"1\" class=\"dataframe\">\n",
       "  <thead>\n",
       "    <tr style=\"text-align: right;\">\n",
       "      <th></th>\n",
       "      <th>Duplicated</th>\n",
       "    </tr>\n",
       "  </thead>\n",
       "  <tbody>\n",
       "    <tr>\n",
       "      <th>288413</th>\n",
       "      <td>False</td>\n",
       "    </tr>\n",
       "    <tr>\n",
       "      <th>288414</th>\n",
       "      <td>False</td>\n",
       "    </tr>\n",
       "    <tr>\n",
       "      <th>288415</th>\n",
       "      <td>True</td>\n",
       "    </tr>\n",
       "  </tbody>\n",
       "</table>\n",
       "</div>"
      ],
      "text/plain": [
       "        Duplicated\n",
       "288413       False\n",
       "288414       False\n",
       "288415        True"
      ]
     },
     "execution_count": 23,
     "metadata": {},
     "output_type": "execute_result"
    }
   ],
   "source": [
    "duplicated_tf.columns = ['Duplicated']\n",
    "duplicated_tf.tail(3)"
   ]
  },
  {
   "cell_type": "code",
   "execution_count": 24,
   "metadata": {},
   "outputs": [
    {
     "data": {
      "text/html": [
       "<div>\n",
       "<style scoped>\n",
       "    .dataframe tbody tr th:only-of-type {\n",
       "        vertical-align: middle;\n",
       "    }\n",
       "\n",
       "    .dataframe tbody tr th {\n",
       "        vertical-align: top;\n",
       "    }\n",
       "\n",
       "    .dataframe thead th {\n",
       "        text-align: right;\n",
       "    }\n",
       "</style>\n",
       "<table border=\"1\" class=\"dataframe\">\n",
       "  <thead>\n",
       "    <tr style=\"text-align: right;\">\n",
       "      <th></th>\n",
       "      <th>Duplicated</th>\n",
       "      <th>Duplicated_TorF</th>\n",
       "    </tr>\n",
       "  </thead>\n",
       "  <tbody>\n",
       "    <tr>\n",
       "      <th>288413</th>\n",
       "      <td>False</td>\n",
       "      <td>0</td>\n",
       "    </tr>\n",
       "    <tr>\n",
       "      <th>288414</th>\n",
       "      <td>False</td>\n",
       "      <td>0</td>\n",
       "    </tr>\n",
       "    <tr>\n",
       "      <th>288415</th>\n",
       "      <td>True</td>\n",
       "      <td>1</td>\n",
       "    </tr>\n",
       "  </tbody>\n",
       "</table>\n",
       "</div>"
      ],
      "text/plain": [
       "        Duplicated  Duplicated_TorF\n",
       "288413       False                0\n",
       "288414       False                0\n",
       "288415        True                1"
      ]
     },
     "execution_count": 24,
     "metadata": {},
     "output_type": "execute_result"
    }
   ],
   "source": [
    "num = {True:1,False:0}\n",
    "duplicated_tf['Duplicated_TorF'] = duplicated_tf['Duplicated'].map(num)\n",
    "duplicated_tf.tail(3)"
   ]
  },
  {
   "cell_type": "code",
   "execution_count": 25,
   "metadata": {},
   "outputs": [],
   "source": [
    "duplicated_tf = duplicated_tf.drop(columns=['Duplicated'])"
   ]
  },
  {
   "cell_type": "code",
   "execution_count": 26,
   "metadata": {},
   "outputs": [],
   "source": [
    "df_tweets_w_dup = pd.concat([df_tweets,duplicated_tf],\n",
    "                    axis = 1, ignore_index=False)\n",
    "df_tweets_w_dup = df_tweets_w_dup.reset_index(drop=True)"
   ]
  },
  {
   "cell_type": "code",
   "execution_count": 27,
   "metadata": {},
   "outputs": [
    {
     "data": {
      "text/html": [
       "<div>\n",
       "<style scoped>\n",
       "    .dataframe tbody tr th:only-of-type {\n",
       "        vertical-align: middle;\n",
       "    }\n",
       "\n",
       "    .dataframe tbody tr th {\n",
       "        vertical-align: top;\n",
       "    }\n",
       "\n",
       "    .dataframe thead th {\n",
       "        text-align: right;\n",
       "    }\n",
       "</style>\n",
       "<table border=\"1\" class=\"dataframe\">\n",
       "  <thead>\n",
       "    <tr style=\"text-align: right;\">\n",
       "      <th></th>\n",
       "      <th>hash</th>\n",
       "      <th>created_at</th>\n",
       "      <th>username</th>\n",
       "      <th>tweet</th>\n",
       "      <th>language</th>\n",
       "      <th>replies_count</th>\n",
       "      <th>retweets_count</th>\n",
       "      <th>likes_count</th>\n",
       "      <th>reply_to</th>\n",
       "      <th>hashtags</th>\n",
       "      <th>Duplicated_TorF</th>\n",
       "    </tr>\n",
       "  </thead>\n",
       "  <tbody>\n",
       "    <tr>\n",
       "      <th>288414</th>\n",
       "      <td>#hkpoliceterrorism</td>\n",
       "      <td>2020-05-31</td>\n",
       "      <td>bluedreamsplan2</td>\n",
       "      <td>@OzraeliAvi China try hard to link up the #Min...</td>\n",
       "      <td>en</td>\n",
       "      <td>0</td>\n",
       "      <td>0</td>\n",
       "      <td>1</td>\n",
       "      <td>[{'screen_name': 'OzraeliAvi', 'name': 'Avi Ye...</td>\n",
       "      <td>['minnesotariots', 'hongkongprotests', 'minnia...</td>\n",
       "      <td>0</td>\n",
       "    </tr>\n",
       "    <tr>\n",
       "      <th>288415</th>\n",
       "      <td>#hkpoliceterrorism</td>\n",
       "      <td>2020-05-31</td>\n",
       "      <td>jack83352493</td>\n",
       "      <td>#HongKongProtest #StandwithHK #HKPoliceTerrori...</td>\n",
       "      <td>und</td>\n",
       "      <td>0</td>\n",
       "      <td>0</td>\n",
       "      <td>0</td>\n",
       "      <td>[]</td>\n",
       "      <td>['hongkongprotest', 'standwithhk', 'hkpolicete...</td>\n",
       "      <td>1</td>\n",
       "    </tr>\n",
       "  </tbody>\n",
       "</table>\n",
       "</div>"
      ],
      "text/plain": [
       "                      hash created_at         username  \\\n",
       "288414  #hkpoliceterrorism 2020-05-31  bluedreamsplan2   \n",
       "288415  #hkpoliceterrorism 2020-05-31     jack83352493   \n",
       "\n",
       "                                                    tweet language  \\\n",
       "288414  @OzraeliAvi China try hard to link up the #Min...       en   \n",
       "288415  #HongKongProtest #StandwithHK #HKPoliceTerrori...      und   \n",
       "\n",
       "        replies_count  retweets_count  likes_count  \\\n",
       "288414              0               0            1   \n",
       "288415              0               0            0   \n",
       "\n",
       "                                                 reply_to  \\\n",
       "288414  [{'screen_name': 'OzraeliAvi', 'name': 'Avi Ye...   \n",
       "288415                                                 []   \n",
       "\n",
       "                                                 hashtags  Duplicated_TorF  \n",
       "288414  ['minnesotariots', 'hongkongprotests', 'minnia...                0  \n",
       "288415  ['hongkongprotest', 'standwithhk', 'hkpolicete...                1  "
      ]
     },
     "execution_count": 27,
     "metadata": {},
     "output_type": "execute_result"
    }
   ],
   "source": [
    "df_tweets_w_dup.tail(2)"
   ]
  },
  {
   "cell_type": "code",
   "execution_count": 28,
   "metadata": {
    "scrolled": true
   },
   "outputs": [
    {
     "name": "stdout",
     "output_type": "stream",
     "text": [
      " Ensuring we have the same # of tweets after classification. \n",
      " 0 | This should be a Zero change \n",
      " 2 | The Duplicated Column should have 2 unique values 0,1\n"
     ]
    }
   ],
   "source": [
    "print(' Ensuring we have the same # of tweets after classification.','\\n', \n",
    "      round((( ( len(df_tweets_w_dup) / len(df) ) - 1 ) * 100)), '| This should be a Zero change','\\n',\n",
    "     df_tweets_w_dup['Duplicated_TorF'].nunique(), '| The Duplicated Column should have 2 unique values 0,1')"
   ]
  },
  {
   "cell_type": "markdown",
   "metadata": {},
   "source": [
    "Ok. Let's take a quick look at some of these duplicates."
   ]
  },
  {
   "cell_type": "code",
   "execution_count": 29,
   "metadata": {},
   "outputs": [
    {
     "data": {
      "text/plain": [
       "288416"
      ]
     },
     "execution_count": 29,
     "metadata": {},
     "output_type": "execute_result"
    }
   ],
   "source": [
    "len(df_tweets_w_dup)"
   ]
  },
  {
   "cell_type": "code",
   "execution_count": 30,
   "metadata": {},
   "outputs": [
    {
     "data": {
      "text/html": [
       "<div>\n",
       "<style scoped>\n",
       "    .dataframe tbody tr th:only-of-type {\n",
       "        vertical-align: middle;\n",
       "    }\n",
       "\n",
       "    .dataframe tbody tr th {\n",
       "        vertical-align: top;\n",
       "    }\n",
       "\n",
       "    .dataframe thead th {\n",
       "        text-align: right;\n",
       "    }\n",
       "</style>\n",
       "<table border=\"1\" class=\"dataframe\">\n",
       "  <thead>\n",
       "    <tr style=\"text-align: right;\">\n",
       "      <th></th>\n",
       "      <th>hash</th>\n",
       "      <th>created_at</th>\n",
       "      <th>username</th>\n",
       "      <th>tweet</th>\n",
       "      <th>language</th>\n",
       "      <th>replies_count</th>\n",
       "      <th>retweets_count</th>\n",
       "      <th>likes_count</th>\n",
       "      <th>reply_to</th>\n",
       "      <th>hashtags</th>\n",
       "      <th>Duplicated_TorF</th>\n",
       "    </tr>\n",
       "  </thead>\n",
       "  <tbody>\n",
       "    <tr>\n",
       "      <th>240604</th>\n",
       "      <td>#freehongkong</td>\n",
       "      <td>2020-06-28</td>\n",
       "      <td>lilacrhk</td>\n",
       "      <td>https://t.co/01A6CwhNfM  #standardwithHK #Sta...</td>\n",
       "      <td>und</td>\n",
       "      <td>0</td>\n",
       "      <td>0</td>\n",
       "      <td>0</td>\n",
       "      <td>[]</td>\n",
       "      <td>['standardwithhk', 'standwithhongkong', 'freeh...</td>\n",
       "      <td>1</td>\n",
       "    </tr>\n",
       "    <tr>\n",
       "      <th>176495</th>\n",
       "      <td>#hkprotests</td>\n",
       "      <td>2020-06-20</td>\n",
       "      <td>jjjlll</td>\n",
       "      <td>https://t.co/1EqQV5LDL5 #HongKong #HKProtests...</td>\n",
       "      <td>und</td>\n",
       "      <td>0</td>\n",
       "      <td>0</td>\n",
       "      <td>2</td>\n",
       "      <td>[]</td>\n",
       "      <td>['hongkong', 'hkprotests', 'fightforfreedom', ...</td>\n",
       "      <td>1</td>\n",
       "    </tr>\n",
       "    <tr>\n",
       "      <th>261737</th>\n",
       "      <td>#hkpolicebrutality</td>\n",
       "      <td>2020-06-13</td>\n",
       "      <td>1238cheng</td>\n",
       "      <td>https://t.co/1kz5fmNGWx  #StandWithHongKong #...</td>\n",
       "      <td>en</td>\n",
       "      <td>0</td>\n",
       "      <td>0</td>\n",
       "      <td>0</td>\n",
       "      <td>[]</td>\n",
       "      <td>['standwithhongkong', 'hkpolicebrutality']</td>\n",
       "      <td>1</td>\n",
       "    </tr>\n",
       "    <tr>\n",
       "      <th>174843</th>\n",
       "      <td>#hkprotests</td>\n",
       "      <td>2020-08-29</td>\n",
       "      <td>ksin1984</td>\n",
       "      <td>https://t.co/2FxZRKLRuf  #save12hkyouth #Stan...</td>\n",
       "      <td>und</td>\n",
       "      <td>0</td>\n",
       "      <td>1</td>\n",
       "      <td>3</td>\n",
       "      <td>[]</td>\n",
       "      <td>['save12hkyouth', 'standwithhongkong', 'hkprot...</td>\n",
       "      <td>1</td>\n",
       "    </tr>\n",
       "    <tr>\n",
       "      <th>211971</th>\n",
       "      <td>#freehongkong</td>\n",
       "      <td>2020-07-17</td>\n",
       "      <td>lilacrhk</td>\n",
       "      <td>https://t.co/2Gao97jVzl  #StandWithHongKong #...</td>\n",
       "      <td>und</td>\n",
       "      <td>0</td>\n",
       "      <td>0</td>\n",
       "      <td>0</td>\n",
       "      <td>[]</td>\n",
       "      <td>['standwithhongkong', 'standwithhk', 'freehong...</td>\n",
       "      <td>1</td>\n",
       "    </tr>\n",
       "    <tr>\n",
       "      <th>...</th>\n",
       "      <td>...</td>\n",
       "      <td>...</td>\n",
       "      <td>...</td>\n",
       "      <td>...</td>\n",
       "      <td>...</td>\n",
       "      <td>...</td>\n",
       "      <td>...</td>\n",
       "      <td>...</td>\n",
       "      <td>...</td>\n",
       "      <td>...</td>\n",
       "      <td>...</td>\n",
       "    </tr>\n",
       "    <tr>\n",
       "      <th>216138</th>\n",
       "      <td>#freehongkong</td>\n",
       "      <td>2020-07-13</td>\n",
       "      <td>oneeyeh</td>\n",
       "      <td>🤬🤬🤬🤬😭😭😭 #FreeHongKong  #StandWithHongKong   ht...</td>\n",
       "      <td>und</td>\n",
       "      <td>0</td>\n",
       "      <td>0</td>\n",
       "      <td>0</td>\n",
       "      <td>[]</td>\n",
       "      <td>['freehongkong', 'standwithhongkong']</td>\n",
       "      <td>1</td>\n",
       "    </tr>\n",
       "    <tr>\n",
       "      <th>280873</th>\n",
       "      <td>#hkpolicestate</td>\n",
       "      <td>2020-06-12</td>\n",
       "      <td>can_johnhk</td>\n",
       "      <td>🤯That’s just insane. He obviously thinks #Blac...</td>\n",
       "      <td>en</td>\n",
       "      <td>0</td>\n",
       "      <td>0</td>\n",
       "      <td>0</td>\n",
       "      <td>[]</td>\n",
       "      <td>['blacklivesmatter', 'hkpolicebrutality', 'hkp...</td>\n",
       "      <td>1</td>\n",
       "    </tr>\n",
       "    <tr>\n",
       "      <th>236528</th>\n",
       "      <td>#freehongkong</td>\n",
       "      <td>2020-07-01</td>\n",
       "      <td>nick86544272</td>\n",
       "      <td>🥂 #FreeHongKong  #StandWithHongKong  https://t...</td>\n",
       "      <td>und</td>\n",
       "      <td>0</td>\n",
       "      <td>0</td>\n",
       "      <td>0</td>\n",
       "      <td>[]</td>\n",
       "      <td>['freehongkong', 'standwithhongkong']</td>\n",
       "      <td>1</td>\n",
       "    </tr>\n",
       "    <tr>\n",
       "      <th>198442</th>\n",
       "      <td>#freehongkong</td>\n",
       "      <td>2020-08-07</td>\n",
       "      <td>kvckelvin123</td>\n",
       "      <td>🥲 #Policebruatlity #StandWithHongKong #FreeHon...</td>\n",
       "      <td>und</td>\n",
       "      <td>0</td>\n",
       "      <td>0</td>\n",
       "      <td>0</td>\n",
       "      <td>[]</td>\n",
       "      <td>['policebruatlity', 'standwithhongkong', 'free...</td>\n",
       "      <td>1</td>\n",
       "    </tr>\n",
       "    <tr>\n",
       "      <th>220613</th>\n",
       "      <td>#freehongkong</td>\n",
       "      <td>2020-07-11</td>\n",
       "      <td>tynokty</td>\n",
       "      <td>🥺 #StandwithHongKong #FreeHongKong</td>\n",
       "      <td>und</td>\n",
       "      <td>0</td>\n",
       "      <td>0</td>\n",
       "      <td>0</td>\n",
       "      <td>[]</td>\n",
       "      <td>['standwithhongkong', 'freehongkong']</td>\n",
       "      <td>1</td>\n",
       "    </tr>\n",
       "  </tbody>\n",
       "</table>\n",
       "<p>67211 rows × 11 columns</p>\n",
       "</div>"
      ],
      "text/plain": [
       "                      hash created_at      username  \\\n",
       "240604       #freehongkong 2020-06-28      lilacrhk   \n",
       "176495         #hkprotests 2020-06-20        jjjlll   \n",
       "261737  #hkpolicebrutality 2020-06-13     1238cheng   \n",
       "174843         #hkprotests 2020-08-29      ksin1984   \n",
       "211971       #freehongkong 2020-07-17      lilacrhk   \n",
       "...                    ...        ...           ...   \n",
       "216138       #freehongkong 2020-07-13       oneeyeh   \n",
       "280873      #hkpolicestate 2020-06-12    can_johnhk   \n",
       "236528       #freehongkong 2020-07-01  nick86544272   \n",
       "198442       #freehongkong 2020-08-07  kvckelvin123   \n",
       "220613       #freehongkong 2020-07-11       tynokty   \n",
       "\n",
       "                                                    tweet language  \\\n",
       "240604   https://t.co/01A6CwhNfM  #standardwithHK #Sta...      und   \n",
       "176495   https://t.co/1EqQV5LDL5 #HongKong #HKProtests...      und   \n",
       "261737   https://t.co/1kz5fmNGWx  #StandWithHongKong #...       en   \n",
       "174843   https://t.co/2FxZRKLRuf  #save12hkyouth #Stan...      und   \n",
       "211971   https://t.co/2Gao97jVzl  #StandWithHongKong #...      und   \n",
       "...                                                   ...      ...   \n",
       "216138  🤬🤬🤬🤬😭😭😭 #FreeHongKong  #StandWithHongKong   ht...      und   \n",
       "280873  🤯That’s just insane. He obviously thinks #Blac...       en   \n",
       "236528  🥂 #FreeHongKong  #StandWithHongKong  https://t...      und   \n",
       "198442  🥲 #Policebruatlity #StandWithHongKong #FreeHon...      und   \n",
       "220613                 🥺 #StandwithHongKong #FreeHongKong      und   \n",
       "\n",
       "        replies_count  retweets_count  likes_count reply_to  \\\n",
       "240604              0               0            0       []   \n",
       "176495              0               0            2       []   \n",
       "261737              0               0            0       []   \n",
       "174843              0               1            3       []   \n",
       "211971              0               0            0       []   \n",
       "...               ...             ...          ...      ...   \n",
       "216138              0               0            0       []   \n",
       "280873              0               0            0       []   \n",
       "236528              0               0            0       []   \n",
       "198442              0               0            0       []   \n",
       "220613              0               0            0       []   \n",
       "\n",
       "                                                 hashtags  Duplicated_TorF  \n",
       "240604  ['standardwithhk', 'standwithhongkong', 'freeh...                1  \n",
       "176495  ['hongkong', 'hkprotests', 'fightforfreedom', ...                1  \n",
       "261737         ['standwithhongkong', 'hkpolicebrutality']                1  \n",
       "174843  ['save12hkyouth', 'standwithhongkong', 'hkprot...                1  \n",
       "211971  ['standwithhongkong', 'standwithhk', 'freehong...                1  \n",
       "...                                                   ...              ...  \n",
       "216138              ['freehongkong', 'standwithhongkong']                1  \n",
       "280873  ['blacklivesmatter', 'hkpolicebrutality', 'hkp...                1  \n",
       "236528              ['freehongkong', 'standwithhongkong']                1  \n",
       "198442  ['policebruatlity', 'standwithhongkong', 'free...                1  \n",
       "220613              ['standwithhongkong', 'freehongkong']                1  \n",
       "\n",
       "[67211 rows x 11 columns]"
      ]
     },
     "execution_count": 30,
     "metadata": {},
     "output_type": "execute_result"
    }
   ],
   "source": [
    "df_tweets_w_dup.loc[df_tweets_w_dup['Duplicated_TorF'] == 1].sort_values(by=['tweet'])"
   ]
  },
  {
   "cell_type": "code",
   "execution_count": 31,
   "metadata": {},
   "outputs": [
    {
     "data": {
      "text/plain": [
       "288416"
      ]
     },
     "execution_count": 31,
     "metadata": {},
     "output_type": "execute_result"
    }
   ],
   "source": [
    "len(df_tweets_w_dup)"
   ]
  },
  {
   "cell_type": "markdown",
   "metadata": {},
   "source": [
    "I would now like to **investigate the languages herein.**"
   ]
  },
  {
   "cell_type": "code",
   "execution_count": 32,
   "metadata": {},
   "outputs": [
    {
     "data": {
      "text/plain": [
       "<AxesSubplot:xlabel='Language Abbrevation', ylabel='# of observed Tweets'>"
      ]
     },
     "execution_count": 32,
     "metadata": {},
     "output_type": "execute_result"
    },
    {
     "data": {
      "image/png": "[encoded data removed]",
      "text/plain": [
       "<Figure size 1080x864 with 1 Axes>"
      ]
     },
     "metadata": {},
     "output_type": "display_data"
    }
   ],
   "source": [
    "sns.set_style('darkgrid')\n",
    "lang = pd.value_counts(df_tweets_w_dup['language'].values, sort=True)\n",
    "lang = lang.sort_values(ascending=False)\n",
    "plt.subplots(figsize=(15, 12))\n",
    "plt.ylabel('# of observed Tweets')\n",
    "plt.xlabel('Language Abbrevation')\n",
    "lang.plot.bar(color='black')"
   ]
  },
  {
   "cell_type": "code",
   "execution_count": 33,
   "metadata": {},
   "outputs": [
    {
     "data": {
      "text/plain": [
       "en     194087\n",
       "und     69375\n",
       "ja       8715\n",
       "zh       7327\n",
       "tl       1254\n",
       "hi       1207\n",
       "fr       1046\n",
       "es        908\n",
       "de        892\n",
       "in        507\n",
       "Name: language, dtype: int64"
      ]
     },
     "execution_count": 33,
     "metadata": {},
     "output_type": "execute_result"
    }
   ],
   "source": [
    "df_tweets_w_dup['language'].value_counts().head(10)"
   ]
  },
  {
   "cell_type": "code",
   "execution_count": 34,
   "metadata": {},
   "outputs": [
    {
     "data": {
      "text/plain": [
       "en     0.67\n",
       "und    0.24\n",
       "ja     0.03\n",
       "zh     0.03\n",
       "tl     0.00\n",
       "Name: language, dtype: float64"
      ]
     },
     "execution_count": 34,
     "metadata": {},
     "output_type": "execute_result"
    }
   ],
   "source": [
    "lang_count = df_tweets_w_dup['language']\n",
    "round(lang_count.value_counts(normalize=True),2).head()"
   ]
  },
  {
   "cell_type": "markdown",
   "metadata": {},
   "source": [
    "**`en` & `und` is contributing 91%. While `zh`'s (Mandarin Chinese) contribution is only 3%, Mandarin Chinese is important; I will unfortunately have to pass as 3% is unlikely to move the analysis outcome.**\n",
    "\n",
    "**`und` refers to unknown. I am unsure as to what implications removing would do. Let's see what is \"unknown\".**"
   ]
  },
  {
   "cell_type": "code",
   "execution_count": 35,
   "metadata": {},
   "outputs": [
    {
     "data": {
      "text/html": [
       "<div>\n",
       "<style scoped>\n",
       "    .dataframe tbody tr th:only-of-type {\n",
       "        vertical-align: middle;\n",
       "    }\n",
       "\n",
       "    .dataframe tbody tr th {\n",
       "        vertical-align: top;\n",
       "    }\n",
       "\n",
       "    .dataframe thead th {\n",
       "        text-align: right;\n",
       "    }\n",
       "</style>\n",
       "<table border=\"1\" class=\"dataframe\">\n",
       "  <thead>\n",
       "    <tr style=\"text-align: right;\">\n",
       "      <th></th>\n",
       "      <th>hash</th>\n",
       "      <th>created_at</th>\n",
       "      <th>username</th>\n",
       "      <th>tweet</th>\n",
       "      <th>language</th>\n",
       "      <th>replies_count</th>\n",
       "      <th>retweets_count</th>\n",
       "      <th>likes_count</th>\n",
       "      <th>reply_to</th>\n",
       "      <th>hashtags</th>\n",
       "    </tr>\n",
       "  </thead>\n",
       "  <tbody>\n",
       "    <tr>\n",
       "      <th>0</th>\n",
       "      <td>#FightForHongKong</td>\n",
       "      <td>2020-08-28</td>\n",
       "      <td>ginny81025554</td>\n",
       "      <td>@benedictrogers @NOW4humanity Thanks for speak...</td>\n",
       "      <td>en</td>\n",
       "      <td>0</td>\n",
       "      <td>1</td>\n",
       "      <td>2</td>\n",
       "      <td>[{'screen_name': 'benedictrogers', 'name': 'Be...</td>\n",
       "      <td>['fridaysforfreedom', 'fightforhongkong']</td>\n",
       "    </tr>\n",
       "    <tr>\n",
       "      <th>1</th>\n",
       "      <td>#FightForHongKong</td>\n",
       "      <td>2020-08-27</td>\n",
       "      <td>dani_tasso</td>\n",
       "      <td>Razzismo e democrazia.   Sfaccettature del med...</td>\n",
       "      <td>it</td>\n",
       "      <td>1</td>\n",
       "      <td>0</td>\n",
       "      <td>2</td>\n",
       "      <td>[]</td>\n",
       "      <td>['blacklivesmatter', 'fightforhongkong', 'open...</td>\n",
       "    </tr>\n",
       "    <tr>\n",
       "      <th>2</th>\n",
       "      <td>#FightForHongKong</td>\n",
       "      <td>2020-08-25</td>\n",
       "      <td>peterhjorth_ddp</td>\n",
       "      <td>How to stop China in Hong Kong. Read the new r...</td>\n",
       "      <td>en</td>\n",
       "      <td>0</td>\n",
       "      <td>0</td>\n",
       "      <td>0</td>\n",
       "      <td>[]</td>\n",
       "      <td>['dkpol', 'kina', 'hongkongprotest', 'fightfor...</td>\n",
       "    </tr>\n",
       "    <tr>\n",
       "      <th>3</th>\n",
       "      <td>#FightForHongKong</td>\n",
       "      <td>2020-08-24</td>\n",
       "      <td>peterhjorth_ddp</td>\n",
       "      <td>How to stop China in Hong Kong. Read the new r...</td>\n",
       "      <td>en</td>\n",
       "      <td>0</td>\n",
       "      <td>0</td>\n",
       "      <td>0</td>\n",
       "      <td>[]</td>\n",
       "      <td>['dkpol', 'kina', 'hongkongprotest', 'fightfor...</td>\n",
       "    </tr>\n",
       "    <tr>\n",
       "      <th>4</th>\n",
       "      <td>#FightForHongKong</td>\n",
       "      <td>2020-08-24</td>\n",
       "      <td>cipopolitik</td>\n",
       "      <td>War or communism?   https://t.co/V2kQTvR2wr  #...</td>\n",
       "      <td>en</td>\n",
       "      <td>0</td>\n",
       "      <td>0</td>\n",
       "      <td>1</td>\n",
       "      <td>[]</td>\n",
       "      <td>['hongkongprotest', 'fightforhongkong', 'prayf...</td>\n",
       "    </tr>\n",
       "    <tr>\n",
       "      <th>...</th>\n",
       "      <td>...</td>\n",
       "      <td>...</td>\n",
       "      <td>...</td>\n",
       "      <td>...</td>\n",
       "      <td>...</td>\n",
       "      <td>...</td>\n",
       "      <td>...</td>\n",
       "      <td>...</td>\n",
       "      <td>...</td>\n",
       "      <td>...</td>\n",
       "    </tr>\n",
       "    <tr>\n",
       "      <th>288411</th>\n",
       "      <td>#hkpoliceterrorism</td>\n",
       "      <td>2020-06-01</td>\n",
       "      <td>bluedreamsplan2</td>\n",
       "      <td>Don't fall into the trap! #HKPoliceTerrorism #...</td>\n",
       "      <td>en</td>\n",
       "      <td>0</td>\n",
       "      <td>0</td>\n",
       "      <td>0</td>\n",
       "      <td>[]</td>\n",
       "      <td>['hkpoliceterrorism', 'hongkongpolicestate', '...</td>\n",
       "    </tr>\n",
       "    <tr>\n",
       "      <th>288412</th>\n",
       "      <td>#hkpoliceterrorism</td>\n",
       "      <td>2020-06-01</td>\n",
       "      <td>villafish129</td>\n",
       "      <td>@KingJames #AllLivesMatters . #PoliceBrutality...</td>\n",
       "      <td>en</td>\n",
       "      <td>0</td>\n",
       "      <td>0</td>\n",
       "      <td>0</td>\n",
       "      <td>[{'screen_name': 'KingJames', 'name': 'LeBron ...</td>\n",
       "      <td>['alllivesmatters', 'policebrutality', 'police...</td>\n",
       "    </tr>\n",
       "    <tr>\n",
       "      <th>288413</th>\n",
       "      <td>#hkpoliceterrorism</td>\n",
       "      <td>2020-05-31</td>\n",
       "      <td>dingdin34098358</td>\n",
       "      <td>@ajphelo @HK55020097 The HK police killed a So...</td>\n",
       "      <td>en</td>\n",
       "      <td>0</td>\n",
       "      <td>1</td>\n",
       "      <td>1</td>\n",
       "      <td>[{'screen_name': 'ajphelo', 'name': 'Andrew J ...</td>\n",
       "      <td>['policebrutality', 'hkpoliceterrorism']</td>\n",
       "    </tr>\n",
       "    <tr>\n",
       "      <th>288414</th>\n",
       "      <td>#hkpoliceterrorism</td>\n",
       "      <td>2020-05-31</td>\n",
       "      <td>bluedreamsplan2</td>\n",
       "      <td>@OzraeliAvi China try hard to link up the #Min...</td>\n",
       "      <td>en</td>\n",
       "      <td>0</td>\n",
       "      <td>0</td>\n",
       "      <td>1</td>\n",
       "      <td>[{'screen_name': 'OzraeliAvi', 'name': 'Avi Ye...</td>\n",
       "      <td>['minnesotariots', 'hongkongprotests', 'minnia...</td>\n",
       "    </tr>\n",
       "    <tr>\n",
       "      <th>288415</th>\n",
       "      <td>#hkpoliceterrorism</td>\n",
       "      <td>2020-05-31</td>\n",
       "      <td>jack83352493</td>\n",
       "      <td>#HongKongProtest #StandwithHK #HKPoliceTerrori...</td>\n",
       "      <td>und</td>\n",
       "      <td>0</td>\n",
       "      <td>0</td>\n",
       "      <td>0</td>\n",
       "      <td>[]</td>\n",
       "      <td>['hongkongprotest', 'standwithhk', 'hkpolicete...</td>\n",
       "    </tr>\n",
       "  </tbody>\n",
       "</table>\n",
       "<p>288416 rows × 10 columns</p>\n",
       "</div>"
      ],
      "text/plain": [
       "                      hash created_at         username  \\\n",
       "0        #FightForHongKong 2020-08-28    ginny81025554   \n",
       "1        #FightForHongKong 2020-08-27       dani_tasso   \n",
       "2        #FightForHongKong 2020-08-25  peterhjorth_ddp   \n",
       "3        #FightForHongKong 2020-08-24  peterhjorth_ddp   \n",
       "4        #FightForHongKong 2020-08-24      cipopolitik   \n",
       "...                    ...        ...              ...   \n",
       "288411  #hkpoliceterrorism 2020-06-01  bluedreamsplan2   \n",
       "288412  #hkpoliceterrorism 2020-06-01     villafish129   \n",
       "288413  #hkpoliceterrorism 2020-05-31  dingdin34098358   \n",
       "288414  #hkpoliceterrorism 2020-05-31  bluedreamsplan2   \n",
       "288415  #hkpoliceterrorism 2020-05-31     jack83352493   \n",
       "\n",
       "                                                    tweet language  \\\n",
       "0       @benedictrogers @NOW4humanity Thanks for speak...       en   \n",
       "1       Razzismo e democrazia.   Sfaccettature del med...       it   \n",
       "2       How to stop China in Hong Kong. Read the new r...       en   \n",
       "3       How to stop China in Hong Kong. Read the new r...       en   \n",
       "4       War or communism?   https://t.co/V2kQTvR2wr  #...       en   \n",
       "...                                                   ...      ...   \n",
       "288411  Don't fall into the trap! #HKPoliceTerrorism #...       en   \n",
       "288412  @KingJames #AllLivesMatters . #PoliceBrutality...       en   \n",
       "288413  @ajphelo @HK55020097 The HK police killed a So...       en   \n",
       "288414  @OzraeliAvi China try hard to link up the #Min...       en   \n",
       "288415  #HongKongProtest #StandwithHK #HKPoliceTerrori...      und   \n",
       "\n",
       "        replies_count  retweets_count  likes_count  \\\n",
       "0                   0               1            2   \n",
       "1                   1               0            2   \n",
       "2                   0               0            0   \n",
       "3                   0               0            0   \n",
       "4                   0               0            1   \n",
       "...               ...             ...          ...   \n",
       "288411              0               0            0   \n",
       "288412              0               0            0   \n",
       "288413              0               1            1   \n",
       "288414              0               0            1   \n",
       "288415              0               0            0   \n",
       "\n",
       "                                                 reply_to  \\\n",
       "0       [{'screen_name': 'benedictrogers', 'name': 'Be...   \n",
       "1                                                      []   \n",
       "2                                                      []   \n",
       "3                                                      []   \n",
       "4                                                      []   \n",
       "...                                                   ...   \n",
       "288411                                                 []   \n",
       "288412  [{'screen_name': 'KingJames', 'name': 'LeBron ...   \n",
       "288413  [{'screen_name': 'ajphelo', 'name': 'Andrew J ...   \n",
       "288414  [{'screen_name': 'OzraeliAvi', 'name': 'Avi Ye...   \n",
       "288415                                                 []   \n",
       "\n",
       "                                                 hashtags  \n",
       "0               ['fridaysforfreedom', 'fightforhongkong']  \n",
       "1       ['blacklivesmatter', 'fightforhongkong', 'open...  \n",
       "2       ['dkpol', 'kina', 'hongkongprotest', 'fightfor...  \n",
       "3       ['dkpol', 'kina', 'hongkongprotest', 'fightfor...  \n",
       "4       ['hongkongprotest', 'fightforhongkong', 'prayf...  \n",
       "...                                                   ...  \n",
       "288411  ['hkpoliceterrorism', 'hongkongpolicestate', '...  \n",
       "288412  ['alllivesmatters', 'policebrutality', 'police...  \n",
       "288413           ['policebrutality', 'hkpoliceterrorism']  \n",
       "288414  ['minnesotariots', 'hongkongprotests', 'minnia...  \n",
       "288415  ['hongkongprotest', 'standwithhk', 'hkpolicete...  \n",
       "\n",
       "[288416 rows x 10 columns]"
      ]
     },
     "execution_count": 35,
     "metadata": {},
     "output_type": "execute_result"
    }
   ],
   "source": [
    "df.reset_index(drop=True)"
   ]
  },
  {
   "cell_type": "code",
   "execution_count": 36,
   "metadata": {},
   "outputs": [
    {
     "data": {
      "text/plain": [
       "9      https://t.co/8lgfzmGtav   #lukashenko #Tikhan...\n",
       "17    #FreeAgness #FightForFreedom #StandWithHongKon...\n",
       "18    #Hongkongers  #hongkong #beijing #china #HongK...\n",
       "20    #boycottchina #hongkong #freehk #boycottmulan ...\n",
       "21     https://t.co/B5KWeYZE6t #boycottchina #hongko...\n",
       "Name: tweet, dtype: object"
      ]
     },
     "execution_count": 36,
     "metadata": {},
     "output_type": "execute_result"
    }
   ],
   "source": [
    "df_tweets_w_dup[df_tweets_w_dup['language'].str.contains('und')]['tweet'].head()"
   ]
  },
  {
   "cell_type": "code",
   "execution_count": 37,
   "metadata": {},
   "outputs": [
    {
     "data": {
      "text/plain": [
       "9          https://t.co/8lgfzmGtav   #lukashenko #Tikhan...\n",
       "17        #FreeAgness #FightForFreedom #StandWithHongKon...\n",
       "18        #Hongkongers  #hongkong #beijing #china #HongK...\n",
       "20        #boycottchina #hongkong #freehk #boycottmulan ...\n",
       "21         https://t.co/B5KWeYZE6t #boycottchina #hongko...\n",
       "                                ...                        \n",
       "288397    #HKPoliceState  #HKPoliceBrutality #HKTotalita...\n",
       "288402         @IndyWorld #HKPoliceState #HKPoliceTerrorism\n",
       "288406    #香港警暴 #港警是施虐者 #hkpolicebrutality #HKPoliceTerr...\n",
       "288408    @SpokespersonCHN #ICantBreathe #Icannotbreathe...\n",
       "288415    #HongKongProtest #StandwithHK #HKPoliceTerrori...\n",
       "Name: tweet, Length: 69375, dtype: object"
      ]
     },
     "execution_count": 37,
     "metadata": {},
     "output_type": "execute_result"
    }
   ],
   "source": [
    "df_tweets_w_dup[df_tweets_w_dup['language'].str.contains('und')]['tweet']"
   ]
  },
  {
   "cell_type": "code",
   "execution_count": 38,
   "metadata": {},
   "outputs": [],
   "source": [
    "# df_tweets_w_dup[df_tweets_w_dup['language'].str.contains('und')]['tweet'][21]"
   ]
  },
  {
   "cell_type": "code",
   "execution_count": 39,
   "metadata": {
    "scrolled": true
   },
   "outputs": [],
   "source": [
    "# df_tweets_w_dup[df_tweets_w_dup['language'].str.contains('und')]['tweet'][39]"
   ]
  },
  {
   "cell_type": "markdown",
   "metadata": {},
   "source": [
    "These appear to be tweets with **only hashtags**; while that may be important & it's contribution is large, **this excerise pertains to the text.**\n",
    "\n",
    "**Further investigation may be required** at a later date but for now, **we will unfortunately drop them as well & only keep `en`.**"
   ]
  },
  {
   "cell_type": "code",
   "execution_count": 40,
   "metadata": {},
   "outputs": [],
   "source": [
    "df_tweets_w_dup_en = df_tweets_w_dup[df_tweets_w_dup['language'].str.contains(\"en\")]"
   ]
  },
  {
   "cell_type": "code",
   "execution_count": 41,
   "metadata": {},
   "outputs": [
    {
     "data": {
      "text/html": [
       "<div>\n",
       "<style scoped>\n",
       "    .dataframe tbody tr th:only-of-type {\n",
       "        vertical-align: middle;\n",
       "    }\n",
       "\n",
       "    .dataframe tbody tr th {\n",
       "        vertical-align: top;\n",
       "    }\n",
       "\n",
       "    .dataframe thead th {\n",
       "        text-align: right;\n",
       "    }\n",
       "</style>\n",
       "<table border=\"1\" class=\"dataframe\">\n",
       "  <thead>\n",
       "    <tr style=\"text-align: right;\">\n",
       "      <th></th>\n",
       "      <th>hash</th>\n",
       "      <th>created_at</th>\n",
       "      <th>username</th>\n",
       "      <th>tweet</th>\n",
       "      <th>language</th>\n",
       "      <th>replies_count</th>\n",
       "      <th>retweets_count</th>\n",
       "      <th>likes_count</th>\n",
       "      <th>reply_to</th>\n",
       "      <th>hashtags</th>\n",
       "      <th>Duplicated_TorF</th>\n",
       "    </tr>\n",
       "  </thead>\n",
       "  <tbody>\n",
       "    <tr>\n",
       "      <th>288410</th>\n",
       "      <td>#hkpoliceterrorism</td>\n",
       "      <td>2020-06-01</td>\n",
       "      <td>andrewhe2</td>\n",
       "      <td>@SpokespersonCHN Ms Hua please help them. #ICa...</td>\n",
       "      <td>en</td>\n",
       "      <td>0</td>\n",
       "      <td>0</td>\n",
       "      <td>0</td>\n",
       "      <td>[{'screen_name': 'SpokespersonCHN', 'name': 'H...</td>\n",
       "      <td>['icantbreathe', 'icantbreath', 'icantbreathea...</td>\n",
       "      <td>1</td>\n",
       "    </tr>\n",
       "    <tr>\n",
       "      <th>288411</th>\n",
       "      <td>#hkpoliceterrorism</td>\n",
       "      <td>2020-06-01</td>\n",
       "      <td>bluedreamsplan2</td>\n",
       "      <td>Don't fall into the trap! #HKPoliceTerrorism #...</td>\n",
       "      <td>en</td>\n",
       "      <td>0</td>\n",
       "      <td>0</td>\n",
       "      <td>0</td>\n",
       "      <td>[]</td>\n",
       "      <td>['hkpoliceterrorism', 'hongkongpolicestate', '...</td>\n",
       "      <td>0</td>\n",
       "    </tr>\n",
       "    <tr>\n",
       "      <th>288412</th>\n",
       "      <td>#hkpoliceterrorism</td>\n",
       "      <td>2020-06-01</td>\n",
       "      <td>villafish129</td>\n",
       "      <td>@KingJames #AllLivesMatters . #PoliceBrutality...</td>\n",
       "      <td>en</td>\n",
       "      <td>0</td>\n",
       "      <td>0</td>\n",
       "      <td>0</td>\n",
       "      <td>[{'screen_name': 'KingJames', 'name': 'LeBron ...</td>\n",
       "      <td>['alllivesmatters', 'policebrutality', 'police...</td>\n",
       "      <td>1</td>\n",
       "    </tr>\n",
       "    <tr>\n",
       "      <th>288413</th>\n",
       "      <td>#hkpoliceterrorism</td>\n",
       "      <td>2020-05-31</td>\n",
       "      <td>dingdin34098358</td>\n",
       "      <td>@ajphelo @HK55020097 The HK police killed a So...</td>\n",
       "      <td>en</td>\n",
       "      <td>0</td>\n",
       "      <td>1</td>\n",
       "      <td>1</td>\n",
       "      <td>[{'screen_name': 'ajphelo', 'name': 'Andrew J ...</td>\n",
       "      <td>['policebrutality', 'hkpoliceterrorism']</td>\n",
       "      <td>0</td>\n",
       "    </tr>\n",
       "    <tr>\n",
       "      <th>288414</th>\n",
       "      <td>#hkpoliceterrorism</td>\n",
       "      <td>2020-05-31</td>\n",
       "      <td>bluedreamsplan2</td>\n",
       "      <td>@OzraeliAvi China try hard to link up the #Min...</td>\n",
       "      <td>en</td>\n",
       "      <td>0</td>\n",
       "      <td>0</td>\n",
       "      <td>1</td>\n",
       "      <td>[{'screen_name': 'OzraeliAvi', 'name': 'Avi Ye...</td>\n",
       "      <td>['minnesotariots', 'hongkongprotests', 'minnia...</td>\n",
       "      <td>0</td>\n",
       "    </tr>\n",
       "  </tbody>\n",
       "</table>\n",
       "</div>"
      ],
      "text/plain": [
       "                      hash created_at         username  \\\n",
       "288410  #hkpoliceterrorism 2020-06-01        andrewhe2   \n",
       "288411  #hkpoliceterrorism 2020-06-01  bluedreamsplan2   \n",
       "288412  #hkpoliceterrorism 2020-06-01     villafish129   \n",
       "288413  #hkpoliceterrorism 2020-05-31  dingdin34098358   \n",
       "288414  #hkpoliceterrorism 2020-05-31  bluedreamsplan2   \n",
       "\n",
       "                                                    tweet language  \\\n",
       "288410  @SpokespersonCHN Ms Hua please help them. #ICa...       en   \n",
       "288411  Don't fall into the trap! #HKPoliceTerrorism #...       en   \n",
       "288412  @KingJames #AllLivesMatters . #PoliceBrutality...       en   \n",
       "288413  @ajphelo @HK55020097 The HK police killed a So...       en   \n",
       "288414  @OzraeliAvi China try hard to link up the #Min...       en   \n",
       "\n",
       "        replies_count  retweets_count  likes_count  \\\n",
       "288410              0               0            0   \n",
       "288411              0               0            0   \n",
       "288412              0               0            0   \n",
       "288413              0               1            1   \n",
       "288414              0               0            1   \n",
       "\n",
       "                                                 reply_to  \\\n",
       "288410  [{'screen_name': 'SpokespersonCHN', 'name': 'H...   \n",
       "288411                                                 []   \n",
       "288412  [{'screen_name': 'KingJames', 'name': 'LeBron ...   \n",
       "288413  [{'screen_name': 'ajphelo', 'name': 'Andrew J ...   \n",
       "288414  [{'screen_name': 'OzraeliAvi', 'name': 'Avi Ye...   \n",
       "\n",
       "                                                 hashtags  Duplicated_TorF  \n",
       "288410  ['icantbreathe', 'icantbreath', 'icantbreathea...                1  \n",
       "288411  ['hkpoliceterrorism', 'hongkongpolicestate', '...                0  \n",
       "288412  ['alllivesmatters', 'policebrutality', 'police...                1  \n",
       "288413           ['policebrutality', 'hkpoliceterrorism']                0  \n",
       "288414  ['minnesotariots', 'hongkongprotests', 'minnia...                0  "
      ]
     },
     "execution_count": 41,
     "metadata": {},
     "output_type": "execute_result"
    }
   ],
   "source": [
    "df_tweets_w_dup_en.tail()"
   ]
  },
  {
   "cell_type": "code",
   "execution_count": 42,
   "metadata": {},
   "outputs": [
    {
     "name": "stdout",
     "output_type": "stream",
     "text": [
      "There may be 67,211 duplicates to look into.\n"
     ]
    }
   ],
   "source": [
    "print('There may be', \"{:,}\".format(len(df) - len(df['tweet'].unique())), 'duplicates to look into.')"
   ]
  },
  {
   "cell_type": "code",
   "execution_count": 43,
   "metadata": {},
   "outputs": [
    {
     "name": "stdout",
     "output_type": "stream",
     "text": [
      "Review of the # of English articles: \n",
      "   194,087 | English count before dropping other languages \n",
      "   194,087 | Count after dropping other languages\n"
     ]
    }
   ],
   "source": [
    "print('Review of the # of English articles:','\\n'\n",
    "    '  ',\"{:,}\".format( len(df_tweets_w_dup[df_tweets_w_dup.language == 'en'])), '| English count before dropping other languages','\\n',\n",
    "     ' ',\"{:,}\".format(len(df_tweets_w_dup_en)),'| Count after dropping other languages')"
   ]
  },
  {
   "cell_type": "markdown",
   "metadata": {},
   "source": [
    "That matches the above so **we will now remove duplicates.**"
   ]
  },
  {
   "cell_type": "code",
   "execution_count": 44,
   "metadata": {},
   "outputs": [],
   "source": [
    "df_tweets_wout_dup_en = df_tweets_w_dup_en[df_tweets_w_dup_en['Duplicated_TorF']==0]"
   ]
  },
  {
   "cell_type": "markdown",
   "metadata": {},
   "source": [
    "Confirming that worked we will bring the data frame that did not delete the duplicates back & see what the sum of the `Duplicates_TorF` column is; as a reminder, **a duplicate has a 1 & the non-Duplicate has a 0.**"
   ]
  },
  {
   "cell_type": "code",
   "execution_count": 45,
   "metadata": {},
   "outputs": [
    {
     "data": {
      "text/plain": [
       "30388"
      ]
     },
     "execution_count": 45,
     "metadata": {},
     "output_type": "execute_result"
    }
   ],
   "source": [
    "sum(df_tweets_w_dup_en['Duplicated_TorF'])"
   ]
  },
  {
   "cell_type": "markdown",
   "metadata": {},
   "source": [
    "So there was ~30k identified duplicates, so what is the length of the dataframe without duplicates."
   ]
  },
  {
   "cell_type": "code",
   "execution_count": 46,
   "metadata": {},
   "outputs": [
    {
     "data": {
      "text/plain": [
       "0"
      ]
     },
     "execution_count": 46,
     "metadata": {},
     "output_type": "execute_result"
    }
   ],
   "source": [
    "sum(df_tweets_wout_dup_en['Duplicated_TorF'])"
   ]
  },
  {
   "cell_type": "code",
   "execution_count": 47,
   "metadata": {},
   "outputs": [
    {
     "data": {
      "text/plain": [
       "array([False])"
      ]
     },
     "execution_count": 47,
     "metadata": {},
     "output_type": "execute_result"
    }
   ],
   "source": [
    "duplicated_tf_next = df_tweets_wout_dup_en.duplicated(subset=['tweet'])\n",
    "duplicated_tf_next = pd.DataFrame(duplicated_tf_next)\n",
    "duplicated_tf_next.columns = ['Duplicated_check']\n",
    "duplicated_tf_next.Duplicated_check.unique()"
   ]
  },
  {
   "cell_type": "markdown",
   "metadata": {},
   "source": [
    "**A complete list of False essentially says there are no duplicates.**"
   ]
  },
  {
   "cell_type": "code",
   "execution_count": 48,
   "metadata": {},
   "outputs": [
    {
     "data": {
      "text/plain": [
       "163699"
      ]
     },
     "execution_count": 48,
     "metadata": {},
     "output_type": "execute_result"
    }
   ],
   "source": [
    "len(df_tweets_wout_dup_en)"
   ]
  },
  {
   "cell_type": "markdown",
   "metadata": {},
   "source": [
    "That's yet another cut albeit it's expected given the source in which we are working with.\n",
    "\n",
    "**We will take a look at what percent of the original total we have left.**"
   ]
  },
  {
   "cell_type": "code",
   "execution_count": 49,
   "metadata": {},
   "outputs": [
    {
     "data": {
      "text/plain": [
       "56.76"
      ]
     },
     "execution_count": 49,
     "metadata": {},
     "output_type": "execute_result"
    }
   ],
   "source": [
    "round((( len(df_tweets_wout_dup_en) / len(df) ) * 100),2 )"
   ]
  },
  {
   "cell_type": "markdown",
   "metadata": {},
   "source": [
    "**Before sending the Dataframe to Regex, we will hold on to it on the side for reference.**"
   ]
  },
  {
   "cell_type": "code",
   "execution_count": 50,
   "metadata": {
    "scrolled": false
   },
   "outputs": [
    {
     "name": "stdout",
     "output_type": "stream",
     "text": [
      "C:\\Users\\rands\n"
     ]
    }
   ],
   "source": [
    "cd"
   ]
  },
  {
   "cell_type": "code",
   "execution_count": 51,
   "metadata": {},
   "outputs": [
    {
     "name": "stdout",
     "output_type": "stream",
     "text": [
      "Finished\n"
     ]
    }
   ],
   "source": [
    "df_tweets_wout_dup_en.to_excel('./_Capstone_Two_NLP/data/_twitter/_dfs_fortheside/df_tweets_wout_dup_en.xlsx')\n",
    "print('Finished')"
   ]
  },
  {
   "cell_type": "code",
   "execution_count": null,
   "metadata": {},
   "outputs": [],
   "source": []
  },
  {
   "cell_type": "markdown",
   "metadata": {},
   "source": [
    "# 1.4 Regex<a id='regex'></a>"
   ]
  },
  {
   "cell_type": "markdown",
   "metadata": {},
   "source": [
    "Before moving forwards, **we will send the `df_tweets_wout_dup_en` back to it's home ( `df` )** so we don't have to use a long name."
   ]
  },
  {
   "cell_type": "code",
   "execution_count": 52,
   "metadata": {},
   "outputs": [],
   "source": [
    "df = df_tweets_wout_dup_en"
   ]
  },
  {
   "cell_type": "code",
   "execution_count": 53,
   "metadata": {},
   "outputs": [
    {
     "name": "stdout",
     "output_type": "stream",
     "text": [
      "   163,699 | the length of the temp dataframe. \n",
      "   163,699 | the length of our new dataframe.\n"
     ]
    }
   ],
   "source": [
    "print('  ',\"{:,}\".format(len(df_tweets_wout_dup_en)), '| the length of the temp dataframe.','\\n',\n",
    "     ' ', \"{:,}\".format(len(df)), '| the length of our new dataframe.')"
   ]
  },
  {
   "cell_type": "code",
   "execution_count": 54,
   "metadata": {},
   "outputs": [
    {
     "data": {
      "text/plain": [
       "hash               0\n",
       "created_at         0\n",
       "username           0\n",
       "tweet              0\n",
       "language           0\n",
       "replies_count      0\n",
       "retweets_count     0\n",
       "likes_count        0\n",
       "reply_to           0\n",
       "hashtags           0\n",
       "Duplicated_TorF    0\n",
       "dtype: int64"
      ]
     },
     "execution_count": 54,
     "metadata": {},
     "output_type": "execute_result"
    }
   ],
   "source": [
    "df.isnull().sum()"
   ]
  },
  {
   "cell_type": "code",
   "execution_count": 55,
   "metadata": {},
   "outputs": [
    {
     "data": {
      "text/html": [
       "<div>\n",
       "<style scoped>\n",
       "    .dataframe tbody tr th:only-of-type {\n",
       "        vertical-align: middle;\n",
       "    }\n",
       "\n",
       "    .dataframe tbody tr th {\n",
       "        vertical-align: top;\n",
       "    }\n",
       "\n",
       "    .dataframe thead th {\n",
       "        text-align: right;\n",
       "    }\n",
       "</style>\n",
       "<table border=\"1\" class=\"dataframe\">\n",
       "  <thead>\n",
       "    <tr style=\"text-align: right;\">\n",
       "      <th></th>\n",
       "      <th>hash</th>\n",
       "      <th>created_at</th>\n",
       "      <th>username</th>\n",
       "      <th>tweet</th>\n",
       "      <th>language</th>\n",
       "      <th>replies_count</th>\n",
       "      <th>retweets_count</th>\n",
       "      <th>likes_count</th>\n",
       "      <th>reply_to</th>\n",
       "      <th>hashtags</th>\n",
       "      <th>Duplicated_TorF</th>\n",
       "    </tr>\n",
       "  </thead>\n",
       "  <tbody>\n",
       "    <tr>\n",
       "      <th>0</th>\n",
       "      <td>#FightForHongKong</td>\n",
       "      <td>2020-08-28</td>\n",
       "      <td>ginny81025554</td>\n",
       "      <td>@benedictrogers @NOW4humanity Thanks for speak...</td>\n",
       "      <td>en</td>\n",
       "      <td>0</td>\n",
       "      <td>1</td>\n",
       "      <td>2</td>\n",
       "      <td>[{'screen_name': 'benedictrogers', 'name': 'Be...</td>\n",
       "      <td>['fridaysforfreedom', 'fightforhongkong']</td>\n",
       "      <td>0</td>\n",
       "    </tr>\n",
       "  </tbody>\n",
       "</table>\n",
       "</div>"
      ],
      "text/plain": [
       "                hash created_at       username  \\\n",
       "0  #FightForHongKong 2020-08-28  ginny81025554   \n",
       "\n",
       "                                               tweet language  replies_count  \\\n",
       "0  @benedictrogers @NOW4humanity Thanks for speak...       en              0   \n",
       "\n",
       "   retweets_count  likes_count  \\\n",
       "0               1            2   \n",
       "\n",
       "                                            reply_to  \\\n",
       "0  [{'screen_name': 'benedictrogers', 'name': 'Be...   \n",
       "\n",
       "                                    hashtags  Duplicated_TorF  \n",
       "0  ['fridaysforfreedom', 'fightforhongkong']                0  "
      ]
     },
     "execution_count": 55,
     "metadata": {},
     "output_type": "execute_result"
    }
   ],
   "source": [
    "df.head(1)"
   ]
  },
  {
   "cell_type": "code",
   "execution_count": 56,
   "metadata": {},
   "outputs": [],
   "source": [
    "# df = df.drop(['index'], axis=1)"
   ]
  },
  {
   "cell_type": "code",
   "execution_count": 57,
   "metadata": {},
   "outputs": [
    {
     "data": {
      "text/html": [
       "<div>\n",
       "<style scoped>\n",
       "    .dataframe tbody tr th:only-of-type {\n",
       "        vertical-align: middle;\n",
       "    }\n",
       "\n",
       "    .dataframe tbody tr th {\n",
       "        vertical-align: top;\n",
       "    }\n",
       "\n",
       "    .dataframe thead th {\n",
       "        text-align: right;\n",
       "    }\n",
       "</style>\n",
       "<table border=\"1\" class=\"dataframe\">\n",
       "  <thead>\n",
       "    <tr style=\"text-align: right;\">\n",
       "      <th></th>\n",
       "      <th>hash</th>\n",
       "      <th>created_at</th>\n",
       "      <th>username</th>\n",
       "      <th>tweet</th>\n",
       "      <th>language</th>\n",
       "      <th>replies_count</th>\n",
       "      <th>retweets_count</th>\n",
       "      <th>likes_count</th>\n",
       "      <th>reply_to</th>\n",
       "      <th>hashtags</th>\n",
       "      <th>Duplicated_TorF</th>\n",
       "    </tr>\n",
       "  </thead>\n",
       "  <tbody>\n",
       "    <tr>\n",
       "      <th>0</th>\n",
       "      <td>#FightForHongKong</td>\n",
       "      <td>2020-08-28</td>\n",
       "      <td>ginny81025554</td>\n",
       "      <td>@benedictrogers @NOW4humanity Thanks for speak...</td>\n",
       "      <td>en</td>\n",
       "      <td>0</td>\n",
       "      <td>1</td>\n",
       "      <td>2</td>\n",
       "      <td>[{'screen_name': 'benedictrogers', 'name': 'Be...</td>\n",
       "      <td>['fridaysforfreedom', 'fightforhongkong']</td>\n",
       "      <td>0</td>\n",
       "    </tr>\n",
       "    <tr>\n",
       "      <th>2</th>\n",
       "      <td>#FightForHongKong</td>\n",
       "      <td>2020-08-25</td>\n",
       "      <td>peterhjorth_ddp</td>\n",
       "      <td>How to stop China in Hong Kong. Read the new r...</td>\n",
       "      <td>en</td>\n",
       "      <td>0</td>\n",
       "      <td>0</td>\n",
       "      <td>0</td>\n",
       "      <td>[]</td>\n",
       "      <td>['dkpol', 'kina', 'hongkongprotest', 'fightfor...</td>\n",
       "      <td>0</td>\n",
       "    </tr>\n",
       "    <tr>\n",
       "      <th>3</th>\n",
       "      <td>#FightForHongKong</td>\n",
       "      <td>2020-08-24</td>\n",
       "      <td>peterhjorth_ddp</td>\n",
       "      <td>How to stop China in Hong Kong. Read the new r...</td>\n",
       "      <td>en</td>\n",
       "      <td>0</td>\n",
       "      <td>0</td>\n",
       "      <td>0</td>\n",
       "      <td>[]</td>\n",
       "      <td>['dkpol', 'kina', 'hongkongprotest', 'fightfor...</td>\n",
       "      <td>0</td>\n",
       "    </tr>\n",
       "    <tr>\n",
       "      <th>4</th>\n",
       "      <td>#FightForHongKong</td>\n",
       "      <td>2020-08-24</td>\n",
       "      <td>cipopolitik</td>\n",
       "      <td>War or communism?   https://t.co/V2kQTvR2wr  #...</td>\n",
       "      <td>en</td>\n",
       "      <td>0</td>\n",
       "      <td>0</td>\n",
       "      <td>1</td>\n",
       "      <td>[]</td>\n",
       "      <td>['hongkongprotest', 'fightforhongkong', 'prayf...</td>\n",
       "      <td>0</td>\n",
       "    </tr>\n",
       "    <tr>\n",
       "      <th>5</th>\n",
       "      <td>#FightForHongKong</td>\n",
       "      <td>2020-08-24</td>\n",
       "      <td>peterhjorth_ddp</td>\n",
       "      <td>How to stop China in Hong Kong. Read the new r...</td>\n",
       "      <td>en</td>\n",
       "      <td>0</td>\n",
       "      <td>0</td>\n",
       "      <td>0</td>\n",
       "      <td>[]</td>\n",
       "      <td>['dkpol', 'kina', 'hongkongprotest', 'fightfor...</td>\n",
       "      <td>0</td>\n",
       "    </tr>\n",
       "    <tr>\n",
       "      <th>6</th>\n",
       "      <td>#FightForHongKong</td>\n",
       "      <td>2020-08-24</td>\n",
       "      <td>cipopolitik</td>\n",
       "      <td>Read the report today: How to stop China in Ho...</td>\n",
       "      <td>en</td>\n",
       "      <td>0</td>\n",
       "      <td>0</td>\n",
       "      <td>0</td>\n",
       "      <td>[]</td>\n",
       "      <td>['hongkongprotest', 'fightforhongkong', 'prayf...</td>\n",
       "      <td>0</td>\n",
       "    </tr>\n",
       "    <tr>\n",
       "      <th>7</th>\n",
       "      <td>#FightForHongKong</td>\n",
       "      <td>2020-08-23</td>\n",
       "      <td>cipopolitik</td>\n",
       "      <td>China will never stop.  #HongKongProtest #Figh...</td>\n",
       "      <td>en</td>\n",
       "      <td>0</td>\n",
       "      <td>0</td>\n",
       "      <td>0</td>\n",
       "      <td>[]</td>\n",
       "      <td>['hongkongprotest', 'fightforhongkong', 'prayf...</td>\n",
       "      <td>0</td>\n",
       "    </tr>\n",
       "    <tr>\n",
       "      <th>8</th>\n",
       "      <td>#FightForHongKong</td>\n",
       "      <td>2020-08-23</td>\n",
       "      <td>cipopolitik</td>\n",
       "      <td>China want to dominate the World   Get the rep...</td>\n",
       "      <td>en</td>\n",
       "      <td>1</td>\n",
       "      <td>0</td>\n",
       "      <td>1</td>\n",
       "      <td>[]</td>\n",
       "      <td>['hongkongprotest', 'fightforhongkong', 'prayf...</td>\n",
       "      <td>0</td>\n",
       "    </tr>\n",
       "    <tr>\n",
       "      <th>11</th>\n",
       "      <td>#FightForHongKong</td>\n",
       "      <td>2020-08-19</td>\n",
       "      <td>korn_bianca</td>\n",
       "      <td>@StandwithHK_JPN Thank you japan brother and s...</td>\n",
       "      <td>en</td>\n",
       "      <td>0</td>\n",
       "      <td>0</td>\n",
       "      <td>0</td>\n",
       "      <td>[{'screen_name': 'StandwithHK_JPN', 'name': 'S...</td>\n",
       "      <td>['freehongkong', 'fightforhongkong']</td>\n",
       "      <td>0</td>\n",
       "    </tr>\n",
       "    <tr>\n",
       "      <th>12</th>\n",
       "      <td>#FightForHongKong</td>\n",
       "      <td>2020-08-15</td>\n",
       "      <td>frankseier</td>\n",
       "      <td>Joshua Wong: ‘Forms of resistance need to be f...</td>\n",
       "      <td>en</td>\n",
       "      <td>0</td>\n",
       "      <td>0</td>\n",
       "      <td>0</td>\n",
       "      <td>[]</td>\n",
       "      <td>['fightforhongkong', 'hongkongprotest']</td>\n",
       "      <td>0</td>\n",
       "    </tr>\n",
       "  </tbody>\n",
       "</table>\n",
       "</div>"
      ],
      "text/plain": [
       "                 hash created_at         username  \\\n",
       "0   #FightForHongKong 2020-08-28    ginny81025554   \n",
       "2   #FightForHongKong 2020-08-25  peterhjorth_ddp   \n",
       "3   #FightForHongKong 2020-08-24  peterhjorth_ddp   \n",
       "4   #FightForHongKong 2020-08-24      cipopolitik   \n",
       "5   #FightForHongKong 2020-08-24  peterhjorth_ddp   \n",
       "6   #FightForHongKong 2020-08-24      cipopolitik   \n",
       "7   #FightForHongKong 2020-08-23      cipopolitik   \n",
       "8   #FightForHongKong 2020-08-23      cipopolitik   \n",
       "11  #FightForHongKong 2020-08-19      korn_bianca   \n",
       "12  #FightForHongKong 2020-08-15       frankseier   \n",
       "\n",
       "                                                tweet language  replies_count  \\\n",
       "0   @benedictrogers @NOW4humanity Thanks for speak...       en              0   \n",
       "2   How to stop China in Hong Kong. Read the new r...       en              0   \n",
       "3   How to stop China in Hong Kong. Read the new r...       en              0   \n",
       "4   War or communism?   https://t.co/V2kQTvR2wr  #...       en              0   \n",
       "5   How to stop China in Hong Kong. Read the new r...       en              0   \n",
       "6   Read the report today: How to stop China in Ho...       en              0   \n",
       "7   China will never stop.  #HongKongProtest #Figh...       en              0   \n",
       "8   China want to dominate the World   Get the rep...       en              1   \n",
       "11  @StandwithHK_JPN Thank you japan brother and s...       en              0   \n",
       "12  Joshua Wong: ‘Forms of resistance need to be f...       en              0   \n",
       "\n",
       "    retweets_count  likes_count  \\\n",
       "0                1            2   \n",
       "2                0            0   \n",
       "3                0            0   \n",
       "4                0            1   \n",
       "5                0            0   \n",
       "6                0            0   \n",
       "7                0            0   \n",
       "8                0            1   \n",
       "11               0            0   \n",
       "12               0            0   \n",
       "\n",
       "                                             reply_to  \\\n",
       "0   [{'screen_name': 'benedictrogers', 'name': 'Be...   \n",
       "2                                                  []   \n",
       "3                                                  []   \n",
       "4                                                  []   \n",
       "5                                                  []   \n",
       "6                                                  []   \n",
       "7                                                  []   \n",
       "8                                                  []   \n",
       "11  [{'screen_name': 'StandwithHK_JPN', 'name': 'S...   \n",
       "12                                                 []   \n",
       "\n",
       "                                             hashtags  Duplicated_TorF  \n",
       "0           ['fridaysforfreedom', 'fightforhongkong']                0  \n",
       "2   ['dkpol', 'kina', 'hongkongprotest', 'fightfor...                0  \n",
       "3   ['dkpol', 'kina', 'hongkongprotest', 'fightfor...                0  \n",
       "4   ['hongkongprotest', 'fightforhongkong', 'prayf...                0  \n",
       "5   ['dkpol', 'kina', 'hongkongprotest', 'fightfor...                0  \n",
       "6   ['hongkongprotest', 'fightforhongkong', 'prayf...                0  \n",
       "7   ['hongkongprotest', 'fightforhongkong', 'prayf...                0  \n",
       "8   ['hongkongprotest', 'fightforhongkong', 'prayf...                0  \n",
       "11               ['freehongkong', 'fightforhongkong']                0  \n",
       "12            ['fightforhongkong', 'hongkongprotest']                0  "
      ]
     },
     "execution_count": 57,
     "metadata": {},
     "output_type": "execute_result"
    }
   ],
   "source": [
    "df.head(10)"
   ]
  },
  {
   "cell_type": "code",
   "execution_count": 58,
   "metadata": {},
   "outputs": [
    {
     "data": {
      "text/html": [
       "<div>\n",
       "<style scoped>\n",
       "    .dataframe tbody tr th:only-of-type {\n",
       "        vertical-align: middle;\n",
       "    }\n",
       "\n",
       "    .dataframe tbody tr th {\n",
       "        vertical-align: top;\n",
       "    }\n",
       "\n",
       "    .dataframe thead th {\n",
       "        text-align: right;\n",
       "    }\n",
       "</style>\n",
       "<table border=\"1\" class=\"dataframe\">\n",
       "  <thead>\n",
       "    <tr style=\"text-align: right;\">\n",
       "      <th></th>\n",
       "      <th>hash</th>\n",
       "      <th>created_at</th>\n",
       "      <th>username</th>\n",
       "      <th>tweet</th>\n",
       "      <th>language</th>\n",
       "      <th>replies_count</th>\n",
       "      <th>retweets_count</th>\n",
       "      <th>likes_count</th>\n",
       "      <th>reply_to</th>\n",
       "      <th>hashtags</th>\n",
       "      <th>Duplicated_TorF</th>\n",
       "    </tr>\n",
       "  </thead>\n",
       "  <tbody>\n",
       "    <tr>\n",
       "      <th>0</th>\n",
       "      <td>#FightForHongKong</td>\n",
       "      <td>2020-08-28</td>\n",
       "      <td>ginny81025554</td>\n",
       "      <td>@benedictrogers @NOW4humanity Thanks for speak...</td>\n",
       "      <td>en</td>\n",
       "      <td>0</td>\n",
       "      <td>1</td>\n",
       "      <td>2</td>\n",
       "      <td>[{'screen_name': 'benedictrogers', 'name': 'Be...</td>\n",
       "      <td>['fridaysforfreedom', 'fightforhongkong']</td>\n",
       "      <td>0</td>\n",
       "    </tr>\n",
       "    <tr>\n",
       "      <th>1</th>\n",
       "      <td>#FightForHongKong</td>\n",
       "      <td>2020-08-25</td>\n",
       "      <td>peterhjorth_ddp</td>\n",
       "      <td>How to stop China in Hong Kong. Read the new r...</td>\n",
       "      <td>en</td>\n",
       "      <td>0</td>\n",
       "      <td>0</td>\n",
       "      <td>0</td>\n",
       "      <td>[]</td>\n",
       "      <td>['dkpol', 'kina', 'hongkongprotest', 'fightfor...</td>\n",
       "      <td>0</td>\n",
       "    </tr>\n",
       "    <tr>\n",
       "      <th>2</th>\n",
       "      <td>#FightForHongKong</td>\n",
       "      <td>2020-08-24</td>\n",
       "      <td>peterhjorth_ddp</td>\n",
       "      <td>How to stop China in Hong Kong. Read the new r...</td>\n",
       "      <td>en</td>\n",
       "      <td>0</td>\n",
       "      <td>0</td>\n",
       "      <td>0</td>\n",
       "      <td>[]</td>\n",
       "      <td>['dkpol', 'kina', 'hongkongprotest', 'fightfor...</td>\n",
       "      <td>0</td>\n",
       "    </tr>\n",
       "    <tr>\n",
       "      <th>3</th>\n",
       "      <td>#FightForHongKong</td>\n",
       "      <td>2020-08-24</td>\n",
       "      <td>cipopolitik</td>\n",
       "      <td>War or communism?   https://t.co/V2kQTvR2wr  #...</td>\n",
       "      <td>en</td>\n",
       "      <td>0</td>\n",
       "      <td>0</td>\n",
       "      <td>1</td>\n",
       "      <td>[]</td>\n",
       "      <td>['hongkongprotest', 'fightforhongkong', 'prayf...</td>\n",
       "      <td>0</td>\n",
       "    </tr>\n",
       "    <tr>\n",
       "      <th>4</th>\n",
       "      <td>#FightForHongKong</td>\n",
       "      <td>2020-08-24</td>\n",
       "      <td>peterhjorth_ddp</td>\n",
       "      <td>How to stop China in Hong Kong. Read the new r...</td>\n",
       "      <td>en</td>\n",
       "      <td>0</td>\n",
       "      <td>0</td>\n",
       "      <td>0</td>\n",
       "      <td>[]</td>\n",
       "      <td>['dkpol', 'kina', 'hongkongprotest', 'fightfor...</td>\n",
       "      <td>0</td>\n",
       "    </tr>\n",
       "    <tr>\n",
       "      <th>5</th>\n",
       "      <td>#FightForHongKong</td>\n",
       "      <td>2020-08-24</td>\n",
       "      <td>cipopolitik</td>\n",
       "      <td>Read the report today: How to stop China in Ho...</td>\n",
       "      <td>en</td>\n",
       "      <td>0</td>\n",
       "      <td>0</td>\n",
       "      <td>0</td>\n",
       "      <td>[]</td>\n",
       "      <td>['hongkongprotest', 'fightforhongkong', 'prayf...</td>\n",
       "      <td>0</td>\n",
       "    </tr>\n",
       "    <tr>\n",
       "      <th>6</th>\n",
       "      <td>#FightForHongKong</td>\n",
       "      <td>2020-08-23</td>\n",
       "      <td>cipopolitik</td>\n",
       "      <td>China will never stop.  #HongKongProtest #Figh...</td>\n",
       "      <td>en</td>\n",
       "      <td>0</td>\n",
       "      <td>0</td>\n",
       "      <td>0</td>\n",
       "      <td>[]</td>\n",
       "      <td>['hongkongprotest', 'fightforhongkong', 'prayf...</td>\n",
       "      <td>0</td>\n",
       "    </tr>\n",
       "    <tr>\n",
       "      <th>7</th>\n",
       "      <td>#FightForHongKong</td>\n",
       "      <td>2020-08-23</td>\n",
       "      <td>cipopolitik</td>\n",
       "      <td>China want to dominate the World   Get the rep...</td>\n",
       "      <td>en</td>\n",
       "      <td>1</td>\n",
       "      <td>0</td>\n",
       "      <td>1</td>\n",
       "      <td>[]</td>\n",
       "      <td>['hongkongprotest', 'fightforhongkong', 'prayf...</td>\n",
       "      <td>0</td>\n",
       "    </tr>\n",
       "    <tr>\n",
       "      <th>8</th>\n",
       "      <td>#FightForHongKong</td>\n",
       "      <td>2020-08-19</td>\n",
       "      <td>korn_bianca</td>\n",
       "      <td>@StandwithHK_JPN Thank you japan brother and s...</td>\n",
       "      <td>en</td>\n",
       "      <td>0</td>\n",
       "      <td>0</td>\n",
       "      <td>0</td>\n",
       "      <td>[{'screen_name': 'StandwithHK_JPN', 'name': 'S...</td>\n",
       "      <td>['freehongkong', 'fightforhongkong']</td>\n",
       "      <td>0</td>\n",
       "    </tr>\n",
       "    <tr>\n",
       "      <th>9</th>\n",
       "      <td>#FightForHongKong</td>\n",
       "      <td>2020-08-15</td>\n",
       "      <td>frankseier</td>\n",
       "      <td>Joshua Wong: ‘Forms of resistance need to be f...</td>\n",
       "      <td>en</td>\n",
       "      <td>0</td>\n",
       "      <td>0</td>\n",
       "      <td>0</td>\n",
       "      <td>[]</td>\n",
       "      <td>['fightforhongkong', 'hongkongprotest']</td>\n",
       "      <td>0</td>\n",
       "    </tr>\n",
       "  </tbody>\n",
       "</table>\n",
       "</div>"
      ],
      "text/plain": [
       "                hash created_at         username  \\\n",
       "0  #FightForHongKong 2020-08-28    ginny81025554   \n",
       "1  #FightForHongKong 2020-08-25  peterhjorth_ddp   \n",
       "2  #FightForHongKong 2020-08-24  peterhjorth_ddp   \n",
       "3  #FightForHongKong 2020-08-24      cipopolitik   \n",
       "4  #FightForHongKong 2020-08-24  peterhjorth_ddp   \n",
       "5  #FightForHongKong 2020-08-24      cipopolitik   \n",
       "6  #FightForHongKong 2020-08-23      cipopolitik   \n",
       "7  #FightForHongKong 2020-08-23      cipopolitik   \n",
       "8  #FightForHongKong 2020-08-19      korn_bianca   \n",
       "9  #FightForHongKong 2020-08-15       frankseier   \n",
       "\n",
       "                                               tweet language  replies_count  \\\n",
       "0  @benedictrogers @NOW4humanity Thanks for speak...       en              0   \n",
       "1  How to stop China in Hong Kong. Read the new r...       en              0   \n",
       "2  How to stop China in Hong Kong. Read the new r...       en              0   \n",
       "3  War or communism?   https://t.co/V2kQTvR2wr  #...       en              0   \n",
       "4  How to stop China in Hong Kong. Read the new r...       en              0   \n",
       "5  Read the report today: How to stop China in Ho...       en              0   \n",
       "6  China will never stop.  #HongKongProtest #Figh...       en              0   \n",
       "7  China want to dominate the World   Get the rep...       en              1   \n",
       "8  @StandwithHK_JPN Thank you japan brother and s...       en              0   \n",
       "9  Joshua Wong: ‘Forms of resistance need to be f...       en              0   \n",
       "\n",
       "   retweets_count  likes_count  \\\n",
       "0               1            2   \n",
       "1               0            0   \n",
       "2               0            0   \n",
       "3               0            1   \n",
       "4               0            0   \n",
       "5               0            0   \n",
       "6               0            0   \n",
       "7               0            1   \n",
       "8               0            0   \n",
       "9               0            0   \n",
       "\n",
       "                                            reply_to  \\\n",
       "0  [{'screen_name': 'benedictrogers', 'name': 'Be...   \n",
       "1                                                 []   \n",
       "2                                                 []   \n",
       "3                                                 []   \n",
       "4                                                 []   \n",
       "5                                                 []   \n",
       "6                                                 []   \n",
       "7                                                 []   \n",
       "8  [{'screen_name': 'StandwithHK_JPN', 'name': 'S...   \n",
       "9                                                 []   \n",
       "\n",
       "                                            hashtags  Duplicated_TorF  \n",
       "0          ['fridaysforfreedom', 'fightforhongkong']                0  \n",
       "1  ['dkpol', 'kina', 'hongkongprotest', 'fightfor...                0  \n",
       "2  ['dkpol', 'kina', 'hongkongprotest', 'fightfor...                0  \n",
       "3  ['hongkongprotest', 'fightforhongkong', 'prayf...                0  \n",
       "4  ['dkpol', 'kina', 'hongkongprotest', 'fightfor...                0  \n",
       "5  ['hongkongprotest', 'fightforhongkong', 'prayf...                0  \n",
       "6  ['hongkongprotest', 'fightforhongkong', 'prayf...                0  \n",
       "7  ['hongkongprotest', 'fightforhongkong', 'prayf...                0  \n",
       "8               ['freehongkong', 'fightforhongkong']                0  \n",
       "9            ['fightforhongkong', 'hongkongprotest']                0  "
      ]
     },
     "execution_count": 58,
     "metadata": {},
     "output_type": "execute_result"
    }
   ],
   "source": [
    "df = df.reset_index(drop=True)\n",
    "df.head(10)"
   ]
  },
  {
   "cell_type": "code",
   "execution_count": null,
   "metadata": {},
   "outputs": [],
   "source": []
  },
  {
   "cell_type": "markdown",
   "metadata": {},
   "source": [
    "That was already believed but it's good practice to double confirm.\n",
    "\n",
    "<a id='dupe'></a>**`Duplicated_TorF` | Given we dropped all 1's from the column, we can drop it.** Before, we will double confirm."
   ]
  },
  {
   "cell_type": "code",
   "execution_count": 59,
   "metadata": {},
   "outputs": [
    {
     "data": {
      "text/plain": [
       "array([0], dtype=int64)"
      ]
     },
     "execution_count": 59,
     "metadata": {},
     "output_type": "execute_result"
    }
   ],
   "source": [
    "np.unique(df['Duplicated_TorF'])"
   ]
  },
  {
   "cell_type": "code",
   "execution_count": 60,
   "metadata": {},
   "outputs": [],
   "source": [
    "df = df.drop(columns=['Duplicated_TorF'])"
   ]
  },
  {
   "cell_type": "markdown",
   "metadata": {},
   "source": [
    "<a id='lang'></a>**`language` | We will do the same with `language`**."
   ]
  },
  {
   "cell_type": "code",
   "execution_count": 61,
   "metadata": {},
   "outputs": [
    {
     "data": {
      "text/plain": [
       "array(['en'], dtype=object)"
      ]
     },
     "execution_count": 61,
     "metadata": {},
     "output_type": "execute_result"
    }
   ],
   "source": [
    "np.unique(df['language'])"
   ]
  },
  {
   "cell_type": "code",
   "execution_count": 62,
   "metadata": {},
   "outputs": [],
   "source": [
    "df = df.drop(columns=['language'])"
   ]
  },
  {
   "cell_type": "markdown",
   "metadata": {},
   "source": [
    "<a id='oum'></a>**`Mentions to Other Users` |** We would like to remove from **`tweets`any mentions to other `usernames` which aren't necessary**. Take a **look at:\n",
    "   * ginny81025554's comment towards @benedictrogers** & **@NOW4humanity** \n",
    "\n",
    "**We don't want those words;** we will now **remove mentions to other users.**"
   ]
  },
  {
   "cell_type": "code",
   "execution_count": 63,
   "metadata": {},
   "outputs": [
    {
     "data": {
      "text/html": [
       "<div>\n",
       "<style scoped>\n",
       "    .dataframe tbody tr th:only-of-type {\n",
       "        vertical-align: middle;\n",
       "    }\n",
       "\n",
       "    .dataframe tbody tr th {\n",
       "        vertical-align: top;\n",
       "    }\n",
       "\n",
       "    .dataframe thead th {\n",
       "        text-align: right;\n",
       "    }\n",
       "</style>\n",
       "<table border=\"1\" class=\"dataframe\">\n",
       "  <thead>\n",
       "    <tr style=\"text-align: right;\">\n",
       "      <th></th>\n",
       "      <th>hash</th>\n",
       "      <th>created_at</th>\n",
       "      <th>username</th>\n",
       "      <th>tweet</th>\n",
       "    </tr>\n",
       "  </thead>\n",
       "  <tbody>\n",
       "    <tr>\n",
       "      <th>0</th>\n",
       "      <td>#FightForHongKong</td>\n",
       "      <td>2020-08-28</td>\n",
       "      <td>ginny81025554</td>\n",
       "      <td>@benedictrogers @NOW4humanity Thanks for speak...</td>\n",
       "    </tr>\n",
       "  </tbody>\n",
       "</table>\n",
       "</div>"
      ],
      "text/plain": [
       "                hash created_at       username  \\\n",
       "0  #FightForHongKong 2020-08-28  ginny81025554   \n",
       "\n",
       "                                               tweet  \n",
       "0  @benedictrogers @NOW4humanity Thanks for speak...  "
      ]
     },
     "execution_count": 63,
     "metadata": {},
     "output_type": "execute_result"
    }
   ],
   "source": [
    "df[['hash', 'created_at', 'username', 'tweet']].head(1)"
   ]
  },
  {
   "cell_type": "code",
   "execution_count": 64,
   "metadata": {},
   "outputs": [],
   "source": [
    "df['tweet'] = df['tweet'].str.replace(\"@[A-Za-z0-9]+\",\"\")"
   ]
  },
  {
   "cell_type": "code",
   "execution_count": 65,
   "metadata": {},
   "outputs": [
    {
     "data": {
      "text/html": [
       "<div>\n",
       "<style scoped>\n",
       "    .dataframe tbody tr th:only-of-type {\n",
       "        vertical-align: middle;\n",
       "    }\n",
       "\n",
       "    .dataframe tbody tr th {\n",
       "        vertical-align: top;\n",
       "    }\n",
       "\n",
       "    .dataframe thead th {\n",
       "        text-align: right;\n",
       "    }\n",
       "</style>\n",
       "<table border=\"1\" class=\"dataframe\">\n",
       "  <thead>\n",
       "    <tr style=\"text-align: right;\">\n",
       "      <th></th>\n",
       "      <th>hash</th>\n",
       "      <th>created_at</th>\n",
       "      <th>username</th>\n",
       "      <th>tweet</th>\n",
       "    </tr>\n",
       "  </thead>\n",
       "  <tbody>\n",
       "    <tr>\n",
       "      <th>0</th>\n",
       "      <td>#FightForHongKong</td>\n",
       "      <td>2020-08-28</td>\n",
       "      <td>ginny81025554</td>\n",
       "      <td>Thanks for speaking up for us #fridaysforfre...</td>\n",
       "    </tr>\n",
       "  </tbody>\n",
       "</table>\n",
       "</div>"
      ],
      "text/plain": [
       "                hash created_at       username  \\\n",
       "0  #FightForHongKong 2020-08-28  ginny81025554   \n",
       "\n",
       "                                               tweet  \n",
       "0    Thanks for speaking up for us #fridaysforfre...  "
      ]
     },
     "execution_count": 65,
     "metadata": {},
     "output_type": "execute_result"
    }
   ],
   "source": [
    "df[['hash', 'created_at', 'username', 'tweet']].head(1)"
   ]
  },
  {
   "cell_type": "markdown",
   "metadata": {},
   "source": [
    "<a id='htmltags'></a>**`html tags` |** The **next items to remove are `html tags`**. Take a look at an example below. "
   ]
  },
  {
   "cell_type": "code",
   "execution_count": 66,
   "metadata": {},
   "outputs": [
    {
     "name": "stdout",
     "output_type": "stream",
     "text": [
      "Finished\n"
     ]
    }
   ],
   "source": [
    "df.to_excel('./_Capstone_Two_NLP/data/_twitter/_dfs_fortheside/df_tweets_wout_dup_en.xlsx')\n",
    "print('Finished')"
   ]
  },
  {
   "cell_type": "code",
   "execution_count": 67,
   "metadata": {},
   "outputs": [
    {
     "data": {
      "text/plain": [
       "'Joshua Wong: ‘Forms of resistance need to be fluid and flexible’ #FightForHongKong #HongKongProtest   https://t.co/COPpnczKp4'"
      ]
     },
     "execution_count": 67,
     "metadata": {},
     "output_type": "execute_result"
    }
   ],
   "source": [
    "df['tweet'][9]"
   ]
  },
  {
   "cell_type": "code",
   "execution_count": 68,
   "metadata": {},
   "outputs": [],
   "source": [
    "df['tweet'] = df['tweet'].str.replace(r'http\\S+', '')"
   ]
  },
  {
   "cell_type": "code",
   "execution_count": 69,
   "metadata": {},
   "outputs": [
    {
     "data": {
      "text/plain": [
       "'Joshua Wong: ‘Forms of resistance need to be fluid and flexible’ #FightForHongKong #HongKongProtest   '"
      ]
     },
     "execution_count": 69,
     "metadata": {},
     "output_type": "execute_result"
    }
   ],
   "source": [
    "df['tweet'][9]"
   ]
  },
  {
   "cell_type": "markdown",
   "metadata": {},
   "source": [
    "<a id='emojis'></a>**Emojis |** Emoji or Emojis are pictograms, logograms, ideograms and smileys used in electronic messages and web pages. **They are relevant & their intentions should be preserved;** two examples shown below;\n",
    "   * One where the emoji is seperated from\n",
    "   * Another where it is not\n",
    "\n",
    "**We would like to ensure that the new `emoji word` is not connected with another word.**"
   ]
  },
  {
   "cell_type": "code",
   "execution_count": 71,
   "metadata": {},
   "outputs": [
    {
     "data": {
      "text/html": [
       "<div>\n",
       "<style scoped>\n",
       "    .dataframe tbody tr th:only-of-type {\n",
       "        vertical-align: middle;\n",
       "    }\n",
       "\n",
       "    .dataframe tbody tr th {\n",
       "        vertical-align: top;\n",
       "    }\n",
       "\n",
       "    .dataframe thead th {\n",
       "        text-align: right;\n",
       "    }\n",
       "</style>\n",
       "<table border=\"1\" class=\"dataframe\">\n",
       "  <thead>\n",
       "    <tr style=\"text-align: right;\">\n",
       "      <th></th>\n",
       "      <th>hash</th>\n",
       "      <th>created_at</th>\n",
       "      <th>username</th>\n",
       "      <th>tweet</th>\n",
       "      <th>replies_count</th>\n",
       "      <th>retweets_count</th>\n",
       "      <th>likes_count</th>\n",
       "      <th>reply_to</th>\n",
       "      <th>hashtags</th>\n",
       "    </tr>\n",
       "  </thead>\n",
       "  <tbody>\n",
       "    <tr>\n",
       "      <th>0</th>\n",
       "      <td>#FightForHongKong</td>\n",
       "      <td>2020-08-28</td>\n",
       "      <td>ginny81025554</td>\n",
       "      <td>Thanks for speaking up for us #fridaysforfre...</td>\n",
       "      <td>0</td>\n",
       "      <td>1</td>\n",
       "      <td>2</td>\n",
       "      <td>[{'screen_name': 'benedictrogers', 'name': 'Be...</td>\n",
       "      <td>['fridaysforfreedom', 'fightforhongkong']</td>\n",
       "    </tr>\n",
       "    <tr>\n",
       "      <th>1</th>\n",
       "      <td>#FightForHongKong</td>\n",
       "      <td>2020-08-25</td>\n",
       "      <td>peterhjorth_ddp</td>\n",
       "      <td>How to stop China in Hong Kong. Read the new r...</td>\n",
       "      <td>0</td>\n",
       "      <td>0</td>\n",
       "      <td>0</td>\n",
       "      <td>[]</td>\n",
       "      <td>['dkpol', 'kina', 'hongkongprotest', 'fightfor...</td>\n",
       "    </tr>\n",
       "    <tr>\n",
       "      <th>2</th>\n",
       "      <td>#FightForHongKong</td>\n",
       "      <td>2020-08-24</td>\n",
       "      <td>peterhjorth_ddp</td>\n",
       "      <td>How to stop China in Hong Kong. Read the new r...</td>\n",
       "      <td>0</td>\n",
       "      <td>0</td>\n",
       "      <td>0</td>\n",
       "      <td>[]</td>\n",
       "      <td>['dkpol', 'kina', 'hongkongprotest', 'fightfor...</td>\n",
       "    </tr>\n",
       "    <tr>\n",
       "      <th>3</th>\n",
       "      <td>#FightForHongKong</td>\n",
       "      <td>2020-08-24</td>\n",
       "      <td>cipopolitik</td>\n",
       "      <td>War or communism?     #HongKongProtest #FightF...</td>\n",
       "      <td>0</td>\n",
       "      <td>0</td>\n",
       "      <td>1</td>\n",
       "      <td>[]</td>\n",
       "      <td>['hongkongprotest', 'fightforhongkong', 'prayf...</td>\n",
       "    </tr>\n",
       "    <tr>\n",
       "      <th>4</th>\n",
       "      <td>#FightForHongKong</td>\n",
       "      <td>2020-08-24</td>\n",
       "      <td>peterhjorth_ddp</td>\n",
       "      <td>How to stop China in Hong Kong. Read the new r...</td>\n",
       "      <td>0</td>\n",
       "      <td>0</td>\n",
       "      <td>0</td>\n",
       "      <td>[]</td>\n",
       "      <td>['dkpol', 'kina', 'hongkongprotest', 'fightfor...</td>\n",
       "    </tr>\n",
       "  </tbody>\n",
       "</table>\n",
       "</div>"
      ],
      "text/plain": [
       "                hash created_at         username  \\\n",
       "0  #FightForHongKong 2020-08-28    ginny81025554   \n",
       "1  #FightForHongKong 2020-08-25  peterhjorth_ddp   \n",
       "2  #FightForHongKong 2020-08-24  peterhjorth_ddp   \n",
       "3  #FightForHongKong 2020-08-24      cipopolitik   \n",
       "4  #FightForHongKong 2020-08-24  peterhjorth_ddp   \n",
       "\n",
       "                                               tweet  replies_count  \\\n",
       "0    Thanks for speaking up for us #fridaysforfre...              0   \n",
       "1  How to stop China in Hong Kong. Read the new r...              0   \n",
       "2  How to stop China in Hong Kong. Read the new r...              0   \n",
       "3  War or communism?     #HongKongProtest #FightF...              0   \n",
       "4  How to stop China in Hong Kong. Read the new r...              0   \n",
       "\n",
       "   retweets_count  likes_count  \\\n",
       "0               1            2   \n",
       "1               0            0   \n",
       "2               0            0   \n",
       "3               0            1   \n",
       "4               0            0   \n",
       "\n",
       "                                            reply_to  \\\n",
       "0  [{'screen_name': 'benedictrogers', 'name': 'Be...   \n",
       "1                                                 []   \n",
       "2                                                 []   \n",
       "3                                                 []   \n",
       "4                                                 []   \n",
       "\n",
       "                                            hashtags  \n",
       "0          ['fridaysforfreedom', 'fightforhongkong']  \n",
       "1  ['dkpol', 'kina', 'hongkongprotest', 'fightfor...  \n",
       "2  ['dkpol', 'kina', 'hongkongprotest', 'fightfor...  \n",
       "3  ['hongkongprotest', 'fightforhongkong', 'prayf...  \n",
       "4  ['dkpol', 'kina', 'hongkongprotest', 'fightfor...  "
      ]
     },
     "execution_count": 71,
     "metadata": {},
     "output_type": "execute_result"
    }
   ],
   "source": [
    "df.head()"
   ]
  },
  {
   "cell_type": "code",
   "execution_count": 72,
   "metadata": {},
   "outputs": [
    {
     "data": {
      "text/plain": [
       "163699"
      ]
     },
     "execution_count": 72,
     "metadata": {},
     "output_type": "execute_result"
    }
   ],
   "source": [
    "len(df)"
   ]
  },
  {
   "cell_type": "markdown",
   "metadata": {},
   "source": [
    "We must first build the required `def` variable to **convert the emojis to text**."
   ]
  },
  {
   "cell_type": "code",
   "execution_count": 75,
   "metadata": {},
   "outputs": [],
   "source": [
    "with open('Emoji_Dict.p', 'rb') as fp:\n",
    "    Emoji_Dict = pickle.load(fp)\n",
    "Emoji_Dict = {v: k for k, v in Emoji_Dict.items()}\n",
    "\n",
    "def convert_emojis_to_word(text):\n",
    "    for emot in Emoji_Dict:\n",
    "        text = re.sub(r'('+emot+')', \" \"+\"_\".join(Emoji_Dict[emot].replace(\",\",\" \").replace(\":\",\" \").split())+\" \", text)\n",
    "    return text"
   ]
  },
  {
   "cell_type": "code",
   "execution_count": 76,
   "metadata": {},
   "outputs": [
    {
     "data": {
      "text/plain": [
       "'Heartbreaking...😭 we have to do whatever we can do to #FightForHongKong  #StandWithHongKong'"
      ]
     },
     "execution_count": 76,
     "metadata": {},
     "output_type": "execute_result"
    }
   ],
   "source": [
    "df.tweet[12]"
   ]
  },
  {
   "cell_type": "code",
   "execution_count": 77,
   "metadata": {},
   "outputs": [],
   "source": [
    "df['tweet'] =  df.tweet.apply(lambda x: convert_emojis_to_word(x))"
   ]
  },
  {
   "cell_type": "code",
   "execution_count": 78,
   "metadata": {},
   "outputs": [
    {
     "data": {
      "text/plain": [
       "'Heartbreaking... loudly_crying_face  we have to do whatever we can do to #FightForHongKong  #StandWithHongKong'"
      ]
     },
     "execution_count": 78,
     "metadata": {},
     "output_type": "execute_result"
    }
   ],
   "source": [
    "df.tweet[12]"
   ]
  },
  {
   "cell_type": "markdown",
   "metadata": {},
   "source": [
    "**Looks like the emoji was converted ( near the end )**"
   ]
  },
  {
   "cell_type": "markdown",
   "metadata": {},
   "source": [
    "<a id='profanity'></a>**Profanity |** The data frame should not contain profanity; **I will replace profanity with the word `NEGATIVE`**. I will not show examples of what was replaced herein for professional reasons."
   ]
  },
  {
   "cell_type": "markdown",
   "metadata": {},
   "source": [
    "Similar to the emoji section, we will first **need to establish a `def variable` to handle profanity.**\n",
    "\n",
    "This **`def variable` will assign a bad word to the word NEGATIVE** to ensure **it holds weight for NLP.**"
   ]
  },
  {
   "cell_type": "code",
   "execution_count": 79,
   "metadata": {},
   "outputs": [],
   "source": [
    "prof_word = 'NEGATIVE'\n",
    "\n",
    "def clean_text(__main__):\n",
    "    if __name__ == \"__main__\":\n",
    "        text = __main__\n",
    "        censor_text = profanity.censor(text, '%')\n",
    "        censor_text = re.sub('%%%%','NEGATIVE',censor_text)\n",
    "        return censor_text"
   ]
  },
  {
   "cell_type": "code",
   "execution_count": 80,
   "metadata": {},
   "outputs": [
    {
     "name": "stdout",
     "output_type": "stream",
     "text": [
      " For transparency purposes, the word NEGATIVE has a length of 8 characters. \n",
      " All profanity words are treated equally, irrespective of their word lengths.\n"
     ]
    }
   ],
   "source": [
    "print(' For transparency purposes, the word',prof_word,'has a length of',len(prof_word),'characters.','\\n'\n",
    "      ' All profanity words are treated equally, irrespective of their word lengths.')"
   ]
  },
  {
   "cell_type": "code",
   "execution_count": 81,
   "metadata": {},
   "outputs": [],
   "source": [
    "df['tweet'] =  df.tweet.apply(lambda x: clean_text(x))"
   ]
  },
  {
   "cell_type": "code",
   "execution_count": 82,
   "metadata": {},
   "outputs": [
    {
     "data": {
      "text/plain": [
       "' CORRUPT AS NEGATIVE - [ ] #PL #PremierLeague #PremierLeagueIsCorrupt #NUFC #NUFCTakeover #Hongkongprotest #Uighurs #budfootball #BudweiserUK #Nike #nikefootball #CarlsbergUK #AveryDennison   #OfficialPanini #CocaCola_GB #CocaCola #barclaysuknews #BarclaysFooty #EA #EASPORTS #TAGHeuer  '"
      ]
     },
     "execution_count": 82,
     "metadata": {},
     "output_type": "execute_result"
    }
   ],
   "source": [
    "df.tweet[58]"
   ]
  },
  {
   "cell_type": "code",
   "execution_count": 83,
   "metadata": {},
   "outputs": [
    {
     "data": {
      "text/html": [
       "<div>\n",
       "<style scoped>\n",
       "    .dataframe tbody tr th:only-of-type {\n",
       "        vertical-align: middle;\n",
       "    }\n",
       "\n",
       "    .dataframe tbody tr th {\n",
       "        vertical-align: top;\n",
       "    }\n",
       "\n",
       "    .dataframe thead th {\n",
       "        text-align: right;\n",
       "    }\n",
       "</style>\n",
       "<table border=\"1\" class=\"dataframe\">\n",
       "  <thead>\n",
       "    <tr style=\"text-align: right;\">\n",
       "      <th></th>\n",
       "      <th>hash</th>\n",
       "      <th>created_at</th>\n",
       "      <th>username</th>\n",
       "      <th>tweet</th>\n",
       "      <th>replies_count</th>\n",
       "      <th>retweets_count</th>\n",
       "      <th>likes_count</th>\n",
       "      <th>reply_to</th>\n",
       "      <th>hashtags</th>\n",
       "    </tr>\n",
       "  </thead>\n",
       "  <tbody>\n",
       "    <tr>\n",
       "      <th>0</th>\n",
       "      <td>#FightForHongKong</td>\n",
       "      <td>2020-08-28</td>\n",
       "      <td>ginny81025554</td>\n",
       "      <td>Thanks for speaking up for us #fridaysforfre...</td>\n",
       "      <td>0</td>\n",
       "      <td>1</td>\n",
       "      <td>2</td>\n",
       "      <td>[{'screen_name': 'benedictrogers', 'name': 'Be...</td>\n",
       "      <td>['fridaysforfreedom', 'fightforhongkong']</td>\n",
       "    </tr>\n",
       "  </tbody>\n",
       "</table>\n",
       "</div>"
      ],
      "text/plain": [
       "                hash created_at       username  \\\n",
       "0  #FightForHongKong 2020-08-28  ginny81025554   \n",
       "\n",
       "                                               tweet  replies_count  \\\n",
       "0    Thanks for speaking up for us #fridaysforfre...              0   \n",
       "\n",
       "   retweets_count  likes_count  \\\n",
       "0               1            2   \n",
       "\n",
       "                                            reply_to  \\\n",
       "0  [{'screen_name': 'benedictrogers', 'name': 'Be...   \n",
       "\n",
       "                                    hashtags  \n",
       "0  ['fridaysforfreedom', 'fightforhongkong']  "
      ]
     },
     "execution_count": 83,
     "metadata": {},
     "output_type": "execute_result"
    }
   ],
   "source": [
    "df.head(1)"
   ]
  },
  {
   "cell_type": "markdown",
   "metadata": {},
   "source": [
    "Worked"
   ]
  },
  {
   "cell_type": "markdown",
   "metadata": {},
   "source": [
    "<a id='flanguage'></a>**Foreign Languages |** Despite limiting our languages to `en`, foreign languages remain; notably Chinese characters. We will translate them to English."
   ]
  },
  {
   "cell_type": "code",
   "execution_count": 1,
   "metadata": {},
   "outputs": [],
   "source": [
    "# import copy\n",
    "# import pandas as pd\n",
    "# from googletrans import Translator\n",
    "# translator=Translator()"
   ]
  },
  {
   "cell_type": "code",
   "execution_count": 85,
   "metadata": {},
   "outputs": [],
   "source": [
    "#df_t = pd.DataFrame(df['tweet'].copy())"
   ]
  },
  {
   "cell_type": "code",
   "execution_count": 86,
   "metadata": {},
   "outputs": [],
   "source": [
    "#type(df_t)"
   ]
  },
  {
   "cell_type": "code",
   "execution_count": 87,
   "metadata": {},
   "outputs": [],
   "source": [
    "#df_t['tweet'] = df_t['tweet'].str.replace('#','')"
   ]
  },
  {
   "cell_type": "code",
   "execution_count": 88,
   "metadata": {},
   "outputs": [],
   "source": [
    "#df_t.tweet.head(1)"
   ]
  },
  {
   "cell_type": "code",
   "execution_count": 89,
   "metadata": {},
   "outputs": [],
   "source": [
    "#df_t.tweet[164]"
   ]
  },
  {
   "cell_type": "code",
   "execution_count": 90,
   "metadata": {},
   "outputs": [],
   "source": [
    "#translatedList = []"
   ]
  },
  {
   "cell_type": "code",
   "execution_count": 91,
   "metadata": {},
   "outputs": [],
   "source": [
    "#for index, row in df_t.iterrows():\n",
    "#    # REINITIALIZE THE API\n",
    "#    newrow = copy.deepcopy(row)\n",
    "#    try:\n",
    "#        # translate the 'text' column\n",
    "#        translated = translator.translate(row['tweet'], dest='en')\n",
    "#        newrow['translated'] = translated.text\n",
    "#    except Exception as e:\n",
    "#        print(str(e))\n",
    "#        continue\n",
    "#    translatedList.append(newrow) # you removed [1] from newrow\n",
    "    \n",
    "    "
   ]
  },
  {
   "cell_type": "code",
   "execution_count": 92,
   "metadata": {
    "scrolled": true
   },
   "outputs": [],
   "source": [
    "#translatedList[164][0]"
   ]
  },
  {
   "cell_type": "code",
   "execution_count": 93,
   "metadata": {},
   "outputs": [],
   "source": [
    "#df_t['tweet'] = df_t['tweet'].apply(translator.translate,src='japanese',dest='en').apply(getattr, args=('text',))"
   ]
  },
  {
   "cell_type": "code",
   "execution_count": 94,
   "metadata": {},
   "outputs": [],
   "source": [
    "#df_t.tweet[164]"
   ]
  },
  {
   "cell_type": "code",
   "execution_count": 95,
   "metadata": {},
   "outputs": [],
   "source": [
    "#single_text2 = 'Hello'\n",
    "#df_single = pd.DataFrame([single_text2])\n",
    "#df_single.columns = ['text']\n",
    "#df_single"
   ]
  },
  {
   "cell_type": "code",
   "execution_count": 96,
   "metadata": {},
   "outputs": [],
   "source": [
    "#df_single['text'] = df_single['text'].apply(translator.translate,src='en',dest='zh-tw').apply(getattr, args=('text',))\n",
    "#df_single"
   ]
  },
  {
   "cell_type": "code",
   "execution_count": 97,
   "metadata": {},
   "outputs": [],
   "source": [
    "# from textblob import TextBlob\n",
    "# hi_blob = TextBlob(u'China_is_terrorist')\n",
    "# hi_blob.detect_language()\n"
   ]
  },
  {
   "cell_type": "code",
   "execution_count": 98,
   "metadata": {},
   "outputs": [],
   "source": [
    "#lang_df = pd.DataFrame.from_dict(googletrans.LANGUAGES,  orient='index', columns=['Language'])\n",
    "#lang_df.head(16)"
   ]
  },
  {
   "cell_type": "code",
   "execution_count": 99,
   "metadata": {},
   "outputs": [],
   "source": [
    "#t_list = pd.DataFrame([translatedList].copy()).T\n",
    "#t_list.columns = ['tweet']"
   ]
  },
  {
   "cell_type": "code",
   "execution_count": 100,
   "metadata": {},
   "outputs": [],
   "source": [
    "#t_list.head(15)"
   ]
  },
  {
   "cell_type": "code",
   "execution_count": 101,
   "metadata": {},
   "outputs": [],
   "source": [
    "# len(t_list.tweet[0])"
   ]
  },
  {
   "cell_type": "code",
   "execution_count": 102,
   "metadata": {},
   "outputs": [],
   "source": [
    "# translatedList[23][1]"
   ]
  },
  {
   "cell_type": "code",
   "execution_count": 103,
   "metadata": {},
   "outputs": [],
   "source": [
    "#df['tweet'][0]"
   ]
  },
  {
   "cell_type": "code",
   "execution_count": 104,
   "metadata": {},
   "outputs": [],
   "source": [
    "# df_temp = pd.DataFrame([translatedList]).T\n",
    "# df_temp.columns = ['transl_tweet']\n",
    "# df_temp.head(3)"
   ]
  },
  {
   "cell_type": "code",
   "execution_count": 105,
   "metadata": {},
   "outputs": [],
   "source": [
    "# df_temp.head(15)"
   ]
  },
  {
   "cell_type": "code",
   "execution_count": 106,
   "metadata": {},
   "outputs": [],
   "source": [
    "# df_temp.to_excel('./_Capstone_Two_NLP/data/_twitter/_dfs_fortheside/df_temp_checking.xlsx')\n",
    "# print('Finished')"
   ]
  },
  {
   "cell_type": "code",
   "execution_count": null,
   "metadata": {},
   "outputs": [],
   "source": []
  },
  {
   "cell_type": "markdown",
   "metadata": {},
   "source": [
    "<a id='sia'></a>**Sentiment Intensity Analyzer |** Here we will score the tweets based the words they used; sometimes call ' opinion mining'."
   ]
  },
  {
   "cell_type": "markdown",
   "metadata": {},
   "source": [
    "We will take a look at Sentiment Analysis in a **the process of ‘computationally’ determining the the percent probabilities of whether a tweet is one of the below**: \n",
    "   * Positive, \n",
    "   * Negative or \n",
    "   * Neutral\n",
    "\n",
    "It’s also known as opinion mining, deriving the opinion or attitude of the \"tweeter\". **The probabilities will add up to 100%.**"
   ]
  },
  {
   "cell_type": "code",
   "execution_count": 110,
   "metadata": {},
   "outputs": [],
   "source": [
    "analyzer = SentimentIntensityAnalyzer()"
   ]
  },
  {
   "cell_type": "code",
   "execution_count": 111,
   "metadata": {},
   "outputs": [
    {
     "data": {
      "text/html": [
       "<div>\n",
       "<style scoped>\n",
       "    .dataframe tbody tr th:only-of-type {\n",
       "        vertical-align: middle;\n",
       "    }\n",
       "\n",
       "    .dataframe tbody tr th {\n",
       "        vertical-align: top;\n",
       "    }\n",
       "\n",
       "    .dataframe thead th {\n",
       "        text-align: right;\n",
       "    }\n",
       "</style>\n",
       "<table border=\"1\" class=\"dataframe\">\n",
       "  <thead>\n",
       "    <tr style=\"text-align: right;\">\n",
       "      <th></th>\n",
       "      <th>hash</th>\n",
       "      <th>created_at</th>\n",
       "      <th>username</th>\n",
       "      <th>tweet</th>\n",
       "      <th>replies_count</th>\n",
       "      <th>retweets_count</th>\n",
       "      <th>likes_count</th>\n",
       "      <th>reply_to</th>\n",
       "      <th>hashtags</th>\n",
       "    </tr>\n",
       "  </thead>\n",
       "  <tbody>\n",
       "    <tr>\n",
       "      <th>0</th>\n",
       "      <td>#FightForHongKong</td>\n",
       "      <td>2020-08-28</td>\n",
       "      <td>ginny81025554</td>\n",
       "      <td>Thanks for speaking up for us #fridaysforfre...</td>\n",
       "      <td>0</td>\n",
       "      <td>1</td>\n",
       "      <td>2</td>\n",
       "      <td>[{'screen_name': 'benedictrogers', 'name': 'Be...</td>\n",
       "      <td>['fridaysforfreedom', 'fightforhongkong']</td>\n",
       "    </tr>\n",
       "    <tr>\n",
       "      <th>1</th>\n",
       "      <td>#FightForHongKong</td>\n",
       "      <td>2020-08-25</td>\n",
       "      <td>peterhjorth_ddp</td>\n",
       "      <td>How to stop China in Hong Kong. Read the new r...</td>\n",
       "      <td>0</td>\n",
       "      <td>0</td>\n",
       "      <td>0</td>\n",
       "      <td>[]</td>\n",
       "      <td>['dkpol', 'kina', 'hongkongprotest', 'fightfor...</td>\n",
       "    </tr>\n",
       "    <tr>\n",
       "      <th>2</th>\n",
       "      <td>#FightForHongKong</td>\n",
       "      <td>2020-08-24</td>\n",
       "      <td>peterhjorth_ddp</td>\n",
       "      <td>How to stop China in Hong Kong. Read the new r...</td>\n",
       "      <td>0</td>\n",
       "      <td>0</td>\n",
       "      <td>0</td>\n",
       "      <td>[]</td>\n",
       "      <td>['dkpol', 'kina', 'hongkongprotest', 'fightfor...</td>\n",
       "    </tr>\n",
       "    <tr>\n",
       "      <th>3</th>\n",
       "      <td>#FightForHongKong</td>\n",
       "      <td>2020-08-24</td>\n",
       "      <td>cipopolitik</td>\n",
       "      <td>War or communism?     #HongKongProtest #FightF...</td>\n",
       "      <td>0</td>\n",
       "      <td>0</td>\n",
       "      <td>1</td>\n",
       "      <td>[]</td>\n",
       "      <td>['hongkongprotest', 'fightforhongkong', 'prayf...</td>\n",
       "    </tr>\n",
       "    <tr>\n",
       "      <th>4</th>\n",
       "      <td>#FightForHongKong</td>\n",
       "      <td>2020-08-24</td>\n",
       "      <td>peterhjorth_ddp</td>\n",
       "      <td>How to stop China in Hong Kong. Read the new r...</td>\n",
       "      <td>0</td>\n",
       "      <td>0</td>\n",
       "      <td>0</td>\n",
       "      <td>[]</td>\n",
       "      <td>['dkpol', 'kina', 'hongkongprotest', 'fightfor...</td>\n",
       "    </tr>\n",
       "  </tbody>\n",
       "</table>\n",
       "</div>"
      ],
      "text/plain": [
       "                hash created_at         username  \\\n",
       "0  #FightForHongKong 2020-08-28    ginny81025554   \n",
       "1  #FightForHongKong 2020-08-25  peterhjorth_ddp   \n",
       "2  #FightForHongKong 2020-08-24  peterhjorth_ddp   \n",
       "3  #FightForHongKong 2020-08-24      cipopolitik   \n",
       "4  #FightForHongKong 2020-08-24  peterhjorth_ddp   \n",
       "\n",
       "                                               tweet  replies_count  \\\n",
       "0    Thanks for speaking up for us #fridaysforfre...              0   \n",
       "1  How to stop China in Hong Kong. Read the new r...              0   \n",
       "2  How to stop China in Hong Kong. Read the new r...              0   \n",
       "3  War or communism?     #HongKongProtest #FightF...              0   \n",
       "4  How to stop China in Hong Kong. Read the new r...              0   \n",
       "\n",
       "   retweets_count  likes_count  \\\n",
       "0               1            2   \n",
       "1               0            0   \n",
       "2               0            0   \n",
       "3               0            1   \n",
       "4               0            0   \n",
       "\n",
       "                                            reply_to  \\\n",
       "0  [{'screen_name': 'benedictrogers', 'name': 'Be...   \n",
       "1                                                 []   \n",
       "2                                                 []   \n",
       "3                                                 []   \n",
       "4                                                 []   \n",
       "\n",
       "                                            hashtags  \n",
       "0          ['fridaysforfreedom', 'fightforhongkong']  \n",
       "1  ['dkpol', 'kina', 'hongkongprotest', 'fightfor...  \n",
       "2  ['dkpol', 'kina', 'hongkongprotest', 'fightfor...  \n",
       "3  ['hongkongprotest', 'fightforhongkong', 'prayf...  \n",
       "4  ['dkpol', 'kina', 'hongkongprotest', 'fightfor...  "
      ]
     },
     "execution_count": 111,
     "metadata": {},
     "output_type": "execute_result"
    }
   ],
   "source": [
    "df.head()"
   ]
  },
  {
   "cell_type": "code",
   "execution_count": 112,
   "metadata": {},
   "outputs": [
    {
     "data": {
      "text/plain": [
       "163699"
      ]
     },
     "execution_count": 112,
     "metadata": {},
     "output_type": "execute_result"
    }
   ],
   "source": [
    "len(df)"
   ]
  },
  {
   "cell_type": "code",
   "execution_count": 113,
   "metadata": {},
   "outputs": [
    {
     "data": {
      "text/plain": [
       "0           Thanks for speaking up for us #fridaysforfre...\n",
       "1         How to stop China in Hong Kong. Read the new r...\n",
       "2         How to stop China in Hong Kong. Read the new r...\n",
       "3         War or communism?     #HongKongProtest #FightF...\n",
       "4         How to stop China in Hong Kong. Read the new r...\n",
       "                                ...                        \n",
       "163694     Some more evidences,  please share and let mo...\n",
       "163695     do you also stand with Hongkongers ? #HKPolic...\n",
       "163696    Don't fall into the trap! #HKPoliceTerrorism #...\n",
       "163697      The HK police killed a South Asian  with the...\n",
       "163698     China try hard to link up the #Minnesotariots...\n",
       "Name: tweet, Length: 163699, dtype: object"
      ]
     },
     "execution_count": 113,
     "metadata": {},
     "output_type": "execute_result"
    }
   ],
   "source": [
    "df.tweet"
   ]
  },
  {
   "cell_type": "code",
   "execution_count": 114,
   "metadata": {},
   "outputs": [
    {
     "data": {
      "text/plain": [
       "Index(['hash', 'created_at', 'username', 'tweet', 'replies_count',\n",
       "       'retweets_count', 'likes_count', 'reply_to', 'hashtags'],\n",
       "      dtype='object')"
      ]
     },
     "execution_count": 114,
     "metadata": {},
     "output_type": "execute_result"
    }
   ],
   "source": [
    "df.columns"
   ]
  },
  {
   "cell_type": "code",
   "execution_count": 115,
   "metadata": {},
   "outputs": [
    {
     "data": {
      "text/html": [
       "<div>\n",
       "<style scoped>\n",
       "    .dataframe tbody tr th:only-of-type {\n",
       "        vertical-align: middle;\n",
       "    }\n",
       "\n",
       "    .dataframe tbody tr th {\n",
       "        vertical-align: top;\n",
       "    }\n",
       "\n",
       "    .dataframe thead th {\n",
       "        text-align: right;\n",
       "    }\n",
       "</style>\n",
       "<table border=\"1\" class=\"dataframe\">\n",
       "  <thead>\n",
       "    <tr style=\"text-align: right;\">\n",
       "      <th></th>\n",
       "      <th>hash</th>\n",
       "      <th>created_at</th>\n",
       "      <th>username</th>\n",
       "      <th>tweet</th>\n",
       "      <th>replies_count</th>\n",
       "      <th>retweets_count</th>\n",
       "      <th>likes_count</th>\n",
       "      <th>reply_to</th>\n",
       "      <th>hashtags</th>\n",
       "    </tr>\n",
       "  </thead>\n",
       "  <tbody>\n",
       "    <tr>\n",
       "      <th>0</th>\n",
       "      <td>#FightForHongKong</td>\n",
       "      <td>2020-08-28</td>\n",
       "      <td>ginny81025554</td>\n",
       "      <td>Thanks for speaking up for us #fridaysforfre...</td>\n",
       "      <td>0</td>\n",
       "      <td>1</td>\n",
       "      <td>2</td>\n",
       "      <td>[{'screen_name': 'benedictrogers', 'name': 'Be...</td>\n",
       "      <td>['fridaysforfreedom', 'fightforhongkong']</td>\n",
       "    </tr>\n",
       "    <tr>\n",
       "      <th>1</th>\n",
       "      <td>#FightForHongKong</td>\n",
       "      <td>2020-08-25</td>\n",
       "      <td>peterhjorth_ddp</td>\n",
       "      <td>How to stop China in Hong Kong. Read the new r...</td>\n",
       "      <td>0</td>\n",
       "      <td>0</td>\n",
       "      <td>0</td>\n",
       "      <td>[]</td>\n",
       "      <td>['dkpol', 'kina', 'hongkongprotest', 'fightfor...</td>\n",
       "    </tr>\n",
       "    <tr>\n",
       "      <th>2</th>\n",
       "      <td>#FightForHongKong</td>\n",
       "      <td>2020-08-24</td>\n",
       "      <td>peterhjorth_ddp</td>\n",
       "      <td>How to stop China in Hong Kong. Read the new r...</td>\n",
       "      <td>0</td>\n",
       "      <td>0</td>\n",
       "      <td>0</td>\n",
       "      <td>[]</td>\n",
       "      <td>['dkpol', 'kina', 'hongkongprotest', 'fightfor...</td>\n",
       "    </tr>\n",
       "  </tbody>\n",
       "</table>\n",
       "</div>"
      ],
      "text/plain": [
       "                hash created_at         username  \\\n",
       "0  #FightForHongKong 2020-08-28    ginny81025554   \n",
       "1  #FightForHongKong 2020-08-25  peterhjorth_ddp   \n",
       "2  #FightForHongKong 2020-08-24  peterhjorth_ddp   \n",
       "\n",
       "                                               tweet  replies_count  \\\n",
       "0    Thanks for speaking up for us #fridaysforfre...              0   \n",
       "1  How to stop China in Hong Kong. Read the new r...              0   \n",
       "2  How to stop China in Hong Kong. Read the new r...              0   \n",
       "\n",
       "   retweets_count  likes_count  \\\n",
       "0               1            2   \n",
       "1               0            0   \n",
       "2               0            0   \n",
       "\n",
       "                                            reply_to  \\\n",
       "0  [{'screen_name': 'benedictrogers', 'name': 'Be...   \n",
       "1                                                 []   \n",
       "2                                                 []   \n",
       "\n",
       "                                            hashtags  \n",
       "0          ['fridaysforfreedom', 'fightforhongkong']  \n",
       "1  ['dkpol', 'kina', 'hongkongprotest', 'fightfor...  \n",
       "2  ['dkpol', 'kina', 'hongkongprotest', 'fightfor...  "
      ]
     },
     "execution_count": 115,
     "metadata": {},
     "output_type": "execute_result"
    }
   ],
   "source": [
    "df.head(3)"
   ]
  },
  {
   "cell_type": "code",
   "execution_count": 116,
   "metadata": {},
   "outputs": [],
   "source": [
    "#We will assign the tweets to a new dataframe & then put it back to the main one at the end\n",
    "df_sentiment_tweet = pd.DataFrame(df['tweet'].copy())\n",
    "df_sentiment_tweet['comp'] = [analyzer.polarity_scores(x)['compound'] for x in df_sentiment_tweet['tweet']]\n",
    "df_sentiment_tweet['neg'] = [analyzer.polarity_scores(x)['neg'] for x in df_sentiment_tweet['tweet']]\n",
    "df_sentiment_tweet['neu'] = [analyzer.polarity_scores(x)['neu'] for x in df_sentiment_tweet['tweet']]\n",
    "df_sentiment_tweet['pos'] = [analyzer.polarity_scores(x)['pos'] for x in df_sentiment_tweet['tweet']]"
   ]
  },
  {
   "cell_type": "code",
   "execution_count": 117,
   "metadata": {},
   "outputs": [
    {
     "data": {
      "text/plain": [
       "pandas.core.frame.DataFrame"
      ]
     },
     "execution_count": 117,
     "metadata": {},
     "output_type": "execute_result"
    }
   ],
   "source": [
    "type(df_sentiment_tweet)"
   ]
  },
  {
   "cell_type": "code",
   "execution_count": 118,
   "metadata": {},
   "outputs": [
    {
     "data": {
      "text/html": [
       "<div>\n",
       "<style scoped>\n",
       "    .dataframe tbody tr th:only-of-type {\n",
       "        vertical-align: middle;\n",
       "    }\n",
       "\n",
       "    .dataframe tbody tr th {\n",
       "        vertical-align: top;\n",
       "    }\n",
       "\n",
       "    .dataframe thead th {\n",
       "        text-align: right;\n",
       "    }\n",
       "</style>\n",
       "<table border=\"1\" class=\"dataframe\">\n",
       "  <thead>\n",
       "    <tr style=\"text-align: right;\">\n",
       "      <th></th>\n",
       "      <th>tweet</th>\n",
       "      <th>comp</th>\n",
       "      <th>neg</th>\n",
       "      <th>neu</th>\n",
       "      <th>pos</th>\n",
       "    </tr>\n",
       "  </thead>\n",
       "  <tbody>\n",
       "    <tr>\n",
       "      <th>0</th>\n",
       "      <td>Thanks for speaking up for us #fridaysforfre...</td>\n",
       "      <td>0.4404</td>\n",
       "      <td>0.000</td>\n",
       "      <td>0.707</td>\n",
       "      <td>0.293</td>\n",
       "    </tr>\n",
       "    <tr>\n",
       "      <th>1</th>\n",
       "      <td>How to stop China in Hong Kong. Read the new r...</td>\n",
       "      <td>-0.2960</td>\n",
       "      <td>0.071</td>\n",
       "      <td>0.929</td>\n",
       "      <td>0.000</td>\n",
       "    </tr>\n",
       "  </tbody>\n",
       "</table>\n",
       "</div>"
      ],
      "text/plain": [
       "                                               tweet    comp    neg    neu  \\\n",
       "0    Thanks for speaking up for us #fridaysforfre...  0.4404  0.000  0.707   \n",
       "1  How to stop China in Hong Kong. Read the new r... -0.2960  0.071  0.929   \n",
       "\n",
       "     pos  \n",
       "0  0.293  \n",
       "1  0.000  "
      ]
     },
     "execution_count": 118,
     "metadata": {},
     "output_type": "execute_result"
    }
   ],
   "source": [
    "df_sentiment_tweet.head(2)"
   ]
  },
  {
   "cell_type": "code",
   "execution_count": 119,
   "metadata": {},
   "outputs": [
    {
     "data": {
      "text/html": [
       "<div>\n",
       "<style scoped>\n",
       "    .dataframe tbody tr th:only-of-type {\n",
       "        vertical-align: middle;\n",
       "    }\n",
       "\n",
       "    .dataframe tbody tr th {\n",
       "        vertical-align: top;\n",
       "    }\n",
       "\n",
       "    .dataframe thead th {\n",
       "        text-align: right;\n",
       "    }\n",
       "</style>\n",
       "<table border=\"1\" class=\"dataframe\">\n",
       "  <thead>\n",
       "    <tr style=\"text-align: right;\">\n",
       "      <th></th>\n",
       "      <th>comp</th>\n",
       "      <th>neg</th>\n",
       "      <th>neu</th>\n",
       "      <th>pos</th>\n",
       "    </tr>\n",
       "  </thead>\n",
       "  <tbody>\n",
       "    <tr>\n",
       "      <th>count</th>\n",
       "      <td>163699.000000</td>\n",
       "      <td>163699.000000</td>\n",
       "      <td>163699.000000</td>\n",
       "      <td>163699.000000</td>\n",
       "    </tr>\n",
       "    <tr>\n",
       "      <th>mean</th>\n",
       "      <td>0.095108</td>\n",
       "      <td>0.102678</td>\n",
       "      <td>0.728057</td>\n",
       "      <td>0.169265</td>\n",
       "    </tr>\n",
       "    <tr>\n",
       "      <th>std</th>\n",
       "      <td>0.534434</td>\n",
       "      <td>0.124905</td>\n",
       "      <td>0.164872</td>\n",
       "      <td>0.161290</td>\n",
       "    </tr>\n",
       "    <tr>\n",
       "      <th>min</th>\n",
       "      <td>-0.990100</td>\n",
       "      <td>0.000000</td>\n",
       "      <td>0.078000</td>\n",
       "      <td>0.000000</td>\n",
       "    </tr>\n",
       "    <tr>\n",
       "      <th>25%</th>\n",
       "      <td>-0.361200</td>\n",
       "      <td>0.000000</td>\n",
       "      <td>0.616000</td>\n",
       "      <td>0.000000</td>\n",
       "    </tr>\n",
       "    <tr>\n",
       "      <th>50%</th>\n",
       "      <td>0.077200</td>\n",
       "      <td>0.065000</td>\n",
       "      <td>0.725000</td>\n",
       "      <td>0.144000</td>\n",
       "    </tr>\n",
       "    <tr>\n",
       "      <th>75%</th>\n",
       "      <td>0.539900</td>\n",
       "      <td>0.179000</td>\n",
       "      <td>0.835000</td>\n",
       "      <td>0.270000</td>\n",
       "    </tr>\n",
       "    <tr>\n",
       "      <th>max</th>\n",
       "      <td>0.998900</td>\n",
       "      <td>0.897000</td>\n",
       "      <td>1.000000</td>\n",
       "      <td>0.922000</td>\n",
       "    </tr>\n",
       "  </tbody>\n",
       "</table>\n",
       "</div>"
      ],
      "text/plain": [
       "                comp            neg            neu            pos\n",
       "count  163699.000000  163699.000000  163699.000000  163699.000000\n",
       "mean        0.095108       0.102678       0.728057       0.169265\n",
       "std         0.534434       0.124905       0.164872       0.161290\n",
       "min        -0.990100       0.000000       0.078000       0.000000\n",
       "25%        -0.361200       0.000000       0.616000       0.000000\n",
       "50%         0.077200       0.065000       0.725000       0.144000\n",
       "75%         0.539900       0.179000       0.835000       0.270000\n",
       "max         0.998900       0.897000       1.000000       0.922000"
      ]
     },
     "execution_count": 119,
     "metadata": {},
     "output_type": "execute_result"
    }
   ],
   "source": [
    "df_sentiment_tweet.describe()"
   ]
  },
  {
   "cell_type": "code",
   "execution_count": 120,
   "metadata": {},
   "outputs": [],
   "source": [
    "df_sentiment_tweet = df_sentiment_tweet.drop(columns=['tweet'])"
   ]
  },
  {
   "cell_type": "code",
   "execution_count": 121,
   "metadata": {},
   "outputs": [
    {
     "data": {
      "text/html": [
       "<div>\n",
       "<style scoped>\n",
       "    .dataframe tbody tr th:only-of-type {\n",
       "        vertical-align: middle;\n",
       "    }\n",
       "\n",
       "    .dataframe tbody tr th {\n",
       "        vertical-align: top;\n",
       "    }\n",
       "\n",
       "    .dataframe thead th {\n",
       "        text-align: right;\n",
       "    }\n",
       "</style>\n",
       "<table border=\"1\" class=\"dataframe\">\n",
       "  <thead>\n",
       "    <tr style=\"text-align: right;\">\n",
       "      <th></th>\n",
       "      <th>comp</th>\n",
       "      <th>neg</th>\n",
       "      <th>neu</th>\n",
       "      <th>pos</th>\n",
       "    </tr>\n",
       "  </thead>\n",
       "  <tbody>\n",
       "    <tr>\n",
       "      <th>0</th>\n",
       "      <td>0.4404</td>\n",
       "      <td>0.0</td>\n",
       "      <td>0.707</td>\n",
       "      <td>0.293</td>\n",
       "    </tr>\n",
       "  </tbody>\n",
       "</table>\n",
       "</div>"
      ],
      "text/plain": [
       "     comp  neg    neu    pos\n",
       "0  0.4404  0.0  0.707  0.293"
      ]
     },
     "execution_count": 121,
     "metadata": {},
     "output_type": "execute_result"
    }
   ],
   "source": [
    "df_sentiment_tweet.head(1)"
   ]
  },
  {
   "cell_type": "code",
   "execution_count": 122,
   "metadata": {},
   "outputs": [],
   "source": [
    "df = pd.concat([df, df_sentiment_tweet], axis=1)\n",
    "# df = df.drop(columns = ['key_0'], axis=1)"
   ]
  },
  {
   "cell_type": "code",
   "execution_count": 123,
   "metadata": {},
   "outputs": [
    {
     "data": {
      "text/html": [
       "<div>\n",
       "<style scoped>\n",
       "    .dataframe tbody tr th:only-of-type {\n",
       "        vertical-align: middle;\n",
       "    }\n",
       "\n",
       "    .dataframe tbody tr th {\n",
       "        vertical-align: top;\n",
       "    }\n",
       "\n",
       "    .dataframe thead th {\n",
       "        text-align: right;\n",
       "    }\n",
       "</style>\n",
       "<table border=\"1\" class=\"dataframe\">\n",
       "  <thead>\n",
       "    <tr style=\"text-align: right;\">\n",
       "      <th></th>\n",
       "      <th>hash</th>\n",
       "      <th>created_at</th>\n",
       "      <th>username</th>\n",
       "      <th>tweet</th>\n",
       "      <th>replies_count</th>\n",
       "      <th>retweets_count</th>\n",
       "      <th>likes_count</th>\n",
       "      <th>reply_to</th>\n",
       "      <th>hashtags</th>\n",
       "      <th>comp</th>\n",
       "      <th>neg</th>\n",
       "      <th>neu</th>\n",
       "      <th>pos</th>\n",
       "    </tr>\n",
       "  </thead>\n",
       "  <tbody>\n",
       "    <tr>\n",
       "      <th>0</th>\n",
       "      <td>#FightForHongKong</td>\n",
       "      <td>2020-08-28</td>\n",
       "      <td>ginny81025554</td>\n",
       "      <td>Thanks for speaking up for us #fridaysforfre...</td>\n",
       "      <td>0</td>\n",
       "      <td>1</td>\n",
       "      <td>2</td>\n",
       "      <td>[{'screen_name': 'benedictrogers', 'name': 'Be...</td>\n",
       "      <td>['fridaysforfreedom', 'fightforhongkong']</td>\n",
       "      <td>0.4404</td>\n",
       "      <td>0.000</td>\n",
       "      <td>0.707</td>\n",
       "      <td>0.293</td>\n",
       "    </tr>\n",
       "    <tr>\n",
       "      <th>1</th>\n",
       "      <td>#FightForHongKong</td>\n",
       "      <td>2020-08-25</td>\n",
       "      <td>peterhjorth_ddp</td>\n",
       "      <td>How to stop China in Hong Kong. Read the new r...</td>\n",
       "      <td>0</td>\n",
       "      <td>0</td>\n",
       "      <td>0</td>\n",
       "      <td>[]</td>\n",
       "      <td>['dkpol', 'kina', 'hongkongprotest', 'fightfor...</td>\n",
       "      <td>-0.2960</td>\n",
       "      <td>0.071</td>\n",
       "      <td>0.929</td>\n",
       "      <td>0.000</td>\n",
       "    </tr>\n",
       "  </tbody>\n",
       "</table>\n",
       "</div>"
      ],
      "text/plain": [
       "                hash created_at         username  \\\n",
       "0  #FightForHongKong 2020-08-28    ginny81025554   \n",
       "1  #FightForHongKong 2020-08-25  peterhjorth_ddp   \n",
       "\n",
       "                                               tweet  replies_count  \\\n",
       "0    Thanks for speaking up for us #fridaysforfre...              0   \n",
       "1  How to stop China in Hong Kong. Read the new r...              0   \n",
       "\n",
       "   retweets_count  likes_count  \\\n",
       "0               1            2   \n",
       "1               0            0   \n",
       "\n",
       "                                            reply_to  \\\n",
       "0  [{'screen_name': 'benedictrogers', 'name': 'Be...   \n",
       "1                                                 []   \n",
       "\n",
       "                                            hashtags    comp    neg    neu  \\\n",
       "0          ['fridaysforfreedom', 'fightforhongkong']  0.4404  0.000  0.707   \n",
       "1  ['dkpol', 'kina', 'hongkongprotest', 'fightfor... -0.2960  0.071  0.929   \n",
       "\n",
       "     pos  \n",
       "0  0.293  \n",
       "1  0.000  "
      ]
     },
     "execution_count": 123,
     "metadata": {},
     "output_type": "execute_result"
    }
   ],
   "source": [
    "df.head(2)"
   ]
  },
  {
   "cell_type": "code",
   "execution_count": 124,
   "metadata": {},
   "outputs": [
    {
     "data": {
      "text/plain": [
       "(163699, 13)"
      ]
     },
     "execution_count": 124,
     "metadata": {},
     "output_type": "execute_result"
    }
   ],
   "source": [
    "df.shape"
   ]
  },
  {
   "cell_type": "markdown",
   "metadata": {},
   "source": [
    "Complete."
   ]
  },
  {
   "cell_type": "markdown",
   "metadata": {},
   "source": [
    "<a id='stop_words'></a>**Stop Words |** We will now remove stop words from the tweet."
   ]
  },
  {
   "cell_type": "code",
   "execution_count": 125,
   "metadata": {
    "scrolled": true
   },
   "outputs": [
    {
     "data": {
      "text/html": [
       "<div>\n",
       "<style scoped>\n",
       "    .dataframe tbody tr th:only-of-type {\n",
       "        vertical-align: middle;\n",
       "    }\n",
       "\n",
       "    .dataframe tbody tr th {\n",
       "        vertical-align: top;\n",
       "    }\n",
       "\n",
       "    .dataframe thead th {\n",
       "        text-align: right;\n",
       "    }\n",
       "</style>\n",
       "<table border=\"1\" class=\"dataframe\">\n",
       "  <thead>\n",
       "    <tr style=\"text-align: right;\">\n",
       "      <th></th>\n",
       "      <th>tweet</th>\n",
       "    </tr>\n",
       "  </thead>\n",
       "  <tbody>\n",
       "    <tr>\n",
       "      <th>0</th>\n",
       "      <td>Thanks for speaking up for us #fridaysforfre...</td>\n",
       "    </tr>\n",
       "    <tr>\n",
       "      <th>1</th>\n",
       "      <td>How to stop China in Hong Kong. Read the new r...</td>\n",
       "    </tr>\n",
       "  </tbody>\n",
       "</table>\n",
       "</div>"
      ],
      "text/plain": [
       "                                               tweet\n",
       "0    Thanks for speaking up for us #fridaysforfre...\n",
       "1  How to stop China in Hong Kong. Read the new r..."
      ]
     },
     "execution_count": 125,
     "metadata": {},
     "output_type": "execute_result"
    }
   ],
   "source": [
    "# here we will assign a new dataframe to pull out stop words & then reassign it back at the end.\n",
    "df_tweet_stopwords_remove = pd.DataFrame(df['tweet'])\n",
    "df_tweet_stopwords_remove.head(2)"
   ]
  },
  {
   "cell_type": "code",
   "execution_count": 126,
   "metadata": {},
   "outputs": [
    {
     "data": {
      "text/html": [
       "<div>\n",
       "<style scoped>\n",
       "    .dataframe tbody tr th:only-of-type {\n",
       "        vertical-align: middle;\n",
       "    }\n",
       "\n",
       "    .dataframe tbody tr th {\n",
       "        vertical-align: top;\n",
       "    }\n",
       "\n",
       "    .dataframe thead th {\n",
       "        text-align: right;\n",
       "    }\n",
       "</style>\n",
       "<table border=\"1\" class=\"dataframe\">\n",
       "  <thead>\n",
       "    <tr style=\"text-align: right;\">\n",
       "      <th></th>\n",
       "      <th>tweet</th>\n",
       "    </tr>\n",
       "  </thead>\n",
       "  <tbody>\n",
       "    <tr>\n",
       "      <th>0</th>\n",
       "      <td>Thanks speaking us #fridaysforfreedom #fightfo...</td>\n",
       "    </tr>\n",
       "    <tr>\n",
       "      <th>1</th>\n",
       "      <td>How stop China Hong Kong. Read new report Dani...</td>\n",
       "    </tr>\n",
       "  </tbody>\n",
       "</table>\n",
       "</div>"
      ],
      "text/plain": [
       "                                               tweet\n",
       "0  Thanks speaking us #fridaysforfreedom #fightfo...\n",
       "1  How stop China Hong Kong. Read new report Dani..."
      ]
     },
     "execution_count": 126,
     "metadata": {},
     "output_type": "execute_result"
    }
   ],
   "source": [
    "df_tweet_stopwords_remove = df_tweet_stopwords_remove['tweet'].apply(lambda x: ' '.join([word for word in x.split() if word not in (stop)]))\n",
    "df_tweet_stopwords_remove = pd.DataFrame(df_tweet_stopwords_remove)\n",
    "df_tweet_stopwords_remove.head(2)"
   ]
  },
  {
   "cell_type": "markdown",
   "metadata": {},
   "source": [
    "**Looks like it worked** comparing the dataframe above to the dataframe prior to `stop word` removal.\n",
    "\n",
    "Now to push back to the main dataframe."
   ]
  },
  {
   "cell_type": "code",
   "execution_count": 127,
   "metadata": {},
   "outputs": [],
   "source": [
    "df.tweet = df_tweet_stopwords_remove.tweet"
   ]
  },
  {
   "cell_type": "code",
   "execution_count": 128,
   "metadata": {},
   "outputs": [
    {
     "data": {
      "text/html": [
       "<div>\n",
       "<style scoped>\n",
       "    .dataframe tbody tr th:only-of-type {\n",
       "        vertical-align: middle;\n",
       "    }\n",
       "\n",
       "    .dataframe tbody tr th {\n",
       "        vertical-align: top;\n",
       "    }\n",
       "\n",
       "    .dataframe thead th {\n",
       "        text-align: right;\n",
       "    }\n",
       "</style>\n",
       "<table border=\"1\" class=\"dataframe\">\n",
       "  <thead>\n",
       "    <tr style=\"text-align: right;\">\n",
       "      <th></th>\n",
       "      <th>hash</th>\n",
       "      <th>created_at</th>\n",
       "      <th>username</th>\n",
       "      <th>tweet</th>\n",
       "      <th>replies_count</th>\n",
       "      <th>retweets_count</th>\n",
       "      <th>likes_count</th>\n",
       "      <th>reply_to</th>\n",
       "      <th>hashtags</th>\n",
       "      <th>comp</th>\n",
       "      <th>neg</th>\n",
       "      <th>neu</th>\n",
       "      <th>pos</th>\n",
       "    </tr>\n",
       "  </thead>\n",
       "  <tbody>\n",
       "    <tr>\n",
       "      <th>0</th>\n",
       "      <td>#FightForHongKong</td>\n",
       "      <td>2020-08-28</td>\n",
       "      <td>ginny81025554</td>\n",
       "      <td>Thanks speaking us #fridaysforfreedom #fightfo...</td>\n",
       "      <td>0</td>\n",
       "      <td>1</td>\n",
       "      <td>2</td>\n",
       "      <td>[{'screen_name': 'benedictrogers', 'name': 'Be...</td>\n",
       "      <td>['fridaysforfreedom', 'fightforhongkong']</td>\n",
       "      <td>0.4404</td>\n",
       "      <td>0.000</td>\n",
       "      <td>0.707</td>\n",
       "      <td>0.293</td>\n",
       "    </tr>\n",
       "    <tr>\n",
       "      <th>1</th>\n",
       "      <td>#FightForHongKong</td>\n",
       "      <td>2020-08-25</td>\n",
       "      <td>peterhjorth_ddp</td>\n",
       "      <td>How stop China Hong Kong. Read new report Dani...</td>\n",
       "      <td>0</td>\n",
       "      <td>0</td>\n",
       "      <td>0</td>\n",
       "      <td>[]</td>\n",
       "      <td>['dkpol', 'kina', 'hongkongprotest', 'fightfor...</td>\n",
       "      <td>-0.2960</td>\n",
       "      <td>0.071</td>\n",
       "      <td>0.929</td>\n",
       "      <td>0.000</td>\n",
       "    </tr>\n",
       "  </tbody>\n",
       "</table>\n",
       "</div>"
      ],
      "text/plain": [
       "                hash created_at         username  \\\n",
       "0  #FightForHongKong 2020-08-28    ginny81025554   \n",
       "1  #FightForHongKong 2020-08-25  peterhjorth_ddp   \n",
       "\n",
       "                                               tweet  replies_count  \\\n",
       "0  Thanks speaking us #fridaysforfreedom #fightfo...              0   \n",
       "1  How stop China Hong Kong. Read new report Dani...              0   \n",
       "\n",
       "   retweets_count  likes_count  \\\n",
       "0               1            2   \n",
       "1               0            0   \n",
       "\n",
       "                                            reply_to  \\\n",
       "0  [{'screen_name': 'benedictrogers', 'name': 'Be...   \n",
       "1                                                 []   \n",
       "\n",
       "                                            hashtags    comp    neg    neu  \\\n",
       "0          ['fridaysforfreedom', 'fightforhongkong']  0.4404  0.000  0.707   \n",
       "1  ['dkpol', 'kina', 'hongkongprotest', 'fightfor... -0.2960  0.071  0.929   \n",
       "\n",
       "     pos  \n",
       "0  0.293  \n",
       "1  0.000  "
      ]
     },
     "execution_count": 128,
     "metadata": {},
     "output_type": "execute_result"
    }
   ],
   "source": [
    "df.head(2)"
   ]
  },
  {
   "cell_type": "code",
   "execution_count": 129,
   "metadata": {},
   "outputs": [
    {
     "data": {
      "text/plain": [
       "'Thanks speaking us #fridaysforfreedom #fightforhongkong'"
      ]
     },
     "execution_count": 129,
     "metadata": {},
     "output_type": "execute_result"
    }
   ],
   "source": [
    "df.tweet[0]"
   ]
  },
  {
   "cell_type": "markdown",
   "metadata": {},
   "source": [
    "<a id='word_stem'></a>**Stemming |** Stemming is the process of reducing a word to its word stem that affixes to suffixes and prefixes or to the roots of words known as a lemma."
   ]
  },
  {
   "cell_type": "code",
   "execution_count": 130,
   "metadata": {},
   "outputs": [],
   "source": [
    "# First Cleaning the text; this was done in the previous section but to double confirm\n",
    "def clean_text(text):\n",
    "    text = \"\".join([c for c in text if c not in string.punctuation])\n",
    "    tokens = re.split('\\W+',text)\n",
    "    text = [word for word in tokens if word not in stopwords]\n",
    "    return text"
   ]
  },
  {
   "cell_type": "code",
   "execution_count": 131,
   "metadata": {},
   "outputs": [],
   "source": [
    "df_temp_stemmed = pd.DataFrame(df['tweet'].copy())"
   ]
  },
  {
   "cell_type": "code",
   "execution_count": 132,
   "metadata": {},
   "outputs": [
    {
     "data": {
      "text/html": [
       "<div>\n",
       "<style scoped>\n",
       "    .dataframe tbody tr th:only-of-type {\n",
       "        vertical-align: middle;\n",
       "    }\n",
       "\n",
       "    .dataframe tbody tr th {\n",
       "        vertical-align: top;\n",
       "    }\n",
       "\n",
       "    .dataframe thead th {\n",
       "        text-align: right;\n",
       "    }\n",
       "</style>\n",
       "<table border=\"1\" class=\"dataframe\">\n",
       "  <thead>\n",
       "    <tr style=\"text-align: right;\">\n",
       "      <th></th>\n",
       "      <th>tweet</th>\n",
       "      <th>tweet_nostop</th>\n",
       "    </tr>\n",
       "  </thead>\n",
       "  <tbody>\n",
       "    <tr>\n",
       "      <th>0</th>\n",
       "      <td>Thanks speaking us #fridaysforfreedom #fightfo...</td>\n",
       "      <td>[thanks, speaking, us, fridaysforfreedom, figh...</td>\n",
       "    </tr>\n",
       "    <tr>\n",
       "      <th>1</th>\n",
       "      <td>How stop China Hong Kong. Read new report Dani...</td>\n",
       "      <td>[stop, china, hong, kong, read, new, report, d...</td>\n",
       "    </tr>\n",
       "  </tbody>\n",
       "</table>\n",
       "</div>"
      ],
      "text/plain": [
       "                                               tweet  \\\n",
       "0  Thanks speaking us #fridaysforfreedom #fightfo...   \n",
       "1  How stop China Hong Kong. Read new report Dani...   \n",
       "\n",
       "                                        tweet_nostop  \n",
       "0  [thanks, speaking, us, fridaysforfreedom, figh...  \n",
       "1  [stop, china, hong, kong, read, new, report, d...  "
      ]
     },
     "execution_count": 132,
     "metadata": {},
     "output_type": "execute_result"
    }
   ],
   "source": [
    "df_temp_stemmed['tweet_nostop'] = df_temp_stemmed['tweet'].apply(lambda x: clean_text(x.lower()))\n",
    "df_temp_stemmed.head(2)"
   ]
  },
  {
   "cell_type": "code",
   "execution_count": 133,
   "metadata": {},
   "outputs": [],
   "source": [
    "# Stemming the text\n",
    "def stemming(token_text):\n",
    "    text = [ps.stem(word) for word in token_text]\n",
    "    return text"
   ]
  },
  {
   "cell_type": "code",
   "execution_count": 134,
   "metadata": {},
   "outputs": [
    {
     "data": {
      "text/html": [
       "<div>\n",
       "<style scoped>\n",
       "    .dataframe tbody tr th:only-of-type {\n",
       "        vertical-align: middle;\n",
       "    }\n",
       "\n",
       "    .dataframe tbody tr th {\n",
       "        vertical-align: top;\n",
       "    }\n",
       "\n",
       "    .dataframe thead th {\n",
       "        text-align: right;\n",
       "    }\n",
       "</style>\n",
       "<table border=\"1\" class=\"dataframe\">\n",
       "  <thead>\n",
       "    <tr style=\"text-align: right;\">\n",
       "      <th></th>\n",
       "      <th>tweet_nostop</th>\n",
       "      <th>tweet_stemmed</th>\n",
       "    </tr>\n",
       "  </thead>\n",
       "  <tbody>\n",
       "    <tr>\n",
       "      <th>0</th>\n",
       "      <td>[thanks, speaking, us, fridaysforfreedom, figh...</td>\n",
       "      <td>[thank, speak, us, fridaysforfreedom, fightfor...</td>\n",
       "    </tr>\n",
       "    <tr>\n",
       "      <th>1</th>\n",
       "      <td>[stop, china, hong, kong, read, new, report, d...</td>\n",
       "      <td>[stop, china, hong, kong, read, new, report, d...</td>\n",
       "    </tr>\n",
       "  </tbody>\n",
       "</table>\n",
       "</div>"
      ],
      "text/plain": [
       "                                        tweet_nostop  \\\n",
       "0  [thanks, speaking, us, fridaysforfreedom, figh...   \n",
       "1  [stop, china, hong, kong, read, new, report, d...   \n",
       "\n",
       "                                       tweet_stemmed  \n",
       "0  [thank, speak, us, fridaysforfreedom, fightfor...  \n",
       "1  [stop, china, hong, kong, read, new, report, d...  "
      ]
     },
     "execution_count": 134,
     "metadata": {},
     "output_type": "execute_result"
    }
   ],
   "source": [
    "df_temp_stemmed['tweet_stemmed'] = df_temp_stemmed['tweet_nostop'].apply(lambda x: stemming(x))\n",
    "df_temp_stemmed[['tweet_nostop','tweet_stemmed']].head(2)"
   ]
  },
  {
   "cell_type": "code",
   "execution_count": 135,
   "metadata": {},
   "outputs": [
    {
     "name": "stdout",
     "output_type": "stream",
     "text": [
      "A quick check to ascertain if the data frames are of equal length; the number below should be Zero: \n",
      " 0\n"
     ]
    }
   ],
   "source": [
    "print('A quick check to ascertain if the data frames are of equal length; the number below should be Zero:','\\n',\n",
    "     len(df_temp_stemmed) - len(df))"
   ]
  },
  {
   "cell_type": "markdown",
   "metadata": {},
   "source": [
    "Great let's move it into its home."
   ]
  },
  {
   "cell_type": "code",
   "execution_count": 136,
   "metadata": {},
   "outputs": [],
   "source": [
    "df_temp_stemmed = df_temp_stemmed.drop(columns=['tweet_nostop'])"
   ]
  },
  {
   "cell_type": "code",
   "execution_count": 137,
   "metadata": {},
   "outputs": [
    {
     "data": {
      "text/html": [
       "<div>\n",
       "<style scoped>\n",
       "    .dataframe tbody tr th:only-of-type {\n",
       "        vertical-align: middle;\n",
       "    }\n",
       "\n",
       "    .dataframe tbody tr th {\n",
       "        vertical-align: top;\n",
       "    }\n",
       "\n",
       "    .dataframe thead th {\n",
       "        text-align: right;\n",
       "    }\n",
       "</style>\n",
       "<table border=\"1\" class=\"dataframe\">\n",
       "  <thead>\n",
       "    <tr style=\"text-align: right;\">\n",
       "      <th></th>\n",
       "      <th>tweet_stemmed</th>\n",
       "    </tr>\n",
       "  </thead>\n",
       "  <tbody>\n",
       "    <tr>\n",
       "      <th>0</th>\n",
       "      <td>[thank, speak, us, fridaysforfreedom, fightfor...</td>\n",
       "    </tr>\n",
       "  </tbody>\n",
       "</table>\n",
       "</div>"
      ],
      "text/plain": [
       "                                       tweet_stemmed\n",
       "0  [thank, speak, us, fridaysforfreedom, fightfor..."
      ]
     },
     "execution_count": 137,
     "metadata": {},
     "output_type": "execute_result"
    }
   ],
   "source": [
    "df_temp_stemmed = df_temp_stemmed.drop(columns=['tweet'])\n",
    "df_temp_stemmed.head(1)"
   ]
  },
  {
   "cell_type": "code",
   "execution_count": 138,
   "metadata": {},
   "outputs": [],
   "source": [
    "df['tweet_stemmed'] = df_temp_stemmed.tweet_stemmed"
   ]
  },
  {
   "cell_type": "code",
   "execution_count": 139,
   "metadata": {},
   "outputs": [
    {
     "data": {
      "text/html": [
       "<div>\n",
       "<style scoped>\n",
       "    .dataframe tbody tr th:only-of-type {\n",
       "        vertical-align: middle;\n",
       "    }\n",
       "\n",
       "    .dataframe tbody tr th {\n",
       "        vertical-align: top;\n",
       "    }\n",
       "\n",
       "    .dataframe thead th {\n",
       "        text-align: right;\n",
       "    }\n",
       "</style>\n",
       "<table border=\"1\" class=\"dataframe\">\n",
       "  <thead>\n",
       "    <tr style=\"text-align: right;\">\n",
       "      <th></th>\n",
       "      <th>hash</th>\n",
       "      <th>created_at</th>\n",
       "      <th>username</th>\n",
       "      <th>tweet</th>\n",
       "      <th>replies_count</th>\n",
       "      <th>retweets_count</th>\n",
       "      <th>likes_count</th>\n",
       "      <th>reply_to</th>\n",
       "      <th>hashtags</th>\n",
       "      <th>comp</th>\n",
       "      <th>neg</th>\n",
       "      <th>neu</th>\n",
       "      <th>pos</th>\n",
       "      <th>tweet_stemmed</th>\n",
       "    </tr>\n",
       "  </thead>\n",
       "  <tbody>\n",
       "    <tr>\n",
       "      <th>0</th>\n",
       "      <td>#FightForHongKong</td>\n",
       "      <td>2020-08-28</td>\n",
       "      <td>ginny81025554</td>\n",
       "      <td>Thanks speaking us #fridaysforfreedom #fightfo...</td>\n",
       "      <td>0</td>\n",
       "      <td>1</td>\n",
       "      <td>2</td>\n",
       "      <td>[{'screen_name': 'benedictrogers', 'name': 'Be...</td>\n",
       "      <td>['fridaysforfreedom', 'fightforhongkong']</td>\n",
       "      <td>0.4404</td>\n",
       "      <td>0.000</td>\n",
       "      <td>0.707</td>\n",
       "      <td>0.293</td>\n",
       "      <td>[thank, speak, us, fridaysforfreedom, fightfor...</td>\n",
       "    </tr>\n",
       "    <tr>\n",
       "      <th>1</th>\n",
       "      <td>#FightForHongKong</td>\n",
       "      <td>2020-08-25</td>\n",
       "      <td>peterhjorth_ddp</td>\n",
       "      <td>How stop China Hong Kong. Read new report Dani...</td>\n",
       "      <td>0</td>\n",
       "      <td>0</td>\n",
       "      <td>0</td>\n",
       "      <td>[]</td>\n",
       "      <td>['dkpol', 'kina', 'hongkongprotest', 'fightfor...</td>\n",
       "      <td>-0.2960</td>\n",
       "      <td>0.071</td>\n",
       "      <td>0.929</td>\n",
       "      <td>0.000</td>\n",
       "      <td>[stop, china, hong, kong, read, new, report, d...</td>\n",
       "    </tr>\n",
       "  </tbody>\n",
       "</table>\n",
       "</div>"
      ],
      "text/plain": [
       "                hash created_at         username  \\\n",
       "0  #FightForHongKong 2020-08-28    ginny81025554   \n",
       "1  #FightForHongKong 2020-08-25  peterhjorth_ddp   \n",
       "\n",
       "                                               tweet  replies_count  \\\n",
       "0  Thanks speaking us #fridaysforfreedom #fightfo...              0   \n",
       "1  How stop China Hong Kong. Read new report Dani...              0   \n",
       "\n",
       "   retweets_count  likes_count  \\\n",
       "0               1            2   \n",
       "1               0            0   \n",
       "\n",
       "                                            reply_to  \\\n",
       "0  [{'screen_name': 'benedictrogers', 'name': 'Be...   \n",
       "1                                                 []   \n",
       "\n",
       "                                            hashtags    comp    neg    neu  \\\n",
       "0          ['fridaysforfreedom', 'fightforhongkong']  0.4404  0.000  0.707   \n",
       "1  ['dkpol', 'kina', 'hongkongprotest', 'fightfor... -0.2960  0.071  0.929   \n",
       "\n",
       "     pos                                      tweet_stemmed  \n",
       "0  0.293  [thank, speak, us, fridaysforfreedom, fightfor...  \n",
       "1  0.000  [stop, china, hong, kong, read, new, report, d...  "
      ]
     },
     "execution_count": 139,
     "metadata": {},
     "output_type": "execute_result"
    }
   ],
   "source": [
    "df.head(2)"
   ]
  },
  {
   "cell_type": "markdown",
   "metadata": {},
   "source": [
    "<a id='word_lem'></a>**Lemmatization |** We will now add a Lemmatization column on the tweets."
   ]
  },
  {
   "cell_type": "code",
   "execution_count": 140,
   "metadata": {},
   "outputs": [],
   "source": [
    "w_tokenizer = nltk.tokenize.WhitespaceTokenizer()\n",
    "lemmatizer = nltk.stem.WordNetLemmatizer()\n",
    "\n",
    "def lemmatize_text(text):\n",
    "    return [lemmatizer.lemmatize(w) for w in w_tokenizer.tokenize(text)]"
   ]
  },
  {
   "cell_type": "code",
   "execution_count": 141,
   "metadata": {},
   "outputs": [],
   "source": [
    "tweet_lem = pd.DataFrame(df['tweet'].copy())"
   ]
  },
  {
   "cell_type": "code",
   "execution_count": 142,
   "metadata": {},
   "outputs": [
    {
     "data": {
      "text/html": [
       "<div>\n",
       "<style scoped>\n",
       "    .dataframe tbody tr th:only-of-type {\n",
       "        vertical-align: middle;\n",
       "    }\n",
       "\n",
       "    .dataframe tbody tr th {\n",
       "        vertical-align: top;\n",
       "    }\n",
       "\n",
       "    .dataframe thead th {\n",
       "        text-align: right;\n",
       "    }\n",
       "</style>\n",
       "<table border=\"1\" class=\"dataframe\">\n",
       "  <thead>\n",
       "    <tr style=\"text-align: right;\">\n",
       "      <th></th>\n",
       "      <th>tweet</th>\n",
       "      <th>tweet_lemmatized</th>\n",
       "    </tr>\n",
       "  </thead>\n",
       "  <tbody>\n",
       "    <tr>\n",
       "      <th>0</th>\n",
       "      <td>Thanks speaking us #fridaysforfreedom #fightfo...</td>\n",
       "      <td>[Thanks, speaking, u, #fridaysforfreedom, #fig...</td>\n",
       "    </tr>\n",
       "    <tr>\n",
       "      <th>1</th>\n",
       "      <td>How stop China Hong Kong. Read new report Dani...</td>\n",
       "      <td>[How, stop, China, Hong, Kong., Read, new, rep...</td>\n",
       "    </tr>\n",
       "  </tbody>\n",
       "</table>\n",
       "</div>"
      ],
      "text/plain": [
       "                                               tweet  \\\n",
       "0  Thanks speaking us #fridaysforfreedom #fightfo...   \n",
       "1  How stop China Hong Kong. Read new report Dani...   \n",
       "\n",
       "                                    tweet_lemmatized  \n",
       "0  [Thanks, speaking, u, #fridaysforfreedom, #fig...  \n",
       "1  [How, stop, China, Hong, Kong., Read, new, rep...  "
      ]
     },
     "execution_count": 142,
     "metadata": {},
     "output_type": "execute_result"
    }
   ],
   "source": [
    "tweet_lem['tweet_lemmatized'] = tweet_lem.tweet.apply(lemmatize_text)\n",
    "tweet_lem[['tweet','tweet_lemmatized']].head(2)"
   ]
  },
  {
   "cell_type": "code",
   "execution_count": 143,
   "metadata": {},
   "outputs": [],
   "source": [
    "df['tweet_lemmatized'] = tweet_lem.tweet_lemmatized"
   ]
  },
  {
   "cell_type": "code",
   "execution_count": 144,
   "metadata": {},
   "outputs": [
    {
     "data": {
      "text/html": [
       "<div>\n",
       "<style scoped>\n",
       "    .dataframe tbody tr th:only-of-type {\n",
       "        vertical-align: middle;\n",
       "    }\n",
       "\n",
       "    .dataframe tbody tr th {\n",
       "        vertical-align: top;\n",
       "    }\n",
       "\n",
       "    .dataframe thead th {\n",
       "        text-align: right;\n",
       "    }\n",
       "</style>\n",
       "<table border=\"1\" class=\"dataframe\">\n",
       "  <thead>\n",
       "    <tr style=\"text-align: right;\">\n",
       "      <th></th>\n",
       "      <th>hash</th>\n",
       "      <th>created_at</th>\n",
       "      <th>username</th>\n",
       "      <th>tweet</th>\n",
       "      <th>replies_count</th>\n",
       "      <th>retweets_count</th>\n",
       "      <th>likes_count</th>\n",
       "      <th>reply_to</th>\n",
       "      <th>hashtags</th>\n",
       "      <th>comp</th>\n",
       "      <th>neg</th>\n",
       "      <th>neu</th>\n",
       "      <th>pos</th>\n",
       "      <th>tweet_stemmed</th>\n",
       "      <th>tweet_lemmatized</th>\n",
       "    </tr>\n",
       "  </thead>\n",
       "  <tbody>\n",
       "    <tr>\n",
       "      <th>0</th>\n",
       "      <td>#FightForHongKong</td>\n",
       "      <td>2020-08-28</td>\n",
       "      <td>ginny81025554</td>\n",
       "      <td>Thanks speaking us #fridaysforfreedom #fightfo...</td>\n",
       "      <td>0</td>\n",
       "      <td>1</td>\n",
       "      <td>2</td>\n",
       "      <td>[{'screen_name': 'benedictrogers', 'name': 'Be...</td>\n",
       "      <td>['fridaysforfreedom', 'fightforhongkong']</td>\n",
       "      <td>0.4404</td>\n",
       "      <td>0.000</td>\n",
       "      <td>0.707</td>\n",
       "      <td>0.293</td>\n",
       "      <td>[thank, speak, us, fridaysforfreedom, fightfor...</td>\n",
       "      <td>[Thanks, speaking, u, #fridaysforfreedom, #fig...</td>\n",
       "    </tr>\n",
       "    <tr>\n",
       "      <th>1</th>\n",
       "      <td>#FightForHongKong</td>\n",
       "      <td>2020-08-25</td>\n",
       "      <td>peterhjorth_ddp</td>\n",
       "      <td>How stop China Hong Kong. Read new report Dani...</td>\n",
       "      <td>0</td>\n",
       "      <td>0</td>\n",
       "      <td>0</td>\n",
       "      <td>[]</td>\n",
       "      <td>['dkpol', 'kina', 'hongkongprotest', 'fightfor...</td>\n",
       "      <td>-0.2960</td>\n",
       "      <td>0.071</td>\n",
       "      <td>0.929</td>\n",
       "      <td>0.000</td>\n",
       "      <td>[stop, china, hong, kong, read, new, report, d...</td>\n",
       "      <td>[How, stop, China, Hong, Kong., Read, new, rep...</td>\n",
       "    </tr>\n",
       "  </tbody>\n",
       "</table>\n",
       "</div>"
      ],
      "text/plain": [
       "                hash created_at         username  \\\n",
       "0  #FightForHongKong 2020-08-28    ginny81025554   \n",
       "1  #FightForHongKong 2020-08-25  peterhjorth_ddp   \n",
       "\n",
       "                                               tweet  replies_count  \\\n",
       "0  Thanks speaking us #fridaysforfreedom #fightfo...              0   \n",
       "1  How stop China Hong Kong. Read new report Dani...              0   \n",
       "\n",
       "   retweets_count  likes_count  \\\n",
       "0               1            2   \n",
       "1               0            0   \n",
       "\n",
       "                                            reply_to  \\\n",
       "0  [{'screen_name': 'benedictrogers', 'name': 'Be...   \n",
       "1                                                 []   \n",
       "\n",
       "                                            hashtags    comp    neg    neu  \\\n",
       "0          ['fridaysforfreedom', 'fightforhongkong']  0.4404  0.000  0.707   \n",
       "1  ['dkpol', 'kina', 'hongkongprotest', 'fightfor... -0.2960  0.071  0.929   \n",
       "\n",
       "     pos                                      tweet_stemmed  \\\n",
       "0  0.293  [thank, speak, us, fridaysforfreedom, fightfor...   \n",
       "1  0.000  [stop, china, hong, kong, read, new, report, d...   \n",
       "\n",
       "                                    tweet_lemmatized  \n",
       "0  [Thanks, speaking, u, #fridaysforfreedom, #fig...  \n",
       "1  [How, stop, China, Hong, Kong., Read, new, rep...  "
      ]
     },
     "execution_count": 144,
     "metadata": {},
     "output_type": "execute_result"
    }
   ],
   "source": [
    "df.head(2)"
   ]
  },
  {
   "cell_type": "markdown",
   "metadata": {},
   "source": [
    "<a id='tweet_length'></a>**tweet length |** Adding another column to see the length of tweets."
   ]
  },
  {
   "cell_type": "code",
   "execution_count": 145,
   "metadata": {},
   "outputs": [],
   "source": [
    "df_t_length = pd.DataFrame([df['tweet'].copy()]).T\n",
    "df_t_length = df_t_length.convert_dtypes()\n",
    "df_t_length['word_l'] = [len(x.split()) for x in df['tweet'].tolist()]\n",
    "df_t_length = df_t_length.drop(columns=['tweet'])\n",
    "df['#_words_tweet'] = df_t_length"
   ]
  },
  {
   "cell_type": "code",
   "execution_count": 146,
   "metadata": {},
   "outputs": [
    {
     "data": {
      "text/html": [
       "<div>\n",
       "<style scoped>\n",
       "    .dataframe tbody tr th:only-of-type {\n",
       "        vertical-align: middle;\n",
       "    }\n",
       "\n",
       "    .dataframe tbody tr th {\n",
       "        vertical-align: top;\n",
       "    }\n",
       "\n",
       "    .dataframe thead th {\n",
       "        text-align: right;\n",
       "    }\n",
       "</style>\n",
       "<table border=\"1\" class=\"dataframe\">\n",
       "  <thead>\n",
       "    <tr style=\"text-align: right;\">\n",
       "      <th></th>\n",
       "      <th>hash</th>\n",
       "      <th>created_at</th>\n",
       "      <th>username</th>\n",
       "      <th>tweet</th>\n",
       "      <th>replies_count</th>\n",
       "      <th>retweets_count</th>\n",
       "      <th>likes_count</th>\n",
       "      <th>reply_to</th>\n",
       "      <th>hashtags</th>\n",
       "      <th>comp</th>\n",
       "      <th>neg</th>\n",
       "      <th>neu</th>\n",
       "      <th>pos</th>\n",
       "      <th>tweet_stemmed</th>\n",
       "      <th>tweet_lemmatized</th>\n",
       "      <th>#_words_tweet</th>\n",
       "    </tr>\n",
       "  </thead>\n",
       "  <tbody>\n",
       "    <tr>\n",
       "      <th>0</th>\n",
       "      <td>#FightForHongKong</td>\n",
       "      <td>2020-08-28</td>\n",
       "      <td>ginny81025554</td>\n",
       "      <td>Thanks speaking us #fridaysforfreedom #fightfo...</td>\n",
       "      <td>0</td>\n",
       "      <td>1</td>\n",
       "      <td>2</td>\n",
       "      <td>[{'screen_name': 'benedictrogers', 'name': 'Be...</td>\n",
       "      <td>['fridaysforfreedom', 'fightforhongkong']</td>\n",
       "      <td>0.4404</td>\n",
       "      <td>0.000</td>\n",
       "      <td>0.707</td>\n",
       "      <td>0.293</td>\n",
       "      <td>[thank, speak, us, fridaysforfreedom, fightfor...</td>\n",
       "      <td>[Thanks, speaking, u, #fridaysforfreedom, #fig...</td>\n",
       "      <td>5</td>\n",
       "    </tr>\n",
       "    <tr>\n",
       "      <th>1</th>\n",
       "      <td>#FightForHongKong</td>\n",
       "      <td>2020-08-25</td>\n",
       "      <td>peterhjorth_ddp</td>\n",
       "      <td>How stop China Hong Kong. Read new report Dani...</td>\n",
       "      <td>0</td>\n",
       "      <td>0</td>\n",
       "      <td>0</td>\n",
       "      <td>[]</td>\n",
       "      <td>['dkpol', 'kina', 'hongkongprotest', 'fightfor...</td>\n",
       "      <td>-0.2960</td>\n",
       "      <td>0.071</td>\n",
       "      <td>0.929</td>\n",
       "      <td>0.000</td>\n",
       "      <td>[stop, china, hong, kong, read, new, report, d...</td>\n",
       "      <td>[How, stop, China, Hong, Kong., Read, new, rep...</td>\n",
       "      <td>25</td>\n",
       "    </tr>\n",
       "    <tr>\n",
       "      <th>2</th>\n",
       "      <td>#FightForHongKong</td>\n",
       "      <td>2020-08-24</td>\n",
       "      <td>peterhjorth_ddp</td>\n",
       "      <td>How stop China Hong Kong. Read new report Dani...</td>\n",
       "      <td>0</td>\n",
       "      <td>0</td>\n",
       "      <td>0</td>\n",
       "      <td>[]</td>\n",
       "      <td>['dkpol', 'kina', 'hongkongprotest', 'fightfor...</td>\n",
       "      <td>-0.2960</td>\n",
       "      <td>0.071</td>\n",
       "      <td>0.929</td>\n",
       "      <td>0.000</td>\n",
       "      <td>[stop, china, hong, kong, read, new, report, d...</td>\n",
       "      <td>[How, stop, China, Hong, Kong., Read, new, rep...</td>\n",
       "      <td>25</td>\n",
       "    </tr>\n",
       "  </tbody>\n",
       "</table>\n",
       "</div>"
      ],
      "text/plain": [
       "                hash created_at         username  \\\n",
       "0  #FightForHongKong 2020-08-28    ginny81025554   \n",
       "1  #FightForHongKong 2020-08-25  peterhjorth_ddp   \n",
       "2  #FightForHongKong 2020-08-24  peterhjorth_ddp   \n",
       "\n",
       "                                               tweet  replies_count  \\\n",
       "0  Thanks speaking us #fridaysforfreedom #fightfo...              0   \n",
       "1  How stop China Hong Kong. Read new report Dani...              0   \n",
       "2  How stop China Hong Kong. Read new report Dani...              0   \n",
       "\n",
       "   retweets_count  likes_count  \\\n",
       "0               1            2   \n",
       "1               0            0   \n",
       "2               0            0   \n",
       "\n",
       "                                            reply_to  \\\n",
       "0  [{'screen_name': 'benedictrogers', 'name': 'Be...   \n",
       "1                                                 []   \n",
       "2                                                 []   \n",
       "\n",
       "                                            hashtags    comp    neg    neu  \\\n",
       "0          ['fridaysforfreedom', 'fightforhongkong']  0.4404  0.000  0.707   \n",
       "1  ['dkpol', 'kina', 'hongkongprotest', 'fightfor... -0.2960  0.071  0.929   \n",
       "2  ['dkpol', 'kina', 'hongkongprotest', 'fightfor... -0.2960  0.071  0.929   \n",
       "\n",
       "     pos                                      tweet_stemmed  \\\n",
       "0  0.293  [thank, speak, us, fridaysforfreedom, fightfor...   \n",
       "1  0.000  [stop, china, hong, kong, read, new, report, d...   \n",
       "2  0.000  [stop, china, hong, kong, read, new, report, d...   \n",
       "\n",
       "                                    tweet_lemmatized  #_words_tweet  \n",
       "0  [Thanks, speaking, u, #fridaysforfreedom, #fig...              5  \n",
       "1  [How, stop, China, Hong, Kong., Read, new, rep...             25  \n",
       "2  [How, stop, China, Hong, Kong., Read, new, rep...             25  "
      ]
     },
     "execution_count": 146,
     "metadata": {},
     "output_type": "execute_result"
    }
   ],
   "source": [
    "df.head(3)"
   ]
  },
  {
   "cell_type": "markdown",
   "metadata": {},
   "source": [
    "<a id='num_hashtags'></a>**Number of hashtags |** Adding another column to see how many hashtags were used."
   ]
  },
  {
   "cell_type": "code",
   "execution_count": 147,
   "metadata": {},
   "outputs": [],
   "source": [
    "df_hash_num = pd.DataFrame([df['hashtags'].copy()]).T\n",
    "df_hash_num = df_hash_num.convert_dtypes()\n",
    "df_hash_num['hash_l'] = [len(x.split()) for x in df['hashtags'].tolist()]\n",
    "df_hash_num = df_hash_num.drop(columns=['hashtags'])\n",
    "df['#_hashtags'] = df_hash_num"
   ]
  },
  {
   "cell_type": "code",
   "execution_count": 148,
   "metadata": {},
   "outputs": [
    {
     "data": {
      "text/html": [
       "<div>\n",
       "<style scoped>\n",
       "    .dataframe tbody tr th:only-of-type {\n",
       "        vertical-align: middle;\n",
       "    }\n",
       "\n",
       "    .dataframe tbody tr th {\n",
       "        vertical-align: top;\n",
       "    }\n",
       "\n",
       "    .dataframe thead th {\n",
       "        text-align: right;\n",
       "    }\n",
       "</style>\n",
       "<table border=\"1\" class=\"dataframe\">\n",
       "  <thead>\n",
       "    <tr style=\"text-align: right;\">\n",
       "      <th></th>\n",
       "      <th>hash</th>\n",
       "      <th>created_at</th>\n",
       "      <th>username</th>\n",
       "      <th>tweet</th>\n",
       "      <th>replies_count</th>\n",
       "      <th>retweets_count</th>\n",
       "      <th>likes_count</th>\n",
       "      <th>reply_to</th>\n",
       "      <th>hashtags</th>\n",
       "      <th>comp</th>\n",
       "      <th>neg</th>\n",
       "      <th>neu</th>\n",
       "      <th>pos</th>\n",
       "      <th>tweet_stemmed</th>\n",
       "      <th>tweet_lemmatized</th>\n",
       "      <th>#_words_tweet</th>\n",
       "      <th>#_hashtags</th>\n",
       "    </tr>\n",
       "  </thead>\n",
       "  <tbody>\n",
       "    <tr>\n",
       "      <th>0</th>\n",
       "      <td>#FightForHongKong</td>\n",
       "      <td>2020-08-28</td>\n",
       "      <td>ginny81025554</td>\n",
       "      <td>Thanks speaking us #fridaysforfreedom #fightfo...</td>\n",
       "      <td>0</td>\n",
       "      <td>1</td>\n",
       "      <td>2</td>\n",
       "      <td>[{'screen_name': 'benedictrogers', 'name': 'Be...</td>\n",
       "      <td>['fridaysforfreedom', 'fightforhongkong']</td>\n",
       "      <td>0.4404</td>\n",
       "      <td>0.000</td>\n",
       "      <td>0.707</td>\n",
       "      <td>0.293</td>\n",
       "      <td>[thank, speak, us, fridaysforfreedom, fightfor...</td>\n",
       "      <td>[Thanks, speaking, u, #fridaysforfreedom, #fig...</td>\n",
       "      <td>5</td>\n",
       "      <td>2</td>\n",
       "    </tr>\n",
       "    <tr>\n",
       "      <th>1</th>\n",
       "      <td>#FightForHongKong</td>\n",
       "      <td>2020-08-25</td>\n",
       "      <td>peterhjorth_ddp</td>\n",
       "      <td>How stop China Hong Kong. Read new report Dani...</td>\n",
       "      <td>0</td>\n",
       "      <td>0</td>\n",
       "      <td>0</td>\n",
       "      <td>[]</td>\n",
       "      <td>['dkpol', 'kina', 'hongkongprotest', 'fightfor...</td>\n",
       "      <td>-0.2960</td>\n",
       "      <td>0.071</td>\n",
       "      <td>0.929</td>\n",
       "      <td>0.000</td>\n",
       "      <td>[stop, china, hong, kong, read, new, report, d...</td>\n",
       "      <td>[How, stop, China, Hong, Kong., Read, new, rep...</td>\n",
       "      <td>25</td>\n",
       "      <td>13</td>\n",
       "    </tr>\n",
       "  </tbody>\n",
       "</table>\n",
       "</div>"
      ],
      "text/plain": [
       "                hash created_at         username  \\\n",
       "0  #FightForHongKong 2020-08-28    ginny81025554   \n",
       "1  #FightForHongKong 2020-08-25  peterhjorth_ddp   \n",
       "\n",
       "                                               tweet  replies_count  \\\n",
       "0  Thanks speaking us #fridaysforfreedom #fightfo...              0   \n",
       "1  How stop China Hong Kong. Read new report Dani...              0   \n",
       "\n",
       "   retweets_count  likes_count  \\\n",
       "0               1            2   \n",
       "1               0            0   \n",
       "\n",
       "                                            reply_to  \\\n",
       "0  [{'screen_name': 'benedictrogers', 'name': 'Be...   \n",
       "1                                                 []   \n",
       "\n",
       "                                            hashtags    comp    neg    neu  \\\n",
       "0          ['fridaysforfreedom', 'fightforhongkong']  0.4404  0.000  0.707   \n",
       "1  ['dkpol', 'kina', 'hongkongprotest', 'fightfor... -0.2960  0.071  0.929   \n",
       "\n",
       "     pos                                      tweet_stemmed  \\\n",
       "0  0.293  [thank, speak, us, fridaysforfreedom, fightfor...   \n",
       "1  0.000  [stop, china, hong, kong, read, new, report, d...   \n",
       "\n",
       "                                    tweet_lemmatized  #_words_tweet  \\\n",
       "0  [Thanks, speaking, u, #fridaysforfreedom, #fig...              5   \n",
       "1  [How, stop, China, Hong, Kong., Read, new, rep...             25   \n",
       "\n",
       "   #_hashtags  \n",
       "0           2  \n",
       "1          13  "
      ]
     },
     "execution_count": 148,
     "metadata": {},
     "output_type": "execute_result"
    }
   ],
   "source": [
    "df.head(2)"
   ]
  },
  {
   "cell_type": "code",
   "execution_count": 149,
   "metadata": {},
   "outputs": [
    {
     "name": "stdout",
     "output_type": "stream",
     "text": [
      "Finished\n"
     ]
    }
   ],
   "source": [
    "df.to_excel('./_Capstone_Two_NLP/data/_twitter/_dfs_fortheside/df_main.xlsx')\n",
    "print('Finished')"
   ]
  },
  {
   "cell_type": "markdown",
   "metadata": {},
   "source": [
    "<a id='word_v_tfid'></a>**TfidfVectorizer |** With the help of the `\"scikit-learn family\"`, Term Frequency Inverse Document Frequency; a common algorithm to transform text into a meaningful representation of numbers which we can use to fit machine algorithms for prediction.\n",
    "\n",
    "This section, however, was sent to Google Colab for processing."
   ]
  },
  {
   "cell_type": "markdown",
   "metadata": {},
   "source": [
    "<a id='word_v_count'></a>**CountVectorizer |** With the `\"scikit-learn family\"`, the CountVectorizer is used to transform a given text into a vector on the basis of the frequency (count) of each word that occurs in the entire text. \n",
    "\n",
    "This section, however, was sent to Google Colab for processing."
   ]
  },
  {
   "cell_type": "markdown",
   "metadata": {},
   "source": [
    "# 1.5 Putting to the Side"
   ]
  },
  {
   "cell_type": "markdown",
   "metadata": {},
   "source": [
    "<a id='pts'></a>We will put the Main Data Frame to the side for the next section; EDA."
   ]
  },
  {
   "cell_type": "code",
   "execution_count": 149,
   "metadata": {},
   "outputs": [
    {
     "name": "stdout",
     "output_type": "stream",
     "text": [
      "Finished\n"
     ]
    }
   ],
   "source": [
    "df.to_excel('./_Capstone_Two_NLP/data/_twitter/_dfs_fortheside/df_main.xlsx')\n",
    "print('Finished')"
   ]
  }
 ],
 "metadata": {
  "kernelspec": {
   "display_name": "Python 3",
   "language": "python",
   "name": "python3"
  },
  "language_info": {
   "codemirror_mode": {
    "name": "ipython",
    "version": 3
   },
   "file_extension": ".py",
   "mimetype": "text/x-python",
   "name": "python",
   "nbconvert_exporter": "python",
   "pygments_lexer": "ipython3",
   "version": "3.8.5"
  },
  "varInspector": {
   "cols": {
    "lenName": 16,
    "lenType": 16,
    "lenVar": 40
   },
   "kernels_config": {
    "python": {
     "delete_cmd_postfix": "",
     "delete_cmd_prefix": "del ",
     "library": "var_list.py",
     "varRefreshCmd": "print(var_dic_list())"
    },
    "r": {
     "delete_cmd_postfix": ") ",
     "delete_cmd_prefix": "rm(",
     "library": "var_list.r",
     "varRefreshCmd": "cat(var_dic_list()) "
    }
   },
   "types_to_exclude": [
    "module",
    "function",
    "builtin_function_or_method",
    "instance",
    "_Feature"
   ],
   "window_display": false
  }
 },
 "nbformat": 4,
 "nbformat_minor": 4
}
