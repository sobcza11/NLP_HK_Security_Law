{
 "cells": [
  {
   "cell_type": "code",
   "execution_count": 33,
   "metadata": {},
   "outputs": [],
   "source": [
    "# need to setup the infrastructure for it all\n",
    "# we will start w/ concating all the pulled news as it is now ( 26 May 2021 )\n",
    "\n",
    "#Import the necessary tools required in the correct lines below\n",
    "import pandas as pd\n",
    "import matplotlib.pyplot as plt\n",
    "import matplotlib.colors as colors\n",
    "import seaborn as sns\n",
    "import os\n",
    "import lxml\n",
    "import datetime\n",
    "import requests\n",
    "import json\n",
    "import collections\n",
    "import seaborn as sns\n",
    "from scipy import stats\n",
    "import numpy as np\n",
    "from bs4 import BeautifulSoup as soup\n",
    "import csv\n",
    "import re\n",
    "import pickle\n",
    "\n",
    "from datetime import date\n",
    "from datetime import datetime\n",
    "today = date.today()\n",
    "d = today.strftime(\"%m-%d-%y\")\n",
    "\n",
    "%reload_ext watermark"
   ]
  },
  {
   "cell_type": "markdown",
   "metadata": {},
   "source": [
    "**News**"
   ]
  },
  {
   "cell_type": "code",
   "execution_count": 34,
   "metadata": {},
   "outputs": [],
   "source": [
    "# setting up the main data frame for news\n",
    "news = pd.DataFrame()"
   ]
  },
  {
   "cell_type": "code",
   "execution_count": 35,
   "metadata": {},
   "outputs": [],
   "source": [
    "#pulling them all in x10 on the int'l side\n",
    "bbc_1 = pd.read_csv('./_Capstone_Two_NLP/data/_news/bbc_1.csv')\n",
    "bbc_2 = pd.read_csv('./_Capstone_Two_NLP/data/_news/bbc_2.csv')\n",
    "bbc_18 = pd.read_csv('./_Capstone_Two_NLP/data/_news/bbc_18.csv')\n",
    "bbc_19 = pd.read_csv('./_Capstone_Two_NLP/data/_news/bbc_19.csv')\n",
    "bbc_20 = pd.read_csv('./_Capstone_Two_NLP/data/_news/bbc_20.csv')\n",
    "bbc_21 = pd.read_csv('./_Capstone_Two_NLP/data/_news/bbc_21.csv')\n",
    "bbc_22 = pd.read_csv('./_Capstone_Two_NLP/data/_news/bbc_22.csv')\n",
    "cnn_11 = pd.read_csv('./_Capstone_Two_NLP/data/_news/cnn_11.csv')\n",
    "forbes_6 = pd.read_csv('./_Capstone_Two_NLP/data/_news/forbes_6.csv')\n",
    "nytimes_5 = pd.read_csv('./_Capstone_Two_NLP/data/_news/nytimes_5.csv')\n"
   ]
  },
  {
   "cell_type": "code",
   "execution_count": 36,
   "metadata": {},
   "outputs": [],
   "source": [
    "news = news.append(bbc_1, ignore_index=True)\n",
    "news = news.append(bbc_2, ignore_index=True)\n",
    "news = news.append(bbc_18, ignore_index=True)\n",
    "news = news.append(bbc_19, ignore_index=True)\n",
    "news = news.append(bbc_20, ignore_index=True)\n",
    "news = news.append(bbc_21, ignore_index=True)\n",
    "news = news.append(bbc_22, ignore_index=True)\n",
    "news = news.append(cnn_11, ignore_index=True)\n",
    "news = news.append(forbes_6, ignore_index=True)\n",
    "news = news.append(nytimes_5, ignore_index=True)"
   ]
  },
  {
   "cell_type": "code",
   "execution_count": 37,
   "metadata": {},
   "outputs": [
    {
     "data": {
      "text/html": [
       "<div>\n",
       "<style scoped>\n",
       "    .dataframe tbody tr th:only-of-type {\n",
       "        vertical-align: middle;\n",
       "    }\n",
       "\n",
       "    .dataframe tbody tr th {\n",
       "        vertical-align: top;\n",
       "    }\n",
       "\n",
       "    .dataframe thead th {\n",
       "        text-align: right;\n",
       "    }\n",
       "</style>\n",
       "<table border=\"1\" class=\"dataframe\">\n",
       "  <thead>\n",
       "    <tr style=\"text-align: right;\">\n",
       "      <th></th>\n",
       "      <th>date</th>\n",
       "      <th>source</th>\n",
       "      <th>country</th>\n",
       "      <th>title</th>\n",
       "      <th>article</th>\n",
       "    </tr>\n",
       "  </thead>\n",
       "  <tbody>\n",
       "    <tr>\n",
       "      <th>0</th>\n",
       "      <td>2020-06-30</td>\n",
       "      <td>BBC</td>\n",
       "      <td>UK</td>\n",
       "      <td>Hong Kong security law: What is it and is it w...</td>\n",
       "      <td>China has passed a wide-ranging new security l...</td>\n",
       "    </tr>\n",
       "    <tr>\n",
       "      <th>1</th>\n",
       "      <td>2020-07-01</td>\n",
       "      <td>BBC</td>\n",
       "      <td>UK</td>\n",
       "      <td>Hong Kong's new security law: Why it scares pe...</td>\n",
       "      <td>China has introduced a new national security l...</td>\n",
       "    </tr>\n",
       "    <tr>\n",
       "      <th>2</th>\n",
       "      <td>2020-06-30</td>\n",
       "      <td>BBC</td>\n",
       "      <td>UK</td>\n",
       "      <td>Hong Kong security law: Anger as China's Xi si...</td>\n",
       "      <td>The UK, EU and Nato have expressed concern and...</td>\n",
       "    </tr>\n",
       "    <tr>\n",
       "      <th>3</th>\n",
       "      <td>2020-06-30</td>\n",
       "      <td>BBC</td>\n",
       "      <td>UK</td>\n",
       "      <td>Hong Kong security law: Minutes after new law,...</td>\n",
       "      <td>On Tuesday morning, the news started to break ...</td>\n",
       "    </tr>\n",
       "    <tr>\n",
       "      <th>4</th>\n",
       "      <td>2020-07-08</td>\n",
       "      <td>BBC</td>\n",
       "      <td>UK</td>\n",
       "      <td>Hong Kong security law: Beijing security offic...</td>\n",
       "      <td>A new national security office has been offici...</td>\n",
       "    </tr>\n",
       "    <tr>\n",
       "      <th>5</th>\n",
       "      <td>2020-07-05</td>\n",
       "      <td>BBC</td>\n",
       "      <td>UK</td>\n",
       "      <td>Hong Kong security law: Pro-democracy books pu...</td>\n",
       "      <td>Books by pro-democracy figures have been remov...</td>\n",
       "    </tr>\n",
       "    <tr>\n",
       "      <th>6</th>\n",
       "      <td>2020-06-30</td>\n",
       "      <td>BBC</td>\n",
       "      <td>UK</td>\n",
       "      <td>Hong Kong security law: Life sentences for bre...</td>\n",
       "      <td>People in Hong Kong could face life in jail fo...</td>\n",
       "    </tr>\n",
       "    <tr>\n",
       "      <th>7</th>\n",
       "      <td>2020-07-03</td>\n",
       "      <td>CNN</td>\n",
       "      <td>US</td>\n",
       "      <td>Hong Kong's security law could have a chilling...</td>\n",
       "      <td>London (CNN Business)Hong Kong insists its vib...</td>\n",
       "    </tr>\n",
       "    <tr>\n",
       "      <th>8</th>\n",
       "      <td>2020-07-01</td>\n",
       "      <td>Forbes</td>\n",
       "      <td>US</td>\n",
       "      <td>Hong Kong Makes First Arrests Under Beijing’s ...</td>\n",
       "      <td>Share to FacebookShare to TwitterShare to Link...</td>\n",
       "    </tr>\n",
       "    <tr>\n",
       "      <th>9</th>\n",
       "      <td>2020-06-28</td>\n",
       "      <td>NY Times</td>\n",
       "      <td>US</td>\n",
       "      <td>What China’s New National Security Law Means f...</td>\n",
       "      <td>Chinese lawmakers have approved a national sec...</td>\n",
       "    </tr>\n",
       "  </tbody>\n",
       "</table>\n",
       "</div>"
      ],
      "text/plain": [
       "         date    source country  \\\n",
       "0  2020-06-30       BBC      UK   \n",
       "1  2020-07-01       BBC      UK   \n",
       "2  2020-06-30       BBC      UK   \n",
       "3  2020-06-30       BBC      UK   \n",
       "4  2020-07-08       BBC      UK   \n",
       "5  2020-07-05       BBC      UK   \n",
       "6  2020-06-30       BBC      UK   \n",
       "7  2020-07-03       CNN      US   \n",
       "8  2020-07-01    Forbes      US   \n",
       "9  2020-06-28  NY Times      US   \n",
       "\n",
       "                                               title  \\\n",
       "0  Hong Kong security law: What is it and is it w...   \n",
       "1  Hong Kong's new security law: Why it scares pe...   \n",
       "2  Hong Kong security law: Anger as China's Xi si...   \n",
       "3  Hong Kong security law: Minutes after new law,...   \n",
       "4  Hong Kong security law: Beijing security offic...   \n",
       "5  Hong Kong security law: Pro-democracy books pu...   \n",
       "6  Hong Kong security law: Life sentences for bre...   \n",
       "7  Hong Kong's security law could have a chilling...   \n",
       "8  Hong Kong Makes First Arrests Under Beijing’s ...   \n",
       "9  What China’s New National Security Law Means f...   \n",
       "\n",
       "                                             article  \n",
       "0  China has passed a wide-ranging new security l...  \n",
       "1  China has introduced a new national security l...  \n",
       "2  The UK, EU and Nato have expressed concern and...  \n",
       "3  On Tuesday morning, the news started to break ...  \n",
       "4  A new national security office has been offici...  \n",
       "5  Books by pro-democracy figures have been remov...  \n",
       "6  People in Hong Kong could face life in jail fo...  \n",
       "7  London (CNN Business)Hong Kong insists its vib...  \n",
       "8  Share to FacebookShare to TwitterShare to Link...  \n",
       "9  Chinese lawmakers have approved a national sec...  "
      ]
     },
     "execution_count": 37,
     "metadata": {},
     "output_type": "execute_result"
    }
   ],
   "source": [
    "news"
   ]
  },
  {
   "cell_type": "code",
   "execution_count": 41,
   "metadata": {},
   "outputs": [
    {
     "data": {
      "text/plain": [
       "'Share to FacebookShare to TwitterShare to LinkedinTOPLINE\\n Authorities in Hong Kong made the first arrests under the new controversial national security law Wednesday after thousands gathered for an annual pro-democracy rally to mark the anniversary of Hong Kong’s handover to China 23 years ago.\\n\\n\\n\\n\\n\\n\\nA protester is detained by police during a rally against in Hong Kong Wednesday.\\n\\nAFP via Getty Images\\n\\n\\n\\nKEY FACTS\\n\\n\\nPolice arrested 370 people Wednesday during the city’s largest protest in months in defiance of Covid-19 restrictions; of those arrests, 10 were reportedly arrested for breaking the new law, according to the Wall Street Journal.\\xa0\\n\\n\\nThe national security law, adopted Tuesday in Beijing, passed after the widespread protests in Hong Kong last year and allows authorities to crack down on dissenters with long jail sentences for charges that experts say are defined in vague terms that could allow for broad interpretation by China.\\n\\n\\n\\nCritics of the new law say it effectively ends the autonomy of Hong Kong, which has existed under a \"one country, two systems\" agreement since the British gave Hong Kong back to China in 1997, which occurred 23 years ago from Wednesday.\\n\\n\\n\\nThe new law has been condemned globally; on Tuesday, U.S. Congress introduced a bipartisan bill that would give some Hong Kongers refugee status.\\n\\n\\nBritish Prime Minister Boris Johnson has made an offer to allow the\\xa0 3 million Hong Kong citizens eligible for a British overseas passport a pathway to citizenship.\\n\\n\\nChina has defended the new law, saying it is essential to restore peace in Hong Kong and that it would not permit domestic policies to be swayed by foreign influence. \\n\\n\\nTANGENT\\nThe new law has had a chilling effect on pro-democracy activism in Hong Kong. Several activist groups have already disbanded as a result of the new laws. According to the New York Times, a Hong Kong museum dedicated to preserving the memory of the 1989 massacre in Tienanmen Square is working to quickly digitize its collection in case authorities come to take their archive.\\nKEY BACKGROUND\\nThe law lists charges like subversion, secession and terrorism as carrying punishments up to life in prison. Causing damage to public transportation, as was commonly seen during protests last year, could be grounds for a terrorism charge, according to the BBC. The law allows for more serious offenses to be extradited to China to be heard by Chinese courts, drawing comparisons to the extradition bill that kicked off the protests last year that was later withdrawn. China can even waive a trial by jury and restrict access to trials. It also permits Beijing to set up a new security agency in Hong Kong to keep an eye on the enforcement of the new law that is above judicial review or existing Hong Kong laws. The new law also applies to non-Hong Kong residents living abroad, which means foreigners found in violation could be arrested as soon as they step foot in Hong Kong according to the BBC.\\n\\nFURTHER READING\\nChina Passes Controversial Hong Kong Security Law Meant To Quell Protests (Forbes)'"
      ]
     },
     "execution_count": 41,
     "metadata": {},
     "output_type": "execute_result"
    }
   ],
   "source": [
    "news['article'][8]"
   ]
  },
  {
   "cell_type": "markdown",
   "metadata": {},
   "source": [
    "Savings to an Excel."
   ]
  },
  {
   "cell_type": "code",
   "execution_count": 42,
   "metadata": {},
   "outputs": [
    {
     "name": "stdout",
     "output_type": "stream",
     "text": [
      "Complete\n"
     ]
    }
   ],
   "source": [
    "# df = pd.DataFrame(reviewlist)\n",
    "\n",
    "# index=False below so that we don't get the dataframe index on the side; we just use the excel index\n",
    "news.to_csv('./_Capstone_Two_NLP/data/news.csv', index=False)\n",
    "\n",
    "print('Complete')"
   ]
  },
  {
   "cell_type": "code",
   "execution_count": null,
   "metadata": {},
   "outputs": [],
   "source": []
  },
  {
   "cell_type": "code",
   "execution_count": null,
   "metadata": {},
   "outputs": [],
   "source": []
  },
  {
   "cell_type": "code",
   "execution_count": null,
   "metadata": {},
   "outputs": [],
   "source": []
  },
  {
   "cell_type": "code",
   "execution_count": null,
   "metadata": {},
   "outputs": [],
   "source": []
  },
  {
   "cell_type": "code",
   "execution_count": null,
   "metadata": {},
   "outputs": [],
   "source": []
  },
  {
   "cell_type": "code",
   "execution_count": null,
   "metadata": {},
   "outputs": [],
   "source": []
  },
  {
   "cell_type": "code",
   "execution_count": null,
   "metadata": {},
   "outputs": [],
   "source": []
  }
 ],
 "metadata": {
  "kernelspec": {
   "display_name": "Python 3",
   "language": "python",
   "name": "python3"
  },
  "language_info": {
   "codemirror_mode": {
    "name": "ipython",
    "version": 3
   },
   "file_extension": ".py",
   "mimetype": "text/x-python",
   "name": "python",
   "nbconvert_exporter": "python",
   "pygments_lexer": "ipython3",
   "version": "3.8.5"
  },
  "varInspector": {
   "cols": {
    "lenName": 16,
    "lenType": 16,
    "lenVar": 40
   },
   "kernels_config": {
    "python": {
     "delete_cmd_postfix": "",
     "delete_cmd_prefix": "del ",
     "library": "var_list.py",
     "varRefreshCmd": "print(var_dic_list())"
    },
    "r": {
     "delete_cmd_postfix": ") ",
     "delete_cmd_prefix": "rm(",
     "library": "var_list.r",
     "varRefreshCmd": "cat(var_dic_list()) "
    }
   },
   "types_to_exclude": [
    "module",
    "function",
    "builtin_function_or_method",
    "instance",
    "_Feature"
   ],
   "window_display": false
  }
 },
 "nbformat": 4,
 "nbformat_minor": 4
}
