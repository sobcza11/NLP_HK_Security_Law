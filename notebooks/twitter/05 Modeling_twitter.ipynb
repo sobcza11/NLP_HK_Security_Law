{
 "cells": [
  {
   "cell_type": "markdown",
   "metadata": {},
   "source": [
    "# Modeling | Twitter ( HK NLP Project )"
   ]
  },
  {
   "cell_type": "markdown",
   "metadata": {},
   "source": [
    "# Table of Contents<a id='#home'></a>\n",
    "* [5.0 Modeling](#modeling)\n",
    "  * [5.1 Contents](#contents)\n",
    "    * [5.1.1 Libraries & Code](#eda_lib_code)\n",
    "    * [5.1.2 DataFrame Imports](#eda_dfs)\n",
    "  * [5.2 Setting the Stage for Clustering](#ssfc)\n",
    "    * [5.2.1 pyLDAvis](#eda_pyLDAvis)\n",
    "      * [5.2.1.1 Lemmatization](#eda_lemming)\n",
    "      * [5.2.1.2 Stop Word Removal](#eda_swr)\n",
    "      * [5.2.1.2 Bag of Words](#eda_bow)\n",
    "      * [5.2.1.2 LdaModeling](#eda_ldam)   \n",
    "    * [5.2.2 Bigrams](#eda_bgrams)\n",
    "    * [5.2.3 Stop Words Update](#eda_sw_update)\n",
    "    * [5.2.4 TfidF](#eda_gen_tfidf)\n",
    "    * [5.2.5 Coherence Score](#eda_cscore)\n",
    "    * [5.2.6 Words in Topics](#eda_words_in_t)\n",
    "    * [5.2.7 Topics Distribution](#eda_top_dist)\n",
    "    * [5.2.8 Reading Between the Lines](#eda_between)\n",
    "      * [5.2.8.1 RBL Topic 1](#eda_rdl_1)\n",
    "      * [5.2.8.2 RBL Topic 2](#eda_rdl_2)\n",
    "      * [5.2.8.3 RBL Topic 3](#eda_rdl_3)\n",
    "      * [5.2.8.4 RBL Topic 4](#eda_rdl_4)\n",
    "  * [5.3 Project Summary](#p_summary)\n"
   ]
  },
  {
   "cell_type": "markdown",
   "metadata": {},
   "source": [
    "# **5.1 Contents**<a id='contents'></a>"
   ]
  },
  {
   "cell_type": "markdown",
   "metadata": {},
   "source": [
    "Here we will do Modeling **with the goal of setting up Clusters**. Based on what we could initially see from EDA, **we will examine different ideas whereby we can potentially cluster Topics** successfully to give us a clearer idea of what Topics were Tweeted.\n",
    "\n",
    "As a reminder, **we have two (2) main data frames to start**; notably:\n",
    "   * **Main |** The back end of cleaned data frame.\n",
    "     * `df`\n",
    "   * **TfidfVectorizer |** df_main with TfidfVectorizer.\n",
    "     * `df_tweets_tfidf`\n",
    "\n",
    "We also have **two (2) supporting data frames** which we may use if required:\n",
    "   * **Positive Tweets |** Tweets with a Sentiment Comp Score above +0.53.\n",
    "     * `tw_above`\n",
    "   * **Negative Tweets |** Tweets with a Sentiment Comp Score below -0.36.\n",
    "     * `tw_below`\n",
    "\n",
    "\n",
    "**Our overall findings will be found in the section below**:\n",
    "   * [2.3 Project Summary](#p_summary)\n",
    "\n",
    "\n",
    "In the **process of Clustering the data will be passed through the below before the it gets to pyLDAvis**:\n",
    "\n",
    "   * Stop Word Re-Removal, \n",
    "   * Lemmatization & \n",
    "   * Bag of Words \n",
    "\n",
    "Once complete, **pyLDAvis will help better visualize potential clustering.** Please note, **for those looking at this on GitHub**, my apologies but **pyLDAvis doesn't show up there. You will see the output in the: \n",
    "   * Report &\n",
    "   * Presentations"
   ]
  },
  {
   "cell_type": "markdown",
   "metadata": {},
   "source": [
    "<a id='eda_lib_code'></a>**Libraries & Code**"
   ]
  },
  {
   "cell_type": "code",
   "execution_count": 1,
   "metadata": {},
   "outputs": [
    {
     "name": "stdout",
     "output_type": "stream",
     "text": [
      "Python implementation: CPython\n",
      "Python version       : 3.8.10\n",
      "IPython version      : 7.10.0\n",
      "\n",
      "pandas: 1.2.4\n",
      "\n"
     ]
    },
    {
     "name": "stderr",
     "output_type": "stream",
     "text": [
      "[nltk_data] Downloading package stopwords to\n",
      "[nltk_data]     C:\\Users\\rands\\AppData\\Roaming\\nltk_data...\n",
      "[nltk_data]   Package stopwords is already up-to-date!\n"
     ]
    }
   ],
   "source": [
    "# Main Imports\n",
    "import os\n",
    "import sys\n",
    "import json\n",
    "import glob\n",
    "import statistics\n",
    "from scipy.stats import skew\n",
    "import numpy as np\n",
    "import pandas as pd\n",
    "import seaborn as sns\n",
    "from scipy import stats\n",
    "from pandas import DataFrame\n",
    "import matplotlib.pyplot as plt\n",
    "import matplotlib.colors as colors\n",
    "import matplotlib.dates as mdates\n",
    "import matplotlib.ticker as ticker\n",
    "from matplotlib.pyplot import figure\n",
    "%matplotlib inline\n",
    "import datetime\n",
    "import time\n",
    "import warnings\n",
    "warnings.filterwarnings(\"ignore\")\n",
    "%reload_ext watermark\n",
    "import enchant \n",
    "import wget\n",
    "import zipfile\n",
    "from tqdm import tqdm\n",
    "import warnings\n",
    "warnings.filterwarnings(\"ignore\", category=DeprecationWarning)\n",
    "\n",
    "# NLP Imports\n",
    "import re\n",
    "import string\n",
    "import requests\n",
    "import urllib.request\n",
    "import nltk\n",
    "import pickle\n",
    "import emoji\n",
    "import gensim\n",
    "import gensim.corpora as corpora\n",
    "import pyLDAvis\n",
    "import pyLDAvis.gensim_models as gensimvis\n",
    "from gensim.utils import simple_preprocess\n",
    "from gensim.models import CoherenceModel\n",
    "from gensim.corpora import Dictionary, MmCorpus\n",
    "from better_profanity import profanity\n",
    "from nltk import sent_tokenize, word_tokenize\n",
    "from nltk.stem.snowball import SnowballStemmer\n",
    "from nltk.stem import PorterStemmer\n",
    "ps = PorterStemmer()\n",
    "from nltk.stem.wordnet import WordNetLemmatizer\n",
    "from textblob import TextBlob\n",
    "from bs4 import BeautifulSoup\n",
    "from wordcloud import WordCloud, STOPWORDS, ImageColorGenerator\n",
    "from spacy.language import Language\n",
    "\n",
    "\n",
    "from nltk.tokenize.casual import TweetTokenizer\n",
    "from nltk.corpus import stopwords\n",
    "from nltk.sentiment.vader import SentimentIntensityAnalyzer\n",
    "from gensim.corpora.dictionary import Dictionary\n",
    "from gensim.models.tfidfmodel import TfidfModel\n",
    "from sklearn.feature_extraction.text import TfidfVectorizer\n",
    "from sklearn.feature_extraction.text import CountVectorizer\n",
    "\n",
    "from collections import Counter\n",
    "import spacy\n",
    "import en_core_web_sm\n",
    "nltk.download(\"stopwords\")\n",
    "stop = stopwords.words('english')\n",
    "stops =  set(stopwords.words('english')+['com'])\n",
    "stopwords = nltk.corpus.stopwords.words('english')\n",
    "ps= nltk.PorterStemmer()\n",
    "\n",
    "results = Counter()\n",
    "\n",
    "%watermark -d -t -v -p pandas"
   ]
  },
  {
   "cell_type": "markdown",
   "metadata": {},
   "source": [
    "<a id='eda_dfs'></a>**DataFrame Imports** | Here we will import the data frames built during Data Wrangling."
   ]
  },
  {
   "cell_type": "code",
   "execution_count": 2,
   "metadata": {},
   "outputs": [
    {
     "name": "stdout",
     "output_type": "stream",
     "text": [
      "C:\\Users\\rands\n"
     ]
    }
   ],
   "source": [
    "cd"
   ]
  },
  {
   "cell_type": "code",
   "execution_count": 3,
   "metadata": {},
   "outputs": [],
   "source": [
    "df = pd.read_excel('./_Capstone_Two_NLP/data/_twitter/_post_eda/df.xlsx')\n",
    "df = df.reset_index()\n",
    "df = df.drop(columns=['Unnamed: 0','index'])"
   ]
  },
  {
   "cell_type": "code",
   "execution_count": 4,
   "metadata": {},
   "outputs": [
    {
     "data": {
      "text/html": [
       "<div>\n",
       "<style scoped>\n",
       "    .dataframe tbody tr th:only-of-type {\n",
       "        vertical-align: middle;\n",
       "    }\n",
       "\n",
       "    .dataframe tbody tr th {\n",
       "        vertical-align: top;\n",
       "    }\n",
       "\n",
       "    .dataframe thead th {\n",
       "        text-align: right;\n",
       "    }\n",
       "</style>\n",
       "<table border=\"1\" class=\"dataframe\">\n",
       "  <thead>\n",
       "    <tr style=\"text-align: right;\">\n",
       "      <th></th>\n",
       "      <th>hash</th>\n",
       "      <th>created_at</th>\n",
       "      <th>username</th>\n",
       "      <th>tweet</th>\n",
       "      <th>replies_count</th>\n",
       "      <th>retweets_count</th>\n",
       "      <th>likes_count</th>\n",
       "      <th>reply_to</th>\n",
       "      <th>hashtags</th>\n",
       "      <th>comp</th>\n",
       "      <th>neg</th>\n",
       "      <th>neu</th>\n",
       "      <th>pos</th>\n",
       "      <th>tweet_stemmed</th>\n",
       "      <th>tweet_lemmatized</th>\n",
       "      <th>#_words_tweet</th>\n",
       "      <th>#_hashtags</th>\n",
       "    </tr>\n",
       "  </thead>\n",
       "  <tbody>\n",
       "    <tr>\n",
       "      <th>0</th>\n",
       "      <td>#FightForHongKong</td>\n",
       "      <td>2020-08-28</td>\n",
       "      <td>ginny81025554</td>\n",
       "      <td>Thanks speaking us #fridaysforfreedom #fightfo...</td>\n",
       "      <td>0</td>\n",
       "      <td>1</td>\n",
       "      <td>2</td>\n",
       "      <td>[{'screen_name': 'benedictrogers', 'name': 'Be...</td>\n",
       "      <td>['fridaysforfreedom', 'fightforhongkong']</td>\n",
       "      <td>0.4404</td>\n",
       "      <td>0.000</td>\n",
       "      <td>0.707</td>\n",
       "      <td>0.293</td>\n",
       "      <td>['thank', 'speak', 'us', 'fridaysforfreedom', ...</td>\n",
       "      <td>['Thanks', 'speaking', 'u', '#fridaysforfreedo...</td>\n",
       "      <td>5</td>\n",
       "      <td>2</td>\n",
       "    </tr>\n",
       "    <tr>\n",
       "      <th>1</th>\n",
       "      <td>#FightForHongKong</td>\n",
       "      <td>2020-08-25</td>\n",
       "      <td>peterhjorth_ddp</td>\n",
       "      <td>How stop China Hong Kong. Read new report Dani...</td>\n",
       "      <td>0</td>\n",
       "      <td>0</td>\n",
       "      <td>0</td>\n",
       "      <td>[]</td>\n",
       "      <td>['dkpol', 'kina', 'hongkongprotest', 'fightfor...</td>\n",
       "      <td>-0.2960</td>\n",
       "      <td>0.071</td>\n",
       "      <td>0.929</td>\n",
       "      <td>0.000</td>\n",
       "      <td>['stop', 'china', 'hong', 'kong', 'read', 'new...</td>\n",
       "      <td>['How', 'stop', 'China', 'Hong', 'Kong.', 'Rea...</td>\n",
       "      <td>25</td>\n",
       "      <td>13</td>\n",
       "    </tr>\n",
       "  </tbody>\n",
       "</table>\n",
       "</div>"
      ],
      "text/plain": [
       "                hash created_at         username  \\\n",
       "0  #FightForHongKong 2020-08-28    ginny81025554   \n",
       "1  #FightForHongKong 2020-08-25  peterhjorth_ddp   \n",
       "\n",
       "                                               tweet  replies_count  \\\n",
       "0  Thanks speaking us #fridaysforfreedom #fightfo...              0   \n",
       "1  How stop China Hong Kong. Read new report Dani...              0   \n",
       "\n",
       "   retweets_count  likes_count  \\\n",
       "0               1            2   \n",
       "1               0            0   \n",
       "\n",
       "                                            reply_to  \\\n",
       "0  [{'screen_name': 'benedictrogers', 'name': 'Be...   \n",
       "1                                                 []   \n",
       "\n",
       "                                            hashtags    comp    neg    neu  \\\n",
       "0          ['fridaysforfreedom', 'fightforhongkong']  0.4404  0.000  0.707   \n",
       "1  ['dkpol', 'kina', 'hongkongprotest', 'fightfor... -0.2960  0.071  0.929   \n",
       "\n",
       "     pos                                      tweet_stemmed  \\\n",
       "0  0.293  ['thank', 'speak', 'us', 'fridaysforfreedom', ...   \n",
       "1  0.000  ['stop', 'china', 'hong', 'kong', 'read', 'new...   \n",
       "\n",
       "                                    tweet_lemmatized  #_words_tweet  \\\n",
       "0  ['Thanks', 'speaking', 'u', '#fridaysforfreedo...              5   \n",
       "1  ['How', 'stop', 'China', 'Hong', 'Kong.', 'Rea...             25   \n",
       "\n",
       "   #_hashtags  \n",
       "0           2  \n",
       "1          13  "
      ]
     },
     "execution_count": 4,
     "metadata": {},
     "output_type": "execute_result"
    }
   ],
   "source": [
    "# checking to see if it was pulled in correctly\n",
    "df.head(2)"
   ]
  },
  {
   "cell_type": "code",
   "execution_count": 5,
   "metadata": {
    "scrolled": true
   },
   "outputs": [],
   "source": [
    "df_tweets_tfidf = pd.read_pickle(\"./_Capstone_Two_NLP/data/_twitter/_post_eda/df_tweets_tfidf.pkl\")"
   ]
  },
  {
   "cell_type": "code",
   "execution_count": 6,
   "metadata": {},
   "outputs": [
    {
     "data": {
      "text/html": [
       "<div>\n",
       "<style scoped>\n",
       "    .dataframe tbody tr th:only-of-type {\n",
       "        vertical-align: middle;\n",
       "    }\n",
       "\n",
       "    .dataframe tbody tr th {\n",
       "        vertical-align: top;\n",
       "    }\n",
       "\n",
       "    .dataframe thead th {\n",
       "        text-align: right;\n",
       "    }\n",
       "</style>\n",
       "<table border=\"1\" class=\"dataframe\">\n",
       "  <thead>\n",
       "    <tr style=\"text-align: right;\">\n",
       "      <th></th>\n",
       "      <th>hash</th>\n",
       "      <th>created_at</th>\n",
       "      <th>username</th>\n",
       "      <th>tweet</th>\n",
       "      <th>replies_count</th>\n",
       "      <th>retweets_count</th>\n",
       "      <th>likes_count</th>\n",
       "      <th>reply_to</th>\n",
       "      <th>hashtags</th>\n",
       "      <th>comp</th>\n",
       "      <th>...</th>\n",
       "      <th>world</th>\n",
       "      <th>would</th>\n",
       "      <th>xijinping</th>\n",
       "      <th>year</th>\n",
       "      <th>years</th>\n",
       "      <th>yes</th>\n",
       "      <th>yet</th>\n",
       "      <th>you</th>\n",
       "      <th>young</th>\n",
       "      <th>your</th>\n",
       "    </tr>\n",
       "  </thead>\n",
       "  <tbody>\n",
       "    <tr>\n",
       "      <th>0</th>\n",
       "      <td>#FightForHongKong</td>\n",
       "      <td>2020-08-28</td>\n",
       "      <td>ginny81025554</td>\n",
       "      <td>Thanks speaking us #fridaysforfreedom #fightfo...</td>\n",
       "      <td>0</td>\n",
       "      <td>1</td>\n",
       "      <td>2</td>\n",
       "      <td>[{'screen_name': 'benedictrogers', 'name': 'Be...</td>\n",
       "      <td>['fridaysforfreedom', 'fightforhongkong']</td>\n",
       "      <td>0.4404</td>\n",
       "      <td>...</td>\n",
       "      <td>0.0</td>\n",
       "      <td>0.0</td>\n",
       "      <td>0.0</td>\n",
       "      <td>0.0</td>\n",
       "      <td>0.0</td>\n",
       "      <td>0.0</td>\n",
       "      <td>0.0</td>\n",
       "      <td>0.0</td>\n",
       "      <td>0.0</td>\n",
       "      <td>0.0</td>\n",
       "    </tr>\n",
       "  </tbody>\n",
       "</table>\n",
       "<p>1 rows × 426 columns</p>\n",
       "</div>"
      ],
      "text/plain": [
       "                hash created_at       username  \\\n",
       "0  #FightForHongKong 2020-08-28  ginny81025554   \n",
       "\n",
       "                                               tweet  replies_count  \\\n",
       "0  Thanks speaking us #fridaysforfreedom #fightfo...              0   \n",
       "\n",
       "   retweets_count  likes_count  \\\n",
       "0               1            2   \n",
       "\n",
       "                                            reply_to  \\\n",
       "0  [{'screen_name': 'benedictrogers', 'name': 'Be...   \n",
       "\n",
       "                                    hashtags    comp  ...  world  would  \\\n",
       "0  ['fridaysforfreedom', 'fightforhongkong']  0.4404  ...    0.0    0.0   \n",
       "\n",
       "   xijinping year years  yes  yet  you  young  your  \n",
       "0        0.0  0.0   0.0  0.0  0.0  0.0    0.0   0.0  \n",
       "\n",
       "[1 rows x 426 columns]"
      ]
     },
     "execution_count": 6,
     "metadata": {},
     "output_type": "execute_result"
    }
   ],
   "source": [
    "# checking to see if it was pulled in correctly\n",
    "df_tweets_tfidf.head(1)"
   ]
  },
  {
   "cell_type": "code",
   "execution_count": 7,
   "metadata": {},
   "outputs": [],
   "source": [
    "tw_above = pd.read_pickle(\"./_Capstone_Two_NLP/data/_twitter/_post_eda/tw_above.pkl\")"
   ]
  },
  {
   "cell_type": "code",
   "execution_count": 8,
   "metadata": {},
   "outputs": [],
   "source": [
    "tw_below = pd.read_pickle(\"./_Capstone_Two_NLP/data/_twitter/_post_eda/tw_below.pkl\")"
   ]
  },
  {
   "cell_type": "code",
   "execution_count": 9,
   "metadata": {},
   "outputs": [
    {
     "name": "stdout",
     "output_type": "stream",
     "text": [
      "Main_df Got Nulls? | False \n",
      "Tfidf Got Nulls?   | False\n"
     ]
    }
   ],
   "source": [
    "#to confirm no cells in the main two are null\n",
    "print('Main_df Got Nulls? |',df.isnull().values.any(),'\\n'\n",
    "     'Tfidf Got Nulls?   |',df_tweets_tfidf.isnull().values.any()\n",
    "     )"
   ]
  },
  {
   "cell_type": "markdown",
   "metadata": {},
   "source": [
    "**Code Defined** | We will display the Code Defined for the `df` only as the variables remain consistent throughout."
   ]
  },
  {
   "attachments": {
    "image-2.png": {
     "image/png": "[encoded data removed]"
    }
   },
   "cell_type": "markdown",
   "metadata": {},
   "source": [
    "![image-2.png](attachment:image-2.png)"
   ]
  },
  {
   "cell_type": "markdown",
   "metadata": {},
   "source": [
    "**We will run the `describe` function on the `main_df` only** as the additional numbers for `df_tweets_tfidf` are numerous."
   ]
  },
  {
   "cell_type": "code",
   "execution_count": 10,
   "metadata": {},
   "outputs": [
    {
     "data": {
      "text/html": [
       "<div>\n",
       "<style scoped>\n",
       "    .dataframe tbody tr th:only-of-type {\n",
       "        vertical-align: middle;\n",
       "    }\n",
       "\n",
       "    .dataframe tbody tr th {\n",
       "        vertical-align: top;\n",
       "    }\n",
       "\n",
       "    .dataframe thead th {\n",
       "        text-align: right;\n",
       "    }\n",
       "</style>\n",
       "<table border=\"1\" class=\"dataframe\">\n",
       "  <thead>\n",
       "    <tr style=\"text-align: right;\">\n",
       "      <th></th>\n",
       "      <th>replies_count</th>\n",
       "      <th>retweets_count</th>\n",
       "      <th>likes_count</th>\n",
       "      <th>comp</th>\n",
       "      <th>neg</th>\n",
       "      <th>neu</th>\n",
       "      <th>pos</th>\n",
       "      <th>#_words_tweet</th>\n",
       "      <th>#_hashtags</th>\n",
       "    </tr>\n",
       "  </thead>\n",
       "  <tbody>\n",
       "    <tr>\n",
       "      <th>count</th>\n",
       "      <td>163699.000000</td>\n",
       "      <td>163699.000000</td>\n",
       "      <td>163699.000000</td>\n",
       "      <td>163699.000000</td>\n",
       "      <td>163699.000000</td>\n",
       "      <td>163699.000000</td>\n",
       "      <td>163699.000000</td>\n",
       "      <td>163699.000000</td>\n",
       "      <td>163699.000000</td>\n",
       "    </tr>\n",
       "    <tr>\n",
       "      <th>mean</th>\n",
       "      <td>0.570889</td>\n",
       "      <td>6.148669</td>\n",
       "      <td>11.258169</td>\n",
       "      <td>0.095108</td>\n",
       "      <td>0.102678</td>\n",
       "      <td>0.728057</td>\n",
       "      <td>0.169265</td>\n",
       "      <td>14.371187</td>\n",
       "      <td>3.267876</td>\n",
       "    </tr>\n",
       "    <tr>\n",
       "      <th>std</th>\n",
       "      <td>13.535243</td>\n",
       "      <td>109.366725</td>\n",
       "      <td>173.143553</td>\n",
       "      <td>0.534434</td>\n",
       "      <td>0.124905</td>\n",
       "      <td>0.164872</td>\n",
       "      <td>0.161290</td>\n",
       "      <td>8.002316</td>\n",
       "      <td>2.637373</td>\n",
       "    </tr>\n",
       "    <tr>\n",
       "      <th>min</th>\n",
       "      <td>0.000000</td>\n",
       "      <td>0.000000</td>\n",
       "      <td>0.000000</td>\n",
       "      <td>-0.990100</td>\n",
       "      <td>0.000000</td>\n",
       "      <td>0.078000</td>\n",
       "      <td>0.000000</td>\n",
       "      <td>1.000000</td>\n",
       "      <td>1.000000</td>\n",
       "    </tr>\n",
       "    <tr>\n",
       "      <th>25%</th>\n",
       "      <td>0.000000</td>\n",
       "      <td>0.000000</td>\n",
       "      <td>0.000000</td>\n",
       "      <td>-0.361200</td>\n",
       "      <td>0.000000</td>\n",
       "      <td>0.616000</td>\n",
       "      <td>0.000000</td>\n",
       "      <td>8.000000</td>\n",
       "      <td>1.000000</td>\n",
       "    </tr>\n",
       "    <tr>\n",
       "      <th>50%</th>\n",
       "      <td>0.000000</td>\n",
       "      <td>0.000000</td>\n",
       "      <td>1.000000</td>\n",
       "      <td>0.077200</td>\n",
       "      <td>0.065000</td>\n",
       "      <td>0.725000</td>\n",
       "      <td>0.144000</td>\n",
       "      <td>13.000000</td>\n",
       "      <td>3.000000</td>\n",
       "    </tr>\n",
       "    <tr>\n",
       "      <th>75%</th>\n",
       "      <td>0.000000</td>\n",
       "      <td>1.000000</td>\n",
       "      <td>2.000000</td>\n",
       "      <td>0.539900</td>\n",
       "      <td>0.179000</td>\n",
       "      <td>0.835000</td>\n",
       "      <td>0.270000</td>\n",
       "      <td>20.000000</td>\n",
       "      <td>4.000000</td>\n",
       "    </tr>\n",
       "    <tr>\n",
       "      <th>max</th>\n",
       "      <td>3014.000000</td>\n",
       "      <td>16023.000000</td>\n",
       "      <td>32479.000000</td>\n",
       "      <td>0.998900</td>\n",
       "      <td>0.897000</td>\n",
       "      <td>1.000000</td>\n",
       "      <td>0.922000</td>\n",
       "      <td>65.000000</td>\n",
       "      <td>26.000000</td>\n",
       "    </tr>\n",
       "  </tbody>\n",
       "</table>\n",
       "</div>"
      ],
      "text/plain": [
       "       replies_count  retweets_count    likes_count           comp  \\\n",
       "count  163699.000000   163699.000000  163699.000000  163699.000000   \n",
       "mean        0.570889        6.148669      11.258169       0.095108   \n",
       "std        13.535243      109.366725     173.143553       0.534434   \n",
       "min         0.000000        0.000000       0.000000      -0.990100   \n",
       "25%         0.000000        0.000000       0.000000      -0.361200   \n",
       "50%         0.000000        0.000000       1.000000       0.077200   \n",
       "75%         0.000000        1.000000       2.000000       0.539900   \n",
       "max      3014.000000    16023.000000   32479.000000       0.998900   \n",
       "\n",
       "                 neg            neu            pos  #_words_tweet  \\\n",
       "count  163699.000000  163699.000000  163699.000000  163699.000000   \n",
       "mean        0.102678       0.728057       0.169265      14.371187   \n",
       "std         0.124905       0.164872       0.161290       8.002316   \n",
       "min         0.000000       0.078000       0.000000       1.000000   \n",
       "25%         0.000000       0.616000       0.000000       8.000000   \n",
       "50%         0.065000       0.725000       0.144000      13.000000   \n",
       "75%         0.179000       0.835000       0.270000      20.000000   \n",
       "max         0.897000       1.000000       0.922000      65.000000   \n",
       "\n",
       "          #_hashtags  \n",
       "count  163699.000000  \n",
       "mean        3.267876  \n",
       "std         2.637373  \n",
       "min         1.000000  \n",
       "25%         1.000000  \n",
       "50%         3.000000  \n",
       "75%         4.000000  \n",
       "max        26.000000  "
      ]
     },
     "execution_count": 10,
     "metadata": {},
     "output_type": "execute_result"
    }
   ],
   "source": [
    "df.describe()"
   ]
  },
  {
   "cell_type": "markdown",
   "metadata": {},
   "source": [
    "# **5.3 Setting the Stage for Clustering**<a id='ssfc'></a>"
   ]
  },
  {
   "cell_type": "markdown",
   "metadata": {},
   "source": [
    "<a id='eda_pyLDAvis'></a>**pyLDAvis** | Before we begin, we will provide a brief explaination of the tool for clustering which is pyLDAvis:\n",
    "   * pyLDAvis is designed to help users interpret the topics in a topic model that has been fit to a corpus of text data. The package extracts information from a fitted LDA topic model to inform an interactive web-based visualization.\n",
    "\n",
    "To reiterate, **for those looking at this on GitHub**, my apologies but **pyLDAvis doesn't show up there. You will see the output in the**: \n",
    "   * Report &\n",
    "   * Presentations\n"
   ]
  },
  {
   "cell_type": "markdown",
   "metadata": {},
   "source": [
    "**Setting up a Seperate Data Frame**"
   ]
  },
  {
   "cell_type": "code",
   "execution_count": 12,
   "metadata": {},
   "outputs": [
    {
     "name": "stderr",
     "output_type": "stream",
     "text": [
      "<>:8: DeprecationWarning: invalid escape sequence \\w\n",
      "<>:10: DeprecationWarning: invalid escape sequence \\d\n",
      "<>:8: DeprecationWarning: invalid escape sequence \\w\n",
      "<>:10: DeprecationWarning: invalid escape sequence \\d\n",
      "<ipython-input-12-a9a20fd6bc07>:8: DeprecationWarning: invalid escape sequence \\w\n",
      "  df_cluster['tweet'] = df_cluster['tweet'].str.replace('[^\\w\\s]','')\n",
      "<ipython-input-12-a9a20fd6bc07>:10: DeprecationWarning: invalid escape sequence \\d\n",
      "  df_cluster['tweet'] = df_cluster['tweet'].str.replace('\\d+', '')\n"
     ]
    },
    {
     "data": {
      "text/plain": [
       "0                                 thanks speaking us  \n",
       "1    how stop china hong kong read new report danis...\n",
       "Name: tweet, dtype: object"
      ]
     },
     "execution_count": 12,
     "metadata": {},
     "output_type": "execute_result"
    }
   ],
   "source": [
    "df_cluster = df.copy()\n",
    "#lowercasing the words in the tweets\n",
    "df_cluster['tweet'] = df_cluster['tweet'].str.lower()\n",
    "#Let’s get rid of them using regular expressions\n",
    "#removing the hashtags from the tweets\n",
    "df_cluster['tweet'] = df_cluster['tweet'].str.replace(\"#[A-Za-z0-9]+\",\"\")\n",
    "#removing punctuation\n",
    "df_cluster['tweet'] = df_cluster['tweet'].str.replace('[^\\w\\s]','')\n",
    "#removing numbers\n",
    "df_cluster['tweet'] = df_cluster['tweet'].str.replace('\\d+', '')\n",
    "#removing Chinese characters\n",
    "df_cluster['tweet'] = df_cluster['tweet'].str.replace(r'[^\\x00-\\x7F]+', '')\n",
    "df_cluster['tweet'].head(2)"
   ]
  },
  {
   "cell_type": "code",
   "execution_count": 13,
   "metadata": {},
   "outputs": [
    {
     "data": {
      "text/plain": [
       "163699"
      ]
     },
     "execution_count": 13,
     "metadata": {},
     "output_type": "execute_result"
    }
   ],
   "source": [
    "len(df_cluster)"
   ]
  },
  {
   "cell_type": "code",
   "execution_count": 14,
   "metadata": {},
   "outputs": [
    {
     "data": {
      "text/plain": [
       "1"
      ]
     },
     "execution_count": 14,
     "metadata": {},
     "output_type": "execute_result"
    }
   ],
   "source": [
    "df_cluster['tweet'].isnull().sum()"
   ]
  },
  {
   "cell_type": "code",
   "execution_count": 15,
   "metadata": {},
   "outputs": [
    {
     "data": {
      "text/html": [
       "<div>\n",
       "<style scoped>\n",
       "    .dataframe tbody tr th:only-of-type {\n",
       "        vertical-align: middle;\n",
       "    }\n",
       "\n",
       "    .dataframe tbody tr th {\n",
       "        vertical-align: top;\n",
       "    }\n",
       "\n",
       "    .dataframe thead th {\n",
       "        text-align: right;\n",
       "    }\n",
       "</style>\n",
       "<table border=\"1\" class=\"dataframe\">\n",
       "  <thead>\n",
       "    <tr style=\"text-align: right;\">\n",
       "      <th></th>\n",
       "      <th>hash</th>\n",
       "      <th>created_at</th>\n",
       "      <th>username</th>\n",
       "      <th>tweet</th>\n",
       "      <th>replies_count</th>\n",
       "      <th>retweets_count</th>\n",
       "      <th>likes_count</th>\n",
       "      <th>reply_to</th>\n",
       "      <th>hashtags</th>\n",
       "      <th>comp</th>\n",
       "      <th>neg</th>\n",
       "      <th>neu</th>\n",
       "      <th>pos</th>\n",
       "      <th>tweet_stemmed</th>\n",
       "      <th>tweet_lemmatized</th>\n",
       "      <th>#_words_tweet</th>\n",
       "      <th>#_hashtags</th>\n",
       "    </tr>\n",
       "  </thead>\n",
       "  <tbody>\n",
       "    <tr>\n",
       "      <th>132118</th>\n",
       "      <td>#freehongkong</td>\n",
       "      <td>2020-07-23</td>\n",
       "      <td>spqrdawg</td>\n",
       "      <td>NaN</td>\n",
       "      <td>0</td>\n",
       "      <td>0</td>\n",
       "      <td>0</td>\n",
       "      <td>[]</td>\n",
       "      <td>['freehongkong', 'freehongkong', 'chinesecommu...</td>\n",
       "      <td>0.0</td>\n",
       "      <td>0.0</td>\n",
       "      <td>1.0</td>\n",
       "      <td>0.0</td>\n",
       "      <td>['', 'state', 'sponsor', 'media', 'freehongkon...</td>\n",
       "      <td>['=', 'STATE', 'SPONSORED', 'MEDIA', '#FreeHon...</td>\n",
       "      <td>7</td>\n",
       "      <td>3</td>\n",
       "    </tr>\n",
       "  </tbody>\n",
       "</table>\n",
       "</div>"
      ],
      "text/plain": [
       "                 hash created_at  username tweet  replies_count  \\\n",
       "132118  #freehongkong 2020-07-23  spqrdawg   NaN              0   \n",
       "\n",
       "        retweets_count  likes_count reply_to  \\\n",
       "132118               0            0       []   \n",
       "\n",
       "                                                 hashtags  comp  neg  neu  \\\n",
       "132118  ['freehongkong', 'freehongkong', 'chinesecommu...   0.0  0.0  1.0   \n",
       "\n",
       "        pos                                      tweet_stemmed  \\\n",
       "132118  0.0  ['', 'state', 'sponsor', 'media', 'freehongkon...   \n",
       "\n",
       "                                         tweet_lemmatized  #_words_tweet  \\\n",
       "132118  ['=', 'STATE', 'SPONSORED', 'MEDIA', '#FreeHon...              7   \n",
       "\n",
       "        #_hashtags  \n",
       "132118           3  "
      ]
     },
     "execution_count": 15,
     "metadata": {},
     "output_type": "execute_result"
    }
   ],
   "source": [
    "is_NaN = df_cluster.isnull()\n",
    "row_has_NaN = is_NaN.any(axis=1)\n",
    "rows_with_NaN = df_cluster[row_has_NaN]\n",
    "rows_with_NaN"
   ]
  },
  {
   "cell_type": "code",
   "execution_count": 16,
   "metadata": {},
   "outputs": [],
   "source": [
    "df_cluster = df_cluster.drop([132118])"
   ]
  },
  {
   "cell_type": "code",
   "execution_count": 17,
   "metadata": {},
   "outputs": [
    {
     "data": {
      "text/plain": [
       "0"
      ]
     },
     "execution_count": 17,
     "metadata": {},
     "output_type": "execute_result"
    }
   ],
   "source": [
    "df_cluster['tweet'].isnull().sum()"
   ]
  },
  {
   "cell_type": "markdown",
   "metadata": {},
   "source": [
    "<a id='eda_lemming'></a>**Lemmatization**"
   ]
  },
  {
   "cell_type": "code",
   "execution_count": 18,
   "metadata": {},
   "outputs": [
    {
     "name": "stdout",
     "output_type": "stream",
     "text": [
      "thank speak\n"
     ]
    }
   ],
   "source": [
    "def lemmatization(texts, allowed_postags=[\"NOUN\", \"ADJ\", \"VERB\", \"ADV\"]):\n",
    "    nlp = spacy.load(\"en_core_web_sm\", disable=[\"parser\", \"ner\"])\n",
    "    texts_out = []\n",
    "    for text in texts:\n",
    "        doc = nlp(text)\n",
    "        new_text = []\n",
    "        for token in doc:\n",
    "            if token.pos_ in allowed_postags:\n",
    "                new_text.append(token.lemma_)\n",
    "        final = \" \".join(new_text)\n",
    "        texts_out.append(final)\n",
    "    return (texts_out)\n",
    "\n",
    "\n",
    "lemmatized_texts = lemmatization(df_cluster['tweet'])\n",
    "print(lemmatized_texts[0][0:90])"
   ]
  },
  {
   "cell_type": "markdown",
   "metadata": {},
   "source": [
    "That doesn't mean much; it's just confirmation that it worked & it allows a topic model to categorize things easily.\n",
    "\n",
    "<a id='eda_swr'></a>**Stop Word Removal** | Reduce text to individual words & double confirm stop words have been removed."
   ]
  },
  {
   "cell_type": "code",
   "execution_count": 19,
   "metadata": {
    "scrolled": true
   },
   "outputs": [
    {
     "name": "stdout",
     "output_type": "stream",
     "text": [
      "['how', 'stop', 'china', 'hong', 'kong', 'read', 'new', 'report', 'danish', 'think', 'tank', 'cipo']\n"
     ]
    }
   ],
   "source": [
    "def gen_words(texts):\n",
    "    final = []\n",
    "    for text in texts:\n",
    "        new = gensim.utils.simple_preprocess(text, deacc=True) #deacc is a boolean for accent words; may have so it's true\n",
    "        final.append(new)\n",
    "    return (final)\n",
    "\n",
    "data_words = gen_words(lemmatized_texts)\n",
    "\n",
    "print(data_words[1][0:20])"
   ]
  },
  {
   "cell_type": "markdown",
   "metadata": {},
   "source": [
    "We now have stop words removed; thus a much cleaner text. Lemmization isn't perfect so words like `cipo` doesn't make sense unless it's referring to the Canadian Intellectual Property Office.\n",
    "\n",
    "Nevertheless, we have a clean set to build a topic model."
   ]
  },
  {
   "cell_type": "markdown",
   "metadata": {},
   "source": [
    "<a id='eda_bow'></a>**Bag of Words**"
   ]
  },
  {
   "cell_type": "code",
   "execution_count": 20,
   "metadata": {},
   "outputs": [
    {
     "name": "stdout",
     "output_type": "stream",
     "text": [
      "[(2, 1), (3, 1), (4, 1), (5, 1), (6, 1), (7, 1), (8, 1), (9, 1), (10, 1), (11, 1), (12, 1), (13, 1)]\n"
     ]
    }
   ],
   "source": [
    "# this allows us to have a few key pieces of data\n",
    "id2word = corpora.Dictionary(data_words)\n",
    "\n",
    "corpus = []\n",
    "for text in data_words:\n",
    "    new = id2word.doc2bow(text) #bow = bag of words\n",
    "    corpus.append(new)\n",
    "\n",
    "print (corpus[1][0:20])"
   ]
  },
  {
   "cell_type": "markdown",
   "metadata": {},
   "source": [
    "That list of arrays doesn't make much sense to us humans so I will show you what the first array means for reference."
   ]
  },
  {
   "cell_type": "code",
   "execution_count": 21,
   "metadata": {},
   "outputs": [
    {
     "name": "stdout",
     "output_type": "stream",
     "text": [
      "thank\n"
     ]
    }
   ],
   "source": [
    "word = id2word[[1][:][0]]\n",
    "print(word)"
   ]
  },
  {
   "cell_type": "markdown",
   "metadata": {},
   "source": [
    "<a id='eda_ldam'></a>**LdaModeling** | We now have a dictionary to lookup words & their frequency. We will start with 30 topics."
   ]
  },
  {
   "cell_type": "code",
   "execution_count": 22,
   "metadata": {},
   "outputs": [],
   "source": [
    "lda_model = gensim.models.ldamodel.LdaModel(corpus=corpus, \n",
    "                                           id2word=id2word,\n",
    "                                           num_topics=30,    # this may result for a lot in the \"mistake\" topic\n",
    "                                           random_state=100, \n",
    "                                           update_every=1,   \n",
    "                                           chunksize=100, \n",
    "                                           passes=10, # passing over the data this many times\n",
    "                                           alpha=\"auto\")\n"
   ]
  },
  {
   "cell_type": "markdown",
   "metadata": {},
   "source": [
    "**pyLDAvis** | Visualizing the Tweet Data"
   ]
  },
  {
   "cell_type": "code",
   "execution_count": 23,
   "metadata": {},
   "outputs": [
    {
     "data": {
      "text/html": [
       "\n",
       "<link rel=\"stylesheet\" type=\"text/css\" href=\"https://cdn.jsdelivr.net/gh/bmabey/pyLDAvis@3.3.1/pyLDAvis/js/ldavis.v1.0.0.css\">\n",
       "\n",
       "\n",
       "<div id=\"ldavis_el1857615708451552161863492839\"></div>\n",
       "<script type=\"text/javascript\">\n",
       "\n",
       "var ldavis_el1857615708451552161863492839_data = {\"mdsDat\": {\"x\": [-0.5283184365951729, 0.17591215783794664, 0.44415480874493585, 0.36352930638374964, 0.5012885477977495, -0.01634560367766405, -0.3590742873812179, 0.5025207782917952, -0.43620811523871167, -0.4613977503707814, -0.290141944811105, -0.16234061925162638, -0.2529283165398647, 0.37684227250357444, 0.07082967252154437, 0.368042169010515, 0.2589998375741997, -0.3703593097881876, -0.32645047710932457, 0.12703542479715021, 0.20783849382064254, -0.10350581947860177, -0.09326115836806644, 0.10845372575379708, 0.05240396493665468, -0.051864311671159256, -0.02639026272994949, -0.026425801674745477, -0.026416840450085775, -0.026422104837991067], \"y\": [0.09911075359116255, -0.49912751871321415, 0.22116442959847132, 0.34904956735831166, -0.17251872490743264, -0.4832806205742851, 0.3779323728366293, 0.057267938318217644, -0.2900333237776023, -0.06997474077277203, 0.3529819710755775, -0.4545646945558053, -0.3514526422324171, -0.020628697400840657, 0.498319002980215, -0.31734192463851896, -0.24156158269432118, 0.14184613681831462, -0.1800124106820126, 0.3817525392731423, 0.264694276944866, 0.2756721241879888, 0.43013590453482076, -0.3225980353064887, 0.02883838161233969, -0.06514510239681645, -0.0026521488999312393, -0.0026215030165183165, -0.002627949020651551, -0.002623779540428849], \"topics\": [1, 2, 3, 4, 5, 6, 7, 8, 9, 10, 11, 12, 13, 14, 15, 16, 17, 18, 19, 20, 21, 22, 23, 24, 25, 26, 27, 28, 29, 30], \"cluster\": [1, 1, 1, 1, 1, 1, 1, 1, 1, 1, 1, 1, 1, 1, 1, 1, 1, 1, 1, 1, 1, 1, 1, 1, 1, 1, 1, 1, 1, 1], \"Freq\": [8.980569150258841, 8.41465568661187, 8.260152347941723, 7.619265525471107, 6.468152063770234, 6.256667251973262, 5.214641977457617, 5.094746438877269, 5.0571503051696745, 4.423181532711257, 4.194474181668307, 3.9430991026741475, 3.470792922902967, 2.76163917204414, 2.72562257948415, 2.438199180451609, 2.4296499989219096, 2.1783791233068817, 2.1048335151821256, 1.9984508115463084, 1.6297532626894091, 1.5742378990755506, 1.2540008972660872, 1.0355791876601965, 0.24568580488544728, 0.12893204718560586, 0.024372008203076927, 0.024372008203076927, 0.024372008203076927, 0.024372008203076927]}, \"tinfo\": {\"Term\": [\"amp\", \"hong\", \"police\", \"kong\", \"hk\", \"negative\", \"do\", \"support\", \"arrest\", \"world\", \"never\", \"freedom\", \"china\", \"ccp\", \"give\", \"be\", \"see\", \"people\", \"law\", \"is_terrorist\", \"use\", \"now\", \"say\", \"citizen\", \"know\", \"justice\", \"fight\", \"stop\", \"thank\", \"happen\", \"arrest\", \"people\", \"get\", \"journalist\", \"need\", \"democracy\", \"break\", \"hold\", \"allow\", \"thing\", \"look\", \"include\", \"child\", \"sign\", \"probably\", \"form\", \"defend\", \"petition\", \"wong\", \"joshua\", \"sanction\", \"beat\", \"victim\", \"pepper\", \"ppl\", \"fill\", \"spray\", \"no\", \"international\", \"many\", \"even\", \"right\", \"attack\", \"long\", \"become\", \"city\", \"hong\", \"kong\", \"today\", \"many\", \"brutality\", \"press\", \"dictatorship\", \"hkpolice\", \"terrorist\", \"deserve\", \"government\", \"become\", \"city\", \"human\", \"hker\", \"right\", \"make\", \"matter\", \"gov\", \"attack\", \"long\", \"evil\", \"even\", \"sanction\", \"cipo\", \"danish\", \"tank\", \"communism\", \"dominate\", \"brother\", \"speak\", \"thank\", \"china\", \"how\", \"support\", \"use\", \"now\", \"thank\", \"student\", \"punish\", \"election\", \"university\", \"council\", \"legislative\", \"atrocity\", \"japan\", \"clean\", \"long\", \"evil\", \"even\", \"sanction\", \"speak\", \"much\", \"country\", \"bad\", \"riot\", \"officer\", \"power\", \"live\", \"reporter\", \"act\", \"reason\", \"torture\", \"beat\", \"pepper\", \"spray\", \"corruption\", \"let\", \"right\", \"attack\", \"become\", \"victim\", \"city\", \"never\", \"china\", \"give\", \"go\", \"good\", \"insane\", \"detain\", \"recent\", \"development\", \"luck\", \"city\", \"gov\", \"long\", \"evil\", \"even\", \"sanction\", \"forgive\", \"pouting_face\", \"british\", \"sino\", \"decl\", \"offical\", \"bad\", \"riot\", \"officer\", \"power\", \"live\", \"reporter\", \"act\", \"reason\", \"spray\", \"corruption\", \"let\", \"right\", \"attack\", \"become\", \"victim\", \"dictatorship\", \"many\", \"police\", \"year\", \"force\", \"protester\", \"help\", \"state\", \"konger\", \"impose\", \"wait\", \"post\", \"democratic\", \"read\", \"thousand\", \"terrorism\", \"large\", \"trump\", \"stage\", \"kick\", \"pepper\", \"spray\", \"brutality\", \"right\", \"make\", \"matter\", \"gov\", \"attack\", \"long\", \"evil\", \"even\", \"cipo\", \"sanction\", \"world\", \"ccp\", \"want\", \"report\", \"fact\", \"whole\", \"anymore\", \"soon\", \"worldwide\", \"boycott\", \"evil\", \"sanction\", \"let\", \"really\", \"corruption\", \"threaten\", \"puppet\", \"fill\", \"brutal\", \"true\", \"no\", \"international\", \"many\", \"brutality\", \"press\", \"dictatorship\", \"hkpolice\", \"terrorist\", \"deserve\", \"government\", \"even\", \"right\", \"attack\", \"long\", \"become\", \"city\", \"make\", \"human\", \"know\", \"fight\", \"time\", \"last\", \"keep\", \"well\", \"death\", \"revolution\", \"mark\", \"silence\", \"liberate\", \"failure\", \"let\", \"really\", \"brutal\", \"true\", \"no\", \"international\", \"many\", \"brutality\", \"press\", \"dictatorship\", \"hkpolice\", \"terrorist\", \"deserve\", \"government\", \"become\", \"city\", \"human\", \"hker\", \"even\", \"right\", \"attack\", \"long\", \"make\", \"sanction\", \"law\", \"is_terrorist\", \"security\", \"charge\", \"how\", \"national\", \"so\", \"crazy\", \"expect\", \"become\", \"human\", \"hker\", \"right\", \"make\", \"gov\", \"attack\", \"long\", \"evil\", \"even\", \"sanction\", \"cipo\", \"danish\", \"tank\", \"communism\", \"dominate\", \"brother\", \"jpn\", \"sister\", \"flexible\", \"fluid\", \"speak\", \"thank\", \"china\", \"hong\", \"kong\", \"new\", \"read\", \"report\", \"freedom\", \"justice\", \"still\", \"truth\", \"shame\", \"die\", \"crush\", \"desire\", \"dear\", \"concern\", \"value\", \"interest\", \"core\", \"deepen\", \"oppression\", \"autonomy\", \"surrender\", \"only\", \"govt\", \"threaten\", \"puppet\", \"brutal\", \"true\", \"no\", \"press\", \"deserve\", \"government\", \"become\", \"city\", \"human\", \"even\", \"right\", \"attack\", \"long\", \"make\", \"sanction\", \"evil\", \"matter\", \"protest\", \"peaceful\", \"forget\", \"way\", \"hongkonger\", \"great\", \"party\", \"communist\", \"slogan\", \"war\", \"civil\", \"forward\", \"clear\", \"remind\", \"note\", \"finally\", \"bank\", \"hang\", \"easy\", \"homeland\", \"raised_fist\", \"raising_hand\", \"path\", \"pepper\", \"ppl\", \"spray\", \"international\", \"many\", \"brutality\", \"press\", \"even\", \"right\", \"attack\", \"long\", \"become\", \"amp\", \"stand\", \"official\", \"start\", \"buy\", \"evil\", \"sanction\", \"concern\", \"value\", \"interest\", \"core\", \"deepen\", \"offical\", \"oppression\", \"autonomy\", \"surrender\", \"beat\", \"only\", \"govt\", \"pepper\", \"threaten\", \"puppet\", \"ppl\", \"spray\", \"no\", \"hkpolice\", \"government\", \"become\", \"city\", \"human\", \"even\", \"right\", \"attack\", \"long\", \"make\", \"matter\", \"hker\", \"happen\", \"take\", \"kid\", \"come\", \"kill\", \"back\", \"respect\", \"save\", \"send\", \"camp\", \"imprisonment\", \"concentration\", \"rather\", \"decision\", \"overseas\", \"human\", \"hker\", \"right\", \"make\", \"matter\", \"gov\", \"attack\", \"cipo\", \"danish\", \"tank\", \"communism\", \"dominate\", \"brother\", \"jpn\", \"sister\", \"long\", \"evil\", \"even\", \"sanction\", \"speak\", \"thank\", \"china\", \"see\", \"also\", \"chinese\", \"joint\", \"investigate\", \"gon\", \"yesterday\", \"statement\", \"tweet\", \"special\", \"react\", \"urge\", \"sanction\", \"british\", \"sino\", \"decl\", \"financial\", \"hub\", \"corruption\", \"fill\", \"international\", \"dictatorship\", \"terrorist\", \"deserve\", \"government\", \"become\", \"city\", \"human\", \"hker\", \"right\", \"even\", \"attack\", \"long\", \"make\", \"evil\", \"matter\", \"negative\", \"face\", \"care\", \"totalitarian\", \"offical\", \"true\", \"hkpolice\", \"terrorist\", \"human\", \"hker\", \"cipo\", \"danish\", \"tank\", \"communism\", \"dominate\", \"brother\", \"jpn\", \"sister\", \"flexible\", \"fluid\", \"resistance\", \"becatch\", \"boss\", \"newspaper\", \"heartbreake\", \"unfair\", \"affiliate\", \"apwt\", \"author\", \"poet\", \"gov\", \"long\", \"evil\", \"even\", \"sanction\", \"speak\", \"thank\", \"china\", \"hong\", \"how\", \"kong\", \"new\", \"read\", \"report\", \"stop\", \"think\", \"say\", \"life\", \"family\", \"tell\", \"protestor\", \"future\", \"money\", \"risk\", \"meet\", \"earn\", \"matter\", \"long\", \"evil\", \"even\", \"sanction\", \"cipo\", \"danish\", \"tank\", \"communism\", \"dominate\", \"brother\", \"jpn\", \"sister\", \"flexible\", \"fluid\", \"resistance\", \"becatch\", \"boss\", \"newspaper\", \"heartbreake\", \"speak\", \"thank\", \"china\", \"hong\", \"how\", \"kong\", \"new\", \"read\", \"report\", \"stop\", \"think\", \"hk\", \"with_hk\", \"call\", \"proud\", \"honor\", \"matter\", \"evil\", \"cipo\", \"danish\", \"tank\", \"communism\", \"dominate\", \"brother\", \"jpn\", \"sister\", \"flexible\", \"fluid\", \"resistance\", \"becatch\", \"boss\", \"newspaper\", \"heartbreake\", \"unfair\", \"affiliate\", \"apwt\", \"author\", \"poet\", \"present\", \"reading\", \"saturday\", \"speak\", \"thank\", \"china\", \"hong\", \"how\", \"kong\", \"new\", \"read\", \"report\", \"stop\", \"think\", \"war\", \"today\", \"never\", \"get\", \"here\", \"want\", \"world\", \"day\", \"crime\", \"hope\", \"pay\", \"hate\", \"number\", \"st\", \"close\", \"event\", \"date\", \"online\", \"connect\", \"attack\", \"long\", \"even\", \"sanction\", \"cipo\", \"danish\", \"tank\", \"communism\", \"dominate\", \"brother\", \"jpn\", \"sister\", \"flexible\", \"fluid\", \"resistance\", \"becatch\", \"boss\", \"newspaper\", \"speak\", \"thank\", \"china\", \"hong\", \"how\", \"kong\", \"new\", \"read\", \"report\", \"stop\", \"think\", \"stop\", \"think\", \"new\", \"totally\", \"hit\", \"tonight\", \"link\", \"cipo\", \"danish\", \"tank\", \"communism\", \"dominate\", \"brother\", \"jpn\", \"sister\", \"flexible\", \"fluid\", \"resistance\", \"becatch\", \"boss\", \"newspaper\", \"heartbreake\", \"unfair\", \"affiliate\", \"apwt\", \"author\", \"poet\", \"present\", \"reading\", \"saturday\", \"even\", \"speak\", \"thank\", \"china\", \"hong\", \"how\", \"kong\", \"read\", \"report\", \"war\", \"today\", \"never\", \"get\", \"here\", \"want\", \"world\", \"japan\", \"do\", \"issue\", \"sad\", \"example\", \"generation\", \"affect\", \"concrete\", \"long\", \"cipo\", \"danish\", \"tank\", \"communism\", \"dominate\", \"brother\", \"jpn\", \"sister\", \"flexible\", \"fluid\", \"resistance\", \"becatch\", \"boss\", \"newspaper\", \"heartbreake\", \"unfair\", \"affiliate\", \"apwt\", \"author\", \"poet\", \"present\", \"reading\", \"even\", \"sanction\", \"speak\", \"thank\", \"china\", \"hong\", \"how\", \"kong\", \"new\", \"read\", \"report\", \"stop\", \"think\", \"war\", \"today\", \"never\", \"get\", \"show\", \"already\", \"ban\", \"hongkong\", \"condemn\", \"have\", \"enough\", \"cipo\", \"danish\", \"tank\", \"communism\", \"dominate\", \"brother\", \"jpn\", \"sister\", \"flexible\", \"fluid\", \"resistance\", \"becatch\", \"boss\", \"newspaper\", \"heartbreake\", \"unfair\", \"affiliate\", \"apwt\", \"author\", \"poet\", \"present\", \"reading\", \"saturday\", \"even\", \"speak\", \"thank\", \"china\", \"hong\", \"how\", \"kong\", \"new\", \"read\", \"report\", \"stop\", \"think\", \"war\", \"today\", \"never\", \"get\", \"here\", \"want\", \"rule\", \"watch\", \"prodemocracy\", \"leader\", \"flee\", \"nathan\", \"cipo\", \"danish\", \"tank\", \"communism\", \"dominate\", \"brother\", \"jpn\", \"sister\", \"flexible\", \"fluid\", \"resistance\", \"becatch\", \"boss\", \"newspaper\", \"heartbreake\", \"unfair\", \"affiliate\", \"apwt\", \"author\", \"poet\", \"present\", \"reading\", \"saturday\", \"transoceanic\", \"speak\", \"thank\", \"china\", \"hong\", \"how\", \"kong\", \"new\", \"read\", \"report\", \"stop\", \"think\", \"war\", \"today\", \"never\", \"get\", \"here\", \"want\", \"world\", \"safe\", \"control\", \"pass\", \"follow\", \"ignore\", \"plan\", \"promise\", \"ready\", \"offer\", \"increase\", \"oppressive\", \"welcome\", \"even\", \"cipo\", \"danish\", \"tank\", \"communism\", \"dominate\", \"brother\", \"jpn\", \"sister\", \"flexible\", \"fluid\", \"resistance\", \"becatch\", \"boss\", \"newspaper\", \"heartbreake\", \"unfair\", \"affiliate\", \"speak\", \"thank\", \"china\", \"hong\", \"how\", \"kong\", \"new\", \"read\", \"report\", \"stop\", \"think\", \"war\", \"today\", \"be\", \"social\", \"responsibility\", \"no\", \"matter\", \"liberty\", \"dear\", \"brutal\", \"true\", \"cipo\", \"danish\", \"tank\", \"communism\", \"dominate\", \"brother\", \"jpn\", \"sister\", \"flexible\", \"fluid\", \"resistance\", \"becatch\", \"boss\", \"newspaper\", \"heartbreake\", \"unfair\", \"affiliate\", \"apwt\", \"author\", \"poet\", \"present\", \"evil\", \"speak\", \"thank\", \"china\", \"hong\", \"how\", \"kong\", \"new\", \"read\", \"report\", \"stop\", \"think\", \"war\", \"today\", \"never\", \"get\", \"citizen\", \"here\", \"change\", \"extend\", \"visa\", \"price\", \"cipo\", \"danish\", \"tank\", \"communism\", \"dominate\", \"brother\", \"jpn\", \"sister\", \"flexible\", \"fluid\", \"resistance\", \"becatch\", \"boss\", \"newspaper\", \"heartbreake\", \"unfair\", \"affiliate\", \"apwt\", \"author\", \"poet\", \"present\", \"reading\", \"saturday\", \"transoceanic\", \"attack\", \"speak\", \"thank\", \"china\", \"hong\", \"how\", \"kong\", \"new\", \"read\", \"report\", \"stop\", \"think\", \"war\", \"today\", \"never\", \"get\", \"want\", \"world\", \"uk\", \"stick\", \"hsbc\", \"totalitarian\", \"cipo\", \"danish\", \"tank\", \"communism\", \"dominate\", \"brother\", \"jpn\", \"sister\", \"flexible\", \"fluid\", \"resistance\", \"becatch\", \"boss\", \"newspaper\", \"heartbreake\", \"unfair\", \"affiliate\", \"apwt\", \"author\", \"poet\", \"present\", \"reading\", \"saturday\", \"transoceanic\", \"consulate\", \"sunday\", \"speak\", \"thank\", \"china\", \"hong\", \"how\", \"kong\", \"new\", \"read\", \"report\", \"stop\", \"think\", \"war\", \"today\", \"never\", \"get\", \"here\", \"want\", \"world\", \"japan\", \"company\", \"corrupt\", \"cipo\", \"danish\", \"tank\", \"communism\", \"dominate\", \"brother\", \"jpn\", \"sister\", \"flexible\", \"fluid\", \"resistance\", \"becatch\", \"boss\", \"newspaper\", \"heartbreake\", \"unfair\", \"affiliate\", \"apwt\", \"author\", \"poet\", \"present\", \"reading\", \"saturday\", \"transoceanic\", \"consulate\", \"sunday\", \"toronto\", \"economist\", \"speak\", \"thank\", \"china\", \"hong\", \"how\", \"kong\", \"new\", \"read\", \"report\", \"stop\", \"think\", \"war\", \"today\", \"never\", \"get\", \"here\", \"want\", \"world\", \"japan\", \"cipo\", \"danish\", \"tank\", \"communism\", \"dominate\", \"brother\", \"jpn\", \"sister\", \"flexible\", \"fluid\", \"resistance\", \"becatch\", \"boss\", \"newspaper\", \"heartbreake\", \"unfair\", \"affiliate\", \"apwt\", \"author\", \"poet\", \"present\", \"reading\", \"saturday\", \"transoceanic\", \"consulate\", \"sunday\", \"toronto\", \"economist\", \"june\", \"disobedience\", \"speak\", \"thank\", \"china\", \"hong\", \"how\", \"kong\", \"new\", \"read\", \"report\", \"stop\", \"think\", \"war\", \"today\", \"never\", \"get\", \"here\", \"want\", \"world\", \"japan\", \"form\", \"cipo\", \"danish\", \"tank\", \"communism\", \"dominate\", \"brother\", \"jpn\", \"sister\", \"flexible\", \"fluid\", \"resistance\", \"becatch\", \"boss\", \"newspaper\", \"heartbreake\", \"unfair\", \"affiliate\", \"apwt\", \"author\", \"poet\", \"present\", \"reading\", \"saturday\", \"transoceanic\", \"consulate\", \"sunday\", \"toronto\", \"economist\", \"june\", \"disobedience\", \"speak\", \"thank\", \"china\", \"hong\", \"how\", \"kong\", \"new\", \"read\", \"report\", \"stop\", \"think\", \"war\", \"today\", \"never\", \"get\", \"here\", \"want\", \"world\", \"japan\", \"form\", \"cipo\", \"danish\", \"tank\", \"communism\", \"dominate\", \"brother\", \"jpn\", \"sister\", \"flexible\", \"fluid\", \"resistance\", \"becatch\", \"boss\", \"newspaper\", \"heartbreake\", \"unfair\", \"affiliate\", \"apwt\", \"author\", \"poet\", \"present\", \"reading\", \"saturday\", \"transoceanic\", \"consulate\", \"sunday\", \"toronto\", \"economist\", \"june\", \"disobedience\", \"speak\", \"thank\", \"china\", \"hong\", \"how\", \"kong\", \"new\", \"read\", \"report\", \"stop\", \"think\", \"war\", \"today\", \"never\", \"get\", \"here\", \"want\", \"world\", \"japan\", \"form\", \"cipo\", \"danish\", \"tank\", \"communism\", \"dominate\", \"brother\", \"jpn\", \"sister\", \"flexible\", \"fluid\", \"resistance\", \"becatch\", \"boss\", \"newspaper\", \"heartbreake\", \"unfair\", \"affiliate\", \"apwt\", \"author\", \"poet\", \"present\", \"reading\", \"saturday\", \"transoceanic\", \"consulate\", \"sunday\", \"toronto\", \"economist\", \"june\", \"disobedience\", \"speak\", \"thank\", \"china\", \"hong\", \"how\", \"kong\", \"new\", \"read\", \"report\", \"stop\", \"think\", \"war\", \"today\", \"never\", \"get\", \"here\", \"want\", \"world\", \"japan\", \"form\"], \"Freq\": [45834.0, 58287.0, 52150.0, 55548.0, 27729.0, 25347.0, 23119.0, 33228.0, 33902.0, 28779.0, 30884.0, 24478.0, 27533.0, 24603.0, 24711.0, 14478.0, 18499.0, 25787.0, 20813.0, 20073.0, 23845.0, 23071.0, 14434.0, 11055.0, 16793.0, 16476.0, 16602.0, 12774.0, 19326.0, 13874.0, 33900.62819394729, 25785.14959538841, 11180.716200962524, 10722.535308930132, 8004.613357489602, 6752.511196876838, 5941.999939102634, 4972.070646070293, 4892.328216808853, 4407.920925819363, 4318.845018928167, 3499.9739232408874, 2567.0600164989573, 1058.094547321218, 804.7252911482532, 587.87915654875, 550.3145201461776, 336.5524957714969, 286.3063505553029, 93.20562332326078, 0.07101838201764225, 0.0710183744647378, 0.0710183744647378, 0.0710183744647378, 0.0710183744647378, 0.0710183744647378, 0.0710183744647378, 0.0710183744647378, 0.0710183744647378, 0.0710183744647378, 0.0710183744647378, 0.0710183744647378, 0.0710183744647378, 0.0710183744647378, 0.0710183744647378, 0.0710183744647378, 58285.91382547341, 55546.21520041522, 7877.126561522171, 0.08965757013175663, 0.08965757013175663, 0.08965757013175663, 0.08965757013175663, 0.08965757013175663, 0.08965757013175663, 0.08965757013175663, 0.08965757013175663, 0.08965757013175663, 0.08965757013175663, 0.08965757013175663, 0.08965757013175663, 0.08965757013175663, 0.08965757013175663, 0.08965757013175663, 0.08965757013175663, 0.08965757013175663, 0.08965757013175663, 0.08965757013175663, 0.08965757013175663, 0.08965757013175663, 0.08965755597784514, 0.08965755597784514, 0.08965755597784514, 0.08965755597784514, 0.08965755597784514, 0.08965755597784514, 0.08965755597784514, 0.08965755597784514, 0.08965755597784514, 0.08965755597784514, 33226.86412969199, 23843.91920693935, 23069.173685013666, 19324.592485976293, 9039.093241945262, 3992.947105501636, 1744.0153662947394, 1260.0366157226292, 985.8536286313656, 766.0183256606734, 739.502561695806, 151.3468787353096, 119.43778817695927, 0.12699344819174144, 0.12699344819174144, 0.12699344819174144, 0.12699344819174144, 0.12699343429771304, 0.12699343429771304, 0.12699343429771304, 0.12699343429771304, 0.12699343429771304, 0.12699343429771304, 0.12699343429771304, 0.12699343429771304, 0.12699343429771304, 0.12699343429771304, 0.12699343429771304, 0.12699343429771304, 0.12699343429771304, 0.12699343429771304, 0.12699343429771304, 0.12699343429771304, 0.12699343429771304, 0.12699343429771304, 0.12699343429771304, 0.12699343429771304, 0.12699343429771304, 0.12699343429771304, 30882.176170908006, 27531.461232239602, 24709.515495850872, 14077.596214559426, 6737.2747504464805, 2331.441190226658, 1194.3715272526115, 860.9416915341284, 779.9268356842903, 203.42072578368285, 0.11002332905470151, 0.11002332905470151, 0.11002332905470151, 0.11002332905470151, 0.11002332905470151, 0.11002332905470151, 0.11002331623867982, 0.11002331623867982, 0.11002331623867982, 0.11002331623867982, 0.11002331623867982, 0.11002331623867982, 0.11002331623867982, 0.11002331623867982, 0.11002331623867982, 0.11002331623867982, 0.11002331623867982, 0.11002331623867982, 0.11002331623867982, 0.11002331623867982, 0.11002331623867982, 0.11002331623867982, 0.11002331623867982, 0.11002331623867982, 0.11002331623867982, 0.11002331623867982, 0.11002331623867982, 0.11002331623867982, 0.11002331623867982, 52148.50766623754, 10609.401658986997, 7316.216297352734, 7117.84908446918, 5358.091947233919, 3305.113433811659, 1720.8941105134613, 934.0295849128395, 905.3528173897558, 820.9022054122329, 795.2079906967317, 691.6355823977055, 624.0054131663636, 524.8079920077212, 488.888123868638, 380.33764919266025, 208.0819223193386, 177.35555215399845, 0.05057244323018718, 0.05057244323018718, 0.05057244323018718, 0.05057244323018718, 0.05057244323018718, 0.05057244323018718, 0.05057244323018718, 0.05057244323018718, 0.05057244323018718, 0.05057244323018718, 0.05057244323018718, 0.050572437790294265, 0.05057244323018718, 28777.325226298206, 24601.599845703287, 15443.656819872276, 4736.13001406066, 3988.2198776246055, 3987.199114835941, 3023.5511078679597, 2923.073219381743, 967.5646668910408, 564.0699391734003, 0.11437507051771276, 0.11437507051771276, 0.11437505999365595, 0.11437505999365595, 0.11437505999365595, 0.11437505999365595, 0.11437505999365595, 0.11437505999365595, 0.11437505999365595, 0.11437505999365595, 0.11437505999365595, 0.11437505999365595, 0.11437505999365595, 0.11437505999365595, 0.11437505999365595, 0.11437505999365595, 0.11437505999365595, 0.11437505999365595, 0.11437505999365595, 0.11437505999365595, 0.11437505999365595, 0.11437505999365595, 0.11437505999365595, 0.11437505999365595, 0.11437505999365595, 0.11437505999365595, 0.11437505999365595, 0.11437505999365595, 16791.348100701875, 16600.778209572334, 11864.69448480265, 7860.014116291482, 7123.766035604761, 5879.661151662947, 3868.026718840978, 1222.4684584631161, 1066.8304646787392, 1002.7817189105446, 298.4774621033518, 237.36571914513138, 0.10727374879075784, 0.10727374879075784, 0.10727374879075784, 0.10727374879075784, 0.10727374879075784, 0.10727374879075784, 0.10727374879075784, 0.10727374879075784, 0.10727374879075784, 0.10727374879075784, 0.10727374879075784, 0.10727374879075784, 0.10727374879075784, 0.10727374879075784, 0.10727374879075784, 0.10727374879075784, 0.10727374879075784, 0.10727374879075784, 0.10727374879075784, 0.10727374879075784, 0.10727374879075784, 0.10727374879075784, 0.10727374879075784, 0.10727374879075784, 20811.223103474764, 20071.037036890604, 7381.405339138923, 6419.986450650739, 5648.381110082338, 5466.729025224528, 3614.584333902664, 3078.7030174579786, 802.1812717938745, 0.06702256473738903, 0.06702256473738903, 0.06702256473738903, 0.06702256473738903, 0.06702256473738903, 0.06702256473738903, 0.06702256473738903, 0.06702256473738903, 0.06702256473738903, 0.06702256473738903, 0.06702256473738903, 0.06702255616774665, 0.06702255616774665, 0.06702255616774665, 0.06702255616774665, 0.06702255616774665, 0.06702255616774665, 0.06702255616774665, 0.06702255616774665, 0.06702255616774665, 0.06702255616774665, 0.06702255616774665, 0.06702255616774665, 0.06702255616774665, 0.06702255616774665, 0.06702255616774665, 0.06702255616774665, 0.06702255616774665, 0.06702255616774665, 24476.79208358935, 16474.496442743, 12892.38858837494, 10974.936530320914, 5594.361437321844, 1742.0525127193964, 294.156670789068, 159.76477435280378, 0.07116817107321063, 0.07116817107321063, 0.07116817107321063, 0.07116817107321063, 0.07116817107321063, 0.07116817107321063, 0.07116817107321063, 0.07116817107321063, 0.07116817107321063, 0.07116817107321063, 0.07116817107321063, 0.07116817107321063, 0.07116817107321063, 0.07116817107321063, 0.07116817107321063, 0.07116817107321063, 0.07116817107321063, 0.07116817107321063, 0.07116817107321063, 0.07116817107321063, 0.07116817107321063, 0.07116817107321063, 0.07116817107321063, 0.07116817107321063, 0.07116817107321063, 0.07116817107321063, 0.07116817107321063, 0.07116817107321063, 0.07116817107321063, 0.07116817107321063, 10780.857474637127, 9855.34430454846, 9641.236694790732, 7359.497211358805, 5598.66576307878, 2889.9722117517917, 2348.0112579493452, 2234.642674552893, 1611.1414300416623, 1556.4554041962433, 1353.0385716049127, 1110.346605649171, 1107.171053661647, 1053.3747577289737, 825.6015840134182, 821.6924528212218, 545.1224266277671, 478.5366746034648, 386.70363256710925, 383.30845174408864, 154.2283538937883, 142.06362253196085, 122.3701048934666, 0.09916837714598403, 0.09916837714598403, 0.09916837714598403, 0.09916837714598403, 0.09916837714598403, 0.09916837714598403, 0.09916837714598403, 0.09916837714598403, 0.09916837714598403, 0.09916837714598403, 0.09916837714598403, 0.09916837714598403, 45832.753022023426, 6981.749469771899, 3237.50290578388, 2910.2508613993327, 1093.1842525449986, 0.06440445079705169, 0.06440445079705169, 0.06440444374171651, 0.06440444374171651, 0.06440444374171651, 0.06440444374171651, 0.06440444374171651, 0.06440444374171651, 0.06440444374171651, 0.06440444374171651, 0.06440444374171651, 0.06440444374171651, 0.06440444374171651, 0.06440444374171651, 0.06440444374171651, 0.06440444374171651, 0.06440444374171651, 0.06440444374171651, 0.06440444374171651, 0.06440444374171651, 0.06440444374171651, 0.06440444374171651, 0.06440444374171651, 0.06440444374171651, 0.06440444374171651, 0.06440444374171651, 0.06440444374171651, 0.06440444374171651, 0.06440444374171651, 0.06440444374171651, 0.06440444374171651, 0.06440444374171651, 13872.769925791958, 7837.407120678389, 6247.114837337535, 6168.904140475074, 4347.261075878223, 4100.027088332898, 3867.3301400350006, 3432.4721106850807, 2508.81895934875, 1000.3547892941373, 876.611741778449, 464.8600698607825, 407.6711981555513, 395.39905126934326, 209.15055735213954, 0.08371690230007173, 0.08371690230007173, 0.08371690230007173, 0.08371690230007173, 0.08371690230007173, 0.08371690230007173, 0.08371690230007173, 0.0837168956675632, 0.0837168956675632, 0.0837168956675632, 0.0837168956675632, 0.0837168956675632, 0.0837168956675632, 0.0837168956675632, 0.0837168956675632, 0.08371690230007173, 0.08371690230007173, 0.08371690230007173, 0.08371690230007173, 0.0837168956675632, 0.0837168956675632, 0.0837168956675632, 18497.778861608444, 10057.418290827822, 7054.472555064698, 5715.815774085802, 1240.1046643841757, 1056.7774992793159, 984.8148801782035, 803.9342721425794, 677.0005440011918, 673.7106813411782, 664.203657852925, 647.6502286184659, 0.1053897531834652, 0.10538974150733782, 0.10538974150733782, 0.10538974150733782, 0.10538974150733782, 0.10538974150733782, 0.10538974150733782, 0.10538974150733782, 0.10538974150733782, 0.10538974150733782, 0.10538974150733782, 0.10538974150733782, 0.10538974150733782, 0.10538974150733782, 0.10538974150733782, 0.10538974150733782, 0.10538974150733782, 0.10538974150733782, 0.10538974150733782, 0.10538974150733782, 0.10538974150733782, 0.10538974150733782, 0.10538974150733782, 0.10538974150733782, 25345.71427300381, 9522.581066793986, 3914.559869831761, 0.06674841364942366, 0.06674841364942366, 0.06674841364942366, 0.06674841364942366, 0.06674841364942366, 0.06674841364942366, 0.06674841364942366, 0.0667484090041954, 0.0667484090041954, 0.0667484090041954, 0.0667484090041954, 0.0667484090041954, 0.0667484090041954, 0.0667484090041954, 0.0667484090041954, 0.0667484090041954, 0.0667484090041954, 0.0667484090041954, 0.0667484090041954, 0.0667484090041954, 0.0667484090041954, 0.0667484090041954, 0.0667484090041954, 0.0667484090041954, 0.0667484090041954, 0.0667484090041954, 0.0667484090041954, 0.06674841364942366, 0.06674841364942366, 0.06674841364942366, 0.06674841364942366, 0.06674841364942366, 0.0667484090041954, 0.0667484090041954, 0.0667484090041954, 0.0667484090041954, 0.0667484090041954, 0.0667484090041954, 0.0667484090041954, 0.0667484090041954, 0.0667484090041954, 0.0667484090041954, 0.0667484090041954, 14432.929518382523, 8092.421045928076, 4262.050029143894, 3829.080543725162, 3095.497237079014, 1610.099499447102, 1505.6985764458134, 658.3838810533732, 389.9011489114994, 228.74134484846883, 0.0714295974848005, 0.0714295974848005, 0.0714295974848005, 0.0714295974848005, 0.0714295974848005, 0.07142958831550773, 0.07142958831550773, 0.07142958831550773, 0.07142958831550773, 0.07142958831550773, 0.07142958831550773, 0.07142958831550773, 0.07142958831550773, 0.07142958831550773, 0.07142958831550773, 0.07142958831550773, 0.07142958831550773, 0.07142958831550773, 0.07142958831550773, 0.07142958831550773, 0.07142958831550773, 0.07142958831550773, 0.07142958831550773, 0.07142958831550773, 0.07142958831550773, 0.07142958831550773, 0.07142958831550773, 0.07142958831550773, 0.07142958831550773, 0.07142958831550773, 0.07142958831550773, 27727.592048937244, 3142.1982258527933, 3125.7999805006557, 308.34065343603976, 54.90125827874649, 0.055136521119260755, 0.055136521119260755, 0.055136512916891776, 0.055136512916891776, 0.055136512916891776, 0.055136512916891776, 0.055136512916891776, 0.055136512916891776, 0.055136512916891776, 0.055136512916891776, 0.055136512916891776, 0.055136512916891776, 0.055136512916891776, 0.055136512916891776, 0.055136512916891776, 0.055136512916891776, 0.055136512916891776, 0.055136512916891776, 0.055136512916891776, 0.055136512916891776, 0.055136512916891776, 0.055136512916891776, 0.055136512916891776, 0.055136512916891776, 0.055136512916891776, 0.055136512916891776, 0.055136512916891776, 0.055136512916891776, 0.055136512916891776, 0.055136512916891776, 0.055136512916891776, 0.055136512916891776, 0.055136512916891776, 0.055136512916891776, 0.055136512916891776, 0.055136512916891776, 0.055136512916891776, 0.055136512916891776, 0.055136512916891776, 0.055136512916891776, 0.055136512916891776, 0.055136512916891776, 0.055136512916891776, 8723.545376832399, 6940.70773027773, 5061.486163009535, 3528.0889762210186, 2655.871354668418, 2156.288713183302, 1488.684374587091, 1036.431070947475, 595.1509443449041, 538.5470585997472, 373.0091424980469, 239.0004039302785, 0.08393656850075393, 0.08393656850075393, 0.08393656850075393, 0.08393656850075393, 0.08393655215353675, 0.08393655215353675, 0.08393655215353675, 0.08393655215353675, 0.08393655215353675, 0.08393655215353675, 0.08393655215353675, 0.08393655215353675, 0.08393655215353675, 0.08393655215353675, 0.08393655215353675, 0.08393655215353675, 0.08393655215353675, 0.08393655215353675, 0.08393655215353675, 0.08393655215353675, 0.08393655215353675, 0.08393655215353675, 0.08393655215353675, 0.08393655215353675, 0.08393655215353675, 0.08393655215353675, 0.08393655215353675, 0.08393655215353675, 0.08393655215353675, 12772.46900354679, 5547.944734602333, 4812.761271412002, 4516.678541493279, 1131.7484336089885, 1074.068624687276, 142.8577739904906, 0.07172885683212622, 0.07172885683212622, 0.07172885683212622, 0.07172885683212622, 0.07172885683212622, 0.07172885683212622, 0.07172885683212622, 0.07172885683212622, 0.07172885683212622, 0.07172885683212622, 0.07172885683212622, 0.07172885683212622, 0.07172885683212622, 0.07172885683212622, 0.07172885683212622, 0.07172885683212622, 0.07172885683212622, 0.07172885683212622, 0.07172885683212622, 0.07172885683212622, 0.07172885683212622, 0.07172885683212622, 0.07172885683212622, 0.07172886416043207, 0.07172885683212622, 0.07172885683212622, 0.07172885683212622, 0.07172885683212622, 0.07172885683212622, 0.07172885683212622, 0.07172885683212622, 0.07172885683212622, 0.07172885683212622, 0.07172885683212622, 0.07172885683212622, 0.07172885683212622, 0.07172885683212622, 0.07172885683212622, 0.07172885683212622, 0.07172885683212622, 23117.20341687901, 1605.0748599754054, 1489.5915007470105, 1131.256903775008, 1028.2202643240935, 347.5052477249481, 170.90275695097682, 0.0723921059391921, 0.07239209885830171, 0.07239209885830171, 0.07239209885830171, 0.07239209885830171, 0.07239209885830171, 0.07239209885830171, 0.07239209885830171, 0.07239209885830171, 0.07239209885830171, 0.07239209885830171, 0.07239209885830171, 0.07239209885830171, 0.07239209885830171, 0.07239209885830171, 0.07239209885830171, 0.07239209885830171, 0.07239209885830171, 0.07239209885830171, 0.07239209885830171, 0.07239209885830171, 0.07239209885830171, 0.07239209885830171, 0.0723921059391921, 0.0723921059391921, 0.07239209885830171, 0.07239209885830171, 0.07239209885830171, 0.07239209885830171, 0.07239209885830171, 0.07239209885830171, 0.07239209885830171, 0.07239209885830171, 0.07239209885830171, 0.07239209885830171, 0.07239209885830171, 0.07239209885830171, 0.07239209885830171, 0.07239209885830171, 0.07239209885830171, 8501.355210742347, 6757.70314277104, 4370.334162096083, 2962.960915400909, 1895.9761772265615, 1448.4774991754687, 1293.2024780658794, 0.07514819591898958, 0.07514819591898958, 0.07514819591898958, 0.07514819591898958, 0.07514819591898958, 0.07514819591898958, 0.07514819591898958, 0.07514819591898958, 0.07514819591898958, 0.07514819591898958, 0.07514819591898958, 0.07514819591898958, 0.07514819591898958, 0.07514819591898958, 0.07514819591898958, 0.07514819591898958, 0.07514819591898958, 0.07514819591898958, 0.07514819591898958, 0.07514819591898958, 0.07514819591898958, 0.07514819591898958, 0.07514819591898958, 0.0751482026419969, 0.07514819591898958, 0.07514819591898958, 0.07514819591898958, 0.07514819591898958, 0.07514819591898958, 0.07514819591898958, 0.07514819591898958, 0.07514819591898958, 0.07514819591898958, 0.07514819591898958, 0.07514819591898958, 0.07514819591898958, 0.07514819591898958, 0.07514819591898958, 0.07514819591898958, 0.07514819591898958, 0.07514819591898958, 9531.557649814775, 7680.612098844985, 2691.488430689019, 826.898270066995, 402.4373852067172, 330.7503656455075, 0.08514756182414865, 0.08514756182414865, 0.08514756182414865, 0.08514756182414865, 0.08514756182414865, 0.08514756182414865, 0.08514756182414865, 0.08514756182414865, 0.08514756182414865, 0.08514756182414865, 0.08514756182414865, 0.08514756182414865, 0.08514756182414865, 0.08514756182414865, 0.08514756182414865, 0.08514756182414865, 0.08514756182414865, 0.08514756182414865, 0.08514756182414865, 0.08514756182414865, 0.08514756182414865, 0.08514756182414865, 0.08514756182414865, 0.08514756182414865, 0.08514756182414865, 0.08514756182414865, 0.08514756182414865, 0.08514756182414865, 0.08514756182414865, 0.08514756182414865, 0.08514756182414865, 0.08514756182414865, 0.08514756182414865, 0.08514756182414865, 0.08514756182414865, 0.08514756182414865, 0.08514756182414865, 0.08514756182414865, 0.08514756182414865, 0.08514756182414865, 0.08514756182414865, 0.08514756182414865, 5527.631338347836, 5191.366859696656, 2427.987807939868, 2106.84563253334, 1666.2891141507514, 997.3717950381008, 907.2785849483013, 606.2202467366682, 537.1906599852915, 412.0546071465328, 262.8128390288547, 0.08513943163763822, 0.08513943163763822, 0.08513942104582094, 0.08513942104582094, 0.08513942104582094, 0.08513942104582094, 0.08513942104582094, 0.08513942104582094, 0.08513942104582094, 0.08513942104582094, 0.08513942104582094, 0.08513942104582094, 0.08513942104582094, 0.08513942104582094, 0.08513942104582094, 0.08513942104582094, 0.08513942104582094, 0.08513942104582094, 0.08513942104582094, 0.08513942104582094, 0.08513942104582094, 0.08513942104582094, 0.08513942104582094, 0.08513942104582094, 0.08513942104582094, 0.08513942104582094, 0.08513942104582094, 0.08513942104582094, 0.08513942104582094, 0.08513942104582094, 0.08513942104582094, 0.08513942104582094, 14476.677591993148, 1351.3189294529363, 1058.4557866877487, 0.0535762152759951, 0.0535762152759951, 0.053576211057398786, 0.053576211057398786, 0.053576211057398786, 0.053576211057398786, 0.05357620683880248, 0.05357620683880248, 0.05357620683880248, 0.05357620683880248, 0.05357620683880248, 0.05357620683880248, 0.05357620683880248, 0.05357620683880248, 0.05357620683880248, 0.05357620683880248, 0.05357620683880248, 0.05357620683880248, 0.05357620683880248, 0.05357620683880248, 0.05357620683880248, 0.05357620683880248, 0.05357620683880248, 0.05357620683880248, 0.05357620683880248, 0.05357620683880248, 0.05357620683880248, 0.053576211057398786, 0.05357620683880248, 0.05357620683880248, 0.05357620683880248, 0.05357620683880248, 0.05357620683880248, 0.05357620683880248, 0.05357620683880248, 0.05357620683880248, 0.05357620683880248, 0.05357620683880248, 0.05357620683880248, 0.05357620683880248, 0.05357620683880248, 0.05357620683880248, 0.05357620683880248, 11053.708990948286, 1249.40769349465, 1099.2347889066468, 164.6862251846646, 123.2543476267197, 117.74525593699994, 0.048656127128756416, 0.048656127128756416, 0.048656127128756416, 0.048656127128756416, 0.048656127128756416, 0.048656127128756416, 0.048656127128756416, 0.048656127128756416, 0.048656127128756416, 0.048656127128756416, 0.048656127128756416, 0.048656127128756416, 0.048656127128756416, 0.048656127128756416, 0.048656127128756416, 0.048656127128756416, 0.048656127128756416, 0.048656127128756416, 0.048656127128756416, 0.048656127128756416, 0.048656127128756416, 0.048656127128756416, 0.048656127128756416, 0.048656127128756416, 0.04865613061255818, 0.048656127128756416, 0.048656127128756416, 0.048656127128756416, 0.048656127128756416, 0.048656127128756416, 0.048656127128756416, 0.048656127128756416, 0.048656127128756416, 0.048656127128756416, 0.048656127128756416, 0.048656127128756416, 0.048656127128756416, 0.048656127128756416, 0.048656127128756416, 0.048656127128756416, 0.048656127128756416, 0.048656127128756416, 1301.2086578049407, 349.37255599633374, 0.06377228862104688, 0.06377228862104688, 0.06377227539682376, 0.06377227539682376, 0.06377227539682376, 0.06377227539682376, 0.06377227539682376, 0.06377227539682376, 0.06377227539682376, 0.06377227539682376, 0.06377227539682376, 0.06377227539682376, 0.06377227539682376, 0.06377227539682376, 0.06377227539682376, 0.06377227539682376, 0.06377227539682376, 0.06377227539682376, 0.06377227539682376, 0.06377227539682376, 0.06377227539682376, 0.06377227539682376, 0.06377227539682376, 0.06377227539682376, 0.06377227539682376, 0.06377227539682376, 0.06377227539682376, 0.06377227539682376, 0.06377227539682376, 0.06377227539682376, 0.06377227539682376, 0.06377227539682376, 0.06377227539682376, 0.06377227539682376, 0.06377227539682376, 0.06377227539682376, 0.06377227539682376, 0.06377227539682376, 0.06377227539682376, 0.06377227539682376, 0.06377227539682376, 0.06377227539682376, 0.06377227539682376, 0.06377227539682376, 0.06377227539682376, 0.06377227539682376, 0.06377227539682376, 362.0207613940908, 351.5472895516174, 0.038371603048590316, 0.038371603048590316, 0.038371603048590316, 0.038371603048590316, 0.038371603048590316, 0.038371603048590316, 0.038371603048590316, 0.038371603048590316, 0.038371603048590316, 0.038371603048590316, 0.038371603048590316, 0.038371603048590316, 0.038371603048590316, 0.038371603048590316, 0.038371603048590316, 0.038371603048590316, 0.038371603048590316, 0.038371603048590316, 0.038371603048590316, 0.038371603048590316, 0.038371603048590316, 0.038371603048590316, 0.038371603048590316, 0.038371603048590316, 0.038371603048590316, 0.038371603048590316, 0.038371603048590316, 0.038371603048590316, 0.038371603048590316, 0.038371603048590316, 0.038371603048590316, 0.038371603048590316, 0.038371603048590316, 0.038371603048590316, 0.038371603048590316, 0.038371603048590316, 0.038371603048590316, 0.038371603048590316, 0.038371603048590316, 0.038371603048590316, 0.038371603048590316, 0.038371603048590316, 0.038371603048590316, 0.038371603048590316, 0.038371603048590316, 0.038371603048590316, 0.038371603048590316, 0.011587284877190516, 0.011587284877190516, 0.011587284877190516, 0.011587284877190516, 0.011587284877190516, 0.011587284877190516, 0.011587284877190516, 0.011587284877190516, 0.011587284877190516, 0.011587284877190516, 0.011587284877190516, 0.011587284877190516, 0.011587284877190516, 0.011587284877190516, 0.011587284877190516, 0.011587284877190516, 0.011587284877190516, 0.011587284877190516, 0.011587284877190516, 0.011587284877190516, 0.011587284877190516, 0.011587284877190516, 0.011587284877190516, 0.011587284877190516, 0.011587284877190516, 0.011587284877190516, 0.011587284877190516, 0.011587284877190516, 0.011587284877190516, 0.011587284877190516, 0.011587284877190516, 0.011587284877190516, 0.011587284877190516, 0.011587284877190516, 0.011587284877190516, 0.011587284877190516, 0.011587284877190516, 0.011587284877190516, 0.011587284877190516, 0.011587284877190516, 0.011587284877190516, 0.011587284877190516, 0.011587284877190516, 0.011587284877190516, 0.011587284877190516, 0.011587284877190516, 0.011587284877190516, 0.011587284877190516, 0.011587284877190516, 0.011587284877190516, 0.011587284877190516, 0.011587284877190516, 0.011587284877190516, 0.011587284877190516, 0.011587284877190516, 0.011587284877190516, 0.011587284877190516, 0.011587284877190516, 0.011587284877190516, 0.011587284877190516, 0.011587284877190516, 0.011587284877190516, 0.011587284877190516, 0.011587284877190516, 0.011587284877190516, 0.011587284877190516, 0.011587284877190516, 0.011587284877190516, 0.011587284877190516, 0.011587284877190516, 0.011587284877190516, 0.011587284877190516, 0.011587284877190516, 0.011587284877190516, 0.011587284877190516, 0.011587284877190516, 0.011587284877190516, 0.011587284877190516, 0.011587284877190516, 0.011587284877190516, 0.011587284877190516, 0.011587284877190516, 0.011587284877190516, 0.011587284877190516, 0.011587284877190516, 0.011587284877190516, 0.011587284877190516, 0.011587284877190516, 0.011587284877190516, 0.011587284877190516, 0.011587284877190516, 0.011587284877190516, 0.011587284877190516, 0.011587284877190516, 0.011587284877190516, 0.011587284877190516, 0.011587284877190516, 0.011587284877190516, 0.011587284877190516, 0.011587284877190516, 0.011587284877190516, 0.011587284877190516, 0.011587284877190516, 0.011587284877190516, 0.011587284877190516, 0.011587284877190516, 0.011587284877190516, 0.011587284877190516, 0.011587284877190516, 0.011587284877190516, 0.011587284877190516, 0.011587284877190516, 0.011587284877190516, 0.011587284877190516, 0.011587284877190516, 0.011587284877190516, 0.011587284877190516, 0.011587284877190516, 0.011587284877190516, 0.011587284877190516, 0.011587284877190516, 0.011587284877190516, 0.011587284877190516, 0.011587284877190516, 0.011587284877190516, 0.011587284877190516, 0.011587284877190516, 0.011587284877190516, 0.011587284877190516, 0.011587284877190516, 0.011587284877190516, 0.011587284877190516, 0.011587284877190516, 0.011587284877190516, 0.011587284877190516, 0.011587284877190516, 0.011587284877190516, 0.011587284877190516, 0.011587284877190516, 0.011587284877190516, 0.011587284877190516, 0.011587284877190516, 0.011587284877190516, 0.011587284877190516, 0.011587284877190516, 0.011587284877190516, 0.011587284877190516, 0.011587284877190516, 0.011587284877190516, 0.011587284877190516, 0.011587284877190516, 0.011587284877190516, 0.011587284877190516, 0.011587284877190516, 0.011587284877190516, 0.011587284877190516, 0.011587284877190516, 0.011587284877190516, 0.011587284877190516, 0.011587284877190516, 0.011587284877190516, 0.011587284877190516, 0.011587284877190516, 0.011587284877190516, 0.011587284877190516, 0.011587284877190516, 0.011587284877190516, 0.011587284877190516, 0.011587284877190516, 0.011587284877190516, 0.011587284877190516, 0.011587284877190516, 0.011587284877190516, 0.011587284877190516, 0.011587284877190516, 0.011587284877190516, 0.011587284877190516, 0.011587284877190516, 0.011587284877190516, 0.011587284877190516, 0.011587284877190516, 0.011587284877190516, 0.011587284877190516, 0.011587284877190516, 0.011587284877190516, 0.011587284877190516, 0.011587284877190516, 0.011587284877190516, 0.011587284877190516, 0.011587284877190516, 0.011587284877190516, 0.011587284877190516, 0.011587284877190516, 0.011587284877190516, 0.011587284877190516, 0.011587284877190516, 0.011587284877190516, 0.011587284877190516, 0.011587284877190516, 0.011587284877190516], \"Total\": [45834.0, 58287.0, 52150.0, 55548.0, 27729.0, 25347.0, 23119.0, 33228.0, 33902.0, 28779.0, 30884.0, 24478.0, 27533.0, 24603.0, 24711.0, 14478.0, 18499.0, 25787.0, 20813.0, 20073.0, 23845.0, 23071.0, 14434.0, 11055.0, 16793.0, 16476.0, 16602.0, 12774.0, 19326.0, 13874.0, 33902.635492146335, 25787.156893587467, 11182.723499161584, 10724.542607129191, 8006.620655688664, 6754.518495075899, 5944.007237301696, 4974.077944269355, 4894.335515007914, 4409.928224018425, 4320.852317127228, 3501.9812214399485, 2569.0673146980184, 1060.1018455202784, 806.7325893473135, 589.8864547478103, 552.321818345238, 338.5597939705573, 288.31364875436327, 95.2129215223212, 2.0783167972055527, 2.0783165944745057, 2.0783166002351923, 2.0783166147944656, 2.078316622170594, 2.078316622435376, 2.078316627610487, 2.0783166435294937, 2.078316646086756, 2.078316648564541, 2.0783167850402595, 2.07831669644445, 2.078316716275469, 2.078316760397129, 2.078316684372049, 2.078316688618428, 58287.9024844834, 55548.20385942521, 7879.115220532166, 2.078316648564541, 2.0783166540044333, 2.0783166570709444, 2.078316660240668, 2.078316660265104, 2.078316664885896, 2.0783166687470715, 2.0783166758024065, 2.078316684372049, 2.078316688618428, 2.078316695649786, 2.078316695649786, 2.07831669644445, 2.07831669644445, 2.0783167136836624, 2.0783167139057004, 2.078316716275469, 2.078316760397129, 2.078316766969379, 2.0783167850402595, 2.0783167972055527, 2.0783165659722376, 2.0783165659722376, 2.0783165659722376, 2.0783165659722376, 2.0783165659722376, 2.0783165659722376, 2.0783165798662657, 19326.543809121857, 27533.429525502146, 5650.392404092143, 33228.815452837545, 23845.870530084914, 23071.12500815923, 19326.543809121857, 9041.04456509083, 3994.8984286472055, 1745.9666894403078, 1261.9879388681977, 987.8049517769341, 767.9696488062419, 741.4538848413745, 153.29820188087814, 121.38911132252784, 2.078316760397129, 2.078316766969379, 2.0783167850402595, 2.0783167972055527, 2.0783165798662657, 2.0783165798662657, 2.0783165798662657, 2.0783165926822877, 2.0783165926822877, 2.0783165926822877, 2.0783165926822877, 2.0783165926822877, 2.0783165926822877, 2.0783165926822877, 2.0783165926822877, 2.0783165926822877, 2.0783165944745057, 2.0783166147944656, 2.078316627610487, 2.0783166148824717, 2.0783166119776575, 2.07831669644445, 2.078316716275469, 2.078316684372049, 2.0783166002351923, 2.078316688618428, 30884.14446417055, 27533.429525502146, 24711.483789113416, 14079.564507821975, 6739.243043709031, 2333.409483489208, 1196.3398205151611, 862.9099847966779, 781.8951289468398, 205.38901904623245, 2.078316688618428, 2.0783167139057004, 2.078316760397129, 2.078316766969379, 2.0783167850402595, 2.0783167972055527, 2.078316578788259, 2.078316578788259, 2.0783165904643863, 2.0783165904643863, 2.0783165904643863, 2.078316590488823, 2.0783165926822877, 2.0783165926822877, 2.0783165926822877, 2.0783165926822877, 2.0783165926822877, 2.0783165926822877, 2.0783165926822877, 2.0783165926822877, 2.078316627610487, 2.0783166148824717, 2.0783166119776575, 2.07831669644445, 2.078316716275469, 2.078316684372049, 2.0783166002351923, 2.078316660240668, 2.078316648564541, 52150.535410365716, 10611.429403115179, 7318.244041480916, 7119.876828597362, 5360.119691362102, 3307.141177939842, 1722.9218546416432, 936.0573290410214, 907.3805615179377, 822.9299495404148, 797.2357348249136, 693.6633265258874, 626.0331572945455, 526.8357361359031, 490.9158679968198, 382.3653933208421, 210.10966644752054, 179.3832962821804, 2.0783166147944656, 2.078316627610487, 2.0783166540044333, 2.07831669644445, 2.07831669644445, 2.0783167136836624, 2.0783167139057004, 2.078316716275469, 2.078316760397129, 2.078316766969379, 2.0783167850402595, 2.0783165659722376, 2.0783167972055527, 28779.289167814703, 24603.563787219784, 15445.620761388776, 4738.093955577164, 3990.1838191411084, 3989.163056352444, 3025.5150493844626, 2925.037160898246, 969.5286084075434, 566.0338806899028, 2.078316766969379, 2.0783167972055527, 2.0783166119776575, 2.0783166119776575, 2.0783166148824717, 2.078316618768083, 2.078316618768083, 2.078316622435376, 2.0783166247026577, 2.078316629347886, 2.0783166435294937, 2.078316646086756, 2.078316648564541, 2.0783166540044333, 2.0783166570709444, 2.078316660240668, 2.078316660265104, 2.078316664885896, 2.0783166687470715, 2.0783166758024065, 2.0783167850402595, 2.07831669644445, 2.078316716275469, 2.078316760397129, 2.078316684372049, 2.078316688618428, 2.07831669644445, 2.078316695649786, 16793.31914352782, 16602.74925239828, 11866.665527628602, 7861.9851591174365, 7125.737078430715, 5881.632194488901, 3869.997761666931, 1224.4395012890689, 1068.801507504692, 1004.7527617364974, 300.44850492930453, 239.33676197108417, 2.0783166119776575, 2.0783166119776575, 2.0783166247026577, 2.078316629347886, 2.0783166435294937, 2.078316646086756, 2.078316648564541, 2.0783166540044333, 2.0783166570709444, 2.078316660240668, 2.078316660265104, 2.078316664885896, 2.0783166687470715, 2.0783166758024065, 2.078316684372049, 2.078316688618428, 2.078316695649786, 2.078316695649786, 2.0783167850402595, 2.07831669644445, 2.078316716275469, 2.078316760397129, 2.07831669644445, 2.0783167972055527, 20813.234397484564, 20073.048330900405, 7383.416633148729, 6421.997744660544, 5650.392404092143, 5468.740319234334, 3616.5956279124694, 3080.714311467784, 804.192565803679, 2.078316684372049, 2.078316695649786, 2.078316695649786, 2.07831669644445, 2.07831669644445, 2.0783167139057004, 2.078316716275469, 2.078316760397129, 2.078316766969379, 2.0783167850402595, 2.0783167972055527, 2.0783165659722376, 2.0783165659722376, 2.0783165659722376, 2.0783165659722376, 2.0783165659722376, 2.0783165659722376, 2.0783165659722376, 2.0783165659722376, 2.0783165659722376, 2.0783165659722376, 2.0783165798662657, 19326.543809121857, 27533.429525502146, 58287.9024844834, 55548.20385942521, 4814.7678591211425, 693.6633265258874, 4738.093955577164, 24478.79923199275, 16476.5035911464, 12894.395736778344, 10976.943678724318, 5596.36858572525, 1744.0596611228016, 296.1638191924734, 161.7719227562092, 2.0783165786972377, 2.078316581533976, 2.078316581533976, 2.078316581533976, 2.078316581533976, 2.078316581533976, 2.078316594349998, 2.078316594349998, 2.078316594349998, 2.0783166082440263, 2.0783166082440263, 2.078316618768083, 2.078316618768083, 2.0783166247026577, 2.078316629347886, 2.0783166435294937, 2.0783166570709444, 2.0783166687470715, 2.0783166758024065, 2.078316684372049, 2.078316688618428, 2.078316695649786, 2.0783167850402595, 2.07831669644445, 2.078316716275469, 2.078316760397129, 2.07831669644445, 2.0783167972055527, 2.078316766969379, 2.0783167136836624, 10782.836622840832, 9857.323452752165, 9643.215842994437, 7361.476359562512, 5600.644911282488, 2891.9513599554984, 2349.990406153052, 2236.6218227565996, 1613.1205782453683, 1558.4345523999493, 1355.0177198086187, 1112.325753852877, 1109.150201865353, 1055.3539059326797, 827.5807322171246, 823.6716010249281, 547.1015748314735, 480.5158228071711, 388.68278077081555, 385.28759994779494, 156.2075020974946, 144.04277073566715, 124.34925309717293, 2.0783166147944656, 2.078316622170594, 2.078316627610487, 2.078316646086756, 2.078316648564541, 2.0783166540044333, 2.0783166570709444, 2.0783167850402595, 2.07831669644445, 2.078316716275469, 2.078316760397129, 2.078316684372049, 45834.76693415271, 6983.763381901186, 3239.5168179131665, 2912.264773528619, 1095.198164674284, 2.078316766969379, 2.0783167972055527, 2.078316581533976, 2.078316581533976, 2.078316581533976, 2.078316581533976, 2.078316581533976, 2.078316590488823, 2.078316594349998, 2.078316594349998, 2.078316594349998, 2.0783165944745057, 2.0783166082440263, 2.0783166082440263, 2.0783166147944656, 2.078316618768083, 2.078316618768083, 2.078316622170594, 2.078316627610487, 2.0783166435294937, 2.078316660265104, 2.0783166758024065, 2.078316684372049, 2.078316688618428, 2.078316695649786, 2.0783167850402595, 2.07831669644445, 2.078316716275469, 2.078316760397129, 2.07831669644445, 2.0783167136836624, 2.078316695649786, 13874.76452546226, 7839.401720348695, 6249.109437007841, 6170.89874014538, 4349.255675548528, 4102.021688003203, 3869.3247397053055, 3434.4667103553857, 2510.813559019055, 1002.349388964442, 878.6063414487537, 466.8546695310871, 409.66579782585586, 397.39365093964784, 211.14515702244424, 2.078316695649786, 2.078316695649786, 2.07831669644445, 2.07831669644445, 2.0783167136836624, 2.0783167139057004, 2.078316716275469, 2.0783165659722376, 2.0783165659722376, 2.0783165659722376, 2.0783165659722376, 2.0783165659722376, 2.0783165659722376, 2.0783165659722376, 2.0783165659722376, 2.078316760397129, 2.078316766969379, 2.0783167850402595, 2.0783167972055527, 2.0783165798662657, 19326.543809121857, 27533.429525502146, 18499.75178844458, 10059.39121766396, 7056.445481900839, 5717.788700921943, 1242.0775912203167, 1058.7504261154568, 986.7878070143446, 805.9071989787205, 678.9734708373329, 675.6836081773193, 666.1765846890661, 649.6231554546071, 2.0783167972055527, 2.0783165904643863, 2.0783165904643863, 2.0783165904643863, 2.078316604358415, 2.078316604358415, 2.0783166148824717, 2.078316622435376, 2.078316646086756, 2.078316660240668, 2.078316664885896, 2.0783166687470715, 2.0783166758024065, 2.078316684372049, 2.078316688618428, 2.078316695649786, 2.078316695649786, 2.07831669644445, 2.0783167850402595, 2.078316716275469, 2.078316760397129, 2.07831669644445, 2.078316766969379, 2.0783167136836624, 25347.725841160776, 9524.592634950952, 3916.5714379887295, 2.078316583841689, 2.078316590488823, 2.078316629347886, 2.078316660265104, 2.078316664885896, 2.078316695649786, 2.078316695649786, 2.0783165659722376, 2.0783165659722376, 2.0783165659722376, 2.0783165659722376, 2.0783165659722376, 2.0783165659722376, 2.0783165659722376, 2.0783165659722376, 2.0783165659722376, 2.0783165659722376, 2.0783165659722376, 2.0783165659722376, 2.0783165659722376, 2.0783165659722376, 2.0783165659722376, 2.0783165659722376, 2.0783165659722376, 2.0783165659722376, 2.0783165659722376, 2.0783165659722376, 2.0783167139057004, 2.078316760397129, 2.078316766969379, 2.0783167850402595, 2.0783167972055527, 2.0783165798662657, 19326.543809121857, 27533.429525502146, 58287.9024844834, 5650.392404092143, 55548.20385942521, 4814.7678591211425, 693.6633265258874, 4738.093955577164, 12774.475591255927, 5549.951322311473, 14434.936405360177, 8094.427932905733, 4264.056916121551, 3831.0874307028193, 3097.5041240566716, 1612.1063864247585, 1507.7054634234698, 660.3907680310301, 391.90803588915605, 230.74823182612556, 2.0783167136836624, 2.078316760397129, 2.078316766969379, 2.0783167850402595, 2.0783167972055527, 2.0783165659722376, 2.0783165659722376, 2.0783165659722376, 2.0783165659722376, 2.0783165659722376, 2.0783165659722376, 2.0783165659722376, 2.0783165659722376, 2.0783165659722376, 2.0783165659722376, 2.0783165659722376, 2.0783165659722376, 2.0783165659722376, 2.0783165659722376, 2.0783165659722376, 2.0783165798662657, 19326.543809121857, 27533.429525502146, 58287.9024844834, 5650.392404092143, 55548.20385942521, 4814.7678591211425, 693.6633265258874, 4738.093955577164, 12774.475591255927, 5549.951322311473, 27729.615228990297, 3144.2214059058497, 3127.823160553712, 310.36383348909504, 56.92443833180183, 2.0783167136836624, 2.078316766969379, 2.0783165659722376, 2.0783165659722376, 2.0783165659722376, 2.0783165659722376, 2.0783165659722376, 2.0783165659722376, 2.0783165659722376, 2.0783165659722376, 2.0783165659722376, 2.0783165659722376, 2.0783165659722376, 2.0783165659722376, 2.0783165659722376, 2.0783165659722376, 2.0783165659722376, 2.0783165659722376, 2.0783165659722376, 2.0783165659722376, 2.0783165659722376, 2.0783165659722376, 2.0783165659722376, 2.0783165659722376, 2.0783165659722376, 2.0783165798662657, 19326.543809121857, 27533.429525502146, 58287.9024844834, 5650.392404092143, 55548.20385942521, 4814.7678591211425, 693.6633265258874, 4738.093955577164, 12774.475591255927, 5549.951322311473, 1558.4345523999493, 7879.115220532166, 30884.14446417055, 11182.723499161584, 1251.4373539334931, 15445.620761388776, 28779.289167814703, 8725.539756846214, 6942.702110291549, 5063.480543023354, 3530.0833562348384, 2657.865734682238, 2158.283093197122, 1490.6787546009093, 1038.4254509612933, 597.145324358723, 540.541438613566, 375.0035225118656, 240.9947839440972, 2.078316716275469, 2.078316760397129, 2.0783167850402595, 2.0783167972055527, 2.0783165659722376, 2.0783165659722376, 2.0783165659722376, 2.0783165659722376, 2.0783165659722376, 2.0783165659722376, 2.0783165659722376, 2.0783165659722376, 2.0783165659722376, 2.0783165659722376, 2.0783165659722376, 2.0783165659722376, 2.0783165659722376, 2.0783165659722376, 2.0783165798662657, 19326.543809121857, 27533.429525502146, 58287.9024844834, 5650.392404092143, 55548.20385942521, 4814.7678591211425, 693.6633265258874, 4738.093955577164, 12774.475591255927, 5549.951322311473, 12774.475591255927, 5549.951322311473, 4814.7678591211425, 4518.685129202419, 1133.7550213181282, 1076.0752123964157, 144.8643616996307, 2.0783165659722376, 2.0783165659722376, 2.0783165659722376, 2.0783165659722376, 2.0783165659722376, 2.0783165659722376, 2.0783165659722376, 2.0783165659722376, 2.0783165659722376, 2.0783165659722376, 2.0783165659722376, 2.0783165659722376, 2.0783165659722376, 2.0783165659722376, 2.0783165659722376, 2.0783165659722376, 2.0783165659722376, 2.0783165659722376, 2.0783165659722376, 2.0783165659722376, 2.0783165659722376, 2.0783165659722376, 2.0783165659722376, 2.0783167850402595, 2.0783165798662657, 19326.543809121857, 27533.429525502146, 58287.9024844834, 5650.392404092143, 55548.20385942521, 693.6633265258874, 4738.093955577164, 1558.4345523999493, 7879.115220532166, 30884.14446417055, 11182.723499161584, 1251.4373539334931, 15445.620761388776, 28779.289167814703, 153.29820188087814, 23119.20934134612, 1607.080784442519, 1491.597425214124, 1133.2628282421215, 1030.226188791207, 349.511172192062, 172.90868141809074, 2.078316760397129, 2.0783165659722376, 2.0783165659722376, 2.0783165659722376, 2.0783165659722376, 2.0783165659722376, 2.0783165659722376, 2.0783165659722376, 2.0783165659722376, 2.0783165659722376, 2.0783165659722376, 2.0783165659722376, 2.0783165659722376, 2.0783165659722376, 2.0783165659722376, 2.0783165659722376, 2.0783165659722376, 2.0783165659722376, 2.0783165659722376, 2.0783165659722376, 2.0783165659722376, 2.0783165659722376, 2.0783165659722376, 2.0783167850402595, 2.0783167972055527, 2.0783165798662657, 19326.543809121857, 27533.429525502146, 58287.9024844834, 5650.392404092143, 55548.20385942521, 4814.7678591211425, 693.6633265258874, 4738.093955577164, 12774.475591255927, 5549.951322311473, 1558.4345523999493, 7879.115220532166, 30884.14446417055, 11182.723499161584, 8503.358379112397, 6759.7063111410935, 4372.337330466136, 2964.964083770963, 1897.9793455966144, 1450.4806675455216, 1295.2056464359323, 2.0783165659722376, 2.0783165659722376, 2.0783165659722376, 2.0783165659722376, 2.0783165659722376, 2.0783165659722376, 2.0783165659722376, 2.0783165659722376, 2.0783165659722376, 2.0783165659722376, 2.0783165659722376, 2.0783165659722376, 2.0783165659722376, 2.0783165659722376, 2.0783165659722376, 2.0783165659722376, 2.0783165659722376, 2.0783165659722376, 2.0783165659722376, 2.0783165659722376, 2.0783165659722376, 2.0783165659722376, 2.0783165659722376, 2.0783167850402595, 2.0783165798662657, 19326.543809121857, 27533.429525502146, 58287.9024844834, 5650.392404092143, 55548.20385942521, 4814.7678591211425, 693.6633265258874, 4738.093955577164, 12774.475591255927, 5549.951322311473, 1558.4345523999493, 7879.115220532166, 30884.14446417055, 11182.723499161584, 1251.4373539334931, 15445.620761388776, 9533.55081881892, 7682.605267849133, 2693.481599693168, 828.8914390711433, 404.43055421086524, 332.74353464965554, 2.0783165659722376, 2.0783165659722376, 2.0783165659722376, 2.0783165659722376, 2.0783165659722376, 2.0783165659722376, 2.0783165659722376, 2.0783165659722376, 2.0783165659722376, 2.0783165659722376, 2.0783165659722376, 2.0783165659722376, 2.0783165659722376, 2.0783165659722376, 2.0783165659722376, 2.0783165659722376, 2.0783165659722376, 2.0783165659722376, 2.0783165659722376, 2.0783165659722376, 2.0783165659722376, 2.0783165659722376, 2.0783165659722376, 2.0783165659722376, 2.0783165798662657, 19326.543809121857, 27533.429525502146, 58287.9024844834, 5650.392404092143, 55548.20385942521, 4814.7678591211425, 693.6633265258874, 4738.093955577164, 12774.475591255927, 5549.951322311473, 1558.4345523999493, 7879.115220532166, 30884.14446417055, 11182.723499161584, 1251.4373539334931, 15445.620761388776, 28779.289167814703, 5529.624515492764, 5193.360036841584, 2429.9809850847955, 2108.8388096782674, 1668.2822912956774, 999.3649721830274, 909.2717620932278, 608.2134238815947, 539.1838371302181, 414.0477842914592, 264.8060161737811, 2.0783165765640548, 2.0783167850402595, 2.0783165659722376, 2.0783165659722376, 2.0783165659722376, 2.0783165659722376, 2.0783165659722376, 2.0783165659722376, 2.0783165659722376, 2.0783165659722376, 2.0783165659722376, 2.0783165659722376, 2.0783165659722376, 2.0783165659722376, 2.0783165659722376, 2.0783165659722376, 2.0783165659722376, 2.0783165659722376, 2.0783165659722376, 2.0783165798662657, 19326.543809121857, 27533.429525502146, 58287.9024844834, 5650.392404092143, 55548.20385942521, 4814.7678591211425, 693.6633265258874, 4738.093955577164, 12774.475591255927, 5549.951322311473, 1558.4345523999493, 7879.115220532166, 14478.702332352277, 1353.3436698120693, 1060.4805270468817, 2.0783166435294937, 2.0783167136836624, 2.078316570190834, 2.0783165786972377, 2.0783166247026577, 2.078316629347886, 2.0783165659722376, 2.0783165659722376, 2.0783165659722376, 2.0783165659722376, 2.0783165659722376, 2.0783165659722376, 2.0783165659722376, 2.0783165659722376, 2.0783165659722376, 2.0783165659722376, 2.0783165659722376, 2.0783165659722376, 2.0783165659722376, 2.0783165659722376, 2.0783165659722376, 2.0783165659722376, 2.0783165659722376, 2.0783165659722376, 2.0783165659722376, 2.0783165659722376, 2.0783165659722376, 2.078316766969379, 2.0783165798662657, 19326.543809121857, 27533.429525502146, 58287.9024844834, 5650.392404092143, 55548.20385942521, 4814.7678591211425, 693.6633265258874, 4738.093955577164, 12774.475591255927, 5549.951322311473, 1558.4345523999493, 7879.115220532166, 30884.14446417055, 11182.723499161584, 11055.738651387126, 1251.4373539334931, 1101.26444934549, 166.71588562350806, 125.28400806556321, 119.77491637584345, 2.0783165659722376, 2.0783165659722376, 2.0783165659722376, 2.0783165659722376, 2.0783165659722376, 2.0783165659722376, 2.0783165659722376, 2.0783165659722376, 2.0783165659722376, 2.0783165659722376, 2.0783165659722376, 2.0783165659722376, 2.0783165659722376, 2.0783165659722376, 2.0783165659722376, 2.0783165659722376, 2.0783165659722376, 2.0783165659722376, 2.0783165659722376, 2.0783165659722376, 2.0783165659722376, 2.0783165659722376, 2.0783165659722376, 2.0783165659722376, 2.078316716275469, 2.0783165798662657, 19326.543809121857, 27533.429525502146, 58287.9024844834, 5650.392404092143, 55548.20385942521, 4814.7678591211425, 693.6633265258874, 4738.093955577164, 12774.475591255927, 5549.951322311473, 1558.4345523999493, 7879.115220532166, 30884.14446417055, 11182.723499161584, 15445.620761388776, 28779.289167814703, 1303.2232020955157, 351.3871002869091, 2.0783165791964606, 2.078316583841689, 2.0783165659722376, 2.0783165659722376, 2.0783165659722376, 2.0783165659722376, 2.0783165659722376, 2.0783165659722376, 2.0783165659722376, 2.0783165659722376, 2.0783165659722376, 2.0783165659722376, 2.0783165659722376, 2.0783165659722376, 2.0783165659722376, 2.0783165659722376, 2.0783165659722376, 2.0783165659722376, 2.0783165659722376, 2.0783165659722376, 2.0783165659722376, 2.0783165659722376, 2.0783165659722376, 2.0783165659722376, 2.0783165659722376, 2.0783165659722376, 2.0783165659722376, 2.0783165659722376, 2.0783165798662657, 19326.543809121857, 27533.429525502146, 58287.9024844834, 5650.392404092143, 55548.20385942521, 4814.7678591211425, 693.6633265258874, 4738.093955577164, 12774.475591255927, 5549.951322311473, 1558.4345523999493, 7879.115220532166, 30884.14446417055, 11182.723499161584, 1251.4373539334931, 15445.620761388776, 28779.289167814703, 153.29820188087814, 364.0607063570144, 353.58723451454097, 2.0783165659722376, 2.0783165659722376, 2.0783165659722376, 2.0783165659722376, 2.0783165659722376, 2.0783165659722376, 2.0783165659722376, 2.0783165659722376, 2.0783165659722376, 2.0783165659722376, 2.0783165659722376, 2.0783165659722376, 2.0783165659722376, 2.0783165659722376, 2.0783165659722376, 2.0783165659722376, 2.0783165659722376, 2.0783165659722376, 2.0783165659722376, 2.0783165659722376, 2.0783165659722376, 2.0783165659722376, 2.0783165659722376, 2.0783165659722376, 2.0783165659722376, 2.0783165659722376, 2.0783165659722376, 2.0783165659722376, 2.0783165798662657, 19326.543809121857, 27533.429525502146, 58287.9024844834, 5650.392404092143, 55548.20385942521, 4814.7678591211425, 693.6633265258874, 4738.093955577164, 12774.475591255927, 5549.951322311473, 1558.4345523999493, 7879.115220532166, 30884.14446417055, 11182.723499161584, 1251.4373539334931, 15445.620761388776, 28779.289167814703, 153.29820188087814, 2.0783165659722376, 2.0783165659722376, 2.0783165659722376, 2.0783165659722376, 2.0783165659722376, 2.0783165659722376, 2.0783165659722376, 2.0783165659722376, 2.0783165659722376, 2.0783165659722376, 2.0783165659722376, 2.0783165659722376, 2.0783165659722376, 2.0783165659722376, 2.0783165659722376, 2.0783165659722376, 2.0783165659722376, 2.0783165659722376, 2.0783165659722376, 2.0783165659722376, 2.0783165659722376, 2.0783165659722376, 2.0783165659722376, 2.0783165659722376, 2.0783165659722376, 2.0783165659722376, 2.0783165659722376, 2.0783165659722376, 2.0783165659722376, 2.0783165659722376, 2.0783165798662657, 19326.543809121857, 27533.429525502146, 58287.9024844834, 5650.392404092143, 55548.20385942521, 4814.7678591211425, 693.6633265258874, 4738.093955577164, 12774.475591255927, 5549.951322311473, 1558.4345523999493, 7879.115220532166, 30884.14446417055, 11182.723499161584, 1251.4373539334931, 15445.620761388776, 28779.289167814703, 153.29820188087814, 589.8864547478103, 2.0783165659722376, 2.0783165659722376, 2.0783165659722376, 2.0783165659722376, 2.0783165659722376, 2.0783165659722376, 2.0783165659722376, 2.0783165659722376, 2.0783165659722376, 2.0783165659722376, 2.0783165659722376, 2.0783165659722376, 2.0783165659722376, 2.0783165659722376, 2.0783165659722376, 2.0783165659722376, 2.0783165659722376, 2.0783165659722376, 2.0783165659722376, 2.0783165659722376, 2.0783165659722376, 2.0783165659722376, 2.0783165659722376, 2.0783165659722376, 2.0783165659722376, 2.0783165659722376, 2.0783165659722376, 2.0783165659722376, 2.0783165659722376, 2.0783165659722376, 2.0783165798662657, 19326.543809121857, 27533.429525502146, 58287.9024844834, 5650.392404092143, 55548.20385942521, 4814.7678591211425, 693.6633265258874, 4738.093955577164, 12774.475591255927, 5549.951322311473, 1558.4345523999493, 7879.115220532166, 30884.14446417055, 11182.723499161584, 1251.4373539334931, 15445.620761388776, 28779.289167814703, 153.29820188087814, 589.8864547478103, 2.0783165659722376, 2.0783165659722376, 2.0783165659722376, 2.0783165659722376, 2.0783165659722376, 2.0783165659722376, 2.0783165659722376, 2.0783165659722376, 2.0783165659722376, 2.0783165659722376, 2.0783165659722376, 2.0783165659722376, 2.0783165659722376, 2.0783165659722376, 2.0783165659722376, 2.0783165659722376, 2.0783165659722376, 2.0783165659722376, 2.0783165659722376, 2.0783165659722376, 2.0783165659722376, 2.0783165659722376, 2.0783165659722376, 2.0783165659722376, 2.0783165659722376, 2.0783165659722376, 2.0783165659722376, 2.0783165659722376, 2.0783165659722376, 2.0783165659722376, 2.0783165798662657, 19326.543809121857, 27533.429525502146, 58287.9024844834, 5650.392404092143, 55548.20385942521, 4814.7678591211425, 693.6633265258874, 4738.093955577164, 12774.475591255927, 5549.951322311473, 1558.4345523999493, 7879.115220532166, 30884.14446417055, 11182.723499161584, 1251.4373539334931, 15445.620761388776, 28779.289167814703, 153.29820188087814, 589.8864547478103, 2.0783165659722376, 2.0783165659722376, 2.0783165659722376, 2.0783165659722376, 2.0783165659722376, 2.0783165659722376, 2.0783165659722376, 2.0783165659722376, 2.0783165659722376, 2.0783165659722376, 2.0783165659722376, 2.0783165659722376, 2.0783165659722376, 2.0783165659722376, 2.0783165659722376, 2.0783165659722376, 2.0783165659722376, 2.0783165659722376, 2.0783165659722376, 2.0783165659722376, 2.0783165659722376, 2.0783165659722376, 2.0783165659722376, 2.0783165659722376, 2.0783165659722376, 2.0783165659722376, 2.0783165659722376, 2.0783165659722376, 2.0783165659722376, 2.0783165659722376, 2.0783165798662657, 19326.543809121857, 27533.429525502146, 58287.9024844834, 5650.392404092143, 55548.20385942521, 4814.7678591211425, 693.6633265258874, 4738.093955577164, 12774.475591255927, 5549.951322311473, 1558.4345523999493, 7879.115220532166, 30884.14446417055, 11182.723499161584, 1251.4373539334931, 15445.620761388776, 28779.289167814703, 153.29820188087814, 589.8864547478103], \"Category\": [\"Default\", \"Default\", \"Default\", \"Default\", \"Default\", \"Default\", \"Default\", \"Default\", \"Default\", \"Default\", \"Default\", \"Default\", \"Default\", \"Default\", \"Default\", \"Default\", \"Default\", \"Default\", \"Default\", \"Default\", \"Default\", \"Default\", \"Default\", \"Default\", \"Default\", \"Default\", \"Default\", \"Default\", \"Default\", \"Default\", \"Topic1\", \"Topic1\", \"Topic1\", \"Topic1\", \"Topic1\", \"Topic1\", \"Topic1\", \"Topic1\", \"Topic1\", \"Topic1\", \"Topic1\", \"Topic1\", \"Topic1\", \"Topic1\", \"Topic1\", \"Topic1\", \"Topic1\", \"Topic1\", \"Topic1\", \"Topic1\", \"Topic1\", \"Topic1\", \"Topic1\", \"Topic1\", \"Topic1\", \"Topic1\", \"Topic1\", \"Topic1\", \"Topic1\", \"Topic1\", \"Topic1\", \"Topic1\", \"Topic1\", \"Topic1\", \"Topic1\", \"Topic1\", \"Topic2\", \"Topic2\", \"Topic2\", \"Topic2\", \"Topic2\", \"Topic2\", \"Topic2\", \"Topic2\", \"Topic2\", \"Topic2\", \"Topic2\", \"Topic2\", \"Topic2\", \"Topic2\", \"Topic2\", \"Topic2\", \"Topic2\", \"Topic2\", \"Topic2\", \"Topic2\", \"Topic2\", \"Topic2\", \"Topic2\", \"Topic2\", \"Topic2\", \"Topic2\", \"Topic2\", \"Topic2\", \"Topic2\", \"Topic2\", \"Topic2\", \"Topic2\", \"Topic2\", \"Topic2\", \"Topic3\", \"Topic3\", \"Topic3\", \"Topic3\", \"Topic3\", \"Topic3\", \"Topic3\", \"Topic3\", \"Topic3\", \"Topic3\", \"Topic3\", \"Topic3\", \"Topic3\", \"Topic3\", \"Topic3\", \"Topic3\", \"Topic3\", \"Topic3\", \"Topic3\", \"Topic3\", \"Topic3\", \"Topic3\", \"Topic3\", \"Topic3\", \"Topic3\", \"Topic3\", \"Topic3\", \"Topic3\", \"Topic3\", \"Topic3\", \"Topic3\", \"Topic3\", \"Topic3\", \"Topic3\", \"Topic3\", \"Topic3\", \"Topic3\", \"Topic3\", \"Topic3\", \"Topic4\", \"Topic4\", \"Topic4\", \"Topic4\", \"Topic4\", \"Topic4\", \"Topic4\", \"Topic4\", \"Topic4\", \"Topic4\", \"Topic4\", \"Topic4\", \"Topic4\", \"Topic4\", \"Topic4\", \"Topic4\", \"Topic4\", \"Topic4\", \"Topic4\", \"Topic4\", \"Topic4\", \"Topic4\", \"Topic4\", \"Topic4\", \"Topic4\", \"Topic4\", \"Topic4\", \"Topic4\", \"Topic4\", \"Topic4\", \"Topic4\", \"Topic4\", \"Topic4\", \"Topic4\", \"Topic4\", \"Topic4\", \"Topic4\", \"Topic4\", \"Topic4\", \"Topic5\", \"Topic5\", \"Topic5\", \"Topic5\", \"Topic5\", \"Topic5\", \"Topic5\", \"Topic5\", \"Topic5\", \"Topic5\", \"Topic5\", \"Topic5\", \"Topic5\", \"Topic5\", \"Topic5\", \"Topic5\", \"Topic5\", \"Topic5\", \"Topic5\", \"Topic5\", \"Topic5\", \"Topic5\", \"Topic5\", \"Topic5\", \"Topic5\", \"Topic5\", \"Topic5\", \"Topic5\", \"Topic5\", \"Topic5\", \"Topic5\", \"Topic6\", \"Topic6\", \"Topic6\", \"Topic6\", \"Topic6\", \"Topic6\", \"Topic6\", \"Topic6\", \"Topic6\", \"Topic6\", \"Topic6\", \"Topic6\", \"Topic6\", \"Topic6\", \"Topic6\", \"Topic6\", \"Topic6\", \"Topic6\", \"Topic6\", \"Topic6\", \"Topic6\", \"Topic6\", \"Topic6\", \"Topic6\", \"Topic6\", \"Topic6\", \"Topic6\", \"Topic6\", \"Topic6\", \"Topic6\", \"Topic6\", \"Topic6\", \"Topic6\", \"Topic6\", \"Topic6\", \"Topic6\", \"Topic6\", \"Topic6\", \"Topic7\", \"Topic7\", \"Topic7\", \"Topic7\", \"Topic7\", \"Topic7\", \"Topic7\", \"Topic7\", \"Topic7\", \"Topic7\", \"Topic7\", \"Topic7\", \"Topic7\", \"Topic7\", \"Topic7\", \"Topic7\", \"Topic7\", \"Topic7\", \"Topic7\", \"Topic7\", \"Topic7\", \"Topic7\", \"Topic7\", \"Topic7\", \"Topic7\", \"Topic7\", \"Topic7\", \"Topic7\", \"Topic7\", \"Topic7\", \"Topic7\", \"Topic7\", \"Topic7\", \"Topic7\", \"Topic7\", \"Topic7\", \"Topic8\", \"Topic8\", \"Topic8\", \"Topic8\", \"Topic8\", \"Topic8\", \"Topic8\", \"Topic8\", \"Topic8\", \"Topic8\", \"Topic8\", \"Topic8\", \"Topic8\", \"Topic8\", \"Topic8\", \"Topic8\", \"Topic8\", \"Topic8\", \"Topic8\", \"Topic8\", \"Topic8\", \"Topic8\", \"Topic8\", \"Topic8\", \"Topic8\", \"Topic8\", \"Topic8\", \"Topic8\", \"Topic8\", \"Topic8\", \"Topic8\", \"Topic8\", \"Topic8\", \"Topic8\", \"Topic8\", \"Topic8\", \"Topic8\", \"Topic8\", \"Topic9\", \"Topic9\", \"Topic9\", \"Topic9\", \"Topic9\", \"Topic9\", \"Topic9\", \"Topic9\", \"Topic9\", \"Topic9\", \"Topic9\", \"Topic9\", \"Topic9\", \"Topic9\", \"Topic9\", \"Topic9\", \"Topic9\", \"Topic9\", \"Topic9\", \"Topic9\", \"Topic9\", \"Topic9\", \"Topic9\", \"Topic9\", \"Topic9\", \"Topic9\", \"Topic9\", \"Topic9\", \"Topic9\", \"Topic9\", \"Topic9\", \"Topic9\", \"Topic9\", \"Topic9\", \"Topic9\", \"Topic9\", \"Topic9\", \"Topic9\", \"Topic10\", \"Topic10\", \"Topic10\", \"Topic10\", \"Topic10\", \"Topic10\", \"Topic10\", \"Topic10\", \"Topic10\", \"Topic10\", \"Topic10\", \"Topic10\", \"Topic10\", \"Topic10\", \"Topic10\", \"Topic10\", \"Topic10\", \"Topic10\", \"Topic10\", \"Topic10\", \"Topic10\", \"Topic10\", \"Topic10\", \"Topic10\", \"Topic10\", \"Topic10\", \"Topic10\", \"Topic10\", \"Topic10\", \"Topic10\", \"Topic10\", \"Topic10\", \"Topic10\", \"Topic10\", \"Topic10\", \"Topic11\", \"Topic11\", \"Topic11\", \"Topic11\", \"Topic11\", \"Topic11\", \"Topic11\", \"Topic11\", \"Topic11\", \"Topic11\", \"Topic11\", \"Topic11\", \"Topic11\", \"Topic11\", \"Topic11\", \"Topic11\", \"Topic11\", \"Topic11\", \"Topic11\", \"Topic11\", \"Topic11\", \"Topic11\", \"Topic11\", \"Topic11\", \"Topic11\", \"Topic11\", \"Topic11\", \"Topic11\", \"Topic11\", \"Topic11\", \"Topic11\", \"Topic11\", \"Topic11\", \"Topic11\", \"Topic11\", \"Topic11\", \"Topic11\", \"Topic12\", \"Topic12\", \"Topic12\", \"Topic12\", \"Topic12\", \"Topic12\", \"Topic12\", \"Topic12\", \"Topic12\", \"Topic12\", \"Topic12\", \"Topic12\", \"Topic12\", \"Topic12\", \"Topic12\", \"Topic12\", \"Topic12\", \"Topic12\", \"Topic12\", \"Topic12\", \"Topic12\", \"Topic12\", \"Topic12\", \"Topic12\", \"Topic12\", \"Topic12\", \"Topic12\", \"Topic12\", \"Topic12\", \"Topic12\", \"Topic12\", \"Topic12\", \"Topic12\", \"Topic12\", \"Topic12\", \"Topic12\", \"Topic12\", \"Topic13\", \"Topic13\", \"Topic13\", \"Topic13\", \"Topic13\", \"Topic13\", \"Topic13\", \"Topic13\", \"Topic13\", \"Topic13\", \"Topic13\", \"Topic13\", \"Topic13\", \"Topic13\", \"Topic13\", \"Topic13\", \"Topic13\", \"Topic13\", \"Topic13\", \"Topic13\", \"Topic13\", \"Topic13\", \"Topic13\", \"Topic13\", \"Topic13\", \"Topic13\", \"Topic13\", \"Topic13\", \"Topic13\", \"Topic13\", \"Topic13\", \"Topic13\", \"Topic13\", \"Topic13\", \"Topic13\", \"Topic13\", \"Topic14\", \"Topic14\", \"Topic14\", \"Topic14\", \"Topic14\", \"Topic14\", \"Topic14\", \"Topic14\", \"Topic14\", \"Topic14\", \"Topic14\", \"Topic14\", \"Topic14\", \"Topic14\", \"Topic14\", \"Topic14\", \"Topic14\", \"Topic14\", \"Topic14\", \"Topic14\", \"Topic14\", \"Topic14\", \"Topic14\", \"Topic14\", \"Topic14\", \"Topic14\", \"Topic14\", \"Topic14\", \"Topic14\", \"Topic14\", \"Topic14\", \"Topic14\", \"Topic14\", \"Topic14\", \"Topic14\", \"Topic14\", \"Topic14\", \"Topic14\", \"Topic14\", \"Topic14\", \"Topic14\", \"Topic14\", \"Topic14\", \"Topic14\", \"Topic14\", \"Topic14\", \"Topic15\", \"Topic15\", \"Topic15\", \"Topic15\", \"Topic15\", \"Topic15\", \"Topic15\", \"Topic15\", \"Topic15\", \"Topic15\", \"Topic15\", \"Topic15\", \"Topic15\", \"Topic15\", \"Topic15\", \"Topic15\", \"Topic15\", \"Topic15\", \"Topic15\", \"Topic15\", \"Topic15\", \"Topic15\", \"Topic15\", \"Topic15\", \"Topic15\", \"Topic15\", \"Topic15\", \"Topic15\", \"Topic15\", \"Topic15\", \"Topic15\", \"Topic15\", \"Topic15\", \"Topic15\", \"Topic15\", \"Topic15\", \"Topic15\", \"Topic15\", \"Topic15\", \"Topic15\", \"Topic15\", \"Topic16\", \"Topic16\", \"Topic16\", \"Topic16\", \"Topic16\", \"Topic16\", \"Topic16\", \"Topic16\", \"Topic16\", \"Topic16\", \"Topic16\", \"Topic16\", \"Topic16\", \"Topic16\", \"Topic16\", \"Topic16\", \"Topic16\", \"Topic16\", \"Topic16\", \"Topic16\", \"Topic16\", \"Topic16\", \"Topic16\", \"Topic16\", \"Topic16\", \"Topic16\", \"Topic16\", \"Topic16\", \"Topic16\", \"Topic16\", \"Topic16\", \"Topic16\", \"Topic16\", \"Topic16\", \"Topic16\", \"Topic16\", \"Topic16\", \"Topic16\", \"Topic16\", \"Topic16\", \"Topic16\", \"Topic16\", \"Topic16\", \"Topic16\", \"Topic16\", \"Topic16\", \"Topic16\", \"Topic16\", \"Topic17\", \"Topic17\", \"Topic17\", \"Topic17\", \"Topic17\", \"Topic17\", \"Topic17\", \"Topic17\", \"Topic17\", \"Topic17\", \"Topic17\", \"Topic17\", \"Topic17\", \"Topic17\", \"Topic17\", \"Topic17\", \"Topic17\", \"Topic17\", \"Topic17\", \"Topic17\", \"Topic17\", \"Topic17\", \"Topic17\", \"Topic17\", \"Topic17\", \"Topic17\", \"Topic17\", \"Topic17\", \"Topic17\", \"Topic17\", \"Topic17\", \"Topic17\", \"Topic17\", \"Topic17\", \"Topic17\", \"Topic17\", \"Topic17\", \"Topic17\", \"Topic17\", \"Topic17\", \"Topic17\", \"Topic18\", \"Topic18\", \"Topic18\", \"Topic18\", \"Topic18\", \"Topic18\", \"Topic18\", \"Topic18\", \"Topic18\", \"Topic18\", \"Topic18\", \"Topic18\", \"Topic18\", \"Topic18\", \"Topic18\", \"Topic18\", \"Topic18\", \"Topic18\", \"Topic18\", \"Topic18\", \"Topic18\", \"Topic18\", \"Topic18\", \"Topic18\", \"Topic18\", \"Topic18\", \"Topic18\", \"Topic18\", \"Topic18\", \"Topic18\", \"Topic18\", \"Topic18\", \"Topic18\", \"Topic18\", \"Topic18\", \"Topic18\", \"Topic18\", \"Topic18\", \"Topic18\", \"Topic18\", \"Topic18\", \"Topic18\", \"Topic18\", \"Topic18\", \"Topic18\", \"Topic18\", \"Topic18\", \"Topic19\", \"Topic19\", \"Topic19\", \"Topic19\", \"Topic19\", \"Topic19\", \"Topic19\", \"Topic19\", \"Topic19\", \"Topic19\", \"Topic19\", \"Topic19\", \"Topic19\", \"Topic19\", \"Topic19\", \"Topic19\", \"Topic19\", \"Topic19\", \"Topic19\", \"Topic19\", \"Topic19\", \"Topic19\", \"Topic19\", \"Topic19\", \"Topic19\", \"Topic19\", \"Topic19\", \"Topic19\", \"Topic19\", \"Topic19\", \"Topic19\", \"Topic19\", \"Topic19\", \"Topic19\", \"Topic19\", \"Topic19\", \"Topic19\", \"Topic19\", \"Topic19\", \"Topic19\", \"Topic19\", \"Topic19\", \"Topic19\", \"Topic19\", \"Topic19\", \"Topic19\", \"Topic19\", \"Topic20\", \"Topic20\", \"Topic20\", \"Topic20\", \"Topic20\", \"Topic20\", \"Topic20\", \"Topic20\", \"Topic20\", \"Topic20\", \"Topic20\", \"Topic20\", \"Topic20\", \"Topic20\", \"Topic20\", \"Topic20\", \"Topic20\", \"Topic20\", \"Topic20\", \"Topic20\", \"Topic20\", \"Topic20\", \"Topic20\", \"Topic20\", \"Topic20\", \"Topic20\", \"Topic20\", \"Topic20\", \"Topic20\", \"Topic20\", \"Topic20\", \"Topic20\", \"Topic20\", \"Topic20\", \"Topic20\", \"Topic20\", \"Topic20\", \"Topic20\", \"Topic20\", \"Topic20\", \"Topic20\", \"Topic20\", \"Topic20\", \"Topic20\", \"Topic20\", \"Topic20\", \"Topic20\", \"Topic20\", \"Topic21\", \"Topic21\", \"Topic21\", \"Topic21\", \"Topic21\", \"Topic21\", \"Topic21\", \"Topic21\", \"Topic21\", \"Topic21\", \"Topic21\", \"Topic21\", \"Topic21\", \"Topic21\", \"Topic21\", \"Topic21\", \"Topic21\", \"Topic21\", \"Topic21\", \"Topic21\", \"Topic21\", \"Topic21\", \"Topic21\", \"Topic21\", \"Topic21\", \"Topic21\", \"Topic21\", \"Topic21\", \"Topic21\", \"Topic21\", \"Topic21\", \"Topic21\", \"Topic21\", \"Topic21\", \"Topic21\", \"Topic21\", \"Topic21\", \"Topic21\", \"Topic21\", \"Topic21\", \"Topic21\", \"Topic21\", \"Topic21\", \"Topic21\", \"Topic21\", \"Topic21\", \"Topic21\", \"Topic21\", \"Topic22\", \"Topic22\", \"Topic22\", \"Topic22\", \"Topic22\", \"Topic22\", \"Topic22\", \"Topic22\", \"Topic22\", \"Topic22\", \"Topic22\", \"Topic22\", \"Topic22\", \"Topic22\", \"Topic22\", \"Topic22\", \"Topic22\", \"Topic22\", \"Topic22\", \"Topic22\", \"Topic22\", \"Topic22\", \"Topic22\", \"Topic22\", \"Topic22\", \"Topic22\", \"Topic22\", \"Topic22\", \"Topic22\", \"Topic22\", \"Topic22\", \"Topic22\", \"Topic22\", \"Topic22\", \"Topic22\", \"Topic22\", \"Topic22\", \"Topic22\", \"Topic22\", \"Topic22\", \"Topic22\", \"Topic22\", \"Topic22\", \"Topic23\", \"Topic23\", \"Topic23\", \"Topic23\", \"Topic23\", \"Topic23\", \"Topic23\", \"Topic23\", \"Topic23\", \"Topic23\", \"Topic23\", \"Topic23\", \"Topic23\", \"Topic23\", \"Topic23\", \"Topic23\", \"Topic23\", \"Topic23\", \"Topic23\", \"Topic23\", \"Topic23\", \"Topic23\", \"Topic23\", \"Topic23\", \"Topic23\", \"Topic23\", \"Topic23\", \"Topic23\", \"Topic23\", \"Topic23\", \"Topic23\", \"Topic23\", \"Topic23\", \"Topic23\", \"Topic23\", \"Topic23\", \"Topic23\", \"Topic23\", \"Topic23\", \"Topic23\", \"Topic23\", \"Topic23\", \"Topic23\", \"Topic23\", \"Topic23\", \"Topic23\", \"Topic24\", \"Topic24\", \"Topic24\", \"Topic24\", \"Topic24\", \"Topic24\", \"Topic24\", \"Topic24\", \"Topic24\", \"Topic24\", \"Topic24\", \"Topic24\", \"Topic24\", \"Topic24\", \"Topic24\", \"Topic24\", \"Topic24\", \"Topic24\", \"Topic24\", \"Topic24\", \"Topic24\", \"Topic24\", \"Topic24\", \"Topic24\", \"Topic24\", \"Topic24\", \"Topic24\", \"Topic24\", \"Topic24\", \"Topic24\", \"Topic24\", \"Topic24\", \"Topic24\", \"Topic24\", \"Topic24\", \"Topic24\", \"Topic24\", \"Topic24\", \"Topic24\", \"Topic24\", \"Topic24\", \"Topic24\", \"Topic24\", \"Topic24\", \"Topic24\", \"Topic24\", \"Topic24\", \"Topic24\", \"Topic25\", \"Topic25\", \"Topic25\", \"Topic25\", \"Topic25\", \"Topic25\", \"Topic25\", \"Topic25\", \"Topic25\", \"Topic25\", \"Topic25\", \"Topic25\", \"Topic25\", \"Topic25\", \"Topic25\", \"Topic25\", \"Topic25\", \"Topic25\", \"Topic25\", \"Topic25\", \"Topic25\", \"Topic25\", \"Topic25\", \"Topic25\", \"Topic25\", \"Topic25\", \"Topic25\", \"Topic25\", \"Topic25\", \"Topic25\", \"Topic25\", \"Topic25\", \"Topic25\", \"Topic25\", \"Topic25\", \"Topic25\", \"Topic25\", \"Topic25\", \"Topic25\", \"Topic25\", \"Topic25\", \"Topic25\", \"Topic25\", \"Topic25\", \"Topic25\", \"Topic25\", \"Topic25\", \"Topic25\", \"Topic25\", \"Topic26\", \"Topic26\", \"Topic26\", \"Topic26\", \"Topic26\", \"Topic26\", \"Topic26\", \"Topic26\", \"Topic26\", \"Topic26\", \"Topic26\", \"Topic26\", \"Topic26\", \"Topic26\", \"Topic26\", \"Topic26\", \"Topic26\", \"Topic26\", \"Topic26\", \"Topic26\", \"Topic26\", \"Topic26\", \"Topic26\", \"Topic26\", \"Topic26\", \"Topic26\", \"Topic26\", \"Topic26\", \"Topic26\", \"Topic26\", \"Topic26\", \"Topic26\", \"Topic26\", \"Topic26\", \"Topic26\", \"Topic26\", \"Topic26\", \"Topic26\", \"Topic26\", \"Topic26\", \"Topic26\", \"Topic26\", \"Topic26\", \"Topic26\", \"Topic26\", \"Topic26\", \"Topic26\", \"Topic26\", \"Topic26\", \"Topic27\", \"Topic27\", \"Topic27\", \"Topic27\", \"Topic27\", \"Topic27\", \"Topic27\", \"Topic27\", \"Topic27\", \"Topic27\", \"Topic27\", \"Topic27\", \"Topic27\", \"Topic27\", \"Topic27\", \"Topic27\", \"Topic27\", \"Topic27\", \"Topic27\", \"Topic27\", \"Topic27\", \"Topic27\", \"Topic27\", \"Topic27\", \"Topic27\", \"Topic27\", \"Topic27\", \"Topic27\", \"Topic27\", \"Topic27\", \"Topic27\", \"Topic27\", \"Topic27\", \"Topic27\", \"Topic27\", \"Topic27\", \"Topic27\", \"Topic27\", \"Topic27\", \"Topic27\", \"Topic27\", \"Topic27\", \"Topic27\", \"Topic27\", \"Topic27\", \"Topic27\", \"Topic27\", \"Topic27\", \"Topic27\", \"Topic27\", \"Topic28\", \"Topic28\", \"Topic28\", \"Topic28\", \"Topic28\", \"Topic28\", \"Topic28\", \"Topic28\", \"Topic28\", \"Topic28\", \"Topic28\", \"Topic28\", \"Topic28\", \"Topic28\", \"Topic28\", \"Topic28\", \"Topic28\", \"Topic28\", \"Topic28\", \"Topic28\", \"Topic28\", \"Topic28\", \"Topic28\", \"Topic28\", \"Topic28\", \"Topic28\", \"Topic28\", \"Topic28\", \"Topic28\", \"Topic28\", \"Topic28\", \"Topic28\", \"Topic28\", \"Topic28\", \"Topic28\", \"Topic28\", \"Topic28\", \"Topic28\", \"Topic28\", \"Topic28\", \"Topic28\", \"Topic28\", \"Topic28\", \"Topic28\", \"Topic28\", \"Topic28\", \"Topic28\", \"Topic28\", \"Topic28\", \"Topic28\", \"Topic29\", \"Topic29\", \"Topic29\", \"Topic29\", \"Topic29\", \"Topic29\", \"Topic29\", \"Topic29\", \"Topic29\", \"Topic29\", \"Topic29\", \"Topic29\", \"Topic29\", \"Topic29\", \"Topic29\", \"Topic29\", \"Topic29\", \"Topic29\", \"Topic29\", \"Topic29\", \"Topic29\", \"Topic29\", \"Topic29\", \"Topic29\", \"Topic29\", \"Topic29\", \"Topic29\", \"Topic29\", \"Topic29\", \"Topic29\", \"Topic29\", \"Topic29\", \"Topic29\", \"Topic29\", \"Topic29\", \"Topic29\", \"Topic29\", \"Topic29\", \"Topic29\", \"Topic29\", \"Topic29\", \"Topic29\", \"Topic29\", \"Topic29\", \"Topic29\", \"Topic29\", \"Topic29\", \"Topic29\", \"Topic29\", \"Topic29\", \"Topic30\", \"Topic30\", \"Topic30\", \"Topic30\", \"Topic30\", \"Topic30\", \"Topic30\", \"Topic30\", \"Topic30\", \"Topic30\", \"Topic30\", \"Topic30\", \"Topic30\", \"Topic30\", \"Topic30\", \"Topic30\", \"Topic30\", \"Topic30\", \"Topic30\", \"Topic30\", \"Topic30\", \"Topic30\", \"Topic30\", \"Topic30\", \"Topic30\", \"Topic30\", \"Topic30\", \"Topic30\", \"Topic30\", \"Topic30\", \"Topic30\", \"Topic30\", \"Topic30\", \"Topic30\", \"Topic30\", \"Topic30\", \"Topic30\", \"Topic30\", \"Topic30\", \"Topic30\", \"Topic30\", \"Topic30\", \"Topic30\", \"Topic30\", \"Topic30\", \"Topic30\", \"Topic30\", \"Topic30\", \"Topic30\", \"Topic30\"], \"logprob\": [30.0, 29.0, 28.0, 27.0, 26.0, 25.0, 24.0, 23.0, 22.0, 21.0, 20.0, 19.0, 18.0, 17.0, 16.0, 15.0, 14.0, 13.0, 12.0, 11.0, 10.0, 9.0, 8.0, 7.0, 6.0, 5.0, 4.0, 3.0, 2.0, 1.0, -1.366, -1.6396, -2.4752, -2.517, -2.8094, -2.9795, -3.1073, -3.2856, -3.3017, -3.406, -3.4264, -3.6366, -3.9466, -4.8329, -5.1066, -5.4206, -5.4867, -5.9784, -6.1401, -7.2623, -14.442, -14.442, -14.442, -14.442, -14.442, -14.442, -14.442, -14.442, -14.442, -14.442, -14.442, -14.442, -14.442, -14.442, -14.442, -14.442, -0.7589, -0.8071, -2.7603, -14.1438, -14.1438, -14.1438, -14.1438, -14.1438, -14.1438, -14.1438, -14.1438, -14.1438, -14.1438, -14.1438, -14.1438, -14.1438, -14.1438, -14.1438, -14.1438, -14.1438, -14.1438, -14.1438, -14.1438, -14.1438, -14.1438, -14.1438, -14.1438, -14.1438, -14.1438, -14.1438, -14.1438, -14.1438, -14.1438, -14.1438, -1.3024, -1.6342, -1.6673, -1.8444, -2.6042, -3.4212, -4.2496, -4.5746, -4.82, -5.0723, -5.1075, -6.6939, -6.9307, -13.7771, -13.7771, -13.7771, -13.7771, -13.7771, -13.7771, -13.7771, -13.7771, -13.7771, -13.7771, -13.7771, -13.7771, -13.7771, -13.7771, -13.7771, -13.7771, -13.7771, -13.7771, -13.7771, -13.7771, -13.7771, -13.7771, -13.7771, -13.7771, -13.7771, -13.7771, -1.2948, -1.4097, -1.5178, -2.0804, -2.8173, -3.8785, -4.5474, -4.8747, -4.9736, -6.3175, -13.8398, -13.8398, -13.8398, -13.8398, -13.8398, -13.8398, -13.8398, -13.8398, -13.8398, -13.8398, -13.8398, -13.8398, -13.8398, -13.8398, -13.8398, -13.8398, -13.8398, -13.8398, -13.8398, -13.8398, -13.8398, -13.8398, -13.8398, -13.8398, -13.8398, -13.8398, -13.8398, -13.8398, -13.8398, -0.6071, -2.1995, -2.5711, -2.5986, -2.8826, -3.3657, -4.0184, -4.6295, -4.6606, -4.7586, -4.7904, -4.9299, -5.0328, -5.2059, -5.2768, -5.5279, -6.131, -6.2908, -14.4533, -14.4533, -14.4533, -14.4533, -14.4533, -14.4533, -14.4533, -14.4533, -14.4533, -14.4533, -14.4533, -14.4533, -14.4533, -1.1684, -1.3252, -1.7908, -2.9728, -3.1446, -3.1449, -3.4215, -3.4553, -4.5609, -5.1005, -13.604, -13.604, -13.604, -13.604, -13.604, -13.604, -13.604, -13.604, -13.604, -13.604, -13.604, -13.604, -13.604, -13.604, -13.604, -13.604, -13.604, -13.604, -13.604, -13.604, -13.604, -13.604, -13.604, -13.604, -13.604, -13.604, -13.604, -13.604, -1.5249, -1.5363, -1.8722, -2.284, -2.3824, -2.5743, -2.993, -4.1449, -4.2811, -4.343, -5.5549, -5.7839, -13.4859, -13.4859, -13.4859, -13.4859, -13.4859, -13.4859, -13.4859, -13.4859, -13.4859, -13.4859, -13.4859, -13.4859, -13.4859, -13.4859, -13.4859, -13.4859, -13.4859, -13.4859, -13.4859, -13.4859, -13.4859, -13.4859, -13.4859, -13.4859, -1.287, -1.3233, -2.3236, -2.4631, -2.5912, -2.6239, -3.0376, -3.198, -4.543, -13.933, -13.933, -13.933, -13.933, -13.933, -13.933, -13.933, -13.933, -13.933, -13.933, -13.933, -13.933, -13.933, -13.933, -13.933, -13.933, -13.933, -13.933, -13.933, -13.933, -13.933, -13.933, -13.933, -13.933, -13.933, -13.933, -13.933, -13.933, -13.933, -1.1174, -1.5133, -1.7585, -1.9195, -2.5934, -3.7601, -5.5388, -6.1492, -13.8656, -13.8656, -13.8656, -13.8656, -13.8656, -13.8656, -13.8656, -13.8656, -13.8656, -13.8656, -13.8656, -13.8656, -13.8656, -13.8656, -13.8656, -13.8656, -13.8656, -13.8656, -13.8656, -13.8656, -13.8656, -13.8656, -13.8656, -13.8656, -13.8656, -13.8656, -13.8656, -13.8656, -13.8656, -13.8656, -1.8034, -1.8932, -1.9151, -2.1852, -2.4587, -3.1199, -3.3276, -3.3771, -3.7042, -3.7388, -3.8788, -4.0765, -4.0794, -4.1292, -4.3728, -4.3776, -4.7879, -4.9182, -5.1313, -5.1401, -6.0505, -6.1327, -6.2819, -13.3999, -13.3999, -13.3999, -13.3999, -13.3999, -13.3999, -13.3999, -13.3999, -13.3999, -13.3999, -13.3999, -13.3999, -0.3031, -2.1848, -2.9533, -3.0599, -4.039, -13.7784, -13.7784, -13.7784, -13.7784, -13.7784, -13.7784, -13.7784, -13.7784, -13.7784, -13.7784, -13.7784, -13.7784, -13.7784, -13.7784, -13.7784, -13.7784, -13.7784, -13.7784, -13.7784, -13.7784, -13.7784, -13.7784, -13.7784, -13.7784, -13.7784, -13.7784, -13.7784, -13.7784, -13.7784, -13.7784, -13.7784, -13.7784, -1.4364, -2.0074, -2.2342, -2.2468, -2.5967, -2.6553, -2.7137, -2.833, -3.1465, -4.0659, -4.198, -4.8323, -4.9636, -4.9942, -5.631, -13.4544, -13.4544, -13.4544, -13.4544, -13.4544, -13.4544, -13.4544, -13.4544, -13.4544, -13.4544, -13.4544, -13.4544, -13.4544, -13.4544, -13.4544, -13.4544, -13.4544, -13.4544, -13.4544, -13.4544, -13.4544, -13.4544, -1.0211, -1.6304, -1.985, -2.1955, -3.7235, -3.8835, -3.954, -4.1569, -4.3288, -4.3337, -4.3479, -4.3731, -13.0966, -13.0966, -13.0966, -13.0966, -13.0966, -13.0966, -13.0966, -13.0966, -13.0966, -13.0966, -13.0966, -13.0966, -13.0966, -13.0966, -13.0966, -13.0966, -13.0966, -13.0966, -13.0966, -13.0966, -13.0966, -13.0966, -13.0966, -13.0966, -0.4775, -1.4565, -2.3454, -13.3247, -13.3247, -13.3247, -13.3247, -13.3247, -13.3247, -13.3247, -13.3247, -13.3247, -13.3247, -13.3247, -13.3247, -13.3247, -13.3247, -13.3247, -13.3247, -13.3247, -13.3247, -13.3247, -13.3247, -13.3247, -13.3247, -13.3247, -13.3247, -13.3247, -13.3247, -13.3247, -13.3247, -13.3247, -13.3247, -13.3247, -13.3247, -13.3247, -13.3247, -13.3247, -13.3247, -13.3247, -13.3247, -13.3247, -13.3247, -13.3247, -13.3247, -13.3247, -1.0275, -1.6061, -2.2473, -2.3544, -2.5671, -3.2207, -3.2878, -4.115, -4.6389, -5.1722, -13.2438, -13.2438, -13.2438, -13.2438, -13.2438, -13.2438, -13.2438, -13.2438, -13.2438, -13.2438, -13.2438, -13.2438, -13.2438, -13.2438, -13.2438, -13.2438, -13.2438, -13.2438, -13.2438, -13.2438, -13.2438, -13.2438, -13.2438, -13.2438, -13.2438, -13.2438, -13.2438, -13.2438, -13.2438, -13.2438, -13.2438, -0.2632, -2.4407, -2.4459, -4.7621, -6.4878, -13.3913, -13.3913, -13.3913, -13.3913, -13.3913, -13.3913, -13.3913, -13.3913, -13.3913, -13.3913, -13.3913, -13.3913, -13.3913, -13.3913, -13.3913, -13.3913, -13.3913, -13.3913, -13.3913, -13.3913, -13.3913, -13.3913, -13.3913, -13.3913, -13.3913, -13.3913, -13.3913, -13.3913, -13.3913, -13.3913, -13.3913, -13.3913, -13.3913, -13.3913, -13.3913, -13.3913, -13.3913, -13.3913, -13.3913, -13.3913, -13.3913, -13.3913, -13.3913, -1.416, -1.6447, -1.9604, -2.3213, -2.6053, -2.8137, -3.1842, -3.5463, -4.101, -4.201, -4.5682, -5.0134, -12.9675, -12.9675, -12.9675, -12.9675, -12.9675, -12.9675, -12.9675, -12.9675, -12.9675, -12.9675, -12.9675, -12.9675, -12.9675, -12.9675, -12.9675, -12.9675, -12.9675, -12.9675, -12.9675, -12.9675, -12.9675, -12.9675, -12.9675, -12.9675, -12.9675, -12.9675, -12.9675, -12.9675, -12.9675, -0.9256, -1.7595, -1.9016, -1.9651, -3.3491, -3.4015, -5.4188, -13.0155, -13.0155, -13.0155, -13.0155, -13.0155, -13.0155, -13.0155, -13.0155, -13.0155, -13.0155, -13.0155, -13.0155, -13.0155, -13.0155, -13.0155, -13.0155, -13.0155, -13.0155, -13.0155, -13.0155, -13.0155, -13.0155, -13.0155, -13.0155, -13.0155, -13.0155, -13.0155, -13.0155, -13.0155, -13.0155, -13.0155, -13.0155, -13.0155, -13.0155, -13.0155, -13.0155, -13.0155, -13.0155, -13.0155, -13.0155, -0.298, -2.9654, -3.0401, -3.3152, -3.4107, -4.4955, -5.2052, -12.972, -12.972, -12.972, -12.972, -12.972, -12.972, -12.972, -12.972, -12.972, -12.972, -12.972, -12.972, -12.972, -12.972, -12.972, -12.972, -12.972, -12.972, -12.972, -12.972, -12.972, -12.972, -12.972, -12.972, -12.972, -12.972, -12.972, -12.972, -12.972, -12.972, -12.972, -12.972, -12.972, -12.972, -12.972, -12.972, -12.972, -12.972, -12.972, -12.972, -1.2465, -1.476, -1.9119, -2.3005, -2.747, -3.0162, -3.1296, -12.8827, -12.8827, -12.8827, -12.8827, -12.8827, -12.8827, -12.8827, -12.8827, -12.8827, -12.8827, -12.8827, -12.8827, -12.8827, -12.8827, -12.8827, -12.8827, -12.8827, -12.8827, -12.8827, -12.8827, -12.8827, -12.8827, -12.8827, -12.8827, -12.8827, -12.8827, -12.8827, -12.8827, -12.8827, -12.8827, -12.8827, -12.8827, -12.8827, -12.8827, -12.8827, -12.8827, -12.8827, -12.8827, -12.8827, -12.8827, -12.8827, -0.9281, -1.1441, -2.1927, -3.3728, -4.093, -4.2891, -12.5539, -12.5539, -12.5539, -12.5539, -12.5539, -12.5539, -12.5539, -12.5539, -12.5539, -12.5539, -12.5539, -12.5539, -12.5539, -12.5539, -12.5539, -12.5539, -12.5539, -12.5539, -12.5539, -12.5539, -12.5539, -12.5539, -12.5539, -12.5539, -12.5539, -12.5539, -12.5539, -12.5539, -12.5539, -12.5539, -12.5539, -12.5539, -12.5539, -12.5539, -12.5539, -12.5539, -12.5539, -12.5539, -12.5539, -12.5539, -12.5539, -12.5539, -1.4383, -1.5011, -2.261, -2.4029, -2.6375, -3.1507, -3.2454, -3.6486, -3.7695, -4.0347, -4.4844, -12.5193, -12.5193, -12.5193, -12.5193, -12.5193, -12.5193, -12.5193, -12.5193, -12.5193, -12.5193, -12.5193, -12.5193, -12.5193, -12.5193, -12.5193, -12.5193, -12.5193, -12.5193, -12.5193, -12.5193, -12.5193, -12.5193, -12.5193, -12.5193, -12.5193, -12.5193, -12.5193, -12.5193, -12.5193, -12.5193, -12.5193, -12.5193, -0.2481, -2.6196, -2.8639, -12.7551, -12.7551, -12.7551, -12.7551, -12.7551, -12.7551, -12.7551, -12.7551, -12.7551, -12.7551, -12.7551, -12.7551, -12.7551, -12.7551, -12.7551, -12.7551, -12.7551, -12.7551, -12.7551, -12.7551, -12.7551, -12.7551, -12.7551, -12.7551, -12.7551, -12.7551, -12.7551, -12.7551, -12.7551, -12.7551, -12.7551, -12.7551, -12.7551, -12.7551, -12.7551, -12.7551, -12.7551, -12.7551, -12.7551, -12.7551, -12.7551, -12.7551, -12.7551, -0.3265, -2.5066, -2.6347, -4.533, -4.8228, -4.8685, -12.66, -12.66, -12.66, -12.66, -12.66, -12.66, -12.66, -12.66, -12.66, -12.66, -12.66, -12.66, -12.66, -12.66, -12.66, -12.66, -12.66, -12.66, -12.66, -12.66, -12.66, -12.66, -12.66, -12.66, -12.66, -12.66, -12.66, -12.66, -12.66, -12.66, -12.66, -12.66, -12.66, -12.66, -12.66, -12.66, -12.66, -12.66, -12.66, -12.66, -12.66, -12.66, -1.0273, -2.3422, -10.9508, -10.9508, -10.9508, -10.9508, -10.9508, -10.9508, -10.9508, -10.9508, -10.9508, -10.9508, -10.9508, -10.9508, -10.9508, -10.9508, -10.9508, -10.9508, -10.9508, -10.9508, -10.9508, -10.9508, -10.9508, -10.9508, -10.9508, -10.9508, -10.9508, -10.9508, -10.9508, -10.9508, -10.9508, -10.9508, -10.9508, -10.9508, -10.9508, -10.9508, -10.9508, -10.9508, -10.9508, -10.9508, -10.9508, -10.9508, -10.9508, -10.9508, -10.9508, -10.9508, -10.9508, -10.9508, -10.9508, -1.6619, -1.6913, -10.814, -10.814, -10.814, -10.814, -10.814, -10.814, -10.814, -10.814, -10.814, -10.814, -10.814, -10.814, -10.814, -10.814, -10.814, -10.814, -10.814, -10.814, -10.814, -10.814, -10.814, -10.814, -10.814, -10.814, -10.814, -10.814, -10.814, -10.814, -10.814, -10.814, -10.814, -10.814, -10.814, -10.814, -10.814, -10.814, -10.814, -10.814, -10.814, -10.814, -10.814, -10.814, -10.814, -10.814, -10.814, -10.814, -10.814, -10.3456, -10.3456, -10.3456, -10.3456, -10.3456, -10.3456, -10.3456, -10.3456, -10.3456, -10.3456, -10.3456, -10.3456, -10.3456, -10.3456, -10.3456, -10.3456, -10.3456, -10.3456, -10.3456, -10.3456, -10.3456, -10.3456, -10.3456, -10.3456, -10.3456, -10.3456, -10.3456, -10.3456, -10.3456, -10.3456, -10.3456, -10.3456, -10.3456, -10.3456, -10.3456, -10.3456, -10.3456, -10.3456, -10.3456, -10.3456, -10.3456, -10.3456, -10.3456, -10.3456, -10.3456, -10.3456, -10.3456, -10.3456, -10.3456, -10.3456, -10.3456, -10.3456, -10.3456, -10.3456, -10.3456, -10.3456, -10.3456, -10.3456, -10.3456, -10.3456, -10.3456, -10.3456, -10.3456, -10.3456, -10.3456, -10.3456, -10.3456, -10.3456, -10.3456, -10.3456, -10.3456, -10.3456, -10.3456, -10.3456, -10.3456, -10.3456, -10.3456, -10.3456, -10.3456, -10.3456, -10.3456, -10.3456, -10.3456, -10.3456, -10.3456, -10.3456, -10.3456, -10.3456, -10.3456, -10.3456, -10.3456, -10.3456, -10.3456, -10.3456, -10.3456, -10.3456, -10.3456, -10.3456, -10.3456, -10.3456, -10.3456, -10.3456, -10.3456, -10.3456, -10.3456, -10.3456, -10.3456, -10.3456, -10.3456, -10.3456, -10.3456, -10.3456, -10.3456, -10.3456, -10.3456, -10.3456, -10.3456, -10.3456, -10.3456, -10.3456, -10.3456, -10.3456, -10.3456, -10.3456, -10.3456, -10.3456, -10.3456, -10.3456, -10.3456, -10.3456, -10.3456, -10.3456, -10.3456, -10.3456, -10.3456, -10.3456, -10.3456, -10.3456, -10.3456, -10.3456, -10.3456, -10.3456, -10.3456, -10.3456, -10.3456, -10.3456, -10.3456, -10.3456, -10.3456, -10.3456, -10.3456, -10.3456, -10.3456, -10.3456, -10.3456, -10.3456, -10.3456, -10.3456, -10.3456, -10.3456, -10.3456, -10.3456, -10.3456, -10.3456, -10.3456, -10.3456, -10.3456, -10.3456, -10.3456, -10.3456, -10.3456, -10.3456, -10.3456, -10.3456, -10.3456, -10.3456, -10.3456, -10.3456, -10.3456, -10.3456, -10.3456, -10.3456, -10.3456, -10.3456, -10.3456, -10.3456, -10.3456, -10.3456, -10.3456, -10.3456, -10.3456, -10.3456, -10.3456, -10.3456, -10.3456, -10.3456, -10.3456, -10.3456, -10.3456, -10.3456], \"loglift\": [30.0, 29.0, 28.0, 27.0, 26.0, 25.0, 24.0, 23.0, 22.0, 21.0, 20.0, 19.0, 18.0, 17.0, 16.0, 15.0, 14.0, 13.0, 12.0, 11.0, 10.0, 9.0, 8.0, 7.0, 6.0, 5.0, 4.0, 3.0, 2.0, 1.0, 2.41, 2.41, 2.4099, 2.4099, 2.4099, 2.4098, 2.4098, 2.4097, 2.4097, 2.4097, 2.4096, 2.4095, 2.4093, 2.4082, 2.4076, 2.4067, 2.4065, 2.4042, 2.4031, 2.3888, -0.9663, -0.9663, -0.9663, -0.9663, -0.9663, -0.9663, -0.9663, -0.9663, -0.9663, -0.9663, -0.9663, -0.9663, -0.9663, -0.9663, -0.9663, -0.9663, 2.4752, 2.4752, 2.4749, -0.6681, -0.6681, -0.6681, -0.6681, -0.6681, -0.6681, -0.6681, -0.6681, -0.6681, -0.6681, -0.6681, -0.6681, -0.6681, -0.6681, -0.6681, -0.6681, -0.6681, -0.6681, -0.6681, -0.6681, -0.6681, -0.6681, -0.6681, -0.6681, -0.6681, -0.6681, -0.6681, -0.6681, -9.8058, -10.1597, -8.576, 2.4937, 2.4936, 2.4936, 2.4936, 2.4935, 2.4932, 2.4926, 2.4922, 2.4917, 2.4912, 2.4911, 2.4809, 2.4775, -0.3015, -0.3015, -0.3015, -0.3015, -0.3015, -0.3015, -0.3015, -0.3015, -0.3015, -0.3015, -0.3015, -0.3015, -0.3015, -0.3015, -0.3015, -0.3015, -0.3015, -0.3015, -0.3015, -0.3015, -0.3015, -0.3015, -0.3015, -0.3015, -0.3015, -0.3015, 2.5744, 2.5744, 2.5744, 2.5744, 2.5742, 2.5736, 2.5728, 2.5722, 2.572, 2.5649, -0.3641, -0.3641, -0.3641, -0.3641, -0.3641, -0.3641, -0.3641, -0.3641, -0.3641, -0.3641, -0.3641, -0.3641, -0.3641, -0.3641, -0.3641, -0.3641, -0.3641, -0.3641, -0.3641, -0.3641, -0.3641, -0.3641, -0.3641, -0.3641, -0.3641, -0.3641, -0.3641, -0.3641, -0.3641, 2.7382, 2.7381, 2.738, 2.738, 2.7379, 2.7377, 2.7371, 2.7361, 2.736, 2.7358, 2.7357, 2.7354, 2.735, 2.7344, 2.7341, 2.733, 2.7286, 2.7269, -0.9776, -0.9776, -0.9776, -0.9776, -0.9776, -0.9776, -0.9776, -0.9776, -0.9776, -0.9776, -0.9776, -0.9776, -0.9776, 2.7715, 2.7714, 2.7714, 2.7711, 2.771, 2.771, 2.7709, 2.7709, 2.7695, 2.768, -0.1283, -0.1283, -0.1283, -0.1283, -0.1283, -0.1283, -0.1283, -0.1283, -0.1283, -0.1283, -0.1283, -0.1283, -0.1283, -0.1283, -0.1283, -0.1283, -0.1283, -0.1283, -0.1283, -0.1283, -0.1283, -0.1283, -0.1283, -0.1283, -0.1283, -0.1283, -0.1283, -0.1283, 2.9536, 2.9536, 2.9535, 2.9534, 2.9534, 2.9534, 2.9532, 2.9521, 2.9519, 2.9517, 2.9471, 2.9454, -0.0102, -0.0102, -0.0102, -0.0102, -0.0102, -0.0102, -0.0102, -0.0102, -0.0102, -0.0102, -0.0102, -0.0102, -0.0102, -0.0102, -0.0102, -0.0102, -0.0102, -0.0102, -0.0102, -0.0102, -0.0102, -0.0102, -0.0102, -0.0102, 2.9769, 2.9769, 2.9767, 2.9766, 2.9766, 2.9766, 2.9764, 2.9763, 2.9745, -0.4573, -0.4573, -0.4573, -0.4573, -0.4573, -0.4573, -0.4573, -0.4573, -0.4573, -0.4573, -0.4573, -0.4573, -0.4573, -0.4573, -0.4573, -0.4573, -0.4573, -0.4573, -0.4573, -0.4573, -0.4573, -0.4573, -9.595, -9.9489, -10.6989, -10.6508, -8.2052, -6.2678, -8.1892, 2.9843, 2.9842, 2.9842, 2.9842, 2.984, 2.9832, 2.9776, 2.9719, -0.3899, -0.3899, -0.3899, -0.3899, -0.3899, -0.3899, -0.3899, -0.3899, -0.3899, -0.3899, -0.3899, -0.3899, -0.3899, -0.3899, -0.3899, -0.3899, -0.3899, -0.3899, -0.3899, -0.3899, -0.3899, -0.3899, -0.3899, -0.3899, -0.3899, -0.3899, -0.3899, -0.3899, -0.3899, -0.3899, 3.1181, 3.1181, 3.1181, 3.118, 3.118, 3.1176, 3.1175, 3.1174, 3.1171, 3.117, 3.1168, 3.1165, 3.1165, 3.1164, 3.1159, 3.1159, 3.1147, 3.1142, 3.1132, 3.1132, 3.1056, 3.1045, 3.1023, 0.0758, 0.0758, 0.0758, 0.0758, 0.0758, 0.0758, 0.0758, 0.0758, 0.0758, 0.0758, 0.0758, 0.0758, 3.1714, 3.1711, 3.1708, 3.1707, 3.1696, -0.3027, -0.3027, -0.3027, -0.3027, -0.3027, -0.3027, -0.3027, -0.3027, -0.3027, -0.3027, -0.3027, -0.3027, -0.3027, -0.3027, -0.3027, -0.3027, -0.3027, -0.3027, -0.3027, -0.3027, -0.3027, -0.3027, -0.3027, -0.3027, -0.3027, -0.3027, -0.3027, -0.3027, -0.3027, -0.3027, -0.3027, -0.3027, 3.2331, 3.2329, 3.2329, 3.2329, 3.2327, 3.2327, 3.2327, 3.2326, 3.2324, 3.2312, 3.2309, 3.2289, 3.2283, 3.2282, 3.2237, 0.0213, 0.0213, 0.0213, 0.0213, 0.0213, 0.0213, 0.0213, 0.0213, 0.0213, 0.0213, 0.0213, 0.0213, 0.0213, 0.0213, 0.0213, 0.0213, 0.0213, 0.0213, 0.0213, 0.0213, -9.1163, -9.4703, 3.3607, 3.3606, 3.3605, 3.3604, 3.3592, 3.3589, 3.3588, 3.3583, 3.3579, 3.3579, 3.3578, 3.3577, 0.3791, 0.3791, 0.3791, 0.3791, 0.3791, 0.3791, 0.3791, 0.3791, 0.3791, 0.3791, 0.3791, 0.3791, 0.3791, 0.3791, 0.3791, 0.3791, 0.3791, 0.3791, 0.3791, 0.3791, 0.3791, 0.3791, 0.3791, 0.3791, 3.5893, 3.5891, 3.5888, 0.151, 0.151, 0.151, 0.151, 0.151, 0.151, 0.151, 0.151, 0.151, 0.151, 0.151, 0.151, 0.151, 0.151, 0.151, 0.151, 0.151, 0.151, 0.151, 0.151, 0.151, 0.151, 0.151, 0.151, 0.151, 0.151, 0.151, 0.151, 0.151, 0.151, 0.151, 0.151, 0.151, -8.9867, -9.3406, -10.0906, -7.757, -10.0425, -7.5969, -5.6595, -7.5809, -8.5727, -7.739, 3.6023, 3.6022, 3.602, 3.6019, 3.6018, 3.6012, 3.6011, 3.5994, 3.5973, 3.5937, 0.2319, 0.2319, 0.2319, 0.2319, 0.2319, 0.2319, 0.2319, 0.2319, 0.2319, 0.2319, 0.2319, 0.2319, 0.2319, 0.2319, 0.2319, 0.2319, 0.2319, 0.2319, 0.2319, 0.2319, 0.2319, -8.9058, -9.2597, -10.0097, -7.6761, -9.9616, -7.516, -5.5786, -7.5, -8.4918, -7.6581, 3.7138, 3.7133, 3.7133, 3.7074, 3.6777, 0.0844, 0.0844, 0.0844, 0.0844, 0.0844, 0.0844, 0.0844, 0.0844, 0.0844, 0.0844, 0.0844, 0.0844, 0.0844, 0.0844, 0.0844, 0.0844, 0.0844, 0.0844, 0.0844, 0.0844, 0.0844, 0.0844, 0.0844, 0.0844, 0.0844, 0.0844, -9.0533, -9.4072, -10.1572, -7.8235, -10.109, -7.6635, -5.726, -7.6474, -8.6392, -7.8056, -6.5355, -8.156, -9.522, -8.5062, -6.3161, -8.8291, -9.4514, 3.7172, 3.7171, 3.717, 3.7169, 3.7167, 3.7165, 3.7161, 3.7155, 3.7141, 3.7137, 3.7121, 3.7091, 0.5082, 0.5082, 0.5082, 0.5082, 0.5082, 0.5082, 0.5082, 0.5082, 0.5082, 0.5082, 0.5082, 0.5082, 0.5082, 0.5082, 0.5082, 0.5082, 0.5082, 0.5082, 0.5082, -8.6295, -8.9834, -9.7334, -7.3998, -9.6853, -7.2397, -5.3023, -7.2237, -8.2155, -7.3818, 3.8264, 3.8262, 3.8262, 3.8261, 3.8248, 3.8247, 3.8126, 0.4602, 0.4602, 0.4602, 0.4602, 0.4602, 0.4602, 0.4602, 0.4602, 0.4602, 0.4602, 0.4602, 0.4602, 0.4602, 0.4602, 0.4602, 0.4602, 0.4602, 0.4602, 0.4602, 0.4602, 0.4602, 0.4602, 0.4602, 0.4602, 0.4602, -8.6775, -9.0314, -9.7814, -7.4478, -9.7333, -5.3503, -7.2717, -6.1597, -7.7802, -9.1463, -8.1304, -5.9403, -8.4534, -9.0757, -3.8407, 3.8608, 3.8597, 3.8596, 3.8592, 3.859, 3.8552, 3.8493, 0.5037, 0.5037, 0.5037, 0.5037, 0.5037, 0.5037, 0.5037, 0.5037, 0.5037, 0.5037, 0.5037, 0.5037, 0.5037, 0.5037, 0.5037, 0.5037, 0.5037, 0.5037, 0.5037, 0.5037, 0.5037, 0.5037, 0.5037, 0.5037, 0.5037, 0.5037, -8.634, -8.9879, -9.7379, -7.4042, -9.6897, -7.2442, -5.3067, -7.2281, -8.2199, -7.3863, -6.1162, -7.7367, -9.1027, -8.0868, 3.9126, 3.9125, 3.9123, 3.9121, 3.9117, 3.9114, 3.9113, 0.5929, 0.5929, 0.5929, 0.5929, 0.5929, 0.5929, 0.5929, 0.5929, 0.5929, 0.5929, 0.5929, 0.5929, 0.5929, 0.5929, 0.5929, 0.5929, 0.5929, 0.5929, 0.5929, 0.5929, 0.5929, 0.5929, 0.5929, 0.5929, 0.5929, -8.5447, -8.8987, -9.6486, -7.315, -9.6005, -7.1549, -5.2175, -7.1389, -8.1307, -7.297, -6.0269, -7.6475, -9.0135, -7.9976, -5.8075, -8.3206, 4.1165, 4.1165, 4.116, 4.1143, 4.1118, 4.1107, 0.9218, 0.9218, 0.9218, 0.9218, 0.9218, 0.9218, 0.9218, 0.9218, 0.9218, 0.9218, 0.9218, 0.9218, 0.9218, 0.9218, 0.9218, 0.9218, 0.9218, 0.9218, 0.9218, 0.9218, 0.9218, 0.9218, 0.9218, 0.9218, 0.9218, -8.2159, -8.5698, -9.3198, -6.9861, -9.2716, -6.8261, -4.8886, -6.81, -7.8018, -6.9682, -5.6981, -7.3186, -8.6846, -7.6688, -5.4787, -7.9917, -8.614, 4.151, 4.151, 4.1506, 4.1505, 4.1502, 4.1494, 4.1492, 4.1481, 4.1477, 4.1466, 4.1438, 0.9564, 0.9564, 0.9564, 0.9564, 0.9564, 0.9564, 0.9564, 0.9564, 0.9564, 0.9564, 0.9564, 0.9564, 0.9564, 0.9564, 0.9564, 0.9564, 0.9564, 0.9564, 0.9564, 0.9564, -8.1813, -8.5352, -9.2852, -6.9515, -9.2371, -6.7915, -4.8541, -6.7755, -7.7673, -6.9336, -5.6635, -7.284, 4.3787, 4.3773, 4.3769, 0.7206, 0.7206, 0.7206, 0.7206, 0.7206, 0.7206, 0.7206, 0.7206, 0.7206, 0.7206, 0.7206, 0.7206, 0.7206, 0.7206, 0.7206, 0.7206, 0.7206, 0.7206, 0.7206, 0.7206, 0.7206, 0.7206, 0.7206, 0.7206, 0.7206, 0.7206, 0.7206, 0.7206, 0.7206, -8.4171, -8.771, -9.521, -7.1873, -9.4728, -7.0273, -5.0898, -7.0112, -8.003, -7.1694, -5.8993, -7.5198, -8.8858, -7.8699, 4.57, 4.5686, 4.5684, 4.558, 4.5539, 4.5531, 0.8157, 0.8157, 0.8157, 0.8157, 0.8157, 0.8157, 0.8157, 0.8157, 0.8157, 0.8157, 0.8157, 0.8157, 0.8157, 0.8157, 0.8157, 0.8157, 0.8157, 0.8157, 0.8157, 0.8157, 0.8157, 0.8157, 0.8157, 0.8157, 0.8157, 0.8157, -8.322, -8.6759, -9.4259, -7.0922, -9.3778, -6.9322, -4.9948, -6.9162, -7.908, -7.0743, -5.8042, -7.4247, -8.7908, -7.7749, -8.0978, -8.7202, 6.0073, 6.0031, 2.5249, 2.5249, 2.5249, 2.5249, 2.5249, 2.5249, 2.5249, 2.5249, 2.5249, 2.5249, 2.5249, 2.5249, 2.5249, 2.5249, 2.5249, 2.5249, 2.5249, 2.5249, 2.5249, 2.5249, 2.5249, 2.5249, 2.5249, 2.5249, 2.5249, 2.5249, 2.5249, 2.5249, 2.5249, -6.6128, -6.9667, -7.7167, -5.383, -7.6686, -5.223, -3.2856, -5.207, -6.1988, -5.3651, -4.095, -5.7155, -7.0816, -6.0657, -3.8756, -6.3886, -7.011, -1.7759, 6.648, 6.6479, 2.6616, 2.6616, 2.6616, 2.6616, 2.6616, 2.6616, 2.6616, 2.6616, 2.6616, 2.6616, 2.6616, 2.6616, 2.6616, 2.6616, 2.6616, 2.6616, 2.6616, 2.6616, 2.6616, 2.6616, 2.6616, 2.6616, 2.6616, 2.6616, 2.6616, 2.6616, 2.6616, 2.6616, 2.6616, -6.476, -6.83, -7.5799, -5.2463, -7.5318, -5.0862, -3.1488, -5.0702, -6.062, -5.2283, -3.9582, -5.5788, -6.9448, -5.9289, -3.7388, -6.2519, -6.8742, -1.6392, 3.1301, 3.1301, 3.1301, 3.1301, 3.1301, 3.1301, 3.1301, 3.1301, 3.1301, 3.1301, 3.1301, 3.1301, 3.1301, 3.1301, 3.1301, 3.1301, 3.1301, 3.1301, 3.1301, 3.1301, 3.1301, 3.1301, 3.1301, 3.1301, 3.1301, 3.1301, 3.1301, 3.1301, 3.1301, 3.1301, 3.1301, -6.0076, -6.3615, -7.1115, -4.7778, -7.0634, -4.6178, -2.6803, -4.6017, -5.5936, -4.7599, -3.4898, -5.1103, -6.4764, -5.4605, -3.2704, -5.7834, -6.4058, -1.1707, -2.5183, 3.1301, 3.1301, 3.1301, 3.1301, 3.1301, 3.1301, 3.1301, 3.1301, 3.1301, 3.1301, 3.1301, 3.1301, 3.1301, 3.1301, 3.1301, 3.1301, 3.1301, 3.1301, 3.1301, 3.1301, 3.1301, 3.1301, 3.1301, 3.1301, 3.1301, 3.1301, 3.1301, 3.1301, 3.1301, 3.1301, 3.1301, -6.0076, -6.3615, -7.1115, -4.7778, -7.0634, -4.6178, -2.6803, -4.6017, -5.5936, -4.7599, -3.4898, -5.1103, -6.4764, -5.4605, -3.2704, -5.7834, -6.4058, -1.1707, -2.5183, 3.1301, 3.1301, 3.1301, 3.1301, 3.1301, 3.1301, 3.1301, 3.1301, 3.1301, 3.1301, 3.1301, 3.1301, 3.1301, 3.1301, 3.1301, 3.1301, 3.1301, 3.1301, 3.1301, 3.1301, 3.1301, 3.1301, 3.1301, 3.1301, 3.1301, 3.1301, 3.1301, 3.1301, 3.1301, 3.1301, 3.1301, -6.0076, -6.3615, -7.1115, -4.7778, -7.0634, -4.6178, -2.6803, -4.6017, -5.5936, -4.7599, -3.4898, -5.1103, -6.4764, -5.4605, -3.2704, -5.7834, -6.4058, -1.1707, -2.5183, 3.1301, 3.1301, 3.1301, 3.1301, 3.1301, 3.1301, 3.1301, 3.1301, 3.1301, 3.1301, 3.1301, 3.1301, 3.1301, 3.1301, 3.1301, 3.1301, 3.1301, 3.1301, 3.1301, 3.1301, 3.1301, 3.1301, 3.1301, 3.1301, 3.1301, 3.1301, 3.1301, 3.1301, 3.1301, 3.1301, 3.1301, -6.0076, -6.3615, -7.1115, -4.7778, -7.0634, -4.6178, -2.6803, -4.6017, -5.5936, -4.7599, -3.4898, -5.1103, -6.4764, -5.4605, -3.2704, -5.7834, -6.4058, -1.1707, -2.5183]}, \"token.table\": {\"Topic\": [19, 1, 20, 13, 11, 6, 1, 3, 12, 20, 10, 23, 6, 1, 11, 16, 12, 14, 6, 24, 8, 1, 4, 13, 24, 10, 3, 10, 17, 12, 10, 26, 12, 19, 20, 17, 22, 26, 3, 8, 17, 9, 17, 17, 7, 12, 1, 1, 5, 9, 4, 4, 9, 19, 15, 10, 3, 20, 17, 19, 8, 24, 14, 6, 7, 15, 7, 10, 21, 22, 5, 10, 1, 10, 9, 15, 19, 1, 4, 4, 13, 4, 10, 10, 12, 17, 20, 5, 24, 18, 16, 1, 10, 2, 20, 10, 16, 17, 8, 22, 5, 12, 1, 22, 4, 13, 8, 19, 3, 13, 1, 1, 9, 7, 5, 12, 12, 7, 2, 5, 5, 7, 8, 21, 3, 7, 15, 18, 1, 4, 7, 15, 15, 21, 8, 1, 14, 4, 18, 10, 3, 17, 22, 11, 17, 22, 12, 10, 22, 10, 17, 10, 1, 1, 22, 5, 5, 24, 1, 21, 22, 10, 5, 15, 16, 3, 10, 10, 12, 13, 5, 22, 4, 10, 6, 12, 23, 7, 15, 21, 19, 22, 12, 15, 8, 13, 12, 9, 20, 1, 7, 10, 8, 23, 6, 13, 17, 5, 11, 11, 5, 13, 25, 9, 18, 3, 3, 12, 15, 5, 3, 1, 18, 5, 7, 2, 18, 18, 5, 9, 13, 25, 3, 13, 3, 24, 5, 6, 10, 21, 10, 7, 6, 16, 1, 6, 6, 5, 13], \"Freq\": [0.9956763265031436, 0.9995228126472424, 0.9997475761427266, 0.9997622900221077, 0.9999614499151868, 0.9994992424893835, 0.9999517591443086, 0.9980391432682485, 0.9995071483875584, 0.9994654276901624, 0.9961587117856116, 0.999882425074209, 0.9964067863085795, 0.99966230907508, 0.9979929069047173, 0.9994171152075652, 0.9976561177267048, 0.9995987720347732, 0.9999364406216389, 0.9979437733172665, 0.9996889216191013, 0.9991953053599681, 0.9999117608832603, 0.9996534399780865, 0.9998427376549004, 0.9985109273634416, 0.9803185697918158, 0.9980613970391595, 0.9976642993880321, 0.999692307356621, 0.9992748784170402, 0.9943396628061432, 0.9960273085991622, 0.9889613326384951, 0.9989571300650839, 0.9917227090501679, 0.9995455664878149, 0.995511052550525, 0.998172765004177, 0.9994435344227142, 0.9997548346069716, 0.9926938435681533, 0.9971483433027454, 0.9998235344873644, 0.9994837822164345, 0.9939766251071501, 0.995796258144945, 0.9997751882570155, 0.997195641480616, 0.9890467843491019, 0.9980441840394867, 0.9975762364073141, 0.9988190420495847, 0.9999044369851279, 0.9924236393393345, 0.9956705548738786, 0.9988735813505478, 0.9982970685450595, 0.9964073663960664, 0.998003262627407, 0.9972735811086642, 0.9897077257089765, 0.9998327870795116, 0.9994527021209819, 0.9902365104640026, 0.9995176152284051, 0.9998946407988407, 0.9979705491571543, 0.9939901815390586, 0.999128046359054, 0.9996933633986245, 0.9997702174222257, 0.9968020036184476, 0.9979091072513416, 0.9999264983557528, 0.9986933949009221, 0.9978391261885712, 0.9998458784068377, 0.9999399554827999, 0.9998888809507491, 0.9983467056330932, 0.9996671668176258, 0.9993252445450782, 0.9968454258211193, 0.9998728248354037, 0.9992980327569252, 0.9982897617313857, 0.9996045440243587, 0.998052356415739, 0.9984520277439761, 0.9999417507608036, 0.9995822453341833, 0.9940626172549937, 0.999967360560214, 0.9993375691187244, 0.999706299665745, 0.9661931081237088, 0.9995101110782836, 0.9995765950537505, 0.9986319513744255, 0.9978021335048687, 0.9981717165322243, 0.9994342569777876, 0.9950542319772017, 0.9989673979186864, 0.998327325736329, 0.9998979561615835, 0.9987052396726648, 0.9850082919911612, 0.999687169111084, 0.976758180644605, 0.99985616103309, 0.9998480508238565, 0.9997562247369507, 0.9867139453250355, 0.9996624419800766, 0.9994813651537642, 0.9998619008244887, 0.9999603252801695, 0.998884537545063, 0.9960973598090493, 0.9997474989996471, 0.9998926453504586, 0.9977181100178054, 0.9974352517585772, 0.9918505005379186, 0.9997000488575774, 0.9871302943128527, 0.9995713074663798, 0.9883683214549328, 0.9983144601761482, 0.9951314193269165, 0.9988688351506021, 0.9947601246362568, 0.9996817696338199, 0.9997975855534617, 0.9999319133727581, 0.9999305642358642, 0.9996328256786475, 0.9980899359354467, 0.9999078931712919, 0.9989421715787339, 0.9959497355450389, 0.9995317764967976, 0.9946573234874022, 0.9931798521805643, 0.9898403683385634, 0.9991530152004704, 0.9991847734212923, 0.9811076219706997, 0.9994098280339021, 0.9997642917204349, 0.9999163578367182, 0.995392855270071, 0.9976335250395446, 0.9999705581092575, 0.9976547827169341, 0.9851812346896247, 0.9978523374781286, 0.9990786646942564, 0.9975015587331141, 0.9998296716434577, 0.9997363959177182, 0.9991915671597583, 0.9923836696353407, 0.9995247867546289, 0.9858681429006091, 0.9858183043464511, 0.995933763973716, 0.9967327211146546, 0.9976021126355087, 0.9963607776568483, 0.9977865770122848, 0.9977695577574052, 0.9995580595073048, 0.9993991872324776, 0.9976609405042173, 0.9980076587806089, 0.996379767636428, 0.999837330408324, 0.9989290507028766, 0.9997062159486214, 0.9992817777653956, 0.9998658528651738, 0.9996726944626314, 0.9999053074622507, 0.9992777006430682, 0.9995767638087149, 0.9997226532145006, 0.9980173173651566, 0.9982555293170151, 0.9986854186388999, 0.9995588038927674, 0.9982682375036381, 0.9993035435838291, 0.9975082891505079, 0.99887383207433, 0.9899592128092428, 0.999747502627916, 0.9992223325470936, 0.9993525592574867, 0.99763347568909, 0.9932066365414096, 0.9998142032533164, 0.9998062079935696, 0.9997738574258638, 0.9999453651051714, 0.9996936347396944, 0.9994551336296608, 0.9965155436315551, 0.9999201197515135, 0.9995627538770534, 0.999648407310596, 0.9967523169166759, 0.9998596465346795, 0.9997315408554182, 0.9980714987460828, 0.9996270753207545, 0.9938137881666051, 0.9998229307919212, 0.9970934492699705, 0.998294074190867, 0.9984247560480011, 0.9975013891654291, 0.9999215574838186, 0.9817693566734554, 0.9973764464229261, 0.9998950666073048, 0.9984378218538595, 0.9997910516298617, 0.9996636055810605, 0.9997224929347961, 0.9994577668744326, 0.9992934957119505, 0.9919752368146315, 0.9999204578055645, 0.9984233488374787, 0.9997710578826953, 0.9981882558726036], \"Term\": [\"affect\", \"allow\", \"already\", \"also\", \"amp\", \"anymore\", \"arrest\", \"atrocity\", \"back\", \"ban\", \"bank\", \"be\", \"boycott\", \"break\", \"buy\", \"call\", \"camp\", \"care\", \"ccp\", \"change\", \"charge\", \"child\", \"china\", \"chinese\", \"citizen\", \"civil\", \"clean\", \"clear\", \"close\", \"come\", \"communist\", \"company\", \"concentration\", \"concrete\", \"condemn\", \"connect\", \"control\", \"corrupt\", \"council\", \"crazy\", \"crime\", \"crush\", \"date\", \"day\", \"death\", \"decision\", \"defend\", \"democracy\", \"democratic\", \"desire\", \"detain\", \"development\", \"die\", \"do\", \"earn\", \"easy\", \"election\", \"enough\", \"event\", \"example\", \"expect\", \"extend\", \"face\", \"fact\", \"failure\", \"family\", \"fight\", \"finally\", \"flee\", \"follow\", \"force\", \"forget\", \"form\", \"forward\", \"freedom\", \"future\", \"generation\", \"get\", \"give\", \"go\", \"gon\", \"good\", \"great\", \"hang\", \"happen\", \"hate\", \"have\", \"help\", \"here\", \"hit\", \"hk\", \"hold\", \"homeland\", \"hong\", \"hongkong\", \"hongkonger\", \"honor\", \"hope\", \"how\", \"ignore\", \"impose\", \"imprisonment\", \"include\", \"increase\", \"insane\", \"investigate\", \"is_terrorist\", \"issue\", \"japan\", \"joint\", \"joshua\", \"journalist\", \"justice\", \"keep\", \"kick\", \"kid\", \"kill\", \"know\", \"kong\", \"konger\", \"large\", \"last\", \"law\", \"leader\", \"legislative\", \"liberate\", \"life\", \"link\", \"look\", \"luck\", \"mark\", \"meet\", \"money\", \"nathan\", \"national\", \"need\", \"negative\", \"never\", \"new\", \"note\", \"now\", \"number\", \"offer\", \"official\", \"online\", \"oppressive\", \"overseas\", \"party\", \"pass\", \"path\", \"pay\", \"peaceful\", \"people\", \"petition\", \"plan\", \"police\", \"post\", \"price\", \"probably\", \"prodemocracy\", \"promise\", \"protest\", \"protester\", \"protestor\", \"proud\", \"punish\", \"raised_fist\", \"raising_hand\", \"rather\", \"react\", \"read\", \"ready\", \"recent\", \"remind\", \"report\", \"respect\", \"responsibility\", \"revolution\", \"risk\", \"rule\", \"sad\", \"safe\", \"save\", \"say\", \"security\", \"see\", \"send\", \"shame\", \"show\", \"sign\", \"silence\", \"slogan\", \"so\", \"social\", \"soon\", \"special\", \"st\", \"stage\", \"stand\", \"start\", \"state\", \"statement\", \"stick\", \"still\", \"stop\", \"student\", \"support\", \"take\", \"tell\", \"terrorism\", \"thank\", \"thing\", \"think\", \"thousand\", \"time\", \"today\", \"tonight\", \"totally\", \"trump\", \"truth\", \"tweet\", \"uk\", \"university\", \"urge\", \"use\", \"visa\", \"wait\", \"want\", \"war\", \"watch\", \"way\", \"well\", \"whole\", \"with_hk\", \"wong\", \"world\", \"worldwide\", \"year\", \"yesterday\"]}, \"R\": 30, \"lambda.step\": 0.01, \"plot.opts\": {\"xlab\": \"PC1\", \"ylab\": \"PC2\"}, \"topic.order\": [23, 27, 12, 1, 9, 20, 5, 4, 18, 10, 15, 17, 28, 16, 22, 19, 6, 21, 14, 30, 25, 11, 2, 26, 7, 29, 13, 8, 24, 3]};\n",
       "\n",
       "function LDAvis_load_lib(url, callback){\n",
       "  var s = document.createElement('script');\n",
       "  s.src = url;\n",
       "  s.async = true;\n",
       "  s.onreadystatechange = s.onload = callback;\n",
       "  s.onerror = function(){console.warn(\"failed to load library \" + url);};\n",
       "  document.getElementsByTagName(\"head\")[0].appendChild(s);\n",
       "}\n",
       "\n",
       "if(typeof(LDAvis) !== \"undefined\"){\n",
       "   // already loaded: just create the visualization\n",
       "   !function(LDAvis){\n",
       "       new LDAvis(\"#\" + \"ldavis_el1857615708451552161863492839\", ldavis_el1857615708451552161863492839_data);\n",
       "   }(LDAvis);\n",
       "}else if(typeof define === \"function\" && define.amd){\n",
       "   // require.js is available: use it to load d3/LDAvis\n",
       "   require.config({paths: {d3: \"https://d3js.org/d3.v5\"}});\n",
       "   require([\"d3\"], function(d3){\n",
       "      window.d3 = d3;\n",
       "      LDAvis_load_lib(\"https://cdn.jsdelivr.net/gh/bmabey/pyLDAvis@3.3.1/pyLDAvis/js/ldavis.v3.0.0.js\", function(){\n",
       "        new LDAvis(\"#\" + \"ldavis_el1857615708451552161863492839\", ldavis_el1857615708451552161863492839_data);\n",
       "      });\n",
       "    });\n",
       "}else{\n",
       "    // require.js not available: dynamically load d3 & LDAvis\n",
       "    LDAvis_load_lib(\"https://d3js.org/d3.v5.js\", function(){\n",
       "         LDAvis_load_lib(\"https://cdn.jsdelivr.net/gh/bmabey/pyLDAvis@3.3.1/pyLDAvis/js/ldavis.v3.0.0.js\", function(){\n",
       "                 new LDAvis(\"#\" + \"ldavis_el1857615708451552161863492839\", ldavis_el1857615708451552161863492839_data);\n",
       "            })\n",
       "         });\n",
       "}\n",
       "</script>"
      ],
      "text/plain": [
       "PreparedData(topic_coordinates=              x         y  topics  cluster      Freq\n",
       "topic                                               \n",
       "22    -0.528318  0.099111       1        1  8.980569\n",
       "26     0.175912 -0.499128       2        1  8.414656\n",
       "11     0.444155  0.221164       3        1  8.260152\n",
       "0      0.363529  0.349050       4        1  7.619266\n",
       "8      0.501289 -0.172519       5        1  6.468152\n",
       "19    -0.016346 -0.483281       6        1  6.256667\n",
       "4     -0.359074  0.377932       7        1  5.214642\n",
       "3      0.502521  0.057268       8        1  5.094746\n",
       "17    -0.436208 -0.290033       9        1  5.057150\n",
       "9     -0.461398 -0.069975      10        1  4.423182\n",
       "14    -0.290142  0.352982      11        1  4.194474\n",
       "16    -0.162341 -0.454565      12        1  3.943099\n",
       "27    -0.252928 -0.351453      13        1  3.470793\n",
       "15     0.376842 -0.020629      14        1  2.761639\n",
       "21     0.070830  0.498319      15        1  2.725623\n",
       "18     0.368042 -0.317342      16        1  2.438199\n",
       "5      0.259000 -0.241562      17        1  2.429650\n",
       "20    -0.370359  0.141846      18        1  2.178379\n",
       "13    -0.326450 -0.180012      19        1  2.104834\n",
       "29     0.127035  0.381753      20        1  1.998451\n",
       "24     0.207838  0.264694      21        1  1.629753\n",
       "10    -0.103506  0.275672      22        1  1.574238\n",
       "1     -0.093261  0.430136      23        1  1.254001\n",
       "25     0.108454 -0.322598      24        1  1.035579\n",
       "6      0.052404  0.028838      25        1  0.245686\n",
       "28    -0.051864 -0.065145      26        1  0.128932\n",
       "12    -0.026390 -0.002652      27        1  0.024372\n",
       "7     -0.026426 -0.002622      28        1  0.024372\n",
       "23    -0.026417 -0.002628      29        1  0.024372\n",
       "2     -0.026422 -0.002624      30        1  0.024372, topic_info=       Term          Freq         Total Category  logprob  loglift\n",
       "81      amp  45834.000000  45834.000000  Default  30.0000  30.0000\n",
       "5      hong  58287.000000  58287.000000  Default  29.0000  29.0000\n",
       "300  police  52150.000000  52150.000000  Default  28.0000  28.0000\n",
       "7      kong  55548.000000  55548.000000  Default  27.0000  27.0000\n",
       "50       hk  27729.000000  27729.000000  Default  26.0000  26.0000\n",
       "..      ...           ...           ...      ...      ...      ...\n",
       "20     here      0.011587   1251.437354  Topic30 -10.3456  -3.2704\n",
       "21     want      0.011587  15445.620761  Topic30 -10.3456  -5.7834\n",
       "22    world      0.011587  28779.289168  Topic30 -10.3456  -6.4058\n",
       "24    japan      0.011587    153.298202  Topic30 -10.3456  -1.1707\n",
       "29     form      0.011587    589.886455  Topic30 -10.3456  -2.5183\n",
       "\n",
       "[1305 rows x 6 columns], token_table=      Topic      Freq       Term\n",
       "term                            \n",
       "278      19  0.995676     affect\n",
       "147       1  0.999523      allow\n",
       "371      20  0.999748    already\n",
       "365      13  0.999762       also\n",
       "81       11  0.999961        amp\n",
       "...     ...       ...        ...\n",
       "33        1  0.991975       wong\n",
       "22        6  0.999920      world\n",
       "177       6  0.998423  worldwide\n",
       "137       5  0.999771       year\n",
       "102      13  0.998188  yesterday\n",
       "\n",
       "[239 rows x 3 columns], R=30, lambda_step=0.01, plot_opts={'xlab': 'PC1', 'ylab': 'PC2'}, topic_order=[23, 27, 12, 1, 9, 20, 5, 4, 18, 10, 15, 17, 28, 16, 22, 19, 6, 21, 14, 30, 25, 11, 2, 26, 7, 29, 13, 8, 24, 3])"
      ]
     },
     "execution_count": 23,
     "metadata": {},
     "output_type": "execute_result"
    }
   ],
   "source": [
    "pyLDAvis.enable_notebook()\n",
    "vis = pyLDAvis.gensim_models.prepare(lda_model, corpus, id2word, mds=\"mmds\", R=30) # R=30 is the number of words on the right\n",
    "vis\n"
   ]
  },
  {
   "cell_type": "markdown",
   "metadata": {},
   "source": [
    "To reiterate, **for those looking at this on GitHub**, my apologies but **pyLDAvis doesn't show up there. You will see the output in the: \n",
    "   * Report &\n",
    "   * Presentations\n",
    "\n",
    "For our first round with 30 topics, we will outline what is observed:\n",
    "   * The area of each circle represents the importance of the topic relative to the corpus\n",
    "   * We have 30 Topics thus 30 circles\n",
    "   * The distance between the center of the circles indicates the similarity between the topics\n",
    "     * You can see that Topics 3 & 4 overlap as well as 7 & 11 indicating these topics are more similar to each other respectively\n",
    "   * Topics 25+ are in the center & small in size suggesting they don't have much importance.\n",
    "   * On the right side, the Top 30 identified words for each Topic are outlined\n"
   ]
  },
  {
   "cell_type": "markdown",
   "metadata": {},
   "source": [
    "<a id='eda_bgrams'></a>**Bigrams** | There are a lot of words that aren't really words with a lot of meaning or helping us much. Therefore, we should create a Removal List to make adjustments to the code & Pre-Processing to help these Topics to harmonize better. We will hold on that until we see how **Bigrams** & **Trigrams** (a collection of words) present clusters which may be an even better approach."
   ]
  },
  {
   "cell_type": "code",
   "execution_count": 24,
   "metadata": {},
   "outputs": [],
   "source": [
    "bigrams_phrases = gensim.models.Phrases(data_words,min_count=5, threshold=50)\n",
    "trigrams_phrases = gensim.models.Phrases(bigrams_phrases[data_words], threshold=50)\n",
    "\n",
    "bigram = gensim.models.phrases.Phraser(bigrams_phrases)\n",
    "trigram = gensim.models.phrases.Phraser(trigrams_phrases)\n",
    "\n",
    "def make_bigrams(texts):\n",
    "    return([bigram[doc] for doc in texts])\n",
    "\n",
    "def make_trigrams(texts):\n",
    "    return([trigram[bigram[doc]] for doc in texts])\n",
    "\n",
    "data_bigrams = make_bigrams(data_words)\n",
    "data_bigrams_trigrams = make_trigrams(data_bigrams)"
   ]
  },
  {
   "cell_type": "code",
   "execution_count": 25,
   "metadata": {},
   "outputs": [
    {
     "name": "stdout",
     "output_type": "stream",
     "text": [
      "['jpn', 'thank', 'japan', 'brother_sister']\n"
     ]
    }
   ],
   "source": [
    "print(data_bigrams_trigrams[8])"
   ]
  },
  {
   "cell_type": "code",
   "execution_count": 26,
   "metadata": {},
   "outputs": [
    {
     "data": {
      "text/plain": [
       "'_JPN Thank japan brother sister!! #freehongkong #fightforhongkong'"
      ]
     },
     "execution_count": 26,
     "metadata": {},
     "output_type": "execute_result"
    }
   ],
   "source": [
    "df['tweet'][8]"
   ]
  },
  {
   "cell_type": "markdown",
   "metadata": {},
   "source": [
    "Let's start working with gensim & TfidF"
   ]
  },
  {
   "cell_type": "code",
   "execution_count": 27,
   "metadata": {},
   "outputs": [],
   "source": [
    "# we will run the same on data_bigrams_trigrams\n",
    "id2word = corpora.Dictionary(data_bigrams_trigrams)\n",
    "\n",
    "# making a single object from data_bigrams_trigrams making it simplier going forwards\n",
    "texts = data_bigrams_trigrams\n",
    "\n",
    "# convert all this to a bag of words corpus\n",
    "corpus = [id2word.doc2bow(text) for text in texts]\n",
    "\n",
    "tfidf =  TfidfModel(corpus, id2word=id2word)\n",
    "\n",
    "low_value = 0.03\n",
    "words = []\n",
    "words_missing_in_tfidf = []\n",
    "\n",
    "# goes through & looks for words that occur with the low_value threshold; then presumes that's ubiquitous & provides little value\n",
    "# we will note that come will be identified here that do provide value but we can manually remove words dropped that are valuable after\n",
    "for i in range(0, len(corpus)):\n",
    "    bow = corpus[i]\n",
    "    low_value_words = [] #reinitialize to be safe. You can skip this.\n",
    "    tfidf_ids = [id for id, value in tfidf[bow]]\n",
    "    bow_ids = [id for id, value in bow]\n",
    "    low_value_words = [id for id, value in tfidf[bow] if value < low_value]\n",
    "    words_missing_in_tfidf = [id for id in bow_ids if id not in tfidf_ids] # The words with tf-idf socre 0 will be missing\n",
    "\n",
    "    new_bow = [b for b in bow if b[0] not in low_value_words and b[0] not in words_missing_in_tfidf]  \n",
    "\n",
    "#reassign        \n",
    "corpus[i] = new_bow\n"
   ]
  },
  {
   "cell_type": "markdown",
   "metadata": {},
   "source": [
    "As our previous round of LdaModel conveyed that +25 topics didn't show much, **we will limit the new pyLDAvis to 20.**"
   ]
  },
  {
   "cell_type": "code",
   "execution_count": 28,
   "metadata": {},
   "outputs": [],
   "source": [
    "lda_model = gensim.models.ldamodel.LdaModel(corpus=corpus, \n",
    "                                           id2word=id2word,\n",
    "                                           num_topics=20,    # this may result for a lot in the \"mistake\" topic\n",
    "                                           random_state=100, \n",
    "                                           update_every=1,   \n",
    "                                           chunksize=100, \n",
    "                                           passes=10, # passing over the data this many times\n",
    "                                           alpha=\"auto\")\n"
   ]
  },
  {
   "cell_type": "markdown",
   "metadata": {},
   "source": [
    "**Visualizing the Data**"
   ]
  },
  {
   "cell_type": "code",
   "execution_count": 29,
   "metadata": {},
   "outputs": [
    {
     "data": {
      "text/html": [
       "\n",
       "<link rel=\"stylesheet\" type=\"text/css\" href=\"https://cdn.jsdelivr.net/gh/bmabey/pyLDAvis@3.3.1/pyLDAvis/js/ldavis.v1.0.0.css\">\n",
       "\n",
       "\n",
       "<div id=\"ldavis_el185761570841216496519830492\"></div>\n",
       "<script type=\"text/javascript\">\n",
       "\n",
       "var ldavis_el185761570841216496519830492_data = {\"mdsDat\": {\"x\": [0.30209779688961597, 0.2430470368456851, -0.252502042963415, -0.09493460620637358, 0.3335660861603451, 0.431944395058564, 0.12479119570404942, -0.22939824540285778, -0.46517376995638726, 0.35549643763933, 0.4882371548020203, -0.01596874303816036, -0.37391431276341125, -0.273685209268507, 0.024246148346846713, -0.25995906540252384, -0.04398787621320893, -0.46582459650257135, 0.13204018264469417, 0.03988203362626571], \"y\": [0.37021250034420955, -0.44953538879047034, -0.10551933210144811, 0.4897383108482105, -0.26596626992342953, -0.11683732036909247, 0.42935892328596054, -0.42272852470110317, 0.17972123142491078, 0.1975275741521143, 0.0690338474590674, 0.25979050246486124, -0.2664710831734924, 0.35386197422045024, -0.4439211773459354, 0.14823930473143532, -0.29051029741113016, -0.06429709004540941, -0.07777474073789405, 0.006077055668184783], \"topics\": [1, 2, 3, 4, 5, 6, 7, 8, 9, 10, 11, 12, 13, 14, 15, 16, 17, 18, 19, 20], \"cluster\": [1, 1, 1, 1, 1, 1, 1, 1, 1, 1, 1, 1, 1, 1, 1, 1, 1, 1, 1, 1], \"Freq\": [12.857432816471299, 10.073995357264753, 9.894563649173186, 7.495751457153752, 6.937073103616596, 5.428328548022022, 5.369058757592258, 5.25541461662284, 5.017527494493565, 4.437220556426662, 4.18464280529447, 4.032710349255196, 3.2907656880120437, 3.1959059548611917, 3.162511311122071, 2.997774641597108, 2.9239403379192797, 2.151187517256452, 1.2704297068481232, 0.02376533099713261]}, \"tinfo\": {\"Term\": [\"hong\", \"police\", \"kong\", \"amp\", \"negative\", \"hk\", \"be\", \"do\", \"people\", \"arrest\", \"world\", \"never\", \"china\", \"freedom\", \"ccp\", \"thank\", \"support\", \"law\", \"is_terrorist\", \"say\", \"still\", \"get\", \"give\", \"happen\", \"stop\", \"know\", \"now\", \"want\", \"see\", \"justice\", \"hong\", \"kong\", \"fight\", \"time\", \"think\", \"keep\", \"death\", \"mark\", \"worldwide\", \"revolution\", \"boycott\", \"even\", \"right\", \"evil\", \"attack\", \"become\", \"human\", \"sanction\", \"hker\", \"make\", \"brutality\", \"terrorist\", \"dictatorship\", \"press\", \"government\", \"deserve\", \"long\", \"hkpolice\", \"many\", \"live\", \"true\", \"puppet\", \"freedom\", \"law\", \"is_terrorist\", \"citizen\", \"year\", \"charge\", \"how\", \"national_security\", \"well\", \"crazy\", \"condemn\", \"here\", \"change\", \"impose\", \"thousand\", \"close\", \"finally\", \"form\", \"large\", \"chinese_communist_party\", \"stage\", \"extend\", \"link\", \"crash\", \"joshua_wong\", \"right\", \"press\", \"attack\", \"even\", \"last\", \"human\", \"sanction\", \"evil\", \"people\", \"never\", \"china\", \"go\", \"thing\", \"look\", \"so\", \"insane\", \"expect\", \"dictatorship\", \"deserve\", \"sanction\", \"even\", \"city_fill_gov_corruption\", \"right\", \"hub\", \"long_international_financial\", \"attack\", \"long\", \"become\", \"evil\", \"hker\", \"torture\", \"make\", \"british_joint_decl\", \"human\", \"terrorist\", \"press\", \"forgive\", \"government\", \"hkpolice\", \"let\", \"brutality\", \"many\", \"hk\", \"support\", \"protest\", \"day\", \"crime\", \"good\", \"pay\", \"hate\", \"punish\", \"great\", \"soon\", \"silence\", \"note\", \"atrocity\", \"bank\", \"evil\", \"right\", \"attack\", \"government\", \"brutality\", \"human\", \"hker\", \"even\", \"become\", \"much\", \"true\", \"justice_liberty\", \"terrorist\", \"long\", \"gov\", \"govt\", \"sanction\", \"hkpolice\", \"make\", \"dictatorship\", \"deserve\", \"be\", \"thank\", \"peaceful\", \"hongkonger\", \"whole\", \"fact\", \"anymore\", \"clear\", \"easy\", \"path\", \"evil\", \"even\", \"right\", \"attack\", \"sanction\", \"make\", \"hker\", \"dictatorship\", \"human\", \"become\", \"government\", \"deserve\", \"true\", \"terrorist\", \"press\", \"hkpolice\", \"no_matter\", \"dear\", \"ppl\", \"long\", \"brutality\", \"many\", \"let\", \"still\", \"face\", \"take\", \"come\", \"speak\", \"hope\", \"with_hk\", \"call\", \"respect\", \"care\", \"proud\", \"rather\", \"decision\", \"overseas\", \"honor\", \"evil\", \"hkpolice\", \"gov_offical_sanction\", \"true\", \"hker\", \"no_matter\", \"even\", \"dear\", \"action\", \"citizen_restriction_prosecute\", \"deserve\", \"sanction\", \"many\", \"no_matter_brutal\", \"give_include_sinful\", \"right\", \"human\", \"attack\", \"make\", \"government\", \"brutality\", \"terrorist\", \"become\", \"dictatorship\", \"world\", \"get\", \"want\", \"control\", \"report\", \"pass\", \"promise\", \"plan\", \"increase\", \"evil\", \"even\", \"dear\", \"no_matter\", \"become\", \"let\", \"bad\", \"sanction\", \"make\", \"true\", \"no_matter_brutal\", \"press\", \"hker\", \"government\", \"attack\", \"right\", \"free\", \"city\", \"act\", \"dictatorship\", \"many\", \"human\", \"brutality\", \"long\", \"deserve\", \"hkpolice\", \"terrorist\", \"puppet\", \"ccp\", \"happen\", \"help\", \"kid\", \"kill\", \"back\", \"save\", \"destroy\", \"send\", \"detain\", \"evil\", \"hker\", \"everyday\", \"young\", \"beat\", \"work\", \"slaughter\", \"right\", \"try\", \"country\", \"night\", \"folded_hand\", \"citizen_restriction_prosecute\", \"last\", \"many\", \"father\", \"week\", \"turn\", \"thug\", \"victim\", \"video\", \"sanction\", \"make\", \"government\", \"officer\", \"attack\", \"hkpolice\", \"deserve\", \"press\", \"human\", \"terrorist\", \"even\", \"brutality\", \"become\", \"long\", \"let\", \"dictatorship\", \"puppet\", \"arrest\", \"journalist\", \"democracy\", \"shame\", \"allow\", \"hold\", \"start\", \"break\", \"child\", \"konger\", \"include\", \"probably\", \"sign\", \"buy\", \"recent\", \"defend\", \"gon\", \"tweet\", \"process\", \"development\", \"use_excessive_unlawful_force\", \"disperse_protester_brutally_beat\", \"protester_record\", \"insult_journalist_indiscriminate\", \"prove_professional\", \"pepper_spray\", \"ppl\", \"victim\", \"drink\", \"father\", \"target\", \"reason\", \"attack\", \"even\", \"press\", \"right\", \"hker\", \"human\", \"make\", \"evil\", \"sanction\", \"become\", \"do\", \"stand\", \"today\", \"issue\", \"sad\", \"hit\", \"tonight\", \"example\", \"affect\", \"japan\", \"let\", \"make\", \"europe\", \"torture\", \"deserve\", \"ban_annual_june_th\", \"fill_candle_light_shout\", \"defy\", \"vigil\", \"long\", \"understand\", \"dictatorship\", \"like\", \"trust\", \"aside\", \"bid_bid_gon\", \"erode\", \"really\", \"break_barrier_setup_victoria\", \"park\", \"become\", \"reporter\", \"even\", \"sanction\", \"right\", \"live\", \"hker\", \"attack\", \"human\", \"many\", \"terrorist\", \"press\", \"hkpolice\", \"evil\", \"brutality\", \"government\", \"puppet\", \"police\", \"forget\", \"force\", \"protester\", \"way\", \"democratic\", \"remind\", \"terrorism\", \"stick\", \"demonic\", \"provoke\", \"paramilitary\", \"robert\", \"peel\", \"trick\", \"model\", \"raymond\", \"sius\", \"appal\", \"disband\", \"award\", \"plaincloth\", \"wthhk\", \"independent_commission_inquiry\", \"banker\", \"moscow\", \"foto\", \"mifa\", \"knelt\", \"hastily\", \"secret\", \"triad_syndicate\", \"several\", \"disguise\", \"delay\", \"brutality\", \"block_road\", \"forgive\", \"mongkok\", \"station\", \"undercover\", \"riot\", \"officer\", \"dirty\", \"then\", \"india\", \"use_excessive_unlawful_force\", \"disperse_protester_brutally_beat\", \"pepper_spray\", \"father\", \"insult_journalist_indiscriminate\", \"protester_record\", \"prove_professional\", \"find\", \"uniform\", \"many\", \"treat\", \"attack\", \"ppl\", \"gov\", \"reporter\", \"even\", \"terrorist\", \"power\", \"make\", \"hker\", \"become\", \"right\", \"government\", \"human\", \"hkpolice\", \"sanction\", \"evil\", \"let\", \"dictatorship\", \"press\", \"deserve\", \"know\", \"now\", \"rule\", \"also\", \"watch\", \"prodemocracy\", \"leader\", \"election\", \"flee\", \"communism\", \"failure\", \"common\", \"lie\", \"dead\", \"magistrate\", \"operate\", \"apply\", \"lying\", \"real_attacker_pro\", \"judicial_independence\", \"rely\", \"probeije_camp\", \"fully\", \"infiltrate\", \"asset\", \"political_repression\", \"unlimited_power\", \"decease\", \"develop\", \"avenge\", \"white_terror\", \"choose\", \"movie\", \"put\", \"fear\", \"hub\", \"long_international_financial\", \"judge\", \"city_fill_gov_corruption\", \"victim\", \"let\", \"right\", \"live\", \"thug\", \"many\", \"even\", \"dictatorship\", \"believe\", \"ridiculous\", \"make\", \"human\", \"sanction\", \"attack\", \"become\", \"government\", \"really\", \"hker\", \"evil\", \"terrorist\", \"hkpolice\", \"brutality\", \"press\", \"deserve\", \"long\", \"give\", \"see\", \"already\", \"state\", \"number\", \"have\", \"enough\", \"post\", \"war\", \"present\", \"event\", \"react\", \"urge\", \"date\", \"online\", \"homeland\", \"connect\", \"justice_interest_concern\", \"threaten_oppression_deepen\", \"core_value\", \"gov_offical_sanction\", \"autonomy\", \"surrender\", \"govt\", \"bu_face_evil\", \"only\", \"justice_liberty\", \"no_matter_brutal\", \"dear\", \"no_matter_quibble\", \"no_matter\", \"puppet\", \"hkpolice\", \"evil\", \"hker\", \"even\", \"right\", \"attack\", \"sanction\", \"make\", \"human\", \"become\", \"terrorist\", \"government\", \"stop\", \"use\", \"show\", \"student\", \"ban\", \"hongkong\", \"university\", \"search\", \"governance\", \"obtain\", \"booth\", \"diarrhea\", \"eczema\", \"respiratory\", \"infection\", \"angry_face\", \"org\", \"warrant_card\", \"patrol\", \"poll\", \"excessive\", \"unacceptable_worldwide\", \"satire\", \"looter\", \"passenger\", \"frequently\", \"ocean\", \"headliner\", \"fashion\", \"aand\", \"tear_gas\", \"gun\", \"car\", \"aug\", \"weapon\", \"gather\", \"injustice\", \"excuse\", \"army\", \"suppress\", \"violence\", \"threaten\", \"mass\", \"last\", \"speech\", \"assembly\", \"attack\", \"voice\", \"human\", \"action\", \"abuse\", \"even\", \"right\", \"press\", \"make\", \"live\", \"hker\", \"always\", \"protect\", \"riot\", \"government\", \"become\", \"sanction\", \"hkpolice\", \"terrorist\", \"brutality\", \"dictatorship\", \"let\", \"evil\", \"deserve\", \"long\", \"many\", \"puppet\", \"officer\", \"negative\", \"need\", \"investigate\", \"corrupt\", \"bad_monster_shamelessly\", \"criminal\", \"station\", \"lick\", \"hkpolice_pull_shirt\", \"really_necessarythe\", \"sit_butt_knee\", \"first_aid\", \"bless\", \"funded_head\", \"journalist_severely_injure\", \"reborn\", \"water_cannon\", \"yearold\", \"loot\", \"standard\", \"several_male\", \"participant\", \"push_lady_ground\", \"pull_shirt\", \"steal\", \"lunatic\", \"harassment\", \"team\", \"experience\", \"multi\", \"assault\", \"terrorist\", \"cop\", \"human\", \"girl\", \"group\", \"true\", \"man\", \"shameless\", \"evil\", \"even\", \"shoot\", \"consequence\", \"government\", \"joke\", \"ridiculous\", \"treat\", \"act\", \"actually\", \"hker\", \"why\", \"right\", \"make\", \"become\", \"deserve\", \"sanction\", \"attack\", \"hkpolice\", \"dictatorship\", \"press\", \"let\", \"riot\", \"puppet\", \"really\", \"officer\", \"many\", \"long\", \"govt\", \"brutality\", \"ppl\", \"justice\", \"truth\", \"new\", \"security\", \"safe\", \"totally\", \"die\", \"follow\", \"wait\", \"communist\", \"yesterday\", \"ready\", \"offer\", \"crush\", \"oppressive\", \"desire\", \"citizen_restriction_prosecute\", \"justice_interest_concern\", \"threaten_oppression_deepen\", \"use_excessive_unlawful_force\", \"disperse_protester_brutally_beat\", \"protester_record\", \"core_value\", \"autonomy\", \"insult_journalist_indiscriminate\", \"prove_professional\", \"secretary\", \"department\", \"small\", \"hat\", \"no_matter_brutal\", \"only\", \"surrender\", \"govt\", \"puppet\", \"ppl\", \"pepper_spray\", \"true\", \"sanction\", \"evil\", \"right\", \"even\", \"attack\", \"deserve\", \"make\", \"hker\", \"become\", \"human\", \"government\", \"say\", \"life\", \"tell\", \"family\", \"protestor\", \"uk\", \"future\", \"ignore\", \"responsibility\", \"read\", \"risk\", \"social\", \"meet\", \"thai\", \"father\", \"matter\", \"cry\", \"tshist\", \"soft\", \"wear_black\", \"goodbye_father\", \"nightmare\", \"sunday\", \"cordon\", \"drink\", \"fault\", \"citizenship\", \"sacrifice\", \"stampede\", \"separate\", \"customer_move_bankanyone_care\", \"gain_favour_totalitarian_hsbc\", \"hsbc_exploit_situation\", \"repulsive_corporate_kowtowing_totalitarian\", \"normal\", \"threaten\", \"son\", \"same\", \"shop\", \"mother\", \"breathe\", \"many\", \"brutality\", \"just\", \"lie\", \"joke\", \"even\", \"live\", \"reason\", \"riot\", \"make\", \"really\", \"officer\", \"attack\", \"hker\", \"sanction\", \"human\", \"government\", \"right\", \"terrorist\", \"evil\", \"press\", \"deserve\", \"become\", \"dictatorship\", \"amp\", \"company\", \"justice_interest_concern\", \"threaten_oppression_deepen\", \"autonomy\", \"core_value\", \"govt\", \"surrender\", \"only\", \"puppet\", \"gov_offical_sanction\", \"insult_journalist_indiscriminate\", \"use_excessive_unlawful_force\", \"disperse_protester_brutally_beat\", \"protester_record\", \"prove_professional\", \"hkpolice\", \"ppl\", \"pepper_spray\", \"give_include_sinful\", \"bu_face_evil\", \"judicial_inpedendence\", \"ban_annual_june_th\", \"fill_candle_light_shout\", \"defy\", \"break_barrier_setup_victoria\", \"thug_rush_create_chaos\", \"peaceful_violent_inhumane\", \"actively\", \"park\", \"evil\", \"vigil\", \"hker\", \"dear\", \"no_matter\", \"attack\", \"make\", \"right\", \"human\", \"even\", \"sanction\", \"true\", \"terrorist\", \"become\", \"chinese\", \"official\", \"june\", \"aka\", \"besieging\", \"sanctioned\", \"role\", \"onell\", \"decl\", \"govern\", \"chief\", \"club\", \"barbaric\", \"blatantly\", \"mean_lot\", \"int_treaty\", \"official_tgr_violate\", \"rightsamp\", \"travesty\", \"announcement\", \"qualification\", \"thur\", \"flier\", \"capitol\", \"prayer\", \"liverpool\", \"word_describe_grateful\", \"sen_hawley\", \"legislation\", \"mute\", \"ve\", \"violation\", \"arbitrary_arrest\", \"basic\", \"government\", \"ever\", \"actor\", \"draconian\", \"threaten\", \"sanction\", \"officer\", \"last\", \"suppress\", \"puppet\", \"human\", \"consequence\", \"believe\", \"act\", \"right\", \"govt\", \"make\", \"even\", \"hker\", \"become\", \"terrorist\", \"much\", \"evil\", \"attack\", \"hkpolice\", \"dictatorship\", \"brutality\", \"many\", \"deserve\", \"press\", \"riot\", \"long\", \"cipo\", \"danish\", \"jpn\", \"flexible\", \"fluid\", \"becatch\", \"affiliate\", \"apwt\", \"poet\", \"transoceanic\", \"alan\", \"scott\", \"trudge\", \"hotline\", \"adopted\", \"unionist\", \"underfoot\", \"radically\", \"protestong\", \"croatia\", \"yugoslav\", \"yugoslavia\", \"konghave\", \"jackboot\", \"disassociate\", \"stanchart\", \"kaotic\", \"nyo\", \"poohprod\", \"premiere\", \"speak\", \"thank\", \"china\", \"hong\", \"how\", \"kong\", \"new\", \"read\", \"report\", \"stop\", \"tank\", \"think\", \"communism\", \"war\", \"today\", \"never\", \"dominate\", \"get\", \"here\", \"want\", \"world\", \"brother_sister\", \"japan\", \"form\", \"joshua_wong\"], \"Freq\": [64179.0, 40352.0, 61162.0, 27288.0, 29331.0, 38834.0, 34702.0, 29536.0, 38714.0, 27162.0, 24987.0, 29929.0, 26682.0, 25204.0, 18946.0, 19889.0, 20205.0, 22755.0, 21946.0, 13796.0, 15537.0, 15284.0, 13051.0, 14596.0, 12181.0, 12232.0, 11976.0, 13114.0, 11177.0, 10550.0, 64177.4241753398, 61160.80519389322, 15277.080190611332, 10915.000885588504, 7635.432741867322, 6530.416489297044, 3368.0796275045223, 978.0335659120356, 750.8843497405613, 518.4926686376649, 486.8992931938011, 0.1484519310189023, 0.1484309428117845, 0.1484643651243643, 0.14839978215945449, 0.1483408885265507, 0.14834912096985983, 0.1483803519849532, 0.14835885113484548, 0.14834538169158024, 0.14828957396843948, 0.1483018271410815, 0.1483174979336565, 0.14829582620255213, 0.1483083608262475, 0.14830575740400442, 0.1482785873255373, 0.14830299315258805, 0.1482705860741648, 0.1482381287366249, 0.14825576968657303, 0.14825637279597298, 25202.063909570552, 22753.29145534692, 21944.059745011382, 15640.839680628493, 12594.777301960716, 6490.591253388632, 6123.976104571363, 5329.4318344714775, 4016.287913322419, 3366.0316397939796, 1806.5463745097225, 1723.4535078707913, 1648.878721709407, 1353.4697345561224, 886.6965249527685, 861.5286185291383, 607.1598548622043, 606.6168051342756, 506.70188120214135, 503.14534743390993, 301.59370224408207, 247.1611447016627, 145.6343785941203, 116.57754061227533, 39.5790434157943, 0.11014312872867231, 0.11006123660328208, 0.11011520129295066, 0.11014511341953577, 0.11001033558324005, 0.11007667308777572, 0.1100923458449912, 0.1101203441625294, 38712.132346737395, 29927.49737169068, 26680.38630908761, 13629.371968967867, 6617.85412131087, 5793.245391094895, 5749.631771477773, 2259.396236268446, 1276.2443615067314, 0.16031698909334727, 0.160280895346807, 0.16032023799466466, 0.16036402080765605, 0.1601749038090671, 0.1603323208133736, 0.16015947926328886, 0.16015782387071284, 0.1603050145713489, 0.16020251947026484, 0.16023838115242528, 0.16035017429966053, 0.1602592514756498, 0.16012996067417665, 0.16023067661501547, 0.1600803453097726, 0.16022193552337585, 0.1601819895081307, 0.16017457891893536, 0.16006968581925987, 0.1601895238649953, 0.16018525388040675, 0.16014600405830104, 0.16015561152362529, 0.16015005744946845, 38832.848698580274, 20203.855195350578, 8258.70917949698, 7987.552742333615, 5489.1911720187145, 4603.208190740502, 2723.828373636558, 2443.3103784597242, 2427.929633592583, 2246.3186341358396, 1831.0419791564816, 690.0646035629967, 642.8631161228823, 446.8836747497998, 326.64265957481564, 0.11607920178189486, 0.11604967854819769, 0.11603241466442002, 0.11597956819330427, 0.11595928049281605, 0.11599639842894903, 0.11600883358216565, 0.11606022674602517, 0.11598227556407999, 0.11591175500149328, 0.11594324723211827, 0.11587257430667405, 0.11596579693502948, 0.11595215459917259, 0.11588294670120441, 0.11593408202022815, 0.11601822147823213, 0.11596819958009019, 0.11599016327201099, 0.1159731455128493, 0.11596684003459243, 34700.71325987439, 19887.751516802542, 12387.85668039034, 7378.5651574865515, 4556.167471130117, 4281.006718413252, 3455.0752042905897, 1427.7127321041303, 509.65028942020547, 158.0635408720407, 0.1968282040847347, 0.19672743842234727, 0.19668695861050337, 0.19664506873018686, 0.1966092963777053, 0.19654820787280047, 0.19655796988530302, 0.1964964041264536, 0.19651614508506987, 0.19648182618778312, 0.19646453657897306, 0.19646219369597245, 0.19640958729526425, 0.19644872211871892, 0.1964331462854371, 0.19644167177635596, 0.19632231490349147, 0.19631804131135147, 0.19636448679750249, 0.19639858876117805, 0.19639910940184485, 0.19637494299756078, 0.19636908579005924, 15535.871174840462, 10982.86584274002, 7972.60450899034, 6304.2151848910935, 5905.24464834727, 4920.008986855005, 4880.971666491501, 4856.2298595697475, 3887.8884912390718, 3452.198231870852, 479.64764211816225, 417.66890820500566, 389.84431830919135, 214.34385876487633, 84.99345890242557, 0.1289710934215138, 0.12884200497804826, 0.12875731535421375, 0.12879250508967358, 0.12885974413557624, 0.1287349164849715, 0.12890679109738368, 0.12873213254063218, 0.12871432548202277, 0.12867631785168293, 0.12880854672016537, 0.12886095786740712, 0.12878218412529366, 0.1287129335098531, 0.12867984870791815, 0.12887934208520882, 0.1288249363436996, 0.1288581229972567, 0.12882536921309382, 0.1288007296081638, 0.12878062240042037, 0.12878862624039591, 0.12879750430679507, 0.12879604443354398, 24985.765975933275, 15281.9359989907, 13112.862172000943, 5966.42528511204, 4112.155882419191, 2831.9801993492624, 1058.161244110691, 948.930737079617, 479.6113013453444, 0.14933881889048325, 0.14930030280473022, 0.14907808816003032, 0.14907783631116966, 0.14917684649324714, 0.14912953248729593, 0.14907473017522185, 0.14922614171023535, 0.1491958862671111, 0.14912442835038706, 0.14905362524070068, 0.14914692684860376, 0.14920396222057547, 0.14916220567948227, 0.14922555406289387, 0.14924709553544016, 0.14907169119897018, 0.14906880333203493, 0.14907892765623243, 0.14916247431826693, 0.14912469698917175, 0.14917879412443605, 0.1491295996469921, 0.14912573796446238, 0.14914973076591884, 0.14914560044460443, 0.14913784349969686, 0.14911695683418824, 18944.219313414982, 14594.711098318136, 9273.024835799748, 6440.643617489491, 4573.523067096769, 4113.420933744556, 3611.134902275722, 2744.142220631737, 2536.9703395440256, 956.0546832327425, 0.13238723921390305, 0.1323147218050765, 0.13216094381201363, 0.13219264604014425, 0.1321706155389472, 0.13218198824079602, 0.13213424590138728, 0.1323525376821779, 0.13220263002334245, 0.13218230049706067, 0.13216049186215692, 0.1321494231993026, 0.1321348211102958, 0.13220842319877846, 0.13224294395056094, 0.13217148656958014, 0.13213099186241897, 0.13216409102647034, 0.1321754719455893, 0.13221304952185714, 0.1321869843410302, 0.13232150927019726, 0.13229447445149592, 0.13226878726509458, 0.13222160370005415, 0.13232528099718324, 0.13226612486957506, 0.13226634673586835, 0.13225364283625976, 0.13228643796131662, 0.13225703656882015, 0.1323532525846785, 0.1322452036998445, 0.13227166330963727, 0.13224112793386397, 0.1322333626135987, 0.13226462110914275, 0.13223295175009261, 27160.1384575539, 7083.554913863382, 5671.8734542049, 4690.169895849082, 4110.283187088684, 2767.531829639061, 2682.85458269998, 2437.119688654806, 2065.0594283352907, 1831.1364995581253, 1774.7988430907196, 676.1075344015204, 649.2315376239974, 479.87829698770156, 466.84451730264067, 450.97789684777035, 396.0173282512916, 382.94964676700937, 177.93984335488557, 11.395190044833047, 0.08953953560831093, 0.0895391354972882, 0.0895376684235382, 0.08953555018871201, 0.08953329858354492, 0.08956741000956082, 0.08957845621191371, 0.08956908106147926, 0.08950565169640598, 0.08953769195948072, 0.0895283638809313, 0.08955295894085767, 0.08962343339805659, 0.08963983010467416, 0.08958238671431343, 0.08962264886663948, 0.08960230596699384, 0.08959470385756205, 0.08959635137353798, 0.0896285328522678, 0.08960232165762218, 0.08958492859610487, 29534.43447888252, 10026.169649223817, 8125.84886214062, 2050.663830163167, 1903.123016537086, 1390.6392175513752, 1384.9368874948152, 1342.4697889703364, 444.00198644086447, 107.44534986497152, 0.1388910139276139, 0.13894418642900563, 0.1387611908788088, 0.13883784142622216, 0.1389068463451734, 0.13876206506137345, 0.13876206506137345, 0.1387623287037342, 0.138780714289419, 0.1388794969192227, 0.1387738318362117, 0.13891057896596526, 0.13876058033860494, 0.13878224063992867, 0.13874760635927266, 0.13874626039564142, 0.13875022890696656, 0.1388471937920724, 0.1387517275056488, 0.13875761089306793, 0.1389095799001771, 0.13883662034581443, 0.13899858001080512, 0.13895165167058934, 0.13897665606712065, 0.13884335016397073, 0.13893164260299884, 0.13895104113038548, 0.13891457522911788, 0.138865940151514, 0.13888178644498722, 0.13887665235690919, 0.1388843951167674, 0.13897843218407735, 0.1388670918523531, 0.13887645809411706, 0.1388500383543859, 40350.29183129633, 3804.286709341611, 3714.3647798308566, 3252.371485025217, 2886.3316778336502, 612.645351688009, 415.6058060974532, 307.04001145911104, 214.29513072867448, 0.05869903521411816, 0.058699310021416484, 0.05869809956069765, 0.05869741908548274, 0.05869741908548274, 0.058699506312343865, 0.05869752377397734, 0.05869757611822465, 0.05869757611822465, 0.05869777240915202, 0.058701410334339434, 0.05869787709764662, 0.05869749105882278, 0.05869715082121533, 0.058697203165462626, 0.0586969283581643, 0.05869695453028795, 0.05869695453028795, 0.05869695453028795, 0.05869697415938069, 0.058696921815133384, 0.05870557170199985, 0.0586972424236481, 0.05870013444331147, 0.05869985309298223, 0.05869803413038853, 0.05874757141742788, 0.0587008214615573, 0.05871738841582802, 0.05870364805091154, 0.05870915728293996, 0.05870283671507838, 0.05872704592945503, 0.05873041559037503, 0.05870152810889586, 0.058702889059325684, 0.058702640424151006, 0.05870807768283938, 0.05870774398826284, 0.05872128151922103, 0.05871214744806702, 0.05870699153970789, 0.05870717474457344, 0.058706271806307504, 0.05871024342607145, 0.058705296894701525, 0.05872769368951538, 0.05871339716697133, 0.05874685822705841, 0.05872205359686871, 0.05871009293636047, 0.05871913540508169, 0.05875232820090135, 0.058729584625449124, 0.058715405877461505, 0.058735466810239556, 0.058736860475823945, 0.05873069694070427, 0.058743187586716435, 0.05872826293320478, 0.058731442846228304, 0.05872647668576564, 0.05873433486589168, 0.058741348995029995, 0.05872134040649924, 0.05872563917780882, 0.058723061223629254, 0.05872265555571267, 12229.898124089184, 11974.196310993577, 8746.229317066729, 7456.224868679268, 7007.577652759195, 1807.4446175918638, 749.9363340628388, 650.483533765921, 369.2511066522037, 314.5069954182, 172.88664561831635, 0.11724457886135338, 0.11726526080985669, 0.11723617997250997, 0.11720597676112862, 0.11720920516284622, 0.1172107941418166, 0.1172012098242175, 0.11720475349954032, 0.11720477872142873, 0.11721102113881236, 0.11720330324095625, 0.11721180301735333, 0.11720358068172886, 0.11720281141413208, 0.11720177731670692, 0.1172078305699274, 0.11720152509782274, 0.11720335368473309, 0.11720171426198588, 0.11721965963559575, 0.11721920564160421, 0.11721680956220444, 0.11724225844761886, 0.11724005153238223, 0.1172783888027786, 0.11727726642874396, 0.11722192960555343, 0.11728135237466779, 0.11727962467531111, 0.1172990581403377, 0.11738811662834397, 0.11728202075471089, 0.11724817298045305, 0.11729944907960818, 0.1173951787571012, 0.11732494840879945, 0.11725364613023989, 0.11726152797037072, 0.11733629825858784, 0.11733132954656937, 0.11735247810000841, 0.11735481112468714, 0.11731981575450624, 0.1173141912733889, 0.11727801047445231, 0.11733469666867326, 0.11736920021202998, 0.11730213521072477, 0.11730482134184135, 0.11729530007896331, 0.11729640984205374, 0.11729934819205451, 0.11728895677402602, 13049.43448343194, 11175.223352583738, 5723.068005305758, 3924.9572314881666, 1343.0543073822885, 1227.2479134753496, 981.1754070148146, 950.0858696334516, 827.3645262345453, 563.1493187387799, 451.44906072021803, 401.27887911429906, 383.86926759680887, 300.85375031942436, 282.9568736900968, 246.1132032136042, 181.26993479527334, 0.09555693917463001, 0.09555693917463001, 0.0955591516884642, 0.09557075966802211, 0.09556674627083454, 0.09557515382340441, 0.09558963292556576, 0.0955214051733769, 0.09557830279658236, 0.09553731469145896, 0.09555115576637509, 0.09556158030830078, 0.09551035289496804, 0.09556173466973107, 0.0955954780783928, 0.09561128468885464, 0.09567188698638711, 0.09562617542149678, 0.09564399902131443, 0.09563310110433586, 0.09561874549131874, 0.0956070757671887, 0.09559886373909719, 0.09559742303241447, 0.0955929877139841, 0.09558361282978439, 0.09558459045217624, 12178.873863186727, 10500.605445377958, 7732.749351953528, 3979.924684889562, 2846.0895413398966, 2687.9722731167717, 539.6949010383421, 0.10263218814221896, 0.10260499414133506, 0.10260108644036277, 0.10260141624632718, 0.10259757850419583, 0.10259757850419583, 0.10259757850419583, 0.10259763846891663, 0.10261350913168901, 0.10259704881582875, 0.10260888185406708, 0.10259965728118364, 0.10259725869235155, 0.10260037685783327, 0.10259648914510125, 0.10260028691075207, 0.10259740860415356, 0.10260321518795126, 0.1025993174810991, 0.10259721871587102, 0.1025985779162092, 0.10259776839247838, 0.10259927750461856, 0.10261324928456553, 0.10261680719133313, 0.10261358908465007, 0.10260195592881441, 0.10263849443202334, 0.10260791242441411, 0.10260706292420274, 0.10261107056637638, 0.10260873194226508, 0.10264195239758962, 0.10263294769534913, 0.10263971371467967, 0.10261207997250989, 0.10264824869327388, 0.10263208820101763, 0.10261215992547096, 0.10271580894537793, 0.10262831042360707, 0.10269184304529723, 0.10262656145258367, 0.10262903999437684, 0.10272461376521576, 0.10271480953336456, 0.10266796709229774, 0.10268743563831825, 0.10264824869327388, 0.10268991418011142, 0.10263942388519579, 0.10263660554331808, 0.10264462082766533, 0.10267136509314322, 0.10267376368197531, 0.10269141329813149, 0.10266856673950576, 0.10266527867398176, 0.10265836274284922, 0.10266809701585948, 0.10265348561222395, 0.10270444563078587, 0.10266356967943889, 0.10265497473612388, 0.10265160671763882, 0.10265040742322276, 0.10264480072182773, 29329.71335566243, 8608.925640037141, 908.8983896582855, 707.585105661103, 0.11589847926993803, 0.11594449599576809, 0.1159010505892408, 0.11586756410016696, 0.11586996729474609, 0.11586996729474609, 0.11586996729474609, 0.11587197490174019, 0.11587012552978011, 0.11586933435461003, 0.11586933435461003, 0.11586904755361087, 0.1158891335132414, 0.11586749487233958, 0.11586831571657853, 0.11587143096881075, 0.11586823659906154, 0.11586896843609386, 0.11586832560626817, 0.11586875086292209, 0.11586789045992461, 0.11586505211900194, 0.1158694431411959, 0.1158722518130497, 0.11587115405750122, 0.11586454774483101, 0.11590185165410051, 0.1159869326539535, 0.11592566602672007, 0.11600774056092675, 0.11589959680486576, 0.11589492887136227, 0.11595480105235843, 0.11591208748286348, 0.11589112134085623, 0.11605487482168454, 0.11604380825899298, 0.11591650817412633, 0.11591132597676228, 0.11597290907406375, 0.11591947508101415, 0.11591889158932621, 0.11591021833152415, 0.11592308481772766, 0.11588982579151522, 0.11599319282748681, 0.11590855686366698, 0.11601855988137764, 0.11598366905637691, 0.11597096080520743, 0.11596393912557292, 0.11599693113016546, 0.11600061998439598, 0.11596124912999463, 0.11596395890495217, 0.11595242752684819, 0.11594144997136326, 0.11592749561930088, 0.11594300265263455, 0.1159305713127746, 0.115932094324977, 0.11594052034053841, 0.11594051045084879, 0.11593259869914793, 0.1159407082446413, 0.11592832635322947, 10548.442721598656, 9808.477323813124, 3888.2776981576944, 2390.039466214383, 2107.287681356443, 1950.3313841655224, 1575.9261480614432, 1535.2201903283915, 1152.8071115283951, 945.1482237758152, 601.7012089278828, 458.46116653247174, 374.5004249433067, 266.15594288204545, 198.7661037161011, 144.5762283674329, 0.09661310236924837, 0.09663115771622861, 0.09663115771622861, 0.09662274876179389, 0.09662225191164335, 0.09662115509149968, 0.09663307949511281, 0.09664234153188149, 0.09661820211418984, 0.09661660844389562, 0.09659905932159707, 0.09660338098045372, 0.0965966313180312, 0.09659006914623153, 0.09662849534938418, 0.09665492215267457, 0.09664603509715158, 0.09666094997619913, 0.0966710744698329, 0.09665201604802043, 0.09664197592516693, 0.0966541534411209, 0.09668851109775775, 0.09670943505126756, 0.09669432330706602, 0.09669994802575146, 0.09667968966395277, 0.0966620936689985, 0.09666849647376875, 0.0966685714700179, 0.09666151244806767, 0.09666135308103825, 0.09665714391655532, 13793.993932193463, 5191.133680562153, 3659.5879959668728, 3631.8486910360166, 2958.475281107808, 1392.8320816711307, 1353.0978389164873, 1336.0691559533548, 1150.1533124412724, 933.7421207457962, 504.94294328888367, 399.9390736135238, 372.6584475666412, 54.234709768746576, 0.10245567516725258, 0.1024750231078214, 0.10242118536015163, 0.10240739675222262, 0.10240740589586184, 0.10241022213673857, 0.10240778078506944, 0.10240826539794759, 0.1024114108098359, 0.10240883230357863, 0.10240932606009598, 0.10240685727750921, 0.10240687556478764, 0.10241069760597751, 0.10240556802438058, 0.10240642752646634, 0.10241974980879563, 0.10241974980879563, 0.10241974980879563, 0.10241974980879563, 0.10242310552438579, 0.10245153309869036, 0.10241925605227828, 0.10243009126474238, 0.10241976809607405, 0.10241725359529123, 0.1024283996914885, 0.10247975036929309, 0.10248258489744826, 0.10243250518549389, 0.1024424534649546, 0.10244901859790755, 0.10253837938390903, 0.10246047557783795, 0.1024505821602125, 0.10245627864744046, 0.10249724215110224, 0.10245897602100747, 0.1024608778979632, 0.10251103990267046, 0.10249933604448139, 0.10250581888468142, 0.1024919296967211, 0.10248170710808407, 0.10251413959636273, 0.1024766232446832, 0.10251783362660366, 0.10247198741960362, 0.10247541628430745, 0.10247691584113792, 0.10247494081506851, 27286.373361491074, 343.7154251080053, 0.05762168096584066, 0.05762168096584066, 0.05762932969544984, 0.05762242767559142, 0.05763992490137284, 0.057628428262057024, 0.0576299351357883, 0.0576420304883277, 0.057585805262229624, 0.05755663649214572, 0.05755768592206571, 0.05755728902228828, 0.0575562126839088, 0.057554497269616506, 0.057605246624208975, 0.05757819016819481, 0.05756779004860308, 0.057535863161421764, 0.05753064292028129, 0.05752557067566799, 0.057529317678651555, 0.057529317678651555, 0.05752935804134078, 0.05752610884485773, 0.057522859648374676, 0.05752233493341468, 0.05752265110781365, 0.05752682191903413, 0.05761394478373815, 0.05753178652980948, 0.057571335238140495, 0.05753896436137764, 0.05753857418871508, 0.05756466194018772, 0.05755821736414059, 0.05756602081739181, 0.05755113371218063, 0.05755970405652724, 0.05754972101805757, 0.05754012142513558, 0.05754000033706789, 0.05753903835964123, 5321.764631812975, 4087.315040662868, 3516.548968869921, 0.13373398983134327, 0.13372791932986397, 0.13372830072262706, 0.1337288092463112, 0.1337204503882533, 0.1337204503882533, 0.1337206728673651, 0.13372960381456764, 0.13372119728241438, 0.1337208317810164, 0.13372130852197028, 0.13371757405116494, 0.13371595313192178, 0.13371595313192178, 0.13371595313192178, 0.13371595313192178, 0.1337131721430242, 0.13371139231012974, 0.1337106454159687, 0.1337106454159687, 0.1337106454159687, 0.1337107089814292, 0.13371318803438934, 0.13371172602879747, 0.13371172602879747, 0.13371690661382954, 0.13371167835470207, 0.1337266162379234, 0.13372729956662394, 0.1337287138981204, 0.13372895226859735, 0.13380785289646313, 0.13372540849417358, 0.1337162391764941, 0.13371801900938857, 0.1337467347061768, 0.13381282689374854, 0.13376308692089459, 0.13375410829959666, 0.13374222155848012, 0.13376176793758887, 0.13377247871768586, 0.13373432355001097, 0.13373453013775766, 0.13373986963644102, 0.13377066710206115, 0.13374363588997662, 0.13375852609910255, 0.1337713504307617, 0.1337571912244317, 0.13375137498479447, 0.13374773586217992, 0.13373562664195157, 0.1337625625058453, 0.13375485519375774, 0.13374560641925262, 0.13374644866160446, 0.1337409025751744, 0.13373975839688512, 0.13374182427435188, 0.1337402987032995, 0.13373602392607978, 0.13373654834112905, 0.009609970174531315, 0.009609970174531315, 0.009609970174531315, 0.009609970174531315, 0.009609970174531315, 0.009609970174531315, 0.009609970174531315, 0.009609970174531315, 0.009609970174531315, 0.009609970174531315, 0.009609970174531315, 0.009609970174531315, 0.009609970174531315, 0.009609970174531315, 0.009609970174531315, 0.009609970174531315, 0.009609970174531315, 0.009609970174531315, 0.009609970174531315, 0.009609970174531315, 0.009609970174531315, 0.009609970174531315, 0.009609970174531315, 0.009609970174531315, 0.009609970174531315, 0.009609970174531315, 0.009609970174531315, 0.009609970174531315, 0.009609970174531315, 0.009609970174531315, 0.009609970174531315, 0.009609970174531315, 0.009609970174531315, 0.009609970174531315, 0.009609970174531315, 0.009609970174531315, 0.009609970174531315, 0.009609970174531315, 0.009609970174531315, 0.009609970174531315, 0.009609970174531315, 0.009609970174531315, 0.009609970174531315, 0.009609970174531315, 0.009609970174531315, 0.009609970174531315, 0.009609970174531315, 0.009609970174531315, 0.009609970174531315, 0.009609970174531315, 0.009609970174531315, 0.009609970174531315, 0.009609970174531315, 0.009609970174531315, 0.009609970174531315], \"Total\": [64179.0, 40352.0, 61162.0, 27288.0, 29331.0, 38834.0, 34702.0, 29536.0, 38714.0, 27162.0, 24987.0, 29929.0, 26682.0, 25204.0, 18946.0, 19889.0, 20205.0, 22755.0, 21946.0, 13796.0, 15537.0, 15284.0, 13051.0, 14596.0, 12181.0, 12232.0, 11976.0, 13114.0, 11177.0, 10550.0, 64179.53349828656, 61162.91451683998, 15279.189513558069, 10917.110208535241, 7637.542064814059, 6532.525812243781, 3370.1889504512596, 980.1428888587733, 752.9936726872991, 520.6019915844026, 489.00861614053883, 2.2616867670917444, 2.26137420548067, 2.261901908803332, 2.261037974652075, 2.2601697416113544, 2.260406365024756, 2.26093211708676, 2.2606635781008886, 2.26048141427506, 2.2596609934426954, 2.2598702752143582, 2.260124385826969, 2.2597990370855663, 2.260038412348035, 2.2600120926815346, 2.259608744284638, 2.260004140133068, 2.259554422655928, 2.259123339442536, 2.25941700544584, 2.259577577159486, 25204.211397100313, 22755.43894287668, 21946.207232541143, 15642.987168158255, 12596.924789490478, 6492.738740918395, 6126.123592101126, 5331.57932200124, 4018.4354008521814, 3368.179127323742, 1808.693862039485, 1725.600995400554, 1651.0262092391697, 1355.617222085885, 888.8440124825313, 863.676106058901, 609.307342391967, 608.7642926640384, 508.8493687319041, 505.2928349636727, 303.74118977384484, 249.30863223142543, 147.78186616730295, 118.72502814203806, 41.72653094555706, 2.26137420548067, 2.2597990370855663, 2.261037974652075, 2.2616867670917444, 2.2589503104863886, 2.260406365024756, 2.26093211708676, 2.261901908803332, 38714.22981672333, 29929.594841676597, 26682.48377907353, 13631.469438953784, 6619.951591296786, 5795.342861080811, 5751.7292414636895, 2261.493706254362, 1278.3418314926478, 2.260124385826969, 2.2600120926815346, 2.26093211708676, 2.2616867670917444, 2.259060996668032, 2.26137420548067, 2.2589763465268624, 2.2589590462590436, 2.261037974652075, 2.259608744284638, 2.2601697416113544, 2.261901908803332, 2.2606635781008886, 2.258881583511983, 2.26048141427506, 2.2583921941766327, 2.260406365024756, 2.2598702752143582, 2.2597990370855663, 2.2583399727903366, 2.260038412348035, 2.260004140133068, 2.2594578585020653, 2.2596609934426954, 2.259554422655928, 38834.99027250522, 20205.996769275513, 8260.850753421915, 7989.694316258549, 5491.332745943649, 4605.349764665436, 2725.9699475614925, 2445.451952384659, 2430.0712075175175, 2248.460208060774, 1833.1835530814162, 692.2061774879315, 645.0046900478171, 449.0252486747347, 328.78423349975054, 2.261901908803332, 2.26137420548067, 2.261037974652075, 2.260038412348035, 2.2596609934426954, 2.260406365024756, 2.2606635781008886, 2.2616867670917444, 2.2601697416113544, 2.2588019315924277, 2.25941700544584, 2.258047749027027, 2.2598702752143582, 2.259608744284638, 2.258273461010839, 2.2592732250218086, 2.26093211708676, 2.260004140133068, 2.26048141427506, 2.260124385826969, 2.2600120926815346, 34702.77462232661, 19889.812879254743, 12389.918042842542, 7380.6265199387535, 4558.228833582319, 4283.068080865454, 3457.1365667427917, 1429.7740945563328, 511.71165187240814, 160.1249033309704, 2.261901908803332, 2.2616867670917444, 2.26137420548067, 2.261037974652075, 2.26093211708676, 2.26048141427506, 2.2606635781008886, 2.260124385826969, 2.260406365024756, 2.2601697416113544, 2.260038412348035, 2.2600120926815346, 2.25941700544584, 2.2598702752143582, 2.2597990370855663, 2.260004140133068, 2.2586675121582878, 2.258638106512717, 2.2592062411480773, 2.259608744284638, 2.2596609934426954, 2.259554422655928, 2.2594578585020653, 15537.99993714951, 10984.994605049069, 7974.733271299388, 6306.343947200142, 5907.373410656319, 4922.137749164053, 4883.10042880055, 4858.358621878796, 3890.01725354812, 3454.3269941799003, 481.7764044272112, 419.79767051405463, 391.9730806182403, 216.47262107392518, 87.1222212114744, 2.261901908803332, 2.260004140133068, 2.2586291303508714, 2.25941700544584, 2.2606635781008886, 2.2586675121582878, 2.2616867670917444, 2.258638106512717, 2.2583470726337778, 2.2576916756425582, 2.2600120926815346, 2.26093211708676, 2.259554422655928, 2.258376584886842, 2.257801769853878, 2.26137420548067, 2.260406365024756, 2.261037974652075, 2.26048141427506, 2.260038412348035, 2.2596609934426954, 2.2598702752143582, 2.2601697416113544, 2.260124385826969, 24987.874420829838, 15284.044443887262, 13114.970616897504, 5968.533730008602, 4114.264327315753, 2834.088644245824, 1060.2696890072532, 951.0391819761791, 481.71974624190665, 2.261901908803332, 2.2616867670917444, 2.258638106512717, 2.2586675121582878, 2.2601697416113544, 2.2594578585020653, 2.2586373783481966, 2.26093211708676, 2.26048141427506, 2.25941700544584, 2.258376584886842, 2.2597990370855663, 2.2606635781008886, 2.260038412348035, 2.261037974652075, 2.26137420548067, 2.2587356627073194, 2.258701496951492, 2.258857072989717, 2.260124385826969, 2.259554422655928, 2.260406365024756, 2.2596609934426954, 2.259608744284638, 2.2600120926815346, 2.260004140133068, 2.2598702752143582, 2.259577577159486, 18946.34460647898, 14596.836391382132, 9275.150128863745, 6442.768910553489, 4575.648360160768, 4115.546226808555, 3613.2601953397198, 2746.2675136957346, 2539.095632608023, 958.1799762967403, 2.261901908803332, 2.2606635781008886, 2.258059763875265, 2.2586071998767743, 2.258249514335561, 2.2584439746547225, 2.257631351549122, 2.26137420548067, 2.2588177809142196, 2.2584860699421325, 2.258122544051623, 2.2579375489937576, 2.2576916756425582, 2.2589503104863886, 2.259554422655928, 2.25833478101349, 2.25764332454874, 2.258208880824065, 2.2584034029258326, 2.259045993152842, 2.258605897916415, 2.26093211708676, 2.26048141427506, 2.260038412348035, 2.2592105981047412, 2.261037974652075, 2.260004140133068, 2.2600120926815346, 2.2597990370855663, 2.260406365024756, 2.2598702752143582, 2.2616867670917444, 2.2596609934426954, 2.2601697416113544, 2.259608744284638, 2.2594578585020653, 2.260124385826969, 2.259577577159486, 27162.306362184383, 7085.722818493864, 5674.041358879444, 4692.337800479564, 4112.451091719166, 2769.6997342695427, 2685.0224873304614, 2439.2875932852876, 2067.227332985876, 1833.3044041886067, 1776.966747721201, 678.2754390320019, 651.3994422544789, 482.04620161818315, 469.0124219913153, 453.14580147825194, 398.1852328817732, 385.11755139749096, 180.1077479853671, 13.563094675314595, 2.2580518359827986, 2.2580431212946097, 2.2580188421591605, 2.2580014160442117, 2.257967373447107, 2.2588765343977943, 2.2592062411480773, 2.259045993152842, 2.257521589114041, 2.25833478101349, 2.2581149883582476, 2.2587977937973656, 2.261037974652075, 2.2616867670917444, 2.2597990370855663, 2.26137420548067, 2.2606635781008886, 2.260406365024756, 2.26048141427506, 2.261901908803332, 2.26093211708676, 2.2601697416113544, 29536.553150203803, 10028.288320545103, 8127.967533461908, 2052.7825014844534, 1905.2416878583726, 1392.7578888726619, 1387.055558816102, 1344.588460291623, 446.12065776215115, 109.56402118625816, 2.2594578585020653, 2.26048141427506, 2.257565895072051, 2.258881583511983, 2.2600120926815346, 2.2576777542304423, 2.2576777542304423, 2.2576824792133716, 2.2579835276923816, 2.259608744284638, 2.2578974766565674, 2.260124385826969, 2.2576994421284198, 2.258059710445167, 2.2574992476976568, 2.257481580812267, 2.2575577442752186, 2.2591388676236375, 2.2575862663830373, 2.2576840845343633, 2.2601697416113544, 2.258993209853348, 2.2616867670917444, 2.26093211708676, 2.26137420548067, 2.259123339442536, 2.2606635781008886, 2.261037974652075, 2.260406365024756, 2.259554422655928, 2.2598702752143582, 2.2597990370855663, 2.260004140133068, 2.261901908803332, 2.2596609934426954, 2.260038412348035, 2.259577577159486, 40352.49053810018, 3806.4854161253456, 3716.56348659912, 3254.5701917934807, 2888.530384637488, 614.8440585303035, 417.80451288118763, 309.23871822737453, 216.49383749693786, 2.257456102809398, 2.2574731477518664, 2.2574440478960356, 2.2574191308394336, 2.2574191308394336, 2.25750093666232, 2.25742661509332, 2.257429372122399, 2.257429372122399, 2.2574384277821964, 2.2575800705245515, 2.257445609982347, 2.2574350402921906, 2.2574234904450794, 2.2574263395856433, 2.257418797284258, 2.2574198900810787, 2.2574198900810787, 2.2574198900810787, 2.257422338048963, 2.257420361192152, 2.2577611993548956, 2.2574330710514325, 2.2575525910622107, 2.25754378356352, 2.2574662281656344, 2.2596609934426954, 2.2575920829780314, 2.2583399727903366, 2.2577435628774256, 2.2580410802389843, 2.2577133334843267, 2.2590183731020286, 2.2592105981047412, 2.257645756339455, 2.25773156121703, 2.257718554069162, 2.2580518359827986, 2.2580431212946097, 2.2588765343977943, 2.25833478101349, 2.2580014160442117, 2.2580188421591605, 2.257967373447107, 2.2582421449265477, 2.2579016391925895, 2.259554422655928, 2.2585099071890866, 2.261037974652075, 2.2592062411480773, 2.258273461010839, 2.258993209853348, 2.2616867670917444, 2.2598702752143582, 2.2587275196643497, 2.26048141427506, 2.2606635781008886, 2.2601697416113544, 2.26137420548067, 2.260038412348035, 2.260406365024756, 2.260004140133068, 2.26093211708676, 2.261901908803332, 2.2594578585020653, 2.260124385826969, 2.2597990370855663, 2.2600120926815346, 12232.038328750223, 11976.336515654615, 8748.369521727767, 7458.3650733403065, 7009.7178574202335, 1809.5848222529019, 752.0765387238769, 652.6237384269591, 371.39131131324183, 316.64720007923813, 175.02685027935442, 2.258072915413272, 2.258522581219332, 2.2580518352514303, 2.257480552418937, 2.2575537515211317, 2.257592521253442, 2.2574104826868746, 2.257480658553383, 2.257481683439405, 2.257603907213945, 2.2574584360531906, 2.257623323021927, 2.2574654313437326, 2.257450716501574, 2.257430839345871, 2.257547765132689, 2.2574268368520416, 2.2574620660155356, 2.257431604237758, 2.257778109183951, 2.2577730618796656, 2.257727981949192, 2.258240314826534, 2.258196656588775, 2.2589763465268624, 2.2589590462590436, 2.257836556672306, 2.259060996668032, 2.259045993152842, 2.2594578585020653, 2.26137420548067, 2.259123339442536, 2.2584034029258326, 2.259554422655928, 2.2616867670917444, 2.260124385826969, 2.2585416878761233, 2.2587259685501735, 2.26048141427506, 2.260406365024756, 2.26093211708676, 2.261037974652075, 2.2601697416113544, 2.260038412348035, 2.2591388676236375, 2.2606635781008886, 2.261901908803332, 2.2598702752143582, 2.260004140133068, 2.2596609934426954, 2.2597990370855663, 2.2600120926815346, 2.259608744284638, 13051.596381474239, 11177.385250603838, 5725.229903325859, 3927.1191295082667, 1345.2162054023886, 1229.4098114954497, 983.3373050349147, 952.2477676535517, 829.5264242546455, 565.31121675888, 453.6109587403183, 403.44077713439935, 386.03116561690916, 303.01564833952466, 285.1187717101971, 248.27510129512757, 183.43183285916544, 2.258238009633871, 2.258238009633871, 2.25829773430714, 2.2586291303508714, 2.258558252171081, 2.258850002839812, 2.2592732250218086, 2.2576672836726184, 2.25901534734291, 2.258047749027027, 2.258376584886842, 2.258638106512717, 2.2574485620560285, 2.2586675121582878, 2.259577577159486, 2.260004140133068, 2.261901908803332, 2.2606635781008886, 2.2616867670917444, 2.26137420548067, 2.261037974652075, 2.26093211708676, 2.26048141427506, 2.260406365024756, 2.2601697416113544, 2.2598702752143582, 2.260038412348035, 12181.028672736122, 10502.760254927352, 7734.904161502924, 3982.0794944389568, 2848.2443508892916, 2690.1270826661666, 541.8497105877369, 2.2581076605206234, 2.257518757309612, 2.257469107911288, 2.257499954003811, 2.257428940431845, 2.257428940431845, 2.257429217986549, 2.257432036001846, 2.2577845285360314, 2.2574243841517614, 2.2576852613916634, 2.25748395697211, 2.257432543505033, 2.2575024342067294, 2.257421538978085, 2.257505591420286, 2.25744287035136, 2.257572936510967, 2.257489173929803, 2.2574475089260715, 2.2574777669260024, 2.257461554435027, 2.2574955173908733, 2.2578110067877732, 2.2579080621229197, 2.2578329315135655, 2.2575601209850658, 2.258460175238074, 2.257707831578437, 2.2576894865396318, 2.2578018086383587, 2.2577396793667877, 2.2586441993271738, 2.2584119790957646, 2.258601644903531, 2.257855981931797, 2.2589503104863886, 2.2584640128958102, 2.2578658356221455, 2.261037974652075, 2.2583729058972195, 2.260406365024756, 2.2583470726337778, 2.258432778439039, 2.2616867670917444, 2.26137420548067, 2.2597990370855663, 2.26048141427506, 2.259123339442536, 2.2606635781008886, 2.2588131383612575, 2.2587101613803173, 2.2590183731020286, 2.260038412348035, 2.2601697416113544, 2.26093211708676, 2.260004140133068, 2.2598702752143582, 2.2596609934426954, 2.260124385826969, 2.2594578585020653, 2.261901908803332, 2.2600120926815346, 2.259608744284638, 2.259554422655928, 2.259577577159486, 2.2592105981047412, 29331.854898218917, 8611.067182593632, 911.0399322147761, 709.7266482175935, 2.257747997732643, 2.258768019660544, 2.2580410802389843, 2.2574520695002773, 2.25750357922397, 2.25750357922397, 2.25750357922397, 2.2575433077695286, 2.2575083460584633, 2.2574964900944368, 2.2574964900944368, 2.257496186671754, 2.2578886881342974, 2.257467107749067, 2.2574837288865357, 2.2575463729733842, 2.257486778839123, 2.257501915079986, 2.257489580379457, 2.257500551148472, 2.257484318753905, 2.257429895121872, 2.2575164482207524, 2.2575743733776363, 2.2575550719287882, 2.257428232831803, 2.258164465398349, 2.2598702752143582, 2.2586628362306995, 2.260406365024756, 2.258144791874968, 2.2580708818757187, 2.25941700544584, 2.258499840732634, 2.2580205301749685, 2.261901908803332, 2.2616867670917444, 2.258636231394192, 2.2585198039371557, 2.260038412348035, 2.2587397350032656, 2.2587259685501735, 2.2585099071890866, 2.258857072989717, 2.258012433000344, 2.2606635781008886, 2.2584981408198144, 2.26137420548067, 2.26048141427506, 2.2601697416113544, 2.2600120926815346, 2.26093211708676, 2.261037974652075, 2.260004140133068, 2.260124385826969, 2.2597990370855663, 2.2594578585020653, 2.2590183731020286, 2.259577577159486, 2.2591388676236375, 2.2592105981047412, 2.259554422655928, 2.259608744284638, 2.2592732250218086, 2.2596609934426954, 2.2592062411480773, 10550.603539702719, 9810.638141917187, 3890.438516261758, 2392.200284318447, 2109.448499460507, 1952.492202269586, 1578.0869661655067, 1537.381008432455, 1154.9679296324587, 947.3090418798788, 603.8620270319465, 460.6219846365355, 376.6612430473705, 268.3167609861092, 200.92692182016478, 146.73704647149657, 2.2576916756425582, 2.258238009633871, 2.258238009633871, 2.2580518359827986, 2.2580431212946097, 2.2580188421591605, 2.25829773430714, 2.258558252171081, 2.2580014160442117, 2.257967373447107, 2.2575921464347455, 2.2577299569770126, 2.257601411320193, 2.257455431127268, 2.258376584886842, 2.25901534734291, 2.258850002839812, 2.2592732250218086, 2.259577577159486, 2.2592062411480773, 2.2588765343977943, 2.25941700544584, 2.26093211708676, 2.261901908803332, 2.26137420548067, 2.2616867670917444, 2.261037974652075, 2.2600120926815346, 2.26048141427506, 2.2606635781008886, 2.2601697416113544, 2.260406365024756, 2.260038412348035, 13796.14893415846, 5193.28868252715, 3661.7429979318695, 3634.0036930010133, 2960.6302830728046, 1394.9870836361274, 1355.252840881484, 1338.2241579183515, 1152.3083144062691, 935.8971227107929, 507.0979452538804, 402.0940755785206, 374.81344953163796, 56.38971203239717, 2.25833478101349, 2.258817138891706, 2.2577172981900984, 2.2574559632622706, 2.2574562328273786, 2.2575221214254615, 2.2574694802900463, 2.25748029030217, 2.2575582563556837, 2.2575015233046845, 2.257521589114041, 2.2574699196446786, 2.257472387600269, 2.2575580162839675, 2.257453464859898, 2.2574741161393668, 2.2577838987597083, 2.2577838987597083, 2.2577838987597083, 2.2577838987597083, 2.2578706424045314, 2.258601644903531, 2.257777756760491, 2.2580741178279466, 2.257795215734601, 2.257736135855947, 2.2580553473500915, 2.259554422655928, 2.2596609934426954, 2.258207143333253, 2.258522581219332, 2.2587397350032656, 2.2616867670917444, 2.259123339442536, 2.2587977937973656, 2.2590183731020286, 2.26048141427506, 2.2591388676236375, 2.2592105981047412, 2.261037974652075, 2.2606635781008886, 2.26093211708676, 2.260406365024756, 2.260038412348035, 2.26137420548067, 2.2598702752143582, 2.261901908803332, 2.2597990370855663, 2.2600120926815346, 2.2601697416113544, 2.260124385826969, 27288.573250051024, 345.9153136679584, 2.258238009633871, 2.258238009633871, 2.258558252171081, 2.25829773430714, 2.2592732250218086, 2.258850002839812, 2.25901534734291, 2.259577577159486, 2.2586291303508714, 2.2580014160442117, 2.2580518359827986, 2.2580431212946097, 2.2580188421591605, 2.257967373447107, 2.260004140133068, 2.2592062411480773, 2.2588765343977943, 2.257801769853878, 2.2576672836726184, 2.25747564840111, 2.2576777542304423, 2.2576777542304423, 2.2576824792133716, 2.2575862663830373, 2.257464293118136, 2.257460606188464, 2.2574898491954998, 2.2576840845343633, 2.261901908803332, 2.2579835276923816, 2.2606635781008886, 2.258638106512717, 2.2586675121582878, 2.261037974652075, 2.26048141427506, 2.26137420548067, 2.260406365024756, 2.2616867670917444, 2.26093211708676, 2.25941700544584, 2.2598702752143582, 2.2601697416113544, 5323.888332004129, 4089.438740854023, 3518.672669061076, 2.2576062646945987, 2.2575345466891767, 2.2575637264449644, 2.257607014802178, 2.257466384580413, 2.257466409215651, 2.2574961004094685, 2.2576508474253956, 2.2575099037689106, 2.2575106591941263, 2.257534412655842, 2.2575106821586295, 2.2574865489841605, 2.2574865489841605, 2.2574865489841605, 2.2574865557112753, 2.257452497590019, 2.2574362655724585, 2.257429721734769, 2.257429721734769, 2.2574297485765165, 2.2574341447922084, 2.257481695959314, 2.2574581080118925, 2.257459496981946, 2.257549340577984, 2.257463551185308, 2.2577882010628554, 2.2578325208747496, 2.2578827020424246, 2.2578925598527184, 2.260038412348035, 2.2578410962657425, 2.257587025339167, 2.2576466189171693, 2.258601644903531, 2.26093211708676, 2.2592105981047412, 2.2589503104863886, 2.2586441993271738, 2.259577577159486, 2.260406365024756, 2.2585198039371557, 2.2585416878761233, 2.258857072989717, 2.26137420548067, 2.2592732250218086, 2.26048141427506, 2.2616867670917444, 2.2606635781008886, 2.2601697416113544, 2.2598702752143582, 2.2588019315924277, 2.261901908803332, 2.261037974652075, 2.260004140133068, 2.260124385826969, 2.2596609934426954, 2.259554422655928, 2.2600120926815346, 2.2597990370855663, 2.2590183731020286, 2.259608744284638, 2.2574029703451393, 2.2574029703451393, 2.2574029703451393, 2.2574029703451393, 2.2574029703451393, 2.2574029703451393, 2.2574029703451393, 2.2574029703451393, 2.2574029703451393, 2.2574029703451393, 2.2574029703451393, 2.2574029703451393, 2.2574029703451393, 2.2574029703451393, 2.2574029703451393, 2.2574029703451393, 2.2574029703451393, 2.2574029703451393, 2.2574029703451393, 2.2574029703451393, 2.2574029703451393, 2.2574029703451393, 2.2574029703451393, 2.2574029703451393, 2.2574029703451393, 2.2574029703451393, 2.2574029703451393, 2.2574029703451393, 2.2574029703451393, 2.2574029703451393, 5907.373410656319, 19889.812879254743, 26682.48377907353, 64179.53349828656, 6126.123592101126, 61162.91451683998, 3890.438516261758, 935.8971227107929, 4114.264327315753, 12181.028672736122, 2.2574357328477586, 7637.542064814059, 316.64720007923813, 829.5264242546455, 8127.967533461908, 29929.594841676597, 2.257408806439064, 15284.044443887262, 1725.600995400554, 13114.970616897504, 24987.874420829838, 2.25743688672928, 109.56402118625816, 608.7642926640384, 41.72653094555706], \"Category\": [\"Default\", \"Default\", \"Default\", \"Default\", \"Default\", \"Default\", \"Default\", \"Default\", \"Default\", \"Default\", \"Default\", \"Default\", \"Default\", \"Default\", \"Default\", \"Default\", \"Default\", \"Default\", \"Default\", \"Default\", \"Default\", \"Default\", \"Default\", \"Default\", \"Default\", \"Default\", \"Default\", \"Default\", \"Default\", \"Default\", \"Topic1\", \"Topic1\", \"Topic1\", \"Topic1\", \"Topic1\", \"Topic1\", \"Topic1\", \"Topic1\", \"Topic1\", \"Topic1\", \"Topic1\", \"Topic1\", \"Topic1\", \"Topic1\", \"Topic1\", \"Topic1\", \"Topic1\", \"Topic1\", \"Topic1\", \"Topic1\", \"Topic1\", \"Topic1\", \"Topic1\", \"Topic1\", \"Topic1\", \"Topic1\", \"Topic1\", \"Topic1\", \"Topic1\", \"Topic1\", \"Topic1\", \"Topic1\", \"Topic2\", \"Topic2\", \"Topic2\", \"Topic2\", \"Topic2\", \"Topic2\", \"Topic2\", \"Topic2\", \"Topic2\", \"Topic2\", \"Topic2\", \"Topic2\", \"Topic2\", \"Topic2\", \"Topic2\", \"Topic2\", \"Topic2\", \"Topic2\", \"Topic2\", \"Topic2\", \"Topic2\", \"Topic2\", \"Topic2\", \"Topic2\", \"Topic2\", \"Topic2\", \"Topic2\", \"Topic2\", \"Topic2\", \"Topic2\", \"Topic2\", \"Topic2\", \"Topic2\", \"Topic3\", \"Topic3\", \"Topic3\", \"Topic3\", \"Topic3\", \"Topic3\", \"Topic3\", \"Topic3\", \"Topic3\", \"Topic3\", \"Topic3\", \"Topic3\", \"Topic3\", \"Topic3\", \"Topic3\", \"Topic3\", \"Topic3\", \"Topic3\", \"Topic3\", \"Topic3\", \"Topic3\", \"Topic3\", \"Topic3\", \"Topic3\", \"Topic3\", \"Topic3\", \"Topic3\", \"Topic3\", \"Topic3\", \"Topic3\", \"Topic3\", \"Topic3\", \"Topic3\", \"Topic3\", \"Topic4\", \"Topic4\", \"Topic4\", \"Topic4\", \"Topic4\", \"Topic4\", \"Topic4\", \"Topic4\", \"Topic4\", \"Topic4\", \"Topic4\", \"Topic4\", \"Topic4\", \"Topic4\", \"Topic4\", \"Topic4\", \"Topic4\", \"Topic4\", \"Topic4\", \"Topic4\", \"Topic4\", \"Topic4\", \"Topic4\", \"Topic4\", \"Topic4\", \"Topic4\", \"Topic4\", \"Topic4\", \"Topic4\", \"Topic4\", \"Topic4\", \"Topic4\", \"Topic4\", \"Topic4\", \"Topic4\", \"Topic4\", \"Topic5\", \"Topic5\", \"Topic5\", \"Topic5\", \"Topic5\", \"Topic5\", \"Topic5\", \"Topic5\", \"Topic5\", \"Topic5\", \"Topic5\", \"Topic5\", \"Topic5\", \"Topic5\", \"Topic5\", \"Topic5\", \"Topic5\", \"Topic5\", \"Topic5\", \"Topic5\", \"Topic5\", \"Topic5\", \"Topic5\", \"Topic5\", \"Topic5\", \"Topic5\", \"Topic5\", \"Topic5\", \"Topic5\", \"Topic5\", \"Topic5\", \"Topic5\", \"Topic5\", \"Topic6\", \"Topic6\", \"Topic6\", \"Topic6\", \"Topic6\", \"Topic6\", \"Topic6\", \"Topic6\", \"Topic6\", \"Topic6\", \"Topic6\", \"Topic6\", \"Topic6\", \"Topic6\", \"Topic6\", \"Topic6\", \"Topic6\", \"Topic6\", \"Topic6\", \"Topic6\", \"Topic6\", \"Topic6\", \"Topic6\", \"Topic6\", \"Topic6\", \"Topic6\", \"Topic6\", \"Topic6\", \"Topic6\", \"Topic6\", \"Topic6\", \"Topic6\", \"Topic6\", \"Topic6\", \"Topic6\", \"Topic6\", \"Topic6\", \"Topic6\", \"Topic6\", \"Topic7\", \"Topic7\", \"Topic7\", \"Topic7\", \"Topic7\", \"Topic7\", \"Topic7\", \"Topic7\", \"Topic7\", \"Topic7\", \"Topic7\", \"Topic7\", \"Topic7\", \"Topic7\", \"Topic7\", \"Topic7\", \"Topic7\", \"Topic7\", \"Topic7\", \"Topic7\", \"Topic7\", \"Topic7\", \"Topic7\", \"Topic7\", \"Topic7\", \"Topic7\", \"Topic7\", \"Topic7\", \"Topic7\", \"Topic7\", \"Topic7\", \"Topic7\", \"Topic7\", \"Topic7\", \"Topic7\", \"Topic7\", \"Topic7\", \"Topic8\", \"Topic8\", \"Topic8\", \"Topic8\", \"Topic8\", \"Topic8\", \"Topic8\", \"Topic8\", \"Topic8\", \"Topic8\", \"Topic8\", \"Topic8\", \"Topic8\", \"Topic8\", \"Topic8\", \"Topic8\", \"Topic8\", \"Topic8\", \"Topic8\", \"Topic8\", \"Topic8\", \"Topic8\", \"Topic8\", \"Topic8\", \"Topic8\", \"Topic8\", \"Topic8\", \"Topic8\", \"Topic8\", \"Topic8\", \"Topic8\", \"Topic8\", \"Topic8\", \"Topic8\", \"Topic8\", \"Topic8\", \"Topic8\", \"Topic8\", \"Topic8\", \"Topic8\", \"Topic8\", \"Topic8\", \"Topic8\", \"Topic8\", \"Topic8\", \"Topic8\", \"Topic8\", \"Topic8\", \"Topic9\", \"Topic9\", \"Topic9\", \"Topic9\", \"Topic9\", \"Topic9\", \"Topic9\", \"Topic9\", \"Topic9\", \"Topic9\", \"Topic9\", \"Topic9\", \"Topic9\", \"Topic9\", \"Topic9\", \"Topic9\", \"Topic9\", \"Topic9\", \"Topic9\", \"Topic9\", \"Topic9\", \"Topic9\", \"Topic9\", \"Topic9\", \"Topic9\", \"Topic9\", \"Topic9\", \"Topic9\", \"Topic9\", \"Topic9\", \"Topic9\", \"Topic9\", \"Topic9\", \"Topic9\", \"Topic9\", \"Topic9\", \"Topic9\", \"Topic9\", \"Topic9\", \"Topic9\", \"Topic9\", \"Topic9\", \"Topic10\", \"Topic10\", \"Topic10\", \"Topic10\", \"Topic10\", \"Topic10\", \"Topic10\", \"Topic10\", \"Topic10\", \"Topic10\", \"Topic10\", \"Topic10\", \"Topic10\", \"Topic10\", \"Topic10\", \"Topic10\", \"Topic10\", \"Topic10\", \"Topic10\", \"Topic10\", \"Topic10\", \"Topic10\", \"Topic10\", \"Topic10\", \"Topic10\", \"Topic10\", \"Topic10\", \"Topic10\", \"Topic10\", \"Topic10\", \"Topic10\", \"Topic10\", \"Topic10\", \"Topic10\", \"Topic10\", \"Topic10\", \"Topic10\", \"Topic10\", \"Topic10\", \"Topic10\", \"Topic10\", \"Topic10\", \"Topic10\", \"Topic10\", \"Topic10\", \"Topic10\", \"Topic10\", \"Topic11\", \"Topic11\", \"Topic11\", \"Topic11\", \"Topic11\", \"Topic11\", \"Topic11\", \"Topic11\", \"Topic11\", \"Topic11\", \"Topic11\", \"Topic11\", \"Topic11\", \"Topic11\", \"Topic11\", \"Topic11\", \"Topic11\", \"Topic11\", \"Topic11\", \"Topic11\", \"Topic11\", \"Topic11\", \"Topic11\", \"Topic11\", \"Topic11\", \"Topic11\", \"Topic11\", \"Topic11\", \"Topic11\", \"Topic11\", \"Topic11\", \"Topic11\", \"Topic11\", \"Topic11\", \"Topic11\", \"Topic11\", \"Topic11\", \"Topic11\", \"Topic11\", \"Topic11\", \"Topic11\", \"Topic11\", \"Topic11\", \"Topic11\", \"Topic11\", \"Topic11\", \"Topic11\", \"Topic11\", \"Topic11\", \"Topic11\", \"Topic11\", \"Topic11\", \"Topic11\", \"Topic11\", \"Topic11\", \"Topic11\", \"Topic11\", \"Topic11\", \"Topic11\", \"Topic11\", \"Topic11\", \"Topic11\", \"Topic11\", \"Topic11\", \"Topic11\", \"Topic11\", \"Topic11\", \"Topic11\", \"Topic11\", \"Topic11\", \"Topic11\", \"Topic11\", \"Topic11\", \"Topic11\", \"Topic11\", \"Topic11\", \"Topic11\", \"Topic12\", \"Topic12\", \"Topic12\", \"Topic12\", \"Topic12\", \"Topic12\", \"Topic12\", \"Topic12\", \"Topic12\", \"Topic12\", \"Topic12\", \"Topic12\", \"Topic12\", \"Topic12\", \"Topic12\", \"Topic12\", \"Topic12\", \"Topic12\", \"Topic12\", \"Topic12\", \"Topic12\", \"Topic12\", \"Topic12\", \"Topic12\", \"Topic12\", \"Topic12\", \"Topic12\", \"Topic12\", \"Topic12\", \"Topic12\", \"Topic12\", \"Topic12\", \"Topic12\", \"Topic12\", \"Topic12\", \"Topic12\", \"Topic12\", \"Topic12\", \"Topic12\", \"Topic12\", \"Topic12\", \"Topic12\", \"Topic12\", \"Topic12\", \"Topic12\", \"Topic12\", \"Topic12\", \"Topic12\", \"Topic12\", \"Topic12\", \"Topic12\", \"Topic12\", \"Topic12\", \"Topic12\", \"Topic12\", \"Topic12\", \"Topic12\", \"Topic12\", \"Topic12\", \"Topic12\", \"Topic12\", \"Topic12\", \"Topic12\", \"Topic12\", \"Topic13\", \"Topic13\", \"Topic13\", \"Topic13\", \"Topic13\", \"Topic13\", \"Topic13\", \"Topic13\", \"Topic13\", \"Topic13\", \"Topic13\", \"Topic13\", \"Topic13\", \"Topic13\", \"Topic13\", \"Topic13\", \"Topic13\", \"Topic13\", \"Topic13\", \"Topic13\", \"Topic13\", \"Topic13\", \"Topic13\", \"Topic13\", \"Topic13\", \"Topic13\", \"Topic13\", \"Topic13\", \"Topic13\", \"Topic13\", \"Topic13\", \"Topic13\", \"Topic13\", \"Topic13\", \"Topic13\", \"Topic13\", \"Topic13\", \"Topic13\", \"Topic13\", \"Topic13\", \"Topic13\", \"Topic13\", \"Topic13\", \"Topic13\", \"Topic14\", \"Topic14\", \"Topic14\", \"Topic14\", \"Topic14\", \"Topic14\", \"Topic14\", \"Topic14\", \"Topic14\", \"Topic14\", \"Topic14\", \"Topic14\", \"Topic14\", \"Topic14\", \"Topic14\", \"Topic14\", \"Topic14\", \"Topic14\", \"Topic14\", \"Topic14\", \"Topic14\", \"Topic14\", \"Topic14\", \"Topic14\", \"Topic14\", \"Topic14\", \"Topic14\", \"Topic14\", \"Topic14\", \"Topic14\", \"Topic14\", \"Topic14\", \"Topic14\", \"Topic14\", \"Topic14\", \"Topic14\", \"Topic14\", \"Topic14\", \"Topic14\", \"Topic14\", \"Topic14\", \"Topic14\", \"Topic14\", \"Topic14\", \"Topic14\", \"Topic14\", \"Topic14\", \"Topic14\", \"Topic14\", \"Topic14\", \"Topic14\", \"Topic14\", \"Topic14\", \"Topic14\", \"Topic14\", \"Topic14\", \"Topic14\", \"Topic14\", \"Topic14\", \"Topic14\", \"Topic14\", \"Topic14\", \"Topic14\", \"Topic14\", \"Topic14\", \"Topic14\", \"Topic14\", \"Topic14\", \"Topic14\", \"Topic14\", \"Topic14\", \"Topic14\", \"Topic14\", \"Topic14\", \"Topic15\", \"Topic15\", \"Topic15\", \"Topic15\", \"Topic15\", \"Topic15\", \"Topic15\", \"Topic15\", \"Topic15\", \"Topic15\", \"Topic15\", \"Topic15\", \"Topic15\", \"Topic15\", \"Topic15\", \"Topic15\", \"Topic15\", \"Topic15\", \"Topic15\", \"Topic15\", \"Topic15\", \"Topic15\", \"Topic15\", \"Topic15\", \"Topic15\", \"Topic15\", \"Topic15\", \"Topic15\", \"Topic15\", \"Topic15\", \"Topic15\", \"Topic15\", \"Topic15\", \"Topic15\", \"Topic15\", \"Topic15\", \"Topic15\", \"Topic15\", \"Topic15\", \"Topic15\", \"Topic15\", \"Topic15\", \"Topic15\", \"Topic15\", \"Topic15\", \"Topic15\", \"Topic15\", \"Topic15\", \"Topic15\", \"Topic15\", \"Topic15\", \"Topic15\", \"Topic15\", \"Topic15\", \"Topic15\", \"Topic15\", \"Topic15\", \"Topic15\", \"Topic15\", \"Topic15\", \"Topic15\", \"Topic15\", \"Topic15\", \"Topic15\", \"Topic15\", \"Topic15\", \"Topic15\", \"Topic15\", \"Topic15\", \"Topic15\", \"Topic16\", \"Topic16\", \"Topic16\", \"Topic16\", \"Topic16\", \"Topic16\", \"Topic16\", \"Topic16\", \"Topic16\", \"Topic16\", \"Topic16\", \"Topic16\", \"Topic16\", \"Topic16\", \"Topic16\", \"Topic16\", \"Topic16\", \"Topic16\", \"Topic16\", \"Topic16\", \"Topic16\", \"Topic16\", \"Topic16\", \"Topic16\", \"Topic16\", \"Topic16\", \"Topic16\", \"Topic16\", \"Topic16\", \"Topic16\", \"Topic16\", \"Topic16\", \"Topic16\", \"Topic16\", \"Topic16\", \"Topic16\", \"Topic16\", \"Topic16\", \"Topic16\", \"Topic16\", \"Topic16\", \"Topic16\", \"Topic16\", \"Topic16\", \"Topic16\", \"Topic16\", \"Topic16\", \"Topic16\", \"Topic16\", \"Topic17\", \"Topic17\", \"Topic17\", \"Topic17\", \"Topic17\", \"Topic17\", \"Topic17\", \"Topic17\", \"Topic17\", \"Topic17\", \"Topic17\", \"Topic17\", \"Topic17\", \"Topic17\", \"Topic17\", \"Topic17\", \"Topic17\", \"Topic17\", \"Topic17\", \"Topic17\", \"Topic17\", \"Topic17\", \"Topic17\", \"Topic17\", \"Topic17\", \"Topic17\", \"Topic17\", \"Topic17\", \"Topic17\", \"Topic17\", \"Topic17\", \"Topic17\", \"Topic17\", \"Topic17\", \"Topic17\", \"Topic17\", \"Topic17\", \"Topic17\", \"Topic17\", \"Topic17\", \"Topic17\", \"Topic17\", \"Topic17\", \"Topic17\", \"Topic17\", \"Topic17\", \"Topic17\", \"Topic17\", \"Topic17\", \"Topic17\", \"Topic17\", \"Topic17\", \"Topic17\", \"Topic17\", \"Topic17\", \"Topic17\", \"Topic17\", \"Topic17\", \"Topic17\", \"Topic17\", \"Topic17\", \"Topic17\", \"Topic17\", \"Topic17\", \"Topic17\", \"Topic18\", \"Topic18\", \"Topic18\", \"Topic18\", \"Topic18\", \"Topic18\", \"Topic18\", \"Topic18\", \"Topic18\", \"Topic18\", \"Topic18\", \"Topic18\", \"Topic18\", \"Topic18\", \"Topic18\", \"Topic18\", \"Topic18\", \"Topic18\", \"Topic18\", \"Topic18\", \"Topic18\", \"Topic18\", \"Topic18\", \"Topic18\", \"Topic18\", \"Topic18\", \"Topic18\", \"Topic18\", \"Topic18\", \"Topic18\", \"Topic18\", \"Topic18\", \"Topic18\", \"Topic18\", \"Topic18\", \"Topic18\", \"Topic18\", \"Topic18\", \"Topic18\", \"Topic18\", \"Topic18\", \"Topic18\", \"Topic18\", \"Topic18\", \"Topic19\", \"Topic19\", \"Topic19\", \"Topic19\", \"Topic19\", \"Topic19\", \"Topic19\", \"Topic19\", \"Topic19\", \"Topic19\", \"Topic19\", \"Topic19\", \"Topic19\", \"Topic19\", \"Topic19\", \"Topic19\", \"Topic19\", \"Topic19\", \"Topic19\", \"Topic19\", \"Topic19\", \"Topic19\", \"Topic19\", \"Topic19\", \"Topic19\", \"Topic19\", \"Topic19\", \"Topic19\", \"Topic19\", \"Topic19\", \"Topic19\", \"Topic19\", \"Topic19\", \"Topic19\", \"Topic19\", \"Topic19\", \"Topic19\", \"Topic19\", \"Topic19\", \"Topic19\", \"Topic19\", \"Topic19\", \"Topic19\", \"Topic19\", \"Topic19\", \"Topic19\", \"Topic19\", \"Topic19\", \"Topic19\", \"Topic19\", \"Topic19\", \"Topic19\", \"Topic19\", \"Topic19\", \"Topic19\", \"Topic19\", \"Topic19\", \"Topic19\", \"Topic19\", \"Topic19\", \"Topic19\", \"Topic19\", \"Topic19\", \"Topic19\", \"Topic19\", \"Topic19\", \"Topic20\", \"Topic20\", \"Topic20\", \"Topic20\", \"Topic20\", \"Topic20\", \"Topic20\", \"Topic20\", \"Topic20\", \"Topic20\", \"Topic20\", \"Topic20\", \"Topic20\", \"Topic20\", \"Topic20\", \"Topic20\", \"Topic20\", \"Topic20\", \"Topic20\", \"Topic20\", \"Topic20\", \"Topic20\", \"Topic20\", \"Topic20\", \"Topic20\", \"Topic20\", \"Topic20\", \"Topic20\", \"Topic20\", \"Topic20\", \"Topic20\", \"Topic20\", \"Topic20\", \"Topic20\", \"Topic20\", \"Topic20\", \"Topic20\", \"Topic20\", \"Topic20\", \"Topic20\", \"Topic20\", \"Topic20\", \"Topic20\", \"Topic20\", \"Topic20\", \"Topic20\", \"Topic20\", \"Topic20\", \"Topic20\", \"Topic20\", \"Topic20\", \"Topic20\", \"Topic20\", \"Topic20\", \"Topic20\"], \"logprob\": [30.0, 29.0, 28.0, 27.0, 26.0, 25.0, 24.0, 23.0, 22.0, 21.0, 20.0, 19.0, 18.0, 17.0, 16.0, 15.0, 14.0, 13.0, 12.0, 11.0, 10.0, 9.0, 8.0, 7.0, 6.0, 5.0, 4.0, 3.0, 2.0, 1.0, -1.0136, -1.0617, -2.4489, -2.7851, -3.1424, -3.2987, -3.9609, -5.1974, -5.4617, -5.832, -5.8949, -13.9905, -13.9906, -13.9904, -13.9908, -13.9912, -13.9912, -13.9909, -13.9911, -13.9912, -13.9916, -13.9915, -13.9914, -13.9915, -13.9914, -13.9914, -13.9916, -13.9915, -13.9917, -13.9919, -13.9918, -13.9918, -1.7043, -1.8065, -1.8427, -2.1814, -2.398, -3.0609, -3.119, -3.258, -3.5409, -3.7175, -4.3398, -4.3869, -4.4311, -4.6286, -5.0515, -5.0803, -5.4302, -5.4311, -5.6111, -5.6181, -6.1299, -6.329, -6.8579, -7.0804, -8.1607, -14.045, -14.0457, -14.0452, -14.045, -14.0462, -14.0456, -14.0454, -14.0452, -1.2571, -1.5145, -1.6293, -2.301, -3.0235, -3.1566, -3.1641, -4.0982, -4.6694, -13.6516, -13.6519, -13.6516, -13.6513, -13.6525, -13.6515, -13.6526, -13.6526, -13.6517, -13.6523, -13.6521, -13.6514, -13.652, -13.6528, -13.6522, -13.6531, -13.6522, -13.6525, -13.6525, -13.6532, -13.6524, -13.6525, -13.6527, -13.6526, -13.6527, -0.9764, -1.6297, -2.5244, -2.5577, -2.9328, -3.1089, -3.6336, -3.7423, -3.7486, -3.8263, -4.0307, -5.0066, -5.0774, -5.4411, -5.7545, -13.6969, -13.6971, -13.6973, -13.6977, -13.6979, -13.6976, -13.6975, -13.697, -13.6977, -13.6983, -13.698, -13.6986, -13.6978, -13.698, -13.6986, -13.6981, -13.6974, -13.6978, -13.6976, -13.6978, -13.6978, -1.0114, -1.5681, -2.0415, -2.5596, -3.0417, -3.104, -3.3183, -4.2021, -5.2322, -6.4029, -13.0913, -13.0919, -13.0921, -13.0923, -13.0925, -13.0928, -13.0927, -13.093, -13.0929, -13.0931, -13.0932, -13.0932, -13.0935, -13.0933, -13.0934, -13.0933, -13.0939, -13.0939, -13.0937, -13.0935, -13.0935, -13.0937, -13.0937, -1.5698, -1.9166, -2.2369, -2.4717, -2.5371, -2.7196, -2.7276, -2.7327, -2.9551, -3.0739, -5.0476, -5.186, -5.2549, -5.8531, -6.7781, -13.2688, -13.2698, -13.2705, -13.2702, -13.2697, -13.2707, -13.2693, -13.2707, -13.2708, -13.2711, -13.2701, -13.2697, -13.2703, -13.2708, -13.2711, -13.2696, -13.27, -13.2697, -13.27, -13.2702, -13.2703, -13.2703, -13.2702, -13.2702, -1.0836, -1.5753, -1.7283, -2.5158, -2.888, -3.261, -4.2454, -4.3544, -5.0367, -13.1112, -13.1115, -13.113, -13.113, -13.1123, -13.1126, -13.113, -13.112, -13.1122, -13.1127, -13.1131, -13.1125, -13.1121, -13.1124, -13.112, -13.1118, -13.113, -13.113, -13.113, -13.1124, -13.1127, -13.1123, -13.1126, -13.1127, -13.1125, -13.1125, -13.1126, -13.1127, -1.339, -1.5999, -2.0534, -2.4179, -2.7603, -2.8663, -2.9965, -3.2711, -3.3496, -4.3255, -13.2103, -13.2109, -13.212, -13.2118, -13.212, -13.2119, -13.2122, -13.2106, -13.2117, -13.2119, -13.212, -13.2121, -13.2122, -13.2117, -13.2114, -13.212, -13.2123, -13.212, -13.2119, -13.2116, -13.2118, -13.2108, -13.211, -13.2112, -13.2116, -13.2108, -13.2112, -13.2112, -13.2113, -13.2111, -13.2113, -13.2106, -13.2114, -13.2112, -13.2114, -13.2115, -13.2113, -13.2115, -0.9325, -2.2764, -2.4987, -2.6888, -2.8207, -3.2163, -3.2473, -3.3434, -3.5091, -3.6293, -3.6605, -4.6256, -4.6662, -4.9684, -4.996, -5.0306, -5.1605, -5.1941, -5.9605, -8.7088, -13.5551, -13.5551, -13.5551, -13.5551, -13.5551, -13.5547, -13.5546, -13.5547, -13.5554, -13.5551, -13.5552, -13.5549, -13.5541, -13.5539, -13.5546, -13.5541, -13.5544, -13.5544, -13.5544, -13.5541, -13.5544, -13.5545, -0.7258, -1.8061, -2.0163, -3.3932, -3.4678, -3.7816, -3.7857, -3.8168, -4.9232, -6.3421, -12.9931, -12.9928, -12.9941, -12.9935, -12.993, -12.9941, -12.9941, -12.9941, -12.9939, -12.9932, -12.994, -12.993, -12.9941, -12.9939, -12.9942, -12.9942, -12.9942, -12.9935, -12.9941, -12.9941, -12.993, -12.9935, -12.9924, -12.9927, -12.9925, -12.9935, -12.9928, -12.9927, -12.993, -12.9933, -12.9932, -12.9932, -12.9932, -12.9925, -12.9933, -12.9932, -12.9934, -0.3551, -2.7166, -2.7405, -2.8733, -2.9927, -4.5427, -4.9307, -5.2335, -5.5931, -13.7958, -13.7958, -13.7958, -13.7958, -13.7958, -13.7958, -13.7958, -13.7958, -13.7958, -13.7958, -13.7958, -13.7958, -13.7958, -13.7958, -13.7958, -13.7958, -13.7958, -13.7958, -13.7958, -13.7958, -13.7958, -13.7957, -13.7958, -13.7958, -13.7958, -13.7958, -13.795, -13.7958, -13.7955, -13.7957, -13.7956, -13.7957, -13.7953, -13.7953, -13.7958, -13.7957, -13.7957, -13.7956, -13.7956, -13.7954, -13.7956, -13.7957, -13.7957, -13.7957, -13.7956, -13.7957, -13.7953, -13.7956, -13.795, -13.7954, -13.7956, -13.7955, -13.7949, -13.7953, -13.7955, -13.7952, -13.7952, -13.7953, -13.795, -13.7953, -13.7952, -13.7953, -13.7952, -13.7951, -13.7954, -13.7953, -13.7954, -13.7954, -1.5118, -1.533, -1.8471, -2.0067, -2.0687, -3.4238, -4.3035, -4.4458, -5.012, -5.1725, -5.7708, -13.067, -13.0668, -13.067, -13.0673, -13.0673, -13.0673, -13.0673, -13.0673, -13.0673, -13.0673, -13.0673, -13.0673, -13.0673, -13.0673, -13.0673, -13.0673, -13.0673, -13.0673, -13.0673, -13.0672, -13.0672, -13.0672, -13.067, -13.067, -13.0667, -13.0667, -13.0672, -13.0667, -13.0667, -13.0665, -13.0658, -13.0667, -13.0669, -13.0665, -13.0657, -13.0663, -13.0669, -13.0668, -13.0662, -13.0662, -13.0661, -13.066, -13.0663, -13.0664, -13.0667, -13.0662, -13.0659, -13.0665, -13.0665, -13.0665, -13.0665, -13.0665, -13.0666, -1.2437, -1.3987, -2.0679, -2.4451, -3.5175, -3.6076, -3.8314, -3.8636, -4.0019, -4.3866, -4.6077, -4.7255, -4.7699, -5.0135, -5.0749, -5.2144, -5.5202, -13.0682, -13.0682, -13.0682, -13.0681, -13.0681, -13.068, -13.0679, -13.0686, -13.068, -13.0684, -13.0683, -13.0681, -13.0687, -13.0681, -13.0678, -13.0676, -13.067, -13.0675, -13.0673, -13.0674, -13.0675, -13.0677, -13.0678, -13.0678, -13.0678, -13.0679, -13.0679, -1.2835, -1.4317, -1.7377, -2.4019, -2.7372, -2.7944, -4.3999, -12.9675, -12.9678, -12.9678, -12.9678, -12.9679, -12.9679, -12.9679, -12.9679, -12.9677, -12.9679, -12.9677, -12.9678, -12.9679, -12.9678, -12.9679, -12.9678, -12.9679, -12.9678, -12.9678, -12.9679, -12.9678, -12.9679, -12.9678, -12.9677, -12.9677, -12.9677, -12.9678, -12.9675, -12.9678, -12.9678, -12.9677, -12.9677, -12.9674, -12.9675, -12.9674, -12.9677, -12.9674, -12.9675, -12.9677, -12.9667, -12.9676, -12.9669, -12.9676, -12.9675, -12.9666, -12.9667, -12.9672, -12.967, -12.9674, -12.967, -12.9674, -12.9675, -12.9674, -12.9671, -12.9671, -12.9669, -12.9672, -12.9672, -12.9673, -12.9672, -12.9673, -12.9668, -12.9672, -12.9673, -12.9673, -12.9673, -12.9674, -0.3941, -1.6199, -3.8682, -4.1186, -12.8354, -12.8351, -12.8354, -12.8357, -12.8357, -12.8357, -12.8357, -12.8357, -12.8357, -12.8357, -12.8357, -12.8357, -12.8355, -12.8357, -12.8357, -12.8357, -12.8357, -12.8357, -12.8357, -12.8357, -12.8357, -12.8357, -12.8357, -12.8357, -12.8357, -12.8357, -12.8354, -12.8347, -12.8352, -12.8345, -12.8354, -12.8355, -12.835, -12.8353, -12.8355, -12.8341, -12.8342, -12.8353, -12.8353, -12.8348, -12.8353, -12.8353, -12.8353, -12.8352, -12.8355, -12.8346, -12.8354, -12.8344, -12.8347, -12.8348, -12.8349, -12.8346, -12.8346, -12.8349, -12.8349, -12.835, -12.8351, -12.8352, -12.8351, -12.8352, -12.8352, -12.8351, -12.8351, -12.8352, -12.8351, -12.8352, -1.3632, -1.4359, -2.3612, -2.8478, -2.9738, -3.0512, -3.2643, -3.2905, -3.577, -3.7756, -4.2272, -4.499, -4.7013, -5.0428, -5.3348, -5.6531, -12.964, -12.9638, -12.9638, -12.9639, -12.9639, -12.9639, -12.9637, -12.9637, -12.9639, -12.9639, -12.9641, -12.9641, -12.9641, -12.9642, -12.9638, -12.9635, -12.9636, -12.9635, -12.9634, -12.9636, -12.9637, -12.9635, -12.9632, -12.963, -12.9631, -12.9631, -12.9633, -12.9634, -12.9634, -12.9634, -12.9635, -12.9635, -12.9635, -1.07, -2.0473, -2.3969, -2.4045, -2.6095, -3.3629, -3.3918, -3.4045, -3.5543, -3.7628, -4.3775, -4.6107, -4.6813, -6.6087, -12.8803, -12.8801, -12.8806, -12.8808, -12.8808, -12.8807, -12.8808, -12.8808, -12.8807, -12.8808, -12.8808, -12.8808, -12.8808, -12.8807, -12.8808, -12.8808, -12.8806, -12.8806, -12.8806, -12.8806, -12.8806, -12.8803, -12.8807, -12.8805, -12.8806, -12.8807, -12.8806, -12.8801, -12.88, -12.8805, -12.8804, -12.8804, -12.8795, -12.8803, -12.8803, -12.8803, -12.8799, -12.8803, -12.8802, -12.8798, -12.8799, -12.8798, -12.8799, -12.88, -12.8797, -12.8801, -12.8797, -12.8801, -12.8801, -12.8801, -12.8801, -0.0809, -4.4552, -13.1489, -13.1489, -13.1488, -13.1489, -13.1486, -13.1488, -13.1488, -13.1486, -13.1495, -13.15, -13.15, -13.15, -13.1501, -13.1501, -13.1492, -13.1497, -13.1499, -13.1504, -13.1505, -13.1506, -13.1505, -13.1505, -13.1505, -13.1506, -13.1506, -13.1506, -13.1506, -13.1506, -13.1491, -13.1505, -13.1498, -13.1504, -13.1504, -13.1499, -13.15, -13.1499, -13.1501, -13.15, -13.1502, -13.1503, -13.1503, -13.1504, -1.1888, -1.4528, -1.6032, -11.7803, -11.7803, -11.7803, -11.7803, -11.7804, -11.7804, -11.7804, -11.7803, -11.7804, -11.7804, -11.7804, -11.7804, -11.7804, -11.7804, -11.7804, -11.7804, -11.7805, -11.7805, -11.7805, -11.7805, -11.7805, -11.7805, -11.7805, -11.7805, -11.7805, -11.7804, -11.7805, -11.7804, -11.7803, -11.7803, -11.7803, -11.7797, -11.7804, -11.7804, -11.7804, -11.7802, -11.7797, -11.7801, -11.7801, -11.7802, -11.7801, -11.78, -11.7803, -11.7803, -11.7803, -11.78, -11.7802, -11.7801, -11.78, -11.7801, -11.7802, -11.7802, -11.7803, -11.7801, -11.7801, -11.7802, -11.7802, -11.7802, -11.7803, -11.7802, -11.7803, -11.7803, -11.7803, -10.4345, -10.4345, -10.4345, -10.4345, -10.4345, -10.4345, -10.4345, -10.4345, -10.4345, -10.4345, -10.4345, -10.4345, -10.4345, -10.4345, -10.4345, -10.4345, -10.4345, -10.4345, -10.4345, -10.4345, -10.4345, -10.4345, -10.4345, -10.4345, -10.4345, -10.4345, -10.4345, -10.4345, -10.4345, -10.4345, -10.4345, -10.4345, -10.4345, -10.4345, -10.4345, -10.4345, -10.4345, -10.4345, -10.4345, -10.4345, -10.4345, -10.4345, -10.4345, -10.4345, -10.4345, -10.4345, -10.4345, -10.4345, -10.4345, -10.4345, -10.4345, -10.4345, -10.4345, -10.4345, -10.4345], \"loglift\": [30.0, 29.0, 28.0, 27.0, 26.0, 25.0, 24.0, 23.0, 22.0, 21.0, 20.0, 19.0, 18.0, 17.0, 16.0, 15.0, 14.0, 13.0, 12.0, 11.0, 10.0, 9.0, 8.0, 7.0, 6.0, 5.0, 4.0, 3.0, 2.0, 1.0, 2.0512, 2.0512, 2.0511, 2.0511, 2.051, 2.0509, 2.0506, 2.0491, 2.0484, 2.0472, 2.0469, -0.6724, -0.6724, -0.6724, -0.6724, -0.6724, -0.6725, -0.6725, -0.6725, -0.6725, -0.6726, -0.6726, -0.6726, -0.6726, -0.6726, -0.6726, -0.6726, -0.6726, -0.6726, -0.6727, -0.6727, -0.6727, 2.2951, 2.2951, 2.2951, 2.2951, 2.295, 2.2949, 2.2949, 2.2948, 2.2947, 2.2946, 2.294, 2.294, 2.2939, 2.2936, 2.2928, 2.2927, 2.2917, 2.2917, 2.291, 2.291, 2.2881, 2.2866, 2.2806, 2.277, 2.2424, -0.7267, -0.7268, -0.7268, -0.7269, -0.7269, -0.7269, -0.727, -0.7272, 2.3131, 2.3131, 2.3131, 2.313, 2.3129, 2.3128, 2.3128, 2.3123, 2.3115, -0.3328, -0.333, -0.3332, -0.3332, -0.3333, -0.3333, -0.3333, -0.3333, -0.3333, -0.3333, -0.3333, -0.3334, -0.3334, -0.3335, -0.3335, -0.3335, -0.3336, -0.3336, -0.3336, -0.3336, -0.3336, -0.3336, -0.3336, -0.3336, -0.3336, 2.5908, 2.5907, 2.5906, 2.5906, 2.5904, 2.5904, 2.59, 2.59, 2.59, 2.5899, 2.5897, 2.5877, 2.5875, 2.5861, 2.5843, -0.3789, -0.3789, -0.3789, -0.3789, -0.3789, -0.3789, -0.3789, -0.3789, -0.3789, -0.3789, -0.3789, -0.3789, -0.3789, -0.3789, -0.3789, -0.3789, -0.379, -0.379, -0.379, -0.379, -0.379, 2.6682, 2.6682, 2.6681, 2.668, 2.6678, 2.6678, 2.6677, 2.6668, 2.6643, 2.6553, 0.2267, 0.2262, 0.2262, 0.2261, 0.226, 0.2259, 0.2258, 0.2258, 0.2257, 0.2257, 0.2256, 0.2256, 0.2256, 0.2256, 0.2256, 0.2255, 0.2255, 0.2255, 0.2255, 0.2255, 0.2255, 0.2254, 0.2254, 2.9134, 2.9133, 2.9133, 2.9132, 2.9132, 2.9131, 2.9131, 2.9131, 2.913, 2.9129, 2.9091, 2.9085, 2.9081, 2.9037, 2.8888, 0.0492, 0.049, 0.049, 0.0489, 0.0488, 0.0488, 0.0488, 0.0488, 0.0487, 0.0487, 0.0487, 0.0487, 0.0487, 0.0487, 0.0487, 0.0487, 0.0487, 0.0487, 0.0487, 0.0487, 0.0487, 0.0486, 0.0486, 0.0486, 2.9244, 2.9244, 2.9244, 2.9242, 2.924, 2.9238, 2.9225, 2.9223, 2.9201, 0.2068, 0.2066, 0.2065, 0.2065, 0.2065, 0.2065, 0.2064, 0.2064, 0.2064, 0.2064, 0.2064, 0.2064, 0.2064, 0.2064, 0.2064, 0.2064, 0.2064, 0.2064, 0.2064, 0.2064, 0.2064, 0.2064, 0.2064, 0.2064, 0.2063, 0.2063, 0.2063, 0.2063, 2.9458, 2.9458, 2.9457, 2.9456, 2.9454, 2.9454, 2.9453, 2.9451, 2.9451, 2.9437, 0.1077, 0.1077, 0.1077, 0.1077, 0.1077, 0.1077, 0.1077, 0.1077, 0.1077, 0.1076, 0.1076, 0.1076, 0.1076, 0.1076, 0.1076, 0.1076, 0.1076, 0.1076, 0.1076, 0.1076, 0.1076, 0.1076, 0.1076, 0.1076, 0.1076, 0.1076, 0.1076, 0.1076, 0.1076, 0.1076, 0.1076, 0.1075, 0.1076, 0.1076, 0.1076, 0.1076, 0.1075, 0.1075, 2.9922, 2.9919, 2.9919, 2.9918, 2.9917, 2.9914, 2.9914, 2.9913, 2.9912, 2.991, 2.991, 2.989, 2.9889, 2.9877, 2.9876, 2.9874, 2.9868, 2.9866, 2.9801, 2.8181, -0.2353, -0.2353, -0.2354, -0.2354, -0.2354, -0.2354, -0.2354, -0.2355, -0.2355, -0.2355, -0.2355, -0.2355, -0.2357, -0.2358, -0.2356, -0.2359, -0.2358, -0.2358, -0.2358, -0.2361, -0.2359, -0.2358, 3.1151, 3.1149, 3.1149, 3.1141, 3.114, 3.1136, 3.1136, 3.1136, 3.1104, 3.0956, 0.326, 0.3259, 0.3259, 0.3258, 0.3258, 0.3258, 0.3258, 0.3258, 0.3258, 0.3258, 0.3258, 0.3258, 0.3258, 0.3258, 0.3258, 0.3258, 0.3258, 0.3258, 0.3258, 0.3258, 0.3258, 0.3258, 0.3257, 0.3257, 0.3257, 0.3258, 0.3257, 0.3257, 0.3257, 0.3257, 0.3257, 0.3257, 0.3257, 0.3255, 0.3257, 0.3256, 0.3256, 3.1737, 3.1732, 3.1732, 3.1731, 3.173, 3.1702, 3.1685, 3.1666, 3.1635, -0.4758, -0.4758, -0.4758, -0.4758, -0.4758, -0.4758, -0.4758, -0.4758, -0.4758, -0.4758, -0.4758, -0.4758, -0.4758, -0.4758, -0.4758, -0.4758, -0.4758, -0.4758, -0.4758, -0.4758, -0.4758, -0.4758, -0.4758, -0.4758, -0.4758, -0.4758, -0.476, -0.4759, -0.4759, -0.4759, -0.4759, -0.4759, -0.476, -0.4761, -0.4759, -0.4759, -0.4759, -0.4759, -0.4759, -0.4761, -0.476, -0.4759, -0.4759, -0.4759, -0.476, -0.4759, -0.4763, -0.476, -0.4766, -0.4762, -0.476, -0.4762, -0.4768, -0.4764, -0.4761, -0.4765, -0.4766, -0.4765, -0.4768, -0.4765, -0.4766, -0.4765, -0.4768, -0.4771, -0.4763, -0.4765, -0.4764, -0.4766, 3.2106, 3.2106, 3.2105, 3.2104, 3.2104, 3.2095, 3.2079, 3.2074, 3.205, 3.2039, 3.1984, 0.2527, 0.2527, 0.2527, 0.2527, 0.2527, 0.2527, 0.2527, 0.2526, 0.2526, 0.2526, 0.2526, 0.2526, 0.2526, 0.2526, 0.2526, 0.2526, 0.2526, 0.2526, 0.2526, 0.2526, 0.2526, 0.2526, 0.2526, 0.2526, 0.2526, 0.2526, 0.2526, 0.2526, 0.2526, 0.2526, 0.2525, 0.2526, 0.2526, 0.2525, 0.2524, 0.2525, 0.2526, 0.2526, 0.2524, 0.2524, 0.2524, 0.2524, 0.2524, 0.2525, 0.2525, 0.2523, 0.2521, 0.2524, 0.2524, 0.2525, 0.2524, 0.2523, 0.2524, 3.4139, 3.4139, 3.4137, 3.4135, 3.4124, 3.4123, 3.4118, 3.4118, 3.4114, 3.4102, 3.4093, 3.4087, 3.4084, 3.4069, 3.4064, 3.4053, 3.4022, 0.2514, 0.2514, 0.2514, 0.2514, 0.2514, 0.2514, 0.2513, 0.2513, 0.2513, 0.2513, 0.2513, 0.2513, 0.2513, 0.2513, 0.2512, 0.2512, 0.251, 0.2511, 0.2508, 0.2508, 0.2508, 0.2508, 0.2509, 0.2509, 0.251, 0.251, 0.2509, 3.4431, 3.4431, 3.443, 3.4428, 3.4425, 3.4425, 3.4393, 0.3522, 0.3522, 0.3521, 0.3521, 0.3521, 0.3521, 0.3521, 0.3521, 0.3521, 0.3521, 0.3521, 0.3521, 0.3521, 0.3521, 0.3521, 0.3521, 0.3521, 0.3521, 0.3521, 0.3521, 0.3521, 0.3521, 0.3521, 0.3521, 0.3521, 0.3521, 0.3521, 0.3521, 0.3521, 0.3521, 0.3521, 0.3521, 0.352, 0.352, 0.352, 0.3521, 0.352, 0.352, 0.3521, 0.3517, 0.352, 0.3517, 0.352, 0.352, 0.3515, 0.3515, 0.3518, 0.3517, 0.3519, 0.3516, 0.3519, 0.3519, 0.3519, 0.3517, 0.3517, 0.3515, 0.3517, 0.3517, 0.3517, 0.3516, 0.3518, 0.3512, 0.3516, 0.3517, 0.3517, 0.3517, 0.3518, 3.4537, 3.4536, 3.4515, 3.4508, 0.4844, 0.4843, 0.4843, 0.4843, 0.4843, 0.4843, 0.4843, 0.4843, 0.4843, 0.4843, 0.4843, 0.4843, 0.4843, 0.4843, 0.4843, 0.4843, 0.4842, 0.4842, 0.4842, 0.4842, 0.4842, 0.4842, 0.4842, 0.4842, 0.4842, 0.4842, 0.4842, 0.4842, 0.4842, 0.4842, 0.4842, 0.4842, 0.4841, 0.4842, 0.4842, 0.4839, 0.4839, 0.4842, 0.4842, 0.484, 0.4841, 0.4841, 0.4842, 0.4841, 0.4842, 0.4839, 0.4841, 0.4838, 0.4839, 0.4839, 0.484, 0.4838, 0.4838, 0.4839, 0.4839, 0.484, 0.484, 0.4841, 0.484, 0.4841, 0.484, 0.484, 0.4839, 0.484, 0.4839, 0.484, 3.5071, 3.5071, 3.5067, 3.5064, 3.5063, 3.5062, 3.5059, 3.5059, 3.5054, 3.505, 3.5037, 3.5026, 3.5015, 3.4992, 3.4965, 3.4925, 0.3559, 0.3559, 0.3559, 0.3559, 0.3559, 0.3559, 0.3559, 0.3558, 0.3558, 0.3558, 0.3558, 0.3558, 0.3558, 0.3558, 0.3558, 0.3558, 0.3557, 0.3557, 0.3557, 0.3556, 0.3557, 0.3556, 0.3553, 0.355, 0.3551, 0.355, 0.3551, 0.3554, 0.3553, 0.3552, 0.3553, 0.3552, 0.3553, 3.5321, 3.5318, 3.5316, 3.5316, 3.5315, 3.5307, 3.5306, 3.5306, 3.5304, 3.5299, 3.528, 3.5269, 3.5265, 3.4933, 0.4393, 0.4393, 0.4392, 0.4392, 0.4392, 0.4392, 0.4392, 0.4392, 0.4392, 0.4392, 0.4392, 0.4392, 0.4392, 0.4392, 0.4392, 0.4392, 0.4392, 0.4392, 0.4392, 0.4392, 0.4392, 0.4391, 0.4392, 0.4392, 0.4392, 0.4392, 0.4391, 0.439, 0.439, 0.4391, 0.4391, 0.439, 0.4386, 0.439, 0.439, 0.439, 0.4387, 0.439, 0.4389, 0.4386, 0.4387, 0.4386, 0.4387, 0.4388, 0.4385, 0.4388, 0.4383, 0.4388, 0.4387, 0.4387, 0.4387, 3.8391, 3.8328, 0.1707, 0.1707, 0.1707, 0.1707, 0.1706, 0.1706, 0.1705, 0.1705, 0.1699, 0.1697, 0.1697, 0.1697, 0.1697, 0.1697, 0.1696, 0.1695, 0.1695, 0.1694, 0.1694, 0.1694, 0.1694, 0.1694, 0.1694, 0.1693, 0.1693, 0.1693, 0.1693, 0.1693, 0.169, 0.1693, 0.1688, 0.1691, 0.1691, 0.1685, 0.1686, 0.1684, 0.1685, 0.1681, 0.1683, 0.1688, 0.1686, 0.1684, 4.3654, 4.3653, 4.3652, 1.5396, 1.5396, 1.5396, 1.5396, 1.5396, 1.5396, 1.5396, 1.5396, 1.5396, 1.5396, 1.5395, 1.5395, 1.5395, 1.5395, 1.5395, 1.5395, 1.5395, 1.5395, 1.5395, 1.5395, 1.5395, 1.5395, 1.5395, 1.5395, 1.5395, 1.5395, 1.5395, 1.5395, 1.5395, 1.5394, 1.5394, 1.5391, 1.5394, 1.5395, 1.5395, 1.5393, 1.5387, 1.5391, 1.5392, 1.5392, 1.5389, 1.5387, 1.5392, 1.5392, 1.5391, 1.5382, 1.5389, 1.5385, 1.5381, 1.5384, 1.5386, 1.5387, 1.5391, 1.5379, 1.5382, 1.5386, 1.5386, 1.5387, 1.5388, 1.5386, 1.5387, 1.539, 1.5387, 2.8855, 2.8855, 2.8855, 2.8855, 2.8855, 2.8855, 2.8855, 2.8855, 2.8855, 2.8855, 2.8855, 2.8855, 2.8855, 2.8855, 2.8855, 2.8855, 2.8855, 2.8855, 2.8855, 2.8855, 2.8855, 2.8855, 2.8855, 2.8855, 2.8855, 2.8855, 2.8855, 2.8855, 2.8855, 2.8855, -4.9842, -6.1982, -6.492, -7.3697, -5.0206, -7.3216, -4.5665, -3.1418, -4.6225, -5.7079, 2.8855, -5.2411, -2.058, -3.0211, -5.3033, -6.6069, 2.8855, -5.9348, -3.7536, -5.7818, -6.4264, 2.8855, -0.9968, -2.7117, -0.0314]}, \"token.table\": {\"Topic\": [10, 9, 13, 12, 18, 5, 9, 4, 8, 14, 4, 5, 1, 9, 9, 6, 6, 8, 2, 2, 9, 3, 19, 2, 2, 5, 2, 6, 12, 16, 18, 2, 13, 7, 15, 2, 2, 4, 16, 13, 4, 1, 6, 9, 9, 11, 16, 8, 8, 9, 16, 10, 5, 12, 13, 13, 10, 3, 2, 6, 5, 12, 17, 1, 2, 12, 16, 11, 11, 2, 2, 17, 7, 13, 3, 9, 4, 4, 8, 4, 13, 8, 2, 10, 4, 9, 13, 1, 14, 5, 6, 6, 2, 17, 2, 9, 7, 3, 15, 2, 10, 10, 2, 9, 19, 16, 1, 8, 8, 12, 1, 9, 2, 2, 12, 17, 2, 3, 1, 17, 2, 15, 15, 3, 16, 4, 12, 13, 16, 19, 13, 16, 6, 7, 5, 4, 5, 3, 7, 11, 13, 13, 9, 9, 12, 7, 4, 11, 17, 6, 4, 6, 13, 17, 16, 9, 11, 7, 6, 17, 1, 17, 12, 10, 16, 8, 17, 16, 13, 8, 9, 14, 9, 4, 3, 17, 4, 6, 2, 10, 9, 13, 11, 6, 14, 14, 4, 6, 17, 11, 17, 5, 3, 1, 2, 1, 10, 10, 16, 16, 9, 17, 14, 13, 14, 16, 7, 13, 12, 11, 2, 5, 6, 7, 1, 2, 16], \"Freq\": [0.9952464479614351, 0.9994039827673328, 0.9996105128765985, 0.999682896544075, 0.999905702286908, 0.9993819837019615, 0.9999150896041878, 0.9954896775165493, 0.9993813149778348, 0.9992120230525198, 0.9945732388662369, 0.9999488622351982, 0.9958924729048914, 0.9990621879553748, 0.9957551753103453, 0.9995145228950012, 0.9993263538212158, 0.9998762501934977, 0.9987727576777213, 0.9997322022357935, 0.9989225505340728, 0.99990691349823, 0.9996453096146332, 0.99546236398971, 0.9998729674750165, 0.9987591784163055, 0.9980593349206459, 0.9996283191624551, 0.9947979957541834, 0.9975625252396022, 0.9944630561519548, 0.9990634888108841, 0.9867425799477644, 0.9995754853497999, 0.9975671644541884, 0.9854703918033668, 0.999353025109008, 0.9995751949387202, 0.9913655748616124, 0.9933480387875343, 0.9997879372862737, 0.9993504962233745, 0.994966285401211, 0.9952646555010508, 0.9996402284103465, 0.9970007703502715, 0.988162181853415, 0.9991743289084453, 0.997724878049356, 0.8110243468270162, 0.9986775341218502, 0.9999135596428325, 0.9966550461257917, 0.9959797073375186, 0.9976230892258972, 0.9942440571815792, 0.9980749051713105, 0.9981680709846494, 0.9907398624317091, 0.9998184245763624, 0.9995171496631834, 0.9884197751595287, 0.9994486265919673, 0.9998566996268927, 0.996213171528659, 0.993561208244786, 0.9984512567675837, 0.9993102535155491, 0.9993470574943446, 0.9971018460095326, 0.9999122608096929, 0.9983376969864762, 0.9998662367219117, 0.9998010679001746, 0.9998188427913188, 0.9945120192781685, 0.9994897749822469, 0.9989058253946616, 0.999874192507685, 0.9989973418278499, 0.9980398631335807, 0.9997681839286834, 0.9984927017268264, 0.9987378359966894, 0.9999487505342152, 0.9993863109966356, 0.990836369481839, 0.9999605248254628, 0.9992093003041111, 0.9997796230530891, 0.9756408734538222, 0.9995656868472613, 0.9996533546753996, 0.99833797805458, 0.9980693502242042, 0.9988931994795495, 0.9964299859922224, 0.9988973189500967, 0.997760875080616, 0.9998994253304111, 0.9991316656863723, 0.9765979638343198, 0.9586227058316983, 0.9997568605859988, 0.9995246306723035, 0.9997532331024551, 0.9996133482949203, 0.9997254424956028, 0.9996397537505024, 0.9998333614811007, 0.9999686980770112, 0.9987430324263981, 0.9963655870567101, 0.9998928193438587, 0.9972389263366727, 0.9995592999605721, 0.9879425925959975, 0.9995957338268034, 0.9978136974892831, 0.995161727697061, 0.9995162180199408, 0.9997599388612587, 0.9999367616461573, 0.9999133018107889, 0.9993732027246889, 0.9968919760138977, 0.9998049056444297, 0.998352528468295, 0.9955895567222945, 0.9994036490069751, 0.9925688101927197, 0.9904098375533298, 0.9885776729562452, 0.9992630279049087, 0.9867297135750438, 0.9992773406899608, 0.9998451932582677, 0.9999424031749079, 0.9978558381033873, 0.9999382804365488, 0.997639513864033, 0.9959116028651774, 0.9966452581045109, 0.988297294208918, 0.9985715937594548, 0.9978593285927297, 0.9997759609176877, 0.9992102822670835, 0.9991115800281302, 0.9963128031782229, 0.9991476762034338, 0.9957177692009264, 0.9939500980745279, 0.997972936699177, 0.9943077301475212, 0.9957092351994196, 0.9956809636431553, 0.9994496398054157, 0.999481428123158, 0.9979967909825779, 0.9950019561460306, 0.9958628401603361, 0.9997291470459858, 0.9988234102409902, 0.998839270330073, 0.9993744720231788, 0.9998442366657018, 0.9990802257098328, 0.9997866003049587, 0.9991746539275204, 0.9995017834224712, 0.9997538222241459, 0.9963164809503452, 0.9968128318416083, 0.9996993527700812, 0.994792075522357, 0.9988088737334863, 0.9995982291127835, 0.9942675217176133, 0.9997718134469255, 0.9992467521817769, 0.9994603857335664, 0.9884807922212884, 0.9998712873498777, 0.9998334563696856, 0.9994777868091632, 0.9999011793727223, 0.9997826546367856, 0.9995239977429181, 0.9927605500365304, 0.9576214889867813, 0.9999088538808409, 0.9997051955335516, 0.9996671619229739, 0.9979253812180373, 0.9998067063082691, 0.9997579304477032, 0.998518041470627, 0.9987235788871838, 0.9997310937495579, 0.9945015453338678, 0.9985755540969254, 0.99658630326529, 0.9947383377358582, 0.9998324007323193, 0.9982961175094404, 0.9998497429422399, 0.9969543776053722, 0.9997549320164983, 0.9991239889145893, 0.9993939430128291, 0.9995110307832951, 0.9995698575462095, 0.9999249867836587, 0.9973523380612429, 0.9998472016366975, 0.9969164694109041], \"Term\": [\"affect\", \"allow\", \"already\", \"also\", \"amp\", \"anymore\", \"arrest\", \"atrocity\", \"back\", \"ban\", \"bank\", \"be\", \"boycott\", \"break\", \"buy\", \"call\", \"care\", \"ccp\", \"change\", \"charge\", \"child\", \"china\", \"chinese\", \"chinese_communist_party\", \"citizen\", \"clear\", \"close\", \"come\", \"communism\", \"communist\", \"company\", \"condemn\", \"connect\", \"control\", \"corrupt\", \"crash\", \"crazy\", \"crime\", \"crush\", \"date\", \"day\", \"death\", \"decision\", \"defend\", \"democracy\", \"democratic\", \"desire\", \"destroy\", \"detain\", \"development\", \"die\", \"do\", \"easy\", \"election\", \"enough\", \"event\", \"example\", \"expect\", \"extend\", \"face\", \"fact\", \"failure\", \"family\", \"fight\", \"finally\", \"flee\", \"follow\", \"force\", \"forget\", \"form\", \"freedom\", \"future\", \"get\", \"give\", \"go\", \"gon\", \"good\", \"great\", \"happen\", \"hate\", \"have\", \"help\", \"here\", \"hit\", \"hk\", \"hold\", \"homeland\", \"hong\", \"hongkong\", \"hongkonger\", \"honor\", \"hope\", \"how\", \"ignore\", \"impose\", \"include\", \"increase\", \"insane\", \"investigate\", \"is_terrorist\", \"issue\", \"japan\", \"joshua_wong\", \"journalist\", \"june\", \"justice\", \"keep\", \"kid\", \"kill\", \"know\", \"kong\", \"konger\", \"large\", \"law\", \"leader\", \"life\", \"link\", \"look\", \"mark\", \"meet\", \"national_security\", \"need\", \"negative\", \"never\", \"new\", \"note\", \"now\", \"number\", \"offer\", \"official\", \"online\", \"oppressive\", \"overseas\", \"pass\", \"path\", \"pay\", \"peaceful\", \"people\", \"plan\", \"police\", \"post\", \"present\", \"probably\", \"process\", \"prodemocracy\", \"promise\", \"protest\", \"protester\", \"protestor\", \"proud\", \"punish\", \"rather\", \"react\", \"read\", \"ready\", \"recent\", \"remind\", \"report\", \"respect\", \"responsibility\", \"revolution\", \"risk\", \"rule\", \"sad\", \"safe\", \"save\", \"say\", \"security\", \"see\", \"send\", \"shame\", \"show\", \"sign\", \"silence\", \"so\", \"social\", \"soon\", \"speak\", \"stage\", \"stand\", \"start\", \"state\", \"stick\", \"still\", \"stop\", \"student\", \"support\", \"take\", \"tell\", \"terrorism\", \"thai\", \"thank\", \"thing\", \"think\", \"thousand\", \"time\", \"today\", \"tonight\", \"totally\", \"truth\", \"tweet\", \"uk\", \"university\", \"urge\", \"use\", \"wait\", \"want\", \"war\", \"watch\", \"way\", \"well\", \"whole\", \"with_hk\", \"world\", \"worldwide\", \"year\", \"yesterday\"]}, \"R\": 30, \"lambda.step\": 0.01, \"plot.opts\": {\"xlab\": \"PC1\", \"ylab\": \"PC2\"}, \"topic.order\": [1, 3, 12, 14, 9, 13, 5, 15, 2, 11, 20, 10, 4, 7, 8, 18, 19, 17, 6, 16]};\n",
       "\n",
       "function LDAvis_load_lib(url, callback){\n",
       "  var s = document.createElement('script');\n",
       "  s.src = url;\n",
       "  s.async = true;\n",
       "  s.onreadystatechange = s.onload = callback;\n",
       "  s.onerror = function(){console.warn(\"failed to load library \" + url);};\n",
       "  document.getElementsByTagName(\"head\")[0].appendChild(s);\n",
       "}\n",
       "\n",
       "if(typeof(LDAvis) !== \"undefined\"){\n",
       "   // already loaded: just create the visualization\n",
       "   !function(LDAvis){\n",
       "       new LDAvis(\"#\" + \"ldavis_el185761570841216496519830492\", ldavis_el185761570841216496519830492_data);\n",
       "   }(LDAvis);\n",
       "}else if(typeof define === \"function\" && define.amd){\n",
       "   // require.js is available: use it to load d3/LDAvis\n",
       "   require.config({paths: {d3: \"https://d3js.org/d3.v5\"}});\n",
       "   require([\"d3\"], function(d3){\n",
       "      window.d3 = d3;\n",
       "      LDAvis_load_lib(\"https://cdn.jsdelivr.net/gh/bmabey/pyLDAvis@3.3.1/pyLDAvis/js/ldavis.v3.0.0.js\", function(){\n",
       "        new LDAvis(\"#\" + \"ldavis_el185761570841216496519830492\", ldavis_el185761570841216496519830492_data);\n",
       "      });\n",
       "    });\n",
       "}else{\n",
       "    // require.js not available: dynamically load d3 & LDAvis\n",
       "    LDAvis_load_lib(\"https://d3js.org/d3.v5.js\", function(){\n",
       "         LDAvis_load_lib(\"https://cdn.jsdelivr.net/gh/bmabey/pyLDAvis@3.3.1/pyLDAvis/js/ldavis.v3.0.0.js\", function(){\n",
       "                 new LDAvis(\"#\" + \"ldavis_el185761570841216496519830492\", ldavis_el185761570841216496519830492_data);\n",
       "            })\n",
       "         });\n",
       "}\n",
       "</script>"
      ],
      "text/plain": [
       "PreparedData(topic_coordinates=              x         y  topics  cluster       Freq\n",
       "topic                                                \n",
       "0      0.302098  0.370213       1        1  12.857433\n",
       "2      0.243047 -0.449535       2        1  10.073995\n",
       "11    -0.252502 -0.105519       3        1   9.894564\n",
       "13    -0.094935  0.489738       4        1   7.495751\n",
       "8      0.333566 -0.265966       5        1   6.937073\n",
       "12     0.431944 -0.116837       6        1   5.428329\n",
       "4      0.124791  0.429359       7        1   5.369059\n",
       "14    -0.229398 -0.422729       8        1   5.255415\n",
       "1     -0.465174  0.179721       9        1   5.017527\n",
       "10     0.355496  0.197528      10        1   4.437221\n",
       "19     0.488237  0.069034      11        1   4.184643\n",
       "9     -0.015969  0.259791      12        1   4.032710\n",
       "3     -0.373914 -0.266471      13        1   3.290766\n",
       "6     -0.273685  0.353862      14        1   3.195906\n",
       "7      0.024246 -0.443921      15        1   3.162511\n",
       "17    -0.259959  0.148239      16        1   2.997775\n",
       "18    -0.043988 -0.290510      17        1   2.923940\n",
       "16    -0.465825 -0.064297      18        1   2.151188\n",
       "5      0.132040 -0.077775      19        1   1.270430\n",
       "15     0.039882  0.006077      20        1   0.023765, topic_info=               Term         Freq         Total Category  logprob  loglift\n",
       "5              hong  64179.00000  64179.000000  Default  30.0000  30.0000\n",
       "290          police  40352.00000  40352.000000  Default  29.0000  29.0000\n",
       "7              kong  61162.00000  61162.000000  Default  28.0000  28.0000\n",
       "78              amp  27288.00000  27288.000000  Default  27.0000  27.0000\n",
       "164        negative  29331.00000  29331.000000  Default  26.0000  26.0000\n",
       "..              ...          ...           ...      ...      ...      ...\n",
       "22            world      0.00961  24987.874421  Topic20 -10.4345  -6.4264\n",
       "23   brother_sister      0.00961      2.257437  Topic20 -10.4345   2.8855\n",
       "24            japan      0.00961    109.564021  Topic20 -10.4345  -0.9968\n",
       "28             form      0.00961    608.764293  Topic20 -10.4345  -2.7117\n",
       "29      joshua_wong      0.00961     41.726531  Topic20 -10.4345  -0.0314\n",
       "\n",
       "[1019 rows x 6 columns], token_table=      Topic      Freq       Term\n",
       "term                            \n",
       "268      10  0.995246     affect\n",
       "141       9  0.999404      allow\n",
       "363      13  0.999611    already\n",
       "357      12  0.999683       also\n",
       "78       18  0.999906        amp\n",
       "...     ...       ...        ...\n",
       "53        6  0.999570    with_hk\n",
       "22        7  0.999925      world\n",
       "170       1  0.997352  worldwide\n",
       "132       2  0.999847       year\n",
       "96       16  0.996916  yesterday\n",
       "\n",
       "[217 rows x 3 columns], R=30, lambda_step=0.01, plot_opts={'xlab': 'PC1', 'ylab': 'PC2'}, topic_order=[1, 3, 12, 14, 9, 13, 5, 15, 2, 11, 20, 10, 4, 7, 8, 18, 19, 17, 6, 16])"
      ]
     },
     "execution_count": 29,
     "metadata": {},
     "output_type": "execute_result"
    }
   ],
   "source": [
    "pyLDAvis.enable_notebook()\n",
    "vis = pyLDAvis.gensim_models.prepare(lda_model, corpus, id2word, mds=\"mmds\", R=30) # R=30 is the number of words on the right\n",
    "vis\n"
   ]
  },
  {
   "cell_type": "markdown",
   "metadata": {},
   "source": [
    "Bigrams & Trigrams present themselves in some but the data above is still primarily single words.\n",
    "\n",
    "Like anything, Data Science can be a science (as the name suggests) but it also has an art component. Picking how to properly configure so far has leaned more to the art side of the equation but we will add in a more mathematical / science side later.\n",
    "\n",
    "Before we do that, we will run through the same process but with words **we would like to manually add to the stop_word list in gensim as a number of these words we believe aren't adding much importance**. For transparency purposes, they are listed below."
   ]
  },
  {
   "cell_type": "markdown",
   "metadata": {},
   "source": [
    "<a id='eda_sw_update'></a>**Stop Words Update** | Here's the words list to add to the s_w_lda; the stop word list."
   ]
  },
  {
   "cell_type": "markdown",
   "metadata": {},
   "source": [
    "Before we begin, we will remind the reader that the **stop words were assigned to the set called `stops`** which you can see at the very beginning in imports. **This was also assigned to a variable called `stop_words` which we will use.** Final note, stop words were actually already remove in Data Wrangling but it doesn't cost much computational power to unsure they are out.\n",
    "\n",
    "**In this section we will add to the `stop_words` list.** "
   ]
  },
  {
   "cell_type": "code",
   "execution_count": 30,
   "metadata": {},
   "outputs": [],
   "source": [
    "s_w_lda_add = set(['even','see','use','make','become','long','many','also','say','go','how',\n",
    "              'be','give','know','show','day','today','really','way','last','much',\n",
    "              'real','man','do','still','happen','get','want','let','kid','dear',\n",
    "              'enew','back','place','everyday','different','hand','amp','now','take','already',\n",
    "              'already','come','look','yet','whole','re','totally','anymore'])"
   ]
  },
  {
   "cell_type": "code",
   "execution_count": 31,
   "metadata": {},
   "outputs": [],
   "source": [
    "from gensim.parsing.preprocessing import STOPWORDS\n",
    "my_stop_words = STOPWORDS.union(set(['s_w_lda_add']))"
   ]
  },
  {
   "cell_type": "code",
   "execution_count": 32,
   "metadata": {},
   "outputs": [
    {
     "name": "stdout",
     "output_type": "stream",
     "text": [
      "338 | Updated number of words\n"
     ]
    }
   ],
   "source": [
    "print(len(my_stop_words),'| Updated number of words')"
   ]
  },
  {
   "cell_type": "markdown",
   "metadata": {},
   "source": [
    "Before we continue, **we note the following words which are appearing in a number of places. They could be removed but are apart of the larger Topic**. \n",
    "\n",
    "**These words are below & supported by their meaning with the visually identified counts**:\n",
    "   * **hker** | Referencing the Hong Kong people | ~8k count\n",
    "   * **hk** | Short hand for Hong Kong | ~32k count\n",
    "   * **hong** | First word in Hong Kong | ~22k count\n",
    "   * **kong** | Second word in Hong Kong | ~21k count\n",
    "   * **hongkong** | Hong Kong | ~5k count\n",
    "\n",
    "**We will chose to ignore them**.\n",
    "\n",
    "**Let's now go through the process but adjust `df_cluster` with removing the new stop words.**"
   ]
  },
  {
   "cell_type": "markdown",
   "metadata": {},
   "source": [
    "**Lemmatization**"
   ]
  },
  {
   "cell_type": "code",
   "execution_count": 33,
   "metadata": {},
   "outputs": [
    {
     "name": "stdout",
     "output_type": "stream",
     "text": [
      "thank speak\n"
     ]
    }
   ],
   "source": [
    "def lemmatization(texts, allowed_postags=[\"NOUN\", \"ADJ\", \"VERB\", \"ADV\"]):\n",
    "    nlp = spacy.load(\"en_core_web_sm\", disable=[\"parser\", \"ner\"])\n",
    "    texts_out = []\n",
    "    for text in texts:\n",
    "        doc = nlp(text)\n",
    "        new_text = []\n",
    "        for token in doc:\n",
    "            if token.pos_ in allowed_postags:\n",
    "                new_text.append(token.lemma_)\n",
    "        final = \" \".join(new_text)\n",
    "        texts_out.append(final)\n",
    "    return (texts_out)\n",
    "\n",
    "\n",
    "lemmatized_texts = lemmatization(df_cluster['tweet'])\n",
    "print(lemmatized_texts[0][0:90])"
   ]
  },
  {
   "cell_type": "code",
   "execution_count": 34,
   "metadata": {
    "scrolled": true
   },
   "outputs": [
    {
     "name": "stdout",
     "output_type": "stream",
     "text": [
      "all world think thing look rough jackboot jump people stand\n"
     ]
    }
   ],
   "source": [
    "# we will also look (no pun intended) at a tweet which used one of the \"new stop words\" to confirm the next process works; the word is \"look\"\n",
    "print(lemmatized_texts[46][0:90])"
   ]
  },
  {
   "cell_type": "markdown",
   "metadata": {},
   "source": [
    "**Stop Word Re-Removal**"
   ]
  },
  {
   "cell_type": "markdown",
   "metadata": {},
   "source": [
    "Unfortunately, gensim does not easily allow for additions to their stop word list. **We will remove these words with the help of regex.**"
   ]
  },
  {
   "cell_type": "code",
   "execution_count": 35,
   "metadata": {},
   "outputs": [],
   "source": [
    "lem_df = pd.DataFrame(lemmatized_texts.copy())\n",
    "lem_df.columns = ['tweet']"
   ]
  },
  {
   "cell_type": "code",
   "execution_count": 36,
   "metadata": {},
   "outputs": [],
   "source": [
    "lem_df = lem_df['tweet'].str.replace('even|see|use|make|become|long|many|also|say|go|how|be|give|know|show|day|today|really|way|last|much|real|man|do|still|happen|get|want|let|kid|dear|enew|back|place|everyday|different|hand|amp|now|take|already|already|come|look|yet|whole|re|totally|anymore','')"
   ]
  },
  {
   "cell_type": "markdown",
   "metadata": {},
   "source": [
    "Looking at the original below, you will notice the word **look** there; that was in the updated stop word list which can't easily be added to gensim."
   ]
  },
  {
   "cell_type": "code",
   "execution_count": 37,
   "metadata": {},
   "outputs": [
    {
     "name": "stdout",
     "output_type": "stream",
     "text": [
      "all world think thing look rough jackboot jump people stand\n"
     ]
    }
   ],
   "source": [
    "print(lemmatized_texts[46])"
   ]
  },
  {
   "cell_type": "markdown",
   "metadata": {},
   "source": [
    "Below is confirmation **regex worked** as it **removed the word look**."
   ]
  },
  {
   "cell_type": "code",
   "execution_count": 38,
   "metadata": {},
   "outputs": [
    {
     "data": {
      "text/plain": [
       "'all world think thing  rough jackboot jump people stand'"
      ]
     },
     "execution_count": 38,
     "metadata": {},
     "output_type": "execute_result"
    }
   ],
   "source": [
    "lem_df[46]"
   ]
  },
  {
   "cell_type": "markdown",
   "metadata": {},
   "source": [
    "It was turned into a Series so we will move it back to a Data Frame & then List."
   ]
  },
  {
   "cell_type": "code",
   "execution_count": 39,
   "metadata": {},
   "outputs": [],
   "source": [
    "data_words_df = lem_df.to_frame(name=\"tweet\")\n",
    "data_words_list = data_words_df['tweet'].values.tolist()\n",
    "data_words = gen_words(data_words_list)"
   ]
  },
  {
   "cell_type": "markdown",
   "metadata": {},
   "source": [
    "We now have stop_words removed & a much cleaner text. **Lemmization isn't perfect** (for example the word cipo isn't a word), **but we have a cleaner set to build a topic model on**."
   ]
  },
  {
   "cell_type": "markdown",
   "metadata": {},
   "source": [
    "**Bag of Words**"
   ]
  },
  {
   "cell_type": "code",
   "execution_count": 40,
   "metadata": {},
   "outputs": [
    {
     "name": "stdout",
     "output_type": "stream",
     "text": [
      "[(2, 1), (3, 1), (4, 1), (5, 1), (6, 1), (7, 1), (8, 1), (9, 1), (10, 1), (11, 1), (12, 1)]\n"
     ]
    }
   ],
   "source": [
    "# this allows us to have a few key pieces of data\n",
    "id2word = corpora.Dictionary(data_words)\n",
    "\n",
    "corpus = []\n",
    "for text in data_words:\n",
    "    new = id2word.doc2bow(text) #bow = bag of words\n",
    "    corpus.append(new)\n",
    "\n",
    "print(corpus[1][0:20])"
   ]
  },
  {
   "cell_type": "markdown",
   "metadata": {},
   "source": [
    "That list of arrays doesn't make much sense to us humans so I will show you what it means for reference."
   ]
  },
  {
   "cell_type": "code",
   "execution_count": 41,
   "metadata": {},
   "outputs": [
    {
     "name": "stdout",
     "output_type": "stream",
     "text": [
      "[('ad', 1), ('china', 1), ('cipo', 1), ('danish', 1), ('hong', 1), ('kong', 1), ('new', 1), ('port', 1), ('stop', 1), ('tank', 1), ('think', 1)]\n"
     ]
    }
   ],
   "source": [
    "print([(id2word[idx] , freq) for idx, freq in corpus[1][0:20]])"
   ]
  },
  {
   "cell_type": "markdown",
   "metadata": {},
   "source": [
    "We now have a dictionary to lookup words & their frequency."
   ]
  },
  {
   "cell_type": "code",
   "execution_count": 42,
   "metadata": {},
   "outputs": [
    {
     "name": "stdout",
     "output_type": "stream",
     "text": [
      "163698  | Tweets total # \n",
      " 29567  | Words total #\n"
     ]
    }
   ],
   "source": [
    "print(len(corpus),' | Tweets total #','\\n',\n",
    "     len(id2word), ' | Words total #')"
   ]
  },
  {
   "cell_type": "markdown",
   "metadata": {},
   "source": [
    "In this round of LdaModel, we will limit to 5 topics."
   ]
  },
  {
   "cell_type": "code",
   "execution_count": 43,
   "metadata": {},
   "outputs": [],
   "source": [
    "lda_model = gensim.models.ldamodel.LdaModel(corpus=corpus, \n",
    "                                           id2word=id2word,\n",
    "                                           num_topics=5,    # this may result for a lot in the \"mistake\" topic\n",
    "                                           random_state=100, \n",
    "                                           update_every=1,   \n",
    "                                           chunksize=100, \n",
    "                                           passes=10, # passing over the data this many times\n",
    "                                           alpha=\"auto\")\n"
   ]
  },
  {
   "cell_type": "markdown",
   "metadata": {},
   "source": [
    "**pyLDAvis** | Visualizing the Tweet Data"
   ]
  },
  {
   "cell_type": "code",
   "execution_count": 44,
   "metadata": {},
   "outputs": [
    {
     "data": {
      "text/html": [
       "\n",
       "<link rel=\"stylesheet\" type=\"text/css\" href=\"https://cdn.jsdelivr.net/gh/bmabey/pyLDAvis@3.3.1/pyLDAvis/js/ldavis.v1.0.0.css\">\n",
       "\n",
       "\n",
       "<div id=\"ldavis_el1857615709630894407782675289\"></div>\n",
       "<script type=\"text/javascript\">\n",
       "\n",
       "var ldavis_el1857615709630894407782675289_data = {\"mdsDat\": {\"x\": [0.41057724559806164, 0.14858787890626696, -0.334719788907036, -0.3097891765177401, 0.08534384092044753], \"y\": [-0.03327152624416224, 0.35974946632400495, -0.21324967025791197, 0.26315166861715994, -0.3763799384390906], \"topics\": [1, 2, 3, 4, 5], \"cluster\": [1, 1, 1, 1, 1], \"Freq\": [34.67174980579948, 23.284763442534125, 18.732084822547794, 15.15279009583034, 8.158611833288267]}, \"tinfo\": {\"Term\": [\"police\", \"negative\", \"hong\", \"kong\", \"hk\", \"fem\", \"law\", \"is_terrorist\", \"arst\", \"never\", \"support\", \"justice\", \"people\", \"evil\", \"matter\", \"sanction\", \"citizen\", \"thank\", \"world\", \"china\", \"fight\", \"ccp\", \"protest\", \"truth\", \"year\", \"face\", \"hker\", \"hu\", \"for\", \"terrorist\", \"arst\", \"people\", \"sanction\", \"china\", \"world\", \"right\", \"stop\", \"journalist\", \"city\", \"hkpolice\", \"vernment\", \"life\", \"need\", \"stand\", \"help\", \"international\", \"fill\", \"vt\", \"bak\", \"ppl\", \"porter\", \"corruption\", \"think\", \"riot\", \"power\", \"student\", \"try\", \"new\", \"hold\", \"tortu\", \"police\", \"hong\", \"kong\", \"hk\", \"citizen\", \"ccp\", \"year\", \"attack\", \"force\", \"protester\", \"rule\", \"brutality\", \"puppet\", \"true\", \"officer\", \"spray\", \"pepper\", \"victim\", \"at\", \"speak\", \"country\", \"chinese\", \"turn\", \"cop\", \"shoot\", \"ban\", \"thug\", \"tat\", \"consequence\", \"weapon\", \"law\", \"is_terrorist\", \"support\", \"thank\", \"hu\", \"face\", \"terrorist\", \"security\", \"ca\", \"charge\", \"thaten\", \"watch\", \"national\", \"only\", \"bad\", \"ason\", \"financial\", \"hub\", \"pouting_face\", \"safe\", \"fe\", \"od\", \"control\", \"call\", \"video\", \"with_hk\", \"why\", \"value\", \"black\", \"spect\", \"fem\", \"never\", \"justice\", \"evil\", \"matter\", \"fight\", \"truth\", \"hker\", \"for\", \"dictatorship\", \"deserve\", \"pss\", \"time\", \"no\", \"peaceful\", \"democracy\", \"live\", \"surnder\", \"keep\", \"als\", \"brutal\", \"joke\", \"hongkonger\", \"again\", \"well\", \"british\", \"speech\", \"white\", \"totalitarian\", \"find\", \"offical\", \"negative\", \"protest\", \"crime\", \"shame\", \"act\", \"state\", \"stet\", \"so\", \"autonomy\", \"joint\", \"lie\", \"violence\", \"professional\", \"pay\", \"hate\", \"gat\", \"wear\", \"ground\", \"social\", \"issue\", \"love\", \"sad\", \"mask\", \"exc\", \"sponsibility\", \"punishment\", \"son\", \"wait\", \"youngster\", \"everywhe\", \"decl\", \"deepen\"], \"Freq\": [30648.0, 12778.0, 19060.0, 18164.0, 14746.0, 10838.0, 11673.0, 11247.0, 16629.0, 8843.0, 9827.0, 7335.0, 12689.0, 6850.0, 5700.0, 9283.0, 6661.0, 5715.0, 8772.0, 8727.0, 4876.0, 6307.0, 3658.0, 4858.0, 6169.0, 5358.0, 4735.0, 5322.0, 4500.0, 4539.0, 16629.103809421547, 12688.414572745807, 9283.037852804571, 8726.916140499698, 8771.823205867591, 6310.269060363714, 6203.19359755338, 5259.695430463657, 4837.585930629817, 4429.8946753893515, 4160.888192406576, 3964.089904171011, 3926.535651254433, 3776.485682022638, 3690.9448081255105, 3516.776351768003, 3230.4399525373137, 3023.5254987303188, 2914.744898726339, 2891.6829444798977, 2817.1300546033635, 2904.940938410353, 2731.5689841398466, 2671.475363132165, 2462.6003697190527, 2479.566747771949, 2425.183285149206, 2428.354987596016, 2438.958395331602, 2437.8101363799774, 30647.875348333095, 19059.673705887984, 18163.783781189053, 14745.173895557275, 6660.538611192922, 6306.679525759663, 6168.278115731327, 5100.912046137144, 4241.473616964513, 4126.474712463337, 3281.9222876033737, 3214.8131961792274, 2935.127272439902, 2694.805618191473, 2490.550876100522, 2424.251642086401, 2337.9171969716926, 2331.2402532377514, 2089.997831239649, 2088.2187446194407, 2018.7826553685136, 1962.5410817853106, 1967.9106963819593, 1818.6632441453253, 1774.6367843515675, 1704.9805698660246, 1631.7119279102246, 1570.8100007559, 1543.7875795444684, 1553.3818184288266, 11673.166971642797, 11246.882205923304, 9826.327319467982, 5714.9911317201795, 5321.622075770357, 5358.02403740491, 4539.170853390011, 4136.255977910312, 3629.1938744615677, 3597.495033903734, 3539.644075890776, 3387.755247412896, 3063.3683315845265, 2844.816302426617, 2771.8982621494133, 2738.021423474897, 2922.442010274887, 2831.132718392006, 2486.112447270991, 2438.37312000933, 2362.9817868076393, 2299.8146129553384, 2290.004187454497, 2241.0386706675886, 2233.968871958807, 2140.365419028691, 1935.1173416274612, 1908.1045727925477, 1826.1321890243228, 1734.9870255873502, 10838.068854523754, 8842.527670386933, 7334.771940914248, 6849.3446646691455, 5699.8665557804425, 4875.974476760191, 4858.104250718256, 4734.803001011092, 4499.37022036852, 4000.6912465571904, 3859.316390791603, 3730.792724747838, 3490.904708084027, 3421.5046793833653, 3130.716492227606, 2995.441565853489, 2532.863464408414, 2138.0480538097363, 2095.6337582010683, 2076.969320322592, 2108.767399736025, 1982.5335058128003, 1778.5891373614481, 1767.266423857578, 1726.712522124875, 1690.8747933423415, 1578.2704866181514, 1525.6359774051239, 1565.852904562587, 1359.814420715417, 1872.343279428994, 12777.490473688966, 3658.1411793190377, 2782.475920401099, 2645.1610475299763, 2563.5158434778873, 2199.193996550171, 2085.195066043573, 1869.2131945215, 1835.1786829975188, 1824.94803259527, 1762.6257182538525, 1645.9353138235663, 1522.032761253814, 1416.1279554064074, 1064.817242334403, 980.7072960863055, 903.8235573249798, 883.7531459793818, 848.7541830321128, 746.1405020728891, 735.7668819698678, 692.4535972619403, 678.3193492783091, 680.8076557324783, 664.7785641661679, 649.5807067569473, 639.2052549783965, 602.4976357907636, 595.1041022691539, 572.334444755054, 1686.8737569506523, 1292.8673803572997], \"Total\": [30648.0, 12778.0, 19060.0, 18164.0, 14746.0, 10838.0, 11673.0, 11247.0, 16629.0, 8843.0, 9827.0, 7335.0, 12689.0, 6850.0, 5700.0, 9283.0, 6661.0, 5715.0, 8772.0, 8727.0, 4876.0, 6307.0, 3658.0, 4858.0, 6169.0, 5358.0, 4735.0, 5322.0, 4500.0, 4539.0, 16629.92050467404, 12689.224564693573, 9283.859131179845, 8727.72093530425, 8772.636081998522, 6311.0788714986265, 6204.004653135472, 5260.51230899443, 4838.406597378351, 4430.732827262949, 4161.698129005674, 3964.9057832825424, 3927.3448013626057, 3777.2930197494884, 3691.7575244178483, 3517.595790409675, 3231.302715613708, 3024.3515736206346, 2915.5617540239755, 2892.498356581837, 2817.9435607127116, 2905.793640505928, 2732.3786169593686, 2672.2913614671074, 2463.410878172124, 2480.384608612864, 2425.991325006454, 2429.16619300069, 2439.7752045902844, 2438.628475393453, 30648.72309669768, 19060.516085803974, 18164.625838314703, 14746.026639756623, 6661.386737974611, 6307.5282038193, 6169.125918996023, 5101.760620179056, 4242.319247722615, 4127.319531755086, 3282.774825013091, 3215.6572082218113, 2936.007054071793, 2695.68123788455, 2491.401032255756, 2425.1013811632156, 2338.7658424130973, 2332.0929915540128, 2090.841752371237, 2089.066197542614, 2019.623551262771, 1963.3803408703664, 1968.7601529924766, 1819.5157781544885, 1775.4850928970297, 1705.8422927139372, 1632.5591668358352, 1571.6554803483132, 1544.63496960003, 1554.2351423515274, 11673.95962691613, 11247.676821977808, 9827.118767177164, 5715.78060348286, 5322.416989648501, 5358.827984424774, 4539.968750752771, 4137.045460064424, 3629.9894957001393, 3598.2938193548166, 3540.4509863287044, 3388.5460891413145, 3064.157170569167, 2845.6206520793694, 2772.694441093383, 2738.821202057779, 2923.306575242587, 2832.0289009197472, 2486.902231176999, 2439.1641689628673, 2363.7685653318044, 2300.6065815725233, 2290.800556479973, 2241.831032075794, 2234.764221189139, 2141.160012292727, 1935.909513347315, 1908.9114600577288, 1826.932861455431, 1735.780365454134, 10838.900791469337, 8843.354730039395, 7335.6115349083375, 6850.201303530676, 5700.7024925523265, 4876.80489894208, 4858.941749046675, 4735.6405413804905, 4500.194743136253, 4001.5472869654677, 3860.1633036276726, 3731.6246100592552, 3491.733050919358, 3422.3536394834864, 3131.561339896089, 2996.270351178918, 2533.692495439882, 2138.8852490655977, 2096.4631858144085, 2077.7989254120994, 2109.6112112186024, 1983.3700791108508, 1779.4172277664343, 1768.0984437847794, 1727.542335463892, 1691.7279227675892, 1579.1036856945352, 1526.4708815936299, 1566.7272466210836, 1360.6514968906997, 1884.2838197791673, 12778.306930470048, 3658.960866902689, 2783.298447698179, 2645.976849830275, 2564.335205079833, 2200.013031131908, 2086.0192069274303, 1870.029200543832, 1836.0145074532204, 1825.779895627359, 1763.4393474859198, 1646.7542852611755, 1522.8758197551076, 1416.941187735154, 1065.6345848880014, 981.5243501858246, 904.6420500178106, 884.5704662181877, 849.5719986000993, 746.9549756399043, 736.57712959583, 693.2697297858633, 679.1353370763007, 681.6364698960585, 665.6028685171862, 650.4075116891958, 640.029581605251, 603.3146097964865, 595.9236739714255, 573.1487127757018, 1696.470910507545, 1317.9968260731541], \"Category\": [\"Default\", \"Default\", \"Default\", \"Default\", \"Default\", \"Default\", \"Default\", \"Default\", \"Default\", \"Default\", \"Default\", \"Default\", \"Default\", \"Default\", \"Default\", \"Default\", \"Default\", \"Default\", \"Default\", \"Default\", \"Default\", \"Default\", \"Default\", \"Default\", \"Default\", \"Default\", \"Default\", \"Default\", \"Default\", \"Default\", \"Topic1\", \"Topic1\", \"Topic1\", \"Topic1\", \"Topic1\", \"Topic1\", \"Topic1\", \"Topic1\", \"Topic1\", \"Topic1\", \"Topic1\", \"Topic1\", \"Topic1\", \"Topic1\", \"Topic1\", \"Topic1\", \"Topic1\", \"Topic1\", \"Topic1\", \"Topic1\", \"Topic1\", \"Topic1\", \"Topic1\", \"Topic1\", \"Topic1\", \"Topic1\", \"Topic1\", \"Topic1\", \"Topic1\", \"Topic1\", \"Topic2\", \"Topic2\", \"Topic2\", \"Topic2\", \"Topic2\", \"Topic2\", \"Topic2\", \"Topic2\", \"Topic2\", \"Topic2\", \"Topic2\", \"Topic2\", \"Topic2\", \"Topic2\", \"Topic2\", \"Topic2\", \"Topic2\", \"Topic2\", \"Topic2\", \"Topic2\", \"Topic2\", \"Topic2\", \"Topic2\", \"Topic2\", \"Topic2\", \"Topic2\", \"Topic2\", \"Topic2\", \"Topic2\", \"Topic2\", \"Topic3\", \"Topic3\", \"Topic3\", \"Topic3\", \"Topic3\", \"Topic3\", \"Topic3\", \"Topic3\", \"Topic3\", \"Topic3\", \"Topic3\", \"Topic3\", \"Topic3\", \"Topic3\", \"Topic3\", \"Topic3\", \"Topic3\", \"Topic3\", \"Topic3\", \"Topic3\", \"Topic3\", \"Topic3\", \"Topic3\", \"Topic3\", \"Topic3\", \"Topic3\", \"Topic3\", \"Topic3\", \"Topic3\", \"Topic3\", \"Topic4\", \"Topic4\", \"Topic4\", \"Topic4\", \"Topic4\", \"Topic4\", \"Topic4\", \"Topic4\", \"Topic4\", \"Topic4\", \"Topic4\", \"Topic4\", \"Topic4\", \"Topic4\", \"Topic4\", \"Topic4\", \"Topic4\", \"Topic4\", \"Topic4\", \"Topic4\", \"Topic4\", \"Topic4\", \"Topic4\", \"Topic4\", \"Topic4\", \"Topic4\", \"Topic4\", \"Topic4\", \"Topic4\", \"Topic4\", \"Topic4\", \"Topic5\", \"Topic5\", \"Topic5\", \"Topic5\", \"Topic5\", \"Topic5\", \"Topic5\", \"Topic5\", \"Topic5\", \"Topic5\", \"Topic5\", \"Topic5\", \"Topic5\", \"Topic5\", \"Topic5\", \"Topic5\", \"Topic5\", \"Topic5\", \"Topic5\", \"Topic5\", \"Topic5\", \"Topic5\", \"Topic5\", \"Topic5\", \"Topic5\", \"Topic5\", \"Topic5\", \"Topic5\", \"Topic5\", \"Topic5\", \"Topic5\", \"Topic5\"], \"logprob\": [30.0, 29.0, 28.0, 27.0, 26.0, 25.0, 24.0, 23.0, 22.0, 21.0, 20.0, 19.0, 18.0, 17.0, 16.0, 15.0, 14.0, 13.0, 12.0, 11.0, 10.0, 9.0, 8.0, 7.0, 6.0, 5.0, 4.0, 3.0, 2.0, 1.0, -3.3021, -3.5725, -3.885, -3.9468, -3.9417, -4.271, -4.2882, -4.4531, -4.5368, -4.6248, -4.6875, -4.7359, -4.7455, -4.7844, -4.8073, -4.8557, -4.9406, -5.0068, -5.0434, -5.0514, -5.0775, -5.0468, -5.1083, -5.1306, -5.212, -5.2051, -5.2273, -5.226, -5.2216, -5.2221, -2.2925, -2.7675, -2.8157, -3.0242, -3.8189, -3.8735, -3.8957, -4.0857, -4.2702, -4.2977, -4.5267, -4.5473, -4.6383, -4.7238, -4.8026, -4.8296, -4.8658, -4.8687, -4.9779, -4.9788, -5.0126, -5.0409, -5.0381, -5.117, -5.1415, -5.1815, -5.2255, -5.2635, -5.2809, -5.2747, -3.0402, -3.0774, -3.2125, -3.7544, -3.8258, -3.8189, -3.9848, -4.0777, -4.2085, -4.2173, -4.2335, -4.2774, -4.378, -4.452, -4.478, -4.4903, -4.4251, -4.4569, -4.5868, -4.6062, -4.6376, -4.6647, -4.669, -4.6906, -4.6937, -4.7366, -4.8374, -4.8514, -4.8953, -4.9465, -2.9024, -3.1059, -3.2928, -3.3613, -3.545, -3.7012, -3.7048, -3.7305, -3.7815, -3.899, -3.935, -3.9689, -4.0353, -4.0554, -4.1442, -4.1884, -4.3561, -4.5256, -4.5456, -4.5546, -4.5394, -4.6011, -4.7097, -4.716, -4.7393, -4.7602, -4.8291, -4.8631, -4.837, -4.9781, -4.6583, -2.1187, -3.3694, -3.643, -3.6936, -3.725, -3.8783, -3.9315, -4.0408, -4.0592, -4.0648, -4.0996, -4.1681, -4.2463, -4.3184, -4.6036, -4.6858, -4.7675, -4.7899, -4.8304, -4.9592, -4.9732, -5.0339, -5.0545, -5.0508, -5.0747, -5.0978, -5.1139, -5.173, -5.1854, -5.2244, -4.1435, -4.4095], \"loglift\": [30.0, 29.0, 28.0, 27.0, 26.0, 25.0, 24.0, 23.0, 22.0, 21.0, 20.0, 19.0, 18.0, 17.0, 16.0, 15.0, 14.0, 13.0, 12.0, 11.0, 10.0, 9.0, 8.0, 7.0, 6.0, 5.0, 4.0, 3.0, 2.0, 1.0, 1.0592, 1.0592, 1.0592, 1.0592, 1.0592, 1.0591, 1.0591, 1.0591, 1.0591, 1.0591, 1.0591, 1.059, 1.059, 1.059, 1.059, 1.059, 1.059, 1.059, 1.059, 1.059, 1.059, 1.059, 1.0589, 1.0589, 1.0589, 1.0589, 1.0589, 1.0589, 1.0589, 1.0589, 1.4573, 1.4573, 1.4573, 1.4573, 1.4572, 1.4572, 1.4572, 1.4572, 1.4572, 1.4572, 1.4571, 1.4571, 1.4571, 1.457, 1.457, 1.457, 1.457, 1.457, 1.457, 1.457, 1.457, 1.4569, 1.4569, 1.4569, 1.4569, 1.4569, 1.4569, 1.4568, 1.4568, 1.4568, 1.6749, 1.6749, 1.6749, 1.6748, 1.6748, 1.6748, 1.6748, 1.6747, 1.6747, 1.6747, 1.6747, 1.6747, 1.6747, 1.6746, 1.6746, 1.6746, 1.6746, 1.6746, 1.6746, 1.6746, 1.6746, 1.6746, 1.6746, 1.6746, 1.6746, 1.6746, 1.6745, 1.6745, 1.6745, 1.6745, 1.8869, 1.8869, 1.8869, 1.8869, 1.8868, 1.8868, 1.8868, 1.8868, 1.8868, 1.8868, 1.8868, 1.8868, 1.8867, 1.8867, 1.8867, 1.8867, 1.8867, 1.8866, 1.8866, 1.8866, 1.8866, 1.8866, 1.8865, 1.8865, 1.8865, 1.8865, 1.8865, 1.8864, 1.8864, 1.8864, 1.8806, 2.506, 2.5059, 2.5058, 2.5058, 2.5058, 2.5057, 2.5057, 2.5057, 2.5056, 2.5056, 2.5056, 2.5056, 2.5055, 2.5055, 2.5053, 2.5053, 2.5052, 2.5052, 2.5051, 2.505, 2.505, 2.5049, 2.5049, 2.5049, 2.5049, 2.5048, 2.5048, 2.5047, 2.5047, 2.5047, 2.5004, 2.4868]}, \"token.table\": {\"Topic\": [5, 4, 4, 1, 3, 2, 2, 5, 3, 1, 2, 3, 4, 4, 2, 3, 3, 2, 3, 1, 2, 2, 1, 2, 3, 2, 1, 2, 5, 1, 3, 5, 1, 2, 3, 4, 5, 4, 4, 4, 5, 4, 5, 3, 3, 4, 4, 1, 3, 4, 4, 2, 5, 5, 5, 1, 2, 4, 1, 1, 2, 4, 3, 3, 1, 3, 5, 5, 4, 1, 4, 4, 2, 3, 5, 1, 4, 5, 5, 4, 3, 1, 5, 4, 1, 4, 3, 1, 2, 3, 4, 5, 2, 3, 5, 4, 1, 2, 2, 1, 3, 1, 1, 5, 5, 2, 4, 5, 2, 1, 1, 2, 5, 3, 1, 3, 5, 2, 5, 5, 5, 2, 3, 4, 5, 2, 1, 5, 5, 1, 1, 3, 4, 2, 3, 3, 3, 1, 2, 4, 1, 4, 2, 4, 1, 2, 3, 1, 2, 3, 5, 1, 5, 3, 2, 5, 4, 4, 3, 3, 1, 2, 5], \"Freq\": [0.9998692818789178, 0.9993787428586679, 0.9996154943568754, 0.9999446476804396, 0.9997001622241124, 0.9995974098134006, 0.9998509102571282, 0.9994474403937975, 0.9997495428695312, 0.9998073256300608, 0.999506230606701, 0.9994893838328093, 0.9995697164078261, 0.9997102730515689, 0.9997956224251356, 0.9997274108640504, 0.9996293065516965, 0.9999162581914449, 0.9996404353230253, 0.9999173970719739, 0.9998062826328404, 0.9999419433235416, 0.9999159646114547, 0.9995889193158728, 0.9996505341865278, 0.9997165299907365, 0.9997268765080682, 0.9996912537178619, 0.9995334859977905, 0.005305130753646348, 0.000589458972627372, 0.9944172868223766, 0.0022761815056400506, 0.0007587271685466836, 0.009863453191106887, 0.006069817348373469, 0.9810342289308619, 0.9995760225113136, 0.9996986387527752, 0.9998632311637925, 0.9979957858229521, 0.9998246323753935, 0.9990662619678263, 0.9998454915091173, 0.9996748559300278, 0.9999168927286385, 0.9998349536307563, 0.9995968450719849, 0.9995530488476124, 0.999521187539801, 0.9997345130145588, 0.9996890267691846, 0.9994657797478735, 0.9993550923979787, 0.9994045004760538, 0.9997948065622301, 0.9999303785499848, 0.9998647402870017, 0.9998346035991067, 0.9996822639279119, 0.9999729238284183, 0.9997655256114621, 0.9999216540813484, 0.9996366912359499, 0.9998306256758382, 0.9999398256201241, 0.9987215084294924, 0.9995728424717422, 0.9998134089473525, 0.9999026123380504, 0.9999166347746977, 0.999779063225368, 0.999965546314013, 0.999917797649915, 0.9997508576143851, 0.999771549859681, 0.99972668528595, 0.9992164709266134, 0.998328260930747, 0.9998767708798618, 0.9996223527369021, 0.9999122049679758, 0.9998977227204544, 0.9999598873899981, 0.9995199204549898, 0.9998966677553698, 0.9997363384172757, 0.0047763505187104855, 0.0005307056131900539, 0.0005307056131900539, 0.9934809078917809, 0.0005307056131900539, 0.9998390334391919, 0.9997818921932142, 0.9993357609029219, 0.9998207475967539, 0.9999034957031984, 0.9996725442114773, 0.9999764069551805, 0.9996651598258154, 0.9996372068167022, 0.9998332076164133, 0.9998277072204024, 0.9994248908914658, 0.9997373935011493, 0.9996802932884323, 0.9998326171240345, 0.999373451748524, 0.9996569987560499, 0.9998290511780008, 0.9995167587315784, 0.9997639725371393, 0.9981684909475919, 0.9995227180779053, 0.999907459692386, 0.9997472930683222, 0.9996308169399374, 0.9997267828950125, 0.9994496339717408, 0.9993267214538123, 0.9983913530954792, 0.9994896296039502, 0.999550423849892, 0.9993010682550274, 0.9990942519245309, 0.9995458411876013, 0.9996576861411789, 0.9995395340311294, 0.9995114105737638, 0.9998380637682204, 0.9998449399292639, 0.9998861551179272, 0.9995861166156602, 0.9995829363645473, 0.9997866173081896, 0.9998634301179468, 0.9998726189600009, 0.9998614332007216, 0.999657490615229, 0.999790061007337, 0.9997422832547909, 0.999535817978112, 0.9997472854449644, 0.9998061822727429, 0.9995913732270038, 0.9996138925346894, 0.9995225236597923, 0.9998322490041245, 0.9995313259128297, 0.9996580305063537, 0.9995419563999763, 0.9998837523971416, 0.9978210211137934, 0.9998388426401917, 0.9992053053506057, 0.9992902717513541, 0.999686065312115, 0.999691522714709, 0.9995301880893481, 0.999458231852796, 0.9999274924899909, 0.9998174913252207, 0.9984500129600997], \"Term\": [\"act\", \"again\", \"als\", \"arst\", \"ason\", \"at\", \"attack\", \"autonomy\", \"bad\", \"bak\", \"ban\", \"black\", \"british\", \"brutal\", \"brutality\", \"ca\", \"call\", \"ccp\", \"charge\", \"china\", \"chinese\", \"citizen\", \"city\", \"consequence\", \"control\", \"cop\", \"corruption\", \"country\", \"crime\", \"decl\", \"decl\", \"decl\", \"deepen\", \"deepen\", \"deepen\", \"deepen\", \"deepen\", \"democracy\", \"deserve\", \"dictatorship\", \"everywhe\", \"evil\", \"exc\", \"face\", \"fe\", \"fem\", \"fight\", \"fill\", \"financial\", \"find\", \"for\", \"force\", \"gat\", \"ground\", \"hate\", \"help\", \"hk\", \"hker\", \"hkpolice\", \"hold\", \"hong\", \"hongkonger\", \"hu\", \"hub\", \"international\", \"is_terrorist\", \"issue\", \"joint\", \"joke\", \"journalist\", \"justice\", \"keep\", \"kong\", \"law\", \"lie\", \"life\", \"live\", \"love\", \"mask\", \"matter\", \"national\", \"need\", \"negative\", \"never\", \"new\", \"no\", \"od\", \"offical\", \"offical\", \"offical\", \"offical\", \"offical\", \"officer\", \"only\", \"pay\", \"peaceful\", \"people\", \"pepper\", \"police\", \"porter\", \"pouting_face\", \"power\", \"ppl\", \"professional\", \"protest\", \"protester\", \"pss\", \"punishment\", \"puppet\", \"right\", \"riot\", \"rule\", \"sad\", \"safe\", \"sanction\", \"security\", \"shame\", \"shoot\", \"so\", \"social\", \"son\", \"speak\", \"spect\", \"speech\", \"sponsibility\", \"spray\", \"stand\", \"state\", \"stet\", \"stop\", \"student\", \"support\", \"surnder\", \"tat\", \"terrorist\", \"thank\", \"thaten\", \"think\", \"thug\", \"time\", \"tortu\", \"totalitarian\", \"true\", \"truth\", \"try\", \"turn\", \"value\", \"vernment\", \"victim\", \"video\", \"violence\", \"vt\", \"wait\", \"watch\", \"weapon\", \"wear\", \"well\", \"white\", \"why\", \"with_hk\", \"world\", \"year\", \"youngster\"]}, \"R\": 30, \"lambda.step\": 0.01, \"plot.opts\": {\"xlab\": \"PC1\", \"ylab\": \"PC2\"}, \"topic.order\": [3, 5, 4, 1, 2]};\n",
       "\n",
       "function LDAvis_load_lib(url, callback){\n",
       "  var s = document.createElement('script');\n",
       "  s.src = url;\n",
       "  s.async = true;\n",
       "  s.onreadystatechange = s.onload = callback;\n",
       "  s.onerror = function(){console.warn(\"failed to load library \" + url);};\n",
       "  document.getElementsByTagName(\"head\")[0].appendChild(s);\n",
       "}\n",
       "\n",
       "if(typeof(LDAvis) !== \"undefined\"){\n",
       "   // already loaded: just create the visualization\n",
       "   !function(LDAvis){\n",
       "       new LDAvis(\"#\" + \"ldavis_el1857615709630894407782675289\", ldavis_el1857615709630894407782675289_data);\n",
       "   }(LDAvis);\n",
       "}else if(typeof define === \"function\" && define.amd){\n",
       "   // require.js is available: use it to load d3/LDAvis\n",
       "   require.config({paths: {d3: \"https://d3js.org/d3.v5\"}});\n",
       "   require([\"d3\"], function(d3){\n",
       "      window.d3 = d3;\n",
       "      LDAvis_load_lib(\"https://cdn.jsdelivr.net/gh/bmabey/pyLDAvis@3.3.1/pyLDAvis/js/ldavis.v3.0.0.js\", function(){\n",
       "        new LDAvis(\"#\" + \"ldavis_el1857615709630894407782675289\", ldavis_el1857615709630894407782675289_data);\n",
       "      });\n",
       "    });\n",
       "}else{\n",
       "    // require.js not available: dynamically load d3 & LDAvis\n",
       "    LDAvis_load_lib(\"https://d3js.org/d3.v5.js\", function(){\n",
       "         LDAvis_load_lib(\"https://cdn.jsdelivr.net/gh/bmabey/pyLDAvis@3.3.1/pyLDAvis/js/ldavis.v3.0.0.js\", function(){\n",
       "                 new LDAvis(\"#\" + \"ldavis_el1857615709630894407782675289\", ldavis_el1857615709630894407782675289_data);\n",
       "            })\n",
       "         });\n",
       "}\n",
       "</script>"
      ],
      "text/plain": [
       "PreparedData(topic_coordinates=              x         y  topics  cluster       Freq\n",
       "topic                                                \n",
       "2      0.410577 -0.033272       1        1  34.671750\n",
       "4      0.148588  0.359749       2        1  23.284763\n",
       "3     -0.334720 -0.213250       3        1  18.732085\n",
       "0     -0.309789  0.263152       4        1  15.152790\n",
       "1      0.085344 -0.376380       5        1   8.158612, topic_info=            Term          Freq         Total Category  logprob  loglift\n",
       "275       police  30648.000000  30648.000000  Default  30.0000  30.0000\n",
       "160     negative  12778.000000  12778.000000  Default  29.0000  29.0000\n",
       "6           hong  19060.000000  19060.000000  Default  28.0000  28.0000\n",
       "7           kong  18164.000000  18164.000000  Default  27.0000  27.0000\n",
       "46            hk  14746.000000  14746.000000  Default  26.0000  26.0000\n",
       "...          ...           ...           ...      ...      ...      ...\n",
       "337         wait    602.497636    603.314610   Topic5  -5.1730   2.5047\n",
       "1181   youngster    595.104102    595.923674   Topic5  -5.1854   2.5047\n",
       "1712    everywhe    572.334445    573.148713   Topic5  -5.2244   2.5047\n",
       "15347       decl   1686.873757   1696.470911   Topic5  -4.1435   2.5004\n",
       "13163     deepen   1292.867380   1317.996826   Topic5  -4.4095   2.4868\n",
       "\n",
       "[183 rows x 6 columns], token_table=      Topic      Freq       Term\n",
       "term                            \n",
       "197       5  0.999869        act\n",
       "500       4  0.999379      again\n",
       "369       4  0.999615        als\n",
       "137       1  0.999945       arst\n",
       "1832      3  0.999700       ason\n",
       "...     ...       ...        ...\n",
       "1106      3  0.999530        why\n",
       "52        3  0.999458    with_hk\n",
       "18        1  0.999927      world\n",
       "128       2  0.999817       year\n",
       "1181      5  0.998450  youngster\n",
       "\n",
       "[163 rows x 3 columns], R=30, lambda_step=0.01, plot_opts={'xlab': 'PC1', 'ylab': 'PC2'}, topic_order=[3, 5, 4, 1, 2])"
      ]
     },
     "execution_count": 44,
     "metadata": {},
     "output_type": "execute_result"
    }
   ],
   "source": [
    "pyLDAvis.enable_notebook()\n",
    "vis = pyLDAvis.gensim_models.prepare(lda_model, corpus, id2word, mds=\"mmds\", R=30) # R=30 is the number of words on the right\n",
    "vis"
   ]
  },
  {
   "cell_type": "markdown",
   "metadata": {},
   "source": [
    "After further stop word removal, let's run one last gensim & TfidF Topic review."
   ]
  },
  {
   "cell_type": "markdown",
   "metadata": {},
   "source": [
    "<a id='eda_gen_tfidf'></a>**TfidF** | Let's start working with gensim & TfidF"
   ]
  },
  {
   "cell_type": "code",
   "execution_count": 45,
   "metadata": {},
   "outputs": [],
   "source": [
    "bigrams_phrases = gensim.models.Phrases(data_words,min_count=5, threshold=50)\n",
    "trigrams_phrases = gensim.models.Phrases(bigrams_phrases[data_words], threshold=50)\n",
    "\n",
    "bigram = gensim.models.phrases.Phraser(bigrams_phrases)\n",
    "trigram = gensim.models.phrases.Phraser(trigrams_phrases)\n",
    "\n",
    "def make_bigrams(texts):\n",
    "    return([bigram[doc] for doc in texts])\n",
    "\n",
    "def make_trigrams(texts):\n",
    "    return([trigram[bigram[doc]] for doc in texts])\n",
    "\n",
    "data_bigrams = make_bigrams(data_words)\n",
    "data_bigrams_trigrams = make_trigrams(data_bigrams)"
   ]
  },
  {
   "cell_type": "code",
   "execution_count": 46,
   "metadata": {},
   "outputs": [
    {
     "name": "stdout",
     "output_type": "stream",
     "text": [
      "['jpn', 'thank', 'japan', 'brother_sister']\n"
     ]
    }
   ],
   "source": [
    "print(data_bigrams_trigrams[8])"
   ]
  },
  {
   "cell_type": "code",
   "execution_count": 47,
   "metadata": {},
   "outputs": [
    {
     "data": {
      "text/plain": [
       "'_JPN Thank japan brother sister!! #freehongkong #fightforhongkong'"
      ]
     },
     "execution_count": 47,
     "metadata": {},
     "output_type": "execute_result"
    }
   ],
   "source": [
    "df['tweet'][8]"
   ]
  },
  {
   "cell_type": "code",
   "execution_count": 48,
   "metadata": {},
   "outputs": [],
   "source": [
    "# we will run the same on data_bigrams_trigrams\n",
    "id2word = corpora.Dictionary(data_bigrams_trigrams)\n",
    "\n",
    "# making a single object from data_bigrams_trigrams making it simplier going forwards\n",
    "texts = data_bigrams_trigrams\n",
    "\n",
    "# convert all this to a bag of words corpus\n",
    "corpus = [id2word.doc2bow(text) for text in texts]\n",
    "\n",
    "tfidf =  TfidfModel(corpus, id2word=id2word)\n",
    "\n",
    "low_value = 0.03\n",
    "words = []\n",
    "words_missing_in_tfidf = []\n",
    "\n",
    "# goes through & looks for words that occur with the low_value threshold; then presumes that's ubiquitous & provides little value\n",
    "# we will note that come will be identified here that do provide value but we can manually remove words dropped that are valuable after\n",
    "for i in range(0, len(corpus)):\n",
    "    bow = corpus[i]\n",
    "    low_value_words = [] #reinitialize to be safe. You can skip this.\n",
    "    tfidf_ids = [id for id, value in tfidf[bow]]\n",
    "    bow_ids = [id for id, value in bow]\n",
    "    low_value_words = [id for id, value in tfidf[bow] if value < low_value]\n",
    "    words_missing_in_tfidf = [id for id in bow_ids if id not in tfidf_ids] # The words with tf-idf socre 0 will be missing\n",
    "\n",
    "    new_bow = [b for b in bow if b[0] not in low_value_words and b[0] not in words_missing_in_tfidf]  \n",
    "\n",
    "#reassign        \n",
    "corpus[i] = new_bow\n"
   ]
  },
  {
   "cell_type": "code",
   "execution_count": 49,
   "metadata": {},
   "outputs": [],
   "source": [
    "lda_model = gensim.models.ldamodel.LdaModel(corpus=corpus, \n",
    "                                           id2word=id2word,\n",
    "                                           num_topics=5,    # this may result for a lot in the \"mistake\" topic\n",
    "                                           random_state=100, \n",
    "                                           update_every=1,   \n",
    "                                           chunksize=100, \n",
    "                                           passes=10, # passing over the data this many times\n",
    "                                           alpha=\"auto\")\n"
   ]
  },
  {
   "cell_type": "markdown",
   "metadata": {},
   "source": [
    "**Visualizing the Data**"
   ]
  },
  {
   "cell_type": "code",
   "execution_count": 50,
   "metadata": {},
   "outputs": [
    {
     "data": {
      "text/html": [
       "\n",
       "<link rel=\"stylesheet\" type=\"text/css\" href=\"https://cdn.jsdelivr.net/gh/bmabey/pyLDAvis@3.3.1/pyLDAvis/js/ldavis.v1.0.0.css\">\n",
       "\n",
       "\n",
       "<div id=\"ldavis_el1857615707967112649358861912\"></div>\n",
       "<script type=\"text/javascript\">\n",
       "\n",
       "var ldavis_el1857615707967112649358861912_data = {\"mdsDat\": {\"x\": [-0.12334281126335539, -0.10041140725225609, -0.3902521392367378, 0.3037646115349787, 0.31024174621737066], \"y\": [0.36618389633244436, -0.3915177998314514, -0.008562688371258767, -0.19295178492752615, 0.22684837679779202], \"topics\": [1, 2, 3, 4, 5], \"cluster\": [1, 1, 1, 1, 1], \"Freq\": [28.009979855103413, 26.140709948949702, 22.532473601124096, 12.731507439397463, 10.585329155425327]}, \"tinfo\": {\"Term\": [\"police\", \"hk\", \"hong\", \"kong\", \"negative\", \"never\", \"arst\", \"china\", \"people\", \"fem\", \"law\", \"is_terrorist\", \"stop\", \"support\", \"world\", \"citizen\", \"year\", \"sanction\", \"terrorist\", \"brutality\", \"ccp\", \"justice\", \"rule\", \"need\", \"evil\", \"help\", \"fight\", \"truth\", \"thank\", \"hker\", \"people\", \"fem\", \"support\", \"world\", \"sanction\", \"justice\", \"evil\", \"fight\", \"thank\", \"truth\", \"hker\", \"for\", \"hu\", \"stand\", \"protest\", \"peaceful\", \"ppl\", \"shame\", \"deserve\", \"porter\", \"speak\", \"keep\", \"hkpolice\", \"joke\", \"protect\", \"thing\", \"suppss\", \"so\", \"stet\", \"thaten\", \"police\", \"arst\", \"ccp\", \"right\", \"attack\", \"face\", \"vernment\", \"journalist\", \"pss\", \"force\", \"democracy\", \"true\", \"protester\", \"officer\", \"live\", \"victim\", \"ca\", \"allow\", \"matter\", \"als\", \"try\", \"country\", \"criminal\", \"power\", \"student\", \"control\", \"cop\", \"shoot\", \"young\", \"tat\", \"hong\", \"kong\", \"law\", \"is_terrorist\", \"citizen\", \"year\", \"time\", \"charge\", \"riot\", \"life\", \"national_security\", \"tortu\", \"ason\", \"new\", \"ridiculous\", \"fe\", \"state\", \"city\", \"hope\", \"call\", \"bad\", \"family\", \"video\", \"again\", \"tell\", \"lose\", \"consequence\", \"first\", \"news\", \"claim\", \"hk\", \"china\", \"terrorist\", \"need\", \"rule\", \"help\", \"puppet\", \"watch\", \"vt\", \"only\", \"crime\", \"chinese\", \"with_hk\", \"well\", \"weapon\", \"violence\", \"turn\", \"official\", \"disgusting\", \"pay\", \"hate\", \"innocent\", \"group\", \"punish\", \"photo\", \"evidence\", \"konger\", \"too\", \"condemn\", \"prodemocracy\", \"city_fill_corruption_deserve\", \"dictatorship_international_financial\", \"british_joint_decl\", \"justice_intest_concern\", \"thaten_oppssion_deepen\", \"negative\", \"never\", \"stop\", \"brutality\", \"think\", \"act\", \"surnder\", \"od\", \"hongkonger\", \"autonomy\", \"why\", \"no_matter\", \"port\", \"ban\", \"hongkong\", \"june\", \"wrong\", \"bathe\", \"shameless\", \"actually\", \"none\", \"soon\", \"gun\", \"international\", \"normal\", \"assembly\", \"mass\", \"ground\", \"oppssion\", \"black\", \"investigation\"], \"Freq\": [30440.0, 18090.0, 21985.0, 20952.0, 13280.0, 9817.0, 13900.0, 9011.0, 14534.0, 13729.0, 10512.0, 10128.0, 6228.0, 10441.0, 10048.0, 7219.0, 7000.0, 7659.0, 4162.0, 3745.0, 6264.0, 6583.0, 4027.0, 4009.0, 6284.0, 3811.0, 6177.0, 6078.0, 6073.0, 5998.0, 14534.097643860914, 13728.238892519777, 10440.542728900256, 10047.828362899201, 7658.211732489949, 6582.873369697506, 6284.018273873377, 6176.24005182844, 6072.2137031257225, 6078.044274490459, 5997.438596225913, 5699.1820090253805, 5651.262848088212, 4325.843427584029, 4267.806695947153, 3782.2758774816193, 3312.3337175026086, 3136.818698609832, 3075.569318997621, 3009.5731794744634, 2783.5724761000306, 2654.4907526890065, 2560.159896818409, 2511.2436419572114, 2386.141464821092, 2341.537909217322, 2306.8699751689956, 2216.382440217458, 2211.630634922962, 2198.0375832986215, 30439.584040890604, 13899.97262341655, 6263.822803949689, 5274.618942219525, 4707.033717134878, 3720.7854322037233, 3452.923004856936, 3457.066639361571, 3318.6271631188233, 2735.5353864941394, 2768.0482027443577, 2665.4364503555357, 2463.876295174036, 2361.234966416768, 2340.91997423957, 2225.1458550157304, 2023.1046791951799, 2005.9873191706881, 1920.9209748452072, 1919.7903041231327, 1908.7709732584806, 1902.0658192418894, 1868.3930501933746, 1826.6622657775722, 1839.602000545633, 1749.5234182183274, 1721.8375830153411, 1683.684362012578, 1643.0546719504043, 1560.144312453116, 21984.726932339254, 20951.355772755527, 10511.175547109287, 10127.3129517508, 7218.356060412215, 6999.752812413144, 3746.193176350902, 2920.0303776745764, 2593.3738191082516, 2575.098114733376, 2459.6142825123106, 2366.4841645700776, 2226.4513519773195, 2130.429641916699, 2111.5554015646903, 2062.0671684751214, 2087.4707653786895, 2055.6271040040665, 2039.278282139171, 2015.6846255606044, 1946.162623425883, 1941.4387679623683, 1917.4983435597962, 1897.1247826344281, 1812.8945737787426, 1785.306999127718, 1774.0724319078622, 1602.5231931218757, 1591.9249588109572, 1581.5256023157078, 18089.34471718538, 9010.331883590547, 4161.79329799952, 4008.8747849934953, 4026.2901191281785, 3810.822085236359, 3600.9795207456946, 3225.9633249057106, 3121.797255620904, 2724.5323053663296, 2511.653409246179, 2149.1467449218057, 2047.1138763376052, 1971.4518288849704, 1790.4203020096336, 1705.912846048195, 1673.842596531296, 1649.3075635186158, 1477.760273044484, 1270.662217524808, 1138.1741572409792, 1130.449026678553, 1131.9678374844373, 1130.9322683745884, 1117.2431197276203, 1103.5286730947853, 1089.7525939751358, 1071.4212290887508, 886.791224971633, 832.4586762261813, 1567.6240221042003, 2491.108004769505, 1628.9694161952764, 1207.9722319016223, 1207.9722319016223, 13279.57324092609, 9816.158164356822, 6227.2664711456855, 3744.8481006881093, 2742.1243784326643, 2584.1256409717544, 2370.6779662050535, 2084.793001163118, 1974.4408045184202, 1886.7086816029373, 1801.968671024759, 1905.6645259969828, 1495.3590260215244, 1455.2784490488336, 1374.9324629290388, 1377.6284386103691, 1338.7477811503563, 1094.5573080637514, 1024.0943018849057, 1008.9404469766563, 847.3303915187064, 829.3339822221454, 808.8623590773296, 774.6654275689291, 777.5321734023765, 763.4133667538714, 751.1102889418862, 691.7537182285605, 671.0202197109063, 636.6450699453591, 651.7176511315262], \"Total\": [30440.0, 18090.0, 21985.0, 20952.0, 13280.0, 9817.0, 13900.0, 9011.0, 14534.0, 13729.0, 10512.0, 10128.0, 6228.0, 10441.0, 10048.0, 7219.0, 7000.0, 7659.0, 4162.0, 3745.0, 6264.0, 6583.0, 4027.0, 4009.0, 6284.0, 3811.0, 6177.0, 6078.0, 6073.0, 5998.0, 14534.918125901951, 13729.061812075948, 10441.360015492008, 10048.647564746674, 7659.03935135856, 6583.701240612652, 6284.8544291007875, 6177.062626169417, 6073.031281343916, 6078.868111321663, 5998.266320157708, 5700.002748406568, 5652.085611023803, 4326.66014411005, 4268.628261669088, 3783.1034636229147, 3313.156827254785, 3137.6380842088647, 3076.394407912126, 3010.3991344465358, 2784.3897330248074, 2655.3097784538136, 2560.991081581225, 2512.068843370685, 2386.9637310722437, 2342.35979583829, 2307.6899731179396, 2217.203051321148, 2212.462111641983, 2198.8673963597716, 30440.479928949622, 13900.87011526549, 6264.718166746866, 5275.5132248767295, 4707.929657302077, 3721.690459977432, 3453.816380903155, 3457.961194533079, 3319.522848399752, 2736.427319854934, 2768.9636274333207, 2666.3550709627957, 2464.7660901885547, 2362.130101200127, 2341.8093012521817, 2226.044018665838, 2023.9966151252913, 2006.8848055980425, 1921.8133249355544, 1920.6823934996958, 1909.6594794642162, 1902.952293358088, 1869.3005148534999, 1827.5535300222039, 1840.4999609786644, 1750.4197233876469, 1722.7355216817905, 1684.5778098953713, 1643.9466652174137, 1561.034142814623, 21985.58381948402, 20952.212271967688, 10512.036718662139, 10128.17861219299, 7219.220081633564, 7000.6145014274425, 3747.0499086449604, 2920.896933015485, 2594.2393426191716, 2575.962988043292, 2460.473729090429, 2367.366547528506, 2227.320985856357, 2131.290291516936, 2112.420344653749, 2062.920323540456, 2088.335323721002, 2056.492689487584, 2040.1428674373938, 2016.5459095831218, 1947.0242811178312, 1942.310434626656, 1918.3621156071742, 1897.9882744995261, 1813.7563897816956, 1786.1701646938259, 1774.9359309443525, 1603.3834361839583, 1592.7880021782862, 1582.388858880817, 18090.195154281115, 9011.169802171496, 4162.644484353738, 4009.718533316468, 4027.1404046425046, 3811.6704605282903, 3601.8325753992194, 3226.8054104773923, 3122.647169560035, 2725.385065426349, 2512.5068535384025, 2149.9840155869756, 2047.9615527429162, 1972.2956895071002, 1791.2731762135354, 1706.7615685935798, 1674.6906840937406, 1650.1585024266578, 1478.612878679819, 1271.5087584458695, 1139.02194576882, 1131.2965206403574, 1132.8166500126486, 1131.7847576874028, 1118.0919060141882, 1104.3784415035786, 1090.6011795240242, 1072.2654261032283, 887.6402775033006, 833.3114767761881, 1598.7258852653974, 2606.175656863219, 1698.7376799293652, 1397.0922380842242, 1397.0922380842242, 13280.424214731462, 9817.007783967661, 6228.116668736991, 3745.7001205573342, 2742.975675592309, 2584.97985389883, 2371.537769547577, 2085.644295970348, 1975.2896230792007, 1887.5807475002046, 1802.817113856913, 1906.5996496948387, 1496.2130572233382, 1456.1353801091172, 1375.775057964106, 1378.4872119840386, 1339.5983513755114, 1095.4162736558321, 1024.9529662669288, 1009.7962865202467, 848.1855646359319, 830.1837073222745, 809.714505379649, 775.5166225394486, 778.390030933055, 764.2809389959863, 751.9735328342603, 692.6053248438018, 671.870962896105, 637.4936699988162, 652.5914543132418], \"Category\": [\"Default\", \"Default\", \"Default\", \"Default\", \"Default\", \"Default\", \"Default\", \"Default\", \"Default\", \"Default\", \"Default\", \"Default\", \"Default\", \"Default\", \"Default\", \"Default\", \"Default\", \"Default\", \"Default\", \"Default\", \"Default\", \"Default\", \"Default\", \"Default\", \"Default\", \"Default\", \"Default\", \"Default\", \"Default\", \"Default\", \"Topic1\", \"Topic1\", \"Topic1\", \"Topic1\", \"Topic1\", \"Topic1\", \"Topic1\", \"Topic1\", \"Topic1\", \"Topic1\", \"Topic1\", \"Topic1\", \"Topic1\", \"Topic1\", \"Topic1\", \"Topic1\", \"Topic1\", \"Topic1\", \"Topic1\", \"Topic1\", \"Topic1\", \"Topic1\", \"Topic1\", \"Topic1\", \"Topic1\", \"Topic1\", \"Topic1\", \"Topic1\", \"Topic1\", \"Topic1\", \"Topic2\", \"Topic2\", \"Topic2\", \"Topic2\", \"Topic2\", \"Topic2\", \"Topic2\", \"Topic2\", \"Topic2\", \"Topic2\", \"Topic2\", \"Topic2\", \"Topic2\", \"Topic2\", \"Topic2\", \"Topic2\", \"Topic2\", \"Topic2\", \"Topic2\", \"Topic2\", \"Topic2\", \"Topic2\", \"Topic2\", \"Topic2\", \"Topic2\", \"Topic2\", \"Topic2\", \"Topic2\", \"Topic2\", \"Topic2\", \"Topic3\", \"Topic3\", \"Topic3\", \"Topic3\", \"Topic3\", \"Topic3\", \"Topic3\", \"Topic3\", \"Topic3\", \"Topic3\", \"Topic3\", \"Topic3\", \"Topic3\", \"Topic3\", \"Topic3\", \"Topic3\", \"Topic3\", \"Topic3\", \"Topic3\", \"Topic3\", \"Topic3\", \"Topic3\", \"Topic3\", \"Topic3\", \"Topic3\", \"Topic3\", \"Topic3\", \"Topic3\", \"Topic3\", \"Topic3\", \"Topic4\", \"Topic4\", \"Topic4\", \"Topic4\", \"Topic4\", \"Topic4\", \"Topic4\", \"Topic4\", \"Topic4\", \"Topic4\", \"Topic4\", \"Topic4\", \"Topic4\", \"Topic4\", \"Topic4\", \"Topic4\", \"Topic4\", \"Topic4\", \"Topic4\", \"Topic4\", \"Topic4\", \"Topic4\", \"Topic4\", \"Topic4\", \"Topic4\", \"Topic4\", \"Topic4\", \"Topic4\", \"Topic4\", \"Topic4\", \"Topic4\", \"Topic4\", \"Topic4\", \"Topic4\", \"Topic4\", \"Topic5\", \"Topic5\", \"Topic5\", \"Topic5\", \"Topic5\", \"Topic5\", \"Topic5\", \"Topic5\", \"Topic5\", \"Topic5\", \"Topic5\", \"Topic5\", \"Topic5\", \"Topic5\", \"Topic5\", \"Topic5\", \"Topic5\", \"Topic5\", \"Topic5\", \"Topic5\", \"Topic5\", \"Topic5\", \"Topic5\", \"Topic5\", \"Topic5\", \"Topic5\", \"Topic5\", \"Topic5\", \"Topic5\", \"Topic5\", \"Topic5\"], \"logprob\": [30.0, 29.0, 28.0, 27.0, 26.0, 25.0, 24.0, 23.0, 22.0, 21.0, 20.0, 19.0, 18.0, 17.0, 16.0, 15.0, 14.0, 13.0, 12.0, 11.0, 10.0, 9.0, 8.0, 7.0, 6.0, 5.0, 4.0, 3.0, 2.0, 1.0, -3.1483, -3.2053, -3.4791, -3.5174, -3.789, -3.9403, -3.9868, -4.0041, -4.0211, -4.0201, -4.0335, -4.0845, -4.0929, -4.3602, -4.3737, -4.4945, -4.6271, -4.6816, -4.7013, -4.723, -4.8011, -4.8485, -4.8847, -4.904, -4.9551, -4.974, -4.9889, -5.0289, -5.0311, -5.0372, -2.34, -3.1238, -3.9209, -4.0928, -4.2067, -4.4418, -4.5165, -4.5153, -4.5562, -4.7494, -4.7376, -4.7754, -4.854, -4.8965, -4.9052, -4.9559, -5.0511, -5.0596, -5.1029, -5.1035, -5.1093, -5.1128, -5.1306, -5.1532, -5.1462, -5.1964, -5.2123, -5.2347, -5.2592, -5.3109, -2.5168, -2.565, -3.2547, -3.292, -3.6306, -3.6613, -4.2864, -4.5356, -4.6542, -4.6613, -4.7072, -4.7458, -4.8068, -4.8509, -4.8598, -4.8835, -4.8712, -4.8866, -4.8946, -4.9062, -4.9413, -4.9438, -4.9562, -4.9668, -5.0123, -5.0276, -5.0339, -5.1356, -5.1422, -5.1488, -2.141, -2.8379, -3.6104, -3.6478, -3.6435, -3.6985, -3.7551, -3.8651, -3.8979, -4.034, -4.1154, -4.2712, -4.3199, -4.3575, -4.4539, -4.5022, -4.5212, -4.536, -4.6458, -4.7968, -4.9069, -4.9137, -4.9124, -4.9133, -4.9254, -4.9378, -4.9504, -4.9673, -5.1565, -5.2197, -4.5867, -4.1236, -4.5484, -4.8474, -4.8474, -2.2655, -2.5677, -3.0228, -3.5313, -3.843, -3.9023, -3.9885, -4.117, -4.1714, -4.2169, -4.2628, -4.2069, -4.4493, -4.4765, -4.5333, -4.5313, -4.56, -4.7613, -4.8279, -4.8428, -5.0174, -5.0388, -5.0638, -5.107, -5.1033, -5.1217, -5.1379, -5.2202, -5.2507, -5.3032, -5.2798], \"loglift\": [30.0, 29.0, 28.0, 27.0, 26.0, 25.0, 24.0, 23.0, 22.0, 21.0, 20.0, 19.0, 18.0, 17.0, 16.0, 15.0, 14.0, 13.0, 12.0, 11.0, 10.0, 9.0, 8.0, 7.0, 6.0, 5.0, 4.0, 3.0, 2.0, 1.0, 1.2726, 1.2725, 1.2725, 1.2725, 1.2725, 1.2725, 1.2725, 1.2725, 1.2725, 1.2725, 1.2725, 1.2725, 1.2725, 1.2724, 1.2724, 1.2724, 1.2724, 1.2723, 1.2723, 1.2723, 1.2723, 1.2723, 1.2723, 1.2723, 1.2723, 1.2723, 1.2723, 1.2722, 1.2722, 1.2722, 1.3416, 1.3416, 1.3415, 1.3415, 1.3415, 1.3414, 1.3414, 1.3414, 1.3414, 1.3414, 1.3413, 1.3413, 1.3413, 1.3413, 1.3413, 1.3413, 1.3412, 1.3412, 1.3412, 1.3412, 1.3412, 1.3412, 1.3412, 1.3412, 1.3412, 1.3412, 1.3412, 1.3411, 1.3411, 1.3411, 1.4902, 1.4902, 1.4901, 1.4901, 1.4901, 1.4901, 1.49, 1.4899, 1.4899, 1.4899, 1.4899, 1.4898, 1.4898, 1.4898, 1.4898, 1.4898, 1.4898, 1.4898, 1.4898, 1.4898, 1.4898, 1.4898, 1.4898, 1.4898, 1.4897, 1.4897, 1.4897, 1.4897, 1.4897, 1.4897, 2.061, 2.061, 2.0609, 2.0609, 2.0609, 2.0609, 2.0609, 2.0608, 2.0608, 2.0608, 2.0608, 2.0607, 2.0607, 2.0607, 2.0606, 2.0606, 2.0606, 2.0606, 2.0605, 2.0604, 2.0603, 2.0603, 2.0603, 2.0603, 2.0603, 2.0603, 2.0603, 2.0603, 2.0601, 2.0601, 2.0414, 2.0159, 2.0192, 1.9156, 1.9156, 2.2456, 2.2456, 2.2456, 2.2455, 2.2454, 2.2454, 2.2453, 2.2453, 2.2453, 2.2452, 2.2452, 2.2452, 2.2451, 2.2451, 2.2451, 2.2451, 2.2451, 2.2449, 2.2449, 2.2449, 2.2447, 2.2447, 2.2446, 2.2446, 2.2446, 2.2446, 2.2446, 2.2445, 2.2444, 2.2444, 2.2444]}, \"token.table\": {\"Topic\": [5, 5, 3, 2, 2, 2, 3, 5, 2, 5, 3, 5, 5, 5, 1, 3, 4, 5, 2, 3, 2, 3, 4, 4, 3, 3, 1, 2, 3, 4, 5, 3, 4, 3, 2, 2, 2, 4, 2, 2, 1, 1, 2, 3, 4, 5, 4, 4, 1, 2, 3, 3, 1, 1, 3, 1, 2, 5, 4, 5, 4, 4, 4, 1, 1, 3, 5, 5, 3, 1, 4, 5, 5, 3, 1, 2, 5, 1, 1, 2, 3, 4, 5, 1, 3, 4, 3, 3, 2, 3, 5, 2, 3, 4, 5, 5, 3, 3, 5, 5, 5, 5, 2, 4, 4, 5, 4, 1, 1, 4, 2, 5, 1, 2, 1, 4, 1, 1, 2, 2, 4, 4, 3, 2, 3, 4, 1, 1, 5, 2, 1, 5, 1, 1, 3, 1, 5, 2, 1, 1, 5, 2, 3, 4, 1, 1, 1, 2, 3, 4, 5, 1, 5, 3, 4, 3, 2, 1, 2, 4, 2, 2, 3, 4, 4, 4, 4, 4, 5, 4, 1, 5, 3, 2], \"Freq\": [0.999620943313213, 0.999211438454591, 0.9994793042123579, 0.9995591149050637, 0.9996447129926295, 0.999937405697753, 0.9994069171597874, 0.9983239945802272, 0.9998025337314385, 0.9996923323672517, 0.9994739248360872, 0.9992202784681792, 0.9996199858758326, 0.9992256079988729, 0.033554327235721354, 0.007064068891730811, 0.9589473520524576, 0.9998130868636569, 0.9995076003992084, 0.9997292848228609, 0.9998853632792808, 0.999692925482804, 0.9998701830952942, 0.999542314928929, 0.9998309953679527, 0.9997604224463804, 0.013760958149713, 0.0006254980977142273, 0.003752988586285363, 0.9807810172159083, 0.0006254980977142273, 0.9997542583299708, 0.9992786745717516, 0.9994726959277597, 0.9997602155745625, 0.9995730501446488, 0.9994995705560188, 0.9997982677986773, 0.999304277272078, 0.9996519898550585, 0.9998717954007744, 0.02685927934890301, 0.0030696319255889156, 0.008825191786068132, 0.9558066408302486, 0.005755559860479217, 0.9995855043002424, 0.9996573262485426, 0.999864049500203, 0.9998144767855207, 0.9993253217388456, 0.9995538734434122, 0.9999226595312569, 0.9998279722525534, 0.9997608580859043, 0.9998240793117428, 0.9998438402321767, 0.9991260176292489, 0.9992790978022441, 0.9991175835743316, 0.999102786585793, 0.9998241032284314, 0.9999339335882824, 0.9997888856395969, 0.9996130085776741, 0.9999734453499705, 0.9994366390351247, 0.9993471220300392, 0.9994398100958345, 0.9998079273566406, 0.9988539515355148, 0.9993338343441861, 0.9990936836372395, 0.9998836303902093, 0.9995745166883042, 0.9997220343205128, 0.9996465603889517, 0.9998934883909485, 0.040083251823652334, 0.002147317061981375, 0.0035788617699689584, 0.8646530036245004, 0.09018731660321776, 0.9995067323351717, 0.9999421410993764, 0.9994487631818932, 0.9999013779451228, 0.9996261638665765, 0.9996544119746433, 0.9993448750197736, 0.9987053628994216, 0.9995767929564222, 0.9998074642761562, 0.9998208020561798, 0.9999680571399977, 0.999897343061161, 0.9993945960707128, 0.9995052686376288, 0.999685487357068, 0.9986022343631363, 0.9994989260941749, 0.9996910806067971, 0.9995215753782771, 0.9992979447580617, 0.9998587115519074, 0.9987036753421361, 0.9995998781428047, 0.9997083178841062, 0.9999368330874657, 0.9990234201604404, 0.999984233857326, 0.9991892483376736, 0.9998674147750148, 0.9996971196667508, 0.9996508383650092, 0.9984261865908031, 0.9995962523185006, 0.9998528188376745, 0.9996891834111138, 0.9998424929052667, 0.9993066193177876, 0.9997688467240521, 0.9998010127791029, 0.9999027156496719, 0.9995222712882303, 0.9997168202426739, 0.9998642974254498, 0.9997966354972309, 0.9990702341489877, 0.9996570001741818, 0.9994574013776361, 0.9985741621862316, 0.9998600292839092, 0.9998474240896991, 0.9993605798332124, 0.9997911324042336, 0.999820705231391, 0.999728355887387, 0.9999655202491368, 0.9997010113464213, 0.9997732401505544, 0.9993375271006191, 0.9995829705764474, 0.9998451742981749, 0.9998301867228835, 0.9996055258442562, 0.040083251823652334, 0.002147317061981375, 0.0035788617699689584, 0.8646530036245004, 0.09018731660321776, 0.9998463959982026, 0.9996443003118872, 0.9997198039336124, 0.9988198574043117, 0.999422756256342, 0.9994917890053157, 0.9998571919466314, 0.9996546612255703, 0.9995875751263796, 0.9997636293267735, 0.999530998193619, 0.9992899590770207, 0.9995537932142406, 0.9997927497008489, 0.9997504000474348, 0.9992892339200732, 0.9993430551443206, 0.9995467572109048, 0.9995304830104704, 0.9999355570247138, 0.9995533352404495, 0.999912221787485, 0.9994241508940386], \"Term\": [\"act\", \"actually\", \"again\", \"allow\", \"als\", \"arst\", \"ason\", \"assembly\", \"attack\", \"autonomy\", \"bad\", \"ban\", \"bathe\", \"black\", \"british_joint_decl\", \"british_joint_decl\", \"british_joint_decl\", \"brutality\", \"ca\", \"call\", \"ccp\", \"charge\", \"china\", \"chinese\", \"citizen\", \"city\", \"city_fill_corruption_deserve\", \"city_fill_corruption_deserve\", \"city_fill_corruption_deserve\", \"city_fill_corruption_deserve\", \"city_fill_corruption_deserve\", \"claim\", \"condemn\", \"consequence\", \"control\", \"cop\", \"country\", \"crime\", \"criminal\", \"democracy\", \"deserve\", \"dictatorship_international_financial\", \"dictatorship_international_financial\", \"dictatorship_international_financial\", \"dictatorship_international_financial\", \"dictatorship_international_financial\", \"disgusting\", \"evidence\", \"evil\", \"face\", \"family\", \"fe\", \"fem\", \"fight\", \"first\", \"for\", \"force\", \"ground\", \"group\", \"gun\", \"hate\", \"help\", \"hk\", \"hker\", \"hkpolice\", \"hong\", \"hongkong\", \"hongkonger\", \"hope\", \"hu\", \"innocent\", \"international\", \"investigation\", \"is_terrorist\", \"joke\", \"journalist\", \"june\", \"justice\", \"justice_intest_concern\", \"justice_intest_concern\", \"justice_intest_concern\", \"justice_intest_concern\", \"justice_intest_concern\", \"keep\", \"kong\", \"konger\", \"law\", \"life\", \"live\", \"lose\", \"mass\", \"matter\", \"national_security\", \"need\", \"negative\", \"never\", \"new\", \"news\", \"no_matter\", \"none\", \"normal\", \"od\", \"officer\", \"official\", \"only\", \"oppssion\", \"pay\", \"peaceful\", \"people\", \"photo\", \"police\", \"port\", \"porter\", \"power\", \"ppl\", \"prodemocracy\", \"protect\", \"protest\", \"protester\", \"pss\", \"punish\", \"puppet\", \"ridiculous\", \"right\", \"riot\", \"rule\", \"sanction\", \"shame\", \"shameless\", \"shoot\", \"so\", \"soon\", \"speak\", \"stand\", \"state\", \"stet\", \"stop\", \"student\", \"support\", \"suppss\", \"surnder\", \"tat\", \"tell\", \"terrorist\", \"thank\", \"thaten\", \"thaten_oppssion_deepen\", \"thaten_oppssion_deepen\", \"thaten_oppssion_deepen\", \"thaten_oppssion_deepen\", \"thaten_oppssion_deepen\", \"thing\", \"think\", \"time\", \"too\", \"tortu\", \"true\", \"truth\", \"try\", \"turn\", \"vernment\", \"victim\", \"video\", \"violence\", \"vt\", \"watch\", \"weapon\", \"well\", \"why\", \"with_hk\", \"world\", \"wrong\", \"year\", \"young\"]}, \"R\": 30, \"lambda.step\": 0.01, \"plot.opts\": {\"xlab\": \"PC1\", \"ylab\": \"PC2\"}, \"topic.order\": [3, 4, 5, 2, 1]};\n",
       "\n",
       "function LDAvis_load_lib(url, callback){\n",
       "  var s = document.createElement('script');\n",
       "  s.src = url;\n",
       "  s.async = true;\n",
       "  s.onreadystatechange = s.onload = callback;\n",
       "  s.onerror = function(){console.warn(\"failed to load library \" + url);};\n",
       "  document.getElementsByTagName(\"head\")[0].appendChild(s);\n",
       "}\n",
       "\n",
       "if(typeof(LDAvis) !== \"undefined\"){\n",
       "   // already loaded: just create the visualization\n",
       "   !function(LDAvis){\n",
       "       new LDAvis(\"#\" + \"ldavis_el1857615707967112649358861912\", ldavis_el1857615707967112649358861912_data);\n",
       "   }(LDAvis);\n",
       "}else if(typeof define === \"function\" && define.amd){\n",
       "   // require.js is available: use it to load d3/LDAvis\n",
       "   require.config({paths: {d3: \"https://d3js.org/d3.v5\"}});\n",
       "   require([\"d3\"], function(d3){\n",
       "      window.d3 = d3;\n",
       "      LDAvis_load_lib(\"https://cdn.jsdelivr.net/gh/bmabey/pyLDAvis@3.3.1/pyLDAvis/js/ldavis.v3.0.0.js\", function(){\n",
       "        new LDAvis(\"#\" + \"ldavis_el1857615707967112649358861912\", ldavis_el1857615707967112649358861912_data);\n",
       "      });\n",
       "    });\n",
       "}else{\n",
       "    // require.js not available: dynamically load d3 & LDAvis\n",
       "    LDAvis_load_lib(\"https://d3js.org/d3.v5.js\", function(){\n",
       "         LDAvis_load_lib(\"https://cdn.jsdelivr.net/gh/bmabey/pyLDAvis@3.3.1/pyLDAvis/js/ldavis.v3.0.0.js\", function(){\n",
       "                 new LDAvis(\"#\" + \"ldavis_el1857615707967112649358861912\", ldavis_el1857615707967112649358861912_data);\n",
       "            })\n",
       "         });\n",
       "}\n",
       "</script>"
      ],
      "text/plain": [
       "PreparedData(topic_coordinates=              x         y  topics  cluster       Freq\n",
       "topic                                                \n",
       "2     -0.123343  0.366184       1        1  28.009980\n",
       "3     -0.100411 -0.391518       2        1  26.140710\n",
       "4     -0.390252 -0.008563       3        1  22.532474\n",
       "1      0.303765 -0.192952       4        1  12.731507\n",
       "0      0.310242  0.226848       5        1  10.585329, topic_info=               Term          Freq         Total Category  logprob  loglift\n",
       "265          police  30440.000000  30440.000000  Default  30.0000  30.0000\n",
       "43               hk  18090.000000  18090.000000  Default  29.0000  29.0000\n",
       "6              hong  21985.000000  21985.000000  Default  28.0000  28.0000\n",
       "7              kong  20952.000000  20952.000000  Default  27.0000  27.0000\n",
       "153        negative  13280.000000  13280.000000  Default  26.0000  26.0000\n",
       "...             ...           ...           ...      ...      ...      ...\n",
       "753            mass    751.110289    751.973533   Topic5  -5.1379   2.2446\n",
       "2019         ground    691.753718    692.605325   Topic5  -5.2202   2.2445\n",
       "1198       oppssion    671.020220    671.870963   Topic5  -5.2507   2.2444\n",
       "1206          black    636.645070    637.493670   Topic5  -5.3032   2.2444\n",
       "1660  investigation    651.717651    652.591454   Topic5  -5.2798   2.2444\n",
       "\n",
       "[186 rows x 6 columns], token_table=      Topic      Freq      Term\n",
       "term                           \n",
       "191       5  0.999621       act\n",
       "1149      5  0.999211  actually\n",
       "483       3  0.999479     again\n",
       "129       2  0.999559     allow\n",
       "360       2  0.999645       als\n",
       "...     ...       ...       ...\n",
       "49        4  0.999530   with_hk\n",
       "18        1  0.999936     world\n",
       "2001      5  0.999553     wrong\n",
       "123       3  0.999912      year\n",
       "506       2  0.999424     young\n",
       "\n",
       "[174 rows x 3 columns], R=30, lambda_step=0.01, plot_opts={'xlab': 'PC1', 'ylab': 'PC2'}, topic_order=[3, 4, 5, 2, 1])"
      ]
     },
     "execution_count": 50,
     "metadata": {},
     "output_type": "execute_result"
    }
   ],
   "source": [
    "pyLDAvis.enable_notebook()\n",
    "vis = pyLDAvis.gensim_models.prepare(lda_model, corpus, id2word, mds=\"mmds\", R=30) # R=30 is the number of words on the right\n",
    "vis"
   ]
  },
  {
   "cell_type": "markdown",
   "metadata": {},
   "source": [
    "For this round with 5 topics, we will outline what is observed visually:\n",
    "   * The **sizes look to be reasonably similar**\n",
    "   * The **distance between the center for all** circles **indicates they are distinct**\n",
    "   * On the right side, **the top words & trigrams to be the following for each topic**:\n",
    "     * **Topic 1** | people, support & world\n",
    "     * **Topic 2** | police, arst & ccp\n",
    "       * Unsure what arst is referring too but could be a lemmatization adjustment to the word arrest given its proximity to police; to be confirmed later \n",
    "     * **Topic 3** | law, is_terrorist & citizen\n",
    "     * **Topic 4** | china, terrorist, rule, need & help\n",
    "     * **Topic 5** | negative, never & stop\n",
    "       * As a reminder, all profanity was changed to the word negative "
   ]
  },
  {
   "cell_type": "markdown",
   "metadata": {},
   "source": [
    "<a id='eda_cscore'></a>**Coherence Score** | **Instead of manual assignment, we can use an iterative approach & build several models with differing numbers of topics to ultimately select the one that has the highest coherence score.**\n",
    "\n",
    "We will first have to downgrade the genism to ensure this approach works."
   ]
  },
  {
   "cell_type": "code",
   "execution_count": 51,
   "metadata": {},
   "outputs": [
    {
     "name": "stdout",
     "output_type": "stream",
     "text": [
      "Requirement already satisfied: gensim==3.8.3 in c:\\users\\rands\\anaconda3\\lib\\site-packages (3.8.3)\n",
      "Requirement already satisfied: six>=1.5.0 in c:\\users\\rands\\anaconda3\\lib\\site-packages (from gensim==3.8.3) (1.16.0)\n",
      "Requirement already satisfied: smart-open>=1.8.1 in c:\\users\\rands\\anaconda3\\lib\\site-packages (from gensim==3.8.3) (3.0.0)\n",
      "Requirement already satisfied: scipy>=0.18.1 in c:\\users\\rands\\anaconda3\\lib\\site-packages (from gensim==3.8.3) (1.6.2)\n",
      "Requirement already satisfied: numpy>=1.11.3 in c:\\users\\rands\\anaconda3\\lib\\site-packages (from gensim==3.8.3) (1.20.3)\n",
      "Requirement already satisfied: Cython==0.29.14 in c:\\users\\rands\\anaconda3\\lib\\site-packages (from gensim==3.8.3) (0.29.14)\n",
      "Requirement already satisfied: requests in c:\\users\\rands\\anaconda3\\lib\\site-packages (from smart-open>=1.8.1->gensim==3.8.3) (2.25.1)\n",
      "Requirement already satisfied: certifi>=2017.4.17 in c:\\users\\rands\\anaconda3\\lib\\site-packages (from requests->smart-open>=1.8.1->gensim==3.8.3) (2021.5.30)\n",
      "Requirement already satisfied: idna<3,>=2.5 in c:\\users\\rands\\anaconda3\\lib\\site-packages (from requests->smart-open>=1.8.1->gensim==3.8.3) (2.10)\n",
      "Requirement already satisfied: chardet<5,>=3.0.2 in c:\\users\\rands\\anaconda3\\lib\\site-packages (from requests->smart-open>=1.8.1->gensim==3.8.3) (3.0.4)\n",
      "Requirement already satisfied: urllib3<1.27,>=1.21.1 in c:\\users\\rands\\anaconda3\\lib\\site-packages (from requests->smart-open>=1.8.1->gensim==3.8.3) (1.26.4)\n"
     ]
    }
   ],
   "source": [
    "# gensim uninstalled a lot of things (wrappers in this case ) so we must move back to version 3.8.3\n",
    "!pip install gensim==3.8.3"
   ]
  },
  {
   "cell_type": "code",
   "execution_count": 52,
   "metadata": {},
   "outputs": [
    {
     "name": "stdout",
     "output_type": "stream",
     "text": [
      "Avg. Coherence Score (Cv): 0.31082793704061407\n",
      "Model Perplexity: -8.50105\n"
     ]
    }
   ],
   "source": [
    "cv_coherence_model_lda = gensim.models.CoherenceModel(model=lda_model,\n",
    "                                                      corpus=corpus,\n",
    "                                                      texts=data_bigrams_trigrams,\n",
    "                                                      dictionary=id2word,\n",
    "                                                      coherence='c_v')\n",
    "avg_coherence_cv = cv_coherence_model_lda.get_coherence()\n",
    "\n",
    "perplexity = -8.50105\n",
    "print('Avg. Coherence Score (Cv):', avg_coherence_cv)\n",
    "print('Model Perplexity:', perplexity)\n"
   ]
  },
  {
   "cell_type": "code",
   "execution_count": 53,
   "metadata": {},
   "outputs": [],
   "source": [
    "def topic_model_coherence_generator(corpus, texts, dictionary, \n",
    "                                    start_topic_count=2, end_topic_count=30, step=1,\n",
    "                                    cpus=1):\n",
    "    \n",
    "    models = []\n",
    "    coherence_scores = []\n",
    "    for topic_nums in tqdm(range(start_topic_count, end_topic_count+1, step)):\n",
    "        ldamodel = gensim.models.LdaModel(corpus=corpus,\n",
    "                                          num_topics=topic_nums,\n",
    "                                          id2word=id2word,\n",
    "                                          iterations=500)\n",
    "        cv_coherence_model_lda = gensim.models.CoherenceModel(model=ldamodel,\n",
    "                                                              corpus=corpus,\n",
    "                                                              texts=texts,\n",
    "                                                              dictionary=id2word,\n",
    "                                                              coherence='c_v')\n",
    "        coherence_score = cv_coherence_model_lda.get_coherence()\n",
    "        coherence_scores.append(coherence_score)\n",
    "        models.append(ldamodel)\n",
    "    \n",
    "    return models, coherence_scores"
   ]
  },
  {
   "cell_type": "markdown",
   "metadata": {},
   "source": [
    "We will now run the previously defined `topic_model_coherence_generator` over 30 rounds as we have reason to believe the data doesn't fit well on +25 topics."
   ]
  },
  {
   "cell_type": "code",
   "execution_count": 54,
   "metadata": {},
   "outputs": [
    {
     "name": "stderr",
     "output_type": "stream",
     "text": [
      "100%|██████████| 29/29 [26:26<00:00, 54.72s/it]\n"
     ]
    }
   ],
   "source": [
    "lda_models, coherence_scores = topic_model_coherence_generator(corpus=corpus, texts=data_bigrams_trigrams,\n",
    "                                                               dictionary=id2word, start_topic_count=2,\n",
    "                                                               end_topic_count=30, step=1, cpus=4)\n"
   ]
  },
  {
   "cell_type": "code",
   "execution_count": 55,
   "metadata": {},
   "outputs": [
    {
     "data": {
      "text/html": [
       "<div>\n",
       "<style scoped>\n",
       "    .dataframe tbody tr th:only-of-type {\n",
       "        vertical-align: middle;\n",
       "    }\n",
       "\n",
       "    .dataframe tbody tr th {\n",
       "        vertical-align: top;\n",
       "    }\n",
       "\n",
       "    .dataframe thead th {\n",
       "        text-align: right;\n",
       "    }\n",
       "</style>\n",
       "<table border=\"1\" class=\"dataframe\">\n",
       "  <thead>\n",
       "    <tr style=\"text-align: right;\">\n",
       "      <th></th>\n",
       "      <th>Number of Topics</th>\n",
       "      <th>Coherence Score</th>\n",
       "    </tr>\n",
       "  </thead>\n",
       "  <tbody>\n",
       "    <tr>\n",
       "      <th>2</th>\n",
       "      <td>4</td>\n",
       "      <td>0.3876</td>\n",
       "    </tr>\n",
       "    <tr>\n",
       "      <th>4</th>\n",
       "      <td>6</td>\n",
       "      <td>0.3863</td>\n",
       "    </tr>\n",
       "    <tr>\n",
       "      <th>3</th>\n",
       "      <td>5</td>\n",
       "      <td>0.3782</td>\n",
       "    </tr>\n",
       "    <tr>\n",
       "      <th>10</th>\n",
       "      <td>12</td>\n",
       "      <td>0.3757</td>\n",
       "    </tr>\n",
       "    <tr>\n",
       "      <th>6</th>\n",
       "      <td>8</td>\n",
       "      <td>0.3714</td>\n",
       "    </tr>\n",
       "    <tr>\n",
       "      <th>7</th>\n",
       "      <td>9</td>\n",
       "      <td>0.3697</td>\n",
       "    </tr>\n",
       "    <tr>\n",
       "      <th>11</th>\n",
       "      <td>13</td>\n",
       "      <td>0.3656</td>\n",
       "    </tr>\n",
       "    <tr>\n",
       "      <th>8</th>\n",
       "      <td>10</td>\n",
       "      <td>0.3569</td>\n",
       "    </tr>\n",
       "    <tr>\n",
       "      <th>14</th>\n",
       "      <td>16</td>\n",
       "      <td>0.3551</td>\n",
       "    </tr>\n",
       "    <tr>\n",
       "      <th>12</th>\n",
       "      <td>14</td>\n",
       "      <td>0.3543</td>\n",
       "    </tr>\n",
       "  </tbody>\n",
       "</table>\n",
       "</div>"
      ],
      "text/plain": [
       "    Number of Topics  Coherence Score\n",
       "2                  4           0.3876\n",
       "4                  6           0.3863\n",
       "3                  5           0.3782\n",
       "10                12           0.3757\n",
       "6                  8           0.3714\n",
       "7                  9           0.3697\n",
       "11                13           0.3656\n",
       "8                 10           0.3569\n",
       "14                16           0.3551\n",
       "12                14           0.3543"
      ]
     },
     "execution_count": 55,
     "metadata": {},
     "output_type": "execute_result"
    }
   ],
   "source": [
    "coherence_df = pd.DataFrame({'Number of Topics': range(2, 31, 1),\n",
    "                             'Coherence Score': np.round(coherence_scores, 4)})\n",
    "coherence_df.sort_values(by=['Coherence Score'], ascending=False).head(10)\n"
   ]
  },
  {
   "cell_type": "markdown",
   "metadata": {},
   "source": [
    "**The Coherence Score indicates that the optimal number of Topics is 4 mathematically; let's visualize it**."
   ]
  },
  {
   "cell_type": "code",
   "execution_count": 76,
   "metadata": {},
   "outputs": [
    {
     "data": {
      "image/png": "[encoded data removed]",
      "text/plain": [
       "<Figure size 864x432 with 1 Axes>"
      ]
     },
     "metadata": {},
     "output_type": "display_data"
    }
   ],
   "source": [
    "plt.style.use('fivethirtyeight')\n",
    "\n",
    "x_ax = range(2, 31, 1)\n",
    "y_ax = coherence_scores\n",
    "plt.figure(figsize=(12, 6))\n",
    "plt.plot(x_ax, y_ax, c='r')\n",
    "plt.axvline(x=4, c='k', linestyle='--', linewidth=2)\n",
    "plt.rcParams['figure.facecolor'] = 'white'\n",
    "xl = plt.xlabel('Number of Topics')\n",
    "yl = plt.ylabel('Coherence Score')\n",
    "#plt.axvline((three_down), color='g', linewidth=2)"
   ]
  },
  {
   "cell_type": "markdown",
   "metadata": {},
   "source": [
    "**Visually confirmed; we will use that** going forwards.\n",
    "\n",
    "Let's see what **4** topics looks like with pyLDAvis."
   ]
  },
  {
   "cell_type": "code",
   "execution_count": 77,
   "metadata": {},
   "outputs": [],
   "source": [
    "lda_model = gensim.models.ldamodel.LdaModel(corpus=corpus, \n",
    "                                           id2word=id2word,\n",
    "                                           num_topics=4,    # the best result from the coherence_score\n",
    "                                           random_state=100, \n",
    "                                           update_every=1,   \n",
    "                                           chunksize=100, \n",
    "                                           passes=10, # passing over the data this many times\n",
    "                                           alpha=\"auto\")\n"
   ]
  },
  {
   "cell_type": "code",
   "execution_count": 78,
   "metadata": {},
   "outputs": [
    {
     "data": {
      "text/html": [
       "\n",
       "<link rel=\"stylesheet\" type=\"text/css\" href=\"https://cdn.jsdelivr.net/gh/bmabey/pyLDAvis@3.3.1/pyLDAvis/js/ldavis.v1.0.0.css\">\n",
       "\n",
       "\n",
       "<div id=\"ldavis_el1857615715148834246399037290\"></div>\n",
       "<script type=\"text/javascript\">\n",
       "\n",
       "var ldavis_el1857615715148834246399037290_data = {\"mdsDat\": {\"x\": [-0.3728517120940377, 0.11493284257995239, 0.3575617635771764, -0.09964289406309108], \"y\": [0.10565028022460307, 0.3507445209744984, -0.116802377606529, -0.3395924235925724], \"topics\": [1, 2, 3, 4], \"cluster\": [1, 1, 1, 1], \"Freq\": [30.316386426602964, 26.6806149896418, 25.745640311337947, 17.25735827241729]}, \"tinfo\": {\"Term\": [\"police\", \"hong\", \"kong\", \"hk\", \"negative\", \"fem\", \"people\", \"arst\", \"never\", \"support\", \"world\", \"china\", \"law\", \"citizen\", \"is_terrorist\", \"year\", \"sanction\", \"right\", \"hker\", \"stop\", \"justice\", \"evil\", \"fight\", \"truth\", \"thank\", \"for\", \"ccp\", \"hu\", \"face\", \"need\", \"police\", \"arst\", \"law\", \"is_terrorist\", \"ccp\", \"attack\", \"vernment\", \"journalist\", \"pss\", \"force\", \"democracy\", \"charge\", \"protester\", \"true\", \"ppl\", \"officer\", \"riot\", \"victim\", \"national_security\", \"speak\", \"allow\", \"try\", \"country\", \"als\", \"power\", \"fe\", \"ridiculous\", \"state\", \"criminal\", \"control\", \"negative\", \"people\", \"never\", \"china\", \"world\", \"citizen\", \"year\", \"sanction\", \"right\", \"stop\", \"hu\", \"brutality\", \"help\", \"live\", \"think\", \"life\", \"porter\", \"act\", \"only\", \"surnder\", \"new\", \"od\", \"city\", \"thing\", \"video\", \"tell\", \"thaten\", \"lieve\", \"why\", \"first\", \"hkpolice\", \"hub\", \"hong\", \"kong\", \"fem\", \"support\", \"justice\", \"fight\", \"thank\", \"evil\", \"truth\", \"for\", \"face\", \"terrorist\", \"rule\", \"stand\", \"peaceful\", \"watch\", \"shame\", \"deserve\", \"ca\", \"keep\", \"tortu\", \"matter\", \"joke\", \"hope\", \"hongkonger\", \"with_hk\", \"again\", \"lose\", \"lie\", \"autonomy\", \"no_matter\", \"hk\", \"hker\", \"time\", \"need\", \"protest\", \"puppet\", \"vt\", \"crime\", \"ason\", \"student\", \"chinese\", \"call\", \"bad\", \"family\", \"so\", \"well\", \"turn\", \"official\", \"protestor\", \"wel\", \"professional\", \"father\", \"disgusting\", \"pay\", \"death\", \"hate\", \"photo\", \"punish\", \"head\", \"too\"], \"Freq\": [29988.0, 25181.0, 23998.0, 16894.0, 14220.0, 13326.0, 13640.0, 13694.0, 10511.0, 10135.0, 9430.0, 9381.0, 8917.0, 7993.0, 8591.0, 7751.0, 7187.0, 6784.0, 5049.0, 6668.0, 6390.0, 6100.0, 5996.0, 5900.0, 5895.0, 5532.0, 6171.0, 5304.0, 4950.0, 3744.0, 29987.19022103852, 13693.399655074672, 8916.226866753008, 8590.593352554344, 6170.740964161603, 4637.086062266091, 3401.6130715644736, 3405.6909479408037, 3269.305300846139, 2694.888904000694, 2726.8721443997324, 2476.9602347147106, 2427.273829877937, 2625.7836095383864, 2381.1787754069087, 2326.1445094267874, 2199.8704462343107, 2192.0708421256663, 2086.3854811867673, 2001.0572490898842, 1976.1835001418954, 1880.4211537464703, 1873.8106458292496, 1891.26431850007, 1799.5264347169227, 1749.18421807423, 1791.1495182639057, 1770.7248116245587, 1840.6098105212254, 1723.525645161781, 14219.63207288024, 13639.375184904547, 10511.043104807033, 9381.003715918965, 9429.27445297368, 7993.06683665291, 7751.015090391961, 7186.746322139165, 6783.243642539089, 6668.101426302206, 5303.388591537821, 4009.9485645476916, 3967.6032358828015, 3010.4742143826365, 2936.261380384445, 2851.5079456250774, 2824.29828527079, 2767.0638924565, 2836.526367368917, 2538.4570290939623, 2359.090048128551, 2232.400689663757, 2276.2669442363813, 2197.4081298929973, 2123.326557793034, 2007.4964931649777, 2062.7272647158047, 1987.9214993970115, 1929.555310627287, 1774.5249464084852, 2401.9776956887536, 2698.7166931233105, 25180.82998137225, 23997.220868427365, 13325.874610688457, 10134.556511362907, 6389.946657326458, 5995.238118695429, 5894.269618124657, 6099.812864878714, 5899.886225380668, 5532.156995068558, 4949.424572310281, 4481.889117983112, 4335.990947654057, 4199.081725659746, 3671.38527164843, 3474.099695485959, 3044.895020556994, 2985.3899390388274, 2691.1699184408494, 2576.7033582193176, 2710.56341578318, 2555.255442865293, 2437.6431999856186, 2335.8084990440866, 2186.905655419571, 2204.576316889793, 2172.949061726133, 2044.9045896864852, 2028.9640102015626, 2089.738031061602, 2110.790018790913, 16893.474274829314, 5048.45214197456, 3720.9749780353154, 3743.867003961384, 3592.5283855403086, 3362.8818948837616, 2915.3747282221348, 2345.6079243360286, 2211.4668850211397, 2122.0646527992285, 2007.101134847142, 2002.1412736098587, 1933.0812918085865, 1928.413244256853, 1865.7144899471052, 1841.140163952345, 1563.2000626046156, 1540.2658771780384, 1455.7214102601502, 1448.9256679166072, 1519.3594277275479, 1399.335798297337, 1380.0742493586356, 1186.6881348160061, 1149.118677068777, 1062.9466980045172, 1043.4045066764838, 1056.176601071422, 1008.7620256800199, 1000.6015395054887], \"Total\": [29988.0, 25181.0, 23998.0, 16894.0, 14220.0, 13326.0, 13640.0, 13694.0, 10511.0, 10135.0, 9430.0, 9381.0, 8917.0, 7993.0, 8591.0, 7751.0, 7187.0, 6784.0, 5049.0, 6668.0, 6390.0, 6100.0, 5996.0, 5900.0, 5895.0, 5532.0, 6171.0, 5304.0, 4950.0, 3744.0, 29988.09362045484, 13694.301024071783, 8917.116866406159, 8591.504028280937, 6171.632352127025, 4637.98221524236, 3402.5030095528214, 3406.5874284896227, 3270.2083858889323, 2695.7766414045336, 2727.831626405319, 2477.8554966237575, 2428.152924622742, 2626.7555577153757, 2382.079748745133, 2327.045187762914, 2200.7643882453976, 2192.988348248144, 2087.2745706539276, 2001.9449141534549, 1977.0818245593425, 1881.2957770054704, 1874.68308604911, 1892.1537558328885, 1800.409960944053, 1750.0479253176848, 1792.0481115681107, 1771.61722857803, 1841.538947948495, 1724.4249953293609, 14220.433269242141, 13640.178593232537, 10511.84522795481, 9381.789909458892, 9430.079940656171, 7993.884233053519, 7751.822862850569, 7187.578886303849, 6784.040438439166, 6668.901700366845, 5304.195151218258, 4010.7607859718696, 3968.4141900641234, 3011.2736299832695, 2937.0621979589305, 2852.318462361982, 2825.127440682824, 2767.8765441277283, 2837.3839451703184, 2539.29786318804, 2359.9000091389116, 2233.2004856881645, 2277.084856725552, 2198.214272902468, 2124.13603415112, 2008.30175191907, 2063.5568918273807, 1988.7278985192083, 1930.3496426602587, 1775.3351415402724, 2403.274647816678, 2748.4326669134334, 25181.6120866565, 23998.003066289217, 13326.671079669883, 10135.337814641935, 6390.753666202274, 5996.031481190081, 5895.0504016939185, 6100.647891652061, 5900.696563084116, 5532.949281885933, 4950.241437474174, 4482.704643653147, 4336.79492826074, 4199.862529427227, 3672.2145626868114, 3474.888950879903, 3045.6862512036, 2986.2107434546365, 2691.965093803241, 2577.49372334076, 2711.3970024097575, 2556.048928900423, 2438.451240919158, 2336.599049172077, 2187.6871969038475, 2205.3776585815963, 2173.7517333779797, 2045.6964173997399, 2029.7549938145987, 2090.5579840689543, 2111.7166681027193, 16894.334060488964, 5049.327202999593, 3721.8015626055003, 3744.699253309868, 3593.3716546608516, 3363.759372464302, 2916.246455498299, 2346.4700077375624, 2212.324199185441, 2122.923778566507, 2007.9139480115887, 2002.9733103596711, 1933.9169450428394, 1929.261730414759, 1866.546916312236, 1841.9713302518285, 1564.0424341488122, 1541.122429524575, 1456.5682543426858, 1449.7908835111414, 1520.2733473847595, 1400.2035508112808, 1380.9307792968514, 1187.5207017239748, 1149.9637176864794, 1063.7870749731665, 1044.246997590171, 1057.0309094495183, 1009.6035538648656, 1001.4364245754955], \"Category\": [\"Default\", \"Default\", \"Default\", \"Default\", \"Default\", \"Default\", \"Default\", \"Default\", \"Default\", \"Default\", \"Default\", \"Default\", \"Default\", \"Default\", \"Default\", \"Default\", \"Default\", \"Default\", \"Default\", \"Default\", \"Default\", \"Default\", \"Default\", \"Default\", \"Default\", \"Default\", \"Default\", \"Default\", \"Default\", \"Default\", \"Topic1\", \"Topic1\", \"Topic1\", \"Topic1\", \"Topic1\", \"Topic1\", \"Topic1\", \"Topic1\", \"Topic1\", \"Topic1\", \"Topic1\", \"Topic1\", \"Topic1\", \"Topic1\", \"Topic1\", \"Topic1\", \"Topic1\", \"Topic1\", \"Topic1\", \"Topic1\", \"Topic1\", \"Topic1\", \"Topic1\", \"Topic1\", \"Topic1\", \"Topic1\", \"Topic1\", \"Topic1\", \"Topic1\", \"Topic1\", \"Topic2\", \"Topic2\", \"Topic2\", \"Topic2\", \"Topic2\", \"Topic2\", \"Topic2\", \"Topic2\", \"Topic2\", \"Topic2\", \"Topic2\", \"Topic2\", \"Topic2\", \"Topic2\", \"Topic2\", \"Topic2\", \"Topic2\", \"Topic2\", \"Topic2\", \"Topic2\", \"Topic2\", \"Topic2\", \"Topic2\", \"Topic2\", \"Topic2\", \"Topic2\", \"Topic2\", \"Topic2\", \"Topic2\", \"Topic2\", \"Topic2\", \"Topic2\", \"Topic3\", \"Topic3\", \"Topic3\", \"Topic3\", \"Topic3\", \"Topic3\", \"Topic3\", \"Topic3\", \"Topic3\", \"Topic3\", \"Topic3\", \"Topic3\", \"Topic3\", \"Topic3\", \"Topic3\", \"Topic3\", \"Topic3\", \"Topic3\", \"Topic3\", \"Topic3\", \"Topic3\", \"Topic3\", \"Topic3\", \"Topic3\", \"Topic3\", \"Topic3\", \"Topic3\", \"Topic3\", \"Topic3\", \"Topic3\", \"Topic3\", \"Topic4\", \"Topic4\", \"Topic4\", \"Topic4\", \"Topic4\", \"Topic4\", \"Topic4\", \"Topic4\", \"Topic4\", \"Topic4\", \"Topic4\", \"Topic4\", \"Topic4\", \"Topic4\", \"Topic4\", \"Topic4\", \"Topic4\", \"Topic4\", \"Topic4\", \"Topic4\", \"Topic4\", \"Topic4\", \"Topic4\", \"Topic4\", \"Topic4\", \"Topic4\", \"Topic4\", \"Topic4\", \"Topic4\", \"Topic4\"], \"logprob\": [30.0, 29.0, 28.0, 27.0, 26.0, 25.0, 24.0, 23.0, 22.0, 21.0, 20.0, 19.0, 18.0, 17.0, 16.0, 15.0, 14.0, 13.0, 12.0, 11.0, 10.0, 9.0, 8.0, 7.0, 6.0, 5.0, 4.0, 3.0, 2.0, 1.0, -2.5031, -3.287, -3.716, -3.7532, -4.0841, -4.3698, -4.6797, -4.6785, -4.7193, -4.9126, -4.9008, -4.9969, -5.0171, -4.9385, -5.0363, -5.0597, -5.1155, -5.1191, -5.1685, -5.2102, -5.2227, -5.2724, -5.2759, -5.2667, -5.3164, -5.3448, -5.3211, -5.3325, -5.2938, -5.3595, -3.1215, -3.1632, -3.4237, -3.5375, -3.5323, -3.6976, -3.7283, -3.8039, -3.8617, -3.8788, -4.1078, -4.3874, -4.398, -4.6741, -4.699, -4.7283, -4.7379, -4.7584, -4.7336, -4.8446, -4.9179, -4.9731, -4.9536, -4.9889, -5.0232, -5.0793, -5.0521, -5.0891, -5.1189, -5.2026, -4.8999, -4.7834, -2.5144, -2.5626, -3.1508, -3.4245, -3.8858, -3.9495, -3.9665, -3.9322, -3.9656, -4.0299, -4.1412, -4.2404, -4.2735, -4.3056, -4.4399, -4.4952, -4.627, -4.6468, -4.7505, -4.794, -4.7433, -4.8023, -4.8495, -4.8921, -4.958, -4.95, -4.9644, -5.0251, -5.033, -5.0035, -4.9934, -2.5135, -3.7214, -4.0265, -4.0203, -4.0616, -4.1277, -4.2705, -4.4879, -4.5468, -4.5881, -4.6438, -4.6463, -4.6814, -4.6838, -4.7168, -4.7301, -4.8937, -4.9085, -4.965, -4.9696, -4.9222, -5.0045, -5.0183, -5.1693, -5.2015, -5.2794, -5.298, -5.2858, -5.3317, -5.3399], \"loglift\": [30.0, 29.0, 28.0, 27.0, 26.0, 25.0, 24.0, 23.0, 22.0, 21.0, 20.0, 19.0, 18.0, 17.0, 16.0, 15.0, 14.0, 13.0, 12.0, 11.0, 10.0, 9.0, 8.0, 7.0, 6.0, 5.0, 4.0, 3.0, 2.0, 1.0, 1.1935, 1.1934, 1.1934, 1.1934, 1.1933, 1.1933, 1.1932, 1.1932, 1.1932, 1.1932, 1.1931, 1.1931, 1.1931, 1.1931, 1.1931, 1.1931, 1.1931, 1.1931, 1.1931, 1.193, 1.193, 1.193, 1.193, 1.193, 1.193, 1.193, 1.193, 1.193, 1.193, 1.193, 1.3212, 1.3212, 1.3212, 1.3211, 1.3211, 1.3211, 1.3211, 1.3211, 1.3211, 1.3211, 1.3211, 1.321, 1.321, 1.321, 1.321, 1.3209, 1.3209, 1.3209, 1.3209, 1.3209, 1.3209, 1.3209, 1.3209, 1.3209, 1.3209, 1.3208, 1.3208, 1.3208, 1.3208, 1.3208, 1.3207, 1.303, 1.3569, 1.3569, 1.3568, 1.3568, 1.3568, 1.3568, 1.3568, 1.3568, 1.3568, 1.3568, 1.3567, 1.3567, 1.3567, 1.3567, 1.3567, 1.3567, 1.3566, 1.3566, 1.3566, 1.3566, 1.3566, 1.3566, 1.3566, 1.3566, 1.3565, 1.3565, 1.3565, 1.3565, 1.3565, 1.3565, 1.3565, 1.7569, 1.7568, 1.7567, 1.7567, 1.7567, 1.7567, 1.7566, 1.7566, 1.7565, 1.7565, 1.7565, 1.7565, 1.7565, 1.7565, 1.7565, 1.7565, 1.7564, 1.7564, 1.7564, 1.7563, 1.7563, 1.7563, 1.7563, 1.7562, 1.7562, 1.7561, 1.7561, 1.7561, 1.7561, 1.7561]}, \"token.table\": {\"Topic\": [2, 3, 1, 1, 1, 4, 1, 3, 4, 2, 3, 4, 1, 1, 2, 4, 2, 2, 1, 1, 4, 1, 4, 1, 3, 4, 3, 3, 4, 4, 1, 3, 3, 2, 3, 1, 4, 4, 2, 4, 4, 1, 2, 3, 3, 3, 2, 2, 3, 4, 1, 3, 1, 3, 3, 3, 1, 3, 2, 2, 2, 3, 3, 1, 4, 2, 2, 2, 3, 2, 1, 4, 2, 4, 3, 2, 4, 1, 2, 1, 1, 4, 4, 1, 4, 1, 4, 4, 1, 2, 1, 3, 2, 3, 4, 1, 3, 1, 2, 4, 3, 2, 2, 3, 3, 2, 2, 2, 4, 4, 3, 1, 3, 1, 4, 1, 1, 2, 4, 3, 4, 4, 2, 3, 2, 2], \"Freq\": [0.9996833153091355, 0.9996541769851466, 0.9994528175081556, 0.9993902420301036, 0.9999049952188508, 0.9994014443335526, 0.9997882235858662, 0.9997330932348175, 0.9995258612086781, 0.9998103138001821, 0.9996414909667801, 0.9995140672346271, 0.9998975389182398, 0.9996547431337609, 0.999915803970616, 0.999544827101533, 0.9998893863073645, 0.999523576505132, 0.9997535437432699, 0.9996356258536745, 0.9997996958256391, 0.9997073382840502, 0.9991619581803691, 0.9996951327943892, 0.9995945552545846, 0.9993259768622688, 0.9998937995334976, 0.9997492167826854, 0.9993460035023408, 0.999140445822621, 0.999401201931373, 0.9999496438633572, 0.999827972686048, 0.9998112235079278, 0.9998284311246011, 0.9997119043942272, 0.9992601198193856, 0.9994021872619652, 0.9998956283179411, 0.9999210350355221, 0.9997371525064161, 0.0004160989260667639, 0.9994696204123669, 0.9999756931107352, 0.9996858797250264, 0.9997436234632172, 0.9997746781209618, 0.9820142339637712, 0.00036384373248009305, 0.01782834289152456, 0.9999413341041012, 0.9998149477374877, 0.9998275610117299, 0.9998820692767021, 0.9998084482859109, 0.999958202093464, 0.9998747502782691, 0.9996280369715067, 0.9996339878775018, 0.999888349647424, 0.9995770460809048, 0.9996595695266334, 0.9995896287866155, 0.9993893612887124, 0.9998132684996667, 0.999969531923962, 0.9999195928082577, 0.9996186240368549, 0.9996606229834029, 0.9994624371184504, 0.9995508519695233, 0.999271680495286, 0.9998646833922593, 0.9995615219817062, 0.9996692560671284, 0.9999135940028585, 0.9988058403873329, 0.9999635315112496, 0.9996009239559999, 0.9997722957809909, 0.9995467201525465, 0.9991624220822196, 0.9998965721621448, 0.999525184509159, 0.9996098676866041, 0.999630486578731, 0.9990247121060488, 0.9997742488744831, 0.9994151320149582, 0.9998466343989828, 0.999652671476565, 0.9998167014410666, 0.9999194601808195, 0.9997746809267275, 0.9997069903212953, 0.9995280019211445, 0.999794629128648, 0.9996516016168314, 0.9998647902747171, 0.9995648555186797, 0.9999666696218604, 0.9994888889535745, 0.9993518145777515, 0.9998428083692409, 0.9998218163336455, 0.9997301301313347, 0.9994476093993945, 0.9996383467944027, 0.9997846304828409, 0.9995642014163001, 0.9998535801251515, 0.9997123608578056, 0.9998819523972011, 0.9993112316408146, 0.9993335000853865, 0.9998521648470525, 0.9995493144097488, 0.9994651782499543, 0.9995725822500534, 0.9997441786219735, 0.9994544844224527, 0.9994726680942989, 0.9998188708135917, 0.9998287555965181, 0.9998854791621102, 0.9998938491158624], \"Term\": [\"act\", \"again\", \"allow\", \"als\", \"arst\", \"ason\", \"attack\", \"autonomy\", \"bad\", \"brutality\", \"ca\", \"call\", \"ccp\", \"charge\", \"china\", \"chinese\", \"citizen\", \"city\", \"control\", \"country\", \"crime\", \"criminal\", \"death\", \"democracy\", \"deserve\", \"disgusting\", \"evil\", \"face\", \"family\", \"father\", \"fe\", \"fem\", \"fight\", \"first\", \"for\", \"force\", \"hate\", \"head\", \"help\", \"hk\", \"hker\", \"hkpolice\", \"hkpolice\", \"hong\", \"hongkonger\", \"hope\", \"hu\", \"hub\", \"hub\", \"hub\", \"is_terrorist\", \"joke\", \"journalist\", \"justice\", \"keep\", \"kong\", \"law\", \"lie\", \"lieve\", \"life\", \"live\", \"lose\", \"matter\", \"national_security\", \"need\", \"negative\", \"never\", \"new\", \"no_matter\", \"od\", \"officer\", \"official\", \"only\", \"pay\", \"peaceful\", \"people\", \"photo\", \"police\", \"porter\", \"power\", \"ppl\", \"professional\", \"protest\", \"protester\", \"protestor\", \"pss\", \"punish\", \"puppet\", \"ridiculous\", \"right\", \"riot\", \"rule\", \"sanction\", \"shame\", \"so\", \"speak\", \"stand\", \"state\", \"stop\", \"student\", \"support\", \"surnder\", \"tell\", \"terrorist\", \"thank\", \"thaten\", \"thing\", \"think\", \"time\", \"too\", \"tortu\", \"true\", \"truth\", \"try\", \"turn\", \"vernment\", \"victim\", \"video\", \"vt\", \"watch\", \"wel\", \"well\", \"why\", \"with_hk\", \"world\", \"year\"]}, \"R\": 30, \"lambda.step\": 0.01, \"plot.opts\": {\"xlab\": \"PC1\", \"ylab\": \"PC2\"}, \"topic.order\": [4, 1, 3, 2]};\n",
       "\n",
       "function LDAvis_load_lib(url, callback){\n",
       "  var s = document.createElement('script');\n",
       "  s.src = url;\n",
       "  s.async = true;\n",
       "  s.onreadystatechange = s.onload = callback;\n",
       "  s.onerror = function(){console.warn(\"failed to load library \" + url);};\n",
       "  document.getElementsByTagName(\"head\")[0].appendChild(s);\n",
       "}\n",
       "\n",
       "if(typeof(LDAvis) !== \"undefined\"){\n",
       "   // already loaded: just create the visualization\n",
       "   !function(LDAvis){\n",
       "       new LDAvis(\"#\" + \"ldavis_el1857615715148834246399037290\", ldavis_el1857615715148834246399037290_data);\n",
       "   }(LDAvis);\n",
       "}else if(typeof define === \"function\" && define.amd){\n",
       "   // require.js is available: use it to load d3/LDAvis\n",
       "   require.config({paths: {d3: \"https://d3js.org/d3.v5\"}});\n",
       "   require([\"d3\"], function(d3){\n",
       "      window.d3 = d3;\n",
       "      LDAvis_load_lib(\"https://cdn.jsdelivr.net/gh/bmabey/pyLDAvis@3.3.1/pyLDAvis/js/ldavis.v3.0.0.js\", function(){\n",
       "        new LDAvis(\"#\" + \"ldavis_el1857615715148834246399037290\", ldavis_el1857615715148834246399037290_data);\n",
       "      });\n",
       "    });\n",
       "}else{\n",
       "    // require.js not available: dynamically load d3 & LDAvis\n",
       "    LDAvis_load_lib(\"https://d3js.org/d3.v5.js\", function(){\n",
       "         LDAvis_load_lib(\"https://cdn.jsdelivr.net/gh/bmabey/pyLDAvis@3.3.1/pyLDAvis/js/ldavis.v3.0.0.js\", function(){\n",
       "                 new LDAvis(\"#\" + \"ldavis_el1857615715148834246399037290\", ldavis_el1857615715148834246399037290_data);\n",
       "            })\n",
       "         });\n",
       "}\n",
       "</script>"
      ],
      "text/plain": [
       "PreparedData(topic_coordinates=              x         y  topics  cluster       Freq\n",
       "topic                                                \n",
       "3     -0.372852  0.105650  1       1        30.316386\n",
       "0      0.114933  0.350745  2       1        26.680615\n",
       "2      0.357562 -0.116802  3       1        25.745640\n",
       "1     -0.099643 -0.339592  4       1        17.257358, topic_info=          Term          Freq         Total Category  logprob  loglift\n",
       "265   police    29988.000000  29988.000000  Default  30.0000  30.0000\n",
       "6     hong      25181.000000  25181.000000  Default  29.0000  29.0000\n",
       "7     kong      23998.000000  23998.000000  Default  28.0000  28.0000\n",
       "43    hk        16894.000000  16894.000000  Default  27.0000  27.0000\n",
       "153   negative  14220.000000  14220.000000  Default  26.0000  26.0000\n",
       "...        ...           ...           ...      ...      ...      ...\n",
       "284   hate      1062.946698   1063.787075   Topic4  -5.2794   1.7561 \n",
       "748   photo     1043.404507   1044.246998   Topic4  -5.2980   1.7561 \n",
       "175   punish    1056.176601   1057.030909   Topic4  -5.2858   1.7561 \n",
       "1581  head      1008.762026   1009.603554   Topic4  -5.3317   1.7561 \n",
       "1125  too       1000.601540   1001.436425   Topic4  -5.3399   1.7561 \n",
       "\n",
       "[153 rows x 6 columns], token_table=      Topic      Freq     Term\n",
       "term                          \n",
       "191   2      0.999683  act    \n",
       "483   3      0.999654  again  \n",
       "129   1      0.999453  allow  \n",
       "360   1      0.999390  als    \n",
       "131   1      0.999905  arst   \n",
       "...  ..           ...  ...    \n",
       "108   4      0.999473  well   \n",
       "1089  2      0.999819  why    \n",
       "49    3      0.999829  with_hk\n",
       "18    2      0.999885  world  \n",
       "123   2      0.999894  year   \n",
       "\n",
       "[126 rows x 3 columns], R=30, lambda_step=0.01, plot_opts={'xlab': 'PC1', 'ylab': 'PC2'}, topic_order=[4, 1, 3, 2])"
      ]
     },
     "execution_count": 78,
     "metadata": {},
     "output_type": "execute_result"
    }
   ],
   "source": [
    "pyLDAvis.enable_notebook()\n",
    "vis = pyLDAvis.gensim_models.prepare(lda_model, corpus, id2word, mds=\"mmds\", R=30) # R=30 is the number of words on the right\n",
    "vis"
   ]
  },
  {
   "cell_type": "markdown",
   "metadata": {},
   "source": [
    "After Coherence Score confirmation, the output is visually similar to the last round. We will outline what is seen:\n",
    "   * The **sizes look to be reasonably similar**\n",
    "   * The **distance between the center for all** circles **indicates they are distinct**\n",
    "   * On the right side, **the top words & trigrams to be the following for each topic with supporting potential rational**:\n",
    "     * **Topic 1** | police, arst, law & is_terrorist\n",
    "       * The police may be going against the law & deemed as terrorists\n",
    "     * **Topic 2** | negative, people, never, world & China\n",
    "       * A notable use of profanity towards never doing something & reaching out to the world\n",
    "         * We have confirmation from EDA that the usage of the word China here is mostly sarcasm\n",
    "     * **Topic 3** | support, justice, evil, fight, truth & thank\n",
    "       * Requests for support towards justice while giving thanks for their fight against evil for truth\n",
    "     * **Topic 4** | need, time, protest & puppet\n",
    "       * A request for time against puppets (potentially Carrie Lam)\n",
    "         * The time mentioned here may be a reference to the Year 2047 when HK will officially be off the one party two systems structure\n"
   ]
  },
  {
   "cell_type": "markdown",
   "metadata": {},
   "source": [
    "<a id='eda_words_in_t'></a>**Words in Topics** | Looking at which words dominate our new identified topics in a DataFrame."
   ]
  },
  {
   "cell_type": "code",
   "execution_count": 79,
   "metadata": {},
   "outputs": [
    {
     "name": "stdout",
     "output_type": "stream",
     "text": [
      "As confirmed, we have 4 topics.\n"
     ]
    }
   ],
   "source": [
    "best_model_idx = coherence_df[coherence_df['Number of Topics'] == 4].index[0]\n",
    "best_lda_model = lda_models[best_model_idx]\n",
    "print('As confirmed, we have',best_lda_model.num_topics,'topics.')"
   ]
  },
  {
   "cell_type": "code",
   "execution_count": 350,
   "metadata": {},
   "outputs": [
    {
     "data": {
      "text/html": [
       "<div>\n",
       "<style scoped>\n",
       "    .dataframe tbody tr th:only-of-type {\n",
       "        vertical-align: middle;\n",
       "    }\n",
       "\n",
       "    .dataframe tbody tr th {\n",
       "        vertical-align: top;\n",
       "    }\n",
       "\n",
       "    .dataframe thead th {\n",
       "        text-align: right;\n",
       "    }\n",
       "</style>\n",
       "<table border=\"1\" class=\"dataframe\">\n",
       "  <thead>\n",
       "    <tr style=\"text-align: right;\">\n",
       "      <th></th>\n",
       "      <th>Topic 1</th>\n",
       "      <th>Topic 2</th>\n",
       "      <th>Topic 3</th>\n",
       "      <th>Topic 4</th>\n",
       "    </tr>\n",
       "  </thead>\n",
       "  <tbody>\n",
       "    <tr>\n",
       "      <th>Term1</th>\n",
       "      <td>support</td>\n",
       "      <td>negative</td>\n",
       "      <td>hong</td>\n",
       "      <td>police</td>\n",
       "    </tr>\n",
       "    <tr>\n",
       "      <th>Term2</th>\n",
       "      <td>thank</td>\n",
       "      <td>never</td>\n",
       "      <td>kong</td>\n",
       "      <td>arst</td>\n",
       "    </tr>\n",
       "    <tr>\n",
       "      <th>Term3</th>\n",
       "      <td>stand</td>\n",
       "      <td>for</td>\n",
       "      <td>china</td>\n",
       "      <td>year</td>\n",
       "    </tr>\n",
       "    <tr>\n",
       "      <th>Term4</th>\n",
       "      <td>right</td>\n",
       "      <td>help</td>\n",
       "      <td>police</td>\n",
       "      <td>hk</td>\n",
       "    </tr>\n",
       "    <tr>\n",
       "      <th>Term5</th>\n",
       "      <td>fem</td>\n",
       "      <td>hker</td>\n",
       "      <td>law</td>\n",
       "      <td>people</td>\n",
       "    </tr>\n",
       "    <tr>\n",
       "      <th>Term6</th>\n",
       "      <td>hu</td>\n",
       "      <td>evil</td>\n",
       "      <td>people</td>\n",
       "      <td>chinese</td>\n",
       "    </tr>\n",
       "    <tr>\n",
       "      <th>Term7</th>\n",
       "      <td>world</td>\n",
       "      <td>world</td>\n",
       "      <td>fem</td>\n",
       "      <td>truth</td>\n",
       "    </tr>\n",
       "    <tr>\n",
       "      <th>Term8</th>\n",
       "      <td>fight</td>\n",
       "      <td>india</td>\n",
       "      <td>citizen</td>\n",
       "      <td>attack</td>\n",
       "    </tr>\n",
       "    <tr>\n",
       "      <th>Term9</th>\n",
       "      <td>hong</td>\n",
       "      <td>od</td>\n",
       "      <td>country</td>\n",
       "      <td>is_terrorist</td>\n",
       "    </tr>\n",
       "    <tr>\n",
       "      <th>Term10</th>\n",
       "      <td>watch</td>\n",
       "      <td>well</td>\n",
       "      <td>ccp</td>\n",
       "      <td>time</td>\n",
       "    </tr>\n",
       "    <tr>\n",
       "      <th>Term11</th>\n",
       "      <td>kong</td>\n",
       "      <td>is_terrorist</td>\n",
       "      <td>hk</td>\n",
       "      <td>think</td>\n",
       "    </tr>\n",
       "    <tr>\n",
       "      <th>Term12</th>\n",
       "      <td>democracy</td>\n",
       "      <td>sanction</td>\n",
       "      <td>arst</td>\n",
       "      <td>terrorist</td>\n",
       "    </tr>\n",
       "    <tr>\n",
       "      <th>Term13</th>\n",
       "      <td>fe</td>\n",
       "      <td>save</td>\n",
       "      <td>world</td>\n",
       "      <td>protest</td>\n",
       "    </tr>\n",
       "    <tr>\n",
       "      <th>Term14</th>\n",
       "      <td>shame</td>\n",
       "      <td>need</td>\n",
       "      <td>brutality</td>\n",
       "      <td>stop</td>\n",
       "    </tr>\n",
       "    <tr>\n",
       "      <th>Term15</th>\n",
       "      <td>people</td>\n",
       "      <td>country_modern_slave</td>\n",
       "      <td>rule</td>\n",
       "      <td>vernment</td>\n",
       "    </tr>\n",
       "    <tr>\n",
       "      <th>Term16</th>\n",
       "      <td>hongkonger</td>\n",
       "      <td>face</td>\n",
       "      <td>pss</td>\n",
       "      <td>so</td>\n",
       "    </tr>\n",
       "    <tr>\n",
       "      <th>Term17</th>\n",
       "      <td>never</td>\n",
       "      <td>virus</td>\n",
       "      <td>fe</td>\n",
       "      <td>ccp</td>\n",
       "    </tr>\n",
       "    <tr>\n",
       "      <th>Term18</th>\n",
       "      <td>justice</td>\n",
       "      <td>big</td>\n",
       "      <td>national_security</td>\n",
       "      <td>charge</td>\n",
       "    </tr>\n",
       "    <tr>\n",
       "      <th>Term19</th>\n",
       "      <td>is_terrorist</td>\n",
       "      <td>young</td>\n",
       "      <td>new</td>\n",
       "      <td>peaceful</td>\n",
       "    </tr>\n",
       "    <tr>\n",
       "      <th>Term20</th>\n",
       "      <td>hope</td>\n",
       "      <td>talk</td>\n",
       "      <td>vernment</td>\n",
       "      <td>victim</td>\n",
       "    </tr>\n",
       "  </tbody>\n",
       "</table>\n",
       "</div>"
      ],
      "text/plain": [
       "             Topic 1               Topic 2            Topic 3       Topic 4\n",
       "Term1   support       negative              hong               police      \n",
       "Term2   thank         never                 kong               arst        \n",
       "Term3   stand         for                   china              year        \n",
       "Term4   right         help                  police             hk          \n",
       "Term5   fem           hker                  law                people      \n",
       "Term6   hu            evil                  people             chinese     \n",
       "Term7   world         world                 fem                truth       \n",
       "Term8   fight         india                 citizen            attack      \n",
       "Term9   hong          od                    country            is_terrorist\n",
       "Term10  watch         well                  ccp                time        \n",
       "Term11  kong          is_terrorist          hk                 think       \n",
       "Term12  democracy     sanction              arst               terrorist   \n",
       "Term13  fe            save                  world              protest     \n",
       "Term14  shame         need                  brutality          stop        \n",
       "Term15  people        country_modern_slave  rule               vernment    \n",
       "Term16  hongkonger    face                  pss                so          \n",
       "Term17  never         virus                 fe                 ccp         \n",
       "Term18  justice       big                   national_security  charge      \n",
       "Term19  is_terrorist  young                 new                peaceful    \n",
       "Term20  hope          talk                  vernment           victim      "
      ]
     },
     "execution_count": 350,
     "metadata": {},
     "output_type": "execute_result"
    }
   ],
   "source": [
    "topics = [[(term, round(wt, 3)) \n",
    "               for term, wt in best_lda_model.show_topic(n, topn=20)] \n",
    "                   for n in range(0, best_lda_model.num_topics)]\n",
    "\n",
    "topics_df = pd.DataFrame([[term for term, wt in topic] \n",
    "                              for topic in topics], \n",
    "                         columns = ['Term'+str(i) for i in range(1, 21)],\n",
    "                         index=['Topic '+str(t) for t in range(1, best_lda_model.num_topics+1)]).T\n",
    "topics_df"
   ]
  },
  {
   "cell_type": "code",
   "execution_count": 351,
   "metadata": {},
   "outputs": [
    {
     "data": {
      "text/html": [
       "<div>\n",
       "<style scoped>\n",
       "    .dataframe tbody tr th:only-of-type {\n",
       "        vertical-align: middle;\n",
       "    }\n",
       "\n",
       "    .dataframe tbody tr th {\n",
       "        vertical-align: top;\n",
       "    }\n",
       "\n",
       "    .dataframe thead th {\n",
       "        text-align: right;\n",
       "    }\n",
       "</style>\n",
       "<table border=\"1\" class=\"dataframe\">\n",
       "  <thead>\n",
       "    <tr style=\"text-align: right;\">\n",
       "      <th></th>\n",
       "      <th>Terms per Topic</th>\n",
       "    </tr>\n",
       "  </thead>\n",
       "  <tbody>\n",
       "    <tr>\n",
       "      <th>Topic1</th>\n",
       "      <td>support, thank, stand, right, fem, hu, world, fight, hong, watch, kong, democracy, fe, shame, people, hongkonger, never, justice, is_terrorist, hope</td>\n",
       "    </tr>\n",
       "    <tr>\n",
       "      <th>Topic2</th>\n",
       "      <td>negative, never, for, help, hker, evil, world, india, od, well, is_terrorist, sanction, save, need, country_modern_slave, face, virus, big, young, talk</td>\n",
       "    </tr>\n",
       "    <tr>\n",
       "      <th>Topic3</th>\n",
       "      <td>hong, kong, china, police, law, people, fem, citizen, country, ccp, hk, arst, world, brutality, rule, pss, fe, national_security, new, vernment</td>\n",
       "    </tr>\n",
       "    <tr>\n",
       "      <th>Topic4</th>\n",
       "      <td>police, arst, year, hk, people, chinese, truth, attack, is_terrorist, time, think, terrorist, protest, stop, vernment, so, ccp, charge, peaceful, victim</td>\n",
       "    </tr>\n",
       "  </tbody>\n",
       "</table>\n",
       "</div>"
      ],
      "text/plain": [
       "                                                                                                                                                 Terms per Topic\n",
       "Topic1  support, thank, stand, right, fem, hu, world, fight, hong, watch, kong, democracy, fe, shame, people, hongkonger, never, justice, is_terrorist, hope    \n",
       "Topic2  negative, never, for, help, hker, evil, world, india, od, well, is_terrorist, sanction, save, need, country_modern_slave, face, virus, big, young, talk \n",
       "Topic3  hong, kong, china, police, law, people, fem, citizen, country, ccp, hk, arst, world, brutality, rule, pss, fe, national_security, new, vernment         \n",
       "Topic4  police, arst, year, hk, people, chinese, truth, attack, is_terrorist, time, think, terrorist, protest, stop, vernment, so, ccp, charge, peaceful, victim"
      ]
     },
     "execution_count": 351,
     "metadata": {},
     "output_type": "execute_result"
    }
   ],
   "source": [
    "pd.set_option('display.max_colwidth', -1)\n",
    "topics_df_side = pd.DataFrame([', '.join([term for term, wt in topic])  \n",
    "                              for topic in topics],\n",
    "                         columns = ['Terms per Topic'],\n",
    "                         index=['Topic'+str(t) for t in range(1, best_lda_model.num_topics+1)]\n",
    "                         )\n",
    "topics_df_side"
   ]
  },
  {
   "cell_type": "code",
   "execution_count": null,
   "metadata": {},
   "outputs": [],
   "source": []
  },
  {
   "cell_type": "markdown",
   "metadata": {},
   "source": [
    "<a id='eda_top_dist'></a>**Topics Distribution** | Looking at the distribution of topic dominance in the DataFrame."
   ]
  },
  {
   "cell_type": "code",
   "execution_count": 82,
   "metadata": {},
   "outputs": [],
   "source": [
    "tm_results = best_lda_model[corpus]"
   ]
  },
  {
   "cell_type": "code",
   "execution_count": 83,
   "metadata": {},
   "outputs": [
    {
     "data": {
      "text/plain": [
       "[(0, 0.74768084),\n",
       " (2, 0.4262921),\n",
       " (2, 0.42627338),\n",
       " (3, 0.73171675),\n",
       " (2, 0.42629194)]"
      ]
     },
     "execution_count": 83,
     "metadata": {},
     "output_type": "execute_result"
    }
   ],
   "source": [
    "corpus_topics = [sorted(topics, key=lambda record: -record[1])[0]\n",
    "                 for topics in tm_results]\n",
    "corpus_topics[:5]"
   ]
  },
  {
   "cell_type": "code",
   "execution_count": 84,
   "metadata": {},
   "outputs": [],
   "source": [
    "corpus_topic_df = pd.DataFrame()\n",
    "corpus_topic_df['Document'] = range(0, len(df_cluster))\n",
    "corpus_topic_df['Dominant Topic'] = [item[0]+1 for item in corpus_topics]\n",
    "corpus_topic_df['Contribution %'] = [round(item[1]*100, 2) for item in corpus_topics]\n",
    "corpus_topic_df['Topic Desc'] = [topics_df.iloc[t[0]]['Terms per Topic'] for t in corpus_topics]\n",
    "corpus_topic_df['Tweets'] = df_cluster['tweet']\n",
    "corpus_topic_df = corpus_topic_df.drop(['Document'], axis=1)"
   ]
  },
  {
   "cell_type": "code",
   "execution_count": 85,
   "metadata": {},
   "outputs": [
    {
     "data": {
      "text/html": [
       "<div>\n",
       "<style scoped>\n",
       "    .dataframe tbody tr th:only-of-type {\n",
       "        vertical-align: middle;\n",
       "    }\n",
       "\n",
       "    .dataframe tbody tr th {\n",
       "        vertical-align: top;\n",
       "    }\n",
       "\n",
       "    .dataframe thead th {\n",
       "        text-align: right;\n",
       "    }\n",
       "</style>\n",
       "<table border=\"1\" class=\"dataframe\">\n",
       "  <thead>\n",
       "    <tr style=\"text-align: right;\">\n",
       "      <th></th>\n",
       "      <th>Dominant Topic</th>\n",
       "      <th>Contribution %</th>\n",
       "      <th>Topic Desc</th>\n",
       "      <th>Tweets</th>\n",
       "    </tr>\n",
       "  </thead>\n",
       "  <tbody>\n",
       "    <tr>\n",
       "      <th>0</th>\n",
       "      <td>1</td>\n",
       "      <td>74.77</td>\n",
       "      <td>support, thank, stand, right, fem, hu, world, fight, hong, watch, kong, democracy, fe, shame, people, hongkonger, never, justice, is_terrorist, hope</td>\n",
       "      <td>thanks speaking us</td>\n",
       "    </tr>\n",
       "    <tr>\n",
       "      <th>1</th>\n",
       "      <td>3</td>\n",
       "      <td>42.63</td>\n",
       "      <td>hong, kong, china, police, law, people, fem, citizen, country, ccp, hk, arst, world, brutality, rule, pss, fe, national_security, new, vernment</td>\n",
       "      <td>how stop china hong kong read new report danish think tank cipo</td>\n",
       "    </tr>\n",
       "    <tr>\n",
       "      <th>2</th>\n",
       "      <td>3</td>\n",
       "      <td>42.63</td>\n",
       "      <td>hong, kong, china, police, law, people, fem, citizen, country, ccp, hk, arst, world, brutality, rule, pss, fe, national_security, new, vernment</td>\n",
       "      <td>how stop china hong kong read new report danish think tank cipo</td>\n",
       "    </tr>\n",
       "    <tr>\n",
       "      <th>3</th>\n",
       "      <td>4</td>\n",
       "      <td>73.17</td>\n",
       "      <td>police, arst, year, hk, people, chinese, truth, attack, is_terrorist, time, think, terrorist, protest, stop, vernment, so, ccp, charge, peaceful, victim</td>\n",
       "      <td>war communism</td>\n",
       "    </tr>\n",
       "    <tr>\n",
       "      <th>4</th>\n",
       "      <td>3</td>\n",
       "      <td>42.63</td>\n",
       "      <td>hong, kong, china, police, law, people, fem, citizen, country, ccp, hk, arst, world, brutality, rule, pss, fe, national_security, new, vernment</td>\n",
       "      <td>how stop china hong kong read new report danish think tank cipo</td>\n",
       "    </tr>\n",
       "  </tbody>\n",
       "</table>\n",
       "</div>"
      ],
      "text/plain": [
       "   Dominant Topic  Contribution %  \\\n",
       "0  1               74.77            \n",
       "1  3               42.63            \n",
       "2  3               42.63            \n",
       "3  4               73.17            \n",
       "4  3               42.63            \n",
       "\n",
       "                                                                                                                                                 Topic Desc  \\\n",
       "0  support, thank, stand, right, fem, hu, world, fight, hong, watch, kong, democracy, fe, shame, people, hongkonger, never, justice, is_terrorist, hope       \n",
       "1  hong, kong, china, police, law, people, fem, citizen, country, ccp, hk, arst, world, brutality, rule, pss, fe, national_security, new, vernment            \n",
       "2  hong, kong, china, police, law, people, fem, citizen, country, ccp, hk, arst, world, brutality, rule, pss, fe, national_security, new, vernment            \n",
       "3  police, arst, year, hk, people, chinese, truth, attack, is_terrorist, time, think, terrorist, protest, stop, vernment, so, ccp, charge, peaceful, victim   \n",
       "4  hong, kong, china, police, law, people, fem, citizen, country, ccp, hk, arst, world, brutality, rule, pss, fe, national_security, new, vernment            \n",
       "\n",
       "                                                                         Tweets  \n",
       "0  thanks speaking us                                                            \n",
       "1  how stop china hong kong read new report danish think tank cipo               \n",
       "2  how stop china hong kong read new report danish think tank cipo               \n",
       "3  war communism                                                                 \n",
       "4  how stop china hong kong read new report danish think tank cipo               "
      ]
     },
     "execution_count": 85,
     "metadata": {},
     "output_type": "execute_result"
    }
   ],
   "source": [
    "corpus_topic_df.head()"
   ]
  },
  {
   "cell_type": "code",
   "execution_count": 86,
   "metadata": {},
   "outputs": [],
   "source": [
    "topic_stats = pd.DataFrame([])\n",
    "topic_stats = corpus_topic_df.groupby(by=['Dominant Topic'])['Dominant Topic'].agg([(\"count\")])\n",
    "topic_stats = topic_stats.reset_index()\n",
    "topic_stats.columns = ['Dominant Topic','# of Observations']\n",
    "topic_stats['% of Observations'] = ( topic_stats['# of Observations'] / topic_stats['# of Observations'].sum() )\n",
    "\n",
    "# pulling from another dataframe for terms\n",
    "topics_l = pd.DataFrame([])\n",
    "topics_l = pd.DataFrame([topics_df['Terms per Topic'].copy()]).T\n",
    "topics_l.reset_index(inplace = True)\n",
    "topics_l = topics_l.drop(['index'], axis=1)\n",
    "topic_stats['Terms'] = topics_l['Terms per Topic']"
   ]
  },
  {
   "cell_type": "code",
   "execution_count": 87,
   "metadata": {},
   "outputs": [
    {
     "data": {
      "text/html": [
       "<div>\n",
       "<style scoped>\n",
       "    .dataframe tbody tr th:only-of-type {\n",
       "        vertical-align: middle;\n",
       "    }\n",
       "\n",
       "    .dataframe tbody tr th {\n",
       "        vertical-align: top;\n",
       "    }\n",
       "\n",
       "    .dataframe thead th {\n",
       "        text-align: right;\n",
       "    }\n",
       "</style>\n",
       "<table border=\"1\" class=\"dataframe\">\n",
       "  <thead>\n",
       "    <tr style=\"text-align: right;\">\n",
       "      <th></th>\n",
       "      <th>Dominant Topic</th>\n",
       "      <th># of Observations</th>\n",
       "      <th>% of Observations</th>\n",
       "      <th>Terms</th>\n",
       "    </tr>\n",
       "  </thead>\n",
       "  <tbody>\n",
       "    <tr>\n",
       "      <th>0</th>\n",
       "      <td>1</td>\n",
       "      <td>57394</td>\n",
       "      <td>0.350609</td>\n",
       "      <td>support, thank, stand, right, fem, hu, world, fight, hong, watch, kong, democracy, fe, shame, people, hongkonger, never, justice, is_terrorist, hope</td>\n",
       "    </tr>\n",
       "    <tr>\n",
       "      <th>1</th>\n",
       "      <td>2</td>\n",
       "      <td>20194</td>\n",
       "      <td>0.123361</td>\n",
       "      <td>negative, never, for, help, hker, evil, world, india, od, well, is_terrorist, sanction, save, need, country_modern_slave, face, virus, big, young, talk</td>\n",
       "    </tr>\n",
       "    <tr>\n",
       "      <th>2</th>\n",
       "      <td>3</td>\n",
       "      <td>45722</td>\n",
       "      <td>0.279307</td>\n",
       "      <td>hong, kong, china, police, law, people, fem, citizen, country, ccp, hk, arst, world, brutality, rule, pss, fe, national_security, new, vernment</td>\n",
       "    </tr>\n",
       "    <tr>\n",
       "      <th>3</th>\n",
       "      <td>4</td>\n",
       "      <td>40388</td>\n",
       "      <td>0.246723</td>\n",
       "      <td>police, arst, year, hk, people, chinese, truth, attack, is_terrorist, time, think, terrorist, protest, stop, vernment, so, ccp, charge, peaceful, victim</td>\n",
       "    </tr>\n",
       "  </tbody>\n",
       "</table>\n",
       "</div>"
      ],
      "text/plain": [
       "   Dominant Topic  # of Observations  % of Observations  \\\n",
       "0  1               57394              0.350609            \n",
       "1  2               20194              0.123361            \n",
       "2  3               45722              0.279307            \n",
       "3  4               40388              0.246723            \n",
       "\n",
       "                                                                                                                                                      Terms  \n",
       "0  support, thank, stand, right, fem, hu, world, fight, hong, watch, kong, democracy, fe, shame, people, hongkonger, never, justice, is_terrorist, hope      \n",
       "1  negative, never, for, help, hker, evil, world, india, od, well, is_terrorist, sanction, save, need, country_modern_slave, face, virus, big, young, talk   \n",
       "2  hong, kong, china, police, law, people, fem, citizen, country, ccp, hk, arst, world, brutality, rule, pss, fe, national_security, new, vernment           \n",
       "3  police, arst, year, hk, people, chinese, truth, attack, is_terrorist, time, think, terrorist, protest, stop, vernment, so, ccp, charge, peaceful, victim  "
      ]
     },
     "execution_count": 87,
     "metadata": {},
     "output_type": "execute_result"
    }
   ],
   "source": [
    "topic_stats.head(9)"
   ]
  },
  {
   "cell_type": "code",
   "execution_count": 88,
   "metadata": {},
   "outputs": [
    {
     "data": {
      "text/plain": [
       "Text(0.5, 1.0, 'Looking at the % Contribution of Tweets within Topics')"
      ]
     },
     "execution_count": 88,
     "metadata": {},
     "output_type": "execute_result"
    },
    {
     "data": {
      "image/png": "[encoded data removed]",
      "text/plain": [
       "<Figure size 864x576 with 1 Axes>"
      ]
     },
     "metadata": {},
     "output_type": "display_data"
    }
   ],
   "source": [
    "plt.figure(figsize=(12,8))\n",
    "sns.set_theme(style=\"whitegrid\")\n",
    "# clrs = ['grey' if (x < max(topic_stats['% of Observations'])) else 'red' for x in topic_stats['% of Observations'] ]\n",
    "ax = sns.barplot(x=\"Dominant Topic\", y=\"% of Observations\", data=topic_stats,\n",
    "                 order=topic_stats.sort_values('% of Observations',ascending = False)['Dominant Topic'])\n",
    "plt.xlabel(\"Dominant Topic #\", size=15)\n",
    "plt.ylabel(\"% of Tweets in the Topic\", size=15)\n",
    "plt.title(\"Looking at the % Contribution of Tweets within Topics\", size=18)"
   ]
  },
  {
   "cell_type": "code",
   "execution_count": 89,
   "metadata": {},
   "outputs": [
    {
     "data": {
      "text/html": [
       "<div>\n",
       "<style scoped>\n",
       "    .dataframe tbody tr th:only-of-type {\n",
       "        vertical-align: middle;\n",
       "    }\n",
       "\n",
       "    .dataframe tbody tr th {\n",
       "        vertical-align: top;\n",
       "    }\n",
       "\n",
       "    .dataframe thead th {\n",
       "        text-align: right;\n",
       "    }\n",
       "</style>\n",
       "<table border=\"1\" class=\"dataframe\">\n",
       "  <thead>\n",
       "    <tr style=\"text-align: right;\">\n",
       "      <th></th>\n",
       "      <th>Dominant Topic</th>\n",
       "      <th># of Observations</th>\n",
       "      <th>% of Observations</th>\n",
       "      <th>Terms</th>\n",
       "    </tr>\n",
       "  </thead>\n",
       "  <tbody>\n",
       "    <tr>\n",
       "      <th>0</th>\n",
       "      <td>1</td>\n",
       "      <td>57394</td>\n",
       "      <td>0.350609</td>\n",
       "      <td>support, thank, stand, right, fem, hu, world, fight, hong, watch, kong, democracy, fe, shame, people, hongkonger, never, justice, is_terrorist, hope</td>\n",
       "    </tr>\n",
       "    <tr>\n",
       "      <th>2</th>\n",
       "      <td>3</td>\n",
       "      <td>45722</td>\n",
       "      <td>0.279307</td>\n",
       "      <td>hong, kong, china, police, law, people, fem, citizen, country, ccp, hk, arst, world, brutality, rule, pss, fe, national_security, new, vernment</td>\n",
       "    </tr>\n",
       "    <tr>\n",
       "      <th>3</th>\n",
       "      <td>4</td>\n",
       "      <td>40388</td>\n",
       "      <td>0.246723</td>\n",
       "      <td>police, arst, year, hk, people, chinese, truth, attack, is_terrorist, time, think, terrorist, protest, stop, vernment, so, ccp, charge, peaceful, victim</td>\n",
       "    </tr>\n",
       "    <tr>\n",
       "      <th>1</th>\n",
       "      <td>2</td>\n",
       "      <td>20194</td>\n",
       "      <td>0.123361</td>\n",
       "      <td>negative, never, for, help, hker, evil, world, india, od, well, is_terrorist, sanction, save, need, country_modern_slave, face, virus, big, young, talk</td>\n",
       "    </tr>\n",
       "  </tbody>\n",
       "</table>\n",
       "</div>"
      ],
      "text/plain": [
       "   Dominant Topic  # of Observations  % of Observations  \\\n",
       "0  1               57394              0.350609            \n",
       "2  3               45722              0.279307            \n",
       "3  4               40388              0.246723            \n",
       "1  2               20194              0.123361            \n",
       "\n",
       "                                                                                                                                                      Terms  \n",
       "0  support, thank, stand, right, fem, hu, world, fight, hong, watch, kong, democracy, fe, shame, people, hongkonger, never, justice, is_terrorist, hope      \n",
       "2  hong, kong, china, police, law, people, fem, citizen, country, ccp, hk, arst, world, brutality, rule, pss, fe, national_security, new, vernment           \n",
       "3  police, arst, year, hk, people, chinese, truth, attack, is_terrorist, time, think, terrorist, protest, stop, vernment, so, ccp, charge, peaceful, victim  \n",
       "1  negative, never, for, help, hker, evil, world, india, od, well, is_terrorist, sanction, save, need, country_modern_slave, face, virus, big, young, talk   "
      ]
     },
     "execution_count": 89,
     "metadata": {},
     "output_type": "execute_result"
    }
   ],
   "source": [
    "topic_stats.sort_values(by=['% of Observations'], ascending=False)"
   ]
  },
  {
   "cell_type": "code",
   "execution_count": 91,
   "metadata": {},
   "outputs": [
    {
     "name": "stdout",
     "output_type": "stream",
     "text": [
      "It appears that 88.0% of the Tweets fall into the Top 3 categories.\n"
     ]
    }
   ],
   "source": [
    "n = (topic_stats['% of Observations'][0]+topic_stats['% of Observations'][2]+topic_stats['% of Observations'][3]).sum()\n",
    "print('It appears that',\"{:,}%\".format(round(n*100,0)),'of the Tweets fall into the Top 3 categories.')"
   ]
  },
  {
   "cell_type": "markdown",
   "metadata": {},
   "source": [
    "**Topic Sentiment** | Taking a look at how the Sentiment of these 9 Topics played out."
   ]
  },
  {
   "cell_type": "code",
   "execution_count": 92,
   "metadata": {},
   "outputs": [],
   "source": [
    "topic_sent = pd.concat([corpus_topic_df,df_cluster['comp']],\n",
    "                    axis = 1, ignore_index=False)"
   ]
  },
  {
   "cell_type": "code",
   "execution_count": 93,
   "metadata": {},
   "outputs": [
    {
     "data": {
      "text/html": [
       "<div>\n",
       "<style scoped>\n",
       "    .dataframe tbody tr th:only-of-type {\n",
       "        vertical-align: middle;\n",
       "    }\n",
       "\n",
       "    .dataframe tbody tr th {\n",
       "        vertical-align: top;\n",
       "    }\n",
       "\n",
       "    .dataframe thead th {\n",
       "        text-align: right;\n",
       "    }\n",
       "</style>\n",
       "<table border=\"1\" class=\"dataframe\">\n",
       "  <thead>\n",
       "    <tr style=\"text-align: right;\">\n",
       "      <th></th>\n",
       "      <th>Dominant Topic</th>\n",
       "      <th>Contribution %</th>\n",
       "      <th>Topic Desc</th>\n",
       "      <th>Tweets</th>\n",
       "      <th>comp</th>\n",
       "    </tr>\n",
       "  </thead>\n",
       "  <tbody>\n",
       "    <tr>\n",
       "      <th>0</th>\n",
       "      <td>1.0</td>\n",
       "      <td>74.77</td>\n",
       "      <td>support, thank, stand, right, fem, hu, world, fight, hong, watch, kong, democracy, fe, shame, people, hongkonger, never, justice, is_terrorist, hope</td>\n",
       "      <td>thanks speaking us</td>\n",
       "      <td>0.4404</td>\n",
       "    </tr>\n",
       "    <tr>\n",
       "      <th>1</th>\n",
       "      <td>3.0</td>\n",
       "      <td>42.63</td>\n",
       "      <td>hong, kong, china, police, law, people, fem, citizen, country, ccp, hk, arst, world, brutality, rule, pss, fe, national_security, new, vernment</td>\n",
       "      <td>how stop china hong kong read new report danish think tank cipo</td>\n",
       "      <td>-0.2960</td>\n",
       "    </tr>\n",
       "  </tbody>\n",
       "</table>\n",
       "</div>"
      ],
      "text/plain": [
       "   Dominant Topic  Contribution %  \\\n",
       "0  1.0             74.77            \n",
       "1  3.0             42.63            \n",
       "\n",
       "                                                                                                                                             Topic Desc  \\\n",
       "0  support, thank, stand, right, fem, hu, world, fight, hong, watch, kong, democracy, fe, shame, people, hongkonger, never, justice, is_terrorist, hope   \n",
       "1  hong, kong, china, police, law, people, fem, citizen, country, ccp, hk, arst, world, brutality, rule, pss, fe, national_security, new, vernment        \n",
       "\n",
       "                                                                         Tweets  \\\n",
       "0  thanks speaking us                                                             \n",
       "1  how stop china hong kong read new report danish think tank cipo                \n",
       "\n",
       "     comp  \n",
       "0  0.4404  \n",
       "1 -0.2960  "
      ]
     },
     "execution_count": 93,
     "metadata": {},
     "output_type": "execute_result"
    }
   ],
   "source": [
    "topic_sent.head(2)"
   ]
  },
  {
   "cell_type": "code",
   "execution_count": 94,
   "metadata": {},
   "outputs": [
    {
     "data": {
      "text/plain": [
       "[Text(0.5, 0, 'Topics'), Text(0, 0.5, 'Sentiment Scores (Comp)')]"
      ]
     },
     "execution_count": 94,
     "metadata": {},
     "output_type": "execute_result"
    },
    {
     "data": {
      "image/png": "[encoded data removed]",
      "text/plain": [
       "<Figure size 1224x720 with 1 Axes>"
      ]
     },
     "metadata": {},
     "output_type": "display_data"
    }
   ],
   "source": [
    "fig, ax = plt.subplots(1,1, figsize=(17,10))\n",
    "ax = sns.boxplot(x=\"Dominant Topic\", y=\"comp\", data=topic_sent)\n",
    "#ax.set(title='Comp Score ( Titles )')\n",
    "ax.set(xlabel='Topics', ylabel='Sentiment Scores (Comp)')\n"
   ]
  },
  {
   "cell_type": "markdown",
   "metadata": {},
   "source": [
    "We can see that the breakdown of Positive & Negative as:\n",
    "   * Positive\n",
    "     * Number 1\n",
    "\n",
    "The rest appear Neutral. We will remind ourselves what the key words defining the Positive & Negative Topics are.\n",
    "\n",
    "Let's take a look at the **Positive**:"
   ]
  },
  {
   "cell_type": "code",
   "execution_count": 95,
   "metadata": {},
   "outputs": [
    {
     "name": "stdout",
     "output_type": "stream",
     "text": [
      " Topic 1 | support, thank, stand, right, fem, hu, world, fight, hong, watch, kong, democracy, fe, shame, people, hongkonger, never, justice, is_terrorist, hope\n"
     ]
    }
   ],
   "source": [
    "print(\n",
    "     ' Topic',topic_stats['Dominant Topic'][0],'|',topic_stats['Terms'][0])"
   ]
  },
  {
   "cell_type": "markdown",
   "metadata": {},
   "source": [
    "Let's also take look at the others."
   ]
  },
  {
   "cell_type": "code",
   "execution_count": 97,
   "metadata": {},
   "outputs": [
    {
     "name": "stdout",
     "output_type": "stream",
     "text": [
      " Topic 3 | hong, kong, china, police, law, people, fem, citizen, country, ccp, hk, arst, world, brutality, rule, pss, fe, national_security, new, vernment \n",
      " Topic 4 | police, arst, year, hk, people, chinese, truth, attack, is_terrorist, time, think, terrorist, protest, stop, vernment, so, ccp, charge, peaceful, victim \n",
      " Topic 2 | negative, never, for, help, hker, evil, world, india, od, well, is_terrorist, sanction, save, need, country_modern_slave, face, virus, big, young, talk \n",
      "\n"
     ]
    }
   ],
   "source": [
    "print(\n",
    "     ' Topic',topic_stats['Dominant Topic'][2],'|',topic_stats['Terms'][2],'\\n',\n",
    "     'Topic',topic_stats['Dominant Topic'][3],'|',topic_stats['Terms'][3],'\\n',\n",
    "     'Topic',topic_stats['Dominant Topic'][1],'|',topic_stats['Terms'][1],'\\n',\n",
    ")"
   ]
  },
  {
   "cell_type": "markdown",
   "metadata": {},
   "source": [
    "**Topics Distribution Summary** \n",
    "It appears that the **Positive** Topic Categories revolve around \n",
    "   * thanks for support, mentions of the world as well as freedom & democracy\n",
    "   \n",
    "The others revolve around:\n",
    "   * China, the police & brutality\n",
    "   * Police, attacks, terrorism & protests\n",
    "   * Negative (the replacement word for profanity), evil, terrorism & sanctions"
   ]
  },
  {
   "cell_type": "markdown",
   "metadata": {},
   "source": [
    "<a id='eda_between'></a>**Reading Between the Lines** | We will now manually take a closer look at each of the Topic Categories to ascertain what was officially Tweeted."
   ]
  },
  {
   "cell_type": "code",
   "execution_count": 112,
   "metadata": {},
   "outputs": [],
   "source": [
    "# setting up a new dataframe\n",
    "c_topic_rbl_df = pd.DataFrame([])\n",
    "c_topic_rbl_df = corpus_topic_df.copy()"
   ]
  },
  {
   "cell_type": "code",
   "execution_count": 124,
   "metadata": {},
   "outputs": [],
   "source": [
    "# setting up dataframes for each of the four topics\n",
    "c_topic_rbl_one = c_topic_rbl_df[(c_topic_rbl_df['Dominant Topic'] == 1)]\n",
    "c_topic_rbl_two = c_topic_rbl_df[(c_topic_rbl_df['Dominant Topic'] == 2)]\n",
    "c_topic_rbl_three = c_topic_rbl_df[(c_topic_rbl_df['Dominant Topic'] == 3)]\n",
    "c_topic_rbl_four = c_topic_rbl_df[(c_topic_rbl_df['Dominant Topic'] == 4)]"
   ]
  },
  {
   "cell_type": "markdown",
   "metadata": {},
   "source": [
    "Confirming it was set up correctly."
   ]
  },
  {
   "cell_type": "code",
   "execution_count": 142,
   "metadata": {},
   "outputs": [
    {
     "name": "stdout",
     "output_type": "stream",
     "text": [
      " [1] | Topic 1 Data frame unique values \n",
      " [2] | Topic 2 Data frame unique values \n",
      " [3] | Topic 3 Data frame unique values \n",
      " [4] | Topic 4 Data frame unique values \n",
      "\n"
     ]
    }
   ],
   "source": [
    "print('',c_topic_rbl_one['Dominant Topic'].unique(),'| Topic 1 Data frame unique values','\\n',\n",
    "     c_topic_rbl_two['Dominant Topic'].unique(),'| Topic 2 Data frame unique values','\\n',\n",
    "     c_topic_rbl_three['Dominant Topic'].unique(),'| Topic 3 Data frame unique values','\\n',\n",
    "     c_topic_rbl_four['Dominant Topic'].unique(),'| Topic 4 Data frame unique values','\\n',\n",
    "     )"
   ]
  },
  {
   "cell_type": "markdown",
   "metadata": {},
   "source": [
    "<a id='eda_rdl_1'></a>**RBL Topic 1** | Reading between the lines."
   ]
  },
  {
   "cell_type": "code",
   "execution_count": 195,
   "metadata": {},
   "outputs": [
    {
     "data": {
      "text/html": [
       "<div>\n",
       "<style scoped>\n",
       "    .dataframe tbody tr th:only-of-type {\n",
       "        vertical-align: middle;\n",
       "    }\n",
       "\n",
       "    .dataframe tbody tr th {\n",
       "        vertical-align: top;\n",
       "    }\n",
       "\n",
       "    .dataframe thead th {\n",
       "        text-align: right;\n",
       "    }\n",
       "</style>\n",
       "<table border=\"1\" class=\"dataframe\">\n",
       "  <thead>\n",
       "    <tr style=\"text-align: right;\">\n",
       "      <th></th>\n",
       "      <th>Dominant Topic</th>\n",
       "      <th>Contribution %</th>\n",
       "      <th>Topic Desc</th>\n",
       "      <th>Tweets</th>\n",
       "    </tr>\n",
       "  </thead>\n",
       "  <tbody>\n",
       "    <tr>\n",
       "      <th>0</th>\n",
       "      <td>1</td>\n",
       "      <td>74.77</td>\n",
       "      <td>support, thank, stand, right, fem, hu, world, fight, hong, watch, kong, democracy, fe, shame, people, hongkonger, never, justice, is_terrorist, hope</td>\n",
       "      <td>thanks speaking us</td>\n",
       "    </tr>\n",
       "    <tr>\n",
       "      <th>14</th>\n",
       "      <td>1</td>\n",
       "      <td>67.05</td>\n",
       "      <td>support, thank, stand, right, fem, hu, world, fight, hong, watch, kong, democracy, fe, shame, people, hongkonger, never, justice, is_terrorist, hope</td>\n",
       "      <td>i proud honored called hong konger on revolution  _with_hk _us _watch _hk</td>\n",
       "    </tr>\n",
       "    <tr>\n",
       "      <th>32</th>\n",
       "      <td>1</td>\n",
       "      <td>40.61</td>\n",
       "      <td>support, thank, stand, right, fem, hu, world, fight, hong, watch, kong, democracy, fe, shame, people, hongkonger, never, justice, is_terrorist, hope</td>\n",
       "      <td>i birthday soon july best gift me thanks</td>\n",
       "    </tr>\n",
       "  </tbody>\n",
       "</table>\n",
       "</div>"
      ],
      "text/plain": [
       "    Dominant Topic  Contribution %  \\\n",
       "0   1               74.77            \n",
       "14  1               67.05            \n",
       "32  1               40.61            \n",
       "\n",
       "                                                                                                                                              Topic Desc  \\\n",
       "0   support, thank, stand, right, fem, hu, world, fight, hong, watch, kong, democracy, fe, shame, people, hongkonger, never, justice, is_terrorist, hope   \n",
       "14  support, thank, stand, right, fem, hu, world, fight, hong, watch, kong, democracy, fe, shame, people, hongkonger, never, justice, is_terrorist, hope   \n",
       "32  support, thank, stand, right, fem, hu, world, fight, hong, watch, kong, democracy, fe, shame, people, hongkonger, never, justice, is_terrorist, hope   \n",
       "\n",
       "                                                                            Tweets  \n",
       "0   thanks speaking us                                                              \n",
       "14  i proud honored called hong konger on revolution  _with_hk _us _watch _hk       \n",
       "32  i birthday soon july best gift me thanks                                        "
      ]
     },
     "execution_count": 195,
     "metadata": {},
     "output_type": "execute_result"
    }
   ],
   "source": [
    "c_topic_rbl_one.head(3)"
   ]
  },
  {
   "cell_type": "code",
   "execution_count": 196,
   "metadata": {},
   "outputs": [
    {
     "data": {
      "text/plain": [
       "Text(0, 0.5, 'Count')"
      ]
     },
     "execution_count": 196,
     "metadata": {},
     "output_type": "execute_result"
    },
    {
     "data": {
      "image/png": "[encoded data removed]",
      "text/plain": [
       "<Figure size 720x720 with 1 Axes>"
      ]
     },
     "metadata": {},
     "output_type": "display_data"
    }
   ],
   "source": [
    "plt.figure(figsize=(10, 10))\n",
    "plt.hist(c_topic_rbl_one['Contribution %'], bins=90)\n",
    "plt.xlabel('Contribution %')\n",
    "plt.ylabel('Count')\n",
    "# plt.axvline(x=one_mean,linewidth=4, color='r')"
   ]
  },
  {
   "cell_type": "code",
   "execution_count": 155,
   "metadata": {},
   "outputs": [
    {
     "data": {
      "text/html": [
       "<div>\n",
       "<style scoped>\n",
       "    .dataframe tbody tr th:only-of-type {\n",
       "        vertical-align: middle;\n",
       "    }\n",
       "\n",
       "    .dataframe tbody tr th {\n",
       "        vertical-align: top;\n",
       "    }\n",
       "\n",
       "    .dataframe thead th {\n",
       "        text-align: right;\n",
       "    }\n",
       "</style>\n",
       "<table border=\"1\" class=\"dataframe\">\n",
       "  <thead>\n",
       "    <tr style=\"text-align: right;\">\n",
       "      <th></th>\n",
       "      <th>Dominant Topic</th>\n",
       "      <th>Contribution %</th>\n",
       "    </tr>\n",
       "  </thead>\n",
       "  <tbody>\n",
       "    <tr>\n",
       "      <th>count</th>\n",
       "      <td>57394.0</td>\n",
       "      <td>57394.000000</td>\n",
       "    </tr>\n",
       "    <tr>\n",
       "      <th>mean</th>\n",
       "      <td>1.0</td>\n",
       "      <td>62.095606</td>\n",
       "    </tr>\n",
       "    <tr>\n",
       "      <th>std</th>\n",
       "      <td>0.0</td>\n",
       "      <td>16.190216</td>\n",
       "    </tr>\n",
       "    <tr>\n",
       "      <th>min</th>\n",
       "      <td>1.0</td>\n",
       "      <td>25.000000</td>\n",
       "    </tr>\n",
       "    <tr>\n",
       "      <th>25%</th>\n",
       "      <td>1.0</td>\n",
       "      <td>50.410000</td>\n",
       "    </tr>\n",
       "    <tr>\n",
       "      <th>50%</th>\n",
       "      <td>1.0</td>\n",
       "      <td>62.500000</td>\n",
       "    </tr>\n",
       "    <tr>\n",
       "      <th>75%</th>\n",
       "      <td>1.0</td>\n",
       "      <td>74.950000</td>\n",
       "    </tr>\n",
       "    <tr>\n",
       "      <th>max</th>\n",
       "      <td>1.0</td>\n",
       "      <td>98.350000</td>\n",
       "    </tr>\n",
       "  </tbody>\n",
       "</table>\n",
       "</div>"
      ],
      "text/plain": [
       "       Dominant Topic  Contribution %\n",
       "count  57394.0         57394.000000  \n",
       "mean   1.0             62.095606     \n",
       "std    0.0             16.190216     \n",
       "min    1.0             25.000000     \n",
       "25%    1.0             50.410000     \n",
       "50%    1.0             62.500000     \n",
       "75%    1.0             74.950000     \n",
       "max    1.0             98.350000     "
      ]
     },
     "execution_count": 155,
     "metadata": {},
     "output_type": "execute_result"
    }
   ],
   "source": [
    "c_topic_rbl_one.describe()"
   ]
  },
  {
   "cell_type": "markdown",
   "metadata": {},
   "source": [
    "**There's a lot to manually digest**; even if we looked at those above the 75% mark & below the 25% mark. **Let's manually knock it down to a digestable amount**."
   ]
  },
  {
   "cell_type": "code",
   "execution_count": 267,
   "metadata": {},
   "outputs": [],
   "source": [
    "# creating empty dataframes\n",
    "c_topic_rbl_one_top = pd.DataFrame([])\n",
    "c_topic_rbl_one_low = pd.DataFrame([])\n",
    "\n",
    "# adjusting to a managable amount on the top & low side\n",
    "c_topic_rbl_one_top = c_topic_rbl_one[(c_topic_rbl_one['Contribution %'] >= 94)]\n",
    "c_topic_rbl_one_low = c_topic_rbl_one[(c_topic_rbl_one['Contribution %'] <= 26) & (c_topic_rbl_one['Contribution %'] > 25)]"
   ]
  },
  {
   "cell_type": "code",
   "execution_count": 268,
   "metadata": {},
   "outputs": [
    {
     "name": "stdout",
     "output_type": "stream",
     "text": [
      "We knocked it down to \n",
      " 70 | on the top side \n",
      " 10 | on the low side\n"
     ]
    }
   ],
   "source": [
    "print('We knocked it down to','\\n',\n",
    "      len(c_topic_rbl_one_top),'| on the top side','\\n',\n",
    "     len(c_topic_rbl_one_low), '| on the low side' )"
   ]
  },
  {
   "cell_type": "markdown",
   "metadata": {},
   "source": [
    "**Top side** check."
   ]
  },
  {
   "cell_type": "code",
   "execution_count": 271,
   "metadata": {},
   "outputs": [
    {
     "data": {
      "text/plain": [
       "4520      thank sir supporting hongkongers defending freedom humanrights hong kong defending core value free world please                                                                                                                                                                                      \n",
       "5078      thank continuous great effort  thank ben joining speak hong kong we stand together freedom                                                                                                                                                                                                           \n",
       "5116      thank ipac support  support democracy freedom we really appreciate continued strong support continue fight now we see strength unity enormous                                                                                                                                                        \n",
       "5176      thank standing hong kong because continuous support antichina alliance stronger ever lets keep working freedom democracy hong kong together                                                                                                                                                          \n",
       "8871      thanks persistent effort fight freedom brave young man thank sir standing hong kong too grazie signore                                                                                                                                                                                               \n",
       "12654     thank  your support means lot us hongkongers suffering limited freedom    we sincerely hope free world work together stop chinas oppression many thanks                                                                                                                                              \n",
       "13981     _aderholt _ thank sir supporting cause  defending freedom   defending core value free world please continue  hope would                                                                                                                                                                              \n",
       "15149     thanks liberatehongkong follow you telling world injustice anywhere threat justice everywhere free hong kong together support global   vs  amp                                                                                                                                                       \n",
       "15836     _with_hk _hk _wonghki thank  folded_hands everyone realize freedom free we stand together fight autonomy freedom                                                                                                                                                                                     \n",
       "18382     _ballester thank support i hope move let people barcelona know situation hk lets fight freedom human rights together flexed_biceps light_skin_tone please stay safe                                                                                                                                  \n",
       "20829     _news please keep supporting freedom hong kong thank you freedom free we need fight safeguard                                                                                                                                                                                                        \n",
       "24284     _aderholt thank sir supporting hongkongers defending freedom humanrights hong kong defending core value free world please continue  hope would                                                                                                                                                       \n",
       "25179     thank supporting hk fire hongkonger give up we keep fighting totalitarianism  please keep spreading hk situation japanese we need support                                                                                                                                                            \n",
       "25279     thank president tsai speaking  hope stand united fight freedom democracy folded_hands thumbs_up  red_heart                                                                                                                                                                                           \n",
       "30752     thanks ttdog follow you telling world hong kongerinjustice anywhere threat justice everywherehuman rights advocatean eggdog lover together support global   vs  amp                                                                                                                                  \n",
       "30934     thanks sec pompeo the solidarity among freedomloving nations support hong kong heartening lets stay strong keep fighting triumph democracy comes                                                                                                                                                     \n",
       "31176     thanks ka hing follow you telling world fight freedom stand hong kong   together support global   vs  amp                                                                                                                                                                                            \n",
       "33289     thank american  we touched under  launched little now cautious now sincerely appreciate great brave move done us support human rights issues                                                                                                                                                         \n",
       "33311     thank american  we touched under  launched little now cautious now sincerely appreciate great brave move done us support human rights issues                                                                                                                                                         \n",
       "33313     thank american  we touched under  launched little now cautious now sincerely appreciate great brave move done us support human rights issues                                                                                                                                                         \n",
       "40814     _with_hk _wonghki    never give fight freedom flexed_biceps thanks support flexed_biceps in hk  like human voice support  hope world                                                                                                                                                                 \n",
       "42882     thanks dobby elf face_with_medical_mask follow you telling world dobby free elf thought_balloon  one dreamers  we fight democracy amp human rights speaking_head yellow_heart  stand hong kong oncoming_fist light_skin_tone fight freedom together support global   vs                              \n",
       "52645     ive  urgent appeal  we need support continue standing hong kong campaign donate support great cause  _watch                                                                                                                                                                                          \n",
       "60080     we stand fight freedom democracy we never surrender we never defeated we  we front free world we hongkongers                                                                                                                                                                                         \n",
       "60084     we stand fight freedom democracy we never surrender we never defeated we  we front free world we hongkongers                                                                                                                                                                                         \n",
       "60090     we stand fight freedom democracy we never surrender we never defeated we  we front free world we hongkongers please stand us                                                                                                                                                                         \n",
       "60095     we stand fight freedom democracy we never surrender we never defeated we  we front free world we hongkongers please stand us                                                                                                                                                                         \n",
       "60096     we stand fight freedom democracy we never surrender we never defeated we  we front free world we hongkongers please stand us                                                                                                                                                                         \n",
       "60973     oh  its touching heartfelt heartfelt thanks red_heart yellow_heart green_heart blue_heart purple_heart  ribbon we   never give fight freedom  flexed_biceps flexed_biceps flexed_biceps                                                                                                              \n",
       "60974     oh  its touching heartfelt heartfelt thanks red_heart yellow_heart green_heart blue_heart purple_heart  ribbon we   never give fight freedom  flexed_biceps flexed_biceps flexed_biceps                                                                                                              \n",
       "60975     oh  its touching heartfelt thanks  french fellows red_heart yellow_heart green_heart blue_heart purple_heart  ribbon we   never give fight freedom flexed_biceps flexed_biceps flexed_biceps                                                                                                         \n",
       "61463     _with_hk _angioli _hk as hongkoners touching see ppl around world voicing support hong kong fight againt tyranny thanks                                                                                                                                                                              \n",
       "63823     thank speaking hong kong senator kitching injustice anywhere threat justice everywhere free world lock arm speak human rights hong kong                                                                                                                                                              \n",
       "63860     thank australia defending freedom human rights hong kong defending core value free world hongkongers urge free world                                                                                                                                                                                 \n",
       "70293     thanks standing hong kongit would tough battle hongkongers never surrender yet international support crucial us too                                                                                                                                                                                  \n",
       "71777     thank eu telling hongkongers alone fight defending freedom humanrights hong kong defending core value free world please                                                                                                                                                                              \n",
       "72119     thank   all free nations need stand together fight democray democray human right freedom suppressed ccp everywhere                                                                                                                                                                                   \n",
       "75485     thank senator housakos speaking hk we never surrender fight please continue  the world needs united fight                                                                                                                                                                                            \n",
       "76040     thanks continuous support sir but hong kong loses freedom democracy us please take action support freedom fighters stop chinas aggression bastion free world                                                                                                                                         \n",
       "81431     thank sen haley  hong kong aspiring predatory fascistic s statement intent get away atrocities one stop anymore the socialimperialisticis waging war free world amp theus                                                                                                                            \n",
       "81436     thank rep riggleman  hong kong aspiring predatory fascistic s statement intent get away atrocities one stop anymore the socialimperialisticis waging war free world amp theus                                                                                                                        \n",
       "82390     _news _watch world lets stand behind brave  fighting tyranny freedom justice democracy stop  fight freedom                                                                                                                                                                                           \n",
       "82673     thank rep gooden  hong kong aspiring predatory fascistic s statement intent get away atrocities one stop anymore the socialimperialisticis waging war free world amp theus                                                                                                                           \n",
       "87768     _watch thank   senator  we come back keep fight freedom plz let world connect together protect world future                                                                                                                                                                                          \n",
       "88165     _watch _with_hk _us from heart thanks support help we want live fear thanks speak us i love red_heart red_heart red_heart red_heart red_heart red_heart sunflower sunflower sunflower sunflower rainbow rainbow rainbow rainbow folded_hands folded_hands folded_hands folded_hands _is_terrorist    \n",
       "92488     red_heart  red_heart  red_heart  red_heart taiwan  freedom human rights democracy the free world proud taiwan                                                                                                                                                                                        \n",
       "99093     _with_hk _liesin_ppl thank brother fight  lot need support world we need fight believe values                                                                                                                                                                                                        \n",
       "102183    its time tell  free world  embrace liberty amp democracy universal values injustice anywhere injustice everywhere oppression freedom amp autonomy hong kong way tolerable                                                                                                                            \n",
       "104258    britian showing world fulfilling historical responsibility hong kong showing world fighting  must safeguard democracy human rights                                                                                                                                                                   \n",
       "104768    thank senators  while hong kong people greatly appreciate us providing refuge place earth truly free long exists aspiring predatory nationalistic tyrannical ccp hk frontlineis  to                                                                                                                  \n",
       "Name: Tweets, dtype: object"
      ]
     },
     "execution_count": 271,
     "metadata": {},
     "output_type": "execute_result"
    }
   ],
   "source": [
    "c_topic_rbl_one_top['Tweets'].head(50)"
   ]
  },
  {
   "cell_type": "markdown",
   "metadata": {},
   "source": [
    "**Bottom side** check."
   ]
  },
  {
   "cell_type": "code",
   "execution_count": 258,
   "metadata": {},
   "outputs": [
    {
     "data": {
      "text/plain": [
       "32830      wonderful application make  dance together face_with_tears_of_joy face_with_tears_of_joy                                                                     \n",
       "34241     please convince lobby uk follow suit thank you                                                                                                                \n",
       "42609     thank much  disqualifying prodemocracy candidates strong support hkers trampling people from trend i afraid scale grow one day proccp politicians run election\n",
       "51265     thanks  it really comforts encourages me warm                                                                                                                 \n",
       "63091     its awesome thank encouragement vote                                                                                                                          \n",
       "98159     thank you nice writing happy birthday                                                                                                                         \n",
       "107402    _with_hk did u forget it or afraid remember it                                                                                                                \n",
       "131913    even better mulan postponed forever                                                                                                                           \n",
       "150217    disgusting                                                                                                                                                    \n",
       "153106    the hong kong protesters need us see whats happening quiet it so im adding voice hopefully help get word least little bit more                                \n",
       "Name: Tweets, dtype: object"
      ]
     },
     "execution_count": 258,
     "metadata": {},
     "output_type": "execute_result"
    }
   ],
   "source": [
    "c_topic_rbl_one_low['Tweets'].head(10)"
   ]
  },
  {
   "cell_type": "markdown",
   "metadata": {},
   "source": [
    "**RBL Topic 1 : Summary** | Reading between the lines we see:\n",
    "   * A notable amount of appreciation for support from the world for helping fight for freedom, democracy & human rights\n",
    "   * Mentions of the free world which may be classified as the UK, Australia, Taiwan & the USA with personal mentions towards:\n",
    "     * rep riggleman\n",
    "     * sec pompeo\n",
    "     * aderholt\n",
    "     * rep gooden\n",
    "     * sen haley"
   ]
  },
  {
   "cell_type": "code",
   "execution_count": null,
   "metadata": {},
   "outputs": [],
   "source": []
  },
  {
   "cell_type": "markdown",
   "metadata": {},
   "source": [
    "<a id='eda_rdl_2'></a>**RBL Topic 2** | Reading between the lines."
   ]
  },
  {
   "cell_type": "code",
   "execution_count": 272,
   "metadata": {},
   "outputs": [
    {
     "data": {
      "text/html": [
       "<div>\n",
       "<style scoped>\n",
       "    .dataframe tbody tr th:only-of-type {\n",
       "        vertical-align: middle;\n",
       "    }\n",
       "\n",
       "    .dataframe tbody tr th {\n",
       "        vertical-align: top;\n",
       "    }\n",
       "\n",
       "    .dataframe thead th {\n",
       "        text-align: right;\n",
       "    }\n",
       "</style>\n",
       "<table border=\"1\" class=\"dataframe\">\n",
       "  <thead>\n",
       "    <tr style=\"text-align: right;\">\n",
       "      <th></th>\n",
       "      <th>Dominant Topic</th>\n",
       "      <th>Contribution %</th>\n",
       "      <th>Topic Desc</th>\n",
       "      <th>Tweets</th>\n",
       "    </tr>\n",
       "  </thead>\n",
       "  <tbody>\n",
       "    <tr>\n",
       "      <th>6</th>\n",
       "      <td>2</td>\n",
       "      <td>44.49</td>\n",
       "      <td>negative, never, for, help, hker, evil, world, india, od, well, is_terrorist, sanction, save, need, country_modern_slave, face, virus, big, young, talk</td>\n",
       "      <td>china never stop</td>\n",
       "    </tr>\n",
       "    <tr>\n",
       "      <th>8</th>\n",
       "      <td>2</td>\n",
       "      <td>48.16</td>\n",
       "      <td>negative, never, for, help, hker, evil, world, india, od, well, is_terrorist, sanction, save, need, country_modern_slave, face, virus, big, young, talk</td>\n",
       "      <td>_jpn thank japan brother sister</td>\n",
       "    </tr>\n",
       "    <tr>\n",
       "      <th>23</th>\n",
       "      <td>2</td>\n",
       "      <td>56.03</td>\n",
       "      <td>negative, never, for, help, hker, evil, world, india, od, well, is_terrorist, sanction, save, need, country_modern_slave, face, virus, big, young, talk</td>\n",
       "      <td>we condemn bolton well</td>\n",
       "    </tr>\n",
       "  </tbody>\n",
       "</table>\n",
       "</div>"
      ],
      "text/plain": [
       "    Dominant Topic  Contribution %  \\\n",
       "6   2               44.49            \n",
       "8   2               48.16            \n",
       "23  2               56.03            \n",
       "\n",
       "                                                                                                                                                 Topic Desc  \\\n",
       "6   negative, never, for, help, hker, evil, world, india, od, well, is_terrorist, sanction, save, need, country_modern_slave, face, virus, big, young, talk   \n",
       "8   negative, never, for, help, hker, evil, world, india, od, well, is_terrorist, sanction, save, need, country_modern_slave, face, virus, big, young, talk   \n",
       "23  negative, never, for, help, hker, evil, world, india, od, well, is_terrorist, sanction, save, need, country_modern_slave, face, virus, big, young, talk   \n",
       "\n",
       "                               Tweets  \n",
       "6   china never stop                   \n",
       "8   _jpn thank japan brother sister    \n",
       "23  we condemn bolton well             "
      ]
     },
     "execution_count": 272,
     "metadata": {},
     "output_type": "execute_result"
    }
   ],
   "source": [
    "c_topic_rbl_two.head(3)"
   ]
  },
  {
   "cell_type": "code",
   "execution_count": 296,
   "metadata": {},
   "outputs": [
    {
     "data": {
      "text/plain": [
       "Text(0, 0.5, 'Count')"
      ]
     },
     "execution_count": 296,
     "metadata": {},
     "output_type": "execute_result"
    },
    {
     "data": {
      "image/png": "[encoded data removed]",
      "text/plain": [
       "<Figure size 720x720 with 1 Axes>"
      ]
     },
     "metadata": {},
     "output_type": "display_data"
    }
   ],
   "source": [
    "plt.figure(figsize=(10, 10))\n",
    "plt.hist(c_topic_rbl_two['Contribution %'], bins=120)\n",
    "plt.xlabel('Contribution %')\n",
    "plt.ylabel('Count')\n",
    "# plt.axvline(x=one_mean,linewidth=4, color='r')"
   ]
  },
  {
   "cell_type": "code",
   "execution_count": null,
   "metadata": {},
   "outputs": [],
   "source": [
    "c_topic_rbl_two.describe()"
   ]
  },
  {
   "cell_type": "markdown",
   "metadata": {},
   "source": [
    "**There's a lot to manually digest**; even if we looked at those above the 75% mark & below the 25% mark. **Let's manually knock it down to a digestable amount**."
   ]
  },
  {
   "cell_type": "code",
   "execution_count": 294,
   "metadata": {},
   "outputs": [],
   "source": [
    "# creating empty dataframes\n",
    "c_topic_rbl_two_top = pd.DataFrame([])\n",
    "c_topic_rbl_two_low = pd.DataFrame([])\n",
    "\n",
    "# adjusting to a managable amount on the top & low side\n",
    "c_topic_rbl_two_top = c_topic_rbl_two[(c_topic_rbl_two['Contribution %'] >= 90)]\n",
    "c_topic_rbl_two_low = c_topic_rbl_two[(c_topic_rbl_two['Contribution %'] <= 25.72)]"
   ]
  },
  {
   "cell_type": "code",
   "execution_count": 295,
   "metadata": {},
   "outputs": [
    {
     "name": "stdout",
     "output_type": "stream",
     "text": [
      "We knocked it down to \n",
      " 47 | on the top side \n",
      " 17 | on the low side\n"
     ]
    }
   ],
   "source": [
    "print('We knocked it down to','\\n',\n",
    "      len(c_topic_rbl_two_top),'| on the top side','\\n',\n",
    "     len(c_topic_rbl_two_low), '| on the low side' )"
   ]
  },
  {
   "cell_type": "markdown",
   "metadata": {},
   "source": [
    "**Top side** check."
   ]
  },
  {
   "cell_type": "code",
   "execution_count": 300,
   "metadata": {},
   "outputs": [
    {
     "data": {
      "text/plain": [
       "3766      i pray everyday safe return i wish someone could help them folded_hands folded_hands folded_hands crying_face crying_face crying_face loudly_crying_face loudly_crying_face loudly_crying_face broken_heart broken_heart broken_heart  _is_terrorist                                                                                                                                                                                                                                                         \n",
       "4964      _hker help kids pls no matter evil    no matter brutal   still fighting justice liberty amp democracy pouting_face  giving up                                                                                                                                                                                                                                                                                                                                                                                \n",
       "4965      _hker help kids pls no matter evil    no matter brutal   still fighting justice liberty amp democracy pouting_face  giving up                                                                                                                                                                                                                                                                                                                                                                                \n",
       "4966      _hker help kids pls no matter evil    no matter brutal   still fighting justice liberty amp democracy pouting_face  giving up                                                                                                                                                                                                                                                                                                                                                                                \n",
       "4967      _hker help kids pls no matter evil    no matter brutal   still fighting justice liberty amp democracy pouting_face  giving up                                                                                                                                                                                                                                                                                                                                                                                \n",
       "4968      _hker help kids pls no matter evil    no matter brutal   still fighting justice liberty amp democracy pouting_face  giving up                                                                                                                                                                                                                                                                                                                                                                                \n",
       "6264      _hker help kids pls no matter evil    no matter brutal   still fighting justice liberty amp democracy pouting_face  giving up                                                                                                                                                                                                                                                                                                                                                                                \n",
       "6265      _hker help kids pls no matter evil    no matter brutal   still fighting justice liberty amp democracy pouting_face  giving up                                                                                                                                                                                                                                                                                                                                                                                \n",
       "6267      _hker help kids pls no matter evil    no matter brutal   still fighting justice liberty amp democracy pouting_face  giving up                                                                                                                                                                                                                                                                                                                                                                                \n",
       "6268      _hker help kids pls no matter evil    no matter brutal   still fighting justice liberty amp democracy pouting_face  giving up                                                                                                                                                                                                                                                                                                                                                                                \n",
       "6269      _hker help kids pls no matter evil    no matter brutal   still fighting justice liberty amp democracy pouting_face  giving up                                                                                                                                                                                                                                                                                                                                                                                \n",
       "7469      who serve evil who betray people hsbc bear results _is_terrorist                                                                                                                                                                                                                                                                                                                                                                                                                                             \n",
       "8337      _kwai i really love song loudly_crying_face folded_hands hkers inexhaustible patriotism energy fire unite countries world globe_showing_americas one double_exclamation_mark  may negative bless hk hkers folded_hands two_men_holding_hands man_and_woman_holding_hands two_men_holding_hands man_and_woman_holding_hands two_men_holding_hands man_and_woman_holding_hands two_women_holding_hands two_men_holding_hands man_and_woman_holding_hands two_men_holding_hands man_and_woman_holding_hands     \n",
       "8840      _hker _alfieri no matter evil    no matter brutal   still fighting justice liberty amp democracy flexed_biceps dark_skin_tone angry_face  giving up                                                                                                                                                                                                                                                                                                                                                          \n",
       "10685     _hker _hk no matter evil    no matter brutal   still fighting justice liberty amp democracy flexed_biceps dark_skin_tone angry_face  giving up                                                                                                                                                                                                                                                                                                                                                               \n",
       "11706     _craymer _hker no matter evil    no matter brutal   still fighting justice liberty amp democracy flexed_biceps dark_skin_tone angry_face  giving up                                                                                                                                                                                                                                                                                                                                                          \n",
       "12561     _hk _craymer no matter evil    no matter brutal   still fighting justice liberty amp democracy flexed_biceps dark_skin_tone angry_face  giving up                                                                                                                                                                                                                                                                                                                                                            \n",
       "13242     _sit _hker no matter evil    no matter brutal   still fighting justice liberty amp democracy flexed_biceps dark_skin_tone angry_face  giving up                                                                                                                                                                                                                                                                                                                                                              \n",
       "33272     _enews good news  need more usa british need sanction people evil                                                                                                                                                                                                                                                                                                                                                                                                                                            \n",
       "35663     _news _hker no matter evil    no matter brutal   still fighting justice liberty amp democracy flexed_biceps dark_skin_tone angry_face  giving up                                                                                                                                                                                                                                                                                                                                                             \n",
       "37261     pope blind chi na hk negative show justice evil acts                                                                                                                                                                                                                                                                                                                                                                                                                                                         \n",
       "37626     _hk _hker no matter evil    are brutal  is  wont give up  still fighting justice liberty amp democracy help pls                                                                                                                                                                                                                                                                                                                                                                                              \n",
       "52494      what happened night never forgotten people behind never forgiven                                                                                                                                                                                                                                                                                                                                                                                                                                            \n",
       "55540     _hker _china_talk no matter evil    are no matter brutal  is  giving up  still fighting justice liberty amp democracy join us                                                                                                                                                                                                                                                                                                                                                                                \n",
       "58624     _adonis _hker no matter evil    no matter brutal   still fighting justice liberty amp democracy flexed_biceps dark_skin_tone angry_face  giving up                                                                                                                                                                                                                                                                                                                                                           \n",
       "61627     _hker _polumbo no matter evil    are no matter brutal  is  giving up  still fighting justice liberty amp democracy join us                                                                                                                                                                                                                                                                                                                                                                                   \n",
       "61697     _hk _hker no matter evil    are no matter brutal  is  giving up  still fighting justice liberty amp democracy join us                                                                                                                                                                                                                                                                                                                                                                                        \n",
       "64655     musical_notes sing hallelujah lord sing hallelujah lord musical_notes                                                                                                                                                                                                                                                                                                                                                                                                                                        \n",
       "65804     _spalding _hker no matter evil    no matter brutal  is  giving up  still fighting justice liberty amp democracy pls help                                                                                                                                                                                                                                                                                                                                                                                     \n",
       "79586     _hk _hk  no matter evil    no matter brutal  is  giving up  still fighting justice liberty amp democracy pls help                                                                                                                                                                                                                                                                                                                                                                                            \n",
       "80839     help help help help help help help   _is_terrorist                                                                                                                                                                                                                                                                                                                                                                                                                                                           \n",
       "93297     never forget never forgetnever forgetnever forget never forget never forget never forget never forget never forget                                                                                                                                                                                                                                                                                                                                                                                           \n",
       "93592     govph also trustworthy opportunity na sana like could benefit potential exodus hkg                                                                                                                                                                                                                                                                                                                                                                                                                           \n",
       "95378     good song sharing thumbs_up light_skin_tone facing enemy cooperate other                                                                                                                                                                                                                                                                                                                                                                                                                                     \n",
       "113932    candle candle candle candle candle candle candle candle candle candle candle candle candle candle candle candle candle candle candle candle candle candle candle candle candle candle candle candle candle candle candle lest forget                                                                                                                                                                                                                                                                         \n",
       "123431    all freedomlovers around world would abominate cruelty barbaric acts ccp                                                                                                                                                                                                                                                                                                                                                                                                                                     \n",
       "131400    folded_hands light_skin_tone please true folded_hands light_skin_tone please true folded_hands light_skin_tone please true folded_hands light_skin_tone please true                                                                                                                                                                                                                                                                                                                                          \n",
       "132369    lmaoo joke i remember happy nba back nba association clause contracts forcing everyone stand anthem  not a single nba player took a knee during the anthem                                                                                                                                                                                                                                                                                                                                                   \n",
       "132426    what nobodys free everybody free                                                                                                                                                                                                                                                                                                                                                                                                                                                                             \n",
       "132427    sad watermelon noises and sad hkers noises too   ____                                                                                                                                                                                                                                                                                                                                                                                                                                                        \n",
       "132433     threat democracy world globe_showing_europeafrica _is_terrorist                                                                                                                                                                                                                                                                                                                                                                                                                                             \n",
       "142748    hong kong people street national security law clearly ccp broken joint declaration                                                                                                                                                                                                                                                                                                                                                                                                                           \n",
       "145736     press freedom but condition  police good friends thugs allow                                                                                                                                                                                                                                                                                                                                                                                                                                                \n",
       "146455    hong kong great threat now please stand us strike freedom                                                                                                                                                                                                                                                                                                                                                                                                                                                    \n",
       "146811    this brave hearts taught pla lesson never forget                                                                                                                                                                                                                                                                                                                                                                                                                                                             \n",
       "149150    leung ling kit the first man suicided hong kong antiextradition movement conveying strong will lives light eyes tyrants heavy nation lets death pain remain heart carry on                                                                                                                                                                                                                                                                                                                                   \n",
       "157937     already enough rapists murderers                                                                                                                                                                                                                                                                                                                                                                                                                                                                            \n",
       "Name: Tweets, dtype: object"
      ]
     },
     "execution_count": 300,
     "metadata": {},
     "output_type": "execute_result"
    }
   ],
   "source": [
    "c_topic_rbl_two_top['Tweets'].tail(50)"
   ]
  },
  {
   "cell_type": "markdown",
   "metadata": {},
   "source": [
    "**Bottom side** check."
   ]
  },
  {
   "cell_type": "code",
   "execution_count": 299,
   "metadata": {},
   "outputs": [
    {
     "data": {
      "text/plain": [
       "59        corrupt league                  _gb                \n",
       "125       sponsor corruption          _gb                    \n",
       "3321      damnnnnnn                                          \n",
       "3404      we like idea using tag plural stuff                \n",
       "5197      a tragical day                                     \n",
       "5997      thank mr manly mp                                  \n",
       "13431     tahnk much                                         \n",
       "23117     _espanol please                                    \n",
       "23120     _heide please                                      \n",
       "23413     _espanol please                                    \n",
       "34180     ohits happening                                    \n",
       "44037     chinesestyle elections                             \n",
       "44169      legco election candidates disqualified            \n",
       "51428      wowthank                                          \n",
       "64240     thank aus quick response                           \n",
       "72871     this thoughtcrime                                  \n",
       "116383    _hk   we wont go back normal unless  thanks mr yuen\n",
       "Name: Tweets, dtype: object"
      ]
     },
     "execution_count": 299,
     "metadata": {},
     "output_type": "execute_result"
    }
   ],
   "source": [
    "c_topic_rbl_two_low['Tweets'].head(20)"
   ]
  },
  {
   "cell_type": "markdown",
   "metadata": {},
   "source": [
    "**RBL Topic 2 : Summary** | Reading between the lines we see:\n",
    "   * A sense of comradery towards their fight \n",
    "   * Conveying a urge to not give up on their fight\n",
    "   * The usage of positivity to achieve the aforementioned goals:\n",
    "     * candle\n",
    "     * musical_notes / sing hallelujah\n",
    "     * folded_hands\n",
    "     * Different configurations of people holding hands"
   ]
  },
  {
   "cell_type": "code",
   "execution_count": null,
   "metadata": {},
   "outputs": [],
   "source": []
  },
  {
   "cell_type": "markdown",
   "metadata": {},
   "source": [
    "<a id='eda_rdl_3'></a>**RBL Topic 3** | Reading between the lines."
   ]
  },
  {
   "cell_type": "code",
   "execution_count": 301,
   "metadata": {},
   "outputs": [
    {
     "data": {
      "text/html": [
       "<div>\n",
       "<style scoped>\n",
       "    .dataframe tbody tr th:only-of-type {\n",
       "        vertical-align: middle;\n",
       "    }\n",
       "\n",
       "    .dataframe tbody tr th {\n",
       "        vertical-align: top;\n",
       "    }\n",
       "\n",
       "    .dataframe thead th {\n",
       "        text-align: right;\n",
       "    }\n",
       "</style>\n",
       "<table border=\"1\" class=\"dataframe\">\n",
       "  <thead>\n",
       "    <tr style=\"text-align: right;\">\n",
       "      <th></th>\n",
       "      <th>Dominant Topic</th>\n",
       "      <th>Contribution %</th>\n",
       "      <th>Topic Desc</th>\n",
       "      <th>Tweets</th>\n",
       "    </tr>\n",
       "  </thead>\n",
       "  <tbody>\n",
       "    <tr>\n",
       "      <th>1</th>\n",
       "      <td>3</td>\n",
       "      <td>42.63</td>\n",
       "      <td>hong, kong, china, police, law, people, fem, citizen, country, ccp, hk, arst, world, brutality, rule, pss, fe, national_security, new, vernment</td>\n",
       "      <td>how stop china hong kong read new report danish think tank cipo</td>\n",
       "    </tr>\n",
       "    <tr>\n",
       "      <th>2</th>\n",
       "      <td>3</td>\n",
       "      <td>42.63</td>\n",
       "      <td>hong, kong, china, police, law, people, fem, citizen, country, ccp, hk, arst, world, brutality, rule, pss, fe, national_security, new, vernment</td>\n",
       "      <td>how stop china hong kong read new report danish think tank cipo</td>\n",
       "    </tr>\n",
       "    <tr>\n",
       "      <th>4</th>\n",
       "      <td>3</td>\n",
       "      <td>42.63</td>\n",
       "      <td>hong, kong, china, police, law, people, fem, citizen, country, ccp, hk, arst, world, brutality, rule, pss, fe, national_security, new, vernment</td>\n",
       "      <td>how stop china hong kong read new report danish think tank cipo</td>\n",
       "    </tr>\n",
       "  </tbody>\n",
       "</table>\n",
       "</div>"
      ],
      "text/plain": [
       "   Dominant Topic  Contribution %  \\\n",
       "1  3               42.63            \n",
       "2  3               42.63            \n",
       "4  3               42.63            \n",
       "\n",
       "                                                                                                                                        Topic Desc  \\\n",
       "1  hong, kong, china, police, law, people, fem, citizen, country, ccp, hk, arst, world, brutality, rule, pss, fe, national_security, new, vernment   \n",
       "2  hong, kong, china, police, law, people, fem, citizen, country, ccp, hk, arst, world, brutality, rule, pss, fe, national_security, new, vernment   \n",
       "4  hong, kong, china, police, law, people, fem, citizen, country, ccp, hk, arst, world, brutality, rule, pss, fe, national_security, new, vernment   \n",
       "\n",
       "                                                                         Tweets  \n",
       "1  how stop china hong kong read new report danish think tank cipo               \n",
       "2  how stop china hong kong read new report danish think tank cipo               \n",
       "4  how stop china hong kong read new report danish think tank cipo               "
      ]
     },
     "execution_count": 301,
     "metadata": {},
     "output_type": "execute_result"
    }
   ],
   "source": [
    "c_topic_rbl_three.head(3)"
   ]
  },
  {
   "cell_type": "code",
   "execution_count": 302,
   "metadata": {},
   "outputs": [
    {
     "data": {
      "text/plain": [
       "Text(0, 0.5, 'Count')"
      ]
     },
     "execution_count": 302,
     "metadata": {},
     "output_type": "execute_result"
    },
    {
     "data": {
      "image/png": "[encoded data removed]",
      "text/plain": [
       "<Figure size 720x720 with 1 Axes>"
      ]
     },
     "metadata": {},
     "output_type": "display_data"
    }
   ],
   "source": [
    "plt.figure(figsize=(10, 10))\n",
    "plt.hist(c_topic_rbl_three['Contribution %'], bins=120)\n",
    "plt.xlabel('Contribution %')\n",
    "plt.ylabel('Count')\n",
    "# plt.axvline(x=one_mean,linewidth=4, color='r')"
   ]
  },
  {
   "cell_type": "code",
   "execution_count": 303,
   "metadata": {},
   "outputs": [
    {
     "data": {
      "text/html": [
       "<div>\n",
       "<style scoped>\n",
       "    .dataframe tbody tr th:only-of-type {\n",
       "        vertical-align: middle;\n",
       "    }\n",
       "\n",
       "    .dataframe tbody tr th {\n",
       "        vertical-align: top;\n",
       "    }\n",
       "\n",
       "    .dataframe thead th {\n",
       "        text-align: right;\n",
       "    }\n",
       "</style>\n",
       "<table border=\"1\" class=\"dataframe\">\n",
       "  <thead>\n",
       "    <tr style=\"text-align: right;\">\n",
       "      <th></th>\n",
       "      <th>Dominant Topic</th>\n",
       "      <th>Contribution %</th>\n",
       "    </tr>\n",
       "  </thead>\n",
       "  <tbody>\n",
       "    <tr>\n",
       "      <th>count</th>\n",
       "      <td>45722.0</td>\n",
       "      <td>45722.000000</td>\n",
       "    </tr>\n",
       "    <tr>\n",
       "      <th>mean</th>\n",
       "      <td>3.0</td>\n",
       "      <td>59.831997</td>\n",
       "    </tr>\n",
       "    <tr>\n",
       "      <th>std</th>\n",
       "      <td>0.0</td>\n",
       "      <td>15.441896</td>\n",
       "    </tr>\n",
       "    <tr>\n",
       "      <th>min</th>\n",
       "      <td>3.0</td>\n",
       "      <td>25.250000</td>\n",
       "    </tr>\n",
       "    <tr>\n",
       "      <th>25%</th>\n",
       "      <td>3.0</td>\n",
       "      <td>47.572500</td>\n",
       "    </tr>\n",
       "    <tr>\n",
       "      <th>50%</th>\n",
       "      <td>3.0</td>\n",
       "      <td>57.890000</td>\n",
       "    </tr>\n",
       "    <tr>\n",
       "      <th>75%</th>\n",
       "      <td>3.0</td>\n",
       "      <td>71.350000</td>\n",
       "    </tr>\n",
       "    <tr>\n",
       "      <th>max</th>\n",
       "      <td>3.0</td>\n",
       "      <td>96.760000</td>\n",
       "    </tr>\n",
       "  </tbody>\n",
       "</table>\n",
       "</div>"
      ],
      "text/plain": [
       "       Dominant Topic  Contribution %\n",
       "count  45722.0         45722.000000  \n",
       "mean   3.0             59.831997     \n",
       "std    0.0             15.441896     \n",
       "min    3.0             25.250000     \n",
       "25%    3.0             47.572500     \n",
       "50%    3.0             57.890000     \n",
       "75%    3.0             71.350000     \n",
       "max    3.0             96.760000     "
      ]
     },
     "execution_count": 303,
     "metadata": {},
     "output_type": "execute_result"
    }
   ],
   "source": [
    "c_topic_rbl_three.describe()"
   ]
  },
  {
   "cell_type": "markdown",
   "metadata": {},
   "source": [
    "This distribution is more \"normally distributed. Nevertheless, even if we looked at those above the 75% mark & below the 25% mark. **Let's manually knock it down to a digestable amount**."
   ]
  },
  {
   "cell_type": "code",
   "execution_count": 326,
   "metadata": {},
   "outputs": [],
   "source": [
    "# creating empty dataframes\n",
    "c_topic_rbl_three_top = pd.DataFrame([])\n",
    "c_topic_rbl_three_low = pd.DataFrame([])\n",
    "\n",
    "# adjusting to a managable amount on the top & low side\n",
    "c_topic_rbl_three_top = c_topic_rbl_three[(c_topic_rbl_three['Contribution %'] >= 95.25)]\n",
    "c_topic_rbl_three_low = c_topic_rbl_three[(c_topic_rbl_three['Contribution %'] <= 27)]"
   ]
  },
  {
   "cell_type": "code",
   "execution_count": 327,
   "metadata": {},
   "outputs": [
    {
     "name": "stdout",
     "output_type": "stream",
     "text": [
      "We knocked it down to \n",
      " 63 | on the top side \n",
      " 21 | on the low side\n"
     ]
    }
   ],
   "source": [
    "print('We knocked it down to','\\n',\n",
    "      len(c_topic_rbl_three_top),'| on the top side','\\n',\n",
    "     len(c_topic_rbl_three_low), '| on the low side' )"
   ]
  },
  {
   "cell_type": "markdown",
   "metadata": {},
   "source": [
    "**Top side** check."
   ]
  },
  {
   "cell_type": "code",
   "execution_count": 332,
   "metadata": {},
   "outputs": [
    {
     "data": {
      "text/plain": [
       "328      us condemns arrest prodemocratic media tycoon jimmy lai asks china restore hong kongs rule law  indiablooms  first portal digital news management      jimmy lai                                                  \n",
       "2137        hong kong police definitely rubbish totally control hold weapon hong kong longer safe city hong kong country seeking freedom                                                                                   \n",
       "12062    hk gov shows china style rule law is law weapon suppress prodemocracy camp law  protect citizens equality law joke no justice hong kong anymore                                                                   \n",
       "21203    it end it obviously political prosecution ccp adopting strong strategies silence opposition voices undermine hong kongs democracy amp rule law  tool ccp arrest prodemocracy people please                        \n",
       "25833    _hk ccp uses  suppress press freedom hong kong hk police puppet political tool ccp only dictatorial regime would afraid press freedom it shows clearly ccp regime   _is_terrorist                                 \n",
       "25910    it ccps show order put white terror hongkongers hk police puppet political tool ccp only dictatorial regime would afraid press freedom it shows clearly ccp regime  _is_terrorist                                 \n",
       "26419    prodemocrats hong kong deeply concerned press freedom afte jimmy lai arrested monday colluding foreign powers offense new controversial chinese security law via                                                  \n",
       "26508    the enactment  tool ccp supress freedom press hong kong it shows ccp afraid power press put white terror hk hk police puppet ccp _is_terrorist                                                                    \n",
       "27574    after effective unlawful evil national security law hong kong freedom press freedom speech freedom election terminated hong kong longer suitable place  live world please                                         \n",
       "27597    after effective unlawful evil national security law hong kong freedom press freedom speech freedom election terminated hong kong longer suitable place  live world please                                         \n",
       "27601    after effective unlawful evil national security law hong kong freedom press freedom speech freedom election terminated hong kong longer suitable place  live world please                                         \n",
       "27604    after effective unlawful evil national security law hong kong freedom press freedom speech freedom election terminated hong kong longer suitable place  live world please                                         \n",
       "27610    after effective unlawful evil national security law hong kong freedom press freedom speech freedom election terminated hong kong longer suitable place  live world please                                         \n",
       "27611    _us after effective unlawful evil national security law hong kong freedom press freedom speech freedom election terminated hong kong longer suitable place  live world please                                     \n",
       "27613    after effective unlawful evil national security law hong kong freedom press freedom speech freedom election terminated hong kong longer suitable place  live world please                                         \n",
       "27614    _hk after effective unlawful evil national security law hong kong freedom press freedom speech freedom election terminated hong kong longer suitable place  live world please                                     \n",
       "27618    after effective unlawful evil national security law hong kong freedom press freedom speech freedom election terminated hong kong longer suitable place  live world please                                         \n",
       "27623    after effective unlawful evil national security law hong kong freedom press freedom speech freedom election terminated hong kong longer suitable place  live world please                                         \n",
       "27624    after effective unlawful evil national security law hong kong freedom press freedom speech freedom election terminated hong kong longer suitable place  live world please                                         \n",
       "27628    after effective unlawful evil national security law hong kong freedom press freedom speech freedom election terminated hong kong longer suitable place  live world please                                         \n",
       "27632    after effective unlawful evil national security law hong kong freedom press freedom speech freedom election terminated hong kong longer suitable place  live world please                                         \n",
       "27635    after effective unlawful evil national security law hong kong freedom press freedom speech freedom election terminated hong kong longer suitable place  live world please                                         \n",
       "27638    _hk after effective unlawful evil national security law hong kong freedom press freedom speech freedom election terminated hong kong longer suitable place  live world please                                     \n",
       "27639    after effective unlawful evil national security law hong kong freedom press freedom speech freedom election terminated hong kong longer suitable place  live world please                                         \n",
       "27642    _enews after effective unlawful evil national security law hong kong freedom press freedom speech freedom election terminated hong kong longer suitable place  live world please                                  \n",
       "27710    after effective unlawful evil national security law hong kong freedom press freedom speech freedom election terminated hong kong longer suitable place  live world please                                         \n",
       "27712    after effective unlawful evil national security law hong kong freedom press freedom speech freedom election terminated hong kong longer suitable place  live world please                                         \n",
       "27718    after effective unlawful evil national security law hong kong freedom press freedom speech freedom election terminated hong kong longer suitable place  live world please                                         \n",
       "27720    after effective unlawful evil national security law hong kong freedom press freedom speech freedom election terminated hong kong longer suitable place  live world please                                         \n",
       "27726    _hk after effective unlawful evil national security law hong kong freedom press freedom speech freedom election terminated hong kong longer suitable place  live please                                           \n",
       "27746    _hk after effective unlawful evil national security law hong kong freedom press freedom speech freedom election terminated hong kong longer suitable place  live please                                           \n",
       "29611    how police broke media office morning they destroying reputation freedom speech makes public lives white terror more people deserve sanctioned                                                                    \n",
       "35711    hong kongs rule law nonexistent the city totally seized authoritarian rule  now govt everything silence  democracy activists hk always asset globe  us                                                            \n",
       "41785    from arrest student activists yesterday dq prodemocracy candidates today hong kong suffering fullon political suppression prosecution  china hong kong govt the world must implement sanctions authoritarians now \n",
       "42632    from arrest student activists yesterday dq prodemocracy candidates today hong kong suffering fullon political suppression prosecution  china hong kong govt the world must implement sanctions authoritarians now \n",
       "42638    from arrest student activists yesterday dq prodemocracy candidates today hong kong suffering fullon political suppression prosecution  china hong kong govt the world must implement sanctions authoritarians now \n",
       "42819    china care rule law autonomy hk they shows us clearly accept dissent so china turned hong kong dictatorship pls continue  we urge world   hold ccp accountable                                                    \n",
       "44095    from arrest student activists yesterday dq prodemocracy candidates today hong kong suffering fullon political suppression prosecution  china hong kong govt the world must implement sanctions authoritarians now \n",
       "44099    from arrest student activists yesterday dq prodemocracy candidates today hong kong suffering fullon political suppression prosecution  china hong kong govt the world must implement sanctions authoritarians now \n",
       "44221    from arrest student activists yesterday dq prodemocracy candidates today hong kong suffering fullon political suppression prosecution  china hong kong govt the world must implement sanctions authoritarians now \n",
       "44637    the national security law totally brings threats freedom speech hong kong hong kong longer hong kong anymore she like province china                                                                              \n",
       "45288    i believe law regulation revised clearly like people violated chinas national security law extradited as long everyone understand ns law means china deprive others freedom                                       \n",
       "63186    the free world recognize ambition  this authoritarian regime respect international order amp honor commitment ccp incapable become democratic regime what happens hong kong waken world                           \n",
       "63188    the free world recognize ambition  this authoritarian regime respect international order amp honor commitment ccp incapable become democratic regime what happens hong kong waken world                           \n",
       "64677    the situation hk worrying sweeping powers granted citys police threatening personal safety local residents there hope us would continue  enforce sanctioning regime china                                         \n",
       "78669    china accept hong kong hong kong want us china city lack open mind narrow ego this act codvirus make everyone world hate china                                                                                    \n",
       "81269    china passes controversial hong kong national security law a national security law imposed hong kong process nobody hong kong control over                                                                        \n",
       "81961    today pass law without affected knowing even contents inside article next day pass decision void international agreements treaties they simply treat lives matter but                                             \n",
       "83887    ccp compelling national security law forcefully  turns international business centre ant random china city unwise uniqueness hk gone democracy                                                                    \n",
       "84403    the new laws take direct aim political dissident rather national security threats restricting freedom speech political expression hong kong                                                                       \n",
       "Name: Tweets, dtype: object"
      ]
     },
     "execution_count": 332,
     "metadata": {},
     "output_type": "execute_result"
    }
   ],
   "source": [
    "c_topic_rbl_three_top['Tweets'].head(50)"
   ]
  },
  {
   "cell_type": "markdown",
   "metadata": {},
   "source": [
    "**Bottom side** check."
   ]
  },
  {
   "cell_type": "code",
   "execution_count": 333,
   "metadata": {},
   "outputs": [
    {
     "data": {
      "text/plain": [
       "42075     negative gt  horse rode on the chinese people deserve government good great   thugs zhongnanhai to   stand freedom  wherever rules                                                        \n",
       "42971     insufferable                                                                                                                                                                              \n",
       "45467     i cant help look contrasts  brave young  arrested their crime demonstrating democracy freedom while americans burn freedom ground                                                         \n",
       "50795     _eeas thank   friends europe                                                                                                                                                              \n",
       "50819     hahaha thank giving us answer united states well done                                                                                                                                     \n",
       "58117     negative so prefer china keeps telling do someone speak eventually senator good job going                                                                                                 \n",
       "59831     doomsday   we becoming                                                                                                                                                                    \n",
       "69189     literary inquisition                                                                                                                                                                      \n",
       "71110     this cute hongkongers grateful everything done help us                                                                                                                                    \n",
       "72734     every person truly concerned justice listen carefully elmer yuan ccp politics ccp focused world domination _is_terrorist                                                                  \n",
       "89339     we saving power planning fight ccpchina ccphk better way we cannot lose buddies like past heartbroken see go jail suicided                                                                \n",
       "92563     i spotted van parked outside chinese embassy portland place london afternoon communist china cruel humans tibetans uighurs hongkongers dog cruelty china matters too                      \n",
       "103299     one year later salary raise increased funding violent ever while world mourn  situation  equality important if stand  please  well                                                       \n",
       "107384    _hk  still tyranny  from  we ought see  eviler thoughts we ought united  end                                                                                                              \n",
       "111181    _bandow  totally off                                                                                                                                                                      \n",
       "124186    so stand national anthem freest country earth but bow racist brutal ccp regime negative labor screaming oppression amp making millions backs china thats diversity thats hypocrisy        \n",
       "128685    _ent still chicken negative support                                                                                                                                                       \n",
       "130296    real friends dont support genocide uyghurs                                                                                                                                                \n",
       "136062    realize following amp nba money trail china objected people criticizing china hong kong just tried get message  shirt nba online store amp got message allowed try another hk lives matter\n",
       "154611    hk police think its funny huh shame                                                                                                                                                       \n",
       "159407    you finally know sold souls                                                                                                                                                               \n",
       "Name: Tweets, dtype: object"
      ]
     },
     "execution_count": 333,
     "metadata": {},
     "output_type": "execute_result"
    }
   ],
   "source": [
    "c_topic_rbl_three_low['Tweets'].head(22)"
   ]
  },
  {
   "cell_type": "markdown",
   "metadata": {},
   "source": [
    "**RBL Topic 3 : Summary** | Reading between the lines we see:\n",
    "   * Tweeters vocalize their negative opinion towards what they believe China's goal is; notably:\n",
    "     * Treat HK the way the believe China treats Tibet & the Uighurs\n",
    "     * Limitations towards freedom & Press Freedom\n",
    "     * The suppression of democracy\n",
    "     * Political suppression via arresting protestors\n",
    "     * Authoritarian rule & tyranny\n",
    "   * Belief that the HK police are puppets"
   ]
  },
  {
   "cell_type": "code",
   "execution_count": null,
   "metadata": {},
   "outputs": [],
   "source": []
  },
  {
   "cell_type": "markdown",
   "metadata": {},
   "source": [
    "<a id='eda_rdl_4'></a>**RBL Topic 4** | Reading between the lines."
   ]
  },
  {
   "cell_type": "code",
   "execution_count": 334,
   "metadata": {},
   "outputs": [
    {
     "data": {
      "text/html": [
       "<div>\n",
       "<style scoped>\n",
       "    .dataframe tbody tr th:only-of-type {\n",
       "        vertical-align: middle;\n",
       "    }\n",
       "\n",
       "    .dataframe tbody tr th {\n",
       "        vertical-align: top;\n",
       "    }\n",
       "\n",
       "    .dataframe thead th {\n",
       "        text-align: right;\n",
       "    }\n",
       "</style>\n",
       "<table border=\"1\" class=\"dataframe\">\n",
       "  <thead>\n",
       "    <tr style=\"text-align: right;\">\n",
       "      <th></th>\n",
       "      <th>Dominant Topic</th>\n",
       "      <th>Contribution %</th>\n",
       "      <th>Topic Desc</th>\n",
       "      <th>Tweets</th>\n",
       "    </tr>\n",
       "  </thead>\n",
       "  <tbody>\n",
       "    <tr>\n",
       "      <th>3</th>\n",
       "      <td>4</td>\n",
       "      <td>73.17</td>\n",
       "      <td>police, arst, year, hk, people, chinese, truth, attack, is_terrorist, time, think, terrorist, protest, stop, vernment, so, ccp, charge, peaceful, victim</td>\n",
       "      <td>war communism</td>\n",
       "    </tr>\n",
       "    <tr>\n",
       "      <th>7</th>\n",
       "      <td>4</td>\n",
       "      <td>37.29</td>\n",
       "      <td>police, arst, year, hk, people, chinese, truth, attack, is_terrorist, time, think, terrorist, protest, stop, vernment, so, ccp, charge, peaceful, victim</td>\n",
       "      <td>china want dominate world get report here</td>\n",
       "    </tr>\n",
       "    <tr>\n",
       "      <th>10</th>\n",
       "      <td>4</td>\n",
       "      <td>61.91</td>\n",
       "      <td>police, arst, year, hk, people, chinese, truth, attack, is_terrorist, time, think, terrorist, protest, stop, vernment, so, ccp, charge, peaceful, victim</td>\n",
       "      <td>no chinese</td>\n",
       "    </tr>\n",
       "  </tbody>\n",
       "</table>\n",
       "</div>"
      ],
      "text/plain": [
       "    Dominant Topic  Contribution %  \\\n",
       "3   4               73.17            \n",
       "7   4               37.29            \n",
       "10  4               61.91            \n",
       "\n",
       "                                                                                                                                                  Topic Desc  \\\n",
       "3   police, arst, year, hk, people, chinese, truth, attack, is_terrorist, time, think, terrorist, protest, stop, vernment, so, ccp, charge, peaceful, victim   \n",
       "7   police, arst, year, hk, people, chinese, truth, attack, is_terrorist, time, think, terrorist, protest, stop, vernment, so, ccp, charge, peaceful, victim   \n",
       "10  police, arst, year, hk, people, chinese, truth, attack, is_terrorist, time, think, terrorist, protest, stop, vernment, so, ccp, charge, peaceful, victim   \n",
       "\n",
       "                                                  Tweets  \n",
       "3   war communism                                         \n",
       "7   china want dominate world get report here             \n",
       "10  no chinese                                            "
      ]
     },
     "execution_count": 334,
     "metadata": {},
     "output_type": "execute_result"
    }
   ],
   "source": [
    "c_topic_rbl_four.head(3)"
   ]
  },
  {
   "cell_type": "code",
   "execution_count": 335,
   "metadata": {},
   "outputs": [
    {
     "data": {
      "text/plain": [
       "Text(0, 0.5, 'Count')"
      ]
     },
     "execution_count": 335,
     "metadata": {},
     "output_type": "execute_result"
    },
    {
     "data": {
      "image/png": "[encoded data removed]",
      "text/plain": [
       "<Figure size 720x720 with 1 Axes>"
      ]
     },
     "metadata": {},
     "output_type": "display_data"
    }
   ],
   "source": [
    "plt.figure(figsize=(10, 10))\n",
    "plt.hist(c_topic_rbl_four['Contribution %'], bins=120)\n",
    "plt.xlabel('Contribution %')\n",
    "plt.ylabel('Count')\n",
    "# plt.axvline(x=one_mean,linewidth=4, color='r')"
   ]
  },
  {
   "cell_type": "code",
   "execution_count": 336,
   "metadata": {},
   "outputs": [
    {
     "data": {
      "text/html": [
       "<div>\n",
       "<style scoped>\n",
       "    .dataframe tbody tr th:only-of-type {\n",
       "        vertical-align: middle;\n",
       "    }\n",
       "\n",
       "    .dataframe tbody tr th {\n",
       "        vertical-align: top;\n",
       "    }\n",
       "\n",
       "    .dataframe thead th {\n",
       "        text-align: right;\n",
       "    }\n",
       "</style>\n",
       "<table border=\"1\" class=\"dataframe\">\n",
       "  <thead>\n",
       "    <tr style=\"text-align: right;\">\n",
       "      <th></th>\n",
       "      <th>Dominant Topic</th>\n",
       "      <th>Contribution %</th>\n",
       "    </tr>\n",
       "  </thead>\n",
       "  <tbody>\n",
       "    <tr>\n",
       "      <th>count</th>\n",
       "      <td>40388.0</td>\n",
       "      <td>40388.000000</td>\n",
       "    </tr>\n",
       "    <tr>\n",
       "      <th>mean</th>\n",
       "      <td>4.0</td>\n",
       "      <td>57.960684</td>\n",
       "    </tr>\n",
       "    <tr>\n",
       "      <th>std</th>\n",
       "      <td>0.0</td>\n",
       "      <td>14.365390</td>\n",
       "    </tr>\n",
       "    <tr>\n",
       "      <th>min</th>\n",
       "      <td>4.0</td>\n",
       "      <td>25.220000</td>\n",
       "    </tr>\n",
       "    <tr>\n",
       "      <th>25%</th>\n",
       "      <td>4.0</td>\n",
       "      <td>46.670000</td>\n",
       "    </tr>\n",
       "    <tr>\n",
       "      <th>50%</th>\n",
       "      <td>4.0</td>\n",
       "      <td>56.340000</td>\n",
       "    </tr>\n",
       "    <tr>\n",
       "      <th>75%</th>\n",
       "      <td>4.0</td>\n",
       "      <td>67.510000</td>\n",
       "    </tr>\n",
       "    <tr>\n",
       "      <th>max</th>\n",
       "      <td>4.0</td>\n",
       "      <td>96.950000</td>\n",
       "    </tr>\n",
       "  </tbody>\n",
       "</table>\n",
       "</div>"
      ],
      "text/plain": [
       "       Dominant Topic  Contribution %\n",
       "count  40388.0         40388.000000  \n",
       "mean   4.0             57.960684     \n",
       "std    0.0             14.365390     \n",
       "min    4.0             25.220000     \n",
       "25%    4.0             46.670000     \n",
       "50%    4.0             56.340000     \n",
       "75%    4.0             67.510000     \n",
       "max    4.0             96.950000     "
      ]
     },
     "execution_count": 336,
     "metadata": {},
     "output_type": "execute_result"
    }
   ],
   "source": [
    "c_topic_rbl_four.describe()"
   ]
  },
  {
   "cell_type": "markdown",
   "metadata": {},
   "source": [
    "**There's a lot to manually digest even though that also looks normally distributed**; even if we looked at those above the 75% mark & below the 25% mark. **Let's manually knock it down to a digestable amount**."
   ]
  },
  {
   "cell_type": "code",
   "execution_count": 345,
   "metadata": {},
   "outputs": [],
   "source": [
    "# creating empty dataframes\n",
    "c_topic_rbl_four_top = pd.DataFrame([])\n",
    "c_topic_rbl_four_low = pd.DataFrame([])\n",
    "\n",
    "# adjusting to a managable amount on the top & low side\n",
    "c_topic_rbl_four_top = c_topic_rbl_four[(c_topic_rbl_four['Contribution %'] >= 93.5)]\n",
    "c_topic_rbl_four_low = c_topic_rbl_four[(c_topic_rbl_four['Contribution %'] <= 28)]"
   ]
  },
  {
   "cell_type": "code",
   "execution_count": 346,
   "metadata": {},
   "outputs": [
    {
     "name": "stdout",
     "output_type": "stream",
     "text": [
      "We knocked it down to \n",
      " 75 | on the top side \n",
      " 28 | on the low side\n"
     ]
    }
   ],
   "source": [
    "print('We knocked it down to','\\n',\n",
    "      len(c_topic_rbl_four_top),'| on the top side','\\n',\n",
    "     len(c_topic_rbl_four_low), '| on the low side' )"
   ]
  },
  {
   "cell_type": "markdown",
   "metadata": {},
   "source": [
    "**Top side** check."
   ]
  },
  {
   "cell_type": "code",
   "execution_count": 347,
   "metadata": {},
   "outputs": [
    {
     "data": {
      "text/plain": [
       "180       victim criminal on  august   arrested related  yuen long attack protest tuen mun july  including  prodemocracy legistlators journalist                                                                                                \n",
       "566       roger fisher wrote getting yes amp said separate people problem focus interests positions cant build online forums that we start brainstorming likely shared opposing interest conflict                                               \n",
       "567       _thaler roger fisher wrote getting yes amp said separate people problem focus interests positions cant build online forums that we start brainstorming likely shared opposing interest conflict                                       \n",
       "591       trying hard avoid officially locking city the idea carrie lam refuses give style twisted ideas words just like responded antielab                                                                                                     \n",
       "822        protester burned flag  regime prodemocracy protests becomes second person see sentence upped jail time                                                                                                                               \n",
       "862       a lady sentenced jail  months assault police laser pen no laser pen found arrested popo submit another laser pen exhibit pro ccp negative judge still accept evidence  _is_terrorist                                                  \n",
       "1870       yrsold pakistani plead guilty assault occasioning actual bodily harm assaulting probeijing man dec   mong kok he detained  days sentenced  months probation order conditions                                                         \n",
       "2444      great news stop chinese propaganda and im coming see top fans emotionally vulnerable spamming nmsl comment below lol                                                                                                                  \n",
       "4296      i sure probeijing  sent  create facts calvin in worst case  may create evidence riot him this   familiar with                                                                                                                         \n",
       "6945      similar ccp lies  tiananmen massacre hongkong government try fraudulent history  incident police disappeared hours let gangsters attack protesters                                                                                    \n",
       "7539      they lie us know theyre lying know know theyre lying keep lying us keep pretending believe them  elena gorokhova a mountain crumbs                                                                                                    \n",
       "9612      when think  worst thing ever happen  beginning as matter fact  plan hk since  _is_terrorist   sources                                                                                                                                 \n",
       "17903     when cant get real record make up like case woman convicted hurting police w laser pointer laser pointer ever found police showed court similar laser pointer he brought                                                              \n",
       "25232     _hk media first target activists second one ongoing now  used working  also arrested  w whatever made reason                                                                                                                          \n",
       "31979      aged passing crossroad charged excise wearing mask wht obviously aged mask why charged even insulted street sanction hkpolice                                                                                                        \n",
       "39167     index_pointing_up  index_pointing_up  index_pointing_up she children too when asked family r uk passport holders lam refused answer to protect family will uk protect dictators family will uk allow mugabes family hold uk passports \n",
       "42111      months ago riot police beaten passengers prince edward station arbitrarily it suspected passengers beaten death related cctv disclosed till now                                                                                      \n",
       "44860     the chinese secret police arrest everyone want our safety threatened we need care worse situation   _is_terrorist                                                                                                                     \n",
       "45534      illegal thing say  also group students arrested charge attempting split yhe nation posting facebook post                                                                                                                             \n",
       "53562     time refresh memory we still remember  collude triad  clearlythey totally sided tyranny  suppress  thusthey innocent thoughts                                                                                                         \n",
       "58536     many government secretaries families living uk aus magnisky act must need put sanction let families enjoy live ccp governance                                                                                                         \n",
       "61089     thats keep recording important proccp thugs pretend anything blame  they familiarity abuse trust kind people                                                                                                                          \n",
       "63390      a yrsold clerk plead guilty assaulting police officer for kicking officer back nov   causeway bay sentenced  hrs community service source media hk                                                                                   \n",
       "64009     the first time ever primary election  held weekend  amp  have banned kinds protest  amp  voting protest were left now please view hk                                                                                                  \n",
       "66150      dead  no evidence witness judge said community service orders may applicable here still judge chose imprisonment no guilty proven                                                                                                    \n",
       "67288     the difference media hk west hk call peaceful protestors rioters west call rioters peaceful protestors                                                                                                                                \n",
       "67433     this lady carried us flag shopping mall n dragged n arrested by many riot po_ice here obviously nation flags r                                                                                                                        \n",
       "69397     the party people one sounds like religious testimony ccp tries replace religion itself a concept always failed babylon moscow                                                                                                         \n",
       "69576     on contrary hkgov made books famous now more people going find ways read them like mainlnders used come hk read banned books                                                                                                          \n",
       "69829     vetting necessary kick ccp supporters hk gov officials hk police away british they deserve live british                                                                                                                               \n",
       "71786      an yrsold plead guilty possession offensive weapon a flick knife nov   chai wan sentenced  months probation order source youarenotalonehk_live                                                                                       \n",
       "72368     oh liberate hk revolution time liberate hk revolution time liberate hk revolution time liberate hk revolution time liberate hk revolution time liberate hk revolution time                                                            \n",
       "77551     a man arrested becoz hv  flags bag insane next time foreigner walk street police may arrest himher foreigner hv different nationality hidden head                                                                                     \n",
       "85428     a uni student possession pipe month sentence a girl related  possession kg ketamine walk away with absolutely nothing                                                                                                                 \n",
       "86700      a yrsold gaffer plead guilty possession offensive weapon public places intent commit arson oct   tseung kwan o sentenced  yrs imprisonment                                                                                           \n",
       "86767      an yrsold plead guilty assaulting police officer nov   tseung kwan o sentenced  months probation order probation officers guidance source youarenotalonehk_live                                                                      \n",
       "90270      arrested youth lynched police car charged assaulting police not guilty magistrate said polices unreliable witness                                                                                                                    \n",
       "92830     we also claim say   along ladakh we    needs understand publishing providing fake news info media create confusion succeed                                                                                                            \n",
       "99033     have seen police could rush station indiscriminately attack people  shown difference terrorist attack what ridiculous  faced consequences                                                                                             \n",
       "99376     the people not asking violence asking justice these protests one ways use voices make change made difference before everything power make sure happens again                                                                          \n",
       "99710     when  dare mention  they know  could likely cause death have stopped yet no have faced consequences that no thats todays                                                                                                              \n",
       "100588    judge i would like ask u seriously injured n medical report prove popo get hurt u treat turth   _is_terrorists                                                                                                                        \n",
       "102137     judge said cause testimonies  polices found reliable inconsistent the judge sentenced yearold teacher assaulting police                                                                                                              \n",
       "109947    power power thing  ever ever care they decades ago hold onto thrones theyll sure again on second thought already did                                                                                                                  \n",
       "112495    this year different the first year hk goverbmenr ban protests hk ppl still coming city the slogans   perfectly match first time                                                                                                       \n",
       "115123     banned gathering first time  years ironic enough hongkong brink fall similar tragedy tiananmen square massacre                                                                                                                       \n",
       "118432    teachers already victims tyranny many teachers fired stopped duty political position thats  silence  speaking truth suppress                                                                                                          \n",
       "118846    they lie us know theyre lying know know theyre lying keep lying us keep pretending believe them  elena gorokhova a mountain crumbs                                                                                                    \n",
       "122802    chan yinlams mom today surrounded large number people coroners court started investigate chan yinlams death                                                                                                                           \n",
       "122803    chan yinlams mom today surrounded large number people coroners court started investigate chan yinlams death                                                                                                                           \n",
       "Name: Tweets, dtype: object"
      ]
     },
     "execution_count": 347,
     "metadata": {},
     "output_type": "execute_result"
    }
   ],
   "source": [
    "c_topic_rbl_four_top['Tweets'].head(50)"
   ]
  },
  {
   "cell_type": "markdown",
   "metadata": {},
   "source": [
    "**Bottom side** check."
   ]
  },
  {
   "cell_type": "code",
   "execution_count": 348,
   "metadata": {},
   "outputs": [
    {
     "data": {
      "text/plain": [
       "5193      thank you friends tokyo boycott chinese products really useful cut source income china because continuous support antichina alliance stronger ever                       \n",
       "26326     nice how british nationals torturing  protesters face punishment home thats right role model children rupert dover david jordan trial first they shame british           \n",
       "34240     this great news   we wont forget thank much act in addition i would like credit frontline protesters                                                                     \n",
       "46662     some things simply remind goddesses therefighting good fight amp every day                                                                                               \n",
       "55129      cannot negative us all idea bullet proof                                                                                                                                \n",
       "61978     exercise possibly right last vote                                                                                                                                        \n",
       "63465     thank writing pertinent essay it helps learn  campaign background finally thanks supporting  option hope people read article                                             \n",
       "67789     guess hker feeling right now                                                                                                                                             \n",
       "68149     _adonis  still using acient ruling method suppress people modern world which really nonsense unacceptable civilized world the world must  sanction                       \n",
       "78520      turning   hong kongers slaughtered  like jews world war ii                                                                                                              \n",
       "85879     that would highly advertised negative blue camp though they common sense constantly looking facts reinforce biase anyway let rot they beyond salvation                   \n",
       "88937     please stand martin lee he go prison also wife raised_hand_with_fingers_splayed mediumlight_skin_tone                                                                    \n",
       "96883     _ hong kong telling world  last year however hk govt ignored  happened till now hkers still fighting freedom evil                                                        \n",
       "98208      knows suppression voice dissidents only never reflect whether anything wrong never mind   would think truth public opinion meaningless                                  \n",
       "121970    thats true they walkout china murdered took human rights people china all signs behind jerseys one person allowed put  there the  prohibited theyre chinas payroll       \n",
       "124712    most ppl china outside china good humans except follow negative                                                                                                          \n",
       "127404     watch thread face_with_tears_of_joy face_with_tears_of_joy face_with_tears_of_joy face_with_tears_of_joy face_with_tears_of_joy just negative wow                       \n",
       "128375    get angry stay motivated rage dying light                                                                                                                                \n",
       "129860    just friendly reminder negative nba                                                                                                                                      \n",
       "130902    communist china helped accelerate destruction world spreading chinese virus if americans smart enough elect president trump we say goodbye world know _get_out_of_iran   \n",
       "130927    communist china helped accelerate destruction world spreading chinese virus if americans smart enough elect president trump we say goodbye world know _get_out_of_iran   \n",
       "134087    we need talk chinese government placing muslims onto trains shipping knows where ive seen video it literally looks like negative germany again this must stopped         \n",
       "135169    can get  trending                                                                                                                                                        \n",
       "146067    patriotism need moral values ethics   nothing  shame coward                                                                                                              \n",
       "151944    _mp wise decision  longer safe free zone guided uk ccp evil regime extended strong control help   world must stop uphold general human right                             \n",
       "153359    _forum    everywhere   _watch                                                                                                                                            \n",
       "155120    not all i dont want talk much politics account though if interested search tag                                                                                           \n",
       "160006    of course ads removed the world looking   citizens they modern gestapos accomplices  tyranny                                                                             \n",
       "Name: Tweets, dtype: object"
      ]
     },
     "execution_count": 348,
     "metadata": {},
     "output_type": "execute_result"
    }
   ],
   "source": [
    "c_topic_rbl_four_low['Tweets'].head(30)"
   ]
  },
  {
   "cell_type": "markdown",
   "metadata": {},
   "source": [
    "**RBL Topic 4 : Summary** | Reading between the lines we see:\n",
    "   * Confrontations with the police with notable mentions of:\n",
    "     * People being arrested & sentenced\n",
    "     * Hurting police with a laser pointer\n",
    "     * Beatings at \n",
    "       * Prince Edward Station\n",
    "       * Mong Kok\n",
    "       * Causeway Bay\n",
    "       * Tseung Kwan\n",
    "     * Assaulting a police officer by kicking their back\n",
    "     * A lady carring a US flag in a shopping mall\n",
    "     * Possession of kg ketamine\n",
    "   * Confrontations with legal authorities with charges of:\n",
    "     * Attempting to split the nation with posts on Facebook\n",
    "     * Banning of books\n",
    "     * Possession of a flick knife deemed to be an offensive weapon\n",
    "     * Gatherings banned\n",
    "       * Mentions of the Tiananmen Massacre \n",
    "     * A judge sentenced an old teacher for assaulting police\n",
    "   * Belief that China is working with the Triads to form a \"Chinese secret police\"\n",
    "   * The protestors belief that the media confuses their intentions\n",
    "     * they believe they aren't asking for violence; they are asking for justice & the protests are one way to vocalize this intent for making a change\n"
   ]
  },
  {
   "cell_type": "code",
   "execution_count": null,
   "metadata": {},
   "outputs": [],
   "source": []
  },
  {
   "cell_type": "markdown",
   "metadata": {},
   "source": [
    "**RBL All Topics : Initial Summary** | To reiterate & place them in one place side by side, the reading between the lines on all are as below:\n",
    "   * **Topic 1**\n",
    "     * A notable amount of appreciation for support from the world for helping fight for freedom, democracy & human rights\n",
    "     * Mentions of the free world which may be classified as the UK, Australia, Taiwan & the USA with personal mentions towards:\n",
    "       * rep riggleman\n",
    "       * sec pompeo\n",
    "       * aderholt\n",
    "       * rep gooden\n",
    "       * sen haley\n",
    "   * **Topic 2**\n",
    "     * A sense of comradery towards their fight \n",
    "     * Conveying a urge to not give up on their fight\n",
    "     * The usage of positivity to achieve the aforementioned goals:\n",
    "       * candle\n",
    "       * musical_notes / sing hallelujah\n",
    "       * folded_hands\n",
    "       * Different configurations of people holding hands\n",
    "   * **Topic 3**\n",
    "     * Tweeters vocalize their negative opinion towards what they believe China's goal is; notably:\n",
    "       * Treat HK the way the believe China treats Tibet & the Uighurs\n",
    "       * Limitations towards freedom & Press Freedom\n",
    "       * The suppression of democracy\n",
    "       * Political suppression via arresting protestors\n",
    "       * Authoritarian rule & tyranny\n",
    "     * Belief that the HK police are puppets\n",
    "   * **Topic 4**\n",
    "     * Confrontations with the police with notable mentions of:\n",
    "       * People being arrested & sentenced\n",
    "       * Hurting police with a laser pointer\n",
    "       * Beatings at \n",
    "         * Prince Edward Station\n",
    "         * Mong Kok\n",
    "         * Causeway Bay\n",
    "         * Tseung Kwan\n",
    "       * Assaulting a police officer by kicking their back\n",
    "       * A lady carring a US flag in a shopping mall\n",
    "       * Possession of kg ketamine\n",
    "     * Confrontations with legal authorities with charges of:\n",
    "       * Attempting to split the nation with posts on Facebook\n",
    "       * Banning of books\n",
    "       * Possession of a flick knife deemed to be an offensive weapon\n",
    "       * Gatherings banned\n",
    "         * Mentions of the Tiananmen Massacre \n",
    "       * A judge sentenced an old teacher for assaulting police\n",
    "     * Belief that China is working with the Triads to form a \"Chinese secret police\"\n",
    "     * The protestors belief that the media confuses their intentions\n",
    "       * they believe they aren't asking for violence; they are asking for justice & the protests are one way to vocalize this intent for making a change\n"
   ]
  },
  {
   "cell_type": "markdown",
   "metadata": {},
   "source": [
    "You may slowly read both the Tweets in their respective sections & the above. I hope that you believe I am using my objective judgement when I rename the columns to new Column names but before I do so I will explain them each:\n",
    "   * **Topic 1** | A notable amount of appreciation for support from the free world for helping fight for freedom, democracy & human rights\n",
    "   * **Topic 2** | A sense of comradery towards their fight & urges to not give up\n",
    "   * **Topic 3** | Tweeters vocalize their negative opinion towards what they believe China's goal is\n",
    "   * **Topic 4** | Confrontations with the police & HK legal authorities\n",
    "\n",
    "I will now change the names of the columns to the below:\n",
    "   * **Topic 1** --> support\n",
    "   * **Topic 2** --> comradery\n",
    "   * **Topic 3** --> china_opinion\n",
    "   * **Topic 4** --> hk_govt\n",
    "\n",
    "Let's rename."
   ]
  },
  {
   "cell_type": "code",
   "execution_count": 353,
   "metadata": {},
   "outputs": [
    {
     "data": {
      "text/html": [
       "<div>\n",
       "<style scoped>\n",
       "    .dataframe tbody tr th:only-of-type {\n",
       "        vertical-align: middle;\n",
       "    }\n",
       "\n",
       "    .dataframe tbody tr th {\n",
       "        vertical-align: top;\n",
       "    }\n",
       "\n",
       "    .dataframe thead th {\n",
       "        text-align: right;\n",
       "    }\n",
       "</style>\n",
       "<table border=\"1\" class=\"dataframe\">\n",
       "  <thead>\n",
       "    <tr style=\"text-align: right;\">\n",
       "      <th></th>\n",
       "      <th>support</th>\n",
       "      <th>comradery</th>\n",
       "      <th>china_opinion</th>\n",
       "      <th>hk_govt</th>\n",
       "    </tr>\n",
       "  </thead>\n",
       "  <tbody>\n",
       "    <tr>\n",
       "      <th>Term1</th>\n",
       "      <td>support</td>\n",
       "      <td>negative</td>\n",
       "      <td>hong</td>\n",
       "      <td>police</td>\n",
       "    </tr>\n",
       "    <tr>\n",
       "      <th>Term2</th>\n",
       "      <td>thank</td>\n",
       "      <td>never</td>\n",
       "      <td>kong</td>\n",
       "      <td>arst</td>\n",
       "    </tr>\n",
       "    <tr>\n",
       "      <th>Term3</th>\n",
       "      <td>stand</td>\n",
       "      <td>for</td>\n",
       "      <td>china</td>\n",
       "      <td>year</td>\n",
       "    </tr>\n",
       "    <tr>\n",
       "      <th>Term4</th>\n",
       "      <td>right</td>\n",
       "      <td>help</td>\n",
       "      <td>police</td>\n",
       "      <td>hk</td>\n",
       "    </tr>\n",
       "    <tr>\n",
       "      <th>Term5</th>\n",
       "      <td>fem</td>\n",
       "      <td>hker</td>\n",
       "      <td>law</td>\n",
       "      <td>people</td>\n",
       "    </tr>\n",
       "    <tr>\n",
       "      <th>Term6</th>\n",
       "      <td>hu</td>\n",
       "      <td>evil</td>\n",
       "      <td>people</td>\n",
       "      <td>chinese</td>\n",
       "    </tr>\n",
       "    <tr>\n",
       "      <th>Term7</th>\n",
       "      <td>world</td>\n",
       "      <td>world</td>\n",
       "      <td>fem</td>\n",
       "      <td>truth</td>\n",
       "    </tr>\n",
       "    <tr>\n",
       "      <th>Term8</th>\n",
       "      <td>fight</td>\n",
       "      <td>india</td>\n",
       "      <td>citizen</td>\n",
       "      <td>attack</td>\n",
       "    </tr>\n",
       "    <tr>\n",
       "      <th>Term9</th>\n",
       "      <td>hong</td>\n",
       "      <td>od</td>\n",
       "      <td>country</td>\n",
       "      <td>is_terrorist</td>\n",
       "    </tr>\n",
       "    <tr>\n",
       "      <th>Term10</th>\n",
       "      <td>watch</td>\n",
       "      <td>well</td>\n",
       "      <td>ccp</td>\n",
       "      <td>time</td>\n",
       "    </tr>\n",
       "    <tr>\n",
       "      <th>Term11</th>\n",
       "      <td>kong</td>\n",
       "      <td>is_terrorist</td>\n",
       "      <td>hk</td>\n",
       "      <td>think</td>\n",
       "    </tr>\n",
       "    <tr>\n",
       "      <th>Term12</th>\n",
       "      <td>democracy</td>\n",
       "      <td>sanction</td>\n",
       "      <td>arst</td>\n",
       "      <td>terrorist</td>\n",
       "    </tr>\n",
       "    <tr>\n",
       "      <th>Term13</th>\n",
       "      <td>fe</td>\n",
       "      <td>save</td>\n",
       "      <td>world</td>\n",
       "      <td>protest</td>\n",
       "    </tr>\n",
       "    <tr>\n",
       "      <th>Term14</th>\n",
       "      <td>shame</td>\n",
       "      <td>need</td>\n",
       "      <td>brutality</td>\n",
       "      <td>stop</td>\n",
       "    </tr>\n",
       "    <tr>\n",
       "      <th>Term15</th>\n",
       "      <td>people</td>\n",
       "      <td>country_modern_slave</td>\n",
       "      <td>rule</td>\n",
       "      <td>vernment</td>\n",
       "    </tr>\n",
       "    <tr>\n",
       "      <th>Term16</th>\n",
       "      <td>hongkonger</td>\n",
       "      <td>face</td>\n",
       "      <td>pss</td>\n",
       "      <td>so</td>\n",
       "    </tr>\n",
       "    <tr>\n",
       "      <th>Term17</th>\n",
       "      <td>never</td>\n",
       "      <td>virus</td>\n",
       "      <td>fe</td>\n",
       "      <td>ccp</td>\n",
       "    </tr>\n",
       "    <tr>\n",
       "      <th>Term18</th>\n",
       "      <td>justice</td>\n",
       "      <td>big</td>\n",
       "      <td>national_security</td>\n",
       "      <td>charge</td>\n",
       "    </tr>\n",
       "    <tr>\n",
       "      <th>Term19</th>\n",
       "      <td>is_terrorist</td>\n",
       "      <td>young</td>\n",
       "      <td>new</td>\n",
       "      <td>peaceful</td>\n",
       "    </tr>\n",
       "    <tr>\n",
       "      <th>Term20</th>\n",
       "      <td>hope</td>\n",
       "      <td>talk</td>\n",
       "      <td>vernment</td>\n",
       "      <td>victim</td>\n",
       "    </tr>\n",
       "  </tbody>\n",
       "</table>\n",
       "</div>"
      ],
      "text/plain": [
       "             support             comradery      china_opinion       hk_govt\n",
       "Term1   support       negative              hong               police      \n",
       "Term2   thank         never                 kong               arst        \n",
       "Term3   stand         for                   china              year        \n",
       "Term4   right         help                  police             hk          \n",
       "Term5   fem           hker                  law                people      \n",
       "Term6   hu            evil                  people             chinese     \n",
       "Term7   world         world                 fem                truth       \n",
       "Term8   fight         india                 citizen            attack      \n",
       "Term9   hong          od                    country            is_terrorist\n",
       "Term10  watch         well                  ccp                time        \n",
       "Term11  kong          is_terrorist          hk                 think       \n",
       "Term12  democracy     sanction              arst               terrorist   \n",
       "Term13  fe            save                  world              protest     \n",
       "Term14  shame         need                  brutality          stop        \n",
       "Term15  people        country_modern_slave  rule               vernment    \n",
       "Term16  hongkonger    face                  pss                so          \n",
       "Term17  never         virus                 fe                 ccp         \n",
       "Term18  justice       big                   national_security  charge      \n",
       "Term19  is_terrorist  young                 new                peaceful    \n",
       "Term20  hope          talk                  vernment           victim      "
      ]
     },
     "execution_count": 353,
     "metadata": {},
     "output_type": "execute_result"
    }
   ],
   "source": [
    "topics_df.columns = ['support','comradery','china_opinion','hk_govt'] \n",
    "topics_df"
   ]
  },
  {
   "cell_type": "markdown",
   "metadata": {},
   "source": [
    "**RBL All Topics : Initial Review** | Let's take one last look at how the Topics stack up with names rather than numbers."
   ]
  },
  {
   "cell_type": "code",
   "execution_count": 372,
   "metadata": {},
   "outputs": [
    {
     "data": {
      "text/html": [
       "<div>\n",
       "<style scoped>\n",
       "    .dataframe tbody tr th:only-of-type {\n",
       "        vertical-align: middle;\n",
       "    }\n",
       "\n",
       "    .dataframe tbody tr th {\n",
       "        vertical-align: top;\n",
       "    }\n",
       "\n",
       "    .dataframe thead th {\n",
       "        text-align: right;\n",
       "    }\n",
       "</style>\n",
       "<table border=\"1\" class=\"dataframe\">\n",
       "  <thead>\n",
       "    <tr style=\"text-align: right;\">\n",
       "      <th></th>\n",
       "      <th>Dominant Topic</th>\n",
       "      <th>Contribution %</th>\n",
       "      <th>Topic Desc</th>\n",
       "      <th>Tweets</th>\n",
       "      <th>comp</th>\n",
       "    </tr>\n",
       "  </thead>\n",
       "  <tbody>\n",
       "    <tr>\n",
       "      <th>0</th>\n",
       "      <td>1.0</td>\n",
       "      <td>74.77</td>\n",
       "      <td>support, thank, stand, right, fem, hu, world, fight, hong, watch, kong, democracy, fe, shame, people, hongkonger, never, justice, is_terrorist, hope</td>\n",
       "      <td>thanks speaking us</td>\n",
       "      <td>0.4404</td>\n",
       "    </tr>\n",
       "    <tr>\n",
       "      <th>1</th>\n",
       "      <td>3.0</td>\n",
       "      <td>42.63</td>\n",
       "      <td>hong, kong, china, police, law, people, fem, citizen, country, ccp, hk, arst, world, brutality, rule, pss, fe, national_security, new, vernment</td>\n",
       "      <td>how stop china hong kong read new report danish think tank cipo</td>\n",
       "      <td>-0.2960</td>\n",
       "    </tr>\n",
       "    <tr>\n",
       "      <th>2</th>\n",
       "      <td>3.0</td>\n",
       "      <td>42.63</td>\n",
       "      <td>hong, kong, china, police, law, people, fem, citizen, country, ccp, hk, arst, world, brutality, rule, pss, fe, national_security, new, vernment</td>\n",
       "      <td>how stop china hong kong read new report danish think tank cipo</td>\n",
       "      <td>-0.2960</td>\n",
       "    </tr>\n",
       "    <tr>\n",
       "      <th>3</th>\n",
       "      <td>4.0</td>\n",
       "      <td>73.17</td>\n",
       "      <td>police, arst, year, hk, people, chinese, truth, attack, is_terrorist, time, think, terrorist, protest, stop, vernment, so, ccp, charge, peaceful, victim</td>\n",
       "      <td>war communism</td>\n",
       "      <td>-0.5994</td>\n",
       "    </tr>\n",
       "    <tr>\n",
       "      <th>4</th>\n",
       "      <td>3.0</td>\n",
       "      <td>42.63</td>\n",
       "      <td>hong, kong, china, police, law, people, fem, citizen, country, ccp, hk, arst, world, brutality, rule, pss, fe, national_security, new, vernment</td>\n",
       "      <td>how stop china hong kong read new report danish think tank cipo</td>\n",
       "      <td>-0.2960</td>\n",
       "    </tr>\n",
       "    <tr>\n",
       "      <th>5</th>\n",
       "      <td>3.0</td>\n",
       "      <td>53.86</td>\n",
       "      <td>hong, kong, china, police, law, people, fem, citizen, country, ccp, hk, arst, world, brutality, rule, pss, fe, national_security, new, vernment</td>\n",
       "      <td>read report today how stop china hong kong</td>\n",
       "      <td>-0.2960</td>\n",
       "    </tr>\n",
       "    <tr>\n",
       "      <th>6</th>\n",
       "      <td>2.0</td>\n",
       "      <td>44.49</td>\n",
       "      <td>negative, never, for, help, hker, evil, world, india, od, well, is_terrorist, sanction, save, need, country_modern_slave, face, virus, big, young, talk</td>\n",
       "      <td>china never stop</td>\n",
       "      <td>0.2235</td>\n",
       "    </tr>\n",
       "  </tbody>\n",
       "</table>\n",
       "</div>"
      ],
      "text/plain": [
       "   Dominant Topic  Contribution %  \\\n",
       "0  1.0             74.77            \n",
       "1  3.0             42.63            \n",
       "2  3.0             42.63            \n",
       "3  4.0             73.17            \n",
       "4  3.0             42.63            \n",
       "5  3.0             53.86            \n",
       "6  2.0             44.49            \n",
       "\n",
       "                                                                                                                                                 Topic Desc  \\\n",
       "0  support, thank, stand, right, fem, hu, world, fight, hong, watch, kong, democracy, fe, shame, people, hongkonger, never, justice, is_terrorist, hope       \n",
       "1  hong, kong, china, police, law, people, fem, citizen, country, ccp, hk, arst, world, brutality, rule, pss, fe, national_security, new, vernment            \n",
       "2  hong, kong, china, police, law, people, fem, citizen, country, ccp, hk, arst, world, brutality, rule, pss, fe, national_security, new, vernment            \n",
       "3  police, arst, year, hk, people, chinese, truth, attack, is_terrorist, time, think, terrorist, protest, stop, vernment, so, ccp, charge, peaceful, victim   \n",
       "4  hong, kong, china, police, law, people, fem, citizen, country, ccp, hk, arst, world, brutality, rule, pss, fe, national_security, new, vernment            \n",
       "5  hong, kong, china, police, law, people, fem, citizen, country, ccp, hk, arst, world, brutality, rule, pss, fe, national_security, new, vernment            \n",
       "6  negative, never, for, help, hker, evil, world, india, od, well, is_terrorist, sanction, save, need, country_modern_slave, face, virus, big, young, talk    \n",
       "\n",
       "                                                                         Tweets  \\\n",
       "0  thanks speaking us                                                             \n",
       "1  how stop china hong kong read new report danish think tank cipo                \n",
       "2  how stop china hong kong read new report danish think tank cipo                \n",
       "3  war communism                                                                  \n",
       "4  how stop china hong kong read new report danish think tank cipo                \n",
       "5  read report today how stop china hong kong                                     \n",
       "6  china never stop                                                               \n",
       "\n",
       "     comp  \n",
       "0  0.4404  \n",
       "1 -0.2960  \n",
       "2 -0.2960  \n",
       "3 -0.5994  \n",
       "4 -0.2960  \n",
       "5 -0.2960  \n",
       "6  0.2235  "
      ]
     },
     "execution_count": 372,
     "metadata": {},
     "output_type": "execute_result"
    }
   ],
   "source": [
    "topic_sent.head(7)"
   ]
  },
  {
   "cell_type": "code",
   "execution_count": 393,
   "metadata": {},
   "outputs": [],
   "source": [
    "topic_sent_rev = topic_sent.copy()"
   ]
  },
  {
   "cell_type": "markdown",
   "metadata": {},
   "source": [
    "We will change the names to their respective new names."
   ]
  },
  {
   "cell_type": "code",
   "execution_count": 394,
   "metadata": {},
   "outputs": [],
   "source": [
    "topic_sent_rev['Dominant Topic'].replace(1.0, \n",
    "           \"support\", \n",
    "           inplace=True)\n",
    "\n",
    "topic_sent_rev['Dominant Topic'].replace(2.0, \n",
    "           \"comradery\", \n",
    "           inplace=True)\n",
    "\n",
    "topic_sent_rev['Dominant Topic'].replace(3.0, \n",
    "           \"china_opinion\", \n",
    "           inplace=True)\n",
    "\n",
    "topic_sent_rev['Dominant Topic'].replace(4.0, \n",
    "           \"hk_govt\", \n",
    "           inplace=True)"
   ]
  },
  {
   "cell_type": "code",
   "execution_count": 395,
   "metadata": {},
   "outputs": [
    {
     "data": {
      "text/html": [
       "<div>\n",
       "<style scoped>\n",
       "    .dataframe tbody tr th:only-of-type {\n",
       "        vertical-align: middle;\n",
       "    }\n",
       "\n",
       "    .dataframe tbody tr th {\n",
       "        vertical-align: top;\n",
       "    }\n",
       "\n",
       "    .dataframe thead th {\n",
       "        text-align: right;\n",
       "    }\n",
       "</style>\n",
       "<table border=\"1\" class=\"dataframe\">\n",
       "  <thead>\n",
       "    <tr style=\"text-align: right;\">\n",
       "      <th></th>\n",
       "      <th>Dominant Topic</th>\n",
       "      <th>Contribution %</th>\n",
       "      <th>Topic Desc</th>\n",
       "      <th>Tweets</th>\n",
       "      <th>comp</th>\n",
       "    </tr>\n",
       "  </thead>\n",
       "  <tbody>\n",
       "    <tr>\n",
       "      <th>0</th>\n",
       "      <td>support</td>\n",
       "      <td>74.77</td>\n",
       "      <td>support, thank, stand, right, fem, hu, world, fight, hong, watch, kong, democracy, fe, shame, people, hongkonger, never, justice, is_terrorist, hope</td>\n",
       "      <td>thanks speaking us</td>\n",
       "      <td>0.4404</td>\n",
       "    </tr>\n",
       "    <tr>\n",
       "      <th>1</th>\n",
       "      <td>china_opinion</td>\n",
       "      <td>42.63</td>\n",
       "      <td>hong, kong, china, police, law, people, fem, citizen, country, ccp, hk, arst, world, brutality, rule, pss, fe, national_security, new, vernment</td>\n",
       "      <td>how stop china hong kong read new report danish think tank cipo</td>\n",
       "      <td>-0.2960</td>\n",
       "    </tr>\n",
       "    <tr>\n",
       "      <th>2</th>\n",
       "      <td>china_opinion</td>\n",
       "      <td>42.63</td>\n",
       "      <td>hong, kong, china, police, law, people, fem, citizen, country, ccp, hk, arst, world, brutality, rule, pss, fe, national_security, new, vernment</td>\n",
       "      <td>how stop china hong kong read new report danish think tank cipo</td>\n",
       "      <td>-0.2960</td>\n",
       "    </tr>\n",
       "    <tr>\n",
       "      <th>3</th>\n",
       "      <td>hk_govt</td>\n",
       "      <td>73.17</td>\n",
       "      <td>police, arst, year, hk, people, chinese, truth, attack, is_terrorist, time, think, terrorist, protest, stop, vernment, so, ccp, charge, peaceful, victim</td>\n",
       "      <td>war communism</td>\n",
       "      <td>-0.5994</td>\n",
       "    </tr>\n",
       "    <tr>\n",
       "      <th>4</th>\n",
       "      <td>china_opinion</td>\n",
       "      <td>42.63</td>\n",
       "      <td>hong, kong, china, police, law, people, fem, citizen, country, ccp, hk, arst, world, brutality, rule, pss, fe, national_security, new, vernment</td>\n",
       "      <td>how stop china hong kong read new report danish think tank cipo</td>\n",
       "      <td>-0.2960</td>\n",
       "    </tr>\n",
       "    <tr>\n",
       "      <th>5</th>\n",
       "      <td>china_opinion</td>\n",
       "      <td>53.86</td>\n",
       "      <td>hong, kong, china, police, law, people, fem, citizen, country, ccp, hk, arst, world, brutality, rule, pss, fe, national_security, new, vernment</td>\n",
       "      <td>read report today how stop china hong kong</td>\n",
       "      <td>-0.2960</td>\n",
       "    </tr>\n",
       "    <tr>\n",
       "      <th>6</th>\n",
       "      <td>comradery</td>\n",
       "      <td>44.49</td>\n",
       "      <td>negative, never, for, help, hker, evil, world, india, od, well, is_terrorist, sanction, save, need, country_modern_slave, face, virus, big, young, talk</td>\n",
       "      <td>china never stop</td>\n",
       "      <td>0.2235</td>\n",
       "    </tr>\n",
       "  </tbody>\n",
       "</table>\n",
       "</div>"
      ],
      "text/plain": [
       "  Dominant Topic  Contribution %  \\\n",
       "0  support        74.77            \n",
       "1  china_opinion  42.63            \n",
       "2  china_opinion  42.63            \n",
       "3  hk_govt        73.17            \n",
       "4  china_opinion  42.63            \n",
       "5  china_opinion  53.86            \n",
       "6  comradery      44.49            \n",
       "\n",
       "                                                                                                                                                 Topic Desc  \\\n",
       "0  support, thank, stand, right, fem, hu, world, fight, hong, watch, kong, democracy, fe, shame, people, hongkonger, never, justice, is_terrorist, hope       \n",
       "1  hong, kong, china, police, law, people, fem, citizen, country, ccp, hk, arst, world, brutality, rule, pss, fe, national_security, new, vernment            \n",
       "2  hong, kong, china, police, law, people, fem, citizen, country, ccp, hk, arst, world, brutality, rule, pss, fe, national_security, new, vernment            \n",
       "3  police, arst, year, hk, people, chinese, truth, attack, is_terrorist, time, think, terrorist, protest, stop, vernment, so, ccp, charge, peaceful, victim   \n",
       "4  hong, kong, china, police, law, people, fem, citizen, country, ccp, hk, arst, world, brutality, rule, pss, fe, national_security, new, vernment            \n",
       "5  hong, kong, china, police, law, people, fem, citizen, country, ccp, hk, arst, world, brutality, rule, pss, fe, national_security, new, vernment            \n",
       "6  negative, never, for, help, hker, evil, world, india, od, well, is_terrorist, sanction, save, need, country_modern_slave, face, virus, big, young, talk    \n",
       "\n",
       "                                                                         Tweets  \\\n",
       "0  thanks speaking us                                                             \n",
       "1  how stop china hong kong read new report danish think tank cipo                \n",
       "2  how stop china hong kong read new report danish think tank cipo                \n",
       "3  war communism                                                                  \n",
       "4  how stop china hong kong read new report danish think tank cipo                \n",
       "5  read report today how stop china hong kong                                     \n",
       "6  china never stop                                                               \n",
       "\n",
       "     comp  \n",
       "0  0.4404  \n",
       "1 -0.2960  \n",
       "2 -0.2960  \n",
       "3 -0.5994  \n",
       "4 -0.2960  \n",
       "5 -0.2960  \n",
       "6  0.2235  "
      ]
     },
     "execution_count": 395,
     "metadata": {},
     "output_type": "execute_result"
    }
   ],
   "source": [
    "topic_sent_rev.head(7)"
   ]
  },
  {
   "cell_type": "code",
   "execution_count": 396,
   "metadata": {},
   "outputs": [
    {
     "data": {
      "text/plain": [
       "[Text(0.5, 0, 'Topics'), Text(0, 0.5, 'Sentiment Scores (Comp)')]"
      ]
     },
     "execution_count": 396,
     "metadata": {},
     "output_type": "execute_result"
    },
    {
     "data": {
      "image/png": "[encoded data removed]",
      "text/plain": [
       "<Figure size 1224x720 with 1 Axes>"
      ]
     },
     "metadata": {},
     "output_type": "display_data"
    }
   ],
   "source": [
    "fig, ax = plt.subplots(1,1, figsize=(17,10))\n",
    "ax = sns.boxplot(x=\"Dominant Topic\", y=\"comp\", data=topic_sent_rev)\n",
    "#ax.set(title='Comp Score ( Titles )')\n",
    "ax.set(xlabel='Topics', ylabel='Sentiment Scores (Comp)')\n"
   ]
  },
  {
   "cell_type": "markdown",
   "metadata": {},
   "source": [
    "That looks to be & should be the same as before; i.e. half are neutral. **Let's take a look at the dominate words in each.**"
   ]
  },
  {
   "cell_type": "code",
   "execution_count": 397,
   "metadata": {},
   "outputs": [
    {
     "data": {
      "text/html": [
       "<div>\n",
       "<style scoped>\n",
       "    .dataframe tbody tr th:only-of-type {\n",
       "        vertical-align: middle;\n",
       "    }\n",
       "\n",
       "    .dataframe tbody tr th {\n",
       "        vertical-align: top;\n",
       "    }\n",
       "\n",
       "    .dataframe thead th {\n",
       "        text-align: right;\n",
       "    }\n",
       "</style>\n",
       "<table border=\"1\" class=\"dataframe\">\n",
       "  <thead>\n",
       "    <tr style=\"text-align: right;\">\n",
       "      <th></th>\n",
       "      <th>support</th>\n",
       "      <th>comradery</th>\n",
       "      <th>china_opinion</th>\n",
       "      <th>hk_govt</th>\n",
       "    </tr>\n",
       "  </thead>\n",
       "  <tbody>\n",
       "    <tr>\n",
       "      <th>Term1</th>\n",
       "      <td>support</td>\n",
       "      <td>negative</td>\n",
       "      <td>hong</td>\n",
       "      <td>police</td>\n",
       "    </tr>\n",
       "    <tr>\n",
       "      <th>Term2</th>\n",
       "      <td>thank</td>\n",
       "      <td>never</td>\n",
       "      <td>kong</td>\n",
       "      <td>arst</td>\n",
       "    </tr>\n",
       "    <tr>\n",
       "      <th>Term3</th>\n",
       "      <td>stand</td>\n",
       "      <td>for</td>\n",
       "      <td>china</td>\n",
       "      <td>year</td>\n",
       "    </tr>\n",
       "    <tr>\n",
       "      <th>Term4</th>\n",
       "      <td>right</td>\n",
       "      <td>help</td>\n",
       "      <td>police</td>\n",
       "      <td>hk</td>\n",
       "    </tr>\n",
       "    <tr>\n",
       "      <th>Term5</th>\n",
       "      <td>fem</td>\n",
       "      <td>hker</td>\n",
       "      <td>law</td>\n",
       "      <td>people</td>\n",
       "    </tr>\n",
       "    <tr>\n",
       "      <th>Term6</th>\n",
       "      <td>hu</td>\n",
       "      <td>evil</td>\n",
       "      <td>people</td>\n",
       "      <td>chinese</td>\n",
       "    </tr>\n",
       "    <tr>\n",
       "      <th>Term7</th>\n",
       "      <td>world</td>\n",
       "      <td>world</td>\n",
       "      <td>fem</td>\n",
       "      <td>truth</td>\n",
       "    </tr>\n",
       "    <tr>\n",
       "      <th>Term8</th>\n",
       "      <td>fight</td>\n",
       "      <td>india</td>\n",
       "      <td>citizen</td>\n",
       "      <td>attack</td>\n",
       "    </tr>\n",
       "    <tr>\n",
       "      <th>Term9</th>\n",
       "      <td>hong</td>\n",
       "      <td>od</td>\n",
       "      <td>country</td>\n",
       "      <td>is_terrorist</td>\n",
       "    </tr>\n",
       "    <tr>\n",
       "      <th>Term10</th>\n",
       "      <td>watch</td>\n",
       "      <td>well</td>\n",
       "      <td>ccp</td>\n",
       "      <td>time</td>\n",
       "    </tr>\n",
       "    <tr>\n",
       "      <th>Term11</th>\n",
       "      <td>kong</td>\n",
       "      <td>is_terrorist</td>\n",
       "      <td>hk</td>\n",
       "      <td>think</td>\n",
       "    </tr>\n",
       "    <tr>\n",
       "      <th>Term12</th>\n",
       "      <td>democracy</td>\n",
       "      <td>sanction</td>\n",
       "      <td>arst</td>\n",
       "      <td>terrorist</td>\n",
       "    </tr>\n",
       "    <tr>\n",
       "      <th>Term13</th>\n",
       "      <td>fe</td>\n",
       "      <td>save</td>\n",
       "      <td>world</td>\n",
       "      <td>protest</td>\n",
       "    </tr>\n",
       "    <tr>\n",
       "      <th>Term14</th>\n",
       "      <td>shame</td>\n",
       "      <td>need</td>\n",
       "      <td>brutality</td>\n",
       "      <td>stop</td>\n",
       "    </tr>\n",
       "    <tr>\n",
       "      <th>Term15</th>\n",
       "      <td>people</td>\n",
       "      <td>country_modern_slave</td>\n",
       "      <td>rule</td>\n",
       "      <td>vernment</td>\n",
       "    </tr>\n",
       "    <tr>\n",
       "      <th>Term16</th>\n",
       "      <td>hongkonger</td>\n",
       "      <td>face</td>\n",
       "      <td>pss</td>\n",
       "      <td>so</td>\n",
       "    </tr>\n",
       "    <tr>\n",
       "      <th>Term17</th>\n",
       "      <td>never</td>\n",
       "      <td>virus</td>\n",
       "      <td>fe</td>\n",
       "      <td>ccp</td>\n",
       "    </tr>\n",
       "    <tr>\n",
       "      <th>Term18</th>\n",
       "      <td>justice</td>\n",
       "      <td>big</td>\n",
       "      <td>national_security</td>\n",
       "      <td>charge</td>\n",
       "    </tr>\n",
       "    <tr>\n",
       "      <th>Term19</th>\n",
       "      <td>is_terrorist</td>\n",
       "      <td>young</td>\n",
       "      <td>new</td>\n",
       "      <td>peaceful</td>\n",
       "    </tr>\n",
       "    <tr>\n",
       "      <th>Term20</th>\n",
       "      <td>hope</td>\n",
       "      <td>talk</td>\n",
       "      <td>vernment</td>\n",
       "      <td>victim</td>\n",
       "    </tr>\n",
       "  </tbody>\n",
       "</table>\n",
       "</div>"
      ],
      "text/plain": [
       "             support             comradery      china_opinion       hk_govt\n",
       "Term1   support       negative              hong               police      \n",
       "Term2   thank         never                 kong               arst        \n",
       "Term3   stand         for                   china              year        \n",
       "Term4   right         help                  police             hk          \n",
       "Term5   fem           hker                  law                people      \n",
       "Term6   hu            evil                  people             chinese     \n",
       "Term7   world         world                 fem                truth       \n",
       "Term8   fight         india                 citizen            attack      \n",
       "Term9   hong          od                    country            is_terrorist\n",
       "Term10  watch         well                  ccp                time        \n",
       "Term11  kong          is_terrorist          hk                 think       \n",
       "Term12  democracy     sanction              arst               terrorist   \n",
       "Term13  fe            save                  world              protest     \n",
       "Term14  shame         need                  brutality          stop        \n",
       "Term15  people        country_modern_slave  rule               vernment    \n",
       "Term16  hongkonger    face                  pss                so          \n",
       "Term17  never         virus                 fe                 ccp         \n",
       "Term18  justice       big                   national_security  charge      \n",
       "Term19  is_terrorist  young                 new                peaceful    \n",
       "Term20  hope          talk                  vernment           victim      "
      ]
     },
     "execution_count": 397,
     "metadata": {},
     "output_type": "execute_result"
    }
   ],
   "source": [
    "topics_df"
   ]
  },
  {
   "cell_type": "markdown",
   "metadata": {},
   "source": [
    "My new thoughts on each below:\n",
    "   * **support** | Support does have the Highest Sentiment Score for obvious reasons. There are words there I don't believe mean much; listed below:\n",
    "     * fem, hu, kong, fe & hongkonger\n",
    "   * **comradery** | Neutral & the word negative is the highest & I don't believe thats directed at themselves; additionally, words I don't believe mean much; listed below:\n",
    "     * hker, od & young\n",
    "   * **china_opinion** | Neutral & the words I don't believe mean much:\n",
    "     * hong, kong, fem, hk, pss & fe\n",
    "   * **hk_govt** | Neutral & the words I don't believe mean much:\n",
    "     * people & so\n",
    "\n",
    "We will remove these words & see how the scoring plays out. We will first drop the previous score."
   ]
  },
  {
   "cell_type": "code",
   "execution_count": 398,
   "metadata": {},
   "outputs": [],
   "source": [
    "topic_sent_rev = topic_sent_rev.drop(['comp'], axis=1)"
   ]
  },
  {
   "cell_type": "code",
   "execution_count": 399,
   "metadata": {},
   "outputs": [
    {
     "data": {
      "text/plain": [
       "Index(['Dominant Topic', 'Contribution %', 'Topic Desc', 'Tweets'], dtype='object')"
      ]
     },
     "execution_count": 399,
     "metadata": {},
     "output_type": "execute_result"
    }
   ],
   "source": [
    "topic_sent_rev.columns"
   ]
  },
  {
   "cell_type": "markdown",
   "metadata": {},
   "source": [
    "We will identify a row which has a word to drop for reference."
   ]
  },
  {
   "cell_type": "code",
   "execution_count": 400,
   "metadata": {},
   "outputs": [
    {
     "data": {
      "text/plain": [
       "'read report today how stop china hong kong            '"
      ]
     },
     "execution_count": 400,
     "metadata": {},
     "output_type": "execute_result"
    }
   ],
   "source": [
    "topic_sent_rev['Tweets'][5]"
   ]
  },
  {
   "cell_type": "markdown",
   "metadata": {},
   "source": [
    "For additional reference, that Tweet falls into the following category."
   ]
  },
  {
   "cell_type": "code",
   "execution_count": 401,
   "metadata": {},
   "outputs": [
    {
     "data": {
      "text/plain": [
       "'china_opinion'"
      ]
     },
     "execution_count": 401,
     "metadata": {},
     "output_type": "execute_result"
    }
   ],
   "source": [
    "topic_sent_rev['Dominant Topic'][5]"
   ]
  },
  {
   "cell_type": "markdown",
   "metadata": {},
   "source": [
    "Removing the selected words from above."
   ]
  },
  {
   "cell_type": "code",
   "execution_count": 402,
   "metadata": {},
   "outputs": [],
   "source": [
    "topic_sent_rev['Tweets'] = topic_sent_rev['Tweets'].str.replace('fem|hu|kong|fe|hongkonger|hker|od|young|hong|kong|fem|hk|pss|fe|people|so','')"
   ]
  },
  {
   "cell_type": "code",
   "execution_count": 403,
   "metadata": {},
   "outputs": [
    {
     "data": {
      "text/plain": [
       "'read report tay how stop china              '"
      ]
     },
     "execution_count": 403,
     "metadata": {},
     "output_type": "execute_result"
    }
   ],
   "source": [
    "topic_sent_rev['Tweets'][5]"
   ]
  },
  {
   "cell_type": "markdown",
   "metadata": {},
   "source": [
    "<a id='sia'></a>**Sentiment Intensity Analyzer |** Not perfect but here we will score the tweets based the words they used; sometimes call ' opinion mining'."
   ]
  },
  {
   "cell_type": "code",
   "execution_count": 404,
   "metadata": {},
   "outputs": [],
   "source": [
    "analyzer = SentimentIntensityAnalyzer()"
   ]
  },
  {
   "cell_type": "markdown",
   "metadata": {},
   "source": [
    "We will first check for null values."
   ]
  },
  {
   "cell_type": "code",
   "execution_count": 415,
   "metadata": {},
   "outputs": [
    {
     "data": {
      "text/plain": [
       "Dominant Topic    1\n",
       "Contribution %    1\n",
       "Topic Desc        1\n",
       "Tweets            2\n",
       "dtype: int64"
      ]
     },
     "execution_count": 415,
     "metadata": {},
     "output_type": "execute_result"
    }
   ],
   "source": [
    "topic_sent_rev.isnull().sum()"
   ]
  },
  {
   "cell_type": "code",
   "execution_count": 416,
   "metadata": {},
   "outputs": [
    {
     "name": "stdout",
     "output_type": "stream",
     "text": [
      "We have one which we will drop. Although this will have an impact on the outcome, it represents 0.00305% of the total data frame.\n"
     ]
    }
   ],
   "source": [
    "print('We have one which we will drop. Although this will have an impact on the outcome, it represents',\n",
    "     \"{:,}%\".format(round(((5/len(topic_sent_rev))*100),5)),'of the total data frame.')"
   ]
  },
  {
   "cell_type": "code",
   "execution_count": 418,
   "metadata": {},
   "outputs": [],
   "source": [
    "topic_sent_rev = topic_sent_rev.dropna()"
   ]
  },
  {
   "cell_type": "code",
   "execution_count": 419,
   "metadata": {},
   "outputs": [
    {
     "data": {
      "text/plain": [
       "Dominant Topic    0\n",
       "Contribution %    0\n",
       "Topic Desc        0\n",
       "Tweets            0\n",
       "dtype: int64"
      ]
     },
     "execution_count": 419,
     "metadata": {},
     "output_type": "execute_result"
    }
   ],
   "source": [
    "topic_sent_rev.isnull().sum()"
   ]
  },
  {
   "cell_type": "markdown",
   "metadata": {},
   "source": [
    "Now the Sentiment Scoring."
   ]
  },
  {
   "cell_type": "code",
   "execution_count": 420,
   "metadata": {},
   "outputs": [],
   "source": [
    "#We will assign the tweets to a new dataframe & then put it back to the main one at the end\n",
    "df_sentiment_tweet = pd.DataFrame(topic_sent_rev['Tweets'].copy())\n",
    "df_sentiment_tweet['comp'] = [analyzer.polarity_scores(x)['compound'] for x in df_sentiment_tweet['Tweets']]\n",
    "df_sentiment_tweet['neg'] = [analyzer.polarity_scores(x)['neg'] for x in df_sentiment_tweet['Tweets']]\n",
    "df_sentiment_tweet['neu'] = [analyzer.polarity_scores(x)['neu'] for x in df_sentiment_tweet['Tweets']]\n",
    "df_sentiment_tweet['pos'] = [analyzer.polarity_scores(x)['pos'] for x in df_sentiment_tweet['Tweets']]"
   ]
  },
  {
   "cell_type": "markdown",
   "metadata": {},
   "source": [
    "Setting up for the pull in & then pulling it."
   ]
  },
  {
   "cell_type": "code",
   "execution_count": 422,
   "metadata": {},
   "outputs": [
    {
     "data": {
      "text/plain": [
       "Index(['Tweets', 'comp', 'neg', 'neu', 'pos'], dtype='object')"
      ]
     },
     "execution_count": 422,
     "metadata": {},
     "output_type": "execute_result"
    }
   ],
   "source": [
    "df_sentiment_tweet.columns"
   ]
  },
  {
   "cell_type": "code",
   "execution_count": 423,
   "metadata": {},
   "outputs": [],
   "source": [
    "df_sentiment_tweet = df_sentiment_tweet.drop(columns=['Tweets'])"
   ]
  },
  {
   "cell_type": "code",
   "execution_count": 424,
   "metadata": {},
   "outputs": [],
   "source": [
    "topic_sent_rev_twice = pd.concat([topic_sent_rev, df_sentiment_tweet], axis=1)\n",
    "# df = df.drop(columns = ['key_0'], axis=1)"
   ]
  },
  {
   "cell_type": "code",
   "execution_count": 426,
   "metadata": {},
   "outputs": [
    {
     "data": {
      "text/html": [
       "<div>\n",
       "<style scoped>\n",
       "    .dataframe tbody tr th:only-of-type {\n",
       "        vertical-align: middle;\n",
       "    }\n",
       "\n",
       "    .dataframe tbody tr th {\n",
       "        vertical-align: top;\n",
       "    }\n",
       "\n",
       "    .dataframe thead th {\n",
       "        text-align: right;\n",
       "    }\n",
       "</style>\n",
       "<table border=\"1\" class=\"dataframe\">\n",
       "  <thead>\n",
       "    <tr style=\"text-align: right;\">\n",
       "      <th></th>\n",
       "      <th>Dominant Topic</th>\n",
       "      <th>Contribution %</th>\n",
       "      <th>Topic Desc</th>\n",
       "      <th>Tweets</th>\n",
       "      <th>comp</th>\n",
       "      <th>neg</th>\n",
       "      <th>neu</th>\n",
       "      <th>pos</th>\n",
       "    </tr>\n",
       "  </thead>\n",
       "  <tbody>\n",
       "    <tr>\n",
       "      <th>0</th>\n",
       "      <td>support</td>\n",
       "      <td>74.77</td>\n",
       "      <td>support, thank, stand, right, fem, hu, world, fight, hong, watch, kong, democracy, fe, shame, people, hongkonger, never, justice, is_terrorist, hope</td>\n",
       "      <td>thanks speaking us</td>\n",
       "      <td>0.4404</td>\n",
       "      <td>0.000</td>\n",
       "      <td>0.408</td>\n",
       "      <td>0.592</td>\n",
       "    </tr>\n",
       "    <tr>\n",
       "      <th>1</th>\n",
       "      <td>china_opinion</td>\n",
       "      <td>42.63</td>\n",
       "      <td>hong, kong, china, police, law, people, fem, citizen, country, ccp, hk, arst, world, brutality, rule, pss, fe, national_security, new, vernment</td>\n",
       "      <td>how stop china   read new report danish think tank cipo</td>\n",
       "      <td>-0.2960</td>\n",
       "      <td>0.196</td>\n",
       "      <td>0.804</td>\n",
       "      <td>0.000</td>\n",
       "    </tr>\n",
       "    <tr>\n",
       "      <th>2</th>\n",
       "      <td>china_opinion</td>\n",
       "      <td>42.63</td>\n",
       "      <td>hong, kong, china, police, law, people, fem, citizen, country, ccp, hk, arst, world, brutality, rule, pss, fe, national_security, new, vernment</td>\n",
       "      <td>how stop china   read new report danish think tank cipo</td>\n",
       "      <td>-0.2960</td>\n",
       "      <td>0.196</td>\n",
       "      <td>0.804</td>\n",
       "      <td>0.000</td>\n",
       "    </tr>\n",
       "  </tbody>\n",
       "</table>\n",
       "</div>"
      ],
      "text/plain": [
       "  Dominant Topic  Contribution %  \\\n",
       "0  support        74.77            \n",
       "1  china_opinion  42.63            \n",
       "2  china_opinion  42.63            \n",
       "\n",
       "                                                                                                                                             Topic Desc  \\\n",
       "0  support, thank, stand, right, fem, hu, world, fight, hong, watch, kong, democracy, fe, shame, people, hongkonger, never, justice, is_terrorist, hope   \n",
       "1  hong, kong, china, police, law, people, fem, citizen, country, ccp, hk, arst, world, brutality, rule, pss, fe, national_security, new, vernment        \n",
       "2  hong, kong, china, police, law, people, fem, citizen, country, ccp, hk, arst, world, brutality, rule, pss, fe, national_security, new, vernment        \n",
       "\n",
       "                                                                 Tweets  \\\n",
       "0  thanks speaking us                                                     \n",
       "1  how stop china   read new report danish think tank cipo                \n",
       "2  how stop china   read new report danish think tank cipo                \n",
       "\n",
       "     comp    neg    neu    pos  \n",
       "0  0.4404  0.000  0.408  0.592  \n",
       "1 -0.2960  0.196  0.804  0.000  \n",
       "2 -0.2960  0.196  0.804  0.000  "
      ]
     },
     "execution_count": 426,
     "metadata": {},
     "output_type": "execute_result"
    }
   ],
   "source": [
    "topic_sent_rev_twice.head(3)"
   ]
  },
  {
   "cell_type": "markdown",
   "metadata": {},
   "source": [
    "Now to take a look."
   ]
  },
  {
   "cell_type": "code",
   "execution_count": 427,
   "metadata": {},
   "outputs": [
    {
     "data": {
      "text/plain": [
       "[Text(0.5, 0, 'Topics'), Text(0, 0.5, 'Sentiment Scores (Comp)')]"
      ]
     },
     "execution_count": 427,
     "metadata": {},
     "output_type": "execute_result"
    },
    {
     "data": {
      "image/png": "[encoded data removed]",
      "text/plain": [
       "<Figure size 1224x720 with 1 Axes>"
      ]
     },
     "metadata": {},
     "output_type": "display_data"
    }
   ],
   "source": [
    "fig, ax = plt.subplots(1,1, figsize=(17,10))\n",
    "ax = sns.boxplot(x=\"Dominant Topic\", y=\"comp\", data=topic_sent_rev_twice)\n",
    "#ax.set(title='Comp Score ( Titles )')\n",
    "ax.set(xlabel='Topics', ylabel='Sentiment Scores (Comp)')"
   ]
  },
  {
   "cell_type": "markdown",
   "metadata": {},
   "source": [
    "Same. We will settle with this."
   ]
  },
  {
   "cell_type": "code",
   "execution_count": null,
   "metadata": {},
   "outputs": [],
   "source": []
  },
  {
   "cell_type": "markdown",
   "metadata": {},
   "source": [
    "# **5.3 Project Summary**<a id='p_summary'></a>"
   ]
  },
  {
   "cell_type": "markdown",
   "metadata": {},
   "source": [
    "We will first run over **the process undertaken** & **high-level findings**:\n",
    "   * Reviewed the Skewness of the Sentiment Analysis\n",
    "     * Gained initial suggestions to review the Tweet population's position on the law or something associated with it \n",
    "   * Investigated a potential progression of the Sentiment on a Time Series\n",
    "     * Movements towards Positivity was seen in late-June & early August while movements towards Negativity was seen in late August\n",
    "   * Looked a Bigrams of words used in the Positive & Negative Categories & the breakdown towards the below\n",
    "     * Positivity | Thanks much / support, Free World, help & folded_hands ( 🙏 )\n",
    "     * Negativity | Evil CCP, Police Brutality, Fighting & Holdings Hands ( 👬 )\n",
    "     * Mentioned in both | Human Rights & freedom press / democracy\n",
    "     * There appears to be a Pro-China or Pro-HK split.\n",
    "   * Investigated links to geopolitical entities as well as potential sarcasm directed towards them\n",
    "     * Positive mentions to the US while mentions towards China may be sarcastic\n",
    "   * Identified the optimal number of topics discussed on the Tweets to be 4 & reviewed the extremes of them\n",
    "     * A Positive & Negative Split between Thanks for support towards freedom & fighting respectively.\n",
    "   * We took a deeper manual look at the 4 Topics & decided they can be classified as:\n",
    "     * **support** | A notable amount of appreciation for support from the free world for helping fight for freedom, democracy & human rights\n",
    "     * **comradery** | A sense of comradery towards their fight & urges to not give up\n",
    "     * **china_opinion** | Tweeters vocalize their negative opinion towards what they believe China's goal is\n",
    "     * **hk_govt** | Confrontations with the police & HK legal authorities\n"
   ]
  },
  {
   "cell_type": "markdown",
   "metadata": {},
   "source": [
    "**We will end on it all together in a few sentences:**\n",
    "   * Tweeters fall into four (4) categories; those categories being: \n",
    "     * #1 appreciation for the support coming from abroad\n",
    "     * #2 comradery towards their fight against the law & perceived ramifications of it\n",
    "     * #3 distrust towards China & their perceived intentions for the law\n",
    "     * #4 dissatisfaction of how the police & the HK gov't are handling it\n",
    "   * Tweeters believe that China will one day treat HK in a way similar to Tibet, Xinjiang (the Uighurs) & the Tiananmen Massacre; which they don't speak positively about. To overcome this perceived risk, they appreciate the support of the free world, which was deemed to include the UK, Australia, Taiwan & the USA. The Tweeters believe they should ban together in unity to overcome this perceived risk.\n",
    "\n",
    "Please note, this Data Science project was completed in July 2021 but the data is from June - Aug 2020. Much may have changed but that would fall outside the scope of this project."
   ]
  },
  {
   "cell_type": "code",
   "execution_count": null,
   "metadata": {},
   "outputs": [],
   "source": []
  }
 ],
 "metadata": {
  "kernelspec": {
   "display_name": "Python 3",
   "language": "python",
   "name": "python3"
  },
  "language_info": {
   "codemirror_mode": {
    "name": "ipython",
    "version": 3
   },
   "file_extension": ".py",
   "mimetype": "text/x-python",
   "name": "python",
   "nbconvert_exporter": "python",
   "pygments_lexer": "ipython3",
   "version": "3.8.10"
  },
  "varInspector": {
   "cols": {
    "lenName": 16,
    "lenType": 16,
    "lenVar": 40
   },
   "kernels_config": {
    "python": {
     "delete_cmd_postfix": "",
     "delete_cmd_prefix": "del ",
     "library": "var_list.py",
     "varRefreshCmd": "print(var_dic_list())"
    },
    "r": {
     "delete_cmd_postfix": ") ",
     "delete_cmd_prefix": "rm(",
     "library": "var_list.r",
     "varRefreshCmd": "cat(var_dic_list()) "
    }
   },
   "types_to_exclude": [
    "module",
    "function",
    "builtin_function_or_method",
    "instance",
    "_Feature"
   ],
   "window_display": false
  }
 },
 "nbformat": 4,
 "nbformat_minor": 4
}
