{
 "cells": [
  {
   "cell_type": "markdown",
   "metadata": {},
   "source": [
    "# Data Wrangling & EDA | Twitter | HK NLP Project"
   ]
  },
  {
   "cell_type": "markdown",
   "metadata": {},
   "source": [
    "# Table of Contents\n",
    "* [1.0 Wrangling](#Data_wrangling)\n",
    "  * [1.1 Contents](#wrangle_contents)\n",
    "  * [1.2 Imports & Set Up](#imports)\n",
    "  * [1.3 Initial Scraping before Regex](#int_scrape)\n",
    "  * [1.4 Regex](#regex)\n",
    "     * [1.4.1 Other User Mentions](#oum)\n",
    "     * [1.4.2 HTML tags](#htmltags)\n",
    "     * [1.4.3 Emoji's](#emojis)\n",
    "     * [1.4.4 Profanity](#profanity)\n",
    "     * [1.4.5 Foreign Language(s)](#flanguage)\n",
    "     * [1.4.6 Stop Words](#stop_words) \n",
    "     * [1.4.7 Tweet Length](#tweet_length) \n",
    "     * [1.4.8 Number of Hashtags](#num_hashtags) \n",
    "  * [1.5 Putting the Data to the Side](#pts)\n",
    "* [2.0 Exploratory Data Analysis (EDA)](#eda)\n",
    "  * [2.1 Contents](#eda_contents)\n",
    "  * [2.2 xxxxxxxxxxxxxx](#_____)\n",
    "  * [2.3 xxxxxxxxxxxxxx](#_____)\n",
    "  * [2.4 xxxxxxxxxxxxxx](#_____)\n",
    "  * [2.5 xxxxxxxxxxxxxx](#_____)\n",
    "  * [2.6 xxxxxxxxxxxxxx](#_____)\n",
    "  * [2.7 xxxxxxxxxxxxxx](#_____)\n",
    "  * [2.8 xxxxxxxxxxxxxx](#_____)\n",
    "  * [2.9 xxxxxxxxxxxxxx](#_____)\n",
    "  * [2.10 Pulling them together](#1.15_ptt)\n",
    " "
   ]
  },
  {
   "cell_type": "markdown",
   "metadata": {},
   "source": [
    "# **1.1 Contents**<a id='wrangle_contents'></a>"
   ]
  },
  {
   "cell_type": "markdown",
   "metadata": {},
   "source": [
    "This is where you will summarize your intent. Mention you used `twint`"
   ]
  },
  {
   "cell_type": "markdown",
   "metadata": {},
   "source": [
    "# **1.2 Imports & Set Up**<a id='imports'></a>"
   ]
  },
  {
   "cell_type": "code",
   "execution_count": 158,
   "metadata": {},
   "outputs": [
    {
     "name": "stdout",
     "output_type": "stream",
     "text": [
      "Python implementation: CPython\n",
      "Python version       : 3.8.5\n",
      "IPython version      : 7.19.0\n",
      "\n",
      "pandas: 1.1.3\n",
      "\n"
     ]
    },
    {
     "name": "stderr",
     "output_type": "stream",
     "text": [
      "[nltk_data] Downloading package stopwords to\n",
      "[nltk_data]     C:\\Users\\rands\\AppData\\Roaming\\nltk_data...\n",
      "[nltk_data]   Package stopwords is already up-to-date!\n"
     ]
    }
   ],
   "source": [
    "# Main Imports\n",
    "import os\n",
    "import sys\n",
    "import numpy as np\n",
    "import statistics\n",
    "from scipy import stats\n",
    "import pandas as pd\n",
    "import seaborn as sns\n",
    "import matplotlib.pyplot as plt\n",
    "import matplotlib.colors as colors\n",
    "import matplotlib.dates as mdates\n",
    "import matplotlib.ticker as ticker\n",
    "from matplotlib.pyplot import figure\n",
    "%matplotlib inline\n",
    "import datetime\n",
    "import warnings\n",
    "warnings.filterwarnings(\"ignore\")\n",
    "%reload_ext watermark\n",
    "\n",
    "# NLP Imports\n",
    "import re\n",
    "import string\n",
    "import nltk\n",
    "import pickle\n",
    "import emoji\n",
    "from better_profanity import profanity\n",
    "from nltk import sent_tokenize, word_tokenize\n",
    "from nltk.stem.snowball import SnowballStemmer\n",
    "from nltk.stem.wordnet import WordNetLemmatizer\n",
    "from nltk.tokenize.casual import TweetTokenizer\n",
    "from nltk.corpus import stopwords\n",
    "from nltk.sentiment.vader import SentimentIntensityAnalyzer\n",
    "from gensim.corpora.dictionary import Dictionary\n",
    "from gensim.models.tfidfmodel import TfidfModel\n",
    "from collections import Counter\n",
    "import spacy\n",
    "nltk.download(\"stopwords\")\n",
    "stopwords = stopwords.words('english')\n",
    "ps= nltk.PorterStemmer()\n",
    "\n",
    "results = Counter()\n",
    "\n",
    "# from polyglot.text import Text\n",
    "\n",
    "# The below 2 may be required\n",
    "# import nltk\n",
    "# nltk.download('stopwords')\n",
    "# nltk.download('averaged_perceptron_tagger')\n",
    "# nltk.download('maxent_ne_chunker')\n",
    "# nltk.download('words')\n",
    "\n",
    "# Still importing twint\n",
    "import twint\n",
    "import nest_asyncio\n",
    "nest_asyncio.apply()\n",
    "\n",
    "%watermark -d -t -v -p pandas"
   ]
  },
  {
   "cell_type": "code",
   "execution_count": 80,
   "metadata": {},
   "outputs": [],
   "source": [
    "# Here I am structuring a color scale for heatmaps which will be used later\n",
    "\n",
    "cdict = {'green':  ((0.0, 0.0, 0.0),   # no red at 0\n",
    "                  (0.5, 1.0, 1.0),   # all channels set to 1.0 at 0.5 to create white\n",
    "                  (1.0, 0.8, 0.8)),  # set to 0.8 so its not too bright at 1\n",
    "\n",
    "        'red': ((0.0, 0.8, 0.8),   # set to 0.8 so its not too bright at 0\n",
    "                  (0.5, 1.0, 1.0),   # all channels set to 1.0 at 0.5 to create white\n",
    "                  (1.0, 0.0, 0.0)),  # no green at 1\n",
    "\n",
    "        'blue':  ((0.0, 0.0, 0.0),   # no blue at 0\n",
    "                  (0.5, 1.0, 1.0),   # all channels set to 1.0 at 0.5 to create white\n",
    "                  (1.0, 0.0, 0.0))   # no blue at 1\n",
    "       }\n",
    "\n",
    "# Create the colormap using the dictionary\n",
    "GnRd = colors.LinearSegmentedColormap('GnRd', cdict)\n"
   ]
  },
  {
   "cell_type": "code",
   "execution_count": 4,
   "metadata": {},
   "outputs": [
    {
     "name": "stdout",
     "output_type": "stream",
     "text": [
      "C:\\Users\\rands\n"
     ]
    }
   ],
   "source": [
    "cd"
   ]
  },
  {
   "cell_type": "code",
   "execution_count": 5,
   "metadata": {},
   "outputs": [],
   "source": [
    "df = pd.read_excel('./_Capstone_Two_NLP/data/_twitter/tweets.xlsx')\n",
    "df = df.reset_index()\n",
    "df = df.drop(columns=['Unnamed: 0','index'])"
   ]
  },
  {
   "cell_type": "code",
   "execution_count": null,
   "metadata": {},
   "outputs": [],
   "source": []
  },
  {
   "cell_type": "markdown",
   "metadata": {},
   "source": [
    "# **1.3 Initial Scraping before Regex**<a id='int_scrape'></a>"
   ]
  },
  {
   "cell_type": "code",
   "execution_count": 6,
   "metadata": {
    "scrolled": true
   },
   "outputs": [
    {
     "data": {
      "text/html": [
       "<div>\n",
       "<style scoped>\n",
       "    .dataframe tbody tr th:only-of-type {\n",
       "        vertical-align: middle;\n",
       "    }\n",
       "\n",
       "    .dataframe tbody tr th {\n",
       "        vertical-align: top;\n",
       "    }\n",
       "\n",
       "    .dataframe thead th {\n",
       "        text-align: right;\n",
       "    }\n",
       "</style>\n",
       "<table border=\"1\" class=\"dataframe\">\n",
       "  <thead>\n",
       "    <tr style=\"text-align: right;\">\n",
       "      <th></th>\n",
       "      <th>hash</th>\n",
       "      <th>created_at</th>\n",
       "      <th>username</th>\n",
       "      <th>tweet</th>\n",
       "      <th>language</th>\n",
       "      <th>replies_count</th>\n",
       "      <th>retweets_count</th>\n",
       "      <th>likes_count</th>\n",
       "      <th>reply_to</th>\n",
       "      <th>hashtags</th>\n",
       "    </tr>\n",
       "  </thead>\n",
       "  <tbody>\n",
       "    <tr>\n",
       "      <th>0</th>\n",
       "      <td>#FightForHongKong</td>\n",
       "      <td>2020-08-28 10:23:06 Eastern Daylight Time</td>\n",
       "      <td>ginny81025554</td>\n",
       "      <td>@benedictrogers @NOW4humanity Thanks for speak...</td>\n",
       "      <td>en</td>\n",
       "      <td>0</td>\n",
       "      <td>1</td>\n",
       "      <td>2</td>\n",
       "      <td>[{'screen_name': 'benedictrogers', 'name': 'Be...</td>\n",
       "      <td>['fridaysforfreedom', 'fightforhongkong']</td>\n",
       "    </tr>\n",
       "    <tr>\n",
       "      <th>1</th>\n",
       "      <td>#FightForHongKong</td>\n",
       "      <td>2020-08-27 11:15:39 Eastern Daylight Time</td>\n",
       "      <td>dani_tasso</td>\n",
       "      <td>Razzismo e democrazia.   Sfaccettature del med...</td>\n",
       "      <td>it</td>\n",
       "      <td>1</td>\n",
       "      <td>0</td>\n",
       "      <td>2</td>\n",
       "      <td>[]</td>\n",
       "      <td>['blacklivesmatter', 'fightforhongkong', 'open...</td>\n",
       "    </tr>\n",
       "  </tbody>\n",
       "</table>\n",
       "</div>"
      ],
      "text/plain": [
       "                hash                                 created_at  \\\n",
       "0  #FightForHongKong  2020-08-28 10:23:06 Eastern Daylight Time   \n",
       "1  #FightForHongKong  2020-08-27 11:15:39 Eastern Daylight Time   \n",
       "\n",
       "        username                                              tweet language  \\\n",
       "0  ginny81025554  @benedictrogers @NOW4humanity Thanks for speak...       en   \n",
       "1     dani_tasso  Razzismo e democrazia.   Sfaccettature del med...       it   \n",
       "\n",
       "   replies_count  retweets_count  likes_count  \\\n",
       "0              0               1            2   \n",
       "1              1               0            2   \n",
       "\n",
       "                                            reply_to  \\\n",
       "0  [{'screen_name': 'benedictrogers', 'name': 'Be...   \n",
       "1                                                 []   \n",
       "\n",
       "                                            hashtags  \n",
       "0          ['fridaysforfreedom', 'fightforhongkong']  \n",
       "1  ['blacklivesmatter', 'fightforhongkong', 'open...  "
      ]
     },
     "execution_count": 6,
     "metadata": {},
     "output_type": "execute_result"
    }
   ],
   "source": [
    "df.head(2)"
   ]
  },
  {
   "cell_type": "code",
   "execution_count": 7,
   "metadata": {},
   "outputs": [
    {
     "data": {
      "text/plain": [
       "288416"
      ]
     },
     "execution_count": 7,
     "metadata": {},
     "output_type": "execute_result"
    }
   ],
   "source": [
    "len(df)"
   ]
  },
  {
   "cell_type": "code",
   "execution_count": 8,
   "metadata": {},
   "outputs": [
    {
     "data": {
      "text/plain": [
       "(288416, 10)"
      ]
     },
     "execution_count": 8,
     "metadata": {},
     "output_type": "execute_result"
    }
   ],
   "source": [
    "df.shape"
   ]
  },
  {
   "cell_type": "code",
   "execution_count": 9,
   "metadata": {},
   "outputs": [
    {
     "name": "stdout",
     "output_type": "stream",
     "text": [
      "<class 'pandas.core.frame.DataFrame'>\n",
      "RangeIndex: 288416 entries, 0 to 288415\n",
      "Data columns (total 10 columns):\n",
      " #   Column          Non-Null Count   Dtype \n",
      "---  ------          --------------   ----- \n",
      " 0   hash            288416 non-null  object\n",
      " 1   created_at      288416 non-null  object\n",
      " 2   username        288416 non-null  object\n",
      " 3   tweet           288416 non-null  object\n",
      " 4   language        288416 non-null  object\n",
      " 5   replies_count   288416 non-null  int64 \n",
      " 6   retweets_count  288416 non-null  int64 \n",
      " 7   likes_count     288416 non-null  int64 \n",
      " 8   reply_to        288416 non-null  object\n",
      " 9   hashtags        288416 non-null  object\n",
      "dtypes: int64(3), object(7)\n",
      "memory usage: 22.0+ MB\n"
     ]
    }
   ],
   "source": [
    "df.info()"
   ]
  },
  {
   "cell_type": "code",
   "execution_count": 10,
   "metadata": {},
   "outputs": [
    {
     "data": {
      "text/plain": [
       "False"
      ]
     },
     "execution_count": 10,
     "metadata": {},
     "output_type": "execute_result"
    }
   ],
   "source": [
    "#this is confirmed above but will double confirm\n",
    "df.isnull().values.any()"
   ]
  },
  {
   "cell_type": "markdown",
   "metadata": {},
   "source": [
    "**Data Defined**"
   ]
  },
  {
   "cell_type": "markdown",
   "metadata": {},
   "source": [
    "In this short section, we will highlight what the columns are referring too."
   ]
  },
  {
   "attachments": {
    "image-3.png": {
     "image/png": "[encoded data removed]"
    }
   },
   "cell_type": "markdown",
   "metadata": {},
   "source": [
    "![image-3.png](attachment:image-3.png)"
   ]
  },
  {
   "cell_type": "code",
   "execution_count": 77,
   "metadata": {},
   "outputs": [
    {
     "data": {
      "text/html": [
       "<div>\n",
       "<style scoped>\n",
       "    .dataframe tbody tr th:only-of-type {\n",
       "        vertical-align: middle;\n",
       "    }\n",
       "\n",
       "    .dataframe tbody tr th {\n",
       "        vertical-align: top;\n",
       "    }\n",
       "\n",
       "    .dataframe thead th {\n",
       "        text-align: right;\n",
       "    }\n",
       "</style>\n",
       "<table border=\"1\" class=\"dataframe\">\n",
       "  <thead>\n",
       "    <tr style=\"text-align: right;\">\n",
       "      <th></th>\n",
       "      <th>min</th>\n",
       "      <th>max</th>\n",
       "    </tr>\n",
       "  </thead>\n",
       "  <tbody>\n",
       "    <tr>\n",
       "      <th>hash</th>\n",
       "      <td>#FightForHongKong</td>\n",
       "      <td>#standwithhongkong</td>\n",
       "    </tr>\n",
       "    <tr>\n",
       "      <th>created_at</th>\n",
       "      <td>2020-05-31 00:00:00</td>\n",
       "      <td>2020-08-29 00:00:00</td>\n",
       "    </tr>\n",
       "    <tr>\n",
       "      <th>username</th>\n",
       "      <td>007hilo</td>\n",
       "      <td>zzzzz78395655</td>\n",
       "    </tr>\n",
       "    <tr>\n",
       "      <th>tweet</th>\n",
       "      <td>_watch   It is the c...</td>\n",
       "      <td>🧡 #standwithHongKong by financial way.</td>\n",
       "    </tr>\n",
       "    <tr>\n",
       "      <th>replies_count</th>\n",
       "      <td>0</td>\n",
       "      <td>3014</td>\n",
       "    </tr>\n",
       "    <tr>\n",
       "      <th>retweets_count</th>\n",
       "      <td>0</td>\n",
       "      <td>16023</td>\n",
       "    </tr>\n",
       "    <tr>\n",
       "      <th>likes_count</th>\n",
       "      <td>0</td>\n",
       "      <td>32479</td>\n",
       "    </tr>\n",
       "    <tr>\n",
       "      <th>reply_to</th>\n",
       "      <td>[]</td>\n",
       "      <td>[{'screen_name': 'zz60246384', 'name': 'zz', '...</td>\n",
       "    </tr>\n",
       "    <tr>\n",
       "      <th>hashtags</th>\n",
       "      <td>['01july2020', 'internetvideo', 'hkpolicebruta...</td>\n",
       "      <td>[]</td>\n",
       "    </tr>\n",
       "  </tbody>\n",
       "</table>\n",
       "</div>"
      ],
      "text/plain": [
       "                                                              min  \\\n",
       "hash                                            #FightForHongKong   \n",
       "created_at                                    2020-05-31 00:00:00   \n",
       "username                                                  007hilo   \n",
       "tweet                                     _watch   It is the c...   \n",
       "replies_count                                                   0   \n",
       "retweets_count                                                  0   \n",
       "likes_count                                                     0   \n",
       "reply_to                                                       []   \n",
       "hashtags        ['01july2020', 'internetvideo', 'hkpolicebruta...   \n",
       "\n",
       "                                                              max  \n",
       "hash                                           #standwithhongkong  \n",
       "created_at                                    2020-08-29 00:00:00  \n",
       "username                                            zzzzz78395655  \n",
       "tweet                      🧡 #standwithHongKong by financial way.  \n",
       "replies_count                                                3014  \n",
       "retweets_count                                              16023  \n",
       "likes_count                                                 32479  \n",
       "reply_to        [{'screen_name': 'zz60246384', 'name': 'zz', '...  \n",
       "hashtags                                                       []  "
      ]
     },
     "execution_count": 77,
     "metadata": {},
     "output_type": "execute_result"
    }
   ],
   "source": [
    "#Range of values per column\n",
    "df.agg([min,max]).T"
   ]
  },
  {
   "cell_type": "code",
   "execution_count": 78,
   "metadata": {},
   "outputs": [
    {
     "data": {
      "text/plain": [
       "hash              0\n",
       "created_at        0\n",
       "username          0\n",
       "tweet             0\n",
       "replies_count     0\n",
       "retweets_count    0\n",
       "likes_count       0\n",
       "reply_to          0\n",
       "hashtags          0\n",
       "dtype: int64"
      ]
     },
     "execution_count": 78,
     "metadata": {},
     "output_type": "execute_result"
    }
   ],
   "source": [
    "#Checking for nulls\n",
    "df.isnull().sum()"
   ]
  },
  {
   "cell_type": "code",
   "execution_count": 11,
   "metadata": {},
   "outputs": [
    {
     "data": {
      "text/plain": [
       "hash              object\n",
       "created_at        object\n",
       "username          object\n",
       "tweet             object\n",
       "language          object\n",
       "replies_count      int64\n",
       "retweets_count     int64\n",
       "likes_count        int64\n",
       "reply_to          object\n",
       "hashtags          object\n",
       "dtype: object"
      ]
     },
     "execution_count": 11,
     "metadata": {},
     "output_type": "execute_result"
    }
   ],
   "source": [
    "#Checking the datatypes\n",
    "df.dtypes"
   ]
  },
  {
   "cell_type": "markdown",
   "metadata": {},
   "source": [
    "The `created_at` column is an object; I will convert it to `datetime`."
   ]
  },
  {
   "cell_type": "code",
   "execution_count": 12,
   "metadata": {},
   "outputs": [],
   "source": [
    "new_date = df['created_at']\n",
    "new_date = new_date.str.split(expand=True)\n",
    "new_date = new_date[0]\n",
    "new_date = pd.to_datetime(new_date)"
   ]
  },
  {
   "cell_type": "code",
   "execution_count": 13,
   "metadata": {},
   "outputs": [
    {
     "data": {
      "text/html": [
       "<div>\n",
       "<style scoped>\n",
       "    .dataframe tbody tr th:only-of-type {\n",
       "        vertical-align: middle;\n",
       "    }\n",
       "\n",
       "    .dataframe tbody tr th {\n",
       "        vertical-align: top;\n",
       "    }\n",
       "\n",
       "    .dataframe thead th {\n",
       "        text-align: right;\n",
       "    }\n",
       "</style>\n",
       "<table border=\"1\" class=\"dataframe\">\n",
       "  <thead>\n",
       "    <tr style=\"text-align: right;\">\n",
       "      <th></th>\n",
       "      <th>hash</th>\n",
       "      <th>created_at</th>\n",
       "      <th>username</th>\n",
       "      <th>tweet</th>\n",
       "      <th>language</th>\n",
       "      <th>replies_count</th>\n",
       "      <th>retweets_count</th>\n",
       "      <th>likes_count</th>\n",
       "      <th>reply_to</th>\n",
       "      <th>hashtags</th>\n",
       "    </tr>\n",
       "  </thead>\n",
       "  <tbody>\n",
       "    <tr>\n",
       "      <th>0</th>\n",
       "      <td>#FightForHongKong</td>\n",
       "      <td>2020-08-28</td>\n",
       "      <td>ginny81025554</td>\n",
       "      <td>@benedictrogers @NOW4humanity Thanks for speak...</td>\n",
       "      <td>en</td>\n",
       "      <td>0</td>\n",
       "      <td>1</td>\n",
       "      <td>2</td>\n",
       "      <td>[{'screen_name': 'benedictrogers', 'name': 'Be...</td>\n",
       "      <td>['fridaysforfreedom', 'fightforhongkong']</td>\n",
       "    </tr>\n",
       "    <tr>\n",
       "      <th>1</th>\n",
       "      <td>#FightForHongKong</td>\n",
       "      <td>2020-08-27</td>\n",
       "      <td>dani_tasso</td>\n",
       "      <td>Razzismo e democrazia.   Sfaccettature del med...</td>\n",
       "      <td>it</td>\n",
       "      <td>1</td>\n",
       "      <td>0</td>\n",
       "      <td>2</td>\n",
       "      <td>[]</td>\n",
       "      <td>['blacklivesmatter', 'fightforhongkong', 'open...</td>\n",
       "    </tr>\n",
       "  </tbody>\n",
       "</table>\n",
       "</div>"
      ],
      "text/plain": [
       "                hash created_at       username  \\\n",
       "0  #FightForHongKong 2020-08-28  ginny81025554   \n",
       "1  #FightForHongKong 2020-08-27     dani_tasso   \n",
       "\n",
       "                                               tweet language  replies_count  \\\n",
       "0  @benedictrogers @NOW4humanity Thanks for speak...       en              0   \n",
       "1  Razzismo e democrazia.   Sfaccettature del med...       it              1   \n",
       "\n",
       "   retweets_count  likes_count  \\\n",
       "0               1            2   \n",
       "1               0            2   \n",
       "\n",
       "                                            reply_to  \\\n",
       "0  [{'screen_name': 'benedictrogers', 'name': 'Be...   \n",
       "1                                                 []   \n",
       "\n",
       "                                            hashtags  \n",
       "0          ['fridaysforfreedom', 'fightforhongkong']  \n",
       "1  ['blacklivesmatter', 'fightforhongkong', 'open...  "
      ]
     },
     "execution_count": 13,
     "metadata": {},
     "output_type": "execute_result"
    }
   ],
   "source": [
    "df['created_at'] = new_date\n",
    "df.head(2)"
   ]
  },
  {
   "cell_type": "code",
   "execution_count": 14,
   "metadata": {},
   "outputs": [
    {
     "data": {
      "text/plain": [
       "hash                      object\n",
       "created_at        datetime64[ns]\n",
       "username                  object\n",
       "tweet                     object\n",
       "language                  object\n",
       "replies_count              int64\n",
       "retweets_count             int64\n",
       "likes_count                int64\n",
       "reply_to                  object\n",
       "hashtags                  object\n",
       "dtype: object"
      ]
     },
     "execution_count": 14,
     "metadata": {},
     "output_type": "execute_result"
    }
   ],
   "source": [
    "df.dtypes"
   ]
  },
  {
   "cell_type": "code",
   "execution_count": 15,
   "metadata": {},
   "outputs": [
    {
     "data": {
      "text/plain": [
       "hash                  12\n",
       "created_at            91\n",
       "username           45111\n",
       "tweet             221205\n",
       "language              51\n",
       "replies_count        217\n",
       "retweets_count       881\n",
       "likes_count         1110\n",
       "reply_to           27555\n",
       "hashtags           77715\n",
       "dtype: int64"
      ]
     },
     "execution_count": 15,
     "metadata": {},
     "output_type": "execute_result"
    }
   ],
   "source": [
    "#count of unique values for every column, regardless of data type\n",
    "df.nunique()"
   ]
  },
  {
   "cell_type": "markdown",
   "metadata": {},
   "source": [
    "The `hash` number looks correct as that's how many hashtags were pulled."
   ]
  },
  {
   "cell_type": "code",
   "execution_count": 16,
   "metadata": {},
   "outputs": [
    {
     "data": {
      "text/plain": [
       "array(['#FightForHongKong', '#HongKongProtest', '#PrayForHongkong',\n",
       "       '#WeAreNotAlone', '#nochinaextradition', '#standwithhongkong',\n",
       "       '#hkprotests', '#freehongkong', '#hkpolicebrutality',\n",
       "       '#hkpolicestate', '#HKpoliceterrorist', '#hkpoliceterrorism'],\n",
       "      dtype=object)"
      ]
     },
     "execution_count": 16,
     "metadata": {},
     "output_type": "execute_result"
    }
   ],
   "source": [
    "df['hash'].unique()"
   ]
  },
  {
   "cell_type": "markdown",
   "metadata": {},
   "source": [
    "The `created_at` number also looks correct as **3 months after the implimentation of the law was the range in which the tweets were pulled** ."
   ]
  },
  {
   "cell_type": "code",
   "execution_count": 17,
   "metadata": {},
   "outputs": [
    {
     "name": "stdout",
     "output_type": "stream",
     "text": [
      "   2020-05-31 00:00:00  | Beginning \n",
      "   2020-08-29 00:00:00  | End\n"
     ]
    }
   ],
   "source": [
    "print('  ',df['created_at'].min(), ' | Beginning', '\\n',\n",
    "     ' ',df['created_at'].max(), ' | End')"
   ]
  },
  {
   "cell_type": "markdown",
   "metadata": {},
   "source": [
    "The `username` number also makes sense."
   ]
  },
  {
   "cell_type": "code",
   "execution_count": 18,
   "metadata": {},
   "outputs": [
    {
     "name": "stdout",
     "output_type": "stream",
     "text": [
      "A single user on average tweeted 6.0 times in the course of 3 months.\n"
     ]
    }
   ],
   "source": [
    "print('A single user on average tweeted',round(len(df) / len(df['username'].unique()),0), 'times in the course of 3 months.')"
   ]
  },
  {
   "cell_type": "markdown",
   "metadata": {},
   "source": [
    "Most of the others aren't important but I believe **the `tweet` number should align with the length of the data frame to ensure there are no duplicates.**"
   ]
  },
  {
   "cell_type": "code",
   "execution_count": 19,
   "metadata": {},
   "outputs": [
    {
     "name": "stdout",
     "output_type": "stream",
     "text": [
      "There may be 67,211 duplicates to look into.\n"
     ]
    }
   ],
   "source": [
    "print('There may be', \"{:,}\".format(len(df) - len(df['tweet'].unique())), 'duplicates to look into.')"
   ]
  },
  {
   "cell_type": "markdown",
   "metadata": {},
   "source": [
    "We will take a **look at where duplicates** may be found with the **`tweet` column**. Our initial focus is on **when a \"tweeter\"** (also known a person) **used multiple hashtags**.\n",
    "\n",
    "A seperate data frame will be used to ensure the original is not compromised."
   ]
  },
  {
   "cell_type": "code",
   "execution_count": 20,
   "metadata": {},
   "outputs": [
    {
     "data": {
      "text/plain": [
       "288416"
      ]
     },
     "execution_count": 20,
     "metadata": {},
     "output_type": "execute_result"
    }
   ],
   "source": [
    "df_tweets = df.copy()\n",
    "df_tweets = pd.DataFrame(df_tweets)\n",
    "len(df_tweets)"
   ]
  },
  {
   "cell_type": "code",
   "execution_count": 21,
   "metadata": {},
   "outputs": [
    {
     "data": {
      "text/plain": [
       "288416"
      ]
     },
     "execution_count": 21,
     "metadata": {},
     "output_type": "execute_result"
    }
   ],
   "source": [
    "duplicated_tf = df_tweets.duplicated(subset=['tweet'])\n",
    "duplicated_tf = pd.DataFrame(duplicated_tf)\n",
    "len(duplicated_tf)"
   ]
  },
  {
   "cell_type": "code",
   "execution_count": 22,
   "metadata": {},
   "outputs": [
    {
     "data": {
      "text/html": [
       "<div>\n",
       "<style scoped>\n",
       "    .dataframe tbody tr th:only-of-type {\n",
       "        vertical-align: middle;\n",
       "    }\n",
       "\n",
       "    .dataframe tbody tr th {\n",
       "        vertical-align: top;\n",
       "    }\n",
       "\n",
       "    .dataframe thead th {\n",
       "        text-align: right;\n",
       "    }\n",
       "</style>\n",
       "<table border=\"1\" class=\"dataframe\">\n",
       "  <thead>\n",
       "    <tr style=\"text-align: right;\">\n",
       "      <th></th>\n",
       "      <th>Duplicated</th>\n",
       "    </tr>\n",
       "  </thead>\n",
       "  <tbody>\n",
       "    <tr>\n",
       "      <th>288413</th>\n",
       "      <td>False</td>\n",
       "    </tr>\n",
       "    <tr>\n",
       "      <th>288414</th>\n",
       "      <td>False</td>\n",
       "    </tr>\n",
       "    <tr>\n",
       "      <th>288415</th>\n",
       "      <td>True</td>\n",
       "    </tr>\n",
       "  </tbody>\n",
       "</table>\n",
       "</div>"
      ],
      "text/plain": [
       "        Duplicated\n",
       "288413       False\n",
       "288414       False\n",
       "288415        True"
      ]
     },
     "execution_count": 22,
     "metadata": {},
     "output_type": "execute_result"
    }
   ],
   "source": [
    "duplicated_tf.columns = ['Duplicated']\n",
    "duplicated_tf.tail(3)"
   ]
  },
  {
   "cell_type": "code",
   "execution_count": 23,
   "metadata": {},
   "outputs": [
    {
     "data": {
      "text/html": [
       "<div>\n",
       "<style scoped>\n",
       "    .dataframe tbody tr th:only-of-type {\n",
       "        vertical-align: middle;\n",
       "    }\n",
       "\n",
       "    .dataframe tbody tr th {\n",
       "        vertical-align: top;\n",
       "    }\n",
       "\n",
       "    .dataframe thead th {\n",
       "        text-align: right;\n",
       "    }\n",
       "</style>\n",
       "<table border=\"1\" class=\"dataframe\">\n",
       "  <thead>\n",
       "    <tr style=\"text-align: right;\">\n",
       "      <th></th>\n",
       "      <th>Duplicated</th>\n",
       "      <th>Duplicated_TorF</th>\n",
       "    </tr>\n",
       "  </thead>\n",
       "  <tbody>\n",
       "    <tr>\n",
       "      <th>288413</th>\n",
       "      <td>False</td>\n",
       "      <td>0</td>\n",
       "    </tr>\n",
       "    <tr>\n",
       "      <th>288414</th>\n",
       "      <td>False</td>\n",
       "      <td>0</td>\n",
       "    </tr>\n",
       "    <tr>\n",
       "      <th>288415</th>\n",
       "      <td>True</td>\n",
       "      <td>1</td>\n",
       "    </tr>\n",
       "  </tbody>\n",
       "</table>\n",
       "</div>"
      ],
      "text/plain": [
       "        Duplicated  Duplicated_TorF\n",
       "288413       False                0\n",
       "288414       False                0\n",
       "288415        True                1"
      ]
     },
     "execution_count": 23,
     "metadata": {},
     "output_type": "execute_result"
    }
   ],
   "source": [
    "num = {True:1,False:0}\n",
    "duplicated_tf['Duplicated_TorF'] = duplicated_tf['Duplicated'].map(num)\n",
    "duplicated_tf.tail(3)"
   ]
  },
  {
   "cell_type": "code",
   "execution_count": 24,
   "metadata": {},
   "outputs": [],
   "source": [
    "duplicated_tf = duplicated_tf.drop(columns=['Duplicated'])"
   ]
  },
  {
   "cell_type": "code",
   "execution_count": 25,
   "metadata": {},
   "outputs": [],
   "source": [
    "df_tweets_w_dup = pd.concat([df_tweets,duplicated_tf],\n",
    "                    axis = 1, ignore_index=False)\n",
    "df_tweets_w_dup = df_tweets_w_dup.reset_index(drop=True)"
   ]
  },
  {
   "cell_type": "code",
   "execution_count": 26,
   "metadata": {},
   "outputs": [
    {
     "data": {
      "text/html": [
       "<div>\n",
       "<style scoped>\n",
       "    .dataframe tbody tr th:only-of-type {\n",
       "        vertical-align: middle;\n",
       "    }\n",
       "\n",
       "    .dataframe tbody tr th {\n",
       "        vertical-align: top;\n",
       "    }\n",
       "\n",
       "    .dataframe thead th {\n",
       "        text-align: right;\n",
       "    }\n",
       "</style>\n",
       "<table border=\"1\" class=\"dataframe\">\n",
       "  <thead>\n",
       "    <tr style=\"text-align: right;\">\n",
       "      <th></th>\n",
       "      <th>hash</th>\n",
       "      <th>created_at</th>\n",
       "      <th>username</th>\n",
       "      <th>tweet</th>\n",
       "      <th>language</th>\n",
       "      <th>replies_count</th>\n",
       "      <th>retweets_count</th>\n",
       "      <th>likes_count</th>\n",
       "      <th>reply_to</th>\n",
       "      <th>hashtags</th>\n",
       "      <th>Duplicated_TorF</th>\n",
       "    </tr>\n",
       "  </thead>\n",
       "  <tbody>\n",
       "    <tr>\n",
       "      <th>288414</th>\n",
       "      <td>#hkpoliceterrorism</td>\n",
       "      <td>2020-05-31</td>\n",
       "      <td>bluedreamsplan2</td>\n",
       "      <td>@OzraeliAvi China try hard to link up the #Min...</td>\n",
       "      <td>en</td>\n",
       "      <td>0</td>\n",
       "      <td>0</td>\n",
       "      <td>1</td>\n",
       "      <td>[{'screen_name': 'OzraeliAvi', 'name': 'Avi Ye...</td>\n",
       "      <td>['minnesotariots', 'hongkongprotests', 'minnia...</td>\n",
       "      <td>0</td>\n",
       "    </tr>\n",
       "    <tr>\n",
       "      <th>288415</th>\n",
       "      <td>#hkpoliceterrorism</td>\n",
       "      <td>2020-05-31</td>\n",
       "      <td>jack83352493</td>\n",
       "      <td>#HongKongProtest #StandwithHK #HKPoliceTerrori...</td>\n",
       "      <td>und</td>\n",
       "      <td>0</td>\n",
       "      <td>0</td>\n",
       "      <td>0</td>\n",
       "      <td>[]</td>\n",
       "      <td>['hongkongprotest', 'standwithhk', 'hkpolicete...</td>\n",
       "      <td>1</td>\n",
       "    </tr>\n",
       "  </tbody>\n",
       "</table>\n",
       "</div>"
      ],
      "text/plain": [
       "                      hash created_at         username  \\\n",
       "288414  #hkpoliceterrorism 2020-05-31  bluedreamsplan2   \n",
       "288415  #hkpoliceterrorism 2020-05-31     jack83352493   \n",
       "\n",
       "                                                    tweet language  \\\n",
       "288414  @OzraeliAvi China try hard to link up the #Min...       en   \n",
       "288415  #HongKongProtest #StandwithHK #HKPoliceTerrori...      und   \n",
       "\n",
       "        replies_count  retweets_count  likes_count  \\\n",
       "288414              0               0            1   \n",
       "288415              0               0            0   \n",
       "\n",
       "                                                 reply_to  \\\n",
       "288414  [{'screen_name': 'OzraeliAvi', 'name': 'Avi Ye...   \n",
       "288415                                                 []   \n",
       "\n",
       "                                                 hashtags  Duplicated_TorF  \n",
       "288414  ['minnesotariots', 'hongkongprotests', 'minnia...                0  \n",
       "288415  ['hongkongprotest', 'standwithhk', 'hkpolicete...                1  "
      ]
     },
     "execution_count": 26,
     "metadata": {},
     "output_type": "execute_result"
    }
   ],
   "source": [
    "df_tweets_w_dup.tail(2)"
   ]
  },
  {
   "cell_type": "code",
   "execution_count": 27,
   "metadata": {
    "scrolled": true
   },
   "outputs": [
    {
     "name": "stdout",
     "output_type": "stream",
     "text": [
      " Ensuring we have the same # of tweets after classification. \n",
      " 0 | This should be a Zero change \n",
      " 2 | The Duplicated Column should have 2 unique values 0,1\n"
     ]
    }
   ],
   "source": [
    "print(' Ensuring we have the same # of tweets after classification.','\\n', \n",
    "      round((( ( len(df_tweets_w_dup) / len(df) ) - 1 ) * 100)), '| This should be a Zero change','\\n',\n",
    "     df_tweets_w_dup['Duplicated_TorF'].nunique(), '| The Duplicated Column should have 2 unique values 0,1')"
   ]
  },
  {
   "cell_type": "markdown",
   "metadata": {},
   "source": [
    "Ok. Let's take a quick look at some of these duplicates."
   ]
  },
  {
   "cell_type": "code",
   "execution_count": 28,
   "metadata": {},
   "outputs": [
    {
     "data": {
      "text/plain": [
       "288416"
      ]
     },
     "execution_count": 28,
     "metadata": {},
     "output_type": "execute_result"
    }
   ],
   "source": [
    "len(df_tweets_w_dup)"
   ]
  },
  {
   "cell_type": "code",
   "execution_count": 29,
   "metadata": {},
   "outputs": [
    {
     "data": {
      "text/html": [
       "<div>\n",
       "<style scoped>\n",
       "    .dataframe tbody tr th:only-of-type {\n",
       "        vertical-align: middle;\n",
       "    }\n",
       "\n",
       "    .dataframe tbody tr th {\n",
       "        vertical-align: top;\n",
       "    }\n",
       "\n",
       "    .dataframe thead th {\n",
       "        text-align: right;\n",
       "    }\n",
       "</style>\n",
       "<table border=\"1\" class=\"dataframe\">\n",
       "  <thead>\n",
       "    <tr style=\"text-align: right;\">\n",
       "      <th></th>\n",
       "      <th>hash</th>\n",
       "      <th>created_at</th>\n",
       "      <th>username</th>\n",
       "      <th>tweet</th>\n",
       "      <th>language</th>\n",
       "      <th>replies_count</th>\n",
       "      <th>retweets_count</th>\n",
       "      <th>likes_count</th>\n",
       "      <th>reply_to</th>\n",
       "      <th>hashtags</th>\n",
       "      <th>Duplicated_TorF</th>\n",
       "    </tr>\n",
       "  </thead>\n",
       "  <tbody>\n",
       "    <tr>\n",
       "      <th>240604</th>\n",
       "      <td>#freehongkong</td>\n",
       "      <td>2020-06-28</td>\n",
       "      <td>lilacrhk</td>\n",
       "      <td>https://t.co/01A6CwhNfM  #standardwithHK #Sta...</td>\n",
       "      <td>und</td>\n",
       "      <td>0</td>\n",
       "      <td>0</td>\n",
       "      <td>0</td>\n",
       "      <td>[]</td>\n",
       "      <td>['standardwithhk', 'standwithhongkong', 'freeh...</td>\n",
       "      <td>1</td>\n",
       "    </tr>\n",
       "    <tr>\n",
       "      <th>176495</th>\n",
       "      <td>#hkprotests</td>\n",
       "      <td>2020-06-20</td>\n",
       "      <td>jjjlll</td>\n",
       "      <td>https://t.co/1EqQV5LDL5 #HongKong #HKProtests...</td>\n",
       "      <td>und</td>\n",
       "      <td>0</td>\n",
       "      <td>0</td>\n",
       "      <td>2</td>\n",
       "      <td>[]</td>\n",
       "      <td>['hongkong', 'hkprotests', 'fightforfreedom', ...</td>\n",
       "      <td>1</td>\n",
       "    </tr>\n",
       "    <tr>\n",
       "      <th>261737</th>\n",
       "      <td>#hkpolicebrutality</td>\n",
       "      <td>2020-06-13</td>\n",
       "      <td>1238cheng</td>\n",
       "      <td>https://t.co/1kz5fmNGWx  #StandWithHongKong #...</td>\n",
       "      <td>en</td>\n",
       "      <td>0</td>\n",
       "      <td>0</td>\n",
       "      <td>0</td>\n",
       "      <td>[]</td>\n",
       "      <td>['standwithhongkong', 'hkpolicebrutality']</td>\n",
       "      <td>1</td>\n",
       "    </tr>\n",
       "    <tr>\n",
       "      <th>174843</th>\n",
       "      <td>#hkprotests</td>\n",
       "      <td>2020-08-29</td>\n",
       "      <td>ksin1984</td>\n",
       "      <td>https://t.co/2FxZRKLRuf  #save12hkyouth #Stan...</td>\n",
       "      <td>und</td>\n",
       "      <td>0</td>\n",
       "      <td>1</td>\n",
       "      <td>3</td>\n",
       "      <td>[]</td>\n",
       "      <td>['save12hkyouth', 'standwithhongkong', 'hkprot...</td>\n",
       "      <td>1</td>\n",
       "    </tr>\n",
       "    <tr>\n",
       "      <th>211971</th>\n",
       "      <td>#freehongkong</td>\n",
       "      <td>2020-07-17</td>\n",
       "      <td>lilacrhk</td>\n",
       "      <td>https://t.co/2Gao97jVzl  #StandWithHongKong #...</td>\n",
       "      <td>und</td>\n",
       "      <td>0</td>\n",
       "      <td>0</td>\n",
       "      <td>0</td>\n",
       "      <td>[]</td>\n",
       "      <td>['standwithhongkong', 'standwithhk', 'freehong...</td>\n",
       "      <td>1</td>\n",
       "    </tr>\n",
       "    <tr>\n",
       "      <th>...</th>\n",
       "      <td>...</td>\n",
       "      <td>...</td>\n",
       "      <td>...</td>\n",
       "      <td>...</td>\n",
       "      <td>...</td>\n",
       "      <td>...</td>\n",
       "      <td>...</td>\n",
       "      <td>...</td>\n",
       "      <td>...</td>\n",
       "      <td>...</td>\n",
       "      <td>...</td>\n",
       "    </tr>\n",
       "    <tr>\n",
       "      <th>216138</th>\n",
       "      <td>#freehongkong</td>\n",
       "      <td>2020-07-13</td>\n",
       "      <td>oneeyeh</td>\n",
       "      <td>🤬🤬🤬🤬😭😭😭 #FreeHongKong  #StandWithHongKong   ht...</td>\n",
       "      <td>und</td>\n",
       "      <td>0</td>\n",
       "      <td>0</td>\n",
       "      <td>0</td>\n",
       "      <td>[]</td>\n",
       "      <td>['freehongkong', 'standwithhongkong']</td>\n",
       "      <td>1</td>\n",
       "    </tr>\n",
       "    <tr>\n",
       "      <th>280873</th>\n",
       "      <td>#hkpolicestate</td>\n",
       "      <td>2020-06-12</td>\n",
       "      <td>can_johnhk</td>\n",
       "      <td>🤯That’s just insane. He obviously thinks #Blac...</td>\n",
       "      <td>en</td>\n",
       "      <td>0</td>\n",
       "      <td>0</td>\n",
       "      <td>0</td>\n",
       "      <td>[]</td>\n",
       "      <td>['blacklivesmatter', 'hkpolicebrutality', 'hkp...</td>\n",
       "      <td>1</td>\n",
       "    </tr>\n",
       "    <tr>\n",
       "      <th>236528</th>\n",
       "      <td>#freehongkong</td>\n",
       "      <td>2020-07-01</td>\n",
       "      <td>nick86544272</td>\n",
       "      <td>🥂 #FreeHongKong  #StandWithHongKong  https://t...</td>\n",
       "      <td>und</td>\n",
       "      <td>0</td>\n",
       "      <td>0</td>\n",
       "      <td>0</td>\n",
       "      <td>[]</td>\n",
       "      <td>['freehongkong', 'standwithhongkong']</td>\n",
       "      <td>1</td>\n",
       "    </tr>\n",
       "    <tr>\n",
       "      <th>198442</th>\n",
       "      <td>#freehongkong</td>\n",
       "      <td>2020-08-07</td>\n",
       "      <td>kvckelvin123</td>\n",
       "      <td>🥲 #Policebruatlity #StandWithHongKong #FreeHon...</td>\n",
       "      <td>und</td>\n",
       "      <td>0</td>\n",
       "      <td>0</td>\n",
       "      <td>0</td>\n",
       "      <td>[]</td>\n",
       "      <td>['policebruatlity', 'standwithhongkong', 'free...</td>\n",
       "      <td>1</td>\n",
       "    </tr>\n",
       "    <tr>\n",
       "      <th>220613</th>\n",
       "      <td>#freehongkong</td>\n",
       "      <td>2020-07-11</td>\n",
       "      <td>tynokty</td>\n",
       "      <td>🥺 #StandwithHongKong #FreeHongKong</td>\n",
       "      <td>und</td>\n",
       "      <td>0</td>\n",
       "      <td>0</td>\n",
       "      <td>0</td>\n",
       "      <td>[]</td>\n",
       "      <td>['standwithhongkong', 'freehongkong']</td>\n",
       "      <td>1</td>\n",
       "    </tr>\n",
       "  </tbody>\n",
       "</table>\n",
       "<p>67211 rows × 11 columns</p>\n",
       "</div>"
      ],
      "text/plain": [
       "                      hash created_at      username  \\\n",
       "240604       #freehongkong 2020-06-28      lilacrhk   \n",
       "176495         #hkprotests 2020-06-20        jjjlll   \n",
       "261737  #hkpolicebrutality 2020-06-13     1238cheng   \n",
       "174843         #hkprotests 2020-08-29      ksin1984   \n",
       "211971       #freehongkong 2020-07-17      lilacrhk   \n",
       "...                    ...        ...           ...   \n",
       "216138       #freehongkong 2020-07-13       oneeyeh   \n",
       "280873      #hkpolicestate 2020-06-12    can_johnhk   \n",
       "236528       #freehongkong 2020-07-01  nick86544272   \n",
       "198442       #freehongkong 2020-08-07  kvckelvin123   \n",
       "220613       #freehongkong 2020-07-11       tynokty   \n",
       "\n",
       "                                                    tweet language  \\\n",
       "240604   https://t.co/01A6CwhNfM  #standardwithHK #Sta...      und   \n",
       "176495   https://t.co/1EqQV5LDL5 #HongKong #HKProtests...      und   \n",
       "261737   https://t.co/1kz5fmNGWx  #StandWithHongKong #...       en   \n",
       "174843   https://t.co/2FxZRKLRuf  #save12hkyouth #Stan...      und   \n",
       "211971   https://t.co/2Gao97jVzl  #StandWithHongKong #...      und   \n",
       "...                                                   ...      ...   \n",
       "216138  🤬🤬🤬🤬😭😭😭 #FreeHongKong  #StandWithHongKong   ht...      und   \n",
       "280873  🤯That’s just insane. He obviously thinks #Blac...       en   \n",
       "236528  🥂 #FreeHongKong  #StandWithHongKong  https://t...      und   \n",
       "198442  🥲 #Policebruatlity #StandWithHongKong #FreeHon...      und   \n",
       "220613                 🥺 #StandwithHongKong #FreeHongKong      und   \n",
       "\n",
       "        replies_count  retweets_count  likes_count reply_to  \\\n",
       "240604              0               0            0       []   \n",
       "176495              0               0            2       []   \n",
       "261737              0               0            0       []   \n",
       "174843              0               1            3       []   \n",
       "211971              0               0            0       []   \n",
       "...               ...             ...          ...      ...   \n",
       "216138              0               0            0       []   \n",
       "280873              0               0            0       []   \n",
       "236528              0               0            0       []   \n",
       "198442              0               0            0       []   \n",
       "220613              0               0            0       []   \n",
       "\n",
       "                                                 hashtags  Duplicated_TorF  \n",
       "240604  ['standardwithhk', 'standwithhongkong', 'freeh...                1  \n",
       "176495  ['hongkong', 'hkprotests', 'fightforfreedom', ...                1  \n",
       "261737         ['standwithhongkong', 'hkpolicebrutality']                1  \n",
       "174843  ['save12hkyouth', 'standwithhongkong', 'hkprot...                1  \n",
       "211971  ['standwithhongkong', 'standwithhk', 'freehong...                1  \n",
       "...                                                   ...              ...  \n",
       "216138              ['freehongkong', 'standwithhongkong']                1  \n",
       "280873  ['blacklivesmatter', 'hkpolicebrutality', 'hkp...                1  \n",
       "236528              ['freehongkong', 'standwithhongkong']                1  \n",
       "198442  ['policebruatlity', 'standwithhongkong', 'free...                1  \n",
       "220613              ['standwithhongkong', 'freehongkong']                1  \n",
       "\n",
       "[67211 rows x 11 columns]"
      ]
     },
     "execution_count": 29,
     "metadata": {},
     "output_type": "execute_result"
    }
   ],
   "source": [
    "df_tweets_w_dup.loc[df_tweets_w_dup['Duplicated_TorF'] == 1].sort_values(by=['tweet'])"
   ]
  },
  {
   "cell_type": "code",
   "execution_count": 30,
   "metadata": {},
   "outputs": [
    {
     "data": {
      "text/plain": [
       "288416"
      ]
     },
     "execution_count": 30,
     "metadata": {},
     "output_type": "execute_result"
    }
   ],
   "source": [
    "len(df_tweets_w_dup)"
   ]
  },
  {
   "cell_type": "markdown",
   "metadata": {},
   "source": [
    "I would now like to **investigate the languages herein.**"
   ]
  },
  {
   "cell_type": "code",
   "execution_count": 31,
   "metadata": {},
   "outputs": [
    {
     "data": {
      "text/plain": [
       "<AxesSubplot:xlabel='Language Abbrevation', ylabel='# of observed Tweets'>"
      ]
     },
     "execution_count": 31,
     "metadata": {},
     "output_type": "execute_result"
    },
    {
     "data": {
      "image/png": "[encoded data removed]",
      "text/plain": [
       "<Figure size 1080x864 with 1 Axes>"
      ]
     },
     "metadata": {},
     "output_type": "display_data"
    }
   ],
   "source": [
    "sns.set_style('darkgrid')\n",
    "lang = pd.value_counts(df_tweets_w_dup['language'].values, sort=True)\n",
    "lang = lang.sort_values(ascending=False)\n",
    "plt.subplots(figsize=(15, 12))\n",
    "plt.ylabel('# of observed Tweets')\n",
    "plt.xlabel('Language Abbrevation')\n",
    "lang.plot.bar(color='black')"
   ]
  },
  {
   "cell_type": "code",
   "execution_count": 32,
   "metadata": {},
   "outputs": [
    {
     "data": {
      "text/plain": [
       "en     194087\n",
       "und     69375\n",
       "ja       8715\n",
       "zh       7327\n",
       "tl       1254\n",
       "hi       1207\n",
       "fr       1046\n",
       "es        908\n",
       "de        892\n",
       "in        507\n",
       "Name: language, dtype: int64"
      ]
     },
     "execution_count": 32,
     "metadata": {},
     "output_type": "execute_result"
    }
   ],
   "source": [
    "df_tweets_w_dup['language'].value_counts().head(10)"
   ]
  },
  {
   "cell_type": "code",
   "execution_count": 33,
   "metadata": {},
   "outputs": [
    {
     "data": {
      "text/plain": [
       "en     0.67\n",
       "und    0.24\n",
       "ja     0.03\n",
       "zh     0.03\n",
       "tl     0.00\n",
       "Name: language, dtype: float64"
      ]
     },
     "execution_count": 33,
     "metadata": {},
     "output_type": "execute_result"
    }
   ],
   "source": [
    "lang_count = df_tweets_w_dup['language']\n",
    "round(lang_count.value_counts(normalize=True),2).head()"
   ]
  },
  {
   "cell_type": "markdown",
   "metadata": {},
   "source": [
    "**`en` & `und` is contributing 91%. While `zh`'s (Mandarin Chinese) contribution is only 3%, Mandarin Chinese is important; I will unfortunately have to pass as 3% is unlikely to move the analysis outcome.**\n",
    "\n",
    "**`und` refers to unknown. I am unsure as to what implications removing would do. Let's see what is \"unknown\".**"
   ]
  },
  {
   "cell_type": "code",
   "execution_count": 34,
   "metadata": {},
   "outputs": [
    {
     "data": {
      "text/plain": [
       "9       https://t.co/8lgfzmGtav   #lukashenko #Tikhan...\n",
       "17     #FreeAgness #FightForFreedom #StandWithHongKon...\n",
       "18     #Hongkongers  #hongkong #beijing #china #HongK...\n",
       "20     #boycottchina #hongkong #freehk #boycottmulan ...\n",
       "21      https://t.co/B5KWeYZE6t #boycottchina #hongko...\n",
       "33     #umbrellamovement #hongkongprotest #hkhumanrig...\n",
       "37            #FightForHongKong  https://t.co/C5dAXctB7X\n",
       "39                   @yasmine_bw19 #FightForHongKong ✨✋🏼\n",
       "40     #香港 #hongkong #hongkongprotest #hkprotest #黑警 ...\n",
       "42     #白紙文宣行動  #白紙文宣 #whitepaperterror #fightforhong...\n",
       "43     @StateDept @joshuawongcf @SecPompeo ✌️#FightFo...\n",
       "44     @HongKongPLG @AngelineChanHK #UnitedWeStand  #...\n",
       "48                                     #fightforHongkong\n",
       "50     #Hongkongers  #hongkong #KnockoutBlow #beijing...\n",
       "52                  #FightForHongKong  #HongKongProtests\n",
       "55     #boycottchina #hongkong #freehk #boycottmulan ...\n",
       "56     #boycottchina #hongkong #freehk #boycottmulan ...\n",
       "71     #StandWithKashmir #FreePalestine #SaveAfghanSi...\n",
       "73            #FightForHongKong  https://t.co/qLsuKdn1Bn\n",
       "77     ✊🏽✊🏽✊🏽 #BlackOutTuesday #IndigenousLivesMatter...\n",
       "88      https://t.co/8lgfzmGtav   #lukashenko #Tikhan...\n",
       "96     #FreeAgness #FightForFreedom #StandWithHongKon...\n",
       "97     #Hongkongers  #hongkong #beijing #china #HongK...\n",
       "99     #boycottchina #hongkong #freehk #boycottmulan ...\n",
       "100     https://t.co/B5KWeYZE6t #boycottchina #hongko...\n",
       "Name: tweet, dtype: object"
      ]
     },
     "execution_count": 34,
     "metadata": {},
     "output_type": "execute_result"
    }
   ],
   "source": [
    "df_tweets_w_dup[df_tweets_w_dup['language'].str.contains('und')]['tweet'].head(25)"
   ]
  },
  {
   "cell_type": "code",
   "execution_count": 35,
   "metadata": {},
   "outputs": [
    {
     "data": {
      "text/plain": [
       "'#FreeAgness #FightForFreedom #StandWithHongKong #fightforHONGKONG'"
      ]
     },
     "execution_count": 35,
     "metadata": {},
     "output_type": "execute_result"
    }
   ],
   "source": [
    "df_tweets_w_dup[df_tweets_w_dup['language'].str.contains('und')]['tweet'][17]"
   ]
  },
  {
   "cell_type": "code",
   "execution_count": 36,
   "metadata": {},
   "outputs": [
    {
     "data": {
      "text/plain": [
       "' https://t.co/B5KWeYZE6t #boycottchina #hongkong #freehk #boycottmulan #saynotochina #boycottbeijing #chinazi #nochinaextradition #hongkongisnotchina #standagainsttyranny #fightfordemocracy #noextradictiontochina #policebrutality #standwithhk #fightforhongkong #endpolicebrutality'"
      ]
     },
     "execution_count": 36,
     "metadata": {},
     "output_type": "execute_result"
    }
   ],
   "source": [
    "df_tweets_w_dup[df_tweets_w_dup['language'].str.contains('und')]['tweet'][21]"
   ]
  },
  {
   "cell_type": "code",
   "execution_count": 37,
   "metadata": {
    "scrolled": true
   },
   "outputs": [
    {
     "data": {
      "text/plain": [
       "'@yasmine_bw19 #FightForHongKong ✨✋🏼'"
      ]
     },
     "execution_count": 37,
     "metadata": {},
     "output_type": "execute_result"
    }
   ],
   "source": [
    "df_tweets_w_dup[df_tweets_w_dup['language'].str.contains('und')]['tweet'][39]"
   ]
  },
  {
   "cell_type": "markdown",
   "metadata": {},
   "source": [
    "These appear to be tweets with **only hashtags**; while that may be important & it's contribution is large, **this excerise pertains to the text.**\n",
    "\n",
    "**Further investigation may be required** at a later date but for now, **we will unfortunately drop them as well & only keep `en`.**"
   ]
  },
  {
   "cell_type": "code",
   "execution_count": 38,
   "metadata": {},
   "outputs": [],
   "source": [
    "df_tweets_w_dup_en = df_tweets_w_dup[df_tweets_w_dup['language'].str.contains(\"en\")]"
   ]
  },
  {
   "cell_type": "code",
   "execution_count": 39,
   "metadata": {},
   "outputs": [
    {
     "data": {
      "text/html": [
       "<div>\n",
       "<style scoped>\n",
       "    .dataframe tbody tr th:only-of-type {\n",
       "        vertical-align: middle;\n",
       "    }\n",
       "\n",
       "    .dataframe tbody tr th {\n",
       "        vertical-align: top;\n",
       "    }\n",
       "\n",
       "    .dataframe thead th {\n",
       "        text-align: right;\n",
       "    }\n",
       "</style>\n",
       "<table border=\"1\" class=\"dataframe\">\n",
       "  <thead>\n",
       "    <tr style=\"text-align: right;\">\n",
       "      <th></th>\n",
       "      <th>hash</th>\n",
       "      <th>created_at</th>\n",
       "      <th>username</th>\n",
       "      <th>tweet</th>\n",
       "      <th>language</th>\n",
       "      <th>replies_count</th>\n",
       "      <th>retweets_count</th>\n",
       "      <th>likes_count</th>\n",
       "      <th>reply_to</th>\n",
       "      <th>hashtags</th>\n",
       "      <th>Duplicated_TorF</th>\n",
       "    </tr>\n",
       "  </thead>\n",
       "  <tbody>\n",
       "    <tr>\n",
       "      <th>288410</th>\n",
       "      <td>#hkpoliceterrorism</td>\n",
       "      <td>2020-06-01</td>\n",
       "      <td>andrewhe2</td>\n",
       "      <td>@SpokespersonCHN Ms Hua please help them. #ICa...</td>\n",
       "      <td>en</td>\n",
       "      <td>0</td>\n",
       "      <td>0</td>\n",
       "      <td>0</td>\n",
       "      <td>[{'screen_name': 'SpokespersonCHN', 'name': 'H...</td>\n",
       "      <td>['icantbreathe', 'icantbreath', 'icantbreathea...</td>\n",
       "      <td>1</td>\n",
       "    </tr>\n",
       "    <tr>\n",
       "      <th>288411</th>\n",
       "      <td>#hkpoliceterrorism</td>\n",
       "      <td>2020-06-01</td>\n",
       "      <td>bluedreamsplan2</td>\n",
       "      <td>Don't fall into the trap! #HKPoliceTerrorism #...</td>\n",
       "      <td>en</td>\n",
       "      <td>0</td>\n",
       "      <td>0</td>\n",
       "      <td>0</td>\n",
       "      <td>[]</td>\n",
       "      <td>['hkpoliceterrorism', 'hongkongpolicestate', '...</td>\n",
       "      <td>0</td>\n",
       "    </tr>\n",
       "    <tr>\n",
       "      <th>288412</th>\n",
       "      <td>#hkpoliceterrorism</td>\n",
       "      <td>2020-06-01</td>\n",
       "      <td>villafish129</td>\n",
       "      <td>@KingJames #AllLivesMatters . #PoliceBrutality...</td>\n",
       "      <td>en</td>\n",
       "      <td>0</td>\n",
       "      <td>0</td>\n",
       "      <td>0</td>\n",
       "      <td>[{'screen_name': 'KingJames', 'name': 'LeBron ...</td>\n",
       "      <td>['alllivesmatters', 'policebrutality', 'police...</td>\n",
       "      <td>1</td>\n",
       "    </tr>\n",
       "    <tr>\n",
       "      <th>288413</th>\n",
       "      <td>#hkpoliceterrorism</td>\n",
       "      <td>2020-05-31</td>\n",
       "      <td>dingdin34098358</td>\n",
       "      <td>@ajphelo @HK55020097 The HK police killed a So...</td>\n",
       "      <td>en</td>\n",
       "      <td>0</td>\n",
       "      <td>1</td>\n",
       "      <td>1</td>\n",
       "      <td>[{'screen_name': 'ajphelo', 'name': 'Andrew J ...</td>\n",
       "      <td>['policebrutality', 'hkpoliceterrorism']</td>\n",
       "      <td>0</td>\n",
       "    </tr>\n",
       "    <tr>\n",
       "      <th>288414</th>\n",
       "      <td>#hkpoliceterrorism</td>\n",
       "      <td>2020-05-31</td>\n",
       "      <td>bluedreamsplan2</td>\n",
       "      <td>@OzraeliAvi China try hard to link up the #Min...</td>\n",
       "      <td>en</td>\n",
       "      <td>0</td>\n",
       "      <td>0</td>\n",
       "      <td>1</td>\n",
       "      <td>[{'screen_name': 'OzraeliAvi', 'name': 'Avi Ye...</td>\n",
       "      <td>['minnesotariots', 'hongkongprotests', 'minnia...</td>\n",
       "      <td>0</td>\n",
       "    </tr>\n",
       "  </tbody>\n",
       "</table>\n",
       "</div>"
      ],
      "text/plain": [
       "                      hash created_at         username  \\\n",
       "288410  #hkpoliceterrorism 2020-06-01        andrewhe2   \n",
       "288411  #hkpoliceterrorism 2020-06-01  bluedreamsplan2   \n",
       "288412  #hkpoliceterrorism 2020-06-01     villafish129   \n",
       "288413  #hkpoliceterrorism 2020-05-31  dingdin34098358   \n",
       "288414  #hkpoliceterrorism 2020-05-31  bluedreamsplan2   \n",
       "\n",
       "                                                    tweet language  \\\n",
       "288410  @SpokespersonCHN Ms Hua please help them. #ICa...       en   \n",
       "288411  Don't fall into the trap! #HKPoliceTerrorism #...       en   \n",
       "288412  @KingJames #AllLivesMatters . #PoliceBrutality...       en   \n",
       "288413  @ajphelo @HK55020097 The HK police killed a So...       en   \n",
       "288414  @OzraeliAvi China try hard to link up the #Min...       en   \n",
       "\n",
       "        replies_count  retweets_count  likes_count  \\\n",
       "288410              0               0            0   \n",
       "288411              0               0            0   \n",
       "288412              0               0            0   \n",
       "288413              0               1            1   \n",
       "288414              0               0            1   \n",
       "\n",
       "                                                 reply_to  \\\n",
       "288410  [{'screen_name': 'SpokespersonCHN', 'name': 'H...   \n",
       "288411                                                 []   \n",
       "288412  [{'screen_name': 'KingJames', 'name': 'LeBron ...   \n",
       "288413  [{'screen_name': 'ajphelo', 'name': 'Andrew J ...   \n",
       "288414  [{'screen_name': 'OzraeliAvi', 'name': 'Avi Ye...   \n",
       "\n",
       "                                                 hashtags  Duplicated_TorF  \n",
       "288410  ['icantbreathe', 'icantbreath', 'icantbreathea...                1  \n",
       "288411  ['hkpoliceterrorism', 'hongkongpolicestate', '...                0  \n",
       "288412  ['alllivesmatters', 'policebrutality', 'police...                1  \n",
       "288413           ['policebrutality', 'hkpoliceterrorism']                0  \n",
       "288414  ['minnesotariots', 'hongkongprotests', 'minnia...                0  "
      ]
     },
     "execution_count": 39,
     "metadata": {},
     "output_type": "execute_result"
    }
   ],
   "source": [
    "df_tweets_w_dup_en.tail()"
   ]
  },
  {
   "cell_type": "code",
   "execution_count": 40,
   "metadata": {},
   "outputs": [
    {
     "name": "stdout",
     "output_type": "stream",
     "text": [
      "There may be 67,211 duplicates to look into.\n"
     ]
    }
   ],
   "source": [
    "print('There may be', \"{:,}\".format(len(df) - len(df['tweet'].unique())), 'duplicates to look into.')"
   ]
  },
  {
   "cell_type": "code",
   "execution_count": 41,
   "metadata": {},
   "outputs": [
    {
     "name": "stdout",
     "output_type": "stream",
     "text": [
      "Review of the # of English articles: \n",
      "   194,087 | English count before dropping other languages \n",
      "   194,087 | Count after dropping other languages\n"
     ]
    }
   ],
   "source": [
    "print('Review of the # of English articles:','\\n'\n",
    "    '  ',\"{:,}\".format( len(df_tweets_w_dup[df_tweets_w_dup.language == 'en'])), '| English count before dropping other languages','\\n',\n",
    "     ' ',\"{:,}\".format(len(df_tweets_w_dup_en)),'| Count after dropping other languages')"
   ]
  },
  {
   "cell_type": "markdown",
   "metadata": {},
   "source": [
    "That matches the above so **we will now remove duplicates.**"
   ]
  },
  {
   "cell_type": "code",
   "execution_count": 42,
   "metadata": {},
   "outputs": [],
   "source": [
    "df_tweets_wout_dup_en = df_tweets_w_dup_en[df_tweets_w_dup_en['Duplicated_TorF']==0]"
   ]
  },
  {
   "cell_type": "markdown",
   "metadata": {},
   "source": [
    "Confirming that worked we will bring the data frame that did not delete the duplicates back & see what the sum of the `Duplicates_TorF` column is; as a reminder, **a duplicate has a 1 & the non-Duplicate has a 0.**"
   ]
  },
  {
   "cell_type": "code",
   "execution_count": 43,
   "metadata": {},
   "outputs": [
    {
     "data": {
      "text/plain": [
       "30388"
      ]
     },
     "execution_count": 43,
     "metadata": {},
     "output_type": "execute_result"
    }
   ],
   "source": [
    "sum(df_tweets_w_dup_en['Duplicated_TorF'])"
   ]
  },
  {
   "cell_type": "markdown",
   "metadata": {},
   "source": [
    "So there was ~30k identified duplicates, so what is the length of the dataframe without duplicates."
   ]
  },
  {
   "cell_type": "code",
   "execution_count": 44,
   "metadata": {},
   "outputs": [
    {
     "data": {
      "text/plain": [
       "0"
      ]
     },
     "execution_count": 44,
     "metadata": {},
     "output_type": "execute_result"
    }
   ],
   "source": [
    "sum(df_tweets_wout_dup_en['Duplicated_TorF'])"
   ]
  },
  {
   "cell_type": "code",
   "execution_count": 45,
   "metadata": {},
   "outputs": [
    {
     "data": {
      "text/plain": [
       "array([False])"
      ]
     },
     "execution_count": 45,
     "metadata": {},
     "output_type": "execute_result"
    }
   ],
   "source": [
    "duplicated_tf_next = df_tweets_wout_dup_en.duplicated(subset=['tweet'])\n",
    "duplicated_tf_next = pd.DataFrame(duplicated_tf_next)\n",
    "duplicated_tf_next.columns = ['Duplicated_check']\n",
    "duplicated_tf_next.Duplicated_check.unique()"
   ]
  },
  {
   "cell_type": "markdown",
   "metadata": {},
   "source": [
    "**A complete list of False essentially says there are no duplicates.**"
   ]
  },
  {
   "cell_type": "code",
   "execution_count": 46,
   "metadata": {},
   "outputs": [
    {
     "data": {
      "text/plain": [
       "163699"
      ]
     },
     "execution_count": 46,
     "metadata": {},
     "output_type": "execute_result"
    }
   ],
   "source": [
    "len(df_tweets_wout_dup_en)"
   ]
  },
  {
   "cell_type": "markdown",
   "metadata": {},
   "source": [
    "That's yet another cut albeit it's expected given the source in which we are working with.\n",
    "\n",
    "**We will take a look at what percent of the original total we have left.**"
   ]
  },
  {
   "cell_type": "code",
   "execution_count": 47,
   "metadata": {},
   "outputs": [
    {
     "data": {
      "text/plain": [
       "56.76"
      ]
     },
     "execution_count": 47,
     "metadata": {},
     "output_type": "execute_result"
    }
   ],
   "source": [
    "round((( len(df_tweets_wout_dup_en) / len(df) ) * 100),2 )"
   ]
  },
  {
   "cell_type": "code",
   "execution_count": null,
   "metadata": {},
   "outputs": [],
   "source": []
  },
  {
   "cell_type": "markdown",
   "metadata": {},
   "source": [
    "**Before sending the Dataframe to Regex, we will hold on to it on the side for reference.**"
   ]
  },
  {
   "cell_type": "code",
   "execution_count": 51,
   "metadata": {
    "scrolled": false
   },
   "outputs": [
    {
     "name": "stdout",
     "output_type": "stream",
     "text": [
      "C:\\Users\\rands\n"
     ]
    }
   ],
   "source": [
    "cd"
   ]
  },
  {
   "cell_type": "code",
   "execution_count": 52,
   "metadata": {},
   "outputs": [
    {
     "name": "stdout",
     "output_type": "stream",
     "text": [
      "Finished\n"
     ]
    }
   ],
   "source": [
    "df_tweets_wout_dup_en.to_excel('./_Capstone_Two_NLP/data/_twitter/_dfs_fortheside/df_tweets_wout_dup_en.xlsx')\n",
    "print('Finished')"
   ]
  },
  {
   "cell_type": "code",
   "execution_count": null,
   "metadata": {},
   "outputs": [],
   "source": []
  },
  {
   "cell_type": "markdown",
   "metadata": {},
   "source": [
    "# 1.4 Regex<a id='regex'></a>"
   ]
  },
  {
   "cell_type": "markdown",
   "metadata": {},
   "source": [
    "Before moving forwards, **we will send the `df_tweets_wout_dup_en` back to it's home ( `df` )** so we don't have to use a long name."
   ]
  },
  {
   "cell_type": "code",
   "execution_count": 53,
   "metadata": {},
   "outputs": [],
   "source": [
    "df = df_tweets_wout_dup_en"
   ]
  },
  {
   "cell_type": "code",
   "execution_count": 54,
   "metadata": {},
   "outputs": [
    {
     "name": "stdout",
     "output_type": "stream",
     "text": [
      "   163,699 | the length of the temp dataframe. \n",
      "   163,699 | the length of our new dataframe.\n"
     ]
    }
   ],
   "source": [
    "print('  ',\"{:,}\".format(len(df_tweets_wout_dup_en)), '| the length of the temp dataframe.','\\n',\n",
    "     ' ', \"{:,}\".format(len(df)), '| the length of our new dataframe.')"
   ]
  },
  {
   "cell_type": "code",
   "execution_count": 55,
   "metadata": {},
   "outputs": [
    {
     "data": {
      "text/plain": [
       "hash               0\n",
       "created_at         0\n",
       "username           0\n",
       "tweet              0\n",
       "language           0\n",
       "replies_count      0\n",
       "retweets_count     0\n",
       "likes_count        0\n",
       "reply_to           0\n",
       "hashtags           0\n",
       "Duplicated_TorF    0\n",
       "dtype: int64"
      ]
     },
     "execution_count": 55,
     "metadata": {},
     "output_type": "execute_result"
    }
   ],
   "source": [
    "df.isnull().sum()"
   ]
  },
  {
   "cell_type": "markdown",
   "metadata": {},
   "source": [
    "That was already believed but it's good practice to double confirm.\n",
    "\n",
    "**`Duplicated_TorF` | Given we dropped all 1's from the column, we can drop it.** Before, we will double confirm."
   ]
  },
  {
   "cell_type": "code",
   "execution_count": 56,
   "metadata": {},
   "outputs": [
    {
     "data": {
      "text/plain": [
       "array([0], dtype=int64)"
      ]
     },
     "execution_count": 56,
     "metadata": {},
     "output_type": "execute_result"
    }
   ],
   "source": [
    "np.unique(df['Duplicated_TorF'])"
   ]
  },
  {
   "cell_type": "code",
   "execution_count": 57,
   "metadata": {},
   "outputs": [],
   "source": [
    "df = df.drop(columns=['Duplicated_TorF'])"
   ]
  },
  {
   "cell_type": "markdown",
   "metadata": {},
   "source": [
    "**`language` | We will do the same with `language`**."
   ]
  },
  {
   "cell_type": "code",
   "execution_count": 58,
   "metadata": {},
   "outputs": [
    {
     "data": {
      "text/plain": [
       "array(['en'], dtype=object)"
      ]
     },
     "execution_count": 58,
     "metadata": {},
     "output_type": "execute_result"
    }
   ],
   "source": [
    "np.unique(df['language'])"
   ]
  },
  {
   "cell_type": "code",
   "execution_count": 59,
   "metadata": {},
   "outputs": [],
   "source": [
    "df = df.drop(columns=['language'])"
   ]
  },
  {
   "cell_type": "markdown",
   "metadata": {},
   "source": [
    "<a id='oum'></a>**`tweets` |** First thing with **`tweets` is there are mentions to other `usernames` which aren't necessary**. Take a **look at:\n",
    "   * ginny81025554's comment towards @benedictrogers** & **@NOW4humanity** \n",
    "\n",
    "**We don't want those words;** we will now **remove mentions to other users.**"
   ]
  },
  {
   "cell_type": "code",
   "execution_count": 60,
   "metadata": {},
   "outputs": [
    {
     "data": {
      "text/html": [
       "<div>\n",
       "<style scoped>\n",
       "    .dataframe tbody tr th:only-of-type {\n",
       "        vertical-align: middle;\n",
       "    }\n",
       "\n",
       "    .dataframe tbody tr th {\n",
       "        vertical-align: top;\n",
       "    }\n",
       "\n",
       "    .dataframe thead th {\n",
       "        text-align: right;\n",
       "    }\n",
       "</style>\n",
       "<table border=\"1\" class=\"dataframe\">\n",
       "  <thead>\n",
       "    <tr style=\"text-align: right;\">\n",
       "      <th></th>\n",
       "      <th>hash</th>\n",
       "      <th>created_at</th>\n",
       "      <th>username</th>\n",
       "      <th>tweet</th>\n",
       "    </tr>\n",
       "  </thead>\n",
       "  <tbody>\n",
       "    <tr>\n",
       "      <th>0</th>\n",
       "      <td>#FightForHongKong</td>\n",
       "      <td>2020-08-28</td>\n",
       "      <td>ginny81025554</td>\n",
       "      <td>@benedictrogers @NOW4humanity Thanks for speak...</td>\n",
       "    </tr>\n",
       "  </tbody>\n",
       "</table>\n",
       "</div>"
      ],
      "text/plain": [
       "                hash created_at       username  \\\n",
       "0  #FightForHongKong 2020-08-28  ginny81025554   \n",
       "\n",
       "                                               tweet  \n",
       "0  @benedictrogers @NOW4humanity Thanks for speak...  "
      ]
     },
     "execution_count": 60,
     "metadata": {},
     "output_type": "execute_result"
    }
   ],
   "source": [
    "df[['hash', 'created_at', 'username', 'tweet']].head(1)"
   ]
  },
  {
   "cell_type": "code",
   "execution_count": 61,
   "metadata": {},
   "outputs": [],
   "source": [
    "df['tweet'] = df['tweet'].str.replace(\"@[A-Za-z0-9]+\",\"\")"
   ]
  },
  {
   "cell_type": "code",
   "execution_count": 62,
   "metadata": {},
   "outputs": [
    {
     "data": {
      "text/html": [
       "<div>\n",
       "<style scoped>\n",
       "    .dataframe tbody tr th:only-of-type {\n",
       "        vertical-align: middle;\n",
       "    }\n",
       "\n",
       "    .dataframe tbody tr th {\n",
       "        vertical-align: top;\n",
       "    }\n",
       "\n",
       "    .dataframe thead th {\n",
       "        text-align: right;\n",
       "    }\n",
       "</style>\n",
       "<table border=\"1\" class=\"dataframe\">\n",
       "  <thead>\n",
       "    <tr style=\"text-align: right;\">\n",
       "      <th></th>\n",
       "      <th>hash</th>\n",
       "      <th>created_at</th>\n",
       "      <th>username</th>\n",
       "      <th>tweet</th>\n",
       "    </tr>\n",
       "  </thead>\n",
       "  <tbody>\n",
       "    <tr>\n",
       "      <th>0</th>\n",
       "      <td>#FightForHongKong</td>\n",
       "      <td>2020-08-28</td>\n",
       "      <td>ginny81025554</td>\n",
       "      <td>Thanks for speaking up for us #fridaysforfre...</td>\n",
       "    </tr>\n",
       "  </tbody>\n",
       "</table>\n",
       "</div>"
      ],
      "text/plain": [
       "                hash created_at       username  \\\n",
       "0  #FightForHongKong 2020-08-28  ginny81025554   \n",
       "\n",
       "                                               tweet  \n",
       "0    Thanks for speaking up for us #fridaysforfre...  "
      ]
     },
     "execution_count": 62,
     "metadata": {},
     "output_type": "execute_result"
    }
   ],
   "source": [
    "df[['hash', 'created_at', 'username', 'tweet']].head(1)"
   ]
  },
  {
   "cell_type": "markdown",
   "metadata": {},
   "source": [
    "<a id='htmltags'></a>**`html tags` |** The **next items to remove are `html tags`**. Take a look at an example below. "
   ]
  },
  {
   "cell_type": "code",
   "execution_count": 63,
   "metadata": {},
   "outputs": [
    {
     "data": {
      "text/plain": [
       "' https://t.co/Pp6LQJKGgL  Ridiculous things happened and will keep happening in Hong Kong.  #StandWithHongKong  #FreeHongKong  #HongKongProtest'"
      ]
     },
     "execution_count": 63,
     "metadata": {},
     "output_type": "execute_result"
    }
   ],
   "source": [
    "df['tweet'][391]"
   ]
  },
  {
   "cell_type": "code",
   "execution_count": 64,
   "metadata": {},
   "outputs": [],
   "source": [
    "df['tweet'] = df['tweet'].str.replace(r'http\\S+', '')"
   ]
  },
  {
   "cell_type": "code",
   "execution_count": 65,
   "metadata": {},
   "outputs": [
    {
     "data": {
      "text/plain": [
       "'   Ridiculous things happened and will keep happening in Hong Kong.  #StandWithHongKong  #FreeHongKong  #HongKongProtest'"
      ]
     },
     "execution_count": 65,
     "metadata": {},
     "output_type": "execute_result"
    }
   ],
   "source": [
    "df['tweet'][391]"
   ]
  },
  {
   "cell_type": "markdown",
   "metadata": {},
   "source": [
    "**Tweet hastags |** Tweet hashtags are **hashtags found within the tweet & in many cases used to complete sentences. We would like to ensure this does not have an impact on model performance.** These hashtags should not be confused with the `hash` column; that column is for record keeping to confirm which hashtag was used to identify relevent `tweet`s for our project.\n",
    "\n",
    "**We will use an example from Joshua Wong (joshuawongcf)**, a notable Hong Kong activist turned politician. **Our decision to use Joshua herein should not be interpreted as showing preference or support for his cause.**\n",
    "\n",
    "**Our decision to use a tweet from Joshua, is based on his tendency to structure tweets in the manner outlined above.**"
   ]
  },
  {
   "cell_type": "code",
   "execution_count": 66,
   "metadata": {},
   "outputs": [
    {
     "data": {
      "text/plain": [
       "\"[HK asylum seekers could be sent to #China's secret courts]  1. Twelve #HKers, all involved in #hkprotests, were detained by #China’s coast guard today when fleeing to #Taiwan for political asylum. All of them are now detained in #China.  \""
      ]
     },
     "execution_count": 66,
     "metadata": {},
     "output_type": "execute_result"
    }
   ],
   "source": [
    "df['tweet'][174973]"
   ]
  },
  {
   "cell_type": "markdown",
   "metadata": {},
   "source": [
    "**There you may see that the following hashtags will be converted to the below once the hashtag is removed:**:\n",
    "   * #China --> China\n",
    "   * #HKers --> HKers\n",
    "   * #hkprotests --> hkprotests\n",
    "   * #Taiwan --> Taiwan\n"
   ]
  },
  {
   "cell_type": "markdown",
   "metadata": {},
   "source": [
    "<a id='emojis'></a>**Emojis |** Emoji or Emojis are pictograms, logograms, ideograms and smileys used in electronic messages and web pages. **They are relevant & their intentions should be preserved;** two examples shown below;\n",
    "   * One where the emoji is seperated from\n",
    "   * Another where it is not\n",
    "\n",
    "**We would like to ensure that the new `emoji word` is not connected with another word.**"
   ]
  },
  {
   "cell_type": "code",
   "execution_count": 67,
   "metadata": {},
   "outputs": [
    {
     "data": {
      "text/plain": [
       "'Heartbreaking...😭 we have to do whatever we can do to #FightForHongKong  #StandWithHongKong'"
      ]
     },
     "execution_count": 67,
     "metadata": {},
     "output_type": "execute_result"
    }
   ],
   "source": [
    "df['tweet'][22]"
   ]
  },
  {
   "cell_type": "code",
   "execution_count": 68,
   "metadata": {},
   "outputs": [
    {
     "data": {
      "text/plain": [
       "'#Yellow Sunday🥰🥰🥰#SupportAppleDaily #WeNeedAppleDaily #YellowEconomicCircle #黃色經濟圈 #5DemandsNot1Less #StandWithHongKong #StandwithHK #FightForFreedom #SupportYellowEconomicCircle #YellowEconomy  #HongKong #HongKongProtesters #HongKongProtest #HongKongProtests #HongKonger  '"
      ]
     },
     "execution_count": 68,
     "metadata": {},
     "output_type": "execute_result"
    }
   ],
   "source": [
    "df['tweet'][425]"
   ]
  },
  {
   "cell_type": "markdown",
   "metadata": {},
   "source": [
    "We must first build the required `def` variable to **convert the emojis to text**."
   ]
  },
  {
   "cell_type": "code",
   "execution_count": 69,
   "metadata": {},
   "outputs": [],
   "source": [
    "with open('Emoji_Dict.p', 'rb') as fp:\n",
    "    Emoji_Dict = pickle.load(fp)\n",
    "Emoji_Dict = {v: k for k, v in Emoji_Dict.items()}\n",
    "\n",
    "def convert_emojis_to_word(text):\n",
    "    for emot in Emoji_Dict:\n",
    "        text = re.sub(r'('+emot+')', \"_\".join(Emoji_Dict[emot].replace(\",\",\" \").replace(\":\",\" \").split()), text)\n",
    "    return text"
   ]
  },
  {
   "cell_type": "code",
   "execution_count": 70,
   "metadata": {},
   "outputs": [],
   "source": [
    "df['tweet'] =  df.tweet.apply(lambda x: convert_emojis_to_word(x))"
   ]
  },
  {
   "cell_type": "code",
   "execution_count": 71,
   "metadata": {},
   "outputs": [
    {
     "data": {
      "text/plain": [
       "'Heartbreaking...loudly_crying_face we have to do whatever we can do to #FightForHongKong  #StandWithHongKong'"
      ]
     },
     "execution_count": 71,
     "metadata": {},
     "output_type": "execute_result"
    }
   ],
   "source": [
    "df['tweet'][22]"
   ]
  },
  {
   "cell_type": "code",
   "execution_count": 72,
   "metadata": {},
   "outputs": [
    {
     "data": {
      "text/plain": [
       "'#Yellow Sunday🥰🥰🥰#SupportAppleDaily #WeNeedAppleDaily #YellowEconomicCircle #黃色經濟圈 #5DemandsNot1Less #StandWithHongKong #StandwithHK #FightForFreedom #SupportYellowEconomicCircle #YellowEconomy  #HongKong #HongKongProtesters #HongKongProtest #HongKongProtests #HongKonger  '"
      ]
     },
     "execution_count": 72,
     "metadata": {},
     "output_type": "execute_result"
    }
   ],
   "source": [
    "df['tweet'][425]"
   ]
  },
  {
   "cell_type": "markdown",
   "metadata": {},
   "source": [
    "# I need to add a space before & after the Emoji conversion & additions to the Emoji_Dict is required."
   ]
  },
  {
   "cell_type": "code",
   "execution_count": null,
   "metadata": {},
   "outputs": [],
   "source": []
  },
  {
   "cell_type": "markdown",
   "metadata": {},
   "source": [
    "<a id='profanity'></a>**Profanity |** The data frame should not contain profanity; **I will replace profanity with the word `NEGATIVE`**. I will not show examples of what was replaced herein for professional reasons."
   ]
  },
  {
   "cell_type": "markdown",
   "metadata": {},
   "source": [
    "Similar to the emoji section, we will first **need to establish a `def variable` to handle profanity.**\n",
    "\n",
    "This **`def variable` will assign a bad word to the word NEGATIVE** to ensure **it holds weight for NLP.**"
   ]
  },
  {
   "cell_type": "code",
   "execution_count": 73,
   "metadata": {},
   "outputs": [],
   "source": [
    "def clean_text(__main__):\n",
    "    if __name__ == \"__main__\":\n",
    "        text = __main__\n",
    "        censor_text = profanity.censor(text, '%')\n",
    "        censor_text = re.sub('%%%%','NEGATIVE',censor_text)\n",
    "        return censor_text"
   ]
  },
  {
   "cell_type": "code",
   "execution_count": 74,
   "metadata": {},
   "outputs": [],
   "source": [
    "df['tweet'] =  df.tweet.apply(lambda x: clean_text(x))"
   ]
  },
  {
   "cell_type": "code",
   "execution_count": 76,
   "metadata": {},
   "outputs": [
    {
     "data": {
      "text/plain": [
       "'  #FreeHongKong NEGATIVE china #HKIndependence  #HongKong  #Hongkongprotest'"
      ]
     },
     "execution_count": 76,
     "metadata": {},
     "output_type": "execute_result"
    }
   ],
   "source": [
    "df['tweet'][900]"
   ]
  },
  {
   "cell_type": "code",
   "execution_count": null,
   "metadata": {},
   "outputs": [],
   "source": []
  },
  {
   "cell_type": "markdown",
   "metadata": {},
   "source": [
    "<a id='flanguage'></a>**Foreign Languages |** Despite limiting our languages to `en`, foreign languages remain."
   ]
  },
  {
   "cell_type": "code",
   "execution_count": null,
   "metadata": {},
   "outputs": [],
   "source": []
  },
  {
   "cell_type": "code",
   "execution_count": null,
   "metadata": {},
   "outputs": [],
   "source": []
  },
  {
   "cell_type": "code",
   "execution_count": null,
   "metadata": {},
   "outputs": [],
   "source": []
  },
  {
   "cell_type": "code",
   "execution_count": null,
   "metadata": {},
   "outputs": [],
   "source": []
  },
  {
   "cell_type": "code",
   "execution_count": null,
   "metadata": {},
   "outputs": [],
   "source": []
  },
  {
   "cell_type": "markdown",
   "metadata": {},
   "source": [
    "<a id='stop_words'></a>**Stop Words |** xxxxxxxxxxxxxxxxxxxxxxxxxxxxx."
   ]
  },
  {
   "cell_type": "code",
   "execution_count": null,
   "metadata": {},
   "outputs": [],
   "source": [
    "# Eleanor's other student didn't dive deep into the words."
   ]
  },
  {
   "cell_type": "code",
   "execution_count": null,
   "metadata": {},
   "outputs": [],
   "source": []
  },
  {
   "cell_type": "code",
   "execution_count": null,
   "metadata": {},
   "outputs": [],
   "source": []
  },
  {
   "cell_type": "markdown",
   "metadata": {},
   "source": [
    "<a id='tweet_length'></a>**tweet length |** Adding another column to see the length of tweets."
   ]
  },
  {
   "cell_type": "code",
   "execution_count": 81,
   "metadata": {},
   "outputs": [],
   "source": [
    "df_t_length = pd.DataFrame([df['tweet'].copy()]).T\n",
    "df_t_length = df_t_length.convert_dtypes()\n",
    "df_t_length['word_l'] = [len(x.split()) for x in df['tweet'].tolist()]\n",
    "df_t_length = df_t_length.drop(columns=['tweet'])\n",
    "df['#_words_tweet'] = df_t_length"
   ]
  },
  {
   "cell_type": "code",
   "execution_count": 82,
   "metadata": {},
   "outputs": [
    {
     "data": {
      "text/html": [
       "<div>\n",
       "<style scoped>\n",
       "    .dataframe tbody tr th:only-of-type {\n",
       "        vertical-align: middle;\n",
       "    }\n",
       "\n",
       "    .dataframe tbody tr th {\n",
       "        vertical-align: top;\n",
       "    }\n",
       "\n",
       "    .dataframe thead th {\n",
       "        text-align: right;\n",
       "    }\n",
       "</style>\n",
       "<table border=\"1\" class=\"dataframe\">\n",
       "  <thead>\n",
       "    <tr style=\"text-align: right;\">\n",
       "      <th></th>\n",
       "      <th>hash</th>\n",
       "      <th>created_at</th>\n",
       "      <th>username</th>\n",
       "      <th>tweet</th>\n",
       "      <th>replies_count</th>\n",
       "      <th>retweets_count</th>\n",
       "      <th>likes_count</th>\n",
       "      <th>reply_to</th>\n",
       "      <th>hashtags</th>\n",
       "      <th>#_words_tweet</th>\n",
       "    </tr>\n",
       "  </thead>\n",
       "  <tbody>\n",
       "    <tr>\n",
       "      <th>0</th>\n",
       "      <td>#FightForHongKong</td>\n",
       "      <td>2020-08-28</td>\n",
       "      <td>ginny81025554</td>\n",
       "      <td>Thanks for speaking up for us #fridaysforfre...</td>\n",
       "      <td>0</td>\n",
       "      <td>1</td>\n",
       "      <td>2</td>\n",
       "      <td>[{'screen_name': 'benedictrogers', 'name': 'Be...</td>\n",
       "      <td>['fridaysforfreedom', 'fightforhongkong']</td>\n",
       "      <td>8</td>\n",
       "    </tr>\n",
       "    <tr>\n",
       "      <th>2</th>\n",
       "      <td>#FightForHongKong</td>\n",
       "      <td>2020-08-25</td>\n",
       "      <td>peterhjorth_ddp</td>\n",
       "      <td>How to stop China in Hong Kong. Read the new r...</td>\n",
       "      <td>0</td>\n",
       "      <td>0</td>\n",
       "      <td>0</td>\n",
       "      <td>[]</td>\n",
       "      <td>['dkpol', 'kina', 'hongkongprotest', 'fightfor...</td>\n",
       "      <td>30</td>\n",
       "    </tr>\n",
       "    <tr>\n",
       "      <th>3</th>\n",
       "      <td>#FightForHongKong</td>\n",
       "      <td>2020-08-24</td>\n",
       "      <td>peterhjorth_ddp</td>\n",
       "      <td>How to stop China in Hong Kong. Read the new r...</td>\n",
       "      <td>0</td>\n",
       "      <td>0</td>\n",
       "      <td>0</td>\n",
       "      <td>[]</td>\n",
       "      <td>['dkpol', 'kina', 'hongkongprotest', 'fightfor...</td>\n",
       "      <td>30</td>\n",
       "    </tr>\n",
       "  </tbody>\n",
       "</table>\n",
       "</div>"
      ],
      "text/plain": [
       "                hash created_at         username  \\\n",
       "0  #FightForHongKong 2020-08-28    ginny81025554   \n",
       "2  #FightForHongKong 2020-08-25  peterhjorth_ddp   \n",
       "3  #FightForHongKong 2020-08-24  peterhjorth_ddp   \n",
       "\n",
       "                                               tweet  replies_count  \\\n",
       "0    Thanks for speaking up for us #fridaysforfre...              0   \n",
       "2  How to stop China in Hong Kong. Read the new r...              0   \n",
       "3  How to stop China in Hong Kong. Read the new r...              0   \n",
       "\n",
       "   retweets_count  likes_count  \\\n",
       "0               1            2   \n",
       "2               0            0   \n",
       "3               0            0   \n",
       "\n",
       "                                            reply_to  \\\n",
       "0  [{'screen_name': 'benedictrogers', 'name': 'Be...   \n",
       "2                                                 []   \n",
       "3                                                 []   \n",
       "\n",
       "                                            hashtags  #_words_tweet  \n",
       "0          ['fridaysforfreedom', 'fightforhongkong']              8  \n",
       "2  ['dkpol', 'kina', 'hongkongprotest', 'fightfor...             30  \n",
       "3  ['dkpol', 'kina', 'hongkongprotest', 'fightfor...             30  "
      ]
     },
     "execution_count": 82,
     "metadata": {},
     "output_type": "execute_result"
    }
   ],
   "source": [
    "df.head(3)"
   ]
  },
  {
   "cell_type": "code",
   "execution_count": null,
   "metadata": {},
   "outputs": [],
   "source": []
  },
  {
   "cell_type": "markdown",
   "metadata": {},
   "source": [
    "<a id='num_hashtags'></a>**Number of hashtags |** Adding another column to see how many hashtags were used."
   ]
  },
  {
   "cell_type": "code",
   "execution_count": 83,
   "metadata": {},
   "outputs": [],
   "source": [
    "df_hash_num = pd.DataFrame([df['hashtags'].copy()]).T\n",
    "df_hash_num = df_hash_num.convert_dtypes()\n",
    "df_hash_num['hash_l'] = [len(x.split()) for x in df['hashtags'].tolist()]\n",
    "df_hash_num = df_hash_num.drop(columns=['hashtags'])\n",
    "df['#_hashtags'] = df_hash_num"
   ]
  },
  {
   "cell_type": "code",
   "execution_count": 84,
   "metadata": {},
   "outputs": [
    {
     "data": {
      "text/html": [
       "<div>\n",
       "<style scoped>\n",
       "    .dataframe tbody tr th:only-of-type {\n",
       "        vertical-align: middle;\n",
       "    }\n",
       "\n",
       "    .dataframe tbody tr th {\n",
       "        vertical-align: top;\n",
       "    }\n",
       "\n",
       "    .dataframe thead th {\n",
       "        text-align: right;\n",
       "    }\n",
       "</style>\n",
       "<table border=\"1\" class=\"dataframe\">\n",
       "  <thead>\n",
       "    <tr style=\"text-align: right;\">\n",
       "      <th></th>\n",
       "      <th>hash</th>\n",
       "      <th>created_at</th>\n",
       "      <th>username</th>\n",
       "      <th>tweet</th>\n",
       "      <th>replies_count</th>\n",
       "      <th>retweets_count</th>\n",
       "      <th>likes_count</th>\n",
       "      <th>reply_to</th>\n",
       "      <th>hashtags</th>\n",
       "      <th>#_words_tweet</th>\n",
       "      <th>#_hashtags</th>\n",
       "    </tr>\n",
       "  </thead>\n",
       "  <tbody>\n",
       "    <tr>\n",
       "      <th>0</th>\n",
       "      <td>#FightForHongKong</td>\n",
       "      <td>2020-08-28</td>\n",
       "      <td>ginny81025554</td>\n",
       "      <td>Thanks for speaking up for us #fridaysforfre...</td>\n",
       "      <td>0</td>\n",
       "      <td>1</td>\n",
       "      <td>2</td>\n",
       "      <td>[{'screen_name': 'benedictrogers', 'name': 'Be...</td>\n",
       "      <td>['fridaysforfreedom', 'fightforhongkong']</td>\n",
       "      <td>8</td>\n",
       "      <td>2</td>\n",
       "    </tr>\n",
       "    <tr>\n",
       "      <th>2</th>\n",
       "      <td>#FightForHongKong</td>\n",
       "      <td>2020-08-25</td>\n",
       "      <td>peterhjorth_ddp</td>\n",
       "      <td>How to stop China in Hong Kong. Read the new r...</td>\n",
       "      <td>0</td>\n",
       "      <td>0</td>\n",
       "      <td>0</td>\n",
       "      <td>[]</td>\n",
       "      <td>['dkpol', 'kina', 'hongkongprotest', 'fightfor...</td>\n",
       "      <td>30</td>\n",
       "      <td>13</td>\n",
       "    </tr>\n",
       "    <tr>\n",
       "      <th>3</th>\n",
       "      <td>#FightForHongKong</td>\n",
       "      <td>2020-08-24</td>\n",
       "      <td>peterhjorth_ddp</td>\n",
       "      <td>How to stop China in Hong Kong. Read the new r...</td>\n",
       "      <td>0</td>\n",
       "      <td>0</td>\n",
       "      <td>0</td>\n",
       "      <td>[]</td>\n",
       "      <td>['dkpol', 'kina', 'hongkongprotest', 'fightfor...</td>\n",
       "      <td>30</td>\n",
       "      <td>13</td>\n",
       "    </tr>\n",
       "  </tbody>\n",
       "</table>\n",
       "</div>"
      ],
      "text/plain": [
       "                hash created_at         username  \\\n",
       "0  #FightForHongKong 2020-08-28    ginny81025554   \n",
       "2  #FightForHongKong 2020-08-25  peterhjorth_ddp   \n",
       "3  #FightForHongKong 2020-08-24  peterhjorth_ddp   \n",
       "\n",
       "                                               tweet  replies_count  \\\n",
       "0    Thanks for speaking up for us #fridaysforfre...              0   \n",
       "2  How to stop China in Hong Kong. Read the new r...              0   \n",
       "3  How to stop China in Hong Kong. Read the new r...              0   \n",
       "\n",
       "   retweets_count  likes_count  \\\n",
       "0               1            2   \n",
       "2               0            0   \n",
       "3               0            0   \n",
       "\n",
       "                                            reply_to  \\\n",
       "0  [{'screen_name': 'benedictrogers', 'name': 'Be...   \n",
       "2                                                 []   \n",
       "3                                                 []   \n",
       "\n",
       "                                            hashtags  #_words_tweet  \\\n",
       "0          ['fridaysforfreedom', 'fightforhongkong']              8   \n",
       "2  ['dkpol', 'kina', 'hongkongprotest', 'fightfor...             30   \n",
       "3  ['dkpol', 'kina', 'hongkongprotest', 'fightfor...             30   \n",
       "\n",
       "   #_hashtags  \n",
       "0           2  \n",
       "2          13  \n",
       "3          13  "
      ]
     },
     "execution_count": 84,
     "metadata": {},
     "output_type": "execute_result"
    }
   ],
   "source": [
    "df.head(3)"
   ]
  },
  {
   "cell_type": "code",
   "execution_count": null,
   "metadata": {},
   "outputs": [],
   "source": []
  },
  {
   "cell_type": "code",
   "execution_count": null,
   "metadata": {},
   "outputs": [],
   "source": []
  },
  {
   "cell_type": "code",
   "execution_count": null,
   "metadata": {},
   "outputs": [],
   "source": []
  },
  {
   "cell_type": "markdown",
   "metadata": {},
   "source": [
    "# **1.5 Putting the Data to the Side**<a id='pts'></a>"
   ]
  },
  {
   "cell_type": "markdown",
   "metadata": {},
   "source": [
    "**Here we will put the data as it stands to the side**. The date just started its \"journey\" but it's nice to keep track of where it came from as we move along."
   ]
  },
  {
   "cell_type": "code",
   "execution_count": 107,
   "metadata": {},
   "outputs": [
    {
     "name": "stdout",
     "output_type": "stream",
     "text": [
      "C:\\Users\\rands\n"
     ]
    }
   ],
   "source": [
    "cd"
   ]
  },
  {
   "cell_type": "code",
   "execution_count": 108,
   "metadata": {},
   "outputs": [
    {
     "name": "stdout",
     "output_type": "stream",
     "text": [
      "Finished\n"
     ]
    }
   ],
   "source": [
    "df.to_excel('./_Capstone_Two_NLP/data/_twitter/_dfs_fortheside/df_post_wrangling.xlsx')\n",
    "print('Finished')"
   ]
  },
  {
   "cell_type": "code",
   "execution_count": null,
   "metadata": {},
   "outputs": [],
   "source": []
  },
  {
   "cell_type": "markdown",
   "metadata": {},
   "source": [
    "# **2.0 Exploratory Data Analysis (EDA)**<a id='eda'></a>"
   ]
  },
  {
   "cell_type": "code",
   "execution_count": null,
   "metadata": {},
   "outputs": [],
   "source": []
  },
  {
   "cell_type": "markdown",
   "metadata": {},
   "source": [
    "# **2.1 Contents**<a id='eda_contents'></a>"
   ]
  },
  {
   "cell_type": "markdown",
   "metadata": {},
   "source": [
    "This is where you will summarize your intent. Mention you used `twint`"
   ]
  },
  {
   "cell_type": "code",
   "execution_count": null,
   "metadata": {},
   "outputs": [],
   "source": []
  },
  {
   "cell_type": "code",
   "execution_count": 987,
   "metadata": {},
   "outputs": [
    {
     "data": {
      "text/html": [
       "<div>\n",
       "<style scoped>\n",
       "    .dataframe tbody tr th:only-of-type {\n",
       "        vertical-align: middle;\n",
       "    }\n",
       "\n",
       "    .dataframe tbody tr th {\n",
       "        vertical-align: top;\n",
       "    }\n",
       "\n",
       "    .dataframe thead th {\n",
       "        text-align: right;\n",
       "    }\n",
       "</style>\n",
       "<table border=\"1\" class=\"dataframe\">\n",
       "  <thead>\n",
       "    <tr style=\"text-align: right;\">\n",
       "      <th></th>\n",
       "      <th>replies_count</th>\n",
       "      <th>retweets_count</th>\n",
       "      <th>likes_count</th>\n",
       "      <th>#_words_tweet</th>\n",
       "      <th>#_hashtags</th>\n",
       "    </tr>\n",
       "  </thead>\n",
       "  <tbody>\n",
       "    <tr>\n",
       "      <th>count</th>\n",
       "      <td>163699.000000</td>\n",
       "      <td>163699.000000</td>\n",
       "      <td>163699.000000</td>\n",
       "      <td>163699.000000</td>\n",
       "      <td>163699.000000</td>\n",
       "    </tr>\n",
       "    <tr>\n",
       "      <th>mean</th>\n",
       "      <td>0.570889</td>\n",
       "      <td>6.148669</td>\n",
       "      <td>11.258169</td>\n",
       "      <td>20.393277</td>\n",
       "      <td>3.267876</td>\n",
       "    </tr>\n",
       "    <tr>\n",
       "      <th>std</th>\n",
       "      <td>13.535243</td>\n",
       "      <td>109.366725</td>\n",
       "      <td>173.143553</td>\n",
       "      <td>12.013349</td>\n",
       "      <td>2.637373</td>\n",
       "    </tr>\n",
       "    <tr>\n",
       "      <th>min</th>\n",
       "      <td>0.000000</td>\n",
       "      <td>0.000000</td>\n",
       "      <td>0.000000</td>\n",
       "      <td>1.000000</td>\n",
       "      <td>1.000000</td>\n",
       "    </tr>\n",
       "    <tr>\n",
       "      <th>25%</th>\n",
       "      <td>0.000000</td>\n",
       "      <td>0.000000</td>\n",
       "      <td>0.000000</td>\n",
       "      <td>10.000000</td>\n",
       "      <td>1.000000</td>\n",
       "    </tr>\n",
       "    <tr>\n",
       "      <th>50%</th>\n",
       "      <td>0.000000</td>\n",
       "      <td>0.000000</td>\n",
       "      <td>1.000000</td>\n",
       "      <td>18.000000</td>\n",
       "      <td>3.000000</td>\n",
       "    </tr>\n",
       "    <tr>\n",
       "      <th>75%</th>\n",
       "      <td>0.000000</td>\n",
       "      <td>1.000000</td>\n",
       "      <td>2.000000</td>\n",
       "      <td>30.000000</td>\n",
       "      <td>4.000000</td>\n",
       "    </tr>\n",
       "    <tr>\n",
       "      <th>max</th>\n",
       "      <td>3014.000000</td>\n",
       "      <td>16023.000000</td>\n",
       "      <td>32479.000000</td>\n",
       "      <td>60.000000</td>\n",
       "      <td>26.000000</td>\n",
       "    </tr>\n",
       "  </tbody>\n",
       "</table>\n",
       "</div>"
      ],
      "text/plain": [
       "       replies_count  retweets_count    likes_count  #_words_tweet  \\\n",
       "count  163699.000000   163699.000000  163699.000000  163699.000000   \n",
       "mean        0.570889        6.148669      11.258169      20.393277   \n",
       "std        13.535243      109.366725     173.143553      12.013349   \n",
       "min         0.000000        0.000000       0.000000       1.000000   \n",
       "25%         0.000000        0.000000       0.000000      10.000000   \n",
       "50%         0.000000        0.000000       1.000000      18.000000   \n",
       "75%         0.000000        1.000000       2.000000      30.000000   \n",
       "max      3014.000000    16023.000000   32479.000000      60.000000   \n",
       "\n",
       "          #_hashtags  \n",
       "count  163699.000000  \n",
       "mean        3.267876  \n",
       "std         2.637373  \n",
       "min         1.000000  \n",
       "25%         1.000000  \n",
       "50%         3.000000  \n",
       "75%         4.000000  \n",
       "max        26.000000  "
      ]
     },
     "execution_count": 987,
     "metadata": {},
     "output_type": "execute_result"
    }
   ],
   "source": [
    "df.describe()"
   ]
  },
  {
   "cell_type": "markdown",
   "metadata": {},
   "source": [
    "The **above are the numeric columns**. We will set a **new variable** to the side for the next section."
   ]
  },
  {
   "cell_type": "code",
   "execution_count": 988,
   "metadata": {},
   "outputs": [],
   "source": [
    "df_num =df[['replies_count','retweets_count','likes_count','#_words_tweet','#_hashtags']].copy()"
   ]
  },
  {
   "cell_type": "markdown",
   "metadata": {},
   "source": [
    "Histograms are an excellent way to review the range and density of values for each numeric features in the data set."
   ]
  },
  {
   "cell_type": "code",
   "execution_count": 989,
   "metadata": {},
   "outputs": [
    {
     "data": {
      "text/plain": [
       "array([[<AxesSubplot:title={'center':'replies_count'}>,\n",
       "        <AxesSubplot:title={'center':'retweets_count'}>],\n",
       "       [<AxesSubplot:title={'center':'likes_count'}>,\n",
       "        <AxesSubplot:title={'center':'#_words_tweet'}>],\n",
       "       [<AxesSubplot:title={'center':'#_hashtags'}>, <AxesSubplot:>]],\n",
       "      dtype=object)"
      ]
     },
     "execution_count": 989,
     "metadata": {},
     "output_type": "execute_result"
    },
    {
     "data": {
      "image/png": "[encoded data removed]",
      "text/plain": [
       "<Figure size 1440x1440 with 6 Axes>"
      ]
     },
     "metadata": {},
     "output_type": "display_data"
    }
   ],
   "source": [
    "sns.set_style('darkgrid')\n",
    "df_num.hist(bins = 25,figsize=(20,20))"
   ]
  },
  {
   "cell_type": "code",
   "execution_count": 990,
   "metadata": {},
   "outputs": [
    {
     "data": {
      "text/plain": [
       "<AxesSubplot:>"
      ]
     },
     "execution_count": 990,
     "metadata": {},
     "output_type": "execute_result"
    },
    {
     "data": {
      "image/png": "[encoded data removed]",
      "text/plain": [
       "<Figure size 720x720 with 1 Axes>"
      ]
     },
     "metadata": {},
     "output_type": "display_data"
    }
   ],
   "source": [
    "#Anamolies & Outliers - Review boxplots\n",
    "df_num.boxplot(vert=False, grid=False, fontsize=15, figsize=(10,10))"
   ]
  },
  {
   "cell_type": "code",
   "execution_count": 991,
   "metadata": {},
   "outputs": [
    {
     "data": {
      "text/plain": [
       "<seaborn.axisgrid.PairGrid at 0x21faeccadf0>"
      ]
     },
     "execution_count": 991,
     "metadata": {},
     "output_type": "execute_result"
    },
    {
     "data": {
      "image/png": "[encoded data removed]",
      "text/plain": [
       "<Figure size 900x900 with 30 Axes>"
      ]
     },
     "metadata": {},
     "output_type": "display_data"
    }
   ],
   "source": [
    "#Explore data relationships\n",
    "sns.pairplot(df_num)\n"
   ]
  },
  {
   "cell_type": "code",
   "execution_count": 996,
   "metadata": {},
   "outputs": [
    {
     "data": {
      "text/plain": [
       "Text(0.5, 1.0, 'Twitter Numeric Heatmap')"
      ]
     },
     "execution_count": 996,
     "metadata": {},
     "output_type": "execute_result"
    },
    {
     "data": {
      "image/png": "[encoded data removed]",
      "text/plain": [
       "<Figure size 1080x720 with 2 Axes>"
      ]
     },
     "metadata": {
      "needs_background": "light"
     },
     "output_type": "display_data"
    }
   ],
   "source": [
    "#Heat map - Correlation between features\n",
    "plt.subplots(figsize=(15,10))\n",
    "matrix = np.triu(df_num.corr())\n",
    "sns.heatmap(df_num.corr(), mask=matrix, linewidths=.5, cmap=GnRd, annot=True)\n",
    "plt.title('Twitter Numeric Heatmap')"
   ]
  },
  {
   "cell_type": "markdown",
   "metadata": {},
   "source": [
    "The key observations here are as follows:\n",
    "\n",
    "**Positive Correlation**\n",
    "   * `Retweets` | Have a strong correlation with Likes which makes sense\n",
    "      * People usually don't retweet something they don't like\n",
    "   * `Replies` | Also have a strong corrlation with Likes\n",
    "      * Most likely in the same rational\n",
    "\n",
    "**No correlation**\n",
    "   * `# of hashtags` | No correlation with replies, retweets or likes\n",
    "      * May go against the logic of expanding your viewership by expanding the # of hashtags"
   ]
  },
  {
   "cell_type": "markdown",
   "metadata": {},
   "source": [
    "**We will also take a visual look at the Tweets contribution to the data frame**."
   ]
  },
  {
   "cell_type": "code",
   "execution_count": 1015,
   "metadata": {},
   "outputs": [
    {
     "data": {
      "text/plain": [
       "<Figure size 1080x432 with 0 Axes>"
      ]
     },
     "metadata": {},
     "output_type": "display_data"
    },
    {
     "data": {
      "image/png": "[encoded data removed]",
      "text/plain": [
       "<Figure size 432x288 with 1 Axes>"
      ]
     },
     "metadata": {},
     "output_type": "display_data"
    },
    {
     "data": {
      "text/html": [
       "<div>\n",
       "<style scoped>\n",
       "    .dataframe tbody tr th:only-of-type {\n",
       "        vertical-align: middle;\n",
       "    }\n",
       "\n",
       "    .dataframe tbody tr th {\n",
       "        vertical-align: top;\n",
       "    }\n",
       "\n",
       "    .dataframe thead th {\n",
       "        text-align: right;\n",
       "    }\n",
       "</style>\n",
       "<table border=\"1\" class=\"dataframe\">\n",
       "  <thead>\n",
       "    <tr style=\"text-align: right;\">\n",
       "      <th></th>\n",
       "      <th>hash</th>\n",
       "      <th>hash_pct</th>\n",
       "    </tr>\n",
       "  </thead>\n",
       "  <tbody>\n",
       "    <tr>\n",
       "      <th>#standwithhongkong</th>\n",
       "      <td>115780</td>\n",
       "      <td>70.73</td>\n",
       "    </tr>\n",
       "    <tr>\n",
       "      <th>#freehongkong</th>\n",
       "      <td>28501</td>\n",
       "      <td>17.41</td>\n",
       "    </tr>\n",
       "    <tr>\n",
       "      <th>#hkpolicebrutality</th>\n",
       "      <td>7565</td>\n",
       "      <td>4.62</td>\n",
       "    </tr>\n",
       "    <tr>\n",
       "      <th>#hkpolicestate</th>\n",
       "      <td>5424</td>\n",
       "      <td>3.31</td>\n",
       "    </tr>\n",
       "    <tr>\n",
       "      <th>#HongKongProtest</th>\n",
       "      <td>2954</td>\n",
       "      <td>1.80</td>\n",
       "    </tr>\n",
       "    <tr>\n",
       "      <th>#hkprotests</th>\n",
       "      <td>1933</td>\n",
       "      <td>1.18</td>\n",
       "    </tr>\n",
       "    <tr>\n",
       "      <th>#hkpoliceterrorism</th>\n",
       "      <td>567</td>\n",
       "      <td>0.35</td>\n",
       "    </tr>\n",
       "    <tr>\n",
       "      <th>#WeAreNotAlone</th>\n",
       "      <td>453</td>\n",
       "      <td>0.28</td>\n",
       "    </tr>\n",
       "    <tr>\n",
       "      <th>#HKpoliceterrorist</th>\n",
       "      <td>325</td>\n",
       "      <td>0.20</td>\n",
       "    </tr>\n",
       "    <tr>\n",
       "      <th>#PrayForHongkong</th>\n",
       "      <td>133</td>\n",
       "      <td>0.08</td>\n",
       "    </tr>\n",
       "    <tr>\n",
       "      <th>#FightForHongKong</th>\n",
       "      <td>50</td>\n",
       "      <td>0.03</td>\n",
       "    </tr>\n",
       "    <tr>\n",
       "      <th>#nochinaextradition</th>\n",
       "      <td>14</td>\n",
       "      <td>0.01</td>\n",
       "    </tr>\n",
       "  </tbody>\n",
       "</table>\n",
       "</div>"
      ],
      "text/plain": [
       "                       hash  hash_pct\n",
       "#standwithhongkong   115780     70.73\n",
       "#freehongkong         28501     17.41\n",
       "#hkpolicebrutality     7565      4.62\n",
       "#hkpolicestate         5424      3.31\n",
       "#HongKongProtest       2954      1.80\n",
       "#hkprotests            1933      1.18\n",
       "#hkpoliceterrorism      567      0.35\n",
       "#WeAreNotAlone          453      0.28\n",
       "#HKpoliceterrorist      325      0.20\n",
       "#PrayForHongkong        133      0.08\n",
       "#FightForHongKong        50      0.03\n",
       "#nochinaextradition      14      0.01"
      ]
     },
     "execution_count": 1015,
     "metadata": {},
     "output_type": "execute_result"
    }
   ],
   "source": [
    "sns.set_style('darkgrid')\n",
    "# Moving the number of tweets into a seperate column to identify usage\n",
    "twits = pd.DataFrame(df_tweets_wout_dup_en['hash'].value_counts())\n",
    "\n",
    "# Taking a look visually\n",
    "plt.figure(figsize=(15, 6))\n",
    "twits.plot.barh()\n",
    "plt.show()\n",
    "\n",
    "twits['hash_pct'] = round((( twits.hash / twits.hash.sum() ) * 100),2)\n",
    "twits"
   ]
  },
  {
   "cell_type": "markdown",
   "metadata": {},
   "source": [
    "The **top 2 seem to control the data frame**, shy of **~90% in 2 tweets**; simple math but would like to understand it for later use / **this is for reference.**"
   ]
  },
  {
   "cell_type": "code",
   "execution_count": 1016,
   "metadata": {},
   "outputs": [
    {
     "data": {
      "text/plain": [
       "88.14"
      ]
     },
     "execution_count": 1016,
     "metadata": {},
     "output_type": "execute_result"
    }
   ],
   "source": [
    "twits['hash_pct']['#standwithhongkong'] + twits['hash_pct']['#freehongkong']"
   ]
  },
  {
   "cell_type": "code",
   "execution_count": 956,
   "metadata": {},
   "outputs": [],
   "source": [
    "# df['likes_count'].describe()"
   ]
  },
  {
   "cell_type": "code",
   "execution_count": null,
   "metadata": {},
   "outputs": [],
   "source": []
  },
  {
   "cell_type": "markdown",
   "metadata": {},
   "source": [
    "**Time |** We will now see **if anything has changed during the three (3) months after the law was introduced.**\n",
    "\n",
    "As a reminder, that was **1 June 2020.**"
   ]
  },
  {
   "cell_type": "code",
   "execution_count": 163,
   "metadata": {},
   "outputs": [],
   "source": [
    "df_time = df.copy()\n",
    "df_time['count'] = int(1)\n",
    "df_time_daily = df_time.groupby('created_at').agg('sum')\n",
    "df_time_daily = df_time_daily.reset_index()"
   ]
  },
  {
   "cell_type": "code",
   "execution_count": 199,
   "metadata": {},
   "outputs": [
    {
     "data": {
      "text/plain": [
       "[Text(0.5, 0, 'Day Tweeted'),\n",
       " Text(0, 0.5, 'Total Number of Tweets'),\n",
       " Text(0.5, 1.0, '# of Tweets over time')]"
      ]
     },
     "execution_count": 199,
     "metadata": {},
     "output_type": "execute_result"
    },
    {
     "data": {
      "image/png": "[encoded data removed]",
      "text/plain": [
       "<Figure size 1440x864 with 1 Axes>"
      ]
     },
     "metadata": {},
     "output_type": "display_data"
    }
   ],
   "source": [
    "fig_dims = (20, 12)\n",
    "fig, ax = plt.subplots(figsize=fig_dims)\n",
    "\n",
    "sns.set_theme(style=\"whitegrid\")\n",
    "ax = sns.barplot(x=\"created_at\", y=\"count\", data=df_time_daily)\n",
    "\n",
    "x_dates = df_time_daily['created_at'].dt.strftime('%m-%d').sort_values().unique()\n",
    "ax.set_xticklabels(labels=x_dates, rotation=45, ha='right')\n",
    "\n",
    "ax.set(xlabel=\"Day Tweeted\", ylabel = \"Total Number of Tweets\", title='# of Tweets over time')"
   ]
  },
  {
   "cell_type": "code",
   "execution_count": 165,
   "metadata": {},
   "outputs": [
    {
     "data": {
      "text/plain": [
       "count      91.000000\n",
       "mean     1798.890110\n",
       "std      1150.315449\n",
       "min       255.000000\n",
       "25%      1111.000000\n",
       "50%      1475.000000\n",
       "75%      2078.000000\n",
       "max      7537.000000\n",
       "Name: count, dtype: float64"
      ]
     },
     "execution_count": 165,
     "metadata": {},
     "output_type": "execute_result"
    }
   ],
   "source": [
    "df_time_daily['count'].describe()"
   ]
  },
  {
   "cell_type": "code",
   "execution_count": 198,
   "metadata": {},
   "outputs": [
    {
     "name": "stdout",
     "output_type": "stream",
     "text": [
      "  There were notable outliers in the 95.0 percentile with 3,723.5 tweets between the following dates:\n",
      "\n",
      "    created_at  count\n",
      "30 2020-06-30   3724\n",
      "31 2020-07-01   7537\n",
      "32 2020-07-02   4497\n",
      "71 2020-08-10   7142\n",
      "72 2020-08-11   4222 \n",
      " \n",
      " It may be interesting to see what was happening at those two periods.\n"
     ]
    }
   ],
   "source": [
    "n = 0.95\n",
    "outers = df_time_daily[df_time_daily['count'] > df_time_daily['count'].quantile(n)]\n",
    "\n",
    "print('  There were notable outliers in the',round((n*100),0),'percentile with', \"{:,}\".format(df_time_daily['count'].quantile(n)), 'tweets between the following dates:')\n",
    "print('\\n',outers[['created_at','count']],'\\n','\\n',\n",
    "      'It may be interesting to see what was happening at those two periods.')"
   ]
  },
  {
   "cell_type": "code",
   "execution_count": null,
   "metadata": {},
   "outputs": [],
   "source": []
  },
  {
   "cell_type": "markdown",
   "metadata": {},
   "source": [
    "**Rand | This is what I would like to convert the above bar chart too**"
   ]
  },
  {
   "attachments": {
    "image-2.png": {
     "image/png": "[encoded data removed]"
    }
   },
   "cell_type": "markdown",
   "metadata": {},
   "source": [
    "![image-2.png](attachment:image-2.png)"
   ]
  },
  {
   "cell_type": "code",
   "execution_count": 200,
   "metadata": {},
   "outputs": [
    {
     "data": {
      "text/plain": [
       "Index(['created_at', 'replies_count', 'retweets_count', 'likes_count',\n",
       "       '#_words_tweet', '#_hashtags', 'count'],\n",
       "      dtype='object')"
      ]
     },
     "execution_count": 200,
     "metadata": {},
     "output_type": "execute_result"
    }
   ],
   "source": [
    "df_time_daily.columns"
   ]
  },
  {
   "cell_type": "code",
   "execution_count": 201,
   "metadata": {},
   "outputs": [
    {
     "data": {
      "text/plain": [
       "[Text(0.5, 0, 'Day Tweeted'),\n",
       " Text(0, 0.5, 'Total Number of Likes'),\n",
       " Text(0.5, 1.0, '# of Tweet Likes over time')]"
      ]
     },
     "execution_count": 201,
     "metadata": {},
     "output_type": "execute_result"
    },
    {
     "data": {
      "image/png": "[encoded data removed]",
      "text/plain": [
       "<Figure size 1440x864 with 1 Axes>"
      ]
     },
     "metadata": {},
     "output_type": "display_data"
    }
   ],
   "source": [
    "fig_dims = (20, 12)\n",
    "fig, ax = plt.subplots(figsize=fig_dims)\n",
    "\n",
    "sns.set_theme(style=\"whitegrid\")\n",
    "ax = sns.barplot(x=\"created_at\", y=\"likes_count\", data=df_time_daily)\n",
    "\n",
    "x_dates = df_time_daily['created_at'].dt.strftime('%m-%d').sort_values().unique()\n",
    "ax.set_xticklabels(labels=x_dates, rotation=45, ha='right')\n",
    "\n",
    "ax.set(xlabel=\"Day Tweeted\", ylabel = \"Total Number of Likes\", title='# of Tweet Likes over time')"
   ]
  },
  {
   "cell_type": "markdown",
   "metadata": {},
   "source": [
    "Looking at the total number of likes, it looks pretty similar to tweet count."
   ]
  },
  {
   "cell_type": "code",
   "execution_count": 204,
   "metadata": {},
   "outputs": [
    {
     "data": {
      "text/plain": [
       "Index(['created_at', 'replies_count', 'retweets_count', 'likes_count',\n",
       "       '#_words_tweet', '#_hashtags', 'count'],\n",
       "      dtype='object')"
      ]
     },
     "execution_count": 204,
     "metadata": {},
     "output_type": "execute_result"
    }
   ],
   "source": [
    "df_time_daily.columns"
   ]
  },
  {
   "cell_type": "code",
   "execution_count": 205,
   "metadata": {},
   "outputs": [
    {
     "data": {
      "text/html": [
       "<div>\n",
       "<style scoped>\n",
       "    .dataframe tbody tr th:only-of-type {\n",
       "        vertical-align: middle;\n",
       "    }\n",
       "\n",
       "    .dataframe tbody tr th {\n",
       "        vertical-align: top;\n",
       "    }\n",
       "\n",
       "    .dataframe thead th {\n",
       "        text-align: right;\n",
       "    }\n",
       "</style>\n",
       "<table border=\"1\" class=\"dataframe\">\n",
       "  <thead>\n",
       "    <tr style=\"text-align: right;\">\n",
       "      <th></th>\n",
       "      <th>created_at</th>\n",
       "      <th>replies_count</th>\n",
       "      <th>retweets_count</th>\n",
       "      <th>likes_count</th>\n",
       "      <th>#_words_tweet</th>\n",
       "      <th>#_hashtags</th>\n",
       "      <th>count</th>\n",
       "    </tr>\n",
       "  </thead>\n",
       "  <tbody>\n",
       "    <tr>\n",
       "      <th>0</th>\n",
       "      <td>2020-05-31</td>\n",
       "      <td>35</td>\n",
       "      <td>434</td>\n",
       "      <td>1291</td>\n",
       "      <td>5725</td>\n",
       "      <td>954</td>\n",
       "      <td>255</td>\n",
       "    </tr>\n",
       "    <tr>\n",
       "      <th>1</th>\n",
       "      <td>2020-06-01</td>\n",
       "      <td>741</td>\n",
       "      <td>5939</td>\n",
       "      <td>14384</td>\n",
       "      <td>44951</td>\n",
       "      <td>6609</td>\n",
       "      <td>2105</td>\n",
       "    </tr>\n",
       "  </tbody>\n",
       "</table>\n",
       "</div>"
      ],
      "text/plain": [
       "  created_at  replies_count  retweets_count  likes_count  #_words_tweet  \\\n",
       "0 2020-05-31             35             434         1291           5725   \n",
       "1 2020-06-01            741            5939        14384          44951   \n",
       "\n",
       "   #_hashtags  count  \n",
       "0         954    255  \n",
       "1        6609   2105  "
      ]
     },
     "execution_count": 205,
     "metadata": {},
     "output_type": "execute_result"
    }
   ],
   "source": [
    "df_time_daily.head(2)"
   ]
  },
  {
   "cell_type": "code",
   "execution_count": null,
   "metadata": {},
   "outputs": [],
   "source": []
  },
  {
   "cell_type": "code",
   "execution_count": null,
   "metadata": {},
   "outputs": [],
   "source": [
    "#Plot the top 10 tweets\n",
    "most_hash = ted_talks[['title','main_speaker','views','speaker_occupation','film_date']].sort_values(by = 'views',ascending = False).head(10)\n",
    "plt.figure(figsize = (7,7))\n",
    "sns.set(font_scale = 1.2)\n",
    "sns.barplot(y = 'title', x = 'views',data = most_viewed)\n",
    "plt.title(\"Top 10 Most viewd talks\")\n",
    "plt.ylabel('Talks')\n"
   ]
  },
  {
   "cell_type": "code",
   "execution_count": null,
   "metadata": {},
   "outputs": [],
   "source": []
  },
  {
   "cell_type": "code",
   "execution_count": null,
   "metadata": {},
   "outputs": [],
   "source": []
  },
  {
   "cell_type": "code",
   "execution_count": null,
   "metadata": {},
   "outputs": [],
   "source": []
  },
  {
   "cell_type": "code",
   "execution_count": null,
   "metadata": {},
   "outputs": [],
   "source": []
  }
 ],
 "metadata": {
  "kernelspec": {
   "display_name": "Python 3",
   "language": "python",
   "name": "python3"
  },
  "language_info": {
   "codemirror_mode": {
    "name": "ipython",
    "version": 3
   },
   "file_extension": ".py",
   "mimetype": "text/x-python",
   "name": "python",
   "nbconvert_exporter": "python",
   "pygments_lexer": "ipython3",
   "version": "3.8.5"
  },
  "varInspector": {
   "cols": {
    "lenName": 16,
    "lenType": 16,
    "lenVar": 40
   },
   "kernels_config": {
    "python": {
     "delete_cmd_postfix": "",
     "delete_cmd_prefix": "del ",
     "library": "var_list.py",
     "varRefreshCmd": "print(var_dic_list())"
    },
    "r": {
     "delete_cmd_postfix": ") ",
     "delete_cmd_prefix": "rm(",
     "library": "var_list.r",
     "varRefreshCmd": "cat(var_dic_list()) "
    }
   },
   "types_to_exclude": [
    "module",
    "function",
    "builtin_function_or_method",
    "instance",
    "_Feature"
   ],
   "window_display": false
  }
 },
 "nbformat": 4,
 "nbformat_minor": 4
}
