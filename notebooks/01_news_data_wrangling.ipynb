{
 "cells": [
  {
   "cell_type": "markdown",
   "metadata": {},
   "source": [
    "# Data Wrangling | News ( HK NLP Project )"
   ]
  },
  {
   "cell_type": "markdown",
   "metadata": {},
   "source": [
    "# Table of Contents\n",
    "* [1 News Wrangling](#2_Data_wrangling)\n",
    "  * [1.1 Contents](#Contents)\n",
    "  * [1.2 Imports & Set Up](#imports)\n",
    "  * [1.3 Initial Review before Regex](#irbr)\n",
    "  * [1.4 Regex](#regex)\n",
    "  * [1.5 xxxxxxxxxxxxxx](#_____)\n",
    "  * [1.6 xxxxxxxxxxxxxx](#_____)\n",
    "  * [1.7 xxxxxxxxxxxxxx](#_____)\n",
    "  * [1.8 xxxxxxxxxxxxxx](#_____)\n",
    "  * [1.9 xxxxxxxxxxxxxx](#_____)\n",
    "  * [1.10 Saving to the Main Dataframe](#saving)\n",
    "\n"
   ]
  },
  {
   "cell_type": "markdown",
   "metadata": {},
   "source": [
    "# **1.1 Contents**<a id='Contents'></a>"
   ]
  },
  {
   "cell_type": "markdown",
   "metadata": {},
   "source": [
    "This is where you will summarize your intent."
   ]
  },
  {
   "cell_type": "markdown",
   "metadata": {},
   "source": [
    "# **1.2 Imports & Set Up**<a id='imports'></a>"
   ]
  },
  {
   "cell_type": "markdown",
   "metadata": {},
   "source": [
    "**Importing the necessary tools** required & confirming our version."
   ]
  },
  {
   "cell_type": "code",
   "execution_count": 352,
   "metadata": {},
   "outputs": [],
   "source": [
    "import pandas as pd\n",
    "import matplotlib.pyplot as plt\n",
    "import matplotlib.colors as colors\n",
    "import seaborn as sns\n",
    "import os\n",
    "import lxml\n",
    "import datetime\n",
    "import requests\n",
    "import json\n",
    "import collections\n",
    "import seaborn as sns\n",
    "from scipy import stats\n",
    "import numpy as np\n",
    "from numpy import median\n",
    "from bs4 import BeautifulSoup as soup\n",
    "import csv\n",
    "import re\n",
    "import pickle\n",
    "\n",
    "from datetime import date\n",
    "from datetime import datetime\n",
    "today = date.today()\n",
    "d = today.strftime(\"%m-%d-%y\")\n",
    "\n",
    "%reload_ext watermark"
   ]
  },
  {
   "cell_type": "code",
   "execution_count": 353,
   "metadata": {},
   "outputs": [
    {
     "name": "stdout",
     "output_type": "stream",
     "text": [
      "Python implementation: CPython\n",
      "Python version       : 3.8.5\n",
      "IPython version      : 7.19.0\n",
      "\n",
      "pandas: 1.1.3\n",
      "\n"
     ]
    }
   ],
   "source": [
    "%watermark -d -t -v -p pandas"
   ]
  },
  {
   "cell_type": "markdown",
   "metadata": {},
   "source": [
    "**Importing the news** which were scraped & saved elsewhere."
   ]
  },
  {
   "cell_type": "code",
   "execution_count": 354,
   "metadata": {},
   "outputs": [],
   "source": [
    "# The international news articles\n",
    "bbc_1 = pd.read_csv('./_Capstone_Two_NLP/data/_news/bbc_1.csv')\n",
    "bbc_2 = pd.read_csv('./_Capstone_Two_NLP/data/_news/bbc_2.csv')\n",
    "# 3\n",
    "# 4\n",
    "nytimes_5 = pd.read_csv('./_Capstone_Two_NLP/data/_news/nytimes_5.csv')\n",
    "forbes_6 = pd.read_csv('./_Capstone_Two_NLP/data/_news/forbes_6.csv')\n",
    "insider_5 = pd.read_csv('./_Capstone_Two_NLP/data/_news/insider_5.csv')\n",
    "abc_6 = pd.read_csv('./_Capstone_Two_NLP/data/_news/abc_6.csv')\n",
    "# 9\n",
    "# 10\n",
    "cnn_11 = pd.read_csv('./_Capstone_Two_NLP/data/_news/cnn_11.csv')\n",
    "nypost_8 = pd.read_csv('./_Capstone_Two_NLP/data/_news/nypost_8.csv')\n",
    "nippon_9 = pd.read_csv('./_Capstone_Two_NLP/data/_news/nippon_9.csv')\n",
    "# 14\n",
    "# 15\n",
    "# 16\n",
    "# 17\n",
    "bbc_18 = pd.read_csv('./_Capstone_Two_NLP/data/_news/bbc_18.csv')\n",
    "bbc_19 = pd.read_csv('./_Capstone_Two_NLP/data/_news/bbc_19.csv')\n",
    "bbc_20 = pd.read_csv('./_Capstone_Two_NLP/data/_news/bbc_20.csv')\n",
    "bbc_21 = pd.read_csv('./_Capstone_Two_NLP/data/_news/bbc_21.csv')\n",
    "bbc_22 = pd.read_csv('./_Capstone_Two_NLP/data/_news/bbc_22.csv')\n",
    "theDiplomat_23 = pd.read_csv('./_Capstone_Two_NLP/data/_news/theDiplomat_23.csv')\n",
    "\n",
    "\n",
    "\n",
    "\n",
    "# China news articles\n",
    "peoples_daily_1 = pd.read_csv('./_Capstone_Two_NLP/data/_news/peoples_daily_1.csv')\n",
    "peoples_daily_2 = pd.read_csv('./_Capstone_Two_NLP/data/_news/peoples_daily_2.csv')\n",
    "peoples_daily_3 = pd.read_csv('./_Capstone_Two_NLP/data/_news/peoples_daily_3.csv')\n",
    "peoples_daily_4 = pd.read_csv('./_Capstone_Two_NLP/data/_news/peoples_daily_4.csv')\n",
    "peoples_daily_5 = pd.read_csv('./_Capstone_Two_NLP/data/_news/peoples_daily_5.csv')\n",
    "globaltimes_6 = pd.read_csv('./_Capstone_Two_NLP/data/_news/globaltimes_6.csv')\n",
    "globaltimes_7 = pd.read_csv('./_Capstone_Two_NLP/data/_news/globaltimes_7.csv')\n",
    "globaltimes_8 = pd.read_csv('./_Capstone_Two_NLP/data/_news/globaltimes_8.csv')\n",
    "min_foreign_aff_9 = pd.read_csv('./_Capstone_Two_NLP/data/_news/min_foreign_aff_9.csv')\n",
    "min_foreign_aff_10 = pd.read_csv('./_Capstone_Two_NLP/data/_news/min_foreign_aff_10.csv')\n",
    "xinhua_11 = pd.read_csv('./_Capstone_Two_NLP/data/_news/xinhua_11.csv')\n",
    "xinhua_12 = pd.read_csv('./_Capstone_Two_NLP/data/_news/xinhua_12.csv')\n",
    "theStandard_13 = pd.read_csv('./_Capstone_Two_NLP/data/_news/theStandard_13.csv')\n",
    "china_daily_14 = pd.read_csv('./_Capstone_Two_NLP/data/_news/china_daily_14.csv')\n",
    "hkgovt_15 = pd.read_csv('./_Capstone_Two_NLP/data/_news/hkgovt_15.csv')\n"
   ]
  },
  {
   "cell_type": "markdown",
   "metadata": {},
   "source": [
    "**Pulling them all together into a data frame.**"
   ]
  },
  {
   "cell_type": "code",
   "execution_count": 355,
   "metadata": {},
   "outputs": [],
   "source": [
    "# setting up the main data frame for news\n",
    "news = pd.DataFrame()"
   ]
  },
  {
   "cell_type": "code",
   "execution_count": 356,
   "metadata": {},
   "outputs": [],
   "source": [
    "# Int'l news articles\n",
    "news = news.append(bbc_1, ignore_index=True)\n",
    "news = news.append(bbc_2, ignore_index=True)\n",
    "# 3\n",
    "# 4\n",
    "news = news.append(nytimes_5, ignore_index=True)\n",
    "news = news.append(forbes_6, ignore_index=True)\n",
    "news = news.append(insider_5, ignore_index=True)\n",
    "news = news.append(abc_6, ignore_index=True)\n",
    "# 9\n",
    "# 10\n",
    "news = news.append(cnn_11, ignore_index=True)\n",
    "news = news.append(nypost_8, ignore_index=True)\n",
    "news = news.append(nippon_9, ignore_index=True)\n",
    "# 14\n",
    "# 15\n",
    "# 16\n",
    "# 17\n",
    "news = news.append(bbc_18, ignore_index=True)\n",
    "news = news.append(bbc_19, ignore_index=True)\n",
    "news = news.append(bbc_20, ignore_index=True)\n",
    "news = news.append(bbc_21, ignore_index=True)\n",
    "news = news.append(bbc_22, ignore_index=True)\n",
    "news = news.append(theDiplomat_23, ignore_index=True)\n",
    "\n",
    "\n",
    "# China news articles\n",
    "news = news.append(peoples_daily_1, ignore_index=True)\n",
    "news = news.append(peoples_daily_2, ignore_index=True)\n",
    "news = news.append(peoples_daily_3, ignore_index=True)\n",
    "news = news.append(peoples_daily_4, ignore_index=True)\n",
    "news = news.append(peoples_daily_5, ignore_index=True)\n",
    "news = news.append(globaltimes_6, ignore_index=True)\n",
    "news = news.append(globaltimes_7, ignore_index=True)\n",
    "news = news.append(globaltimes_8, ignore_index=True)\n",
    "news = news.append(min_foreign_aff_9, ignore_index=True)\n",
    "news = news.append(min_foreign_aff_10, ignore_index=True)\n",
    "news = news.append(xinhua_11, ignore_index=True)\n",
    "news = news.append(xinhua_12, ignore_index=True)\n",
    "news = news.append(theStandard_13, ignore_index=True)\n",
    "news = news.append(china_daily_14, ignore_index=True)\n",
    "news = news.append(hkgovt_15, ignore_index=True)\n"
   ]
  },
  {
   "cell_type": "markdown",
   "metadata": {},
   "source": [
    "Adding a **new column for word count** on each article **for reference.**"
   ]
  },
  {
   "cell_type": "code",
   "execution_count": 361,
   "metadata": {
    "scrolled": true
   },
   "outputs": [
    {
     "data": {
      "text/plain": [
       "30"
      ]
     },
     "execution_count": 361,
     "metadata": {},
     "output_type": "execute_result"
    }
   ],
   "source": [
    "word_counts = news.article.str.len().value_counts()\n",
    "word_counts_list = [word_counts]\n",
    "df_word_counts = pd.DataFrame(word_counts_list).T\n",
    "df_word_counts['Word_count'] = df_word_counts.index\n",
    "df_word_counts = df_word_counts.drop(['article'], axis=1)\n",
    "df_word_counts = df_word_counts.reset_index()\n",
    "df_word_counts = df_word_counts.drop(['index'], axis=1)\n",
    "news['word_count'] = df_word_counts\n",
    "len(df_word_counts)"
   ]
  },
  {
   "cell_type": "code",
   "execution_count": 362,
   "metadata": {},
   "outputs": [
    {
     "data": {
      "text/html": [
       "<div>\n",
       "<style scoped>\n",
       "    .dataframe tbody tr th:only-of-type {\n",
       "        vertical-align: middle;\n",
       "    }\n",
       "\n",
       "    .dataframe tbody tr th {\n",
       "        vertical-align: top;\n",
       "    }\n",
       "\n",
       "    .dataframe thead th {\n",
       "        text-align: right;\n",
       "    }\n",
       "</style>\n",
       "<table border=\"1\" class=\"dataframe\">\n",
       "  <thead>\n",
       "    <tr style=\"text-align: right;\">\n",
       "      <th></th>\n",
       "      <th>file_name</th>\n",
       "      <th>date</th>\n",
       "      <th>source</th>\n",
       "      <th>country</th>\n",
       "      <th>title</th>\n",
       "      <th>article</th>\n",
       "      <th>word_count</th>\n",
       "    </tr>\n",
       "  </thead>\n",
       "  <tbody>\n",
       "    <tr>\n",
       "      <th>0</th>\n",
       "      <td>bbc_1</td>\n",
       "      <td>2020-06-30</td>\n",
       "      <td>BBC</td>\n",
       "      <td>UK</td>\n",
       "      <td>Hong Kong security law: What is it and is it w...</td>\n",
       "      <td>China has passed a wide-ranging new security l...</td>\n",
       "      <td>6143</td>\n",
       "    </tr>\n",
       "    <tr>\n",
       "      <th>1</th>\n",
       "      <td>bbc_2</td>\n",
       "      <td>2020-07-01</td>\n",
       "      <td>BBC</td>\n",
       "      <td>UK</td>\n",
       "      <td>Hong Kong's new security law: Why it scares pe...</td>\n",
       "      <td>China has introduced a new national security l...</td>\n",
       "      <td>5324</td>\n",
       "    </tr>\n",
       "    <tr>\n",
       "      <th>2</th>\n",
       "      <td>nytimes_5</td>\n",
       "      <td>2020-06-28</td>\n",
       "      <td>NY Times</td>\n",
       "      <td>US</td>\n",
       "      <td>What China’s New National Security Law Means f...</td>\n",
       "      <td>Chinese lawmakers have approved a national sec...</td>\n",
       "      <td>6021</td>\n",
       "    </tr>\n",
       "    <tr>\n",
       "      <th>3</th>\n",
       "      <td>forbes_6</td>\n",
       "      <td>2020-07-01</td>\n",
       "      <td>Forbes</td>\n",
       "      <td>US</td>\n",
       "      <td>Hong Kong Makes First Arrests Under Beijing’s ...</td>\n",
       "      <td>Share to FacebookShare to TwitterShare to Link...</td>\n",
       "      <td>3078</td>\n",
       "    </tr>\n",
       "    <tr>\n",
       "      <th>4</th>\n",
       "      <td>insider_5</td>\n",
       "      <td>2020-08-02</td>\n",
       "      <td>Insider</td>\n",
       "      <td>US</td>\n",
       "      <td>Teenage arrests, blank protest signs, and a ke...</td>\n",
       "      <td>Thursday, July 30, marked one month since Chin...</td>\n",
       "      <td>18122</td>\n",
       "    </tr>\n",
       "    <tr>\n",
       "      <th>5</th>\n",
       "      <td>abc_6</td>\n",
       "      <td>2020-07-01</td>\n",
       "      <td>ABC News</td>\n",
       "      <td>US</td>\n",
       "      <td>What's in Hong Kong's new national security la...</td>\n",
       "      <td>The full details of the controversial national...</td>\n",
       "      <td>9868</td>\n",
       "    </tr>\n",
       "    <tr>\n",
       "      <th>6</th>\n",
       "      <td>cnn_11</td>\n",
       "      <td>2020-07-03</td>\n",
       "      <td>CNN</td>\n",
       "      <td>US</td>\n",
       "      <td>Hong Kong's security law could have a chilling...</td>\n",
       "      <td>London (CNN Business)Hong Kong insists its vib...</td>\n",
       "      <td>2960</td>\n",
       "    </tr>\n",
       "    <tr>\n",
       "      <th>7</th>\n",
       "      <td>nypost_8</td>\n",
       "      <td>2020-07-01</td>\n",
       "      <td>NY Post</td>\n",
       "      <td>US</td>\n",
       "      <td>Hong Kong police arrest over 300 in first prot...</td>\n",
       "      <td>Hong Kong police arrested more than 300 people...</td>\n",
       "      <td>16593</td>\n",
       "    </tr>\n",
       "    <tr>\n",
       "      <th>8</th>\n",
       "      <td>nippon_9</td>\n",
       "      <td>2020-08-14</td>\n",
       "      <td>Nippon</td>\n",
       "      <td>Japan</td>\n",
       "      <td>Hong Kong’s Security Law: How Should Japan Res...</td>\n",
       "      <td>Growing Private and Governmental Support for H...</td>\n",
       "      <td>6744</td>\n",
       "    </tr>\n",
       "    <tr>\n",
       "      <th>9</th>\n",
       "      <td>bbc_18</td>\n",
       "      <td>2020-06-30</td>\n",
       "      <td>BBC</td>\n",
       "      <td>UK</td>\n",
       "      <td>Hong Kong security law: Anger as China's Xi si...</td>\n",
       "      <td>The UK, EU and Nato have expressed concern and...</td>\n",
       "      <td>9498</td>\n",
       "    </tr>\n",
       "    <tr>\n",
       "      <th>10</th>\n",
       "      <td>bbc_19</td>\n",
       "      <td>2020-06-30</td>\n",
       "      <td>BBC</td>\n",
       "      <td>UK</td>\n",
       "      <td>Hong Kong security law: Minutes after new law,...</td>\n",
       "      <td>On Tuesday morning, the news started to break ...</td>\n",
       "      <td>9627</td>\n",
       "    </tr>\n",
       "    <tr>\n",
       "      <th>11</th>\n",
       "      <td>bbc_20</td>\n",
       "      <td>2020-07-08</td>\n",
       "      <td>BBC</td>\n",
       "      <td>UK</td>\n",
       "      <td>Hong Kong security law: Beijing security offic...</td>\n",
       "      <td>A new national security office has been offici...</td>\n",
       "      <td>8028</td>\n",
       "    </tr>\n",
       "    <tr>\n",
       "      <th>12</th>\n",
       "      <td>bbc_21</td>\n",
       "      <td>2020-07-05</td>\n",
       "      <td>BBC</td>\n",
       "      <td>UK</td>\n",
       "      <td>Hong Kong security law: Pro-democracy books pu...</td>\n",
       "      <td>Books by pro-democracy figures have been remov...</td>\n",
       "      <td>4315</td>\n",
       "    </tr>\n",
       "    <tr>\n",
       "      <th>13</th>\n",
       "      <td>bbc_22</td>\n",
       "      <td>2020-06-30</td>\n",
       "      <td>BBC</td>\n",
       "      <td>UK</td>\n",
       "      <td>Hong Kong security law: Life sentences for bre...</td>\n",
       "      <td>People in Hong Kong could face life in jail fo...</td>\n",
       "      <td>6367</td>\n",
       "    </tr>\n",
       "    <tr>\n",
       "      <th>14</th>\n",
       "      <td>theDiplomat_23</td>\n",
       "      <td>2020-07-01</td>\n",
       "      <td>the Diplomat</td>\n",
       "      <td>US</td>\n",
       "      <td>Hong Kong Through Water and Fire</td>\n",
       "      <td>Credit: AP Photo/Kin CheungAdvertisementIt has...</td>\n",
       "      <td>3486</td>\n",
       "    </tr>\n",
       "    <tr>\n",
       "      <th>15</th>\n",
       "      <td>peoples_daily_1</td>\n",
       "      <td>2020-07-03</td>\n",
       "      <td>People's Daily</td>\n",
       "      <td>China</td>\n",
       "      <td>Newly passed national security law a seawall s...</td>\n",
       "      <td>The Law of the People’s Republic of China on S...</td>\n",
       "      <td>6500</td>\n",
       "    </tr>\n",
       "    <tr>\n",
       "      <th>16</th>\n",
       "      <td>peoples_daily_2</td>\n",
       "      <td>2020-07-02</td>\n",
       "      <td>People's Daily</td>\n",
       "      <td>China</td>\n",
       "      <td>Hong Kong national security law helps ensure l...</td>\n",
       "      <td>On June 30, the Standing Committee of the 13th...</td>\n",
       "      <td>4325</td>\n",
       "    </tr>\n",
       "    <tr>\n",
       "      <th>17</th>\n",
       "      <td>peoples_daily_3</td>\n",
       "      <td>2020-07-02</td>\n",
       "      <td>People's Daily</td>\n",
       "      <td>China</td>\n",
       "      <td>Law and order dawns in Hong Kong as new law ta...</td>\n",
       "      <td>-- The festive mood across Hong Kong on the 23...</td>\n",
       "      <td>3238</td>\n",
       "    </tr>\n",
       "    <tr>\n",
       "      <th>18</th>\n",
       "      <td>peoples_daily_4</td>\n",
       "      <td>2020-07-02</td>\n",
       "      <td>People's Daily</td>\n",
       "      <td>China</td>\n",
       "      <td>National Security Law paves the way for more p...</td>\n",
       "      <td>Hong Kong, the popular Asian city, returned to...</td>\n",
       "      <td>4712</td>\n",
       "    </tr>\n",
       "    <tr>\n",
       "      <th>19</th>\n",
       "      <td>peoples_daily_5</td>\n",
       "      <td>2020-07-02</td>\n",
       "      <td>People's Daily</td>\n",
       "      <td>China</td>\n",
       "      <td>HKSAR national security law to put HK back on ...</td>\n",
       "      <td>Zhang Xiaoming, deputy director of the Hong Ko...</td>\n",
       "      <td>11881</td>\n",
       "    </tr>\n",
       "    <tr>\n",
       "      <th>20</th>\n",
       "      <td>globaltimes_6</td>\n",
       "      <td>2021-04-19</td>\n",
       "      <td>Global Times</td>\n",
       "      <td>China</td>\n",
       "      <td>Biased tone, misinformation ‘major mistakes’ b...</td>\n",
       "      <td>Victor Gao (center), chair professor of Soocho...</td>\n",
       "      <td>3711</td>\n",
       "    </tr>\n",
       "    <tr>\n",
       "      <th>21</th>\n",
       "      <td>globaltimes_7</td>\n",
       "      <td>2020-07-06</td>\n",
       "      <td>Global Times</td>\n",
       "      <td>China</td>\n",
       "      <td>London’s measures meaningless, ‘bluff rather t...</td>\n",
       "      <td>A Huawei store stands next to a Globe Telecom ...</td>\n",
       "      <td>4294</td>\n",
       "    </tr>\n",
       "    <tr>\n",
       "      <th>22</th>\n",
       "      <td>globaltimes_8</td>\n",
       "      <td>2020-06-30</td>\n",
       "      <td>Global Times</td>\n",
       "      <td>China</td>\n",
       "      <td>National Security Law to protect HK democracy...</td>\n",
       "      <td>Hong Kong citizens on Tuesday gather to suppor...</td>\n",
       "      <td>1712</td>\n",
       "    </tr>\n",
       "    <tr>\n",
       "      <th>23</th>\n",
       "      <td>min_foreign_aff_9</td>\n",
       "      <td>2020-07-20</td>\n",
       "      <td>Ministry of Foreign Affairs</td>\n",
       "      <td>China</td>\n",
       "      <td>Ambassador Liu Xiaoming Gives Exclusive Live I...</td>\n",
       "      <td>On 19 July 2020, H.E. Ambassador Liu Xiaoming ...</td>\n",
       "      <td>5683</td>\n",
       "    </tr>\n",
       "    <tr>\n",
       "      <th>24</th>\n",
       "      <td>min_foreign_aff_10</td>\n",
       "      <td>2020-07-01</td>\n",
       "      <td>Ministry of Foreign Affairs</td>\n",
       "      <td>China</td>\n",
       "      <td>Foreign Ministry Spokesperson Zhao Lijian's Re...</td>\n",
       "      <td>In recent years, the US government has placed ...</td>\n",
       "      <td>2420</td>\n",
       "    </tr>\n",
       "    <tr>\n",
       "      <th>25</th>\n",
       "      <td>xinhua_11</td>\n",
       "      <td>2020-05-16</td>\n",
       "      <td>Xinhua</td>\n",
       "      <td>China</td>\n",
       "      <td>IPCC's report comprehensive, objective, fact-b...</td>\n",
       "      <td>Video PlayerClose\\n\\n\\n\\nCarrie Lam, chief exe...</td>\n",
       "      <td>6326</td>\n",
       "    </tr>\n",
       "    <tr>\n",
       "      <th>26</th>\n",
       "      <td>xinhua_12</td>\n",
       "      <td>2020-07-01</td>\n",
       "      <td>Xinhua</td>\n",
       "      <td>China</td>\n",
       "      <td>China adopts law on safeguarding national secu...</td>\n",
       "      <td>Video PlayerClose\\n\\n\\n \\nLi Zhanshu, chairman...</td>\n",
       "      <td>4408</td>\n",
       "    </tr>\n",
       "    <tr>\n",
       "      <th>27</th>\n",
       "      <td>theStandard_13</td>\n",
       "      <td>2020-08-26</td>\n",
       "      <td>the Standard</td>\n",
       "      <td>China</td>\n",
       "      <td>State media says Hong Kong has a toxic ‘Apple’</td>\n",
       "      <td>State media People’s Daily today published an ...</td>\n",
       "      <td>806</td>\n",
       "    </tr>\n",
       "    <tr>\n",
       "      <th>28</th>\n",
       "      <td>china_daily_14</td>\n",
       "      <td>2020-06-20</td>\n",
       "      <td>China Daily</td>\n",
       "      <td>China</td>\n",
       "      <td>Wide support for proposed national security law</td>\n",
       "      <td>Residents sign to support the national securit...</td>\n",
       "      <td>4028</td>\n",
       "    </tr>\n",
       "    <tr>\n",
       "      <th>29</th>\n",
       "      <td>hkgovt_15</td>\n",
       "      <td>2020-06-30</td>\n",
       "      <td>Hong Kong Gov't</td>\n",
       "      <td>Hong Kong</td>\n",
       "      <td>CE welcomes passage of The Law of the People's...</td>\n",
       "      <td>In response to the passage of The Law of the P...</td>\n",
       "      <td>15490</td>\n",
       "    </tr>\n",
       "  </tbody>\n",
       "</table>\n",
       "</div>"
      ],
      "text/plain": [
       "             file_name        date                       source    country  \\\n",
       "0                bbc_1  2020-06-30                          BBC         UK   \n",
       "1                bbc_2  2020-07-01                          BBC         UK   \n",
       "2            nytimes_5  2020-06-28                     NY Times         US   \n",
       "3             forbes_6  2020-07-01                       Forbes         US   \n",
       "4            insider_5  2020-08-02                      Insider         US   \n",
       "5                abc_6  2020-07-01                     ABC News         US   \n",
       "6               cnn_11  2020-07-03                          CNN         US   \n",
       "7             nypost_8  2020-07-01                      NY Post         US   \n",
       "8             nippon_9  2020-08-14                       Nippon      Japan   \n",
       "9               bbc_18  2020-06-30                          BBC         UK   \n",
       "10              bbc_19  2020-06-30                          BBC         UK   \n",
       "11              bbc_20  2020-07-08                          BBC         UK   \n",
       "12              bbc_21  2020-07-05                          BBC         UK   \n",
       "13              bbc_22  2020-06-30                          BBC         UK   \n",
       "14      theDiplomat_23  2020-07-01                 the Diplomat         US   \n",
       "15     peoples_daily_1  2020-07-03               People's Daily      China   \n",
       "16     peoples_daily_2  2020-07-02               People's Daily      China   \n",
       "17     peoples_daily_3  2020-07-02               People's Daily      China   \n",
       "18     peoples_daily_4  2020-07-02               People's Daily      China   \n",
       "19     peoples_daily_5  2020-07-02               People's Daily      China   \n",
       "20       globaltimes_6  2021-04-19                 Global Times      China   \n",
       "21       globaltimes_7  2020-07-06                 Global Times      China   \n",
       "22       globaltimes_8  2020-06-30                 Global Times      China   \n",
       "23   min_foreign_aff_9  2020-07-20  Ministry of Foreign Affairs      China   \n",
       "24  min_foreign_aff_10  2020-07-01  Ministry of Foreign Affairs      China   \n",
       "25           xinhua_11  2020-05-16                       Xinhua      China   \n",
       "26           xinhua_12  2020-07-01                       Xinhua      China   \n",
       "27      theStandard_13  2020-08-26                 the Standard      China   \n",
       "28      china_daily_14  2020-06-20                  China Daily      China   \n",
       "29           hkgovt_15  2020-06-30              Hong Kong Gov't  Hong Kong   \n",
       "\n",
       "                                                title  \\\n",
       "0   Hong Kong security law: What is it and is it w...   \n",
       "1   Hong Kong's new security law: Why it scares pe...   \n",
       "2   What China’s New National Security Law Means f...   \n",
       "3   Hong Kong Makes First Arrests Under Beijing’s ...   \n",
       "4   Teenage arrests, blank protest signs, and a ke...   \n",
       "5   What's in Hong Kong's new national security la...   \n",
       "6   Hong Kong's security law could have a chilling...   \n",
       "7   Hong Kong police arrest over 300 in first prot...   \n",
       "8   Hong Kong’s Security Law: How Should Japan Res...   \n",
       "9   Hong Kong security law: Anger as China's Xi si...   \n",
       "10  Hong Kong security law: Minutes after new law,...   \n",
       "11  Hong Kong security law: Beijing security offic...   \n",
       "12  Hong Kong security law: Pro-democracy books pu...   \n",
       "13  Hong Kong security law: Life sentences for bre...   \n",
       "14                   Hong Kong Through Water and Fire   \n",
       "15  Newly passed national security law a seawall s...   \n",
       "16  Hong Kong national security law helps ensure l...   \n",
       "17  Law and order dawns in Hong Kong as new law ta...   \n",
       "18  National Security Law paves the way for more p...   \n",
       "19  HKSAR national security law to put HK back on ...   \n",
       "20  Biased tone, misinformation ‘major mistakes’ b...   \n",
       "21  London’s measures meaningless, ‘bluff rather t...   \n",
       "22   National Security Law to protect HK democracy...   \n",
       "23  Ambassador Liu Xiaoming Gives Exclusive Live I...   \n",
       "24  Foreign Ministry Spokesperson Zhao Lijian's Re...   \n",
       "25  IPCC's report comprehensive, objective, fact-b...   \n",
       "26  China adopts law on safeguarding national secu...   \n",
       "27     State media says Hong Kong has a toxic ‘Apple’   \n",
       "28    Wide support for proposed national security law   \n",
       "29  CE welcomes passage of The Law of the People's...   \n",
       "\n",
       "                                              article  word_count  \n",
       "0   China has passed a wide-ranging new security l...        6143  \n",
       "1   China has introduced a new national security l...        5324  \n",
       "2   Chinese lawmakers have approved a national sec...        6021  \n",
       "3   Share to FacebookShare to TwitterShare to Link...        3078  \n",
       "4   Thursday, July 30, marked one month since Chin...       18122  \n",
       "5   The full details of the controversial national...        9868  \n",
       "6   London (CNN Business)Hong Kong insists its vib...        2960  \n",
       "7   Hong Kong police arrested more than 300 people...       16593  \n",
       "8   Growing Private and Governmental Support for H...        6744  \n",
       "9   The UK, EU and Nato have expressed concern and...        9498  \n",
       "10  On Tuesday morning, the news started to break ...        9627  \n",
       "11  A new national security office has been offici...        8028  \n",
       "12  Books by pro-democracy figures have been remov...        4315  \n",
       "13  People in Hong Kong could face life in jail fo...        6367  \n",
       "14  Credit: AP Photo/Kin CheungAdvertisementIt has...        3486  \n",
       "15  The Law of the People’s Republic of China on S...        6500  \n",
       "16  On June 30, the Standing Committee of the 13th...        4325  \n",
       "17  -- The festive mood across Hong Kong on the 23...        3238  \n",
       "18  Hong Kong, the popular Asian city, returned to...        4712  \n",
       "19  Zhang Xiaoming, deputy director of the Hong Ko...       11881  \n",
       "20  Victor Gao (center), chair professor of Soocho...        3711  \n",
       "21  A Huawei store stands next to a Globe Telecom ...        4294  \n",
       "22  Hong Kong citizens on Tuesday gather to suppor...        1712  \n",
       "23  On 19 July 2020, H.E. Ambassador Liu Xiaoming ...        5683  \n",
       "24  In recent years, the US government has placed ...        2420  \n",
       "25  Video PlayerClose\\n\\n\\n\\nCarrie Lam, chief exe...        6326  \n",
       "26  Video PlayerClose\\n\\n\\n \\nLi Zhanshu, chairman...        4408  \n",
       "27  State media People’s Daily today published an ...         806  \n",
       "28  Residents sign to support the national securit...        4028  \n",
       "29  In response to the passage of The Law of the P...       15490  "
      ]
     },
     "execution_count": 362,
     "metadata": {},
     "output_type": "execute_result"
    }
   ],
   "source": [
    "news"
   ]
  },
  {
   "cell_type": "code",
   "execution_count": 360,
   "metadata": {},
   "outputs": [
    {
     "data": {
      "text/plain": [
       "'Zhang Xiaoming, deputy director of the Hong Kong and Macao Affairs Office of the State Council, speaks during a press conference held by the State Council Information Office about the Law of the People\\'s Republic of China on Safeguarding National Security in the Hong Kong Special Administrative Region (HKSAR) in Beijing, capital of China, July 1, 2020. (Xinhua/Jin Liangkuai)\\n\\n\\tBEIJING, July 1 (Xinhua) -- The law on safeguarding national security in the Hong Kong Special Administrative Region (HKSAR) marks a turning point and will bring the region back on track of its development, an official said Wednesday.\\n\\n\\tThe law is designed to bring tranquility to Hong Kong, Zhang Xiaoming, deputy director of the Hong Kong and Macao Affairs Office of the State Council, made the remarks at a press conference in Beijing.\\n\\n\\tThe law targets only a tiny group of criminals who endanger national security and will be a \"sharp sword\" hanging over their heads, Zhang said, adding that it will also serve as a deterrent to external forces who interfere in Hong Kong affairs.\\n\\n\\tZhang also noted that the law will fully protect the rights and freedoms enjoyed by the vast majority of Hong Kong residents, and the legitimate rights and interests of overseas investors in Hong Kong.\\n\\n\\tIt will be the bedrock underpinning the prosperity and stability of Hong Kong, Zhang said.\\n\\n\\tChinese lawmakers on Tuesday voted to adopt the 66-article law and later passed a decision to list the law in Annex III to the HKSAR Basic Law.\\n\\n\\tThe law on safeguarding national security in HKSAR came into force in Hong Kong at 11:00 p.m. local time on Tuesday upon its promulgation by the HKSAR government in the gazette. Enditem\\n【1】【2】【3】【4】【5】'"
      ]
     },
     "execution_count": 360,
     "metadata": {},
     "output_type": "execute_result"
    }
   ],
   "source": [
    "# news['article'][19]"
   ]
  },
  {
   "cell_type": "markdown",
   "metadata": {},
   "source": [
    "**I believe `word_count` numbers are incorrect.** Something to look at further at a later stage."
   ]
  },
  {
   "cell_type": "code",
   "execution_count": null,
   "metadata": {},
   "outputs": [],
   "source": []
  },
  {
   "cell_type": "markdown",
   "metadata": {},
   "source": [
    "# 1.3 Initial Review before Regex<a id='irbr'></a>"
   ]
  },
  {
   "cell_type": "markdown",
   "metadata": {},
   "source": [
    "Here we will start a **quick look** at what we have at this point. No real goal to be achieved other than **getting our feet wet.**"
   ]
  },
  {
   "cell_type": "code",
   "execution_count": 339,
   "metadata": {},
   "outputs": [
    {
     "name": "stdout",
     "output_type": "stream",
     "text": [
      "Words before cleaning \n",
      " 183,827 | Total Words \n",
      " 6,339   | Average # of Words\n"
     ]
    }
   ],
   "source": [
    "pre_scrape_total = news.word_count.sum()\n",
    "pre_scrape_av = news.word_count.mean()\n",
    "\n",
    "print('Words before cleaning','\\n',\n",
    "    \"{:,}\".format(pre_scrape_total),'| Total Words', '\\n',\n",
    "     \"{:,}\".format(round(pre_scrape_av)), '  | Average # of Words')"
   ]
  },
  {
   "cell_type": "code",
   "execution_count": 340,
   "metadata": {},
   "outputs": [
    {
     "data": {
      "image/png": "[encoded data removed]",
      "text/plain": [
       "<Figure size 1080x576 with 2 Axes>"
      ]
     },
     "metadata": {},
     "output_type": "display_data"
    }
   ],
   "source": [
    "country_comp = pd.DataFrame(news.groupby('country')['word_count'].mean())\n",
    "country_comp = country_comp.reset_index()\n",
    "\n",
    "fig = plt.figure(figsize=(15,8))\n",
    "sns.set_theme(style=\"whitegrid\")\n",
    "\n",
    "# Setting up the Bar Chart\n",
    "plt.subplot(121)\n",
    "ax = sns.barplot(x=\"country\", y=\"word_count\", data=country_comp, \n",
    "                 order=country_comp.sort_values('word_count',ascending=False).country)\n",
    "ax.set(xlabel='', ylabel='Average Word Count per Article')\n",
    "\n",
    "# Setting up the Box Plot\n",
    "plt.subplot(122)\n",
    "ax = sns.boxplot(x=\"country\", y=\"word_count\", data=news,\n",
    "                order=country_comp.sort_values('word_count',ascending=False).country)\n",
    "ax.set(xlabel='', ylabel='Total Word Count')\n",
    "\n",
    "plt.show()\n"
   ]
  },
  {
   "cell_type": "code",
   "execution_count": 332,
   "metadata": {},
   "outputs": [],
   "source": [
    "# BOX PLOT HERE"
   ]
  },
  {
   "cell_type": "code",
   "execution_count": 232,
   "metadata": {},
   "outputs": [],
   "source": [
    "# ANALYSIZE ALL & INCLUDE COMMENTS FOR EACH IN MARKDOWN UNDERNEATH DEEPER REVIEW"
   ]
  },
  {
   "cell_type": "code",
   "execution_count": 233,
   "metadata": {},
   "outputs": [],
   "source": [
    "# YOU NEED TO DO A SIDEWAYS BOXPLOT ABOVE ( w/out countries considered ) TO LOOK FOR OUTLIERS \n",
    "# ( i.e. globaltimes_7 TALKING ABOUT HUAWEI, min_foreign_aff HAVING BACK & FORTH DISCUSSIONS, MAYBE NY Times LET'S SEE )"
   ]
  },
  {
   "cell_type": "code",
   "execution_count": null,
   "metadata": {},
   "outputs": [],
   "source": []
  },
  {
   "cell_type": "code",
   "execution_count": null,
   "metadata": {},
   "outputs": [],
   "source": []
  },
  {
   "cell_type": "code",
   "execution_count": null,
   "metadata": {},
   "outputs": [],
   "source": []
  },
  {
   "cell_type": "code",
   "execution_count": null,
   "metadata": {},
   "outputs": [],
   "source": []
  },
  {
   "cell_type": "code",
   "execution_count": null,
   "metadata": {},
   "outputs": [],
   "source": []
  },
  {
   "cell_type": "code",
   "execution_count": null,
   "metadata": {},
   "outputs": [],
   "source": []
  },
  {
   "cell_type": "markdown",
   "metadata": {},
   "source": [
    "# 1.4 Regex<a id='regex'></a>"
   ]
  },
  {
   "cell_type": "code",
   "execution_count": null,
   "metadata": {},
   "outputs": [],
   "source": []
  },
  {
   "cell_type": "code",
   "execution_count": null,
   "metadata": {},
   "outputs": [],
   "source": []
  },
  {
   "cell_type": "code",
   "execution_count": null,
   "metadata": {},
   "outputs": [],
   "source": []
  },
  {
   "cell_type": "code",
   "execution_count": null,
   "metadata": {},
   "outputs": [],
   "source": []
  },
  {
   "cell_type": "code",
   "execution_count": null,
   "metadata": {},
   "outputs": [],
   "source": []
  },
  {
   "cell_type": "code",
   "execution_count": null,
   "metadata": {},
   "outputs": [],
   "source": []
  },
  {
   "cell_type": "code",
   "execution_count": null,
   "metadata": {},
   "outputs": [],
   "source": []
  },
  {
   "cell_type": "code",
   "execution_count": null,
   "metadata": {},
   "outputs": [],
   "source": []
  },
  {
   "cell_type": "code",
   "execution_count": null,
   "metadata": {},
   "outputs": [],
   "source": []
  },
  {
   "cell_type": "code",
   "execution_count": null,
   "metadata": {},
   "outputs": [],
   "source": []
  },
  {
   "cell_type": "code",
   "execution_count": null,
   "metadata": {},
   "outputs": [],
   "source": []
  },
  {
   "cell_type": "code",
   "execution_count": null,
   "metadata": {},
   "outputs": [],
   "source": []
  },
  {
   "cell_type": "code",
   "execution_count": null,
   "metadata": {},
   "outputs": [],
   "source": []
  },
  {
   "cell_type": "code",
   "execution_count": null,
   "metadata": {},
   "outputs": [],
   "source": []
  },
  {
   "cell_type": "code",
   "execution_count": null,
   "metadata": {},
   "outputs": [],
   "source": []
  },
  {
   "cell_type": "code",
   "execution_count": null,
   "metadata": {},
   "outputs": [],
   "source": []
  },
  {
   "cell_type": "code",
   "execution_count": null,
   "metadata": {},
   "outputs": [],
   "source": []
  },
  {
   "cell_type": "code",
   "execution_count": null,
   "metadata": {},
   "outputs": [],
   "source": []
  },
  {
   "cell_type": "code",
   "execution_count": null,
   "metadata": {},
   "outputs": [],
   "source": []
  },
  {
   "cell_type": "code",
   "execution_count": null,
   "metadata": {},
   "outputs": [],
   "source": []
  },
  {
   "cell_type": "code",
   "execution_count": null,
   "metadata": {},
   "outputs": [],
   "source": []
  },
  {
   "cell_type": "code",
   "execution_count": null,
   "metadata": {},
   "outputs": [],
   "source": []
  },
  {
   "cell_type": "code",
   "execution_count": null,
   "metadata": {},
   "outputs": [],
   "source": []
  },
  {
   "cell_type": "code",
   "execution_count": null,
   "metadata": {},
   "outputs": [],
   "source": []
  },
  {
   "cell_type": "code",
   "execution_count": null,
   "metadata": {},
   "outputs": [],
   "source": []
  },
  {
   "cell_type": "code",
   "execution_count": null,
   "metadata": {},
   "outputs": [],
   "source": []
  },
  {
   "cell_type": "code",
   "execution_count": null,
   "metadata": {},
   "outputs": [],
   "source": []
  },
  {
   "cell_type": "code",
   "execution_count": null,
   "metadata": {},
   "outputs": [],
   "source": []
  },
  {
   "cell_type": "code",
   "execution_count": null,
   "metadata": {},
   "outputs": [],
   "source": []
  },
  {
   "cell_type": "code",
   "execution_count": null,
   "metadata": {},
   "outputs": [],
   "source": []
  },
  {
   "cell_type": "code",
   "execution_count": null,
   "metadata": {},
   "outputs": [],
   "source": []
  },
  {
   "cell_type": "code",
   "execution_count": null,
   "metadata": {},
   "outputs": [],
   "source": []
  },
  {
   "cell_type": "code",
   "execution_count": null,
   "metadata": {},
   "outputs": [],
   "source": []
  },
  {
   "cell_type": "code",
   "execution_count": null,
   "metadata": {},
   "outputs": [],
   "source": []
  },
  {
   "cell_type": "code",
   "execution_count": null,
   "metadata": {},
   "outputs": [],
   "source": []
  },
  {
   "cell_type": "code",
   "execution_count": null,
   "metadata": {},
   "outputs": [],
   "source": []
  },
  {
   "cell_type": "code",
   "execution_count": null,
   "metadata": {},
   "outputs": [],
   "source": []
  },
  {
   "cell_type": "code",
   "execution_count": null,
   "metadata": {},
   "outputs": [],
   "source": []
  },
  {
   "cell_type": "code",
   "execution_count": null,
   "metadata": {},
   "outputs": [],
   "source": []
  },
  {
   "cell_type": "code",
   "execution_count": null,
   "metadata": {},
   "outputs": [],
   "source": []
  },
  {
   "cell_type": "code",
   "execution_count": null,
   "metadata": {},
   "outputs": [],
   "source": []
  },
  {
   "cell_type": "code",
   "execution_count": null,
   "metadata": {},
   "outputs": [],
   "source": []
  },
  {
   "cell_type": "code",
   "execution_count": null,
   "metadata": {},
   "outputs": [],
   "source": []
  },
  {
   "cell_type": "code",
   "execution_count": null,
   "metadata": {},
   "outputs": [],
   "source": []
  },
  {
   "cell_type": "code",
   "execution_count": null,
   "metadata": {},
   "outputs": [],
   "source": []
  },
  {
   "cell_type": "markdown",
   "metadata": {},
   "source": [
    "# **1.10 Saving to the Main Dataframe**<a id='saving'></a>"
   ]
  },
  {
   "cell_type": "code",
   "execution_count": null,
   "metadata": {},
   "outputs": [],
   "source": []
  },
  {
   "cell_type": "markdown",
   "metadata": {},
   "source": [
    "Savings to an Excel."
   ]
  },
  {
   "cell_type": "code",
   "execution_count": 94,
   "metadata": {},
   "outputs": [
    {
     "name": "stdout",
     "output_type": "stream",
     "text": [
      "Complete\n"
     ]
    }
   ],
   "source": [
    "# df = pd.DataFrame(reviewlist)\n",
    "\n",
    "# index=False below so that we don't get the dataframe index on the side; we just use the excel index\n",
    "news.to_csv('./_Capstone_Two_NLP/data/news.csv', index=False)\n",
    "\n",
    "print('Complete')"
   ]
  },
  {
   "cell_type": "code",
   "execution_count": null,
   "metadata": {},
   "outputs": [],
   "source": []
  }
 ],
 "metadata": {
  "kernelspec": {
   "display_name": "Python 3",
   "language": "python",
   "name": "python3"
  },
  "language_info": {
   "codemirror_mode": {
    "name": "ipython",
    "version": 3
   },
   "file_extension": ".py",
   "mimetype": "text/x-python",
   "name": "python",
   "nbconvert_exporter": "python",
   "pygments_lexer": "ipython3",
   "version": "3.8.5"
  },
  "varInspector": {
   "cols": {
    "lenName": 16,
    "lenType": 16,
    "lenVar": 40
   },
   "kernels_config": {
    "python": {
     "delete_cmd_postfix": "",
     "delete_cmd_prefix": "del ",
     "library": "var_list.py",
     "varRefreshCmd": "print(var_dic_list())"
    },
    "r": {
     "delete_cmd_postfix": ") ",
     "delete_cmd_prefix": "rm(",
     "library": "var_list.r",
     "varRefreshCmd": "cat(var_dic_list()) "
    }
   },
   "types_to_exclude": [
    "module",
    "function",
    "builtin_function_or_method",
    "instance",
    "_Feature"
   ],
   "window_display": false
  }
 },
 "nbformat": 4,
 "nbformat_minor": 4
}
