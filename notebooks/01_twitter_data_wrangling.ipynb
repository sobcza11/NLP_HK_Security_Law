{
 "cells": [
  {
   "cell_type": "markdown",
   "metadata": {},
   "source": [
    "# Data Wrangling | Twitter ( HK NLP Project )"
   ]
  },
  {
   "cell_type": "markdown",
   "metadata": {},
   "source": [
    "# Table of Contents\n",
    "* [1 Twitter Wrangling](#2_Data_wrangling)\n",
    "  * [1.1 Contents](#Contents)\n",
    "  * [1.2 Imports & Set Up](#imports)\n",
    "  * [1.3 Initial Scraping before Regex](#int_scrape)\n",
    "  * [1.4 Regex](#regex)\n",
    "  * [1.5 xxxxxxxxxxxxxx](#_____)\n",
    "  * [1.6 xxxxxxxxxxxxxx](#_____)\n",
    "  * [1.7 xxxxxxxxxxxxxx](#_____)\n",
    "  * [1.8 xxxxxxxxxxxxxx](#_____)\n",
    "  * [1.9 xxxxxxxxxxxxxx](#_____)\n",
    "  * [1.10 Pulling them together](#1.15_ptt)\n",
    "\n"
   ]
  },
  {
   "cell_type": "markdown",
   "metadata": {},
   "source": [
    "# **1.1 Contents**<a id='Contents'></a>"
   ]
  },
  {
   "cell_type": "markdown",
   "metadata": {},
   "source": [
    "This is where you will summarize your intent. Mention you used `twint`"
   ]
  },
  {
   "cell_type": "markdown",
   "metadata": {},
   "source": [
    "# **1.2 Imports & Set Up**<a id='imports'></a>"
   ]
  },
  {
   "cell_type": "code",
   "execution_count": 616,
   "metadata": {},
   "outputs": [],
   "source": [
    "import pandas as pd\n",
    "import os\n",
    "import re\n",
    "import matplotlib.pyplot as plt\n",
    "import numpy as np\n",
    "import seaborn as sns\n",
    "from matplotlib.pyplot import figure\n",
    "\n",
    "import twint\n",
    "import nest_asyncio\n",
    "nest_asyncio.apply()"
   ]
  },
  {
   "cell_type": "code",
   "execution_count": 568,
   "metadata": {},
   "outputs": [],
   "source": [
    "%reload_ext watermark"
   ]
  },
  {
   "cell_type": "code",
   "execution_count": 569,
   "metadata": {},
   "outputs": [
    {
     "name": "stdout",
     "output_type": "stream",
     "text": [
      "Python implementation: CPython\n",
      "Python version       : 3.8.5\n",
      "IPython version      : 7.19.0\n",
      "\n",
      "pandas: 1.1.3\n",
      "\n"
     ]
    }
   ],
   "source": [
    "%watermark -d -t -v -p pandas"
   ]
  },
  {
   "cell_type": "code",
   "execution_count": 570,
   "metadata": {},
   "outputs": [
    {
     "data": {
      "text/plain": [
       "'C:\\\\Users\\\\rands'"
      ]
     },
     "execution_count": 570,
     "metadata": {},
     "output_type": "execute_result"
    }
   ],
   "source": [
    "os.getcwd()"
   ]
  },
  {
   "cell_type": "markdown",
   "metadata": {},
   "source": [
    "# **1.3 Initial Scraping before Regex**<a id='int_scrape'></a>"
   ]
  },
  {
   "cell_type": "code",
   "execution_count": 571,
   "metadata": {},
   "outputs": [],
   "source": [
    "df = pd.read_excel('tweets.xlsx')\n",
    "df = df.reset_index()\n",
    "df = df.drop(columns=['Unnamed: 0','index'])"
   ]
  },
  {
   "cell_type": "code",
   "execution_count": 572,
   "metadata": {},
   "outputs": [
    {
     "data": {
      "text/html": [
       "<div>\n",
       "<style scoped>\n",
       "    .dataframe tbody tr th:only-of-type {\n",
       "        vertical-align: middle;\n",
       "    }\n",
       "\n",
       "    .dataframe tbody tr th {\n",
       "        vertical-align: top;\n",
       "    }\n",
       "\n",
       "    .dataframe thead th {\n",
       "        text-align: right;\n",
       "    }\n",
       "</style>\n",
       "<table border=\"1\" class=\"dataframe\">\n",
       "  <thead>\n",
       "    <tr style=\"text-align: right;\">\n",
       "      <th></th>\n",
       "      <th>hash</th>\n",
       "      <th>created_at</th>\n",
       "      <th>username</th>\n",
       "      <th>tweet</th>\n",
       "      <th>language</th>\n",
       "      <th>replies_count</th>\n",
       "      <th>retweets_count</th>\n",
       "      <th>likes_count</th>\n",
       "      <th>reply_to</th>\n",
       "      <th>hashtags</th>\n",
       "    </tr>\n",
       "  </thead>\n",
       "  <tbody>\n",
       "    <tr>\n",
       "      <th>0</th>\n",
       "      <td>#FightForHongKong</td>\n",
       "      <td>2020-08-28 10:23:06 Eastern Daylight Time</td>\n",
       "      <td>ginny81025554</td>\n",
       "      <td>@benedictrogers @NOW4humanity Thanks for speak...</td>\n",
       "      <td>en</td>\n",
       "      <td>0</td>\n",
       "      <td>1</td>\n",
       "      <td>2</td>\n",
       "      <td>[{'screen_name': 'benedictrogers', 'name': 'Be...</td>\n",
       "      <td>['fridaysforfreedom', 'fightforhongkong']</td>\n",
       "    </tr>\n",
       "    <tr>\n",
       "      <th>1</th>\n",
       "      <td>#FightForHongKong</td>\n",
       "      <td>2020-08-27 11:15:39 Eastern Daylight Time</td>\n",
       "      <td>dani_tasso</td>\n",
       "      <td>Razzismo e democrazia.   Sfaccettature del med...</td>\n",
       "      <td>it</td>\n",
       "      <td>1</td>\n",
       "      <td>0</td>\n",
       "      <td>2</td>\n",
       "      <td>[]</td>\n",
       "      <td>['blacklivesmatter', 'fightforhongkong', 'open...</td>\n",
       "    </tr>\n",
       "  </tbody>\n",
       "</table>\n",
       "</div>"
      ],
      "text/plain": [
       "                hash                                 created_at  \\\n",
       "0  #FightForHongKong  2020-08-28 10:23:06 Eastern Daylight Time   \n",
       "1  #FightForHongKong  2020-08-27 11:15:39 Eastern Daylight Time   \n",
       "\n",
       "        username                                              tweet language  \\\n",
       "0  ginny81025554  @benedictrogers @NOW4humanity Thanks for speak...       en   \n",
       "1     dani_tasso  Razzismo e democrazia.   Sfaccettature del med...       it   \n",
       "\n",
       "   replies_count  retweets_count  likes_count  \\\n",
       "0              0               1            2   \n",
       "1              1               0            2   \n",
       "\n",
       "                                            reply_to  \\\n",
       "0  [{'screen_name': 'benedictrogers', 'name': 'Be...   \n",
       "1                                                 []   \n",
       "\n",
       "                                            hashtags  \n",
       "0          ['fridaysforfreedom', 'fightforhongkong']  \n",
       "1  ['blacklivesmatter', 'fightforhongkong', 'open...  "
      ]
     },
     "execution_count": 572,
     "metadata": {},
     "output_type": "execute_result"
    }
   ],
   "source": [
    "df.head(2)"
   ]
  },
  {
   "cell_type": "code",
   "execution_count": 573,
   "metadata": {},
   "outputs": [
    {
     "data": {
      "text/plain": [
       "288416"
      ]
     },
     "execution_count": 573,
     "metadata": {},
     "output_type": "execute_result"
    }
   ],
   "source": [
    "len(df)"
   ]
  },
  {
   "cell_type": "markdown",
   "metadata": {},
   "source": [
    "We will take a **look at where duplicates** may be found with the **`tweet` column**. Our initial focus is on **when a \"tweeter\"** (also known a person) **used multiple hashtags**.\n",
    "\n",
    "A seperate data frame will be used to ensure the original is not compromised."
   ]
  },
  {
   "cell_type": "code",
   "execution_count": 574,
   "metadata": {},
   "outputs": [
    {
     "data": {
      "text/plain": [
       "288416"
      ]
     },
     "execution_count": 574,
     "metadata": {},
     "output_type": "execute_result"
    }
   ],
   "source": [
    "df_tweets = df.copy()\n",
    "df_tweets = pd.DataFrame(df_tweets)\n",
    "len(df_tweets)"
   ]
  },
  {
   "cell_type": "code",
   "execution_count": 575,
   "metadata": {},
   "outputs": [
    {
     "data": {
      "text/html": [
       "<div>\n",
       "<style scoped>\n",
       "    .dataframe tbody tr th:only-of-type {\n",
       "        vertical-align: middle;\n",
       "    }\n",
       "\n",
       "    .dataframe tbody tr th {\n",
       "        vertical-align: top;\n",
       "    }\n",
       "\n",
       "    .dataframe thead th {\n",
       "        text-align: right;\n",
       "    }\n",
       "</style>\n",
       "<table border=\"1\" class=\"dataframe\">\n",
       "  <thead>\n",
       "    <tr style=\"text-align: right;\">\n",
       "      <th></th>\n",
       "      <th>hash</th>\n",
       "      <th>created_at</th>\n",
       "      <th>username</th>\n",
       "      <th>tweet</th>\n",
       "      <th>language</th>\n",
       "      <th>replies_count</th>\n",
       "      <th>retweets_count</th>\n",
       "      <th>likes_count</th>\n",
       "      <th>reply_to</th>\n",
       "      <th>hashtags</th>\n",
       "    </tr>\n",
       "  </thead>\n",
       "  <tbody>\n",
       "    <tr>\n",
       "      <th>288414</th>\n",
       "      <td>#hkpoliceterrorism</td>\n",
       "      <td>2020-05-31 23:50:53 Eastern Daylight Time</td>\n",
       "      <td>bluedreamsplan2</td>\n",
       "      <td>@OzraeliAvi China try hard to link up the #Min...</td>\n",
       "      <td>en</td>\n",
       "      <td>0</td>\n",
       "      <td>0</td>\n",
       "      <td>1</td>\n",
       "      <td>[{'screen_name': 'OzraeliAvi', 'name': 'Avi Ye...</td>\n",
       "      <td>['minnesotariots', 'hongkongprotests', 'minnia...</td>\n",
       "    </tr>\n",
       "    <tr>\n",
       "      <th>288415</th>\n",
       "      <td>#hkpoliceterrorism</td>\n",
       "      <td>2020-05-31 22:40:41 Eastern Daylight Time</td>\n",
       "      <td>jack83352493</td>\n",
       "      <td>#HongKongProtest #StandwithHK #HKPoliceTerrori...</td>\n",
       "      <td>und</td>\n",
       "      <td>0</td>\n",
       "      <td>0</td>\n",
       "      <td>0</td>\n",
       "      <td>[]</td>\n",
       "      <td>['hongkongprotest', 'standwithhk', 'hkpolicete...</td>\n",
       "    </tr>\n",
       "  </tbody>\n",
       "</table>\n",
       "</div>"
      ],
      "text/plain": [
       "                      hash                                 created_at  \\\n",
       "288414  #hkpoliceterrorism  2020-05-31 23:50:53 Eastern Daylight Time   \n",
       "288415  #hkpoliceterrorism  2020-05-31 22:40:41 Eastern Daylight Time   \n",
       "\n",
       "               username                                              tweet  \\\n",
       "288414  bluedreamsplan2  @OzraeliAvi China try hard to link up the #Min...   \n",
       "288415     jack83352493  #HongKongProtest #StandwithHK #HKPoliceTerrori...   \n",
       "\n",
       "       language  replies_count  retweets_count  likes_count  \\\n",
       "288414       en              0               0            1   \n",
       "288415      und              0               0            0   \n",
       "\n",
       "                                                 reply_to  \\\n",
       "288414  [{'screen_name': 'OzraeliAvi', 'name': 'Avi Ye...   \n",
       "288415                                                 []   \n",
       "\n",
       "                                                 hashtags  \n",
       "288414  ['minnesotariots', 'hongkongprotests', 'minnia...  \n",
       "288415  ['hongkongprotest', 'standwithhk', 'hkpolicete...  "
      ]
     },
     "execution_count": 575,
     "metadata": {},
     "output_type": "execute_result"
    }
   ],
   "source": [
    "df_tweets.tail(2)"
   ]
  },
  {
   "cell_type": "code",
   "execution_count": 655,
   "metadata": {},
   "outputs": [
    {
     "data": {
      "text/plain": [
       "288416"
      ]
     },
     "execution_count": 655,
     "metadata": {},
     "output_type": "execute_result"
    }
   ],
   "source": [
    "duplicated_tf = df_tweets.duplicated(subset=['tweet'])\n",
    "duplicated_tf = pd.DataFrame(duplicated_tf)\n",
    "len(duplicated_tf)"
   ]
  },
  {
   "cell_type": "code",
   "execution_count": 656,
   "metadata": {},
   "outputs": [
    {
     "data": {
      "text/html": [
       "<div>\n",
       "<style scoped>\n",
       "    .dataframe tbody tr th:only-of-type {\n",
       "        vertical-align: middle;\n",
       "    }\n",
       "\n",
       "    .dataframe tbody tr th {\n",
       "        vertical-align: top;\n",
       "    }\n",
       "\n",
       "    .dataframe thead th {\n",
       "        text-align: right;\n",
       "    }\n",
       "</style>\n",
       "<table border=\"1\" class=\"dataframe\">\n",
       "  <thead>\n",
       "    <tr style=\"text-align: right;\">\n",
       "      <th></th>\n",
       "      <th>Duplicated</th>\n",
       "    </tr>\n",
       "  </thead>\n",
       "  <tbody>\n",
       "    <tr>\n",
       "      <th>288413</th>\n",
       "      <td>False</td>\n",
       "    </tr>\n",
       "    <tr>\n",
       "      <th>288414</th>\n",
       "      <td>False</td>\n",
       "    </tr>\n",
       "    <tr>\n",
       "      <th>288415</th>\n",
       "      <td>True</td>\n",
       "    </tr>\n",
       "  </tbody>\n",
       "</table>\n",
       "</div>"
      ],
      "text/plain": [
       "        Duplicated\n",
       "288413       False\n",
       "288414       False\n",
       "288415        True"
      ]
     },
     "execution_count": 656,
     "metadata": {},
     "output_type": "execute_result"
    }
   ],
   "source": [
    "duplicated_tf.columns = ['Duplicated']\n",
    "duplicated_tf.tail(3)"
   ]
  },
  {
   "cell_type": "code",
   "execution_count": 578,
   "metadata": {},
   "outputs": [
    {
     "data": {
      "text/html": [
       "<div>\n",
       "<style scoped>\n",
       "    .dataframe tbody tr th:only-of-type {\n",
       "        vertical-align: middle;\n",
       "    }\n",
       "\n",
       "    .dataframe tbody tr th {\n",
       "        vertical-align: top;\n",
       "    }\n",
       "\n",
       "    .dataframe thead th {\n",
       "        text-align: right;\n",
       "    }\n",
       "</style>\n",
       "<table border=\"1\" class=\"dataframe\">\n",
       "  <thead>\n",
       "    <tr style=\"text-align: right;\">\n",
       "      <th></th>\n",
       "      <th>Duplicated</th>\n",
       "      <th>Duplicated_TorF</th>\n",
       "    </tr>\n",
       "  </thead>\n",
       "  <tbody>\n",
       "    <tr>\n",
       "      <th>288413</th>\n",
       "      <td>False</td>\n",
       "      <td>0</td>\n",
       "    </tr>\n",
       "    <tr>\n",
       "      <th>288414</th>\n",
       "      <td>False</td>\n",
       "      <td>0</td>\n",
       "    </tr>\n",
       "    <tr>\n",
       "      <th>288415</th>\n",
       "      <td>True</td>\n",
       "      <td>1</td>\n",
       "    </tr>\n",
       "  </tbody>\n",
       "</table>\n",
       "</div>"
      ],
      "text/plain": [
       "        Duplicated  Duplicated_TorF\n",
       "288413       False                0\n",
       "288414       False                0\n",
       "288415        True                1"
      ]
     },
     "execution_count": 578,
     "metadata": {},
     "output_type": "execute_result"
    }
   ],
   "source": [
    "num = {True:1,False:0}\n",
    "duplicated_tf['Duplicated_TorF'] = duplicated_tf['Duplicated'].map(num)\n",
    "duplicated_tf.tail(3)"
   ]
  },
  {
   "cell_type": "code",
   "execution_count": 579,
   "metadata": {},
   "outputs": [],
   "source": [
    "duplicated_tf = duplicated_tf.drop(columns=['Duplicated'])"
   ]
  },
  {
   "cell_type": "code",
   "execution_count": 580,
   "metadata": {},
   "outputs": [],
   "source": [
    "df_tweets_w_dup = pd.concat([df_tweets,duplicated_tf],\n",
    "                    axis = 1, ignore_index=False)\n",
    "df_tweets_w_dup = df_tweets_w_dup.reset_index(drop=True)"
   ]
  },
  {
   "cell_type": "code",
   "execution_count": 581,
   "metadata": {},
   "outputs": [
    {
     "data": {
      "text/html": [
       "<div>\n",
       "<style scoped>\n",
       "    .dataframe tbody tr th:only-of-type {\n",
       "        vertical-align: middle;\n",
       "    }\n",
       "\n",
       "    .dataframe tbody tr th {\n",
       "        vertical-align: top;\n",
       "    }\n",
       "\n",
       "    .dataframe thead th {\n",
       "        text-align: right;\n",
       "    }\n",
       "</style>\n",
       "<table border=\"1\" class=\"dataframe\">\n",
       "  <thead>\n",
       "    <tr style=\"text-align: right;\">\n",
       "      <th></th>\n",
       "      <th>hash</th>\n",
       "      <th>created_at</th>\n",
       "      <th>username</th>\n",
       "      <th>tweet</th>\n",
       "      <th>language</th>\n",
       "      <th>replies_count</th>\n",
       "      <th>retweets_count</th>\n",
       "      <th>likes_count</th>\n",
       "      <th>reply_to</th>\n",
       "      <th>hashtags</th>\n",
       "      <th>Duplicated_TorF</th>\n",
       "    </tr>\n",
       "  </thead>\n",
       "  <tbody>\n",
       "    <tr>\n",
       "      <th>288411</th>\n",
       "      <td>#hkpoliceterrorism</td>\n",
       "      <td>2020-06-01 03:03:45 Eastern Daylight Time</td>\n",
       "      <td>bluedreamsplan2</td>\n",
       "      <td>Don't fall into the trap! #HKPoliceTerrorism #...</td>\n",
       "      <td>en</td>\n",
       "      <td>0</td>\n",
       "      <td>0</td>\n",
       "      <td>0</td>\n",
       "      <td>[]</td>\n",
       "      <td>['hkpoliceterrorism', 'hongkongpolicestate', '...</td>\n",
       "      <td>0</td>\n",
       "    </tr>\n",
       "    <tr>\n",
       "      <th>288412</th>\n",
       "      <td>#hkpoliceterrorism</td>\n",
       "      <td>2020-06-01 02:57:45 Eastern Daylight Time</td>\n",
       "      <td>villafish129</td>\n",
       "      <td>@KingJames #AllLivesMatters . #PoliceBrutality...</td>\n",
       "      <td>en</td>\n",
       "      <td>0</td>\n",
       "      <td>0</td>\n",
       "      <td>0</td>\n",
       "      <td>[{'screen_name': 'KingJames', 'name': 'LeBron ...</td>\n",
       "      <td>['alllivesmatters', 'policebrutality', 'police...</td>\n",
       "      <td>1</td>\n",
       "    </tr>\n",
       "    <tr>\n",
       "      <th>288413</th>\n",
       "      <td>#hkpoliceterrorism</td>\n",
       "      <td>2020-05-31 23:58:09 Eastern Daylight Time</td>\n",
       "      <td>dingdin34098358</td>\n",
       "      <td>@ajphelo @HK55020097 The HK police killed a So...</td>\n",
       "      <td>en</td>\n",
       "      <td>0</td>\n",
       "      <td>1</td>\n",
       "      <td>1</td>\n",
       "      <td>[{'screen_name': 'ajphelo', 'name': 'Andrew J ...</td>\n",
       "      <td>['policebrutality', 'hkpoliceterrorism']</td>\n",
       "      <td>0</td>\n",
       "    </tr>\n",
       "    <tr>\n",
       "      <th>288414</th>\n",
       "      <td>#hkpoliceterrorism</td>\n",
       "      <td>2020-05-31 23:50:53 Eastern Daylight Time</td>\n",
       "      <td>bluedreamsplan2</td>\n",
       "      <td>@OzraeliAvi China try hard to link up the #Min...</td>\n",
       "      <td>en</td>\n",
       "      <td>0</td>\n",
       "      <td>0</td>\n",
       "      <td>1</td>\n",
       "      <td>[{'screen_name': 'OzraeliAvi', 'name': 'Avi Ye...</td>\n",
       "      <td>['minnesotariots', 'hongkongprotests', 'minnia...</td>\n",
       "      <td>0</td>\n",
       "    </tr>\n",
       "    <tr>\n",
       "      <th>288415</th>\n",
       "      <td>#hkpoliceterrorism</td>\n",
       "      <td>2020-05-31 22:40:41 Eastern Daylight Time</td>\n",
       "      <td>jack83352493</td>\n",
       "      <td>#HongKongProtest #StandwithHK #HKPoliceTerrori...</td>\n",
       "      <td>und</td>\n",
       "      <td>0</td>\n",
       "      <td>0</td>\n",
       "      <td>0</td>\n",
       "      <td>[]</td>\n",
       "      <td>['hongkongprotest', 'standwithhk', 'hkpolicete...</td>\n",
       "      <td>1</td>\n",
       "    </tr>\n",
       "  </tbody>\n",
       "</table>\n",
       "</div>"
      ],
      "text/plain": [
       "                      hash                                 created_at  \\\n",
       "288411  #hkpoliceterrorism  2020-06-01 03:03:45 Eastern Daylight Time   \n",
       "288412  #hkpoliceterrorism  2020-06-01 02:57:45 Eastern Daylight Time   \n",
       "288413  #hkpoliceterrorism  2020-05-31 23:58:09 Eastern Daylight Time   \n",
       "288414  #hkpoliceterrorism  2020-05-31 23:50:53 Eastern Daylight Time   \n",
       "288415  #hkpoliceterrorism  2020-05-31 22:40:41 Eastern Daylight Time   \n",
       "\n",
       "               username                                              tweet  \\\n",
       "288411  bluedreamsplan2  Don't fall into the trap! #HKPoliceTerrorism #...   \n",
       "288412     villafish129  @KingJames #AllLivesMatters . #PoliceBrutality...   \n",
       "288413  dingdin34098358  @ajphelo @HK55020097 The HK police killed a So...   \n",
       "288414  bluedreamsplan2  @OzraeliAvi China try hard to link up the #Min...   \n",
       "288415     jack83352493  #HongKongProtest #StandwithHK #HKPoliceTerrori...   \n",
       "\n",
       "       language  replies_count  retweets_count  likes_count  \\\n",
       "288411       en              0               0            0   \n",
       "288412       en              0               0            0   \n",
       "288413       en              0               1            1   \n",
       "288414       en              0               0            1   \n",
       "288415      und              0               0            0   \n",
       "\n",
       "                                                 reply_to  \\\n",
       "288411                                                 []   \n",
       "288412  [{'screen_name': 'KingJames', 'name': 'LeBron ...   \n",
       "288413  [{'screen_name': 'ajphelo', 'name': 'Andrew J ...   \n",
       "288414  [{'screen_name': 'OzraeliAvi', 'name': 'Avi Ye...   \n",
       "288415                                                 []   \n",
       "\n",
       "                                                 hashtags  Duplicated_TorF  \n",
       "288411  ['hkpoliceterrorism', 'hongkongpolicestate', '...                0  \n",
       "288412  ['alllivesmatters', 'policebrutality', 'police...                1  \n",
       "288413           ['policebrutality', 'hkpoliceterrorism']                0  \n",
       "288414  ['minnesotariots', 'hongkongprotests', 'minnia...                0  \n",
       "288415  ['hongkongprotest', 'standwithhk', 'hkpolicete...                1  "
      ]
     },
     "execution_count": 581,
     "metadata": {},
     "output_type": "execute_result"
    }
   ],
   "source": [
    "df_tweets_w_dup.tail()"
   ]
  },
  {
   "cell_type": "code",
   "execution_count": 582,
   "metadata": {},
   "outputs": [
    {
     "name": "stdout",
     "output_type": "stream",
     "text": [
      "Checking to ensure we still have the same # of tweets after classification; this should be Zero change 0.0\n"
     ]
    }
   ],
   "source": [
    "print('Checking to ensure we still have the same # of tweets after classification; this should be Zero change', ( ( len(df_tweets_w_dup) / len(df) ) - 1 ) * 100)"
   ]
  },
  {
   "cell_type": "markdown",
   "metadata": {},
   "source": [
    "Would like to investigate the languages herein."
   ]
  },
  {
   "cell_type": "code",
   "execution_count": 583,
   "metadata": {},
   "outputs": [
    {
     "data": {
      "text/plain": [
       "<AxesSubplot:xlabel='Language Abbrevation', ylabel='# of observed Tweets'>"
      ]
     },
     "execution_count": 583,
     "metadata": {},
     "output_type": "execute_result"
    },
    {
     "data": {
      "image/png": "[encoded data removed]",
      "text/plain": [
       "<Figure size 1080x864 with 1 Axes>"
      ]
     },
     "metadata": {},
     "output_type": "display_data"
    }
   ],
   "source": [
    "lang = pd.value_counts(df_tweets_w_dup['language'].values, sort=True)\n",
    "lang = lang.sort_values(ascending=False)\n",
    "plt.subplots(figsize=(15, 12))\n",
    "plt.ylabel('# of observed Tweets')\n",
    "plt.xlabel('Language Abbrevation')\n",
    "lang.plot.bar(color='r')"
   ]
  },
  {
   "cell_type": "code",
   "execution_count": 658,
   "metadata": {},
   "outputs": [
    {
     "data": {
      "text/plain": [
       "en     194087\n",
       "und     69375\n",
       "ja       8715\n",
       "zh       7327\n",
       "tl       1254\n",
       "hi       1207\n",
       "fr       1046\n",
       "es        908\n",
       "de        892\n",
       "in        507\n",
       "Name: language, dtype: int64"
      ]
     },
     "execution_count": 658,
     "metadata": {},
     "output_type": "execute_result"
    }
   ],
   "source": [
    "df_tweets_w_dup['language'].value_counts().head(10)"
   ]
  },
  {
   "cell_type": "code",
   "execution_count": 674,
   "metadata": {},
   "outputs": [
    {
     "data": {
      "text/plain": [
       "en     0.67\n",
       "und    0.24\n",
       "ja     0.03\n",
       "zh     0.03\n",
       "tl     0.00\n",
       "Name: language, dtype: float64"
      ]
     },
     "execution_count": 674,
     "metadata": {},
     "output_type": "execute_result"
    }
   ],
   "source": [
    "lang_count = df_tweets_w_dup['language']\n",
    "round(lang_count.value_counts(normalize=True),2).head()"
   ]
  },
  {
   "cell_type": "markdown",
   "metadata": {},
   "source": [
    "**`en` & `und` is contributing 91%. While `zh`'s contribution is only 3%, Mandarin Chinese is important; I will unfortunately have to pass as it is unlikely to move the analysis outcome.**\n",
    "\n",
    "**`und` refers to unknown. I am unsure as to what implications removing would do. Let's see what is \"unknown\".**"
   ]
  },
  {
   "cell_type": "code",
   "execution_count": 585,
   "metadata": {},
   "outputs": [
    {
     "data": {
      "text/plain": [
       "9       https://t.co/8lgfzmGtav   #lukashenko #Tikhan...\n",
       "17     #FreeAgness #FightForFreedom #StandWithHongKon...\n",
       "18     #Hongkongers  #hongkong #beijing #china #HongK...\n",
       "20     #boycottchina #hongkong #freehk #boycottmulan ...\n",
       "21      https://t.co/B5KWeYZE6t #boycottchina #hongko...\n",
       "33     #umbrellamovement #hongkongprotest #hkhumanrig...\n",
       "37            #FightForHongKong  https://t.co/C5dAXctB7X\n",
       "39                   @yasmine_bw19 #FightForHongKong ✨✋🏼\n",
       "40     #香港 #hongkong #hongkongprotest #hkprotest #黑警 ...\n",
       "42     #白紙文宣行動  #白紙文宣 #whitepaperterror #fightforhong...\n",
       "43     @StateDept @joshuawongcf @SecPompeo ✌️#FightFo...\n",
       "44     @HongKongPLG @AngelineChanHK #UnitedWeStand  #...\n",
       "48                                     #fightforHongkong\n",
       "50     #Hongkongers  #hongkong #KnockoutBlow #beijing...\n",
       "52                  #FightForHongKong  #HongKongProtests\n",
       "55     #boycottchina #hongkong #freehk #boycottmulan ...\n",
       "56     #boycottchina #hongkong #freehk #boycottmulan ...\n",
       "71     #StandWithKashmir #FreePalestine #SaveAfghanSi...\n",
       "73            #FightForHongKong  https://t.co/qLsuKdn1Bn\n",
       "77     ✊🏽✊🏽✊🏽 #BlackOutTuesday #IndigenousLivesMatter...\n",
       "88      https://t.co/8lgfzmGtav   #lukashenko #Tikhan...\n",
       "96     #FreeAgness #FightForFreedom #StandWithHongKon...\n",
       "97     #Hongkongers  #hongkong #beijing #china #HongK...\n",
       "99     #boycottchina #hongkong #freehk #boycottmulan ...\n",
       "100     https://t.co/B5KWeYZE6t #boycottchina #hongko...\n",
       "Name: tweet, dtype: object"
      ]
     },
     "execution_count": 585,
     "metadata": {},
     "output_type": "execute_result"
    }
   ],
   "source": [
    "df_tweets_w_dup[df_tweets_w_dup['language'].str.contains('und')]['tweet'].head(25)"
   ]
  },
  {
   "cell_type": "markdown",
   "metadata": {},
   "source": [
    "These appear to be tweets with **only hashtags**; while that may be important & it's contribution is large, **this excerise pertains to the text.**\n",
    "\n",
    "**Further investigation may be required** at a later date but for now, **we will unfortunately drop them as well.**"
   ]
  },
  {
   "cell_type": "code",
   "execution_count": 587,
   "metadata": {},
   "outputs": [],
   "source": [
    "df_tweets_w_dup_en = df_tweets_w_dup[df_tweets_w_dup['language'].str.contains(\"en\")]"
   ]
  },
  {
   "cell_type": "code",
   "execution_count": 588,
   "metadata": {},
   "outputs": [
    {
     "data": {
      "text/html": [
       "<div>\n",
       "<style scoped>\n",
       "    .dataframe tbody tr th:only-of-type {\n",
       "        vertical-align: middle;\n",
       "    }\n",
       "\n",
       "    .dataframe tbody tr th {\n",
       "        vertical-align: top;\n",
       "    }\n",
       "\n",
       "    .dataframe thead th {\n",
       "        text-align: right;\n",
       "    }\n",
       "</style>\n",
       "<table border=\"1\" class=\"dataframe\">\n",
       "  <thead>\n",
       "    <tr style=\"text-align: right;\">\n",
       "      <th></th>\n",
       "      <th>hash</th>\n",
       "      <th>created_at</th>\n",
       "      <th>username</th>\n",
       "      <th>tweet</th>\n",
       "      <th>language</th>\n",
       "      <th>replies_count</th>\n",
       "      <th>retweets_count</th>\n",
       "      <th>likes_count</th>\n",
       "      <th>reply_to</th>\n",
       "      <th>hashtags</th>\n",
       "      <th>Duplicated_TorF</th>\n",
       "    </tr>\n",
       "  </thead>\n",
       "  <tbody>\n",
       "    <tr>\n",
       "      <th>288410</th>\n",
       "      <td>#hkpoliceterrorism</td>\n",
       "      <td>2020-06-01 03:21:48 Eastern Daylight Time</td>\n",
       "      <td>andrewhe2</td>\n",
       "      <td>@SpokespersonCHN Ms Hua please help them. #ICa...</td>\n",
       "      <td>en</td>\n",
       "      <td>0</td>\n",
       "      <td>0</td>\n",
       "      <td>0</td>\n",
       "      <td>[{'screen_name': 'SpokespersonCHN', 'name': 'H...</td>\n",
       "      <td>['icantbreathe', 'icantbreath', 'icantbreathea...</td>\n",
       "      <td>1</td>\n",
       "    </tr>\n",
       "    <tr>\n",
       "      <th>288411</th>\n",
       "      <td>#hkpoliceterrorism</td>\n",
       "      <td>2020-06-01 03:03:45 Eastern Daylight Time</td>\n",
       "      <td>bluedreamsplan2</td>\n",
       "      <td>Don't fall into the trap! #HKPoliceTerrorism #...</td>\n",
       "      <td>en</td>\n",
       "      <td>0</td>\n",
       "      <td>0</td>\n",
       "      <td>0</td>\n",
       "      <td>[]</td>\n",
       "      <td>['hkpoliceterrorism', 'hongkongpolicestate', '...</td>\n",
       "      <td>0</td>\n",
       "    </tr>\n",
       "    <tr>\n",
       "      <th>288412</th>\n",
       "      <td>#hkpoliceterrorism</td>\n",
       "      <td>2020-06-01 02:57:45 Eastern Daylight Time</td>\n",
       "      <td>villafish129</td>\n",
       "      <td>@KingJames #AllLivesMatters . #PoliceBrutality...</td>\n",
       "      <td>en</td>\n",
       "      <td>0</td>\n",
       "      <td>0</td>\n",
       "      <td>0</td>\n",
       "      <td>[{'screen_name': 'KingJames', 'name': 'LeBron ...</td>\n",
       "      <td>['alllivesmatters', 'policebrutality', 'police...</td>\n",
       "      <td>1</td>\n",
       "    </tr>\n",
       "    <tr>\n",
       "      <th>288413</th>\n",
       "      <td>#hkpoliceterrorism</td>\n",
       "      <td>2020-05-31 23:58:09 Eastern Daylight Time</td>\n",
       "      <td>dingdin34098358</td>\n",
       "      <td>@ajphelo @HK55020097 The HK police killed a So...</td>\n",
       "      <td>en</td>\n",
       "      <td>0</td>\n",
       "      <td>1</td>\n",
       "      <td>1</td>\n",
       "      <td>[{'screen_name': 'ajphelo', 'name': 'Andrew J ...</td>\n",
       "      <td>['policebrutality', 'hkpoliceterrorism']</td>\n",
       "      <td>0</td>\n",
       "    </tr>\n",
       "    <tr>\n",
       "      <th>288414</th>\n",
       "      <td>#hkpoliceterrorism</td>\n",
       "      <td>2020-05-31 23:50:53 Eastern Daylight Time</td>\n",
       "      <td>bluedreamsplan2</td>\n",
       "      <td>@OzraeliAvi China try hard to link up the #Min...</td>\n",
       "      <td>en</td>\n",
       "      <td>0</td>\n",
       "      <td>0</td>\n",
       "      <td>1</td>\n",
       "      <td>[{'screen_name': 'OzraeliAvi', 'name': 'Avi Ye...</td>\n",
       "      <td>['minnesotariots', 'hongkongprotests', 'minnia...</td>\n",
       "      <td>0</td>\n",
       "    </tr>\n",
       "  </tbody>\n",
       "</table>\n",
       "</div>"
      ],
      "text/plain": [
       "                      hash                                 created_at  \\\n",
       "288410  #hkpoliceterrorism  2020-06-01 03:21:48 Eastern Daylight Time   \n",
       "288411  #hkpoliceterrorism  2020-06-01 03:03:45 Eastern Daylight Time   \n",
       "288412  #hkpoliceterrorism  2020-06-01 02:57:45 Eastern Daylight Time   \n",
       "288413  #hkpoliceterrorism  2020-05-31 23:58:09 Eastern Daylight Time   \n",
       "288414  #hkpoliceterrorism  2020-05-31 23:50:53 Eastern Daylight Time   \n",
       "\n",
       "               username                                              tweet  \\\n",
       "288410        andrewhe2  @SpokespersonCHN Ms Hua please help them. #ICa...   \n",
       "288411  bluedreamsplan2  Don't fall into the trap! #HKPoliceTerrorism #...   \n",
       "288412     villafish129  @KingJames #AllLivesMatters . #PoliceBrutality...   \n",
       "288413  dingdin34098358  @ajphelo @HK55020097 The HK police killed a So...   \n",
       "288414  bluedreamsplan2  @OzraeliAvi China try hard to link up the #Min...   \n",
       "\n",
       "       language  replies_count  retweets_count  likes_count  \\\n",
       "288410       en              0               0            0   \n",
       "288411       en              0               0            0   \n",
       "288412       en              0               0            0   \n",
       "288413       en              0               1            1   \n",
       "288414       en              0               0            1   \n",
       "\n",
       "                                                 reply_to  \\\n",
       "288410  [{'screen_name': 'SpokespersonCHN', 'name': 'H...   \n",
       "288411                                                 []   \n",
       "288412  [{'screen_name': 'KingJames', 'name': 'LeBron ...   \n",
       "288413  [{'screen_name': 'ajphelo', 'name': 'Andrew J ...   \n",
       "288414  [{'screen_name': 'OzraeliAvi', 'name': 'Avi Ye...   \n",
       "\n",
       "                                                 hashtags  Duplicated_TorF  \n",
       "288410  ['icantbreathe', 'icantbreath', 'icantbreathea...                1  \n",
       "288411  ['hkpoliceterrorism', 'hongkongpolicestate', '...                0  \n",
       "288412  ['alllivesmatters', 'policebrutality', 'police...                1  \n",
       "288413           ['policebrutality', 'hkpoliceterrorism']                0  \n",
       "288414  ['minnesotariots', 'hongkongprotests', 'minnia...                0  "
      ]
     },
     "execution_count": 588,
     "metadata": {},
     "output_type": "execute_result"
    }
   ],
   "source": [
    "df_tweets_w_dup_en.tail()"
   ]
  },
  {
   "cell_type": "code",
   "execution_count": 589,
   "metadata": {},
   "outputs": [
    {
     "data": {
      "text/plain": [
       "194087"
      ]
     },
     "execution_count": 589,
     "metadata": {},
     "output_type": "execute_result"
    }
   ],
   "source": [
    "len(df_tweets_w_dup_en)"
   ]
  },
  {
   "cell_type": "markdown",
   "metadata": {},
   "source": [
    "That matches the above so now we will remove duplicates."
   ]
  },
  {
   "cell_type": "code",
   "execution_count": 590,
   "metadata": {},
   "outputs": [],
   "source": [
    "df_tweets_wout_dup_en = df_tweets_w_dup_en[df_tweets_w_dup_en['Duplicated_TorF']==0]"
   ]
  },
  {
   "cell_type": "markdown",
   "metadata": {},
   "source": [
    "Confirming that worked we will bring the data frame that did not delete the duplicates back & see what the sum of the `Duplicates_TorF` column is; as a reminder, **a duplicate has a 1 & the non-Duplicate has a 0.**"
   ]
  },
  {
   "cell_type": "code",
   "execution_count": 591,
   "metadata": {},
   "outputs": [
    {
     "data": {
      "text/plain": [
       "30388"
      ]
     },
     "execution_count": 591,
     "metadata": {},
     "output_type": "execute_result"
    }
   ],
   "source": [
    "sum(df_tweets_w_dup_en['Duplicated_TorF'])"
   ]
  },
  {
   "cell_type": "markdown",
   "metadata": {},
   "source": [
    "So there was ~30k identified duplicates, so what is the length of the dataframe without duplicates."
   ]
  },
  {
   "cell_type": "code",
   "execution_count": 592,
   "metadata": {},
   "outputs": [
    {
     "data": {
      "text/plain": [
       "0"
      ]
     },
     "execution_count": 592,
     "metadata": {},
     "output_type": "execute_result"
    }
   ],
   "source": [
    "sum(df_tweets_wout_dup_en['Duplicated_TorF'])"
   ]
  },
  {
   "cell_type": "code",
   "execution_count": 593,
   "metadata": {},
   "outputs": [
    {
     "data": {
      "text/plain": [
       "array([False])"
      ]
     },
     "execution_count": 593,
     "metadata": {},
     "output_type": "execute_result"
    }
   ],
   "source": [
    "duplicated_tf_next = df_tweets_wout_dup_en.duplicated(subset=['tweet'])\n",
    "duplicated_tf_next = pd.DataFrame(duplicated_tf_next)\n",
    "duplicated_tf_next.columns = ['Duplicated_check']\n",
    "duplicated_tf_next.Duplicated_check.unique()"
   ]
  },
  {
   "cell_type": "markdown",
   "metadata": {},
   "source": [
    "**A Zero & a complete list of False essentially says there are no duplicates.**"
   ]
  },
  {
   "cell_type": "code",
   "execution_count": 594,
   "metadata": {},
   "outputs": [
    {
     "data": {
      "text/plain": [
       "163699"
      ]
     },
     "execution_count": 594,
     "metadata": {},
     "output_type": "execute_result"
    }
   ],
   "source": [
    "len(df_tweets_wout_dup_en)"
   ]
  },
  {
   "cell_type": "markdown",
   "metadata": {},
   "source": [
    "That's yet another cut albeit it's expected given the source in which we are working with.\n",
    "\n",
    "**We will take a look at what percent of the original total we have left.**"
   ]
  },
  {
   "cell_type": "code",
   "execution_count": 595,
   "metadata": {},
   "outputs": [
    {
     "data": {
      "text/plain": [
       "56.76"
      ]
     },
     "execution_count": 595,
     "metadata": {},
     "output_type": "execute_result"
    }
   ],
   "source": [
    "round((( len(df_tweets_wout_dup_en) / len(df) ) * 100),2 )"
   ]
  },
  {
   "cell_type": "markdown",
   "metadata": {},
   "source": [
    "**Before sending the Dataframe to Regex, we will hold on to it on the side for reference.**"
   ]
  },
  {
   "cell_type": "code",
   "execution_count": 596,
   "metadata": {},
   "outputs": [
    {
     "name": "stdout",
     "output_type": "stream",
     "text": [
      "Finished\n"
     ]
    }
   ],
   "source": [
    "df_tweets_wout_dup_en.to_excel('df_tweets_wout_dup_en.xlsx')\n",
    "print('Finished')"
   ]
  },
  {
   "cell_type": "markdown",
   "metadata": {},
   "source": [
    "**We will also take a visual look at the Tweets contribution to the data frame**."
   ]
  },
  {
   "cell_type": "code",
   "execution_count": 688,
   "metadata": {},
   "outputs": [
    {
     "data": {
      "text/plain": [
       "<Figure size 1080x432 with 0 Axes>"
      ]
     },
     "metadata": {},
     "output_type": "display_data"
    },
    {
     "data": {
      "image/png": "[encoded data removed]",
      "text/plain": [
       "<Figure size 432x288 with 1 Axes>"
      ]
     },
     "metadata": {},
     "output_type": "display_data"
    },
    {
     "data": {
      "text/html": [
       "<div>\n",
       "<style scoped>\n",
       "    .dataframe tbody tr th:only-of-type {\n",
       "        vertical-align: middle;\n",
       "    }\n",
       "\n",
       "    .dataframe tbody tr th {\n",
       "        vertical-align: top;\n",
       "    }\n",
       "\n",
       "    .dataframe thead th {\n",
       "        text-align: right;\n",
       "    }\n",
       "</style>\n",
       "<table border=\"1\" class=\"dataframe\">\n",
       "  <thead>\n",
       "    <tr style=\"text-align: right;\">\n",
       "      <th></th>\n",
       "      <th>hash</th>\n",
       "    </tr>\n",
       "  </thead>\n",
       "  <tbody>\n",
       "    <tr>\n",
       "      <th>#standwithhongkong</th>\n",
       "      <td>115780</td>\n",
       "    </tr>\n",
       "    <tr>\n",
       "      <th>#freehongkong</th>\n",
       "      <td>28501</td>\n",
       "    </tr>\n",
       "    <tr>\n",
       "      <th>#hkpolicebrutality</th>\n",
       "      <td>7565</td>\n",
       "    </tr>\n",
       "    <tr>\n",
       "      <th>#hkpolicestate</th>\n",
       "      <td>5424</td>\n",
       "    </tr>\n",
       "    <tr>\n",
       "      <th>#HongKongProtest</th>\n",
       "      <td>2954</td>\n",
       "    </tr>\n",
       "    <tr>\n",
       "      <th>#hkprotests</th>\n",
       "      <td>1933</td>\n",
       "    </tr>\n",
       "    <tr>\n",
       "      <th>#hkpoliceterrorism</th>\n",
       "      <td>567</td>\n",
       "    </tr>\n",
       "    <tr>\n",
       "      <th>#WeAreNotAlone</th>\n",
       "      <td>453</td>\n",
       "    </tr>\n",
       "    <tr>\n",
       "      <th>#HKpoliceterrorist</th>\n",
       "      <td>325</td>\n",
       "    </tr>\n",
       "    <tr>\n",
       "      <th>#PrayForHongkong</th>\n",
       "      <td>133</td>\n",
       "    </tr>\n",
       "    <tr>\n",
       "      <th>#FightForHongKong</th>\n",
       "      <td>50</td>\n",
       "    </tr>\n",
       "    <tr>\n",
       "      <th>#nochinaextradition</th>\n",
       "      <td>14</td>\n",
       "    </tr>\n",
       "  </tbody>\n",
       "</table>\n",
       "</div>"
      ],
      "text/plain": [
       "                       hash\n",
       "#standwithhongkong   115780\n",
       "#freehongkong         28501\n",
       "#hkpolicebrutality     7565\n",
       "#hkpolicestate         5424\n",
       "#HongKongProtest       2954\n",
       "#hkprotests            1933\n",
       "#hkpoliceterrorism      567\n",
       "#WeAreNotAlone          453\n",
       "#HKpoliceterrorist      325\n",
       "#PrayForHongkong        133\n",
       "#FightForHongKong        50\n",
       "#nochinaextradition      14"
      ]
     },
     "execution_count": 688,
     "metadata": {},
     "output_type": "execute_result"
    }
   ],
   "source": [
    "# Moving the number of tweets into a seperate column to identify usage\n",
    "twits = pd.DataFrame(df_tweets_wout_dup_en['hash'].value_counts())\n",
    "\n",
    "# Taking a look visually\n",
    "plt.figure(figsize=(15, 6))\n",
    "twits.plot.barh()\n",
    "plt.show()\n",
    "twits"
   ]
  },
  {
   "cell_type": "code",
   "execution_count": 650,
   "metadata": {},
   "outputs": [
    {
     "data": {
      "text/html": [
       "<div>\n",
       "<style scoped>\n",
       "    .dataframe tbody tr th:only-of-type {\n",
       "        vertical-align: middle;\n",
       "    }\n",
       "\n",
       "    .dataframe tbody tr th {\n",
       "        vertical-align: top;\n",
       "    }\n",
       "\n",
       "    .dataframe thead th {\n",
       "        text-align: right;\n",
       "    }\n",
       "</style>\n",
       "<table border=\"1\" class=\"dataframe\">\n",
       "  <thead>\n",
       "    <tr style=\"text-align: right;\">\n",
       "      <th></th>\n",
       "      <th>hash</th>\n",
       "      <th>hash_pct</th>\n",
       "    </tr>\n",
       "  </thead>\n",
       "  <tbody>\n",
       "    <tr>\n",
       "      <th>#standwithhongkong</th>\n",
       "      <td>115780</td>\n",
       "      <td>70.73</td>\n",
       "    </tr>\n",
       "    <tr>\n",
       "      <th>#freehongkong</th>\n",
       "      <td>28501</td>\n",
       "      <td>17.41</td>\n",
       "    </tr>\n",
       "    <tr>\n",
       "      <th>#hkpolicebrutality</th>\n",
       "      <td>7565</td>\n",
       "      <td>4.62</td>\n",
       "    </tr>\n",
       "    <tr>\n",
       "      <th>#hkpolicestate</th>\n",
       "      <td>5424</td>\n",
       "      <td>3.31</td>\n",
       "    </tr>\n",
       "    <tr>\n",
       "      <th>#HongKongProtest</th>\n",
       "      <td>2954</td>\n",
       "      <td>1.80</td>\n",
       "    </tr>\n",
       "    <tr>\n",
       "      <th>#hkprotests</th>\n",
       "      <td>1933</td>\n",
       "      <td>1.18</td>\n",
       "    </tr>\n",
       "    <tr>\n",
       "      <th>#hkpoliceterrorism</th>\n",
       "      <td>567</td>\n",
       "      <td>0.35</td>\n",
       "    </tr>\n",
       "    <tr>\n",
       "      <th>#WeAreNotAlone</th>\n",
       "      <td>453</td>\n",
       "      <td>0.28</td>\n",
       "    </tr>\n",
       "    <tr>\n",
       "      <th>#HKpoliceterrorist</th>\n",
       "      <td>325</td>\n",
       "      <td>0.20</td>\n",
       "    </tr>\n",
       "    <tr>\n",
       "      <th>#PrayForHongkong</th>\n",
       "      <td>133</td>\n",
       "      <td>0.08</td>\n",
       "    </tr>\n",
       "    <tr>\n",
       "      <th>#FightForHongKong</th>\n",
       "      <td>50</td>\n",
       "      <td>0.03</td>\n",
       "    </tr>\n",
       "    <tr>\n",
       "      <th>#nochinaextradition</th>\n",
       "      <td>14</td>\n",
       "      <td>0.01</td>\n",
       "    </tr>\n",
       "  </tbody>\n",
       "</table>\n",
       "</div>"
      ],
      "text/plain": [
       "                       hash  hash_pct\n",
       "#standwithhongkong   115780     70.73\n",
       "#freehongkong         28501     17.41\n",
       "#hkpolicebrutality     7565      4.62\n",
       "#hkpolicestate         5424      3.31\n",
       "#HongKongProtest       2954      1.80\n",
       "#hkprotests            1933      1.18\n",
       "#hkpoliceterrorism      567      0.35\n",
       "#WeAreNotAlone          453      0.28\n",
       "#HKpoliceterrorist      325      0.20\n",
       "#PrayForHongkong        133      0.08\n",
       "#FightForHongKong        50      0.03\n",
       "#nochinaextradition      14      0.01"
      ]
     },
     "execution_count": 650,
     "metadata": {},
     "output_type": "execute_result"
    }
   ],
   "source": [
    "# Understanding their total contribution to the data frame\n",
    "twits['hash_pct'] = round((( twits.hash / twits.hash.sum() ) * 100),2)\n",
    "twits"
   ]
  },
  {
   "cell_type": "code",
   "execution_count": 652,
   "metadata": {},
   "outputs": [
    {
     "data": {
      "text/plain": [
       "88.14"
      ]
     },
     "execution_count": 652,
     "metadata": {},
     "output_type": "execute_result"
    }
   ],
   "source": [
    "# The top 2 seem to control the data frame; simple math but would like to store it for later use \n",
    "twits['hash_pct']['#standwithhongkong'] + twits['hash_pct']['#freehongkong']"
   ]
  },
  {
   "cell_type": "markdown",
   "metadata": {},
   "source": [
    "A little shy of **~90% of the total are in 2 tweets**. No actionable item required, **this was for reference.**"
   ]
  },
  {
   "cell_type": "code",
   "execution_count": null,
   "metadata": {},
   "outputs": [],
   "source": []
  },
  {
   "cell_type": "markdown",
   "metadata": {},
   "source": [
    "# 1.4 Regex<a id='regex'></a>"
   ]
  },
  {
   "cell_type": "code",
   "execution_count": null,
   "metadata": {},
   "outputs": [],
   "source": []
  },
  {
   "cell_type": "code",
   "execution_count": null,
   "metadata": {},
   "outputs": [],
   "source": []
  },
  {
   "cell_type": "code",
   "execution_count": null,
   "metadata": {},
   "outputs": [],
   "source": []
  },
  {
   "cell_type": "code",
   "execution_count": null,
   "metadata": {},
   "outputs": [],
   "source": []
  },
  {
   "cell_type": "code",
   "execution_count": null,
   "metadata": {},
   "outputs": [],
   "source": []
  },
  {
   "cell_type": "code",
   "execution_count": null,
   "metadata": {},
   "outputs": [],
   "source": []
  },
  {
   "cell_type": "code",
   "execution_count": null,
   "metadata": {},
   "outputs": [],
   "source": []
  },
  {
   "cell_type": "code",
   "execution_count": null,
   "metadata": {},
   "outputs": [],
   "source": []
  },
  {
   "cell_type": "code",
   "execution_count": null,
   "metadata": {},
   "outputs": [],
   "source": []
  },
  {
   "cell_type": "code",
   "execution_count": null,
   "metadata": {},
   "outputs": [],
   "source": []
  },
  {
   "cell_type": "code",
   "execution_count": null,
   "metadata": {},
   "outputs": [],
   "source": []
  },
  {
   "cell_type": "code",
   "execution_count": null,
   "metadata": {},
   "outputs": [],
   "source": []
  },
  {
   "cell_type": "code",
   "execution_count": null,
   "metadata": {},
   "outputs": [],
   "source": []
  },
  {
   "cell_type": "code",
   "execution_count": null,
   "metadata": {},
   "outputs": [],
   "source": []
  },
  {
   "cell_type": "code",
   "execution_count": null,
   "metadata": {},
   "outputs": [],
   "source": []
  },
  {
   "cell_type": "code",
   "execution_count": null,
   "metadata": {},
   "outputs": [],
   "source": []
  },
  {
   "cell_type": "code",
   "execution_count": null,
   "metadata": {},
   "outputs": [],
   "source": []
  },
  {
   "cell_type": "code",
   "execution_count": null,
   "metadata": {},
   "outputs": [],
   "source": []
  },
  {
   "cell_type": "code",
   "execution_count": null,
   "metadata": {},
   "outputs": [],
   "source": []
  },
  {
   "cell_type": "code",
   "execution_count": null,
   "metadata": {},
   "outputs": [],
   "source": []
  },
  {
   "cell_type": "code",
   "execution_count": null,
   "metadata": {},
   "outputs": [],
   "source": []
  },
  {
   "cell_type": "code",
   "execution_count": null,
   "metadata": {},
   "outputs": [],
   "source": []
  },
  {
   "cell_type": "code",
   "execution_count": null,
   "metadata": {},
   "outputs": [],
   "source": []
  },
  {
   "cell_type": "code",
   "execution_count": null,
   "metadata": {},
   "outputs": [],
   "source": []
  },
  {
   "cell_type": "code",
   "execution_count": null,
   "metadata": {},
   "outputs": [],
   "source": []
  },
  {
   "cell_type": "code",
   "execution_count": null,
   "metadata": {},
   "outputs": [],
   "source": []
  }
 ],
 "metadata": {
  "kernelspec": {
   "display_name": "Python 3",
   "language": "python",
   "name": "python3"
  },
  "language_info": {
   "codemirror_mode": {
    "name": "ipython",
    "version": 3
   },
   "file_extension": ".py",
   "mimetype": "text/x-python",
   "name": "python",
   "nbconvert_exporter": "python",
   "pygments_lexer": "ipython3",
   "version": "3.8.5"
  },
  "varInspector": {
   "cols": {
    "lenName": 16,
    "lenType": 16,
    "lenVar": 40
   },
   "kernels_config": {
    "python": {
     "delete_cmd_postfix": "",
     "delete_cmd_prefix": "del ",
     "library": "var_list.py",
     "varRefreshCmd": "print(var_dic_list())"
    },
    "r": {
     "delete_cmd_postfix": ") ",
     "delete_cmd_prefix": "rm(",
     "library": "var_list.r",
     "varRefreshCmd": "cat(var_dic_list()) "
    }
   },
   "types_to_exclude": [
    "module",
    "function",
    "builtin_function_or_method",
    "instance",
    "_Feature"
   ],
   "window_display": false
  }
 },
 "nbformat": 4,
 "nbformat_minor": 4
}
