{
 "cells": [
  {
   "cell_type": "markdown",
   "metadata": {},
   "source": [
    "# Scraping HK police arrest over 300 from NY Post"
   ]
  },
  {
   "cell_type": "markdown",
   "metadata": {},
   "source": [
    "## 2.1 Contents<a id='2.1_Contents'></a>\n",
    "* [2.1 Importing Relevant Tools](#2.1_Importing)\n",
    "* [2.2 Defining the Request](#2.2_URL)\n",
    "* [2.3 Grab | Date](#2.4_scrape_date)\n",
    "* [2.4 Grab | Header](#2.4_scrape_header)\n",
    "* [2.5 Grab | Content](#2.4_scrape_content)\n",
    "* [2.6 Clean | Send to DataFrame](#2.5_review)\n",
    "* [2.7 Save](#2.6_save)\n"
   ]
  },
  {
   "cell_type": "markdown",
   "metadata": {},
   "source": [
    "**Importing Relevant Tools**<a id='2.1_Importing'></a>"
   ]
  },
  {
   "cell_type": "code",
   "execution_count": 114,
   "metadata": {},
   "outputs": [],
   "source": [
    "import json\n",
    "import pandas as pd\n",
    "from bs4 import BeautifulSoup as soup\n",
    "import requests\n",
    "import csv\n",
    "import re\n",
    "import pickle\n",
    "\n",
    "%reload_ext watermark"
   ]
  },
  {
   "cell_type": "code",
   "execution_count": 115,
   "metadata": {},
   "outputs": [],
   "source": [
    "#the below needs to be reviewed for all websites; notably the time format\n",
    "\n",
    "from datetime import date\n",
    "from datetime import datetime\n",
    "today = date.today()\n",
    "d = today.strftime(\"%m-%d-%y\")"
   ]
  },
  {
   "cell_type": "markdown",
   "metadata": {},
   "source": [
    "For reference."
   ]
  },
  {
   "cell_type": "code",
   "execution_count": 116,
   "metadata": {},
   "outputs": [
    {
     "name": "stdout",
     "output_type": "stream",
     "text": [
      "Python implementation: CPython\n",
      "Python version       : 3.8.5\n",
      "IPython version      : 7.19.0\n",
      "\n",
      "pandas: 1.1.3\n",
      "\n"
     ]
    }
   ],
   "source": [
    "%watermark -d -t -v -p pandas"
   ]
  },
  {
   "cell_type": "markdown",
   "metadata": {},
   "source": [
    "**Defining the Request**<a id='2.2_URL'></a>"
   ]
  },
  {
   "cell_type": "code",
   "execution_count": 117,
   "metadata": {},
   "outputs": [
    {
     "data": {
      "text/plain": [
       "'https://nypost.com/2020/07/01/hong-kong-police-arrest-nearly-200-in-first-protest-under-new-security-law/'"
      ]
     },
     "execution_count": 117,
     "metadata": {},
     "output_type": "execute_result"
    }
   ],
   "source": [
    "url = 'https://nypost.com/2020/07/01/hong-kong-police-arrest-nearly-200-in-first-protest-under-new-security-law/'.format(d)\n",
    "url"
   ]
  },
  {
   "cell_type": "code",
   "execution_count": 118,
   "metadata": {},
   "outputs": [],
   "source": [
    "html = requests.get(url)"
   ]
  },
  {
   "cell_type": "code",
   "execution_count": null,
   "metadata": {},
   "outputs": [],
   "source": [
    "bsobj = soup(html.content,'lxml')\n",
    "# bsobj"
   ]
  },
  {
   "cell_type": "markdown",
   "metadata": {},
   "source": [
    "**Grab | Date**<a id='2.4_scrape_date'></a>"
   ]
  },
  {
   "cell_type": "code",
   "execution_count": 133,
   "metadata": {},
   "outputs": [
    {
     "name": "stdout",
     "output_type": "stream",
     "text": [
      "July 1, 2020 | 9:26am\t\t\t\t| Updated July 1, 2020 | 1:03pm\n"
     ]
    }
   ],
   "source": [
    "for date in bsobj.findAll('p',{'class':'byline-date'}):\n",
    "    print(date.text.strip())"
   ]
  },
  {
   "cell_type": "markdown",
   "metadata": {},
   "source": [
    "Lot's of cleaning to do."
   ]
  },
  {
   "cell_type": "markdown",
   "metadata": {},
   "source": [
    "**Grab | Header**<a id='2.4_scrape_header'></a>"
   ]
  },
  {
   "cell_type": "code",
   "execution_count": 11,
   "metadata": {},
   "outputs": [
    {
     "name": "stdout",
     "output_type": "stream",
     "text": [
      "\n",
      "\t\t\t\tHong Kong police arrest over 300 in first protest under new security law\t\t\t\n"
     ]
    }
   ],
   "source": [
    "for title in bsobj.findAll(\"h1\"):\n",
    "    print(format(title.text))"
   ]
  },
  {
   "cell_type": "markdown",
   "metadata": {},
   "source": [
    "Looks like some `\\n\\` & `\\t`'s to remove."
   ]
  },
  {
   "cell_type": "markdown",
   "metadata": {},
   "source": [
    "**Grab | Content**<a id='2.4_scrape_content'></a>"
   ]
  },
  {
   "cell_type": "code",
   "execution_count": 29,
   "metadata": {},
   "outputs": [
    {
     "name": "stdout",
     "output_type": "stream",
     "text": [
      "Hong Kong police arrested more than 300 people Wednesday as thousands of defiant demonstrators gathered in Hong Kong to protest Beijing’s new national security law — while the UK offered a new path to citizenship for almost 3 million eligible residents of its former colony.\n",
      "Hong Kong police fired water cannon and tear gas as protesters took to the streets to vent against the sweeping security legislation introduced by China that they say is aimed at stifling dissent.\n",
      "In Causeway Bay, the retail center of the island territory, cops raised a flag warning crowds they were violating the new law, but pro-Democracy demonstrators still gathered, resulting in hundreds of arrests by nightfall.\n",
      "Protesters remained undaunted.\n",
      "“We are on street to [protest] against national security law. We shall never surrender. Now is not the time to give up,” tweeted Joshua Wong, a Hong Kong activist with more than 600,000 followers on Twitter.’\n",
      "Reuters\n",
      "On the first full day the tough new law was in place, Hong Kong Chief Executive Carrie Lam admitted the civil unrest that had rocked the city for months last year was sparked by past failures, but claimed that the national security law showed “Beijing’s confidence” in the city, the South China Morning Post reported.\n",
      "Meanwhile, British Prime Minister Boris Johnson announced the path to citizenship because, he said, Hong Kong residents’ freedoms were being erased by the new law.\n",
      "“It violates Hong Kong’s high degree of autonomy and threatens the freedoms and rights protected by the joint declaration,” Johnson said, the BBC reported.\n",
      "“We made clear that if China continued down this path we would introduce a new route for those with British National [Overseas] status to enter the UK, granting them limited leave to remain with the ability to live and work in the UK and thereafter to apply for citizenship. And that is precisely what we will do now.”\n",
      "Riot police stop and search people.Reuters\n",
      "About 350,000 UK passport holders, and 2.6 million others who are eligible, will be able to come to the UK for five years, and after a further year, they can apply for citizenship.\n",
      "British National Overseas Passport holders in Hong Kong were granted special status in the 1980s but until now had restricted rights and were only entitled to visa-free access to the UK for six months.\n",
      "Johnson also said Tuesday’s passing of the law was a “clear and serious breach” of the 1985 Sino-British joint declaration — which set out how certain freedoms would be protected for the 50 years after China assumed control of the colony in 1997, the news service reported.\n",
      "Hong Kong’s autonomy was guaranteed under the “one country, two systems” agreement enshrined in the Sino-British Joint Declaration signed by then Chinese Premier Zhao Ziyang and British Prime Minister Margaret Thatcher.\n",
      "Foreign Secretary Dominic Raab said Britain had carefully assessed China’s national security legislation since it was published late on Tuesday.\n",
      "“It constitutes a clear violation of the autonomy of Hong Kong, and a direct threat to the freedoms of its people, and therefore I’m afraid to say it is a clear and serious violation of the Joint Declaration treaty between the United Kingdom and China,” Raab told Reuters and the BBC.\n",
      "Authorities in Beijing and Hong Kong have repeatedly said the legislation is aimed at a few “troublemakers” and will not affect rights and freedoms, nor investor interests.\n",
      "“China, through this national security legislation, is not living up to its promises to the people of Hong Kong,” Raab said. “We will live up to our promises.”\n",
      "Asked about how the West should deal with Chinese President Xi Jinping, Raab said the international community needed to act.\n",
      "Riot police fire tear gas into the crowds to disperse anti-national security law protesters.Reuters\n",
      "“Obviously, China is a leading member of the international community. And it is precisely because of that, that we expect it to live up to its international obligations and its international responsibilities. For trust in China’s ability to do that, today has been a big step backwards.”\n",
      "In response to the crackdown, the US said it would no longer deliver certain weapons to Hong Kong for fear they would fall into the hands of the mainland’s Communist government.\n",
      "The US also imposed visa restrictions on Communist Party officials involved in the crackdown.\n",
      "With Reuters\n"
     ]
    }
   ],
   "source": [
    "for news in bsobj.findAll('div',{'class':'entry-content entry-content-read-more'}):\n",
    "    print(news.text.strip())"
   ]
  },
  {
   "cell_type": "markdown",
   "metadata": {},
   "source": [
    "Confirmed that's the bottom; just need to remove the author."
   ]
  },
  {
   "cell_type": "markdown",
   "metadata": {},
   "source": [
    "**Clean | Send to DataFrame**<a id='2.5_review'></a>"
   ]
  },
  {
   "cell_type": "markdown",
   "metadata": {},
   "source": [
    "First the date from string to a datetime object."
   ]
  },
  {
   "cell_type": "code",
   "execution_count": 147,
   "metadata": {},
   "outputs": [
    {
     "data": {
      "text/plain": [
       "'July 1, 2020 | 9:26am\\t\\t\\t\\t| Updated July 1, 2020 | 1:03pm'"
      ]
     },
     "execution_count": 147,
     "metadata": {},
     "output_type": "execute_result"
    }
   ],
   "source": [
    "for date in bsobj.findAll('p',{'class':'byline-date'}):\n",
    "    day_pub = date.text.strip()\n",
    "day_pub"
   ]
  },
  {
   "cell_type": "code",
   "execution_count": 148,
   "metadata": {},
   "outputs": [
    {
     "data": {
      "text/plain": [
       "'July 1, 2020 | 9:26am\\t\\t\\t\\t| Updated July 1, 2020 | 1:03pm'"
      ]
     },
     "execution_count": 148,
     "metadata": {},
     "output_type": "execute_result"
    }
   ],
   "source": [
    "day_pub = re.sub('|','',day_pub)\n",
    "\n",
    "day_pub"
   ]
  },
  {
   "cell_type": "code",
   "execution_count": 145,
   "metadata": {},
   "outputs": [],
   "source": [
    "# day_pub = re.sub(' | 9:26am\t\t\t\t| Updated July 1, 2020 | 1:03pm','',day_pub)\n",
    "# day_pub = re.sub('Updated June 30, 2020','',day_pub)\n",
    "# day_pub = re.sub(',','',day_pub)\n",
    "# day_pub = re.sub('June','06',day_pub)\n",
    "# day_pub = re.sub(' ','-',day_pub)\n",
    "# day_pub = datetime.strptime(day_pub, '%m-%d-%Y').date()\n",
    "# day_pub"
   ]
  },
  {
   "cell_type": "code",
   "execution_count": 17,
   "metadata": {},
   "outputs": [],
   "source": [
    "df_date = pd.DataFrame([day_pub])"
   ]
  },
  {
   "cell_type": "code",
   "execution_count": 18,
   "metadata": {},
   "outputs": [
    {
     "data": {
      "text/plain": [
       "pandas.core.frame.DataFrame"
      ]
     },
     "execution_count": 18,
     "metadata": {},
     "output_type": "execute_result"
    }
   ],
   "source": [
    "type(df_date)"
   ]
  },
  {
   "cell_type": "code",
   "execution_count": 19,
   "metadata": {},
   "outputs": [
    {
     "data": {
      "text/html": [
       "<div>\n",
       "<style scoped>\n",
       "    .dataframe tbody tr th:only-of-type {\n",
       "        vertical-align: middle;\n",
       "    }\n",
       "\n",
       "    .dataframe tbody tr th {\n",
       "        vertical-align: top;\n",
       "    }\n",
       "\n",
       "    .dataframe thead th {\n",
       "        text-align: right;\n",
       "    }\n",
       "</style>\n",
       "<table border=\"1\" class=\"dataframe\">\n",
       "  <thead>\n",
       "    <tr style=\"text-align: right;\">\n",
       "      <th></th>\n",
       "      <th>0</th>\n",
       "    </tr>\n",
       "  </thead>\n",
       "  <tbody>\n",
       "    <tr>\n",
       "      <th>0</th>\n",
       "      <td>2020-06-28</td>\n",
       "    </tr>\n",
       "  </tbody>\n",
       "</table>\n",
       "</div>"
      ],
      "text/plain": [
       "            0\n",
       "0  2020-06-28"
      ]
     },
     "execution_count": 19,
     "metadata": {},
     "output_type": "execute_result"
    }
   ],
   "source": [
    "df_date"
   ]
  },
  {
   "cell_type": "markdown",
   "metadata": {},
   "source": [
    "Now the title."
   ]
  },
  {
   "cell_type": "code",
   "execution_count": 30,
   "metadata": {},
   "outputs": [],
   "source": [
    "for title_s in bsobj.findAll(\"h1\"):\n",
    "    title_list = format(title_s.text)"
   ]
  },
  {
   "cell_type": "code",
   "execution_count": 31,
   "metadata": {},
   "outputs": [],
   "source": [
    "title_list = re.sub('\\n\\t\\t\\t\\t','',title_list)\n",
    "title_list = re.sub('\\t\\t\\t','',title_list)"
   ]
  },
  {
   "cell_type": "code",
   "execution_count": 32,
   "metadata": {},
   "outputs": [
    {
     "data": {
      "text/plain": [
       "'Hong Kong police arrest over 300 in first protest under new security law'"
      ]
     },
     "execution_count": 32,
     "metadata": {},
     "output_type": "execute_result"
    }
   ],
   "source": [
    "title_list"
   ]
  },
  {
   "cell_type": "code",
   "execution_count": 33,
   "metadata": {},
   "outputs": [],
   "source": [
    "df_title = pd.DataFrame([title_list])"
   ]
  },
  {
   "cell_type": "code",
   "execution_count": 34,
   "metadata": {},
   "outputs": [
    {
     "data": {
      "text/html": [
       "<div>\n",
       "<style scoped>\n",
       "    .dataframe tbody tr th:only-of-type {\n",
       "        vertical-align: middle;\n",
       "    }\n",
       "\n",
       "    .dataframe tbody tr th {\n",
       "        vertical-align: top;\n",
       "    }\n",
       "\n",
       "    .dataframe thead th {\n",
       "        text-align: right;\n",
       "    }\n",
       "</style>\n",
       "<table border=\"1\" class=\"dataframe\">\n",
       "  <thead>\n",
       "    <tr style=\"text-align: right;\">\n",
       "      <th></th>\n",
       "      <th>0</th>\n",
       "    </tr>\n",
       "  </thead>\n",
       "  <tbody>\n",
       "    <tr>\n",
       "      <th>0</th>\n",
       "      <td>Hong Kong police arrest over 300 in first prot...</td>\n",
       "    </tr>\n",
       "  </tbody>\n",
       "</table>\n",
       "</div>"
      ],
      "text/plain": [
       "                                                   0\n",
       "0  Hong Kong police arrest over 300 in first prot..."
      ]
     },
     "execution_count": 34,
     "metadata": {},
     "output_type": "execute_result"
    }
   ],
   "source": [
    "df_title"
   ]
  },
  {
   "cell_type": "code",
   "execution_count": 35,
   "metadata": {},
   "outputs": [
    {
     "data": {
      "text/plain": [
       "pandas.core.frame.DataFrame"
      ]
     },
     "execution_count": 35,
     "metadata": {},
     "output_type": "execute_result"
    }
   ],
   "source": [
    "type(df_title)"
   ]
  },
  {
   "cell_type": "markdown",
   "metadata": {},
   "source": [
    "These two items are manually added."
   ]
  },
  {
   "cell_type": "code",
   "execution_count": 36,
   "metadata": {},
   "outputs": [],
   "source": [
    "country = 'US'\n",
    "df_country = pd.DataFrame([country])\n",
    "source = 'NY Post'\n",
    "df_source = pd.DataFrame([source])"
   ]
  },
  {
   "cell_type": "markdown",
   "metadata": {},
   "source": [
    "Finally, the news."
   ]
  },
  {
   "cell_type": "code",
   "execution_count": 91,
   "metadata": {},
   "outputs": [],
   "source": [
    "news1 = []\n",
    "for news in bsobj.findAll('div',{'class':'entry-content entry-content-read-more'}):\n",
    "    news1.append(news.text.strip())"
   ]
  },
  {
   "cell_type": "code",
   "execution_count": 92,
   "metadata": {},
   "outputs": [
    {
     "data": {
      "text/plain": [
       "['Hong Kong police arrested more than 300 people Wednesday as thousands of defiant demonstrators gathered in Hong Kong to protest Beijing’s new national security law — while the UK offered a new path to citizenship for almost 3 million eligible residents of its former colony.\\nHong Kong police fired water cannon and tear gas as protesters took to the streets to vent against the sweeping security legislation introduced by China that they say is aimed at stifling dissent.\\nIn Causeway Bay, the retail center of the island territory, cops raised a flag warning crowds they were violating the new law, but pro-Democracy demonstrators still gathered, resulting in hundreds of arrests by nightfall.\\nProtesters remained undaunted.\\n“We are on street to [protest] against national security law. We shall never surrender. Now is not the time to give up,” tweeted Joshua Wong, a Hong Kong activist with more than 600,000 followers on Twitter.’\\nReuters\\nOn the first full day the tough new law was in place, Hong Kong Chief Executive Carrie Lam admitted the civil unrest that had rocked the city for months last year was sparked by past failures, but claimed that the national security law showed “Beijing’s confidence” in the city, the South China Morning Post reported.\\nMeanwhile, British Prime Minister Boris Johnson announced the path to citizenship because, he said, Hong Kong residents’ freedoms were being erased by the new law.\\n“It violates Hong Kong’s high degree of autonomy and threatens the freedoms and rights protected by the joint declaration,” Johnson said, the BBC reported.\\n“We made clear that if China continued down this path we would introduce a new route for those with British National [Overseas] status to enter the UK, granting them limited leave to remain with the ability to live and work in the UK and thereafter to apply for citizenship. And that is precisely what we will do now.”\\nRiot police stop and search people.Reuters\\nAbout 350,000 UK passport holders, and 2.6 million others who are eligible, will be able to come to the UK for five years, and after a further year, they can apply for citizenship.\\nBritish National Overseas Passport holders in Hong Kong were granted special status in the 1980s but until now had restricted rights and were only entitled to visa-free access to the UK for six months.\\nJohnson also said Tuesday’s passing of the law was a “clear and serious breach” of the 1985 Sino-British joint declaration — which set out how certain freedoms would be protected for the 50 years after China assumed control of the colony in 1997, the news service reported.\\nHong Kong’s autonomy was guaranteed under the “one country, two systems” agreement enshrined in the Sino-British Joint Declaration signed by then Chinese Premier Zhao Ziyang and British Prime Minister Margaret Thatcher.\\nForeign Secretary Dominic Raab said Britain had carefully assessed China’s national security legislation since it was published late on Tuesday.\\n“It constitutes a clear violation of the autonomy of Hong Kong, and a direct threat to the freedoms of its people, and therefore I’m afraid to say it is a clear and serious violation of the Joint Declaration treaty between the United Kingdom and China,” Raab told Reuters and the BBC.\\nAuthorities in Beijing and Hong Kong have repeatedly said the legislation is aimed at a few “troublemakers” and will not affect rights and freedoms, nor investor interests.\\n“China, through this national security legislation, is not living up to its promises to the people of Hong Kong,” Raab said. “We will live up to our promises.”\\nAsked about how the West should deal with Chinese President Xi Jinping, Raab said the international community needed to act.\\nRiot police fire tear gas into the crowds to disperse anti-national security law protesters.Reuters\\n“Obviously, China is a leading member of the international community. And it is precisely because of that, that we expect it to live up to its international obligations and its international responsibilities. For trust in China’s ability to do that, today has been a big step backwards.”\\nIn response to the crackdown, the US said it would no longer deliver certain weapons to Hong Kong for fear they would fall into the hands of the mainland’s Communist government.\\nThe US also imposed visa restrictions on Communist Party officials involved in the crackdown.\\nWith Reuters']"
      ]
     },
     "execution_count": 92,
     "metadata": {},
     "output_type": "execute_result"
    }
   ],
   "source": [
    "news1"
   ]
  },
  {
   "cell_type": "code",
   "execution_count": 93,
   "metadata": {},
   "outputs": [],
   "source": [
    "news1 = str(news1)"
   ]
  },
  {
   "cell_type": "code",
   "execution_count": 94,
   "metadata": {},
   "outputs": [],
   "source": [
    "news1 = re.sub('With Reuters','',news1)"
   ]
  },
  {
   "cell_type": "code",
   "execution_count": 95,
   "metadata": {},
   "outputs": [
    {
     "data": {
      "text/plain": [
       "\"['Hong Kong police arrested more than 300 people Wednesday as thousands of defiant demonstrators gathered in Hong Kong to protest Beijing’s new national security law — while the UK offered a new path to citizenship for almost 3 million eligible residents of its former colony.\\\\nHong Kong police fired water cannon and tear gas as protesters took to the streets to vent against the sweeping security legislation introduced by China that they say is aimed at stifling dissent.\\\\nIn Causeway Bay, the retail center of the island territory, cops raised a flag warning crowds they were violating the new law, but pro-Democracy demonstrators still gathered, resulting in hundreds of arrests by nightfall.\\\\nProtesters remained undaunted.\\\\n“We are on street to [protest] against national security law. We shall never surrender. Now is not the time to give up,” tweeted Joshua Wong, a Hong Kong activist with more than 600,000 followers on Twitter.’\\\\nReuters\\\\nOn the first full day the tough new law was in place, Hong Kong Chief Executive Carrie Lam admitted the civil unrest that had rocked the city for months last year was sparked by past failures, but claimed that the national security law showed “Beijing’s confidence” in the city, the South China Morning Post reported.\\\\nMeanwhile, British Prime Minister Boris Johnson announced the path to citizenship because, he said, Hong Kong residents’ freedoms were being erased by the new law.\\\\n“It violates Hong Kong’s high degree of autonomy and threatens the freedoms and rights protected by the joint declaration,” Johnson said, the BBC reported.\\\\n“We made clear that if China continued down this path we would introduce a new route for those with British National [Overseas] status to enter the UK, granting them limited leave to remain with the ability to live and work in the UK and thereafter to apply for citizenship. And that is precisely what we will do now.”\\\\nRiot police stop and search people.Reuters\\\\nAbout 350,000 UK passport holders, and 2.6 million others who are eligible, will be able to come to the UK for five years, and after a further year, they can apply for citizenship.\\\\nBritish National Overseas Passport holders in Hong Kong were granted special status in the 1980s but until now had restricted rights and were only entitled to visa-free access to the UK for six months.\\\\nJohnson also said Tuesday’s passing of the law was a “clear and serious breach” of the 1985 Sino-British joint declaration — which set out how certain freedoms would be protected for the 50 years after China assumed control of the colony in 1997, the news service reported.\\\\nHong Kong’s autonomy was guaranteed under the “one country, two systems” agreement enshrined in the Sino-British Joint Declaration signed by then Chinese Premier Zhao Ziyang and British Prime Minister Margaret Thatcher.\\\\nForeign Secretary Dominic Raab said Britain had carefully assessed China’s national security legislation since it was published late on Tuesday.\\\\n“It constitutes a clear violation of the autonomy of Hong Kong, and a direct threat to the freedoms of its people, and therefore I’m afraid to say it is a clear and serious violation of the Joint Declaration treaty between the United Kingdom and China,” Raab told Reuters and the BBC.\\\\nAuthorities in Beijing and Hong Kong have repeatedly said the legislation is aimed at a few “troublemakers” and will not affect rights and freedoms, nor investor interests.\\\\n“China, through this national security legislation, is not living up to its promises to the people of Hong Kong,” Raab said. “We will live up to our promises.”\\\\nAsked about how the West should deal with Chinese President Xi Jinping, Raab said the international community needed to act.\\\\nRiot police fire tear gas into the crowds to disperse anti-national security law protesters.Reuters\\\\n“Obviously, China is a leading member of the international community. And it is precisely because of that, that we expect it to live up to its international obligations and its international responsibilities. For trust in China’s ability to do that, today has been a big step backwards.”\\\\nIn response to the crackdown, the US said it would no longer deliver certain weapons to Hong Kong for fear they would fall into the hands of the mainland’s Communist government.\\\\nThe US also imposed visa restrictions on Communist Party officials involved in the crackdown.\\\\n']\""
      ]
     },
     "execution_count": 95,
     "metadata": {},
     "output_type": "execute_result"
    }
   ],
   "source": [
    "news1"
   ]
  },
  {
   "cell_type": "code",
   "execution_count": 96,
   "metadata": {},
   "outputs": [],
   "source": [
    "df_news = pd.DataFrame([news1])"
   ]
  },
  {
   "cell_type": "code",
   "execution_count": 97,
   "metadata": {},
   "outputs": [
    {
     "data": {
      "text/html": [
       "<div>\n",
       "<style scoped>\n",
       "    .dataframe tbody tr th:only-of-type {\n",
       "        vertical-align: middle;\n",
       "    }\n",
       "\n",
       "    .dataframe tbody tr th {\n",
       "        vertical-align: top;\n",
       "    }\n",
       "\n",
       "    .dataframe thead th {\n",
       "        text-align: right;\n",
       "    }\n",
       "</style>\n",
       "<table border=\"1\" class=\"dataframe\">\n",
       "  <thead>\n",
       "    <tr style=\"text-align: right;\">\n",
       "      <th></th>\n",
       "      <th>0</th>\n",
       "    </tr>\n",
       "  </thead>\n",
       "  <tbody>\n",
       "    <tr>\n",
       "      <th>0</th>\n",
       "      <td>['Hong Kong police arrested more than 300 peop...</td>\n",
       "    </tr>\n",
       "  </tbody>\n",
       "</table>\n",
       "</div>"
      ],
      "text/plain": [
       "                                                   0\n",
       "0  ['Hong Kong police arrested more than 300 peop..."
      ]
     },
     "execution_count": 97,
     "metadata": {},
     "output_type": "execute_result"
    }
   ],
   "source": [
    "df_news.head(2)"
   ]
  },
  {
   "cell_type": "code",
   "execution_count": 101,
   "metadata": {},
   "outputs": [],
   "source": [
    "# df_news['article_body'] = df_news.article_body.str.cat(sep='')"
   ]
  },
  {
   "cell_type": "code",
   "execution_count": 103,
   "metadata": {},
   "outputs": [],
   "source": [
    "# df_news = df_news.article_body[0]"
   ]
  },
  {
   "cell_type": "code",
   "execution_count": 104,
   "metadata": {},
   "outputs": [],
   "source": [
    "df_news = df_news.replace(r'\\\\?','')"
   ]
  },
  {
   "cell_type": "code",
   "execution_count": 107,
   "metadata": {},
   "outputs": [],
   "source": [
    "# df_news = pd.DataFrame([df_news])"
   ]
  },
  {
   "cell_type": "code",
   "execution_count": 108,
   "metadata": {},
   "outputs": [
    {
     "data": {
      "text/plain": [
       "pandas.core.frame.DataFrame"
      ]
     },
     "execution_count": 108,
     "metadata": {},
     "output_type": "execute_result"
    }
   ],
   "source": [
    "type(df_news)"
   ]
  },
  {
   "cell_type": "code",
   "execution_count": 109,
   "metadata": {},
   "outputs": [],
   "source": [
    "df_news.columns = ['Article']"
   ]
  },
  {
   "cell_type": "code",
   "execution_count": 110,
   "metadata": {},
   "outputs": [
    {
     "data": {
      "text/html": [
       "<div>\n",
       "<style scoped>\n",
       "    .dataframe tbody tr th:only-of-type {\n",
       "        vertical-align: middle;\n",
       "    }\n",
       "\n",
       "    .dataframe tbody tr th {\n",
       "        vertical-align: top;\n",
       "    }\n",
       "\n",
       "    .dataframe thead th {\n",
       "        text-align: right;\n",
       "    }\n",
       "</style>\n",
       "<table border=\"1\" class=\"dataframe\">\n",
       "  <thead>\n",
       "    <tr style=\"text-align: right;\">\n",
       "      <th></th>\n",
       "      <th>Article</th>\n",
       "    </tr>\n",
       "  </thead>\n",
       "  <tbody>\n",
       "    <tr>\n",
       "      <th>0</th>\n",
       "      <td>['Hong Kong police arrested more than 300 peop...</td>\n",
       "    </tr>\n",
       "  </tbody>\n",
       "</table>\n",
       "</div>"
      ],
      "text/plain": [
       "                                             Article\n",
       "0  ['Hong Kong police arrested more than 300 peop..."
      ]
     },
     "execution_count": 110,
     "metadata": {},
     "output_type": "execute_result"
    }
   ],
   "source": [
    "df_news.head()"
   ]
  },
  {
   "cell_type": "code",
   "execution_count": null,
   "metadata": {},
   "outputs": [],
   "source": []
  },
  {
   "cell_type": "markdown",
   "metadata": {},
   "source": [
    "**Bringing it together.**<a id='2.5_bit'></a>"
   ]
  },
  {
   "cell_type": "code",
   "execution_count": 112,
   "metadata": {},
   "outputs": [],
   "source": [
    "df_5_nytimes = pd.concat([df_date,df_source,df_country,df_title,df_news],axis = 1, ignore_index=False)"
   ]
  },
  {
   "cell_type": "code",
   "execution_count": 76,
   "metadata": {},
   "outputs": [],
   "source": [
    "df_5_nytimes.columns = ['date','source','country','title','article']"
   ]
  },
  {
   "cell_type": "code",
   "execution_count": 77,
   "metadata": {},
   "outputs": [
    {
     "data": {
      "text/html": [
       "<div>\n",
       "<style scoped>\n",
       "    .dataframe tbody tr th:only-of-type {\n",
       "        vertical-align: middle;\n",
       "    }\n",
       "\n",
       "    .dataframe tbody tr th {\n",
       "        vertical-align: top;\n",
       "    }\n",
       "\n",
       "    .dataframe thead th {\n",
       "        text-align: right;\n",
       "    }\n",
       "</style>\n",
       "<table border=\"1\" class=\"dataframe\">\n",
       "  <thead>\n",
       "    <tr style=\"text-align: right;\">\n",
       "      <th></th>\n",
       "      <th>date</th>\n",
       "      <th>source</th>\n",
       "      <th>country</th>\n",
       "      <th>title</th>\n",
       "      <th>article</th>\n",
       "    </tr>\n",
       "  </thead>\n",
       "  <tbody>\n",
       "    <tr>\n",
       "      <th>0</th>\n",
       "      <td>2020-06-28</td>\n",
       "      <td>NY Times</td>\n",
       "      <td>US</td>\n",
       "      <td>What China’s New National Security Law Means f...</td>\n",
       "      <td>Chinese lawmakers have approved a national sec...</td>\n",
       "    </tr>\n",
       "  </tbody>\n",
       "</table>\n",
       "</div>"
      ],
      "text/plain": [
       "         date    source country  \\\n",
       "0  2020-06-28  NY Times      US   \n",
       "\n",
       "                                               title  \\\n",
       "0  What China’s New National Security Law Means f...   \n",
       "\n",
       "                                             article  \n",
       "0  Chinese lawmakers have approved a national sec...  "
      ]
     },
     "execution_count": 77,
     "metadata": {},
     "output_type": "execute_result"
    }
   ],
   "source": [
    "df_5_nytimes.head()"
   ]
  },
  {
   "cell_type": "code",
   "execution_count": null,
   "metadata": {},
   "outputs": [],
   "source": []
  },
  {
   "cell_type": "markdown",
   "metadata": {},
   "source": [
    "**Saving**<a id='2.6_save'></a>"
   ]
  },
  {
   "cell_type": "code",
   "execution_count": 74,
   "metadata": {},
   "outputs": [
    {
     "name": "stdout",
     "output_type": "stream",
     "text": [
      "C:\\Users\\rands\n"
     ]
    }
   ],
   "source": [
    "cd"
   ]
  },
  {
   "cell_type": "markdown",
   "metadata": {},
   "source": [
    "Saving it to Excel."
   ]
  },
  {
   "cell_type": "code",
   "execution_count": 78,
   "metadata": {},
   "outputs": [
    {
     "name": "stdout",
     "output_type": "stream",
     "text": [
      "Complete\n"
     ]
    }
   ],
   "source": [
    "# df = pd.DataFrame(reviewlist)\n",
    "\n",
    "# index=False below so that we don't get the dataframe index on the side; we just use the excel index\n",
    "df_5_nytimes.to_excel('./_Capstone_Two_NLP/data/_news/nytimes_5.xlsx', index=False)\n",
    "\n",
    "print('Complete')"
   ]
  },
  {
   "cell_type": "code",
   "execution_count": null,
   "metadata": {},
   "outputs": [],
   "source": []
  }
 ],
 "metadata": {
  "kernelspec": {
   "display_name": "Python 3",
   "language": "python",
   "name": "python3"
  },
  "language_info": {
   "codemirror_mode": {
    "name": "ipython",
    "version": 3
   },
   "file_extension": ".py",
   "mimetype": "text/x-python",
   "name": "python",
   "nbconvert_exporter": "python",
   "pygments_lexer": "ipython3",
   "version": "3.8.5"
  },
  "varInspector": {
   "cols": {
    "lenName": 16,
    "lenType": 16,
    "lenVar": 40
   },
   "kernels_config": {
    "python": {
     "delete_cmd_postfix": "",
     "delete_cmd_prefix": "del ",
     "library": "var_list.py",
     "varRefreshCmd": "print(var_dic_list())"
    },
    "r": {
     "delete_cmd_postfix": ") ",
     "delete_cmd_prefix": "rm(",
     "library": "var_list.r",
     "varRefreshCmd": "cat(var_dic_list()) "
    }
   },
   "types_to_exclude": [
    "module",
    "function",
    "builtin_function_or_method",
    "instance",
    "_Feature"
   ],
   "window_display": false
  }
 },
 "nbformat": 4,
 "nbformat_minor": 4
}
