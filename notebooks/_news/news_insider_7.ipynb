{
 "cells": [
  {
   "cell_type": "markdown",
   "metadata": {},
   "source": [
    "# Scraping What 1 mnth of law for HK has looked like from INSIDER"
   ]
  },
  {
   "cell_type": "markdown",
   "metadata": {},
   "source": [
    "## 2.1 Contents<a id='2.1_Contents'></a>\n",
    "* [2.1 Importing Relevant Tools](#2.1_Importing)\n",
    "* [2.2 Defining the Request](#2.2_URL)\n",
    "* [2.3 Grab | Date](#2.4_scrape_date)\n",
    "* [2.4 Grab | Header](#2.4_scrape_header)\n",
    "* [2.5 Grab | Content](#2.4_scrape_content)\n",
    "* [2.6 Clean | Send to DataFrame](#2.5_review)\n",
    "* [2.7 Save](#2.6_save)\n"
   ]
  },
  {
   "cell_type": "markdown",
   "metadata": {},
   "source": [
    "**Importing Relevant Tools**<a id='2.1_Importing'></a>"
   ]
  },
  {
   "cell_type": "code",
   "execution_count": 1,
   "metadata": {},
   "outputs": [],
   "source": [
    "import json\n",
    "import pandas as pd\n",
    "from bs4 import BeautifulSoup as soup\n",
    "import requests\n",
    "import csv\n",
    "import re\n",
    "import pickle\n",
    "\n",
    "%reload_ext watermark"
   ]
  },
  {
   "cell_type": "code",
   "execution_count": 2,
   "metadata": {},
   "outputs": [],
   "source": [
    "#the below needs to be reviewed for all websites; notably the time format\n",
    "\n",
    "from datetime import date\n",
    "from datetime import datetime\n",
    "today = date.today()\n",
    "d = today.strftime(\"%m-%d-%y\")"
   ]
  },
  {
   "cell_type": "markdown",
   "metadata": {},
   "source": [
    "For reference."
   ]
  },
  {
   "cell_type": "code",
   "execution_count": 3,
   "metadata": {},
   "outputs": [
    {
     "name": "stdout",
     "output_type": "stream",
     "text": [
      "Python implementation: CPython\n",
      "Python version       : 3.8.5\n",
      "IPython version      : 7.19.0\n",
      "\n",
      "pandas: 1.1.3\n",
      "\n"
     ]
    }
   ],
   "source": [
    "%watermark -d -t -v -p pandas"
   ]
  },
  {
   "cell_type": "markdown",
   "metadata": {},
   "source": [
    "**Defining the Request**<a id='2.2_URL'></a>"
   ]
  },
  {
   "cell_type": "code",
   "execution_count": 4,
   "metadata": {},
   "outputs": [
    {
     "data": {
      "text/plain": [
       "'https://www.businessinsider.com/hong-kong-china-national-security-law-one-month-what-changed-2020-7'"
      ]
     },
     "execution_count": 4,
     "metadata": {},
     "output_type": "execute_result"
    }
   ],
   "source": [
    "url = 'https://www.businessinsider.com/hong-kong-china-national-security-law-one-month-what-changed-2020-7'.format(d)\n",
    "url"
   ]
  },
  {
   "cell_type": "code",
   "execution_count": 5,
   "metadata": {},
   "outputs": [],
   "source": [
    "html = requests.get(url)"
   ]
  },
  {
   "cell_type": "code",
   "execution_count": 63,
   "metadata": {},
   "outputs": [],
   "source": [
    "bsobj = soup(html.content,'lxml')\n",
    "# bsobj"
   ]
  },
  {
   "cell_type": "markdown",
   "metadata": {},
   "source": [
    "**Grab | Date**<a id='2.4_scrape_date'></a>"
   ]
  },
  {
   "cell_type": "code",
   "execution_count": 32,
   "metadata": {},
   "outputs": [
    {
     "name": "stdout",
     "output_type": "stream",
     "text": [
      "2020-08-02T07:10:00Z\n"
     ]
    }
   ],
   "source": [
    "for date in bsobj.findAll('div',{'data-timestamp':'2020-08-02T07:10:00Z'}):\n",
    "    # bsObj.select_one\n",
    "    print(date.text.strip())"
   ]
  },
  {
   "cell_type": "markdown",
   "metadata": {},
   "source": [
    "Needs work below."
   ]
  },
  {
   "cell_type": "markdown",
   "metadata": {},
   "source": [
    "**Grab | Header**<a id='2.4_scrape_header'></a>"
   ]
  },
  {
   "cell_type": "code",
   "execution_count": 34,
   "metadata": {},
   "outputs": [
    {
     "name": "stdout",
     "output_type": "stream",
     "text": [
      "Teenage arrests, blank protest signs, and a key election postponed: What one month of China's new national security law for Hong Kong has looked like\n"
     ]
    }
   ],
   "source": [
    "for title in bsobj.findAll(\"h1\"):\n",
    "    print(format(title.text))"
   ]
  },
  {
   "cell_type": "markdown",
   "metadata": {},
   "source": [
    "Confirmed that's the title."
   ]
  },
  {
   "cell_type": "markdown",
   "metadata": {},
   "source": [
    "**Grab | Content**<a id='2.4_scrape_content'></a>"
   ]
  },
  {
   "cell_type": "code",
   "execution_count": 93,
   "metadata": {},
   "outputs": [
    {
     "name": "stdout",
     "output_type": "stream",
     "text": [
      "Thursday, July 30, marked one month since China imposed a new national-security law on Hong Kong.A lot has happened in a very short time.Vocal activists fled to safety abroad, political organizations disbanded, and pro-democracy candidates were banned from running in September's legislative election (which was also postponed on Friday).But pro-democracy activists have vowed to fight on, with some finding new ways to protest without falling afoul of the law, and others planning a parliament in exile.Elsewhere, China and Britain have exchanged barbs after the UK promised to give 3 million Hong Kongers a path to citizenship.Visit Business Insider's homepage for more stories.\n",
      "\n",
      "Thursday, July 30, marked one month since China's new national security law came into force in Hong Kong.From June 30, China has wielded the power to define and punish \"separatism, subversion, terrorism and foreign interference\" in the city as it sees fit. This means that anti-China sentiment — be it waving banners, attending protests, posting on social media, or calling for foreign intervention — is no longer tolerated.The law effectively marks the end of Hong Kong's political autonomy from the mainland. The crackdown has been swift and often violent, but pro-democracy activists haven't lost all hope.\n",
      "\n",
      "Here's what's happened in the month since.Political groups disbanded as activists fled to safetyShortly after the law came into force, four major pro-democracy figures — Joshua Wong, Agnes Chow, Nathan Law, and Jeffrey Ngo — resigned as leaders of the Demosistō organization, fearing that their titles would see them imprisoned.Hours later, Demosistō said the entire organization was disbanding. The Hong Kong National Front, another significant pro-independence group, disbanded soon after.\n",
      "\n",
      "\n",
      "\n",
      "\n",
      "\n",
      "\n",
      "\n",
      "\n",
      "\n",
      "                                Riot police officers detain a demonstrator during a protest in Hong Kong on May 27, 2020.\n",
      "                              \n",
      "\n",
      "                                  REUTERS/Tyrone Siu\n",
      "                                \n",
      "\n",
      "Nathan Law, a local politician and co-founder of Demosistō, announced on July 3 that he had fled Hong Kong. He revealed on July 13 that he was living in London.\n",
      "\n",
      "Also in London is Simon Cheng, a campaigner and former British consulate employee in Hong Kong, who was detained for 15 days during a trip to mainland China last year. Cheng said he was tortured by Chinese agents.Cheng has since announced intentions to set up a parliament-in-exile with other activists who have fled.\"A shadow parliament can send a very clear signal to Beijing,\" he told Reuters in early July.Public libraries in Hong Kong have also removed books written by pro-democracy activists from their shelves and catalogues.\n",
      "\n",
      "Police used the law to justify arrests right awayOn the first day of the national-security law's existence, 300 protesters were arrested by the Hong Kong police. Nine of the arrests were on suspicion of violating the national security, which forbids secession, the police said. The vague wording of the law gives police vast discretion to arrest people. Participating in demonstrations and waving anti-China slogans were good enough reasons for them to detain protesters.The full text of law was not even made public until several days after it had been passed. Leading figures arrestedFour students and activists aged between 16 and 21 were arrested on Thursday for \"inciting secession\" on social media — a charge that could see them spend the rest of their lives in jail.\n",
      "\n",
      "The Hong Kong Police Force said the quartet had announced on social media that they were setting up a pro-independence organisation, according to the BBC. They were detained for \"inciting secession.\"The arrests appear to be the first that specifically target Hong Kong's activists.\n",
      "\n",
      "\n",
      "\n",
      "\n",
      "\n",
      "\n",
      "\n",
      "\n",
      "\n",
      "                                A woman walks past a poster for the National Security Law in Hong Kong on July 28, 2020.\n",
      "                              \n",
      "\n",
      "                                  ANTHONY WALLACE/AFP via Getty Images\n",
      "                                \n",
      "\n",
      "A key election postponed, with opposition barredTwelve pro-democracy political candidates, including Joshua Wong and Dennis Kwok, were barred from running in Hong Kong's legislative election, which was scheduled in September.The elections had been the pro-democracy movement's best — and perhaps final — chance to combat China's growing encroachment on the city's political autonomy after the security law was imposed.\n",
      "\n",
      "China's liaison office in Hong Kong said the candidates had lobbied \"foreign powers to put sanctions on Hong Kong\" and tried to derail the passing of the security law. Colluding with foreign forces are one of the serious infractions detailed in the law.To make matters worse for the democracy movement, Hong Kong's government on Friday said it was delaying the election set for September by a year, citing concerns over the coronavirus.\n",
      "\n",
      "\n",
      "\n",
      "\n",
      "\n",
      "\n",
      "\n",
      "\n",
      "\n",
      "                                Civic Party members during a press conference at the party headquarters in Hong Kong on July 30, 2020.\n",
      "                              \n",
      "\n",
      "                                  ANTHONY WALLACE/AFP via Getty Images\n",
      "                                \n",
      "\n",
      "But pro-democracy politicians still have hopeShortly after being barred from running in future legislative elections, senior members of the pro-democracy Civic Party said they would not lose heart.\"When the regime wishes to enslave us, the best thing to do is to stand firm and tell the regime we would not change,\" said Kwok Ka-ki, one of the members, according to local news channel RTHK.\n",
      "\n",
      "On July 11 — less than two weeks after the security law was imposed — 600,000 Hong Kongers risked their safety to vote for the pro-democracy candidates they wanted to run in the (now postponed) legislative elections.New forms of resistanceHolding protest signs and chanting anti-China slogans are forbidden under the national-security law. Carrying a banner reading \"Free Hong Kong,\" for example, could get you imprisoned now.However, protesters were quick to adopt a new banner of independence: Sheets of white posters with no slogans of symbols that could see them breach the law.Activists have also changed the words to popular independence chants to avoid falling afoul of the security law. During a protest earlier this month, a group of protesters replaced the words in the protest anthem \"Glory to Hong Kong\" with numbers, RTHK reported.\n",
      "\n",
      "\n",
      "\n",
      "\n",
      "\n",
      "\n",
      "\n",
      "\n",
      "\n",
      "\n",
      "\n",
      "                                A group of Hong Kongers at a silent protest in a mall in the city on July 6, 2020.\n",
      "                              \n",
      "\n",
      "                                  Twitter/XinqiSu\n",
      "                                \n",
      "\n",
      "Some countries are committed to helping outTaiwan has surreptitiously tried to help activists and protesters stay in the country. Taiwan has in recent years become more vocal in its anti-China stance — the island has been self-ruling for decades but Beijing has always considered it a Chinese territory.Around 200 Hong Kong protesters are in Taiwan right now, according to The Guardian. Authorities there have encouraged Hong Kongers to extend their tourist visas and also enroll in colleges to get longer-term visas, which will keep them out of harm's way.\n",
      "\n",
      "\n",
      "\n",
      "\n",
      "\n",
      "\n",
      "\n",
      "\n",
      "\n",
      "                                Protesters gather in front of the Chinese Embassy in Seoul on May 27, 2020, to oppose China's move to enact a national security law.\n",
      "                              \n",
      "\n",
      "                                  Kyodo News via Getty Images\n",
      "                                \n",
      "\n",
      "The UK, which ruled over Hong Kong for 150 years until 1997, has also offered three million Hong Kongers and their families a path to British citizenship.\n",
      "\n",
      "Since Prime Minister Boris Johnson made that pledge, estate agents in London have observed a marked increase in requests for houses from Hong Kongers. However, China threatened on Friday to stop recognizing the British National Overseas passports held by millions of Hong Kongers, which could prevent the three million from leaving at all.\n"
     ]
    }
   ],
   "source": [
    "for news in bsobj.findAll('div',{'class':'content-lock-content'}):\n",
    "    print(news.text.strip())"
   ]
  },
  {
   "cell_type": "markdown",
   "metadata": {},
   "source": [
    "That's the bottom but a lot to remove."
   ]
  },
  {
   "cell_type": "markdown",
   "metadata": {},
   "source": [
    "**Clean | Send to DataFrame**<a id='2.5_review'></a>"
   ]
  },
  {
   "cell_type": "markdown",
   "metadata": {},
   "source": [
    "First the date from string to a datetime object."
   ]
  },
  {
   "cell_type": "code",
   "execution_count": 70,
   "metadata": {},
   "outputs": [],
   "source": [
    "for day in bsobj.find('div',{'data-timestamp':'2020-08-02T07:10:00Z'}):\n",
    "    day_pub = day.strip()"
   ]
  },
  {
   "cell_type": "code",
   "execution_count": 71,
   "metadata": {},
   "outputs": [
    {
     "data": {
      "text/plain": [
       "'2020-08-02T07:10:00Z'"
      ]
     },
     "execution_count": 71,
     "metadata": {},
     "output_type": "execute_result"
    }
   ],
   "source": [
    "day_pub"
   ]
  },
  {
   "cell_type": "code",
   "execution_count": 77,
   "metadata": {},
   "outputs": [
    {
     "data": {
      "text/plain": [
       "datetime.date(2020, 8, 2)"
      ]
     },
     "execution_count": 77,
     "metadata": {},
     "output_type": "execute_result"
    }
   ],
   "source": [
    "day_pub = re.sub('T07:10:00Z','',day_pub)\n",
    "day_pub = datetime.strptime(day_pub, '%Y-%m-%d').date()\n",
    "day_pub"
   ]
  },
  {
   "cell_type": "code",
   "execution_count": 78,
   "metadata": {},
   "outputs": [],
   "source": [
    "df_date = pd.DataFrame([day_pub])"
   ]
  },
  {
   "cell_type": "code",
   "execution_count": 79,
   "metadata": {},
   "outputs": [
    {
     "data": {
      "text/plain": [
       "pandas.core.frame.DataFrame"
      ]
     },
     "execution_count": 79,
     "metadata": {},
     "output_type": "execute_result"
    }
   ],
   "source": [
    "type(df_date)"
   ]
  },
  {
   "cell_type": "code",
   "execution_count": 80,
   "metadata": {},
   "outputs": [
    {
     "data": {
      "text/html": [
       "<div>\n",
       "<style scoped>\n",
       "    .dataframe tbody tr th:only-of-type {\n",
       "        vertical-align: middle;\n",
       "    }\n",
       "\n",
       "    .dataframe tbody tr th {\n",
       "        vertical-align: top;\n",
       "    }\n",
       "\n",
       "    .dataframe thead th {\n",
       "        text-align: right;\n",
       "    }\n",
       "</style>\n",
       "<table border=\"1\" class=\"dataframe\">\n",
       "  <thead>\n",
       "    <tr style=\"text-align: right;\">\n",
       "      <th></th>\n",
       "      <th>0</th>\n",
       "    </tr>\n",
       "  </thead>\n",
       "  <tbody>\n",
       "    <tr>\n",
       "      <th>0</th>\n",
       "      <td>2020-08-02</td>\n",
       "    </tr>\n",
       "  </tbody>\n",
       "</table>\n",
       "</div>"
      ],
      "text/plain": [
       "            0\n",
       "0  2020-08-02"
      ]
     },
     "execution_count": 80,
     "metadata": {},
     "output_type": "execute_result"
    }
   ],
   "source": [
    "df_date"
   ]
  },
  {
   "cell_type": "markdown",
   "metadata": {},
   "source": [
    "Now the title."
   ]
  },
  {
   "cell_type": "code",
   "execution_count": 81,
   "metadata": {},
   "outputs": [],
   "source": [
    "for title_s in bsobj.findAll(\"h1\"):\n",
    "    title_list = format(title_s.text)"
   ]
  },
  {
   "cell_type": "code",
   "execution_count": 82,
   "metadata": {},
   "outputs": [],
   "source": [
    "df_title = pd.DataFrame([title_list])"
   ]
  },
  {
   "cell_type": "code",
   "execution_count": 83,
   "metadata": {},
   "outputs": [
    {
     "data": {
      "text/html": [
       "<div>\n",
       "<style scoped>\n",
       "    .dataframe tbody tr th:only-of-type {\n",
       "        vertical-align: middle;\n",
       "    }\n",
       "\n",
       "    .dataframe tbody tr th {\n",
       "        vertical-align: top;\n",
       "    }\n",
       "\n",
       "    .dataframe thead th {\n",
       "        text-align: right;\n",
       "    }\n",
       "</style>\n",
       "<table border=\"1\" class=\"dataframe\">\n",
       "  <thead>\n",
       "    <tr style=\"text-align: right;\">\n",
       "      <th></th>\n",
       "      <th>0</th>\n",
       "    </tr>\n",
       "  </thead>\n",
       "  <tbody>\n",
       "    <tr>\n",
       "      <th>0</th>\n",
       "      <td>Teenage arrests, blank protest signs, and a ke...</td>\n",
       "    </tr>\n",
       "  </tbody>\n",
       "</table>\n",
       "</div>"
      ],
      "text/plain": [
       "                                                   0\n",
       "0  Teenage arrests, blank protest signs, and a ke..."
      ]
     },
     "execution_count": 83,
     "metadata": {},
     "output_type": "execute_result"
    }
   ],
   "source": [
    "df_title"
   ]
  },
  {
   "cell_type": "code",
   "execution_count": 84,
   "metadata": {},
   "outputs": [
    {
     "data": {
      "text/plain": [
       "pandas.core.frame.DataFrame"
      ]
     },
     "execution_count": 84,
     "metadata": {},
     "output_type": "execute_result"
    }
   ],
   "source": [
    "type(df_title)"
   ]
  },
  {
   "cell_type": "markdown",
   "metadata": {},
   "source": [
    "These two items are manually added."
   ]
  },
  {
   "cell_type": "code",
   "execution_count": 89,
   "metadata": {},
   "outputs": [],
   "source": [
    "country = 'US'\n",
    "df_country = pd.DataFrame([country])\n",
    "source = 'Insider'\n",
    "df_source = pd.DataFrame([source])"
   ]
  },
  {
   "cell_type": "markdown",
   "metadata": {},
   "source": [
    "Finally, the news."
   ]
  },
  {
   "cell_type": "code",
   "execution_count": 94,
   "metadata": {},
   "outputs": [],
   "source": [
    "news1 = []\n",
    "for news in bsobj.findAll('div',{'class':'content-lock-content'}):\n",
    "    news1.append(news.text.strip())"
   ]
  },
  {
   "cell_type": "code",
   "execution_count": 95,
   "metadata": {},
   "outputs": [
    {
     "data": {
      "text/plain": [
       "['Thursday, July 30, marked one month since China imposed a new national-security law on Hong Kong.A lot has happened in a very short time.Vocal activists fled to safety abroad, political organizations disbanded, and pro-democracy candidates were banned from running in September\\'s legislative election (which was also postponed on Friday).But pro-democracy activists have vowed to fight on, with some finding new ways to protest without falling afoul of the law, and others planning a parliament in exile.Elsewhere, China and Britain have exchanged barbs after the UK promised to give 3 million Hong Kongers a path to citizenship.Visit Business Insider\\'s homepage for more stories.\\n\\nThursday, July 30, marked one month since China\\'s new national security law came into force in Hong Kong.From June 30, China has wielded the power to define and punish \"separatism, subversion, terrorism and foreign interference\" in the city as it sees fit.\\xa0This means that anti-China sentiment — be it waving banners, attending protests, posting on social media, or calling for foreign intervention — is no longer tolerated.The law effectively marks the end of Hong Kong\\'s political autonomy from the mainland. The crackdown has been swift and often violent, but pro-democracy activists haven\\'t lost all hope.\\n\\nHere\\'s what\\'s happened in the month since.Political groups disbanded as activists fled to safetyShortly after the law came into force, four major pro-democracy figures — Joshua Wong, Agnes Chow, Nathan Law, and Jeffrey Ngo — resigned as leaders of the Demosistō organization, fearing that their titles would see them imprisoned.Hours later, Demosistō said the entire organization was disbanding. The Hong Kong National Front, another significant pro-independence group, disbanded soon after.\\n\\n\\n\\n\\n\\n\\n\\n\\n\\n                                Riot police officers detain a demonstrator during a protest in Hong Kong on May 27, 2020.\\n                              \\n\\n                                  REUTERS/Tyrone Siu\\n                                \\n\\nNathan Law, a local politician and co-founder of Demosistō, announced on July 3 that he had fled Hong Kong. He revealed on July 13 that he was living in London.\\n\\nAlso in London is Simon Cheng, a campaigner and former British consulate employee in Hong Kong, who was detained for 15 days during a trip to mainland China last year. Cheng said he was tortured by Chinese agents.Cheng has since announced intentions to set up a parliament-in-exile with other activists who have fled.\"A shadow parliament can send a very clear signal to Beijing,\" he told Reuters in early July.Public libraries in Hong Kong have also removed books written by pro-democracy activists from their shelves and catalogues.\\n\\nPolice used the law to justify arrests right awayOn the first day of the national-security law\\'s existence, 300 protesters were arrested by the Hong Kong police. Nine of the arrests were on suspicion of violating the national security, which forbids secession, the police said.\\xa0The vague wording of the law gives police vast discretion to arrest people. Participating in demonstrations and waving anti-China slogans were good enough reasons for them to detain protesters.The\\xa0full text of law was not even made public until several days after it had been passed.\\xa0Leading figures arrestedFour students and activists aged between 16 and 21 were arrested on Thursday for \"inciting secession\" on social media — a charge that could see them spend the rest of their lives in jail.\\n\\nThe Hong Kong Police Force said the quartet had announced on social media that they were setting up a pro-independence organisation, according to the BBC. They were detained for \"inciting secession.\"The arrests appear to be the first that specifically target Hong Kong\\'s activists.\\n\\n\\n\\n\\n\\n\\n\\n\\n\\n                                A woman walks past a poster for the National Security Law in Hong Kong on July 28, 2020.\\n                              \\n\\n                                  ANTHONY WALLACE/AFP via Getty Images\\n                                \\n\\nA key election postponed, with opposition barredTwelve pro-democracy political candidates, including Joshua Wong and Dennis Kwok, were barred from running in Hong Kong\\'s legislative election, which was scheduled in September.The elections had been the pro-democracy movement\\'s best — and perhaps final — chance to combat China\\'s growing encroachment on the city\\'s political autonomy after the security law was imposed.\\n\\nChina\\'s liaison office in Hong Kong said the candidates had lobbied \"foreign powers to put sanctions on Hong Kong\" and tried to derail the passing of the security law. Colluding with foreign forces are one of the serious infractions detailed in the law.To make matters worse for the democracy movement, Hong Kong\\'s government on Friday said it was delaying the election set for September by a year, citing concerns over the coronavirus.\\n\\n\\n\\n\\n\\n\\n\\n\\n\\n                                Civic Party members during a press conference at the party headquarters in Hong Kong on July 30, 2020.\\n                              \\n\\n                                  ANTHONY WALLACE/AFP via Getty Images\\n                                \\n\\nBut pro-democracy politicians still have hopeShortly after being barred from running in future legislative elections, senior members of the pro-democracy Civic Party said they would not lose heart.\"When the regime wishes to enslave us, the best thing to do is to stand firm and tell the regime we would not change,\" said Kwok Ka-ki, one of the members, according to local news channel RTHK.\\n\\nOn July 11 — less than two weeks after the security law was imposed — 600,000 Hong Kongers risked their safety to vote for the pro-democracy candidates they wanted to run in the (now postponed) legislative elections.New forms of resistanceHolding protest signs and chanting anti-China slogans are forbidden under the national-security law. Carrying a banner reading \"Free Hong Kong,\" for example, could get you imprisoned now.However, protesters were quick to adopt a new banner of independence: Sheets of white posters with no slogans of symbols that could see them breach the law.Activists have also changed the words to popular independence chants to avoid falling afoul of the security law. During a protest earlier this month, a group of protesters replaced the words in the protest anthem \"Glory to Hong Kong\" with numbers, RTHK reported.\\n\\n\\n\\n\\n\\n\\n\\n\\n\\n\\n\\n                                A group of Hong Kongers at a silent protest in a mall in the city on July 6, 2020.\\n                              \\n\\n                                  Twitter/XinqiSu\\n                                \\n\\nSome countries are committed to helping outTaiwan has surreptitiously tried to help activists and protesters stay in the country. Taiwan has in recent years become more vocal in its anti-China stance — the island has been self-ruling for decades but Beijing has always considered it a Chinese territory.Around 200 Hong Kong protesters are in Taiwan right now, according to The Guardian.\\xa0Authorities there have encouraged Hong Kongers to extend their tourist visas and also enroll in colleges to get longer-term visas, which will keep them out of harm\\'s way.\\n\\n\\n\\n\\n\\n\\n\\n\\n\\n                                Protesters gather in front of the Chinese Embassy in Seoul on May 27, 2020, to oppose China\\'s move to enact a national security law.\\n                              \\n\\n                                  Kyodo News via Getty Images\\n                                \\n\\nThe UK, which ruled over Hong Kong for 150 years until 1997, has also offered three million Hong Kongers and their families a path to British citizenship.\\n\\nSince Prime Minister Boris Johnson made that pledge, estate agents in London have observed a marked increase in requests for houses from Hong Kongers.\\xa0However, China threatened on Friday to stop recognizing the British National Overseas passports held by millions of Hong Kongers, which could prevent the three million from leaving at all.']"
      ]
     },
     "execution_count": 95,
     "metadata": {},
     "output_type": "execute_result"
    }
   ],
   "source": [
    "news1"
   ]
  },
  {
   "cell_type": "code",
   "execution_count": 96,
   "metadata": {},
   "outputs": [
    {
     "data": {
      "text/plain": [
       "1"
      ]
     },
     "execution_count": 96,
     "metadata": {},
     "output_type": "execute_result"
    }
   ],
   "source": [
    "len(news1)"
   ]
  },
  {
   "cell_type": "code",
   "execution_count": null,
   "metadata": {},
   "outputs": [],
   "source": []
  },
  {
   "cell_type": "code",
   "execution_count": null,
   "metadata": {},
   "outputs": [],
   "source": []
  },
  {
   "cell_type": "code",
   "execution_count": null,
   "metadata": {},
   "outputs": [],
   "source": []
  },
  {
   "cell_type": "code",
   "execution_count": null,
   "metadata": {},
   "outputs": [],
   "source": []
  },
  {
   "cell_type": "code",
   "execution_count": null,
   "metadata": {},
   "outputs": [],
   "source": []
  },
  {
   "cell_type": "code",
   "execution_count": null,
   "metadata": {},
   "outputs": [],
   "source": []
  },
  {
   "cell_type": "code",
   "execution_count": null,
   "metadata": {},
   "outputs": [],
   "source": []
  },
  {
   "cell_type": "code",
   "execution_count": null,
   "metadata": {},
   "outputs": [],
   "source": []
  },
  {
   "cell_type": "code",
   "execution_count": 23,
   "metadata": {},
   "outputs": [],
   "source": [
    "df_news = pd.DataFrame()"
   ]
  },
  {
   "cell_type": "code",
   "execution_count": 24,
   "metadata": {},
   "outputs": [],
   "source": [
    "df_news['article_body'] = news1"
   ]
  },
  {
   "cell_type": "code",
   "execution_count": 25,
   "metadata": {},
   "outputs": [
    {
     "data": {
      "text/html": [
       "<div>\n",
       "<style scoped>\n",
       "    .dataframe tbody tr th:only-of-type {\n",
       "        vertical-align: middle;\n",
       "    }\n",
       "\n",
       "    .dataframe tbody tr th {\n",
       "        vertical-align: top;\n",
       "    }\n",
       "\n",
       "    .dataframe thead th {\n",
       "        text-align: right;\n",
       "    }\n",
       "</style>\n",
       "<table border=\"1\" class=\"dataframe\">\n",
       "  <thead>\n",
       "    <tr style=\"text-align: right;\">\n",
       "      <th></th>\n",
       "      <th>article_body</th>\n",
       "    </tr>\n",
       "  </thead>\n",
       "  <tbody>\n",
       "    <tr>\n",
       "      <th>0</th>\n",
       "      <td>China has passed a wide-ranging new security l...</td>\n",
       "    </tr>\n",
       "    <tr>\n",
       "      <th>1</th>\n",
       "      <td>Critics have called it \"the end of Hong Kong\" ...</td>\n",
       "    </tr>\n",
       "  </tbody>\n",
       "</table>\n",
       "</div>"
      ],
      "text/plain": [
       "                                        article_body\n",
       "0  China has passed a wide-ranging new security l...\n",
       "1  Critics have called it \"the end of Hong Kong\" ..."
      ]
     },
     "execution_count": 25,
     "metadata": {},
     "output_type": "execute_result"
    }
   ],
   "source": [
    "df_news.head(2)"
   ]
  },
  {
   "cell_type": "code",
   "execution_count": 26,
   "metadata": {},
   "outputs": [],
   "source": [
    "df_news['article_body'] = df_news.article_body.str.cat(sep='')"
   ]
  },
  {
   "cell_type": "code",
   "execution_count": 27,
   "metadata": {},
   "outputs": [],
   "source": [
    "df_news = df_news.article_body[0]"
   ]
  },
  {
   "cell_type": "code",
   "execution_count": 28,
   "metadata": {},
   "outputs": [],
   "source": [
    "df_news = df_news.replace(r'\\\\?','')"
   ]
  },
  {
   "cell_type": "code",
   "execution_count": 29,
   "metadata": {},
   "outputs": [],
   "source": [
    "df_news = pd.DataFrame([df_news])"
   ]
  },
  {
   "cell_type": "code",
   "execution_count": 30,
   "metadata": {},
   "outputs": [
    {
     "data": {
      "text/plain": [
       "pandas.core.frame.DataFrame"
      ]
     },
     "execution_count": 30,
     "metadata": {},
     "output_type": "execute_result"
    }
   ],
   "source": [
    "type(df_news)"
   ]
  },
  {
   "cell_type": "code",
   "execution_count": 31,
   "metadata": {},
   "outputs": [],
   "source": [
    "df_news.columns = ['Article']"
   ]
  },
  {
   "cell_type": "code",
   "execution_count": 32,
   "metadata": {},
   "outputs": [
    {
     "data": {
      "text/html": [
       "<div>\n",
       "<style scoped>\n",
       "    .dataframe tbody tr th:only-of-type {\n",
       "        vertical-align: middle;\n",
       "    }\n",
       "\n",
       "    .dataframe tbody tr th {\n",
       "        vertical-align: top;\n",
       "    }\n",
       "\n",
       "    .dataframe thead th {\n",
       "        text-align: right;\n",
       "    }\n",
       "</style>\n",
       "<table border=\"1\" class=\"dataframe\">\n",
       "  <thead>\n",
       "    <tr style=\"text-align: right;\">\n",
       "      <th></th>\n",
       "      <th>Article</th>\n",
       "    </tr>\n",
       "  </thead>\n",
       "  <tbody>\n",
       "    <tr>\n",
       "      <th>0</th>\n",
       "      <td>China has passed a wide-ranging new security l...</td>\n",
       "    </tr>\n",
       "  </tbody>\n",
       "</table>\n",
       "</div>"
      ],
      "text/plain": [
       "                                             Article\n",
       "0  China has passed a wide-ranging new security l..."
      ]
     },
     "execution_count": 32,
     "metadata": {},
     "output_type": "execute_result"
    }
   ],
   "source": [
    "df_news.head()"
   ]
  },
  {
   "cell_type": "code",
   "execution_count": null,
   "metadata": {},
   "outputs": [],
   "source": []
  },
  {
   "cell_type": "markdown",
   "metadata": {},
   "source": [
    "**Bringing it together.**<a id='2.5_bit'></a>"
   ]
  },
  {
   "cell_type": "code",
   "execution_count": 33,
   "metadata": {},
   "outputs": [],
   "source": [
    "df_1_bbc = pd.concat([df_date,df_source,df_country,df_title,df_news],axis = 1, ignore_index=False)"
   ]
  },
  {
   "cell_type": "code",
   "execution_count": 34,
   "metadata": {},
   "outputs": [],
   "source": [
    "df_1_bbc.columns = ['date','source','country','title','article']"
   ]
  },
  {
   "cell_type": "code",
   "execution_count": 35,
   "metadata": {},
   "outputs": [
    {
     "data": {
      "text/html": [
       "<div>\n",
       "<style scoped>\n",
       "    .dataframe tbody tr th:only-of-type {\n",
       "        vertical-align: middle;\n",
       "    }\n",
       "\n",
       "    .dataframe tbody tr th {\n",
       "        vertical-align: top;\n",
       "    }\n",
       "\n",
       "    .dataframe thead th {\n",
       "        text-align: right;\n",
       "    }\n",
       "</style>\n",
       "<table border=\"1\" class=\"dataframe\">\n",
       "  <thead>\n",
       "    <tr style=\"text-align: right;\">\n",
       "      <th></th>\n",
       "      <th>date</th>\n",
       "      <th>source</th>\n",
       "      <th>country</th>\n",
       "      <th>title</th>\n",
       "      <th>article</th>\n",
       "    </tr>\n",
       "  </thead>\n",
       "  <tbody>\n",
       "    <tr>\n",
       "      <th>0</th>\n",
       "      <td>2020-06-30</td>\n",
       "      <td>BBC</td>\n",
       "      <td>UK</td>\n",
       "      <td>Hong Kong security law: What is it and is it w...</td>\n",
       "      <td>China has passed a wide-ranging new security l...</td>\n",
       "    </tr>\n",
       "  </tbody>\n",
       "</table>\n",
       "</div>"
      ],
      "text/plain": [
       "         date source country  \\\n",
       "0  2020-06-30    BBC      UK   \n",
       "\n",
       "                                               title  \\\n",
       "0  Hong Kong security law: What is it and is it w...   \n",
       "\n",
       "                                             article  \n",
       "0  China has passed a wide-ranging new security l...  "
      ]
     },
     "execution_count": 35,
     "metadata": {},
     "output_type": "execute_result"
    }
   ],
   "source": [
    "df_1_bbc.head()"
   ]
  },
  {
   "cell_type": "code",
   "execution_count": null,
   "metadata": {},
   "outputs": [],
   "source": []
  },
  {
   "cell_type": "markdown",
   "metadata": {},
   "source": [
    "**Saving**<a id='2.6_save'></a>"
   ]
  },
  {
   "cell_type": "code",
   "execution_count": 36,
   "metadata": {},
   "outputs": [
    {
     "name": "stdout",
     "output_type": "stream",
     "text": [
      "C:\\Users\\rands\n"
     ]
    }
   ],
   "source": [
    "cd"
   ]
  },
  {
   "cell_type": "markdown",
   "metadata": {},
   "source": [
    "Saving it to Excel."
   ]
  },
  {
   "cell_type": "code",
   "execution_count": 37,
   "metadata": {},
   "outputs": [
    {
     "name": "stdout",
     "output_type": "stream",
     "text": [
      "Complete\n"
     ]
    }
   ],
   "source": [
    "# df = pd.DataFrame(reviewlist)\n",
    "\n",
    "# index=False below so that we don't get the dataframe index on the side; we just use the excel index\n",
    "df_1_bbc.to_excel('./_Capstone_Two_NLP/data/_news/bbc_1.xlsx', index=False)\n",
    "\n",
    "print('Complete')"
   ]
  },
  {
   "cell_type": "code",
   "execution_count": null,
   "metadata": {},
   "outputs": [],
   "source": []
  }
 ],
 "metadata": {
  "kernelspec": {
   "display_name": "Python 3",
   "language": "python",
   "name": "python3"
  },
  "language_info": {
   "codemirror_mode": {
    "name": "ipython",
    "version": 3
   },
   "file_extension": ".py",
   "mimetype": "text/x-python",
   "name": "python",
   "nbconvert_exporter": "python",
   "pygments_lexer": "ipython3",
   "version": "3.8.5"
  },
  "varInspector": {
   "cols": {
    "lenName": 16,
    "lenType": 16,
    "lenVar": 40
   },
   "kernels_config": {
    "python": {
     "delete_cmd_postfix": "",
     "delete_cmd_prefix": "del ",
     "library": "var_list.py",
     "varRefreshCmd": "print(var_dic_list())"
    },
    "r": {
     "delete_cmd_postfix": ") ",
     "delete_cmd_prefix": "rm(",
     "library": "var_list.r",
     "varRefreshCmd": "cat(var_dic_list()) "
    }
   },
   "types_to_exclude": [
    "module",
    "function",
    "builtin_function_or_method",
    "instance",
    "_Feature"
   ],
   "window_display": false
  }
 },
 "nbformat": 4,
 "nbformat_minor": 4
}
