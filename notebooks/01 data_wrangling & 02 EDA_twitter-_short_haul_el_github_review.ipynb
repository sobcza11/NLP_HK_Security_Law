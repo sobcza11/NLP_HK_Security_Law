{
 "cells": [
  {
   "cell_type": "markdown",
   "metadata": {},
   "source": [
    "# Data Wrangling & EDA | Twitter | HK NLP Project"
   ]
  },
  {
   "cell_type": "markdown",
   "metadata": {},
   "source": [
    "# Table of Contents\n",
    "* [1.0 Wrangling](#toc)\n",
    "  * [1.1 Contents](#wrangle_contents)\n",
    "  * [1.2 Imports & Set Up](#imports)\n",
    "  * [1.3 Initial Scraping before Regex](#int_scrape)\n",
    "  * [1.4 Regex](#regex)\n",
    "     * [1.4.1 Duplicated TorF](#dupe)\n",
    "     * [1.4.2 Language](#lang)\n",
    "     * [1.4.3 Mentions to Other Users](#oum)\n",
    "     * [1.4.4 HTML tags](#htmltags)\n",
    "     * [1.4.5 Tweet Hashtags](#tweethash_tags)\n",
    "     * [1.4.6 Emoji's](#emojis)\n",
    "     * [1.4.7 Profanity](#profanity)\n",
    "     * [1.4.8 Foreign Languages](#flanguage)\n",
    "     * [1.4.9 Sentiment Intensity Analyzer](#sia)\n",
    "     * [1.4.10 Stop Words](#stop_words) \n",
    "     * [1.4.11 Stemming](#word_stem) \n",
    "     * [1.4.12 Lemmatization](#word_lem) \n",
    "     * [1.4.13 Tweet Length](#tweet_length) \n",
    "     * [1.4.14 Number of Hashtags](#num_hashtags) \n",
    "     * [1.4.15 TfidfVectorizer](#word_v_tfid) \n",
    "     * [1.4.16 CountVectorizer](#word_v_count) \n",
    "  * [1.5 Putting the Data to the Side](#pts)\n",
    "* [2.0 Exploratory Data Analysis (EDA)](#eda)\n",
    "  * [2.1 Contents](#eda_contents)\n",
    "  * [2.2 xxxxxxxxxxxxxx](#_____)\n",
    "  * [2.3 xxxxxxxxxxxxxx](#_____)\n",
    "  * [2.4 xxxxxxxxxxxxxx](#_____)\n",
    "  * [2.5 xxxxxxxxxxxxxx](#_____)\n",
    "  * [2.6 xxxxxxxxxxxxxx](#_____)\n",
    "  * [2.7 xxxxxxxxxxxxxx](#_____)\n",
    "  * [2.8 xxxxxxxxxxxxxx](#_____)\n",
    "  * [2.9 xxxxxxxxxxxxxx](#_____)\n",
    "  * [2.10 Pulling them together](#1.15_ptt)\n"
   ]
  },
  {
   "cell_type": "markdown",
   "metadata": {},
   "source": [
    "# **1.1 Contents**<a id='wrangle_contents'></a>"
   ]
  },
  {
   "cell_type": "markdown",
   "metadata": {},
   "source": [
    "This is where you will summarize your intent. Mention you used `twint`"
   ]
  },
  {
   "cell_type": "markdown",
   "metadata": {},
   "source": [
    "# **1.2 Imports & Set Up**<a id='imports'></a>"
   ]
  },
  {
   "cell_type": "code",
   "execution_count": 14,
   "metadata": {},
   "outputs": [
    {
     "name": "stderr",
     "output_type": "stream",
     "text": [
      "[nltk_data] Downloading package stopwords to\n",
      "[nltk_data]     C:\\Users\\rands\\AppData\\Roaming\\nltk_data...\n",
      "[nltk_data]   Package stopwords is already up-to-date!\n"
     ]
    },
    {
     "name": "stdout",
     "output_type": "stream",
     "text": [
      "Python implementation: CPython\n",
      "Python version       : 3.8.5\n",
      "IPython version      : 7.19.0\n",
      "\n",
      "pandas: 1.2.4\n",
      "\n"
     ]
    }
   ],
   "source": [
    "# Main Imports\n",
    "import os\n",
    "import sys\n",
    "import numpy as np\n",
    "import statistics\n",
    "from scipy import stats\n",
    "import pandas as pd\n",
    "from pandas import DataFrame\n",
    "import seaborn as sns\n",
    "import matplotlib.pyplot as plt\n",
    "import matplotlib.colors as colors\n",
    "import matplotlib.dates as mdates\n",
    "import matplotlib.ticker as ticker\n",
    "from matplotlib.pyplot import figure\n",
    "%matplotlib inline\n",
    "import datetime\n",
    "import warnings\n",
    "warnings.filterwarnings(\"ignore\")\n",
    "%reload_ext watermark\n",
    "from translate import translator\n",
    "import googletrans\n",
    "from googletrans import Translator\n",
    "\n",
    "# NLP Imports\n",
    "import re\n",
    "import string\n",
    "import nltk\n",
    "import pickle\n",
    "import emoji\n",
    "from better_profanity import profanity\n",
    "from nltk import sent_tokenize, word_tokenize\n",
    "from nltk.stem.snowball import SnowballStemmer\n",
    "from nltk.stem import PorterStemmer\n",
    "ps = PorterStemmer()\n",
    "from nltk.stem.wordnet import WordNetLemmatizer\n",
    "\n",
    "from nltk.tokenize.casual import TweetTokenizer\n",
    "from nltk.corpus import stopwords\n",
    "from nltk.sentiment.vader import SentimentIntensityAnalyzer\n",
    "from gensim.corpora.dictionary import Dictionary\n",
    "from gensim.models.tfidfmodel import TfidfModel\n",
    "from sklearn.feature_extraction.text import TfidfVectorizer\n",
    "from sklearn.feature_extraction.text import CountVectorizer\n",
    "\n",
    "from collections import Counter\n",
    "import spacy\n",
    "nltk.download(\"stopwords\")\n",
    "stop = stopwords.words('english')\n",
    "stopwords = nltk.corpus.stopwords.words('english')\n",
    "ps= nltk.PorterStemmer()\n",
    "\n",
    "results = Counter()\n",
    "\n",
    "# from polyglot.text import Text\n",
    "\n",
    "# The below 2 may be required\n",
    "# import nltk\n",
    "# nltk.download('stopwords')\n",
    "# nltk.download('averaged_perceptron_tagger')\n",
    "# nltk.download('maxent_ne_chunker')\n",
    "# nltk.download('words')\n",
    "\n",
    "# Still importing twint\n",
    "import twint\n",
    "import nest_asyncio\n",
    "nest_asyncio.apply()\n",
    "\n",
    "%watermark -d -t -v -p pandas"
   ]
  },
  {
   "cell_type": "code",
   "execution_count": 15,
   "metadata": {},
   "outputs": [],
   "source": [
    "# Here I am structuring a color scale for heatmaps which will be used later\n",
    "\n",
    "cdict = {'green':  ((0.0, 0.0, 0.0),   # no red at 0\n",
    "                  (0.5, 1.0, 1.0),   # all channels set to 1.0 at 0.5 to create white\n",
    "                  (1.0, 0.8, 0.8)),  # set to 0.8 so its not too bright at 1\n",
    "\n",
    "        'red': ((0.0, 0.8, 0.8),   # set to 0.8 so its not too bright at 0\n",
    "                  (0.5, 1.0, 1.0),   # all channels set to 1.0 at 0.5 to create white\n",
    "                  (1.0, 0.0, 0.0)),  # no green at 1\n",
    "\n",
    "        'blue':  ((0.0, 0.0, 0.0),   # no blue at 0\n",
    "                  (0.5, 1.0, 1.0),   # all channels set to 1.0 at 0.5 to create white\n",
    "                  (1.0, 0.0, 0.0))   # no blue at 1\n",
    "       }\n",
    "\n",
    "# Create the colormap using the dictionary\n",
    "GnRd = colors.LinearSegmentedColormap('GnRd', cdict)\n"
   ]
  },
  {
   "cell_type": "code",
   "execution_count": 16,
   "metadata": {},
   "outputs": [
    {
     "name": "stdout",
     "output_type": "stream",
     "text": [
      "C:\\Users\\rands\n"
     ]
    }
   ],
   "source": [
    "cd"
   ]
  },
  {
   "cell_type": "code",
   "execution_count": 17,
   "metadata": {},
   "outputs": [],
   "source": [
    "df = pd.read_excel('./_Capstone_Two_NLP/data/_twitter/tweets.xlsx')\n",
    "df = df.reset_index()\n",
    "df = df.drop(columns=['Unnamed: 0','index'])"
   ]
  },
  {
   "cell_type": "code",
   "execution_count": null,
   "metadata": {},
   "outputs": [],
   "source": []
  },
  {
   "cell_type": "markdown",
   "metadata": {},
   "source": [
    "# **1.3 Initial Scraping before Regex**<a id='int_scrape'></a>"
   ]
  },
  {
   "cell_type": "code",
   "execution_count": 18,
   "metadata": {
    "scrolled": true
   },
   "outputs": [
    {
     "data": {
      "text/html": [
       "<div>\n",
       "<style scoped>\n",
       "    .dataframe tbody tr th:only-of-type {\n",
       "        vertical-align: middle;\n",
       "    }\n",
       "\n",
       "    .dataframe tbody tr th {\n",
       "        vertical-align: top;\n",
       "    }\n",
       "\n",
       "    .dataframe thead th {\n",
       "        text-align: right;\n",
       "    }\n",
       "</style>\n",
       "<table border=\"1\" class=\"dataframe\">\n",
       "  <thead>\n",
       "    <tr style=\"text-align: right;\">\n",
       "      <th></th>\n",
       "      <th>hash</th>\n",
       "      <th>created_at</th>\n",
       "      <th>username</th>\n",
       "      <th>tweet</th>\n",
       "      <th>language</th>\n",
       "      <th>replies_count</th>\n",
       "      <th>retweets_count</th>\n",
       "      <th>likes_count</th>\n",
       "      <th>reply_to</th>\n",
       "      <th>hashtags</th>\n",
       "    </tr>\n",
       "  </thead>\n",
       "  <tbody>\n",
       "    <tr>\n",
       "      <th>0</th>\n",
       "      <td>#FightForHongKong</td>\n",
       "      <td>2020-08-28 10:23:06 Eastern Daylight Time</td>\n",
       "      <td>ginny81025554</td>\n",
       "      <td>@benedictrogers @NOW4humanity Thanks for speak...</td>\n",
       "      <td>en</td>\n",
       "      <td>0</td>\n",
       "      <td>1</td>\n",
       "      <td>2</td>\n",
       "      <td>[{'screen_name': 'benedictrogers', 'name': 'Be...</td>\n",
       "      <td>['fridaysforfreedom', 'fightforhongkong']</td>\n",
       "    </tr>\n",
       "    <tr>\n",
       "      <th>1</th>\n",
       "      <td>#FightForHongKong</td>\n",
       "      <td>2020-08-27 11:15:39 Eastern Daylight Time</td>\n",
       "      <td>dani_tasso</td>\n",
       "      <td>Razzismo e democrazia.   Sfaccettature del med...</td>\n",
       "      <td>it</td>\n",
       "      <td>1</td>\n",
       "      <td>0</td>\n",
       "      <td>2</td>\n",
       "      <td>[]</td>\n",
       "      <td>['blacklivesmatter', 'fightforhongkong', 'open...</td>\n",
       "    </tr>\n",
       "  </tbody>\n",
       "</table>\n",
       "</div>"
      ],
      "text/plain": [
       "                hash                                 created_at  \\\n",
       "0  #FightForHongKong  2020-08-28 10:23:06 Eastern Daylight Time   \n",
       "1  #FightForHongKong  2020-08-27 11:15:39 Eastern Daylight Time   \n",
       "\n",
       "        username                                              tweet language  \\\n",
       "0  ginny81025554  @benedictrogers @NOW4humanity Thanks for speak...       en   \n",
       "1     dani_tasso  Razzismo e democrazia.   Sfaccettature del med...       it   \n",
       "\n",
       "   replies_count  retweets_count  likes_count  \\\n",
       "0              0               1            2   \n",
       "1              1               0            2   \n",
       "\n",
       "                                            reply_to  \\\n",
       "0  [{'screen_name': 'benedictrogers', 'name': 'Be...   \n",
       "1                                                 []   \n",
       "\n",
       "                                            hashtags  \n",
       "0          ['fridaysforfreedom', 'fightforhongkong']  \n",
       "1  ['blacklivesmatter', 'fightforhongkong', 'open...  "
      ]
     },
     "execution_count": 18,
     "metadata": {},
     "output_type": "execute_result"
    }
   ],
   "source": [
    "df.head(2)"
   ]
  },
  {
   "cell_type": "code",
   "execution_count": 19,
   "metadata": {},
   "outputs": [
    {
     "data": {
      "text/plain": [
       "288416"
      ]
     },
     "execution_count": 19,
     "metadata": {},
     "output_type": "execute_result"
    }
   ],
   "source": [
    "len(df)"
   ]
  },
  {
   "cell_type": "code",
   "execution_count": 20,
   "metadata": {},
   "outputs": [
    {
     "data": {
      "text/plain": [
       "(288416, 10)"
      ]
     },
     "execution_count": 20,
     "metadata": {},
     "output_type": "execute_result"
    }
   ],
   "source": [
    "df.shape"
   ]
  },
  {
   "cell_type": "markdown",
   "metadata": {},
   "source": [
    "**HERE WE WILL LOOK TO ISOLATE THE DATAFRAME TO A SMALLER SUBSET**"
   ]
  },
  {
   "cell_type": "code",
   "execution_count": 21,
   "metadata": {},
   "outputs": [
    {
     "data": {
      "text/plain": [
       "#standwithhongkong     165501\n",
       "#freehongkong           71875\n",
       "#hkpolicebrutality      17113\n",
       "#hkpolicestate          16291\n",
       "#HongKongProtest         8130\n",
       "#hkpoliceterrorism       3900\n",
       "#hkprotests              3606\n",
       "#HKpoliceterrorist        822\n",
       "#WeAreNotAlone            614\n",
       "#PrayForHongkong          332\n",
       "#FightForHongKong         158\n",
       "#nochinaextradition        74\n",
       "Name: hash, dtype: int64"
      ]
     },
     "execution_count": 21,
     "metadata": {},
     "output_type": "execute_result"
    }
   ],
   "source": [
    "df['hash'].value_counts()"
   ]
  },
  {
   "cell_type": "code",
   "execution_count": 22,
   "metadata": {},
   "outputs": [],
   "source": [
    "df = df.head(350)"
   ]
  },
  {
   "cell_type": "code",
   "execution_count": 23,
   "metadata": {},
   "outputs": [
    {
     "data": {
      "text/plain": [
       "350"
      ]
     },
     "execution_count": 23,
     "metadata": {},
     "output_type": "execute_result"
    }
   ],
   "source": [
    "len(df)"
   ]
  },
  {
   "cell_type": "code",
   "execution_count": 24,
   "metadata": {},
   "outputs": [
    {
     "data": {
      "text/plain": [
       "'黄色い横断幕🍋🇭🇰🐈 #Fightforhongkong   #国会前\\u3000 #香港を守れ #香港の自由と民主主義のために日本政府の対応を求めます #StandWithHongKong  #HongKong  #FreeAgnes  #国家安全法 #香港🇭🇰  8月12日水曜日\\u300018:00〜20:00 国会正門前北側  https://t.co/YNXXCDSIUV'"
      ]
     },
     "execution_count": 24,
     "metadata": {},
     "output_type": "execute_result"
    }
   ],
   "source": [
    "#confirming chinese characteres within\n",
    "df.tweet[16]"
   ]
  },
  {
   "cell_type": "code",
   "execution_count": 25,
   "metadata": {},
   "outputs": [],
   "source": [
    "#confirming emojis within | got them both above\n",
    "# df.tweet[288411]"
   ]
  },
  {
   "cell_type": "code",
   "execution_count": 26,
   "metadata": {},
   "outputs": [
    {
     "data": {
      "text/html": [
       "<div>\n",
       "<style scoped>\n",
       "    .dataframe tbody tr th:only-of-type {\n",
       "        vertical-align: middle;\n",
       "    }\n",
       "\n",
       "    .dataframe tbody tr th {\n",
       "        vertical-align: top;\n",
       "    }\n",
       "\n",
       "    .dataframe thead th {\n",
       "        text-align: right;\n",
       "    }\n",
       "</style>\n",
       "<table border=\"1\" class=\"dataframe\">\n",
       "  <thead>\n",
       "    <tr style=\"text-align: right;\">\n",
       "      <th></th>\n",
       "      <th>hash</th>\n",
       "      <th>created_at</th>\n",
       "      <th>username</th>\n",
       "      <th>tweet</th>\n",
       "      <th>language</th>\n",
       "      <th>replies_count</th>\n",
       "      <th>retweets_count</th>\n",
       "      <th>likes_count</th>\n",
       "      <th>reply_to</th>\n",
       "      <th>hashtags</th>\n",
       "    </tr>\n",
       "  </thead>\n",
       "  <tbody>\n",
       "    <tr>\n",
       "      <th>0</th>\n",
       "      <td>#FightForHongKong</td>\n",
       "      <td>2020-08-28 10:23:06 Eastern Daylight Time</td>\n",
       "      <td>ginny81025554</td>\n",
       "      <td>@benedictrogers @NOW4humanity Thanks for speak...</td>\n",
       "      <td>en</td>\n",
       "      <td>0</td>\n",
       "      <td>1</td>\n",
       "      <td>2</td>\n",
       "      <td>[{'screen_name': 'benedictrogers', 'name': 'Be...</td>\n",
       "      <td>['fridaysforfreedom', 'fightforhongkong']</td>\n",
       "    </tr>\n",
       "    <tr>\n",
       "      <th>1</th>\n",
       "      <td>#FightForHongKong</td>\n",
       "      <td>2020-08-27 11:15:39 Eastern Daylight Time</td>\n",
       "      <td>dani_tasso</td>\n",
       "      <td>Razzismo e democrazia.   Sfaccettature del med...</td>\n",
       "      <td>it</td>\n",
       "      <td>1</td>\n",
       "      <td>0</td>\n",
       "      <td>2</td>\n",
       "      <td>[]</td>\n",
       "      <td>['blacklivesmatter', 'fightforhongkong', 'open...</td>\n",
       "    </tr>\n",
       "  </tbody>\n",
       "</table>\n",
       "</div>"
      ],
      "text/plain": [
       "                hash                                 created_at  \\\n",
       "0  #FightForHongKong  2020-08-28 10:23:06 Eastern Daylight Time   \n",
       "1  #FightForHongKong  2020-08-27 11:15:39 Eastern Daylight Time   \n",
       "\n",
       "        username                                              tweet language  \\\n",
       "0  ginny81025554  @benedictrogers @NOW4humanity Thanks for speak...       en   \n",
       "1     dani_tasso  Razzismo e democrazia.   Sfaccettature del med...       it   \n",
       "\n",
       "   replies_count  retweets_count  likes_count  \\\n",
       "0              0               1            2   \n",
       "1              1               0            2   \n",
       "\n",
       "                                            reply_to  \\\n",
       "0  [{'screen_name': 'benedictrogers', 'name': 'Be...   \n",
       "1                                                 []   \n",
       "\n",
       "                                            hashtags  \n",
       "0          ['fridaysforfreedom', 'fightforhongkong']  \n",
       "1  ['blacklivesmatter', 'fightforhongkong', 'open...  "
      ]
     },
     "execution_count": 26,
     "metadata": {},
     "output_type": "execute_result"
    }
   ],
   "source": [
    "df.head(2)"
   ]
  },
  {
   "cell_type": "code",
   "execution_count": 27,
   "metadata": {},
   "outputs": [
    {
     "data": {
      "text/plain": [
       "#HongKongProtest     192\n",
       "#FightForHongKong    158\n",
       "Name: hash, dtype: int64"
      ]
     },
     "execution_count": 27,
     "metadata": {},
     "output_type": "execute_result"
    }
   ],
   "source": [
    "df['hash'].value_counts()"
   ]
  },
  {
   "cell_type": "code",
   "execution_count": 28,
   "metadata": {},
   "outputs": [
    {
     "data": {
      "text/html": [
       "<div>\n",
       "<style scoped>\n",
       "    .dataframe tbody tr th:only-of-type {\n",
       "        vertical-align: middle;\n",
       "    }\n",
       "\n",
       "    .dataframe tbody tr th {\n",
       "        vertical-align: top;\n",
       "    }\n",
       "\n",
       "    .dataframe thead th {\n",
       "        text-align: right;\n",
       "    }\n",
       "</style>\n",
       "<table border=\"1\" class=\"dataframe\">\n",
       "  <thead>\n",
       "    <tr style=\"text-align: right;\">\n",
       "      <th></th>\n",
       "      <th>index</th>\n",
       "      <th>hash</th>\n",
       "      <th>created_at</th>\n",
       "      <th>username</th>\n",
       "      <th>tweet</th>\n",
       "      <th>language</th>\n",
       "      <th>replies_count</th>\n",
       "      <th>retweets_count</th>\n",
       "      <th>likes_count</th>\n",
       "      <th>reply_to</th>\n",
       "      <th>hashtags</th>\n",
       "    </tr>\n",
       "  </thead>\n",
       "  <tbody>\n",
       "    <tr>\n",
       "      <th>0</th>\n",
       "      <td>0</td>\n",
       "      <td>#FightForHongKong</td>\n",
       "      <td>2020-08-28 10:23:06 Eastern Daylight Time</td>\n",
       "      <td>ginny81025554</td>\n",
       "      <td>@benedictrogers @NOW4humanity Thanks for speak...</td>\n",
       "      <td>en</td>\n",
       "      <td>0</td>\n",
       "      <td>1</td>\n",
       "      <td>2</td>\n",
       "      <td>[{'screen_name': 'benedictrogers', 'name': 'Be...</td>\n",
       "      <td>['fridaysforfreedom', 'fightforhongkong']</td>\n",
       "    </tr>\n",
       "    <tr>\n",
       "      <th>1</th>\n",
       "      <td>1</td>\n",
       "      <td>#FightForHongKong</td>\n",
       "      <td>2020-08-27 11:15:39 Eastern Daylight Time</td>\n",
       "      <td>dani_tasso</td>\n",
       "      <td>Razzismo e democrazia.   Sfaccettature del med...</td>\n",
       "      <td>it</td>\n",
       "      <td>1</td>\n",
       "      <td>0</td>\n",
       "      <td>2</td>\n",
       "      <td>[]</td>\n",
       "      <td>['blacklivesmatter', 'fightforhongkong', 'open...</td>\n",
       "    </tr>\n",
       "  </tbody>\n",
       "</table>\n",
       "</div>"
      ],
      "text/plain": [
       "   index               hash                                 created_at  \\\n",
       "0      0  #FightForHongKong  2020-08-28 10:23:06 Eastern Daylight Time   \n",
       "1      1  #FightForHongKong  2020-08-27 11:15:39 Eastern Daylight Time   \n",
       "\n",
       "        username                                              tweet language  \\\n",
       "0  ginny81025554  @benedictrogers @NOW4humanity Thanks for speak...       en   \n",
       "1     dani_tasso  Razzismo e democrazia.   Sfaccettature del med...       it   \n",
       "\n",
       "   replies_count  retweets_count  likes_count  \\\n",
       "0              0               1            2   \n",
       "1              1               0            2   \n",
       "\n",
       "                                            reply_to  \\\n",
       "0  [{'screen_name': 'benedictrogers', 'name': 'Be...   \n",
       "1                                                 []   \n",
       "\n",
       "                                            hashtags  \n",
       "0          ['fridaysforfreedom', 'fightforhongkong']  \n",
       "1  ['blacklivesmatter', 'fightforhongkong', 'open...  "
      ]
     },
     "execution_count": 28,
     "metadata": {},
     "output_type": "execute_result"
    }
   ],
   "source": [
    "df.reset_index(inplace = True)\n",
    "df.head(2)"
   ]
  },
  {
   "cell_type": "code",
   "execution_count": null,
   "metadata": {},
   "outputs": [],
   "source": []
  },
  {
   "cell_type": "markdown",
   "metadata": {},
   "source": [
    "**IT'S BEEN CUT BUT WILL BE CUT LATER WITH DUPLICATE REMOVAL**"
   ]
  },
  {
   "cell_type": "code",
   "execution_count": 29,
   "metadata": {},
   "outputs": [
    {
     "name": "stdout",
     "output_type": "stream",
     "text": [
      "<class 'pandas.core.frame.DataFrame'>\n",
      "RangeIndex: 350 entries, 0 to 349\n",
      "Data columns (total 11 columns):\n",
      " #   Column          Non-Null Count  Dtype \n",
      "---  ------          --------------  ----- \n",
      " 0   index           350 non-null    int64 \n",
      " 1   hash            350 non-null    object\n",
      " 2   created_at      350 non-null    object\n",
      " 3   username        350 non-null    object\n",
      " 4   tweet           350 non-null    object\n",
      " 5   language        350 non-null    object\n",
      " 6   replies_count   350 non-null    int64 \n",
      " 7   retweets_count  350 non-null    int64 \n",
      " 8   likes_count     350 non-null    int64 \n",
      " 9   reply_to        350 non-null    object\n",
      " 10  hashtags        350 non-null    object\n",
      "dtypes: int64(4), object(7)\n",
      "memory usage: 30.2+ KB\n"
     ]
    }
   ],
   "source": [
    "df.info()"
   ]
  },
  {
   "cell_type": "code",
   "execution_count": 30,
   "metadata": {},
   "outputs": [
    {
     "data": {
      "text/plain": [
       "False"
      ]
     },
     "execution_count": 30,
     "metadata": {},
     "output_type": "execute_result"
    }
   ],
   "source": [
    "#this is confirmed above but will double confirm\n",
    "df.isnull().values.any()"
   ]
  },
  {
   "cell_type": "markdown",
   "metadata": {},
   "source": [
    "**Data Defined**"
   ]
  },
  {
   "cell_type": "markdown",
   "metadata": {},
   "source": [
    "In this short section, we will highlight what the columns are referring too."
   ]
  },
  {
   "attachments": {
    "image-3.png": {
     "image/png": "[encoded data removed]"
    }
   },
   "cell_type": "markdown",
   "metadata": {},
   "source": [
    "![image-3.png](attachment:image-3.png)"
   ]
  },
  {
   "cell_type": "code",
   "execution_count": 31,
   "metadata": {},
   "outputs": [
    {
     "data": {
      "text/html": [
       "<div>\n",
       "<style scoped>\n",
       "    .dataframe tbody tr th:only-of-type {\n",
       "        vertical-align: middle;\n",
       "    }\n",
       "\n",
       "    .dataframe tbody tr th {\n",
       "        vertical-align: top;\n",
       "    }\n",
       "\n",
       "    .dataframe thead th {\n",
       "        text-align: right;\n",
       "    }\n",
       "</style>\n",
       "<table border=\"1\" class=\"dataframe\">\n",
       "  <thead>\n",
       "    <tr style=\"text-align: right;\">\n",
       "      <th></th>\n",
       "      <th>min</th>\n",
       "      <th>max</th>\n",
       "    </tr>\n",
       "  </thead>\n",
       "  <tbody>\n",
       "    <tr>\n",
       "      <th>index</th>\n",
       "      <td>0</td>\n",
       "      <td>349</td>\n",
       "    </tr>\n",
       "    <tr>\n",
       "      <th>hash</th>\n",
       "      <td>#FightForHongKong</td>\n",
       "      <td>#HongKongProtest</td>\n",
       "    </tr>\n",
       "    <tr>\n",
       "      <th>created_at</th>\n",
       "      <td>2020-06-01 20:22:04 Eastern Daylight Time</td>\n",
       "      <td>2020-08-29 19:36:54 Eastern Daylight Time</td>\n",
       "    </tr>\n",
       "    <tr>\n",
       "      <th>username</th>\n",
       "      <td>2pftw</td>\n",
       "      <td>zarcnest</td>\n",
       "    </tr>\n",
       "    <tr>\n",
       "      <th>tweet</th>\n",
       "      <td>https://t.co/8lgfzmGtav   #lukashenko #Tikhan...</td>\n",
       "      <td>黄色い横断幕🍋🇭🇰🐈 #Fightforhongkong   #国会前　 #香港を守れ #香...</td>\n",
       "    </tr>\n",
       "    <tr>\n",
       "      <th>language</th>\n",
       "      <td>de</td>\n",
       "      <td>zh</td>\n",
       "    </tr>\n",
       "    <tr>\n",
       "      <th>replies_count</th>\n",
       "      <td>0</td>\n",
       "      <td>32</td>\n",
       "    </tr>\n",
       "    <tr>\n",
       "      <th>retweets_count</th>\n",
       "      <td>0</td>\n",
       "      <td>351</td>\n",
       "    </tr>\n",
       "    <tr>\n",
       "      <th>likes_count</th>\n",
       "      <td>0</td>\n",
       "      <td>756</td>\n",
       "    </tr>\n",
       "    <tr>\n",
       "      <th>reply_to</th>\n",
       "      <td>[]</td>\n",
       "      <td>[{'screen_name': 'uffeelbaek', 'name': 'Uffe E...</td>\n",
       "    </tr>\n",
       "    <tr>\n",
       "      <th>hashtags</th>\n",
       "      <td>['5demandsnot1less', 'standwithhongkong', 'sta...</td>\n",
       "      <td>['香港', 'hongkong', 'hongkongprotest', 'hkprote...</td>\n",
       "    </tr>\n",
       "  </tbody>\n",
       "</table>\n",
       "</div>"
      ],
      "text/plain": [
       "                                                              min  \\\n",
       "index                                                           0   \n",
       "hash                                            #FightForHongKong   \n",
       "created_at              2020-06-01 20:22:04 Eastern Daylight Time   \n",
       "username                                                    2pftw   \n",
       "tweet            https://t.co/8lgfzmGtav   #lukashenko #Tikhan...   \n",
       "language                                                       de   \n",
       "replies_count                                                   0   \n",
       "retweets_count                                                  0   \n",
       "likes_count                                                     0   \n",
       "reply_to                                                       []   \n",
       "hashtags        ['5demandsnot1less', 'standwithhongkong', 'sta...   \n",
       "\n",
       "                                                              max  \n",
       "index                                                         349  \n",
       "hash                                             #HongKongProtest  \n",
       "created_at              2020-08-29 19:36:54 Eastern Daylight Time  \n",
       "username                                                 zarcnest  \n",
       "tweet           黄色い横断幕🍋🇭🇰🐈 #Fightforhongkong   #国会前　 #香港を守れ #香...  \n",
       "language                                                       zh  \n",
       "replies_count                                                  32  \n",
       "retweets_count                                                351  \n",
       "likes_count                                                   756  \n",
       "reply_to        [{'screen_name': 'uffeelbaek', 'name': 'Uffe E...  \n",
       "hashtags        ['香港', 'hongkong', 'hongkongprotest', 'hkprote...  "
      ]
     },
     "execution_count": 31,
     "metadata": {},
     "output_type": "execute_result"
    }
   ],
   "source": [
    "#Range of values per column\n",
    "df.agg([min,max]).T"
   ]
  },
  {
   "cell_type": "code",
   "execution_count": 32,
   "metadata": {},
   "outputs": [
    {
     "data": {
      "text/plain": [
       "index             0\n",
       "hash              0\n",
       "created_at        0\n",
       "username          0\n",
       "tweet             0\n",
       "language          0\n",
       "replies_count     0\n",
       "retweets_count    0\n",
       "likes_count       0\n",
       "reply_to          0\n",
       "hashtags          0\n",
       "dtype: int64"
      ]
     },
     "execution_count": 32,
     "metadata": {},
     "output_type": "execute_result"
    }
   ],
   "source": [
    "#Checking for nulls\n",
    "df.isnull().sum()"
   ]
  },
  {
   "cell_type": "code",
   "execution_count": 33,
   "metadata": {},
   "outputs": [
    {
     "data": {
      "text/plain": [
       "index              int64\n",
       "hash              object\n",
       "created_at        object\n",
       "username          object\n",
       "tweet             object\n",
       "language          object\n",
       "replies_count      int64\n",
       "retweets_count     int64\n",
       "likes_count        int64\n",
       "reply_to          object\n",
       "hashtags          object\n",
       "dtype: object"
      ]
     },
     "execution_count": 33,
     "metadata": {},
     "output_type": "execute_result"
    }
   ],
   "source": [
    "#Checking the datatypes\n",
    "df.dtypes"
   ]
  },
  {
   "cell_type": "markdown",
   "metadata": {},
   "source": [
    "The `created_at` column is an object; I will convert it to `datetime`."
   ]
  },
  {
   "cell_type": "code",
   "execution_count": 34,
   "metadata": {},
   "outputs": [],
   "source": [
    "new_date = df['created_at']\n",
    "new_date = new_date.str.split(expand=True)\n",
    "new_date = new_date[0]\n",
    "new_date = pd.to_datetime(new_date)"
   ]
  },
  {
   "cell_type": "code",
   "execution_count": 35,
   "metadata": {},
   "outputs": [
    {
     "data": {
      "text/html": [
       "<div>\n",
       "<style scoped>\n",
       "    .dataframe tbody tr th:only-of-type {\n",
       "        vertical-align: middle;\n",
       "    }\n",
       "\n",
       "    .dataframe tbody tr th {\n",
       "        vertical-align: top;\n",
       "    }\n",
       "\n",
       "    .dataframe thead th {\n",
       "        text-align: right;\n",
       "    }\n",
       "</style>\n",
       "<table border=\"1\" class=\"dataframe\">\n",
       "  <thead>\n",
       "    <tr style=\"text-align: right;\">\n",
       "      <th></th>\n",
       "      <th>index</th>\n",
       "      <th>hash</th>\n",
       "      <th>created_at</th>\n",
       "      <th>username</th>\n",
       "      <th>tweet</th>\n",
       "      <th>language</th>\n",
       "      <th>replies_count</th>\n",
       "      <th>retweets_count</th>\n",
       "      <th>likes_count</th>\n",
       "      <th>reply_to</th>\n",
       "      <th>hashtags</th>\n",
       "    </tr>\n",
       "  </thead>\n",
       "  <tbody>\n",
       "    <tr>\n",
       "      <th>0</th>\n",
       "      <td>0</td>\n",
       "      <td>#FightForHongKong</td>\n",
       "      <td>2020-08-28</td>\n",
       "      <td>ginny81025554</td>\n",
       "      <td>@benedictrogers @NOW4humanity Thanks for speak...</td>\n",
       "      <td>en</td>\n",
       "      <td>0</td>\n",
       "      <td>1</td>\n",
       "      <td>2</td>\n",
       "      <td>[{'screen_name': 'benedictrogers', 'name': 'Be...</td>\n",
       "      <td>['fridaysforfreedom', 'fightforhongkong']</td>\n",
       "    </tr>\n",
       "    <tr>\n",
       "      <th>1</th>\n",
       "      <td>1</td>\n",
       "      <td>#FightForHongKong</td>\n",
       "      <td>2020-08-27</td>\n",
       "      <td>dani_tasso</td>\n",
       "      <td>Razzismo e democrazia.   Sfaccettature del med...</td>\n",
       "      <td>it</td>\n",
       "      <td>1</td>\n",
       "      <td>0</td>\n",
       "      <td>2</td>\n",
       "      <td>[]</td>\n",
       "      <td>['blacklivesmatter', 'fightforhongkong', 'open...</td>\n",
       "    </tr>\n",
       "  </tbody>\n",
       "</table>\n",
       "</div>"
      ],
      "text/plain": [
       "   index               hash created_at       username  \\\n",
       "0      0  #FightForHongKong 2020-08-28  ginny81025554   \n",
       "1      1  #FightForHongKong 2020-08-27     dani_tasso   \n",
       "\n",
       "                                               tweet language  replies_count  \\\n",
       "0  @benedictrogers @NOW4humanity Thanks for speak...       en              0   \n",
       "1  Razzismo e democrazia.   Sfaccettature del med...       it              1   \n",
       "\n",
       "   retweets_count  likes_count  \\\n",
       "0               1            2   \n",
       "1               0            2   \n",
       "\n",
       "                                            reply_to  \\\n",
       "0  [{'screen_name': 'benedictrogers', 'name': 'Be...   \n",
       "1                                                 []   \n",
       "\n",
       "                                            hashtags  \n",
       "0          ['fridaysforfreedom', 'fightforhongkong']  \n",
       "1  ['blacklivesmatter', 'fightforhongkong', 'open...  "
      ]
     },
     "execution_count": 35,
     "metadata": {},
     "output_type": "execute_result"
    }
   ],
   "source": [
    "df['created_at'] = new_date\n",
    "df.head(2)"
   ]
  },
  {
   "cell_type": "code",
   "execution_count": 36,
   "metadata": {},
   "outputs": [
    {
     "data": {
      "text/plain": [
       "index                      int64\n",
       "hash                      object\n",
       "created_at        datetime64[ns]\n",
       "username                  object\n",
       "tweet                     object\n",
       "language                  object\n",
       "replies_count              int64\n",
       "retweets_count             int64\n",
       "likes_count                int64\n",
       "reply_to                  object\n",
       "hashtags                  object\n",
       "dtype: object"
      ]
     },
     "execution_count": 36,
     "metadata": {},
     "output_type": "execute_result"
    }
   ],
   "source": [
    "df.dtypes"
   ]
  },
  {
   "cell_type": "code",
   "execution_count": 37,
   "metadata": {},
   "outputs": [
    {
     "data": {
      "text/plain": [
       "index             350\n",
       "hash                2\n",
       "created_at         52\n",
       "username          110\n",
       "tweet             261\n",
       "language           12\n",
       "replies_count       6\n",
       "retweets_count     11\n",
       "likes_count        19\n",
       "reply_to           69\n",
       "hashtags          120\n",
       "dtype: int64"
      ]
     },
     "execution_count": 37,
     "metadata": {},
     "output_type": "execute_result"
    }
   ],
   "source": [
    "#count of unique values for every column, regardless of data type\n",
    "df.nunique()"
   ]
  },
  {
   "cell_type": "markdown",
   "metadata": {},
   "source": [
    "The `hash` number looks correct as that's how many hashtags were pulled."
   ]
  },
  {
   "cell_type": "code",
   "execution_count": 38,
   "metadata": {},
   "outputs": [
    {
     "data": {
      "text/plain": [
       "array(['#FightForHongKong', '#HongKongProtest'], dtype=object)"
      ]
     },
     "execution_count": 38,
     "metadata": {},
     "output_type": "execute_result"
    }
   ],
   "source": [
    "df['hash'].unique()"
   ]
  },
  {
   "cell_type": "markdown",
   "metadata": {},
   "source": [
    "The `created_at` number also looks correct as **3 months after the implimentation of the law was the range in which the tweets were pulled** ."
   ]
  },
  {
   "cell_type": "code",
   "execution_count": 39,
   "metadata": {},
   "outputs": [
    {
     "name": "stdout",
     "output_type": "stream",
     "text": [
      "   2020-06-01 00:00:00  | Beginning \n",
      "   2020-08-29 00:00:00  | End\n"
     ]
    }
   ],
   "source": [
    "print('  ',df['created_at'].min(), ' | Beginning', '\\n',\n",
    "     ' ',df['created_at'].max(), ' | End')"
   ]
  },
  {
   "cell_type": "markdown",
   "metadata": {},
   "source": [
    "The `username` number also makes sense."
   ]
  },
  {
   "cell_type": "code",
   "execution_count": 40,
   "metadata": {},
   "outputs": [
    {
     "name": "stdout",
     "output_type": "stream",
     "text": [
      "A single user on average tweeted 3.0 times in the course of 3 months.\n"
     ]
    }
   ],
   "source": [
    "print('A single user on average tweeted',round(len(df) / len(df['username'].unique()),0), 'times in the course of 3 months.')"
   ]
  },
  {
   "cell_type": "markdown",
   "metadata": {},
   "source": [
    "Most of the others aren't important but I believe **the `tweet` number should align with the length of the data frame to ensure there are no duplicates.**"
   ]
  },
  {
   "cell_type": "code",
   "execution_count": 41,
   "metadata": {},
   "outputs": [
    {
     "name": "stdout",
     "output_type": "stream",
     "text": [
      "There may be 89 duplicates to look into.\n"
     ]
    }
   ],
   "source": [
    "print('There may be', \"{:,}\".format(len(df) - len(df['tweet'].unique())), 'duplicates to look into.')"
   ]
  },
  {
   "cell_type": "markdown",
   "metadata": {},
   "source": [
    "We will take a **look at where duplicates** may be found with the **`tweet` column**. Our initial focus is on **when a \"tweeter\"** (also known a person) **used multiple hashtags**.\n",
    "\n",
    "A seperate data frame will be used to ensure the original is not compromised."
   ]
  },
  {
   "cell_type": "code",
   "execution_count": 42,
   "metadata": {},
   "outputs": [
    {
     "data": {
      "text/plain": [
       "350"
      ]
     },
     "execution_count": 42,
     "metadata": {},
     "output_type": "execute_result"
    }
   ],
   "source": [
    "df_tweets = df.copy()\n",
    "df_tweets = pd.DataFrame(df_tweets)\n",
    "len(df_tweets)"
   ]
  },
  {
   "cell_type": "code",
   "execution_count": 43,
   "metadata": {},
   "outputs": [
    {
     "data": {
      "text/plain": [
       "350"
      ]
     },
     "execution_count": 43,
     "metadata": {},
     "output_type": "execute_result"
    }
   ],
   "source": [
    "duplicated_tf = df_tweets.duplicated(subset=['tweet'])\n",
    "duplicated_tf = pd.DataFrame(duplicated_tf)\n",
    "len(duplicated_tf)"
   ]
  },
  {
   "cell_type": "code",
   "execution_count": 44,
   "metadata": {},
   "outputs": [
    {
     "data": {
      "text/html": [
       "<div>\n",
       "<style scoped>\n",
       "    .dataframe tbody tr th:only-of-type {\n",
       "        vertical-align: middle;\n",
       "    }\n",
       "\n",
       "    .dataframe tbody tr th {\n",
       "        vertical-align: top;\n",
       "    }\n",
       "\n",
       "    .dataframe thead th {\n",
       "        text-align: right;\n",
       "    }\n",
       "</style>\n",
       "<table border=\"1\" class=\"dataframe\">\n",
       "  <thead>\n",
       "    <tr style=\"text-align: right;\">\n",
       "      <th></th>\n",
       "      <th>Duplicated</th>\n",
       "    </tr>\n",
       "  </thead>\n",
       "  <tbody>\n",
       "    <tr>\n",
       "      <th>347</th>\n",
       "      <td>False</td>\n",
       "    </tr>\n",
       "    <tr>\n",
       "      <th>348</th>\n",
       "      <td>False</td>\n",
       "    </tr>\n",
       "    <tr>\n",
       "      <th>349</th>\n",
       "      <td>False</td>\n",
       "    </tr>\n",
       "  </tbody>\n",
       "</table>\n",
       "</div>"
      ],
      "text/plain": [
       "     Duplicated\n",
       "347       False\n",
       "348       False\n",
       "349       False"
      ]
     },
     "execution_count": 44,
     "metadata": {},
     "output_type": "execute_result"
    }
   ],
   "source": [
    "duplicated_tf.columns = ['Duplicated']\n",
    "duplicated_tf.tail(3)"
   ]
  },
  {
   "cell_type": "code",
   "execution_count": 45,
   "metadata": {},
   "outputs": [
    {
     "data": {
      "text/html": [
       "<div>\n",
       "<style scoped>\n",
       "    .dataframe tbody tr th:only-of-type {\n",
       "        vertical-align: middle;\n",
       "    }\n",
       "\n",
       "    .dataframe tbody tr th {\n",
       "        vertical-align: top;\n",
       "    }\n",
       "\n",
       "    .dataframe thead th {\n",
       "        text-align: right;\n",
       "    }\n",
       "</style>\n",
       "<table border=\"1\" class=\"dataframe\">\n",
       "  <thead>\n",
       "    <tr style=\"text-align: right;\">\n",
       "      <th></th>\n",
       "      <th>Duplicated</th>\n",
       "      <th>Duplicated_TorF</th>\n",
       "    </tr>\n",
       "  </thead>\n",
       "  <tbody>\n",
       "    <tr>\n",
       "      <th>347</th>\n",
       "      <td>False</td>\n",
       "      <td>0</td>\n",
       "    </tr>\n",
       "    <tr>\n",
       "      <th>348</th>\n",
       "      <td>False</td>\n",
       "      <td>0</td>\n",
       "    </tr>\n",
       "    <tr>\n",
       "      <th>349</th>\n",
       "      <td>False</td>\n",
       "      <td>0</td>\n",
       "    </tr>\n",
       "  </tbody>\n",
       "</table>\n",
       "</div>"
      ],
      "text/plain": [
       "     Duplicated  Duplicated_TorF\n",
       "347       False                0\n",
       "348       False                0\n",
       "349       False                0"
      ]
     },
     "execution_count": 45,
     "metadata": {},
     "output_type": "execute_result"
    }
   ],
   "source": [
    "num = {True:1,False:0}\n",
    "duplicated_tf['Duplicated_TorF'] = duplicated_tf['Duplicated'].map(num)\n",
    "duplicated_tf.tail(3)"
   ]
  },
  {
   "cell_type": "code",
   "execution_count": 46,
   "metadata": {},
   "outputs": [],
   "source": [
    "duplicated_tf = duplicated_tf.drop(columns=['Duplicated'])"
   ]
  },
  {
   "cell_type": "code",
   "execution_count": 47,
   "metadata": {},
   "outputs": [],
   "source": [
    "df_tweets_w_dup = pd.concat([df_tweets,duplicated_tf],\n",
    "                    axis = 1, ignore_index=False)\n",
    "df_tweets_w_dup = df_tweets_w_dup.reset_index(drop=True)"
   ]
  },
  {
   "cell_type": "code",
   "execution_count": 48,
   "metadata": {},
   "outputs": [
    {
     "data": {
      "text/html": [
       "<div>\n",
       "<style scoped>\n",
       "    .dataframe tbody tr th:only-of-type {\n",
       "        vertical-align: middle;\n",
       "    }\n",
       "\n",
       "    .dataframe tbody tr th {\n",
       "        vertical-align: top;\n",
       "    }\n",
       "\n",
       "    .dataframe thead th {\n",
       "        text-align: right;\n",
       "    }\n",
       "</style>\n",
       "<table border=\"1\" class=\"dataframe\">\n",
       "  <thead>\n",
       "    <tr style=\"text-align: right;\">\n",
       "      <th></th>\n",
       "      <th>index</th>\n",
       "      <th>hash</th>\n",
       "      <th>created_at</th>\n",
       "      <th>username</th>\n",
       "      <th>tweet</th>\n",
       "      <th>language</th>\n",
       "      <th>replies_count</th>\n",
       "      <th>retweets_count</th>\n",
       "      <th>likes_count</th>\n",
       "      <th>reply_to</th>\n",
       "      <th>hashtags</th>\n",
       "      <th>Duplicated_TorF</th>\n",
       "    </tr>\n",
       "  </thead>\n",
       "  <tbody>\n",
       "    <tr>\n",
       "      <th>348</th>\n",
       "      <td>348</td>\n",
       "      <td>#HongKongProtest</td>\n",
       "      <td>2020-08-26</td>\n",
       "      <td>raven05339255</td>\n",
       "      <td>Blackbloc tomorrow, HKgers reunion! In the dar...</td>\n",
       "      <td>en</td>\n",
       "      <td>0</td>\n",
       "      <td>0</td>\n",
       "      <td>0</td>\n",
       "      <td>[]</td>\n",
       "      <td>['hongkongprotest', 'fightforfreedom', 'standw...</td>\n",
       "      <td>0</td>\n",
       "    </tr>\n",
       "    <tr>\n",
       "      <th>349</th>\n",
       "      <td>349</td>\n",
       "      <td>#HongKongProtest</td>\n",
       "      <td>2020-08-26</td>\n",
       "      <td>lhk13975598</td>\n",
       "      <td>#Hongkongprotest</td>\n",
       "      <td>und</td>\n",
       "      <td>0</td>\n",
       "      <td>0</td>\n",
       "      <td>0</td>\n",
       "      <td>[]</td>\n",
       "      <td>['hongkongprotest']</td>\n",
       "      <td>0</td>\n",
       "    </tr>\n",
       "  </tbody>\n",
       "</table>\n",
       "</div>"
      ],
      "text/plain": [
       "     index              hash created_at       username  \\\n",
       "348    348  #HongKongProtest 2020-08-26  raven05339255   \n",
       "349    349  #HongKongProtest 2020-08-26    lhk13975598   \n",
       "\n",
       "                                                 tweet language  \\\n",
       "348  Blackbloc tomorrow, HKgers reunion! In the dar...       en   \n",
       "349                                   #Hongkongprotest      und   \n",
       "\n",
       "     replies_count  retweets_count  likes_count reply_to  \\\n",
       "348              0               0            0       []   \n",
       "349              0               0            0       []   \n",
       "\n",
       "                                              hashtags  Duplicated_TorF  \n",
       "348  ['hongkongprotest', 'fightforfreedom', 'standw...                0  \n",
       "349                                ['hongkongprotest']                0  "
      ]
     },
     "execution_count": 48,
     "metadata": {},
     "output_type": "execute_result"
    }
   ],
   "source": [
    "df_tweets_w_dup.tail(2)"
   ]
  },
  {
   "cell_type": "code",
   "execution_count": 49,
   "metadata": {
    "scrolled": true
   },
   "outputs": [
    {
     "name": "stdout",
     "output_type": "stream",
     "text": [
      " Ensuring we have the same # of tweets after classification. \n",
      " 0 | This should be a Zero change \n",
      " 2 | The Duplicated Column should have 2 unique values 0,1\n"
     ]
    }
   ],
   "source": [
    "print(' Ensuring we have the same # of tweets after classification.','\\n', \n",
    "      round((( ( len(df_tweets_w_dup) / len(df) ) - 1 ) * 100)), '| This should be a Zero change','\\n',\n",
    "     df_tweets_w_dup['Duplicated_TorF'].nunique(), '| The Duplicated Column should have 2 unique values 0,1')"
   ]
  },
  {
   "cell_type": "markdown",
   "metadata": {},
   "source": [
    "Ok. Let's take a quick look at some of these duplicates."
   ]
  },
  {
   "cell_type": "code",
   "execution_count": 50,
   "metadata": {},
   "outputs": [
    {
     "data": {
      "text/plain": [
       "350"
      ]
     },
     "execution_count": 50,
     "metadata": {},
     "output_type": "execute_result"
    }
   ],
   "source": [
    "len(df_tweets_w_dup)"
   ]
  },
  {
   "cell_type": "code",
   "execution_count": 51,
   "metadata": {},
   "outputs": [
    {
     "data": {
      "text/html": [
       "<div>\n",
       "<style scoped>\n",
       "    .dataframe tbody tr th:only-of-type {\n",
       "        vertical-align: middle;\n",
       "    }\n",
       "\n",
       "    .dataframe tbody tr th {\n",
       "        vertical-align: top;\n",
       "    }\n",
       "\n",
       "    .dataframe thead th {\n",
       "        text-align: right;\n",
       "    }\n",
       "</style>\n",
       "<table border=\"1\" class=\"dataframe\">\n",
       "  <thead>\n",
       "    <tr style=\"text-align: right;\">\n",
       "      <th></th>\n",
       "      <th>index</th>\n",
       "      <th>hash</th>\n",
       "      <th>created_at</th>\n",
       "      <th>username</th>\n",
       "      <th>tweet</th>\n",
       "      <th>language</th>\n",
       "      <th>replies_count</th>\n",
       "      <th>retweets_count</th>\n",
       "      <th>likes_count</th>\n",
       "      <th>reply_to</th>\n",
       "      <th>hashtags</th>\n",
       "      <th>Duplicated_TorF</th>\n",
       "    </tr>\n",
       "  </thead>\n",
       "  <tbody>\n",
       "    <tr>\n",
       "      <th>88</th>\n",
       "      <td>88</td>\n",
       "      <td>#FightForHongKong</td>\n",
       "      <td>2020-08-22</td>\n",
       "      <td>the_lapalissian</td>\n",
       "      <td>https://t.co/8lgfzmGtav   #lukashenko #Tikhan...</td>\n",
       "      <td>und</td>\n",
       "      <td>0</td>\n",
       "      <td>1</td>\n",
       "      <td>2</td>\n",
       "      <td>[]</td>\n",
       "      <td>['lukashenko', 'tikhanovskaya', 'minsk', 'figh...</td>\n",
       "      <td>1</td>\n",
       "    </tr>\n",
       "    <tr>\n",
       "      <th>100</th>\n",
       "      <td>100</td>\n",
       "      <td>#FightForHongKong</td>\n",
       "      <td>2020-08-04</td>\n",
       "      <td>roller_up_1</td>\n",
       "      <td>https://t.co/B5KWeYZE6t #boycottchina #hongko...</td>\n",
       "      <td>und</td>\n",
       "      <td>0</td>\n",
       "      <td>0</td>\n",
       "      <td>0</td>\n",
       "      <td>[]</td>\n",
       "      <td>['boycottchina', 'hongkong', 'freehk', 'boycot...</td>\n",
       "      <td>1</td>\n",
       "    </tr>\n",
       "    <tr>\n",
       "      <th>136</th>\n",
       "      <td>136</td>\n",
       "      <td>#FightForHongKong</td>\n",
       "      <td>2020-06-18</td>\n",
       "      <td>wetruths</td>\n",
       "      <td>#Beijing plans to pass contentious legislation...</td>\n",
       "      <td>en</td>\n",
       "      <td>0</td>\n",
       "      <td>1</td>\n",
       "      <td>0</td>\n",
       "      <td>[]</td>\n",
       "      <td>['beijing', 'chinese', 'hongkong', 'fightforho...</td>\n",
       "      <td>1</td>\n",
       "    </tr>\n",
       "    <tr>\n",
       "      <th>131</th>\n",
       "      <td>131</td>\n",
       "      <td>#FightForHongKong</td>\n",
       "      <td>2020-06-29</td>\n",
       "      <td>horea2012</td>\n",
       "      <td>#FightForHongKong  #HongKongProtests</td>\n",
       "      <td>und</td>\n",
       "      <td>0</td>\n",
       "      <td>0</td>\n",
       "      <td>0</td>\n",
       "      <td>[]</td>\n",
       "      <td>['fightforhongkong', 'hongkongprotests']</td>\n",
       "      <td>1</td>\n",
       "    </tr>\n",
       "    <tr>\n",
       "      <th>116</th>\n",
       "      <td>116</td>\n",
       "      <td>#FightForHongKong</td>\n",
       "      <td>2020-07-06</td>\n",
       "      <td>dhrvptl</td>\n",
       "      <td>#FightForHongKong  https://t.co/C5dAXctB7X</td>\n",
       "      <td>und</td>\n",
       "      <td>0</td>\n",
       "      <td>0</td>\n",
       "      <td>1</td>\n",
       "      <td>[]</td>\n",
       "      <td>['fightforhongkong']</td>\n",
       "      <td>1</td>\n",
       "    </tr>\n",
       "    <tr>\n",
       "      <th>...</th>\n",
       "      <td>...</td>\n",
       "      <td>...</td>\n",
       "      <td>...</td>\n",
       "      <td>...</td>\n",
       "      <td>...</td>\n",
       "      <td>...</td>\n",
       "      <td>...</td>\n",
       "      <td>...</td>\n",
       "      <td>...</td>\n",
       "      <td>...</td>\n",
       "      <td>...</td>\n",
       "      <td>...</td>\n",
       "    </tr>\n",
       "    <tr>\n",
       "      <th>156</th>\n",
       "      <td>156</td>\n",
       "      <td>#FightForHongKong</td>\n",
       "      <td>2020-06-02</td>\n",
       "      <td>joshjosetoscano</td>\n",
       "      <td>✊🏽✊🏽✊🏽 #BlackOutTuesday #IndigenousLivesMatter...</td>\n",
       "      <td>und</td>\n",
       "      <td>0</td>\n",
       "      <td>0</td>\n",
       "      <td>1</td>\n",
       "      <td>[]</td>\n",
       "      <td>['blackouttuesday', 'indigenouslivesmatter', '...</td>\n",
       "      <td>1</td>\n",
       "    </tr>\n",
       "    <tr>\n",
       "      <th>94</th>\n",
       "      <td>94</td>\n",
       "      <td>#FightForHongKong</td>\n",
       "      <td>2020-08-12</td>\n",
       "      <td>ansumo888</td>\n",
       "      <td>我支持你🇭🇰  #Fightforhongkong   #香港加油🇭🇰 #香港を守れ #香港...</td>\n",
       "      <td>ja</td>\n",
       "      <td>1</td>\n",
       "      <td>4</td>\n",
       "      <td>3</td>\n",
       "      <td>[]</td>\n",
       "      <td>['fightforhongkong', '香港加油', '香港を守れ', '香港の自由と民...</td>\n",
       "      <td>1</td>\n",
       "    </tr>\n",
       "    <tr>\n",
       "      <th>93</th>\n",
       "      <td>93</td>\n",
       "      <td>#FightForHongKong</td>\n",
       "      <td>2020-08-12</td>\n",
       "      <td>ansumo888</td>\n",
       "      <td>日本も香港の民主主義に関してどーするの？？ #Fightforhongkong   #国会前...</td>\n",
       "      <td>ja</td>\n",
       "      <td>0</td>\n",
       "      <td>1</td>\n",
       "      <td>2</td>\n",
       "      <td>[]</td>\n",
       "      <td>['fightforhongkong', '国会前', '香港を守れ', '香港の自由と民主...</td>\n",
       "      <td>1</td>\n",
       "    </tr>\n",
       "    <tr>\n",
       "      <th>117</th>\n",
       "      <td>117</td>\n",
       "      <td>#FightForHongKong</td>\n",
       "      <td>2020-07-05</td>\n",
       "      <td>reiwashinsenoen</td>\n",
       "      <td>続  僕の前から君が消えて 胸に広がる切ない思い ぽっかり開いた心の余白 何で満たせばいいの...</td>\n",
       "      <td>ja</td>\n",
       "      <td>1</td>\n",
       "      <td>3</td>\n",
       "      <td>2</td>\n",
       "      <td>[]</td>\n",
       "      <td>['fightforhongkong', 'standwithhongkong']</td>\n",
       "      <td>1</td>\n",
       "    </tr>\n",
       "    <tr>\n",
       "      <th>95</th>\n",
       "      <td>95</td>\n",
       "      <td>#FightForHongKong</td>\n",
       "      <td>2020-08-12</td>\n",
       "      <td>ansumo888</td>\n",
       "      <td>黄色い横断幕🍋🇭🇰🐈 #Fightforhongkong   #国会前　 #香港を守れ #香...</td>\n",
       "      <td>ja</td>\n",
       "      <td>1</td>\n",
       "      <td>1</td>\n",
       "      <td>2</td>\n",
       "      <td>[]</td>\n",
       "      <td>['fightforhongkong', '国会前', '香港を守れ', '香港の自由と民主...</td>\n",
       "      <td>1</td>\n",
       "    </tr>\n",
       "  </tbody>\n",
       "</table>\n",
       "<p>89 rows × 12 columns</p>\n",
       "</div>"
      ],
      "text/plain": [
       "     index               hash created_at         username  \\\n",
       "88      88  #FightForHongKong 2020-08-22  the_lapalissian   \n",
       "100    100  #FightForHongKong 2020-08-04      roller_up_1   \n",
       "136    136  #FightForHongKong 2020-06-18         wetruths   \n",
       "131    131  #FightForHongKong 2020-06-29        horea2012   \n",
       "116    116  #FightForHongKong 2020-07-06          dhrvptl   \n",
       "..     ...                ...        ...              ...   \n",
       "156    156  #FightForHongKong 2020-06-02  joshjosetoscano   \n",
       "94      94  #FightForHongKong 2020-08-12        ansumo888   \n",
       "93      93  #FightForHongKong 2020-08-12        ansumo888   \n",
       "117    117  #FightForHongKong 2020-07-05  reiwashinsenoen   \n",
       "95      95  #FightForHongKong 2020-08-12        ansumo888   \n",
       "\n",
       "                                                 tweet language  \\\n",
       "88    https://t.co/8lgfzmGtav   #lukashenko #Tikhan...      und   \n",
       "100   https://t.co/B5KWeYZE6t #boycottchina #hongko...      und   \n",
       "136  #Beijing plans to pass contentious legislation...       en   \n",
       "131               #FightForHongKong  #HongKongProtests      und   \n",
       "116         #FightForHongKong  https://t.co/C5dAXctB7X      und   \n",
       "..                                                 ...      ...   \n",
       "156  ✊🏽✊🏽✊🏽 #BlackOutTuesday #IndigenousLivesMatter...      und   \n",
       "94   我支持你🇭🇰  #Fightforhongkong   #香港加油🇭🇰 #香港を守れ #香港...       ja   \n",
       "93   日本も香港の民主主義に関してどーするの？？ #Fightforhongkong   #国会前...       ja   \n",
       "117  続  僕の前から君が消えて 胸に広がる切ない思い ぽっかり開いた心の余白 何で満たせばいいの...       ja   \n",
       "95   黄色い横断幕🍋🇭🇰🐈 #Fightforhongkong   #国会前　 #香港を守れ #香...       ja   \n",
       "\n",
       "     replies_count  retweets_count  likes_count reply_to  \\\n",
       "88               0               1            2       []   \n",
       "100              0               0            0       []   \n",
       "136              0               1            0       []   \n",
       "131              0               0            0       []   \n",
       "116              0               0            1       []   \n",
       "..             ...             ...          ...      ...   \n",
       "156              0               0            1       []   \n",
       "94               1               4            3       []   \n",
       "93               0               1            2       []   \n",
       "117              1               3            2       []   \n",
       "95               1               1            2       []   \n",
       "\n",
       "                                              hashtags  Duplicated_TorF  \n",
       "88   ['lukashenko', 'tikhanovskaya', 'minsk', 'figh...                1  \n",
       "100  ['boycottchina', 'hongkong', 'freehk', 'boycot...                1  \n",
       "136  ['beijing', 'chinese', 'hongkong', 'fightforho...                1  \n",
       "131           ['fightforhongkong', 'hongkongprotests']                1  \n",
       "116                               ['fightforhongkong']                1  \n",
       "..                                                 ...              ...  \n",
       "156  ['blackouttuesday', 'indigenouslivesmatter', '...                1  \n",
       "94   ['fightforhongkong', '香港加油', '香港を守れ', '香港の自由と民...                1  \n",
       "93   ['fightforhongkong', '国会前', '香港を守れ', '香港の自由と民主...                1  \n",
       "117          ['fightforhongkong', 'standwithhongkong']                1  \n",
       "95   ['fightforhongkong', '国会前', '香港を守れ', '香港の自由と民主...                1  \n",
       "\n",
       "[89 rows x 12 columns]"
      ]
     },
     "execution_count": 51,
     "metadata": {},
     "output_type": "execute_result"
    }
   ],
   "source": [
    "df_tweets_w_dup.loc[df_tweets_w_dup['Duplicated_TorF'] == 1].sort_values(by=['tweet'])"
   ]
  },
  {
   "cell_type": "code",
   "execution_count": 52,
   "metadata": {},
   "outputs": [
    {
     "data": {
      "text/plain": [
       "350"
      ]
     },
     "execution_count": 52,
     "metadata": {},
     "output_type": "execute_result"
    }
   ],
   "source": [
    "len(df_tweets_w_dup)"
   ]
  },
  {
   "cell_type": "markdown",
   "metadata": {},
   "source": [
    "I would now like to **investigate the languages herein.**"
   ]
  },
  {
   "cell_type": "code",
   "execution_count": 53,
   "metadata": {},
   "outputs": [
    {
     "data": {
      "text/plain": [
       "<AxesSubplot:xlabel='Language Abbrevation', ylabel='# of observed Tweets'>"
      ]
     },
     "execution_count": 53,
     "metadata": {},
     "output_type": "execute_result"
    },
    {
     "data": {
      "image/png": "[encoded data removed]",
      "text/plain": [
       "<Figure size 1080x864 with 1 Axes>"
      ]
     },
     "metadata": {},
     "output_type": "display_data"
    }
   ],
   "source": [
    "sns.set_style('darkgrid')\n",
    "lang = pd.value_counts(df_tweets_w_dup['language'].values, sort=True)\n",
    "lang = lang.sort_values(ascending=False)\n",
    "plt.subplots(figsize=(15, 12))\n",
    "plt.ylabel('# of observed Tweets')\n",
    "plt.xlabel('Language Abbrevation')\n",
    "lang.plot.bar(color='black')"
   ]
  },
  {
   "cell_type": "code",
   "execution_count": 54,
   "metadata": {},
   "outputs": [
    {
     "data": {
      "text/plain": [
       "en     228\n",
       "und     76\n",
       "ja      16\n",
       "it       8\n",
       "pt       7\n",
       "es       4\n",
       "zh       3\n",
       "de       3\n",
       "nl       2\n",
       "fr       1\n",
       "Name: language, dtype: int64"
      ]
     },
     "execution_count": 54,
     "metadata": {},
     "output_type": "execute_result"
    }
   ],
   "source": [
    "df_tweets_w_dup['language'].value_counts().head(10)"
   ]
  },
  {
   "cell_type": "code",
   "execution_count": 55,
   "metadata": {},
   "outputs": [
    {
     "data": {
      "text/plain": [
       "en     0.65\n",
       "und    0.22\n",
       "ja     0.05\n",
       "it     0.02\n",
       "pt     0.02\n",
       "Name: language, dtype: float64"
      ]
     },
     "execution_count": 55,
     "metadata": {},
     "output_type": "execute_result"
    }
   ],
   "source": [
    "lang_count = df_tweets_w_dup['language']\n",
    "round(lang_count.value_counts(normalize=True),2).head()"
   ]
  },
  {
   "cell_type": "markdown",
   "metadata": {},
   "source": [
    "**`en` & `und` is contributing 91%. While `zh`'s (Mandarin Chinese) contribution is only 3%, Mandarin Chinese is important; I will unfortunately have to pass as 3% is unlikely to move the analysis outcome.**\n",
    "\n",
    "**`und` refers to unknown. I am unsure as to what implications removing would do. Let's see what is \"unknown\".**"
   ]
  },
  {
   "cell_type": "code",
   "execution_count": 56,
   "metadata": {},
   "outputs": [
    {
     "data": {
      "text/html": [
       "<div>\n",
       "<style scoped>\n",
       "    .dataframe tbody tr th:only-of-type {\n",
       "        vertical-align: middle;\n",
       "    }\n",
       "\n",
       "    .dataframe tbody tr th {\n",
       "        vertical-align: top;\n",
       "    }\n",
       "\n",
       "    .dataframe thead th {\n",
       "        text-align: right;\n",
       "    }\n",
       "</style>\n",
       "<table border=\"1\" class=\"dataframe\">\n",
       "  <thead>\n",
       "    <tr style=\"text-align: right;\">\n",
       "      <th></th>\n",
       "      <th>index</th>\n",
       "      <th>hash</th>\n",
       "      <th>created_at</th>\n",
       "      <th>username</th>\n",
       "      <th>tweet</th>\n",
       "      <th>language</th>\n",
       "      <th>replies_count</th>\n",
       "      <th>retweets_count</th>\n",
       "      <th>likes_count</th>\n",
       "      <th>reply_to</th>\n",
       "      <th>hashtags</th>\n",
       "    </tr>\n",
       "  </thead>\n",
       "  <tbody>\n",
       "    <tr>\n",
       "      <th>0</th>\n",
       "      <td>0</td>\n",
       "      <td>#FightForHongKong</td>\n",
       "      <td>2020-08-28</td>\n",
       "      <td>ginny81025554</td>\n",
       "      <td>@benedictrogers @NOW4humanity Thanks for speak...</td>\n",
       "      <td>en</td>\n",
       "      <td>0</td>\n",
       "      <td>1</td>\n",
       "      <td>2</td>\n",
       "      <td>[{'screen_name': 'benedictrogers', 'name': 'Be...</td>\n",
       "      <td>['fridaysforfreedom', 'fightforhongkong']</td>\n",
       "    </tr>\n",
       "    <tr>\n",
       "      <th>1</th>\n",
       "      <td>1</td>\n",
       "      <td>#FightForHongKong</td>\n",
       "      <td>2020-08-27</td>\n",
       "      <td>dani_tasso</td>\n",
       "      <td>Razzismo e democrazia.   Sfaccettature del med...</td>\n",
       "      <td>it</td>\n",
       "      <td>1</td>\n",
       "      <td>0</td>\n",
       "      <td>2</td>\n",
       "      <td>[]</td>\n",
       "      <td>['blacklivesmatter', 'fightforhongkong', 'open...</td>\n",
       "    </tr>\n",
       "    <tr>\n",
       "      <th>2</th>\n",
       "      <td>2</td>\n",
       "      <td>#FightForHongKong</td>\n",
       "      <td>2020-08-25</td>\n",
       "      <td>peterhjorth_ddp</td>\n",
       "      <td>How to stop China in Hong Kong. Read the new r...</td>\n",
       "      <td>en</td>\n",
       "      <td>0</td>\n",
       "      <td>0</td>\n",
       "      <td>0</td>\n",
       "      <td>[]</td>\n",
       "      <td>['dkpol', 'kina', 'hongkongprotest', 'fightfor...</td>\n",
       "    </tr>\n",
       "    <tr>\n",
       "      <th>3</th>\n",
       "      <td>3</td>\n",
       "      <td>#FightForHongKong</td>\n",
       "      <td>2020-08-24</td>\n",
       "      <td>peterhjorth_ddp</td>\n",
       "      <td>How to stop China in Hong Kong. Read the new r...</td>\n",
       "      <td>en</td>\n",
       "      <td>0</td>\n",
       "      <td>0</td>\n",
       "      <td>0</td>\n",
       "      <td>[]</td>\n",
       "      <td>['dkpol', 'kina', 'hongkongprotest', 'fightfor...</td>\n",
       "    </tr>\n",
       "    <tr>\n",
       "      <th>4</th>\n",
       "      <td>4</td>\n",
       "      <td>#FightForHongKong</td>\n",
       "      <td>2020-08-24</td>\n",
       "      <td>cipopolitik</td>\n",
       "      <td>War or communism?   https://t.co/V2kQTvR2wr  #...</td>\n",
       "      <td>en</td>\n",
       "      <td>0</td>\n",
       "      <td>0</td>\n",
       "      <td>1</td>\n",
       "      <td>[]</td>\n",
       "      <td>['hongkongprotest', 'fightforhongkong', 'prayf...</td>\n",
       "    </tr>\n",
       "    <tr>\n",
       "      <th>...</th>\n",
       "      <td>...</td>\n",
       "      <td>...</td>\n",
       "      <td>...</td>\n",
       "      <td>...</td>\n",
       "      <td>...</td>\n",
       "      <td>...</td>\n",
       "      <td>...</td>\n",
       "      <td>...</td>\n",
       "      <td>...</td>\n",
       "      <td>...</td>\n",
       "      <td>...</td>\n",
       "    </tr>\n",
       "    <tr>\n",
       "      <th>345</th>\n",
       "      <td>345</td>\n",
       "      <td>#HongKongProtest</td>\n",
       "      <td>2020-08-26</td>\n",
       "      <td>firef_ly</td>\n",
       "      <td>香港警察濫權實錄資料庫  https://t.co/ocaGQMDZ0D  H.K. Pol...</td>\n",
       "      <td>ja</td>\n",
       "      <td>0</td>\n",
       "      <td>0</td>\n",
       "      <td>0</td>\n",
       "      <td>[]</td>\n",
       "      <td>['hongkongprotest', 'hongkongpoliceterrorism',...</td>\n",
       "    </tr>\n",
       "    <tr>\n",
       "      <th>346</th>\n",
       "      <td>346</td>\n",
       "      <td>#HongKongProtest</td>\n",
       "      <td>2020-08-26</td>\n",
       "      <td>therealhml</td>\n",
       "      <td>#Yellow Lunch 🖐🏻☝🏻#SupportAppleDaily #WeNeedAp...</td>\n",
       "      <td>en</td>\n",
       "      <td>0</td>\n",
       "      <td>0</td>\n",
       "      <td>3</td>\n",
       "      <td>[]</td>\n",
       "      <td>['yellow', 'supportappledaily', 'weneedappleda...</td>\n",
       "    </tr>\n",
       "    <tr>\n",
       "      <th>347</th>\n",
       "      <td>347</td>\n",
       "      <td>#HongKongProtest</td>\n",
       "      <td>2020-08-26</td>\n",
       "      <td>yuen8964</td>\n",
       "      <td>This is totally ridiculous. #CCP  #HongKong  #...</td>\n",
       "      <td>en</td>\n",
       "      <td>0</td>\n",
       "      <td>0</td>\n",
       "      <td>0</td>\n",
       "      <td>[]</td>\n",
       "      <td>['ccp', 'hongkong', 'hongkongprotest', 'hongko...</td>\n",
       "    </tr>\n",
       "    <tr>\n",
       "      <th>348</th>\n",
       "      <td>348</td>\n",
       "      <td>#HongKongProtest</td>\n",
       "      <td>2020-08-26</td>\n",
       "      <td>raven05339255</td>\n",
       "      <td>Blackbloc tomorrow, HKgers reunion! In the dar...</td>\n",
       "      <td>en</td>\n",
       "      <td>0</td>\n",
       "      <td>0</td>\n",
       "      <td>0</td>\n",
       "      <td>[]</td>\n",
       "      <td>['hongkongprotest', 'fightforfreedom', 'standw...</td>\n",
       "    </tr>\n",
       "    <tr>\n",
       "      <th>349</th>\n",
       "      <td>349</td>\n",
       "      <td>#HongKongProtest</td>\n",
       "      <td>2020-08-26</td>\n",
       "      <td>lhk13975598</td>\n",
       "      <td>#Hongkongprotest</td>\n",
       "      <td>und</td>\n",
       "      <td>0</td>\n",
       "      <td>0</td>\n",
       "      <td>0</td>\n",
       "      <td>[]</td>\n",
       "      <td>['hongkongprotest']</td>\n",
       "    </tr>\n",
       "  </tbody>\n",
       "</table>\n",
       "<p>350 rows × 11 columns</p>\n",
       "</div>"
      ],
      "text/plain": [
       "     index               hash created_at         username  \\\n",
       "0        0  #FightForHongKong 2020-08-28    ginny81025554   \n",
       "1        1  #FightForHongKong 2020-08-27       dani_tasso   \n",
       "2        2  #FightForHongKong 2020-08-25  peterhjorth_ddp   \n",
       "3        3  #FightForHongKong 2020-08-24  peterhjorth_ddp   \n",
       "4        4  #FightForHongKong 2020-08-24      cipopolitik   \n",
       "..     ...                ...        ...              ...   \n",
       "345    345   #HongKongProtest 2020-08-26         firef_ly   \n",
       "346    346   #HongKongProtest 2020-08-26       therealhml   \n",
       "347    347   #HongKongProtest 2020-08-26         yuen8964   \n",
       "348    348   #HongKongProtest 2020-08-26    raven05339255   \n",
       "349    349   #HongKongProtest 2020-08-26      lhk13975598   \n",
       "\n",
       "                                                 tweet language  \\\n",
       "0    @benedictrogers @NOW4humanity Thanks for speak...       en   \n",
       "1    Razzismo e democrazia.   Sfaccettature del med...       it   \n",
       "2    How to stop China in Hong Kong. Read the new r...       en   \n",
       "3    How to stop China in Hong Kong. Read the new r...       en   \n",
       "4    War or communism?   https://t.co/V2kQTvR2wr  #...       en   \n",
       "..                                                 ...      ...   \n",
       "345  香港警察濫權實錄資料庫  https://t.co/ocaGQMDZ0D  H.K. Pol...       ja   \n",
       "346  #Yellow Lunch 🖐🏻☝🏻#SupportAppleDaily #WeNeedAp...       en   \n",
       "347  This is totally ridiculous. #CCP  #HongKong  #...       en   \n",
       "348  Blackbloc tomorrow, HKgers reunion! In the dar...       en   \n",
       "349                                   #Hongkongprotest      und   \n",
       "\n",
       "     replies_count  retweets_count  likes_count  \\\n",
       "0                0               1            2   \n",
       "1                1               0            2   \n",
       "2                0               0            0   \n",
       "3                0               0            0   \n",
       "4                0               0            1   \n",
       "..             ...             ...          ...   \n",
       "345              0               0            0   \n",
       "346              0               0            3   \n",
       "347              0               0            0   \n",
       "348              0               0            0   \n",
       "349              0               0            0   \n",
       "\n",
       "                                              reply_to  \\\n",
       "0    [{'screen_name': 'benedictrogers', 'name': 'Be...   \n",
       "1                                                   []   \n",
       "2                                                   []   \n",
       "3                                                   []   \n",
       "4                                                   []   \n",
       "..                                                 ...   \n",
       "345                                                 []   \n",
       "346                                                 []   \n",
       "347                                                 []   \n",
       "348                                                 []   \n",
       "349                                                 []   \n",
       "\n",
       "                                              hashtags  \n",
       "0            ['fridaysforfreedom', 'fightforhongkong']  \n",
       "1    ['blacklivesmatter', 'fightforhongkong', 'open...  \n",
       "2    ['dkpol', 'kina', 'hongkongprotest', 'fightfor...  \n",
       "3    ['dkpol', 'kina', 'hongkongprotest', 'fightfor...  \n",
       "4    ['hongkongprotest', 'fightforhongkong', 'prayf...  \n",
       "..                                                 ...  \n",
       "345  ['hongkongprotest', 'hongkongpoliceterrorism',...  \n",
       "346  ['yellow', 'supportappledaily', 'weneedappleda...  \n",
       "347  ['ccp', 'hongkong', 'hongkongprotest', 'hongko...  \n",
       "348  ['hongkongprotest', 'fightforfreedom', 'standw...  \n",
       "349                                ['hongkongprotest']  \n",
       "\n",
       "[350 rows x 11 columns]"
      ]
     },
     "execution_count": 56,
     "metadata": {},
     "output_type": "execute_result"
    }
   ],
   "source": [
    "df.reset_index(drop=True)"
   ]
  },
  {
   "cell_type": "code",
   "execution_count": 57,
   "metadata": {},
   "outputs": [
    {
     "data": {
      "text/plain": [
       "9      https://t.co/8lgfzmGtav   #lukashenko #Tikhan...\n",
       "17    #FreeAgness #FightForFreedom #StandWithHongKon...\n",
       "18    #Hongkongers  #hongkong #beijing #china #HongK...\n",
       "20    #boycottchina #hongkong #freehk #boycottmulan ...\n",
       "21     https://t.co/B5KWeYZE6t #boycottchina #hongko...\n",
       "Name: tweet, dtype: object"
      ]
     },
     "execution_count": 57,
     "metadata": {},
     "output_type": "execute_result"
    }
   ],
   "source": [
    "df_tweets_w_dup[df_tweets_w_dup['language'].str.contains('und')]['tweet'].head()"
   ]
  },
  {
   "cell_type": "code",
   "execution_count": 58,
   "metadata": {},
   "outputs": [
    {
     "data": {
      "text/plain": [
       "9       https://t.co/8lgfzmGtav   #lukashenko #Tikhan...\n",
       "17     #FreeAgness #FightForFreedom #StandWithHongKon...\n",
       "18     #Hongkongers  #hongkong #beijing #china #HongK...\n",
       "20     #boycottchina #hongkong #freehk #boycottmulan ...\n",
       "21      https://t.co/B5KWeYZE6t #boycottchina #hongko...\n",
       "                             ...                        \n",
       "337    #StandWithHongKong #FightForFreedom #Standwith...\n",
       "338    #StandWithHongKong #FightForFreedom #Standwith...\n",
       "339    #StandWithHongKong #FightForFreedom #Standwith...\n",
       "342     https://t.co/PhtOU0Xn48 #721YuenLongAttack  #...\n",
       "349                                     #Hongkongprotest\n",
       "Name: tweet, Length: 76, dtype: object"
      ]
     },
     "execution_count": 58,
     "metadata": {},
     "output_type": "execute_result"
    }
   ],
   "source": [
    "df_tweets_w_dup[df_tweets_w_dup['language'].str.contains('und')]['tweet']"
   ]
  },
  {
   "cell_type": "code",
   "execution_count": 59,
   "metadata": {},
   "outputs": [],
   "source": [
    "# df_tweets_w_dup[df_tweets_w_dup['language'].str.contains('und')]['tweet'][21]"
   ]
  },
  {
   "cell_type": "code",
   "execution_count": 60,
   "metadata": {
    "scrolled": true
   },
   "outputs": [],
   "source": [
    "# df_tweets_w_dup[df_tweets_w_dup['language'].str.contains('und')]['tweet'][39]"
   ]
  },
  {
   "cell_type": "markdown",
   "metadata": {},
   "source": [
    "These appear to be tweets with **only hashtags**; while that may be important & it's contribution is large, **this excerise pertains to the text.**\n",
    "\n",
    "**Further investigation may be required** at a later date but for now, **we will unfortunately drop them as well & only keep `en`.**"
   ]
  },
  {
   "cell_type": "code",
   "execution_count": 61,
   "metadata": {},
   "outputs": [],
   "source": [
    "df_tweets_w_dup_en = df_tweets_w_dup[df_tweets_w_dup['language'].str.contains(\"en\")]"
   ]
  },
  {
   "cell_type": "code",
   "execution_count": 62,
   "metadata": {},
   "outputs": [
    {
     "data": {
      "text/html": [
       "<div>\n",
       "<style scoped>\n",
       "    .dataframe tbody tr th:only-of-type {\n",
       "        vertical-align: middle;\n",
       "    }\n",
       "\n",
       "    .dataframe tbody tr th {\n",
       "        vertical-align: top;\n",
       "    }\n",
       "\n",
       "    .dataframe thead th {\n",
       "        text-align: right;\n",
       "    }\n",
       "</style>\n",
       "<table border=\"1\" class=\"dataframe\">\n",
       "  <thead>\n",
       "    <tr style=\"text-align: right;\">\n",
       "      <th></th>\n",
       "      <th>index</th>\n",
       "      <th>hash</th>\n",
       "      <th>created_at</th>\n",
       "      <th>username</th>\n",
       "      <th>tweet</th>\n",
       "      <th>language</th>\n",
       "      <th>replies_count</th>\n",
       "      <th>retweets_count</th>\n",
       "      <th>likes_count</th>\n",
       "      <th>reply_to</th>\n",
       "      <th>hashtags</th>\n",
       "      <th>Duplicated_TorF</th>\n",
       "    </tr>\n",
       "  </thead>\n",
       "  <tbody>\n",
       "    <tr>\n",
       "      <th>343</th>\n",
       "      <td>343</td>\n",
       "      <td>#HongKongProtest</td>\n",
       "      <td>2020-08-26</td>\n",
       "      <td>faidennis</td>\n",
       "      <td>Thanks Hongkonger in US. @We_the_Hkers   #anti...</td>\n",
       "      <td>en</td>\n",
       "      <td>1</td>\n",
       "      <td>0</td>\n",
       "      <td>0</td>\n",
       "      <td>[]</td>\n",
       "      <td>['antielab', 'hongkongprotest', 'hongkong', 'w...</td>\n",
       "      <td>0</td>\n",
       "    </tr>\n",
       "    <tr>\n",
       "      <th>344</th>\n",
       "      <td>344</td>\n",
       "      <td>#HongKongProtest</td>\n",
       "      <td>2020-08-26</td>\n",
       "      <td>mcmchoho</td>\n",
       "      <td>#HongKongProtest : Anger mounts as police are ...</td>\n",
       "      <td>en</td>\n",
       "      <td>0</td>\n",
       "      <td>1</td>\n",
       "      <td>1</td>\n",
       "      <td>[]</td>\n",
       "      <td>['hongkongprotest', 'nationalsecuritylaw', 'ho...</td>\n",
       "      <td>0</td>\n",
       "    </tr>\n",
       "    <tr>\n",
       "      <th>346</th>\n",
       "      <td>346</td>\n",
       "      <td>#HongKongProtest</td>\n",
       "      <td>2020-08-26</td>\n",
       "      <td>therealhml</td>\n",
       "      <td>#Yellow Lunch 🖐🏻☝🏻#SupportAppleDaily #WeNeedAp...</td>\n",
       "      <td>en</td>\n",
       "      <td>0</td>\n",
       "      <td>0</td>\n",
       "      <td>3</td>\n",
       "      <td>[]</td>\n",
       "      <td>['yellow', 'supportappledaily', 'weneedappleda...</td>\n",
       "      <td>0</td>\n",
       "    </tr>\n",
       "    <tr>\n",
       "      <th>347</th>\n",
       "      <td>347</td>\n",
       "      <td>#HongKongProtest</td>\n",
       "      <td>2020-08-26</td>\n",
       "      <td>yuen8964</td>\n",
       "      <td>This is totally ridiculous. #CCP  #HongKong  #...</td>\n",
       "      <td>en</td>\n",
       "      <td>0</td>\n",
       "      <td>0</td>\n",
       "      <td>0</td>\n",
       "      <td>[]</td>\n",
       "      <td>['ccp', 'hongkong', 'hongkongprotest', 'hongko...</td>\n",
       "      <td>0</td>\n",
       "    </tr>\n",
       "    <tr>\n",
       "      <th>348</th>\n",
       "      <td>348</td>\n",
       "      <td>#HongKongProtest</td>\n",
       "      <td>2020-08-26</td>\n",
       "      <td>raven05339255</td>\n",
       "      <td>Blackbloc tomorrow, HKgers reunion! In the dar...</td>\n",
       "      <td>en</td>\n",
       "      <td>0</td>\n",
       "      <td>0</td>\n",
       "      <td>0</td>\n",
       "      <td>[]</td>\n",
       "      <td>['hongkongprotest', 'fightforfreedom', 'standw...</td>\n",
       "      <td>0</td>\n",
       "    </tr>\n",
       "  </tbody>\n",
       "</table>\n",
       "</div>"
      ],
      "text/plain": [
       "     index              hash created_at       username  \\\n",
       "343    343  #HongKongProtest 2020-08-26      faidennis   \n",
       "344    344  #HongKongProtest 2020-08-26       mcmchoho   \n",
       "346    346  #HongKongProtest 2020-08-26     therealhml   \n",
       "347    347  #HongKongProtest 2020-08-26       yuen8964   \n",
       "348    348  #HongKongProtest 2020-08-26  raven05339255   \n",
       "\n",
       "                                                 tweet language  \\\n",
       "343  Thanks Hongkonger in US. @We_the_Hkers   #anti...       en   \n",
       "344  #HongKongProtest : Anger mounts as police are ...       en   \n",
       "346  #Yellow Lunch 🖐🏻☝🏻#SupportAppleDaily #WeNeedAp...       en   \n",
       "347  This is totally ridiculous. #CCP  #HongKong  #...       en   \n",
       "348  Blackbloc tomorrow, HKgers reunion! In the dar...       en   \n",
       "\n",
       "     replies_count  retweets_count  likes_count reply_to  \\\n",
       "343              1               0            0       []   \n",
       "344              0               1            1       []   \n",
       "346              0               0            3       []   \n",
       "347              0               0            0       []   \n",
       "348              0               0            0       []   \n",
       "\n",
       "                                              hashtags  Duplicated_TorF  \n",
       "343  ['antielab', 'hongkongprotest', 'hongkong', 'w...                0  \n",
       "344  ['hongkongprotest', 'nationalsecuritylaw', 'ho...                0  \n",
       "346  ['yellow', 'supportappledaily', 'weneedappleda...                0  \n",
       "347  ['ccp', 'hongkong', 'hongkongprotest', 'hongko...                0  \n",
       "348  ['hongkongprotest', 'fightforfreedom', 'standw...                0  "
      ]
     },
     "execution_count": 62,
     "metadata": {},
     "output_type": "execute_result"
    }
   ],
   "source": [
    "df_tweets_w_dup_en.tail()"
   ]
  },
  {
   "cell_type": "code",
   "execution_count": 63,
   "metadata": {},
   "outputs": [
    {
     "name": "stdout",
     "output_type": "stream",
     "text": [
      "There may be 89 duplicates to look into.\n"
     ]
    }
   ],
   "source": [
    "print('There may be', \"{:,}\".format(len(df) - len(df['tweet'].unique())), 'duplicates to look into.')"
   ]
  },
  {
   "cell_type": "code",
   "execution_count": 64,
   "metadata": {},
   "outputs": [
    {
     "name": "stdout",
     "output_type": "stream",
     "text": [
      "Review of the # of English articles: \n",
      "   228 | English count before dropping other languages \n",
      "   228 | Count after dropping other languages\n"
     ]
    }
   ],
   "source": [
    "print('Review of the # of English articles:','\\n'\n",
    "    '  ',\"{:,}\".format( len(df_tweets_w_dup[df_tweets_w_dup.language == 'en'])), '| English count before dropping other languages','\\n',\n",
    "     ' ',\"{:,}\".format(len(df_tweets_w_dup_en)),'| Count after dropping other languages')"
   ]
  },
  {
   "cell_type": "markdown",
   "metadata": {},
   "source": [
    "That matches the above so **we will now remove duplicates.**"
   ]
  },
  {
   "cell_type": "code",
   "execution_count": 65,
   "metadata": {},
   "outputs": [],
   "source": [
    "df_tweets_wout_dup_en = df_tweets_w_dup_en[df_tweets_w_dup_en['Duplicated_TorF']==0]"
   ]
  },
  {
   "cell_type": "markdown",
   "metadata": {},
   "source": [
    "Confirming that worked we will bring the data frame that did not delete the duplicates back & see what the sum of the `Duplicates_TorF` column is; as a reminder, **a duplicate has a 1 & the non-Duplicate has a 0.**"
   ]
  },
  {
   "cell_type": "code",
   "execution_count": 66,
   "metadata": {},
   "outputs": [
    {
     "data": {
      "text/plain": [
       "54"
      ]
     },
     "execution_count": 66,
     "metadata": {},
     "output_type": "execute_result"
    }
   ],
   "source": [
    "sum(df_tweets_w_dup_en['Duplicated_TorF'])"
   ]
  },
  {
   "cell_type": "markdown",
   "metadata": {},
   "source": [
    "So there was ~30k identified duplicates, so what is the length of the dataframe without duplicates."
   ]
  },
  {
   "cell_type": "code",
   "execution_count": 67,
   "metadata": {},
   "outputs": [
    {
     "data": {
      "text/plain": [
       "0"
      ]
     },
     "execution_count": 67,
     "metadata": {},
     "output_type": "execute_result"
    }
   ],
   "source": [
    "sum(df_tweets_wout_dup_en['Duplicated_TorF'])"
   ]
  },
  {
   "cell_type": "code",
   "execution_count": 68,
   "metadata": {},
   "outputs": [
    {
     "data": {
      "text/plain": [
       "array([False])"
      ]
     },
     "execution_count": 68,
     "metadata": {},
     "output_type": "execute_result"
    }
   ],
   "source": [
    "duplicated_tf_next = df_tweets_wout_dup_en.duplicated(subset=['tweet'])\n",
    "duplicated_tf_next = pd.DataFrame(duplicated_tf_next)\n",
    "duplicated_tf_next.columns = ['Duplicated_check']\n",
    "duplicated_tf_next.Duplicated_check.unique()"
   ]
  },
  {
   "cell_type": "markdown",
   "metadata": {},
   "source": [
    "**A complete list of False essentially says there are no duplicates.**"
   ]
  },
  {
   "cell_type": "code",
   "execution_count": 69,
   "metadata": {},
   "outputs": [
    {
     "data": {
      "text/plain": [
       "174"
      ]
     },
     "execution_count": 69,
     "metadata": {},
     "output_type": "execute_result"
    }
   ],
   "source": [
    "len(df_tweets_wout_dup_en)"
   ]
  },
  {
   "cell_type": "markdown",
   "metadata": {},
   "source": [
    "That's yet another cut albeit it's expected given the source in which we are working with.\n",
    "\n",
    "**We will take a look at what percent of the original total we have left.**"
   ]
  },
  {
   "cell_type": "code",
   "execution_count": 70,
   "metadata": {},
   "outputs": [
    {
     "data": {
      "text/plain": [
       "49.71"
      ]
     },
     "execution_count": 70,
     "metadata": {},
     "output_type": "execute_result"
    }
   ],
   "source": [
    "round((( len(df_tweets_wout_dup_en) / len(df) ) * 100),2 )"
   ]
  },
  {
   "cell_type": "markdown",
   "metadata": {},
   "source": [
    "**Before sending the Dataframe to Regex, we will hold on to it on the side for reference.**"
   ]
  },
  {
   "cell_type": "code",
   "execution_count": 71,
   "metadata": {
    "scrolled": false
   },
   "outputs": [
    {
     "name": "stdout",
     "output_type": "stream",
     "text": [
      "C:\\Users\\rands\n"
     ]
    }
   ],
   "source": [
    "cd"
   ]
  },
  {
   "cell_type": "code",
   "execution_count": 72,
   "metadata": {},
   "outputs": [
    {
     "name": "stdout",
     "output_type": "stream",
     "text": [
      "Finished\n"
     ]
    }
   ],
   "source": [
    "df_tweets_wout_dup_en.to_excel('./_Capstone_Two_NLP/data/_twitter/_dfs_fortheside/df_tweets_wout_dup_en_short.xlsx')\n",
    "print('Finished')"
   ]
  },
  {
   "cell_type": "code",
   "execution_count": null,
   "metadata": {},
   "outputs": [],
   "source": []
  },
  {
   "cell_type": "markdown",
   "metadata": {},
   "source": [
    "# 1.4 Regex<a id='regex'></a>"
   ]
  },
  {
   "cell_type": "markdown",
   "metadata": {},
   "source": [
    "Before moving forwards, **we will send the `df_tweets_wout_dup_en` back to it's home ( `df` )** so we don't have to use a long name."
   ]
  },
  {
   "cell_type": "code",
   "execution_count": 73,
   "metadata": {},
   "outputs": [],
   "source": [
    "df = df_tweets_wout_dup_en"
   ]
  },
  {
   "cell_type": "code",
   "execution_count": 74,
   "metadata": {},
   "outputs": [
    {
     "name": "stdout",
     "output_type": "stream",
     "text": [
      "   174 | the length of the temp dataframe. \n",
      "   174 | the length of our new dataframe.\n"
     ]
    }
   ],
   "source": [
    "print('  ',\"{:,}\".format(len(df_tweets_wout_dup_en)), '| the length of the temp dataframe.','\\n',\n",
    "     ' ', \"{:,}\".format(len(df)), '| the length of our new dataframe.')"
   ]
  },
  {
   "cell_type": "code",
   "execution_count": 75,
   "metadata": {},
   "outputs": [
    {
     "data": {
      "text/plain": [
       "index              0\n",
       "hash               0\n",
       "created_at         0\n",
       "username           0\n",
       "tweet              0\n",
       "language           0\n",
       "replies_count      0\n",
       "retweets_count     0\n",
       "likes_count        0\n",
       "reply_to           0\n",
       "hashtags           0\n",
       "Duplicated_TorF    0\n",
       "dtype: int64"
      ]
     },
     "execution_count": 75,
     "metadata": {},
     "output_type": "execute_result"
    }
   ],
   "source": [
    "df.isnull().sum()"
   ]
  },
  {
   "cell_type": "code",
   "execution_count": 76,
   "metadata": {},
   "outputs": [
    {
     "data": {
      "text/html": [
       "<div>\n",
       "<style scoped>\n",
       "    .dataframe tbody tr th:only-of-type {\n",
       "        vertical-align: middle;\n",
       "    }\n",
       "\n",
       "    .dataframe tbody tr th {\n",
       "        vertical-align: top;\n",
       "    }\n",
       "\n",
       "    .dataframe thead th {\n",
       "        text-align: right;\n",
       "    }\n",
       "</style>\n",
       "<table border=\"1\" class=\"dataframe\">\n",
       "  <thead>\n",
       "    <tr style=\"text-align: right;\">\n",
       "      <th></th>\n",
       "      <th>index</th>\n",
       "      <th>hash</th>\n",
       "      <th>created_at</th>\n",
       "      <th>username</th>\n",
       "      <th>tweet</th>\n",
       "      <th>language</th>\n",
       "      <th>replies_count</th>\n",
       "      <th>retweets_count</th>\n",
       "      <th>likes_count</th>\n",
       "      <th>reply_to</th>\n",
       "      <th>hashtags</th>\n",
       "      <th>Duplicated_TorF</th>\n",
       "    </tr>\n",
       "  </thead>\n",
       "  <tbody>\n",
       "    <tr>\n",
       "      <th>0</th>\n",
       "      <td>0</td>\n",
       "      <td>#FightForHongKong</td>\n",
       "      <td>2020-08-28</td>\n",
       "      <td>ginny81025554</td>\n",
       "      <td>@benedictrogers @NOW4humanity Thanks for speak...</td>\n",
       "      <td>en</td>\n",
       "      <td>0</td>\n",
       "      <td>1</td>\n",
       "      <td>2</td>\n",
       "      <td>[{'screen_name': 'benedictrogers', 'name': 'Be...</td>\n",
       "      <td>['fridaysforfreedom', 'fightforhongkong']</td>\n",
       "      <td>0</td>\n",
       "    </tr>\n",
       "  </tbody>\n",
       "</table>\n",
       "</div>"
      ],
      "text/plain": [
       "   index               hash created_at       username  \\\n",
       "0      0  #FightForHongKong 2020-08-28  ginny81025554   \n",
       "\n",
       "                                               tweet language  replies_count  \\\n",
       "0  @benedictrogers @NOW4humanity Thanks for speak...       en              0   \n",
       "\n",
       "   retweets_count  likes_count  \\\n",
       "0               1            2   \n",
       "\n",
       "                                            reply_to  \\\n",
       "0  [{'screen_name': 'benedictrogers', 'name': 'Be...   \n",
       "\n",
       "                                    hashtags  Duplicated_TorF  \n",
       "0  ['fridaysforfreedom', 'fightforhongkong']                0  "
      ]
     },
     "execution_count": 76,
     "metadata": {},
     "output_type": "execute_result"
    }
   ],
   "source": [
    "df.head(1)"
   ]
  },
  {
   "cell_type": "code",
   "execution_count": 77,
   "metadata": {},
   "outputs": [],
   "source": [
    "df = df.drop(['index'], axis=1)"
   ]
  },
  {
   "cell_type": "code",
   "execution_count": 78,
   "metadata": {},
   "outputs": [
    {
     "data": {
      "text/html": [
       "<div>\n",
       "<style scoped>\n",
       "    .dataframe tbody tr th:only-of-type {\n",
       "        vertical-align: middle;\n",
       "    }\n",
       "\n",
       "    .dataframe tbody tr th {\n",
       "        vertical-align: top;\n",
       "    }\n",
       "\n",
       "    .dataframe thead th {\n",
       "        text-align: right;\n",
       "    }\n",
       "</style>\n",
       "<table border=\"1\" class=\"dataframe\">\n",
       "  <thead>\n",
       "    <tr style=\"text-align: right;\">\n",
       "      <th></th>\n",
       "      <th>hash</th>\n",
       "      <th>created_at</th>\n",
       "      <th>username</th>\n",
       "      <th>tweet</th>\n",
       "      <th>language</th>\n",
       "      <th>replies_count</th>\n",
       "      <th>retweets_count</th>\n",
       "      <th>likes_count</th>\n",
       "      <th>reply_to</th>\n",
       "      <th>hashtags</th>\n",
       "      <th>Duplicated_TorF</th>\n",
       "    </tr>\n",
       "  </thead>\n",
       "  <tbody>\n",
       "    <tr>\n",
       "      <th>0</th>\n",
       "      <td>#FightForHongKong</td>\n",
       "      <td>2020-08-28</td>\n",
       "      <td>ginny81025554</td>\n",
       "      <td>@benedictrogers @NOW4humanity Thanks for speak...</td>\n",
       "      <td>en</td>\n",
       "      <td>0</td>\n",
       "      <td>1</td>\n",
       "      <td>2</td>\n",
       "      <td>[{'screen_name': 'benedictrogers', 'name': 'Be...</td>\n",
       "      <td>['fridaysforfreedom', 'fightforhongkong']</td>\n",
       "      <td>0</td>\n",
       "    </tr>\n",
       "    <tr>\n",
       "      <th>2</th>\n",
       "      <td>#FightForHongKong</td>\n",
       "      <td>2020-08-25</td>\n",
       "      <td>peterhjorth_ddp</td>\n",
       "      <td>How to stop China in Hong Kong. Read the new r...</td>\n",
       "      <td>en</td>\n",
       "      <td>0</td>\n",
       "      <td>0</td>\n",
       "      <td>0</td>\n",
       "      <td>[]</td>\n",
       "      <td>['dkpol', 'kina', 'hongkongprotest', 'fightfor...</td>\n",
       "      <td>0</td>\n",
       "    </tr>\n",
       "    <tr>\n",
       "      <th>3</th>\n",
       "      <td>#FightForHongKong</td>\n",
       "      <td>2020-08-24</td>\n",
       "      <td>peterhjorth_ddp</td>\n",
       "      <td>How to stop China in Hong Kong. Read the new r...</td>\n",
       "      <td>en</td>\n",
       "      <td>0</td>\n",
       "      <td>0</td>\n",
       "      <td>0</td>\n",
       "      <td>[]</td>\n",
       "      <td>['dkpol', 'kina', 'hongkongprotest', 'fightfor...</td>\n",
       "      <td>0</td>\n",
       "    </tr>\n",
       "    <tr>\n",
       "      <th>4</th>\n",
       "      <td>#FightForHongKong</td>\n",
       "      <td>2020-08-24</td>\n",
       "      <td>cipopolitik</td>\n",
       "      <td>War or communism?   https://t.co/V2kQTvR2wr  #...</td>\n",
       "      <td>en</td>\n",
       "      <td>0</td>\n",
       "      <td>0</td>\n",
       "      <td>1</td>\n",
       "      <td>[]</td>\n",
       "      <td>['hongkongprotest', 'fightforhongkong', 'prayf...</td>\n",
       "      <td>0</td>\n",
       "    </tr>\n",
       "    <tr>\n",
       "      <th>5</th>\n",
       "      <td>#FightForHongKong</td>\n",
       "      <td>2020-08-24</td>\n",
       "      <td>peterhjorth_ddp</td>\n",
       "      <td>How to stop China in Hong Kong. Read the new r...</td>\n",
       "      <td>en</td>\n",
       "      <td>0</td>\n",
       "      <td>0</td>\n",
       "      <td>0</td>\n",
       "      <td>[]</td>\n",
       "      <td>['dkpol', 'kina', 'hongkongprotest', 'fightfor...</td>\n",
       "      <td>0</td>\n",
       "    </tr>\n",
       "    <tr>\n",
       "      <th>6</th>\n",
       "      <td>#FightForHongKong</td>\n",
       "      <td>2020-08-24</td>\n",
       "      <td>cipopolitik</td>\n",
       "      <td>Read the report today: How to stop China in Ho...</td>\n",
       "      <td>en</td>\n",
       "      <td>0</td>\n",
       "      <td>0</td>\n",
       "      <td>0</td>\n",
       "      <td>[]</td>\n",
       "      <td>['hongkongprotest', 'fightforhongkong', 'prayf...</td>\n",
       "      <td>0</td>\n",
       "    </tr>\n",
       "    <tr>\n",
       "      <th>7</th>\n",
       "      <td>#FightForHongKong</td>\n",
       "      <td>2020-08-23</td>\n",
       "      <td>cipopolitik</td>\n",
       "      <td>China will never stop.  #HongKongProtest #Figh...</td>\n",
       "      <td>en</td>\n",
       "      <td>0</td>\n",
       "      <td>0</td>\n",
       "      <td>0</td>\n",
       "      <td>[]</td>\n",
       "      <td>['hongkongprotest', 'fightforhongkong', 'prayf...</td>\n",
       "      <td>0</td>\n",
       "    </tr>\n",
       "    <tr>\n",
       "      <th>8</th>\n",
       "      <td>#FightForHongKong</td>\n",
       "      <td>2020-08-23</td>\n",
       "      <td>cipopolitik</td>\n",
       "      <td>China want to dominate the World   Get the rep...</td>\n",
       "      <td>en</td>\n",
       "      <td>1</td>\n",
       "      <td>0</td>\n",
       "      <td>1</td>\n",
       "      <td>[]</td>\n",
       "      <td>['hongkongprotest', 'fightforhongkong', 'prayf...</td>\n",
       "      <td>0</td>\n",
       "    </tr>\n",
       "    <tr>\n",
       "      <th>11</th>\n",
       "      <td>#FightForHongKong</td>\n",
       "      <td>2020-08-19</td>\n",
       "      <td>korn_bianca</td>\n",
       "      <td>@StandwithHK_JPN Thank you japan brother and s...</td>\n",
       "      <td>en</td>\n",
       "      <td>0</td>\n",
       "      <td>0</td>\n",
       "      <td>0</td>\n",
       "      <td>[{'screen_name': 'StandwithHK_JPN', 'name': 'S...</td>\n",
       "      <td>['freehongkong', 'fightforhongkong']</td>\n",
       "      <td>0</td>\n",
       "    </tr>\n",
       "    <tr>\n",
       "      <th>12</th>\n",
       "      <td>#FightForHongKong</td>\n",
       "      <td>2020-08-15</td>\n",
       "      <td>frankseier</td>\n",
       "      <td>Joshua Wong: ‘Forms of resistance need to be f...</td>\n",
       "      <td>en</td>\n",
       "      <td>0</td>\n",
       "      <td>0</td>\n",
       "      <td>0</td>\n",
       "      <td>[]</td>\n",
       "      <td>['fightforhongkong', 'hongkongprotest']</td>\n",
       "      <td>0</td>\n",
       "    </tr>\n",
       "  </tbody>\n",
       "</table>\n",
       "</div>"
      ],
      "text/plain": [
       "                 hash created_at         username  \\\n",
       "0   #FightForHongKong 2020-08-28    ginny81025554   \n",
       "2   #FightForHongKong 2020-08-25  peterhjorth_ddp   \n",
       "3   #FightForHongKong 2020-08-24  peterhjorth_ddp   \n",
       "4   #FightForHongKong 2020-08-24      cipopolitik   \n",
       "5   #FightForHongKong 2020-08-24  peterhjorth_ddp   \n",
       "6   #FightForHongKong 2020-08-24      cipopolitik   \n",
       "7   #FightForHongKong 2020-08-23      cipopolitik   \n",
       "8   #FightForHongKong 2020-08-23      cipopolitik   \n",
       "11  #FightForHongKong 2020-08-19      korn_bianca   \n",
       "12  #FightForHongKong 2020-08-15       frankseier   \n",
       "\n",
       "                                                tweet language  replies_count  \\\n",
       "0   @benedictrogers @NOW4humanity Thanks for speak...       en              0   \n",
       "2   How to stop China in Hong Kong. Read the new r...       en              0   \n",
       "3   How to stop China in Hong Kong. Read the new r...       en              0   \n",
       "4   War or communism?   https://t.co/V2kQTvR2wr  #...       en              0   \n",
       "5   How to stop China in Hong Kong. Read the new r...       en              0   \n",
       "6   Read the report today: How to stop China in Ho...       en              0   \n",
       "7   China will never stop.  #HongKongProtest #Figh...       en              0   \n",
       "8   China want to dominate the World   Get the rep...       en              1   \n",
       "11  @StandwithHK_JPN Thank you japan brother and s...       en              0   \n",
       "12  Joshua Wong: ‘Forms of resistance need to be f...       en              0   \n",
       "\n",
       "    retweets_count  likes_count  \\\n",
       "0                1            2   \n",
       "2                0            0   \n",
       "3                0            0   \n",
       "4                0            1   \n",
       "5                0            0   \n",
       "6                0            0   \n",
       "7                0            0   \n",
       "8                0            1   \n",
       "11               0            0   \n",
       "12               0            0   \n",
       "\n",
       "                                             reply_to  \\\n",
       "0   [{'screen_name': 'benedictrogers', 'name': 'Be...   \n",
       "2                                                  []   \n",
       "3                                                  []   \n",
       "4                                                  []   \n",
       "5                                                  []   \n",
       "6                                                  []   \n",
       "7                                                  []   \n",
       "8                                                  []   \n",
       "11  [{'screen_name': 'StandwithHK_JPN', 'name': 'S...   \n",
       "12                                                 []   \n",
       "\n",
       "                                             hashtags  Duplicated_TorF  \n",
       "0           ['fridaysforfreedom', 'fightforhongkong']                0  \n",
       "2   ['dkpol', 'kina', 'hongkongprotest', 'fightfor...                0  \n",
       "3   ['dkpol', 'kina', 'hongkongprotest', 'fightfor...                0  \n",
       "4   ['hongkongprotest', 'fightforhongkong', 'prayf...                0  \n",
       "5   ['dkpol', 'kina', 'hongkongprotest', 'fightfor...                0  \n",
       "6   ['hongkongprotest', 'fightforhongkong', 'prayf...                0  \n",
       "7   ['hongkongprotest', 'fightforhongkong', 'prayf...                0  \n",
       "8   ['hongkongprotest', 'fightforhongkong', 'prayf...                0  \n",
       "11               ['freehongkong', 'fightforhongkong']                0  \n",
       "12            ['fightforhongkong', 'hongkongprotest']                0  "
      ]
     },
     "execution_count": 78,
     "metadata": {},
     "output_type": "execute_result"
    }
   ],
   "source": [
    "df.head(10)"
   ]
  },
  {
   "cell_type": "code",
   "execution_count": 79,
   "metadata": {},
   "outputs": [
    {
     "data": {
      "text/html": [
       "<div>\n",
       "<style scoped>\n",
       "    .dataframe tbody tr th:only-of-type {\n",
       "        vertical-align: middle;\n",
       "    }\n",
       "\n",
       "    .dataframe tbody tr th {\n",
       "        vertical-align: top;\n",
       "    }\n",
       "\n",
       "    .dataframe thead th {\n",
       "        text-align: right;\n",
       "    }\n",
       "</style>\n",
       "<table border=\"1\" class=\"dataframe\">\n",
       "  <thead>\n",
       "    <tr style=\"text-align: right;\">\n",
       "      <th></th>\n",
       "      <th>hash</th>\n",
       "      <th>created_at</th>\n",
       "      <th>username</th>\n",
       "      <th>tweet</th>\n",
       "      <th>language</th>\n",
       "      <th>replies_count</th>\n",
       "      <th>retweets_count</th>\n",
       "      <th>likes_count</th>\n",
       "      <th>reply_to</th>\n",
       "      <th>hashtags</th>\n",
       "      <th>Duplicated_TorF</th>\n",
       "    </tr>\n",
       "  </thead>\n",
       "  <tbody>\n",
       "    <tr>\n",
       "      <th>0</th>\n",
       "      <td>#FightForHongKong</td>\n",
       "      <td>2020-08-28</td>\n",
       "      <td>ginny81025554</td>\n",
       "      <td>@benedictrogers @NOW4humanity Thanks for speak...</td>\n",
       "      <td>en</td>\n",
       "      <td>0</td>\n",
       "      <td>1</td>\n",
       "      <td>2</td>\n",
       "      <td>[{'screen_name': 'benedictrogers', 'name': 'Be...</td>\n",
       "      <td>['fridaysforfreedom', 'fightforhongkong']</td>\n",
       "      <td>0</td>\n",
       "    </tr>\n",
       "    <tr>\n",
       "      <th>1</th>\n",
       "      <td>#FightForHongKong</td>\n",
       "      <td>2020-08-25</td>\n",
       "      <td>peterhjorth_ddp</td>\n",
       "      <td>How to stop China in Hong Kong. Read the new r...</td>\n",
       "      <td>en</td>\n",
       "      <td>0</td>\n",
       "      <td>0</td>\n",
       "      <td>0</td>\n",
       "      <td>[]</td>\n",
       "      <td>['dkpol', 'kina', 'hongkongprotest', 'fightfor...</td>\n",
       "      <td>0</td>\n",
       "    </tr>\n",
       "    <tr>\n",
       "      <th>2</th>\n",
       "      <td>#FightForHongKong</td>\n",
       "      <td>2020-08-24</td>\n",
       "      <td>peterhjorth_ddp</td>\n",
       "      <td>How to stop China in Hong Kong. Read the new r...</td>\n",
       "      <td>en</td>\n",
       "      <td>0</td>\n",
       "      <td>0</td>\n",
       "      <td>0</td>\n",
       "      <td>[]</td>\n",
       "      <td>['dkpol', 'kina', 'hongkongprotest', 'fightfor...</td>\n",
       "      <td>0</td>\n",
       "    </tr>\n",
       "    <tr>\n",
       "      <th>3</th>\n",
       "      <td>#FightForHongKong</td>\n",
       "      <td>2020-08-24</td>\n",
       "      <td>cipopolitik</td>\n",
       "      <td>War or communism?   https://t.co/V2kQTvR2wr  #...</td>\n",
       "      <td>en</td>\n",
       "      <td>0</td>\n",
       "      <td>0</td>\n",
       "      <td>1</td>\n",
       "      <td>[]</td>\n",
       "      <td>['hongkongprotest', 'fightforhongkong', 'prayf...</td>\n",
       "      <td>0</td>\n",
       "    </tr>\n",
       "    <tr>\n",
       "      <th>4</th>\n",
       "      <td>#FightForHongKong</td>\n",
       "      <td>2020-08-24</td>\n",
       "      <td>peterhjorth_ddp</td>\n",
       "      <td>How to stop China in Hong Kong. Read the new r...</td>\n",
       "      <td>en</td>\n",
       "      <td>0</td>\n",
       "      <td>0</td>\n",
       "      <td>0</td>\n",
       "      <td>[]</td>\n",
       "      <td>['dkpol', 'kina', 'hongkongprotest', 'fightfor...</td>\n",
       "      <td>0</td>\n",
       "    </tr>\n",
       "    <tr>\n",
       "      <th>5</th>\n",
       "      <td>#FightForHongKong</td>\n",
       "      <td>2020-08-24</td>\n",
       "      <td>cipopolitik</td>\n",
       "      <td>Read the report today: How to stop China in Ho...</td>\n",
       "      <td>en</td>\n",
       "      <td>0</td>\n",
       "      <td>0</td>\n",
       "      <td>0</td>\n",
       "      <td>[]</td>\n",
       "      <td>['hongkongprotest', 'fightforhongkong', 'prayf...</td>\n",
       "      <td>0</td>\n",
       "    </tr>\n",
       "    <tr>\n",
       "      <th>6</th>\n",
       "      <td>#FightForHongKong</td>\n",
       "      <td>2020-08-23</td>\n",
       "      <td>cipopolitik</td>\n",
       "      <td>China will never stop.  #HongKongProtest #Figh...</td>\n",
       "      <td>en</td>\n",
       "      <td>0</td>\n",
       "      <td>0</td>\n",
       "      <td>0</td>\n",
       "      <td>[]</td>\n",
       "      <td>['hongkongprotest', 'fightforhongkong', 'prayf...</td>\n",
       "      <td>0</td>\n",
       "    </tr>\n",
       "    <tr>\n",
       "      <th>7</th>\n",
       "      <td>#FightForHongKong</td>\n",
       "      <td>2020-08-23</td>\n",
       "      <td>cipopolitik</td>\n",
       "      <td>China want to dominate the World   Get the rep...</td>\n",
       "      <td>en</td>\n",
       "      <td>1</td>\n",
       "      <td>0</td>\n",
       "      <td>1</td>\n",
       "      <td>[]</td>\n",
       "      <td>['hongkongprotest', 'fightforhongkong', 'prayf...</td>\n",
       "      <td>0</td>\n",
       "    </tr>\n",
       "    <tr>\n",
       "      <th>8</th>\n",
       "      <td>#FightForHongKong</td>\n",
       "      <td>2020-08-19</td>\n",
       "      <td>korn_bianca</td>\n",
       "      <td>@StandwithHK_JPN Thank you japan brother and s...</td>\n",
       "      <td>en</td>\n",
       "      <td>0</td>\n",
       "      <td>0</td>\n",
       "      <td>0</td>\n",
       "      <td>[{'screen_name': 'StandwithHK_JPN', 'name': 'S...</td>\n",
       "      <td>['freehongkong', 'fightforhongkong']</td>\n",
       "      <td>0</td>\n",
       "    </tr>\n",
       "    <tr>\n",
       "      <th>9</th>\n",
       "      <td>#FightForHongKong</td>\n",
       "      <td>2020-08-15</td>\n",
       "      <td>frankseier</td>\n",
       "      <td>Joshua Wong: ‘Forms of resistance need to be f...</td>\n",
       "      <td>en</td>\n",
       "      <td>0</td>\n",
       "      <td>0</td>\n",
       "      <td>0</td>\n",
       "      <td>[]</td>\n",
       "      <td>['fightforhongkong', 'hongkongprotest']</td>\n",
       "      <td>0</td>\n",
       "    </tr>\n",
       "  </tbody>\n",
       "</table>\n",
       "</div>"
      ],
      "text/plain": [
       "                hash created_at         username  \\\n",
       "0  #FightForHongKong 2020-08-28    ginny81025554   \n",
       "1  #FightForHongKong 2020-08-25  peterhjorth_ddp   \n",
       "2  #FightForHongKong 2020-08-24  peterhjorth_ddp   \n",
       "3  #FightForHongKong 2020-08-24      cipopolitik   \n",
       "4  #FightForHongKong 2020-08-24  peterhjorth_ddp   \n",
       "5  #FightForHongKong 2020-08-24      cipopolitik   \n",
       "6  #FightForHongKong 2020-08-23      cipopolitik   \n",
       "7  #FightForHongKong 2020-08-23      cipopolitik   \n",
       "8  #FightForHongKong 2020-08-19      korn_bianca   \n",
       "9  #FightForHongKong 2020-08-15       frankseier   \n",
       "\n",
       "                                               tweet language  replies_count  \\\n",
       "0  @benedictrogers @NOW4humanity Thanks for speak...       en              0   \n",
       "1  How to stop China in Hong Kong. Read the new r...       en              0   \n",
       "2  How to stop China in Hong Kong. Read the new r...       en              0   \n",
       "3  War or communism?   https://t.co/V2kQTvR2wr  #...       en              0   \n",
       "4  How to stop China in Hong Kong. Read the new r...       en              0   \n",
       "5  Read the report today: How to stop China in Ho...       en              0   \n",
       "6  China will never stop.  #HongKongProtest #Figh...       en              0   \n",
       "7  China want to dominate the World   Get the rep...       en              1   \n",
       "8  @StandwithHK_JPN Thank you japan brother and s...       en              0   \n",
       "9  Joshua Wong: ‘Forms of resistance need to be f...       en              0   \n",
       "\n",
       "   retweets_count  likes_count  \\\n",
       "0               1            2   \n",
       "1               0            0   \n",
       "2               0            0   \n",
       "3               0            1   \n",
       "4               0            0   \n",
       "5               0            0   \n",
       "6               0            0   \n",
       "7               0            1   \n",
       "8               0            0   \n",
       "9               0            0   \n",
       "\n",
       "                                            reply_to  \\\n",
       "0  [{'screen_name': 'benedictrogers', 'name': 'Be...   \n",
       "1                                                 []   \n",
       "2                                                 []   \n",
       "3                                                 []   \n",
       "4                                                 []   \n",
       "5                                                 []   \n",
       "6                                                 []   \n",
       "7                                                 []   \n",
       "8  [{'screen_name': 'StandwithHK_JPN', 'name': 'S...   \n",
       "9                                                 []   \n",
       "\n",
       "                                            hashtags  Duplicated_TorF  \n",
       "0          ['fridaysforfreedom', 'fightforhongkong']                0  \n",
       "1  ['dkpol', 'kina', 'hongkongprotest', 'fightfor...                0  \n",
       "2  ['dkpol', 'kina', 'hongkongprotest', 'fightfor...                0  \n",
       "3  ['hongkongprotest', 'fightforhongkong', 'prayf...                0  \n",
       "4  ['dkpol', 'kina', 'hongkongprotest', 'fightfor...                0  \n",
       "5  ['hongkongprotest', 'fightforhongkong', 'prayf...                0  \n",
       "6  ['hongkongprotest', 'fightforhongkong', 'prayf...                0  \n",
       "7  ['hongkongprotest', 'fightforhongkong', 'prayf...                0  \n",
       "8               ['freehongkong', 'fightforhongkong']                0  \n",
       "9            ['fightforhongkong', 'hongkongprotest']                0  "
      ]
     },
     "execution_count": 79,
     "metadata": {},
     "output_type": "execute_result"
    }
   ],
   "source": [
    "df = df.reset_index(drop=True)\n",
    "df.head(10)"
   ]
  },
  {
   "cell_type": "code",
   "execution_count": null,
   "metadata": {},
   "outputs": [],
   "source": []
  },
  {
   "cell_type": "code",
   "execution_count": null,
   "metadata": {},
   "outputs": [],
   "source": []
  },
  {
   "cell_type": "code",
   "execution_count": null,
   "metadata": {},
   "outputs": [],
   "source": []
  },
  {
   "cell_type": "code",
   "execution_count": null,
   "metadata": {},
   "outputs": [],
   "source": []
  },
  {
   "cell_type": "markdown",
   "metadata": {},
   "source": [
    "That was already believed but it's good practice to double confirm.\n",
    "\n",
    "<a id='dupe'></a>**`Duplicated_TorF` | Given we dropped all 1's from the column, we can drop it.** Before, we will double confirm."
   ]
  },
  {
   "cell_type": "code",
   "execution_count": 80,
   "metadata": {},
   "outputs": [
    {
     "data": {
      "text/plain": [
       "array([0], dtype=int64)"
      ]
     },
     "execution_count": 80,
     "metadata": {},
     "output_type": "execute_result"
    }
   ],
   "source": [
    "np.unique(df['Duplicated_TorF'])"
   ]
  },
  {
   "cell_type": "code",
   "execution_count": 81,
   "metadata": {},
   "outputs": [],
   "source": [
    "df = df.drop(columns=['Duplicated_TorF'])"
   ]
  },
  {
   "cell_type": "markdown",
   "metadata": {},
   "source": [
    "<a id='lang'></a>**`language` | We will do the same with `language`**."
   ]
  },
  {
   "cell_type": "code",
   "execution_count": 82,
   "metadata": {},
   "outputs": [
    {
     "data": {
      "text/plain": [
       "array(['en'], dtype=object)"
      ]
     },
     "execution_count": 82,
     "metadata": {},
     "output_type": "execute_result"
    }
   ],
   "source": [
    "np.unique(df['language'])"
   ]
  },
  {
   "cell_type": "code",
   "execution_count": 83,
   "metadata": {},
   "outputs": [],
   "source": [
    "df = df.drop(columns=['language'])"
   ]
  },
  {
   "cell_type": "markdown",
   "metadata": {},
   "source": [
    "<a id='oum'></a>**`Mentions to Other Users` |** We would like to remove from **`tweets`any mentions to other `usernames` which aren't necessary**. Take a **look at:\n",
    "   * ginny81025554's comment towards @benedictrogers** & **@NOW4humanity** \n",
    "\n",
    "**We don't want those words;** we will now **remove mentions to other users.**"
   ]
  },
  {
   "cell_type": "code",
   "execution_count": 84,
   "metadata": {},
   "outputs": [
    {
     "data": {
      "text/html": [
       "<div>\n",
       "<style scoped>\n",
       "    .dataframe tbody tr th:only-of-type {\n",
       "        vertical-align: middle;\n",
       "    }\n",
       "\n",
       "    .dataframe tbody tr th {\n",
       "        vertical-align: top;\n",
       "    }\n",
       "\n",
       "    .dataframe thead th {\n",
       "        text-align: right;\n",
       "    }\n",
       "</style>\n",
       "<table border=\"1\" class=\"dataframe\">\n",
       "  <thead>\n",
       "    <tr style=\"text-align: right;\">\n",
       "      <th></th>\n",
       "      <th>hash</th>\n",
       "      <th>created_at</th>\n",
       "      <th>username</th>\n",
       "      <th>tweet</th>\n",
       "    </tr>\n",
       "  </thead>\n",
       "  <tbody>\n",
       "    <tr>\n",
       "      <th>0</th>\n",
       "      <td>#FightForHongKong</td>\n",
       "      <td>2020-08-28</td>\n",
       "      <td>ginny81025554</td>\n",
       "      <td>@benedictrogers @NOW4humanity Thanks for speak...</td>\n",
       "    </tr>\n",
       "  </tbody>\n",
       "</table>\n",
       "</div>"
      ],
      "text/plain": [
       "                hash created_at       username  \\\n",
       "0  #FightForHongKong 2020-08-28  ginny81025554   \n",
       "\n",
       "                                               tweet  \n",
       "0  @benedictrogers @NOW4humanity Thanks for speak...  "
      ]
     },
     "execution_count": 84,
     "metadata": {},
     "output_type": "execute_result"
    }
   ],
   "source": [
    "df[['hash', 'created_at', 'username', 'tweet']].head(1)"
   ]
  },
  {
   "cell_type": "code",
   "execution_count": 85,
   "metadata": {},
   "outputs": [],
   "source": [
    "df['tweet'] = df['tweet'].str.replace(\"@[A-Za-z0-9]+\",\"\")"
   ]
  },
  {
   "cell_type": "code",
   "execution_count": 86,
   "metadata": {},
   "outputs": [
    {
     "data": {
      "text/html": [
       "<div>\n",
       "<style scoped>\n",
       "    .dataframe tbody tr th:only-of-type {\n",
       "        vertical-align: middle;\n",
       "    }\n",
       "\n",
       "    .dataframe tbody tr th {\n",
       "        vertical-align: top;\n",
       "    }\n",
       "\n",
       "    .dataframe thead th {\n",
       "        text-align: right;\n",
       "    }\n",
       "</style>\n",
       "<table border=\"1\" class=\"dataframe\">\n",
       "  <thead>\n",
       "    <tr style=\"text-align: right;\">\n",
       "      <th></th>\n",
       "      <th>hash</th>\n",
       "      <th>created_at</th>\n",
       "      <th>username</th>\n",
       "      <th>tweet</th>\n",
       "    </tr>\n",
       "  </thead>\n",
       "  <tbody>\n",
       "    <tr>\n",
       "      <th>0</th>\n",
       "      <td>#FightForHongKong</td>\n",
       "      <td>2020-08-28</td>\n",
       "      <td>ginny81025554</td>\n",
       "      <td>Thanks for speaking up for us #fridaysforfre...</td>\n",
       "    </tr>\n",
       "  </tbody>\n",
       "</table>\n",
       "</div>"
      ],
      "text/plain": [
       "                hash created_at       username  \\\n",
       "0  #FightForHongKong 2020-08-28  ginny81025554   \n",
       "\n",
       "                                               tweet  \n",
       "0    Thanks for speaking up for us #fridaysforfre...  "
      ]
     },
     "execution_count": 86,
     "metadata": {},
     "output_type": "execute_result"
    }
   ],
   "source": [
    "df[['hash', 'created_at', 'username', 'tweet']].head(1)"
   ]
  },
  {
   "cell_type": "markdown",
   "metadata": {},
   "source": [
    "<a id='htmltags'></a>**`html tags` |** The **next items to remove are `html tags`**. Take a look at an example below. "
   ]
  },
  {
   "cell_type": "code",
   "execution_count": 87,
   "metadata": {},
   "outputs": [
    {
     "name": "stdout",
     "output_type": "stream",
     "text": [
      "Finished\n"
     ]
    }
   ],
   "source": [
    "df.to_excel('./_Capstone_Two_NLP/data/_twitter/_dfs_fortheside/df_tweets_wout_dup_en_short.xlsx')\n",
    "print('Finished')"
   ]
  },
  {
   "cell_type": "code",
   "execution_count": 88,
   "metadata": {},
   "outputs": [
    {
     "data": {
      "text/plain": [
       "'Joshua Wong: ‘Forms of resistance need to be fluid and flexible’ #FightForHongKong #HongKongProtest   https://t.co/COPpnczKp4'"
      ]
     },
     "execution_count": 88,
     "metadata": {},
     "output_type": "execute_result"
    }
   ],
   "source": [
    "df['tweet'][9]"
   ]
  },
  {
   "cell_type": "code",
   "execution_count": 89,
   "metadata": {},
   "outputs": [],
   "source": [
    "df['tweet'] = df['tweet'].str.replace(r'http\\S+', '')"
   ]
  },
  {
   "cell_type": "code",
   "execution_count": 90,
   "metadata": {},
   "outputs": [
    {
     "data": {
      "text/plain": [
       "'Joshua Wong: ‘Forms of resistance need to be fluid and flexible’ #FightForHongKong #HongKongProtest   '"
      ]
     },
     "execution_count": 90,
     "metadata": {},
     "output_type": "execute_result"
    }
   ],
   "source": [
    "df['tweet'][9]"
   ]
  },
  {
   "cell_type": "markdown",
   "metadata": {},
   "source": [
    "<a id='tweethash_tags'></a>**Tweet hastags |** Tweet hashtags are **hashtags found within the tweet & in many cases used to complete sentences. We would like to ensure this does not have an impact on model performance.** These hashtags should not be confused with the `hash` column; that column is for record keeping to confirm which hashtag was used to identify relevent `tweet`s for our project.\n",
    "\n",
    "**We will use an example from Joshua Wong (joshuawongcf)**, a notable Hong Kong activist turned politician. **Our decision to use Joshua herein should not be interpreted as showing preference or support for his cause.**\n",
    "\n",
    "**Our decision to use a tweet from Joshua, is based on his tendency to structure tweets in the manner outlined above.**"
   ]
  },
  {
   "cell_type": "code",
   "execution_count": 91,
   "metadata": {},
   "outputs": [],
   "source": [
    "# df['tweet'][174973]"
   ]
  },
  {
   "cell_type": "markdown",
   "metadata": {},
   "source": [
    "**There you may see that the following hashtags will be converted to the below once the hashtag is removed:**:\n",
    "   * #China --> China\n",
    "   * #HKers --> HKers\n",
    "   * #hkprotests --> hkprotests\n",
    "   * #Taiwan --> Taiwan\n"
   ]
  },
  {
   "cell_type": "code",
   "execution_count": null,
   "metadata": {},
   "outputs": [],
   "source": []
  },
  {
   "cell_type": "code",
   "execution_count": null,
   "metadata": {},
   "outputs": [],
   "source": []
  },
  {
   "cell_type": "markdown",
   "metadata": {},
   "source": [
    "<a id='emojis'></a>**Emojis |** Emoji or Emojis are pictograms, logograms, ideograms and smileys used in electronic messages and web pages. **They are relevant & their intentions should be preserved;** two examples shown below;\n",
    "   * One where the emoji is seperated from\n",
    "   * Another where it is not\n",
    "\n",
    "**We would like to ensure that the new `emoji word` is not connected with another word.**"
   ]
  },
  {
   "cell_type": "code",
   "execution_count": 92,
   "metadata": {},
   "outputs": [
    {
     "data": {
      "text/html": [
       "<div>\n",
       "<style scoped>\n",
       "    .dataframe tbody tr th:only-of-type {\n",
       "        vertical-align: middle;\n",
       "    }\n",
       "\n",
       "    .dataframe tbody tr th {\n",
       "        vertical-align: top;\n",
       "    }\n",
       "\n",
       "    .dataframe thead th {\n",
       "        text-align: right;\n",
       "    }\n",
       "</style>\n",
       "<table border=\"1\" class=\"dataframe\">\n",
       "  <thead>\n",
       "    <tr style=\"text-align: right;\">\n",
       "      <th></th>\n",
       "      <th>hash</th>\n",
       "      <th>created_at</th>\n",
       "      <th>username</th>\n",
       "      <th>tweet</th>\n",
       "      <th>replies_count</th>\n",
       "      <th>retweets_count</th>\n",
       "      <th>likes_count</th>\n",
       "      <th>reply_to</th>\n",
       "      <th>hashtags</th>\n",
       "    </tr>\n",
       "  </thead>\n",
       "  <tbody>\n",
       "    <tr>\n",
       "      <th>0</th>\n",
       "      <td>#FightForHongKong</td>\n",
       "      <td>2020-08-28</td>\n",
       "      <td>ginny81025554</td>\n",
       "      <td>Thanks for speaking up for us #fridaysforfre...</td>\n",
       "      <td>0</td>\n",
       "      <td>1</td>\n",
       "      <td>2</td>\n",
       "      <td>[{'screen_name': 'benedictrogers', 'name': 'Be...</td>\n",
       "      <td>['fridaysforfreedom', 'fightforhongkong']</td>\n",
       "    </tr>\n",
       "    <tr>\n",
       "      <th>1</th>\n",
       "      <td>#FightForHongKong</td>\n",
       "      <td>2020-08-25</td>\n",
       "      <td>peterhjorth_ddp</td>\n",
       "      <td>How to stop China in Hong Kong. Read the new r...</td>\n",
       "      <td>0</td>\n",
       "      <td>0</td>\n",
       "      <td>0</td>\n",
       "      <td>[]</td>\n",
       "      <td>['dkpol', 'kina', 'hongkongprotest', 'fightfor...</td>\n",
       "    </tr>\n",
       "    <tr>\n",
       "      <th>2</th>\n",
       "      <td>#FightForHongKong</td>\n",
       "      <td>2020-08-24</td>\n",
       "      <td>peterhjorth_ddp</td>\n",
       "      <td>How to stop China in Hong Kong. Read the new r...</td>\n",
       "      <td>0</td>\n",
       "      <td>0</td>\n",
       "      <td>0</td>\n",
       "      <td>[]</td>\n",
       "      <td>['dkpol', 'kina', 'hongkongprotest', 'fightfor...</td>\n",
       "    </tr>\n",
       "    <tr>\n",
       "      <th>3</th>\n",
       "      <td>#FightForHongKong</td>\n",
       "      <td>2020-08-24</td>\n",
       "      <td>cipopolitik</td>\n",
       "      <td>War or communism?     #HongKongProtest #FightF...</td>\n",
       "      <td>0</td>\n",
       "      <td>0</td>\n",
       "      <td>1</td>\n",
       "      <td>[]</td>\n",
       "      <td>['hongkongprotest', 'fightforhongkong', 'prayf...</td>\n",
       "    </tr>\n",
       "    <tr>\n",
       "      <th>4</th>\n",
       "      <td>#FightForHongKong</td>\n",
       "      <td>2020-08-24</td>\n",
       "      <td>peterhjorth_ddp</td>\n",
       "      <td>How to stop China in Hong Kong. Read the new r...</td>\n",
       "      <td>0</td>\n",
       "      <td>0</td>\n",
       "      <td>0</td>\n",
       "      <td>[]</td>\n",
       "      <td>['dkpol', 'kina', 'hongkongprotest', 'fightfor...</td>\n",
       "    </tr>\n",
       "  </tbody>\n",
       "</table>\n",
       "</div>"
      ],
      "text/plain": [
       "                hash created_at         username  \\\n",
       "0  #FightForHongKong 2020-08-28    ginny81025554   \n",
       "1  #FightForHongKong 2020-08-25  peterhjorth_ddp   \n",
       "2  #FightForHongKong 2020-08-24  peterhjorth_ddp   \n",
       "3  #FightForHongKong 2020-08-24      cipopolitik   \n",
       "4  #FightForHongKong 2020-08-24  peterhjorth_ddp   \n",
       "\n",
       "                                               tweet  replies_count  \\\n",
       "0    Thanks for speaking up for us #fridaysforfre...              0   \n",
       "1  How to stop China in Hong Kong. Read the new r...              0   \n",
       "2  How to stop China in Hong Kong. Read the new r...              0   \n",
       "3  War or communism?     #HongKongProtest #FightF...              0   \n",
       "4  How to stop China in Hong Kong. Read the new r...              0   \n",
       "\n",
       "   retweets_count  likes_count  \\\n",
       "0               1            2   \n",
       "1               0            0   \n",
       "2               0            0   \n",
       "3               0            1   \n",
       "4               0            0   \n",
       "\n",
       "                                            reply_to  \\\n",
       "0  [{'screen_name': 'benedictrogers', 'name': 'Be...   \n",
       "1                                                 []   \n",
       "2                                                 []   \n",
       "3                                                 []   \n",
       "4                                                 []   \n",
       "\n",
       "                                            hashtags  \n",
       "0          ['fridaysforfreedom', 'fightforhongkong']  \n",
       "1  ['dkpol', 'kina', 'hongkongprotest', 'fightfor...  \n",
       "2  ['dkpol', 'kina', 'hongkongprotest', 'fightfor...  \n",
       "3  ['hongkongprotest', 'fightforhongkong', 'prayf...  \n",
       "4  ['dkpol', 'kina', 'hongkongprotest', 'fightfor...  "
      ]
     },
     "execution_count": 92,
     "metadata": {},
     "output_type": "execute_result"
    }
   ],
   "source": [
    "df.head()"
   ]
  },
  {
   "cell_type": "code",
   "execution_count": 93,
   "metadata": {},
   "outputs": [
    {
     "data": {
      "text/plain": [
       "174"
      ]
     },
     "execution_count": 93,
     "metadata": {},
     "output_type": "execute_result"
    }
   ],
   "source": [
    "len(df)"
   ]
  },
  {
   "cell_type": "code",
   "execution_count": 94,
   "metadata": {},
   "outputs": [],
   "source": [
    "# df['tweet'][22]"
   ]
  },
  {
   "cell_type": "code",
   "execution_count": 95,
   "metadata": {},
   "outputs": [],
   "source": [
    "# df['tweet'][425]"
   ]
  },
  {
   "cell_type": "markdown",
   "metadata": {},
   "source": [
    "We must first build the required `def` variable to **convert the emojis to text**."
   ]
  },
  {
   "cell_type": "code",
   "execution_count": 96,
   "metadata": {},
   "outputs": [],
   "source": [
    "with open('Emoji_Dict.p', 'rb') as fp:\n",
    "    Emoji_Dict = pickle.load(fp)\n",
    "Emoji_Dict = {v: k for k, v in Emoji_Dict.items()}\n",
    "\n",
    "def convert_emojis_to_word(text):\n",
    "    for emot in Emoji_Dict:\n",
    "        text = re.sub(r'('+emot+')', \" \"+\"_\".join(Emoji_Dict[emot].replace(\",\",\" \").replace(\":\",\" \").split())+\" \", text)\n",
    "    return text"
   ]
  },
  {
   "cell_type": "code",
   "execution_count": 97,
   "metadata": {},
   "outputs": [
    {
     "data": {
      "text/plain": [
       "'Heartbreaking...😭 we have to do whatever we can do to #FightForHongKong  #StandWithHongKong'"
      ]
     },
     "execution_count": 97,
     "metadata": {},
     "output_type": "execute_result"
    }
   ],
   "source": [
    "df.tweet[12]"
   ]
  },
  {
   "cell_type": "code",
   "execution_count": 98,
   "metadata": {},
   "outputs": [],
   "source": [
    "df['tweet'] =  df.tweet.apply(lambda x: convert_emojis_to_word(x))"
   ]
  },
  {
   "cell_type": "code",
   "execution_count": 99,
   "metadata": {},
   "outputs": [
    {
     "data": {
      "text/plain": [
       "'Heartbreaking... loudly_crying_face  we have to do whatever we can do to #FightForHongKong  #StandWithHongKong'"
      ]
     },
     "execution_count": 99,
     "metadata": {},
     "output_type": "execute_result"
    }
   ],
   "source": [
    "df.tweet[12]"
   ]
  },
  {
   "cell_type": "markdown",
   "metadata": {},
   "source": [
    "**Looks like the emoji was converted ( near the end )**"
   ]
  },
  {
   "cell_type": "code",
   "execution_count": null,
   "metadata": {},
   "outputs": [],
   "source": []
  },
  {
   "cell_type": "markdown",
   "metadata": {},
   "source": [
    "<a id='profanity'></a>**Profanity |** The data frame should not contain profanity; **I will replace profanity with the word `NEGATIVE`**. I will not show examples of what was replaced herein for professional reasons."
   ]
  },
  {
   "cell_type": "markdown",
   "metadata": {},
   "source": [
    "Similar to the emoji section, we will first **need to establish a `def variable` to handle profanity.**\n",
    "\n",
    "This **`def variable` will assign a bad word to the word NEGATIVE** to ensure **it holds weight for NLP.**"
   ]
  },
  {
   "cell_type": "code",
   "execution_count": 100,
   "metadata": {},
   "outputs": [],
   "source": [
    "prof_word = 'NEGATIVE'\n",
    "\n",
    "def clean_text(__main__):\n",
    "    if __name__ == \"__main__\":\n",
    "        text = __main__\n",
    "        censor_text = profanity.censor(text, '%')\n",
    "        censor_text = re.sub('%%%%','NEGATIVE',censor_text)\n",
    "        return censor_text"
   ]
  },
  {
   "cell_type": "code",
   "execution_count": 101,
   "metadata": {},
   "outputs": [
    {
     "name": "stdout",
     "output_type": "stream",
     "text": [
      " For transparency purposes, the word NEGATIVE has a length of 8 characters. \n",
      " All profanity words are treated equally, irrespective of their word lengths.\n"
     ]
    }
   ],
   "source": [
    "print(' For transparency purposes, the word',prof_word,'has a length of',len(prof_word),'characters.','\\n'\n",
    "      ' All profanity words are treated equally, irrespective of their word lengths.')"
   ]
  },
  {
   "cell_type": "code",
   "execution_count": 102,
   "metadata": {},
   "outputs": [],
   "source": [
    "df['tweet'] =  df.tweet.apply(lambda x: clean_text(x))"
   ]
  },
  {
   "cell_type": "code",
   "execution_count": 103,
   "metadata": {},
   "outputs": [
    {
     "data": {
      "text/plain": [
       "' CORRUPT AS NEGATIVE - [ ] #PL #PremierLeague #PremierLeagueIsCorrupt #NUFC #NUFCTakeover #Hongkongprotest #Uighurs #budfootball #BudweiserUK #Nike #nikefootball #CarlsbergUK #AveryDennison   #OfficialPanini #CocaCola_GB #CocaCola #barclaysuknews #BarclaysFooty #EA #EASPORTS #TAGHeuer  '"
      ]
     },
     "execution_count": 103,
     "metadata": {},
     "output_type": "execute_result"
    }
   ],
   "source": [
    "df.tweet[58]"
   ]
  },
  {
   "cell_type": "code",
   "execution_count": 104,
   "metadata": {},
   "outputs": [
    {
     "data": {
      "text/html": [
       "<div>\n",
       "<style scoped>\n",
       "    .dataframe tbody tr th:only-of-type {\n",
       "        vertical-align: middle;\n",
       "    }\n",
       "\n",
       "    .dataframe tbody tr th {\n",
       "        vertical-align: top;\n",
       "    }\n",
       "\n",
       "    .dataframe thead th {\n",
       "        text-align: right;\n",
       "    }\n",
       "</style>\n",
       "<table border=\"1\" class=\"dataframe\">\n",
       "  <thead>\n",
       "    <tr style=\"text-align: right;\">\n",
       "      <th></th>\n",
       "      <th>hash</th>\n",
       "      <th>created_at</th>\n",
       "      <th>username</th>\n",
       "      <th>tweet</th>\n",
       "      <th>replies_count</th>\n",
       "      <th>retweets_count</th>\n",
       "      <th>likes_count</th>\n",
       "      <th>reply_to</th>\n",
       "      <th>hashtags</th>\n",
       "    </tr>\n",
       "  </thead>\n",
       "  <tbody>\n",
       "    <tr>\n",
       "      <th>0</th>\n",
       "      <td>#FightForHongKong</td>\n",
       "      <td>2020-08-28</td>\n",
       "      <td>ginny81025554</td>\n",
       "      <td>Thanks for speaking up for us #fridaysforfre...</td>\n",
       "      <td>0</td>\n",
       "      <td>1</td>\n",
       "      <td>2</td>\n",
       "      <td>[{'screen_name': 'benedictrogers', 'name': 'Be...</td>\n",
       "      <td>['fridaysforfreedom', 'fightforhongkong']</td>\n",
       "    </tr>\n",
       "  </tbody>\n",
       "</table>\n",
       "</div>"
      ],
      "text/plain": [
       "                hash created_at       username  \\\n",
       "0  #FightForHongKong 2020-08-28  ginny81025554   \n",
       "\n",
       "                                               tweet  replies_count  \\\n",
       "0    Thanks for speaking up for us #fridaysforfre...              0   \n",
       "\n",
       "   retweets_count  likes_count  \\\n",
       "0               1            2   \n",
       "\n",
       "                                            reply_to  \\\n",
       "0  [{'screen_name': 'benedictrogers', 'name': 'Be...   \n",
       "\n",
       "                                    hashtags  \n",
       "0  ['fridaysforfreedom', 'fightforhongkong']  "
      ]
     },
     "execution_count": 104,
     "metadata": {},
     "output_type": "execute_result"
    }
   ],
   "source": [
    "df.head(1)"
   ]
  },
  {
   "cell_type": "markdown",
   "metadata": {},
   "source": [
    "**Worked**"
   ]
  },
  {
   "cell_type": "code",
   "execution_count": null,
   "metadata": {},
   "outputs": [],
   "source": []
  },
  {
   "cell_type": "markdown",
   "metadata": {},
   "source": [
    "<a id='flanguage'></a>**Foreign Languages |** Despite limiting our languages to `en`, foreign languages remain; notably Chinese characters. We will translate them to English."
   ]
  },
  {
   "cell_type": "code",
   "execution_count": 105,
   "metadata": {},
   "outputs": [],
   "source": [
    "import copy\n",
    "import pandas as pd\n",
    "from googletrans import Translator\n",
    "translator=Translator()"
   ]
  },
  {
   "cell_type": "code",
   "execution_count": 106,
   "metadata": {},
   "outputs": [],
   "source": [
    "translated = translator.translate('你好', src='zh-cn', dest='en')"
   ]
  },
  {
   "cell_type": "code",
   "execution_count": 107,
   "metadata": {},
   "outputs": [
    {
     "name": "stdout",
     "output_type": "stream",
     "text": [
      "Hello there\n"
     ]
    }
   ],
   "source": [
    "print(translated.text)"
   ]
  },
  {
   "cell_type": "code",
   "execution_count": 108,
   "metadata": {},
   "outputs": [],
   "source": [
    "translated_sent = translator.translate('你好, my name is 兰德.', src='zh-cn', dest='en')"
   ]
  },
  {
   "cell_type": "code",
   "execution_count": 109,
   "metadata": {},
   "outputs": [
    {
     "name": "stdout",
     "output_type": "stream",
     "text": [
      "Hello, my name is Rand.\n"
     ]
    }
   ],
   "source": [
    "print(translated_sent.text)"
   ]
  },
  {
   "cell_type": "markdown",
   "metadata": {},
   "source": [
    "**FOREIGN LANGUAGE NOT INCLUDED HEREIN BUT THE ABOVE SHOWS HOW IT MAY END UP WORKING**"
   ]
  },
  {
   "cell_type": "code",
   "execution_count": null,
   "metadata": {},
   "outputs": [],
   "source": []
  },
  {
   "cell_type": "markdown",
   "metadata": {},
   "source": [
    "<a id='sia'></a>**Sentiment Intensity Analyzer |** Here we will score the tweets based the words they used; sometimes call ' opinion mining'."
   ]
  },
  {
   "cell_type": "markdown",
   "metadata": {},
   "source": [
    "We will take a look at Sentiment Analysis in a **the process of ‘computationally’ determining the the percent probabilities of whether a tweet is one of the below**: \n",
    "   * Positive, \n",
    "   * Negative or \n",
    "   * Neutral\n",
    "\n",
    "It’s also known as opinion mining, deriving the opinion or attitude of the \"tweeter\". **The probabilities will add up to 100%.**"
   ]
  },
  {
   "cell_type": "code",
   "execution_count": 110,
   "metadata": {},
   "outputs": [],
   "source": [
    "analyzer = SentimentIntensityAnalyzer()"
   ]
  },
  {
   "cell_type": "markdown",
   "metadata": {},
   "source": [
    "**THE BELOW ARE NEW LINES**"
   ]
  },
  {
   "cell_type": "code",
   "execution_count": 111,
   "metadata": {},
   "outputs": [
    {
     "data": {
      "text/plain": [
       "'  Thanks for speaking up for us #fridaysforfreedom #fightforhongkong  '"
      ]
     },
     "execution_count": 111,
     "metadata": {},
     "output_type": "execute_result"
    }
   ],
   "source": [
    "df['tweet'][0]"
   ]
  },
  {
   "cell_type": "code",
   "execution_count": 112,
   "metadata": {},
   "outputs": [
    {
     "data": {
      "text/plain": [
       "0        Thanks for speaking up for us #fridaysforfre...\n",
       "1      How to stop China in Hong Kong. Read the new r...\n",
       "2      How to stop China in Hong Kong. Read the new r...\n",
       "3      War or communism?     #HongKongProtest #FightF...\n",
       "4      How to stop China in Hong Kong. Read the new r...\n",
       "                             ...                        \n",
       "169    Thanks Hongkonger in US. _the_Hkers   #antiela...\n",
       "170    #HongKongProtest : Anger mounts as police are ...\n",
       "171    #Yellow Lunch  raised_hand_with_fingers_splaye...\n",
       "172    This is totally ridiculous. #CCP  #HongKong  #...\n",
       "173    Blackbloc tomorrow, HKgers reunion! In the dar...\n",
       "Name: tweet, Length: 174, dtype: object"
      ]
     },
     "execution_count": 112,
     "metadata": {},
     "output_type": "execute_result"
    }
   ],
   "source": [
    "df.tweet"
   ]
  },
  {
   "cell_type": "code",
   "execution_count": 113,
   "metadata": {},
   "outputs": [
    {
     "data": {
      "text/plain": [
       "174"
      ]
     },
     "execution_count": 113,
     "metadata": {},
     "output_type": "execute_result"
    }
   ],
   "source": [
    "len(df)"
   ]
  },
  {
   "cell_type": "code",
   "execution_count": 114,
   "metadata": {},
   "outputs": [],
   "source": [
    "# df['tweet'] = str(df.tweet)"
   ]
  },
  {
   "cell_type": "code",
   "execution_count": null,
   "metadata": {},
   "outputs": [],
   "source": []
  },
  {
   "cell_type": "markdown",
   "metadata": {},
   "source": [
    "**ABOVE ARE THE NEW LINES**"
   ]
  },
  {
   "cell_type": "code",
   "execution_count": 115,
   "metadata": {},
   "outputs": [
    {
     "data": {
      "text/plain": [
       "Index(['hash', 'created_at', 'username', 'tweet', 'replies_count',\n",
       "       'retweets_count', 'likes_count', 'reply_to', 'hashtags'],\n",
       "      dtype='object')"
      ]
     },
     "execution_count": 115,
     "metadata": {},
     "output_type": "execute_result"
    }
   ],
   "source": [
    "df.columns"
   ]
  },
  {
   "cell_type": "code",
   "execution_count": 116,
   "metadata": {},
   "outputs": [
    {
     "data": {
      "text/html": [
       "<div>\n",
       "<style scoped>\n",
       "    .dataframe tbody tr th:only-of-type {\n",
       "        vertical-align: middle;\n",
       "    }\n",
       "\n",
       "    .dataframe tbody tr th {\n",
       "        vertical-align: top;\n",
       "    }\n",
       "\n",
       "    .dataframe thead th {\n",
       "        text-align: right;\n",
       "    }\n",
       "</style>\n",
       "<table border=\"1\" class=\"dataframe\">\n",
       "  <thead>\n",
       "    <tr style=\"text-align: right;\">\n",
       "      <th></th>\n",
       "      <th>hash</th>\n",
       "      <th>created_at</th>\n",
       "      <th>username</th>\n",
       "      <th>tweet</th>\n",
       "      <th>replies_count</th>\n",
       "      <th>retweets_count</th>\n",
       "      <th>likes_count</th>\n",
       "      <th>reply_to</th>\n",
       "      <th>hashtags</th>\n",
       "    </tr>\n",
       "  </thead>\n",
       "  <tbody>\n",
       "    <tr>\n",
       "      <th>0</th>\n",
       "      <td>#FightForHongKong</td>\n",
       "      <td>2020-08-28</td>\n",
       "      <td>ginny81025554</td>\n",
       "      <td>Thanks for speaking up for us #fridaysforfre...</td>\n",
       "      <td>0</td>\n",
       "      <td>1</td>\n",
       "      <td>2</td>\n",
       "      <td>[{'screen_name': 'benedictrogers', 'name': 'Be...</td>\n",
       "      <td>['fridaysforfreedom', 'fightforhongkong']</td>\n",
       "    </tr>\n",
       "    <tr>\n",
       "      <th>1</th>\n",
       "      <td>#FightForHongKong</td>\n",
       "      <td>2020-08-25</td>\n",
       "      <td>peterhjorth_ddp</td>\n",
       "      <td>How to stop China in Hong Kong. Read the new r...</td>\n",
       "      <td>0</td>\n",
       "      <td>0</td>\n",
       "      <td>0</td>\n",
       "      <td>[]</td>\n",
       "      <td>['dkpol', 'kina', 'hongkongprotest', 'fightfor...</td>\n",
       "    </tr>\n",
       "    <tr>\n",
       "      <th>2</th>\n",
       "      <td>#FightForHongKong</td>\n",
       "      <td>2020-08-24</td>\n",
       "      <td>peterhjorth_ddp</td>\n",
       "      <td>How to stop China in Hong Kong. Read the new r...</td>\n",
       "      <td>0</td>\n",
       "      <td>0</td>\n",
       "      <td>0</td>\n",
       "      <td>[]</td>\n",
       "      <td>['dkpol', 'kina', 'hongkongprotest', 'fightfor...</td>\n",
       "    </tr>\n",
       "  </tbody>\n",
       "</table>\n",
       "</div>"
      ],
      "text/plain": [
       "                hash created_at         username  \\\n",
       "0  #FightForHongKong 2020-08-28    ginny81025554   \n",
       "1  #FightForHongKong 2020-08-25  peterhjorth_ddp   \n",
       "2  #FightForHongKong 2020-08-24  peterhjorth_ddp   \n",
       "\n",
       "                                               tweet  replies_count  \\\n",
       "0    Thanks for speaking up for us #fridaysforfre...              0   \n",
       "1  How to stop China in Hong Kong. Read the new r...              0   \n",
       "2  How to stop China in Hong Kong. Read the new r...              0   \n",
       "\n",
       "   retweets_count  likes_count  \\\n",
       "0               1            2   \n",
       "1               0            0   \n",
       "2               0            0   \n",
       "\n",
       "                                            reply_to  \\\n",
       "0  [{'screen_name': 'benedictrogers', 'name': 'Be...   \n",
       "1                                                 []   \n",
       "2                                                 []   \n",
       "\n",
       "                                            hashtags  \n",
       "0          ['fridaysforfreedom', 'fightforhongkong']  \n",
       "1  ['dkpol', 'kina', 'hongkongprotest', 'fightfor...  \n",
       "2  ['dkpol', 'kina', 'hongkongprotest', 'fightfor...  "
      ]
     },
     "execution_count": 116,
     "metadata": {},
     "output_type": "execute_result"
    }
   ],
   "source": [
    "df.head(3)"
   ]
  },
  {
   "cell_type": "code",
   "execution_count": 117,
   "metadata": {},
   "outputs": [],
   "source": [
    "#We will assign the tweets to a new dataframe & then put it back to the main one at the end\n",
    "df_sentiment_tweet = pd.DataFrame(df['tweet'].copy())\n",
    "df_sentiment_tweet['comp'] = [analyzer.polarity_scores(x)['compound'] for x in df_sentiment_tweet['tweet']]\n",
    "df_sentiment_tweet['neg'] = [analyzer.polarity_scores(x)['neg'] for x in df_sentiment_tweet['tweet']]\n",
    "df_sentiment_tweet['neu'] = [analyzer.polarity_scores(x)['neu'] for x in df_sentiment_tweet['tweet']]\n",
    "df_sentiment_tweet['pos'] = [analyzer.polarity_scores(x)['pos'] for x in df_sentiment_tweet['tweet']]"
   ]
  },
  {
   "cell_type": "code",
   "execution_count": 118,
   "metadata": {},
   "outputs": [
    {
     "data": {
      "text/plain": [
       "pandas.core.frame.DataFrame"
      ]
     },
     "execution_count": 118,
     "metadata": {},
     "output_type": "execute_result"
    }
   ],
   "source": [
    "type(df_sentiment_tweet)"
   ]
  },
  {
   "cell_type": "code",
   "execution_count": 119,
   "metadata": {},
   "outputs": [
    {
     "data": {
      "text/html": [
       "<div>\n",
       "<style scoped>\n",
       "    .dataframe tbody tr th:only-of-type {\n",
       "        vertical-align: middle;\n",
       "    }\n",
       "\n",
       "    .dataframe tbody tr th {\n",
       "        vertical-align: top;\n",
       "    }\n",
       "\n",
       "    .dataframe thead th {\n",
       "        text-align: right;\n",
       "    }\n",
       "</style>\n",
       "<table border=\"1\" class=\"dataframe\">\n",
       "  <thead>\n",
       "    <tr style=\"text-align: right;\">\n",
       "      <th></th>\n",
       "      <th>tweet</th>\n",
       "      <th>comp</th>\n",
       "      <th>neg</th>\n",
       "      <th>neu</th>\n",
       "      <th>pos</th>\n",
       "    </tr>\n",
       "  </thead>\n",
       "  <tbody>\n",
       "    <tr>\n",
       "      <th>0</th>\n",
       "      <td>Thanks for speaking up for us #fridaysforfre...</td>\n",
       "      <td>0.4404</td>\n",
       "      <td>0.000</td>\n",
       "      <td>0.707</td>\n",
       "      <td>0.293</td>\n",
       "    </tr>\n",
       "    <tr>\n",
       "      <th>1</th>\n",
       "      <td>How to stop China in Hong Kong. Read the new r...</td>\n",
       "      <td>-0.2960</td>\n",
       "      <td>0.071</td>\n",
       "      <td>0.929</td>\n",
       "      <td>0.000</td>\n",
       "    </tr>\n",
       "  </tbody>\n",
       "</table>\n",
       "</div>"
      ],
      "text/plain": [
       "                                               tweet    comp    neg    neu  \\\n",
       "0    Thanks for speaking up for us #fridaysforfre...  0.4404  0.000  0.707   \n",
       "1  How to stop China in Hong Kong. Read the new r... -0.2960  0.071  0.929   \n",
       "\n",
       "     pos  \n",
       "0  0.293  \n",
       "1  0.000  "
      ]
     },
     "execution_count": 119,
     "metadata": {},
     "output_type": "execute_result"
    }
   ],
   "source": [
    "df_sentiment_tweet.head(2)"
   ]
  },
  {
   "cell_type": "code",
   "execution_count": 120,
   "metadata": {},
   "outputs": [
    {
     "data": {
      "text/html": [
       "<div>\n",
       "<style scoped>\n",
       "    .dataframe tbody tr th:only-of-type {\n",
       "        vertical-align: middle;\n",
       "    }\n",
       "\n",
       "    .dataframe tbody tr th {\n",
       "        vertical-align: top;\n",
       "    }\n",
       "\n",
       "    .dataframe thead th {\n",
       "        text-align: right;\n",
       "    }\n",
       "</style>\n",
       "<table border=\"1\" class=\"dataframe\">\n",
       "  <thead>\n",
       "    <tr style=\"text-align: right;\">\n",
       "      <th></th>\n",
       "      <th>comp</th>\n",
       "      <th>neg</th>\n",
       "      <th>neu</th>\n",
       "      <th>pos</th>\n",
       "    </tr>\n",
       "  </thead>\n",
       "  <tbody>\n",
       "    <tr>\n",
       "      <th>count</th>\n",
       "      <td>174.000000</td>\n",
       "      <td>174.000000</td>\n",
       "      <td>174.000000</td>\n",
       "      <td>174.000000</td>\n",
       "    </tr>\n",
       "    <tr>\n",
       "      <th>mean</th>\n",
       "      <td>-0.026440</td>\n",
       "      <td>0.093270</td>\n",
       "      <td>0.839891</td>\n",
       "      <td>0.066759</td>\n",
       "    </tr>\n",
       "    <tr>\n",
       "      <th>std</th>\n",
       "      <td>0.427747</td>\n",
       "      <td>0.121943</td>\n",
       "      <td>0.152767</td>\n",
       "      <td>0.106759</td>\n",
       "    </tr>\n",
       "    <tr>\n",
       "      <th>min</th>\n",
       "      <td>-0.880700</td>\n",
       "      <td>0.000000</td>\n",
       "      <td>0.459000</td>\n",
       "      <td>0.000000</td>\n",
       "    </tr>\n",
       "    <tr>\n",
       "      <th>25%</th>\n",
       "      <td>-0.296000</td>\n",
       "      <td>0.000000</td>\n",
       "      <td>0.687750</td>\n",
       "      <td>0.000000</td>\n",
       "    </tr>\n",
       "    <tr>\n",
       "      <th>50%</th>\n",
       "      <td>0.000000</td>\n",
       "      <td>0.000000</td>\n",
       "      <td>0.841000</td>\n",
       "      <td>0.000000</td>\n",
       "    </tr>\n",
       "    <tr>\n",
       "      <th>75%</th>\n",
       "      <td>0.354050</td>\n",
       "      <td>0.152750</td>\n",
       "      <td>1.000000</td>\n",
       "      <td>0.169250</td>\n",
       "    </tr>\n",
       "    <tr>\n",
       "      <th>max</th>\n",
       "      <td>0.890600</td>\n",
       "      <td>0.474000</td>\n",
       "      <td>1.000000</td>\n",
       "      <td>0.494000</td>\n",
       "    </tr>\n",
       "  </tbody>\n",
       "</table>\n",
       "</div>"
      ],
      "text/plain": [
       "             comp         neg         neu         pos\n",
       "count  174.000000  174.000000  174.000000  174.000000\n",
       "mean    -0.026440    0.093270    0.839891    0.066759\n",
       "std      0.427747    0.121943    0.152767    0.106759\n",
       "min     -0.880700    0.000000    0.459000    0.000000\n",
       "25%     -0.296000    0.000000    0.687750    0.000000\n",
       "50%      0.000000    0.000000    0.841000    0.000000\n",
       "75%      0.354050    0.152750    1.000000    0.169250\n",
       "max      0.890600    0.474000    1.000000    0.494000"
      ]
     },
     "execution_count": 120,
     "metadata": {},
     "output_type": "execute_result"
    }
   ],
   "source": [
    "df_sentiment_tweet.describe()"
   ]
  },
  {
   "cell_type": "code",
   "execution_count": 121,
   "metadata": {},
   "outputs": [],
   "source": [
    "df_sentiment_tweet = df_sentiment_tweet.drop(columns=['tweet'])"
   ]
  },
  {
   "cell_type": "code",
   "execution_count": 122,
   "metadata": {},
   "outputs": [
    {
     "data": {
      "text/html": [
       "<div>\n",
       "<style scoped>\n",
       "    .dataframe tbody tr th:only-of-type {\n",
       "        vertical-align: middle;\n",
       "    }\n",
       "\n",
       "    .dataframe tbody tr th {\n",
       "        vertical-align: top;\n",
       "    }\n",
       "\n",
       "    .dataframe thead th {\n",
       "        text-align: right;\n",
       "    }\n",
       "</style>\n",
       "<table border=\"1\" class=\"dataframe\">\n",
       "  <thead>\n",
       "    <tr style=\"text-align: right;\">\n",
       "      <th></th>\n",
       "      <th>comp</th>\n",
       "      <th>neg</th>\n",
       "      <th>neu</th>\n",
       "      <th>pos</th>\n",
       "    </tr>\n",
       "  </thead>\n",
       "  <tbody>\n",
       "    <tr>\n",
       "      <th>0</th>\n",
       "      <td>0.4404</td>\n",
       "      <td>0.0</td>\n",
       "      <td>0.707</td>\n",
       "      <td>0.293</td>\n",
       "    </tr>\n",
       "  </tbody>\n",
       "</table>\n",
       "</div>"
      ],
      "text/plain": [
       "     comp  neg    neu    pos\n",
       "0  0.4404  0.0  0.707  0.293"
      ]
     },
     "execution_count": 122,
     "metadata": {},
     "output_type": "execute_result"
    }
   ],
   "source": [
    "df_sentiment_tweet.head(1)"
   ]
  },
  {
   "cell_type": "code",
   "execution_count": null,
   "metadata": {},
   "outputs": [],
   "source": []
  },
  {
   "cell_type": "code",
   "execution_count": null,
   "metadata": {},
   "outputs": [],
   "source": []
  },
  {
   "cell_type": "code",
   "execution_count": 123,
   "metadata": {},
   "outputs": [],
   "source": [
    "df = pd.concat([df, df_sentiment_tweet], axis=1)\n",
    "# df = df.drop(columns = ['key_0'], axis=1)"
   ]
  },
  {
   "cell_type": "code",
   "execution_count": 124,
   "metadata": {},
   "outputs": [
    {
     "data": {
      "text/html": [
       "<div>\n",
       "<style scoped>\n",
       "    .dataframe tbody tr th:only-of-type {\n",
       "        vertical-align: middle;\n",
       "    }\n",
       "\n",
       "    .dataframe tbody tr th {\n",
       "        vertical-align: top;\n",
       "    }\n",
       "\n",
       "    .dataframe thead th {\n",
       "        text-align: right;\n",
       "    }\n",
       "</style>\n",
       "<table border=\"1\" class=\"dataframe\">\n",
       "  <thead>\n",
       "    <tr style=\"text-align: right;\">\n",
       "      <th></th>\n",
       "      <th>hash</th>\n",
       "      <th>created_at</th>\n",
       "      <th>username</th>\n",
       "      <th>tweet</th>\n",
       "      <th>replies_count</th>\n",
       "      <th>retweets_count</th>\n",
       "      <th>likes_count</th>\n",
       "      <th>reply_to</th>\n",
       "      <th>hashtags</th>\n",
       "      <th>comp</th>\n",
       "      <th>neg</th>\n",
       "      <th>neu</th>\n",
       "      <th>pos</th>\n",
       "    </tr>\n",
       "  </thead>\n",
       "  <tbody>\n",
       "    <tr>\n",
       "      <th>0</th>\n",
       "      <td>#FightForHongKong</td>\n",
       "      <td>2020-08-28</td>\n",
       "      <td>ginny81025554</td>\n",
       "      <td>Thanks for speaking up for us #fridaysforfre...</td>\n",
       "      <td>0</td>\n",
       "      <td>1</td>\n",
       "      <td>2</td>\n",
       "      <td>[{'screen_name': 'benedictrogers', 'name': 'Be...</td>\n",
       "      <td>['fridaysforfreedom', 'fightforhongkong']</td>\n",
       "      <td>0.4404</td>\n",
       "      <td>0.000</td>\n",
       "      <td>0.707</td>\n",
       "      <td>0.293</td>\n",
       "    </tr>\n",
       "    <tr>\n",
       "      <th>1</th>\n",
       "      <td>#FightForHongKong</td>\n",
       "      <td>2020-08-25</td>\n",
       "      <td>peterhjorth_ddp</td>\n",
       "      <td>How to stop China in Hong Kong. Read the new r...</td>\n",
       "      <td>0</td>\n",
       "      <td>0</td>\n",
       "      <td>0</td>\n",
       "      <td>[]</td>\n",
       "      <td>['dkpol', 'kina', 'hongkongprotest', 'fightfor...</td>\n",
       "      <td>-0.2960</td>\n",
       "      <td>0.071</td>\n",
       "      <td>0.929</td>\n",
       "      <td>0.000</td>\n",
       "    </tr>\n",
       "  </tbody>\n",
       "</table>\n",
       "</div>"
      ],
      "text/plain": [
       "                hash created_at         username  \\\n",
       "0  #FightForHongKong 2020-08-28    ginny81025554   \n",
       "1  #FightForHongKong 2020-08-25  peterhjorth_ddp   \n",
       "\n",
       "                                               tweet  replies_count  \\\n",
       "0    Thanks for speaking up for us #fridaysforfre...              0   \n",
       "1  How to stop China in Hong Kong. Read the new r...              0   \n",
       "\n",
       "   retweets_count  likes_count  \\\n",
       "0               1            2   \n",
       "1               0            0   \n",
       "\n",
       "                                            reply_to  \\\n",
       "0  [{'screen_name': 'benedictrogers', 'name': 'Be...   \n",
       "1                                                 []   \n",
       "\n",
       "                                            hashtags    comp    neg    neu  \\\n",
       "0          ['fridaysforfreedom', 'fightforhongkong']  0.4404  0.000  0.707   \n",
       "1  ['dkpol', 'kina', 'hongkongprotest', 'fightfor... -0.2960  0.071  0.929   \n",
       "\n",
       "     pos  \n",
       "0  0.293  \n",
       "1  0.000  "
      ]
     },
     "execution_count": 124,
     "metadata": {},
     "output_type": "execute_result"
    }
   ],
   "source": [
    "df.head(2)"
   ]
  },
  {
   "cell_type": "code",
   "execution_count": 125,
   "metadata": {},
   "outputs": [
    {
     "data": {
      "text/plain": [
       "(174, 13)"
      ]
     },
     "execution_count": 125,
     "metadata": {},
     "output_type": "execute_result"
    }
   ],
   "source": [
    "df.shape"
   ]
  },
  {
   "cell_type": "markdown",
   "metadata": {},
   "source": [
    "Complete."
   ]
  },
  {
   "cell_type": "code",
   "execution_count": null,
   "metadata": {},
   "outputs": [],
   "source": []
  },
  {
   "cell_type": "markdown",
   "metadata": {},
   "source": [
    "<a id='stop_words'></a>**Stop Words |** We will now remove stop words from the tweet."
   ]
  },
  {
   "cell_type": "code",
   "execution_count": 126,
   "metadata": {
    "scrolled": true
   },
   "outputs": [
    {
     "data": {
      "text/html": [
       "<div>\n",
       "<style scoped>\n",
       "    .dataframe tbody tr th:only-of-type {\n",
       "        vertical-align: middle;\n",
       "    }\n",
       "\n",
       "    .dataframe tbody tr th {\n",
       "        vertical-align: top;\n",
       "    }\n",
       "\n",
       "    .dataframe thead th {\n",
       "        text-align: right;\n",
       "    }\n",
       "</style>\n",
       "<table border=\"1\" class=\"dataframe\">\n",
       "  <thead>\n",
       "    <tr style=\"text-align: right;\">\n",
       "      <th></th>\n",
       "      <th>tweet</th>\n",
       "    </tr>\n",
       "  </thead>\n",
       "  <tbody>\n",
       "    <tr>\n",
       "      <th>0</th>\n",
       "      <td>Thanks for speaking up for us #fridaysforfre...</td>\n",
       "    </tr>\n",
       "    <tr>\n",
       "      <th>1</th>\n",
       "      <td>How to stop China in Hong Kong. Read the new r...</td>\n",
       "    </tr>\n",
       "  </tbody>\n",
       "</table>\n",
       "</div>"
      ],
      "text/plain": [
       "                                               tweet\n",
       "0    Thanks for speaking up for us #fridaysforfre...\n",
       "1  How to stop China in Hong Kong. Read the new r..."
      ]
     },
     "execution_count": 126,
     "metadata": {},
     "output_type": "execute_result"
    }
   ],
   "source": [
    "# here we will assign a new dataframe to pull out stop words & then reassign it back at the end.\n",
    "df_tweet_stopwords_remove = pd.DataFrame(df['tweet'])\n",
    "df_tweet_stopwords_remove.head(2)"
   ]
  },
  {
   "cell_type": "code",
   "execution_count": 127,
   "metadata": {},
   "outputs": [
    {
     "data": {
      "text/html": [
       "<div>\n",
       "<style scoped>\n",
       "    .dataframe tbody tr th:only-of-type {\n",
       "        vertical-align: middle;\n",
       "    }\n",
       "\n",
       "    .dataframe tbody tr th {\n",
       "        vertical-align: top;\n",
       "    }\n",
       "\n",
       "    .dataframe thead th {\n",
       "        text-align: right;\n",
       "    }\n",
       "</style>\n",
       "<table border=\"1\" class=\"dataframe\">\n",
       "  <thead>\n",
       "    <tr style=\"text-align: right;\">\n",
       "      <th></th>\n",
       "      <th>tweet</th>\n",
       "    </tr>\n",
       "  </thead>\n",
       "  <tbody>\n",
       "    <tr>\n",
       "      <th>0</th>\n",
       "      <td>Thanks speaking us #fridaysforfreedom #fightfo...</td>\n",
       "    </tr>\n",
       "    <tr>\n",
       "      <th>1</th>\n",
       "      <td>How stop China Hong Kong. Read new report Dani...</td>\n",
       "    </tr>\n",
       "  </tbody>\n",
       "</table>\n",
       "</div>"
      ],
      "text/plain": [
       "                                               tweet\n",
       "0  Thanks speaking us #fridaysforfreedom #fightfo...\n",
       "1  How stop China Hong Kong. Read new report Dani..."
      ]
     },
     "execution_count": 127,
     "metadata": {},
     "output_type": "execute_result"
    }
   ],
   "source": [
    "df_tweet_stopwords_remove = df_tweet_stopwords_remove['tweet'].apply(lambda x: ' '.join([word for word in x.split() if word not in (stop)]))\n",
    "df_tweet_stopwords_remove = pd.DataFrame(df_tweet_stopwords_remove)\n",
    "df_tweet_stopwords_remove.head(2)"
   ]
  },
  {
   "cell_type": "markdown",
   "metadata": {},
   "source": [
    "**Looks like it worked** comparing the dataframe above to the dataframe prior to `stop word` removal.\n",
    "\n",
    "Now to push back to the main dataframe."
   ]
  },
  {
   "cell_type": "code",
   "execution_count": 128,
   "metadata": {},
   "outputs": [],
   "source": [
    "df.tweet = df_tweet_stopwords_remove.tweet"
   ]
  },
  {
   "cell_type": "code",
   "execution_count": 129,
   "metadata": {},
   "outputs": [
    {
     "data": {
      "text/html": [
       "<div>\n",
       "<style scoped>\n",
       "    .dataframe tbody tr th:only-of-type {\n",
       "        vertical-align: middle;\n",
       "    }\n",
       "\n",
       "    .dataframe tbody tr th {\n",
       "        vertical-align: top;\n",
       "    }\n",
       "\n",
       "    .dataframe thead th {\n",
       "        text-align: right;\n",
       "    }\n",
       "</style>\n",
       "<table border=\"1\" class=\"dataframe\">\n",
       "  <thead>\n",
       "    <tr style=\"text-align: right;\">\n",
       "      <th></th>\n",
       "      <th>hash</th>\n",
       "      <th>created_at</th>\n",
       "      <th>username</th>\n",
       "      <th>tweet</th>\n",
       "      <th>replies_count</th>\n",
       "      <th>retweets_count</th>\n",
       "      <th>likes_count</th>\n",
       "      <th>reply_to</th>\n",
       "      <th>hashtags</th>\n",
       "      <th>comp</th>\n",
       "      <th>neg</th>\n",
       "      <th>neu</th>\n",
       "      <th>pos</th>\n",
       "    </tr>\n",
       "  </thead>\n",
       "  <tbody>\n",
       "    <tr>\n",
       "      <th>0</th>\n",
       "      <td>#FightForHongKong</td>\n",
       "      <td>2020-08-28</td>\n",
       "      <td>ginny81025554</td>\n",
       "      <td>Thanks speaking us #fridaysforfreedom #fightfo...</td>\n",
       "      <td>0</td>\n",
       "      <td>1</td>\n",
       "      <td>2</td>\n",
       "      <td>[{'screen_name': 'benedictrogers', 'name': 'Be...</td>\n",
       "      <td>['fridaysforfreedom', 'fightforhongkong']</td>\n",
       "      <td>0.4404</td>\n",
       "      <td>0.000</td>\n",
       "      <td>0.707</td>\n",
       "      <td>0.293</td>\n",
       "    </tr>\n",
       "    <tr>\n",
       "      <th>1</th>\n",
       "      <td>#FightForHongKong</td>\n",
       "      <td>2020-08-25</td>\n",
       "      <td>peterhjorth_ddp</td>\n",
       "      <td>How stop China Hong Kong. Read new report Dani...</td>\n",
       "      <td>0</td>\n",
       "      <td>0</td>\n",
       "      <td>0</td>\n",
       "      <td>[]</td>\n",
       "      <td>['dkpol', 'kina', 'hongkongprotest', 'fightfor...</td>\n",
       "      <td>-0.2960</td>\n",
       "      <td>0.071</td>\n",
       "      <td>0.929</td>\n",
       "      <td>0.000</td>\n",
       "    </tr>\n",
       "  </tbody>\n",
       "</table>\n",
       "</div>"
      ],
      "text/plain": [
       "                hash created_at         username  \\\n",
       "0  #FightForHongKong 2020-08-28    ginny81025554   \n",
       "1  #FightForHongKong 2020-08-25  peterhjorth_ddp   \n",
       "\n",
       "                                               tweet  replies_count  \\\n",
       "0  Thanks speaking us #fridaysforfreedom #fightfo...              0   \n",
       "1  How stop China Hong Kong. Read new report Dani...              0   \n",
       "\n",
       "   retweets_count  likes_count  \\\n",
       "0               1            2   \n",
       "1               0            0   \n",
       "\n",
       "                                            reply_to  \\\n",
       "0  [{'screen_name': 'benedictrogers', 'name': 'Be...   \n",
       "1                                                 []   \n",
       "\n",
       "                                            hashtags    comp    neg    neu  \\\n",
       "0          ['fridaysforfreedom', 'fightforhongkong']  0.4404  0.000  0.707   \n",
       "1  ['dkpol', 'kina', 'hongkongprotest', 'fightfor... -0.2960  0.071  0.929   \n",
       "\n",
       "     pos  \n",
       "0  0.293  \n",
       "1  0.000  "
      ]
     },
     "execution_count": 129,
     "metadata": {},
     "output_type": "execute_result"
    }
   ],
   "source": [
    "df.head(2)"
   ]
  },
  {
   "cell_type": "code",
   "execution_count": 130,
   "metadata": {},
   "outputs": [
    {
     "data": {
      "text/plain": [
       "'Thanks speaking us #fridaysforfreedom #fightforhongkong'"
      ]
     },
     "execution_count": 130,
     "metadata": {},
     "output_type": "execute_result"
    }
   ],
   "source": [
    "df.tweet[0]"
   ]
  },
  {
   "cell_type": "code",
   "execution_count": null,
   "metadata": {},
   "outputs": [],
   "source": []
  },
  {
   "cell_type": "markdown",
   "metadata": {},
   "source": [
    "<a id='word_stem'></a>**Stemming |** Stemming is the process of reducing a word to its word stem that affixes to suffixes and prefixes or to the roots of words known as a lemma."
   ]
  },
  {
   "cell_type": "code",
   "execution_count": 131,
   "metadata": {},
   "outputs": [],
   "source": [
    "# First Cleaning the text; this was done in the previous section but to double confirm\n",
    "def clean_text(text):\n",
    "    text = \"\".join([c for c in text if c not in string.punctuation])\n",
    "    tokens = re.split('\\W+',text)\n",
    "    text = [word for word in tokens if word not in stopwords]\n",
    "    return text"
   ]
  },
  {
   "cell_type": "code",
   "execution_count": 132,
   "metadata": {},
   "outputs": [],
   "source": [
    "df_temp_stemmed = pd.DataFrame(df['tweet'].copy())"
   ]
  },
  {
   "cell_type": "code",
   "execution_count": 133,
   "metadata": {},
   "outputs": [
    {
     "data": {
      "text/html": [
       "<div>\n",
       "<style scoped>\n",
       "    .dataframe tbody tr th:only-of-type {\n",
       "        vertical-align: middle;\n",
       "    }\n",
       "\n",
       "    .dataframe tbody tr th {\n",
       "        vertical-align: top;\n",
       "    }\n",
       "\n",
       "    .dataframe thead th {\n",
       "        text-align: right;\n",
       "    }\n",
       "</style>\n",
       "<table border=\"1\" class=\"dataframe\">\n",
       "  <thead>\n",
       "    <tr style=\"text-align: right;\">\n",
       "      <th></th>\n",
       "      <th>tweet</th>\n",
       "      <th>tweet_nostop</th>\n",
       "    </tr>\n",
       "  </thead>\n",
       "  <tbody>\n",
       "    <tr>\n",
       "      <th>0</th>\n",
       "      <td>Thanks speaking us #fridaysforfreedom #fightfo...</td>\n",
       "      <td>[thanks, speaking, us, fridaysforfreedom, figh...</td>\n",
       "    </tr>\n",
       "    <tr>\n",
       "      <th>1</th>\n",
       "      <td>How stop China Hong Kong. Read new report Dani...</td>\n",
       "      <td>[stop, china, hong, kong, read, new, report, d...</td>\n",
       "    </tr>\n",
       "  </tbody>\n",
       "</table>\n",
       "</div>"
      ],
      "text/plain": [
       "                                               tweet  \\\n",
       "0  Thanks speaking us #fridaysforfreedom #fightfo...   \n",
       "1  How stop China Hong Kong. Read new report Dani...   \n",
       "\n",
       "                                        tweet_nostop  \n",
       "0  [thanks, speaking, us, fridaysforfreedom, figh...  \n",
       "1  [stop, china, hong, kong, read, new, report, d...  "
      ]
     },
     "execution_count": 133,
     "metadata": {},
     "output_type": "execute_result"
    }
   ],
   "source": [
    "df_temp_stemmed['tweet_nostop'] = df_temp_stemmed['tweet'].apply(lambda x: clean_text(x.lower()))\n",
    "df_temp_stemmed.head(2)"
   ]
  },
  {
   "cell_type": "code",
   "execution_count": 134,
   "metadata": {},
   "outputs": [],
   "source": [
    "# Stemming the text\n",
    "def stemming(token_text):\n",
    "    text = [ps.stem(word) for word in token_text]\n",
    "    return text"
   ]
  },
  {
   "cell_type": "code",
   "execution_count": 135,
   "metadata": {},
   "outputs": [
    {
     "data": {
      "text/html": [
       "<div>\n",
       "<style scoped>\n",
       "    .dataframe tbody tr th:only-of-type {\n",
       "        vertical-align: middle;\n",
       "    }\n",
       "\n",
       "    .dataframe tbody tr th {\n",
       "        vertical-align: top;\n",
       "    }\n",
       "\n",
       "    .dataframe thead th {\n",
       "        text-align: right;\n",
       "    }\n",
       "</style>\n",
       "<table border=\"1\" class=\"dataframe\">\n",
       "  <thead>\n",
       "    <tr style=\"text-align: right;\">\n",
       "      <th></th>\n",
       "      <th>tweet_nostop</th>\n",
       "      <th>tweet_stemmed</th>\n",
       "    </tr>\n",
       "  </thead>\n",
       "  <tbody>\n",
       "    <tr>\n",
       "      <th>0</th>\n",
       "      <td>[thanks, speaking, us, fridaysforfreedom, figh...</td>\n",
       "      <td>[thank, speak, us, fridaysforfreedom, fightfor...</td>\n",
       "    </tr>\n",
       "    <tr>\n",
       "      <th>1</th>\n",
       "      <td>[stop, china, hong, kong, read, new, report, d...</td>\n",
       "      <td>[stop, china, hong, kong, read, new, report, d...</td>\n",
       "    </tr>\n",
       "  </tbody>\n",
       "</table>\n",
       "</div>"
      ],
      "text/plain": [
       "                                        tweet_nostop  \\\n",
       "0  [thanks, speaking, us, fridaysforfreedom, figh...   \n",
       "1  [stop, china, hong, kong, read, new, report, d...   \n",
       "\n",
       "                                       tweet_stemmed  \n",
       "0  [thank, speak, us, fridaysforfreedom, fightfor...  \n",
       "1  [stop, china, hong, kong, read, new, report, d...  "
      ]
     },
     "execution_count": 135,
     "metadata": {},
     "output_type": "execute_result"
    }
   ],
   "source": [
    "df_temp_stemmed['tweet_stemmed'] = df_temp_stemmed['tweet_nostop'].apply(lambda x: stemming(x))\n",
    "df_temp_stemmed[['tweet_nostop','tweet_stemmed']].head(2)"
   ]
  },
  {
   "cell_type": "code",
   "execution_count": 136,
   "metadata": {},
   "outputs": [
    {
     "name": "stdout",
     "output_type": "stream",
     "text": [
      "A quick check to ascertain if the data frames are of equal length; the number below should be Zero: \n",
      " 0\n"
     ]
    }
   ],
   "source": [
    "print('A quick check to ascertain if the data frames are of equal length; the number below should be Zero:','\\n',\n",
    "     len(df_temp_stemmed) - len(df))"
   ]
  },
  {
   "cell_type": "markdown",
   "metadata": {},
   "source": [
    "Great let's move it into its home."
   ]
  },
  {
   "cell_type": "code",
   "execution_count": 137,
   "metadata": {},
   "outputs": [],
   "source": [
    "df_temp_stemmed = df_temp_stemmed.drop(columns=['tweet_nostop'])"
   ]
  },
  {
   "cell_type": "code",
   "execution_count": 138,
   "metadata": {},
   "outputs": [
    {
     "data": {
      "text/html": [
       "<div>\n",
       "<style scoped>\n",
       "    .dataframe tbody tr th:only-of-type {\n",
       "        vertical-align: middle;\n",
       "    }\n",
       "\n",
       "    .dataframe tbody tr th {\n",
       "        vertical-align: top;\n",
       "    }\n",
       "\n",
       "    .dataframe thead th {\n",
       "        text-align: right;\n",
       "    }\n",
       "</style>\n",
       "<table border=\"1\" class=\"dataframe\">\n",
       "  <thead>\n",
       "    <tr style=\"text-align: right;\">\n",
       "      <th></th>\n",
       "      <th>tweet_stemmed</th>\n",
       "    </tr>\n",
       "  </thead>\n",
       "  <tbody>\n",
       "    <tr>\n",
       "      <th>0</th>\n",
       "      <td>[thank, speak, us, fridaysforfreedom, fightfor...</td>\n",
       "    </tr>\n",
       "  </tbody>\n",
       "</table>\n",
       "</div>"
      ],
      "text/plain": [
       "                                       tweet_stemmed\n",
       "0  [thank, speak, us, fridaysforfreedom, fightfor..."
      ]
     },
     "execution_count": 138,
     "metadata": {},
     "output_type": "execute_result"
    }
   ],
   "source": [
    "df_temp_stemmed = df_temp_stemmed.drop(columns=['tweet'])\n",
    "df_temp_stemmed.head(1)"
   ]
  },
  {
   "cell_type": "code",
   "execution_count": 139,
   "metadata": {},
   "outputs": [],
   "source": [
    "df['tweet_stemmed'] = df_temp_stemmed.tweet_stemmed"
   ]
  },
  {
   "cell_type": "code",
   "execution_count": 140,
   "metadata": {},
   "outputs": [
    {
     "data": {
      "text/html": [
       "<div>\n",
       "<style scoped>\n",
       "    .dataframe tbody tr th:only-of-type {\n",
       "        vertical-align: middle;\n",
       "    }\n",
       "\n",
       "    .dataframe tbody tr th {\n",
       "        vertical-align: top;\n",
       "    }\n",
       "\n",
       "    .dataframe thead th {\n",
       "        text-align: right;\n",
       "    }\n",
       "</style>\n",
       "<table border=\"1\" class=\"dataframe\">\n",
       "  <thead>\n",
       "    <tr style=\"text-align: right;\">\n",
       "      <th></th>\n",
       "      <th>hash</th>\n",
       "      <th>created_at</th>\n",
       "      <th>username</th>\n",
       "      <th>tweet</th>\n",
       "      <th>replies_count</th>\n",
       "      <th>retweets_count</th>\n",
       "      <th>likes_count</th>\n",
       "      <th>reply_to</th>\n",
       "      <th>hashtags</th>\n",
       "      <th>comp</th>\n",
       "      <th>neg</th>\n",
       "      <th>neu</th>\n",
       "      <th>pos</th>\n",
       "      <th>tweet_stemmed</th>\n",
       "    </tr>\n",
       "  </thead>\n",
       "  <tbody>\n",
       "    <tr>\n",
       "      <th>0</th>\n",
       "      <td>#FightForHongKong</td>\n",
       "      <td>2020-08-28</td>\n",
       "      <td>ginny81025554</td>\n",
       "      <td>Thanks speaking us #fridaysforfreedom #fightfo...</td>\n",
       "      <td>0</td>\n",
       "      <td>1</td>\n",
       "      <td>2</td>\n",
       "      <td>[{'screen_name': 'benedictrogers', 'name': 'Be...</td>\n",
       "      <td>['fridaysforfreedom', 'fightforhongkong']</td>\n",
       "      <td>0.4404</td>\n",
       "      <td>0.000</td>\n",
       "      <td>0.707</td>\n",
       "      <td>0.293</td>\n",
       "      <td>[thank, speak, us, fridaysforfreedom, fightfor...</td>\n",
       "    </tr>\n",
       "    <tr>\n",
       "      <th>1</th>\n",
       "      <td>#FightForHongKong</td>\n",
       "      <td>2020-08-25</td>\n",
       "      <td>peterhjorth_ddp</td>\n",
       "      <td>How stop China Hong Kong. Read new report Dani...</td>\n",
       "      <td>0</td>\n",
       "      <td>0</td>\n",
       "      <td>0</td>\n",
       "      <td>[]</td>\n",
       "      <td>['dkpol', 'kina', 'hongkongprotest', 'fightfor...</td>\n",
       "      <td>-0.2960</td>\n",
       "      <td>0.071</td>\n",
       "      <td>0.929</td>\n",
       "      <td>0.000</td>\n",
       "      <td>[stop, china, hong, kong, read, new, report, d...</td>\n",
       "    </tr>\n",
       "  </tbody>\n",
       "</table>\n",
       "</div>"
      ],
      "text/plain": [
       "                hash created_at         username  \\\n",
       "0  #FightForHongKong 2020-08-28    ginny81025554   \n",
       "1  #FightForHongKong 2020-08-25  peterhjorth_ddp   \n",
       "\n",
       "                                               tweet  replies_count  \\\n",
       "0  Thanks speaking us #fridaysforfreedom #fightfo...              0   \n",
       "1  How stop China Hong Kong. Read new report Dani...              0   \n",
       "\n",
       "   retweets_count  likes_count  \\\n",
       "0               1            2   \n",
       "1               0            0   \n",
       "\n",
       "                                            reply_to  \\\n",
       "0  [{'screen_name': 'benedictrogers', 'name': 'Be...   \n",
       "1                                                 []   \n",
       "\n",
       "                                            hashtags    comp    neg    neu  \\\n",
       "0          ['fridaysforfreedom', 'fightforhongkong']  0.4404  0.000  0.707   \n",
       "1  ['dkpol', 'kina', 'hongkongprotest', 'fightfor... -0.2960  0.071  0.929   \n",
       "\n",
       "     pos                                      tweet_stemmed  \n",
       "0  0.293  [thank, speak, us, fridaysforfreedom, fightfor...  \n",
       "1  0.000  [stop, china, hong, kong, read, new, report, d...  "
      ]
     },
     "execution_count": 140,
     "metadata": {},
     "output_type": "execute_result"
    }
   ],
   "source": [
    "df.head(2)"
   ]
  },
  {
   "cell_type": "code",
   "execution_count": null,
   "metadata": {},
   "outputs": [],
   "source": []
  },
  {
   "cell_type": "markdown",
   "metadata": {},
   "source": [
    "<a id='word_lem'></a>**Lemmatization |** We will now add a Lemmatization column on the tweets."
   ]
  },
  {
   "cell_type": "code",
   "execution_count": 141,
   "metadata": {},
   "outputs": [],
   "source": [
    "w_tokenizer = nltk.tokenize.WhitespaceTokenizer()\n",
    "lemmatizer = nltk.stem.WordNetLemmatizer()\n",
    "\n",
    "def lemmatize_text(text):\n",
    "    return [lemmatizer.lemmatize(w) for w in w_tokenizer.tokenize(text)]"
   ]
  },
  {
   "cell_type": "code",
   "execution_count": 142,
   "metadata": {},
   "outputs": [],
   "source": [
    "tweet_lem = pd.DataFrame(df['tweet'].copy())"
   ]
  },
  {
   "cell_type": "code",
   "execution_count": 143,
   "metadata": {},
   "outputs": [
    {
     "data": {
      "text/html": [
       "<div>\n",
       "<style scoped>\n",
       "    .dataframe tbody tr th:only-of-type {\n",
       "        vertical-align: middle;\n",
       "    }\n",
       "\n",
       "    .dataframe tbody tr th {\n",
       "        vertical-align: top;\n",
       "    }\n",
       "\n",
       "    .dataframe thead th {\n",
       "        text-align: right;\n",
       "    }\n",
       "</style>\n",
       "<table border=\"1\" class=\"dataframe\">\n",
       "  <thead>\n",
       "    <tr style=\"text-align: right;\">\n",
       "      <th></th>\n",
       "      <th>tweet</th>\n",
       "      <th>tweet_lemmatized</th>\n",
       "    </tr>\n",
       "  </thead>\n",
       "  <tbody>\n",
       "    <tr>\n",
       "      <th>0</th>\n",
       "      <td>Thanks speaking us #fridaysforfreedom #fightfo...</td>\n",
       "      <td>[Thanks, speaking, u, #fridaysforfreedom, #fig...</td>\n",
       "    </tr>\n",
       "    <tr>\n",
       "      <th>1</th>\n",
       "      <td>How stop China Hong Kong. Read new report Dani...</td>\n",
       "      <td>[How, stop, China, Hong, Kong., Read, new, rep...</td>\n",
       "    </tr>\n",
       "  </tbody>\n",
       "</table>\n",
       "</div>"
      ],
      "text/plain": [
       "                                               tweet  \\\n",
       "0  Thanks speaking us #fridaysforfreedom #fightfo...   \n",
       "1  How stop China Hong Kong. Read new report Dani...   \n",
       "\n",
       "                                    tweet_lemmatized  \n",
       "0  [Thanks, speaking, u, #fridaysforfreedom, #fig...  \n",
       "1  [How, stop, China, Hong, Kong., Read, new, rep...  "
      ]
     },
     "execution_count": 143,
     "metadata": {},
     "output_type": "execute_result"
    }
   ],
   "source": [
    "tweet_lem['tweet_lemmatized'] = tweet_lem.tweet.apply(lemmatize_text)\n",
    "tweet_lem[['tweet','tweet_lemmatized']].head(2)"
   ]
  },
  {
   "cell_type": "code",
   "execution_count": 144,
   "metadata": {},
   "outputs": [],
   "source": [
    "df['tweet_lemmatized'] = tweet_lem.tweet_lemmatized"
   ]
  },
  {
   "cell_type": "code",
   "execution_count": 145,
   "metadata": {},
   "outputs": [
    {
     "data": {
      "text/html": [
       "<div>\n",
       "<style scoped>\n",
       "    .dataframe tbody tr th:only-of-type {\n",
       "        vertical-align: middle;\n",
       "    }\n",
       "\n",
       "    .dataframe tbody tr th {\n",
       "        vertical-align: top;\n",
       "    }\n",
       "\n",
       "    .dataframe thead th {\n",
       "        text-align: right;\n",
       "    }\n",
       "</style>\n",
       "<table border=\"1\" class=\"dataframe\">\n",
       "  <thead>\n",
       "    <tr style=\"text-align: right;\">\n",
       "      <th></th>\n",
       "      <th>hash</th>\n",
       "      <th>created_at</th>\n",
       "      <th>username</th>\n",
       "      <th>tweet</th>\n",
       "      <th>replies_count</th>\n",
       "      <th>retweets_count</th>\n",
       "      <th>likes_count</th>\n",
       "      <th>reply_to</th>\n",
       "      <th>hashtags</th>\n",
       "      <th>comp</th>\n",
       "      <th>neg</th>\n",
       "      <th>neu</th>\n",
       "      <th>pos</th>\n",
       "      <th>tweet_stemmed</th>\n",
       "      <th>tweet_lemmatized</th>\n",
       "    </tr>\n",
       "  </thead>\n",
       "  <tbody>\n",
       "    <tr>\n",
       "      <th>0</th>\n",
       "      <td>#FightForHongKong</td>\n",
       "      <td>2020-08-28</td>\n",
       "      <td>ginny81025554</td>\n",
       "      <td>Thanks speaking us #fridaysforfreedom #fightfo...</td>\n",
       "      <td>0</td>\n",
       "      <td>1</td>\n",
       "      <td>2</td>\n",
       "      <td>[{'screen_name': 'benedictrogers', 'name': 'Be...</td>\n",
       "      <td>['fridaysforfreedom', 'fightforhongkong']</td>\n",
       "      <td>0.4404</td>\n",
       "      <td>0.000</td>\n",
       "      <td>0.707</td>\n",
       "      <td>0.293</td>\n",
       "      <td>[thank, speak, us, fridaysforfreedom, fightfor...</td>\n",
       "      <td>[Thanks, speaking, u, #fridaysforfreedom, #fig...</td>\n",
       "    </tr>\n",
       "    <tr>\n",
       "      <th>1</th>\n",
       "      <td>#FightForHongKong</td>\n",
       "      <td>2020-08-25</td>\n",
       "      <td>peterhjorth_ddp</td>\n",
       "      <td>How stop China Hong Kong. Read new report Dani...</td>\n",
       "      <td>0</td>\n",
       "      <td>0</td>\n",
       "      <td>0</td>\n",
       "      <td>[]</td>\n",
       "      <td>['dkpol', 'kina', 'hongkongprotest', 'fightfor...</td>\n",
       "      <td>-0.2960</td>\n",
       "      <td>0.071</td>\n",
       "      <td>0.929</td>\n",
       "      <td>0.000</td>\n",
       "      <td>[stop, china, hong, kong, read, new, report, d...</td>\n",
       "      <td>[How, stop, China, Hong, Kong., Read, new, rep...</td>\n",
       "    </tr>\n",
       "  </tbody>\n",
       "</table>\n",
       "</div>"
      ],
      "text/plain": [
       "                hash created_at         username  \\\n",
       "0  #FightForHongKong 2020-08-28    ginny81025554   \n",
       "1  #FightForHongKong 2020-08-25  peterhjorth_ddp   \n",
       "\n",
       "                                               tweet  replies_count  \\\n",
       "0  Thanks speaking us #fridaysforfreedom #fightfo...              0   \n",
       "1  How stop China Hong Kong. Read new report Dani...              0   \n",
       "\n",
       "   retweets_count  likes_count  \\\n",
       "0               1            2   \n",
       "1               0            0   \n",
       "\n",
       "                                            reply_to  \\\n",
       "0  [{'screen_name': 'benedictrogers', 'name': 'Be...   \n",
       "1                                                 []   \n",
       "\n",
       "                                            hashtags    comp    neg    neu  \\\n",
       "0          ['fridaysforfreedom', 'fightforhongkong']  0.4404  0.000  0.707   \n",
       "1  ['dkpol', 'kina', 'hongkongprotest', 'fightfor... -0.2960  0.071  0.929   \n",
       "\n",
       "     pos                                      tweet_stemmed  \\\n",
       "0  0.293  [thank, speak, us, fridaysforfreedom, fightfor...   \n",
       "1  0.000  [stop, china, hong, kong, read, new, report, d...   \n",
       "\n",
       "                                    tweet_lemmatized  \n",
       "0  [Thanks, speaking, u, #fridaysforfreedom, #fig...  \n",
       "1  [How, stop, China, Hong, Kong., Read, new, rep...  "
      ]
     },
     "execution_count": 145,
     "metadata": {},
     "output_type": "execute_result"
    }
   ],
   "source": [
    "df.head(2)"
   ]
  },
  {
   "cell_type": "code",
   "execution_count": null,
   "metadata": {},
   "outputs": [],
   "source": []
  },
  {
   "cell_type": "markdown",
   "metadata": {},
   "source": [
    "<a id='tweet_length'></a>**tweet length |** Adding another column to see the length of tweets."
   ]
  },
  {
   "cell_type": "code",
   "execution_count": 146,
   "metadata": {},
   "outputs": [],
   "source": [
    "df_t_length = pd.DataFrame([df['tweet'].copy()]).T\n",
    "df_t_length = df_t_length.convert_dtypes()\n",
    "df_t_length['word_l'] = [len(x.split()) for x in df['tweet'].tolist()]\n",
    "df_t_length = df_t_length.drop(columns=['tweet'])\n",
    "df['#_words_tweet'] = df_t_length"
   ]
  },
  {
   "cell_type": "code",
   "execution_count": 147,
   "metadata": {},
   "outputs": [
    {
     "data": {
      "text/html": [
       "<div>\n",
       "<style scoped>\n",
       "    .dataframe tbody tr th:only-of-type {\n",
       "        vertical-align: middle;\n",
       "    }\n",
       "\n",
       "    .dataframe tbody tr th {\n",
       "        vertical-align: top;\n",
       "    }\n",
       "\n",
       "    .dataframe thead th {\n",
       "        text-align: right;\n",
       "    }\n",
       "</style>\n",
       "<table border=\"1\" class=\"dataframe\">\n",
       "  <thead>\n",
       "    <tr style=\"text-align: right;\">\n",
       "      <th></th>\n",
       "      <th>hash</th>\n",
       "      <th>created_at</th>\n",
       "      <th>username</th>\n",
       "      <th>tweet</th>\n",
       "      <th>replies_count</th>\n",
       "      <th>retweets_count</th>\n",
       "      <th>likes_count</th>\n",
       "      <th>reply_to</th>\n",
       "      <th>hashtags</th>\n",
       "      <th>comp</th>\n",
       "      <th>neg</th>\n",
       "      <th>neu</th>\n",
       "      <th>pos</th>\n",
       "      <th>tweet_stemmed</th>\n",
       "      <th>tweet_lemmatized</th>\n",
       "      <th>#_words_tweet</th>\n",
       "    </tr>\n",
       "  </thead>\n",
       "  <tbody>\n",
       "    <tr>\n",
       "      <th>0</th>\n",
       "      <td>#FightForHongKong</td>\n",
       "      <td>2020-08-28</td>\n",
       "      <td>ginny81025554</td>\n",
       "      <td>Thanks speaking us #fridaysforfreedom #fightfo...</td>\n",
       "      <td>0</td>\n",
       "      <td>1</td>\n",
       "      <td>2</td>\n",
       "      <td>[{'screen_name': 'benedictrogers', 'name': 'Be...</td>\n",
       "      <td>['fridaysforfreedom', 'fightforhongkong']</td>\n",
       "      <td>0.4404</td>\n",
       "      <td>0.000</td>\n",
       "      <td>0.707</td>\n",
       "      <td>0.293</td>\n",
       "      <td>[thank, speak, us, fridaysforfreedom, fightfor...</td>\n",
       "      <td>[Thanks, speaking, u, #fridaysforfreedom, #fig...</td>\n",
       "      <td>5</td>\n",
       "    </tr>\n",
       "    <tr>\n",
       "      <th>1</th>\n",
       "      <td>#FightForHongKong</td>\n",
       "      <td>2020-08-25</td>\n",
       "      <td>peterhjorth_ddp</td>\n",
       "      <td>How stop China Hong Kong. Read new report Dani...</td>\n",
       "      <td>0</td>\n",
       "      <td>0</td>\n",
       "      <td>0</td>\n",
       "      <td>[]</td>\n",
       "      <td>['dkpol', 'kina', 'hongkongprotest', 'fightfor...</td>\n",
       "      <td>-0.2960</td>\n",
       "      <td>0.071</td>\n",
       "      <td>0.929</td>\n",
       "      <td>0.000</td>\n",
       "      <td>[stop, china, hong, kong, read, new, report, d...</td>\n",
       "      <td>[How, stop, China, Hong, Kong., Read, new, rep...</td>\n",
       "      <td>25</td>\n",
       "    </tr>\n",
       "    <tr>\n",
       "      <th>2</th>\n",
       "      <td>#FightForHongKong</td>\n",
       "      <td>2020-08-24</td>\n",
       "      <td>peterhjorth_ddp</td>\n",
       "      <td>How stop China Hong Kong. Read new report Dani...</td>\n",
       "      <td>0</td>\n",
       "      <td>0</td>\n",
       "      <td>0</td>\n",
       "      <td>[]</td>\n",
       "      <td>['dkpol', 'kina', 'hongkongprotest', 'fightfor...</td>\n",
       "      <td>-0.2960</td>\n",
       "      <td>0.071</td>\n",
       "      <td>0.929</td>\n",
       "      <td>0.000</td>\n",
       "      <td>[stop, china, hong, kong, read, new, report, d...</td>\n",
       "      <td>[How, stop, China, Hong, Kong., Read, new, rep...</td>\n",
       "      <td>25</td>\n",
       "    </tr>\n",
       "  </tbody>\n",
       "</table>\n",
       "</div>"
      ],
      "text/plain": [
       "                hash created_at         username  \\\n",
       "0  #FightForHongKong 2020-08-28    ginny81025554   \n",
       "1  #FightForHongKong 2020-08-25  peterhjorth_ddp   \n",
       "2  #FightForHongKong 2020-08-24  peterhjorth_ddp   \n",
       "\n",
       "                                               tweet  replies_count  \\\n",
       "0  Thanks speaking us #fridaysforfreedom #fightfo...              0   \n",
       "1  How stop China Hong Kong. Read new report Dani...              0   \n",
       "2  How stop China Hong Kong. Read new report Dani...              0   \n",
       "\n",
       "   retweets_count  likes_count  \\\n",
       "0               1            2   \n",
       "1               0            0   \n",
       "2               0            0   \n",
       "\n",
       "                                            reply_to  \\\n",
       "0  [{'screen_name': 'benedictrogers', 'name': 'Be...   \n",
       "1                                                 []   \n",
       "2                                                 []   \n",
       "\n",
       "                                            hashtags    comp    neg    neu  \\\n",
       "0          ['fridaysforfreedom', 'fightforhongkong']  0.4404  0.000  0.707   \n",
       "1  ['dkpol', 'kina', 'hongkongprotest', 'fightfor... -0.2960  0.071  0.929   \n",
       "2  ['dkpol', 'kina', 'hongkongprotest', 'fightfor... -0.2960  0.071  0.929   \n",
       "\n",
       "     pos                                      tweet_stemmed  \\\n",
       "0  0.293  [thank, speak, us, fridaysforfreedom, fightfor...   \n",
       "1  0.000  [stop, china, hong, kong, read, new, report, d...   \n",
       "2  0.000  [stop, china, hong, kong, read, new, report, d...   \n",
       "\n",
       "                                    tweet_lemmatized  #_words_tweet  \n",
       "0  [Thanks, speaking, u, #fridaysforfreedom, #fig...              5  \n",
       "1  [How, stop, China, Hong, Kong., Read, new, rep...             25  \n",
       "2  [How, stop, China, Hong, Kong., Read, new, rep...             25  "
      ]
     },
     "execution_count": 147,
     "metadata": {},
     "output_type": "execute_result"
    }
   ],
   "source": [
    "df.head(3)"
   ]
  },
  {
   "cell_type": "code",
   "execution_count": null,
   "metadata": {},
   "outputs": [],
   "source": []
  },
  {
   "cell_type": "markdown",
   "metadata": {},
   "source": [
    "<a id='num_hashtags'></a>**Number of hashtags |** Adding another column to see how many hashtags were used."
   ]
  },
  {
   "cell_type": "code",
   "execution_count": 148,
   "metadata": {},
   "outputs": [],
   "source": [
    "df_hash_num = pd.DataFrame([df['hashtags'].copy()]).T\n",
    "df_hash_num = df_hash_num.convert_dtypes()\n",
    "df_hash_num['hash_l'] = [len(x.split()) for x in df['hashtags'].tolist()]\n",
    "df_hash_num = df_hash_num.drop(columns=['hashtags'])\n",
    "df['#_hashtags'] = df_hash_num"
   ]
  },
  {
   "cell_type": "code",
   "execution_count": 149,
   "metadata": {},
   "outputs": [
    {
     "data": {
      "text/html": [
       "<div>\n",
       "<style scoped>\n",
       "    .dataframe tbody tr th:only-of-type {\n",
       "        vertical-align: middle;\n",
       "    }\n",
       "\n",
       "    .dataframe tbody tr th {\n",
       "        vertical-align: top;\n",
       "    }\n",
       "\n",
       "    .dataframe thead th {\n",
       "        text-align: right;\n",
       "    }\n",
       "</style>\n",
       "<table border=\"1\" class=\"dataframe\">\n",
       "  <thead>\n",
       "    <tr style=\"text-align: right;\">\n",
       "      <th></th>\n",
       "      <th>hash</th>\n",
       "      <th>created_at</th>\n",
       "      <th>username</th>\n",
       "      <th>tweet</th>\n",
       "      <th>replies_count</th>\n",
       "      <th>retweets_count</th>\n",
       "      <th>likes_count</th>\n",
       "      <th>reply_to</th>\n",
       "      <th>hashtags</th>\n",
       "      <th>comp</th>\n",
       "      <th>neg</th>\n",
       "      <th>neu</th>\n",
       "      <th>pos</th>\n",
       "      <th>tweet_stemmed</th>\n",
       "      <th>tweet_lemmatized</th>\n",
       "      <th>#_words_tweet</th>\n",
       "      <th>#_hashtags</th>\n",
       "    </tr>\n",
       "  </thead>\n",
       "  <tbody>\n",
       "    <tr>\n",
       "      <th>0</th>\n",
       "      <td>#FightForHongKong</td>\n",
       "      <td>2020-08-28</td>\n",
       "      <td>ginny81025554</td>\n",
       "      <td>Thanks speaking us #fridaysforfreedom #fightfo...</td>\n",
       "      <td>0</td>\n",
       "      <td>1</td>\n",
       "      <td>2</td>\n",
       "      <td>[{'screen_name': 'benedictrogers', 'name': 'Be...</td>\n",
       "      <td>['fridaysforfreedom', 'fightforhongkong']</td>\n",
       "      <td>0.4404</td>\n",
       "      <td>0.000</td>\n",
       "      <td>0.707</td>\n",
       "      <td>0.293</td>\n",
       "      <td>[thank, speak, us, fridaysforfreedom, fightfor...</td>\n",
       "      <td>[Thanks, speaking, u, #fridaysforfreedom, #fig...</td>\n",
       "      <td>5</td>\n",
       "      <td>2</td>\n",
       "    </tr>\n",
       "    <tr>\n",
       "      <th>1</th>\n",
       "      <td>#FightForHongKong</td>\n",
       "      <td>2020-08-25</td>\n",
       "      <td>peterhjorth_ddp</td>\n",
       "      <td>How stop China Hong Kong. Read new report Dani...</td>\n",
       "      <td>0</td>\n",
       "      <td>0</td>\n",
       "      <td>0</td>\n",
       "      <td>[]</td>\n",
       "      <td>['dkpol', 'kina', 'hongkongprotest', 'fightfor...</td>\n",
       "      <td>-0.2960</td>\n",
       "      <td>0.071</td>\n",
       "      <td>0.929</td>\n",
       "      <td>0.000</td>\n",
       "      <td>[stop, china, hong, kong, read, new, report, d...</td>\n",
       "      <td>[How, stop, China, Hong, Kong., Read, new, rep...</td>\n",
       "      <td>25</td>\n",
       "      <td>13</td>\n",
       "    </tr>\n",
       "  </tbody>\n",
       "</table>\n",
       "</div>"
      ],
      "text/plain": [
       "                hash created_at         username  \\\n",
       "0  #FightForHongKong 2020-08-28    ginny81025554   \n",
       "1  #FightForHongKong 2020-08-25  peterhjorth_ddp   \n",
       "\n",
       "                                               tweet  replies_count  \\\n",
       "0  Thanks speaking us #fridaysforfreedom #fightfo...              0   \n",
       "1  How stop China Hong Kong. Read new report Dani...              0   \n",
       "\n",
       "   retweets_count  likes_count  \\\n",
       "0               1            2   \n",
       "1               0            0   \n",
       "\n",
       "                                            reply_to  \\\n",
       "0  [{'screen_name': 'benedictrogers', 'name': 'Be...   \n",
       "1                                                 []   \n",
       "\n",
       "                                            hashtags    comp    neg    neu  \\\n",
       "0          ['fridaysforfreedom', 'fightforhongkong']  0.4404  0.000  0.707   \n",
       "1  ['dkpol', 'kina', 'hongkongprotest', 'fightfor... -0.2960  0.071  0.929   \n",
       "\n",
       "     pos                                      tweet_stemmed  \\\n",
       "0  0.293  [thank, speak, us, fridaysforfreedom, fightfor...   \n",
       "1  0.000  [stop, china, hong, kong, read, new, report, d...   \n",
       "\n",
       "                                    tweet_lemmatized  #_words_tweet  \\\n",
       "0  [Thanks, speaking, u, #fridaysforfreedom, #fig...              5   \n",
       "1  [How, stop, China, Hong, Kong., Read, new, rep...             25   \n",
       "\n",
       "   #_hashtags  \n",
       "0           2  \n",
       "1          13  "
      ]
     },
     "execution_count": 149,
     "metadata": {},
     "output_type": "execute_result"
    }
   ],
   "source": [
    "df.head(2)"
   ]
  },
  {
   "cell_type": "code",
   "execution_count": null,
   "metadata": {},
   "outputs": [],
   "source": []
  },
  {
   "cell_type": "markdown",
   "metadata": {},
   "source": [
    "<a id='word_v_tfid'></a>**TfidfVectorizer |** With the help of the `\"scikit-learn family\"`, Term Frequency Inverse Document Frequency; a common algorithm to transform text into a meaningful representation of numbers which we can use to fit machine algorithms for prediction."
   ]
  },
  {
   "cell_type": "code",
   "execution_count": 150,
   "metadata": {},
   "outputs": [],
   "source": [
    "def create_document_term_matrix(tweet_list,vectorizer):\n",
    "    doc_term_matrix = vectorizer.fit_transform(tweet_list)\n",
    "    return DataFrame(doc_term_matrix.toarray(),\n",
    "                    columns=vectorizer.get_feature_names())\n",
    "\n",
    "#initiate the TfidfVectorizer\n",
    "tfidf_vec = TfidfVectorizer()"
   ]
  },
  {
   "cell_type": "code",
   "execution_count": 151,
   "metadata": {
    "scrolled": true
   },
   "outputs": [],
   "source": [
    "df_tdif = pd.DataFrame(df['tweet'])\n",
    "df_tdif_series = df_tdif.squeeze()\n",
    "df_tdif_df = pd.DataFrame(create_document_term_matrix(df_tdif_series,tfidf_vec))"
   ]
  },
  {
   "cell_type": "code",
   "execution_count": 152,
   "metadata": {},
   "outputs": [
    {
     "name": "stdout",
     "output_type": "stream",
     "text": [
      "Looks like we found 706.00 unique words.\n"
     ]
    }
   ],
   "source": [
    "print('Looks like we found {:,.2f}'.format(round(df_tdif_df.shape[1] - df.shape[1])),'unique words.')"
   ]
  },
  {
   "cell_type": "code",
   "execution_count": 153,
   "metadata": {},
   "outputs": [
    {
     "data": {
      "text/html": [
       "<div>\n",
       "<style scoped>\n",
       "    .dataframe tbody tr th:only-of-type {\n",
       "        vertical-align: middle;\n",
       "    }\n",
       "\n",
       "    .dataframe tbody tr th {\n",
       "        vertical-align: top;\n",
       "    }\n",
       "\n",
       "    .dataframe thead th {\n",
       "        text-align: right;\n",
       "    }\n",
       "</style>\n",
       "<table border=\"1\" class=\"dataframe\">\n",
       "  <thead>\n",
       "    <tr style=\"text-align: right;\">\n",
       "      <th></th>\n",
       "      <th>10</th>\n",
       "      <th>19</th>\n",
       "      <th>1991</th>\n",
       "      <th>1995</th>\n",
       "      <th>1st</th>\n",
       "      <th>2019</th>\n",
       "      <th>2020</th>\n",
       "      <th>5demandsnot1less</th>\n",
       "      <th>6431truth</th>\n",
       "      <th>721yuenlongattack</th>\n",
       "      <th>...</th>\n",
       "      <th>youth</th>\n",
       "      <th>yuen</th>\n",
       "      <th>yugoslav</th>\n",
       "      <th>yugoslavia</th>\n",
       "      <th>zoom</th>\n",
       "      <th>光復香港</th>\n",
       "      <th>寶泰泰式美食</th>\n",
       "      <th>時代革命</th>\n",
       "      <th>香港デモ</th>\n",
       "      <th>黃色經濟圈</th>\n",
       "    </tr>\n",
       "  </thead>\n",
       "  <tbody>\n",
       "    <tr>\n",
       "      <th>0</th>\n",
       "      <td>0.0</td>\n",
       "      <td>0.0</td>\n",
       "      <td>0.0</td>\n",
       "      <td>0.0</td>\n",
       "      <td>0.0</td>\n",
       "      <td>0.0</td>\n",
       "      <td>0.0</td>\n",
       "      <td>0.0</td>\n",
       "      <td>0.0</td>\n",
       "      <td>0.0</td>\n",
       "      <td>...</td>\n",
       "      <td>0.0</td>\n",
       "      <td>0.0</td>\n",
       "      <td>0.0</td>\n",
       "      <td>0.0</td>\n",
       "      <td>0.0</td>\n",
       "      <td>0.0</td>\n",
       "      <td>0.0</td>\n",
       "      <td>0.0</td>\n",
       "      <td>0.0</td>\n",
       "      <td>0.0</td>\n",
       "    </tr>\n",
       "    <tr>\n",
       "      <th>1</th>\n",
       "      <td>0.0</td>\n",
       "      <td>0.0</td>\n",
       "      <td>0.0</td>\n",
       "      <td>0.0</td>\n",
       "      <td>0.0</td>\n",
       "      <td>0.0</td>\n",
       "      <td>0.0</td>\n",
       "      <td>0.0</td>\n",
       "      <td>0.0</td>\n",
       "      <td>0.0</td>\n",
       "      <td>...</td>\n",
       "      <td>0.0</td>\n",
       "      <td>0.0</td>\n",
       "      <td>0.0</td>\n",
       "      <td>0.0</td>\n",
       "      <td>0.0</td>\n",
       "      <td>0.0</td>\n",
       "      <td>0.0</td>\n",
       "      <td>0.0</td>\n",
       "      <td>0.0</td>\n",
       "      <td>0.0</td>\n",
       "    </tr>\n",
       "  </tbody>\n",
       "</table>\n",
       "<p>2 rows × 723 columns</p>\n",
       "</div>"
      ],
      "text/plain": [
       "    10   19  1991  1995  1st  2019  2020  5demandsnot1less  6431truth  \\\n",
       "0  0.0  0.0   0.0   0.0  0.0   0.0   0.0               0.0        0.0   \n",
       "1  0.0  0.0   0.0   0.0  0.0   0.0   0.0               0.0        0.0   \n",
       "\n",
       "   721yuenlongattack  ...  youth  yuen  yugoslav  yugoslavia  zoom  光復香港  \\\n",
       "0                0.0  ...    0.0   0.0       0.0         0.0   0.0   0.0   \n",
       "1                0.0  ...    0.0   0.0       0.0         0.0   0.0   0.0   \n",
       "\n",
       "   寶泰泰式美食  時代革命  香港デモ  黃色經濟圈  \n",
       "0     0.0   0.0   0.0    0.0  \n",
       "1     0.0   0.0   0.0    0.0  \n",
       "\n",
       "[2 rows x 723 columns]"
      ]
     },
     "execution_count": 153,
     "metadata": {},
     "output_type": "execute_result"
    }
   ],
   "source": [
    "df_tdif_df.head(2)"
   ]
  },
  {
   "cell_type": "code",
   "execution_count": 154,
   "metadata": {},
   "outputs": [
    {
     "data": {
      "text/html": [
       "<div>\n",
       "<style scoped>\n",
       "    .dataframe tbody tr th:only-of-type {\n",
       "        vertical-align: middle;\n",
       "    }\n",
       "\n",
       "    .dataframe tbody tr th {\n",
       "        vertical-align: top;\n",
       "    }\n",
       "\n",
       "    .dataframe thead th {\n",
       "        text-align: right;\n",
       "    }\n",
       "</style>\n",
       "<table border=\"1\" class=\"dataframe\">\n",
       "  <thead>\n",
       "    <tr style=\"text-align: right;\">\n",
       "      <th></th>\n",
       "      <th>hash</th>\n",
       "      <th>created_at</th>\n",
       "      <th>username</th>\n",
       "      <th>tweet</th>\n",
       "      <th>replies_count</th>\n",
       "      <th>retweets_count</th>\n",
       "      <th>likes_count</th>\n",
       "      <th>reply_to</th>\n",
       "      <th>hashtags</th>\n",
       "      <th>comp</th>\n",
       "      <th>...</th>\n",
       "      <th>youth</th>\n",
       "      <th>yuen</th>\n",
       "      <th>yugoslav</th>\n",
       "      <th>yugoslavia</th>\n",
       "      <th>zoom</th>\n",
       "      <th>光復香港</th>\n",
       "      <th>寶泰泰式美食</th>\n",
       "      <th>時代革命</th>\n",
       "      <th>香港デモ</th>\n",
       "      <th>黃色經濟圈</th>\n",
       "    </tr>\n",
       "  </thead>\n",
       "  <tbody>\n",
       "    <tr>\n",
       "      <th>0</th>\n",
       "      <td>#FightForHongKong</td>\n",
       "      <td>2020-08-28</td>\n",
       "      <td>ginny81025554</td>\n",
       "      <td>Thanks speaking us #fridaysforfreedom #fightfo...</td>\n",
       "      <td>0</td>\n",
       "      <td>1</td>\n",
       "      <td>2</td>\n",
       "      <td>[{'screen_name': 'benedictrogers', 'name': 'Be...</td>\n",
       "      <td>['fridaysforfreedom', 'fightforhongkong']</td>\n",
       "      <td>0.4404</td>\n",
       "      <td>...</td>\n",
       "      <td>0.0</td>\n",
       "      <td>0.0</td>\n",
       "      <td>0.0</td>\n",
       "      <td>0.0</td>\n",
       "      <td>0.0</td>\n",
       "      <td>0.0</td>\n",
       "      <td>0.0</td>\n",
       "      <td>0.0</td>\n",
       "      <td>0.0</td>\n",
       "      <td>0.0</td>\n",
       "    </tr>\n",
       "  </tbody>\n",
       "</table>\n",
       "<p>1 rows × 740 columns</p>\n",
       "</div>"
      ],
      "text/plain": [
       "                hash created_at       username  \\\n",
       "0  #FightForHongKong 2020-08-28  ginny81025554   \n",
       "\n",
       "                                               tweet  replies_count  \\\n",
       "0  Thanks speaking us #fridaysforfreedom #fightfo...              0   \n",
       "\n",
       "   retweets_count  likes_count  \\\n",
       "0               1            2   \n",
       "\n",
       "                                            reply_to  \\\n",
       "0  [{'screen_name': 'benedictrogers', 'name': 'Be...   \n",
       "\n",
       "                                    hashtags    comp  ...  youth  yuen  \\\n",
       "0  ['fridaysforfreedom', 'fightforhongkong']  0.4404  ...    0.0   0.0   \n",
       "\n",
       "   yugoslav yugoslavia zoom  光復香港  寶泰泰式美食  時代革命  香港デモ  黃色經濟圈  \n",
       "0       0.0        0.0  0.0   0.0     0.0   0.0   0.0    0.0  \n",
       "\n",
       "[1 rows x 740 columns]"
      ]
     },
     "execution_count": 154,
     "metadata": {},
     "output_type": "execute_result"
    }
   ],
   "source": [
    "df_tfidf = pd.DataFrame([])\n",
    "df_tfidf = pd.concat([df, df_tdif_df], axis=1)\n",
    "df_tfidf.head(1)"
   ]
  },
  {
   "cell_type": "code",
   "execution_count": 155,
   "metadata": {},
   "outputs": [
    {
     "data": {
      "text/html": [
       "<div>\n",
       "<style scoped>\n",
       "    .dataframe tbody tr th:only-of-type {\n",
       "        vertical-align: middle;\n",
       "    }\n",
       "\n",
       "    .dataframe tbody tr th {\n",
       "        vertical-align: top;\n",
       "    }\n",
       "\n",
       "    .dataframe thead th {\n",
       "        text-align: right;\n",
       "    }\n",
       "</style>\n",
       "<table border=\"1\" class=\"dataframe\">\n",
       "  <thead>\n",
       "    <tr style=\"text-align: right;\">\n",
       "      <th></th>\n",
       "      <th>hash</th>\n",
       "      <th>created_at</th>\n",
       "      <th>username</th>\n",
       "      <th>tweet</th>\n",
       "      <th>replies_count</th>\n",
       "      <th>retweets_count</th>\n",
       "      <th>likes_count</th>\n",
       "      <th>reply_to</th>\n",
       "      <th>hashtags</th>\n",
       "      <th>comp</th>\n",
       "      <th>...</th>\n",
       "      <th>youth</th>\n",
       "      <th>yuen</th>\n",
       "      <th>yugoslav</th>\n",
       "      <th>yugoslavia</th>\n",
       "      <th>zoom</th>\n",
       "      <th>光復香港</th>\n",
       "      <th>寶泰泰式美食</th>\n",
       "      <th>時代革命</th>\n",
       "      <th>香港デモ</th>\n",
       "      <th>黃色經濟圈</th>\n",
       "    </tr>\n",
       "  </thead>\n",
       "  <tbody>\n",
       "    <tr>\n",
       "      <th>0</th>\n",
       "      <td>#FightForHongKong</td>\n",
       "      <td>2020-08-28</td>\n",
       "      <td>ginny81025554</td>\n",
       "      <td>Thanks speaking us #fridaysforfreedom #fightfo...</td>\n",
       "      <td>0</td>\n",
       "      <td>1</td>\n",
       "      <td>2</td>\n",
       "      <td>[{'screen_name': 'benedictrogers', 'name': 'Be...</td>\n",
       "      <td>['fridaysforfreedom', 'fightforhongkong']</td>\n",
       "      <td>0.4404</td>\n",
       "      <td>...</td>\n",
       "      <td>0.0</td>\n",
       "      <td>0.0</td>\n",
       "      <td>0.0</td>\n",
       "      <td>0.0</td>\n",
       "      <td>0.0</td>\n",
       "      <td>0.0</td>\n",
       "      <td>0.0</td>\n",
       "      <td>0.0</td>\n",
       "      <td>0.0</td>\n",
       "      <td>0.0</td>\n",
       "    </tr>\n",
       "  </tbody>\n",
       "</table>\n",
       "<p>1 rows × 740 columns</p>\n",
       "</div>"
      ],
      "text/plain": [
       "                hash created_at       username  \\\n",
       "0  #FightForHongKong 2020-08-28  ginny81025554   \n",
       "\n",
       "                                               tweet  replies_count  \\\n",
       "0  Thanks speaking us #fridaysforfreedom #fightfo...              0   \n",
       "\n",
       "   retweets_count  likes_count  \\\n",
       "0               1            2   \n",
       "\n",
       "                                            reply_to  \\\n",
       "0  [{'screen_name': 'benedictrogers', 'name': 'Be...   \n",
       "\n",
       "                                    hashtags    comp  ...  youth  yuen  \\\n",
       "0  ['fridaysforfreedom', 'fightforhongkong']  0.4404  ...    0.0   0.0   \n",
       "\n",
       "   yugoslav yugoslavia zoom  光復香港  寶泰泰式美食  時代革命  香港デモ  黃色經濟圈  \n",
       "0       0.0        0.0  0.0   0.0     0.0   0.0   0.0    0.0  \n",
       "\n",
       "[1 rows x 740 columns]"
      ]
     },
     "execution_count": 155,
     "metadata": {},
     "output_type": "execute_result"
    }
   ],
   "source": [
    "df_tfidf.head(1)"
   ]
  },
  {
   "cell_type": "code",
   "execution_count": null,
   "metadata": {},
   "outputs": [],
   "source": []
  },
  {
   "cell_type": "code",
   "execution_count": null,
   "metadata": {},
   "outputs": [],
   "source": []
  },
  {
   "cell_type": "code",
   "execution_count": 156,
   "metadata": {},
   "outputs": [
    {
     "name": "stdout",
     "output_type": "stream",
     "text": [
      "Finished\n"
     ]
    }
   ],
   "source": [
    "df_tfidf.to_excel('./_Capstone_Two_NLP/data/_twitter/_dfs_fortheside/df_tfidf.xlsx')\n",
    "print('Finished')"
   ]
  },
  {
   "cell_type": "code",
   "execution_count": null,
   "metadata": {},
   "outputs": [],
   "source": []
  },
  {
   "cell_type": "code",
   "execution_count": null,
   "metadata": {},
   "outputs": [],
   "source": []
  },
  {
   "cell_type": "markdown",
   "metadata": {},
   "source": [
    "<a id='word_v_count'></a>**CountVectorizer |** With the `\"scikit-learn family\"`, the CountVectorizer is used to transform a given text into a vector on the basis of the frequency (count) of each word that occurs in the entire text."
   ]
  },
  {
   "cell_type": "code",
   "execution_count": 157,
   "metadata": {},
   "outputs": [],
   "source": [
    "# Re-establishing it\n",
    "count = CountVectorizer()"
   ]
  },
  {
   "cell_type": "code",
   "execution_count": 158,
   "metadata": {},
   "outputs": [
    {
     "data": {
      "text/html": [
       "<div>\n",
       "<style scoped>\n",
       "    .dataframe tbody tr th:only-of-type {\n",
       "        vertical-align: middle;\n",
       "    }\n",
       "\n",
       "    .dataframe tbody tr th {\n",
       "        vertical-align: top;\n",
       "    }\n",
       "\n",
       "    .dataframe thead th {\n",
       "        text-align: right;\n",
       "    }\n",
       "</style>\n",
       "<table border=\"1\" class=\"dataframe\">\n",
       "  <thead>\n",
       "    <tr style=\"text-align: right;\">\n",
       "      <th></th>\n",
       "      <th>hash</th>\n",
       "      <th>created_at</th>\n",
       "      <th>username</th>\n",
       "      <th>tweet</th>\n",
       "      <th>replies_count</th>\n",
       "      <th>retweets_count</th>\n",
       "      <th>likes_count</th>\n",
       "      <th>reply_to</th>\n",
       "      <th>hashtags</th>\n",
       "      <th>comp</th>\n",
       "      <th>neg</th>\n",
       "      <th>neu</th>\n",
       "      <th>pos</th>\n",
       "      <th>tweet_stemmed</th>\n",
       "      <th>tweet_lemmatized</th>\n",
       "      <th>#_words_tweet</th>\n",
       "      <th>#_hashtags</th>\n",
       "    </tr>\n",
       "  </thead>\n",
       "  <tbody>\n",
       "    <tr>\n",
       "      <th>0</th>\n",
       "      <td>#FightForHongKong</td>\n",
       "      <td>2020-08-28</td>\n",
       "      <td>ginny81025554</td>\n",
       "      <td>Thanks speaking us #fridaysforfreedom #fightfo...</td>\n",
       "      <td>0</td>\n",
       "      <td>1</td>\n",
       "      <td>2</td>\n",
       "      <td>[{'screen_name': 'benedictrogers', 'name': 'Be...</td>\n",
       "      <td>['fridaysforfreedom', 'fightforhongkong']</td>\n",
       "      <td>0.4404</td>\n",
       "      <td>0.0</td>\n",
       "      <td>0.707</td>\n",
       "      <td>0.293</td>\n",
       "      <td>[thank, speak, us, fridaysforfreedom, fightfor...</td>\n",
       "      <td>[Thanks, speaking, u, #fridaysforfreedom, #fig...</td>\n",
       "      <td>5</td>\n",
       "      <td>2</td>\n",
       "    </tr>\n",
       "  </tbody>\n",
       "</table>\n",
       "</div>"
      ],
      "text/plain": [
       "                hash created_at       username  \\\n",
       "0  #FightForHongKong 2020-08-28  ginny81025554   \n",
       "\n",
       "                                               tweet  replies_count  \\\n",
       "0  Thanks speaking us #fridaysforfreedom #fightfo...              0   \n",
       "\n",
       "   retweets_count  likes_count  \\\n",
       "0               1            2   \n",
       "\n",
       "                                            reply_to  \\\n",
       "0  [{'screen_name': 'benedictrogers', 'name': 'Be...   \n",
       "\n",
       "                                    hashtags    comp  neg    neu    pos  \\\n",
       "0  ['fridaysforfreedom', 'fightforhongkong']  0.4404  0.0  0.707  0.293   \n",
       "\n",
       "                                       tweet_stemmed  \\\n",
       "0  [thank, speak, us, fridaysforfreedom, fightfor...   \n",
       "\n",
       "                                    tweet_lemmatized  #_words_tweet  \\\n",
       "0  [Thanks, speaking, u, #fridaysforfreedom, #fig...              5   \n",
       "\n",
       "   #_hashtags  \n",
       "0           2  "
      ]
     },
     "execution_count": 158,
     "metadata": {},
     "output_type": "execute_result"
    }
   ],
   "source": [
    "df.head(1)"
   ]
  },
  {
   "cell_type": "code",
   "execution_count": 159,
   "metadata": {},
   "outputs": [
    {
     "data": {
      "text/plain": [
       "array([['Thanks speaking us #fridaysforfreedom #fightforhongkong'],\n",
       "       ['How stop China Hong Kong. Read new report Danish Think Tank CIPO. #dkpol #kina #HongKongProtest #FightForHongKong #PrayForHongKong #NoChinaExtradition #HongKongProtest #HongKong #StandWithHongKong #HKPolice #FIVEDEMANDS #NOEXTRADITIONTOCHINA #hongkongers'],\n",
       "       ['How stop China Hong Kong. Read new report Danish Think Tank CIPO. #dkpol #kina #HongKongProtest #FightForHongKong #PrayForHongKong #WeAreNotAlone #HongKongProtest #HongKong #StandWithHongKong #HKPolice #FIVEDEMANDS #NOEXTRADITIONTOCHINA #hongkongers'],\n",
       "       ['War communism? #HongKongProtest #FightForHongKong #PrayForHongKong #WeAreNotAlone #NoChinaExtradition #HongKongProtest #HongKong #StandWithHongKong #HKPolice #fivedemands #hongkongers #noextraditiontochina'],\n",
       "       ['How stop China Hong Kong. Read new report Danish Think Tank CIPO. #dkpol #kina #HongKongProtest #FightForHongKong #PrayForHongKong #WeAreNotAlone #HongKongProtest #HongKong #StandWithHongKong #HKPolice #FIVEDEMANDS #NOEXTRADITIONTOCHINA #hongkongers'],\n",
       "       ['Read report today: How stop China Hong Kong #HongKongProtest #FightForHongKong #PrayForHongKong #WeAreNotAlone #NoChinaExtradition #HongKongProtest #HongKong #StandWithHongKong #HKPolice #fivedemands #hongkongers #noextraditiontochina'],\n",
       "       ['China never stop. #HongKongProtest #FightForHongKong #PrayForHongKong #WeAreNotAlone #NoChinaExtradition #HongKongProtest #HongKong #StandWithHongKong #HKPolice #fivedemands #hongkongers #noextraditiontochina'],\n",
       "       ['China want dominate World Get report here: #HongKongProtest #FightForHongKong #PrayForHongKong #WeAreNotAlone #NoChinaExtradition #HongKongProtest #HongKong #StandWithHongKong #HKPolice #FIVEDEMANDS #NOEXTRADITIONTOCHINA'],\n",
       "       ['_JPN Thank japan brother sister!! #freehongkong #fightforhongkong'],\n",
       "       ['Joshua Wong: ‘Forms resistance need fluid flexible’ #FightForHongKong #HongKongProtest'],\n",
       "       ['No Chinese #boycottchina #boycottmulan #saynotochina #boycottbeijing #chinazi #nochinaextradition #hongkongisnotchina #standagainsttyranny #fightfordemocracy #noextradictiontochina #policebrutality #standwithhk #fightforhongkong #endpolicebrutality #antichinazi'],\n",
       "       ['How crazy be...catch boss newspaper charge National Security Law #CCP_is_terrorist #FightforHongKong #FightforDemocracy #NationalSecurityLaw'],\n",
       "       ['Heartbreaking... loudly_crying_face whatever #FightForHongKong #StandWithHongKong'],\n",
       "       ['So unfair expected ccp #injustice #ChineseDemocracy #fightforhongkong #ILoveHongKong'],\n",
       "       ['I PROUD HONORED called Hong Konger. On revolution! #HongKong _with_HK _us _watch _hk #FightForHongKong #standwithhonkong #HKer #FiveDemands #Freedom'],\n",
       "       ['SAVE THE DATE: APWT presents Hope Hong Kong trans-oceanic online reading event connecting number Hong Kong affiliated authors poets world. Saturday 1st August! The reading link posted closer event #APWT2020 #FightForHongKong'],\n",
       "       ['No. 2 - Sunday, 19 July 2020 Chinese Consulate Toronto. #FightForHongKong #HongKongProtest #StandWithHongKong #Kovrig #Spavor #Uyghurs'],\n",
       "       ['Sunday, 19 July 2020 Chinese Consulate Toronto. #FightForHongKong #HongKongProtest #StandWithHongKong'],\n",
       "       ['The Economist - June 2019 #FightForHongKong #HongKongProtest #StandWithHongKong'],\n",
       "       ['Peaceful civil disobedience en masse easiest &amp; clearest path forward #HongKong HongKongers - #FightForHongKong victory_hand ️ raising_hands 🇭🇰#GloryToHongKong🇭🇰 raising_hands ._hk'],\n",
       "       [\"Here link yesterday's joint statement Alan Trudge Scott Morrison special visa arrangements Hong Kong passport holders #FightForHongKong #HongKongProtests #KerdoLegal #ImmigrationLaw #Ethical #Responsible #Professional\"],\n",
       "       [\"Visas extended Hong Kong citizens. Here what's changing: #FightForHongKong #HongKongProtests #KerdoLegal #ImmigrationLaw #Ethical #Responsible #Professional\"],\n",
       "       ['We support Australia’s consideration offer safe visas Hong Kong residents following China’s oppressive security laws. #FightForHongKong #HongKongProtests We ready assist Hong Kong citizen. See link call HOTLINE:'],\n",
       "       ['We condemn Bolton well. #Fightforhongkong'],\n",
       "       ['knows communist 🇨🇳 #CCP 🇨🇳 failure! #FreeHongKong!!! #hongkongpolicebrutality #noextraditiontochina #hongkongisnotchina #nochinaextradition #hkprotests #therevolutionofourtimes #fightforhongkong'],\n",
       "       ['UK ban extradition China HongKong immediately! Show leadership!! #fightforhongkong #LiberateHongKong #HongKongPoliceBrutality'],\n",
       "       ['Thousands protesters, unbowed new national-security law imposed China, staged largest show defiance Hong Kong year. via #FightForHongKong #HongKongProtests #hongkongisnotchina #HongKong'],\n",
       "       ['China (CCP) gone insane. Supposedly two tags gives CCP detain I Hong Kong. Good Luck #FightForHongKong #HongKongProtest #CanSaveHK'],\n",
       "       ['Children arrested holding signs, journalists pepper sprayed, protesters imprisoned breaking laws no-one, including legislators, allowed see adopted. Unionists bravely defend democracy. #HongKongProtest #FightForHongKong'],\n",
       "       ['Rule Law dies Hong Kong. Cowardly Communists Ji The Pooh crush freedom underfoot desperate desire NEGATIVE Truth Justice. #fightforhongkong #HongKongProtest #StandWithHongKong'],\n",
       "       ['#FightForHongKong ! Boycott CCP worldwide'],\n",
       "       ['Today marks death Hong Kong, it’s us. We’ll keep fighting till last breath never silenced. Liberate Hong Kong, revolution time. #liberatehongkong #revolutionofourtimes #fightforhongkong #freehongkong #光復香港#時代革命'],\n",
       "       ['I birthday soon July, best gift me!! Thanks #hongkongers #hkprotestors #fightforhongkong'],\n",
       "       ['We punish Blizzard atrocities China done. #FightForHongKong'],\n",
       "       ['#Beijing plans pass contentious legislation promises radically increase #Chinese control #HongKong. #FightForHongKong'],\n",
       "       ['Reminder students sign petition stop Simon Fraser University using ZOOM. #SFU #TiananmenSquareMassacre #HongKongProtests #FightForHongKong #ChinaLiedPeopleDied #Zoom #UBC'],\n",
       "       ['NEGATIVE like still happens Hong Kong . #hongkongstudentslivesmattertoo #fightforfreedom #fightforhongkong'],\n",
       "       ['I urge reply #FightForHongKong see reacts'],\n",
       "       [\"Sign petition get Simon Fraser University stop using ZOOM. Don't support platform silences users. #SFU #TiananmenSquareMassacre #HongKongProtests #FightForHongKong #ChinaLiedPeopleDied #Zoom #UBC\"],\n",
       "       ['Chanting slogans shopping mall peaceful way reminding forget fighting for. #FightforHongKong #StandWithHongKong'],\n",
       "       ['Thanks cheering. I tell protestors I met I knew grass-root family. They truely #FightForFreedom #FightforHongKong. Not rumors said “earning money protestong”. We risking prosperous future lives #CCP.'],\n",
       "       ['Thanks #FightforHongKong, fact inspire whole world #CCPChina alliance anymore'],\n",
       "       ['Respect decisions yours. But frankly, hope could #FightforHongKong overseas rather coming back face imprisonment! Take care!'],\n",
       "       ['Thank standing Hong Kongers _us - getting started. #FightforHongKong'],\n",
       "       ['never give Hong Kong !! raised_fist raised_fist raised_fist homeland Croatia fought 4 years Independence Yugoslav Wars 1991-1995 communist state \" Yugoslavia \" #FREEHONGKONG #FIGHTFORHONGKONG'],\n",
       "       [\"Emperor Doesn't Rule Hong Kong,Have To Fight China Not Flee: Pro-democracy Leader Nathan Law #FightForHongKong #6431truth _watch\"],\n",
       "       ['All around world think things looking rough But jackboot jumps people standing #BlackLivesMatter #SOGIEBillNow #FightForHongKong #JunkTerrorBill #MassTestingNowPH #DefendPressFreedom #FreeCebu8'],\n",
       "       [\"This sad. A concrete example today's issues affect FUTURE GENERATION. Don't stand by. Stand up. #FightForHongKong\"],\n",
       "       ['noting BBC \"HSBC StanChart back China security laws HK\" FD please disassociate HK subsidiary. UK FD customers support #hongkonger protests #FightForHongKong #HongKongProtest Great bank UK banks available'],\n",
       "       ['Donald Trump: Urge All Democratic States Declare Hong Kong Police Force Terrorism Organization - Sign Petition! via #freedomforhongkong #fightforhongkong #standwithhongkong'],\n",
       "       ['Xinie The Pooh(Prod. By NYO) Kaotic One Hit Link Premiering tonight! Hit reminder #hongkongprotest #hongkong #standwithhongkong #freehongkong #hongkonger #china…'],\n",
       "       ['Like giant anaconda hanging chandelier #HongKong years, Chinese Communist Party finally crashed onto 7.6 million Hongkongers. Read feature, Hong Kong: final days freedom? 🇭🇰\\u2060 #hongkongprotests #hongkongprotest'],\n",
       "       ['One day, one day pay crime Tagging know I hate #HongKong #HongKongProtest #MEMES'],\n",
       "       ['#Yellow Thai Lunch #SupportAppleDaily #WeNeedAppleDaily #YellowEconomicCircle #黃色經濟圈 #5DemandsNot1Less #StandWithHongKong #StandwithHK #FightForFreedom #SupportYellowEconomicCircle #YellowEconomy #HongKong #HongKongProtesters #HongKongProtest #HongKongProtests #寶泰泰式美食'],\n",
       "       ['#Chinazi keeps destroying #HongKong #HongKongProtest'],\n",
       "       ['Help detained Hong Kongers ! Please read RT see post. #SAVE12 #Save12HKYouths #HongKongProtest #HongKong'],\n",
       "       ['Extradition Laws, Processes Recent Developments #Extradition #ExtraditionProcess #fugitive #fugitiveoffenders #niravmodi #VijayMallya #HongKong #Hongkongprotest #LatestLaws'],\n",
       "       ['BRIBERY &amp; CORRUPTION - [ ] #PL #PremierLeague #PremierLeagueIsCorrupt #NUFC #NUFCTakeover #Hongkongprotest #Uighurs #budfootball #BudweiserUK #Nike #nikefootball #CarlsbergUK #AveryDennison #OfficialPanini #CocaCola_GB #CocaCola #barclaysuknews #BarclaysFooty #EA #EASPORTS'],\n",
       "       ['CORRUPT AS NEGATIVE - [ ] #PL #PremierLeague #PremierLeagueIsCorrupt #NUFC #NUFCTakeover #Hongkongprotest #Uighurs #budfootball #BudweiserUK #Nike #nikefootball #CarlsbergUK #AveryDennison #OfficialPanini #CocaCola_GB #CocaCola #barclaysuknews #BarclaysFooty #EA #EASPORTS #TAGHeuer'],\n",
       "       ['CORRUPT LEAGUE - [ ] #PL #PremierLeague #PremierLeagueIsCorrupt #NUFC #NUFCTakeover #Hongkongprotest #Uighurs #budfootball #BudweiserUK #Nike #nikefootball #CarlsbergUK #AveryDennison #OfficialPanini #CocaCola_GB #CocaCola #barclaysuknews #BarclaysFooty #EA #EASPORTS #TAGHeuer'],\n",
       "       ['#TAGHeuer sponsor #RedBull #TAGHeuer sponsor #PremierLeague CORRUPTION - [ ] #PL #PremierLeague #PremierLeagueIsCorrupt #NUFC #NUFCTakeover #Hongkongprotest #Uighurs #budfootball #BudweiserUK #Nike #nikefootball #CarlsbergUK #AveryDennison #OfficialPanini #CocaCola_GB #CocaCola'],\n",
       "       ['_UK OFFICIAL SPONSOR OF #PremierLeague CORRUPTION. SHAME ON ANYONE WHO BUYS THIS DOGSHIT. - [ ] #PL #PremierLeague #PremierLeagueIsCorrupt #NUFC #NUFCTakeover #Hongkongprotest #Uighurs #budfootball #BudweiserUK #Nike #nikefootball #CarlsbergUK #AveryDennison #OfficialPanini'],\n",
       "       ['_UK GOT CORRUPTION GOT BRIBERY NEED INVESTIGATING! - [ ] #PL #PremierLeague #PremierLeagueIsCorrupt #NUFC #NUFCTakeover #Hongkongprotest #Uighurs #budfootball #BudweiserUK #Nike #nikefootball #CarlsbergUK #AveryDennison #OfficialPanini #CocaCola_GB #CocaCola #barclaysuknews'],\n",
       "       ['_UK PANNINI SPONSOR CORRUPTION IN SPORT - [ ] #PL #PremierLeague #PremierLeagueIsCorrupt #NUFC #NUFCTakeover #Hongkongprotest #Uighurs #budfootball #BudweiserUK #Nike #nikefootball #CarlsbergUK #AveryDennison #OfficialPanini #CocaCola_GB #CocaCola #barclaysuknews #BarclaysFooty #EA'],\n",
       "       ['_UK STICK TO CORRUPTION #PL #PremierLeague #PremierLeagueIsCorrupt #NUFC #NUFCTakeover #Hongkongprotest #budfootball #BudweiserUK #Nike #nikefootball #CarlsbergUK #AveryDennison #OfficialPanini #CocaCola_GB #CocaCola #barclaysuknews #BarclaysFooty #EA #EASPORTS #TAGHeuer'],\n",
       "       ['IMPLYING CORRUPTION IN ITALY. IGNORING CORRUPTION IN #PremierLeague GTFOH - [ ] #PremierLeagueIsCorrupt #NUFC #NUFCTakeover #Hongkongprotest #Uighurs _GB'],\n",
       "       ['BBC GONNA TWEET THIS ALL DAY. - [ ] #PremierLeagueIsCorrupt #NUFC #NUFCTakeover #Hongkongprotest #Uighurs _GB'],\n",
       "       ['_Couple ULTRA XL CARDS ARE DOGSHIT - [ ] #PremierLeagueIsCorrupt #NUFC #NUFCTakeover #Hongkongprotest #Uighurs _GB'],\n",
       "       ['_Couple PANNINI CORRUPT COMPANY - [ ] #PremierLeagueIsCorrupt #NUFC #NUFCTakeover #Hongkongprotest #Uighurs _GB'],\n",
       "       ['OVERPRICED DOGSHIT FOR POSEURS - [ ] #PremierLeagueIsCorrupt #NUFC #NUFCTakeover #Hongkongprotest #Uighurs _GB'],\n",
       "       ['SPONSOR CORRUPTION - [ ] #PremierLeagueIsCorrupt #NUFC #NUFCTakeover #Hongkongprotest #Uighurs _GB'],\n",
       "       ['OVER PRICED NEGATIVE FROM A CORRUPT COMPANY - [ ] #PremierLeagueIsCorrupt #NUFC #NUFCTakeover #Hongkongprotest #Uighurs _GB'],\n",
       "       ['GOT BRIBES GOT CORRUPTION NEED INVESTIGATING - [ ] #PremierLeagueIsCorrupt #NUFC #NUFCTakeover #Hongkongprotest #Uighurs _GB'],\n",
       "       ['CORRUPT COMPANY - [ ] #PremierLeagueIsCorrupt #NUFC #NUFCTakeover #Hongkongprotest #Uighurs _GB'],\n",
       "       ['CORRUPT COMPANY! - [ ] #PremierLeagueIsCorrupt #NUFC #NUFCTakeover #Hongkongprotest #Uighurs _GB'],\n",
       "       ['SOCIAL RESPONSIBILITY? NOT ON TYNESIDE UK - [ ] #PremierLeagueIsCorrupt #NUFC #NUFCTakeover #Hongkongprotest #Uighurs _GB'],\n",
       "       ['CORRUPT AS NEGATIVE - [ ] #PremierLeagueIsCorrupt #NUFC #NUFCTakeover #Hongkongprotest #Uighurs _GB'],\n",
       "       ['CORRUPT COMPANY - [ ] #PremierLeagueIsCorrupt #NUFC #NUFCTakeover #Hongkongprotest #Uighurs _GB'],\n",
       "       ['YOU ALSO SUPPORTED #PL CORRUPTION! - [ ] #PremierLeagueIsCorrupt #NUFC #NUFCTakeover #Hongkongprotest #Uighurs _GB'],\n",
       "       ['BRIBERY AND CORRUPTION - [ ] #PremierLeagueIsCorrupt #NUFC #NUFCTakeover #Hongkongprotest #Uighurs _GB'],\n",
       "       ['CORRUPT AS NEGATIVE! - [ ] #PremierLeagueIsCorrupt #NUFC #NUFCTakeover #Hongkongprotest #Uighurs _GB'],\n",
       "       ['CORRUPT LEAGUE - [ ] #PremierLeagueIsCorrupt #NUFC #NUFCTakeover #Hongkongprotest #Uighurs _GB'],\n",
       "       ['WAITING! - [ ] #PremierLeagueIsCorrupt #NUFC #NUFCTakeover #Hongkongprotest #Uighurs _GB'],\n",
       "       ['CORRUPTION KICKS OFF - [ ] #PremierLeagueIsCorrupt #NUFC #NUFCTakeover #Hongkongprotest #Uighurs _GB CANT WAIT!'],\n",
       "       ['_ TOTALLY CORRUPT - [ ] #PremierLeagueIsCorrupt #NUFC #NUFCTakeover #Hongkongprotest #Uighurs _GB'],\n",
       "       ['_ BRIBERY &amp; CORRUPTION - [ ] #PremierLeagueIsCorrupt #NUFC #NUFCTakeover #Hongkongprotest #Uighurs _GB'],\n",
       "       ['_ PROBABLY FIXED - [ ] #PremierLeagueIsCorrupt #NUFC #NUFCTakeover #Hongkongprotest #Uighurs _GB'],\n",
       "       ['_ CORRUPT AS NEGATIVE - [ ] #PremierLeagueIsCorrupt #NUFC #NUFCTakeover #Hongkongprotest #Uighurs _GB'],\n",
       "       ['CORRUPT AS NEGATIVE - [ ] #PremierLeagueIsCorrupt #NUFC #NUFCTakeover #Hongkongprotest #Uighurs _GB'],\n",
       "       ['CORRUPT LEAGUE - [ ] #PremierLeagueIsCorrupt #NUFC #NUFCTakeover #Hongkongprotest #Uighurs _GB'],\n",
       "       ['CORRUPT ENOUGH TO HAVE IT ARRANGED ALREADY - [ ] #PremierLeagueIsCorrupt #NUFC #NUFCTakeover #Hongkongprotest #Uighurs _GB'],\n",
       "       ['If send back #HongKong, must killed CCP like happened #Xinjiang concentration camp. Please save kids #StandWithHongKong! #FreeHongKong #YoungLivesMatters #Hongkongprotest'],\n",
       "       ['If send back #HongKong, must killed CCP like happened #Xinjiang concentration camp. Please save kids #StandWithHongKong! #FreeHongKong #YoungLivesMatters #Hongkongprotest'],\n",
       "       ['Support Hong Kong Restart CLEAN 2020 Legislative Council Election NOW #StandWithHongKong #FightForFree #5DemandsNot1Less #HongKong #FreeHongKong #HongKongProtesters #WeLoveHongKong #StandwithHK #HongKongProtests #HongKongProtest'],\n",
       "       ['CORRUPT AS NEGATIVE - [ ] #PremierLeagueIsCorrupt #NUFC #NUFCTakeover #Hongkongprotest #Uighurs _GB'],\n",
       "       ['OFFICIAL SPONSOR OF CORRUPTION - [ ] #PremierLeagueIsCorrupt #NUFC #NUFCTakeover #Hongkongprotest #Uighurs _GB'],\n",
       "       ['_ #PL CORRUPT AS NEGATIVE - [ ] #PremierLeagueIsCorrupt #NUFC #NUFCTakeover #Hongkongprotest #Uighurs _GB'],\n",
       "       ['OFFICIAL SPONSOR OF CORRUPTION - [ ] #PremierLeagueIsCorrupt #NUFC #NUFCTakeover #Hongkongprotest #Uighurs _GB'],\n",
       "       ['PANNINI SPONSOR CORRUPTION - [ ] #PremierLeagueIsCorrupt #NUFC #NUFCTakeover #Hongkongprotest #Uighurs _GB'],\n",
       "       ['_Couple PANNINI SPONSOR CORRUPTION - [ ] #PremierLeagueIsCorrupt #NUFC #NUFCTakeover #Hongkongprotest #Uighurs _GB'],\n",
       "       ['_ EA SPORTS SPONSOR CORRUPTION - [ ] #PremierLeagueIsCorrupt #NUFC #NUFCTakeover #Hongkongprotest #Uighurs _GB'],\n",
       "       ['CORRUPT AS NEGATIVE - [ ] #PremierLeagueIsCorrupt #NUFC #NUFCTakeover #Hongkongprotest #Uighurs _GB'],\n",
       "       ['_Jamboo CORRUPT LEAGUE - [ ] #PremierLeagueIsCorrupt #NUFC #NUFCTakeover #Hongkongprotest #Uighurs _GB'],\n",
       "       ['_Jamboo CORRUPT AS NEGATIVE - [ ] #PremierLeagueIsCorrupt #NUFC #NUFCTakeover #Hongkongprotest #Uighurs _GB'],\n",
       "       ['Thanks #5DemandsNot1Less #StandWithHongKong #StandwithHK #FightForFreedom #HongKong #HongKongProtesters #HongKongProtest #HongKongProtests #HongKonger #FridaysForFreedom #NOWFriday #HongKongNeedsHelp #FreeHongKong'],\n",
       "       ['Friday #Yellow Lunch #SupportAppleDaily #WeNeedAppleDaily #YellowEconomicCircle #黃色經濟圈 #5DemandsNot1Less #StandWithHongKong #StandwithHK #FightForFreedom #SupportYellowEconomicCircle #YellowEconomy #HongKong #HongKongProtesters #HongKongProtest #HongKongProtests #HongKonger'],\n",
       "       ['Heartbroken news pensive_face #hongkong safe place youth, need concern! #Hongkongprotest #Save12hkyouth'],\n",
       "       ['_official If send back #HongKong, must killed CCP like happened #Xinjiang concentration camp. Please save kids #StandWithHongKong! #FreeHongKong #YoungLiveMatters #Hongkongprotest'],\n",
       "       ['If send back #HongKong, must killed CCP like happened #Xinjiang concentration camp. Please save kids #StandWithHongKong! #FreeHongKong #YoungLiveMatters #Hongkongprotest'],\n",
       "       ['If send back #HongKong, must killed CCP like happened #Xinjiang concentration camp. Please save kids #StandWithHongKong! #FreeHongKong #YoungLiveMatters #Hongkongprotest'],\n",
       "       ['LIES &amp; CORRUPTION - [ ] #PremierLeagueIsCorrupt #NUFC #NUFCTakeover #Hongkongprotest #Uighurs _GB'],\n",
       "       ['BRIBERY! - [ ] #PremierLeagueIsCorrupt #NUFC #NUFCTakeover #Hongkongprotest #Uighurs _GB'],\n",
       "       ['CORRUPT AS NEGATIVE - [ ] #PremierLeagueIsCorrupt #NUFC #NUFCTakeover #Hongkongprotest #Uighurs _GB'],\n",
       "       ['CORRUPTION! - [ ] #PremierLeagueIsCorrupt #NUFC #NUFCTakeover #Hongkongprotest #Uighurs _GB'],\n",
       "       ['CORRUPT AS NEGATIVE - [ ] #PremierLeagueIsCorrupt #NUFC #NUFCTakeover #Hongkongprotest #Uighurs _GB'],\n",
       "       ['VERY HIGH CORRUPTION - [ ] #PremierLeagueIsCorrupt #NUFC #NUFCTakeover #Hongkongprotest #Uighurs _GB'],\n",
       "       ['sponsor corruption sport - [ ] #PremierLeagueIsCorrupt #NUFC #NUFCTakeover #Hongkongprotest #Uighurs _GB'],\n",
       "       ['CORRUPTION! ITS IN THE GAME! - [ ] #PremierLeagueIsCorrupt #NUFC #NUFCTakeover #Hongkongprotest #Uighurs _GB'],\n",
       "       ['Official sponsor #PL Corruption - [ ] #PremierLeagueIsCorrupt #NUFC #NUFCTakeover #Hongkongprotest #Uighurs _GB'],\n",
       "       ['BRIBERY #PL - [ ] #PremierLeagueIsCorrupt #NUFC #NUFCTakeover #Hongkongprotest #Uighurs _GB'],\n",
       "       ['PLANNED CORRUPTION - [ ] #PremierLeagueIsCorrupt #NUFC #NUFCTakeover #Hongkongprotest #Uighurs _GB'],\n",
       "       ['CORRPUPT LEAGUE! - [ ] #PremierLeagueIsCorrupt #NUFC #NUFCTakeover #Hongkongprotest #Uighurs _GB'],\n",
       "       ['CORRUPT LEAGUE - [ ] #PremierLeagueIsCorrupt #NUFC #NUFCTakeover #Hongkongprotest #Uighurs _GB'],\n",
       "       ['Say #China / #chinazi /#Xi #HongKongProtest #FightForFreedomStandWithHongKong #HKPoliceState #HKPoliceTerrorism #SaynotoHKNSL'],\n",
       "       ['#PL CORRUPTION - [ ] #PremierLeagueIsCorrupt #NUFC #NUFCTakeover #Hongkongprotest #Uighurs _GB'],\n",
       "       ['SPONSOR CORRUPTION #PL - [ ] #PremierLeagueIsCorrupt #NUFC #NUFCTakeover #Hongkongprotest #Uighurs _GB'],\n",
       "       ['HOW MUCH CORRUPTION? - [ ] #PremierLeagueIsCorrupt #NUFC #NUFCTakeover #Hongkongprotest #Uighurs _GB'],\n",
       "       ['CORRUPT LEAGUE - [ ] #PremierLeagueIsCorrupt #NUFC #NUFCTakeover #Hongkongprotest #Uighurs _GB'],\n",
       "       ['CORRUPT COMPANY - [ ] #PremierLeagueIsCorrupt #NUFC #NUFCTakeover #Hongkongprotest #Uighurs _GB'],\n",
       "       ['PANNINI SPONSOR CORRUPTION IN SPORT #PremierLeagueIsCorrupt #NUFC #NUFCTakeover #Hongkongprotest #Uighurs _GB'],\n",
       "       ['Over priced NEGATIVE. Buy Casio poseurs. CORRUPTION - [ ] #PremierLeagueIsCorrupt #NUFC #NUFCTakeover #Hongkongprotest #Uighurs _GB'],\n",
       "       ['#TAGHeuer OFFICAL SPONSOR OF CORRUPTION #PL - [ ] #PremierLeagueIsCorrupt #NUFC #NUFCTakeover #Hongkongprotest #Uighurs _GB'],\n",
       "       ['_Henry #PL CORRUPT AS NEGATIVE - [ ] #PremierLeagueIsCorrupt #NUFC #NUFCTakeover #Hongkongprotest #Uighurs _GB'],\n",
       "       ['CORRUPT AS NEGATIVE - [ ] #PremierLeagueIsCorrupt #NUFC #NUFCTakeover #Hongkongprotest #Uighurs _GB'],\n",
       "       ['SHAMEFUL CORRUPTION - [ ] #PremierLeagueIsCorrupt #NUFC #NUFCTakeover #Hongkongprotest #Uighurs _GB'],\n",
       "       ['DISGRACEFUL CORRUPTION - [ ] #PremierLeagueIsCorrupt #NUFC #NUFCTakeover #Hongkongprotest #Uighurs _GB'],\n",
       "       ['CORRUPTION #PremierLeagueIsCorrupt #NUFC #NUFCTakeover #Hongkongprotest #Uighurs _GB'],\n",
       "       ['CORRUPT LEAGUE - [ ] #PremierLeagueIsCorrupt #NUFC #NUFCTakeover #Hongkongprotest #Uighurs _GB'],\n",
       "       ['_news If send back #HongKong, must killed CCP like happened #Xinjiang concentration camp. Please save kids #StandWithHongKong! #FreeHongKong #YoungLiveMatters #Hongkongprotest'],\n",
       "       ['Thank much always supporting #HongKongers, MEP. If send back #HongKong, must killed CCP like happened #Xinjiang concentration camp. Please save kids #StandWithHongKong! #FreeHongKong #YoungLiveMatters #Hongkongprotest'],\n",
       "       ['If send back #HongKong, must killed CCP like happened #Xinjiang concentration camp. Please save kids #StandWithHongKong! #FreeHongKong #YoungLiveMatters #Hongkongprotest'],\n",
       "       ['If send back #HongKong, must killed CCP like happened #Xinjiang concentration camp. Please save kids #StandWithHongKong! #FreeHongKong #YoungLiveMatters #Hongkongprotest'],\n",
       "       ['If send back #HongKong, must killed CCP like happened #Xinjiang concentration camp. Please save kids #StandWithHongKong! #FreeHongKong #YoungLiveMatters #Hongkongprotest'],\n",
       "       ['If send back #HongKong, must killed CCP like happened #Xinjiang concentration camp. Please save kids #StandWithHongKong! #FreeHongKong #YoungLiveMatters #Hongkongprotest'],\n",
       "       ['#PL CORRUPT LEAGUE - [ ] #PremierLeagueIsCorrupt #NUFC #NUFCTakeover #Hongkongprotest #Uighurs _GB'],\n",
       "       ['CORRUPT COMPANY - [ ] #PremierLeagueIsCorrupt #NUFC #NUFCTakeover #Hongkongprotest #Uighurs _GB'],\n",
       "       ['CORRUPT COMPANY - [ ] #PremierLeagueIsCorrupt #NUFC #NUFCTakeover #Hongkongprotest #Uighurs _GB'],\n",
       "       ['PROUD TO SPONSOR CORRUPTION - [ ] #PremierLeagueIsCorrupt #NUFC #NUFCTakeover #Hongkongprotest #Uighurs _GB'],\n",
       "       ['Done white_heavy_check_mark - [ ] #PremierLeagueIsCorrupt #NUFC #NUFCTakeover #Hongkongprotest #Uighurs _GB'],\n",
       "       ['Please stay tuned this. Don\\'t let \"disappear\" nowhere #Hongkongprotest #nationalsecuritylaw'],\n",
       "       ['They sent China directly even China territory... need pay attention personal safety... pray... #Hongkongprotest'],\n",
       "       ['If send back #HongKong, must killed CCP like happened #Xinjiang concentration camp. Please save kids #StandWithHongKong! #FreeHongKong #YoungLiveMatters #Hongkongprotest'],\n",
       "       ['If send back #HongKong, must killed CCP like happened #Xinjiang concentration camp. Please save kids #StandWithHongKong! #FreeHongKong #YoungLiveMatters #Hongkongprotest'],\n",
       "       ['If send back #HongKong, must killed CCP like happened #Xinjiang concentration camp. Please save kids #StandWithHongKong! #FreeHongKong #YoungLiveMatters #Hongkongprotest'],\n",
       "       ['If send back #HongKong, must killed CCP like happened #Xinjiang concentration camp. Please save kids #StandWithHongKong! #FreeHongKong #YoungLiveMatters #Hongkongprotest'],\n",
       "       ['If send back #HongKong, must killed CCP like happened #Xinjiang concentration camp. Please save kids #StandWithHongKong! #FreeHongKong #YoungLiveMatters #Hongkongprotest'],\n",
       "       ['If send back #HongKong, must killed CCP like happened #Xinjiang concentration camp. Please save kids #StandWithHongKong! #FreeHongKong #YoungLiveMatters #Hongkongprotest'],\n",
       "       ['If send back #HongKong, must killed CCP like happened #Xinjiang concentration camp. Please save kids #StandWithHongKong! #FreeHongKong #YoungLiveMatters #Hongkongprotest'],\n",
       "       ['Thank much standing #HongKongers !!! #HongKongPolice ALL #NEGATIVE!!! #Hongkongprotest #721YuenLongTerroristAttack #721YuenLongAttack #HongKongPoliceTerrorists #hongkongpolicebrutality'],\n",
       "       ['Hope help save #freedomfighters #hongkong #StandWithHongKong #Hongkongprotest'],\n",
       "       ['China arrests least 10 sea; Hong Kong media say suspects fleeing Taiwan #standwithhongkong #hongkonger #hongkongprotest'],\n",
       "       ['History never thing China #HongKongPoliceState #Hongkongprotest #721YuenLongTerroristAttack'],\n",
       "       ['Arrested activist among group caught coastguard fleeing Hong Kong #Hongkongprotest'],\n",
       "       ['Say #China / #chinazi /#Xi # #HongKongProtest #FightForFreedomStandWithHongKong #HKPoliceState #HKPoliceTerrorism #SaynotoHKNSL'],\n",
       "       ['They die please help #sos #hklaw #ccp #usa #China_is_terrorist #BoycottChina #Hongkong #Hk #香港デモ #Hongkongprotest #antiEALB #antichinazi #freedom #StandWithHongKong #FreeHongKong #NoChinaExtradition #BoycottMulan #HongKongPolice #HKPoliceTerrorism #HongKongProtests'],\n",
       "       [\"It's obvious, isn't? #HKPoliceTerrorist STOPPED water cannon right next Mosque &amp; fired blue-dyed chemical water toward journalists wearing safety vests w/o hesitation. It's ignorance &amp; disrespect #Muslim #HongKongProtest\"],\n",
       "       ['hope know happened happening Hong Kong #HongKongProtest'],\n",
       "       ['Be caught sent #China #hongkongprotest'],\n",
       "       ['Thank standing us. #StandWithHongKong #hkpolicebrutality #HKPoliceState #HKprotests #HKGestapo #HongKong #HongKongProtest #FreeHongKong'],\n",
       "       ['Thanks Hongkonger US. _the_Hkers #antielab #HongKongProtest #HongKong #WeTheHongkongers #wearehongkonger'],\n",
       "       ['#HongKongProtest : Anger mounts police accused trying rewrite white-shirt mob attacks Yuen Long arrest opposition lawmaker #NationalSecurityLaw #HongKong'],\n",
       "       ['#Yellow Lunch raised_hand_with_fingers_splayed light_skin_tone index_pointing_up light_skin_tone #SupportAppleDaily #WeNeedAppleDaily #YellowEconomicCircle #黃色經濟圈 #5DemandsNot1Less #StandWithHongKong #StandwithHK #FightForFreedom #SupportYellowEconomicCircle #YellowEconomy #HongKong #HongKongProtesters #HongKongProtest #HongKongProtests #HongKonger'],\n",
       "       ['This totally ridiculous. #CCP #HongKong #Hongkongprotest #HongKongPoliceTerrorists'],\n",
       "       ['Blackbloc tomorrow, HKgers reunion! In darkest moment, conscience lighting us #Hongkongprotest #FightForFreedom #StandwithHK']],\n",
       "      dtype=object)"
      ]
     },
     "execution_count": 159,
     "metadata": {},
     "output_type": "execute_result"
    }
   ],
   "source": [
    "# Making a copy, turning it into an array & confirming based on the first 3\n",
    "df_cvec_temp = pd.DataFrame(df['tweet'].copy())\n",
    "df_cvec_temp = df_cvec_temp.values\n",
    "df_cvec_temp"
   ]
  },
  {
   "cell_type": "code",
   "execution_count": 160,
   "metadata": {},
   "outputs": [],
   "source": [
    "# Create the bag of words feature matrix\n",
    "bow_tweet = count.fit_transform(df_cvec_temp.ravel())"
   ]
  },
  {
   "cell_type": "code",
   "execution_count": 161,
   "metadata": {},
   "outputs": [
    {
     "data": {
      "text/plain": [
       "array([[0, 0, 0, ..., 0, 0, 0],\n",
       "       [0, 0, 0, ..., 0, 0, 0],\n",
       "       [0, 0, 0, ..., 0, 0, 0],\n",
       "       ...,\n",
       "       [0, 0, 0, ..., 0, 0, 1],\n",
       "       [0, 0, 0, ..., 0, 0, 0],\n",
       "       [0, 0, 0, ..., 0, 0, 0]], dtype=int64)"
      ]
     },
     "execution_count": 161,
     "metadata": {},
     "output_type": "execute_result"
    }
   ],
   "source": [
    "# Show feature matrix\n",
    "bow_tweet.toarray()"
   ]
  },
  {
   "cell_type": "code",
   "execution_count": 162,
   "metadata": {},
   "outputs": [],
   "source": [
    "# Get feature names\n",
    "feature_names = count.get_feature_names()"
   ]
  },
  {
   "cell_type": "markdown",
   "metadata": {},
   "source": [
    "When we do a check on the data frame after we send it there, we never see the middle portion, so we will check the Top ~5 & Bottom ~5 of the array for reference."
   ]
  },
  {
   "cell_type": "code",
   "execution_count": 163,
   "metadata": {},
   "outputs": [
    {
     "data": {
      "text/plain": [
       "['10', '19', '1991', '1995', '1st']"
      ]
     },
     "execution_count": 163,
     "metadata": {},
     "output_type": "execute_result"
    }
   ],
   "source": [
    "# Top 5 feature names\n",
    "feature_names[:5]"
   ]
  },
  {
   "cell_type": "code",
   "execution_count": 164,
   "metadata": {},
   "outputs": [
    {
     "data": {
      "text/plain": [
       "['光復香港', '寶泰泰式美食', '時代革命', '香港デモ', '黃色經濟圈']"
      ]
     },
     "execution_count": 164,
     "metadata": {},
     "output_type": "execute_result"
    }
   ],
   "source": [
    "# Bottom 5 feature names\n",
    "feature_names[-5:]"
   ]
  },
  {
   "cell_type": "code",
   "execution_count": 165,
   "metadata": {},
   "outputs": [
    {
     "data": {
      "text/html": [
       "<div>\n",
       "<style scoped>\n",
       "    .dataframe tbody tr th:only-of-type {\n",
       "        vertical-align: middle;\n",
       "    }\n",
       "\n",
       "    .dataframe tbody tr th {\n",
       "        vertical-align: top;\n",
       "    }\n",
       "\n",
       "    .dataframe thead th {\n",
       "        text-align: right;\n",
       "    }\n",
       "</style>\n",
       "<table border=\"1\" class=\"dataframe\">\n",
       "  <thead>\n",
       "    <tr style=\"text-align: right;\">\n",
       "      <th></th>\n",
       "      <th>10</th>\n",
       "      <th>19</th>\n",
       "      <th>1991</th>\n",
       "      <th>1995</th>\n",
       "      <th>1st</th>\n",
       "      <th>2019</th>\n",
       "      <th>2020</th>\n",
       "      <th>5demandsnot1less</th>\n",
       "      <th>6431truth</th>\n",
       "      <th>721yuenlongattack</th>\n",
       "      <th>...</th>\n",
       "      <th>youth</th>\n",
       "      <th>yuen</th>\n",
       "      <th>yugoslav</th>\n",
       "      <th>yugoslavia</th>\n",
       "      <th>zoom</th>\n",
       "      <th>光復香港</th>\n",
       "      <th>寶泰泰式美食</th>\n",
       "      <th>時代革命</th>\n",
       "      <th>香港デモ</th>\n",
       "      <th>黃色經濟圈</th>\n",
       "    </tr>\n",
       "  </thead>\n",
       "  <tbody>\n",
       "    <tr>\n",
       "      <th>0</th>\n",
       "      <td>0</td>\n",
       "      <td>0</td>\n",
       "      <td>0</td>\n",
       "      <td>0</td>\n",
       "      <td>0</td>\n",
       "      <td>0</td>\n",
       "      <td>0</td>\n",
       "      <td>0</td>\n",
       "      <td>0</td>\n",
       "      <td>0</td>\n",
       "      <td>...</td>\n",
       "      <td>0</td>\n",
       "      <td>0</td>\n",
       "      <td>0</td>\n",
       "      <td>0</td>\n",
       "      <td>0</td>\n",
       "      <td>0</td>\n",
       "      <td>0</td>\n",
       "      <td>0</td>\n",
       "      <td>0</td>\n",
       "      <td>0</td>\n",
       "    </tr>\n",
       "    <tr>\n",
       "      <th>1</th>\n",
       "      <td>0</td>\n",
       "      <td>0</td>\n",
       "      <td>0</td>\n",
       "      <td>0</td>\n",
       "      <td>0</td>\n",
       "      <td>0</td>\n",
       "      <td>0</td>\n",
       "      <td>0</td>\n",
       "      <td>0</td>\n",
       "      <td>0</td>\n",
       "      <td>...</td>\n",
       "      <td>0</td>\n",
       "      <td>0</td>\n",
       "      <td>0</td>\n",
       "      <td>0</td>\n",
       "      <td>0</td>\n",
       "      <td>0</td>\n",
       "      <td>0</td>\n",
       "      <td>0</td>\n",
       "      <td>0</td>\n",
       "      <td>0</td>\n",
       "    </tr>\n",
       "    <tr>\n",
       "      <th>2</th>\n",
       "      <td>0</td>\n",
       "      <td>0</td>\n",
       "      <td>0</td>\n",
       "      <td>0</td>\n",
       "      <td>0</td>\n",
       "      <td>0</td>\n",
       "      <td>0</td>\n",
       "      <td>0</td>\n",
       "      <td>0</td>\n",
       "      <td>0</td>\n",
       "      <td>...</td>\n",
       "      <td>0</td>\n",
       "      <td>0</td>\n",
       "      <td>0</td>\n",
       "      <td>0</td>\n",
       "      <td>0</td>\n",
       "      <td>0</td>\n",
       "      <td>0</td>\n",
       "      <td>0</td>\n",
       "      <td>0</td>\n",
       "      <td>0</td>\n",
       "    </tr>\n",
       "  </tbody>\n",
       "</table>\n",
       "<p>3 rows × 723 columns</p>\n",
       "</div>"
      ],
      "text/plain": [
       "   10  19  1991  1995  1st  2019  2020  5demandsnot1less  6431truth  \\\n",
       "0   0   0     0     0    0     0     0                 0          0   \n",
       "1   0   0     0     0    0     0     0                 0          0   \n",
       "2   0   0     0     0    0     0     0                 0          0   \n",
       "\n",
       "   721yuenlongattack  ...  youth  yuen  yugoslav  yugoslavia  zoom  光復香港  \\\n",
       "0                  0  ...      0     0         0           0     0     0   \n",
       "1                  0  ...      0     0         0           0     0     0   \n",
       "2                  0  ...      0     0         0           0     0     0   \n",
       "\n",
       "   寶泰泰式美食  時代革命  香港デモ  黃色經濟圈  \n",
       "0       0     0     0      0  \n",
       "1       0     0     0      0  \n",
       "2       0     0     0      0  \n",
       "\n",
       "[3 rows x 723 columns]"
      ]
     },
     "execution_count": 165,
     "metadata": {},
     "output_type": "execute_result"
    }
   ],
   "source": [
    "df_cvec = pd.DataFrame(bow_tweet.toarray(), columns=feature_names)\n",
    "df_cvec.head(3)"
   ]
  },
  {
   "cell_type": "code",
   "execution_count": 166,
   "metadata": {},
   "outputs": [],
   "source": [
    "df_cvec = pd.concat([df, df_cvec], axis=1)"
   ]
  },
  {
   "cell_type": "code",
   "execution_count": 167,
   "metadata": {},
   "outputs": [
    {
     "data": {
      "text/html": [
       "<div>\n",
       "<style scoped>\n",
       "    .dataframe tbody tr th:only-of-type {\n",
       "        vertical-align: middle;\n",
       "    }\n",
       "\n",
       "    .dataframe tbody tr th {\n",
       "        vertical-align: top;\n",
       "    }\n",
       "\n",
       "    .dataframe thead th {\n",
       "        text-align: right;\n",
       "    }\n",
       "</style>\n",
       "<table border=\"1\" class=\"dataframe\">\n",
       "  <thead>\n",
       "    <tr style=\"text-align: right;\">\n",
       "      <th></th>\n",
       "      <th>hash</th>\n",
       "      <th>created_at</th>\n",
       "      <th>username</th>\n",
       "      <th>tweet</th>\n",
       "      <th>replies_count</th>\n",
       "      <th>retweets_count</th>\n",
       "      <th>likes_count</th>\n",
       "      <th>reply_to</th>\n",
       "      <th>hashtags</th>\n",
       "      <th>comp</th>\n",
       "      <th>...</th>\n",
       "      <th>youth</th>\n",
       "      <th>yuen</th>\n",
       "      <th>yugoslav</th>\n",
       "      <th>yugoslavia</th>\n",
       "      <th>zoom</th>\n",
       "      <th>光復香港</th>\n",
       "      <th>寶泰泰式美食</th>\n",
       "      <th>時代革命</th>\n",
       "      <th>香港デモ</th>\n",
       "      <th>黃色經濟圈</th>\n",
       "    </tr>\n",
       "  </thead>\n",
       "  <tbody>\n",
       "    <tr>\n",
       "      <th>0</th>\n",
       "      <td>#FightForHongKong</td>\n",
       "      <td>2020-08-28</td>\n",
       "      <td>ginny81025554</td>\n",
       "      <td>Thanks speaking us #fridaysforfreedom #fightfo...</td>\n",
       "      <td>0</td>\n",
       "      <td>1</td>\n",
       "      <td>2</td>\n",
       "      <td>[{'screen_name': 'benedictrogers', 'name': 'Be...</td>\n",
       "      <td>['fridaysforfreedom', 'fightforhongkong']</td>\n",
       "      <td>0.4404</td>\n",
       "      <td>...</td>\n",
       "      <td>0</td>\n",
       "      <td>0</td>\n",
       "      <td>0</td>\n",
       "      <td>0</td>\n",
       "      <td>0</td>\n",
       "      <td>0</td>\n",
       "      <td>0</td>\n",
       "      <td>0</td>\n",
       "      <td>0</td>\n",
       "      <td>0</td>\n",
       "    </tr>\n",
       "    <tr>\n",
       "      <th>1</th>\n",
       "      <td>#FightForHongKong</td>\n",
       "      <td>2020-08-25</td>\n",
       "      <td>peterhjorth_ddp</td>\n",
       "      <td>How stop China Hong Kong. Read new report Dani...</td>\n",
       "      <td>0</td>\n",
       "      <td>0</td>\n",
       "      <td>0</td>\n",
       "      <td>[]</td>\n",
       "      <td>['dkpol', 'kina', 'hongkongprotest', 'fightfor...</td>\n",
       "      <td>-0.2960</td>\n",
       "      <td>...</td>\n",
       "      <td>0</td>\n",
       "      <td>0</td>\n",
       "      <td>0</td>\n",
       "      <td>0</td>\n",
       "      <td>0</td>\n",
       "      <td>0</td>\n",
       "      <td>0</td>\n",
       "      <td>0</td>\n",
       "      <td>0</td>\n",
       "      <td>0</td>\n",
       "    </tr>\n",
       "  </tbody>\n",
       "</table>\n",
       "<p>2 rows × 740 columns</p>\n",
       "</div>"
      ],
      "text/plain": [
       "                hash created_at         username  \\\n",
       "0  #FightForHongKong 2020-08-28    ginny81025554   \n",
       "1  #FightForHongKong 2020-08-25  peterhjorth_ddp   \n",
       "\n",
       "                                               tweet  replies_count  \\\n",
       "0  Thanks speaking us #fridaysforfreedom #fightfo...              0   \n",
       "1  How stop China Hong Kong. Read new report Dani...              0   \n",
       "\n",
       "   retweets_count  likes_count  \\\n",
       "0               1            2   \n",
       "1               0            0   \n",
       "\n",
       "                                            reply_to  \\\n",
       "0  [{'screen_name': 'benedictrogers', 'name': 'Be...   \n",
       "1                                                 []   \n",
       "\n",
       "                                            hashtags    comp  ...  youth  \\\n",
       "0          ['fridaysforfreedom', 'fightforhongkong']  0.4404  ...      0   \n",
       "1  ['dkpol', 'kina', 'hongkongprotest', 'fightfor... -0.2960  ...      0   \n",
       "\n",
       "   yuen  yugoslav yugoslavia zoom  光復香港  寶泰泰式美食  時代革命  香港デモ  黃色經濟圈  \n",
       "0     0         0          0    0     0       0     0     0      0  \n",
       "1     0         0          0    0     0       0     0     0      0  \n",
       "\n",
       "[2 rows x 740 columns]"
      ]
     },
     "execution_count": 167,
     "metadata": {},
     "output_type": "execute_result"
    }
   ],
   "source": [
    "df_cvec.head(2)"
   ]
  },
  {
   "cell_type": "code",
   "execution_count": null,
   "metadata": {},
   "outputs": [],
   "source": []
  },
  {
   "cell_type": "markdown",
   "metadata": {},
   "source": [
    "<a id='title_cvec'></a>**Putting the Tweet with CountVec Data to the Side** | Potential review on the side if applicable."
   ]
  },
  {
   "cell_type": "code",
   "execution_count": 168,
   "metadata": {},
   "outputs": [
    {
     "name": "stdout",
     "output_type": "stream",
     "text": [
      "C:\\Users\\rands\n"
     ]
    }
   ],
   "source": [
    "cd"
   ]
  },
  {
   "cell_type": "code",
   "execution_count": 169,
   "metadata": {},
   "outputs": [
    {
     "name": "stdout",
     "output_type": "stream",
     "text": [
      "Finished\n"
     ]
    }
   ],
   "source": [
    "df_cvec.to_excel('./_Capstone_Two_NLP/data/_twitter/_dfs_fortheside/df_cvec.xlsx')\n",
    "print('Finished')"
   ]
  },
  {
   "cell_type": "code",
   "execution_count": null,
   "metadata": {},
   "outputs": [],
   "source": []
  },
  {
   "cell_type": "code",
   "execution_count": null,
   "metadata": {},
   "outputs": [],
   "source": []
  },
  {
   "cell_type": "markdown",
   "metadata": {},
   "source": [
    "# **1.5 Putting the Data to the Side**<a id='pts'></a>"
   ]
  },
  {
   "cell_type": "markdown",
   "metadata": {},
   "source": [
    "**Here we will put the data as it stands to the side**. The date just started its \"journey\" but it's nice to keep track of where it came from as we move along."
   ]
  },
  {
   "cell_type": "code",
   "execution_count": 170,
   "metadata": {},
   "outputs": [
    {
     "name": "stdout",
     "output_type": "stream",
     "text": [
      "C:\\Users\\rands\n"
     ]
    }
   ],
   "source": [
    "cd"
   ]
  },
  {
   "cell_type": "code",
   "execution_count": 171,
   "metadata": {},
   "outputs": [
    {
     "name": "stdout",
     "output_type": "stream",
     "text": [
      "Finished\n"
     ]
    }
   ],
   "source": [
    "df_tdif.to_excel('./_Capstone_Two_NLP/data/_twitter/_dfs_fortheside/df_tdif.xlsx')\n",
    "print('Finished')"
   ]
  },
  {
   "cell_type": "code",
   "execution_count": null,
   "metadata": {},
   "outputs": [],
   "source": []
  },
  {
   "cell_type": "code",
   "execution_count": null,
   "metadata": {},
   "outputs": [],
   "source": []
  }
 ],
 "metadata": {
  "kernelspec": {
   "display_name": "Python 3",
   "language": "python",
   "name": "python3"
  },
  "language_info": {
   "codemirror_mode": {
    "name": "ipython",
    "version": 3
   },
   "file_extension": ".py",
   "mimetype": "text/x-python",
   "name": "python",
   "nbconvert_exporter": "python",
   "pygments_lexer": "ipython3",
   "version": "3.8.5"
  },
  "varInspector": {
   "cols": {
    "lenName": 16,
    "lenType": 16,
    "lenVar": 40
   },
   "kernels_config": {
    "python": {
     "delete_cmd_postfix": "",
     "delete_cmd_prefix": "del ",
     "library": "var_list.py",
     "varRefreshCmd": "print(var_dic_list())"
    },
    "r": {
     "delete_cmd_postfix": ") ",
     "delete_cmd_prefix": "rm(",
     "library": "var_list.r",
     "varRefreshCmd": "cat(var_dic_list()) "
    }
   },
   "types_to_exclude": [
    "module",
    "function",
    "builtin_function_or_method",
    "instance",
    "_Feature"
   ],
   "window_display": false
  }
 },
 "nbformat": 4,
 "nbformat_minor": 4
}
